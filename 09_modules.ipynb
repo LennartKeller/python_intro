{
 "cells": [
  {
   "cell_type": "markdown",
   "metadata": {
    "slideshow": {
     "slide_type": "slide"
    }
   },
   "source": [
    "# Einführung in das Programmieren mit Python"
   ]
  },
  {
   "cell_type": "markdown",
   "metadata": {
    "slideshow": {
     "slide_type": "-"
    }
   },
   "source": [
    "## Module"
   ]
  },
  {
   "cell_type": "markdown",
   "metadata": {
    "slideshow": {
     "slide_type": "-"
    }
   },
   "source": [
    "* Weitere Möglichkeit, Programmcode einzukapseln\n",
    "* Typischer Use-Case: zusammengehörige Funktionen (, Klassen, …)\n",
    "* Mitgelieferte Funktionalität (jenseits des Sprachkerns) und Herunterladbares kommt in Modulen"
   ]
  },
  {
   "cell_type": "markdown",
   "metadata": {
    "slideshow": {
     "slide_type": "fragment"
    }
   },
   "source": [
    "* Modul = Python-Datei\n",
    "* Modulname = Python-Dateiname ohne Pfad und Endung"
   ]
  },
  {
   "cell_type": "markdown",
   "metadata": {
    "slideshow": {
     "slide_type": "notes"
    }
   },
   "source": [
    "<p>Module bieten eine weitere Möglichkeit, Programmcode in abgeschlossene Einheiten zu kapseln. Typischerweise werden zusammengehörige Funktionen in einem Modul versammelt. Module sind die wichtigste Organisationseinheit in Python, da alle Python-eigenen Funktionalitäten, aber auch alle zusätzlich herunterladbare Erweiterungen immer in Form von Modulen kommen.</p>\n",
    "<p>Module sind Python-Dateien, die Funktionen und Variablen-Definitionen enthalten.<br/>\n",
    "Name des Moduls = Name der Datei (ohne die Endung .py)<br/>\n",
    "Beispiel: <br/>\n"
   ]
  },
  {
   "cell_type": "code",
   "execution_count": 2,
   "metadata": {
    "collapsed": false,
    "slideshow": {
     "slide_type": "subslide"
    }
   },
   "outputs": [],
   "source": [
    "def get_chars(instring):\n",
    "    chars = []\n",
    "    for i in instring:\n",
    "        chars.append(i)\n",
    "    return chars"
   ]
  },
  {
   "cell_type": "markdown",
   "metadata": {
    "slideshow": {
     "slide_type": "fragment"
    }
   },
   "source": [
    "Speichern Sie diese Funktion in der Datei `chars.py`.\n",
    "Nun können Sie in jedem neuen Programm diese Funktion zugänglich machen, indem Sie einfach `import Dateiname` (ohne Endung!) eingeben:"
   ]
  },
  {
   "cell_type": "code",
   "execution_count": 3,
   "metadata": {
    "collapsed": false,
    "slideshow": {
     "slide_type": "fragment"
    }
   },
   "outputs": [
    {
     "data": {
      "text/plain": [
       "['h', 'a', 'l', 'l', 'o']"
      ]
     },
     "execution_count": 3,
     "metadata": {},
     "output_type": "execute_result"
    }
   ],
   "source": [
    "import chars\n",
    "chars.get_chars(\"hallo\")"
   ]
  },
  {
   "cell_type": "markdown",
   "metadata": {
    "slideshow": {
     "slide_type": "subslide"
    }
   },
   "source": [
    "### Modulsuchpfad\n",
    "\n",
    "Wo werden Module gesucht? Der _Modulsuchpfad_ wird beim Starten von Python befüllt und ist systemspezifisch. Sie können ihn mit `sys.path` anzeigen:"
   ]
  },
  {
   "cell_type": "code",
   "execution_count": 2,
   "metadata": {
    "collapsed": false,
    "slideshow": {
     "slide_type": "-"
    }
   },
   "outputs": [
    {
     "name": "stdout",
     "output_type": "stream",
     "text": [
      "['', '/home/tv/git/pydelta.2015', '/home/tv/.virtualenvs/jupyter/lib/python35.zip', '/home/tv/.virtualenvs/jupyter/lib/python3.5', '/home/tv/.virtualenvs/jupyter/lib/python3.5/plat-x86_64-linux-gnu', '/home/tv/.virtualenvs/jupyter/lib/python3.5/lib-dynload', '/usr/lib/python3.5', '/usr/lib/python3.5/plat-x86_64-linux-gnu', '/home/tv/.virtualenvs/jupyter/lib/python3.5/site-packages', '/home/tv/.virtualenvs/jupyter/lib/python3.5/site-packages/IPython/extensions', '/home/tv/.ipython']\n"
     ]
    }
   ],
   "source": [
    "import sys\n",
    "print(sys.path)"
   ]
  },
  {
   "cell_type": "markdown",
   "metadata": {},
   "source": [
    "* `''` steht für das aktuelle Verzeichnis (`os.getcwd()`)\n",
    "* Umgebungsvariable "
   ]
  },
  {
   "cell_type": "markdown",
   "metadata": {
    "slideshow": {
     "slide_type": "slide"
    }
   },
   "source": [
    "### Formen der import-Anweisung"
   ]
  },
  {
   "cell_type": "code",
   "execution_count": 4,
   "metadata": {
    "collapsed": false,
    "slideshow": {
     "slide_type": "fragment"
    }
   },
   "outputs": [
    {
     "data": {
      "text/plain": [
       "['h', 'a', 'l', 'l', 'o']"
      ]
     },
     "execution_count": 4,
     "metadata": {},
     "output_type": "execute_result"
    }
   ],
   "source": [
    "# Standardform. Hier muss der Modulname beim jeden Aufruf einer Funktion genannt werden.\n",
    "import chars\n",
    "chars.get_chars(\"hallo\")"
   ]
  },
  {
   "cell_type": "code",
   "execution_count": 5,
   "metadata": {
    "collapsed": false,
    "slideshow": {
     "slide_type": "fragment"
    }
   },
   "outputs": [
    {
     "data": {
      "text/plain": [
       "['h', 'i']"
      ]
     },
     "execution_count": 5,
     "metadata": {},
     "output_type": "execute_result"
    }
   ],
   "source": [
    "# Man kann auch ein kurzes Alias für einen längeren Modulnamen setzen:\n",
    "import chars as c\n",
    "c.get_chars(\"hi\")"
   ]
  },
  {
   "cell_type": "code",
   "execution_count": 6,
   "metadata": {
    "collapsed": false,
    "slideshow": {
     "slide_type": "fragment"
    }
   },
   "outputs": [
    {
     "data": {
      "text/plain": [
       "['h', 'i']"
      ]
     },
     "execution_count": 6,
     "metadata": {},
     "output_type": "execute_result"
    }
   ],
   "source": [
    "# import eine Funktion in den lokalen Namensraum, d.h. man kann sie nun ohne Modulnamen verwenden\n",
    "# man könnte auch mehrere importieren: from chars import get_chars, other_function\n",
    "from chars import get_chars\n",
    "get_chars(\"hi\")"
   ]
  },
  {
   "cell_type": "code",
   "execution_count": 7,
   "metadata": {
    "collapsed": false,
    "slideshow": {
     "slide_type": "fragment"
    }
   },
   "outputs": [],
   "source": [
    "# \"Alles\" importieren -- aber Vorsicht, kann unübersichtlich werden ...\n",
    "from chars import *"
   ]
  },
  {
   "cell_type": "markdown",
   "metadata": {
    "slideshow": {
     "slide_type": "skip"
    }
   },
   "source": [
    "<h3 style=\"color:green\">Aufgaben</h3>\n",
    "<p>1) Schreiben Sie (bzw. kopieren Sie aus der HA) Funktionen, die die Vokale und die Konsonanten eines Wortes zählen. Speichern Sie diese in die Datei stringtools.py\n",
    "<p>2) Verwenden Sie Ihre Funktionen in einem neuen Skript. \n",
    "<p>3) Verwenden Sie die Funktionen mit dem Alias `st`."
   ]
  },
  {
   "cell_type": "markdown",
   "metadata": {
    "slideshow": {
     "slide_type": "skip"
    }
   },
   "source": [
    "<h3>Musterlösung</h3>"
   ]
  },
  {
   "cell_type": "code",
   "execution_count": 1,
   "metadata": {
    "collapsed": false,
    "slideshow": {
     "slide_type": "skip"
    }
   },
   "outputs": [
    {
     "name": "stdout",
     "output_type": "stream",
     "text": [
      "Durchschnittliche Wortlänge:  5.3\n",
      "Durchschnittliche Vokalanzahl:  1.7\n",
      "Durchschnittliche Konsonantenanzahl:  3.6\n"
     ]
    }
   ],
   "source": [
    "import stringtools\n",
    "a = \"Herr Mustermann kommt ins Haus und trifft dort Frau Musterfrau\"\n",
    "print(\"Durchschnittliche Wortlänge: \", stringtools.avg_wordlength(a))\n",
    "print(\"Durchschnittliche Vokalanzahl: \", stringtools.avg_vowel(a))\n",
    "print(\"Durchschnittliche Konsonantenanzahl: \", stringtools.avg_consonant(a))"
   ]
  },
  {
   "cell_type": "code",
   "execution_count": 2,
   "metadata": {
    "collapsed": false,
    "slideshow": {
     "slide_type": "skip"
    }
   },
   "outputs": [
    {
     "name": "stdout",
     "output_type": "stream",
     "text": [
      "Durchschnittliche Wortlänge:  5.3\n",
      "Durchschnittliche Vokalanzahl:  1.7\n",
      "Durchschnittliche Konsonantenanzahl:  3.6\n"
     ]
    }
   ],
   "source": [
    "import stringtools as st\n",
    "a = \"Herr Mustermann kommt ins Haus und trifft dort Frau Musterfrau\"\n",
    "print(\"Durchschnittliche Wortlänge: \", st.avg_wordlength(a))\n",
    "print(\"Durchschnittliche Vokalanzahl: \", st.avg_vowel(a))\n",
    "print(\"Durchschnittliche Konsonantenanzahl: \", st.avg_consonant(a))"
   ]
  },
  {
   "cell_type": "markdown",
   "metadata": {
    "slideshow": {
     "slide_type": "slide"
    }
   },
   "source": [
    "### Programm == Modul\n",
    "\n",
    "* _Jedes_ Python-Skript ist ein Modul, auch Ihr \"Hauptprogramm\"\n",
    "* der Name jedes Moduls steht in der modulspezifischen Variable `__name__`\n",
    "* der spezielle Name `\"__main__\"` steht für das Hauptprogramm"
   ]
  },
  {
   "cell_type": "code",
   "execution_count": 3,
   "metadata": {
    "collapsed": false,
    "slideshow": {
     "slide_type": "fragment"
    }
   },
   "outputs": [
    {
     "name": "stdout",
     "output_type": "stream",
     "text": [
      "1 Words:  ['-f']\n"
     ]
    }
   ],
   "source": [
    "\"\"\"Some useful string utilities\"\"\"\n",
    "def get_words(text):\n",
    "    \"\"\"Returns a list of words in the given `text`\"\"\"\n",
    "    return text.split()\n",
    "\n",
    "def _main():\n",
    "    import sys\n",
    "    words = get_words(sys.argv[1])\n",
    "    print(len(words), \"Words: \", words)\n",
    "    \n",
    "if __name__ == \"__main__\":\n",
    "    _main()"
   ]
  },
  {
   "cell_type": "markdown",
   "metadata": {
    "slideshow": {
     "slide_type": "slide"
    }
   },
   "source": [
    "## Kommandozeile\n",
    "\n",
    "* es gibt immer ein aktuelles Verzeichnis. \n",
    "    * Linux/MacOS: Anzeigen mit `pwd`, wechseln mit `cd neuer/pfad`\n",
    "    * Windows: Anzeigen mit `cd`, wechseln mit `cd neuer\\pfad`\n",
    "* __Kommandos__ bestehen aus einem oder mehreren Wörtern, durch Leerzeichen getrennt, ggf. mit \" \" umschlossen.\n",
    "* Erstes Wort: Befehl, z.B. Programm. Folgende Wörter: Argumente, werden vom Programm interpretiert.\n",
    "\n",
    "### Umgebungsvariablen\n",
    "* _Umgebungsvariablen_ enthalten Werte, die allen Programmen zur Verfügung stehen, z.B. `$PATH` (bzw. `%PATH%` auf Windows). Tippen Sie `set`\n",
    "* Umgebungvariablen vererben sich an gestartete Prozesse\n",
    "* Wichtige Umgebungsvariablen:\n",
    "   * `PATH` (`%PATH%` (Windows) bzw. `$PATH` (sonst)) enthält die Verzeichnisse, in denen das OS nach Programmen sucht.\n",
    "   * `PYTHONHOME` ggf. Grundverzeichnis von Python\n",
    "   * `PYTHONPATH` Modul-Suchverzeichnisse von Python"
   ]
  },
  {
   "cell_type": "markdown",
   "metadata": {
    "slideshow": {
     "slide_type": "subslide"
    }
   },
   "source": [
    "### Übung\n",
    "\n",
    "Kommandozeilenargumente finden Sie in Ihrem Programm in der Liste `sys.argv`. `sys.argv[0]` ist immer der Name des Programms."
   ]
  },
  {
   "cell_type": "code",
   "execution_count": 4,
   "metadata": {
    "collapsed": false,
    "slideshow": {
     "slide_type": "-"
    }
   },
   "outputs": [
    {
     "data": {
      "text/plain": [
       "['/home/tv/.virtualenvs/jupyter/lib/python3.5/site-packages/ipykernel/__main__.py',\n",
       " '-f',\n",
       " '/run/user/1000/jupyter/kernel-95c18c08-97f2-418c-84ae-3d18e4b2cb35.json']"
      ]
     },
     "execution_count": 4,
     "metadata": {},
     "output_type": "execute_result"
    }
   ],
   "source": [
    "import sys\n",
    "sys.argv"
   ]
  },
  {
   "cell_type": "markdown",
   "metadata": {
    "slideshow": {
     "slide_type": "-"
    }
   },
   "source": [
    "Schreiben Sie ein Programm, das die Kommandozeilenargumente, mit denen es aufgerufen wird, auf den Bildschirm ausgibt. Speichern Sie es als `cmdtest.py` und rufen Sie es an der Kommandozeile mit verschiedenen Argumenten auf."
   ]
  },
  {
   "cell_type": "markdown",
   "metadata": {
    "slideshow": {
     "slide_type": "slide"
    }
   },
   "source": [
    "### Pythons Standard-Module\n",
    "Python kommt mit einer [umfangreichen Bibliothek von Modulen](https://docs.python.org/3/library), die für viele Probleme schon ausreichend sind (batteries included).\n",
    "\n",
    "\n",
    "<img src=\"files/images/reference.png\" height=\"50%\" width=\"50%\"/>"
   ]
  },
  {
   "cell_type": "markdown",
   "metadata": {
    "slideshow": {
     "slide_type": "slide"
    }
   },
   "source": [
    "<h3>Pythons Standard-Module </h3>\n",
    "<p>sind nichts anderes als normale Module in einem Verzeichnis im Modulsuchpfad\n",
    "\n",
    "<img src=\"files/images/modules.png\" height=\"40%\" width=\"40%\" />\n"
   ]
  },
  {
   "cell_type": "markdown",
   "metadata": {
    "slideshow": {
     "slide_type": "slide"
    }
   },
   "source": [
    "<h3 style=\"color:green\">Übungsaufgabe</h3>\n",
    "<p>Schlagen Sie in der Dokumentation nach, wie die Funktion `glob` aus dem Modul `glob` verwendet werden kann, um Dateien aufzulisten. Testen Sie den Befehl."
   ]
  },
  {
   "cell_type": "markdown",
   "metadata": {
    "slideshow": {
     "slide_type": "slide"
    }
   },
   "source": [
    "## Externe Module installieren"
   ]
  },
  {
   "cell_type": "markdown",
   "metadata": {
    "slideshow": {
     "slide_type": "-"
    }
   },
   "source": [
    "* Zentrales Archiv externer Python-Module: __PyPI__ – Python Package Index – https://pypi.python.org/pypi\n",
    "* Tool zur Installation externer Python-Module: `pip` – Bestandteil der Python-Installation\n",
    "* Kommandozeilentool"
   ]
  },
  {
   "cell_type": "code",
   "execution_count": 5,
   "metadata": {
    "collapsed": false,
    "slideshow": {
     "slide_type": "subslide"
    }
   },
   "outputs": [
    {
     "name": "stdout",
     "output_type": "stream",
     "text": [
      "\n",
      "Usage:   \n",
      "  pip <command> [options]\n",
      "\n",
      "Commands:\n",
      "  install                     Install packages.\n",
      "  download                    Download packages.\n",
      "  uninstall                   Uninstall packages.\n",
      "  freeze                      Output installed packages in requirements format.\n",
      "  list                        List installed packages.\n",
      "  show                        Show information about installed packages.\n",
      "  search                      Search PyPI for packages.\n",
      "  wheel                       Build wheels from your requirements.\n",
      "  hash                        Compute hashes of package archives.\n",
      "  completion                  A helper command used for command completion\n",
      "  help                        Show help for commands.\n",
      "\n",
      "General Options:\n",
      "  -h, --help                  Show help.\n",
      "  --isolated                  Run pip in an isolated mode, ignoring\n",
      "                              environment variables and user configuration.\n",
      "  -v, --verbose               Give more output. Option is additive, and can be\n",
      "                              used up to 3 times.\n",
      "  -V, --version               Show version and exit.\n",
      "  -q, --quiet                 Give less output.\n",
      "  --log <path>                Path to a verbose appending log.\n",
      "  --proxy <proxy>             Specify a proxy in the form\n",
      "                              [user:passwd@]proxy.server:port.\n",
      "  --retries <retries>         Maximum number of retries each connection should\n",
      "                              attempt (default 5 times).\n",
      "  --timeout <sec>             Set the socket timeout (default 15 seconds).\n",
      "  --exists-action <action>    Default action when a path already exists:\n",
      "                              (s)witch, (i)gnore, (w)ipe, (b)ackup.\n",
      "  --trusted-host <hostname>   Mark this host as trusted, even though it does\n",
      "                              not have valid or any HTTPS.\n",
      "  --cert <path>               Path to alternate CA bundle.\n",
      "  --client-cert <path>        Path to SSL client certificate, a single file\n",
      "                              containing the private key and the certificate\n",
      "                              in PEM format.\n",
      "  --cache-dir <dir>           Store the cache data in <dir>.\n",
      "  --no-cache-dir              Disable the cache.\n",
      "  --disable-pip-version-check\n",
      "                              Don't periodically check PyPI to determine\n",
      "                              whether a new version of pip is available for\n",
      "                              download. Implied with --no-index.\n"
     ]
    }
   ],
   "source": [
    "%%bash\n",
    "\n",
    "pip --help"
   ]
  },
  {
   "cell_type": "markdown",
   "metadata": {
    "slideshow": {
     "slide_type": "subslide"
    }
   },
   "source": [
    "<table>\n",
    "<tr><td><code>pip install</code> <em>⟨Paketname⟩</em></td><td>Installiert das angegebene Paket, falls nicht bereits da</td></tr>\n",
    "<tr><td><code>pip install --update</code> <em>⟨Paketname⟩</em></td><td>Installiert oder aktualisiert das angegebene Paket</td></tr>\n",
    "<tr><td><code>pip install --user</code> <em>⟨Paketname⟩</em></td><td>Installiert das angegebene Paket nur für den aktuellen Benutzer</td></tr>"
   ]
  },
  {
   "cell_type": "markdown",
   "metadata": {
    "slideshow": {
     "slide_type": "fragment"
    }
   },
   "source": [
    "### Aufgaben\n",
    "\n",
    "Das Paket [requests](http://python-requests.org/) ein Paket, das HTTP-Zugriffe sehr einfach macht. \n",
    "\n",
    "1. Installieren Sie es mit `pip`. \n",
    "2. Finden Sie heraus, wohin das Paket installiert wurde.\n",
    "3. Schreiben Sie mit Requests ein Programm, das herausfindet, ob die Unihomepage erfolgreich aufgerufen werden kann.\n",
    "4. (Schreiben Sie unter Zuhilfenahme von requests ein kleines Script, bei dem der Benutzer einen Ländercode (z.B. `de` oder `co`) eingibt und Namen und Hauptstadt des betreffenden Landes angezeigt bekommt. Benutzen Sie dazu den Service http://restcountries.eu/, der Ihnen allerlei Länderinfos zu einem Land im von Requests direkt unterstützten JSON-Format liefert.)"
   ]
  }
 ],
 "metadata": {
  "celltoolbar": "Slideshow",
  "kernelspec": {
   "display_name": "Python 3",
   "language": "python",
   "name": "python3"
  },
  "language_info": {
   "codemirror_mode": {
    "name": "ipython",
    "version": 3
   },
   "file_extension": ".py",
   "mimetype": "text/x-python",
   "name": "python",
   "nbconvert_exporter": "python",
   "pygments_lexer": "ipython3",
   "version": "3.5.1+"
  },
  "nav_menu": {},
  "toc": {
   "navigate_menu": true,
   "number_sections": false,
   "sideBar": true,
   "threshold": 6,
   "toc_cell": false,
   "toc_section_display": "block",
   "toc_window_display": false
  }
 },
 "nbformat": 4,
 "nbformat_minor": 0
}
