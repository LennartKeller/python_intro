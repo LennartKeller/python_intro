{
 "cells": [
  {
   "cell_type": "markdown",
   "metadata": {
    "slideshow": {
     "slide_type": "slide"
    }
   },
   "source": [
    "# Einführung in das Programmieren mit Python"
   ]
  },
  {
   "cell_type": "markdown",
   "metadata": {
    "slideshow": {
     "slide_type": "-"
    }
   },
   "source": [
    "## Funktionen und Module"
   ]
  },
  {
   "cell_type": "markdown",
   "metadata": {
    "slideshow": {
     "slide_type": "slide"
    }
   },
   "source": [
    "<h3>Wiederholung Schleifen</h3>\n",
    "<ul>\n",
    "<li>while - Schleifen werden so formuliert:<br/>\n",
    "<code>while &lt;bedingung>:\n",
    "    code</code><br/>\n",
    "Sie werden solange ausgeführt, wie die Bedingung wahr ist. Achtung vor Endlosschleifen\n",
    "<li>Für alles Listenartige verwendet man aber besser for-Schleifen:<br/>\n",
    "<code>\n",
    "for x in ‹List›:\n",
    "    code</code>\n",
    "<li>Mit der Funktion range(n) kann man eine Liste von Zahlen von 0 bis n erzeugen. Mit range(n,m) erzeugt man eine Liste, die bei n anfängt und bis m reicht. Sie wird häufig in for-Schleifen verwendet:   <br/>\n",
    "<code>\n",
    "for i in range(3):\n",
    "    print(i)</code>\n",
    "<li>Schleifen und bedingte Verzweigungen können beliebig verschachtelt werden."
   ]
  },
  {
   "cell_type": "markdown",
   "metadata": {
    "slideshow": {
     "slide_type": "slide"
    }
   },
   "source": [
    "### Wiederholung: Dictionaries\n",
    "\n",
    "* Datenstruktur für _Key-Value-Paare_\n",
    "* keys: Unveränderliche Werte, die zum Zugriff auf die Values verwendet werden\n",
    "* values: Beliebige Python-Objekte"
   ]
  },
  {
   "cell_type": "code",
   "execution_count": 5,
   "metadata": {
    "slideshow": {
     "slide_type": "-"
    }
   },
   "outputs": [
    {
     "name": "stdout",
     "output_type": "stream",
     "text": [
      "10\n",
      "{'Römer': 2, 'Reise': 1, 'Xanten': 1, 'Geschichte': 1, 'und': 10}\n"
     ]
    }
   ],
   "source": [
    "frequencies = { \"und\": 10, \"die\": 4, \"Xanten\": 1 }     # anlegen\n",
    "print(frequencies[\"und\"])  # → 10: Zugriff auf Werte per key\n",
    "frequencies[\"Reise\"] = 1   # Zuweisung / Erzeugen neuer Einträge\n",
    "frequencies.update({\"Römer\": 2, \"Geschichte\": 1})  # Aktualisierung aus ex. Dictionary\n",
    "del frequencies[\"die\"]     # Wert löschen\n",
    "print(frequencies)"
   ]
  },
  {
   "cell_type": "code",
   "execution_count": 7,
   "metadata": {
    "slideshow": {
     "slide_type": "subslide"
    }
   },
   "outputs": [
    {
     "name": "stdout",
     "output_type": "stream",
     "text": [
      "dict_keys(['Römer', 'Reise', 'Xanten', 'Geschichte', 'und'])\n",
      "dict_values([2, 1, 1, 1, 10])\n",
      "Römer kommt 2 mal vor.\n",
      "Reise kommt 1 mal vor.\n",
      "Xanten kommt 1 mal vor.\n",
      "Geschichte kommt 1 mal vor.\n",
      "und kommt 10 mal vor.\n"
     ]
    }
   ],
   "source": [
    "print(frequencies.keys())   # Zugriff auf Schlüssel\n",
    "print(frequencies.values()) # Zugriff auf Werte\n",
    "for word in frequencies:    # Iteration über Keys\n",
    "    print(word, \"kommt\", frequencies[word], \"mal vor.\")"
   ]
  },
  {
   "cell_type": "markdown",
   "metadata": {
    "slideshow": {
     "slide_type": "slide"
    }
   },
   "source": [
    "### Wiederholung: Datei-Ein- und Ausgabe\n",
    "\n",
    "```python\n",
    "#                                     ,----- Modus: r = lesen, t = Text; dies ist auch Standard\n",
    "dateiobjekt = open('dateiname.txt', 'rt', encoding='utf-8')\n",
    "gesamter_dateiinhalt = dateiobjekt.read()       # liest alles, klappt nur einmal\n",
    "dateiobjekt.close()                             # Dateiobjekt nach Gebrauch wieder schließen\n",
    "```\n",
    "\n",
    "Alternativen:\n",
    "\n",
    "```python\n",
    "with open('dateiname.txt', encoding='utf-8') as dateiobjekt:\n",
    "    for zeile in dateiobjekt:\n",
    "        mach_was_mit(zeile)\n",
    "```\n",
    "\n",
    "* Am Ende des `with`-Blocks wird die Datei automatisch geschlossen\n",
    "* für zeilenweises Bearbeiten einer Textdatei in einer Schleife darüber iterieren\n",
    "\n",
    "```python\n",
    "with open('zieldatei.txt', 'wt', encoding='utf-8') as zieldatei:\n",
    "    zieldatei.write('Hallo Welt')\n",
    "```"
   ]
  },
  {
   "cell_type": "markdown",
   "metadata": {
    "slideshow": {
     "slide_type": "slide"
    }
   },
   "source": [
    "## Funktionen (und Module)\n",
    "\n",
    "Management von Komplexität:\n",
    "\n",
    "* Modularisierung: Übersichtlichkeit und Fokus\n",
    "* Abstraktion: Wiederverwendung ermöglichen, Vermeiden von Wiederholungen\n",
    "* Management unterschiedlicher Abstraktionsebenen\n",
    "* Klare Schnittstellen zum Rest des Programms\n",
    "\n",
    "Praxis: So klein wie möglich"
   ]
  },
  {
   "cell_type": "markdown",
   "metadata": {
    "slideshow": {
     "slide_type": "slide"
    }
   },
   "source": [
    "### Aufruf einer Funktion"
   ]
  },
  {
   "cell_type": "code",
   "execution_count": 8,
   "metadata": {
    "slideshow": {
     "slide_type": "-"
    }
   },
   "outputs": [
    {
     "name": "stdout",
     "output_type": "stream",
     "text": [
      "Eins|Zwei\n"
     ]
    }
   ],
   "source": [
    "print(\"Eins\", \"Zwei\", sep=\"|\")"
   ]
  },
  {
   "cell_type": "code",
   "execution_count": 12,
   "metadata": {
    "slideshow": {
     "slide_type": "-"
    }
   },
   "outputs": [],
   "source": [
    "laenge = len(\"Test\")"
   ]
  },
  {
   "cell_type": "markdown",
   "metadata": {
    "slideshow": {
     "slide_type": "fragment"
    }
   },
   "source": [
    "* Funktion erledigt eine bestimmte Aufgabe (Ausgeben; Länge berechnen)\n",
    "* Funktion wird über einen __Namen__ aufgerufen\n",
    "* `()` nach dem Namen triggern den Funktionsaufruf\n",
    "* In den `()` stehen __Parameter__, von denen der Ablauf der Funktion abhängig ist\n",
    "* die Parameter stehen durch `,` getrennt, sie können die Form `name=wert` haben\n",
    "* die Funktion kann ein __Ergebnis__ / einen __Rückgabewert__ haben"
   ]
  },
  {
   "cell_type": "markdown",
   "metadata": {
    "slideshow": {
     "slide_type": "slide"
    }
   },
   "source": [
    "<h3>Definition einer Funktion</h3>\n",
    "<ul>\n",
    "<li>_Funktionsname_, mit dem die Funktion aufgerufen wird\n",
    "<li>die _Parameter_, die beim Aufruf der Funktion an die Funktion übergeben werden (optional)\n",
    "<li>den _Rückgabewert_ der Funktion (optional)\n",
    "</ul>"
   ]
  },
  {
   "cell_type": "code",
   "execution_count": 3,
   "metadata": {
    "slideshow": {
     "slide_type": "fragment"
    }
   },
   "outputs": [
    {
     "name": "stdout",
     "output_type": "stream",
     "text": [
      "21\n",
      "1100\n"
     ]
    }
   ],
   "source": [
    "# Funktionsdefinitionen beginnen mit 'def'  \n",
    "# der Bezeichner nach def ist der Funktionsname\n",
    "# in den Klammern stehen die Parameter der Funktion\n",
    "def add(nr1, nr2):\n",
    "    # nach der Definitionszeile folgt der Code der Funktion\n",
    "    result = nr1 + nr2\n",
    "    # return bestimmt den Rückgabewert der Funktion\n",
    "    return result\n",
    "\n",
    "#jetzt kann man die Funktion aufrufen:\n",
    "print(add(17, 4))\n",
    "print(add(211, 889))"
   ]
  },
  {
   "cell_type": "markdown",
   "metadata": {
    "slideshow": {
     "slide_type": "skip"
    }
   },
   "source": [
    "<h3>Funktionen – Schritt für Schritt</h3>\n",
    "<code>def add(nr1, nr2):\n",
    "\tresult = nr1 + nr2\n",
    "\treturn result\n",
    "</code>\n",
    "\n",
    "<p>Was passiert nun genau beim Aufruf der Funktion? Schauen Sie sich in Thonny mithilfe der schrittweisen Ausführung an, was passiert.</p>\n",
    "\n",
    "<code>add(3, 7)</code>\n",
    "<p>Implizit wird am Anfang der Funktion durch die Angabe der Parameter eine Zuweisung vorgenommen:</p>\n",
    "<code>nr1 = 3\n",
    "nr2 = 7</code>\n",
    "<p>D.h. die Werte 3 und 7 werden beim Aufruf der Funktion an die Variablen nr1 und nr2 gebunden.</p>\n",
    "\n",
    "<p>Dann kann das Ergebnis berechnet werden:</p>\n",
    "<code>result = nr1 + nr2 </code>\n",
    "\n",
    "<p>Und als Rückgabewert ausgegeben werden:</p>\n",
    "<code>return result</code>\n"
   ]
  },
  {
   "cell_type": "markdown",
   "metadata": {
    "slideshow": {
     "slide_type": "slide"
    }
   },
   "source": [
    "### Aufgabe\n",
    "\n",
    "Mit der Methode `split()` kann man Zeichenketten in Listen zerlegen. Wenn `s = \"Dies ist ein Satz\"` ist, dann gibt `s.split()` als Rückgabewert die Liste `[\"Dies\",\"ist\",\"ein\",\"Satz\"]` aus.\n",
    "\n",
    "Schreiben Sie eine Funktion, die die Anzahl der Wörter in einer Zeichenkette berechnet (wir ignorieren die Satzzeichen erst einmal). Testen Sie die Funktion an den Beispielsätzen `\"Dies ist ein Satz\"` und  `\"Funktionen kann man mehrfach aufrufen\"`.\n"
   ]
  },
  {
   "cell_type": "code",
   "execution_count": 7,
   "metadata": {
    "slideshow": {
     "slide_type": "subslide"
    }
   },
   "outputs": [
    {
     "name": "stdout",
     "output_type": "stream",
     "text": [
      "4\n",
      "5\n"
     ]
    }
   ],
   "source": [
    "def count_words(text):\n",
    "    words = text.split()\n",
    "    return len(words)\n",
    "\n",
    "## Test:\n",
    "print(count_words(\"Dies ist ein Satz.\"))\n",
    "print(count_words(\"Funktionen kann man mehrfach aufrufen.\"))"
   ]
  },
  {
   "cell_type": "markdown",
   "metadata": {
    "slideshow": {
     "slide_type": "fragment"
    }
   },
   "source": [
    "* Funktionen sollten eine abgeschlossene Aufgabe erfüllen\n",
    "* Berechnung __oder__ Ausgabe\n",
    "* den Rückgabewert von `count_words` können wir ausgeben – oder damit weiterrechnen"
   ]
  },
  {
   "cell_type": "markdown",
   "metadata": {
    "slideshow": {
     "slide_type": "slide"
    }
   },
   "source": [
    "### Signatur einer Funktion\n",
    "\n",
    "* Name\n",
    "* Argumente\n",
    "* (Rückgabewert)\n",
    "\n",
    "In Python:\n",
    "\n",
    "* Identifikation der Funktion nur durch den Namen\n",
    "* Überprüfung der Signatur erst beim Aufruf"
   ]
  },
  {
   "cell_type": "code",
   "execution_count": 2,
   "metadata": {
    "slideshow": {
     "slide_type": "-"
    }
   },
   "outputs": [
    {
     "data": {
      "text/plain": [
       "36.0"
      ]
     },
     "execution_count": 2,
     "metadata": {},
     "output_type": "execute_result"
    }
   ],
   "source": [
    "def calculate(add1, add2, divisor, factor):\n",
    "    return ((add1 + add2) / divisor) * factor\n",
    "\n",
    "calculate(3, 6, 3, 12)"
   ]
  },
  {
   "cell_type": "markdown",
   "metadata": {
    "slideshow": {
     "slide_type": "slide"
    }
   },
   "source": [
    "<h3>Funktionen dokumentieren</h3>\n",
    "* Funktionen sind im Idealfall kleine, selbständige Einheiten, die ein Problem lösen. Dokumentieren Sie Ihre Funktionen!\n",
    "* Stringliteral am Beginn des Funktionskörpers = **Docstring**"
   ]
  },
  {
   "cell_type": "code",
   "execution_count": 2,
   "metadata": {
    "slideshow": {
     "slide_type": "fragment"
    }
   },
   "outputs": [],
   "source": [
    "def add(nr1, nr2):\n",
    "    \"\"\"\n",
    "    Adds two numbers.\n",
    "    \n",
    "    Args:\n",
    "        nr1 (int): first number to be added\n",
    "        nr2 (int): second number to be added\n",
    "    \n",
    "    Returns:\n",
    "        int: The sum of the two numbers\n",
    "    \"\"\"\n",
    "    return nr1 + nr2"
   ]
  },
  {
   "cell_type": "code",
   "execution_count": 4,
   "metadata": {
    "slideshow": {
     "slide_type": "fragment"
    }
   },
   "outputs": [
    {
     "name": "stdout",
     "output_type": "stream",
     "text": [
      "Help on function add in module __main__:\n",
      "\n",
      "add(nr1, nr2)\n",
      "    Adds two numbers.\n",
      "    \n",
      "    Args:\n",
      "        nr1 (int): first number to be added\n",
      "        nr2 (int): second number to be added\n",
      "    \n",
      "    Returns:\n",
      "        int: The sum of the two numbers\n",
      "\n"
     ]
    }
   ],
   "source": [
    "help(add)"
   ]
  },
  {
   "cell_type": "markdown",
   "metadata": {
    "slideshow": {
     "slide_type": "slide"
    }
   },
   "source": [
    "## Globale und Lokale Variablen\n",
    "\n",
    "### Lokale Variablen\n",
    "\n",
    "Variablen, die in einer Funktion definiert werden, sind nur __lokal__, d.h. innerhalb der Funktion auch verfügbar:"
   ]
  },
  {
   "cell_type": "code",
   "execution_count": 6,
   "metadata": {
    "slideshow": {
     "slide_type": "-"
    }
   },
   "outputs": [
    {
     "name": "stdout",
     "output_type": "stream",
     "text": [
      "2\n"
     ]
    },
    {
     "ename": "NameError",
     "evalue": "name 'words' is not defined",
     "output_type": "error",
     "traceback": [
      "\u001b[0;31m---------------------------------------------------------------------------\u001b[0m",
      "\u001b[0;31mNameError\u001b[0m                                 Traceback (most recent call last)",
      "\u001b[0;32m<ipython-input-6-f454ffa56621>\u001b[0m in \u001b[0;36m<module>\u001b[0;34m()\u001b[0m\n\u001b[1;32m      4\u001b[0m \u001b[0;34m\u001b[0m\u001b[0m\n\u001b[1;32m      5\u001b[0m \u001b[0mprint\u001b[0m\u001b[0;34m(\u001b[0m\u001b[0mnumber_of_words\u001b[0m\u001b[0;34m(\u001b[0m\u001b[0;34m\"bla bla\"\u001b[0m\u001b[0;34m)\u001b[0m\u001b[0;34m)\u001b[0m\u001b[0;34m\u001b[0m\u001b[0m\n\u001b[0;32m----> 6\u001b[0;31m \u001b[0mprint\u001b[0m\u001b[0;34m(\u001b[0m\u001b[0mwords\u001b[0m\u001b[0;34m)\u001b[0m\u001b[0;34m\u001b[0m\u001b[0m\n\u001b[0m",
      "\u001b[0;31mNameError\u001b[0m: name 'words' is not defined"
     ]
    }
   ],
   "source": [
    "def number_of_words(text):\n",
    "    words = text.split()\n",
    "    return len(words)\n",
    "\n",
    "print(number_of_words(\"bla bla\"))\n",
    "print(words)"
   ]
  },
  {
   "cell_type": "markdown",
   "metadata": {
    "slideshow": {
     "slide_type": "subslide"
    }
   },
   "source": [
    "* [Visualisierung auf PythonTutor.com](http://pythontutor.com/visualize.html#code=def%20number_of_words%28text%29%3A%0A%20%20%20%20words%20%3D%20text.split%28%29%0A%20%20%20%20return%20len%28words%29%0A%20%20%20%20%0Absp1%20%3D%20number_of_words%28%22Beispiel%20Eins%22%29%0Aprint%28bsp1%29%0Absp2%20%3D%20number_of_words%28%22ein%20weiteres%20Beispiel%22%29%0Aprint%28bsp1,%20bsp2%29&cumulative=false&curInstr=13&heapPrimitives=false&mode=display&origin=opt-frontend.js&py=3&rawInputLstJSON=%5B%5D&textReferences=false) bzw. in Thonny\n",
    "* die Variablen werden während des Funktionsaufrufs erzeugt und beim Verlassen der Funktion wieder entfernt\n",
    "* Nach der Funktion ist nur der Rückgabewert noch verfügbar"
   ]
  },
  {
   "cell_type": "markdown",
   "metadata": {
    "slideshow": {
     "slide_type": "slide"
    }
   },
   "source": [
    "### Globale Variablen\n",
    "\n",
    "Funktionen können Variablen, die außerhalb der Funktion definiert werden, lesen:"
   ]
  },
  {
   "cell_type": "code",
   "execution_count": 8,
   "metadata": {
    "slideshow": {
     "slide_type": "-"
    }
   },
   "outputs": [
    {
     "name": "stdout",
     "output_type": "stream",
     "text": [
      "17 + 4 = 21\n",
      "Ergebnis:  21\n"
     ]
    }
   ],
   "source": [
    "debugging = False\n",
    "\n",
    "def add(nr1, nr2):\n",
    "    result = nr1 + nr2\n",
    "    if debugging:\n",
    "        print(nr1, '+', nr2, '=', result)\n",
    "    return result\n",
    "\n",
    "debugging=True\n",
    "x = add(17, 4)\n",
    "print(\"Ergebnis: \", x)"
   ]
  },
  {
   "cell_type": "markdown",
   "metadata": {
    "slideshow": {
     "slide_type": "fragment"
    }
   },
   "source": [
    "In fast allen Fällen ist dies schlechter Stil und Quelle von Fehlern!"
   ]
  },
  {
   "cell_type": "markdown",
   "metadata": {
    "slideshow": {
     "slide_type": "subslide"
    }
   },
   "source": [
    "### Lokale verdecken globale Variablen\n",
    "\n",
    "Wird in einer Funktion einer Variable ein Wert zugewiesen, die es auch außerhalb gibt, so verdeckt innerhalb der gesamten Funktion die lokale die globale Variable. Gilt auch für Parameter."
   ]
  },
  {
   "cell_type": "code",
   "execution_count": 12,
   "metadata": {
    "slideshow": {
     "slide_type": "-"
    }
   },
   "outputs": [
    {
     "name": "stdout",
     "output_type": "stream",
     "text": [
      "5\n"
     ]
    }
   ],
   "source": [
    "text = \"Bla bla\"\n",
    "words = [\"Wörter\", \"halt\"]\n",
    "\n",
    "def number_words(text):\n",
    "    words = text.split()\n",
    "    return len(words)\n",
    "\n",
    "print(number_words(\"Noch so ein schnöder Beispieltext\"))"
   ]
  },
  {
   "cell_type": "markdown",
   "metadata": {
    "slideshow": {
     "slide_type": "subslide"
    }
   },
   "source": [
    "### Fehlerquelle globale und lokale Variablen"
   ]
  },
  {
   "cell_type": "code",
   "execution_count": 9,
   "metadata": {
    "slideshow": {
     "slide_type": "-"
    }
   },
   "outputs": [
    {
     "ename": "UnboundLocalError",
     "evalue": "local variable 'words' referenced before assignment",
     "output_type": "error",
     "traceback": [
      "\u001b[0;31m---------------------------------------------------------------------------\u001b[0m",
      "\u001b[0;31mUnboundLocalError\u001b[0m                         Traceback (most recent call last)",
      "\u001b[0;32m<ipython-input-9-bbe76e8fa253>\u001b[0m in \u001b[0;36m<module>\u001b[0;34m()\u001b[0m\n\u001b[1;32m      8\u001b[0m     \u001b[0;32mreturn\u001b[0m \u001b[0mwords\u001b[0m\u001b[0;34m\u001b[0m\u001b[0m\n\u001b[1;32m      9\u001b[0m \u001b[0;34m\u001b[0m\u001b[0m\n\u001b[0;32m---> 10\u001b[0;31m \u001b[0mprint\u001b[0m\u001b[0;34m(\u001b[0m\u001b[0mnumber_words\u001b[0m\u001b[0;34m(\u001b[0m\u001b[0;34m\"Das gibt jetzt 'n Fehler\"\u001b[0m\u001b[0;34m)\u001b[0m\u001b[0;34m)\u001b[0m\u001b[0;34m\u001b[0m\u001b[0m\n\u001b[0m",
      "\u001b[0;32m<ipython-input-9-bbe76e8fa253>\u001b[0m in \u001b[0;36mnumber_words\u001b[0;34m(text)\u001b[0m\n\u001b[1;32m      4\u001b[0m \u001b[0;34m\u001b[0m\u001b[0m\n\u001b[1;32m      5\u001b[0m \u001b[0;32mdef\u001b[0m \u001b[0mnumber_words\u001b[0m\u001b[0;34m(\u001b[0m\u001b[0mtext\u001b[0m\u001b[0;34m)\u001b[0m\u001b[0;34m:\u001b[0m\u001b[0;34m\u001b[0m\u001b[0m\n\u001b[0;32m----> 6\u001b[0;31m     \u001b[0mlist_of_words\u001b[0m \u001b[0;34m=\u001b[0m \u001b[0mtext\u001b[0m\u001b[0;34m.\u001b[0m\u001b[0msplit\u001b[0m\u001b[0;34m(\u001b[0m\u001b[0mwords\u001b[0m\u001b[0;34m)\u001b[0m    \u001b[0;31m# words ist hier die _lokale_ Variable\u001b[0m\u001b[0;34m\u001b[0m\u001b[0m\n\u001b[0m\u001b[1;32m      7\u001b[0m     \u001b[0mwords\u001b[0m \u001b[0;34m=\u001b[0m \u001b[0mlen\u001b[0m\u001b[0;34m(\u001b[0m\u001b[0mlist_of_words\u001b[0m\u001b[0;34m)\u001b[0m           \u001b[0;31m# die aber erst hier einen Wert kriegt\u001b[0m\u001b[0;34m\u001b[0m\u001b[0m\n\u001b[1;32m      8\u001b[0m     \u001b[0;32mreturn\u001b[0m \u001b[0mwords\u001b[0m\u001b[0;34m\u001b[0m\u001b[0m\n",
      "\u001b[0;31mUnboundLocalError\u001b[0m: local variable 'words' referenced before assignment"
     ]
    }
   ],
   "source": [
    "## SCHLECHTER CODE -- NICHT NACHMACHEN:\n",
    "\n",
    "words = ' '    # _word_ _s_eparator :-)\n",
    "\n",
    "def number_words(text):\n",
    "    list_of_words = text.split(words)    # words ist hier die _lokale_ Variable\n",
    "    words = len(list_of_words)           # die aber erst hier einen Wert kriegt\n",
    "    return words\n",
    "\n",
    "print(number_words(\"Das gibt jetzt 'n Fehler\"))"
   ]
  },
  {
   "cell_type": "markdown",
   "metadata": {
    "slideshow": {
     "slide_type": "slide"
    }
   },
   "source": [
    "### Parameter-Übergabe _by reference_, nicht _by value_\n",
    "\n",
    "![](images/assign2.svg)"
   ]
  },
  {
   "cell_type": "markdown",
   "metadata": {
    "slideshow": {
     "slide_type": "skip"
    }
   },
   "source": [
    "Python-Variablen enthalten Referenzen auf die Daten, nicht die Daten. Wenn Daten also übergeben werden (etwa bei einer Zuweisung oder als Parameter beim Aufruf einer Funktion/Methode), dann werden die Verweise übergeben und nicht Kopien der Daten angelegt!"
   ]
  },
  {
   "cell_type": "code",
   "execution_count": 8,
   "metadata": {
    "slideshow": {
     "slide_type": "fragment"
    }
   },
   "outputs": [
    {
     "name": "stdout",
     "output_type": "stream",
     "text": [
      "[1, 99, 5]\n"
     ]
    }
   ],
   "source": [
    "x = [1, 4, 5]  # Erzeugt eine Liste und weist sie der Variablen x zu\n",
    "y = x          # Weist die Liste auch der Variablen y zu \n",
    "y[1] = 99      # Verändert y und x! \n",
    "print(x)\n"
   ]
  },
  {
   "cell_type": "markdown",
   "metadata": {
    "slideshow": {
     "slide_type": "subslide"
    }
   },
   "source": [
    "<h3>reference / value in einer Funktion</h3>"
   ]
  },
  {
   "cell_type": "code",
   "execution_count": 9,
   "metadata": {
    "slideshow": {
     "slide_type": "fragment"
    }
   },
   "outputs": [
    {
     "name": "stdout",
     "output_type": "stream",
     "text": [
      "Wert der Liste in der Funktion:  [99, 2, 3, 4]\n",
      "Neuer Wert für int_list:  [10, 9, 8]\n",
      "Wert von l nach Aufruf der Funktion:  [99, 2, 3, 4]\n"
     ]
    }
   ],
   "source": [
    "def subst_first(int_list):      # definiert Funktion mit Parameter int_list\n",
    "    int_list[0] = 99            # setzt ersten Wert der Liste auf 99\n",
    "    print(\"Wert der Liste in der Funktion: \", int_list)\n",
    "    int_list = [10,9,8]\n",
    "    print(\"Neuer Wert für int_list: \", int_list)\n",
    "l = [1,2,3,4]           # definiert globale Variable l\n",
    "subst_first(l)          # Verwendet und verändert l in der Funktion   \n",
    "print(\"Wert von l nach Aufruf der Funktion: \", l)"
   ]
  },
  {
   "cell_type": "markdown",
   "metadata": {
    "slideshow": {
     "slide_type": "fragment"
    }
   },
   "source": [
    "* [Visualisierung in pythontutor.com](http://pythontutor.com/visualize.html#code=def%20subst_first%28int_list%29%3A%20%20%20%20%20%20%23%20definiert%20Funktion%20mit%20Parameter%20int_list%0A%20%20%20%20int_list%5B0%5D%20%3D%2099%20%20%20%20%20%20%20%20%20%20%20%20%23%20setzt%20ersten%20Wert%20der%20Liste%20auf%2099%0A%20%20%20%20print%28%22Wert%20der%20Liste%20in%20der%20Funktion%3A%20%22,%20int_list%29%0A%20%20%20%20int_list%20%3D%20%5B10,9,8%5D%0A%20%20%20%20print%28%22Neuer%20Wert%20f%C3%BCr%20int_list%3A%20%22,%20int_list%29%0A%20%20%20%20%0Al%20%3D%20%5B1,2,3,4%5D%20%20%20%20%20%20%20%20%20%20%20%23%20definiert%20globale%20Variable%20l%0Asubst_first%28l%29%20%20%20%20%20%20%20%20%20%20%23%20Verwendet%20und%20ver%C3%A4ndert%20l%20in%20der%20Funktion%20%20%20%0Aprint%28%22Wert%20von%20l%20nach%20Aufruf%20der%20Funktion%3A%20%22,%20l%29&cumulative=false&curInstr=0&heapPrimitives=false&mode=display&origin=opt-frontend.js&py=3&rawInputLstJSON=%5B%5D&textReferences=false) oder mit Thonny\n",
    "* **Nebeneffekte** wie die Veränderung von Parametern\n",
    "  \n",
    "  * vermeiden oder explizit machen und dokumentieren\n",
    "  * ggf. unveränderliche Datenstrukturen verwenden -- aber allzuviel zu erzwingen ist nicht _pythonic_"
   ]
  },
  {
   "cell_type": "markdown",
   "metadata": {
    "slideshow": {
     "slide_type": "slide"
    }
   },
   "source": [
    "### Listen kopieren\n",
    "Kopie einer Liste z.B. mit der ``list``-Funktion:"
   ]
  },
  {
   "cell_type": "code",
   "execution_count": 10,
   "metadata": {
    "slideshow": {
     "slide_type": "fragment"
    }
   },
   "outputs": [
    {
     "name": "stdout",
     "output_type": "stream",
     "text": [
      "[20, 33, 15]\n",
      "[1000, 33, 15]\n"
     ]
    }
   ],
   "source": [
    "x = [20, 33, 15] # Erzeugt eine Liste\n",
    "y = list(x)      # Erzeugt eine neue Liste mit den Inhalten aus x, Zuschreibung zu y\n",
    "y[0] = 1000      # Schreibt dem ersten Element von y einen neuen Wert zu, OHNE x zu verändern\n",
    "print(x)\n",
    "print(y)"
   ]
  },
  {
   "cell_type": "markdown",
   "metadata": {
    "slideshow": {
     "slide_type": "fragment"
    }
   },
   "source": [
    "* erzeugt _shallow_-Kopie einer verschachtelten Liste, d.h. nur die oberste Ebene wird kopiert\n",
    "* [copy-Modul](https://docs.python.org/3.4/library/copy.html)"
   ]
  },
  {
   "cell_type": "markdown",
   "metadata": {
    "slideshow": {
     "slide_type": "skip"
    }
   },
   "source": [
    "### Ergänzende Übungsaufgabe\n",
    "\n",
    "Gegeben sei eine einfache Templatesprache, in der Variablen Wörter sind, die mit einem `$` beginnen. Schreiben Sie eine Funktion, die einen String an Whitespacegrenzen in Wörter zerlegt und eine Liste aller Variablennamen entsprechend dieser Syntax zurückgibt."
   ]
  },
  {
   "cell_type": "code",
   "execution_count": null,
   "metadata": {
    "slideshow": {
     "slide_type": "skip"
    }
   },
   "outputs": [],
   "source": [
    "template = \"\"\"\n",
    "$Adresse\n",
    "\n",
    "$Ort, den $Datum\n",
    "\n",
    "\n",
    "$Anrede $Name,\n",
    "\n",
    "vielen Dank für Ihre Bestellung. Bitte überweisen Sie den \n",
    "Betrag $Betrag auf eines unserer Konten unter Angabe des\n",
    "Verwendungszwecks:\n",
    "\n",
    "  $ReNr vom $Datum\n",
    "  \n",
    "Mit bestem Dank und freundlichen Grüßen\n",
    "\"\"\"\n",
    "\n",
    "print(extract_variables(template)) # → $Adresse, $Ort, $Datum, $Anrede, $Name, $ReNr"
   ]
  },
  {
   "cell_type": "markdown",
   "metadata": {
    "slideshow": {
     "slide_type": "slide"
    }
   },
   "source": [
    "### Keyword-Argumente für Funktionen"
   ]
  },
  {
   "cell_type": "markdown",
   "metadata": {
    "slideshow": {
     "slide_type": "fragment"
    }
   },
   "source": [
    "Argumente können auch per Namen referenziert werden (außer bei einigen eingebauten Funktionen):"
   ]
  },
  {
   "cell_type": "code",
   "execution_count": 18,
   "metadata": {
    "slideshow": {
     "slide_type": "fragment"
    }
   },
   "outputs": [
    {
     "name": "stdout",
     "output_type": "stream",
     "text": [
      "5.0\n"
     ]
    }
   ],
   "source": [
    "def formula2(summand1, divisor, summand2):\n",
    "    return (summand1 + summand2) / divisor\n",
    "\n",
    "print(formula2(7, summand2=3, divisor=2))"
   ]
  },
  {
   "cell_type": "markdown",
   "metadata": {
    "slideshow": {
     "slide_type": "fragment"
    }
   },
   "source": [
    "* erst _positional_, dann _keyword arguments_\n",
    "* Bei den Keyword-Argumenten ist die Reihenfolge egal"
   ]
  },
  {
   "cell_type": "markdown",
   "metadata": {
    "slideshow": {
     "slide_type": "subslide"
    }
   },
   "source": [
    "### Defaultwerte"
   ]
  },
  {
   "cell_type": "markdown",
   "metadata": {
    "slideshow": {
     "slide_type": "-"
    }
   },
   "source": [
    "Keyword-Argumente können mit Voreinstellungen belegt werden, dann kann man sie weglassen:"
   ]
  },
  {
   "cell_type": "code",
   "execution_count": 36,
   "metadata": {
    "slideshow": {
     "slide_type": "-"
    }
   },
   "outputs": [
    {
     "name": "stdout",
     "output_type": "stream",
     "text": [
      "21\n"
     ]
    }
   ],
   "source": [
    "def add(nr1, nr2, verbose=False):\n",
    "    result = nr1 + nr2\n",
    "    if verbose:\n",
    "        print(\"The sum is\", result)\n",
    "    return result\n",
    "\n",
    "print(add(17, 4))"
   ]
  },
  {
   "cell_type": "markdown",
   "metadata": {
    "slideshow": {
     "slide_type": "subslide"
    }
   },
   "source": [
    "<h3> &#42;args und **kwargs</h3>\n",
    "\n",
    "Mit `*args` in der Parameterliste einer Funktion kann man Parameter festlegen, deren Anzahl und Art man nicht kennt. Das gleiche kann man mit `**kwargs` für Keyword-Parameter machen (kwargs = keyword arguments). Das ist u.a. dann nützlich, wenn man mit dieser Funktion wiederum Funktionen aufruft, deren Parameter man nicht genau festlegen möchte. "
   ]
  },
  {
   "cell_type": "code",
   "execution_count": 13,
   "metadata": {
    "slideshow": {
     "slide_type": "fragment"
    }
   },
   "outputs": [
    {
     "name": "stdout",
     "output_type": "stream",
     "text": [
      "args hat den Datentyp <class 'tuple'>\n"
     ]
    },
    {
     "data": {
      "text/plain": [
       "14"
      ]
     },
     "execution_count": 13,
     "metadata": {},
     "output_type": "execute_result"
    }
   ],
   "source": [
    "def formula3(nr1, nr2, *args):\n",
    "        print(\"args hat den Datentyp\", type(args))\n",
    "        if args == None:\n",
    "            return nr1 + nr2\n",
    "        else:\n",
    "            result = 0\n",
    "            for i in args:\n",
    "                result += i\n",
    "        return nr1 + nr2 + result\n",
    "formula3(2,3,4,5)"
   ]
  },
  {
   "cell_type": "markdown",
   "metadata": {
    "slideshow": {
     "slide_type": "subslide"
    }
   },
   "source": [
    "#### Auspacken mit `*args`, `**kwargs`"
   ]
  },
  {
   "cell_type": "code",
   "execution_count": 18,
   "metadata": {
    "slideshow": {
     "slide_type": "-"
    }
   },
   "outputs": [
    {
     "name": "stdout",
     "output_type": "stream",
     "text": [
      "WARNING Datei nicht gefunden: bla.txt\n",
      "ERROR Rechenzentrum explodiert gleich\n"
     ]
    }
   ],
   "source": [
    "loglevel = 1\n",
    "def log(*args, level=0, **kwargs):\n",
    "    labels = [\"INFO\", \"WARNING\", \"ERROR\"]\n",
    "    if level >=  loglevel:\n",
    "        print(labels[level], *args, **kwargs)\n",
    "\n",
    "log(\"Jetzt geht's los\")\n",
    "log(\"Datei nicht gefunden:\", \"bla.txt\", level=1)\n",
    "log(\"Rechenzentrum explodiert gleich\", level=2)"
   ]
  },
  {
   "cell_type": "markdown",
   "metadata": {
    "slideshow": {
     "slide_type": "slide"
    }
   },
   "source": [
    "<h3 style=\"color:green\">Aufgabe: Code in Funktionen zerlegen</h3>\n",
    "Es ist gute Praxis, längere Code-Abschnitte in die kleineren Einheiten von Funktionen zu zerlegen. Dabei spielt es auch eine Rolle, in welcher Weise sie die Funktionen wieder verwenden können und wollen. Schreiben Sie den folgenden Code so um, dass er aus Funktionen und einem Hauptteil besteht. Überlegen Sie, wie Sie ihn möglichst weit modularisieren können. (Sie finden den selben Codeabschnitt auch in einer separaten Datei im WueCampus)"
   ]
  },
  {
   "cell_type": "code",
   "execution_count": 1,
   "metadata": {
    "slideshow": {
     "slide_type": "fragment"
    }
   },
   "outputs": [
    {
     "name": "stdout",
     "output_type": "stream",
     "text": [
      "Durchschnittliche Wortlänge:  5.3\n",
      "Durchschnittliche Vokalanzahl:  1.7\n",
      "Durchschnittliche Konsonantenanzahl:  3.6\n"
     ]
    }
   ],
   "source": [
    "s = \"Herr Mustermann kommt ins Haus und trifft dort Frau Musterfrau\"\n",
    "sum_wordlength = 0\n",
    "for w in s.split():\n",
    "    sum_wordlength += len(w)\n",
    "avg_wordlength = sum_wordlength / len(s.split())\n",
    "print(\"Durchschnittliche Wortlänge: \", avg_wordlength )\n",
    "list_vowels = []\n",
    "for w in s.lower().split():\n",
    "    word_vowels = 0\n",
    "    for c in w:\n",
    "        if c in \"aeiou\":\n",
    "            word_vowels += 1\n",
    "    list_vowels.append(word_vowels)\n",
    "print(\"Durchschnittliche Vokalanzahl: \", sum(list_vowels) / len(list_vowels))\n",
    "list_consonants = []\n",
    "for w in s.lower().split():\n",
    "    word_cons = 0\n",
    "    for c in w:\n",
    "        if c in \"bcdfghjklmnpqrstvwxyz\":\n",
    "            word_cons += 1\n",
    "    list_consonants.append(word_cons)\n",
    "print(\"Durchschnittliche Konsonantenanzahl: \", sum(list_consonants) / len(list_consonants))"
   ]
  },
  {
   "cell_type": "markdown",
   "metadata": {
    "slideshow": {
     "slide_type": "subslide"
    }
   },
   "source": [
    "<h3 style=\"color:green;\">Aufgabe: Summenfunktion</h3>\n",
    "\n",
    "Python hat eine eingebaute Funktion `sum`, das ein Iterable (z.B. eine Liste) und einen optionalen Startwert als Default nimmt und die Summe daraus zurückliefert:"
   ]
  },
  {
   "cell_type": "code",
   "execution_count": 2,
   "metadata": {
    "slideshow": {
     "slide_type": "-"
    }
   },
   "outputs": [
    {
     "name": "stdout",
     "output_type": "stream",
     "text": [
      "Help on built-in function sum in module builtins:\n",
      "\n",
      "sum(...)\n",
      "    sum(iterable[, start]) -> value\n",
      "    \n",
      "    Return the sum of an iterable of numbers (NOT strings) plus the value\n",
      "    of parameter 'start' (which defaults to 0).  When the iterable is\n",
      "    empty, return start.\n",
      "\n"
     ]
    }
   ],
   "source": [
    "help(sum)"
   ]
  },
  {
   "cell_type": "markdown",
   "metadata": {
    "slideshow": {
     "slide_type": "-"
    }
   },
   "source": [
    "Schreiben Sie eine äquivalente Funktion `product`, die eine Liste und optional einen Startfaktor (der natürlich hier sinnvollerweise 1 ist, wenn nicht angegeben) nimmt, alle Elemente miteinander multipliziert und das Produkt zurückliefert. Schreiben Sie außerdem vier Testfälle (Funktionsaufrufe), mit und ohne Startwert und mit voller und leerer Liste."
   ]
  },
  {
   "cell_type": "markdown",
   "metadata": {
    "slideshow": {
     "slide_type": "slide"
    }
   },
   "source": [
    "## Rekursion"
   ]
  },
  {
   "cell_type": "markdown",
   "metadata": {
    "slideshow": {
     "slide_type": "-"
    }
   },
   "source": [
    "* Aufruf einer Funktion durch sich selbst"
   ]
  },
  {
   "cell_type": "markdown",
   "metadata": {
    "slideshow": {
     "slide_type": "-"
    }
   },
   "source": [
    "\n",
    "<p>Als Rekursion bezeichnet man den Aufruf einer Funktion durch sich selbst. Eine rekursive Funktion besteht typischerweise aus zwei Bausteinen, einem Verarbeitungsteil, der auch den Selbstaufruf enthält und einer Prüfung, die feststellt, ob ein bestimmte Bedingung erreicht ist, so dass die Rekursion endet. </p>\n",
    "<p>Rekursionen funktionieren also ähnlich wie Schleifen. Wann soll man Rekursionen verwenden? Wenn man bei der Analyse des Problems feststellt, dass jede komplexere Form des Problems sich auf eine einfache Lösung des Problems zurückführen lässt. Eine ausführlichere Behandlung von Rekursion finden Sie <a href=\"http://cs.stanford.edu/people/eroberts/courses/cs106b/chapters/05-intro-to-recursion.pdf\">hier</a>.<br/></p>\n",
    "<p>Die prinzipielle Struktur einer rekursiven Funktion sieht also so aus:</p>"
   ]
  },
  {
   "cell_type": "code",
   "execution_count": null,
   "metadata": {
    "collapsed": true,
    "slideshow": {
     "slide_type": "fragment"
    }
   },
   "outputs": [],
   "source": [
    "if (test for simple case) == True: \n",
    "    Bereche eine einfache Lösung ohne Rekursion\n",
    "else:\n",
    "    Zerlege das Problem in Teilprobleme, die die gleiche Form haben.\n",
    "    Löse jedes Teilproblem durch rekursiven Aufruf der Funktion.\n",
    "    Setze die Lösungen für die Teilprobleme zusammen, um eine Lösung für das ganze Problem zu erhalten."
   ]
  },
  {
   "cell_type": "markdown",
   "metadata": {
    "slideshow": {
     "slide_type": "subslide"
    }
   },
   "source": [
    "Beispiel: **Fakultät** $n!$ einer natürlichen Zahl $n$:<br/>\n",
    "\n",
    "* $n!$ (sprich: $n$ Fakultät) ist definiert als $n \\cdot (n-1)!$\n",
    "* $0!$ ist definiert als $1$\n",
    "\n",
    "\n",
    "$3! = 3 \\cdot 2! = 3 \\cdot 2 \\cdot 1! = 3 \\cdot 2 \\cdot 1 \\cdot 0! = 3 \\cdot 2 \\cdot 1 \\cdot 1 = 6$\n"
   ]
  },
  {
   "cell_type": "code",
   "execution_count": 19,
   "metadata": {
    "slideshow": {
     "slide_type": "fragment"
    }
   },
   "outputs": [
    {
     "name": "stdout",
     "output_type": "stream",
     "text": [
      "Fakultät 3! ist  6\n"
     ]
    }
   ],
   "source": [
    "def factorial(n):\n",
    "    \"\"\"\"\n",
    "    calculates the factorial of n\n",
    "    \"\"\"\n",
    "    if n == 0:      # einfacher fall ohne rekursion\n",
    "        return 1\n",
    "    else:\n",
    "        result = n * factorial(n-1)   #Zerlegung: n! = n * (n-1)!   Lösung von (n-1)! durch rekursiven Aufruf der F.\n",
    "                                      #Zusammensetzung durch die Multiplikation der Einzelzahlen\n",
    "        return result\n",
    "\n",
    "    \n",
    "print(\"Fakultät 3! ist \", factorial(3))"
   ]
  },
  {
   "cell_type": "code",
   "execution_count": 20,
   "metadata": {
    "slideshow": {
     "slide_type": "slide"
    }
   },
   "outputs": [
    {
     "name": "stdout",
     "output_type": "stream",
     "text": [
      "factorial of 3 ?\n",
      "factorial of 2 ?\n",
      "factorial of 1 ?\n",
      "factorial of 0 ?\n",
      "0 (simple case)\n",
      "1! = 1\n",
      "2! = 2\n",
      "3! = 6\n",
      "Fakultät 3! ist  6\n"
     ]
    }
   ],
   "source": [
    "#um zu sehen, was hier genau passiert, fügen wir einige print-statements ein\n",
    "def factorial(n):\n",
    "    print(\"factorial of\", n, \"?\")\n",
    "    if n == 0:\n",
    "        print(n, \"(simple case)\")\n",
    "        return 1\n",
    "    else:\n",
    "        result = n * factorial(n-1)\n",
    "        print(str(n) + \"! =\", result)\n",
    "        return result\n",
    "\n",
    "print(\"Fakultät 3! ist \", factorial(3))"
   ]
  },
  {
   "cell_type": "markdown",
   "metadata": {
    "slideshow": {
     "slide_type": "skip"
    }
   },
   "source": [
    "<p>Was passiert hier? Im ersten Durchlauf ist n==3, d.h. das Programm springt von Z.4 zu Z. 7 und beginnt mit der Bearbeitung von Z.8. Python berechnet `3 *`, aber um den zweiten Faktor zu berechnen, muss es wiederum die Funktion aufrufen. Der ursprüngliche Aufruf der Funktion (nennen wir ihn Funktionsaufruf[0]) wir also angehalten und auf einen Stapel gelegt.</p>\n",
    "<p>Die Berechnung des zweiten Faktors hat einen neuen Aufruf gestartet, Funktionsaufruf[1]. n ist hier == 2. Wiederum springt das Programm von Zeile 3 zu Zeile 6 und beginnt dann mit der Arbeit an Zeile 8: Es rechnet 2 * -- und auch hier muss der Programmaufruf angehalten werden, da die Funktion nun zum 3. Mal aufgerufen wird (Funktionsaufruf[2]), während Funktionsaufruf[1] ebenfalls auf den Stapel kommt.</p>\n",
    "<p>Bei Funktionsaufruf[2] ist n == 1. Es geschieht wieder dasselbe, Funktionsaufruf[2] kommt auf den Stapel, Funktionsaufruf[3] erfolgt dann mit `n == 0`.\n",
    "<p>Deshalb verzweigt das Programm nun, in Funktionsaufruf[3], von Z. 4 zu Z. 5 und gibt die Zeile `0 (simple case`) aus. Dann wird Funktionsaufruf[3] mit dem Rückgabewert 1 beendet. Der Stapeleintrag für Funktionsaufruf[3] wird damit entfernt.</p>\n",
    "<p>Der Rückgabewert wird an den letzten Funktionsaufruf gegeben, der auf den Stapel gewandert ist, also Funktionsaufruf[2]. Hier kann nun die Multiplikation vollzogen werden: `1 * 1`. Das Ergebnis wird ausgegeben und dann wird die Funktion mit dem Rückgabewert `1` beendet. </p>\n",
    "<p>Dieser Rückgabewert wird an den nunmehr letzten Funktionsaufruf gegeben, der auf den Stapel gewandert ist, also Funktionsaufruf[1]. Hier kann nun die Multiplikation vollzogen werden: `2 * 1`. Das Ergebnis wird ausgegeben und dann wird die Funktion mit dem Rückgabewert `2` beendet. </p>\n",
    "<p>Der Rückgabewert wird an den Funktionsaufruf[0], der noch auf dem Stapel liegt, gegeben. Hier kann nun wiederum weiter gerechnet werden: `3 * 2`. Das Ergebnis, `6`, wird ausgegeben und dann als Rückgabewert zurückgegeben. "
   ]
  },
  {
   "cell_type": "markdown",
   "metadata": {
    "slideshow": {
     "slide_type": "slide"
    }
   },
   "source": [
    "<h3 style=\"color:green\">Aufgabe</h3> \n",
    "Ein _Palindrom_ ist ein String, der von vorn wie von hinten gelesen gleich ist, z.B. `\"anna\"` oder `\"MAOAM\"`.\n",
    "\n",
    "Schreiben Sie eine rekursive Funktion `is_palindrome(s)`, die für einen gegebenen String überprüft, ob es sich um ein Palindrom handelt. Welche Fälle von Strings sind trivialerweise Palindrome?"
   ]
  },
  {
   "cell_type": "markdown",
   "metadata": {
    "slideshow": {
     "slide_type": "subslide"
    }
   },
   "source": [
    "#### Musterlösung"
   ]
  },
  {
   "cell_type": "code",
   "execution_count": 7,
   "metadata": {
    "collapsed": true,
    "slideshow": {
     "slide_type": "fragment"
    }
   },
   "outputs": [
    {
     "name": "stdout",
     "output_type": "stream",
     "text": [
      "... checking anna ...\n",
      "... checking nn ...\n",
      "... checking  ...\n",
      "anna True\n",
      "... checking MAOAM ...\n",
      "... checking AOA ...\n",
      "... checking O ...\n",
      "MAOAM True\n",
      "... checking annika ...\n",
      "... checking nnik ...\n",
      "annika False\n"
     ]
    }
   ],
   "source": [
    "def is_palindrome(s):\n",
    "    \n",
    "    print(\"... checking\", s, \"...\")\n",
    "    if len(s) <= 1:\n",
    "        return True\n",
    "    if s[0] == s[-1]:\n",
    "        return is_palindrome(s[1:-1])\n",
    "    else:\n",
    "        return False\n",
    "    \n",
    "print(\"anna\", is_palindrome(\"anna\"))\n",
    "print(\"MAOAM\", is_palindrome(\"MAOAM\"))\n",
    "print(\"annika\", is_palindrome(\"annika\"))"
   ]
  },
  {
   "cell_type": "markdown",
   "metadata": {
    "slideshow": {
     "slide_type": "fragment"
    }
   },
   "source": [
    "### Übungsaufgabe (nicht prüfungsrelevant)\n",
    "\n",
    "\n",
    "Ein bekanntes Beispiel für Rekursion sind die _Türme von Hanoi_. Schauen Sie sich [hier die Beschreibung des Problems und des Lösungsalgorithmus in Pseudocode an](https://www.cs.cmu.edu/~cburch/survey/recurse/hanoiimpl.html) und implementieren Sie die Lösung in Python. Bonus: Geben Sie nach jedem Zug den Stand der Stapel an."
   ]
  }
 ],
 "metadata": {
  "celltoolbar": "Slideshow",
  "kernelspec": {
   "display_name": "Python 3",
   "language": "python",
   "name": "python3"
  },
  "language_info": {
   "codemirror_mode": {
    "name": "ipython",
    "version": 3
   },
   "file_extension": ".py",
   "mimetype": "text/x-python",
   "name": "python",
   "nbconvert_exporter": "python",
   "pygments_lexer": "ipython3",
   "version": "3.6.4"
  },
  "nav_menu": {},
  "toc": {
   "navigate_menu": true,
   "number_sections": false,
   "sideBar": true,
   "threshold": 6,
   "toc_cell": false,
   "toc_section_display": "block",
   "toc_window_display": false
  }
 },
 "nbformat": 4,
 "nbformat_minor": 1
}
