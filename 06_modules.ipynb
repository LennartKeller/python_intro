{
 "cells": [
  {
   "cell_type": "markdown",
   "metadata": {
    "slideshow": {
     "slide_type": "slide"
    }
   },
   "source": [
    "# Einführung in das Programmieren mit Python"
   ]
  },
  {
   "cell_type": "markdown",
   "metadata": {
    "slideshow": {
     "slide_type": "-"
    }
   },
   "source": [
    "## Module"
   ]
  },
  {
   "cell_type": "markdown",
   "metadata": {
    "slideshow": {
     "slide_type": "-"
    }
   },
   "source": [
    "* Weitere Möglichkeit, Programmcode einzukapseln\n",
    "* Typischer Use-Case: zusammengehörige Funktionen (, Klassen, …)\n",
    "* Mitgelieferte Funktionalität (jenseits des Sprachkerns) und Herunterladbares kommt in Modulen"
   ]
  },
  {
   "cell_type": "markdown",
   "metadata": {
    "slideshow": {
     "slide_type": "fragment"
    }
   },
   "source": [
    "* Modul = Python-Datei\n",
    "* Modulname = Python-Dateiname ohne Pfad und Endung"
   ]
  },
  {
   "cell_type": "markdown",
   "metadata": {
    "slideshow": {
     "slide_type": "notes"
    }
   },
   "source": [
    "<p>Module bieten eine weitere Möglichkeit, Programmcode in abgeschlossene Einheiten zu kapseln. Typischerweise werden zusammengehörige Funktionen in einem Modul versammelt. Module sind die wichtigste Organisationseinheit in Python, da alle Python-eigenen Funktionalitäten, aber auch alle zusätzlich herunterladbare Erweiterungen immer in Form von Modulen kommen.</p>\n",
    "<p>Module sind Python-Dateien, die Funktionen und Variablen-Definitionen enthalten.<br/>\n",
    "Name des Moduls = Name der Datei (ohne die Endung .py)<br/>\n",
    "Beispiel: <br/>\n"
   ]
  },
  {
   "cell_type": "code",
   "execution_count": 2,
   "metadata": {
    "collapsed": false,
    "slideshow": {
     "slide_type": "subslide"
    }
   },
   "outputs": [],
   "source": [
    "def get_chars(instring):\n",
    "    chars = []\n",
    "    for i in instring:\n",
    "        chars.append(i)\n",
    "    return chars"
   ]
  },
  {
   "cell_type": "markdown",
   "metadata": {
    "slideshow": {
     "slide_type": "fragment"
    }
   },
   "source": [
    "Speichern Sie diese Funktion in der Datei `chars.py`.\n",
    "Nun können Sie in jedem neuen Programm diese Funktion zugänglich machen, indem Sie einfach `import Dateiname` (ohne Endung!) eingeben:"
   ]
  },
  {
   "cell_type": "code",
   "execution_count": 3,
   "metadata": {
    "collapsed": false,
    "slideshow": {
     "slide_type": "fragment"
    }
   },
   "outputs": [
    {
     "data": {
      "text/plain": [
       "['h', 'a', 'l', 'l', 'o']"
      ]
     },
     "execution_count": 3,
     "metadata": {},
     "output_type": "execute_result"
    }
   ],
   "source": [
    "import chars\n",
    "chars.get_chars(\"hallo\")"
   ]
  },
  {
   "cell_type": "markdown",
   "metadata": {
    "slideshow": {
     "slide_type": "slide"
    }
   },
   "source": [
    "### Formen der import-Anweisung"
   ]
  },
  {
   "cell_type": "code",
   "execution_count": 4,
   "metadata": {
    "collapsed": false,
    "slideshow": {
     "slide_type": "fragment"
    }
   },
   "outputs": [
    {
     "data": {
      "text/plain": [
       "['h', 'a', 'l', 'l', 'o']"
      ]
     },
     "execution_count": 4,
     "metadata": {},
     "output_type": "execute_result"
    }
   ],
   "source": [
    "# Standardform. Hier muss der Modulname beim jeden Aufruf einer Funktion genannt werden.\n",
    "import chars\n",
    "chars.get_chars(\"hallo\")"
   ]
  },
  {
   "cell_type": "code",
   "execution_count": 5,
   "metadata": {
    "collapsed": false,
    "slideshow": {
     "slide_type": "fragment"
    }
   },
   "outputs": [
    {
     "data": {
      "text/plain": [
       "['h', 'i']"
      ]
     },
     "execution_count": 5,
     "metadata": {},
     "output_type": "execute_result"
    }
   ],
   "source": [
    "# Man kann auch ein kurzes Alias für einen längeren Modulnamen setzen:\n",
    "import chars as c\n",
    "c.get_chars(\"hi\")"
   ]
  },
  {
   "cell_type": "code",
   "execution_count": 6,
   "metadata": {
    "collapsed": false,
    "slideshow": {
     "slide_type": "fragment"
    }
   },
   "outputs": [
    {
     "data": {
      "text/plain": [
       "['h', 'i']"
      ]
     },
     "execution_count": 6,
     "metadata": {},
     "output_type": "execute_result"
    }
   ],
   "source": [
    "# import eine Funktion in den lokalen Namensraum, d.h. man kann sie nun ohne Modulnamen verwenden\n",
    "# man könnte auch mehrere importieren: from chars import get_chars, other_function\n",
    "from chars import get_chars\n",
    "get_chars(\"hi\")"
   ]
  },
  {
   "cell_type": "code",
   "execution_count": 7,
   "metadata": {
    "collapsed": false,
    "slideshow": {
     "slide_type": "fragment"
    }
   },
   "outputs": [],
   "source": [
    "# \"Alles\" importieren -- aber Vorsicht, kann unübersichtlich werden ...\n",
    "from chars import *"
   ]
  },
  {
   "cell_type": "markdown",
   "metadata": {
    "slideshow": {
     "slide_type": "skip"
    }
   },
   "source": [
    "<h3 style=\"color:green\">Aufgaben</h3>\n",
    "<p>1) Schreiben Sie (bzw. kopieren Sie aus der HA) Funktionen, die die Vokale und die Konsonanten eines Wortes zählen. Speichern Sie diese in die Datei stringtools.py\n",
    "<p>2) Verwenden Sie Ihre Funktionen in einem neuen Skript. \n",
    "<p>3) Verwenden Sie die Funktionen mit dem Alias `st`."
   ]
  },
  {
   "cell_type": "markdown",
   "metadata": {
    "slideshow": {
     "slide_type": "skip"
    }
   },
   "source": [
    "<h3>Musterlösung</h3>"
   ]
  },
  {
   "cell_type": "code",
   "execution_count": 1,
   "metadata": {
    "collapsed": false,
    "slideshow": {
     "slide_type": "skip"
    }
   },
   "outputs": [
    {
     "name": "stdout",
     "output_type": "stream",
     "text": [
      "Durchschnittliche Wortlänge:  5.3\n",
      "Durchschnittliche Vokalanzahl:  1.7\n",
      "Durchschnittliche Konsonantenanzahl:  3.6\n"
     ]
    }
   ],
   "source": [
    "import stringtools\n",
    "a = \"Herr Mustermann kommt ins Haus und trifft dort Frau Musterfrau\"\n",
    "print(\"Durchschnittliche Wortlänge: \", stringtools.avg_wordlength(a))\n",
    "print(\"Durchschnittliche Vokalanzahl: \", stringtools.avg_vowel(a))\n",
    "print(\"Durchschnittliche Konsonantenanzahl: \", stringtools.avg_consonant(a))"
   ]
  },
  {
   "cell_type": "code",
   "execution_count": 2,
   "metadata": {
    "collapsed": false,
    "slideshow": {
     "slide_type": "skip"
    }
   },
   "outputs": [
    {
     "name": "stdout",
     "output_type": "stream",
     "text": [
      "Durchschnittliche Wortlänge:  5.3\n",
      "Durchschnittliche Vokalanzahl:  1.7\n",
      "Durchschnittliche Konsonantenanzahl:  3.6\n"
     ]
    }
   ],
   "source": [
    "import stringtools as st\n",
    "a = \"Herr Mustermann kommt ins Haus und trifft dort Frau Musterfrau\"\n",
    "print(\"Durchschnittliche Wortlänge: \", st.avg_wordlength(a))\n",
    "print(\"Durchschnittliche Vokalanzahl: \", st.avg_vowel(a))\n",
    "print(\"Durchschnittliche Konsonantenanzahl: \", st.avg_consonant(a))"
   ]
  },
  {
   "cell_type": "markdown",
   "metadata": {
    "slideshow": {
     "slide_type": "slide"
    }
   },
   "source": [
    "### Module und Namespace"
   ]
  },
  {
   "cell_type": "markdown",
   "metadata": {
    "slideshow": {
     "slide_type": "-"
    }
   },
   "source": [
    "* Module definieren einen eigenen _Namespace_\n",
    "* in einem Modul definierte Variablen sind in dem Modul global, aber im importierenden Programm nicht unbedingt\n",
    "* Modul-Private Namen (für Variablen, Funktionen etc.):\n",
    "    1. beginnend mit einem einfachen Unterstrich (`_foo`)\n",
    "    2. oder _nicht_ in der Liste `__all__`\n",
    "    \n",
    "* dies ist eine _Konvention_, die z.B. für `from module import *` oder Doku genutzt wird."
   ]
  },
  {
   "cell_type": "markdown",
   "metadata": {
    "slideshow": {
     "slide_type": "slide"
    }
   },
   "source": [
    "### Docstrings für Module\n",
    "... der erste String im Modul, wie bei Funktionen.\n",
    "\n",
    "### Interaktiv: Neuladen eines Moduls (Python 3)\n",
    "```\n",
    "import chars\n",
    "... # Bearbeiten und Speichern von chars.py\n",
    "from importlib import reload    # Python ≥ 3.4\n",
    "from imp import reload          # Python 3.0–3.3\n",
    "reload(chars)\n",
    "```"
   ]
  },
  {
   "cell_type": "markdown",
   "metadata": {
    "slideshow": {
     "slide_type": "slide"
    }
   },
   "source": [
    "### Programm == Modul\n",
    "\n",
    "* _Jedes_ Python-Skript ist ein Modul, auch Ihr \"Hauptprogramm\"\n",
    "* der Name jedes Moduls steht in der modulspezifischen Variable `__name__`\n",
    "* der spezielle Name `\"__main__\"` steht für das Hauptprogramm"
   ]
  },
  {
   "cell_type": "code",
   "execution_count": 3,
   "metadata": {
    "collapsed": false,
    "slideshow": {
     "slide_type": "fragment"
    }
   },
   "outputs": [
    {
     "name": "stdout",
     "output_type": "stream",
     "text": [
      "1 Words:  ['-f']\n"
     ]
    }
   ],
   "source": [
    "\"\"\"Some useful string utilities\"\"\"\n",
    "def get_words(text):\n",
    "    \"\"\"Returns a list of words in the given `text`\"\"\"\n",
    "    return text.split()\n",
    "\n",
    "def _main():\n",
    "    from sys import argv\n",
    "    words = get_words(argv[1])\n",
    "    print(len(words), \"Words: \", words)\n",
    "    \n",
    "if __name__ == \"__main__\":\n",
    "    _main()"
   ]
  },
  {
   "cell_type": "markdown",
   "metadata": {
    "slideshow": {
     "slide_type": "subslide"
    }
   },
   "source": [
    "### Docstring-Tests für Funktionen"
   ]
  },
  {
   "cell_type": "markdown",
   "metadata": {
    "slideshow": {
     "slide_type": "skip"
    }
   },
   "source": [
    "<p>Idealerweise schreiben Sie für jede neue Funktion gleich einen Test, dann stellen Sie sicher, dass Ihr Code auch in Zukunft gut läuft. Es ist ganz einfach: Sie schreiben im Kommentar der Funktion den Aufruf mit Testdaten (achten Sie auf die drei >>> und das Leerzeichen danach. In die nächste Zeile kommt der Rückgabewert, also das Ergebnis. Am Ende des Programms kommt die Anweisung, wenn diese Datei aufgerufen wird, das Modul doctest zu importieren und die Funktion testmod() auszuführen.). Schreiben Sie das folgende ab. Rufen Sie das Skript auf. Testen Sie, was passiert, wenn Sie statt 3 eine 4 schreiben."
   ]
  },
  {
   "cell_type": "code",
   "execution_count": 2,
   "metadata": {
    "collapsed": false,
    "slideshow": {
     "slide_type": "fragment"
    }
   },
   "outputs": [],
   "source": [
    "def count_stops(s):\n",
    "    \"\"\"\n",
    "    counts full stops in a text s.\n",
    "    \n",
    "    >>> count_stops(\"Kurze Sätze. Immer. Nur kurze Sätze.\")\n",
    "    3\n",
    "    \"\"\"\n",
    "    fs = 0\n",
    "    for c in s:\n",
    "        if c == \".\":\n",
    "            fs += 1\n",
    "    return fs\n",
    "\n",
    "if __name__ == \"__main__\":\n",
    "    import doctest\n",
    "    doctest.testmod()"
   ]
  },
  {
   "cell_type": "markdown",
   "metadata": {
    "slideshow": {
     "slide_type": "fragment"
    }
   },
   "source": [
    "<h3 style=\"color:green\">Aufgabe</h3>\n",
    "\n",
    "\n",
    "Erstellen Sie ein Modul, das Sie mathutils nennen. Es enthält als einzige Funktion `factorial(n)`, mit der man die Fakultät einer zahl berechnen kann. \n",
    "\n",
    "1. Schreiben Sie einen `doctest`-Test für `factorial(6).`\n",
    "2. Ergänzen Sie das Modul um Code, sodass beim Aufruf automatisch die Doctests ausgeführt werden."
   ]
  },
  {
   "cell_type": "markdown",
   "metadata": {
    "slideshow": {
     "slide_type": "subslide"
    }
   },
   "source": [
    "#### Aufruf von der Kommandozeile\n",
    "\n",
    "Module im Suchpfad können mit `python -m <modulname>` aufgerufen werden, wenn sie mit `__name__ == '__main__'` umgehen können. Doctest unterstützt das:"
   ]
  },
  {
   "cell_type": "code",
   "execution_count": 3,
   "metadata": {
    "collapsed": false,
    "slideshow": {
     "slide_type": "-"
    }
   },
   "outputs": [
    {
     "name": "stdout",
     "output_type": "stream",
     "text": [
      "Trying:\n",
      "    factorial(0)\n",
      "Expecting:\n",
      "    1\n",
      "ok\n",
      "Trying:\n",
      "    factorial(6)\n",
      "Expecting:\n",
      "    720\n",
      "ok\n",
      "1 items had no tests:\n",
      "    mathutils\n",
      "1 items passed all tests:\n",
      "   2 tests in mathutils.factorial\n",
      "2 tests in 2 items.\n",
      "2 passed and 0 failed.\n",
      "Test passed.\n"
     ]
    }
   ],
   "source": [
    "%%bash\n",
    "python3 -m doctest -v mathutils.py"
   ]
  },
  {
   "cell_type": "markdown",
   "metadata": {
    "slideshow": {
     "slide_type": "subslide"
    }
   },
   "source": [
    "### Modulsuchpfad"
   ]
  },
  {
   "cell_type": "code",
   "execution_count": 4,
   "metadata": {
    "collapsed": false,
    "slideshow": {
     "slide_type": "-"
    }
   },
   "outputs": [
    {
     "data": {
      "text/plain": [
       "['',\n",
       " '/home/tv/.virtualenvs/jupyter/lib/python3.4',\n",
       " '/home/tv/.virtualenvs/jupyter/lib/python3.4/plat-x86_64-linux-gnu',\n",
       " '/home/tv/.virtualenvs/jupyter/lib/python3.4/lib-dynload',\n",
       " '/usr/lib/python3.4',\n",
       " '/usr/lib/python3.4/plat-x86_64-linux-gnu',\n",
       " '/home/tv/.virtualenvs/jupyter/lib/python3.4/site-packages',\n",
       " '/home/tv/.virtualenvs/jupyter/lib/python3.4/site-packages/IPython/extensions',\n",
       " '/home/tv/.ipython']"
      ]
     },
     "execution_count": 4,
     "metadata": {},
     "output_type": "execute_result"
    }
   ],
   "source": [
    "import sys\n",
    "sys.path"
   ]
  },
  {
   "cell_type": "markdown",
   "metadata": {
    "slideshow": {
     "slide_type": "notes"
    }
   },
   "source": [
    "Diese Liste sieht bei Ihnen wahrscheinlich anders aus. Sie enthält\n",
    "* das aktuelle Verzeichnis,\n",
    "* die Pfade, die in der Umgebungsvariable `PYTHONPATH` gelistet sind,\n",
    "* die in Ihrer Pythonversion eingebauten Systempfade.\n",
    "\n",
    "Spyder hat einen _PYTHONPATH Manager_ (Tools-Menü), mit dem Sie eigene Verzeichnisse dem Suchpfad hinzufügen können, natürlich können Sie auch direkt die dafür vorgesehenen Mechanismen Ihres Betriebssystems verwenden. Oder im Skript selbst `sys.path` ändern, aber das macht ihr Skript unportabel."
   ]
  },
  {
   "cell_type": "markdown",
   "metadata": {
    "slideshow": {
     "slide_type": "slide"
    }
   },
   "source": [
    "### Pythons Standard-Module\n",
    "Python kommt mit einer [umfangreichen Bibliothek von Modulen](https://docs.python.org/3/library), die für viele Probleme schon ausreichend sind (batteries included).\n",
    "\n",
    "\n",
    "<img src=\"files/images/reference.png\" height=\"50%\" width=\"50%\"/>"
   ]
  },
  {
   "cell_type": "markdown",
   "metadata": {
    "slideshow": {
     "slide_type": "slide"
    }
   },
   "source": [
    "<h3>Pythons Standard-Module </h3>\n",
    "<p>sind nichts anderes als normale Module in einem Verzeichnis im Modulsuchpfad\n",
    "\n",
    "<img src=\"files/images/modules.png\" height=\"40%\" width=\"40%\" />\n"
   ]
  },
  {
   "cell_type": "markdown",
   "metadata": {
    "slideshow": {
     "slide_type": "slide"
    }
   },
   "source": [
    "<h3 style=\"color:green\">Übungsaufgabe</h3>\n",
    "<p>Schlagen Sie in der Dokumentation nach, wie der die Funktion `copy` aus dem Modul `shutil` verwendet werden kann, um Dateien zu kopieren. Testen Sie den Befehl."
   ]
  },
  {
   "cell_type": "markdown",
   "metadata": {
    "slideshow": {
     "slide_type": "slide"
    }
   },
   "source": [
    "<h3>Aufgaben</h3>\n",
    "<p>In dem Modul datetime gibt es das Objekt datetime. Man kann es so verwenden:"
   ]
  },
  {
   "cell_type": "code",
   "execution_count": 38,
   "metadata": {
    "collapsed": false,
    "slideshow": {
     "slide_type": "fragment"
    }
   },
   "outputs": [
    {
     "name": "stdout",
     "output_type": "stream",
     "text": [
      "2014-11-12 09:07:48.260205\n",
      "______\n",
      "2014\n",
      "11\n",
      "12\n",
      "9\n",
      "7\n"
     ]
    }
   ],
   "source": [
    "from datetime import datetime\n",
    "now = datetime.now()\n",
    "print(now)\n",
    "print(\"______\")\n",
    "print(now.year)\n",
    "print(now.month)\n",
    "print(now.day)\n",
    "print(now.hour)\n",
    "print(now.minute)"
   ]
  },
  {
   "cell_type": "markdown",
   "metadata": {
    "slideshow": {
     "slide_type": "fragment"
    }
   },
   "source": [
    "Schreiben Sie nun ein Skript, das dem Benutzer erlaubt, sich entweder das Datum (1) oder die Uhrzeit (2) anzeigen zu lassen. Und das außerdem mit x beendet wird, ansonsten aber immer weiterläuft."
   ]
  },
  {
   "cell_type": "markdown",
   "metadata": {
    "slideshow": {
     "slide_type": "slide"
    }
   },
   "source": [
    "<h3>Musterlösung</h3>"
   ]
  },
  {
   "cell_type": "code",
   "execution_count": null,
   "metadata": {
    "collapsed": false,
    "slideshow": {
     "slide_type": "fragment"
    }
   },
   "outputs": [],
   "source": [
    "from datetime import datetime\n",
    "now = datetime.now()\n",
    "\n",
    "def formatted_time():\n",
    "    return str(now.hour) + \":\" + str(now.minute)    \n",
    "\n",
    "def formatted_date():\n",
    "    return str(now.day) + \".\" + str(now.month) + \".\" + str(now.year)\n",
    "\n",
    "while True:\n",
    "    res = input(\"Bitte wählen Sie: [1] Datum  [2] Uhrzeit [x] Beenden  \")\n",
    "    if res == \"1\":\n",
    "        print(\"Datum: \" + formatted_date())\n",
    "    elif res == \"2\":\n",
    "        print(\"Zeit: \" + formatted_time())\n",
    "    elif res == \"x\":\n",
    "        print(\"Tschüss\")\n",
    "        break\n",
    "    else:\n",
    "        print (\"Falsche Eingabe\")"
   ]
  }
 ],
 "metadata": {
  "celltoolbar": "Slideshow",
  "kernelspec": {
   "display_name": "Python 3",
   "language": "python",
   "name": "python3"
  },
  "language_info": {
   "codemirror_mode": {
    "name": "ipython",
    "version": 3
   },
   "file_extension": ".py",
   "mimetype": "text/x-python",
   "name": "python",
   "nbconvert_exporter": "python",
   "pygments_lexer": "ipython3",
   "version": "3.5.1+"
  }
 },
 "nbformat": 4,
 "nbformat_minor": 0
}
