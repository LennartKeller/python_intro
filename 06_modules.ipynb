{
 "metadata": {
  "celltoolbar": "Slideshow",
  "name": "",
  "signature": "sha256:36310e4636e8733e9afcf56351dd2c523ebe12fd9da65f3f078a4ef1df40e525"
 },
 "nbformat": 3,
 "nbformat_minor": 0,
 "worksheets": [
  {
   "cells": [
    {
     "cell_type": "heading",
     "level": 1,
     "metadata": {
      "slideshow": {
       "slide_type": "slide"
      }
     },
     "source": [
      "Einf\u00fchrung in das Programmieren mit Python"
     ]
    },
    {
     "cell_type": "heading",
     "level": 2,
     "metadata": {
      "slideshow": {
       "slide_type": "-"
      }
     },
     "source": [
      "Module"
     ]
    },
    {
     "cell_type": "markdown",
     "metadata": {
      "slideshow": {
       "slide_type": "slide"
      }
     },
     "source": [
      "### Wiederholung Funktionen\n",
      "Management von Komplexit\u00e4t"
     ]
    },
    {
     "cell_type": "code",
     "collapsed": false,
     "input": [
      "#    ,Funktionsname\n",
      "#   |     ,---,-- (positionale) Argument\n",
      "#   \u2193    \u2193    \u2193      ,----- Keyword-Argument mit Default-Wert\n",
      "def add(nr1, nr2, verbose=False):\n",
      "    \"\"\"Addiert nr1 und nr2. Wenn verbose True ist, Ausgabe der Operation.\"\"\" # Docstring -> Doku\n",
      "    result = nr1 + nr2\n",
      "    if verbose:\n",
      "        print(\"Die Summe aus\", nr1, \"und\", nr2, \"ist\", result)\n",
      "    return result     # R\u00fcckgabe des Ergebnisses\n",
      "\n",
      "print(add(1,2))\n",
      "print(add(17,4,verbose=True))"
     ],
     "language": "python",
     "metadata": {
      "slideshow": {
       "slide_type": "-"
      }
     },
     "outputs": [
      {
       "output_type": "stream",
       "stream": "stdout",
       "text": [
        "3\n",
        "Die Summe aus 17 und 4 ist 21\n",
        "21\n"
       ]
      }
     ],
     "prompt_number": 5
    },
    {
     "cell_type": "markdown",
     "metadata": {
      "slideshow": {
       "slide_type": "subslide"
      }
     },
     "source": [
      "* Funktionen er\u00f6ffnen einen neuen **Scope** \u2013 lokale Variablen (in der Funktion) vs. globale Variablen \n",
      "* die \u00dcbergabe von Argumenten erfolgt _by reference_ \u2013 in einer Funktion k\u00f6nnen \u00fcbergebene Listen ver\u00e4ndert werden"
     ]
    },
    {
     "cell_type": "heading",
     "level": 3,
     "metadata": {
      "slideshow": {
       "slide_type": "slide"
      }
     },
     "source": [
      "Aufgabe: Code zerlegen"
     ]
    },
    {
     "cell_type": "code",
     "collapsed": false,
     "input": [
      "def avg_wordlength(s):\n",
      "    sum_wordlength = 0\n",
      "    for w in s.split():\n",
      "        sum_wordlength += len(w)\n",
      "    return sum_wordlength / len(s.split())\n",
      "\n",
      "def avg_vowel(s):\n",
      "    list_vowels = []\n",
      "    for w in s.lower().split():\n",
      "        word_vowels = 0\n",
      "        for c in w:\n",
      "            if c in \"aeiou\":\n",
      "                word_vowels += 1\n",
      "        list_vowels.append(word_vowels)\n",
      "    return sum(list_vowels) / len(list_vowels)\n",
      "\n",
      "def avg_consonant (s):\n",
      "    list_consonants = []\n",
      "    for w in s.lower().split():\n",
      "        word_cons = 0\n",
      "        for c in w:\n",
      "            if c in \"bcdfghjklmnpqrstvwxyz\":\n",
      "                word_cons += 1\n",
      "        list_consonants.append(word_cons)\n",
      "    return sum(list_consonants) / len(list_consonants)\n",
      "\n",
      "s = \"Herr Mustermann kommt ins Haus und trifft dort Frau Musterfrau\"\n",
      "print(\"Durchschnittliche Wortl\u00e4nge: \", avg_wordlength(s) )\n",
      "print(\"Durchschnittliche Vokalanzahl: \", avg_vowel(s))\n",
      "print(\"Durchschnittliche Konsonantenanzahl: \", avg_consonant(s) )"
     ],
     "language": "python",
     "metadata": {
      "slideshow": {
       "slide_type": "fragment"
      }
     },
     "outputs": [
      {
       "output_type": "stream",
       "stream": "stdout",
       "text": [
        "Durchschnittliche Wortl\u00e4nge:  5.3\n",
        "Durchschnittliche Vokalanzahl:  1.7\n",
        "Durchschnittliche Konsonantenanzahl:  3.6\n"
       ]
      }
     ],
     "prompt_number": 53
    },
    {
     "cell_type": "code",
     "collapsed": false,
     "input": [
      "def count_chars(s, chars):\n",
      "    \"\"\"\n",
      "    creates a list, which represents the number of c in chars in each word of s\n",
      "    \"\"\"\n",
      "    list_chars = []\n",
      "    for w in s.lower().split():\n",
      "        word_chars = 0\n",
      "        for c in w:\n",
      "            if c in chars:\n",
      "                word_chars += 1\n",
      "        list_chars.append(word_chars)\n",
      "    return list_chars\n",
      "\n",
      "\n",
      "def avg_chars(chars):\n",
      "    \"\"\"\n",
      "    calculates average count list chars\n",
      "    \"\"\"\n",
      "    return sum(chars) / len(chars)\n",
      "\n",
      "\n",
      "def avg_wordlength(s):\n",
      "    all_chars = \"abcdefghijklmnopqrstuvwxyz\"\n",
      "    return avg_chars(count_chars(s, all_chars))\n",
      "\n",
      "\n",
      "def avg_vowel(s):\n",
      "    vowels = \"aeiou\"\n",
      "    return avg_chars(count_chars(s, vowels))\n",
      "\n",
      "\n",
      "def avg_consonant(s):\n",
      "    consonants = \"bcdfghjklmnpqrstvwxyz\"\n",
      "    return avg_chars(count_chars(s, consonants))\n",
      "\n",
      "\n",
      "a = \"Herr Mustermann kommt ins Haus und trifft dort Frau Musterfrau\"\n",
      "print(\"Durchschnittliche Wortl\u00e4nge: \", avg_wordlength(a))\n",
      "print(\"Durchschnittliche Vokalanzahl: \", avg_vowel(a))\n",
      "print(\"Durchschnittliche Konsonantenanzahl: \", avg_consonant(a))"
     ],
     "language": "python",
     "metadata": {
      "slideshow": {
       "slide_type": "subslide"
      }
     },
     "outputs": [
      {
       "output_type": "stream",
       "stream": "stdout",
       "text": [
        "Durchschnittliche Wortl\u00e4nge:  5.3\n",
        "Durchschnittliche Vokalanzahl:  1.7\n",
        "Durchschnittliche Konsonantenanzahl:  3.6\n"
       ]
      }
     ],
     "prompt_number": 54
    },
    {
     "cell_type": "markdown",
     "metadata": {
      "slideshow": {
       "slide_type": "slide"
      }
     },
     "source": [
      "<h3>Wiederholung: Rekursion</h3>\n"
     ]
    },
    {
     "cell_type": "markdown",
     "metadata": {
      "slideshow": {
       "slide_type": "-"
      }
     },
     "source": [
      "```\n",
      "if (test for simple case) == True: \n",
      "    Bereche eine einfache L\u00f6sung ohne Rekursion\n",
      "else:\n",
      "    Zerlege das Problem in Teilprobleme, die die gleiche Form haben.\n",
      "    L\u00f6se jedes Teilproblem durch rekursiven Aufruf der Funktion.\n",
      "    Setze die L\u00f6sungen f\u00fcr die Teilprobleme zusammen, um eine L\u00f6sung f\u00fcr das ganze Problem zu erhalten.\n",
      "```"
     ]
    },
    {
     "cell_type": "heading",
     "level": 3,
     "metadata": {
      "slideshow": {
       "slide_type": "subslide"
      }
     },
     "source": [
      "Aufgabe: T\u00fcrme von Hanoi"
     ]
    },
    {
     "cell_type": "code",
     "collapsed": false,
     "input": [
      "# Hier eine einfache Umsetzung basierend auf Listen:\n",
      "def move_tower(disk, source, dest, spare):\n",
      "    \"\"\"\n",
      "    Moves disk 'disk' from 'source' to 'dest' via 'spare'.\n",
      "\n",
      "    Source, dest, and spare are lists.\n",
      "    \"\"\"\n",
      "    if disk == 0:   # oder: if len(source) == 1)\n",
      "        dest.append(source.pop())\n",
      "    else:\n",
      "        move_tower(disk-1, source, spare, dest)\n",
      "        dest.append(source.pop())\n",
      "        move_tower(disk-1, spare, dest, source)\n",
      "\n",
      "A = list(reversed(range(6)))\n",
      "B = []\n",
      "C = []\n",
      "move_tower(5, A, B, C)"
     ],
     "language": "python",
     "metadata": {
      "slideshow": {
       "slide_type": "-"
      }
     },
     "outputs": [],
     "prompt_number": 1
    },
    {
     "cell_type": "markdown",
     "metadata": {
      "slideshow": {
       "slide_type": "slide"
      }
     },
     "source": [
      "<h3>Module</h3>"
     ]
    },
    {
     "cell_type": "markdown",
     "metadata": {
      "slideshow": {
       "slide_type": "-"
      }
     },
     "source": [
      "* Weitere M\u00f6glichkeit, Programmcode einzukapseln\n",
      "* Typischer Use-Case: zusammengeh\u00f6rige Funktionen (, Klassen, \u2026)\n",
      "* Mitgelieferte Funktionalit\u00e4t (jenseits des Sprachkerns) und Herunterladbares kommt in Modulen"
     ]
    },
    {
     "cell_type": "markdown",
     "metadata": {
      "slideshow": {
       "slide_type": "fragment"
      }
     },
     "source": [
      "* Modul = Python-Datei\n",
      "* Modulname = Python-Dateiname ohne Pfad und Endung"
     ]
    },
    {
     "cell_type": "markdown",
     "metadata": {
      "slideshow": {
       "slide_type": "notes"
      }
     },
     "source": [
      "<p>Module bieten eine weitere M\u00f6glichkeit, Programmcode in abgeschlossene Einheiten zu kapseln. Typischerweise werden zusammengeh\u00f6rige Funktionen in einem Modul versammelt. Module sind die wichtigste Organisationseinheit in Python, da alle Python-eigenen Funktionalit\u00e4ten, aber auch alle zus\u00e4tzlich herunterladbare Erweiterungen immer in Form von Modulen kommen.</p>\n",
      "<p>Module sind Python-Dateien, die Funktionen und Variablen-Definitionen enthalten.<br/>\n",
      "Name des Moduls = Name der Datei (ohne die Endung .py)<br/>\n",
      "Beispiel: <br/>\n"
     ]
    },
    {
     "cell_type": "code",
     "collapsed": false,
     "input": [
      "def get_chars(instring):\n",
      "    chars = []\n",
      "    for i in instring:\n",
      "        chars.append(i)\n",
      "    return chars"
     ],
     "language": "python",
     "metadata": {
      "slideshow": {
       "slide_type": "subslide"
      }
     },
     "outputs": [],
     "prompt_number": 2
    },
    {
     "cell_type": "markdown",
     "metadata": {
      "slideshow": {
       "slide_type": "fragment"
      }
     },
     "source": [
      "Speichern Sie diese Funktion in der Datei `chars.py`.\n",
      "Nun k\u00f6nnen Sie in jedem neuen Programm diese Funktion zug\u00e4nglich machen, indem Sie einfach `import Dateiname` (ohne Endung!) eingeben:"
     ]
    },
    {
     "cell_type": "code",
     "collapsed": false,
     "input": [
      "import chars\n",
      "chars.get_chars(\"hallo\")"
     ],
     "language": "python",
     "metadata": {
      "slideshow": {
       "slide_type": "fragment"
      }
     },
     "outputs": [
      {
       "metadata": {},
       "output_type": "pyout",
       "prompt_number": 3,
       "text": [
        "['h', 'a', 'l', 'l', 'o']"
       ]
      }
     ],
     "prompt_number": 3
    },
    {
     "cell_type": "heading",
     "level": 3,
     "metadata": {
      "slideshow": {
       "slide_type": "slide"
      }
     },
     "source": [
      "Formen der import-Anweisung"
     ]
    },
    {
     "cell_type": "code",
     "collapsed": false,
     "input": [
      "# Standardform. Hier muss der Modulname beim jeden Aufruf einer Funktion genannt werden.\n",
      "import chars\n",
      "chars.get_chars(\"hallo\")"
     ],
     "language": "python",
     "metadata": {
      "slideshow": {
       "slide_type": "fragment"
      }
     },
     "outputs": [
      {
       "metadata": {},
       "output_type": "pyout",
       "prompt_number": 4,
       "text": [
        "['h', 'a', 'l', 'l', 'o']"
       ]
      }
     ],
     "prompt_number": 4
    },
    {
     "cell_type": "code",
     "collapsed": false,
     "input": [
      "# Man kann auch ein kurzes Alias f\u00fcr einen l\u00e4ngeren Modulnamen setzen:\n",
      "import chars as c\n",
      "c.get_chars(\"hi\")"
     ],
     "language": "python",
     "metadata": {
      "slideshow": {
       "slide_type": "fragment"
      }
     },
     "outputs": [
      {
       "metadata": {},
       "output_type": "pyout",
       "prompt_number": 5,
       "text": [
        "['h', 'i']"
       ]
      }
     ],
     "prompt_number": 5
    },
    {
     "cell_type": "code",
     "collapsed": false,
     "input": [
      "# import eine Funktion in den lokalen Namensraum, d.h. man kann sie nun ohne Modulnamen verwenden\n",
      "# man k\u00f6nnte auch mehrere importieren: from chars import get_chars, other_function\n",
      "from chars import get_chars\n",
      "get_chars(\"hi\")"
     ],
     "language": "python",
     "metadata": {
      "slideshow": {
       "slide_type": "fragment"
      }
     },
     "outputs": [
      {
       "metadata": {},
       "output_type": "pyout",
       "prompt_number": 6,
       "text": [
        "['h', 'i']"
       ]
      }
     ],
     "prompt_number": 6
    },
    {
     "cell_type": "code",
     "collapsed": false,
     "input": [
      "# \"Alles\" importieren -- aber Vorsicht, kann un\u00fcbersichtlich werden ...\n",
      "from chars import *"
     ],
     "language": "python",
     "metadata": {
      "slideshow": {
       "slide_type": "fragment"
      }
     },
     "outputs": [],
     "prompt_number": 7
    },
    {
     "cell_type": "markdown",
     "metadata": {
      "slideshow": {
       "slide_type": "slide"
      }
     },
     "source": [
      "<h3 style=\"color:green\">Aufgaben</h3>\n",
      "<p>1) Schreiben Sie (oder kopieren Sie aus der HA) Funktionen, die die Vokale und die Konsonanten eines Wortes z\u00e4hlen. Speichern Sie diese in die Datei stringtools.py\n",
      "<p>2) Verwenden Sie Ihre Funktionen in einem neuen Skript. \n",
      "<p>3) Verwenden Sie die Funktionen mit dem Alias `st`."
     ]
    },
    {
     "cell_type": "markdown",
     "metadata": {
      "slideshow": {
       "slide_type": "slide"
      }
     },
     "source": [
      "<h3>Musterl\u00f6sung</h3>"
     ]
    },
    {
     "cell_type": "code",
     "collapsed": false,
     "input": [
      "import stringtools\n",
      "a = \"Herr Mustermann kommt ins Haus und trifft dort Frau Musterfrau\"\n",
      "print(\"Durchschnittliche Wortl\u00e4nge: \", stringtools.avg_wordlength(a))\n",
      "print(\"Durchschnittliche Vokalanzahl: \", stringtools.avg_vowel(a))\n",
      "print(\"Durchschnittliche Konsonantenanzahl: \", stringtools.avg_consonant(a))"
     ],
     "language": "python",
     "metadata": {
      "slideshow": {
       "slide_type": "fragment"
      }
     },
     "outputs": []
    },
    {
     "cell_type": "code",
     "collapsed": false,
     "input": [
      "import stringtools as st\n",
      "a = \"Herr Mustermann kommt ins Haus und trifft dort Frau Musterfrau\"\n",
      "print(\"Durchschnittliche Wortl\u00e4nge: \", st.avg_wordlength(a))\n",
      "print(\"Durchschnittliche Vokalanzahl: \", st.avg_vowel(a))\n",
      "print(\"Durchschnittliche Konsonantenanzahl: \", st.avg_consonant(a))"
     ],
     "language": "python",
     "metadata": {
      "slideshow": {
       "slide_type": "fragment"
      }
     },
     "outputs": [
      {
       "output_type": "stream",
       "stream": "stdout",
       "text": [
        "Durchschnittliche Wortl\u00e4nge:  5.3\n",
        "Durchschnittliche Vokalanzahl:  1.7\n",
        "Durchschnittliche Konsonantenanzahl:  3.6\n"
       ]
      }
     ],
     "prompt_number": 15
    },
    {
     "cell_type": "heading",
     "level": 3,
     "metadata": {
      "slideshow": {
       "slide_type": "slide"
      }
     },
     "source": [
      "Module und Scope"
     ]
    },
    {
     "cell_type": "markdown",
     "metadata": {
      "slideshow": {
       "slide_type": "-"
      }
     },
     "source": [
      "* Module definieren einen eigenen Scope\n",
      "* in einem Modul definierte Variablen sind in dem Modul global, aber im importierenden Programm nicht unbedingt\n",
      "* Modul-Private Namen (f\u00fcr Variablen, Funktionen etc.):\n",
      "    1. beginnend mit einem einfachen Unterstrich (`_foo`)\n",
      "    2. oder _nicht_ in der Liste `__all__`\n",
      "    \n",
      "* dies ist eine _Konvention_, die z.B. f\u00fcr `from module import *` oder Doku genutzt wird."
     ]
    },
    {
     "cell_type": "markdown",
     "metadata": {
      "slideshow": {
       "slide_type": "slide"
      }
     },
     "source": [
      "### Docstrings f\u00fcr Module\n",
      "... der erste String im Modul, wie bei Funktionen.\n",
      "\n",
      "### Interaktiv: Neuladen eines Moduls (Python 3)\n",
      "```\n",
      "import chars\n",
      "... # Bearbeiten und Speichern von chars.py\n",
      "from importlib import reload    # Python \u2265 3.4\n",
      "from imp import reload          # Python 3.0\u20133.3\n",
      "reload(chars)\n",
      "```\n",
      "\n",
      "1. Importieren Sie ihr Modul stringtools und lassen Sie sich die Hilfe dazu anzeigen.\n",
      "2. F\u00fcgen Sie dem Modul einen Docstring und eine private Variable hinzu und speichern Sie.\n",
      "3. Laden Sie das Modul neu und zeigen  Sie die Hilfe erneut an"
     ]
    },
    {
     "cell_type": "markdown",
     "metadata": {
      "slideshow": {
       "slide_type": "slide"
      }
     },
     "source": [
      "### Programm == Modul\n",
      "\n",
      "* _Jedes_ Python-Skript ist ein Modul, auch Ihr \"Hauptprogramm\"\n",
      "* der Name jedes Moduls steht in der modulspezifischen Variable `__name__`\n",
      "* der spezielle Name `\"__main__\"` steht f\u00fcr das Hauptprogramm"
     ]
    },
    {
     "cell_type": "code",
     "collapsed": false,
     "input": [
      "\"\"\"Some useful string utilities\"\"\"\n",
      "def get_words(text):\n",
      "    \"\"\"Returns a list of words in the given `text`\"\"\"\n",
      "    return text.split()\n",
      "\n",
      "def _main():\n",
      "    from sys import argv\n",
      "    words = get_words(argv[1])\n",
      "    print(len(words), \"Words: \", words)\n",
      "    \n",
      "if __name__ == \"__main__\":\n",
      "    _main()"
     ],
     "language": "python",
     "metadata": {
      "slideshow": {
       "slide_type": "fragment"
      }
     },
     "outputs": [
      {
       "output_type": "stream",
       "stream": "stdout",
       "text": [
        "1 Words:  ['-f']\n"
       ]
      }
     ],
     "prompt_number": 29
    },
    {
     "cell_type": "heading",
     "level": 3,
     "metadata": {
      "slideshow": {
       "slide_type": "subslide"
      }
     },
     "source": [
      "Docstring-Tests f\u00fcr Funktionen"
     ]
    },
    {
     "cell_type": "markdown",
     "metadata": {
      "slideshow": {
       "slide_type": "skip"
      }
     },
     "source": [
      "<p>Idealerweise schreiben Sie f\u00fcr jede neue Funktion gleich einen Test, dann stellen Sie sicher, dass Ihr Code auch in Zukunft gut l\u00e4uft. Es ist ganz einfach: Sie schreiben im Kommentar der Funktion den Aufruf mit Testdaten (achten Sie auf die drei >>> und das Leerzeichen danach. In die n\u00e4chste Zeile kommt der R\u00fcckgabewert, also das Ergebnis. Am Ende des Programms kommt die Anweisung, wenn diese Datei aufgerufen wird, das Modul doctest zu importieren und die Funktion testmod() auszuf\u00fchren.). Schreiben Sie das folgende ab. Rufen Sie das Skript auf. Testen Sie, was passiert, wenn Sie statt 3 eine 4 schreiben."
     ]
    },
    {
     "cell_type": "code",
     "collapsed": false,
     "input": [
      "def count_stops(s):\n",
      "    \"\"\"\n",
      "    counts full stops in a text s.\n",
      "    >>> count_stops(\"Kurze S\u00e4tze. Immer. Nur kurze S\u00e4tze.\")\n",
      "    3\n",
      "    \"\"\"\n",
      "    fs = 0\n",
      "    for c in s:\n",
      "        if c == \".\":\n",
      "            fs += 1\n",
      "    return fs\n",
      "\n",
      "if __name__ == \"__main__\":\n",
      "    import doctest\n",
      "    doctest.testmod()"
     ],
     "language": "python",
     "metadata": {
      "slideshow": {
       "slide_type": "fragment"
      }
     },
     "outputs": [],
     "prompt_number": 33
    },
    {
     "cell_type": "markdown",
     "metadata": {
      "slideshow": {
       "slide_type": "fragment"
      }
     },
     "source": [
      "<h3 style=\"color:green\">Aufgabe</h3>\n",
      "1) Erstellen Sie ein Modul, das Sie mathutils nennen. Es enth\u00e4lt als einzige Funktion factorial(n), mit der man die Fakult\u00e4t einer zahl berechnen kann. Schreiben Sie einen Test f\u00fcr factorial(5). "
     ]
    },
    {
     "cell_type": "markdown",
     "metadata": {
      "slideshow": {
       "slide_type": "subslide"
      }
     },
     "source": [
      "### Modulsuchpfad"
     ]
    },
    {
     "cell_type": "code",
     "collapsed": false,
     "input": [
      "import sys\n",
      "sys.path"
     ],
     "language": "python",
     "metadata": {
      "slideshow": {
       "slide_type": "-"
      }
     },
     "outputs": [
      {
       "metadata": {},
       "output_type": "pyout",
       "prompt_number": 34,
       "text": [
        "['',\n",
        " '/usr/lib/python3.4',\n",
        " '/usr/lib/python3.4/plat-x86_64-linux-gnu',\n",
        " '/usr/lib/python3.4/lib-dynload',\n",
        " '/usr/local/lib/python3.4/dist-packages',\n",
        " '/usr/lib/python3/dist-packages',\n",
        " '/usr/lib/python3.4/dist-packages',\n",
        " '/usr/lib/python3/dist-packages/IPython/extensions']"
       ]
      }
     ],
     "prompt_number": 34
    },
    {
     "cell_type": "markdown",
     "metadata": {
      "slideshow": {
       "slide_type": "notes"
      }
     },
     "source": [
      "Diese Liste sieht bei Ihnen wahrscheinlich anders aus. Sie enth\u00e4lt\n",
      "* das aktuelle Verzeichnis,\n",
      "* die Pfade, die in der Umgebungsvariable `PYTHONPATH` gelistet sind,\n",
      "* die in Ihrer Pythonversion eingebauten Systempfade.\n",
      "\n",
      "Spyder hat einen _PYTHONPATH Manager_ (Tools-Men\u00fc), mit dem Sie eigene Verzeichnisse dem Suchpfad hinzuf\u00fcgen k\u00f6nnen, nat\u00fcrlich k\u00f6nnen Sie auch direkt die daf\u00fcr vorgesehenen Mechanismen Ihres Betriebssystems verwenden. Oder im Skript selbst `sys.path` \u00e4ndern, aber das macht ihr Skript unportabel."
     ]
    },
    {
     "cell_type": "markdown",
     "metadata": {
      "slideshow": {
       "slide_type": "slide"
      }
     },
     "source": [
      "### Pythons Standard-Module\n",
      "Python kommt mit einer [umfangreichen Bibliothek von Modulen](https://docs.python.org/3/library), die f\u00fcr viele Probleme schon ausreichend sind (batteries included).\n",
      "\n",
      "\n",
      "<img src=\"files/images/reference.png\" height=\"50%\" width=\"50%\"/>"
     ]
    },
    {
     "cell_type": "markdown",
     "metadata": {
      "slideshow": {
       "slide_type": "slide"
      }
     },
     "source": [
      "<h3>Pythons Standard-Module </h3>\n",
      "<p>sind nichts anderes als normale Module in einem Verzeichnis im Modulsuchpfad\n",
      "\n",
      "<img src=\"files/images/modules.png\" height=\"40%\" width=\"40%\" />\n"
     ]
    },
    {
     "cell_type": "markdown",
     "metadata": {
      "slideshow": {
       "slide_type": "slide"
      }
     },
     "source": [
      "<h3 style=\"color:green\">\u00dcbungsaufgabe</h3>\n",
      "<p>Schlagen Sie in der Dokumentation nach, wie der Befehl copy aus dem Modul shutil verwendet werden kann, um Dateien zu kopieren. Testen Sie den Befehl."
     ]
    },
    {
     "cell_type": "markdown",
     "metadata": {
      "slideshow": {
       "slide_type": "slide"
      }
     },
     "source": [
      "<h3>Aufgaben</h3>\n",
      "<p>In dem Modul datetime gibt es das Objekt datetime. Man kann es so verwenden:"
     ]
    },
    {
     "cell_type": "code",
     "collapsed": false,
     "input": [
      "from datetime import datetime\n",
      "now = datetime.now()\n",
      "print(now)\n",
      "print(\"______\")\n",
      "print(now.year)\n",
      "print(now.month)\n",
      "print(now.day)\n",
      "print(now.hour)\n",
      "print(now.minute)"
     ],
     "language": "python",
     "metadata": {
      "slideshow": {
       "slide_type": "fragment"
      }
     },
     "outputs": [
      {
       "output_type": "stream",
       "stream": "stdout",
       "text": [
        "2014-11-12 09:07:48.260205\n",
        "______\n",
        "2014\n",
        "11\n",
        "12\n",
        "9\n",
        "7\n"
       ]
      }
     ],
     "prompt_number": 38
    },
    {
     "cell_type": "markdown",
     "metadata": {
      "slideshow": {
       "slide_type": "fragment"
      }
     },
     "source": [
      "Schreiben Sie nun ein Skript, das dem Benutzer erlaubt, sich entweder das Datum (1) oder die Uhrzeit (2) anzeigen zu lassen. Und das au\u00dferdem mit x beendet wird, ansonsten aber immer weiterl\u00e4uft."
     ]
    },
    {
     "cell_type": "markdown",
     "metadata": {
      "slideshow": {
       "slide_type": "slide"
      }
     },
     "source": [
      "<h3>Musterl\u00f6sung</h3>"
     ]
    },
    {
     "cell_type": "code",
     "collapsed": false,
     "input": [
      "from datetime import datetime\n",
      "now = datetime.now()\n",
      "\n",
      "def formatted_time():\n",
      "    return str(now.hour) + \":\" + str(now.minute)    \n",
      "\n",
      "def formatted_date():\n",
      "    return str(now.day) + \".\" + str(now.month) + \".\" + str(now.year)\n",
      "\n",
      "while True:\n",
      "    res = input(\"Bitte w\u00e4hlen Sie: [1] Datum  [2] Uhrzeit [x] Beenden  \")\n",
      "    if res == \"1\":\n",
      "        print(\"Datum: \" + formatted_date())\n",
      "    elif res == \"2\":\n",
      "        print(\"Zeit: \" + formatted_time())\n",
      "    elif res == \"x\":\n",
      "        print(\"Tsch\u00fcss\")\n",
      "        break\n",
      "    else:\n",
      "        print (\"Falsche Eingabe\")"
     ],
     "language": "python",
     "metadata": {
      "slideshow": {
       "slide_type": "fragment"
      }
     },
     "outputs": []
    }
   ],
   "metadata": {}
  }
 ]
}