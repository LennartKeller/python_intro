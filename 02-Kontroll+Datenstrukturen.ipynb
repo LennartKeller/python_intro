{
 "cells": [
  {
   "cell_type": "markdown",
   "metadata": {
    "slideshow": {
     "slide_type": "slide"
    }
   },
   "source": [
    "### Programmieren mit Python\n",
    "## Kontrollstrukturen I"
   ]
  },
  {
   "cell_type": "markdown",
   "metadata": {
    "slideshow": {
     "slide_type": "subslide"
    }
   },
   "source": [
    "### Kontrollstrukturen: Bedingte Verzweigung"
   ]
  },
  {
   "cell_type": "code",
   "execution_count": 1,
   "metadata": {
    "slideshow": {
     "slide_type": "-"
    }
   },
   "outputs": [
    {
     "name": "stdout",
     "output_type": "stream",
     "text": [
      "i is positive\n"
     ]
    }
   ],
   "source": [
    "i = 42\n",
    "if i < 0:\n",
    "      print(\"i is negative\")\n",
    "elif i == 0:\n",
    "    print(\"i is 0\")\n",
    "    print(\"Yay!\")\n",
    "else:\n",
    "    print(\"i is positive\")"
   ]
  },
  {
   "cell_type": "markdown",
   "metadata": {
    "slideshow": {
     "slide_type": "subslide"
    }
   },
   "source": [
    "### Syntax: Grundprinzipien\n",
    "\n",
    "* eine Anweisung pro Zeile\n",
    "* Mehrzeilige Anweisungen:\n",
    "    * `\\` am Zeilenende, außer wenn das Zeilenende in Klammern steht\n",
    "    * Folgezeilen eingerückt"
   ]
  },
  {
   "cell_type": "code",
   "execution_count": 2,
   "metadata": {
    "slideshow": {
     "slide_type": "-"
    }
   },
   "outputs": [
    {
     "name": "stdout",
     "output_type": "stream",
     "text": [
      "Hallo Welt! Wie geht’s?\n"
     ]
    }
   ],
   "source": [
    "greeting = \"Hallo \" + \\\n",
    "           \"Welt!\"\n",
    "print(greeting,\n",
    "     \"Wie geht’s?\")"
   ]
  },
  {
   "cell_type": "markdown",
   "metadata": {
    "slideshow": {
     "slide_type": "subslide"
    }
   },
   "source": [
    "### Syntax: Kontrollstrukturen\n",
    "\n",
    "__Einrückung ist bedeutungstragend__\n",
    "\n",
    "* Beginn eines Blocks, z.B. bedingte Verzweigung: Schlüsselwort + Details + `:`\n",
    "* folgende, zugehörige Zeilen eingerückt, Konvention: um 4 Leerzeichen\n",
    "* Blockende: Ausrückung _auf eine der vorherigen Ausrückebenen_"
   ]
  },
  {
   "cell_type": "code",
   "execution_count": 4,
   "metadata": {
    "slideshow": {
     "slide_type": "fragment"
    }
   },
   "outputs": [
    {
     "name": "stdout",
     "output_type": "stream",
     "text": [
      "i is positive\n",
      "Dies wird in jedem Fall angezeigt\n"
     ]
    }
   ],
   "source": [
    "i = 42\n",
    "if i < 0:                    # Schlüsselwort if + Ausdruck\n",
    "    print(\"i is negative\")   # Einrückung um 4 ␣\n",
    "elif i == 0:                 # Ausrückung auf if-Ebene für elif (else if …)\n",
    "    print(\"i is 0\")          # Einrückung: Neuer Block\n",
    "    print(\"Yay!\")            # immer noch im Block\n",
    "else:\n",
    "    print(\"i is positive\")\n",
    "print(\"Dies wird in jedem Fall angezeigt\")"
   ]
  },
  {
   "cell_type": "markdown",
   "metadata": {
    "slideshow": {
     "slide_type": "slide"
    }
   },
   "source": [
    "### if: Bedingungen\n",
    "\n",
    "* Eine __Bedingung__ ist ein Ausdruck, der zu einem Wahrheitswert evaluiert werden kann\n",
    "\n",
    "#### Werte\n",
    "* Datentyp `bool`: `True`, `False`\n",
    "* Werte anderen Typs: \n",
    "   * Falsch sind `0`, `0.0`, `None`, `\"\"`, leere Listen / Dictionaries / idR leere andere Datenstrukturen\n",
    "   * Wahr sind alle anderen Werte\n",
    "\n",
    "#### Vergleichsoperatoren\n",
    "* `< <= == != => >`, z.B. `eingabe == \"Test\"` oder `zahl <= 42`\n",
    "* Reihung möglich: Zahl zwischen 0 und 100: `0 < x < 100` \n",
    "* Identität: `is`, `is not`, z.B. `if x is not None:`\n",
    "* Enthalten in: `in`, `not in`, z.B. `\"bier\" in \"probieren\"`\n",
    "\n",
    "#### Boolesche Operatoren\n",
    "\n",
    "* Unär: `not`, Binär: `and`,  `or`; z.B. `x > 0 and x < 100`\n",
    "* shortcut evaluation und übernahme des Werts"
   ]
  },
  {
   "cell_type": "code",
   "execution_count": 7,
   "metadata": {
    "slideshow": {
     "slide_type": "fragment"
    }
   },
   "outputs": [
    {
     "name": "stdout",
     "output_type": "stream",
     "text": [
      "Gib was ein: was\n",
      "was True\n"
     ]
    }
   ],
   "source": [
    "eingabe = input(\"Gib was ein: \")\n",
    "eingabe = eingabe or input(\"Wirklich nicht? \")\n",
    "print(eingabe, bool(eingabe))"
   ]
  },
  {
   "cell_type": "markdown",
   "metadata": {
    "slideshow": {
     "slide_type": "subslide"
    }
   },
   "source": [
    "### Kontrollstrukturen: while-Schleifen\n",
    "\n",
    "* While-Schleifen wiederholen etwas, solange die Bedingung erfüllt ist:"
   ]
  },
  {
   "cell_type": "code",
   "execution_count": 6,
   "metadata": {
    "slideshow": {
     "slide_type": "-"
    }
   },
   "outputs": [
    {
     "name": "stdout",
     "output_type": "stream",
     "text": [
      "Was ist der Sinn des Lebens usw? schaffe schaffe häusle baue\n",
      "Nö. Versuch's nochmal. 42\n",
      "'42'\n"
     ]
    }
   ],
   "source": [
    "answer = input(\"Was ist der Sinn des Lebens usw? \")\n",
    "while answer != \"42\":\n",
    "    answer = input(\"Nö. Versuch's nochmal. \")\n",
    "    print(\"'\"+answer+\"'\")"
   ]
  },
  {
   "cell_type": "markdown",
   "metadata": {
    "slideshow": {
     "slide_type": "-"
    }
   },
   "source": [
    "#### Aufgabe\n",
    "\n",
    "Schreiben Sie ein Programm, das den Benutzer mehrere Zeilen eingeben lässt, daraus einen großen String bastelt (`+`) und den dann ausgibt. Es soll aufhören, wenn der Benutzer einen Leerstring eingibt, also einfach ⏎⃣  drückt. (`\"\"`)"
   ]
  },
  {
   "cell_type": "code",
   "execution_count": 9,
   "metadata": {
    "slideshow": {
     "slide_type": "subslide"
    }
   },
   "outputs": [
    {
     "name": "stdout",
     "output_type": "stream",
     "text": [
      "Erste Zeile: Hallo\n",
      "Nächste Zeile: ich bin ein Text\n",
      "Nächste Zeile: \n",
      "Hallo\n",
      "ich bin ein Text\n",
      "\n"
     ]
    }
   ],
   "source": [
    "text = \"\"\n",
    "line = input(\"Erste Zeile: \")\n",
    "while line:\n",
    "    text += line + \"\\n\"\n",
    "    line = input(\"Nächste Zeile: \")\n",
    "print(text)"
   ]
  },
  {
   "cell_type": "markdown",
   "metadata": {
    "slideshow": {
     "slide_type": "subslide"
    }
   },
   "source": [
    "#### ab Python 3.8: Walroß-Operator `:=`\n",
    "\n",
    "Ab Python 3.8 gibt es __Assignment Expressions__: `variable := ausdruck` weist `variable` den Wert von `ausdruck` zu und gibt ihn zurück"
   ]
  },
  {
   "cell_type": "code",
   "execution_count": 3,
   "metadata": {
    "slideshow": {
     "slide_type": "-"
    }
   },
   "outputs": [
    {
     "name": "stdout",
     "output_type": "stream",
     "text": [
      "Zeile: bla\n",
      "Zeile: fasel\n",
      "Zeile: \n",
      "bla\n",
      "fasel\n",
      "\n"
     ]
    }
   ],
   "source": [
    "text = \"\"\n",
    "while line := input(\"Zeile: \"):\n",
    "        text += line + \"\\n\"\n",
    "print(text)"
   ]
  },
  {
   "cell_type": "markdown",
   "metadata": {
    "slideshow": {
     "slide_type": "slide"
    }
   },
   "source": [
    "### Kontrollstrukturen: for-Schleifen\n",
    "\n",
    "`for`-Schleifen laufen über eine Datenstruktur:"
   ]
  },
  {
   "cell_type": "code",
   "execution_count": 5,
   "metadata": {
    "slideshow": {
     "slide_type": "-"
    }
   },
   "outputs": [
    {
     "name": "stdout",
     "output_type": "stream",
     "text": [
      "a\n",
      "l\n",
      "l\n",
      "o\n",
      "Jannidis kann unter 80078 erreicht werden.\n",
      "Vitt kann unter 80079 erreicht werden.\n",
      "Technischer Betrieb kann unter 84444 erreicht werden.\n",
      "P Q R S T U V W X Y "
     ]
    }
   ],
   "source": [
    "for buchstabe in \"Hallo\":\n",
    "    if buchstabe.islower(): \n",
    "        print(buchstabe)\n",
    "\n",
    "durchwahl = {'Jannidis': '80078', 'Vitt': '80079', 'Technischer Betrieb': '84444'}\n",
    "for mitarbeiter in durchwahl:\n",
    "    print(mitarbeiter, 'kann unter', durchwahl[mitarbeiter], 'erreicht werden.')\n",
    "\n",
    "for codepoint in range(80, 90):\n",
    "    print(chr(codepoint),end=\" \")"
   ]
  },
  {
   "cell_type": "markdown",
   "metadata": {
    "slideshow": {
     "slide_type": "subslide"
    }
   },
   "source": [
    "### Funktionen (später)\n",
    "\n",
    "Funktionen dienen der Modularisierung und kapseln Funktionalität, die öfters benötigt wird."
   ]
  },
  {
   "cell_type": "code",
   "execution_count": 6,
   "metadata": {
    "slideshow": {
     "slide_type": "-"
    }
   },
   "outputs": [
    {
     "name": "stdout",
     "output_type": "stream",
     "text": [
      "—a—b—c→\n"
     ]
    }
   ],
   "source": [
    "def make_arrow(vias):\n",
    "    result = ''\n",
    "    for item in vias:\n",
    "        result += '—' + str(item)\n",
    "    result += '→'\n",
    "    return result\n",
    "\n",
    "print(make_arrow(['a', 'b', 'c']))"
   ]
  },
  {
   "cell_type": "markdown",
   "metadata": {
    "slideshow": {
     "slide_type": "slide"
    }
   },
   "source": [
    "### Python: Auffriſchung\n",
    "## Datentypen und -strukturen"
   ]
  },
  {
   "cell_type": "markdown",
   "metadata": {
    "slideshow": {
     "slide_type": "slide"
    }
   },
   "source": [
    "### Einfache Datentypen in Python\n",
    "\n",
    "| Typisches Literal | Typ     | Beschreibung            |\n",
    "|:------------------|:--------|:------------------------|\n",
    "| `5`, `-42`        | `int`   | Ganze Zahl (*Integer*)  |\n",
    "| `5.0`, `-3.75`    | `float` | Fließkommazahl          |\n",
    "| `\"Hallo\"`         | `str`   | Zeichenkette (*String*) |\n",
    "| `True`, `False`   | `bool`  | Wahrheitswert           |\n",
    "\n",
    "* Jeder Wert hat einen __Datentyp__, den kann man mit `type(wert)` abfragen\n",
    "* Datentypen kann man als Funktion aufrufen, dann erzeugen Sie den entsprechenden Typ (oder versuchen es zumindest)"
   ]
  },
  {
   "cell_type": "code",
   "execution_count": 9,
   "metadata": {
    "slideshow": {
     "slide_type": "subslide"
    }
   },
   "outputs": [
    {
     "name": "stdout",
     "output_type": "stream",
     "text": [
      "1.0 <class 'float'>\n"
     ]
    },
    {
     "ename": "TypeError",
     "evalue": "can only concatenate str (not \"int\") to str",
     "output_type": "error",
     "traceback": [
      "\u001b[0;31m---------------------------------------------------------------------------\u001b[0m",
      "\u001b[0;31mTypeError\u001b[0m                                 Traceback (most recent call last)",
      "\u001b[0;32m<ipython-input-9-c7d9e91a4e4a>\u001b[0m in \u001b[0;36m<module>\u001b[0;34m\u001b[0m\n\u001b[1;32m      1\u001b[0m \u001b[0mprint\u001b[0m\u001b[0;34m(\u001b[0m\u001b[0;36m1.0\u001b[0m\u001b[0;34m,\u001b[0m \u001b[0mtype\u001b[0m\u001b[0;34m(\u001b[0m\u001b[0;36m1.0\u001b[0m\u001b[0;34m)\u001b[0m\u001b[0;34m)\u001b[0m\u001b[0;34m\u001b[0m\u001b[0;34m\u001b[0m\u001b[0m\n\u001b[1;32m      2\u001b[0m \u001b[0mwert\u001b[0m \u001b[0;34m=\u001b[0m \u001b[0;36m42\u001b[0m\u001b[0;34m\u001b[0m\u001b[0;34m\u001b[0m\u001b[0m\n\u001b[0;32m----> 3\u001b[0;31m \u001b[0mprint\u001b[0m\u001b[0;34m(\u001b[0m\u001b[0;34m\"Ergebnis \"\u001b[0m \u001b[0;34m+\u001b[0m \u001b[0mwert\u001b[0m\u001b[0;34m)\u001b[0m\u001b[0;34m\u001b[0m\u001b[0;34m\u001b[0m\u001b[0m\n\u001b[0m",
      "\u001b[0;31mTypeError\u001b[0m: can only concatenate str (not \"int\") to str"
     ]
    }
   ],
   "source": [
    "print(1.0, type(1.0))\n",
    "wert = 42\n",
    "print(\"Ergebnis \" + wert)"
   ]
  },
  {
   "cell_type": "code",
   "execution_count": 10,
   "metadata": {
    "slideshow": {
     "slide_type": "fragment"
    }
   },
   "outputs": [
    {
     "name": "stdout",
     "output_type": "stream",
     "text": [
      "Ergebnis 42\n"
     ]
    }
   ],
   "source": [
    "print(\"Ergebnis \" + str(wert))"
   ]
  },
  {
   "cell_type": "markdown",
   "metadata": {
    "slideshow": {
     "slide_type": "fragment"
    }
   },
   "source": [
    "### Übungsaufgabe\n",
    "\n",
    "Schreiben Sie ein Programm, das Zahlen abfragt und nach jeder Eingabe die Summe der bislang eingegebenen Zahlen ausgibt."
   ]
  },
  {
   "cell_type": "markdown",
   "metadata": {
    "slideshow": {
     "slide_type": "subslide"
    }
   },
   "source": [
    "### Alles ist ein Objekt.\n",
    "\n",
    "* alle Werte in Python sind _Objekte_\n",
    "* Objekte haben _Methoden_, d.h. Funktionen, die irgendwas mit dem Objekt tun (aber es nicht notwendigerweise verändern)"
   ]
  },
  {
   "cell_type": "code",
   "execution_count": 11,
   "metadata": {
    "slideshow": {
     "slide_type": "fragment"
    }
   },
   "outputs": [
    {
     "name": "stdout",
     "output_type": "stream",
     "text": [
      "hallo welt.\n",
      "Hallo Welt.\n"
     ]
    }
   ],
   "source": [
    "text = \"Hallo Welt.\"\n",
    "print(text.lower())\n",
    "print(text)"
   ]
  },
  {
   "cell_type": "markdown",
   "metadata": {
    "slideshow": {
     "slide_type": "subslide"
    }
   },
   "source": [
    "* die zur Verfügung stehenden Methoden werden vom Datentyp bestimmt\n",
    "* `dir(Objekt)` oder `dir(Typ)` gibt alle Methoden / Attribute zurück, `help(Typ)` zeigt einen Hilfetext, `help(objekt.methode)` zeigt einen Hilfetext nur für die Methode\n",
    "* Methoden wie `__len__` oder `__add__`, die mit je zwei Unterstrichen beginnen und enden, rufen Sie i.A. nicht direkt auf – sie implementieren eingebaute Funktionen bzw. Operatoren für den Typ, z.B. `len(\"Hallo\")`, `\"Hallo \" + \"Welt\"`\n",
    "\n",
    "### Übungsaufgaben\n",
    "\n",
    "1. Finden Sie wenigstens drei Manipulationen, die Sie mit einem String machen können, und drei Dinge, die Sie von einem String abfragen können, und finden probieren Sie sie aus.\n",
    "2. Was machen die String-Methoden `split` und `trim`? Lesen Sie die Hilfe und probieren Sie die Funktionen aus."
   ]
  },
  {
   "cell_type": "markdown",
   "metadata": {
    "slideshow": {
     "slide_type": "subslide"
    }
   },
   "source": [
    "### Mehr zu Strings\n",
    "\n",
    "* Stringliterale: Vorn und hinten die gleichen Anführungszeichen, kein Zeilenumbruch im Literal"
   ]
  },
  {
   "cell_type": "code",
   "execution_count": 14,
   "metadata": {
    "slideshow": {
     "slide_type": "-"
    }
   },
   "outputs": [
    {
     "data": {
      "text/plain": [
       "True"
      ]
     },
     "execution_count": 14,
     "metadata": {},
     "output_type": "execute_result"
    }
   ],
   "source": [
    "s = 'Test'\n",
    "t = \"Test\"\n",
    "s == t"
   ]
  },
  {
   "cell_type": "markdown",
   "metadata": {
    "slideshow": {
     "slide_type": "fragment"
    }
   },
   "source": [
    "* Mehrzeilige Literale mit je drei `\"\"\"` oder `'''` an Anfang und Ende"
   ]
  },
  {
   "cell_type": "code",
   "execution_count": 16,
   "metadata": {
    "slideshow": {
     "slide_type": "fragment"
    }
   },
   "outputs": [
    {
     "name": "stdout",
     "output_type": "stream",
     "text": [
      "\n",
      "Betriebsanleitung\n",
      "=================\n",
      "\n",
      "Drücken Sie auf 'Ein', um das Gerät einzuschalten.\n",
      "\n"
     ]
    }
   ],
   "source": [
    "hilfe = \"\"\"\n",
    "Betriebsanleitung\n",
    "=================\n",
    "\n",
    "Drücken Sie auf 'Ein', um das Gerät einzuschalten.\n",
    "\"\"\"\n",
    "print(hilfe)"
   ]
  },
  {
   "cell_type": "markdown",
   "metadata": {
    "slideshow": {
     "slide_type": "subslide"
    }
   },
   "source": [
    "* Besondere Zeichenkombinationen in Strings mit Backslash: z.B. `\\n` neue Zeile, `\\\\` Backslash, "
   ]
  },
  {
   "cell_type": "code",
   "execution_count": 22,
   "metadata": {
    "slideshow": {
     "slide_type": "-"
    }
   },
   "outputs": [
    {
     "name": "stdout",
     "output_type": "stream",
     "text": [
      "Unicode-Zeichen: vierstellig (BMP) ☮,\n",
      "     achtstellig (darüber hinaus) 🦄\n"
     ]
    }
   ],
   "source": [
    "print(\"Unicode-Zeichen: vierstellig (BMP) \\u262e,\\n     achtstellig (darüber hinaus) \\U0001F984\")"
   ]
  },
  {
   "cell_type": "markdown",
   "metadata": {
    "slideshow": {
     "slide_type": "-"
    }
   },
   "source": [
    "* _Raw Strings_, wenn `\\` keine Sonderbedeutung haben soll: `path = r\"C:\\Windows\"`\n",
    "* _Byte Strings_ für Binärdaten: `b\"PK\"` = 2 Bytes (später bei Dateien)"
   ]
  },
  {
   "cell_type": "markdown",
   "metadata": {
    "slideshow": {
     "slide_type": "subslide"
    }
   },
   "source": [
    "* Strings sind unveränderlich, Operationen erzeugen immer neue Strings\n",
    "* Einzelne Zeichen: `text[4]` liefert das 5. Zeichen (Zählung ab 0), `text[-1]` das letzte, `len(text)` die Länge des Strings\n",
    "* Teilstrings: `text[start:ende]`, ggf. mit Schrittweite `text[start:ende:step]`, `start`, `ende`, `:schrittweite` darf entfallen:"
   ]
  },
  {
   "cell_type": "code",
   "execution_count": 27,
   "metadata": {
    "slideshow": {
     "slide_type": "-"
    }
   },
   "outputs": [
    {
     "name": "stdout",
     "output_type": "stream",
     "text": [
      "H\n",
      "Hall\n",
      "Hlo\n",
      "Hallo W\n"
     ]
    }
   ],
   "source": [
    "text = \"Hallo Welt\"\n",
    "print(text[0])\n",
    "print(text[:4])\n",
    "print(text[0:5:2])\n",
    "print(text[:-3])"
   ]
  },
  {
   "cell_type": "markdown",
   "metadata": {
    "slideshow": {
     "slide_type": "fragment"
    }
   },
   "source": [
    "__ÜA__: Wie können Sie einen String umdrehen? `\"Hallo\" → \"ollaH\"`?"
   ]
  },
  {
   "cell_type": "markdown",
   "metadata": {
    "slideshow": {
     "slide_type": "subslide"
    }
   },
   "source": [
    "### Format Strings\n",
    "\n",
    "Es gibt eine kleine Subsprache, um Werte in Strings einzusetzen:"
   ]
  },
  {
   "cell_type": "code",
   "execution_count": 40,
   "metadata": {
    "slideshow": {
     "slide_type": "-"
    }
   },
   "outputs": [
    {
     "name": "stdout",
     "output_type": "stream",
     "text": [
      "Die Länge des Strings »Hallo Welt« beträgt 10 Zeichen.\n"
     ]
    }
   ],
   "source": [
    "print(\"Die Länge des Strings »{0}« beträgt {1} Zeichen.\".format(text, len(text)))"
   ]
  },
  {
   "cell_type": "markdown",
   "metadata": {
    "slideshow": {
     "slide_type": "-"
    }
   },
   "source": [
    "Man kann das Format auch näher beschreiben:"
   ]
  },
  {
   "cell_type": "code",
   "execution_count": 55,
   "metadata": {},
   "outputs": [
    {
     "name": "stdout",
     "output_type": "stream",
     "text": [
      "⅓ = 00050.3333\n"
     ]
    }
   ],
   "source": [
    "print(\"⅓ = {0:010.4f}\".format(50 + 1/3)) # f = fließkommazahl, 010 = 10 stellen, mit führenden nullen, .4 = vier nachkommastellen"
   ]
  },
  {
   "cell_type": "markdown",
   "metadata": {
    "slideshow": {
     "slide_type": "fragment"
    }
   },
   "source": [
    "In Stringliteralen mit führendem `f` (f-strings) kann man (seit Python 3.6) Pythonausdrücke einbetten:"
   ]
  },
  {
   "cell_type": "code",
   "execution_count": 59,
   "metadata": {
    "slideshow": {
     "slide_type": "fragment"
    }
   },
   "outputs": [
    {
     "name": "stdout",
     "output_type": "stream",
     "text": [
      "Die Länge von »Hallo Welt« beträgt   10 Zeichen.\n"
     ]
    }
   ],
   "source": [
    "print(f\"Die Länge von »{text}« beträgt {len(text):4d} Zeichen.\")"
   ]
  },
  {
   "cell_type": "markdown",
   "metadata": {
    "slideshow": {
     "slide_type": "slide"
    }
   },
   "source": [
    "### Listen\n",
    "\n",
    "* Eine _Liste_ verwaltet eine flexible Menge von (meist gleichartigen) Einträgen\n",
    "* Die Einträge können über den _Listenindex_, ihre Position in der Liste, angesprochen werden"
   ]
  },
  {
   "cell_type": "code",
   "execution_count": 31,
   "metadata": {
    "slideshow": {
     "slide_type": "-"
    }
   },
   "outputs": [
    {
     "name": "stdout",
     "output_type": "stream",
     "text": [
      "Kafka\n"
     ]
    }
   ],
   "source": [
    "autoren = ['Goethe', 'Kafka', 'Grass', 'Jelinek']\n",
    "print(autoren[1])"
   ]
  },
  {
   "cell_type": "code",
   "execution_count": 33,
   "metadata": {
    "slideshow": {
     "slide_type": "fragment"
    }
   },
   "outputs": [
    {
     "name": "stdout",
     "output_type": "stream",
     "text": [
      "['Schiller', 'Kafka', 'Grass', 'Jelinek', 'Schalanski', 'Schalanski'] 6\n",
      "False\n"
     ]
    }
   ],
   "source": [
    "autoren.append('Schalanski')\n",
    "autoren[0] = 'Schiller'\n",
    "print(autoren, len(autoren))\n",
    "print('Stanišić' in autoren)"
   ]
  },
  {
   "cell_type": "markdown",
   "metadata": {
    "slideshow": {
     "slide_type": "subslide"
    }
   },
   "source": [
    "### Übungsaufgaben\n",
    "\n",
    "1. Wie heißt der Datentyp von Listen?\n",
    "2. Was passiert, wenn Sie eine String in eine Liste umwandeln?\n",
    "3. Erzeugen Sie aus einem vom Benutzer eingegebenen Satz eine Liste von Wörtern, getrennt an Leerzeichen.\n",
    "4. Wie finden Sie heraus, an wievielter Position in der Liste 'Jelinek' steht?\n",
    "5. Fügen Sie 'Anakreon' _am Anfang_ der einer Liste ein."
   ]
  },
  {
   "cell_type": "markdown",
   "metadata": {
    "slideshow": {
     "slide_type": "slide"
    }
   },
   "source": [
    "### Dictionaries\n",
    "\n",
    "* Listen repräsentieren Daten in einer festen, ununterbrochenen Reihenfolge, die durch ihre Position in der Liste einzeln angesprochen werden können\n",
    "* Dictionaries repräsentieren ebenfalls Daten, allerdings als _Key-Value-Paare_: Ein Wert (Value) wird durch einen Schlüssel (Key) identifiziert."
   ]
  },
  {
   "cell_type": "code",
   "execution_count": 2,
   "metadata": {
    "slideshow": {
     "slide_type": "fragment"
    }
   },
   "outputs": [
    {
     "name": "stdout",
     "output_type": "stream",
     "text": [
      "80078\n",
      "{'Jannidis': '80079', 'Vitt': '80078', 'Technischer Betrieb': '84444', 'Gersitz': '88421'}\n"
     ]
    }
   ],
   "source": [
    "durchwahlen = {'Jannidis': '80079',\n",
    "               'Vitt': '80078',\n",
    "               'Technischer Betrieb': '84444'}\n",
    "print(durchwahlen['Vitt'])\n",
    "durchwahlen['Gersitz'] = '88421'\n",
    "print(durchwahlen)"
   ]
  },
  {
   "cell_type": "markdown",
   "metadata": {},
   "source": [
    "Die Dictionary-Methoden `keys()` und `values()` liefern jeweils nur die Schlüssel und die Werte zurück:"
   ]
  },
  {
   "cell_type": "code",
   "execution_count": 3,
   "metadata": {
    "slideshow": {
     "slide_type": "subslide"
    }
   },
   "outputs": [
    {
     "name": "stdout",
     "output_type": "stream",
     "text": [
      "dict_keys(['Jannidis', 'Vitt', 'Technischer Betrieb', 'Gersitz'])\n",
      "dict_values(['80079', '80078', '84444', '88421'])\n",
      "dict_items([('Jannidis', '80079'), ('Vitt', '80078'), ('Technischer Betrieb', '84444'), ('Gersitz', '88421')])\n"
     ]
    }
   ],
   "source": [
    "print(durchwahlen.keys())\n",
    "print(durchwahlen.values())\n",
    "print(durchwahlen.items())"
   ]
  },
  {
   "cell_type": "markdown",
   "metadata": {},
   "source": [
    "`items()` liefert alle Schlüssel-Wert-_Paare_ als Liste von Tupeln.\n",
    "\n",
    "### Tupel\n",
    "\n",
    "* _Tupel_ sind unveränderliche Listen"
   ]
  },
  {
   "cell_type": "code",
   "execution_count": 7,
   "metadata": {},
   "outputs": [],
   "source": [
    "t = ('Vitt', 80079)             # \\\n",
    "t = tuple(['Vitt', 80079])      #   äquivalent\n",
    "t = 'Vitt', 80079               # /"
   ]
  },
  {
   "cell_type": "markdown",
   "metadata": {},
   "source": [
    "* in der Praxis:\n",
    "  * Liste für Sequenz gleichartiger Objekte\n",
    "  * Tupel: Position im Tupel bestimmt Typ / Semantik"
   ]
  },
  {
   "cell_type": "markdown",
   "metadata": {},
   "source": [
    "#### Unpacking\n",
    "\n",
    "Man kann Tupel auf der linken Seite einer Zuweisung verwenden:"
   ]
  },
  {
   "cell_type": "code",
   "execution_count": 13,
   "metadata": {},
   "outputs": [],
   "source": [
    "t = 'Vitt', 80079\n",
    "name, nummer = t"
   ]
  },
  {
   "cell_type": "code",
   "execution_count": 14,
   "metadata": {},
   "outputs": [
    {
     "data": {
      "text/plain": [
       "dict_items([('Jannidis', '80079'), ('Vitt', '80078'), ('Technischer Betrieb', '84444'), ('Gersitz', '88421')])"
      ]
     },
     "execution_count": 14,
     "metadata": {},
     "output_type": "execute_result"
    }
   ],
   "source": [
    "durchwahlen.items()"
   ]
  },
  {
   "cell_type": "code",
   "execution_count": 15,
   "metadata": {},
   "outputs": [
    {
     "name": "stdout",
     "output_type": "stream",
     "text": [
      "Jannidis ist unter 80079 zu erreichen.\n",
      "Vitt ist unter 80078 zu erreichen.\n",
      "Technischer Betrieb ist unter 84444 zu erreichen.\n",
      "Gersitz ist unter 88421 zu erreichen.\n"
     ]
    }
   ],
   "source": [
    "for name, nummer in durchwahlen.items():       # ← Tuple unpacking\n",
    "    print(f'{name} ist unter {nummer} zu erreichen.')"
   ]
  },
  {
   "cell_type": "markdown",
   "metadata": {},
   "source": [
    "### Mengen"
   ]
  },
  {
   "cell_type": "markdown",
   "metadata": {},
   "source": [
    "* Mengen (`set`) enthalten gleiche Elemente max. einmal"
   ]
  },
  {
   "cell_type": "code",
   "execution_count": 18,
   "metadata": {},
   "outputs": [
    {
     "name": "stdout",
     "output_type": "stream",
     "text": [
      "{1, 2, 3, 5, 7, 9}\n"
     ]
    }
   ],
   "source": [
    "kleine_primzahlen = {1, 2, 3, 5, 7, 9, 7}\n",
    "print(kleine_primzahlen)"
   ]
  },
  {
   "cell_type": "code",
   "execution_count": 25,
   "metadata": {},
   "outputs": [
    {
     "name": "stdout",
     "output_type": "stream",
     "text": [
      "{2}\n"
     ]
    }
   ],
   "source": [
    "gerade_zahlen = {2,4,6,8,10}(\n",
    "\n",
    "print(kleine_primzahlen.intersection(gerade_zahlen)))"
   ]
  },
  {
   "cell_type": "markdown",
   "metadata": {},
   "source": [
    "* Elementbeziehung ($x \\in A$, `x in A`)\n",
    "* Schnittmenge ($A \\cap B$, `A.intersection(B)`, `A & B`)\n",
    "* Vereinigungsmenge ($A \\cup B$, `A.union(B)`, `A | B`)\n",
    "* Mengendifferenz ($A \\setminus B$, `A.difference(B)`, `A - B`)\n",
    "* Symmetrische Differenz ($A \\mathop{\\Delta} B$, `A.symmetric_difference(B)`)"
   ]
  },
  {
   "cell_type": "markdown",
   "metadata": {},
   "source": [
    "* `frozenset()` für unveränderliche Mengen"
   ]
  },
  {
   "cell_type": "markdown",
   "metadata": {},
   "source": [
    "### Welche Datenstruktur nehme ich?\n",
    "\n",
    "* Listen (`list`) für Sequenzen gleichartiger Objekte, die per Index oder primär sequentiell angesprochen werden. `in` ist teuer.\n",
    "* Mengen (`set`, `frozenset`), wenn es vor allem auf Enthaltensein ankommt, Wiederholungen nicht vorkommen und die Reihenfolge nicht wichtig ist. `in` ist billig.\n",
    "* Tupel für unveränderliche Listen und kurze Datensequenzen, bei denen die Position die Semantik bestimmt.\n",
    "* Dictionaries (`dict`) für key-value-Paare. `in` bezieht sich auf den Wert und ist billig."
   ]
  },
  {
   "cell_type": "markdown",
   "metadata": {},
   "source": [
    "### Wie funktionieren Dictionaries und Mengen?\n",
    "\n",
    "* In Listen und Tupel werden die Werte einfach hintereinandergespeichert. `in` erfordert im ungünstigsten Fall, alle Werte durchzuschauen.\n",
    "* Bei Dictionaries und Mengen soll der Zugriff über den Key effizient sein ($\\mathcal{O}(1)$) → vgl. z.B. ≈ 11945 unterschiedliche Wortformen allein für Effi Briest\n",
    "* __Hashtable__: Idee: Wir berechnen die Position des Eintrags aus dem Key (hier: Wortform, z.B. _Reim_)\n",
    "\n",
    "* __Hashfunktion__:\n",
    "   * bildet Key auf eine Zahl ab\n",
    "   * zwei Objekte sind gleich (`==`) → ihr Hashwert ist auch gleich\n",
    "   * z.B. Quersumme der Buchstaben"
   ]
  },
  {
   "cell_type": "markdown",
   "metadata": {
    "slideshow": {
     "slide_type": "subslide"
    }
   },
   "source": [
    "![](img/hashtable-1.png)"
   ]
  },
  {
   "cell_type": "markdown",
   "metadata": {
    "slideshow": {
     "slide_type": "subslide"
    }
   },
   "source": [
    "![](img/hashtable-2.png)"
   ]
  },
  {
   "cell_type": "markdown",
   "metadata": {
    "slideshow": {
     "slide_type": "subslide"
    }
   },
   "source": [
    "![](img/hashtable-3.png)"
   ]
  },
  {
   "cell_type": "markdown",
   "metadata": {
    "slideshow": {
     "slide_type": "slide"
    }
   },
   "source": [
    "### Übungsaufgabe\n",
    "\n",
    "Eine einfache Möglichkeit, eine Textdatei einzulesen, bietet das `Path`-Objekt aus dem Modul `pathlib`. Das müssen wir zunächst importieren, um es benutzen zu können:"
   ]
  },
  {
   "cell_type": "code",
   "execution_count": 29,
   "metadata": {
    "slideshow": {
     "slide_type": "-"
    }
   },
   "outputs": [],
   "source": [
    "from pathlib import Path"
   ]
  },
  {
   "cell_type": "markdown",
   "metadata": {
    "slideshow": {
     "slide_type": "-"
    }
   },
   "source": [
    "`Path`-Objekte repräsentieren Datei- oder Ordnernamen und verfügen über zahlreiche Methoden zum Handling, z.B. eine zum Einlesen einer Textdatei:"
   ]
  },
  {
   "cell_type": "code",
   "execution_count": 32,
   "metadata": {
    "slideshow": {
     "slide_type": "-"
    }
   },
   "outputs": [],
   "source": [
    "text = Path('Fontane-Theodor_Effi Briest.txt').read_text(encoding='utf-8')"
   ]
  },
  {
   "cell_type": "markdown",
   "metadata": {
    "slideshow": {
     "slide_type": "-"
    }
   },
   "source": [
    "Erzeugen Sie eine Worthäufigkeitstabelle für 'Effi Briest'. \n",
    "\n",
    "Zerlegen Sie dazu zunächst den Text an Leerraum in Tokens und entfernen Sie von jedem Token noch außen anklebende Satzzeichen (`.,:;»«!?/()`). Recherchieren Sie ggf. benötigte Methoden von `str`. Erzeugen Sie dann eine geeignete Datenstruktur, füllen Sie sie und beantworten Sie mit dem Ergebnis, wie häufig die Wortformen _und_ und _Innstetten_ vorkommen."
   ]
  },
  {
   "cell_type": "markdown",
   "metadata": {},
   "source": [
    "#### Beispiellösung"
   ]
  },
  {
   "cell_type": "code",
   "execution_count": 37,
   "metadata": {},
   "outputs": [
    {
     "name": "stdout",
     "output_type": "stream",
     "text": [
      "3407 und,  251 Innstetten\n"
     ]
    }
   ],
   "source": [
    "from pathlib import Path\n",
    "text = Path('Fontane-Theodor_Effi Briest.txt').read_text(encoding='utf-8')\n",
    "freqs = {}\n",
    "for token in text.split():\n",
    "    cleaned_token = token.strip('.,:;»«!?/()')\n",
    "    if token in freqs:\n",
    "        freqs[token] += 1\n",
    "    else:\n",
    "        freqs[token] = 1\n",
    "        \n",
    "print(freqs['und'], 'und, ', freqs['Innstetten'], 'Innstetten')"
   ]
  },
  {
   "cell_type": "markdown",
   "metadata": {},
   "source": [
    "### Umgang mit Datenstrukturen: Aggregatoren, Comprehensions"
   ]
  },
  {
   "cell_type": "code",
   "execution_count": null,
   "metadata": {},
   "outputs": [],
   "source": []
  },
  {
   "cell_type": "markdown",
   "metadata": {},
   "source": [
    "* Häufige Aufgabe: Transformationen einer Liste etc.\n",
    "* Beispiel: Menge aller Quadratzahlen zu Basen < 100\n",
    "* Schreibweise aus der Mathematik: $Q = \\{ n^2 \\mid n \\in \\mathbb{N} \\}$"
   ]
  },
  {
   "cell_type": "code",
   "execution_count": 38,
   "metadata": {},
   "outputs": [
    {
     "name": "stdout",
     "output_type": "stream",
     "text": [
      "[0, 1, 2, 3, 4, 5, 6, 7, 8, 9, 10, 11, 12, 13, 14, 15, 16, 17, 18, 19, 20, 21, 22, 23, 24, 25, 26, 27, 28, 29, 30, 31, 32, 33, 34, 35, 36, 37, 38, 39, 40, 41, 42, 43, 44, 45, 46, 47, 48, 49, 50, 51, 52, 53, 54, 55, 56, 57, 58, 59, 60, 61, 62, 63, 64, 65, 66, 67, 68, 69, 70, 71, 72, 73, 74, 75, 76, 77, 78, 79, 80, 81, 82, 83, 84, 85, 86, 87, 88, 89, 90, 91, 92, 93, 94, 95, 96, 97, 98, 99]\n"
     ]
    }
   ],
   "source": [
    "zahlen = list(range(100))\n",
    "print(zahlen)"
   ]
  },
  {
   "cell_type": "code",
   "execution_count": 41,
   "metadata": {},
   "outputs": [
    {
     "name": "stdout",
     "output_type": "stream",
     "text": [
      "[0, 1, 4, 9, 16, 25, 36, 49, 64, 81, 100, 121, 144, 169, 196, 225, 256, 289, 324, 361, 400, 441, 484, 529, 576, 625, 676, 729, 784, 841, 900, 961, 1024, 1089, 1156, 1225, 1296, 1369, 1444, 1521, 1600, 1681, 1764, 1849, 1936, 2025, 2116, 2209, 2304, 2401, 2500, 2601, 2704, 2809, 2916, 3025, 3136, 3249, 3364, 3481, 3600, 3721, 3844, 3969, 4096, 4225, 4356, 4489, 4624, 4761, 4900, 5041, 5184, 5329, 5476, 5625, 5776, 5929, 6084, 6241, 6400, 6561, 6724, 6889, 7056, 7225, 7396, 7569, 7744, 7921, 8100, 8281, 8464, 8649, 8836, 9025, 9216, 9409, 9604, 9801]\n"
     ]
    }
   ],
   "source": [
    "quadratzahlen = [n**2 for n in range(100)]\n",
    "print(quadratzahlen)"
   ]
  },
  {
   "cell_type": "markdown",
   "metadata": {},
   "source": [
    "### List Comprehensions\n",
    "\n",
    "> _neue Liste_ = `[` _Ausdruck mit Laufvariable_ `for` _Laufvariable_ `in` _Sequenz_ `]`\n",
    "\n",
    "erzeugt eine neue Liste, bei der jedes Element der ursprünglichen Sequenz entsprechend des Ausdrucks verwandelt wurde.\n",
    "\n",
    "Statt"
   ]
  },
  {
   "cell_type": "code",
   "execution_count": 43,
   "metadata": {},
   "outputs": [],
   "source": [
    "clean_tokens = []\n",
    "for token in text.split():\n",
    "    clean_tokens.append(token.strip('.,:;!?»«()'))"
   ]
  },
  {
   "cell_type": "markdown",
   "metadata": {},
   "source": [
    "in einer Zeile:"
   ]
  },
  {
   "cell_type": "code",
   "execution_count": 45,
   "metadata": {},
   "outputs": [],
   "source": [
    "clean_tokens = [token.strip('.,:;!=«»()') for token in text.split()]"
   ]
  },
  {
   "cell_type": "markdown",
   "metadata": {},
   "source": [
    "### Übung\n",
    "\n",
    "Sei `sentence = 'Dies ist ein schnöder Test'.split()` eine Sequenz von Wörtern. Erzeugen Sie eine Liste der Wortlängen."
   ]
  },
  {
   "cell_type": "markdown",
   "metadata": {},
   "source": [
    "### Filter\n",
    "\n",
    "Mit `if Bedingung` können Sie in einer List Comprehension nur diejenigen Elemente übernehmen, für die die Bedingung gilt. z.B. nur Quadratzahlen von _geraden_ Zahlen:"
   ]
  },
  {
   "cell_type": "code",
   "execution_count": 47,
   "metadata": {},
   "outputs": [
    {
     "name": "stdout",
     "output_type": "stream",
     "text": [
      "[0, 4, 16, 36, 64, 100, 144, 196, 256, 324]\n"
     ]
    }
   ],
   "source": [
    "print([n**2 for n in range(20) if n % 2 == 0])"
   ]
  },
  {
   "cell_type": "markdown",
   "metadata": {},
   "source": [
    "__Aufgabe__ Erzeugen Sie eine Liste aller Tokens in Effi Briest, die einen Bindestrich enthalten."
   ]
  },
  {
   "cell_type": "code",
   "execution_count": 50,
   "metadata": {},
   "outputs": [
    {
     "name": "stdout",
     "output_type": "stream",
     "text": [
      "['Hohen-Cremmen', 'Park-', 'Hohen-Cremmener', 'Heil-', 'zwei-', 'Hohen-Cremmen', 'Hohen-Crem', 'Haus-', 'Familien-Du', 'Pfarr-', 'Ausstattungs-und', 'Wirtschafts-', 'scherz-', 'Alexander-Regiment', 'Hohen-Cremmen', 'Hohen-Cremmen', 'Fritz-Reuter-Passion', '-zu', 'Leinen-', 'Trommel-', 'Respekts-', 'Hohen-Cremmer', 'Strumpfband-Austanzens', 'St.-Privat-Panoramas', 'Klein-Tantow', 'Klein-Tantow', 'See-', 'Maschinen-', 'Hohen-Cremmen', 'St.-Privat-Panorama', 'Wohn-', 'Morgen-', 'Hohen-Cremmen', 'Hohen-Cremmener', 'Hohen-Cremmen', 'zurück-', 'Aus-', 'Vorder-', 'Hohen-Cremmen', 'Morgen-', 'Preziosa-Name', 'Hohen-Cremmen', 'Napoleons-Neffe', 'Umgangs-', 'Tanganjika-See', 'Hohen-Cremmen', 'Hohen-Cremmen', 'Hohen-Cremmner', 'Hohen-Cremmner', 'Baldrian-', 'Sofa-Ehrenplatz', 'Einrichtungs-und', 'Trippelli-Abend', 'Hohen-Cremmen', 'Puls-', 'zwei-', 'Hohen-Cremmen', 'Hohen-Cremmen', 'Alten-Weiber-Unsinn', 'Sich-behaglich-Fühlen', 'Ausrufungs-', 'durch-', 'Hohen-Cremmen', 'Wagner-Schwärmer', 'Trippelli-Abend', 'Hohen-Cremmen', 'Trost-', 'Schwedisch-Pommern', 'Boot-', 'Buchen-', 'Lieb-', 'Hohen-Cremmen', 'Lütt-Annie', 'Klein-Annie', 'Hohen-Cremmen', 'Ressourcen-Hotel', 'Spätnachmittags-Dampfer', 'Hohen-Cremmen', 'Hohen-Cremmen', 'Hohen-Cremmer', 'Hohen-Cremmen', 'Stadt-', 'Hohen-Cremmen', 'Hohen-Cremmen', 'ernst-', 'Lütt-Annie', 'Kriegs-und', 'Hohen-Cremmen', 'Calatrava-Ritter', 'Calatrava-Ritter', 'Calatrava-Ritter', 'Calatrava-Ritter', 'Kriegs-', 'Calatrava-Ritter', 'Calatrava-Ritter', 'Hohen-Cremmen', 'Hohen-Cremmner', 'Nettelbeck-Bild', 'ab-', 'wehmütig-freudig', 'wendisch-heidnischen', 'christlich-germanische', 'Stall-', 'Hohen-Cremmen', 'Kavallerie-Garnison', 'Friedrichstraßen-Bahnhofe', 'Landgrafen-', 'Hohen-Cremmen', 'Hohen-Cremmen', 'ihret-', 'Hohen-Cremmen', 'Korso-Allee', 'Friedrich-Wilhelms-Straße', 'Hohen-Cremmen', 'Kies-', 'Thorwaldsen-Museum', 'Tivoli-Theater', 'Hohen-Cremmen', 'Hohen-Cremmen', 'Alles-wissen-Wollen', 'Hohen-Cremmen', 'Hohen-Cremmen', 'seinet-', 'unbegreiflicher-', 'Hohen-Cremmener', 'Klein-Annie', 'Aussterbe-Etat', 'Hautefinance-Kinder', 'Märchen-', 'Nicht-Schönheit', 'Gesellschafts-Etwas', 'Hohen-Cremmen', 'Hohen-Cremmen', 'drei-', 'Hohen-Cremmen', 'Hohen-Cremmen', 'Sieben-Uhr-Zuge', 'Vorder-', 'Rheumatismus-', 'Prinz-Albrechtschen', 'Keith-', 'Hohen-Cremmen', 'Aus-', 'Seegras-Sofa', 'Donnerstag-Essen', 'Hohen-Cremmen', 'Hohen-Cremmen', 'Aquatinta-Manier', 'Handlungs-', 'Prinz-Albrechtschen', 'Ananas-', 'Hohen-Cremmen', 'Hohen-Cremmen', 'Hohen-Cremmen', 'Preciosa-Spanier', 'Hohen-Cremmen', 'Liebes-und', 'Schwedisch-Pommern', 'Wenden-Lagerplatz', 'Auf-', 'Schlaf-', 'Hohen-Cremmen', 'Hohen-Cremmen', 'Sich-in-Szene-Setzen', 'Im-Urwald-Umherkriechen', 'Raps-']\n"
     ]
    }
   ],
   "source": [
    "print([token for token in clean_tokens if '-' in token])"
   ]
  },
  {
   "cell_type": "markdown",
   "metadata": {},
   "source": [
    "#### List Comprehensions: Mehrere Iterationen\n",
    "\n",
    "Eine List Comprehension kann mehrere for-Klauseln enthalten:"
   ]
  },
  {
   "cell_type": "code",
   "execution_count": 66,
   "metadata": {},
   "outputs": [
    {
     "data": {
      "text/plain": [
       "[5, 4, 3, 3, 4, 4, 3, 6, 3, 5, 3, 6, 3, 10]"
      ]
     },
     "execution_count": 66,
     "metadata": {},
     "output_type": "execute_result"
    }
   ],
   "source": [
    "poem = [\"Meine Ruh' ist hin\",\n",
    "        \"Mein Herz ist schwer\",\n",
    "        \"Ich finde sie nimmer\",\n",
    "        \"Und nimmermehr\"]\n",
    "word_lengths = [len(word) for verse in poem \n",
    "                          for word in verse.split()]\n",
    "word_lengths"
   ]
  },
  {
   "cell_type": "markdown",
   "metadata": {},
   "source": [
    "### Dictionary- und Set Comprehensions\n",
    "\n",
    "Dictionaries und Mengen können analog erzeugt werden:"
   ]
  },
  {
   "cell_type": "code",
   "execution_count": 69,
   "metadata": {},
   "outputs": [
    {
     "data": {
      "text/plain": [
       "{'Ich': 3, 'bin': 3, 'ein': 3, 'Satz': 4}"
      ]
     },
     "execution_count": 69,
     "metadata": {},
     "output_type": "execute_result"
    }
   ],
   "source": [
    "word_lengths = {word: len(word) for word in \"Ich bin ein Satz\".split()}"
   ]
  },
  {
   "cell_type": "code",
   "execution_count": 72,
   "metadata": {},
   "outputs": [],
   "source": [
    "distinct_words = {word.strip('.,:;!?»«()') for word in text.lower().split()}"
   ]
  },
  {
   "cell_type": "markdown",
   "metadata": {},
   "source": [
    "### Funktionen für _Iterables_"
   ]
  },
  {
   "cell_type": "markdown",
   "metadata": {},
   "source": [
    "* Alles, was in einer for-Schleife verwendet werden kann, heißt _Iterable_ (= Listen, Mengen, Tupel, Dictionaries (Keys), …)\n",
    "* Eine Reihe von eingebauten Funktionen können Listen(artiges) zusammenfassen:\n",
    "\n",
    "\n",
    "| Funktion | Beschreibung   |\n",
    "| :------------------------ | :------------------------------------ |\n",
    "| `sum(iterable, start=0)` | Summe, verknüpft die Elemente mit `+`  |\n",
    "| `min(iterable, [default=obj, key=function])` | liefert das kleinste Element |\n",
    "| `max(iterable, [default=obj, key=function])` | liefert das größte Element |\n",
    "| `any(iterable)` | `True` gdw. mindestens ein Element trueish ist |\n",
    "| `all(iterable)` | `True` gdw. alle Elemente trueish sind |\n",
    "\n",
    "* Eine Reihe von eingebauten Funktionen erzeugt neue Listen aus Iterables:\n",
    "\n",
    "| Funktion | Beschreibung |\n",
    "| :------- | :----------  |\n",
    "| `list(iterable)`  | erzeugt eine Liste |\n",
    "| `sorted(iterable, [key=function])` | erzeugt eine sortierte Liste |\n",
    "| `reversed(iterable)` | dreht die Reihenfolge um | "
   ]
  },
  {
   "cell_type": "markdown",
   "metadata": {},
   "source": [
    "### Aufgabe\n",
    "\n",
    "Gegeben sei eine Tabelle mit absoluten Worthäufigkeiten, z.B. `freqs = {\"dies\": 2, \"ist\": 2, \"ein\": 1, \"beispiel\": 2, \"kein\": 1}`. Erzeugen Sie daraus eine Tabelle mit relativen Worthäufigkeiten (also: Welcher Anteil der Wörter im Text ist _dies_?"
   ]
  },
  {
   "cell_type": "code",
   "execution_count": 85,
   "metadata": {},
   "outputs": [
    {
     "name": "stdout",
     "output_type": "stream",
     "text": [
      "{'dies': 0.25, 'ist': 0.25, 'ein': 0.125, 'beispiel': 0.25, 'kein': 0.125}\n"
     ]
    }
   ],
   "source": [
    "freqs = {\"dies\": 2, \"ist\": 2, \"ein\": 1, \"beispiel\": 2, \"kein\": 1}\n",
    "n_words = sum(freqs.values())\n",
    "rel_freqs = {word: freq / n_words for word, freq in freqs.items()}\n",
    "print(rel_freqs)"
   ]
  },
  {
   "cell_type": "markdown",
   "metadata": {},
   "source": [
    "### `collections`-Modul\n",
    "\n",
    "Weitere Datenstrukturen gibt’s im Modul [`collections`](https://docs.python.org/3/library/collections.html)"
   ]
  },
  {
   "cell_type": "code",
   "execution_count": 86,
   "metadata": {},
   "outputs": [],
   "source": [
    "import collections\n",
    "\n",
    "freqs = collections.defaultdict(int)\n",
    "freqs['und'] += 1"
   ]
  },
  {
   "cell_type": "code",
   "execution_count": 87,
   "metadata": {},
   "outputs": [
    {
     "data": {
      "text/plain": [
       "[('to', 2), ('be', 2), ('or', 1), ('not', 1)]"
      ]
     },
     "execution_count": 87,
     "metadata": {},
     "output_type": "execute_result"
    }
   ],
   "source": [
    "from collections import Counter, ChainMap\n",
    "freqs = Counter(\"to be or not to be\".split())\n",
    "freqs.most_common()"
   ]
  }
 ],
 "metadata": {
  "celltoolbar": "Slideshow",
  "kernelspec": {
   "display_name": "py3.8",
   "language": "python",
   "name": "py3.8"
  },
  "language_info": {
   "codemirror_mode": {
    "name": "ipython",
    "version": 3
   },
   "file_extension": ".py",
   "mimetype": "text/x-python",
   "name": "python",
   "nbconvert_exporter": "python",
   "pygments_lexer": "ipython3",
   "version": "3.8.0"
  }
 },
 "nbformat": 4,
 "nbformat_minor": 2
}
