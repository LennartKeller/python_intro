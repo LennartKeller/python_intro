{
 "cells": [
  {
   "cell_type": "markdown",
   "metadata": {
    "slideshow": {
     "slide_type": "slide"
    }
   },
   "source": [
    "# Programmieren mit Python"
   ]
  },
  {
   "cell_type": "markdown",
   "metadata": {
    "slideshow": {
     "slide_type": "slide"
    }
   },
   "source": [
    "## Wiederholung: Reguläre Ausdrücke\n",
    "\n",
    "* Minisprache zur Beschreibung von Klassen von Strings\n",
    "* Suchen, Ersetzen, Informationen extrahieren\n",
    "* Ein **Pattern** **matcht** auf einen String, bzw. auf Teilstrings\n",
    "* Entwickeln z.B. mit [regex101](https://regex101.com/)"
   ]
  },
  {
   "cell_type": "code",
   "execution_count": 1,
   "metadata": {
    "slideshow": {
     "slide_type": "-"
    }
   },
   "outputs": [
    {
     "data": {
      "text/plain": [
       "['10', '12']"
      ]
     },
     "execution_count": 1,
     "metadata": {},
     "output_type": "execute_result"
    }
   ],
   "source": [
    "import re\n",
    "re.findall(\"[0-9]+\", \"Jeden Mittwoch von 10 bis 12 lernen wir Python.\")"
   ]
  },
  {
   "cell_type": "markdown",
   "metadata": {
    "slideshow": {
     "slide_type": "subslide"
    }
   },
   "source": [
    "### Special characters\n",
    "\n",
    "|           |                                                  |\n",
    "| --------- |:------------------------------------------------ |\n",
    "| `\\`       | escape special characters                        |\n",
    "| `.`       | matches any character                            |\n",
    "| `^`       | matches beginning of string                      |\n",
    "| `$`       | matches end of string                            |\n",
    "| `[5b-d]`  | matches any chars '5', 'b', 'c' or 'd'           |\n",
    "| `[^a-c6]` | matches any char except 'a', 'b', 'c' or '6'     |\n",
    "| `R\\|S`    | matches either regex `R` or regex `S`            |\n",
    "| `()`      | creates a capture group and indicates precedence |\n",
    "\n",
    "### Quantifiers\n",
    "\n",
    "|           |                                                     |\n",
    "| --------- |:--------------------------------------------------- |\n",
    "| `*`       | 0 or more (append `?` for non-greedy)               |\n",
    "| `+`       | 1 or more (append `?` for non-greedy)               |\n",
    "| `?`       | 0 or 1 (append `?` for non-greedy)                  |\n",
    "| `{m}`     | exactly `m` occurrences                             |\n",
    "| `{m, n}`  | from `m` to `n`. `m` defaults to 0, `n` to infinity |\n",
    "| `{m, n}?` | from `m` to `n`, as few as possible                 |\n"
   ]
  },
  {
   "cell_type": "markdown",
   "metadata": {},
   "source": [
    "### Special sequences\n",
    "\n",
    "|           RE          | Bedeutung                                                          |\n",
    "| --------------------- |:------------------------------------------------------------------ |\n",
    "| `\\A`                  | start of string                                                    |\n",
    "| `\\b`                  | matches empty string at word boundary (between `\\w` and `\\W`)      |\n",
    "| `\\B`                  | matches empty string not at word boundary                          |\n",
    "| `\\d`                  | digit                                                              |\n",
    "| `\\D`                  | non-digit                                                          |\n",
    "| `\\s`                  | whitespace                                                         |\n",
    "| `\\S`                  | non-whitespace                                                     |\n",
    "| `\\w`                  | alphanumeric: `[0-9a-zA-Z_]` plus other unicode letters and digits |\n",
    "| `\\W`                  | non-alphanumeric                                                   |\n",
    "| `\\Z`                  | end of string                                                      |\n",
    "| \\`\\\\1\\`, \\`\\\\2\\`, ... | matches a previously defined group                                 |\n"
   ]
  },
  {
   "cell_type": "markdown",
   "metadata": {
    "slideshow": {
     "slide_type": "subslide"
    }
   },
   "source": [
    "### Für Fortgeschrittene: Spezielle Sequenzen, siehe Doku\n",
    "\n",
    "|                  |                                                 |\n",
    "| ---------------- |:----------------------------------------------- |\n",
    "| `(?iLmsux)`      | matches empty string, sets re.X flags           |\n",
    "| `(?:...)`        | non-capturing version of regular parentheses    |\n",
    "| `(?P...)`        | matches whatever matched previously named group |\n",
    "| `(?P=)`          | digit                                           |\n",
    "| `(?#...)`        | a comment; ignored                              |\n",
    "| `(?=...)`        | lookahead assertion: matches without consuming  |\n",
    "| `(?!...)`        | negative lookahead assertion                    |\n",
    "| `(?<=...)`       | lookbehind assertion: matches if preceded       |\n",
    "| `(?<!...)`       | negative lookbehind assertion                   |\n",
    "| `(?(id)yes\\|no)` | match 'yes' if group 'id' matched, else 'no'    |\n"
   ]
  },
  {
   "cell_type": "markdown",
   "metadata": {
    "slideshow": {
     "slide_type": "slide"
    }
   },
   "source": [
    "### Reguläre Ausdrücke anwenden (2)\n",
    "\n",
    "![Übersicht über das re-Modul](img/re-uebersicht.svg)"
   ]
  },
  {
   "cell_type": "markdown",
   "metadata": {
    "slideshow": {
     "slide_type": "slide"
    }
   },
   "source": [
    "### Beispiel\n",
    "\n",
    "Datumsangaben (dt.) nach ISO-8601 (d.h. YYYY-MM-DD) konvertieren, z.B. `28.2.1781` oder `1. 12. 2019`"
   ]
  },
  {
   "cell_type": "code",
   "execution_count": 24,
   "metadata": {
    "slideshow": {
     "slide_type": "fragment"
    }
   },
   "outputs": [
    {
     "name": "stdout",
     "output_type": "stream",
     "text": [
      "re.compile('([0123]?\\\\d)\\\\.\\\\s?([01]?\\\\d)\\\\.\\\\s?(\\\\d{1,4})') <class 're.Pattern'>\n"
     ]
    }
   ],
   "source": [
    "import re\n",
    "date_re = re.compile(r'([0123]?\\d)\\.\\s?([01]?\\d)\\.\\s?(\\d{1,4})')\n",
    "print(date_re, type(date_re))"
   ]
  },
  {
   "cell_type": "code",
   "execution_count": 25,
   "metadata": {},
   "outputs": [
    {
     "name": "stdout",
     "output_type": "stream",
     "text": [
      "Help on Pattern object:\n",
      "\n",
      "class Pattern(builtins.object)\n",
      " |  Compiled regular expression object.\n",
      " |  \n",
      " |  Methods defined here:\n",
      " |  \n",
      " |  __copy__(self, /)\n",
      " |  \n",
      " |  __deepcopy__(self, memo, /)\n",
      " |  \n",
      " |  __eq__(self, value, /)\n",
      " |      Return self==value.\n",
      " |  \n",
      " |  __ge__(self, value, /)\n",
      " |      Return self>=value.\n",
      " |  \n",
      " |  __gt__(self, value, /)\n",
      " |      Return self>value.\n",
      " |  \n",
      " |  __hash__(self, /)\n",
      " |      Return hash(self).\n",
      " |  \n",
      " |  __le__(self, value, /)\n",
      " |      Return self<=value.\n",
      " |  \n",
      " |  __lt__(self, value, /)\n",
      " |      Return self<value.\n",
      " |  \n",
      " |  __ne__(self, value, /)\n",
      " |      Return self!=value.\n",
      " |  \n",
      " |  __repr__(self, /)\n",
      " |      Return repr(self).\n",
      " |  \n",
      " |  findall(self, /, string, pos=0, endpos=9223372036854775807)\n",
      " |      Return a list of all non-overlapping matches of pattern in string.\n",
      " |  \n",
      " |  finditer(self, /, string, pos=0, endpos=9223372036854775807)\n",
      " |      Return an iterator over all non-overlapping matches for the RE pattern in string.\n",
      " |      \n",
      " |      For each match, the iterator returns a match object.\n",
      " |  \n",
      " |  fullmatch(self, /, string, pos=0, endpos=9223372036854775807)\n",
      " |      Matches against all of the string.\n",
      " |  \n",
      " |  match(self, /, string, pos=0, endpos=9223372036854775807)\n",
      " |      Matches zero or more characters at the beginning of the string.\n",
      " |  \n",
      " |  scanner(self, /, string, pos=0, endpos=9223372036854775807)\n",
      " |  \n",
      " |  search(self, /, string, pos=0, endpos=9223372036854775807)\n",
      " |      Scan through string looking for a match, and return a corresponding match object instance.\n",
      " |      \n",
      " |      Return None if no position in the string matches.\n",
      " |  \n",
      " |  split(self, /, string, maxsplit=0)\n",
      " |      Split string by the occurrences of pattern.\n",
      " |  \n",
      " |  sub(self, /, repl, string, count=0)\n",
      " |      Return the string obtained by replacing the leftmost non-overlapping occurrences of pattern in string by the replacement repl.\n",
      " |  \n",
      " |  subn(self, /, repl, string, count=0)\n",
      " |      Return the tuple (new_string, number_of_subs_made) found by replacing the leftmost non-overlapping occurrences of pattern with the replacement repl.\n",
      " |  \n",
      " |  ----------------------------------------------------------------------\n",
      " |  Data descriptors defined here:\n",
      " |  \n",
      " |  flags\n",
      " |      The regex matching flags.\n",
      " |  \n",
      " |  groupindex\n",
      " |      A dictionary mapping group names to group numbers.\n",
      " |  \n",
      " |  groups\n",
      " |      The number of capturing groups in the pattern.\n",
      " |  \n",
      " |  pattern\n",
      " |      The pattern string from which the RE object was compiled.\n",
      "\n"
     ]
    }
   ],
   "source": [
    "help(date_re)"
   ]
  },
  {
   "cell_type": "code",
   "execution_count": 10,
   "metadata": {
    "slideshow": {
     "slide_type": "subslide"
    }
   },
   "outputs": [
    {
     "data": {
      "text/plain": [
       "<re.Match object; span=(16, 26), match='03.09.1786'>"
      ]
     },
     "execution_count": 10,
     "metadata": {},
     "output_type": "execute_result"
    }
   ],
   "source": [
    "match = date_re.search(\"*Italienreise → 03.09.1786-18.06.1788 (Unterberger 2002, S. 113)\")\n",
    "match"
   ]
  },
  {
   "cell_type": "code",
   "execution_count": 15,
   "metadata": {
    "slideshow": {
     "slide_type": "fragment"
    }
   },
   "outputs": [
    {
     "data": {
      "text/plain": [
       "('03', '09', '1786')"
      ]
     },
     "execution_count": 15,
     "metadata": {},
     "output_type": "execute_result"
    }
   ],
   "source": [
    "match.groups()"
   ]
  },
  {
   "cell_type": "code",
   "execution_count": 13,
   "metadata": {
    "slideshow": {
     "slide_type": "fragment"
    }
   },
   "outputs": [
    {
     "data": {
      "text/plain": [
       "'1786-09-03'"
      ]
     },
     "execution_count": 13,
     "metadata": {},
     "output_type": "execute_result"
    }
   ],
   "source": [
    "match.expand(r'\\3-\\2-\\1')"
   ]
  },
  {
   "cell_type": "code",
   "execution_count": 21,
   "metadata": {
    "slideshow": {
     "slide_type": "subslide"
    }
   },
   "outputs": [
    {
     "name": "stdout",
     "output_type": "stream",
     "text": [
      "Help on Match object:\n",
      "\n",
      "class Match(builtins.object)\n",
      " |  The result of re.match() and re.search().\n",
      " |  Match objects always have a boolean value of True.\n",
      " |  \n",
      " |  Methods defined here:\n",
      " |  \n",
      " |  __copy__(self, /)\n",
      " |  \n",
      " |  __deepcopy__(self, memo, /)\n",
      " |  \n",
      " |  __getitem__(self, key, /)\n",
      " |      Return self[key].\n",
      " |  \n",
      " |  __repr__(self, /)\n",
      " |      Return repr(self).\n",
      " |  \n",
      " |  end(self, group=0, /)\n",
      " |      Return index of the end of the substring matched by group.\n",
      " |  \n",
      " |  expand(self, /, template)\n",
      " |      Return the string obtained by doing backslash substitution on the string template, as done by the sub() method.\n",
      " |  \n",
      " |  group(...)\n",
      " |      group([group1, ...]) -> str or tuple.\n",
      " |      Return subgroup(s) of the match by indices or names.\n",
      " |      For 0 returns the entire match.\n",
      " |  \n",
      " |  groupdict(self, /, default=None)\n",
      " |      Return a dictionary containing all the named subgroups of the match, keyed by the subgroup name.\n",
      " |      \n",
      " |      default\n",
      " |        Is used for groups that did not participate in the match.\n",
      " |  \n",
      " |  groups(self, /, default=None)\n",
      " |      Return a tuple containing all the subgroups of the match, from 1.\n",
      " |      \n",
      " |      default\n",
      " |        Is used for groups that did not participate in the match.\n",
      " |  \n",
      " |  span(self, group=0, /)\n",
      " |      For match object m, return the 2-tuple (m.start(group), m.end(group)).\n",
      " |  \n",
      " |  start(self, group=0, /)\n",
      " |      Return index of the start of the substring matched by group.\n",
      " |  \n",
      " |  ----------------------------------------------------------------------\n",
      " |  Data descriptors defined here:\n",
      " |  \n",
      " |  endpos\n",
      " |      The index into the string beyond which the RE engine will not go.\n",
      " |  \n",
      " |  lastgroup\n",
      " |      The name of the last matched capturing group.\n",
      " |  \n",
      " |  lastindex\n",
      " |      The integer index of the last matched capturing group.\n",
      " |  \n",
      " |  pos\n",
      " |      The index into the string at which the RE engine started looking for a match.\n",
      " |  \n",
      " |  re\n",
      " |      The regular expression object.\n",
      " |  \n",
      " |  regs\n",
      " |  \n",
      " |  string\n",
      " |      The string passed to match() or search().\n",
      "\n"
     ]
    }
   ],
   "source": [
    "help(match)"
   ]
  },
  {
   "cell_type": "code",
   "execution_count": 22,
   "metadata": {
    "slideshow": {
     "slide_type": "subslide"
    }
   },
   "outputs": [
    {
     "data": {
      "text/plain": [
       "datetime.date(1786, 9, 3)"
      ]
     },
     "execution_count": 22,
     "metadata": {},
     "output_type": "execute_result"
    }
   ],
   "source": [
    "from datetime import date\n",
    "d = date(int(match.group(3)), int(match.group(2)), int(match.group(1)))\n",
    "d"
   ]
  },
  {
   "cell_type": "code",
   "execution_count": 23,
   "metadata": {
    "slideshow": {
     "slide_type": "subslide"
    }
   },
   "outputs": [
    {
     "name": "stdout",
     "output_type": "stream",
     "text": [
      "Help on class date in module datetime:\n",
      "\n",
      "class date(builtins.object)\n",
      " |  date(year, month, day) --> date object\n",
      " |  \n",
      " |  Methods defined here:\n",
      " |  \n",
      " |  __add__(self, value, /)\n",
      " |      Return self+value.\n",
      " |  \n",
      " |  __eq__(self, value, /)\n",
      " |      Return self==value.\n",
      " |  \n",
      " |  __format__(...)\n",
      " |      Formats self with strftime.\n",
      " |  \n",
      " |  __ge__(self, value, /)\n",
      " |      Return self>=value.\n",
      " |  \n",
      " |  __getattribute__(self, name, /)\n",
      " |      Return getattr(self, name).\n",
      " |  \n",
      " |  __gt__(self, value, /)\n",
      " |      Return self>value.\n",
      " |  \n",
      " |  __hash__(self, /)\n",
      " |      Return hash(self).\n",
      " |  \n",
      " |  __le__(self, value, /)\n",
      " |      Return self<=value.\n",
      " |  \n",
      " |  __lt__(self, value, /)\n",
      " |      Return self<value.\n",
      " |  \n",
      " |  __ne__(self, value, /)\n",
      " |      Return self!=value.\n",
      " |  \n",
      " |  __radd__(self, value, /)\n",
      " |      Return value+self.\n",
      " |  \n",
      " |  __reduce__(...)\n",
      " |      __reduce__() -> (cls, state)\n",
      " |  \n",
      " |  __repr__(self, /)\n",
      " |      Return repr(self).\n",
      " |  \n",
      " |  __rsub__(self, value, /)\n",
      " |      Return value-self.\n",
      " |  \n",
      " |  __str__(self, /)\n",
      " |      Return str(self).\n",
      " |  \n",
      " |  __sub__(self, value, /)\n",
      " |      Return self-value.\n",
      " |  \n",
      " |  ctime(...)\n",
      " |      Return ctime() style string.\n",
      " |  \n",
      " |  isocalendar(...)\n",
      " |      Return a 3-tuple containing ISO year, week number, and weekday.\n",
      " |  \n",
      " |  isoformat(...)\n",
      " |      Return string in ISO 8601 format, YYYY-MM-DD.\n",
      " |  \n",
      " |  isoweekday(...)\n",
      " |      Return the day of the week represented by the date.\n",
      " |      Monday == 1 ... Sunday == 7\n",
      " |  \n",
      " |  replace(...)\n",
      " |      Return date with new specified fields.\n",
      " |  \n",
      " |  strftime(...)\n",
      " |      format -> strftime() style string.\n",
      " |  \n",
      " |  timetuple(...)\n",
      " |      Return time tuple, compatible with time.localtime().\n",
      " |  \n",
      " |  toordinal(...)\n",
      " |      Return proleptic Gregorian ordinal.  January 1 of year 1 is day 1.\n",
      " |  \n",
      " |  weekday(...)\n",
      " |      Return the day of the week represented by the date.\n",
      " |      Monday == 0 ... Sunday == 6\n",
      " |  \n",
      " |  ----------------------------------------------------------------------\n",
      " |  Class methods defined here:\n",
      " |  \n",
      " |  fromisoformat(...) from builtins.type\n",
      " |      str -> Construct a date from the output of date.isoformat()\n",
      " |  \n",
      " |  fromordinal(...) from builtins.type\n",
      " |      int -> date corresponding to a proleptic Gregorian ordinal.\n",
      " |  \n",
      " |  fromtimestamp(...) from builtins.type\n",
      " |      timestamp -> local date from a POSIX timestamp (like time.time()).\n",
      " |  \n",
      " |  today(...) from builtins.type\n",
      " |      Current date or datetime:  same as self.__class__.fromtimestamp(time.time()).\n",
      " |  \n",
      " |  ----------------------------------------------------------------------\n",
      " |  Static methods defined here:\n",
      " |  \n",
      " |  __new__(*args, **kwargs) from builtins.type\n",
      " |      Create and return a new object.  See help(type) for accurate signature.\n",
      " |  \n",
      " |  ----------------------------------------------------------------------\n",
      " |  Data descriptors defined here:\n",
      " |  \n",
      " |  day\n",
      " |  \n",
      " |  month\n",
      " |  \n",
      " |  year\n",
      " |  \n",
      " |  ----------------------------------------------------------------------\n",
      " |  Data and other attributes defined here:\n",
      " |  \n",
      " |  max = datetime.date(9999, 12, 31)\n",
      " |  \n",
      " |  min = datetime.date(1, 1, 1)\n",
      " |  \n",
      " |  resolution = datetime.timedelta(days=1)\n",
      "\n"
     ]
    }
   ],
   "source": [
    "help(date)"
   ]
  },
  {
   "cell_type": "markdown",
   "metadata": {},
   "source": [
    "## Objektorientierung im Beispiel\n",
    "\n",
    "* Datentypen: \n",
    "\n",
    "    * `re.Pattern` \n",
    "    \n",
    "        * repräsentiert einen kompilierten regulären Ausdruck\n",
    "        * typische Operationen aus der re-Bibliothek, vgl: \n",
    "        ```python\n",
    "        def findall(pattern, string, flags=0):    \n",
    "            return _compile(pattern, flags).findall(string)\n",
    "         ```\n",
    "\n",
    "    * `re.Match`\n",
    "     \n",
    "         * repräsentiert _einen_ Treffer eines konkreten Ausdrucks in einem String\n",
    "         * Zugriff z.B. auf String, Position des Matches, Gruppen\n",
    "         * Operationen z.B. Extraktion des gematchten Teilstrings & der Teilstrings der Gruppen\n",
    "         \n",
    "    * `datetime.date`\n",
    "    \n",
    "         * repräsentiert ein Datum als Tag/Monat/Jahr\n",
    "         * Operationen: verschiedene Formatierungen, Rechenoperationen, Vergleiche etc."
   ]
  },
  {
   "cell_type": "markdown",
   "metadata": {
    "slideshow": {
     "slide_type": "slide"
    }
   },
   "source": [
    "## Programmieren mit Python\n",
    "# Objektorientiertes Programmieren in Python"
   ]
  },
  {
   "cell_type": "markdown",
   "metadata": {
    "slideshow": {
     "slide_type": "slide"
    }
   },
   "source": [
    "### Objektorientierte Programmierung – Idee und Konzept\n",
    "\n",
    "* zusammengehörige Daten werden in einen gemeinsamen Container zusammengefasst\n",
    "* Operationen auf diesen Daten kommen ebenfalls in diesen Container\n",
    "* Ergebnis: **Objekt**, das seine internen Daten kapselt und Operationen anbietet"
   ]
  },
  {
   "cell_type": "code",
   "execution_count": 26,
   "metadata": {
    "slideshow": {
     "slide_type": "fragment"
    }
   },
   "outputs": [
    {
     "data": {
      "text/plain": [
       "'hallo'"
      ]
     },
     "execution_count": 26,
     "metadata": {},
     "output_type": "execute_result"
    }
   ],
   "source": [
    "\"Hallo\".lower()"
   ]
  },
  {
   "cell_type": "markdown",
   "metadata": {
    "slideshow": {
     "slide_type": "subslide"
    }
   },
   "source": [
    "### Begriffe\n",
    "\n",
    "* **Objekt** oder **Instanz**  (z.B. `\"Hallo\"`)\n",
    "   * in Python ist _alles_ ein Objekt\n",
    "* **Attribute** oder **Eigenschaften** (oder **Felder**)\n",
    "   * Zugriff per `objekt.feld`\n",
    "   * les- und ggf. schreibbar\n",
    "* **Methoden**\n",
    "   * Funktionen, die teil eines Objekts sind und mit dem Objekt arbeiten"
   ]
  },
  {
   "cell_type": "code",
   "execution_count": 27,
   "metadata": {
    "slideshow": {
     "slide_type": "fragment"
    }
   },
   "outputs": [
    {
     "name": "stdout",
     "output_type": "stream",
     "text": [
      "UTF-8\n",
      "Kurzer Roman.\n",
      "Dies ist ein langer Roman. Er beginnt mit dem Auftritt des Heldens. \n",
      "Da es keine Helden gibt, unterbricht hier schon der Leser …\n",
      "\n"
     ]
    }
   ],
   "source": [
    "f = open(\"roman.txt\")\n",
    "print(f.encoding)\n",
    "print(f.read())"
   ]
  },
  {
   "cell_type": "markdown",
   "metadata": {
    "slideshow": {
     "slide_type": "subslide"
    }
   },
   "source": [
    "### Klassen\n",
    "\n",
    "* Der _Datentyp_ eines Objekts ist seine **Klasse**\n",
    "* Klasse = »Bauplan« für die Objekte, definiert die Methoden (und Eigenschaften)"
   ]
  },
  {
   "cell_type": "code",
   "execution_count": 4,
   "metadata": {
    "slideshow": {
     "slide_type": "fragment"
    }
   },
   "outputs": [
    {
     "name": "stdout",
     "output_type": "stream",
     "text": [
      "<class 'str'>\n"
     ]
    }
   ],
   "source": [
    "print(type(\"Hallo\"))"
   ]
  },
  {
   "cell_type": "code",
   "execution_count": 6,
   "metadata": {
    "slideshow": {
     "slide_type": "subslide"
    }
   },
   "outputs": [
    {
     "name": "stdout",
     "output_type": "stream",
     "text": [
      "Max Müller <max.mueller@example.com>\n"
     ]
    }
   ],
   "source": [
    "class Person:\n",
    "    \"\"\"\n",
    "    Eine Person.\n",
    "    \"\"\"\n",
    "    \n",
    "    def __init__(self, name, email):\n",
    "        \"\"\"\n",
    "        Erzeugt eine neue Person.\n",
    "        \"\"\"\n",
    "        self.name = name\n",
    "        self.email = email\n",
    "        \n",
    "    def formattedOutput(self):\n",
    "        \"\"\"\n",
    "        Liefert einen String zurück, der diese Person beschreibt.\n",
    "        \"\"\"\n",
    "        return self.name + ' <' + self.email + '>'\n",
    "    \n",
    "    def describe(self):\n",
    "        \"\"\"\n",
    "        Beschreibt diese Person.\n",
    "        \"\"\"\n",
    "        print(self.formattedOutput())\n",
    "        \n",
    "max = Person(\"Max Müller\", \"max.mueller@example.com\")\n",
    "max.describe()"
   ]
  },
  {
   "cell_type": "code",
   "execution_count": 7,
   "metadata": {
    "slideshow": {
     "slide_type": "fragment"
    }
   },
   "outputs": [
    {
     "name": "stdout",
     "output_type": "stream",
     "text": [
      "Max Müller\n"
     ]
    }
   ],
   "source": [
    "print(max.name)"
   ]
  },
  {
   "cell_type": "code",
   "execution_count": 8,
   "metadata": {
    "slideshow": {
     "slide_type": "fragment"
    }
   },
   "outputs": [
    {
     "name": "stdout",
     "output_type": "stream",
     "text": [
      "<class '__main__.Person'>\n"
     ]
    }
   ],
   "source": [
    "print(type(max))"
   ]
  },
  {
   "cell_type": "markdown",
   "metadata": {
    "slideshow": {
     "slide_type": "subslide"
    }
   },
   "source": [
    "### Klassen im Detail\n",
    "Eine _Klassendefinition_ erzeugt eine Klasse und weist sie einem Klassennamen zu:\n",
    "```\n",
    "class Person:\n",
    "```\n",
    "Dabei entsteht ein Block (durch Einrückung). In diesem Block stehen Eigenschaften (der Klasse! z.B. Docstring) und Methoden.\n",
    "\n",
    "* Per Konvention beginnen Klassennamen mit einem Großbuchstaben (Ausnahme: Altlasten wie list)\n",
    "* Eine Klasse kann als Funktion aufgerufen werden:\n",
    "```\n",
    "max = Person(\"Max Müller\", \"max.mueller@example.com\")\n",
    "```\n",
    "* Dadurch wird ein _Objekt_ dieser Klasse erzeugt, so wie z.B. `list(1, 2, 3)` ein Objekt der Klasse `list` erzeugt\n",
    "* `Person(...)` = __Konstruktoraufruf__\n",
    "* die Argumente werden an die spezielle Methode `__init__` übergeben"
   ]
  },
  {
   "cell_type": "markdown",
   "metadata": {
    "slideshow": {
     "slide_type": "subslide"
    }
   },
   "source": [
    "### Methoden\n",
    "\n",
    "* Eine Funktion, die in einer Klassendefinition erzeugt wird, heißt _Methode_.\n",
    "* Methoden bekommen ein erstes Argument, das immer `self` heißen sollte\n",
    "* darin wird der Methode das Objekt (= die Instanz) übergeben"
   ]
  },
  {
   "cell_type": "code",
   "execution_count": 35,
   "metadata": {
    "slideshow": {
     "slide_type": "fragment"
    }
   },
   "outputs": [
    {
     "name": "stdout",
     "output_type": "stream",
     "text": [
      "<class '__main__.Beispiel'>\n"
     ]
    }
   ],
   "source": [
    "class Beispiel:\n",
    "    def whatami(self):\n",
    "        print(type(self))\n",
    "bsp = Beispiel()\n",
    "bsp.whatami()"
   ]
  },
  {
   "cell_type": "markdown",
   "metadata": {
    "slideshow": {
     "slide_type": "subslide"
    }
   },
   "source": [
    "### Initialisierung\n",
    "* Es gibt Methoden mit Spezialbedeutung: Namenskonvention `__irgendwas__`\n",
    "* Beispiel Initialisierung: `__init__`\n",
    "* Wenn `__init__` definiert es, wird es unmittelbar nach der Instantiierung (= Objekterzeugung) mit den Argumenten des Konstruktoraufrufs aufgerufen.\n",
    "\n",
    "```\n",
    "max = Person(\"Max\", \"max@example.com\")\n",
    "```\n",
    "1. Objekt der Klasse `Person` wird erzeugt\n",
    "2. (implizit) Aufruf der Methode `__init__` der Objektklasse mit den Argumenten `self` (das Objekt), `\"Max\"` und `\"max@example.com\"`\n",
    "3. das erzeugte und initialisierte Objekt wird der Variablen `max` zugewiesen"
   ]
  },
  {
   "cell_type": "markdown",
   "metadata": {
    "slideshow": {
     "slide_type": "subslide"
    }
   },
   "source": [
    "### Attribute\n",
    "\n",
    "* __Attribute__ sind Eigenschaften eines Objekts\n",
    "* Wie Variablen, aber an eine Objektinstanz gekoppelt (in jedem Objekt anders)\n",
    "* Zugriff mit `objekt.attribut`, z.B. `max.name`\n",
    "* Üblicherweise Initialisierung in der `__init__`-Methode\n",
    "\n",
    "```\n",
    "    def __init__(self, name, email):\n",
    "        self.name = name\n",
    "        self.email = email\n",
    "```"
   ]
  },
  {
   "cell_type": "markdown",
   "metadata": {
    "slideshow": {
     "slide_type": "subslide"
    }
   },
   "source": [
    "### Unsere Personklasse (wdh)"
   ]
  },
  {
   "cell_type": "code",
   "execution_count": 6,
   "metadata": {
    "slideshow": {
     "slide_type": "-"
    }
   },
   "outputs": [
    {
     "name": "stdout",
     "output_type": "stream",
     "text": [
      "Max Müller <max.mueller@example.com>\n"
     ]
    }
   ],
   "source": [
    "class Person:\n",
    "    \"\"\"\n",
    "    Eine Person.\n",
    "    \"\"\"\n",
    "    \n",
    "    def __init__(self, name, email):\n",
    "        \"\"\"\n",
    "        Erzeugt eine neue Person.\n",
    "        \"\"\"\n",
    "        self.name = name\n",
    "        self.email = email\n",
    "        \n",
    "    def formattedOutput(self):\n",
    "        \"\"\"\n",
    "        Liefert einen String zurück, der diese Person beschreibt.\n",
    "        \"\"\"\n",
    "        return self.name + ' <' + self.email + '>'\n",
    "    \n",
    "    def describe(self):\n",
    "        \"\"\"\n",
    "        Beschreibt diese Person.\n",
    "        \"\"\"\n",
    "        print(self.formattedOutput())\n",
    "        \n",
    "max = Person(\"Max Müller\", \"max.mueller@example.com\")\n",
    "max.describe()"
   ]
  },
  {
   "cell_type": "code",
   "execution_count": 1,
   "metadata": {
    "slideshow": {
     "slide_type": "slide"
    }
   },
   "outputs": [
    {
     "name": "stdout",
     "output_type": "stream",
     "text": [
      "Max Müller <max.mueller@example.com>\n"
     ]
    }
   ],
   "source": [
    "class Person:\n",
    "    def __init__(self, name, email):\n",
    "        self.name = name\n",
    "        self.email = email        \n",
    "    def formattedOutput(self):\n",
    "        return self.name + ' <' + self.email + '>'\n",
    "    def describe(self):\n",
    "        print(self.formattedOutput())\n",
    "        \n",
    "max = Person(\"Max Müller\", \"max.mueller@example.com\")\n",
    "max.describe()"
   ]
  },
  {
   "cell_type": "markdown",
   "metadata": {
    "slideshow": {
     "slide_type": "fragment"
    }
   },
   "source": [
    "### Aufgaben\n",
    "1. Definieren Sie eine Klasse mit dem Namen `Text`, der beim Aufruf ein String übergeben wird, z.B.:\\\n",
    "`t = Text(\"Dies ist ein kleiner Text. Nicht der Rede wert. Aber immerhin.\")`\n",
    "2. Definieren Sie eine Methode der Klasse, die die Länge des Textes zurückgibt.\n",
    "3. Definieren Sie eine weitere Methode, die die Wörter in Form einer Liste zurückgibt."
   ]
  },
  {
   "cell_type": "code",
   "execution_count": 29,
   "metadata": {
    "slideshow": {
     "slide_type": "subslide"
    }
   },
   "outputs": [
    {
     "name": "stdout",
     "output_type": "stream",
     "text": [
      "Länge: 62\n",
      "Wörter: ['Dies', 'ist', 'ein', 'kleiner', 'Text', 'Nicht', 'der', 'Rede', 'wert', 'Aber', 'immerhin']\n"
     ]
    }
   ],
   "source": [
    "class Text:\n",
    "    def __init__(self, text):\n",
    "        self.text = text\n",
    "    def length(self):\n",
    "        return len(self.text)\n",
    "    def words(self):\n",
    "        return re.findall(r'\\w+', self.text)\n",
    "t = Text(\"Dies ist ein kleiner Text. Nicht der Rede wert. Aber immerhin.\")\n",
    "print(\"Länge:\", t.length())\n",
    "print(\"Wörter:\", t.words())"
   ]
  },
  {
   "cell_type": "markdown",
   "metadata": {
    "slideshow": {
     "slide_type": "skip"
    }
   },
   "source": [
    "### Übungsaufgabe\n",
    "\n",
    "1. Definieren Sie eine Klasse `Obst`. Instanzen dieser Klasse sollen für jede Obstsorte den Namen speichern können sowie in welchen Monaten das Obst in unseren Breiten geerntet werden kann.\n",
    "2. Fügen Sie der Klasse eine Methode `verfuegbar(monat)` hinzu, die als Argument ein Monatskürzel nimmt und zurückgibt, ob die Obstsorte in diesem Monat regional verfügbar ist.\n",
    "3. Erzeugen Sie anhand der folgenden Tabelle ([Quelle: regional-saisonal](http://www.regional-saisonal.de/saisonkalender-obst)) Obst-Instanzen und fragen Sie sie beispielhaft, ob die Sorten im Juni und im August verfügbar sind.\n",
    "<table border=\"1\">\n",
    "\t<tr>\n",
    "\t\t<th class=\"td_zutat\" width=\"38%\">Zutat (Obst)</th>\n",
    "\t\t<th width=\"6%\"><abbr title=\"Januar\">Jan</abbr></th>\n",
    "\t\t<th width=\"6%\"><abbr title=\"Februar\">Feb</abbr></th>\n",
    "\t\t<th width=\"6%\"><abbr title=\"März\">Mär</abbr></th>\n",
    "\t\t<th width=\"6%\"><abbr title=\"April\">Apr</abbr></th>\n",
    "\t\t<th width=\"6%\"><abbr title=\"Mai\">Mai</abbr></th>\n",
    "\t\t<th width=\"6%\"><abbr title=\"Juni\">Jun</abbr></th>\n",
    "\t\t<th width=\"6%\"><abbr title=\"Juli\">Jul</abbr></th>\n",
    "\t\t<th width=\"6%\"><abbr title=\"August\">Aug</abbr></th>\n",
    "\t\t<th width=\"6%\"><abbr title=\"September\">Sep</abbr></th>\n",
    "\t\t<th width=\"6%\"><abbr title=\"Oktober\">Okt</abbr></th>\n",
    "\t\t<th width=\"6%\"><abbr title=\"November\">Nov</abbr></th>\n",
    "\t\t<th width=\"6%\"><abbr title=\"Dezember\">Dez</abbr></th>\n",
    "\t</tr>\t\t\t\t\t\t\t\n",
    "\t<tr>\n",
    "\t\t<td class=\"td_zutat\">Aprikosen</td>\n",
    "\t\t<td>nein</td>\n",
    "\t\t<td>nein</td>\n",
    "\t\t<td>nein</td>\n",
    "\t\t<td>nein</td>\n",
    "\t\t<td>nein</td>\n",
    "\t\t<td>nein</td>\t\t\t\t\t\t\t\t\n",
    "\t\t<td>ja</td>\n",
    "\t\t<td>ja</td>\n",
    "\t\t<td>nein</td>\n",
    "\t\t<td>nein</td>\n",
    "\t\t<td>nein</td>\n",
    "\t\t<td>nein</td>\n",
    "\t</tr>\t\n",
    "\t<tr>\n",
    "\t\t<td class=\"td_zutat\"><a href=\"http://www.regional-saisonal.de/rezept-zutaten/brombeeren\" title=\"zu den Rezepten mit Brombeeren\">Brombeeren</a></td>\n",
    "\t\t<td>nein</td>\n",
    "\t\t<td>nein</td>\n",
    "\t\t<td>nein</td>\n",
    "\t\t<td>nein</td>\n",
    "\t\t<td>nein</td>\n",
    "\t\t<td>nein</td>\n",
    "\t\t<td>ja</td>\t\t\t\t\t\t\t\n",
    "\t\t<td>ja</td>\n",
    "\t\t<td>ja</td>\n",
    "\t\t<td>nein</td>\n",
    "\t\t<td>nein</td>\n",
    "\t\t<td>nein</td>\n",
    "\t</tr>\t\n",
    "\t<tr>\n",
    "\t\t<td class=\"td_zutat\"><a href=\"http://www.regional-saisonal.de/rezept-zutaten/erdbeeren\" title=\"zu den Rezepten mit Erdbeeren\">Erdbeeren</a></td>\n",
    "\t\t<td>nein</td>\n",
    "\t\t<td>nein</td>\n",
    "\t\t<td>nein</td>\n",
    "\t\t<td>nein</td>\n",
    "\t\t<td>ja</td>\t\t\t\t\t\t\t\t\t\t\t\t\t\n",
    "\t\t<td>ja</td>\n",
    "\t\t<td>ja</td>\n",
    "\t\t<td>nein</td>\t\n",
    "\t\t<td>nein</td>\n",
    "\t\t<td>nein</td>\n",
    "\t\t<td>nein</td>\n",
    "\t\t<td>nein</td>\n",
    "\t</tr>\n",
    "</table>\t\t\t\t\t\t"
   ]
  },
  {
   "cell_type": "markdown",
   "metadata": {
    "slideshow": {
     "slide_type": "slide"
    }
   },
   "source": [
    "### Vererbung"
   ]
  },
  {
   "cell_type": "code",
   "execution_count": 16,
   "metadata": {
    "slideshow": {
     "slide_type": "-"
    }
   },
   "outputs": [
    {
     "name": "stdout",
     "output_type": "stream",
     "text": [
      "Max Müller <max.mueller@example.com>\n"
     ]
    }
   ],
   "source": [
    "# zur Erinnerung nochmal die Klasse 'Person':\n",
    "class Person:\n",
    "    \"\"\"\n",
    "    Eine Person.\n",
    "    \"\"\"\n",
    "    \n",
    "    def __init__(self, name, email):\n",
    "        \"\"\"\n",
    "        Erzeugt eine neue Person.\n",
    "        \"\"\"\n",
    "        self.name = name\n",
    "        self.email = email\n",
    "        \n",
    "    def formattedOutput(self):\n",
    "        \"\"\"\n",
    "        Liefert einen String zurück, der diese Person beschreibt.\n",
    "        \"\"\"\n",
    "        return self.name + ' <' + self.email + '>'\n",
    "    \n",
    "    def describe(self):\n",
    "        \"\"\"\n",
    "        Beschreibt diese Person.\n",
    "        \"\"\"\n",
    "        print(self.formattedOutput())\n",
    "        \n",
    "max = Person(\"Max Müller\", \"max.mueller@example.com\")\n",
    "max.describe()"
   ]
  },
  {
   "cell_type": "markdown",
   "metadata": {
    "slideshow": {
     "slide_type": "subslide"
    }
   },
   "source": [
    "### Vererbung\n",
    "\n",
    "Eine Klasse kann eine _Superklasse_ (_Oberklasse_) haben, deren Eigenschaften sie erbt."
   ]
  },
  {
   "cell_type": "code",
   "execution_count": 38,
   "metadata": {
    "slideshow": {
     "slide_type": "fragment"
    }
   },
   "outputs": [],
   "source": [
    "class Student(Person):    # in Klammern: Superklasse\n",
    "    \n",
    "    def __init__(self, name, email, matrikel):\n",
    "        super().__init__(name, email)  # super() -> Oberklasse\n",
    "        self.matrikel = matrikel\n",
    "        \n",
    "    def formattedOutput(self):\n",
    "        return self.name + ' <' + self.email + '> (' + str(self.matrikel) + ')'        "
   ]
  },
  {
   "cell_type": "code",
   "execution_count": 33,
   "metadata": {
    "slideshow": {
     "slide_type": "fragment"
    }
   },
   "outputs": [
    {
     "name": "stdout",
     "output_type": "stream",
     "text": [
      "Moritz Maier <moritz.maier@example.com> (4711)\n"
     ]
    }
   ],
   "source": [
    "moritz = Student(\"Moritz Maier\", \"moritz.maier@example.com\", 4711)\n",
    "moritz.describe()"
   ]
  },
  {
   "cell_type": "code",
   "execution_count": 34,
   "metadata": {
    "slideshow": {
     "slide_type": "fragment"
    }
   },
   "outputs": [
    {
     "name": "stdout",
     "output_type": "stream",
     "text": [
      "Max Müller True False\n",
      "Moritz Maier True True\n"
     ]
    }
   ],
   "source": [
    "for p in max, moritz:\n",
    "    print(p.name, isinstance(p, Person), isinstance(p, Student))"
   ]
  },
  {
   "cell_type": "markdown",
   "metadata": {
    "slideshow": {
     "slide_type": "subslide"
    }
   },
   "source": [
    "### Vererbung im Detail\n",
    "\n",
    "Wird eine Klasse definiert, so kann sie mit einer Oberklasse verknüpft werden, deren Eigenschaften sie _erbt_:\n",
    "\n",
    "```\n",
    "class Student(Person):\n",
    "```\n",
    "definiert die Klasse Student, deren Oberklasse Person ist.\n",
    "\n",
    "* Objekte des Typs `Student` sind _auch_ vom Typ `Person`\n",
    "* Objekte vom Typ `Person` sind aber nicht notwendigerweise vom Typ `Student`\n",
    "* Alle `Student`en haben die Eigenschaften von `Person`en, die `Student`-Klasse kann Attribute und Methoden jedoch überschreiben"
   ]
  },
  {
   "cell_type": "markdown",
   "metadata": {
    "slideshow": {
     "slide_type": "subslide"
    }
   },
   "source": [
    "### Methoden überschreiben\n",
    "* Wird in der Subklasse eine Methode definiert, so wird diese statt die der Oberklasse verwendet\n",
    "* in einer Methode kann mit `super()` auf die Oberklasse zugegriffen werden"
   ]
  },
  {
   "cell_type": "code",
   "execution_count": 17,
   "metadata": {
    "slideshow": {
     "slide_type": "-"
    }
   },
   "outputs": [],
   "source": [
    "class Student(Person):    # in Klammern: Superklasse\n",
    "    \n",
    "    def __init__(self, name, email, matrikel):\n",
    "        super().__init__(name, email)  # super() -> Oberklasse\n",
    "        self.matrikel = matrikel\n"
   ]
  },
  {
   "cell_type": "markdown",
   "metadata": {
    "slideshow": {
     "slide_type": "-"
    }
   },
   "source": [
    "hier wird `__init__` von Person überschrieben und aus der überschreibenden Methode  mithilfe von `super()` aufgerufen"
   ]
  },
  {
   "cell_type": "markdown",
   "metadata": {
    "slideshow": {
     "slide_type": "subslide"
    }
   },
   "source": [
    "### Polymorphie\n",
    "\n",
    "* Ein Objekt einer Subklasse kann wie das der Superklasse verwendet werden, es werden jedoch ggf. die Methoden der Subklasse verwendet.\n",
    "* Beispiel: `Student.formattedOutput` wird aus `Person.describe` aufgerufen ..."
   ]
  },
  {
   "cell_type": "code",
   "execution_count": 18,
   "metadata": {
    "slideshow": {
     "slide_type": "fragment"
    }
   },
   "outputs": [],
   "source": [
    "class Student(Person):    # in Klammern: Superklasse\n",
    "    \n",
    "    def __init__(self, name, email, matrikel):\n",
    "        super().__init__(name, email)  # super() -> Oberklasse\n",
    "        self.matrikel = matrikel\n",
    "        \n",
    "    def formattedOutput(self):\n",
    "        return self.name + ' <' + self.email + '> (' + str(self.matrikel) + ')'        "
   ]
  },
  {
   "cell_type": "code",
   "execution_count": 19,
   "metadata": {
    "slideshow": {
     "slide_type": "fragment"
    }
   },
   "outputs": [
    {
     "name": "stdout",
     "output_type": "stream",
     "text": [
      "Moritz Maier <moritz.maier@example.com> (4711)\n"
     ]
    }
   ],
   "source": [
    "moritz = Student(\"Moritz Maier\", \"moritz.maier@example.com\", 4711)\n",
    "moritz.describe()"
   ]
  },
  {
   "cell_type": "markdown",
   "metadata": {
    "slideshow": {
     "slide_type": "slide"
    }
   },
   "source": [
    "<h3 style=\"color:green;\">Aufgabe</h3>\n",
    "\n",
    "* Erzeugen Sie eine Subklasse `MarkedUpText` zu Ihrer `Text`-Klasse von oben. \n",
    "* Die Subklasse soll Strings mit Tags wie in `\"Dies ist ein <hi rend=\"bold\">wichtiger</bold> Text\"` im Konstruktor akzeptieren\n",
    "* die übrigen Methoden sollen funktionieren wie bei `Text`, aber sich nur auf den reinen Textinhalt ohne Tags beziehen. \n",
    "* Definieren Sie außerdem eine Methode `raw_length()`, die die Länge in Zeichen _mit_ Markup liefert"
   ]
  },
  {
   "cell_type": "code",
   "execution_count": 20,
   "metadata": {
    "slideshow": {
     "slide_type": "fragment"
    }
   },
   "outputs": [],
   "source": [
    "class Student(Person):                 # in Klammern: Superklasse\n",
    "    \n",
    "    def __init__(self, name, email, matrikel):\n",
    "        super().__init__(name, email)  # super() -> Oberklasse\n",
    "        self.matrikel = matrikel\n",
    "        \n",
    "    def formattedOutput(self):\n",
    "        return self.name + ' <' + self.email + '> (' + str(self.matrikel) + ')'        "
   ]
  },
  {
   "cell_type": "code",
   "execution_count": null,
   "metadata": {
    "slideshow": {
     "slide_type": "subslide"
    }
   },
   "outputs": [],
   "source": [
    "import re\n",
    "\n",
    "class MarkedUpText(Text):\n",
    "    \n",
    "    def __init__(self, markedup_text):\n",
    "        self.raw_text = markedup_text\n",
    "        plain_text = re.sub('<[^>]+>', '', markedup_text)\n",
    "        super().__init__(plain_text)\n",
    "    \n",
    "    def raw_length(self):\n",
    "        return len(self.raw_text)"
   ]
  },
  {
   "cell_type": "code",
   "execution_count": null,
   "metadata": {
    "slideshow": {
     "slide_type": "fragment"
    }
   },
   "outputs": [],
   "source": [
    "m = MarkedUpText('Dies ist ein <hi rend=\"bold\">wichtiger</bold> Text')\n",
    "print(m.text, m.length(), m.words(), m.raw_length(), sep=\"; \")"
   ]
  },
  {
   "cell_type": "markdown",
   "metadata": {
    "slideshow": {
     "slide_type": "subslide"
    }
   },
   "source": [
    "### Übungsaufgabe (2)\n",
    "\n",
    "1. Manche Obstsorten sind lagerfähig. Erzeugen Sie eine Subklasse `Lagerobst` zu ihrer Obstklasse, die die Monate, in denen eine Obstsorte aus Lagerbeständen verfügbar ist, als zusätzliches Attribut pflegt. Erzeugen Sie Instanzen für Äpfel (Erntezeit August bis November, lagerfähig Dezember bis Mai) und Birnen (Ernte August bis Oktober, lagerfähig bis Dezember)\n",
    "2. Überschreiben Sie die `verfuegbar`-Methode, sodass sie bei Lagerobst auch in den Lagermonaten `True` zurückgibt\n",
    "3. Fügen Sie dem Lagerobst eine Methode hinzu, mit der zwischen frisch und gelagert verfügbarem Obst unterschieden werden kann. Welche Implementierungsmöglichkeiten sind möglich? Diskutieren Sie Vor- und Nachteile."
   ]
  },
  {
   "cell_type": "code",
   "execution_count": null,
   "metadata": {},
   "outputs": [],
   "source": []
  }
 ],
 "metadata": {
  "celltoolbar": "Slideshow",
  "kernelspec": {
   "display_name": "Python 3",
   "language": "python",
   "name": "python3"
  },
  "language_info": {
   "codemirror_mode": {
    "name": "ipython",
    "version": 3
   },
   "file_extension": ".py",
   "mimetype": "text/x-python",
   "name": "python",
   "nbconvert_exporter": "python",
   "pygments_lexer": "ipython3",
   "version": "3.7.6"
  }
 },
 "nbformat": 4,
 "nbformat_minor": 1
}
