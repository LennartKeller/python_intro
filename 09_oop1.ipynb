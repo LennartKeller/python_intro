{
 "metadata": {
  "celltoolbar": "Slideshow",
  "name": "",
  "signature": "sha256:9a71965a998a63ec395ac6ca65342345ddbab6b1072428e00a40b727d5539c33"
 },
 "nbformat": 3,
 "nbformat_minor": 0,
 "worksheets": [
  {
   "cells": [
    {
     "cell_type": "heading",
     "level": 1,
     "metadata": {
      "slideshow": {
       "slide_type": "slide"
      }
     },
     "source": [
      "Einf\u00fchrung in das Programmieren mit Python"
     ]
    },
    {
     "cell_type": "markdown",
     "metadata": {
      "slideshow": {
       "slide_type": "skip"
      }
     },
     "source": [
      "<h3 style=\"color:green\">Hausaufgabe</h3>\n",
      "\n",
      "Schreiben Sie eine Programm, das rekursiv die Dateigr\u00f6\u00dfe aller Dateien und Unterverzeichnisse eines gegebenen Verzeichnis ermittelt. Hier ein Ausschnitt, wie der Inhalt dieser Datei nach dem Ablauf Ihres Programms aussehen k\u00f6nnte:\n",
      "```\n",
      "        74 pydelta/requirements.txt\n",
      "       691 pydelta/licence.txt\n",
      "     39641 pydelta/delta.py\n",
      "      2320 pydelta/readme.txt\n",
      "     10589 pydelta/docs/conf.py\n",
      "         7 pydelta/docs/.gitignore\n",
      "      6766 pydelta/docs/Makefile\n",
      "      6703 pydelta/docs/make.bat\n",
      "       106 pydelta/docs/delta.rst\n",
      "        56 pydelta/docs/modules.rst\n",
      "       479 pydelta/docs/index.rst\n",
      "     24706 pydelta/docs\n",
      "     67432 pydelta\n",
      "```\n",
      "Ihr Programm sollte:\n",
      "\n",
      "* als Modul einbindbar sein und dort eine Funktion anbieten, der man den Pfad des zu untersuchenden Verzeichnisses/der zu untersuchenden Datei und die Ausgabedatei mitgibt,\n",
      "* wenn es als Hauptprogramm aufgerufen wird, die Analyse des aktuellen Verzeichnisses (`'.'`) auf den Bildschirm schreiben,\n",
      "* und nicht nur unter Windows funktionieren."
     ]
    },
    {
     "cell_type": "markdown",
     "metadata": {
      "slideshow": {
       "slide_type": "skip"
      }
     },
     "source": [
      "### Musterl\u00f6sung"
     ]
    },
    {
     "cell_type": "heading",
     "level": 4,
     "metadata": {
      "slideshow": {
       "slide_type": "skip"
      }
     },
     "source": [
      "Summierungsfunktion: Einfacher Fall (Datei)"
     ]
    },
    {
     "cell_type": "code",
     "collapsed": false,
     "input": [
      "def total_size(path):\n",
      "    \"\"\"\n",
      "    Berechnet die Gesamtgr\u00f6\u00dfe des gegebenen Verzeichnis' oder Datei.\n",
      "    \n",
      "    path   = Pfad zum zu untersuchenden Verzeichnis / Datei\n",
      "    output = offenes Dateiobjekt zum Ausgeben\n",
      "    \"\"\"\n",
      "    if os.path.isdir(path):\n",
      "        pass # TODO\n",
      "    else: # kein Verzeichnis: Datei. Der Fall ist einfach.\n",
      "        size = os.path.getsize(path)\n",
      "        # oder size = os.stat(path).st_size\n",
      "\n",
      "    print(\"{:>10} {}\".format(size, path))  # Gr\u00f6\u00dfe rausschreiben\n",
      "    return size                     # ... und zur\u00fcckgeben."
     ],
     "language": "python",
     "metadata": {
      "slideshow": {
       "slide_type": "skip"
      }
     },
     "outputs": [],
     "prompt_number": 14
    },
    {
     "cell_type": "heading",
     "level": 4,
     "metadata": {
      "slideshow": {
       "slide_type": "skip"
      }
     },
     "source": [
      "Summierungsfunktion: Rekursionsfall (Verzeichnis)"
     ]
    },
    {
     "cell_type": "code",
     "collapsed": false,
     "input": [
      "def total_size(path):\n",
      "    \"\"\"\n",
      "    Berechnet die Gesamtgr\u00f6\u00dfe des gegebenen Verzeichnis' oder Datei.\n",
      "    \n",
      "    path   = Pfad zum zu untersuchenden Verzeichnis / Datei    \n",
      "    R\u00fcckgabewert = Gesamtgr\u00f6\u00dfe von path (int)\n",
      "    \"\"\"\n",
      "    if os.path.isdir(path):\n",
      "        # Rekursionsfall: Die Gr\u00f6\u00dfe eines Verzeichnisses ist die Summe der\n",
      "        # Gr\u00f6\u00dfen aller Inhalte des Verzeichnisses, also ...\n",
      "        size = 0                        # Variable zum Aufsummieren\n",
      "        for name in os.listdir(path):   # Verzeichnis listen\n",
      "            subdir = os.path.join(path, name)   # Pfad zusammenbauen\n",
      "            size += total_size(subdir)  # Eintragsgr\u00f6\u00dfe ermitteln und dazuz\u00e4hlen\n",
      "    else: # kein Verzeichnis: Datei. Der Fall ist einfach.\n",
      "        size = os.path.getsize(path)\n",
      "        # oder size = os.stat(path).st_size\n",
      "\n",
      "    print(\"{:>10} {}\".format(size, path))  # Gr\u00f6\u00dfe rausschreiben\n",
      "    return size                     # ... und zur\u00fcckgeben."
     ],
     "language": "python",
     "metadata": {
      "slideshow": {
       "slide_type": "skip"
      }
     },
     "outputs": [],
     "prompt_number": 22
    },
    {
     "cell_type": "code",
     "collapsed": false,
     "input": [
      "# Wenn als Hauptprogramm aufgerufen, unsere Main-Funktion starten:\n",
      "if __name__ == \"__main__\":\n",
      "    total_size('.')"
     ],
     "language": "python",
     "metadata": {
      "slideshow": {
       "slide_type": "skip"
      }
     },
     "outputs": []
    },
    {
     "cell_type": "markdown",
     "metadata": {
      "slideshow": {
       "slide_type": "skip"
      }
     },
     "source": [
      "### Debugging (Spyder)"
     ]
    },
    {
     "cell_type": "markdown",
     "metadata": {
      "slideshow": {
       "slide_type": "skip"
      }
     },
     "source": [
      "![](images/spyder_debugging.png)"
     ]
    },
    {
     "cell_type": "markdown",
     "metadata": {
      "slideshow": {
       "slide_type": "slide"
      }
     },
     "source": [
      "## Wiederholung: [Regul\u00e4re Ausdr\u00fccke](08_re.slides.html)\n",
      "\n",
      "* Minisprache zur Beschreibung von Klassen von Strings\n",
      "* Suchen, Ersetzen, Informationen extrahieren\n",
      "* Ein **Pattern** **matcht** auf einen String, bzw. auf Teilstrings\n",
      "* Entwickeln z.B. mit [pythex.org](http://pythex.org)"
     ]
    },
    {
     "cell_type": "code",
     "collapsed": false,
     "input": [
      "import re\n",
      "re.findall(\"[0-9]+\", \"Jeden Mittwoch von 10 bis 12 lernen wir Python.\")"
     ],
     "language": "python",
     "metadata": {
      "slideshow": {
       "slide_type": "-"
      }
     },
     "outputs": [
      {
       "metadata": {},
       "output_type": "pyout",
       "prompt_number": 23,
       "text": [
        "['10', '12']"
       ]
      }
     ],
     "prompt_number": 23
    },
    {
     "cell_type": "markdown",
     "metadata": {
      "slideshow": {
       "slide_type": "subslide"
      }
     },
     "source": [
      "<h3>Special characters</h3>\n",
      "<table>\n",
      "    <tbody><tr>\n",
      "            <td class=\"key_td\"><code>\\</code></td>\n",
      "            <td>escape special characters</td>\n",
      "        </tr>\n",
      "        <tr>\n",
      "            <td class=\"key_td\"><code>.</code></td>\n",
      "            <td>matches any character</td>\n",
      "        </tr>\n",
      "        <tr>\n",
      "            <td class=\"key_td\"><code>^</code></td>\n",
      "            <td>matches beginning of string</td>\n",
      "        </tr>\n",
      "        <tr>\n",
      "            <td class=\"key_td\"><code>$</code></td>\n",
      "            <td>matches end of string</td>\n",
      "        </tr>\n",
      "        <tr>\n",
      "            <td class=\"key_td\"><code>[5b-d]</code></td>\n",
      "            <td>matches any chars '5', 'b', 'c' or 'd'</td>\n",
      "        </tr>\n",
      "        <tr>\n",
      "            <td class=\"key_td\"><code>[^a-c6]</code></td>\n",
      "            <td>matches any char except 'a', 'b', 'c' or '6'</td>\n",
      "        </tr>\n",
      "        <tr>\n",
      "            <td class=\"key_td\"><code>R|S</code></td>\n",
      "            <td>matches either regex <code>R</code> or regex <code>S</code></td>\n",
      "        </tr>\n",
      "        <tr>\n",
      "            <td class=\"key_td\"><code>()</code></td>\n",
      "            <td>creates a capture group and indicates precedence</td>\n",
      "        </tr>\n",
      "    </tbody>\n",
      "</table>\n",
      "<h3>Quantifiers</h3>\n",
      "<table>\n",
      "    <tbody><tr>\n",
      "            <td class=\"key_td\"><code>*</code></td>\n",
      "            <td>0 or more (append <code>?</code> for non-greedy)</td>\n",
      "        </tr>\n",
      "        <tr>\n",
      "            <td class=\"key_td\"><code>+</code></td>\n",
      "            <td>1 or more (append <code>?</code> for non-greedy)</td>\n",
      "        </tr>\n",
      "        <tr>\n",
      "            <td class=\"key_td\"><code>?</code></td>\n",
      "            <td>0 or 1 (append <code>?</code> for non-greedy)</td>\n",
      "        </tr>\n",
      "        <tr>\n",
      "            <td class=\"key_td\"><code>{m}</code></td>\n",
      "            <td>exactly <code>m</code> occurrences</td>\n",
      "        </tr>\n",
      "        <tr>\n",
      "            <td class=\"key_td\"><code>{m, n}</code></td>\n",
      "            <td>from <code>m</code> to <code>n</code>. <code>m</code> defaults to 0, <code>n</code> to infinity</td>\n",
      "        </tr>\n",
      "        <tr>\n",
      "            <td class=\"key_td\"><code>{m, n}?</code></td>\n",
      "            <td>from <code>m</code> to <code>n</code>, as few as possible</td>\n",
      "        </tr>\n",
      "    </tbody>\n",
      "</table>\n"
     ]
    },
    {
     "cell_type": "markdown",
     "metadata": {
      "slideshow": {
       "slide_type": "subslide"
      }
     },
     "source": [
      "<h3>Special sequences</h3>\n",
      "<table>\n",
      "    <tbody><tr>\n",
      "            <td class=\"key_td\"><code>\\A</code></td>\n",
      "            <td>start of string</td>\n",
      "        </tr>\n",
      "        <tr>\n",
      "            <td class=\"key_td\"><code>\\b</code></td>\n",
      "            <td>matches empty string at word boundary (between <code>\\w</code> and <code>\\W</code>)</td>\n",
      "        </tr>\n",
      "        <tr>\n",
      "            <td class=\"key_td\"><code>\\B</code></td>\n",
      "            <td>matches empty string not at word boundary</td>\n",
      "        </tr>\n",
      "        <tr>\n",
      "            <td class=\"key_td\"><code>\\d</code></td>\n",
      "            <td>digit</td>\n",
      "        </tr>\n",
      "        <tr>\n",
      "            <td class=\"key_td\"><code>\\D</code></td>\n",
      "            <td>non-digit</td>\n",
      "        </tr>\n",
      "        <tr>\n",
      "            <td class=\"key_td\"><code>\\s</code></td>\n",
      "            <td>whitespace: <code>[ \\t\\n\\r\\f\\v]</code></td>\n",
      "        </tr>\n",
      "        <tr>\n",
      "            <td class=\"key_td\"><code>\\S</code></td>\n",
      "            <td>non-whitespace</td>\n",
      "        </tr>\n",
      "        <tr>\n",
      "            <td class=\"key_td\"><code>\\w</code></td>\n",
      "            <td>alphanumeric: <code>[0-9a-zA-Z_]</code></td>\n",
      "        </tr>\n",
      "        <tr>\n",
      "            <td class=\"key_td\"><code>\\W</code></td>\n",
      "            <td>non-alphanumeric</td>\n",
      "        </tr>\n",
      "        <tr>\n",
      "            <td class=\"key_td\"><code>\\Z</code></td>\n",
      "            <td>end of string</td>\n",
      "        </tr>\n",
      "        <tr>\n",
      "            <td class=\"key_td\">`\\1`, `\\2`, ...</td>\n",
      "            <td>matches a previously defined group</td>\n",
      "        </tr>\n",
      "    </tbody>\n",
      "</table>\n",
      "<h3>F\u00fcr Fortgeschrittene: Spezielle Sequenzen, siehe Doku</h3>\n",
      "<table>\n",
      "    <tbody><tr>\n",
      "            <td class=\"key_td\"><code>(?iLmsux)</code></td>\n",
      "            <td>matches empty string, sets re.X flags</td>\n",
      "        </tr>\n",
      "        <tr>\n",
      "            <td class=\"key_td\"><code>(?:...)</code></td>\n",
      "            <td>non-capturing version of regular parentheses</td>\n",
      "        </tr>\n",
      "        <tr>\n",
      "            <td class=\"key_td\"><code>(?P<name>...)</name></code></td>\n",
      "            <td>matches whatever matched previously named group</td>\n",
      "        </tr>\n",
      "        <tr>\n",
      "            <td class=\"key_td\"><code>(?P=<name>)</name></code></td>\n",
      "            <td>digit</td>\n",
      "        </tr>\n",
      "        <tr>\n",
      "            <td class=\"key_td\"><code>(?#...)</code></td>\n",
      "            <td>a comment; ignored</td>\n",
      "        </tr>\n",
      "        <tr>\n",
      "            <td class=\"key_td\"><code>(?=...)</code></td>\n",
      "            <td>lookahead assertion: matches without consuming</td>\n",
      "        </tr>\n",
      "        <tr>\n",
      "            <td class=\"key_td\"><code>(?!...)</code></td>\n",
      "            <td>negative lookahead assertion</td>\n",
      "        </tr>\n",
      "        <tr>\n",
      "            <td class=\"key_td\"><code>(?&lt;=...)</code></td>\n",
      "            <td>lookbehind assertion: matches if preceded</td>\n",
      "        </tr>\n",
      "        <tr>\n",
      "            <td class=\"key_td\"><code>(?&lt;!...)</code></td>\n",
      "            <td>negative lookbehind assertion</td>\n",
      "        </tr>\n",
      "        <tr>\n",
      "            <td class=\"key_td\"><code>(?(id)yes|no)</code></td>\n",
      "            <td>match 'yes' if group 'id' matched, else 'no'</td></tr></tbody>\n",
      "</table>\n"
     ]
    },
    {
     "cell_type": "markdown",
     "metadata": {
      "slideshow": {
       "slide_type": "slide"
      }
     },
     "source": [
      "### Regul\u00e4re Ausdr\u00fccke anwenden (2)\n",
      "\n",
      "![\u00dcbersicht \u00fcber das re-Modul](images/re-uebersicht.svg)"
     ]
    },
    {
     "cell_type": "markdown",
     "metadata": {
      "slideshow": {
       "slide_type": "skip"
      }
     },
     "source": [
      "### Aufgabe\n",
      "\n",
      "Schreiben Sie einen einfachen Tokenizer: Der Tokenizer soll eine Textdatei zeilenweise einlesen und jede Zeile in Tokens (W\u00f6rter und Zahlen) zerlegen. Ihr Tokenizer soll als Funktion aufrufbar sein und eine lange Sequenz / Liste mit allen Tokens aus der Datei zur\u00fcckgeben. Alle Tokens sollen in Kleinbuchstaben normalisiert werden."
     ]
    },
    {
     "cell_type": "code",
     "collapsed": false,
     "input": [
      "import re\n",
      "\n",
      "def tokenize(filename):\n",
      "    tokens = []\n",
      "    \n",
      "    with open(filename, \"rt\", encoding=\"utf-8\") as file:\n",
      "        for line in file:\n",
      "            for token in re.findall(\"\\w+\", line):\n",
      "                tokens.append(token.lower())\n",
      "    \n",
      "    return tokens\n",
      "\n",
      "print(tokenize(\"roman.txt\"))"
     ],
     "language": "python",
     "metadata": {
      "slideshow": {
       "slide_type": "skip"
      }
     },
     "outputs": [
      {
       "output_type": "stream",
       "stream": "stdout",
       "text": [
        "['kurzer', 'roman', 'dies', 'ist', 'ein', 'langer', 'roman', 'er', 'beginnt', 'mit', 'dem', 'auftritt', 'des', 'heldens', 'da', 'es', 'keine', 'helden', 'gibt', 'unterbricht', 'hier', 'schon', 'der', 'leser']\n"
       ]
      }
     ],
     "prompt_number": 24
    },
    {
     "cell_type": "markdown",
     "metadata": {
      "slideshow": {
       "slide_type": "skip"
      }
     },
     "source": [
      "### \u00dcbungsufgabe\n",
      "\n",
      "Schreiben Sie ein Programm, das mithilfe von regul\u00e4ren Ausdr\u00fccken aus einer XML-Datei s\u00e4mtliches Markup entfernt und lediglich den Textinhalt in eine neue Datei schreibt. Verwenden Sie eine TEI-Datei von [textgridrep.de](http://textgridrep.de) als Testfall."
     ]
    },
    {
     "cell_type": "markdown",
     "metadata": {
      "slideshow": {
       "slide_type": "slide"
      }
     },
     "source": [
      "## Einf\u00fchrung in das Programmieren mit Python\n",
      "# Objektorientiertes Programmieren in Python"
     ]
    },
    {
     "cell_type": "markdown",
     "metadata": {
      "slideshow": {
       "slide_type": "slide"
      }
     },
     "source": [
      "### Objektorientierte Programmierung \u2013 Idee und Konzept\n",
      "\n",
      "* zusammengeh\u00f6rige Daten werden in einen gemeinsamen Container zusammengefasst\n",
      "* Operationen auf diesen Daten kommen ebenfalls in diesen Container\n",
      "* Ergebnis: **Objekt**, das seine internen Daten kapselt und Operationen anbietet"
     ]
    },
    {
     "cell_type": "code",
     "collapsed": false,
     "input": [
      "\"Hallo\".lower()"
     ],
     "language": "python",
     "metadata": {
      "slideshow": {
       "slide_type": "fragment"
      }
     },
     "outputs": [
      {
       "metadata": {},
       "output_type": "pyout",
       "prompt_number": 27,
       "text": [
        "'hallo'"
       ]
      }
     ],
     "prompt_number": 27
    },
    {
     "cell_type": "markdown",
     "metadata": {
      "slideshow": {
       "slide_type": "subslide"
      }
     },
     "source": [
      "### Begriffe\n",
      "\n",
      "* **Objekt** oder **Instanz**  (z.B. `\"Hallo\"`)\n",
      "   * in Python ist _alles_ ein Objekt\n",
      "* **Attribute** oder **Eigenschaften** (oder **Felder**)\n",
      "   * Zugriff per `objekt.feld`\n",
      "   * les- und ggf. schreibbar\n",
      "* **Methoden**\n",
      "   * Funktionen, die teil eines Objekts sind und mit dem Objekt arbeiten"
     ]
    },
    {
     "cell_type": "code",
     "collapsed": false,
     "input": [
      "f = open(\"roman.txt\")\n",
      "print(f.encoding)\n",
      "print(f.read())"
     ],
     "language": "python",
     "metadata": {
      "slideshow": {
       "slide_type": "fragment"
      }
     },
     "outputs": [
      {
       "output_type": "stream",
       "stream": "stdout",
       "text": [
        "UTF-8\n",
        "Kurzer Roman.\n",
        "Dies ist ein langer Roman. Er beginnt mit dem Auftritt des Heldens. \n",
        "Da es keine Helden gibt, unterbricht hier schon der Leser \u2026\n",
        "\n"
       ]
      }
     ],
     "prompt_number": 2
    },
    {
     "cell_type": "markdown",
     "metadata": {
      "slideshow": {
       "slide_type": "subslide"
      }
     },
     "source": [
      "### Klassen\n",
      "\n",
      "* Der _Datentyp_ eines Objekts ist seine **Klasse**\n",
      "* Klasse = \u00bbBauplan\u00ab f\u00fcr die Objekte, definiert die Methoden (und Eigenschaften)"
     ]
    },
    {
     "cell_type": "code",
     "collapsed": false,
     "input": [
      "print(type(\"Hallo\"))"
     ],
     "language": "python",
     "metadata": {
      "slideshow": {
       "slide_type": "fragment"
      }
     },
     "outputs": [
      {
       "output_type": "stream",
       "stream": "stdout",
       "text": [
        "<class 'str'>\n"
       ]
      }
     ],
     "prompt_number": 4
    },
    {
     "cell_type": "code",
     "collapsed": false,
     "input": [
      "class Person:\n",
      "    \"\"\"\n",
      "    Eine Person.\n",
      "    \"\"\"\n",
      "    \n",
      "    def __init__(self, name, email):\n",
      "        \"\"\"\n",
      "        Erzeugt eine neue Person.\n",
      "        \"\"\"\n",
      "        self.name = name\n",
      "        self.email = email\n",
      "        \n",
      "    def formattedOutput(self):\n",
      "        \"\"\"\n",
      "        Liefert einen String zur\u00fcck, der diese Person beschreibt.\n",
      "        \"\"\"\n",
      "        return self.name + ' <' + self.email + '>'\n",
      "    \n",
      "    def describe(self):\n",
      "        \"\"\"\n",
      "        Beschreibt diese Person.\n",
      "        \"\"\"\n",
      "        print(self.formattedOutput())\n",
      "        \n",
      "max = Person(\"Max M\u00fcller\", \"max.mueller@example.com\")\n",
      "max.describe()"
     ],
     "language": "python",
     "metadata": {
      "slideshow": {
       "slide_type": "subslide"
      }
     },
     "outputs": [
      {
       "output_type": "stream",
       "stream": "stdout",
       "text": [
        "Max M\u00fcller <max.mueller@example.com>\n"
       ]
      }
     ],
     "prompt_number": 6
    },
    {
     "cell_type": "code",
     "collapsed": false,
     "input": [
      "print(max.name)"
     ],
     "language": "python",
     "metadata": {
      "slideshow": {
       "slide_type": "fragment"
      }
     },
     "outputs": [
      {
       "output_type": "stream",
       "stream": "stdout",
       "text": [
        "Max M\u00fcller\n"
       ]
      }
     ],
     "prompt_number": 7
    },
    {
     "cell_type": "code",
     "collapsed": false,
     "input": [
      "print(type(max))"
     ],
     "language": "python",
     "metadata": {
      "slideshow": {
       "slide_type": "fragment"
      }
     },
     "outputs": [
      {
       "output_type": "stream",
       "stream": "stdout",
       "text": [
        "<class '__main__.Person'>\n"
       ]
      }
     ],
     "prompt_number": 8
    },
    {
     "cell_type": "markdown",
     "metadata": {
      "slideshow": {
       "slide_type": "subslide"
      }
     },
     "source": [
      "### Klassen im Detail\n",
      "Eine _Klassendefinition_ erzeugt eine Klasse und weist sie einem Klassennamen zu:\n",
      "```\n",
      "class Person:\n",
      "```\n",
      "Dabei entsteht ein Block (durch Einr\u00fcckung). In diesem Block stehen Eigenschaften (der Klasse! z.B. Docstring) und Methoden.\n",
      "\n",
      "* Per Konvention beginnen Klassennamen mit einem Gro\u00dfbuchstaben\n",
      "* Eine Klasse kann als Funktion aufgerufen werden:\n",
      "```\n",
      "max = Person(\"Max M\u00fcller\", \"max.mueller@example.com\")\n",
      "```\n",
      "* Dadurch wird ein _Objekt_ dieser Klasse erzeugt, so wie z.B. `list(1, 2, 3)` ein Objekt der Klasse `list` erzeugt\n",
      "* `Person(...)` = __Konstruktoraufruf__\n",
      "* die Argumente werden an die spezielle Methode `__init__` \u00fcbergeben"
     ]
    },
    {
     "cell_type": "markdown",
     "metadata": {
      "slideshow": {
       "slide_type": "subslide"
      }
     },
     "source": [
      "### Methoden\n",
      "\n",
      "* Eine Funktion, die in einer Klassendefinition erzeugt wird, hei\u00dft _Methode_.\n",
      "* Methoden bekommen ein erstes Argument, das immer `self` hei\u00dfen sollte\n",
      "* darin wird der Methode das Objekt (= die Instanz) \u00fcbergeben"
     ]
    },
    {
     "cell_type": "code",
     "collapsed": false,
     "input": [
      "class Beispiel:\n",
      "    def whatami(self):\n",
      "        print(type(self))\n",
      "bsp = Beispiel()\n",
      "bsp.whatami()"
     ],
     "language": "python",
     "metadata": {
      "slideshow": {
       "slide_type": "fragment"
      }
     },
     "outputs": [
      {
       "output_type": "stream",
       "stream": "stdout",
       "text": [
        "<class '__main__.Beispiel'>\n"
       ]
      }
     ],
     "prompt_number": 35
    },
    {
     "cell_type": "markdown",
     "metadata": {
      "slideshow": {
       "slide_type": "subslide"
      }
     },
     "source": [
      "### Initialisierung\n",
      "* Es gibt Methoden mit Spezialbedeutung: Namenskonvention `__irgendwas__`\n",
      "* Beispiel Initialisierung: `__init__`\n",
      "* Wenn `__init__` definiert es, wird es unmittelbar nach der Instantiierung (= Objekterzeugung) mit den Argumenten des Konstruktoraufrufs aufgerufen.\n",
      "\n",
      "```\n",
      "max = Person(\"Max\", \"max@example.com\")\n",
      "```\n",
      "1. Objekt der Klasse `Person` wird erzeugt\n",
      "2. (implizit) Aufruf der Methode `__init__` der Objektklasse mit den Argumenten `self` (das Objekt), `\"Max\"` und `\"max@example.com\"`\n",
      "3. das erzeugte und initialisierte Objekt wird der Variablen `max` zugewiesen"
     ]
    },
    {
     "cell_type": "markdown",
     "metadata": {
      "slideshow": {
       "slide_type": "subslide"
      }
     },
     "source": [
      "### Attribute\n",
      "\n",
      "* __Attribute__ sind Eigenschaften eines Objekts\n",
      "* Wie Variablen, aber an eine Objektinstanz gekoppelt (in jedem Objekt anders)\n",
      "* Zugriff mit `objekt.attribut`, z.B. `max.name`\n",
      "* \u00dcblicherweise Initialisierung in der `__init__`-Methode\n",
      "\n",
      "```\n",
      "    def __init__(self, name, email):\n",
      "        self.name = name\n",
      "        self.email = email\n",
      "```"
     ]
    },
    {
     "cell_type": "heading",
     "level": 3,
     "metadata": {
      "slideshow": {
       "slide_type": "subslide"
      }
     },
     "source": [
      "Unsere Personklasse (wdh)"
     ]
    },
    {
     "cell_type": "code",
     "collapsed": false,
     "input": [
      "class Person:\n",
      "    \"\"\"\n",
      "    Eine Person.\n",
      "    \"\"\"\n",
      "    \n",
      "    def __init__(self, name, email):\n",
      "        \"\"\"\n",
      "        Erzeugt eine neue Person.\n",
      "        \"\"\"\n",
      "        self.name = name\n",
      "        self.email = email\n",
      "        \n",
      "    def formattedOutput(self):\n",
      "        \"\"\"\n",
      "        Liefert einen String zur\u00fcck, der diese Person beschreibt.\n",
      "        \"\"\"\n",
      "        return self.name + ' <' + self.email + '>'\n",
      "    \n",
      "    def describe(self):\n",
      "        \"\"\"\n",
      "        Beschreibt diese Person.\n",
      "        \"\"\"\n",
      "        print(self.formattedOutput())\n",
      "        \n",
      "max = Person(\"Max M\u00fcller\", \"max.mueller@example.com\")\n",
      "max.describe()"
     ],
     "language": "python",
     "metadata": {
      "slideshow": {
       "slide_type": "-"
      }
     },
     "outputs": [
      {
       "output_type": "stream",
       "stream": "stdout",
       "text": [
        "Max M\u00fcller <max.mueller@example.com>\n"
       ]
      }
     ],
     "prompt_number": 6
    },
    {
     "cell_type": "code",
     "collapsed": false,
     "input": [
      "class Person:\n",
      "    def __init__(self, name, email):\n",
      "        self.name = name\n",
      "        self.email = email        \n",
      "    def formattedOutput(self):\n",
      "        return self.name + ' <' + self.email + '>'\n",
      "    def describe(self):\n",
      "        print(self.formattedOutput())\n",
      "        \n",
      "max = Person(\"Max M\u00fcller\", \"max.mueller@example.com\")\n",
      "max.describe()"
     ],
     "language": "python",
     "metadata": {
      "slideshow": {
       "slide_type": "slide"
      }
     },
     "outputs": [
      {
       "output_type": "stream",
       "stream": "stdout",
       "text": [
        "Max M\u00fcller <max.mueller@example.com>\n"
       ]
      }
     ],
     "prompt_number": 1
    },
    {
     "cell_type": "markdown",
     "metadata": {
      "slideshow": {
       "slide_type": "fragment"
      }
     },
     "source": [
      "<h3 style=\"color:green\">Aufgaben</h3>\n",
      "1. Definieren Sie eine Klasse mit dem Namen `Text`, der beim Aufruf ein String \u00fcbergeben wird, z.B.:<br/>\n",
      "`t = Text(\"Dies ist ein kleiner Text. Nicht der Rede wert. Aber immerhin.\")`\n",
      "2. Definieren Sie eine Methode der Klasse, die die L\u00e4nge des Textes zur\u00fcckgibt.\n",
      "3. Definieren Sie eine weitere Methode, die die W\u00f6rter in Form einer Liste zur\u00fcckgibt."
     ]
    },
    {
     "cell_type": "code",
     "collapsed": false,
     "input": [
      "class Text:\n",
      "    def __init__(self, text):\n",
      "        self.text = text\n",
      "    def length(self):\n",
      "        return len(self.text)\n",
      "    def words(self):\n",
      "        return self.text.split()\n",
      "t = Text(\"Dies ist ein kleiner Text. Nicht der Rede wert. Aber immerhin.\")\n",
      "print(\"L\u00e4nge:\", t.length())\n",
      "print(\"W\u00f6rter:\", t.words())"
     ],
     "language": "python",
     "metadata": {
      "slideshow": {
       "slide_type": "subslide"
      }
     },
     "outputs": [
      {
       "output_type": "stream",
       "stream": "stdout",
       "text": [
        "L\u00e4nge: 62\n",
        "W\u00f6rter: ['Dies', 'ist', 'ein', 'kleiner', 'Text.', 'Nicht', 'der', 'Rede', 'wert.', 'Aber', 'immerhin.']\n"
       ]
      }
     ],
     "prompt_number": 2
    },
    {
     "cell_type": "markdown",
     "metadata": {
      "slideshow": {
       "slide_type": "slide"
      }
     },
     "source": [
      "<h3 style='color: green'>\u00dcbungsaufgabe</h3>\n",
      "\n",
      "1. Definieren Sie eine Klasse `Obst`. Instanzen dieser Klasse sollen f\u00fcr jede Obstsorte den Namen speichern k\u00f6nnen sowie in welchen Monaten das Obst in unseren Breiten geerntet werden kann.\n",
      "2. F\u00fcgen Sie der Klasse eine Methode `verfuegbar(monat)` hinzu, die als Argument ein Monatsk\u00fcrzel nimmt und zur\u00fcckgibt, ob die Obstsorte in diesem Monat regional verf\u00fcgbar ist.\n",
      "3. Erzeugen Sie anhand der folgenden Tabelle ([Quelle: regional-saisonal](http://www.regional-saisonal.de/saisonkalender-obst)) Obst-Instanzen und fragen Sie sie beispielhaft, ob die Sorten im Juni und im August verf\u00fcgbar sind.\n",
      "<table border=\"1\">\n",
      "\t<tr>\n",
      "\t\t<th class=\"td_zutat\" width=\"38%\">Zutat (Obst)</th>\n",
      "\t\t<th width=\"6%\"><abbr title=\"Januar\">Jan</abbr></th>\n",
      "\t\t<th width=\"6%\"><abbr title=\"Februar\">Feb</abbr></th>\n",
      "\t\t<th width=\"6%\"><abbr title=\"M\u00e4rz\">M\u00e4r</abbr></th>\n",
      "\t\t<th width=\"6%\"><abbr title=\"April\">Apr</abbr></th>\n",
      "\t\t<th width=\"6%\"><abbr title=\"Mai\">Mai</abbr></th>\n",
      "\t\t<th width=\"6%\"><abbr title=\"Juni\">Jun</abbr></th>\n",
      "\t\t<th width=\"6%\"><abbr title=\"Juli\">Jul</abbr></th>\n",
      "\t\t<th width=\"6%\"><abbr title=\"August\">Aug</abbr></th>\n",
      "\t\t<th width=\"6%\"><abbr title=\"September\">Sep</abbr></th>\n",
      "\t\t<th width=\"6%\"><abbr title=\"Oktober\">Okt</abbr></th>\n",
      "\t\t<th width=\"6%\"><abbr title=\"November\">Nov</abbr></th>\n",
      "\t\t<th width=\"6%\"><abbr title=\"Dezember\">Dez</abbr></th>\n",
      "\t</tr>\t\t\t\t\t\t\t\n",
      "\t<tr>\n",
      "\t\t<td class=\"td_zutat\">Aprikosen</td>\n",
      "\t\t<td>nein</td>\n",
      "\t\t<td>nein</td>\n",
      "\t\t<td>nein</td>\n",
      "\t\t<td>nein</td>\n",
      "\t\t<td>nein</td>\n",
      "\t\t<td>nein</td>\t\t\t\t\t\t\t\t\n",
      "\t\t<td>ja</td>\n",
      "\t\t<td>ja</td>\n",
      "\t\t<td>nein</td>\n",
      "\t\t<td>nein</td>\n",
      "\t\t<td>nein</td>\n",
      "\t\t<td>nein</td>\n",
      "\t</tr>\t\n",
      "\t<tr>\n",
      "\t\t<td class=\"td_zutat\"><a href=\"http://www.regional-saisonal.de/rezept-zutaten/brombeeren\" title=\"zu den Rezepten mit Brombeeren\">Brombeeren</a></td>\n",
      "\t\t<td>nein</td>\n",
      "\t\t<td>nein</td>\n",
      "\t\t<td>nein</td>\n",
      "\t\t<td>nein</td>\n",
      "\t\t<td>nein</td>\n",
      "\t\t<td>nein</td>\n",
      "\t\t<td>ja</td>\t\t\t\t\t\t\t\n",
      "\t\t<td>ja</td>\n",
      "\t\t<td>ja</td>\n",
      "\t\t<td>nein</td>\n",
      "\t\t<td>nein</td>\n",
      "\t\t<td>nein</td>\n",
      "\t</tr>\t\n",
      "\t<tr>\n",
      "\t\t<td class=\"td_zutat\"><a href=\"http://www.regional-saisonal.de/rezept-zutaten/erdbeeren\" title=\"zu den Rezepten mit Erdbeeren\">Erdbeeren</a></td>\n",
      "\t\t<td>nein</td>\n",
      "\t\t<td>nein</td>\n",
      "\t\t<td>nein</td>\n",
      "\t\t<td>nein</td>\n",
      "\t\t<td>ja</td>\t\t\t\t\t\t\t\t\t\t\t\t\t\n",
      "\t\t<td>ja</td>\n",
      "\t\t<td>ja</td>\n",
      "\t\t<td>nein</td>\t\n",
      "\t\t<td>nein</td>\n",
      "\t\t<td>nein</td>\n",
      "\t\t<td>nein</td>\n",
      "\t\t<td>nein</td>\n",
      "\t</tr>\n",
      "</table>\t\t\t\t\t\t"
     ]
    },
    {
     "cell_type": "code",
     "collapsed": false,
     "input": [
      "class Obst:\n",
      "    \n",
      "    def __init__(self, name, erntemonate):\n",
      "        \"\"\"\n",
      "        Erzeugt eine neue Obstsorte `name`. `erntemonate` ist eine Liste der Monate \u00e0 la ['Jan', 'Feb'], \n",
      "        die die Erntezeit repr\u00e4sentiert.\n",
      "        \"\"\"\n",
      "        self.name = name\n",
      "        self.erntemonate = erntemonate\n",
      "        \n",
      "    def verfuegbar(self, monat):\n",
      "        \"\"\"Ist das Obst in Monat `monat` (z.B. 'Jan') verf\u00fcgbar?\"\"\"\n",
      "        return monat in self.erntemonate\n",
      "\n",
      "aprikosen = Obst(\"Aprikosen\", [\"Jul\", \"Aug\"])\n",
      "brombeeren = Obst(\"Brombeeren\", [\"Jul\",\"Aug\", \"Sep\"])\n",
      "erdbeeren = Obst(\"Erdbeeren\", [\"Mai\",\"Jun\", \"Jul\"])\n",
      "\n",
      "print(aprikosen.verfuegbar(\"Jun\"))\n",
      "print(aprikosen.verfuegbar(\"Aug\"))\n",
      "print(erdbeeren.verfuegbar(\"Jun\"))\n",
      "print(erdbeeren.verfuegbar(\"Aug\"))"
     ],
     "language": "python",
     "metadata": {
      "slideshow": {
       "slide_type": "skip"
      }
     },
     "outputs": [
      {
       "output_type": "stream",
       "stream": "stdout",
       "text": [
        "False\n",
        "True\n",
        "True\n",
        "False\n"
       ]
      }
     ],
     "prompt_number": 19
    },
    {
     "cell_type": "markdown",
     "metadata": {
      "slideshow": {
       "slide_type": "slide"
      }
     },
     "source": [
      "![Vererbung](images/inheritance.png)"
     ]
    },
    {
     "cell_type": "heading",
     "level": 3,
     "metadata": {
      "slideshow": {
       "slide_type": "slide"
      }
     },
     "source": [
      "Vererbung"
     ]
    },
    {
     "cell_type": "code",
     "collapsed": false,
     "input": [
      "# zur Erinnerung nochmal die Klasse 'Person':\n",
      "class Person:\n",
      "    \"\"\"\n",
      "    Eine Person.\n",
      "    \"\"\"\n",
      "    \n",
      "    def __init__(self, name, email):\n",
      "        \"\"\"\n",
      "        Erzeugt eine neue Person.\n",
      "        \"\"\"\n",
      "        self.name = name\n",
      "        self.email = email\n",
      "        \n",
      "    def formattedOutput(self):\n",
      "        \"\"\"\n",
      "        Liefert einen String zur\u00fcck, der diese Person beschreibt.\n",
      "        \"\"\"\n",
      "        return self.name + ' <' + self.email + '>'\n",
      "    \n",
      "    def describe(self):\n",
      "        \"\"\"\n",
      "        Beschreibt diese Person.\n",
      "        \"\"\"\n",
      "        print(self.formattedOutput())\n",
      "        \n",
      "max = Person(\"Max M\u00fcller\", \"max.mueller@example.com\")\n",
      "max.describe()"
     ],
     "language": "python",
     "metadata": {
      "slideshow": {
       "slide_type": "-"
      }
     },
     "outputs": [
      {
       "output_type": "stream",
       "stream": "stdout",
       "text": [
        "Max M\u00fcller <max.mueller@example.com>\n"
       ]
      }
     ],
     "prompt_number": 16
    },
    {
     "cell_type": "markdown",
     "metadata": {
      "slideshow": {
       "slide_type": "subslide"
      }
     },
     "source": [
      "### Vererbung\n",
      "\n",
      "Eine Klasse kann eine _Superklasse_ (_Oberklasse_) haben, deren Eigenschaften sie erbt."
     ]
    },
    {
     "cell_type": "code",
     "collapsed": false,
     "input": [
      "class Student(Person):    # in Klammern: Superklasse\n",
      "    \n",
      "    def __init__(self, name, email, matrikel):\n",
      "        super().__init__(name, email)  # super() -> Oberklasse\n",
      "        self.matrikel = matrikel\n",
      "        \n",
      "    def formattedOutput(self):\n",
      "        return self.name + ' <' + self.email + '> (' + str(self.matrikel) + ')'        "
     ],
     "language": "python",
     "metadata": {
      "slideshow": {
       "slide_type": "fragment"
      }
     },
     "outputs": [],
     "prompt_number": 38
    },
    {
     "cell_type": "code",
     "collapsed": false,
     "input": [
      "moritz = Student(\"Moritz Maier\", \"moritz.maier@example.com\", 4711)\n",
      "moritz.describe()"
     ],
     "language": "python",
     "metadata": {
      "slideshow": {
       "slide_type": "fragment"
      }
     },
     "outputs": [
      {
       "output_type": "stream",
       "stream": "stdout",
       "text": [
        "Moritz Maier <moritz.maier@example.com> (4711)\n"
       ]
      }
     ],
     "prompt_number": 33
    },
    {
     "cell_type": "code",
     "collapsed": false,
     "input": [
      "for p in max, moritz:\n",
      "    print(p.name, isinstance(p, Person), isinstance(p, Student))"
     ],
     "language": "python",
     "metadata": {
      "slideshow": {
       "slide_type": "fragment"
      }
     },
     "outputs": [
      {
       "output_type": "stream",
       "stream": "stdout",
       "text": [
        "Max M\u00fcller True False\n",
        "Moritz Maier True True\n"
       ]
      }
     ],
     "prompt_number": 34
    },
    {
     "cell_type": "markdown",
     "metadata": {
      "slideshow": {
       "slide_type": "subslide"
      }
     },
     "source": [
      "### Vererbung im Detail\n",
      "\n",
      "Wird eine Klasse definiert, so kann sie mit einer Oberklasse verkn\u00fcpft werden, deren Eigenschaften sie _erbt_:\n",
      "\n",
      "```\n",
      "class Student(Person):\n",
      "```\n",
      "definiert die Klasse Student, deren Oberklasse Person ist.\n",
      "\n",
      "* Objekte des Typs `Student` sind _auch_ vom Typ `Person`\n",
      "* Objekte vom Typ `Person` sind aber nicht notwendigerweise vom Typ `Student`\n",
      "* Alle `Student`en haben die Eigenschaften von `Person`en, die `Student`-Klasse kann Attribute und Methoden jedoch \u00fcberschreiben"
     ]
    },
    {
     "cell_type": "markdown",
     "metadata": {
      "slideshow": {
       "slide_type": "subslide"
      }
     },
     "source": [
      "### Methoden \u00fcberschreiben\n",
      "* Wird in der Subklasse eine Methode definiert, so wird diese statt die der Oberklasse verwendet\n",
      "* in einer Methode kann mit `super()` auf die Oberklasse zugegriffen werden"
     ]
    },
    {
     "cell_type": "code",
     "collapsed": false,
     "input": [
      "class Student(Person):    # in Klammern: Superklasse\n",
      "    \n",
      "    def __init__(self, name, email, matrikel):\n",
      "        super().__init__(name, email)  # super() -> Oberklasse\n",
      "        self.matrikel = matrikel\n"
     ],
     "language": "python",
     "metadata": {
      "slideshow": {
       "slide_type": "-"
      }
     },
     "outputs": [],
     "prompt_number": 17
    },
    {
     "cell_type": "markdown",
     "metadata": {
      "slideshow": {
       "slide_type": "-"
      }
     },
     "source": [
      "hier wird `__init__` von Person \u00fcberschrieben und aus der \u00fcberschreibenden Methode  mithilfe von `super()` aufgerufen"
     ]
    },
    {
     "cell_type": "markdown",
     "metadata": {
      "slideshow": {
       "slide_type": "subslide"
      }
     },
     "source": [
      "### Polymorphie\n",
      "\n",
      "* Ein Objekt einer Subklasse kann wie das der Superklasse verwendet werden, es werden jedoch ggf. die Methoden der Subklasse verwendet.\n",
      "* Beispiel: `Student.formattedOutput` wird aus `Person.describe` aufgerufen ..."
     ]
    },
    {
     "cell_type": "code",
     "collapsed": false,
     "input": [
      "class Student(Person):    # in Klammern: Superklasse\n",
      "    \n",
      "    def __init__(self, name, email, matrikel):\n",
      "        super().__init__(name, email)  # super() -> Oberklasse\n",
      "        self.matrikel = matrikel\n",
      "        \n",
      "    def formattedOutput(self):\n",
      "        return self.name + ' <' + self.email + '> (' + str(self.matrikel) + ')'        "
     ],
     "language": "python",
     "metadata": {
      "slideshow": {
       "slide_type": "fragment"
      }
     },
     "outputs": [],
     "prompt_number": 18
    },
    {
     "cell_type": "code",
     "collapsed": false,
     "input": [
      "moritz = Student(\"Moritz Maier\", \"moritz.maier@example.com\", 4711)\n",
      "moritz.describe()"
     ],
     "language": "python",
     "metadata": {
      "slideshow": {
       "slide_type": "fragment"
      }
     },
     "outputs": [
      {
       "output_type": "stream",
       "stream": "stdout",
       "text": [
        "Moritz Maier <moritz.maier@example.com> (4711)\n"
       ]
      }
     ],
     "prompt_number": 19
    },
    {
     "cell_type": "markdown",
     "metadata": {
      "slideshow": {
       "slide_type": "slide"
      }
     },
     "source": [
      "<h3 style=\"color:green;\">Aufgabe</h3>\n",
      "\n",
      "* Erzeugen Sie eine Subklasse `MarkedUpText` zu Ihrer `Text`-Klasse von oben. \n",
      "* Die Subklasse soll Strings mit Tags wie in `\"Dies ist ein <hi rend=\"bold\">wichtiger</bold> Text\"` im Konstruktor akzeptieren\n",
      "* die \u00fcbrigen Methoden sollen funktionieren wie bei `Text`, aber sich nur auf den reinen Textinhalt ohne Tags beziehen. \n",
      "* Definieren Sie au\u00dferdem eine Methode `raw_length()`, die die L\u00e4nge in Zeichen _mit_ Markup liefert"
     ]
    },
    {
     "cell_type": "code",
     "collapsed": false,
     "input": [
      "class Student(Person):                 # in Klammern: Superklasse\n",
      "    \n",
      "    def __init__(self, name, email, matrikel):\n",
      "        super().__init__(name, email)  # super() -> Oberklasse\n",
      "        self.matrikel = matrikel\n",
      "        \n",
      "    def formattedOutput(self):\n",
      "        return self.name + ' <' + self.email + '> (' + str(self.matrikel) + ')'        "
     ],
     "language": "python",
     "metadata": {
      "slideshow": {
       "slide_type": "fragment"
      }
     },
     "outputs": [],
     "prompt_number": 20
    },
    {
     "cell_type": "code",
     "collapsed": false,
     "input": [
      "import re\n",
      "\n",
      "class MarkedUpText(Text):\n",
      "    \n",
      "    def __init__(self, markedup_text):\n",
      "        self.raw_text = markedup_text\n",
      "        plain_text = re.sub('<[^>]+>', '', markedup_text)\n",
      "        super().__init__(plain_text)\n",
      "    \n",
      "    def raw_length(self):\n",
      "        return len(self.raw_text)"
     ],
     "language": "python",
     "metadata": {
      "slideshow": {
       "slide_type": "subslide"
      }
     },
     "outputs": []
    },
    {
     "cell_type": "code",
     "collapsed": false,
     "input": [
      "m = MarkedUpText('Dies ist ein <hi rend=\"bold\">wichtiger</bold> Text')\n",
      "print(m.text, m.length(), m.words(), m.raw_length(), sep=\"; \")"
     ],
     "language": "python",
     "metadata": {
      "slideshow": {
       "slide_type": "fragment"
      }
     },
     "outputs": []
    },
    {
     "cell_type": "markdown",
     "metadata": {
      "slideshow": {
       "slide_type": "subslide"
      }
     },
     "source": [
      "<h3 style='color:green'>\u00dcbungsaufgabe</h3>\n",
      "\n",
      "1. Manche Obstsorten sind lagerf\u00e4hig. Erzeugen Sie eine Subklasse `Lagerobst` zu ihrer Obstklasse, die die Monate, in denen eine Obstsorte aus Lagerbest\u00e4nden verf\u00fcgbar ist, als zus\u00e4tzliches Attribut pflegt. Erzeugen Sie Instanzen f\u00fcr \u00c4pfel (Erntezeit August bis November, lagerf\u00e4hig Dezember bis Mai) und Birnen (Ernte August bis Oktober, lagerf\u00e4hig bis Dezember)\n",
      "2. \u00dcberschreiben Sie die `verfuegbar`-Methode, sodass sie bei Lagerobst auch in den Lagermonaten `True` zur\u00fcckgibt\n",
      "3. F\u00fcgen Sie dem Lagerobst eine Methode hinzu, mit der zwischen frisch und gelagert verf\u00fcgbarem Obst unterschieden werden kann. Welche Implementierungsm\u00f6glichkeiten sind m\u00f6glich? Diskutieren Sie Vor- und Nachteile."
     ]
    }
   ],
   "metadata": {}
  }
 ]
}