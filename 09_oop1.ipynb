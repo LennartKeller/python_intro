{
 "cells": [
  {
   "cell_type": "markdown",
   "metadata": {
    "slideshow": {
     "slide_type": "slide"
    }
   },
   "source": [
    "# Einführung in das Programmieren mit Python\n",
    "\n",
    "* __Organisatorisches:__ Nächste Woche letzte Stunde, in __Hörsaal 7__\n",
    "* Themenwünsche → WueCampus"
   ]
  },
  {
   "cell_type": "markdown",
   "metadata": {
    "slideshow": {
     "slide_type": "slide"
    }
   },
   "source": [
    "### Hinweise zu Funktionen etc."
   ]
  },
  {
   "cell_type": "code",
   "execution_count": 39,
   "metadata": {
    "collapsed": false,
    "slideshow": {
     "slide_type": "subslide"
    }
   },
   "outputs": [],
   "source": [
    "#Aufgabe 2\n",
    "def worthaeufigkeit(text,grossklein=True):\n",
    "    if grossklein:\n",
    "        worttabelle={}\n",
    "        for wort in text.split():\n",
    "            if wort in worttabelle:\n",
    "                worttabelle[wort]+=1\n",
    "            else:\n",
    "                worttabelle[wort]=1\n",
    "        print (worttabelle)\n",
    "        return worttabelle\n",
    "    else:\n",
    "        kleinerText=text.lower()\n",
    "        for wort in kleinerText.split():\n",
    "            if wort in worttabelle:\n",
    "                worttabelle[wort] =1+worttabelle[wort]\n",
    "            else:\n",
    "                worttabelle[wort]=1\n",
    "        print(worttabelle)\n",
    "        return worttabelle"
   ]
  },
  {
   "cell_type": "code",
   "execution_count": 43,
   "metadata": {
    "collapsed": false,
    "slideshow": {
     "slide_type": "subslide"
    }
   },
   "outputs": [
    {
     "data": {
      "text/plain": [
       "({'Bla': 1, 'bla': 1, 'fasel': 1}, {'bla': 2, 'fasel': 1})"
      ]
     },
     "execution_count": 43,
     "metadata": {},
     "output_type": "execute_result"
    }
   ],
   "source": [
    "#Aufgabe 2\n",
    "def worthaeufigkeit(text,grossklein=True):\n",
    "    worttabelle={}\n",
    "    if not grossklein:             \n",
    "        text = text.lower()        # nur diese Zeile ist unterschiedlich!\n",
    "    for wort in text.split():\n",
    "        if wort in worttabelle:\n",
    "            worttabelle[wort]+=1\n",
    "        else:\n",
    "            worttabelle[wort]=1 \n",
    "    return worttabelle\n",
    "worthaeufigkeit('Bla fasel bla'), worthaeufigkeit('Bla fasel bla', grossklein=False)"
   ]
  },
  {
   "cell_type": "code",
   "execution_count": 46,
   "metadata": {
    "collapsed": false,
    "slideshow": {
     "slide_type": "subslide"
    }
   },
   "outputs": [
    {
     "name": "stdout",
     "output_type": "stream",
     "text": [
      "durchschnittliche Wortlaenge:  5.214285714285714\n",
      "durchschnittliche Wortlaenge:  7.583333333333333\n"
     ]
    },
    {
     "ename": "TypeError",
     "evalue": "unorderable types: NoneType() < NoneType()",
     "output_type": "error",
     "traceback": [
      "\u001b[1;31m---------------------------------------------------------------------------\u001b[0m",
      "\u001b[1;31mTypeError\u001b[0m                                 Traceback (most recent call last)",
      "\u001b[1;32m<ipython-input-46-12caa65c8304>\u001b[0m in \u001b[0;36m<module>\u001b[1;34m()\u001b[0m\n\u001b[0;32m      9\u001b[0m \u001b[0ms2\u001b[0m \u001b[1;33m=\u001b[0m \u001b[1;34m\"Sie müssen eine Buße zahlen, weil Sie sich nicht an die Verkehrsregeln gehalten haben.\"\u001b[0m\u001b[1;33m\u001b[0m\u001b[0m\n\u001b[0;32m     10\u001b[0m \u001b[1;33m\u001b[0m\u001b[0m\n\u001b[1;32m---> 11\u001b[1;33m \u001b[1;32mif\u001b[0m \u001b[0mdurchschn_Wortlaenge\u001b[0m\u001b[1;33m(\u001b[0m\u001b[0ms2\u001b[0m\u001b[1;33m)\u001b[0m \u001b[1;33m<\u001b[0m \u001b[0mdurchschn_Wortlaenge\u001b[0m\u001b[1;33m(\u001b[0m\u001b[0ms1\u001b[0m\u001b[1;33m)\u001b[0m\u001b[1;33m:\u001b[0m\u001b[1;33m\u001b[0m\u001b[0m\n\u001b[0m\u001b[0;32m     12\u001b[0m     \u001b[0mprint\u001b[0m\u001b[1;33m(\u001b[0m\u001b[1;34m\"s2 ist leichter als s1\"\u001b[0m\u001b[1;33m)\u001b[0m\u001b[1;33m\u001b[0m\u001b[0m\n",
      "\u001b[1;31mTypeError\u001b[0m: unorderable types: NoneType() < NoneType()"
     ]
    }
   ],
   "source": [
    "def durchschn_Wortlaenge(satz):\n",
    "    sum_wordlength=0\n",
    "    for w in satz.split():\n",
    "        sum_wordlength += len(w)\n",
    "    avg_wordlength = sum_wordlength / float(len(satz.split()))\n",
    "    print(\"durchschnittliche Wortlaenge: \", avg_wordlength)\n",
    "    \n",
    "s1 = \"Mit dem Kraftfahrzeug mit dem nachfolgenden Kennzeichen ist eine Verkehrsvorschrift übertreten worden.\"\n",
    "s2 = \"Sie müssen eine Buße zahlen, weil Sie sich nicht an die Verkehrsregeln gehalten haben.\"\n",
    "\n",
    "if durchschn_Wortlaenge(s2) < durchschn_Wortlaenge(s1):\n",
    "    print(\"s2 ist leichter als s1\")"
   ]
  },
  {
   "cell_type": "code",
   "execution_count": 47,
   "metadata": {
    "collapsed": false,
    "slideshow": {
     "slide_type": "subslide"
    }
   },
   "outputs": [
    {
     "name": "stdout",
     "output_type": "stream",
     "text": [
      "s2 ist leichter als s1\n"
     ]
    }
   ],
   "source": [
    "def durchschn_Wortlaenge(satz):\n",
    "    sum_wordlength=0\n",
    "    for w in satz.split():\n",
    "        sum_wordlength += len(w)\n",
    "    avg_wordlength = sum_wordlength / float(len(satz.split()))\n",
    "    return avg_wordlength   # die durchschnittliche Wortlänge ist eine Zahl -> zurückgeben\n",
    "    \n",
    "s1 = \"Mit dem Kraftfahrzeug mit dem nachfolgenden Kennzeichen ist eine Verkehrsvorschrift übertreten worden.\"\n",
    "s2 = \"Sie müssen eine Buße zahlen, weil Sie sich nicht an die Verkehrsregeln gehalten haben.\"\n",
    "\n",
    "if durchschn_Wortlaenge(s2) < durchschn_Wortlaenge(s1):\n",
    "    print(\"s2 ist leichter als s1\")"
   ]
  },
  {
   "cell_type": "markdown",
   "metadata": {
    "slideshow": {
     "slide_type": "slide"
    }
   },
   "source": [
    "## Wiederholung: [Reguläre Ausdrücke](08_re.slides.html)\n",
    "\n",
    "* Minisprache zur Beschreibung von Klassen von Strings\n",
    "* Suchen, Ersetzen, Informationen extrahieren\n",
    "* Ein **Pattern** **matcht** auf einen String, bzw. auf Teilstrings\n",
    "* Entwickeln z.B. mit [pythex.org](http://pythex.org)"
   ]
  },
  {
   "cell_type": "code",
   "execution_count": 1,
   "metadata": {
    "collapsed": false,
    "slideshow": {
     "slide_type": "-"
    }
   },
   "outputs": [
    {
     "data": {
      "text/plain": [
       "['10', '12']"
      ]
     },
     "execution_count": 1,
     "metadata": {},
     "output_type": "execute_result"
    }
   ],
   "source": [
    "import re\n",
    "re.findall(\"[0-9]+\", \"Jeden Mittwoch von 10 bis 12 lernen wir Python.\")"
   ]
  },
  {
   "cell_type": "markdown",
   "metadata": {
    "slideshow": {
     "slide_type": "subslide"
    }
   },
   "source": [
    "<h3>Special characters</h3>\n",
    "<table>\n",
    "    <tbody><tr>\n",
    "            <td class=\"key_td\"><code>\\</code></td>\n",
    "            <td>escape special characters</td>\n",
    "        </tr>\n",
    "        <tr>\n",
    "            <td class=\"key_td\"><code>.</code></td>\n",
    "            <td>matches any character</td>\n",
    "        </tr>\n",
    "        <tr>\n",
    "            <td class=\"key_td\"><code>^</code></td>\n",
    "            <td>matches beginning of string</td>\n",
    "        </tr>\n",
    "        <tr>\n",
    "            <td class=\"key_td\"><code>$</code></td>\n",
    "            <td>matches end of string</td>\n",
    "        </tr>\n",
    "        <tr>\n",
    "            <td class=\"key_td\"><code>[5b-d]</code></td>\n",
    "            <td>matches any chars '5', 'b', 'c' or 'd'</td>\n",
    "        </tr>\n",
    "        <tr>\n",
    "            <td class=\"key_td\"><code>[^a-c6]</code></td>\n",
    "            <td>matches any char except 'a', 'b', 'c' or '6'</td>\n",
    "        </tr>\n",
    "        <tr>\n",
    "            <td class=\"key_td\"><code>R|S</code></td>\n",
    "            <td>matches either regex <code>R</code> or regex <code>S</code></td>\n",
    "        </tr>\n",
    "        <tr>\n",
    "            <td class=\"key_td\"><code>()</code></td>\n",
    "            <td>creates a capture group and indicates precedence</td>\n",
    "        </tr>\n",
    "    </tbody>\n",
    "</table>\n",
    "<h3>Quantifiers</h3>\n",
    "<table>\n",
    "    <tbody><tr>\n",
    "            <td class=\"key_td\"><code>*</code></td>\n",
    "            <td>0 or more (append <code>?</code> for non-greedy)</td>\n",
    "        </tr>\n",
    "        <tr>\n",
    "            <td class=\"key_td\"><code>+</code></td>\n",
    "            <td>1 or more (append <code>?</code> for non-greedy)</td>\n",
    "        </tr>\n",
    "        <tr>\n",
    "            <td class=\"key_td\"><code>?</code></td>\n",
    "            <td>0 or 1 (append <code>?</code> for non-greedy)</td>\n",
    "        </tr>\n",
    "        <tr>\n",
    "            <td class=\"key_td\"><code>{m}</code></td>\n",
    "            <td>exactly <code>m</code> occurrences</td>\n",
    "        </tr>\n",
    "        <tr>\n",
    "            <td class=\"key_td\"><code>{m, n}</code></td>\n",
    "            <td>from <code>m</code> to <code>n</code>. <code>m</code> defaults to 0, <code>n</code> to infinity</td>\n",
    "        </tr>\n",
    "        <tr>\n",
    "            <td class=\"key_td\"><code>{m, n}?</code></td>\n",
    "            <td>from <code>m</code> to <code>n</code>, as few as possible</td>\n",
    "        </tr>\n",
    "    </tbody>\n",
    "</table>\n"
   ]
  },
  {
   "cell_type": "markdown",
   "metadata": {},
   "source": [
    "<h3>Special sequences</h3>\n",
    "<table>\n",
    "    <tbody><tr>\n",
    "            <td class=\"key_td\"><code>\\A</code></td>\n",
    "            <td>start of string</td>\n",
    "        </tr>\n",
    "        <tr>\n",
    "            <td class=\"key_td\"><code>\\b</code></td>\n",
    "            <td>matches empty string at word boundary (between <code>\\w</code> and <code>\\W</code>)</td>\n",
    "        </tr>\n",
    "        <tr>\n",
    "            <td class=\"key_td\"><code>\\B</code></td>\n",
    "            <td>matches empty string not at word boundary</td>\n",
    "        </tr>\n",
    "        <tr>\n",
    "            <td class=\"key_td\"><code>\\d</code></td>\n",
    "            <td>digit</td>\n",
    "        </tr>\n",
    "        <tr>\n",
    "            <td class=\"key_td\"><code>\\D</code></td>\n",
    "            <td>non-digit</td>\n",
    "        </tr>\n",
    "        <tr>\n",
    "            <td class=\"key_td\"><code>\\s</code></td>\n",
    "            <td>whitespace: <code>[ \\t\\n\\r\\f\\v]</code></td>\n",
    "        </tr>\n",
    "        <tr>\n",
    "            <td class=\"key_td\"><code>\\S</code></td>\n",
    "            <td>non-whitespace</td>\n",
    "        </tr>\n",
    "        <tr>\n",
    "            <td class=\"key_td\"><code>\\w</code></td>\n",
    "            <td>alphanumeric: letters, digits, _</td>\n",
    "        </tr>\n",
    "        <tr>\n",
    "            <td class=\"key_td\"><code>\\W</code></td>\n",
    "            <td>non-alphanumeric</td>\n",
    "        </tr>\n",
    "        <tr>\n",
    "            <td class=\"key_td\"><code>\\Z</code></td>\n",
    "            <td>end of string</td>\n",
    "        </tr>\n",
    "        <tr>\n",
    "            <td class=\"key_td\">`\\1`, `\\2`, ...</td>\n",
    "            <td>matches a previously defined group</td>\n",
    "        </tr>\n",
    "    </tbody>\n",
    "</table>"
   ]
  },
  {
   "cell_type": "markdown",
   "metadata": {
    "slideshow": {
     "slide_type": "subslide"
    }
   },
   "source": [
    "<h3>Für Fortgeschrittene: Spezielle Sequenzen, siehe Doku</h3>\n",
    "<table>\n",
    "    <tbody><tr>\n",
    "            <td class=\"key_td\"><code>(?iLmsux)</code></td>\n",
    "            <td>matches empty string, sets re.X flags</td>\n",
    "        </tr>\n",
    "        <tr>\n",
    "            <td class=\"key_td\"><code>(?:...)</code></td>\n",
    "            <td>non-capturing version of regular parentheses</td>\n",
    "        </tr>\n",
    "        <tr>\n",
    "            <td class=\"key_td\"><code>(?P<name>...)</name></code></td>\n",
    "            <td>matches whatever matched previously named group</td>\n",
    "        </tr>\n",
    "        <tr>\n",
    "            <td class=\"key_td\"><code>(?P=<name>)</name></code></td>\n",
    "            <td>digit</td>\n",
    "        </tr>\n",
    "        <tr>\n",
    "            <td class=\"key_td\"><code>(?#...)</code></td>\n",
    "            <td>a comment; ignored</td>\n",
    "        </tr>\n",
    "        <tr>\n",
    "            <td class=\"key_td\"><code>(?=...)</code></td>\n",
    "            <td>lookahead assertion: matches without consuming</td>\n",
    "        </tr>\n",
    "        <tr>\n",
    "            <td class=\"key_td\"><code>(?!...)</code></td>\n",
    "            <td>negative lookahead assertion</td>\n",
    "        </tr>\n",
    "        <tr>\n",
    "            <td class=\"key_td\"><code>(?&lt;=...)</code></td>\n",
    "            <td>lookbehind assertion: matches if preceded</td>\n",
    "        </tr>\n",
    "        <tr>\n",
    "            <td class=\"key_td\"><code>(?&lt;!...)</code></td>\n",
    "            <td>negative lookbehind assertion</td>\n",
    "        </tr>\n",
    "        <tr>\n",
    "            <td class=\"key_td\"><code>(?(id)yes|no)</code></td>\n",
    "            <td>match 'yes' if group 'id' matched, else 'no'</td></tr></tbody>\n",
    "</table>"
   ]
  },
  {
   "cell_type": "markdown",
   "metadata": {
    "slideshow": {
     "slide_type": "slide"
    }
   },
   "source": [
    "### Quantoren: greedy oder non-greedy\n",
    "```python\n",
    "re.findall(\"b.*t\", \"She booted the robot\")\n",
    "```"
   ]
  },
  {
   "cell_type": "code",
   "execution_count": 2,
   "metadata": {
    "collapsed": false,
    "slideshow": {
     "slide_type": "fragment"
    }
   },
   "outputs": [
    {
     "data": {
      "text/plain": [
       "['booted the robot']"
      ]
     },
     "execution_count": 2,
     "metadata": {},
     "output_type": "execute_result"
    }
   ],
   "source": [
    "import re\n",
    "re.findall(\"b.*t\", \"She booted the robot\")"
   ]
  },
  {
   "cell_type": "markdown",
   "metadata": {
    "slideshow": {
     "slide_type": "fragment"
    }
   },
   "source": [
    "* Die Quantoren `*` und `+` finden den __längsten__ matchenden Teilstring, sie sind gierig _(greedy)_\n",
    "* `*?` und `+?` sind _non-greedy_ Alternativen, sie finden den __kürzesten__ matchenden Teilstring."
   ]
  },
  {
   "cell_type": "code",
   "execution_count": 3,
   "metadata": {
    "collapsed": false,
    "slideshow": {
     "slide_type": "fragment"
    }
   },
   "outputs": [
    {
     "data": {
      "text/plain": [
       "['boot', 'bot']"
      ]
     },
     "execution_count": 3,
     "metadata": {},
     "output_type": "execute_result"
    }
   ],
   "source": [
    "re.findall(\"b.*?t\", \"She booted the robot\")"
   ]
  },
  {
   "cell_type": "markdown",
   "metadata": {
    "slideshow": {
     "slide_type": "subslide"
    }
   },
   "source": [
    "### Alternativen (`|`)\n",
    "\n",
    "* Mit `[abc]` definieren Sie Zeichenklassen – Alternativen auf Basis einzelner Zeichen. \n",
    "* mit `|` definieren Sie Alternativen unterschiedlicher _Patterns_."
   ]
  },
  {
   "cell_type": "code",
   "execution_count": 7,
   "metadata": {
    "collapsed": false,
    "scrolled": true,
    "slideshow": {
     "slide_type": "fragment"
    }
   },
   "outputs": [
    {
     "data": {
      "text/plain": [
       "['Hai', 'Piranha', 'Krokodil']"
      ]
     },
     "execution_count": 7,
     "metadata": {},
     "output_type": "execute_result"
    }
   ],
   "source": [
    "bond = \"Bond sollte schon durch Haibiss, Piranhas und Krokodile sterben.\"\n",
    "re.findall(r\"Hai|Krokodil|Piranha\", bond)"
   ]
  },
  {
   "cell_type": "markdown",
   "metadata": {
    "slideshow": {
     "slide_type": "slide"
    }
   },
   "source": [
    "### Gruppen `(…)`\n",
    "\n",
    "\n",
    "* Gruppen identifizieren Teile eines Patterns – Runde Klammern\n",
    "* Gültigkeitsbereich von Quantoren, Begrenzung von Alternativen, Identifikation von Subpatterns\n",
    "* findall mit Gruppen ändert sein Verhalten und liefert Tupel der Gruppen zurück:"
   ]
  },
  {
   "cell_type": "code",
   "execution_count": 15,
   "metadata": {
    "collapsed": false,
    "slideshow": {
     "slide_type": "-"
    }
   },
   "outputs": [
    {
     "data": {
      "text/plain": [
       "[('From', 'Anna Muster'), ('Subject', 'Re: Seminar')]"
      ]
     },
     "execution_count": 15,
     "metadata": {},
     "output_type": "execute_result"
    }
   ],
   "source": [
    "re.findall(\"([A-Za-z0-9-]*):\\s*(.*)\", \n",
    "           \"From: Anna Muster\\nSubject: Re: Seminar\")"
   ]
  },
  {
   "cell_type": "code",
   "execution_count": 16,
   "metadata": {
    "collapsed": false,
    "slideshow": {
     "slide_type": "fragment"
    }
   },
   "outputs": [
    {
     "name": "stdout",
     "output_type": "stream",
     "text": [
      "['Hai', 'Piranha', 'Krokodil']\n",
      "['Hai', 'Piranhas', 'Krokodil']\n",
      "[('Haibiss', 'Hai'), ('Piranhas', 'Piranha'), ('Krokodile', 'Krokodil')]\n",
      "['Haibiss', 'Piranhas', 'Krokodile']\n"
     ]
    }
   ],
   "source": [
    "print(re.findall(r\"(Hai|Krokodil|Piranha)\\w+\", bond))\n",
    "print(re.findall(r\"(Hai|Krokodil|Piranha\\w+)\", bond))\n",
    "print(re.findall(r\"((Hai|Krokodil|Piranha)\\w+)\", bond))\n",
    "print(re.findall(r\"(?:Hai|Krokodil|Piranha)\\w+\", bond))  # non-capturing group"
   ]
  },
  {
   "cell_type": "markdown",
   "metadata": {
    "slideshow": {
     "slide_type": "subslide"
    }
   },
   "source": [
    "Gruppen können zum Ersetzen verwendet werden, Referenzierung mit `\\1`, `\\2`, …:"
   ]
  },
  {
   "cell_type": "code",
   "execution_count": 17,
   "metadata": {
    "collapsed": false,
    "slideshow": {
     "slide_type": "fragment"
    }
   },
   "outputs": [
    {
     "name": "stdout",
     "output_type": "stream",
     "text": [
      "<From>Anna Muster</From>\n",
      "<Subject>Re: Seminar</Subject>\n"
     ]
    }
   ],
   "source": [
    "print(re.sub(\"([A-Za-z0-9-]*):\\s*(.*)\", r\"<\\1>\\2</\\1>\", \n",
    "             \"From: Anna Muster\\nSubject: Re: Seminar\"))"
   ]
  },
  {
   "cell_type": "markdown",
   "metadata": {
    "slideshow": {
     "slide_type": "fragment"
    }
   },
   "source": [
    "Gruppen können auch im Muster selbst gematcht werden (Backreferences):"
   ]
  },
  {
   "cell_type": "code",
   "execution_count": 18,
   "metadata": {
    "collapsed": false,
    "slideshow": {
     "slide_type": "fragment"
    }
   },
   "outputs": [
    {
     "name": "stdout",
     "output_type": "stream",
     "text": [
      "<_sre.SRE_Match object; span=(4, 40), match='<foo> Beispiel </bar> beispiel</foo>'>\n"
     ]
    }
   ],
   "source": [
    "import re\n",
    "markup = \"Bla <foo> Beispiel </bar> beispiel</foo> fasel\"\n",
    "pattern = r\"<(\\w+)>.*?</\\1>\"\n",
    "print(re.search(pattern, markup))"
   ]
  },
  {
   "cell_type": "markdown",
   "metadata": {
    "slideshow": {
     "slide_type": "slide"
    }
   },
   "source": [
    "### Matching im Detail: Match-Objekte\n",
    "\n",
    "`re.findall()` ist für einfache Anwendungsfälle ausreichend. Wenn Sie mehr mit dem Ergebnis anfangen wollen oder die Automatismen nerven:\n",
    "\n",
    "* `re.match(pattern, string)` matcht das `pattern` am Anfang des `string`\n",
    "* `re.search(pattern, string)` findet das erste Vorkommen des `pattern` im `string`\n",
    "\n",
    "Diese Funktionen liefern ein __Match-Objekt__ für einen Treffer oder `None`, falls nichts gefunden wurde.\n",
    "\n",
    "* `re.finditer(pattern, string)` findet alle Vorkommen von `pattern` im `string` \n",
    "\n",
    "Diese Funktion liefert einen _Iterator_ über Match-objekte für jeden Treffer:"
   ]
  },
  {
   "cell_type": "code",
   "execution_count": 22,
   "metadata": {
    "collapsed": false,
    "slideshow": {
     "slide_type": "-"
    }
   },
   "outputs": [
    {
     "name": "stdout",
     "output_type": "stream",
     "text": [
      "<_sre.SRE_Match object; span=(47, 51), match='1749'>\n",
      "<_sre.SRE_Match object; span=(215, 219), match='1657'>\n",
      "<_sre.SRE_Match object; span=(224, 228), match='1730'>\n",
      "<_sre.SRE_Match object; span=(241, 245), match='1687'>\n"
     ]
    }
   ],
   "source": [
    "s = \"\"\"Johann Wolfgang von Goethe wurde am 28. August 1749 im heutigen Goethe-Haus am \n",
    "Frankfurter Großen Hirschgraben geboren und wurde evangelisch getauft. Sein aus \n",
    "Thüringen stammender Großvater Friedrich Georg Göthe (1657 bis 1730) hatte sich 1687\n",
    "als Schneidermeister in Frankfurt niedergelassen und die Schreibweise des Familiennamens geändert.\"\"\"\n",
    "for match in re.finditer('\\d{4}', s):\n",
    "    print(match)"
   ]
  },
  {
   "cell_type": "code",
   "execution_count": 23,
   "metadata": {
    "collapsed": false,
    "slideshow": {
     "slide_type": "subslide"
    }
   },
   "outputs": [
    {
     "data": {
      "text/plain": [
       "'1657 bis 1730'"
      ]
     },
     "execution_count": 23,
     "metadata": {},
     "output_type": "execute_result"
    }
   ],
   "source": [
    "match = re.search('(\\d{4}) bis (\\d{4})', s)\n",
    "match.group(0)"
   ]
  },
  {
   "cell_type": "code",
   "execution_count": 24,
   "metadata": {
    "collapsed": false,
    "slideshow": {
     "slide_type": "fragment"
    }
   },
   "outputs": [
    {
     "data": {
      "text/plain": [
       "'1657'"
      ]
     },
     "execution_count": 24,
     "metadata": {},
     "output_type": "execute_result"
    }
   ],
   "source": [
    "match.group(1)"
   ]
  },
  {
   "cell_type": "code",
   "execution_count": 29,
   "metadata": {
    "collapsed": false,
    "slideshow": {
     "slide_type": "fragment"
    }
   },
   "outputs": [
    {
     "data": {
      "text/plain": [
       "('1657', '1730')"
      ]
     },
     "execution_count": 29,
     "metadata": {},
     "output_type": "execute_result"
    }
   ],
   "source": [
    "match.groups()"
   ]
  },
  {
   "cell_type": "code",
   "execution_count": 30,
   "metadata": {
    "collapsed": false,
    "slideshow": {
     "slide_type": "fragment"
    }
   },
   "outputs": [
    {
     "name": "stdout",
     "output_type": "stream",
     "text": [
      "(215, 228) (215, 219)\n"
     ]
    }
   ],
   "source": [
    "print(match.span(), match.span(1))  # Position des Matches / der 1. Gruppe im Span"
   ]
  },
  {
   "cell_type": "markdown",
   "metadata": {
    "slideshow": {
     "slide_type": "slide"
    }
   },
   "source": [
    "### Split: Aufteilen von Strings mit RE"
   ]
  },
  {
   "cell_type": "code",
   "execution_count": 31,
   "metadata": {
    "collapsed": false,
    "slideshow": {
     "slide_type": "-"
    }
   },
   "outputs": [
    {
     "data": {
      "text/plain": [
       "['Dies ein Satz', 'Oder', 'Hat kein Verb', 'Mist', '']"
      ]
     },
     "execution_count": 31,
     "metadata": {},
     "output_type": "execute_result"
    }
   ],
   "source": [
    "text = \"Dies ein Satz. Oder? Hat kein Verb! Mist.\"\n",
    "re.split('[.!?]\\s*', text)"
   ]
  },
  {
   "cell_type": "code",
   "execution_count": 32,
   "metadata": {
    "collapsed": false,
    "slideshow": {
     "slide_type": "-"
    }
   },
   "outputs": [
    {
     "data": {
      "text/plain": [
       "['Dies ein Satz', '. ', 'Oder', '? ', 'Hat kein Verb', '! ', 'Mist', '.', '']"
      ]
     },
     "execution_count": 32,
     "metadata": {},
     "output_type": "execute_result"
    }
   ],
   "source": [
    "re.split('([.!?]\\s*)', text)"
   ]
  },
  {
   "cell_type": "markdown",
   "metadata": {
    "slideshow": {
     "slide_type": "subslide"
    }
   },
   "source": [
    "### Übung\n",
    "\n",
    "Eine einfache Markup-Sprache enthält Tags der Form `[wort]` als Start- und Endtag. Schachtelung ist nicht möglich. Machen Sie simples XML daraus.\n",
    "\n",
    "```\n",
    "\"Ich habe [bold]reguläre Ausdrücke[bold] gelernt. Damit kann man [it]ganz toll[it] Strings manipulieren!\"\n",
    "→\n",
    "Ich habe <bold>reguläre Ausdrücke</bold> gelernt. Damit kann man <it>ganz toll</it> Strings manipulieren!\"\n",
    "```"
   ]
  },
  {
   "cell_type": "code",
   "execution_count": 35,
   "metadata": {
    "collapsed": false,
    "slideshow": {
     "slide_type": "fragment"
    }
   },
   "outputs": [
    {
     "data": {
      "text/plain": [
       "'Ich habe <bold>reguläre Ausdrücke</bold> gelernt. Damit kann man <it>ganz toll</it> Strings manipulieren!'"
      ]
     },
     "execution_count": 35,
     "metadata": {},
     "output_type": "execute_result"
    }
   ],
   "source": [
    "text = \"Ich habe [bold]reguläre Ausdrücke[bold] gelernt. Damit kann man [it]ganz toll[it] Strings manipulieren!\"\n",
    "re.sub(r'\\[(\\w+)\\](.*?)\\[\\1\\]', r'<\\1>\\2</\\1>', text)"
   ]
  },
  {
   "cell_type": "markdown",
   "metadata": {
    "slideshow": {
     "slide_type": "slide"
    }
   },
   "source": [
    "### Reguläre Ausdrücke anwenden (2)\n",
    "\n",
    "![Übersicht über das re-Modul](images/re-uebersicht.svg)"
   ]
  },
  {
   "cell_type": "markdown",
   "metadata": {
    "slideshow": {
     "slide_type": "slide"
    }
   },
   "source": [
    "## Exkurs: Installation von externen Modulen\n",
    "\n",
    "* Externe Module finden Sie im _Python Package Index_ <https://pypi.python.org/>\n",
    "* Installation an der Kommandozeile mit `pip`\n",
    "\n",
    "```\n",
    "$ pip install regex\n",
    "Collecting regex\n",
    "  Downloading regex-2016.06.24.tar.gz (598kB)\n",
    "    100% |████████████████████████████████| 604kB 907kB/s \n",
    "Installing collected packages: regex\n",
    "  Running setup.py install for regex ... done\n",
    "Successfully installed regex-2016.6.24\n",
    "pip install regex  6,97s user 0,25s system 85% cpu 8,475 total\n",
    "```"
   ]
  },
  {
   "cell_type": "code",
   "execution_count": 36,
   "metadata": {
    "collapsed": false,
    "slideshow": {
     "slide_type": "subslide"
    }
   },
   "outputs": [
    {
     "name": "stdout",
     "output_type": "stream",
     "text": [
      "Mit \\p{L}: ['Auf', 'Seite', 'finden', 'Sie', 'die', 'Definition', 'von', 'Regulären', 'Ausdrücken', 'in', 'der', 'theoretischen', 'Informatik']\n",
      "Mit \\w: ['Auf', 'Seite', '523', 'finden', 'Sie', 'die', 'Definition', 'von', 'Regulären', 'Ausdrücken', 'in', 'der', 'theoretischen', 'Informatik']\n"
     ]
    }
   ],
   "source": [
    "import regex as re\n",
    "\n",
    "s = 'Auf Seite 523 finden Sie die Definition von Regulären Ausdrücken in der theoretischen Informatik'\n",
    "print(\"Mit \\p{L}:\", re.findall(r'\\p{L}+', s))  # nur in regex\n",
    "print(\"Mit \\w:\",    re.findall(r'\\w+',    s))\n"
   ]
  },
  {
   "cell_type": "markdown",
   "metadata": {
    "slideshow": {
     "slide_type": "slide"
    }
   },
   "source": [
    "## Einführung in das Programmieren mit Python\n",
    "# Objektorientiertes Programmieren in Python"
   ]
  },
  {
   "cell_type": "markdown",
   "metadata": {
    "slideshow": {
     "slide_type": "slide"
    }
   },
   "source": [
    "### Objektorientierte Programmierung – Idee und Konzept\n",
    "\n",
    "* zusammengehörige Daten werden in einen gemeinsamen Container zusammengefasst\n",
    "* Operationen auf diesen Daten kommen ebenfalls in diesen Container\n",
    "* Ergebnis: **Objekt**, das seine internen Daten kapselt und Operationen anbietet"
   ]
  },
  {
   "cell_type": "code",
   "execution_count": 111,
   "metadata": {
    "collapsed": false,
    "slideshow": {
     "slide_type": "fragment"
    }
   },
   "outputs": [
    {
     "data": {
      "text/plain": [
       "'hallo'"
      ]
     },
     "execution_count": 111,
     "metadata": {},
     "output_type": "execute_result"
    }
   ],
   "source": [
    "\"Hallo\".lower()"
   ]
  },
  {
   "cell_type": "markdown",
   "metadata": {
    "slideshow": {
     "slide_type": "subslide"
    }
   },
   "source": [
    "### Begriffe\n",
    "\n",
    "* **Objekt** oder **Instanz**  (z.B. `\"Hallo\"`)\n",
    "   * in Python ist _alles_ ein Objekt\n",
    "* **Attribute** oder **Eigenschaften** (oder **Felder**)\n",
    "   * Zugriff per `objekt.feld`\n",
    "   * les- und ggf. schreibbar\n",
    "* **Methoden**\n",
    "   * Funktionen, die teil eines Objekts sind und mit dem Objekt arbeiten"
   ]
  },
  {
   "cell_type": "code",
   "execution_count": 112,
   "metadata": {
    "collapsed": false,
    "slideshow": {
     "slide_type": "fragment"
    }
   },
   "outputs": [
    {
     "name": "stdout",
     "output_type": "stream",
     "text": [
      "UTF-8\n",
      "Kurzer Roman.\n",
      "Dies ist ein langer Roman. Er beginnt mit dem Auftritt des Heldens. \n",
      "Da es keine Helden gibt, unterbricht hier schon der Leser …\n",
      "\n"
     ]
    }
   ],
   "source": [
    "f = open(\"roman.txt\")\n",
    "print(f.encoding)\n",
    "print(f.read())"
   ]
  },
  {
   "cell_type": "markdown",
   "metadata": {
    "slideshow": {
     "slide_type": "subslide"
    }
   },
   "source": [
    "### Klassen\n",
    "\n",
    "* Der _Datentyp_ eines Objekts ist seine **Klasse**\n",
    "* Klasse = »Bauplan« für die Objekte, definiert die Methoden (und Eigenschaften)"
   ]
  },
  {
   "cell_type": "code",
   "execution_count": 113,
   "metadata": {
    "collapsed": false,
    "slideshow": {
     "slide_type": "fragment"
    }
   },
   "outputs": [
    {
     "name": "stdout",
     "output_type": "stream",
     "text": [
      "<class 'str'>\n"
     ]
    }
   ],
   "source": [
    "print(type(\"Hallo\"))"
   ]
  },
  {
   "cell_type": "code",
   "execution_count": 114,
   "metadata": {
    "collapsed": false,
    "slideshow": {
     "slide_type": "subslide"
    }
   },
   "outputs": [
    {
     "name": "stdout",
     "output_type": "stream",
     "text": [
      "Max Müller <max.mueller@example.com>\n"
     ]
    }
   ],
   "source": [
    "class Person:\n",
    "    \"\"\"\n",
    "    Eine Person.\n",
    "    \"\"\"\n",
    "    \n",
    "    def __init__(self, name, email):\n",
    "        \"\"\"\n",
    "        Erzeugt eine neue Person.\n",
    "        \"\"\"\n",
    "        self.name = name\n",
    "        self.email = email\n",
    "        \n",
    "    def formattedOutput(self):\n",
    "        \"\"\"\n",
    "        Liefert einen String zurück, der diese Person beschreibt.\n",
    "        \"\"\"\n",
    "        return self.name + ' <' + self.email + '>'\n",
    "    \n",
    "    def describe(self):\n",
    "        \"\"\"\n",
    "        Beschreibt diese Person.\n",
    "        \"\"\"\n",
    "        print(self.formattedOutput())\n",
    "        \n",
    "max = Person(\"Max Müller\", \"max.mueller@example.com\")\n",
    "max.describe()"
   ]
  },
  {
   "cell_type": "code",
   "execution_count": 115,
   "metadata": {
    "collapsed": false,
    "slideshow": {
     "slide_type": "fragment"
    }
   },
   "outputs": [
    {
     "name": "stdout",
     "output_type": "stream",
     "text": [
      "Max Müller\n"
     ]
    }
   ],
   "source": [
    "print(max.name)"
   ]
  },
  {
   "cell_type": "code",
   "execution_count": 116,
   "metadata": {
    "collapsed": false,
    "slideshow": {
     "slide_type": "fragment"
    }
   },
   "outputs": [
    {
     "name": "stdout",
     "output_type": "stream",
     "text": [
      "<class '__main__.Person'>\n"
     ]
    }
   ],
   "source": [
    "print(type(max))"
   ]
  },
  {
   "cell_type": "markdown",
   "metadata": {
    "slideshow": {
     "slide_type": "subslide"
    }
   },
   "source": [
    "### Klassen im Detail\n",
    "Eine _Klassendefinition_ erzeugt eine Klasse und weist sie einem Klassennamen zu:\n",
    "```\n",
    "class Person:\n",
    "```\n",
    "Dabei entsteht ein Block (durch Einrückung). In diesem Block stehen Eigenschaften (der Klasse! z.B. Docstring) und Methoden.\n",
    "\n",
    "* Per Konvention beginnen Klassennamen mit einem Großbuchstaben (Ausnahme: Altlasten wie list)\n",
    "* Eine Klasse kann als Funktion aufgerufen werden:\n",
    "```\n",
    "max = Person(\"Max Müller\", \"max.mueller@example.com\")\n",
    "```\n",
    "* Dadurch wird ein _Objekt_ dieser Klasse erzeugt, so wie z.B. `list(1, 2, 3)` ein Objekt der Klasse `list` erzeugt\n",
    "* `Person(...)` = __Konstruktoraufruf__\n",
    "* die Argumente werden an die spezielle Methode `__init__` übergeben"
   ]
  },
  {
   "cell_type": "markdown",
   "metadata": {
    "slideshow": {
     "slide_type": "subslide"
    }
   },
   "source": [
    "### Methoden\n",
    "\n",
    "* Eine Funktion, die in einer Klassendefinition erzeugt wird, heißt _Methode_.\n",
    "* Methoden bekommen ein erstes Argument, das immer `self` heißen sollte\n",
    "* darin wird der Methode das Objekt (= die Instanz) übergeben"
   ]
  },
  {
   "cell_type": "code",
   "execution_count": 117,
   "metadata": {
    "collapsed": false,
    "slideshow": {
     "slide_type": "fragment"
    }
   },
   "outputs": [
    {
     "name": "stdout",
     "output_type": "stream",
     "text": [
      "<class '__main__.Beispiel'>\n"
     ]
    }
   ],
   "source": [
    "class Beispiel:\n",
    "    def whatami(self):\n",
    "        print(type(self))\n",
    "bsp = Beispiel()\n",
    "bsp.whatami()"
   ]
  },
  {
   "cell_type": "markdown",
   "metadata": {
    "slideshow": {
     "slide_type": "subslide"
    }
   },
   "source": [
    "### Initialisierung\n",
    "* Es gibt Methoden mit Spezialbedeutung: Namenskonvention `__irgendwas__`\n",
    "* Beispiel Initialisierung: `__init__`\n",
    "* Wenn `__init__` definiert es, wird es unmittelbar nach der Instantiierung (= Objekterzeugung) mit den Argumenten des Konstruktoraufrufs aufgerufen.\n",
    "\n",
    "```\n",
    "max = Person(\"Max\", \"max@example.com\")\n",
    "```\n",
    "1. Objekt der Klasse `Person` wird erzeugt\n",
    "2. (implizit) Aufruf der Methode `__init__` der Objektklasse mit den Argumenten `self` (das Objekt), `\"Max\"` und `\"max@example.com\"`\n",
    "3. das erzeugte und initialisierte Objekt wird der Variablen `max` zugewiesen"
   ]
  },
  {
   "cell_type": "markdown",
   "metadata": {
    "slideshow": {
     "slide_type": "subslide"
    }
   },
   "source": [
    "### Attribute\n",
    "\n",
    "* __Attribute__ sind Eigenschaften eines Objekts\n",
    "* Wie Variablen, aber an eine Objektinstanz gekoppelt (in jedem Objekt anders)\n",
    "* Zugriff mit `objekt.attribut`, z.B. `max.name`\n",
    "* Üblicherweise Initialisierung in der `__init__`-Methode\n",
    "\n",
    "```\n",
    "    def __init__(self, name, email):\n",
    "        self.name = name\n",
    "        self.email = email\n",
    "```"
   ]
  },
  {
   "cell_type": "markdown",
   "metadata": {
    "slideshow": {
     "slide_type": "subslide"
    }
   },
   "source": [
    "### Unsere Personklasse (wdh)"
   ]
  },
  {
   "cell_type": "code",
   "execution_count": 6,
   "metadata": {
    "collapsed": false,
    "slideshow": {
     "slide_type": "-"
    }
   },
   "outputs": [
    {
     "name": "stdout",
     "output_type": "stream",
     "text": [
      "Max Müller <max.mueller@example.com>\n"
     ]
    }
   ],
   "source": [
    "class Person:\n",
    "    \"\"\"\n",
    "    Eine Person.\n",
    "    \"\"\"\n",
    "    \n",
    "    def __init__(self, name, email):\n",
    "        \"\"\"\n",
    "        Erzeugt eine neue Person.\n",
    "        \"\"\"\n",
    "        self.name = name\n",
    "        self.email = email\n",
    "        \n",
    "    def formattedOutput(self):\n",
    "        \"\"\"\n",
    "        Liefert einen String zurück, der diese Person beschreibt.\n",
    "        \"\"\"\n",
    "        return self.name + ' <' + self.email + '>'\n",
    "    \n",
    "    def describe(self):\n",
    "        \"\"\"\n",
    "        Beschreibt diese Person.\n",
    "        \"\"\"\n",
    "        print(self.formattedOutput())\n",
    "        \n",
    "max = Person(\"Max Müller\", \"max.mueller@example.com\")\n",
    "max.describe()"
   ]
  },
  {
   "cell_type": "code",
   "execution_count": 1,
   "metadata": {
    "collapsed": false,
    "slideshow": {
     "slide_type": "slide"
    }
   },
   "outputs": [
    {
     "name": "stdout",
     "output_type": "stream",
     "text": [
      "Max Müller <max.mueller@example.com>\n"
     ]
    }
   ],
   "source": [
    "class Person:\n",
    "    def __init__(self, name, email):\n",
    "        self.name = name\n",
    "        self.email = email        \n",
    "    def formattedOutput(self):\n",
    "        return self.name + ' <' + self.email + '>'\n",
    "    def describe(self):\n",
    "        print(self.formattedOutput())\n",
    "        \n",
    "max = Person(\"Max Müller\", \"max.mueller@example.com\")\n",
    "max.describe()"
   ]
  },
  {
   "cell_type": "markdown",
   "metadata": {
    "slideshow": {
     "slide_type": "fragment"
    }
   },
   "source": [
    "<h3 style=\"color:green\">Aufgaben</h3>\n",
    "1. Definieren Sie eine Klasse mit dem Namen `Text`, der beim Aufruf ein String übergeben wird, z.B.:<br/>\n",
    "`t = Text(\"Dies ist ein kleiner Text. Nicht der Rede wert. Aber immerhin.\")`\n",
    "2. Definieren Sie eine Methode der Klasse, die die Länge des Textes zurückgibt.\n",
    "3. Definieren Sie eine weitere Methode, die die Wörter in Form einer Liste zurückgibt."
   ]
  },
  {
   "cell_type": "code",
   "execution_count": 2,
   "metadata": {
    "collapsed": false,
    "slideshow": {
     "slide_type": "subslide"
    }
   },
   "outputs": [
    {
     "name": "stdout",
     "output_type": "stream",
     "text": [
      "Länge: 62\n",
      "Wörter: ['Dies', 'ist', 'ein', 'kleiner', 'Text.', 'Nicht', 'der', 'Rede', 'wert.', 'Aber', 'immerhin.']\n"
     ]
    }
   ],
   "source": [
    "class Text:\n",
    "    def __init__(self, text):\n",
    "        self.text = text\n",
    "    def length(self):\n",
    "        return len(self.text)\n",
    "    def words(self):\n",
    "        return self.text.split()\n",
    "t = Text(\"Dies ist ein kleiner Text. Nicht der Rede wert. Aber immerhin.\")\n",
    "print(\"Länge:\", t.length())\n",
    "print(\"Wörter:\", t.words())"
   ]
  },
  {
   "cell_type": "markdown",
   "metadata": {
    "slideshow": {
     "slide_type": "slide"
    }
   },
   "source": [
    "![Vererbung](images/inheritance.png)"
   ]
  },
  {
   "cell_type": "markdown",
   "metadata": {
    "slideshow": {
     "slide_type": "slide"
    }
   },
   "source": [
    "### Vererbung"
   ]
  },
  {
   "cell_type": "code",
   "execution_count": 16,
   "metadata": {
    "collapsed": false,
    "slideshow": {
     "slide_type": "-"
    }
   },
   "outputs": [
    {
     "name": "stdout",
     "output_type": "stream",
     "text": [
      "Max Müller <max.mueller@example.com>\n"
     ]
    }
   ],
   "source": [
    "# zur Erinnerung nochmal die Klasse 'Person':\n",
    "class Person:\n",
    "    \"\"\"\n",
    "    Eine Person.\n",
    "    \"\"\"\n",
    "    \n",
    "    def __init__(self, name, email):\n",
    "        \"\"\"\n",
    "        Erzeugt eine neue Person.\n",
    "        \"\"\"\n",
    "        self.name = name\n",
    "        self.email = email\n",
    "        \n",
    "    def formattedOutput(self):\n",
    "        \"\"\"\n",
    "        Liefert einen String zurück, der diese Person beschreibt.\n",
    "        \"\"\"\n",
    "        return self.name + ' <' + self.email + '>'\n",
    "    \n",
    "    def describe(self):\n",
    "        \"\"\"\n",
    "        Beschreibt diese Person.\n",
    "        \"\"\"\n",
    "        print(self.formattedOutput())\n",
    "        \n",
    "max = Person(\"Max Müller\", \"max.mueller@example.com\")\n",
    "max.describe()"
   ]
  },
  {
   "cell_type": "markdown",
   "metadata": {
    "slideshow": {
     "slide_type": "subslide"
    }
   },
   "source": [
    "### Vererbung\n",
    "\n",
    "Eine Klasse kann eine _Superklasse_ (_Oberklasse_) haben, deren Eigenschaften sie erbt."
   ]
  },
  {
   "cell_type": "code",
   "execution_count": 38,
   "metadata": {
    "collapsed": false,
    "slideshow": {
     "slide_type": "fragment"
    }
   },
   "outputs": [],
   "source": [
    "class Student(Person):    # in Klammern: Superklasse\n",
    "    \n",
    "    def __init__(self, name, email, matrikel):\n",
    "        super().__init__(name, email)  # super() -> Oberklasse\n",
    "        self.matrikel = matrikel\n",
    "        \n",
    "    def formattedOutput(self):\n",
    "        return self.name + ' <' + self.email + '> (' + str(self.matrikel) + ')'        "
   ]
  },
  {
   "cell_type": "code",
   "execution_count": 33,
   "metadata": {
    "collapsed": false,
    "slideshow": {
     "slide_type": "fragment"
    }
   },
   "outputs": [
    {
     "name": "stdout",
     "output_type": "stream",
     "text": [
      "Moritz Maier <moritz.maier@example.com> (4711)\n"
     ]
    }
   ],
   "source": [
    "moritz = Student(\"Moritz Maier\", \"moritz.maier@example.com\", 4711)\n",
    "moritz.describe()"
   ]
  },
  {
   "cell_type": "code",
   "execution_count": 34,
   "metadata": {
    "collapsed": false,
    "slideshow": {
     "slide_type": "fragment"
    }
   },
   "outputs": [
    {
     "name": "stdout",
     "output_type": "stream",
     "text": [
      "Max Müller True False\n",
      "Moritz Maier True True\n"
     ]
    }
   ],
   "source": [
    "for p in max, moritz:\n",
    "    print(p.name, isinstance(p, Person), isinstance(p, Student))"
   ]
  },
  {
   "cell_type": "markdown",
   "metadata": {
    "slideshow": {
     "slide_type": "subslide"
    }
   },
   "source": [
    "### Vererbung im Detail\n",
    "\n",
    "Wird eine Klasse definiert, so kann sie mit einer Oberklasse verknüpft werden, deren Eigenschaften sie _erbt_:\n",
    "\n",
    "```\n",
    "class Student(Person):\n",
    "```\n",
    "definiert die Klasse Student, deren Oberklasse Person ist.\n",
    "\n",
    "* Objekte des Typs `Student` sind _auch_ vom Typ `Person`\n",
    "* Objekte vom Typ `Person` sind aber nicht notwendigerweise vom Typ `Student`\n",
    "* Alle `Student`en haben die Eigenschaften von `Person`en, die `Student`-Klasse kann Attribute und Methoden jedoch überschreiben"
   ]
  },
  {
   "cell_type": "markdown",
   "metadata": {
    "slideshow": {
     "slide_type": "subslide"
    }
   },
   "source": [
    "### Methoden überschreiben\n",
    "* Wird in der Subklasse eine Methode definiert, so wird diese statt die der Oberklasse verwendet\n",
    "* in einer Methode kann mit `super()` auf die Oberklasse zugegriffen werden"
   ]
  },
  {
   "cell_type": "code",
   "execution_count": 17,
   "metadata": {
    "collapsed": false,
    "slideshow": {
     "slide_type": "-"
    }
   },
   "outputs": [],
   "source": [
    "class Student(Person):    # in Klammern: Superklasse\n",
    "    \n",
    "    def __init__(self, name, email, matrikel):\n",
    "        super().__init__(name, email)  # super() -> Oberklasse\n",
    "        self.matrikel = matrikel\n"
   ]
  },
  {
   "cell_type": "markdown",
   "metadata": {
    "slideshow": {
     "slide_type": "-"
    }
   },
   "source": [
    "hier wird `__init__` von Person überschrieben und aus der überschreibenden Methode  mithilfe von `super()` aufgerufen"
   ]
  },
  {
   "cell_type": "markdown",
   "metadata": {
    "slideshow": {
     "slide_type": "subslide"
    }
   },
   "source": [
    "### Polymorphie\n",
    "\n",
    "* Ein Objekt einer Subklasse kann wie das der Superklasse verwendet werden, es werden jedoch ggf. die Methoden der Subklasse verwendet.\n",
    "* Beispiel: `Student.formattedOutput` wird aus `Person.describe` aufgerufen ..."
   ]
  },
  {
   "cell_type": "code",
   "execution_count": 18,
   "metadata": {
    "collapsed": false,
    "slideshow": {
     "slide_type": "fragment"
    }
   },
   "outputs": [],
   "source": [
    "class Student(Person):    # in Klammern: Superklasse\n",
    "    \n",
    "    def __init__(self, name, email, matrikel):\n",
    "        super().__init__(name, email)  # super() -> Oberklasse\n",
    "        self.matrikel = matrikel\n",
    "        \n",
    "    def formattedOutput(self):\n",
    "        return self.name + ' <' + self.email + '> (' + str(self.matrikel) + ')'        "
   ]
  },
  {
   "cell_type": "code",
   "execution_count": 19,
   "metadata": {
    "collapsed": false,
    "slideshow": {
     "slide_type": "fragment"
    }
   },
   "outputs": [
    {
     "name": "stdout",
     "output_type": "stream",
     "text": [
      "Moritz Maier <moritz.maier@example.com> (4711)\n"
     ]
    }
   ],
   "source": [
    "moritz = Student(\"Moritz Maier\", \"moritz.maier@example.com\", 4711)\n",
    "moritz.describe()"
   ]
  },
  {
   "cell_type": "markdown",
   "metadata": {
    "slideshow": {
     "slide_type": "slide"
    }
   },
   "source": [
    "<h3 style=\"color:green;\">Aufgabe</h3>\n",
    "\n",
    "* Erzeugen Sie eine Subklasse `MarkedUpText` zu Ihrer `Text`-Klasse von oben. \n",
    "* Die Subklasse soll Strings mit Tags wie in `\"Dies ist ein <hi rend=\"bold\">wichtiger</bold> Text\"` im Konstruktor akzeptieren\n",
    "* die übrigen Methoden sollen funktionieren wie bei `Text`, aber sich nur auf den reinen Textinhalt ohne Tags beziehen. \n",
    "* Definieren Sie außerdem eine Methode `raw_length()`, die die Länge in Zeichen _mit_ Markup liefert"
   ]
  },
  {
   "cell_type": "code",
   "execution_count": 20,
   "metadata": {
    "collapsed": false,
    "slideshow": {
     "slide_type": "fragment"
    }
   },
   "outputs": [],
   "source": [
    "class Student(Person):                 # in Klammern: Superklasse\n",
    "    \n",
    "    def __init__(self, name, email, matrikel):\n",
    "        super().__init__(name, email)  # super() -> Oberklasse\n",
    "        self.matrikel = matrikel\n",
    "        \n",
    "    def formattedOutput(self):\n",
    "        return self.name + ' <' + self.email + '> (' + str(self.matrikel) + ')'        "
   ]
  },
  {
   "cell_type": "code",
   "execution_count": null,
   "metadata": {
    "collapsed": false,
    "slideshow": {
     "slide_type": "subslide"
    }
   },
   "outputs": [],
   "source": [
    "import re\n",
    "\n",
    "class MarkedUpText(Text):\n",
    "    \n",
    "    def __init__(self, markedup_text):\n",
    "        self.raw_text = markedup_text\n",
    "        plain_text = re.sub('<[^>]+>', '', markedup_text)\n",
    "        super().__init__(plain_text)\n",
    "    \n",
    "    def raw_length(self):\n",
    "        return len(self.raw_text)"
   ]
  },
  {
   "cell_type": "code",
   "execution_count": null,
   "metadata": {
    "collapsed": false,
    "slideshow": {
     "slide_type": "fragment"
    }
   },
   "outputs": [],
   "source": [
    "m = MarkedUpText('Dies ist ein <hi rend=\"bold\">wichtiger</bold> Text')\n",
    "print(m.text, m.length(), m.words(), m.raw_length(), sep=\"; \")"
   ]
  }
 ],
 "metadata": {
  "celltoolbar": "Slideshow",
  "kernelspec": {
   "display_name": "Python 3",
   "language": "python",
   "name": "python3"
  },
  "language_info": {
   "codemirror_mode": {
    "name": "ipython",
    "version": 3
   },
   "file_extension": ".py",
   "mimetype": "text/x-python",
   "name": "python",
   "nbconvert_exporter": "python",
   "pygments_lexer": "ipython3",
   "version": "3.5.1+"
  }
 },
 "nbformat": 4,
 "nbformat_minor": 0
}
