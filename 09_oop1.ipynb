{
 "cells": [
  {
   "cell_type": "markdown",
   "metadata": {
    "slideshow": {
     "slide_type": "slide"
    }
   },
   "source": [
    "# Einführung in das Programmieren mit Python"
   ]
  },
  {
   "cell_type": "markdown",
   "metadata": {
    "slideshow": {
     "slide_type": "slide"
    }
   },
   "source": [
    "## Wiederholung: [Reguläre Ausdrücke](08_re.slides.html)\n",
    "\n",
    "* Minisprache zur Beschreibung von Klassen von Strings\n",
    "* Suchen, Ersetzen, Informationen extrahieren\n",
    "* Ein **Pattern** **matcht** auf einen String, bzw. auf Teilstrings\n",
    "* Entwickeln z.B. mit [pythex.org](http://pythex.org)"
   ]
  },
  {
   "cell_type": "code",
   "execution_count": 23,
   "metadata": {
    "collapsed": false,
    "slideshow": {
     "slide_type": "-"
    }
   },
   "outputs": [
    {
     "data": {
      "text/plain": [
       "['10', '12']"
      ]
     },
     "execution_count": 23,
     "metadata": {},
     "output_type": "execute_result"
    }
   ],
   "source": [
    "import re\n",
    "re.findall(\"[0-9]+\", \"Jeden Mittwoch von 10 bis 12 lernen wir Python.\")"
   ]
  },
  {
   "cell_type": "markdown",
   "metadata": {
    "slideshow": {
     "slide_type": "subslide"
    }
   },
   "source": [
    "<h3>Special characters</h3>\n",
    "<table>\n",
    "    <tbody><tr>\n",
    "            <td class=\"key_td\"><code>\\</code></td>\n",
    "            <td>escape special characters</td>\n",
    "        </tr>\n",
    "        <tr>\n",
    "            <td class=\"key_td\"><code>.</code></td>\n",
    "            <td>matches any character</td>\n",
    "        </tr>\n",
    "        <tr>\n",
    "            <td class=\"key_td\"><code>^</code></td>\n",
    "            <td>matches beginning of string</td>\n",
    "        </tr>\n",
    "        <tr>\n",
    "            <td class=\"key_td\"><code>$</code></td>\n",
    "            <td>matches end of string</td>\n",
    "        </tr>\n",
    "        <tr>\n",
    "            <td class=\"key_td\"><code>[5b-d]</code></td>\n",
    "            <td>matches any chars '5', 'b', 'c' or 'd'</td>\n",
    "        </tr>\n",
    "        <tr>\n",
    "            <td class=\"key_td\"><code>[^a-c6]</code></td>\n",
    "            <td>matches any char except 'a', 'b', 'c' or '6'</td>\n",
    "        </tr>\n",
    "        <tr>\n",
    "            <td class=\"key_td\"><code>R|S</code></td>\n",
    "            <td>matches either regex <code>R</code> or regex <code>S</code></td>\n",
    "        </tr>\n",
    "        <tr>\n",
    "            <td class=\"key_td\"><code>()</code></td>\n",
    "            <td>creates a capture group and indicates precedence</td>\n",
    "        </tr>\n",
    "    </tbody>\n",
    "</table>\n",
    "<h3>Quantifiers</h3>\n",
    "<table>\n",
    "    <tbody><tr>\n",
    "            <td class=\"key_td\"><code>*</code></td>\n",
    "            <td>0 or more (append <code>?</code> for non-greedy)</td>\n",
    "        </tr>\n",
    "        <tr>\n",
    "            <td class=\"key_td\"><code>+</code></td>\n",
    "            <td>1 or more (append <code>?</code> for non-greedy)</td>\n",
    "        </tr>\n",
    "        <tr>\n",
    "            <td class=\"key_td\"><code>?</code></td>\n",
    "            <td>0 or 1 (append <code>?</code> for non-greedy)</td>\n",
    "        </tr>\n",
    "        <tr>\n",
    "            <td class=\"key_td\"><code>{m}</code></td>\n",
    "            <td>exactly <code>m</code> occurrences</td>\n",
    "        </tr>\n",
    "        <tr>\n",
    "            <td class=\"key_td\"><code>{m, n}</code></td>\n",
    "            <td>from <code>m</code> to <code>n</code>. <code>m</code> defaults to 0, <code>n</code> to infinity</td>\n",
    "        </tr>\n",
    "        <tr>\n",
    "            <td class=\"key_td\"><code>{m, n}?</code></td>\n",
    "            <td>from <code>m</code> to <code>n</code>, as few as possible</td>\n",
    "        </tr>\n",
    "    </tbody>\n",
    "</table>\n"
   ]
  },
  {
   "cell_type": "markdown",
   "metadata": {
    "slideshow": {
     "slide_type": "subslide"
    }
   },
   "source": [
    "<h3>Special sequences</h3>\n",
    "<table>\n",
    "    <tbody><tr>\n",
    "            <td class=\"key_td\"><code>\\A</code></td>\n",
    "            <td>start of string</td>\n",
    "        </tr>\n",
    "        <tr>\n",
    "            <td class=\"key_td\"><code>\\b</code></td>\n",
    "            <td>matches empty string at word boundary (between <code>\\w</code> and <code>\\W</code>)</td>\n",
    "        </tr>\n",
    "        <tr>\n",
    "            <td class=\"key_td\"><code>\\B</code></td>\n",
    "            <td>matches empty string not at word boundary</td>\n",
    "        </tr>\n",
    "        <tr>\n",
    "            <td class=\"key_td\"><code>\\d</code></td>\n",
    "            <td>digit</td>\n",
    "        </tr>\n",
    "        <tr>\n",
    "            <td class=\"key_td\"><code>\\D</code></td>\n",
    "            <td>non-digit</td>\n",
    "        </tr>\n",
    "        <tr>\n",
    "            <td class=\"key_td\"><code>\\s</code></td>\n",
    "            <td>whitespace: <code>[ \\t\\n\\r\\f\\v]</code></td>\n",
    "        </tr>\n",
    "        <tr>\n",
    "            <td class=\"key_td\"><code>\\S</code></td>\n",
    "            <td>non-whitespace</td>\n",
    "        </tr>\n",
    "        <tr>\n",
    "            <td class=\"key_td\"><code>\\w</code></td>\n",
    "            <td>alphanumeric: <code>[0-9a-zA-Z_]</code></td>\n",
    "        </tr>\n",
    "        <tr>\n",
    "            <td class=\"key_td\"><code>\\W</code></td>\n",
    "            <td>non-alphanumeric</td>\n",
    "        </tr>\n",
    "        <tr>\n",
    "            <td class=\"key_td\"><code>\\Z</code></td>\n",
    "            <td>end of string</td>\n",
    "        </tr>\n",
    "        <tr>\n",
    "            <td class=\"key_td\">`\\1`, `\\2`, ...</td>\n",
    "            <td>matches a previously defined group</td>\n",
    "        </tr>\n",
    "    </tbody>\n",
    "</table>\n",
    "<h3>Für Fortgeschrittene: Spezielle Sequenzen, siehe Doku</h3>\n",
    "<table>\n",
    "    <tbody><tr>\n",
    "            <td class=\"key_td\"><code>(?iLmsux)</code></td>\n",
    "            <td>matches empty string, sets re.X flags</td>\n",
    "        </tr>\n",
    "        <tr>\n",
    "            <td class=\"key_td\"><code>(?:...)</code></td>\n",
    "            <td>non-capturing version of regular parentheses</td>\n",
    "        </tr>\n",
    "        <tr>\n",
    "            <td class=\"key_td\"><code>(?P<name>...)</name></code></td>\n",
    "            <td>matches whatever matched previously named group</td>\n",
    "        </tr>\n",
    "        <tr>\n",
    "            <td class=\"key_td\"><code>(?P=<name>)</name></code></td>\n",
    "            <td>digit</td>\n",
    "        </tr>\n",
    "        <tr>\n",
    "            <td class=\"key_td\"><code>(?#...)</code></td>\n",
    "            <td>a comment; ignored</td>\n",
    "        </tr>\n",
    "        <tr>\n",
    "            <td class=\"key_td\"><code>(?=...)</code></td>\n",
    "            <td>lookahead assertion: matches without consuming</td>\n",
    "        </tr>\n",
    "        <tr>\n",
    "            <td class=\"key_td\"><code>(?!...)</code></td>\n",
    "            <td>negative lookahead assertion</td>\n",
    "        </tr>\n",
    "        <tr>\n",
    "            <td class=\"key_td\"><code>(?&lt;=...)</code></td>\n",
    "            <td>lookbehind assertion: matches if preceded</td>\n",
    "        </tr>\n",
    "        <tr>\n",
    "            <td class=\"key_td\"><code>(?&lt;!...)</code></td>\n",
    "            <td>negative lookbehind assertion</td>\n",
    "        </tr>\n",
    "        <tr>\n",
    "            <td class=\"key_td\"><code>(?(id)yes|no)</code></td>\n",
    "            <td>match 'yes' if group 'id' matched, else 'no'</td></tr></tbody>\n",
    "</table>\n"
   ]
  },
  {
   "cell_type": "markdown",
   "metadata": {
    "slideshow": {
     "slide_type": "slide"
    }
   },
   "source": [
    "### Reguläre Ausdrücke anwenden (2)\n",
    "\n",
    "![Übersicht über das re-Modul](images/re-uebersicht.svg)"
   ]
  },
  {
   "cell_type": "markdown",
   "metadata": {
    "slideshow": {
     "slide_type": "slide"
    }
   },
   "source": [
    "## Einführung in das Programmieren mit Python\n",
    "# Objektorientiertes Programmieren in Python"
   ]
  },
  {
   "cell_type": "markdown",
   "metadata": {
    "slideshow": {
     "slide_type": "slide"
    }
   },
   "source": [
    "### Objektorientierte Programmierung – Idee und Konzept\n",
    "\n",
    "* zusammengehörige Daten werden in einen gemeinsamen Container zusammengefasst\n",
    "* Operationen auf diesen Daten kommen ebenfalls in diesen Container\n",
    "* Ergebnis: **Objekt**, das seine internen Daten kapselt und Operationen anbietet"
   ]
  },
  {
   "cell_type": "code",
   "execution_count": 27,
   "metadata": {
    "collapsed": false,
    "slideshow": {
     "slide_type": "fragment"
    }
   },
   "outputs": [
    {
     "data": {
      "text/plain": [
       "'hallo'"
      ]
     },
     "execution_count": 27,
     "metadata": {},
     "output_type": "execute_result"
    }
   ],
   "source": [
    "\"Hallo\".lower()"
   ]
  },
  {
   "cell_type": "markdown",
   "metadata": {
    "slideshow": {
     "slide_type": "subslide"
    }
   },
   "source": [
    "### Begriffe\n",
    "\n",
    "* **Objekt** oder **Instanz**  (z.B. `\"Hallo\"`)\n",
    "   * in Python ist _alles_ ein Objekt\n",
    "* **Attribute** oder **Eigenschaften** (oder **Felder**)\n",
    "   * Zugriff per `objekt.feld`\n",
    "   * les- und ggf. schreibbar\n",
    "* **Methoden**\n",
    "   * Funktionen, die teil eines Objekts sind und mit dem Objekt arbeiten"
   ]
  },
  {
   "cell_type": "code",
   "execution_count": 2,
   "metadata": {
    "collapsed": false,
    "slideshow": {
     "slide_type": "fragment"
    }
   },
   "outputs": [
    {
     "name": "stdout",
     "output_type": "stream",
     "text": [
      "UTF-8\n",
      "Kurzer Roman.\n",
      "Dies ist ein langer Roman. Er beginnt mit dem Auftritt des Heldens. \n",
      "Da es keine Helden gibt, unterbricht hier schon der Leser …\n",
      "\n"
     ]
    }
   ],
   "source": [
    "f = open(\"roman.txt\")\n",
    "print(f.encoding)\n",
    "print(f.read())"
   ]
  },
  {
   "cell_type": "markdown",
   "metadata": {
    "slideshow": {
     "slide_type": "subslide"
    }
   },
   "source": [
    "### Klassen\n",
    "\n",
    "* Der _Datentyp_ eines Objekts ist seine **Klasse**\n",
    "* Klasse = »Bauplan« für die Objekte, definiert die Methoden (und Eigenschaften)"
   ]
  },
  {
   "cell_type": "code",
   "execution_count": 4,
   "metadata": {
    "collapsed": false,
    "slideshow": {
     "slide_type": "fragment"
    }
   },
   "outputs": [
    {
     "name": "stdout",
     "output_type": "stream",
     "text": [
      "<class 'str'>\n"
     ]
    }
   ],
   "source": [
    "print(type(\"Hallo\"))"
   ]
  },
  {
   "cell_type": "code",
   "execution_count": 6,
   "metadata": {
    "collapsed": false,
    "slideshow": {
     "slide_type": "subslide"
    }
   },
   "outputs": [
    {
     "name": "stdout",
     "output_type": "stream",
     "text": [
      "Max Müller <max.mueller@example.com>\n"
     ]
    }
   ],
   "source": [
    "class Person:\n",
    "    \"\"\"\n",
    "    Eine Person.\n",
    "    \"\"\"\n",
    "    \n",
    "    def __init__(self, name, email):\n",
    "        \"\"\"\n",
    "        Erzeugt eine neue Person.\n",
    "        \"\"\"\n",
    "        self.name = name\n",
    "        self.email = email\n",
    "        \n",
    "    def formattedOutput(self):\n",
    "        \"\"\"\n",
    "        Liefert einen String zurück, der diese Person beschreibt.\n",
    "        \"\"\"\n",
    "        return self.name + ' <' + self.email + '>'\n",
    "    \n",
    "    def describe(self):\n",
    "        \"\"\"\n",
    "        Beschreibt diese Person.\n",
    "        \"\"\"\n",
    "        print(self.formattedOutput())\n",
    "        \n",
    "max = Person(\"Max Müller\", \"max.mueller@example.com\")\n",
    "max.describe()"
   ]
  },
  {
   "cell_type": "code",
   "execution_count": 7,
   "metadata": {
    "collapsed": false,
    "slideshow": {
     "slide_type": "fragment"
    }
   },
   "outputs": [
    {
     "name": "stdout",
     "output_type": "stream",
     "text": [
      "Max Müller\n"
     ]
    }
   ],
   "source": [
    "print(max.name)"
   ]
  },
  {
   "cell_type": "code",
   "execution_count": 8,
   "metadata": {
    "collapsed": false,
    "slideshow": {
     "slide_type": "fragment"
    }
   },
   "outputs": [
    {
     "name": "stdout",
     "output_type": "stream",
     "text": [
      "<class '__main__.Person'>\n"
     ]
    }
   ],
   "source": [
    "print(type(max))"
   ]
  },
  {
   "cell_type": "markdown",
   "metadata": {
    "slideshow": {
     "slide_type": "subslide"
    }
   },
   "source": [
    "### Klassen im Detail\n",
    "Eine _Klassendefinition_ erzeugt eine Klasse und weist sie einem Klassennamen zu:\n",
    "```\n",
    "class Person:\n",
    "```\n",
    "Dabei entsteht ein Block (durch Einrückung). In diesem Block stehen Eigenschaften (der Klasse! z.B. Docstring) und Methoden.\n",
    "\n",
    "* Per Konvention beginnen Klassennamen mit einem Großbuchstaben (Ausnahme: Altlasten wie list)\n",
    "* Eine Klasse kann als Funktion aufgerufen werden:\n",
    "```\n",
    "max = Person(\"Max Müller\", \"max.mueller@example.com\")\n",
    "```\n",
    "* Dadurch wird ein _Objekt_ dieser Klasse erzeugt, so wie z.B. `list(1, 2, 3)` ein Objekt der Klasse `list` erzeugt\n",
    "* `Person(...)` = __Konstruktoraufruf__\n",
    "* die Argumente werden an die spezielle Methode `__init__` übergeben"
   ]
  },
  {
   "cell_type": "markdown",
   "metadata": {
    "slideshow": {
     "slide_type": "subslide"
    }
   },
   "source": [
    "### Methoden\n",
    "\n",
    "* Eine Funktion, die in einer Klassendefinition erzeugt wird, heißt _Methode_.\n",
    "* Methoden bekommen ein erstes Argument, das immer `self` heißen sollte\n",
    "* darin wird der Methode das Objekt (= die Instanz) übergeben"
   ]
  },
  {
   "cell_type": "code",
   "execution_count": 35,
   "metadata": {
    "collapsed": false,
    "slideshow": {
     "slide_type": "fragment"
    }
   },
   "outputs": [
    {
     "name": "stdout",
     "output_type": "stream",
     "text": [
      "<class '__main__.Beispiel'>\n"
     ]
    }
   ],
   "source": [
    "class Beispiel:\n",
    "    def whatami(self):\n",
    "        print(type(self))\n",
    "bsp = Beispiel()\n",
    "bsp.whatami()"
   ]
  },
  {
   "cell_type": "markdown",
   "metadata": {
    "slideshow": {
     "slide_type": "subslide"
    }
   },
   "source": [
    "### Initialisierung\n",
    "* Es gibt Methoden mit Spezialbedeutung: Namenskonvention `__irgendwas__`\n",
    "* Beispiel Initialisierung: `__init__`\n",
    "* Wenn `__init__` definiert es, wird es unmittelbar nach der Instantiierung (= Objekterzeugung) mit den Argumenten des Konstruktoraufrufs aufgerufen.\n",
    "\n",
    "```\n",
    "max = Person(\"Max\", \"max@example.com\")\n",
    "```\n",
    "1. Objekt der Klasse `Person` wird erzeugt\n",
    "2. (implizit) Aufruf der Methode `__init__` der Objektklasse mit den Argumenten `self` (das Objekt), `\"Max\"` und `\"max@example.com\"`\n",
    "3. das erzeugte und initialisierte Objekt wird der Variablen `max` zugewiesen"
   ]
  },
  {
   "cell_type": "markdown",
   "metadata": {
    "slideshow": {
     "slide_type": "subslide"
    }
   },
   "source": [
    "### Attribute\n",
    "\n",
    "* __Attribute__ sind Eigenschaften eines Objekts\n",
    "* Wie Variablen, aber an eine Objektinstanz gekoppelt (in jedem Objekt anders)\n",
    "* Zugriff mit `objekt.attribut`, z.B. `max.name`\n",
    "* Üblicherweise Initialisierung in der `__init__`-Methode\n",
    "\n",
    "```\n",
    "    def __init__(self, name, email):\n",
    "        self.name = name\n",
    "        self.email = email\n",
    "```"
   ]
  },
  {
   "cell_type": "markdown",
   "metadata": {
    "slideshow": {
     "slide_type": "subslide"
    }
   },
   "source": [
    "### Unsere Personklasse (wdh)"
   ]
  },
  {
   "cell_type": "code",
   "execution_count": 6,
   "metadata": {
    "collapsed": false,
    "slideshow": {
     "slide_type": "-"
    }
   },
   "outputs": [
    {
     "name": "stdout",
     "output_type": "stream",
     "text": [
      "Max Müller <max.mueller@example.com>\n"
     ]
    }
   ],
   "source": [
    "class Person:\n",
    "    \"\"\"\n",
    "    Eine Person.\n",
    "    \"\"\"\n",
    "    \n",
    "    def __init__(self, name, email):\n",
    "        \"\"\"\n",
    "        Erzeugt eine neue Person.\n",
    "        \"\"\"\n",
    "        self.name = name\n",
    "        self.email = email\n",
    "        \n",
    "    def formattedOutput(self):\n",
    "        \"\"\"\n",
    "        Liefert einen String zurück, der diese Person beschreibt.\n",
    "        \"\"\"\n",
    "        return self.name + ' <' + self.email + '>'\n",
    "    \n",
    "    def describe(self):\n",
    "        \"\"\"\n",
    "        Beschreibt diese Person.\n",
    "        \"\"\"\n",
    "        print(self.formattedOutput())\n",
    "        \n",
    "max = Person(\"Max Müller\", \"max.mueller@example.com\")\n",
    "max.describe()"
   ]
  },
  {
   "cell_type": "code",
   "execution_count": 1,
   "metadata": {
    "collapsed": false,
    "slideshow": {
     "slide_type": "slide"
    }
   },
   "outputs": [
    {
     "name": "stdout",
     "output_type": "stream",
     "text": [
      "Max Müller <max.mueller@example.com>\n"
     ]
    }
   ],
   "source": [
    "class Person:\n",
    "    def __init__(self, name, email):\n",
    "        self.name = name\n",
    "        self.email = email        \n",
    "    def formattedOutput(self):\n",
    "        return self.name + ' <' + self.email + '>'\n",
    "    def describe(self):\n",
    "        print(self.formattedOutput())\n",
    "        \n",
    "max = Person(\"Max Müller\", \"max.mueller@example.com\")\n",
    "max.describe()"
   ]
  },
  {
   "cell_type": "markdown",
   "metadata": {
    "slideshow": {
     "slide_type": "fragment"
    }
   },
   "source": [
    "<h3 style=\"color:green\">Aufgaben</h3>\n",
    "1. Definieren Sie eine Klasse mit dem Namen `Text`, der beim Aufruf ein String übergeben wird, z.B.:<br/>\n",
    "`t = Text(\"Dies ist ein kleiner Text. Nicht der Rede wert. Aber immerhin.\")`\n",
    "2. Definieren Sie eine Methode der Klasse, die die Länge des Textes zurückgibt.\n",
    "3. Definieren Sie eine weitere Methode, die die Wörter in Form einer Liste zurückgibt."
   ]
  },
  {
   "cell_type": "code",
   "execution_count": 2,
   "metadata": {
    "collapsed": false,
    "slideshow": {
     "slide_type": "subslide"
    }
   },
   "outputs": [
    {
     "name": "stdout",
     "output_type": "stream",
     "text": [
      "Länge: 62\n",
      "Wörter: ['Dies', 'ist', 'ein', 'kleiner', 'Text.', 'Nicht', 'der', 'Rede', 'wert.', 'Aber', 'immerhin.']\n"
     ]
    }
   ],
   "source": [
    "class Text:\n",
    "    def __init__(self, text):\n",
    "        self.text = text\n",
    "    def length(self):\n",
    "        return len(self.text)\n",
    "    def words(self):\n",
    "        return self.text.split()\n",
    "t = Text(\"Dies ist ein kleiner Text. Nicht der Rede wert. Aber immerhin.\")\n",
    "print(\"Länge:\", t.length())\n",
    "print(\"Wörter:\", t.words())"
   ]
  },
  {
   "cell_type": "markdown",
   "metadata": {
    "slideshow": {
     "slide_type": "skip"
    }
   },
   "source": [
    "<h3 style='color: green'>Hausaufgabe</h3>\n",
    "\n",
    "1. Definieren Sie eine Klasse `Obst`. Instanzen dieser Klasse sollen für jede Obstsorte den Namen speichern können sowie in welchen Monaten das Obst in unseren Breiten geerntet werden kann.\n",
    "2. Fügen Sie der Klasse eine Methode `verfuegbar(monat)` hinzu, die als Argument ein Monatskürzel nimmt und zurückgibt, ob die Obstsorte in diesem Monat regional verfügbar ist.\n",
    "3. Erzeugen Sie anhand der folgenden Tabelle ([Quelle: regional-saisonal](http://www.regional-saisonal.de/saisonkalender-obst)) Obst-Instanzen und fragen Sie sie beispielhaft, ob die Sorten im Juni und im August verfügbar sind.\n",
    "<table border=\"1\">\n",
    "\t<tr>\n",
    "\t\t<th class=\"td_zutat\" width=\"38%\">Zutat (Obst)</th>\n",
    "\t\t<th width=\"6%\"><abbr title=\"Januar\">Jan</abbr></th>\n",
    "\t\t<th width=\"6%\"><abbr title=\"Februar\">Feb</abbr></th>\n",
    "\t\t<th width=\"6%\"><abbr title=\"März\">Mär</abbr></th>\n",
    "\t\t<th width=\"6%\"><abbr title=\"April\">Apr</abbr></th>\n",
    "\t\t<th width=\"6%\"><abbr title=\"Mai\">Mai</abbr></th>\n",
    "\t\t<th width=\"6%\"><abbr title=\"Juni\">Jun</abbr></th>\n",
    "\t\t<th width=\"6%\"><abbr title=\"Juli\">Jul</abbr></th>\n",
    "\t\t<th width=\"6%\"><abbr title=\"August\">Aug</abbr></th>\n",
    "\t\t<th width=\"6%\"><abbr title=\"September\">Sep</abbr></th>\n",
    "\t\t<th width=\"6%\"><abbr title=\"Oktober\">Okt</abbr></th>\n",
    "\t\t<th width=\"6%\"><abbr title=\"November\">Nov</abbr></th>\n",
    "\t\t<th width=\"6%\"><abbr title=\"Dezember\">Dez</abbr></th>\n",
    "\t</tr>\t\t\t\t\t\t\t\n",
    "\t<tr>\n",
    "\t\t<td class=\"td_zutat\">Aprikosen</td>\n",
    "\t\t<td>nein</td>\n",
    "\t\t<td>nein</td>\n",
    "\t\t<td>nein</td>\n",
    "\t\t<td>nein</td>\n",
    "\t\t<td>nein</td>\n",
    "\t\t<td>nein</td>\t\t\t\t\t\t\t\t\n",
    "\t\t<td>ja</td>\n",
    "\t\t<td>ja</td>\n",
    "\t\t<td>nein</td>\n",
    "\t\t<td>nein</td>\n",
    "\t\t<td>nein</td>\n",
    "\t\t<td>nein</td>\n",
    "\t</tr>\t\n",
    "\t<tr>\n",
    "\t\t<td class=\"td_zutat\"><a href=\"http://www.regional-saisonal.de/rezept-zutaten/brombeeren\" title=\"zu den Rezepten mit Brombeeren\">Brombeeren</a></td>\n",
    "\t\t<td>nein</td>\n",
    "\t\t<td>nein</td>\n",
    "\t\t<td>nein</td>\n",
    "\t\t<td>nein</td>\n",
    "\t\t<td>nein</td>\n",
    "\t\t<td>nein</td>\n",
    "\t\t<td>ja</td>\t\t\t\t\t\t\t\n",
    "\t\t<td>ja</td>\n",
    "\t\t<td>ja</td>\n",
    "\t\t<td>nein</td>\n",
    "\t\t<td>nein</td>\n",
    "\t\t<td>nein</td>\n",
    "\t</tr>\t\n",
    "\t<tr>\n",
    "\t\t<td class=\"td_zutat\"><a href=\"http://www.regional-saisonal.de/rezept-zutaten/erdbeeren\" title=\"zu den Rezepten mit Erdbeeren\">Erdbeeren</a></td>\n",
    "\t\t<td>nein</td>\n",
    "\t\t<td>nein</td>\n",
    "\t\t<td>nein</td>\n",
    "\t\t<td>nein</td>\n",
    "\t\t<td>ja</td>\t\t\t\t\t\t\t\t\t\t\t\t\t\n",
    "\t\t<td>ja</td>\n",
    "\t\t<td>ja</td>\n",
    "\t\t<td>nein</td>\t\n",
    "\t\t<td>nein</td>\n",
    "\t\t<td>nein</td>\n",
    "\t\t<td>nein</td>\n",
    "\t\t<td>nein</td>\n",
    "\t</tr>\n",
    "</table>\t\t\t\t\t\t"
   ]
  },
  {
   "cell_type": "markdown",
   "metadata": {
    "slideshow": {
     "slide_type": "slide"
    }
   },
   "source": [
    "![Vererbung](images/inheritance.png)"
   ]
  },
  {
   "cell_type": "markdown",
   "metadata": {
    "slideshow": {
     "slide_type": "slide"
    }
   },
   "source": [
    "### Vererbung"
   ]
  },
  {
   "cell_type": "code",
   "execution_count": 16,
   "metadata": {
    "collapsed": false,
    "slideshow": {
     "slide_type": "-"
    }
   },
   "outputs": [
    {
     "name": "stdout",
     "output_type": "stream",
     "text": [
      "Max Müller <max.mueller@example.com>\n"
     ]
    }
   ],
   "source": [
    "# zur Erinnerung nochmal die Klasse 'Person':\n",
    "class Person:\n",
    "    \"\"\"\n",
    "    Eine Person.\n",
    "    \"\"\"\n",
    "    \n",
    "    def __init__(self, name, email):\n",
    "        \"\"\"\n",
    "        Erzeugt eine neue Person.\n",
    "        \"\"\"\n",
    "        self.name = name\n",
    "        self.email = email\n",
    "        \n",
    "    def formattedOutput(self):\n",
    "        \"\"\"\n",
    "        Liefert einen String zurück, der diese Person beschreibt.\n",
    "        \"\"\"\n",
    "        return self.name + ' <' + self.email + '>'\n",
    "    \n",
    "    def describe(self):\n",
    "        \"\"\"\n",
    "        Beschreibt diese Person.\n",
    "        \"\"\"\n",
    "        print(self.formattedOutput())\n",
    "        \n",
    "max = Person(\"Max Müller\", \"max.mueller@example.com\")\n",
    "max.describe()"
   ]
  },
  {
   "cell_type": "markdown",
   "metadata": {
    "slideshow": {
     "slide_type": "subslide"
    }
   },
   "source": [
    "### Vererbung\n",
    "\n",
    "Eine Klasse kann eine _Superklasse_ (_Oberklasse_) haben, deren Eigenschaften sie erbt."
   ]
  },
  {
   "cell_type": "code",
   "execution_count": 38,
   "metadata": {
    "collapsed": false,
    "slideshow": {
     "slide_type": "fragment"
    }
   },
   "outputs": [],
   "source": [
    "class Student(Person):    # in Klammern: Superklasse\n",
    "    \n",
    "    def __init__(self, name, email, matrikel):\n",
    "        super().__init__(name, email)  # super() -> Oberklasse\n",
    "        self.matrikel = matrikel\n",
    "        \n",
    "    def formattedOutput(self):\n",
    "        return self.name + ' <' + self.email + '> (' + str(self.matrikel) + ')'        "
   ]
  },
  {
   "cell_type": "code",
   "execution_count": 33,
   "metadata": {
    "collapsed": false,
    "slideshow": {
     "slide_type": "fragment"
    }
   },
   "outputs": [
    {
     "name": "stdout",
     "output_type": "stream",
     "text": [
      "Moritz Maier <moritz.maier@example.com> (4711)\n"
     ]
    }
   ],
   "source": [
    "moritz = Student(\"Moritz Maier\", \"moritz.maier@example.com\", 4711)\n",
    "moritz.describe()"
   ]
  },
  {
   "cell_type": "code",
   "execution_count": 34,
   "metadata": {
    "collapsed": false,
    "slideshow": {
     "slide_type": "fragment"
    }
   },
   "outputs": [
    {
     "name": "stdout",
     "output_type": "stream",
     "text": [
      "Max Müller True False\n",
      "Moritz Maier True True\n"
     ]
    }
   ],
   "source": [
    "for p in max, moritz:\n",
    "    print(p.name, isinstance(p, Person), isinstance(p, Student))"
   ]
  },
  {
   "cell_type": "markdown",
   "metadata": {
    "slideshow": {
     "slide_type": "subslide"
    }
   },
   "source": [
    "### Vererbung im Detail\n",
    "\n",
    "Wird eine Klasse definiert, so kann sie mit einer Oberklasse verknüpft werden, deren Eigenschaften sie _erbt_:\n",
    "\n",
    "```\n",
    "class Student(Person):\n",
    "```\n",
    "definiert die Klasse Student, deren Oberklasse Person ist.\n",
    "\n",
    "* Objekte des Typs `Student` sind _auch_ vom Typ `Person`\n",
    "* Objekte vom Typ `Person` sind aber nicht notwendigerweise vom Typ `Student`\n",
    "* Alle `Student`en haben die Eigenschaften von `Person`en, die `Student`-Klasse kann Attribute und Methoden jedoch überschreiben"
   ]
  },
  {
   "cell_type": "markdown",
   "metadata": {
    "slideshow": {
     "slide_type": "subslide"
    }
   },
   "source": [
    "### Methoden überschreiben\n",
    "* Wird in der Subklasse eine Methode definiert, so wird diese statt die der Oberklasse verwendet\n",
    "* in einer Methode kann mit `super()` auf die Oberklasse zugegriffen werden"
   ]
  },
  {
   "cell_type": "code",
   "execution_count": 17,
   "metadata": {
    "collapsed": false,
    "slideshow": {
     "slide_type": "-"
    }
   },
   "outputs": [],
   "source": [
    "class Student(Person):    # in Klammern: Superklasse\n",
    "    \n",
    "    def __init__(self, name, email, matrikel):\n",
    "        super().__init__(name, email)  # super() -> Oberklasse\n",
    "        self.matrikel = matrikel\n"
   ]
  },
  {
   "cell_type": "markdown",
   "metadata": {
    "slideshow": {
     "slide_type": "-"
    }
   },
   "source": [
    "hier wird `__init__` von Person überschrieben und aus der überschreibenden Methode  mithilfe von `super()` aufgerufen"
   ]
  },
  {
   "cell_type": "markdown",
   "metadata": {
    "slideshow": {
     "slide_type": "subslide"
    }
   },
   "source": [
    "### Polymorphie\n",
    "\n",
    "* Ein Objekt einer Subklasse kann wie das der Superklasse verwendet werden, es werden jedoch ggf. die Methoden der Subklasse verwendet.\n",
    "* Beispiel: `Student.formattedOutput` wird aus `Person.describe` aufgerufen ..."
   ]
  },
  {
   "cell_type": "code",
   "execution_count": 18,
   "metadata": {
    "collapsed": false,
    "slideshow": {
     "slide_type": "fragment"
    }
   },
   "outputs": [],
   "source": [
    "class Student(Person):    # in Klammern: Superklasse\n",
    "    \n",
    "    def __init__(self, name, email, matrikel):\n",
    "        super().__init__(name, email)  # super() -> Oberklasse\n",
    "        self.matrikel = matrikel\n",
    "        \n",
    "    def formattedOutput(self):\n",
    "        return self.name + ' <' + self.email + '> (' + str(self.matrikel) + ')'        "
   ]
  },
  {
   "cell_type": "code",
   "execution_count": 19,
   "metadata": {
    "collapsed": false,
    "slideshow": {
     "slide_type": "fragment"
    }
   },
   "outputs": [
    {
     "name": "stdout",
     "output_type": "stream",
     "text": [
      "Moritz Maier <moritz.maier@example.com> (4711)\n"
     ]
    }
   ],
   "source": [
    "moritz = Student(\"Moritz Maier\", \"moritz.maier@example.com\", 4711)\n",
    "moritz.describe()"
   ]
  },
  {
   "cell_type": "markdown",
   "metadata": {
    "slideshow": {
     "slide_type": "slide"
    }
   },
   "source": [
    "<h3 style=\"color:green;\">Aufgabe</h3>\n",
    "\n",
    "* Erzeugen Sie eine Subklasse `MarkedUpText` zu Ihrer `Text`-Klasse von oben. \n",
    "* Die Subklasse soll Strings mit Tags wie in `\"Dies ist ein <hi rend=\"bold\">wichtiger</bold> Text\"` im Konstruktor akzeptieren\n",
    "* die übrigen Methoden sollen funktionieren wie bei `Text`, aber sich nur auf den reinen Textinhalt ohne Tags beziehen. \n",
    "* Definieren Sie außerdem eine Methode `raw_length()`, die die Länge in Zeichen _mit_ Markup liefert"
   ]
  },
  {
   "cell_type": "code",
   "execution_count": 20,
   "metadata": {
    "collapsed": false,
    "slideshow": {
     "slide_type": "fragment"
    }
   },
   "outputs": [],
   "source": [
    "class Student(Person):                 # in Klammern: Superklasse\n",
    "    \n",
    "    def __init__(self, name, email, matrikel):\n",
    "        super().__init__(name, email)  # super() -> Oberklasse\n",
    "        self.matrikel = matrikel\n",
    "        \n",
    "    def formattedOutput(self):\n",
    "        return self.name + ' <' + self.email + '> (' + str(self.matrikel) + ')'        "
   ]
  },
  {
   "cell_type": "code",
   "execution_count": null,
   "metadata": {
    "collapsed": false,
    "slideshow": {
     "slide_type": "subslide"
    }
   },
   "outputs": [],
   "source": [
    "import re\n",
    "\n",
    "class MarkedUpText(Text):\n",
    "    \n",
    "    def __init__(self, markedup_text):\n",
    "        self.raw_text = markedup_text\n",
    "        plain_text = re.sub('<[^>]+>', '', markedup_text)\n",
    "        super().__init__(plain_text)\n",
    "    \n",
    "    def raw_length(self):\n",
    "        return len(self.raw_text)"
   ]
  },
  {
   "cell_type": "code",
   "execution_count": null,
   "metadata": {
    "collapsed": false,
    "slideshow": {
     "slide_type": "fragment"
    }
   },
   "outputs": [],
   "source": [
    "m = MarkedUpText('Dies ist ein <hi rend=\"bold\">wichtiger</bold> Text')\n",
    "print(m.text, m.length(), m.words(), m.raw_length(), sep=\"; \")"
   ]
  },
  {
   "cell_type": "markdown",
   "metadata": {
    "slideshow": {
     "slide_type": "subslide"
    }
   },
   "source": [
    "<h3 style='color:green'>Hausaufgabe (2)</h3>\n",
    "\n",
    "1. Manche Obstsorten sind lagerfähig. Erzeugen Sie eine Subklasse `Lagerobst` zu ihrer Obstklasse, die die Monate, in denen eine Obstsorte aus Lagerbeständen verfügbar ist, als zusätzliches Attribut pflegt. Erzeugen Sie Instanzen für Äpfel (Erntezeit August bis November, lagerfähig Dezember bis Mai) und Birnen (Ernte August bis Oktober, lagerfähig bis Dezember)\n",
    "2. Überschreiben Sie die `verfuegbar`-Methode, sodass sie bei Lagerobst auch in den Lagermonaten `True` zurückgibt\n",
    "3. Fügen Sie dem Lagerobst eine Methode hinzu, mit der zwischen frisch und gelagert verfügbarem Obst unterschieden werden kann. Welche Implementierungsmöglichkeiten sind möglich? Diskutieren Sie Vor- und Nachteile."
   ]
  }
 ],
 "metadata": {
  "celltoolbar": "Slideshow",
  "kernelspec": {
   "display_name": "Python 3",
   "language": "python",
   "name": "python3"
  },
  "language_info": {
   "codemirror_mode": {
    "name": "ipython",
    "version": 3
   },
   "file_extension": ".py",
   "mimetype": "text/x-python",
   "name": "python",
   "nbconvert_exporter": "python",
   "pygments_lexer": "ipython3",
   "version": "3.4.2"
  }
 },
 "nbformat": 4,
 "nbformat_minor": 0
}
