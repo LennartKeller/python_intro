{
 "metadata": {
  "celltoolbar": "Slideshow",
  "name": "",
  "signature": "sha256:32cc466f4f51ca813ac86b76e479a610f4920a2ffe425931386b4a36f264ab75"
 },
 "nbformat": 3,
 "nbformat_minor": 0,
 "worksheets": [
  {
   "cells": [
    {
     "cell_type": "heading",
     "level": 1,
     "metadata": {
      "slideshow": {
       "slide_type": "slide"
      }
     },
     "source": [
      "Einf\u00fchrung in das Programmieren mit Python"
     ]
    },
    {
     "cell_type": "markdown",
     "metadata": {
      "slideshow": {
       "slide_type": "fragment"
      }
     },
     "source": [
      "## Organisatorisches\n",
      "\n",
      "* Katrin Betz <katrin.betz@uni-wuerzburg.de>\n",
      "* Thorsten Vitt <thorsten.vitt@uni-wuerzburg.de>\n",
      "* BA 85 Digital Humanities, Fachspezifische Schl\u00fcsselqualifikationen (5 ECTS)\n",
      "\n",
      "### WueCampus\n",
      "\n",
      "* [wuecampus.uni-wuerzburg.de](https://wuecampus2.uni-wuerzburg.de/moodle/course/view.php?id=10589)\n",
      "* 5 Hausaufgaben (Programmieraufgaben), davon 4 bestehen\n",
      "\n",
      "### DH-Mailingliste\n",
      "\n",
      "* <https://lists.uni-wuerzburg.de/mailman/listinfo/digital.humanities>\n",
      "* Bitte lesen Sie Ihre Uni-W\u00fcrzburg-E-Mail-Adresse"
     ]
    },
    {
     "cell_type": "markdown",
     "metadata": {
      "slideshow": {
       "slide_type": "slide"
      }
     },
     "source": [
      "## Themen\n",
      "\n",
      "1. Einf\u00fchrung, Datentypen, Operatoren\n",
      "2. Datenstrukturen I: Listen, Dictionaries, Tupel\n",
      "3. Programmkontrolle mit bedingten Verzweigungen und Schleifen\n",
      "4. Funktionen und Module\n",
      "5. Praxis: Debugging; Input / Output; Exceptions\n",
      "6. Regul\u00e4re Ausdr\u00fccke\n",
      "7. List Comprehensions, Generatoren\n",
      "8. Datenstrukturen II\n",
      "9. Standardbibliothek und `pip`\n",
      "10. Objektorientiertes Programmieren \\*\n",
      "11. XML verarbeiten mit `lxml` \\*"
     ]
    },
    {
     "cell_type": "heading",
     "level": 2,
     "metadata": {
      "slideshow": {
       "slide_type": "slide"
      }
     },
     "source": [
      "Einf\u00fchrung, Datentypen, Operatoren"
     ]
    },
    {
     "cell_type": "heading",
     "level": 4,
     "metadata": {
      "slideshow": {
       "slide_type": "slide"
      }
     },
     "source": [
      "Warum Python?"
     ]
    },
    {
     "cell_type": "markdown",
     "metadata": {
      "slideshow": {
       "slide_type": "fragment"
      }
     },
     "source": [
      "* Allzweck-Programmiersprache\n",
      "* Scriptsprache\n",
      "* _very high level programming language_\n",
      "* Ziel Klarheit und Lesbarkeit\n",
      "* Python 2 vs. Python 3"
     ]
    },
    {
     "cell_type": "heading",
     "level": 4,
     "metadata": {
      "slideshow": {
       "slide_type": "subslide"
      }
     },
     "source": [
      "Programmierparadigmen"
     ]
    },
    {
     "cell_type": "markdown",
     "metadata": {
      "slideshow": {
       "slide_type": "fragment"
      }
     },
     "source": [
      "* **Imperatives Programmieren**\n",
      "* **Prozedurales Programmieren**\n",
      "    * Gliederung durch *Funktionen*\n",
      "* **Objektorientiertes Programmieren**\n",
      "    * Kapselung von Daten und Operationen (*Methoden*) darauf in *Objekten*\n",
      "    * Vererbung\n",
      "    * Polymorphie\n",
      "* **Funktionales Programmieren**\n",
      "    * mathematischer Funktionsbegriff     \n",
      "    * keine Nebeneffekte\n",
      "    * Daten sind unver\u00e4nderlich"
     ]
    },
    {
     "cell_type": "heading",
     "level": 4,
     "metadata": {
      "slideshow": {
       "slide_type": "slide"
      }
     },
     "source": [
      "3 kleine Programme "
     ]
    },
    {
     "cell_type": "code",
     "collapsed": false,
     "input": [
      "print(\"Hallo Welt!\")"
     ],
     "language": "python",
     "metadata": {
      "slideshow": {
       "slide_type": "subslide"
      }
     },
     "outputs": [
      {
       "output_type": "stream",
       "stream": "stdout",
       "text": [
        "Hallo Welt!\n"
       ]
      }
     ],
     "prompt_number": 2
    },
    {
     "cell_type": "code",
     "collapsed": false,
     "input": [
      "print(2 + 7)     # Gib das Ergebnis der Addition von 2 + 7 aus"
     ],
     "language": "python",
     "metadata": {
      "slideshow": {
       "slide_type": "subslide"
      }
     },
     "outputs": [
      {
       "output_type": "stream",
       "stream": "stdout",
       "text": [
        "9\n"
       ]
      }
     ],
     "prompt_number": 38
    },
    {
     "cell_type": "code",
     "collapsed": true,
     "input": [
      "print(3*8)      # Multipliziere 3 mal 8 und gib das Ergebnis aus"
     ],
     "language": "python",
     "metadata": {
      "slideshow": {
       "slide_type": "subslide"
      }
     },
     "outputs": [
      {
       "output_type": "stream",
       "stream": "stdout",
       "text": [
        "24\n"
       ]
      }
     ],
     "prompt_number": 39
    },
    {
     "cell_type": "heading",
     "level": 2,
     "metadata": {
      "slideshow": {
       "slide_type": "slide"
      }
     },
     "source": [
      "Praxis"
     ]
    },
    {
     "cell_type": "markdown",
     "metadata": {
      "slideshow": {
       "slide_type": "fragment"
      }
     },
     "source": [
      "* Starten Sie *Spyder 3*\n",
      "* Schreiben Sie das folgende kleine Python-Programm, speichern Sie es als ``helloworld.py`` und f\u00fchren Sie es aus:\n",
      "```\n",
      "    print(\"Hello world!\")\n",
      "```\n",
      "* Geben Sie in der interaktiven Python-Konsole nacheinander folgende Anweisungen ein:\n",
      "```\n",
      "    print(\"Hello world!\")\n",
      "    \"Hello world!\"\n",
      "```\n",
      "* Dokumentation: <http://docs.python.org/3>"
     ]
    },
    {
     "cell_type": "heading",
     "level": 2,
     "metadata": {
      "slideshow": {
       "slide_type": "slide"
      }
     },
     "source": [
      "Grundbegriffe"
     ]
    },
    {
     "cell_type": "markdown",
     "metadata": {
      "slideshow": {
       "slide_type": "fragment"
      }
     },
     "source": [
      "### Anweisung\n",
      "\n",
      "![](files/images/print-anweisung.svg)"
     ]
    },
    {
     "cell_type": "markdown",
     "metadata": {
      "slideshow": {
       "slide_type": "slide"
      }
     },
     "source": [
      "### Arithmetische Operatoren\n",
      "* `+`, `-`, `*`, `/`\n",
      "* `**`: `x**2` = _x_\u00b2\n",
      "* `7 / 4` vs. `7 // 4` vs. `7 % 4`"
     ]
    },
    {
     "cell_type": "code",
     "collapsed": false,
     "input": [
      "print(7 / 4)    # Division \u2192 Dezimalzahl (float)\n",
      "print(7 // 4)   # Ganzzahldivision \u2192 Ganze Zahl (int)\n",
      "print(7 % 4)    # Divisionsrest (\"Modulo\") \u2192 Ganze Zahl (int)"
     ],
     "language": "python",
     "metadata": {
      "slideshow": {
       "slide_type": "fragment"
      }
     },
     "outputs": [
      {
       "output_type": "stream",
       "stream": "stdout",
       "text": [
        "1.75\n",
        "1\n",
        "3\n"
       ]
      }
     ],
     "prompt_number": 8
    },
    {
     "cell_type": "markdown",
     "metadata": {
      "slideshow": {
       "slide_type": "slide"
      }
     },
     "source": [
      "### Datentypen"
     ]
    },
    {
     "cell_type": "code",
     "collapsed": false,
     "input": [
      "type(1.75)"
     ],
     "language": "python",
     "metadata": {
      "slideshow": {
       "slide_type": "fragment"
      }
     },
     "outputs": [
      {
       "metadata": {},
       "output_type": "pyout",
       "prompt_number": 12,
       "text": [
        "float"
       ]
      }
     ],
     "prompt_number": 12
    },
    {
     "cell_type": "code",
     "collapsed": false,
     "input": [
      "4 == 5"
     ],
     "language": "python",
     "metadata": {
      "slideshow": {
       "slide_type": "fragment"
      }
     },
     "outputs": [
      {
       "metadata": {},
       "output_type": "pyout",
       "prompt_number": 25,
       "text": [
        "False"
       ]
      }
     ],
     "prompt_number": 25
    },
    {
     "cell_type": "code",
     "collapsed": false,
     "input": [
      "type(4 == 5)"
     ],
     "language": "python",
     "metadata": {
      "slideshow": {
       "slide_type": "fragment"
      }
     },
     "outputs": [
      {
       "metadata": {},
       "output_type": "pyout",
       "prompt_number": 26,
       "text": [
        "bool"
       ]
      }
     ],
     "prompt_number": 26
    },
    {
     "cell_type": "code",
     "collapsed": false,
     "input": [
      "5              # int: Ganze Zahl (Integer)\n",
      "5.0            # float: Flie\u00dfkommazahl\n",
      "True, False    # bool: Wahrheitswert (Boolean)\n",
      "\"Hallo Welt!\"  # str, String, Zeichenkette"
     ],
     "language": "python",
     "metadata": {
      "slideshow": {
       "slide_type": "fragment"
      }
     },
     "outputs": []
    },
    {
     "cell_type": "markdown",
     "metadata": {
      "slideshow": {
       "slide_type": "slide"
      }
     },
     "source": [
      "### Strings (Zeichenketten)"
     ]
    },
    {
     "cell_type": "code",
     "collapsed": false,
     "input": [
      "'Hallo Welt!'\n",
      "\"Peter's Pommesbude\"\n",
      "print(\"Verzeichnis:\\nC:\\\\Programme\\\\WinPython\")"
     ],
     "language": "python",
     "metadata": {
      "slideshow": {
       "slide_type": "fragment"
      }
     },
     "outputs": [
      {
       "output_type": "stream",
       "stream": "stdout",
       "text": [
        "Verzeichnis:\n",
        "C:\\Programme\\WinPython\n"
       ]
      }
     ],
     "prompt_number": 33
    },
    {
     "cell_type": "code",
     "collapsed": false,
     "input": [
      "print(\"\"\"\n",
      "Ein Beispiel\n",
      "------------\n",
      "\"\"\")"
     ],
     "language": "python",
     "metadata": {
      "slideshow": {
       "slide_type": "fragment"
      }
     },
     "outputs": [
      {
       "output_type": "stream",
       "stream": "stdout",
       "text": [
        "\n",
        "Ein Beispiel\n",
        "------------\n",
        "\n"
       ]
      }
     ],
     "prompt_number": 34
    },
    {
     "cell_type": "heading",
     "level": 4,
     "metadata": {
      "slideshow": {
       "slide_type": "subslide"
      }
     },
     "source": [
      "Operatoren f\u00fcr Strings"
     ]
    },
    {
     "cell_type": "code",
     "collapsed": false,
     "input": [
      "print(\"Hallo \" + \"Welt!\")\n",
      "print(\"Ho \" * 3)"
     ],
     "language": "python",
     "metadata": {},
     "outputs": [
      {
       "output_type": "stream",
       "stream": "stdout",
       "text": [
        "Hallo Welt!\n",
        "Ho Ho Ho \n"
       ]
      }
     ],
     "prompt_number": 36
    },
    {
     "cell_type": "markdown",
     "metadata": {
      "slideshow": {
       "slide_type": "slide"
      }
     },
     "source": [
      "<h3>Zuweisung eines Ausdrucks zu einer Variablen</h3>\n",
      "<img src=\"files/images/anweisung.png\" width=\"50%\" height=\"50%\" border=\"0\" alt=\"\">    "
     ]
    },
    {
     "cell_type": "code",
     "collapsed": false,
     "input": [
      "a = 4\n",
      "b = 5\n",
      "c = a + b\n",
      "print(c)"
     ],
     "language": "python",
     "metadata": {
      "slideshow": {
       "slide_type": "fragment"
      }
     },
     "outputs": [
      {
       "output_type": "stream",
       "stream": "stdout",
       "text": [
        "9\n"
       ]
      }
     ],
     "prompt_number": 27
    },
    {
     "cell_type": "code",
     "collapsed": false,
     "input": [],
     "language": "python",
     "metadata": {},
     "outputs": []
    }
   ],
   "metadata": {}
  }
 ]
}