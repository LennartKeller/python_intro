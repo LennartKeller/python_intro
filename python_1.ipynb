{
 "metadata": {
  "celltoolbar": "Slideshow",
  "name": "",
  "signature": "sha256:5bcae03c304a1f5c81804a60165391b571ca61129256b6e24cb6cb161973d3c8"
 },
 "nbformat": 3,
 "nbformat_minor": 0,
 "worksheets": [
  {
   "cells": [
    {
     "cell_type": "heading",
     "level": 1,
     "metadata": {
      "slideshow": {
       "slide_type": "slide"
      }
     },
     "source": [
      "Einf\u00fchrung in das Programmieren mit Python"
     ]
    },
    {
     "cell_type": "markdown",
     "metadata": {},
     "source": [
      "## Organisatorisches\n",
      "\n",
      "* Katrin Betz <katrin.betz@uni-wuerzburg.de>\n",
      "* Thorsten Vitt <thorsten.vitt@uni-wuerzburg.de>\n",
      "\n",
      "### WueCampus\n",
      "\n",
      "* [wuecampus.uni-wuerzburg.de](https://wuecampus2.uni-wuerzburg.de/moodle/course/view.php?id=10589)\n",
      "* 5 Hausaufgaben (Programmieraufgaben), davon _ bestehen **FIXME**"
     ]
    },
    {
     "cell_type": "markdown",
     "metadata": {
      "slideshow": {
       "slide_type": "slide"
      }
     },
     "source": [
      "## Themen\n",
      "\n",
      "1. Einf\u00fchrung, Datentypen, Operatoren\n",
      "2. Datenstrukturen: Listen und Dictionaries\n",
      "3. Programmkontrolle mit bedingten Verzweigungen und Schleifen\n",
      "4. Funktionen und Module\n",
      "5. Debugging; Input / Output; Exceptions\n",
      "6. Regul\u00e4re Ausdr\u00fccke\n",
      "7. Datenstrukturen II\n",
      "8. List Comprehensions, Generatoren\n",
      "9. Standardbibliothek und `pip`\n",
      "10. Objektorientiertes Programmieren \\*\n",
      "11. XML verarbeiten mit `lxml` \\*"
     ]
    },
    {
     "cell_type": "heading",
     "level": 2,
     "metadata": {
      "slideshow": {
       "slide_type": "slide"
      }
     },
     "source": [
      "1. Sitzung: Einf\u00fchrung, Datentypen, Operatoren"
     ]
    },
    {
     "cell_type": "heading",
     "level": 4,
     "metadata": {
      "slideshow": {
       "slide_type": "slide"
      }
     },
     "source": [
      "Was ist Python?"
     ]
    },
    {
     "cell_type": "markdown",
     "metadata": {
      "slideshow": {
       "slide_type": "subslide"
      }
     },
     "source": [
      "* Scriptsprache\n",
      "* Python 2 vs. Python 3\n",
      "* Download und Installation\n",
      "* Interaktive vs. Skript\n"
     ]
    },
    {
     "cell_type": "heading",
     "level": 4,
     "metadata": {
      "slideshow": {
       "slide_type": "slide"
      }
     },
     "source": [
      "Programmierparadigmen"
     ]
    },
    {
     "cell_type": "markdown",
     "metadata": {
      "slideshow": {
       "slide_type": "subslide"
      }
     },
     "source": [
      "* Imperatives Programmieren\n",
      "* Prozedurales Programmieren\n",
      "    * Gliederung durch *Funktionen*\n",
      "* Objektorientiertes Programmieren\n",
      "    * Kapselung von Daten und Operationen (*Methoden*) darauf in *Objekten*\n",
      "    * Vererbung\n",
      "    * Polymorphie\n",
      "* Funktionales Programmieren\n",
      "    * mathematischer Funktionsbegriff     \n",
      "    * keine Nebeneffekte\n",
      "    * Daten sind unver\u00e4nderlich"
     ]
    },
    {
     "cell_type": "code",
     "collapsed": false,
     "input": [],
     "language": "python",
     "metadata": {
      "slideshow": {
       "slide_type": "fragment"
      }
     },
     "outputs": [],
     "prompt_number": 0
    },
    {
     "cell_type": "heading",
     "level": 4,
     "metadata": {
      "slideshow": {
       "slide_type": "slide"
      }
     },
     "source": [
      "3 kleine Programme "
     ]
    },
    {
     "cell_type": "code",
     "collapsed": false,
     "input": [
      "print(\"Hallo Welt!\") "
     ],
     "language": "python",
     "metadata": {
      "slideshow": {
       "slide_type": "subslide"
      }
     },
     "outputs": [
      {
       "output_type": "stream",
       "stream": "stdout",
       "text": [
        "Hallo Welt!\n"
       ]
      }
     ],
     "prompt_number": 2
    },
    {
     "cell_type": "code",
     "collapsed": false,
     "input": [
      "print(2 + 7)     #Anweisung das Ergebnis der Addition von 2 + 7 auszugeben"
     ],
     "language": "python",
     "metadata": {
      "slideshow": {
       "slide_type": "subslide"
      }
     },
     "outputs": [
      {
       "output_type": "stream",
       "stream": "stdout",
       "text": [
        "9\n"
       ]
      }
     ],
     "prompt_number": 3
    },
    {
     "cell_type": "code",
     "collapsed": true,
     "input": [
      "print(3*8)      # Multipliziere 3 mal 8 und gebe das Ergebnis aus"
     ],
     "language": "python",
     "metadata": {
      "slideshow": {
       "slide_type": "subslide"
      }
     },
     "outputs": [
      {
       "output_type": "stream",
       "stream": "stdout",
       "text": [
        "24\n"
       ]
      }
     ],
     "prompt_number": 4
    },
    {
     "cell_type": "heading",
     "level": 2,
     "metadata": {
      "slideshow": {
       "slide_type": "slide"
      }
     },
     "source": [
      "Grundbegriffe"
     ]
    },
    {
     "cell_type": "markdown",
     "metadata": {
      "slideshow": {
       "slide_type": "slide"
      }
     },
     "source": [
      "<h3>Zuweisung eines Ausdrucks zu einer Variablen</h3>\n",
      "<img src=\"files/images/anweisung.png\" width=\"50%\" height=\"50%\" border=\"0\" alt=\"\">    "
     ]
    },
    {
     "cell_type": "code",
     "collapsed": false,
     "input": [],
     "language": "python",
     "metadata": {},
     "outputs": [],
     "prompt_number": 106
    }
   ],
   "metadata": {}
  }
 ]
}