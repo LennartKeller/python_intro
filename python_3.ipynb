{
 "metadata": {
  "name": ""
 },
 "nbformat": 3,
 "nbformat_minor": 0,
 "worksheets": [
  {
   "cells": [
    {
     "cell_type": "heading",
     "level": 1,
     "metadata": {
      "slideshow": {
       "slide_type": "slide"
      }
     },
     "source": [
      "Programmieren mit Python 3"
     ]
    },
    {
     "cell_type": "markdown",
     "metadata": {
      "slideshow": {
       "slide_type": "slide"
      }
     },
     "source": [
      "<h3>Wiederholung</h3>\n",
      "<ul>\n",
      "<li>Type Casting<br/>\n",
      "erm\u00f6glicht es, den Datentyp einer Variablen oder eines Wertes zu \u00e4ndern. Schreibweise new_datatype (var)\n",
      "<li>Listen<br/>\n",
      "anlegen: mylist = [1,2,3,4]<br/>\n",
      "erg\u00e4nzen: mylist.append(5)<br/>\n",
      "slicing: mylist[2:4], mylist[:3]<br/>\n",
      "sortieren: sort (mylist)<br/>\n",
      "<li>Strings als Listen\n",
      "<li>Dictionaries<br/>\n",
      "anlegen: mydic = {\"a\" : 1, \"b\" : 2} <br/>\n",
      "erg\u00e4nzen my[\"c\"] = 3 <br/>\n",
      "Funktionen: dic.keys(), dic.values()<br/>\n",
      "\n"
     ]
    },
    {
     "cell_type": "markdown",
     "metadata": {
      "slideshow": {
       "slide_type": "slide"
      }
     },
     "source": [
      "<h3>Musterl\u00f6sung f\u00fcr die Hausaufgaben</h3>\n",
      "<p>1) Sie wollen ein einfaches Telefonbuch anlegen, nur Nachnamen und Nummer. Was ist die beste Datenstruktur? \n"
     ]
    },
    {
     "cell_type": "code",
     "collapsed": false,
     "input": [
      "#ein Dictionary\n",
      "phone = dict (Maria = 55528231, Sepp = 5551234, Jo = 19191919)\n",
      "phone[\"Maria\"]"
     ],
     "language": "python",
     "metadata": {
      "slideshow": {
       "slide_type": "fragment"
      }
     },
     "outputs": [
      {
       "metadata": {},
       "output_type": "pyout",
       "prompt_number": 1,
       "text": [
        "55528231"
       ]
      }
     ],
     "prompt_number": 1
    },
    {
     "cell_type": "markdown",
     "metadata": {
      "slideshow": {
       "slide_type": "fragment"
      }
     },
     "source": [
      "2) Sie wollen die W\u00f6rter eines Textes auflisten. Welche der Datenstrukturen eignet sich daf\u00fcr?\n"
     ]
    },
    {
     "cell_type": "code",
     "collapsed": false,
     "input": [
      "#auflisten (!) -> eine Liste\n",
      "words = [\"wir\",\"haus\",\"kein\"]\n",
      "words[0]"
     ],
     "language": "python",
     "metadata": {
      "slideshow": {
       "slide_type": "fragment"
      }
     },
     "outputs": [
      {
       "metadata": {},
       "output_type": "pyout",
       "prompt_number": 2,
       "text": [
        "'wir'"
       ]
      }
     ],
     "prompt_number": 2
    },
    {
     "cell_type": "markdown",
     "metadata": {
      "slideshow": {
       "slide_type": "slide"
      }
     },
     "source": [
      "3) Sie wollen die Tages-Temperaturen der europ\u00e4ischen Hauptst\u00e4dte in den letzten 4 Wochen speichern. Was w\u00e4ren m\u00f6gliche L\u00f6sungen? Testen Sie eine mit wenigen Spieldaten in Idle. Was w\u00e4re eine perfekte L\u00f6sung?  \n"
     ]
    },
    {
     "cell_type": "markdown",
     "metadata": {
      "slideshow": {
       "slide_type": "fragment"
      }
     },
     "source": [
      "Die Aufgabe lautet \"die Tages-Temperaturen der europ\u00e4ischen Hauptst\u00e4dte in den letzten 4 Wochen speichern\", d.h. wir m\u00fcssen f\u00fcr jeden Ort (1. Einheit) f\u00fcr jeden Tag (2. Einheit) die Temperatur (3. Einheit) speichern. Eine M\u00f6glichkeit w\u00e4re ein Dictionary, dessen Eintr\u00e4ge als key den St\u00e4dtenamen verwenden und als value eine 30 Elemente-lange Liste haben. Jedes Element der Liste enth\u00e4lt die Temperatur an diesem Tag, also temp[12] ist die Temperatur am 12. Aus Platzgr\u00fcnden verwende ich im folgenden nur 7 Tage."
     ]
    },
    {
     "cell_type": "code",
     "collapsed": false,
     "input": [
      "weather = dict ( Berlin = [14,17,16,17,15,14,12], Athen = [22,23,25,24,20,19,23])\n",
      "weather[\"Berlin\"][5] # gibt das Wetter in Berlin am Samstag aus"
     ],
     "language": "python",
     "metadata": {
      "slideshow": {
       "slide_type": "fragment"
      }
     },
     "outputs": [
      {
       "metadata": {},
       "output_type": "pyout",
       "prompt_number": 3,
       "text": [
        "14"
       ]
      }
     ],
     "prompt_number": 3
    },
    {
     "cell_type": "markdown",
     "metadata": {
      "slideshow": {
       "slide_type": "slide"
      }
     },
     "source": [
      "4) Sie wollen die W\u00f6rter eines Textes und ihre Frequenz auflisten. Diskutieren Sie m\u00f6gliche L\u00f6sungen. Testen Sie eine in Idle. Was erscheint Ihnen die beste L\u00f6sung?\n"
     ]
    },
    {
     "cell_type": "code",
     "collapsed": false,
     "input": [
      "# ein Dictionary ist eine gute Wahl:\n",
      "words =  {\"haus\" : 344, \"der\" : 3189, \"auch\" : 1432}\n",
      "#daraus kann man dann alphabetische Listen erstellen und auch H\u00e4ufigkeitswortlisten \n",
      "sorted(words.keys())"
     ],
     "language": "python",
     "metadata": {
      "slideshow": {
       "slide_type": "fragment"
      }
     },
     "outputs": [
      {
       "metadata": {},
       "output_type": "pyout",
       "prompt_number": 4,
       "text": [
        "['auch', 'der', 'haus']"
       ]
      }
     ],
     "prompt_number": 4
    },
    {
     "cell_type": "markdown",
     "metadata": {
      "slideshow": {
       "slide_type": "slide"
      }
     },
     "source": [
      "<p style=\"color:green\">Die Gemeinsame Normdate der Deutschen Nationalbibliothek verzeichnet historische Personen, Ortsnamen usw. Jeder Eintrag hat eine einzigartige Nummer (id). In unserer vereinfachten Version besteht ein Eintrag aus 1. der id, 2. dem Namen, 3. einem kleinen Text zur Person oder dem Ort. \n",
      "<ol style=\"color:green\">\n",
      "<li>Definieren Sie 4 Test-Eintr\u00e4ge und holen Sie sich von der GND die richtigen GND-Nummern daf\u00fcr. \n",
      "</ol>\n",
      "<p> Sie k\u00f6nnen ganz bequem in der GND suchen, etwa hier: <a href=\"https://wiki.bsz-bw.de/doku.php?id=v-team:recherche:ognd:start\">https://wiki.bsz-bw.de/doku.php?id=v-team:recherche:ognd:start</a><br/>\n",
      "Sie k\u00f6nnen dann die Nummer auch als Link verwenden. Goethe etwa hat die Nummer 118540238. Dann k\u00f6nnen Sie nun mit dem Link <a href=\"d-nb.info/gnd/118540238\">http://d-nb.info/gnd/118540238</a> seinen GND-Eintrag abrufen. \n",
      "\n"
     ]
    },
    {
     "cell_type": "code",
     "collapsed": false,
     "input": [
      "vips = {1 : {\"Goethe\" : \"118540238\"}, 2 : {\"Schiller\" : \"118607626\"}, 3 : {\"Lessing\" : \"118572121\"}, 4 : {\"Kafka\" : \"118559230\"} }"
     ],
     "language": "python",
     "metadata": {
      "slideshow": {
       "slide_type": "fragment"
      }
     },
     "outputs": [],
     "prompt_number": 5
    },
    {
     "cell_type": "markdown",
     "metadata": {
      "slideshow": {
       "slide_type": "fragment"
      }
     },
     "source": [
      "2) Geben Sie durch Angabe der Nummer den Eintrag aus. \n"
     ]
    },
    {
     "cell_type": "code",
     "collapsed": false,
     "input": [
      "vips[2]"
     ],
     "language": "python",
     "metadata": {
      "slideshow": {
       "slide_type": "fragment"
      }
     },
     "outputs": [
      {
       "metadata": {},
       "output_type": "pyout",
       "prompt_number": 6,
       "text": [
        "{'Schiller': '118607626'}"
       ]
      }
     ],
     "prompt_number": 6
    },
    {
     "cell_type": "markdown",
     "metadata": {
      "slideshow": {
       "slide_type": "fragment"
      }
     },
     "source": [
      "3) Testen Sie, ob der Name \"Goethe\" in ihrem Verzeichnis enthalten ist."
     ]
    },
    {
     "cell_type": "code",
     "collapsed": false,
     "input": [
      "for gnd in vips.keys():\n",
      "    if \"Goethe\" in vips[gnd].keys():\n",
      "        print (\"found! gnd nr: \", gnd)"
     ],
     "language": "python",
     "metadata": {
      "slideshow": {
       "slide_type": "fragment"
      }
     },
     "outputs": [
      {
       "output_type": "stream",
       "stream": "stdout",
       "text": [
        "found! gnd nr:  1\n"
       ]
      }
     ],
     "prompt_number": 7
    },
    {
     "cell_type": "markdown",
     "metadata": {
      "slideshow": {
       "slide_type": "slide"
      }
     },
     "source": [
      "4) F\u00fcgen Sie einen weiteren Eintrag hinzu."
     ]
    },
    {
     "cell_type": "code",
     "collapsed": false,
     "input": [
      "vips [5] =  {\"Fontane\" : \"xxx\"} "
     ],
     "language": "python",
     "metadata": {
      "slideshow": {
       "slide_type": "fragment"
      }
     },
     "outputs": [],
     "prompt_number": 8
    },
    {
     "cell_type": "markdown",
     "metadata": {
      "slideshow": {
       "slide_type": "fragment"
      }
     },
     "source": [
      "5) Geben Sie alle GND-Nummern aus."
     ]
    },
    {
     "cell_type": "code",
     "collapsed": false,
     "input": [
      "vips.keys()"
     ],
     "language": "python",
     "metadata": {
      "slideshow": {
       "slide_type": "fragment"
      }
     },
     "outputs": [
      {
       "metadata": {},
       "output_type": "pyout",
       "prompt_number": 9,
       "text": [
        "dict_keys([1, 2, 3, 4, 5])"
       ]
      }
     ],
     "prompt_number": 9
    },
    {
     "cell_type": "markdown",
     "metadata": {
      "slideshow": {
       "slide_type": "fragment"
      }
     },
     "source": [
      "6) Geben Sie mit Verwendung der GND-Nummer (nur) einen Namen aus. "
     ]
    },
    {
     "cell_type": "code",
     "collapsed": false,
     "input": [
      "list ( vips[5].keys() )[0]"
     ],
     "language": "python",
     "metadata": {
      "slideshow": {
       "slide_type": "fragment"
      }
     },
     "outputs": [
      {
       "metadata": {},
       "output_type": "pyout",
       "prompt_number": 10,
       "text": [
        "'Fontane'"
       ]
      }
     ],
     "prompt_number": 10
    },
    {
     "cell_type": "markdown",
     "metadata": {
      "slideshow": {
       "slide_type": "fragment"
      }
     },
     "source": [
      "7) Geben Sie mit Verwendung der GND-Nummer (nur) den Text aus. "
     ]
    },
    {
     "cell_type": "code",
     "collapsed": false,
     "input": [
      "list ( vips[5].values() )[0]"
     ],
     "language": "python",
     "metadata": {
      "slideshow": {
       "slide_type": "fragment"
      }
     },
     "outputs": [
      {
       "metadata": {},
       "output_type": "pyout",
       "prompt_number": 11,
       "text": [
        "'xxx'"
       ]
      }
     ],
     "prompt_number": 11
    },
    {
     "cell_type": "heading",
     "level": 2,
     "metadata": {
      "slideshow": {
       "slide_type": "slide"
      }
     },
     "source": [
      "3. Sitzung: Programmkontrolle mit bedingten Verzweigungen und Schleifen"
     ]
    },
    {
     "cell_type": "markdown",
     "metadata": {
      "slideshow": {
       "slide_type": "slide"
      }
     },
     "source": [
      "<h3>Bedingungen"
     ]
    },
    {
     "cell_type": "markdown",
     "metadata": {
      "slideshow": {
       "slide_type": "fragment"
      }
     },
     "source": [
      "Alles, was einen True oder False - Wert zur\u00fcckgibt, kann als Bedingung verwendet werden. Beispiele:"
     ]
    },
    {
     "cell_type": "code",
     "collapsed": false,
     "input": [
      "x = 1 \n",
      "y = 0\n",
      "x == y      #testet, ob x gleich y; Achtung! Zwei '='"
     ],
     "language": "python",
     "metadata": {
      "slideshow": {
       "slide_type": "fragment"
      }
     },
     "outputs": [
      {
       "metadata": {},
       "output_type": "pyout",
       "prompt_number": 12,
       "text": [
        "False"
       ]
      }
     ],
     "prompt_number": 12
    },
    {
     "cell_type": "code",
     "collapsed": false,
     "input": [
      "x != y      #testet auf Ungleichheit. "
     ],
     "language": "python",
     "metadata": {
      "slideshow": {
       "slide_type": "fragment"
      }
     },
     "outputs": [
      {
       "metadata": {},
       "output_type": "pyout",
       "prompt_number": 13,
       "text": [
        "True"
       ]
      }
     ],
     "prompt_number": 13
    },
    {
     "cell_type": "code",
     "collapsed": false,
     "input": [
      "x > y      #testet ob x gr\u00f6\u00dfer als y"
     ],
     "language": "python",
     "metadata": {
      "slideshow": {
       "slide_type": "fragment"
      }
     },
     "outputs": [
      {
       "metadata": {},
       "output_type": "pyout",
       "prompt_number": 14,
       "text": [
        "True"
       ]
      }
     ],
     "prompt_number": 14
    },
    {
     "cell_type": "code",
     "collapsed": false,
     "input": [
      "x <= y        #testet, ob x kleiner oder gleich y ist"
     ],
     "language": "python",
     "metadata": {
      "slideshow": {
       "slide_type": "fragment"
      }
     },
     "outputs": [
      {
       "metadata": {},
       "output_type": "pyout",
       "prompt_number": 15,
       "text": [
        "False"
       ]
      }
     ],
     "prompt_number": 15
    },
    {
     "cell_type": "markdown",
     "metadata": {
      "slideshow": {
       "slide_type": "slide"
      }
     },
     "source": [
      "<h3>Viele Operationen und Funktionen geben True oder False zur\u00fcck:</h3>"
     ]
    },
    {
     "cell_type": "code",
     "collapsed": false,
     "input": [
      "\"AU\"  in \"LAUFEN\"      #testet, ob \"AU\" in \"LAUFEN\" enthalten ist"
     ],
     "language": "python",
     "metadata": {
      "slideshow": {
       "slide_type": "fragment"
      }
     },
     "outputs": [
      {
       "metadata": {},
       "output_type": "pyout",
       "prompt_number": 16,
       "text": [
        "True"
       ]
      }
     ],
     "prompt_number": 16
    },
    {
     "cell_type": "code",
     "collapsed": false,
     "input": [
      "ml = [1,2,3,4]   \n",
      "2 in ml        #testet ob 2 ein Element der Liste ml ist"
     ],
     "language": "python",
     "metadata": {
      "slideshow": {
       "slide_type": "fragment"
      }
     },
     "outputs": [
      {
       "metadata": {},
       "output_type": "pyout",
       "prompt_number": 17,
       "text": [
        "True"
       ]
      }
     ],
     "prompt_number": 17
    },
    {
     "cell_type": "code",
     "collapsed": false,
     "input": [
      "chars = dict (a = 1, b = 3, c = 5)\n",
      "\"d\" in chars  # testet ob d ein Key im Dictionary chars ist \n",
      "              # (also Kurzform f\u00fcr \"d\" in chars.keys()"
     ],
     "language": "python",
     "metadata": {
      "slideshow": {
       "slide_type": "fragment"
      }
     },
     "outputs": [
      {
       "metadata": {},
       "output_type": "pyout",
       "prompt_number": 18,
       "text": [
        "False"
       ]
      }
     ],
     "prompt_number": 18
    },
    {
     "cell_type": "markdown",
     "metadata": {
      "slideshow": {
       "slide_type": "slide"
      }
     },
     "source": [
      "Modulo berechnet den Rest einer Division:<br/>\n",
      "10 modulo 4 bedeutet also: Dividiere 10 durch 4 und erhalte den Rest.\n",
      "10 / 4  = 2*4 + 2, dh. 10 Modulo 4 = 2<br/>\n",
      "Syntax in Python 10 % 4 \n"
     ]
    },
    {
     "cell_type": "code",
     "collapsed": false,
     "input": [
      "10 % 4"
     ],
     "language": "python",
     "metadata": {
      "slideshow": {
       "slide_type": "fragment"
      }
     },
     "outputs": [
      {
       "metadata": {},
       "output_type": "pyout",
       "prompt_number": 19,
       "text": [
        "2"
       ]
      }
     ],
     "prompt_number": 19
    },
    {
     "cell_type": "code",
     "collapsed": false,
     "input": [
      "13 % 5"
     ],
     "language": "python",
     "metadata": {
      "slideshow": {
       "slide_type": "fragment"
      }
     },
     "outputs": [
      {
       "metadata": {},
       "output_type": "pyout",
       "prompt_number": 20,
       "text": [
        "3"
       ]
      }
     ],
     "prompt_number": 20
    },
    {
     "cell_type": "markdown",
     "metadata": {
      "slideshow": {
       "slide_type": "slide"
      }
     },
     "source": [
      "<h3 style=\"color:green\">Aufgaben</h3>\n",
      "<ol>\n",
      "<li>Testen Sie, ob a kleiner ist als b, wenn a = 1 und b = -1\n",
      "<li>Testen Sie, ob der String \"Ich\" in \"Magermilch mag mich nicht\" enthalten ist.\n",
      "<li>Gegeben ist das Dictionary d = {\"a\" : 23, \"b\" : 24, \"c\" : 25}. Testen Sie ob d in den keys enthalten ist und ob 25 in den values enthalten ist\n",
      "<li>Testen Sie, ob 2134 eine gerade Zahl ist\n",
      "</ol>"
     ]
    },
    {
     "cell_type": "markdown",
     "metadata": {
      "slideshow": {
       "slide_type": "slide"
      }
     },
     "source": [
      "<h3>Musterl\u00f6sung</h3>\n",
      "<p>Testen Sie, ob a kleiner ist als b "
     ]
    },
    {
     "cell_type": "code",
     "collapsed": false,
     "input": [
      "a = 1\n",
      "b = -1\n",
      "a < b"
     ],
     "language": "python",
     "metadata": {
      "slideshow": {
       "slide_type": "fragment"
      }
     },
     "outputs": [
      {
       "metadata": {},
       "output_type": "pyout",
       "prompt_number": 21,
       "text": [
        "False"
       ]
      }
     ],
     "prompt_number": 21
    },
    {
     "cell_type": "markdown",
     "metadata": {
      "slideshow": {
       "slide_type": "fragment"
      }
     },
     "source": [
      "2) Testen Sie, ob der String \"Ich\" in \"Magermilch mag mich nicht\" enthalten ist. "
     ]
    },
    {
     "cell_type": "code",
     "collapsed": false,
     "input": [
      "\"Ich\" in \"Magermilch mag mich nicht\""
     ],
     "language": "python",
     "metadata": {
      "slideshow": {
       "slide_type": "fragment"
      }
     },
     "outputs": [
      {
       "metadata": {},
       "output_type": "pyout",
       "prompt_number": 22,
       "text": [
        "False"
       ]
      }
     ],
     "prompt_number": 22
    },
    {
     "cell_type": "markdown",
     "metadata": {
      "slideshow": {
       "slide_type": "slide"
      }
     },
     "source": [
      "3) Gegeben ist das Dictionary d = {\"a\" : 23, \"b\" : 24, \"c\" : 25}. Testen Sie ob d in den keys enthalten ist und ob 25 in den values enthalten ist "
     ]
    },
    {
     "cell_type": "code",
     "collapsed": false,
     "input": [
      "d = {\"a\" : 23, \"b\" : 24, \"c\" : 25}\n",
      "print (\"d\" in d)\n",
      "print (25 in d.values())"
     ],
     "language": "python",
     "metadata": {
      "slideshow": {
       "slide_type": "fragment"
      }
     },
     "outputs": [
      {
       "output_type": "stream",
       "stream": "stdout",
       "text": [
        "False\n",
        "True\n"
       ]
      }
     ],
     "prompt_number": 23
    },
    {
     "cell_type": "markdown",
     "metadata": {
      "slideshow": {
       "slide_type": "fragment"
      }
     },
     "source": [
      "4) Testen Sie, ob 2134 eine gerade Zahl ist"
     ]
    },
    {
     "cell_type": "code",
     "collapsed": false,
     "input": [
      "2134 % 2 == 0"
     ],
     "language": "python",
     "metadata": {
      "slideshow": {
       "slide_type": "fragment"
      }
     },
     "outputs": [
      {
       "metadata": {},
       "output_type": "pyout",
       "prompt_number": 24,
       "text": [
        "True"
       ]
      }
     ],
     "prompt_number": 24
    },
    {
     "cell_type": "markdown",
     "metadata": {
      "slideshow": {
       "slide_type": "slide"
      }
     },
     "source": [
      "<h3>Zusammengesetzte Bedingungen</h3>\n",
      "\n",
      "<p>&lt;bedingung> <b>and</b> &lt;bedingung>  <br/>   \n",
      "=> wahr, wenn beide Bedingungen wahr sind. \n",
      "\n",
      "<p>&lt;bedingung> <b>or</b> &lt;bedingung> <br/>\n",
      "=> wahr, wenn eine der beiden Bedingungen wahr ist oder wenn beide wahr sind\n"
     ]
    },
    {
     "cell_type": "code",
     "collapsed": false,
     "input": [
      "a = True\n",
      "b = False\n",
      "a and b"
     ],
     "language": "python",
     "metadata": {
      "slideshow": {
       "slide_type": "fragment"
      }
     },
     "outputs": [
      {
       "metadata": {},
       "output_type": "pyout",
       "prompt_number": 25,
       "text": [
        "False"
       ]
      }
     ],
     "prompt_number": 25
    },
    {
     "cell_type": "code",
     "collapsed": false,
     "input": [
      "a or b"
     ],
     "language": "python",
     "metadata": {
      "slideshow": {
       "slide_type": "fragment"
      }
     },
     "outputs": [
      {
       "metadata": {},
       "output_type": "pyout",
       "prompt_number": 26,
       "text": [
        "True"
       ]
      }
     ],
     "prompt_number": 26
    },
    {
     "cell_type": "markdown",
     "metadata": {
      "slideshow": {
       "slide_type": "slide"
      }
     },
     "source": [
      "<h3 style=\"color:green\">Aufgaben</h3>\n",
      "<p>1) Testen Sie, ob 3457 eine grade Zahl ist und kleiner als 34 im Quadrat</p>\n",
      "<p>2) Gegeben sind a = \"Wiederholung\" und b = \"Repetition\". Testen Sie, ob in einem der beidem Strings \"der\" enthalten ist."
     ]
    },
    {
     "cell_type": "markdown",
     "metadata": {
      "slideshow": {
       "slide_type": "slide"
      }
     },
     "source": [
      "<h3>Musterl\u00f6sung</h3>\n",
      "<p>1) Testen Sie, ob 3457 eine grade Zahl ist und kleiner als 34 im Quadrat"
     ]
    },
    {
     "cell_type": "code",
     "collapsed": false,
     "input": [
      "3457 % 2 == 0 and 3457 < 34 ** 2 "
     ],
     "language": "python",
     "metadata": {
      "slideshow": {
       "slide_type": "fragment"
      }
     },
     "outputs": [
      {
       "metadata": {},
       "output_type": "pyout",
       "prompt_number": 27,
       "text": [
        "False"
       ]
      }
     ],
     "prompt_number": 27
    },
    {
     "cell_type": "markdown",
     "metadata": {
      "slideshow": {
       "slide_type": "fragment"
      }
     },
     "source": [
      "2) Gegeben sind a = \"Wiederholung\" und b = \"Repetition\". Testen Sie ob in einem der beidem Strings \"der\" enthalten ist."
     ]
    },
    {
     "cell_type": "code",
     "collapsed": false,
     "input": [
      "a = \"Wiederholung\"\n",
      "b = \"Reptition\"\n",
      "\"der\" in a or \"der\" in b"
     ],
     "language": "python",
     "metadata": {
      "slideshow": {
       "slide_type": "fragment"
      }
     },
     "outputs": [
      {
       "metadata": {},
       "output_type": "pyout",
       "prompt_number": 28,
       "text": [
        "True"
       ]
      }
     ],
     "prompt_number": 28
    },
    {
     "cell_type": "markdown",
     "metadata": {
      "slideshow": {
       "slide_type": "slide"
      }
     },
     "source": [
      "<h3>Programmkontrolle: Bedingte Verzweigung</h3>\n",
      "<p>Mit if kann man den Programmablauf abh\u00e4ngig vom Wahrheitswert von Bedingungen verzweigen lassen. Einfachster Fall:\n",
      "<p>\n",
      "<img src=\"files/images/if_simple.png\" width=\"50%\" height=\"50%\" border=\"0\" alt=\"\">    "
     ]
    },
    {
     "cell_type": "code",
     "collapsed": false,
     "input": [
      "a = 1\n",
      "if a == 1:\n",
      "    print (\"Hello world: a is True\")"
     ],
     "language": "python",
     "metadata": {
      "slideshow": {
       "slide_type": "fragment"
      }
     },
     "outputs": [
      {
       "output_type": "stream",
       "stream": "stdout",
       "text": [
        "Hello world: a is True\n"
       ]
      }
     ],
     "prompt_number": 29
    },
    {
     "cell_type": "markdown",
     "metadata": {
      "slideshow": {
       "slide_type": "slide"
      }
     },
     "source": [
      "<h3 style=\"color:green\">Aufgaben</h3>\n",
      "<p>1) Gegeben ist a = \"aus\" und b = \"Das Haus steht leer\". Schreiben Sie ein Script, dass f\u00fcr den Fall, dass a in b enthalten ist, ausgibt: \"aus\" ist in dem String \"Das Haus steht leer\" enthalten.</p>\n",
      "<p>2) Gegeben ist c = \"haus\". Verwenden Sie   b aus Aufgabe 1). Schreiben Sie ein Skript, dass, wenn c in Klein- oder Gro\u00dfschreibung in b enthalten ist, ausgibt: \"Found: >Haus&lt;\" </p>"
     ]
    },
    {
     "cell_type": "markdown",
     "metadata": {
      "slideshow": {
       "slide_type": "slide"
      }
     },
     "source": [
      "<h3>Musterl\u00f6sung</h3>\n",
      "1) Gegeben ist a = \"aus\" und b = \"Das Haus steht leer\". Schreiben Sie ein Script, dass f\u00fcr den Fall, dass a in b enthalten ist, ausgibt: \"aus\" ist in dem String \"Das Haus steht leer\" enthalten."
     ]
    },
    {
     "cell_type": "code",
     "collapsed": false,
     "input": [
      "a = \"aus\"\n",
      "b = \"Das Haus steht leer\"\n",
      "if a in b:\n",
      "    print ('\"aus\" ist in dem String \"Das Haus steht leer\" enthalten.')"
     ],
     "language": "python",
     "metadata": {
      "slideshow": {
       "slide_type": "fragment"
      }
     },
     "outputs": [
      {
       "output_type": "stream",
       "stream": "stdout",
       "text": [
        "\"aus\" ist in dem String \"Das Haus steht leer\" enthalten.\n"
       ]
      }
     ],
     "prompt_number": 30
    },
    {
     "cell_type": "markdown",
     "metadata": {
      "slideshow": {
       "slide_type": "fragment"
      }
     },
     "source": [
      "2) Gegeben ist c = \"haus\". Verwenden Sie b aus Aufgabe 1). Schreiben Sie ein Skript, dass, wenn c in Klein- oder Gro\u00dfschreibung in b enthalten ist, ausgibt: \"Found: >Haus<\""
     ]
    },
    {
     "cell_type": "code",
     "collapsed": false,
     "input": [
      "c = \"haus\"\n",
      "if c in b or c.lower() in b:\n",
      "    print (\">Found: >Haus<\")"
     ],
     "language": "python",
     "metadata": {
      "slideshow": {
       "slide_type": "fragment"
      }
     },
     "outputs": [],
     "prompt_number": 31
    },
    {
     "cell_type": "markdown",
     "metadata": {
      "slideshow": {
       "slide_type": "slide"
      }
     },
     "source": [
      "<h3>Bedingungen: if - else </h3>\n",
      "<p>Mit else kann man festlegen, welcher Code ausgef\u00fchrt werden soll, wenn die Bedingung nicht wahr ist:\n",
      "<p>\n",
      "<img src=\"files/images/if_else.png\" width=\"50%\" height=\"50%\" border=\"0\" alt=\"\">    "
     ]
    },
    {
     "cell_type": "code",
     "collapsed": false,
     "input": [
      "a = 2\n",
      "if a == 1:\n",
      "    print (\"a gleich 1\")\n",
      "else: \n",
      "    print (\"a ungleich 1\")"
     ],
     "language": "python",
     "metadata": {
      "slideshow": {
       "slide_type": "fragment"
      }
     },
     "outputs": [
      {
       "output_type": "stream",
       "stream": "stdout",
       "text": [
        "a ungleich 1\n"
       ]
      }
     ],
     "prompt_number": 32
    },
    {
     "cell_type": "markdown",
     "metadata": {
      "slideshow": {
       "slide_type": "slide"
      }
     },
     "source": [
      "<h3>Gereihte Bedingungen mit elif</h3>\n",
      "<p>Will man \u00fcberpr\u00fcfen, ob eine von mehreren Bedingungen wahr ist, verwendet man eine Reihe von if - elif - [elif] - else:"
     ]
    },
    {
     "cell_type": "raw",
     "metadata": {
      "slideshow": {
       "slide_type": "fragment"
      }
     },
     "source": [
      "<code>\n",
      "if &lt;bedingung>:\n",
      "\tcode\n",
      "elif &lt;bedingung>:\n",
      "\tcode\n",
      "[...]\n",
      "else:\n",
      "\tcode\n",
      "</code>"
     ]
    },
    {
     "cell_type": "code",
     "collapsed": false,
     "input": [
      "c = \"z\"\n",
      "if c == \"x\":\n",
      "    print (\"c ist x\")\n",
      "elif c == \"y\": \n",
      "    print (\"c ist y\")    \n",
      "elif c == \"z\":\n",
      "    print (\"c ist z\")    \n",
      "else: \n",
      "    print (\"c ist weder x noch y noch z\")    \n",
      "    "
     ],
     "language": "python",
     "metadata": {
      "slideshow": {
       "slide_type": "fragment"
      }
     },
     "outputs": [
      {
       "output_type": "stream",
       "stream": "stdout",
       "text": [
        "c ist z\n"
       ]
      }
     ],
     "prompt_number": 33
    },
    {
     "cell_type": "markdown",
     "metadata": {
      "slideshow": {
       "slide_type": "slide"
      }
     },
     "source": [
      "<h3 style=\"color:green\">Aufgaben</h3>\n",
      "<p>1) Wenn der String \"Freund\" in Klein- oder Gro\u00dfschreibung in \"Sie wollen sich befreunden\" enthalten ist, dann soll \"Found: Freund\" ausgegeben werden, ansonsten \"String not found\".</p>\n",
      "<p>2) a ist eine Benutzereingabe. Wenn die Eingabe kleiner ist als 7, dann lautet die Ausgabe: \"Gesuchte Zahl ist gr\u00f6\u00dfer\", wenn die Zahl gr\u00f6\u00dfer ist als 7, dann lautet die Ausgabe: \"Gesuchte Zahl ist kleiner\". Wenn die Zahl genau 7 ist, dann lautet die Ausgabe \"Zahl gefunden\". Spielen Sie das mit a = 1 und a = 7 durch.</p>"
     ]
    },
    {
     "cell_type": "markdown",
     "metadata": {
      "slideshow": {
       "slide_type": "slide"
      }
     },
     "source": [
      "<h3>Musterl\u00f6sung</h3>\n",
      "<p>Wenn der String \"Freund\" in Klein- oder Gro\u00dfschreibung in \"Sie wollen sich befreunden\" enthalten ist, dann soll \"Found: Freund\" ausgegeben werden, ansonsten \"String not found\"."
     ]
    },
    {
     "cell_type": "code",
     "collapsed": false,
     "input": [
      "if \"Freund\" in \"Sie wollen sich befreunden\" or \"Freund\".lower() in \"Sie wollen sich befreunden\":\n",
      "    print (\"Found: Freund\")\n",
      "else:\n",
      "    print (\"String not found\")"
     ],
     "language": "python",
     "metadata": {
      "slideshow": {
       "slide_type": "fragment"
      }
     },
     "outputs": [
      {
       "output_type": "stream",
       "stream": "stdout",
       "text": [
        "Found: Freund\n"
       ]
      }
     ],
     "prompt_number": 34
    },
    {
     "cell_type": "markdown",
     "metadata": {
      "slideshow": {
       "slide_type": "fragment"
      }
     },
     "source": [
      "2) a ist eine Benutzereingabe. Wenn die Eingabe kleiner ist als 7, dann lautet die Ausgabe: \"Gesuchte Zahl ist gr\u00f6\u00dfer\", wenn die Zahl gr\u00f6\u00dfer ist als 7, dann lautet die Ausgabe: \"Gesuchte Zahl ist kleiner\". Wenn die Zahl genau 7 ist, dann lautet die Ausgabe \"Zahl gefunden\". Spielen Sie das mit a = 1 und a = 7 durch."
     ]
    },
    {
     "cell_type": "code",
     "collapsed": false,
     "input": [
      "a = 1\n",
      "if a < 7:\n",
      "    print (\"Gesuchte Zahl ist gr\u00f6\u00dfer\")\n",
      "elif a == 7:\n",
      "    print (\"Zahl gefunden\")\n",
      "else:\n",
      "    print (\"Gesuchte Zahl ist kleiner\")\n",
      "    "
     ],
     "language": "python",
     "metadata": {
      "slideshow": {
       "slide_type": "fragment"
      }
     },
     "outputs": [
      {
       "output_type": "stream",
       "stream": "stdout",
       "text": [
        "Gesuchte Zahl ist gr\u00f6\u00dfer\n"
       ]
      }
     ],
     "prompt_number": 35
    },
    {
     "cell_type": "markdown",
     "metadata": {
      "slideshow": {
       "slide_type": "slide"
      }
     },
     "source": [
      "<h3>Einfache Benutzereingabe mit <code>input</code></h3>"
     ]
    },
    {
     "cell_type": "code",
     "collapsed": false,
     "input": [
      "r = input (\"Geben Sie bitte eine Zahl zwischen 1 und 10 ein: \")\n",
      "print (\"Ihre Eingabe war (falls Sie das schon vergessen haben): \", r)"
     ],
     "language": "python",
     "metadata": {
      "slideshow": {
       "slide_type": "fragment"
      }
     },
     "outputs": [
      {
       "name": "stdout",
       "output_type": "stream",
       "stream": "stdout",
       "text": [
        "Geben Sie bitte eine Zahl zwischen 1 und 10 ein: 3\n"
       ]
      },
      {
       "output_type": "stream",
       "stream": "stdout",
       "text": [
        "Ihre Eingabe war (falls Sie das schon vergessen haben):  3\n"
       ]
      }
     ],
     "prompt_number": 36
    },
    {
     "cell_type": "code",
     "collapsed": false,
     "input": [
      "r = input (\"Geben Sie bitte eine Zahl zwischen 1 und 10 ein: \")\n",
      "print (type(r))   # Achtung, der Datentyp von r ist string"
     ],
     "language": "python",
     "metadata": {
      "slideshow": {
       "slide_type": "fragment"
      }
     },
     "outputs": [
      {
       "name": "stdout",
       "output_type": "stream",
       "stream": "stdout",
       "text": [
        "Geben Sie bitte eine Zahl zwischen 1 und 10 ein: 6\n"
       ]
      },
      {
       "output_type": "stream",
       "stream": "stdout",
       "text": [
        "<class 'str'>\n"
       ]
      }
     ],
     "prompt_number": 37
    },
    {
     "cell_type": "markdown",
     "metadata": {
      "slideshow": {
       "slide_type": "fragment"
      }
     },
     "source": [
      "Wir k\u00f6nnen nun die Benutzereingabe auswerten:"
     ]
    },
    {
     "cell_type": "code",
     "collapsed": false,
     "input": [
      "r = input (\"Geben Sie bitte eine Zahl zwischen 1 und 10 ein: \")\n",
      "if r == \"\":\n",
      "    print (\"Sie m\u00fcssen schon etwas eingeben...\")\n",
      "else: \n",
      "    r = int(r)  # type casting nach int\n",
      "    a = r ** 2\n",
      "    print (\"Das Quadrat der Zahl \", r, \" ist \", a)"
     ],
     "language": "python",
     "metadata": {
      "slideshow": {
       "slide_type": "fragment"
      }
     },
     "outputs": [
      {
       "name": "stdout",
       "output_type": "stream",
       "stream": "stdout",
       "text": [
        "Geben Sie bitte eine Zahl zwischen 1 und 10 ein: 4\n"
       ]
      },
      {
       "output_type": "stream",
       "stream": "stdout",
       "text": [
        "Das Quadrat der Zahl  4  ist  16\n"
       ]
      }
     ],
     "prompt_number": 1
    },
    {
     "cell_type": "markdown",
     "metadata": {
      "slideshow": {
       "slide_type": "slide"
      }
     },
     "source": [
      "<h3 style=\"color:green\">Aufgaben</h3>\n",
      "<p>1) Lassen Sie den Benutzer ein beliebiges Wort eingeben. Geben Sie dann als Ergebnis die L\u00e4nge des Wortes und die Anzahl der Vokale aus(ignorieren Sie Klein- und Gro\u00dfschreibung).  "
     ]
    },
    {
     "cell_type": "code",
     "collapsed": false,
     "input": [
      "#Lassen Sie den Benutzer ein beliebiges Wort eingeben.\n",
      "#Geben Sie dann als Ergebnis die L\u00e4nge des Wortes und die Anzahl der verschiedenen Vokale aus\n",
      "\n",
      "word = input(\"Bitte geben Sie ein Wort ein: \")\n",
      "print (\"L\u00e4nge des Wortes: \", len(word))\n",
      "voc = 0\n",
      "if \"a\" in word.lower():\n",
      "    voc += 1\n",
      "if \"o\" in word.lower():\n",
      "    voc += 1\n",
      "if \"e\" in word.lower():\n",
      "    voc += 1\n",
      "if \"i\" in word.lower():\n",
      "    voc += 1\n",
      "if \"u\" in word.lower():\n",
      "    voc += 1\n",
      "\n",
      "print(\"Es sind \", voc, \" unterschiedliche Vokale in \", word)\n"
     ],
     "language": "python",
     "metadata": {
      "slideshow": {
       "slide_type": "slide"
      }
     },
     "outputs": [
      {
       "name": "stdout",
       "output_type": "stream",
       "stream": "stdout",
       "text": [
        "Bitte geben Sie ein Wort ein: Eisenbahngesellschaft\n"
       ]
      },
      {
       "output_type": "stream",
       "stream": "stdout",
       "text": [
        "L\u00e4nge des Wortes:  21\n",
        "Es sind  3  unterschiedliche Vokale in  Eisenbahngesellschaft\n"
       ]
      }
     ],
     "prompt_number": 2
    },
    {
     "cell_type": "heading",
     "level": 2,
     "metadata": {
      "slideshow": {
       "slide_type": "slide"
      }
     },
     "source": [
      "Programmkontrolle: Schleifen"
     ]
    },
    {
     "cell_type": "markdown",
     "metadata": {
      "slideshow": {
       "slide_type": "slide"
      }
     },
     "source": [
      "<h3>while - Schleifen</h3>\n",
      "<p>\n",
      "<img src=\"files/images/loop.png\" width=\"50%\" height=\"50%\" border=\"0\" alt=\"\">    "
     ]
    },
    {
     "cell_type": "markdown",
     "metadata": {
      "slideshow": {
       "slide_type": "fragment"
      }
     },
     "source": [
      "<p><code>while &lt;bedingung ist wahr>:<br/>\n",
      "    Code</code>"
     ]
    },
    {
     "cell_type": "markdown",
     "metadata": {
      "slideshow": {
       "slide_type": "fragment"
      }
     },
     "source": [
      "\u00dcblicherweise wird im Code eine Variable so ver\u00e4ndert, dass an einem bestimmten Punkt die Bedingung nicht mehr wahr ist."
     ]
    },
    {
     "cell_type": "markdown",
     "metadata": {
      "slideshow": {
       "slide_type": "slide"
      }
     },
     "source": [
      "<h3>while - Schleifen: Beispiel"
     ]
    },
    {
     "cell_type": "code",
     "collapsed": false,
     "input": [
      "n = 0\n",
      "while n < 5:       # Anfang der Schleife, Bestimmung der Bedingung\n",
      "    print (n)      # tue etwas mit der Variablen n\n",
      "    n += 1         # ver\u00e4ndere n so, dass die Bedingung an einem bestimmten Punkt nicht mehr wahr ist."
     ],
     "language": "python",
     "metadata": {
      "slideshow": {
       "slide_type": "fragment"
      }
     },
     "outputs": [
      {
       "output_type": "stream",
       "stream": "stdout",
       "text": [
        "0\n",
        "1\n",
        "2\n",
        "3\n",
        "4\n"
       ]
      }
     ],
     "prompt_number": 3
    },
    {
     "cell_type": "markdown",
     "metadata": {
      "slideshow": {
       "slide_type": "slide"
      }
     },
     "source": [
      "<h3 style=\"color:green\">Aufgaben</h3>\n",
      "<p>1) Erstellen Sie eine Schleife, die 5 mal die Zahl 6 zur Ausgangszahl 0 hinzuz\u00e4hlt und das Ergebnis in jedem Durchlauf ausgibt.\n",
      "<p>2) Schreiben Sie eine Schleife, die beim Nutzer 3 Zahlen abfragt und dann das Ergebnis der Addition der Zahlen ausgibt."
     ]
    },
    {
     "cell_type": "markdown",
     "metadata": {
      "slideshow": {
       "slide_type": "slide"
      }
     },
     "source": [
      "<h3>Musterl\u00f6sung</h3>\n",
      "<p>1) Erstellen Sie eine Schleife, die 5 mal die Zahl 6 zur Ausgangszahl 0 hinzuz\u00e4hlt und das Ergebnis in jedem Durchlauf ausgibt."
     ]
    },
    {
     "cell_type": "code",
     "collapsed": false,
     "input": [
      "n = 0\n",
      "z = 0\n",
      "while n < 5:\n",
      "    z += 6\n",
      "    print (z)\n",
      "    n += 1"
     ],
     "language": "python",
     "metadata": {
      "slideshow": {
       "slide_type": "fragment"
      }
     },
     "outputs": [
      {
       "output_type": "stream",
       "stream": "stdout",
       "text": [
        "6\n",
        "12\n",
        "18\n",
        "24\n",
        "30\n"
       ]
      }
     ],
     "prompt_number": 4
    },
    {
     "cell_type": "markdown",
     "metadata": {
      "slideshow": {
       "slide_type": "slide"
      }
     },
     "source": [
      "<p>2) Schreiben Sie eine Schleife, die beim Nutzer 3 Zahlen abfragt und dann das Ergebnis ausgibt."
     ]
    },
    {
     "cell_type": "code",
     "collapsed": false,
     "input": [
      "n = 0\n",
      "res = 0\n",
      "while n < 3:\n",
      "    res += int(input(\"Bitte geben Sie eine Zahl ein: \"))\n",
      "    n += 1\n",
      "print (\"Summe: \", res)    \n",
      "    "
     ],
     "language": "python",
     "metadata": {
      "slideshow": {
       "slide_type": "subslide"
      }
     },
     "outputs": [
      {
       "name": "stdout",
       "output_type": "stream",
       "stream": "stdout",
       "text": [
        "Bitte geben Sie eine Zahl ein: 5\n"
       ]
      },
      {
       "name": "stdout",
       "output_type": "stream",
       "stream": "stdout",
       "text": [
        "Bitte geben Sie eine Zahl ein: 8\n"
       ]
      },
      {
       "name": "stdout",
       "output_type": "stream",
       "stream": "stdout",
       "text": [
        "Bitte geben Sie eine Zahl ein: 2\n"
       ]
      },
      {
       "output_type": "stream",
       "stream": "stdout",
       "text": [
        "Summe:  15\n"
       ]
      }
     ],
     "prompt_number": 5
    },
    {
     "cell_type": "markdown",
     "metadata": {
      "slideshow": {
       "slide_type": "slide"
      }
     },
     "source": [
      "<h3>while und Listen"
     ]
    },
    {
     "cell_type": "code",
     "collapsed": false,
     "input": [
      "#Aufgabe: Gebe alle Elemente der Liste chars aus:\n",
      "chars = ['a','b','c']\n",
      "n = 0\n",
      "while n < len(chars):\n",
      "    print (n)\n",
      "    n += 1"
     ],
     "language": "python",
     "metadata": {
      "slideshow": {
       "slide_type": "fragment"
      }
     },
     "outputs": [
      {
       "output_type": "stream",
       "stream": "stdout",
       "text": [
        "0\n",
        "1\n",
        "2\n"
       ]
      }
     ],
     "prompt_number": 6
    },
    {
     "cell_type": "markdown",
     "metadata": {
      "slideshow": {
       "slide_type": "fragment"
      }
     },
     "source": [
      "Da dies ein sehr h\u00e4ufiger Zugriff auf Listen (und alles Listenartige) ist, gibt es daf\u00fcr eine eigene, sehr viel kompaktere Syntax, n\u00e4mlich for - Schleifen:"
     ]
    },
    {
     "cell_type": "code",
     "collapsed": false,
     "input": [
      "for c in chars:\n",
      "    print (c)"
     ],
     "language": "python",
     "metadata": {
      "slideshow": {
       "slide_type": "fragment"
      }
     },
     "outputs": [
      {
       "output_type": "stream",
       "stream": "stdout",
       "text": [
        "a\n",
        "b\n",
        "c\n"
       ]
      }
     ],
     "prompt_number": 7
    },
    {
     "cell_type": "markdown",
     "metadata": {
      "slideshow": {
       "slide_type": "slide"
      }
     },
     "source": [
      "<h3>for \u2013 Schleife: <code>for x in &lt;List></code></h3>"
     ]
    },
    {
     "cell_type": "markdown",
     "metadata": {
      "slideshow": {
       "slide_type": "fragment"
      }
     },
     "source": [
      "<img src=\"files/images/for_loop_simple.png\" width=\"50%\" height=\"50%\" border=\"0\" alt=\"\">    "
     ]
    },
    {
     "cell_type": "markdown",
     "metadata": {
      "slideshow": {
       "slide_type": "slide"
      }
     },
     "source": [
      "<h3>for - Schleife: Schritt f\u00fcr Schritt"
     ]
    },
    {
     "cell_type": "code",
     "collapsed": false,
     "input": [
      "chars = ['a','b','c']\n",
      "for x in chars:\n",
      "    print (x)"
     ],
     "language": "python",
     "metadata": {
      "slideshow": {
       "slide_type": "fragment"
      }
     },
     "outputs": [
      {
       "output_type": "stream",
       "stream": "stdout",
       "text": [
        "a\n",
        "b\n",
        "c\n"
       ]
      }
     ],
     "prompt_number": 8
    },
    {
     "cell_type": "markdown",
     "metadata": {
      "slideshow": {
       "slide_type": "fragment"
      }
     },
     "source": [
      "Schritt f\u00fcr Schritt:"
     ]
    },
    {
     "cell_type": "markdown",
     "metadata": {
      "slideshow": {
       "slide_type": "fragment"
      }
     },
     "source": [
      "<ol>\n",
      "<li>Zeile: Erzeugt die Liste chars.\n",
      "<li>Zeile: Anfang der Schleife: Pr\u00fcfe, ob noch Elemente in der Liste chars sind. Wenn nein, setze Programmablauf fort. Wenn ja, tue das folgende:\n",
      "<ul>\n",
      "<li>Weise der Variablen x ein Element aus der Liste als Wert zu. Beim ersten Durchlauf ist das der Inhalt von chars[0], also: x = 'a', beim zweiten Durchlauf ist das der Inhalt von chars [1], also x = 'b' und beim dritten Durchlauf ist das der Inhalt von chars[2], also x = 'c'.\n",
      "</ul>\n",
      "<li>Zeile: Gebe den Inhalt von x aus</br>\n",
      "&nbsp;&nbsp;&nbsp; Ende des Schleifencodes</br>"
     ]
    },
    {
     "cell_type": "markdown",
     "metadata": {
      "slideshow": {
       "slide_type": "slide"
      }
     },
     "source": [
      "<h3>for-Schleife: ein Beispiel"
     ]
    },
    {
     "cell_type": "code",
     "collapsed": false,
     "input": [
      "thinkers = ['Marx','Turing', 'Popper','Foucault']\n",
      "for t in thinkers:\n",
      "\tprint (t)"
     ],
     "language": "python",
     "metadata": {
      "slideshow": {
       "slide_type": "fragment"
      }
     },
     "outputs": [
      {
       "output_type": "stream",
       "stream": "stdout",
       "text": [
        "Marx\n",
        "Turing\n",
        "Popper\n",
        "Foucault\n"
       ]
      }
     ],
     "prompt_number": 10
    },
    {
     "cell_type": "markdown",
     "metadata": {
      "slideshow": {
       "slide_type": "slide"
      }
     },
     "source": [
      "<h3 style=\"color:green\">Aufgaben</h3>\n",
      "<p>Gegeben ist die Liste chars mit den Elementen A, C, E, U, \u00d6, I, B\n",
      "<ol>\n",
      "<li>Geben Sie alle Elemente der Liste in dieser Form aus - &lt;char> -  , also - A - usw. (jeweils in einer neuen Zeile).\n",
      "<li>Geben Sie alle Elemente der Liste sortiert aus."
     ]
    },
    {
     "cell_type": "markdown",
     "metadata": {
      "slideshow": {
       "slide_type": "slide"
      }
     },
     "source": [
      "<h3 style=\"color:green\">Musterl\u00f6sung</h3>\n",
      "<p>Geben Sie alle Elemente der Liste in dieser Form aus - &lt;char> - , also - A - usw. (jeweils in einer neuen Zeile).\n",
      "\n"
     ]
    },
    {
     "cell_type": "code",
     "collapsed": false,
     "input": [
      "chars = ['A','C','E','U','\u00d6','I','B']\n",
      "for c in chars:\n",
      "    print (\" - \", c, \" - \")"
     ],
     "language": "python",
     "metadata": {
      "slideshow": {
       "slide_type": "fragment"
      }
     },
     "outputs": [
      {
       "output_type": "stream",
       "stream": "stdout",
       "text": [
        " -  A  - \n",
        " -  C  - \n",
        " -  E  - \n",
        " -  U  - \n",
        " -  \u00d6  - \n",
        " -  I  - \n",
        " -  B  - \n"
       ]
      }
     ],
     "prompt_number": 11
    },
    {
     "cell_type": "code",
     "collapsed": false,
     "input": [
      "#sortierte Ausgabe\n",
      "for c in sorted(chars):\n",
      "    print (\" - \", c, \" - \")"
     ],
     "language": "python",
     "metadata": {
      "slideshow": {
       "slide_type": "slide"
      }
     },
     "outputs": [
      {
       "output_type": "stream",
       "stream": "stdout",
       "text": [
        " -  A  - \n",
        " -  B  - \n",
        " -  C  - \n",
        " -  E  - \n",
        " -  I  - \n",
        " -  U  - \n",
        " -  \u00d6  - \n"
       ]
      }
     ],
     "prompt_number": 12
    },
    {
     "cell_type": "markdown",
     "metadata": {
      "slideshow": {
       "slide_type": "slide"
      }
     },
     "source": [
      "<h3>for-Schleife: Erste Verallgemeinerung</h3>\n",
      "<p>for-Schleifen haben die Form: <code>for &lt;variable> in &lt;list></code><br/>\n",
      "Tats\u00e4chlich muss f\u00fcr &lt;list> nicht eine Liste eingesetzt werden, sondern es kann jeder \n",
      "Ausdruck eingesetzt werden, der eine Liste zur\u00fcckgibt (oder, wie wir sp\u00e4ter sehen werden, etwas Listenartiges). "
     ]
    },
    {
     "cell_type": "code",
     "collapsed": false,
     "input": [
      "#definiert ein Dictionary namens word_count\n",
      "word_count = dict(der = 32, die = 17, das = 12, auch = 9)   \n",
      "\n",
      "#dict.keys() gibt die Keys des Dictionaries als Sequenz zur\u00fcck, \n",
      "#die an der Stelle der Liste verwendet werden kann.\n",
      "for w in word_count.keys():                    \n",
      "    print (w)                                  "
     ],
     "language": "python",
     "metadata": {
      "slideshow": {
       "slide_type": "fragment"
      }
     },
     "outputs": [
      {
       "output_type": "stream",
       "stream": "stdout",
       "text": [
        "der\n",
        "die\n",
        "auch\n",
        "das\n"
       ]
      }
     ],
     "prompt_number": 13
    },
    {
     "cell_type": "markdown",
     "metadata": {
      "slideshow": {
       "slide_type": "slide"
      }
     },
     "source": [
      "<h3>for-Schleife: range(n)</h3>\n",
      "<p>Manchmal hat meine keine Liste, sondern braucht nur Zahlen, etwa die Zahlen von 0 bis 5. Die Funktion range(n) gibt alle Zahlen von 0 bis n-1 aus."
     ]
    },
    {
     "cell_type": "code",
     "collapsed": false,
     "input": [
      "for i in range(6):\n",
      "    print (i, \": \", i**2)"
     ],
     "language": "python",
     "metadata": {
      "slideshow": {
       "slide_type": "fragment"
      }
     },
     "outputs": [
      {
       "output_type": "stream",
       "stream": "stdout",
       "text": [
        "0 :  0\n",
        "1 :  1\n",
        "2 :  4\n",
        "3 :  9\n",
        "4 :  16\n",
        "5 :  25\n"
       ]
      }
     ],
     "prompt_number": 14
    },
    {
     "cell_type": "code",
     "collapsed": false,
     "input": [
      "#wenn range zwei parameter \u00fcbergeben werden, dann ist der erste der  Startwert\n",
      "for i in range(2,4):             \n",
      "    print (i, \": \", i**2)"
     ],
     "language": "python",
     "metadata": {
      "slideshow": {
       "slide_type": "fragment"
      }
     },
     "outputs": [
      {
       "output_type": "stream",
       "stream": "stdout",
       "text": [
        "2 :  4\n",
        "3 :  9\n"
       ]
      }
     ],
     "prompt_number": 15
    },
    {
     "cell_type": "markdown",
     "metadata": {
      "slideshow": {
       "slide_type": "slide"
      }
     },
     "source": [
      "<h3 style=\"color:green\">Aufgaben</h3>\n",
      "<p>1) Schreiben Sie das obige Beispiel mit der Ausgabe der Wortliste so um, dass nun auch die H\u00e4ufigkeit der W\u00f6rter ausgegeben wird.</p>\n",
      "<p>2) Lassen  Sie den Benutzer 3 Zahlen eingeben und multiplizieren Sie miteinander. Die Abfrage sollte so aussehen:<br/>\n",
      "Bitte geben Sie das 1. Wort ein: <br/>\n",
      "und dann das 2. usw. (verwenden Sie nicht while)"
     ]
    },
    {
     "cell_type": "markdown",
     "metadata": {
      "slideshow": {
       "slide_type": "slide"
      }
     },
     "source": [
      "<h3>Musterl\u00f6sung</h3>\n",
      "<p>Schreiben Sie das obige Beispiel mit der Ausgabe der Wortliste so um, dass nun auch die H\u00e4ufigkeit der W\u00f6rter ausgegeben wird."
     ]
    },
    {
     "cell_type": "code",
     "collapsed": false,
     "input": [
      "#definiert ein Dictionary namens word_count\n",
      "word_count = dict(der = 32, die = 17, das = 12, auch = 9)   \n",
      "\n",
      "#dict.keys() gibt die Keys des Dictionaries als Sequenz zur\u00fcck, \n",
      "#die an der Stelle der Liste verwendet werden kann.\n",
      "for (w,c) in word_count.items():                    \n",
      "    print (w, \"  \", c)                                  "
     ],
     "language": "python",
     "metadata": {
      "slideshow": {
       "slide_type": "fragment"
      }
     },
     "outputs": [
      {
       "output_type": "stream",
       "stream": "stdout",
       "text": [
        "der    32\n",
        "die    17\n",
        "auch    9\n",
        "das    12\n"
       ]
      }
     ],
     "prompt_number": 16
    },
    {
     "cell_type": "code",
     "collapsed": false,
     "input": [
      "#oder\n",
      "for w in word_count:                    \n",
      "    print (w, \"  \", word_count[w])                                  "
     ],
     "language": "python",
     "metadata": {
      "slideshow": {
       "slide_type": "fragment"
      }
     },
     "outputs": [
      {
       "output_type": "stream",
       "stream": "stdout",
       "text": [
        "der    32\n",
        "die    17\n",
        "auch    9\n",
        "das    12\n"
       ]
      }
     ],
     "prompt_number": 17
    },
    {
     "cell_type": "markdown",
     "metadata": {
      "slideshow": {
       "slide_type": "slide"
      }
     },
     "source": [
      "<p> 2) Lassen Sie den Benutzer 3 Zahlen eingeben und addieren Sie sie. Die Abfrage sollte so aussehen:<br/>\n",
      "Bitte geben Sie das 1. Wort ein:<br/>\n",
      "und dann das 2. usw. (verwenden Sie nicht while) "
     ]
    },
    {
     "cell_type": "code",
     "collapsed": false,
     "input": [
      "res = 0\n",
      "for i in range (3):\n",
      "    res += int(input(\"Bitte geben Sie die \" + str(i+1) + \". Zahl ein: \"))\n",
      "print (\"Ergebnis: \", res)"
     ],
     "language": "python",
     "metadata": {
      "slideshow": {
       "slide_type": "fragment"
      }
     },
     "outputs": [
      {
       "name": "stdout",
       "output_type": "stream",
       "stream": "stdout",
       "text": [
        "Bitte geben Sie die 1. Zahl ein: 3\n"
       ]
      },
      {
       "name": "stdout",
       "output_type": "stream",
       "stream": "stdout",
       "text": [
        "Bitte geben Sie die 2. Zahl ein: 6\n"
       ]
      },
      {
       "name": "stdout",
       "output_type": "stream",
       "stream": "stdout",
       "text": [
        "Bitte geben Sie die 3. Zahl ein: 2\n"
       ]
      },
      {
       "output_type": "stream",
       "stream": "stdout",
       "text": [
        "Ergebnis:  11\n"
       ]
      }
     ],
     "prompt_number": 18
    },
    {
     "cell_type": "markdown",
     "metadata": {
      "slideshow": {
       "slide_type": "slide"
      }
     },
     "source": [
      "<h3>Schleifen und bedingte Verzweigungen</h3>\n",
      "<p>Man kann Schleifen und Verzweigungen frei mischen:</p>"
     ]
    },
    {
     "cell_type": "code",
     "collapsed": false,
     "input": [
      "a = [1,2,3,4]\n",
      "for i in a:\n",
      "    if i == 2:\n",
      "        print (\"hab die 2 gefunden\")\n",
      "    else:\n",
      "        print (\"uninteressant: \", i)"
     ],
     "language": "python",
     "metadata": {
      "slideshow": {
       "slide_type": "fragment"
      }
     },
     "outputs": [
      {
       "output_type": "stream",
       "stream": "stdout",
       "text": [
        "uninteressant:  1\n",
        "hab die 2 gefunden\n",
        "uninteressant:  3\n",
        "uninteressant:  4\n"
       ]
      }
     ],
     "prompt_number": 19
    },
    {
     "cell_type": "markdown",
     "metadata": {
      "slideshow": {
       "slide_type": "fragment"
      }
     },
     "source": [
      "Mit <code>break</code> kann man den Ablauf der Schleife abbrechen."
     ]
    },
    {
     "cell_type": "code",
     "collapsed": false,
     "input": [
      "a = [1,2,3,4]\n",
      "for i in a:\n",
      "    if i == 2:\n",
      "        print (\"hab die 2 gefunden. das reicht mir.\")\n",
      "        break\n",
      "    else:\n",
      "        print (\"uninteressant: \", i)"
     ],
     "language": "python",
     "metadata": {
      "slideshow": {
       "slide_type": "fragment"
      }
     },
     "outputs": [
      {
       "output_type": "stream",
       "stream": "stdout",
       "text": [
        "uninteressant:  1\n",
        "hab die 2 gefunden. das reicht mir.\n"
       ]
      }
     ],
     "prompt_number": 20
    },
    {
     "cell_type": "markdown",
     "metadata": {
      "slideshow": {
       "slide_type": "slide"
      }
     },
     "source": [
      "<h3 style=\"color:green\">Aufgaben</h3>\n",
      "<p style=\"color:green\">Gegeben ist die Liste chars mit den Elementen A, C, E, U, \u00d6, I, B\n",
      "<ol style=\"color:green\">\n",
      "<li>Geben Sie alle Elemente der Liste sortiert aus, mit der Ausnahme von \u00d6\n",
      "<li>Geben Sie alle Elemente aus; verwandeln Sie dabei alle Vokale in Kleinbuchstaben\n",
      "<li>Schreiben Sie ein Skript, das ermittelt, welche der Zahlen von 1-100 kleiner als 300 ist, wenn man sie quadriert. Gegen Sie nur die Zahlen aus, auf die dies zutrifft.\n",
      "<li>Schreiben Sie ein Skript, das ermittelt, welche der Zahlen zwischen 20.000 und 40.0000 durch 2.412 teilbar sind und geben Sie diese Zahlen aus.\n",
      "<li>Schreiben Sie ein Skript, dass z\u00e4hlt, wie h\u00e4ufig der String \"ein\" in \"Das Schneiderlein sass auf einem Bein, und schaute sehr vergn\u00fcglich drein.\" vorkommt. Verwenden Sie dazu eine fertige Methode, die die Zeichenkette findet, sondern durchsuchen Sie selbst den String. \n",
      "</ol>"
     ]
    },
    {
     "cell_type": "markdown",
     "metadata": {
      "slideshow": {
       "slide_type": "slide"
      }
     },
     "source": [
      "<h3>Musterl\u00f6sung</h3>\n",
      "1) Geben Sie alle Elemente der Liste sortiert aus, mit der Ausnahme von \u00d6 "
     ]
    },
    {
     "cell_type": "code",
     "collapsed": false,
     "input": [
      "uc = [\"A\",\"C\",\"E\",\"U\",\"\u00d6\",\"I\",\"B\"]\n",
      "for c in sorted(uc):\n",
      "    if c != \"\u00d6\":\n",
      "        print (c)"
     ],
     "language": "python",
     "metadata": {
      "slideshow": {
       "slide_type": "fragment"
      }
     },
     "outputs": [
      {
       "output_type": "stream",
       "stream": "stdout",
       "text": [
        "A\n",
        "B\n",
        "C\n",
        "E\n",
        "I\n",
        "U\n"
       ]
      }
     ],
     "prompt_number": 21
    },
    {
     "cell_type": "markdown",
     "metadata": {
      "slideshow": {
       "slide_type": "slide"
      }
     },
     "source": [
      "2) Geben Sie alle Elemente aus; verwandeln Sie dabei alle Vokale in Kleinbuchstaben "
     ]
    },
    {
     "cell_type": "code",
     "collapsed": false,
     "input": [
      "for c in uc:\n",
      "    print (c.lower())"
     ],
     "language": "python",
     "metadata": {
      "slideshow": {
       "slide_type": "fragment"
      }
     },
     "outputs": [
      {
       "output_type": "stream",
       "stream": "stdout",
       "text": [
        "a\n",
        "c\n",
        "e\n",
        "u\n",
        "\u00f6\n",
        "i\n",
        "b\n"
       ]
      }
     ],
     "prompt_number": 22
    },
    {
     "cell_type": "markdown",
     "metadata": {
      "slideshow": {
       "slide_type": "slide"
      }
     },
     "source": [
      "3) Schreiben Sie ein Skript, das ermittelt, welche der Zahlen von 1-100 kleiner als 300 ist, wenn man sie quadriert. Geben Sie nur die Zahlen aus, auf die dies zutrifft. "
     ]
    },
    {
     "cell_type": "code",
     "collapsed": false,
     "input": [
      "for i in range (100):\n",
      "    if i ** 2 < 300:\n",
      "        print (i, \" - \", i**2)\n",
      "    else:\n",
      "        break\n",
      "        "
     ],
     "language": "python",
     "metadata": {
      "slideshow": {
       "slide_type": "fragment"
      }
     },
     "outputs": [
      {
       "output_type": "stream",
       "stream": "stdout",
       "text": [
        "0  -  0\n",
        "1  -  1\n",
        "2  -  4\n",
        "3  -  9\n",
        "4  -  16\n",
        "5  -  25\n",
        "6  -  36\n",
        "7  -  49\n",
        "8  -  64\n",
        "9  -  81\n",
        "10  -  100\n",
        "11  -  121\n",
        "12  -  144\n",
        "13  -  169\n",
        "14  -  196\n",
        "15  -  225\n",
        "16  -  256\n",
        "17  -  289\n"
       ]
      }
     ],
     "prompt_number": 23
    },
    {
     "cell_type": "markdown",
     "metadata": {
      "slideshow": {
       "slide_type": "slide"
      }
     },
     "source": [
      "<p>Schreiben Sie ein Skript, das ermittelt, welche der Zahlen zwischen 20.000 und 40.0000 durch 2.412 teilbar sind und geben Sie diese Zahlen aus."
     ]
    },
    {
     "cell_type": "code",
     "collapsed": false,
     "input": [
      "for i in range (20000,40000):\n",
      "    if i % 2412 == 0:\n",
      "        print (i)"
     ],
     "language": "python",
     "metadata": {
      "slideshow": {
       "slide_type": "fragment"
      }
     },
     "outputs": [
      {
       "output_type": "stream",
       "stream": "stdout",
       "text": [
        "21708\n",
        "24120\n",
        "26532\n",
        "28944\n",
        "31356\n",
        "33768\n",
        "36180\n",
        "38592\n"
       ]
      }
     ],
     "prompt_number": 24
    },
    {
     "cell_type": "markdown",
     "metadata": {
      "slideshow": {
       "slide_type": "slide"
      }
     },
     "source": [
      "<h3 style=\"color:green\">Hausaufgabe</h3>\n",
      "<p> Sie haben eine Liste mit 5 Elementen: sa = [1,2,3,4,5]</p>\n",
      "<p> 1) Schreiben Sie ein Skript, das jedes Element mit jedem anderen vergleicht (1 -> 3 und 3 -> 1), aber nicht mit sich selbst.<br/> \n",
      "Der Output soll so aussehen: <br/> \n",
      "<code>comparing 1 -> 2\n",
      "comparing 1 -> 3 \n",
      "comparing 1 -> 4 \n",
      "comparing 2 -> 1 \n",
      "usw.</code></p>\n",
      "<p>2) Schreiben Sie das Programm so um, dass jedes Element nur einmal mit jedem anderen verglichen wird (aber nicht mit sich selbst), also statt  1 -> 2 und 2 -> 1  gibt es nun nur noch eine Zeile: 1 &lt;-> 2</p>"
     ]
    }
   ],
   "metadata": {}
  }
 ]
}