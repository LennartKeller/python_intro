{
 "metadata": {
  "celltoolbar": "Slideshow",
  "name": "",
  "signature": "sha256:ff3e9882b127c7fc4c8001685786b881dff84743f3fe93e3c7f9964974a64a44"
 },
 "nbformat": 3,
 "nbformat_minor": 0,
 "worksheets": [
  {
   "cells": [
    {
     "cell_type": "heading",
     "level": 1,
     "metadata": {
      "slideshow": {
       "slide_type": "slide"
      }
     },
     "source": [
      "Einf\u00fchrung in das Programmieren mit Python"
     ]
    },
    {
     "cell_type": "markdown",
     "metadata": {
      "slideshow": {
       "slide_type": "slide"
      }
     },
     "source": [
      "<h3>Wiederholung</h3>\n",
      "<ul>\n",
      "<li>Type Casting<br/>\n",
      "erm\u00f6glicht es, den Datentyp einer Variablen oder eines Wertes zu \u00e4ndern. Schreibweise new_datatype (var)\n",
      "<li>Listen<br/>\n",
      "anlegen: mylist = [1,2,3,4]<br/>\n",
      "erg\u00e4nzen: mylist.append(5)<br/>\n",
      "slicing: mylist[2:4], mylist[:3]<br/>\n",
      "sortieren: sort (mylist)<br/>\n",
      "<li>Strings als Sequenzen\n",
      "<li>Tupel als unver\u00e4nderliche Listenvariante\n",
      "<li>Dictionaries<br/>\n",
      "anlegen: mydic = {\"a\" : 1, \"b\" : 2} <br/>\n",
      "erg\u00e4nzen my[\"c\"] = 3 <br/>\n",
      "Funktionen: dic.keys(), dic.values()<br/>\n",
      "\n"
     ]
    },
    {
     "cell_type": "markdown",
     "metadata": {
      "slideshow": {
       "slide_type": "slide"
      }
     },
     "source": [
      "<h3>Musterl\u00f6sung f\u00fcr die Hausaufgaben</h3>\n",
      "<p>1) Sie wollen ein einfaches Telefonbuch anlegen, nur Nachnamen und Nummer. Was ist die beste Datenstruktur? \n"
     ]
    },
    {
     "cell_type": "code",
     "collapsed": false,
     "input": [
      "#ein Dictionary\n",
      "phone = { 'Maria': '555-28231', 'Sepp': '555-1234', 'Jo': '1919-1919' }\n",
      "phone[\"Maria\"]"
     ],
     "language": "python",
     "metadata": {
      "slideshow": {
       "slide_type": "fragment"
      }
     },
     "outputs": [
      {
       "metadata": {},
       "output_type": "pyout",
       "prompt_number": 1,
       "text": [
        "'555-28231'"
       ]
      }
     ],
     "prompt_number": 1
    },
    {
     "cell_type": "markdown",
     "metadata": {
      "slideshow": {
       "slide_type": "fragment"
      }
     },
     "source": [
      "2) Sie wollen die W\u00f6rter eines Textes auflisten. Welche der Datenstrukturen eignet sich daf\u00fcr?"
     ]
    },
    {
     "cell_type": "code",
     "collapsed": false,
     "input": [
      "#auflisten (!) -> eine Liste\n",
      "words = [\"wir\", \"haus\", \"kein\"]\n",
      "words[0]"
     ],
     "language": "python",
     "metadata": {
      "slideshow": {
       "slide_type": "fragment"
      }
     },
     "outputs": [
      {
       "metadata": {},
       "output_type": "pyout",
       "prompt_number": 92,
       "text": [
        "'wir'"
       ]
      }
     ],
     "prompt_number": 92
    },
    {
     "cell_type": "markdown",
     "metadata": {
      "slideshow": {
       "slide_type": "subslide"
      }
     },
     "source": [
      "3) Sie wollen die Tages-Temperaturen der europ\u00e4ischen Hauptst\u00e4dte in den letzten 4 Wochen speichern. Was w\u00e4ren m\u00f6gliche L\u00f6sungen? Testen Sie eine mit wenigen Spieldaten. Was w\u00e4re eine perfekte L\u00f6sung?  \n"
     ]
    },
    {
     "cell_type": "markdown",
     "metadata": {
      "slideshow": {
       "slide_type": "fragment"
      }
     },
     "source": [
      "Die Aufgabe lautet \"die Tages-Temperaturen der europ\u00e4ischen Hauptst\u00e4dte in den letzten 4 Wochen speichern\", d.h. wir m\u00fcssen f\u00fcr jeden Ort (1. Einheit) f\u00fcr jeden Tag (2. Einheit) die Temperatur (3. Einheit) speichern. Eine M\u00f6glichkeit w\u00e4re ein Dictionary, dessen Eintr\u00e4ge als key den St\u00e4dtenamen verwenden und als value eine 30 Elemente-lange Liste haben. Jedes Element der Liste enth\u00e4lt die Temperatur an diesem Tag, also temp[12] ist die Temperatur am 12. Aus Platzgr\u00fcnden verwende ich im folgenden nur 7 Tage."
     ]
    },
    {
     "cell_type": "code",
     "collapsed": false,
     "input": [
      "weather = { 'Berlin': [14,17,16,17,15,14,12], 'Athen' : [22,23,25,24,20,19,23] }\n",
      "weather[\"Berlin\"][5] # gibt das Wetter in Berlin am Samstag aus"
     ],
     "language": "python",
     "metadata": {
      "slideshow": {
       "slide_type": "fragment"
      }
     },
     "outputs": [
      {
       "metadata": {},
       "output_type": "pyout",
       "prompt_number": 6,
       "text": [
        "14"
       ]
      }
     ],
     "prompt_number": 6
    },
    {
     "cell_type": "markdown",
     "metadata": {
      "slideshow": {
       "slide_type": "subslide"
      }
     },
     "source": [
      "4) Sie wollen die W\u00f6rter eines Textes und ihre Frequenz auflisten. Diskutieren Sie m\u00f6gliche L\u00f6sungen. Testen Sie eine. Was erscheint Ihnen die beste L\u00f6sung?\n"
     ]
    },
    {
     "cell_type": "code",
     "collapsed": false,
     "input": [
      "# ein Dictionary ist eine gute Wahl:\n",
      "words =  {\"haus\" : 0.004, \"der\" : 0.03, \"auch\" : 0.009}\n",
      "#daraus kann man dann alphabetische Listen erstellen und auch H\u00e4ufigkeitswortlisten \n",
      "sorted(words.keys())"
     ],
     "language": "python",
     "metadata": {
      "slideshow": {
       "slide_type": "fragment"
      }
     },
     "outputs": [
      {
       "metadata": {},
       "output_type": "pyout",
       "prompt_number": 93,
       "text": [
        "['auch', 'der', 'haus']"
       ]
      }
     ],
     "prompt_number": 93
    },
    {
     "cell_type": "markdown",
     "metadata": {
      "slideshow": {
       "slide_type": "subslide"
      }
     },
     "source": [
      "<p style=\"color:green\">Die Gemeinsame Normdatei der Deutschen Nationalbibliothek verzeichnet historische Personen, Ortsnamen usw. Jeder Eintrag hat eine einzigartige Nummer (id). In unserer vereinfachten Version besteht ein Eintrag aus 1. der id, 2. dem Namen, 3. einem kleinen Text zur Person oder dem Ort. \n",
      "<ol style=\"color:green\">\n",
      "<li>Definieren Sie 4 Test-Eintr\u00e4ge und holen Sie sich von der GND die richtigen GND-Nummern daf\u00fcr. \n",
      "</ol>\n",
      "<p> Sie k\u00f6nnen ganz bequem in der GND suchen, etwa hier: <a href=\"https://wiki.bsz-bw.de/doku.php?id=v-team:recherche:ognd:start\">https://wiki.bsz-bw.de/doku.php?id=v-team:recherche:ognd:start</a><br/>\n",
      "Sie k\u00f6nnen dann die Nummer auch als Link verwenden. Goethe etwa hat die Nummer 118540238. Dann k\u00f6nnen Sie nun mit dem Link <a href=\"d-nb.info/gnd/118540238\">http://d-nb.info/gnd/118540238</a> seinen GND-Eintrag abrufen. \n",
      "\n"
     ]
    },
    {
     "cell_type": "code",
     "collapsed": false,
     "input": [
      "# FIXME\n",
      "vips = {118540238 : {\"Goethe\" : \"Schriftsteller, Publizist, Politiker, Jurist, Naturwissenschaftler, Theaterintendant, Maler, Zeichner, 1749 - 1832\"},\n",
      "        118607625 : {\"Schiller\" : \"Schriftsteller, Dramatiker, Historiker, 1759 - 1805\"}, \n",
      "        118572121 : {\"Lessing\" : \"Schriftsteller, Kritiker, Philosoph, Bibliothekar, 1729 - 1781\"}, \n",
      "        118559230: {\"Kafka\" : \"Schriftsteller, Jurist, 1883 - 1924\"} }"
     ],
     "language": "python",
     "metadata": {
      "slideshow": {
       "slide_type": "fragment"
      }
     },
     "outputs": [],
     "prompt_number": 105
    },
    {
     "cell_type": "markdown",
     "metadata": {
      "slideshow": {
       "slide_type": "fragment"
      }
     },
     "source": [
      "2) Geben Sie durch Angabe der Nummer den Eintrag aus. \n"
     ]
    },
    {
     "cell_type": "code",
     "collapsed": false,
     "input": [
      "vips[118572121]"
     ],
     "language": "python",
     "metadata": {
      "slideshow": {
       "slide_type": "fragment"
      }
     },
     "outputs": [
      {
       "metadata": {},
       "output_type": "pyout",
       "prompt_number": 106,
       "text": [
        "{'Lessing': 'Schriftsteller, Kritiker, Philosoph, Bibliothekar, 1729 - 1781'}"
       ]
      }
     ],
     "prompt_number": 106
    },
    {
     "cell_type": "markdown",
     "metadata": {
      "slideshow": {
       "slide_type": "subslide"
      }
     },
     "source": [
      "3) F\u00fcgen Sie einen weiteren Eintrag hinzu."
     ]
    },
    {
     "cell_type": "code",
     "collapsed": false,
     "input": [
      "vips[118534262] =  {\"Fontane\" : \"Schriftsteller, Journalist, Kritiker, Theaterkritiker, Kriegsberichterstatter, Apotheker, 1819 - 1898\"} "
     ],
     "language": "python",
     "metadata": {
      "slideshow": {
       "slide_type": "fragment"
      }
     },
     "outputs": [],
     "prompt_number": 107
    },
    {
     "cell_type": "markdown",
     "metadata": {
      "slideshow": {
       "slide_type": "fragment"
      }
     },
     "source": [
      "4) Geben Sie alle GND-Nummern aus."
     ]
    },
    {
     "cell_type": "code",
     "collapsed": false,
     "input": [
      "vips.keys()"
     ],
     "language": "python",
     "metadata": {
      "slideshow": {
       "slide_type": "fragment"
      }
     },
     "outputs": [
      {
       "metadata": {},
       "output_type": "pyout",
       "prompt_number": 108,
       "text": [
        "dict_keys([118534262, 118607625, 118559230, 118540238, 118572121])"
       ]
      }
     ],
     "prompt_number": 108
    },
    {
     "cell_type": "markdown",
     "metadata": {
      "slideshow": {
       "slide_type": "fragment"
      }
     },
     "source": [
      "5) Geben Sie mit Verwendung der GND-Nummer (nur) einen Namen aus. "
     ]
    },
    {
     "cell_type": "code",
     "collapsed": false,
     "input": [
      "list(vips[118534262].keys())[0]"
     ],
     "language": "python",
     "metadata": {
      "slideshow": {
       "slide_type": "fragment"
      }
     },
     "outputs": [
      {
       "metadata": {},
       "output_type": "pyout",
       "prompt_number": 109,
       "text": [
        "'Fontane'"
       ]
      }
     ],
     "prompt_number": 109
    },
    {
     "cell_type": "markdown",
     "metadata": {
      "slideshow": {
       "slide_type": "fragment"
      }
     },
     "source": [
      "6) Geben Sie mit Verwendung der GND-Nummer (nur) den Text aus. "
     ]
    },
    {
     "cell_type": "code",
     "collapsed": false,
     "input": [
      "list(vips[118534262].values())[0]"
     ],
     "language": "python",
     "metadata": {
      "slideshow": {
       "slide_type": "fragment"
      }
     },
     "outputs": [
      {
       "metadata": {},
       "output_type": "pyout",
       "prompt_number": 110,
       "text": [
        "'Schriftsteller, Journalist, Kritiker, Theaterkritiker, Kriegsberichterstatter, Apotheker, 1819 - 1898'"
       ]
      }
     ],
     "prompt_number": 110
    },
    {
     "cell_type": "heading",
     "level": 2,
     "metadata": {
      "slideshow": {
       "slide_type": "slide"
      }
     },
     "source": [
      "3. Sitzung: Programmkontrolle mit bedingten Verzweigungen und Schleifen"
     ]
    },
    {
     "cell_type": "markdown",
     "metadata": {
      "slideshow": {
       "slide_type": "subslide"
      }
     },
     "source": [
      "<h3>Bedingungen"
     ]
    },
    {
     "cell_type": "markdown",
     "metadata": {
      "slideshow": {
       "slide_type": "fragment"
      }
     },
     "source": [
      "Jeder Ausdruck, der einen Wahrheitswert (`True` oder `False`) zur\u00fcckgibt, kann als Bedingung verwendet werden. Beispiele:"
     ]
    },
    {
     "cell_type": "code",
     "collapsed": false,
     "input": [
      "x = 1 \n",
      "y = 0\n",
      "x == y      # testet, ob x gleich y; Achtung! Zwei '='"
     ],
     "language": "python",
     "metadata": {
      "slideshow": {
       "slide_type": "fragment"
      }
     },
     "outputs": [
      {
       "metadata": {},
       "output_type": "pyout",
       "prompt_number": 115,
       "text": [
        "False"
       ]
      }
     ],
     "prompt_number": 115
    },
    {
     "cell_type": "code",
     "collapsed": false,
     "input": [
      "x != y      #testet auf Ungleichheit. "
     ],
     "language": "python",
     "metadata": {
      "slideshow": {
       "slide_type": "fragment"
      }
     },
     "outputs": [
      {
       "metadata": {},
       "output_type": "pyout",
       "prompt_number": 116,
       "text": [
        "True"
       ]
      }
     ],
     "prompt_number": 116
    },
    {
     "cell_type": "code",
     "collapsed": false,
     "input": [
      "x > y      #testet ob x gr\u00f6\u00dfer als y"
     ],
     "language": "python",
     "metadata": {
      "slideshow": {
       "slide_type": "fragment"
      }
     },
     "outputs": [
      {
       "metadata": {},
       "output_type": "pyout",
       "prompt_number": 117,
       "text": [
        "True"
       ]
      }
     ],
     "prompt_number": 117
    },
    {
     "cell_type": "code",
     "collapsed": false,
     "input": [
      "x <= y        #testet, ob x kleiner oder gleich y ist"
     ],
     "language": "python",
     "metadata": {
      "slideshow": {
       "slide_type": "fragment"
      }
     },
     "outputs": [
      {
       "metadata": {},
       "output_type": "pyout",
       "prompt_number": 118,
       "text": [
        "False"
       ]
      }
     ],
     "prompt_number": 118
    },
    {
     "cell_type": "markdown",
     "metadata": {
      "slideshow": {
       "slide_type": "subslide"
      }
     },
     "source": [
      "<h3>Viele Operationen und Funktionen geben True oder False zur\u00fcck:</h3>"
     ]
    },
    {
     "cell_type": "code",
     "collapsed": false,
     "input": [
      "\"AU\"  in \"LAUFEN\"      #testet, ob \"AU\" in \"LAUFEN\" enthalten ist"
     ],
     "language": "python",
     "metadata": {
      "slideshow": {
       "slide_type": "fragment"
      }
     },
     "outputs": [
      {
       "metadata": {},
       "output_type": "pyout",
       "prompt_number": 119,
       "text": [
        "True"
       ]
      }
     ],
     "prompt_number": 119
    },
    {
     "cell_type": "code",
     "collapsed": false,
     "input": [
      "ml = [1,2,3,4]   \n",
      "2 in ml        #testet ob 2 ein Element der Liste ml ist"
     ],
     "language": "python",
     "metadata": {
      "slideshow": {
       "slide_type": "fragment"
      }
     },
     "outputs": [
      {
       "metadata": {},
       "output_type": "pyout",
       "prompt_number": 7,
       "text": [
        "True"
       ]
      }
     ],
     "prompt_number": 7
    },
    {
     "cell_type": "code",
     "collapsed": false,
     "input": [
      "chars = dict(a = 1, b = 3, c = 5)\n",
      "\"d\" in chars  # testet ob d ein Key im Dictionary chars ist \n",
      "              # (also Kurzform f\u00fcr \"d\" in chars.keys()"
     ],
     "language": "python",
     "metadata": {
      "slideshow": {
       "slide_type": "fragment"
      }
     },
     "outputs": [
      {
       "metadata": {},
       "output_type": "pyout",
       "prompt_number": 121,
       "text": [
        "False"
       ]
      }
     ],
     "prompt_number": 121
    },
    {
     "cell_type": "code",
     "collapsed": false,
     "input": [
      "s = \"42\"\n",
      "t = \"zweiundvierzig\"\n",
      "s.isnumeric(), t.isnumeric()"
     ],
     "language": "python",
     "metadata": {
      "slideshow": {
       "slide_type": "fragment"
      }
     },
     "outputs": [
      {
       "metadata": {},
       "output_type": "pyout",
       "prompt_number": 124,
       "text": [
        "(True, False)"
       ]
      }
     ],
     "prompt_number": 124
    },
    {
     "cell_type": "markdown",
     "metadata": {
      "slideshow": {
       "slide_type": "subslide"
      }
     },
     "source": [
      "''Modulo'' berechnet den Rest einer Division:<br/>\n",
      "10 modulo 4 bedeutet also: Dividiere 10 durch 4 und erhalte den Rest.\n",
      "10 / 4  = 2*4 + 2, dh. 10 Modulo 4 = 2<br/>\n",
      "Syntax in Python 10 % 4 \n"
     ]
    },
    {
     "cell_type": "code",
     "collapsed": false,
     "input": [
      "10 % 4"
     ],
     "language": "python",
     "metadata": {
      "slideshow": {
       "slide_type": "fragment"
      }
     },
     "outputs": [
      {
       "metadata": {},
       "output_type": "pyout",
       "prompt_number": 9,
       "text": [
        "2"
       ]
      }
     ],
     "prompt_number": 9
    },
    {
     "cell_type": "code",
     "collapsed": false,
     "input": [
      "13 % 5"
     ],
     "language": "python",
     "metadata": {
      "slideshow": {
       "slide_type": "fragment"
      }
     },
     "outputs": [
      {
       "metadata": {},
       "output_type": "pyout",
       "prompt_number": 10,
       "text": [
        "3"
       ]
      }
     ],
     "prompt_number": 10
    },
    {
     "cell_type": "markdown",
     "metadata": {
      "slideshow": {
       "slide_type": "slide"
      }
     },
     "source": [
      "<h3 style=\"color:green\">Aufgaben</h3>\n",
      "<ol>\n",
      "<li>Testen Sie, ob `a` kleiner ist als `b`, wenn `a = 1` und `b = -1`\n",
      "<li>Testen Sie, ob der String \"Ich\" in \"Magermilch mag mich nicht\" enthalten ist.\n",
      "<li>Gegeben ist das Dictionary `d = {\"a\" : 23, \"b\" : 24, \"c\" : 25}`. Testen Sie ob `\"d\"` in den keys enthalten ist und ob `25` in den values enthalten ist\n",
      "<li>Testen Sie, ob `2134` eine gerade Zahl ist\n",
      "</ol>"
     ]
    },
    {
     "cell_type": "markdown",
     "metadata": {
      "slideshow": {
       "slide_type": "subslide"
      }
     },
     "source": [
      "<h3>Musterl\u00f6sung</h3>\n",
      "<p>Testen Sie, ob a kleiner ist als b "
     ]
    },
    {
     "cell_type": "code",
     "collapsed": false,
     "input": [
      "a = 1\n",
      "b = -1\n",
      "a < b"
     ],
     "language": "python",
     "metadata": {
      "slideshow": {
       "slide_type": "fragment"
      }
     },
     "outputs": [
      {
       "metadata": {},
       "output_type": "pyout",
       "prompt_number": 11,
       "text": [
        "False"
       ]
      }
     ],
     "prompt_number": 11
    },
    {
     "cell_type": "markdown",
     "metadata": {
      "slideshow": {
       "slide_type": "fragment"
      }
     },
     "source": [
      "2) Testen Sie, ob der String \"Ich\" in \"Magermilch mag mich nicht\" enthalten ist. "
     ]
    },
    {
     "cell_type": "code",
     "collapsed": false,
     "input": [
      "\"Ich\" in \"Magermilch mag mich nicht\""
     ],
     "language": "python",
     "metadata": {
      "slideshow": {
       "slide_type": "fragment"
      }
     },
     "outputs": [
      {
       "metadata": {},
       "output_type": "pyout",
       "prompt_number": 12,
       "text": [
        "False"
       ]
      }
     ],
     "prompt_number": 12
    },
    {
     "cell_type": "markdown",
     "metadata": {
      "slideshow": {
       "slide_type": "subslide"
      }
     },
     "source": [
      "3) Gegeben ist das Dictionary d = {\"a\" : 23, \"b\" : 24, \"c\" : 25}. Testen Sie ob d in den keys enthalten ist und ob 25 in den values enthalten ist "
     ]
    },
    {
     "cell_type": "code",
     "collapsed": false,
     "input": [
      "d = {\"a\" : 23, \"b\" : 24, \"c\" : 25}\n",
      "print(\"d\" in d)\n",
      "print(25 in d.values())"
     ],
     "language": "python",
     "metadata": {
      "slideshow": {
       "slide_type": "fragment"
      }
     },
     "outputs": [
      {
       "output_type": "stream",
       "stream": "stdout",
       "text": [
        "False\n",
        "True\n"
       ]
      }
     ],
     "prompt_number": 13
    },
    {
     "cell_type": "markdown",
     "metadata": {
      "slideshow": {
       "slide_type": "fragment"
      }
     },
     "source": [
      "4) Testen Sie, ob 2134 eine gerade Zahl ist"
     ]
    },
    {
     "cell_type": "code",
     "collapsed": false,
     "input": [
      "2134 % 2 == 0"
     ],
     "language": "python",
     "metadata": {
      "slideshow": {
       "slide_type": "fragment"
      }
     },
     "outputs": [
      {
       "metadata": {},
       "output_type": "pyout",
       "prompt_number": 14,
       "text": [
        "True"
       ]
      }
     ],
     "prompt_number": 14
    },
    {
     "cell_type": "markdown",
     "metadata": {
      "slideshow": {
       "slide_type": "slide"
      }
     },
     "source": [
      "<h3>Zusammengesetzte Bedingungen</h3>\n",
      "\n",
      "<p>&lt;bedingung> `and` &lt;bedingung>  <br/>   \n",
      "=> wahr, wenn beide Bedingungen wahr sind. \n",
      "\n",
      "<p>&lt;bedingung> `or` &lt;bedingung> <br/>\n",
      "=> wahr, wenn eine der beiden Bedingungen wahr ist oder wenn beide wahr sind\n",
      "\n",
      "<p>`not` &lt;bedingung> <br/>\n",
      "=> wahr gdw. &lt;bedingung> falsch ist\n",
      "\n",
      "**Boolesche Operatoren**"
     ]
    },
    {
     "cell_type": "code",
     "collapsed": false,
     "input": [
      "a = True\n",
      "b = False\n",
      "a and b"
     ],
     "language": "python",
     "metadata": {
      "slideshow": {
       "slide_type": "fragment"
      }
     },
     "outputs": [
      {
       "metadata": {},
       "output_type": "pyout",
       "prompt_number": 21,
       "text": [
        "False"
       ]
      }
     ],
     "prompt_number": 21
    },
    {
     "cell_type": "code",
     "collapsed": false,
     "input": [
      "a or b"
     ],
     "language": "python",
     "metadata": {
      "slideshow": {
       "slide_type": "fragment"
      }
     },
     "outputs": [
      {
       "metadata": {},
       "output_type": "pyout",
       "prompt_number": 22,
       "text": [
        "True"
       ]
      }
     ],
     "prompt_number": 22
    },
    {
     "cell_type": "code",
     "collapsed": false,
     "input": [
      "a and not b"
     ],
     "language": "python",
     "metadata": {
      "slideshow": {
       "slide_type": "fragment"
      }
     },
     "outputs": [
      {
       "metadata": {},
       "output_type": "pyout",
       "prompt_number": 23,
       "text": [
        "True"
       ]
      }
     ],
     "prompt_number": 23
    },
    {
     "cell_type": "markdown",
     "metadata": {
      "slideshow": {
       "slide_type": "slide"
      }
     },
     "source": [
      "<h3 style=\"color:green\">Aufgaben</h3>\n",
      "<p>1) Testen Sie, ob 3457 eine grade Zahl ist und kleiner als 34 im Quadrat</p>\n",
      "<p>2) Gegeben sind a = \"Wiederholung\" und b = \"Repetition\". Testen Sie, ob in einem der beidem Strings \"der\" enthalten ist."
     ]
    },
    {
     "cell_type": "markdown",
     "metadata": {
      "slideshow": {
       "slide_type": "slide"
      }
     },
     "source": [
      "<h3>Musterl\u00f6sung</h3>\n",
      "<p>1) Testen Sie, ob 3457 eine grade Zahl ist und kleiner als 34 im Quadrat"
     ]
    },
    {
     "cell_type": "code",
     "collapsed": false,
     "input": [
      "3457 % 2 == 0 and 3457 < 34 ** 2 "
     ],
     "language": "python",
     "metadata": {
      "slideshow": {
       "slide_type": "fragment"
      }
     },
     "outputs": [
      {
       "metadata": {},
       "output_type": "pyout",
       "prompt_number": 17,
       "text": [
        "False"
       ]
      }
     ],
     "prompt_number": 17
    },
    {
     "cell_type": "markdown",
     "metadata": {
      "slideshow": {
       "slide_type": "fragment"
      }
     },
     "source": [
      "2) Gegeben sind a = \"Wiederholung\" und b = \"Repetition\". Testen Sie ob in einem der beidem Strings \"der\" enthalten ist."
     ]
    },
    {
     "cell_type": "code",
     "collapsed": false,
     "input": [
      "a = \"Wiederholung\"\n",
      "b = \"Reptition\"\n",
      "\"der\" in a or \"der\" in b"
     ],
     "language": "python",
     "metadata": {
      "slideshow": {
       "slide_type": "fragment"
      }
     },
     "outputs": [
      {
       "metadata": {},
       "output_type": "pyout",
       "prompt_number": 24,
       "text": [
        "True"
       ]
      }
     ],
     "prompt_number": 24
    },
    {
     "cell_type": "markdown",
     "metadata": {
      "slideshow": {
       "slide_type": "subslide"
      }
     },
     "source": [
      "### Priorit\u00e4ten\n",
      "\n",
      "<pre>\n",
      "or                                                       # bindet schw\u00e4cher\n",
      "and\n",
      "not x\n",
      "in, not in, is, is not, <, <=, >, >=, !=, ==\n",
      "|\n",
      "^\n",
      "&\n",
      "<<, >>\n",
      "+, -\n",
      "*, /, //, %\n",
      "+x, -x, ~x\n",
      "**\n",
      "x[index], x[index:index], x(arguments...), x.attribute\n",
      "(expressions...), [expressions...], {key: value...}, {expressions...} # st\u00e4rker\n",
      "</pre>"
     ]
    },
    {
     "cell_type": "code",
     "collapsed": false,
     "input": [
      "a =  True or True and False\n",
      "b = (True or True) and False"
     ],
     "language": "python",
     "metadata": {
      "slideshow": {
       "slide_type": "fragment"
      }
     },
     "outputs": [],
     "prompt_number": 125
    },
    {
     "cell_type": "code",
     "collapsed": false,
     "input": [
      "print(a, b)"
     ],
     "language": "python",
     "metadata": {
      "slideshow": {
       "slide_type": "fragment"
      }
     },
     "outputs": [
      {
       "output_type": "stream",
       "stream": "stdout",
       "text": [
        "True False\n"
       ]
      }
     ],
     "prompt_number": 127
    },
    {
     "cell_type": "markdown",
     "metadata": {
      "slideshow": {
       "slide_type": "slide"
      }
     },
     "source": [
      "<h3>Programmkontrolle: Bedingte Verzweigung</h3>\n",
      "<p>Mit if kann man den Programmablauf abh\u00e4ngig vom Wahrheitswert von Bedingungen verzweigen lassen. Einfachster Fall:\n",
      "<p>\n",
      "<img src=\"files/images/if_simple.png\" width=\"50%\" height=\"50%\" border=\"0\" alt=\"\">    "
     ]
    },
    {
     "cell_type": "code",
     "collapsed": false,
     "input": [
      "a = 1\n",
      "if a == 1:\n",
      "    print (\"Surprisingly, a is one\")"
     ],
     "language": "python",
     "metadata": {
      "slideshow": {
       "slide_type": "fragment"
      }
     },
     "outputs": [
      {
       "output_type": "stream",
       "stream": "stdout",
       "text": [
        "Surprisingly, a is one\n"
       ]
      }
     ],
     "prompt_number": 35
    },
    {
     "cell_type": "markdown",
     "metadata": {
      "slideshow": {
       "slide_type": "slide"
      }
     },
     "source": [
      "<h3 style=\"color:green\">Aufgaben</h3>\n",
      "<p>1) Gegeben ist a = \"aus\" und b = \"Das Haus steht leer\". Schreiben Sie ein Script, dass f\u00fcr den Fall, dass a in b enthalten ist, ausgibt: _\"aus\" ist in dem String \"Das Haus steht leer\" enthalten._</p>\n",
      "<p>2) Gegeben ist c = \"Haus\". Verwenden Sie   b aus Aufgabe 1). Schreiben Sie ein Skript, dass, wenn c in Klein- oder Gro\u00dfschreibung in b enthalten ist, ausgibt: \"Found: >Haus&lt;\" </p>"
     ]
    },
    {
     "cell_type": "markdown",
     "metadata": {
      "slideshow": {
       "slide_type": "slide"
      }
     },
     "source": [
      "<h3>Musterl\u00f6sung</h3>\n",
      "1) Gegeben ist a = \"aus\" und b = \"Das Haus steht leer\". Schreiben Sie ein Script, dass f\u00fcr den Fall, dass a in b enthalten ist, ausgibt: \"aus\" ist in dem String \"Das Haus steht leer\" enthalten."
     ]
    },
    {
     "cell_type": "code",
     "collapsed": false,
     "input": [
      "a = \"aus\"\n",
      "b = \"Das Haus steht leer\"\n",
      "if a in b:\n",
      "    print ('\"aus\" ist in dem String \"Das Haus steht leer\" enthalten.')"
     ],
     "language": "python",
     "metadata": {
      "slideshow": {
       "slide_type": "fragment"
      }
     },
     "outputs": [
      {
       "output_type": "stream",
       "stream": "stdout",
       "text": [
        "\"aus\" ist in dem String \"Das Haus steht leer\" enthalten.\n"
       ]
      }
     ],
     "prompt_number": 1
    },
    {
     "cell_type": "markdown",
     "metadata": {
      "slideshow": {
       "slide_type": "fragment"
      }
     },
     "source": [
      "2) Gegeben ist c = \"Haus\". Verwenden Sie b aus Aufgabe 1). Schreiben Sie ein Skript, dass, wenn c in Klein- oder Gro\u00dfschreibung in b enthalten ist, ausgibt: \"Found: >Haus<\""
     ]
    },
    {
     "cell_type": "code",
     "collapsed": false,
     "input": [
      "c = \"Haus\"\n",
      "if c in b or c.lower() in b:\n",
      "    print (\"Found: >Haus<\")"
     ],
     "language": "python",
     "metadata": {
      "slideshow": {
       "slide_type": "fragment"
      }
     },
     "outputs": [
      {
       "output_type": "stream",
       "stream": "stdout",
       "text": [
        "Found: >Haus<\n"
       ]
      }
     ],
     "prompt_number": 129
    },
    {
     "cell_type": "markdown",
     "metadata": {
      "slideshow": {
       "slide_type": "slide"
      }
     },
     "source": [
      "<h3>Bedingungen: if \u2013 else </h3>\n",
      "<p>Mit else kann man festlegen, welcher Code ausgef\u00fchrt werden soll, wenn die Bedingung _nicht_ wahr ist:\n",
      "<p>\n",
      "<img src=\"files/images/if_else.png\" width=\"50%\" height=\"50%\" border=\"0\" alt=\"\">    "
     ]
    },
    {
     "cell_type": "code",
     "collapsed": false,
     "input": [
      "a = 2\n",
      "if a == 1:\n",
      "    print (\"a gleich 1\")\n",
      "else: \n",
      "    print (\"a ungleich 1\")"
     ],
     "language": "python",
     "metadata": {
      "slideshow": {
       "slide_type": "fragment"
      }
     },
     "outputs": [
      {
       "output_type": "stream",
       "stream": "stdout",
       "text": [
        "a ungleich 1\n"
       ]
      }
     ],
     "prompt_number": 130
    },
    {
     "cell_type": "markdown",
     "metadata": {
      "slideshow": {
       "slide_type": "slide"
      }
     },
     "source": [
      "<h3>Gereihte Bedingungen mit elif</h3>\n",
      "<p>Will man \u00fcberpr\u00fcfen, ob eine von mehreren Bedingungen wahr ist, verwendet man eine Reihe von if \u2013 elif \u2013 [elif] \u2013 else:"
     ]
    },
    {
     "cell_type": "markdown",
     "metadata": {},
     "source": [
      "<pre>\n",
      "if &lt;bedingung>:\n",
      "\tcode\n",
      "elif &lt;bedingung>:\n",
      "\tcode\n",
      "[...]\n",
      "else:\n",
      "\tcode\n",
      "</pre>"
     ]
    },
    {
     "cell_type": "code",
     "collapsed": false,
     "input": [
      "c = \"z\"\n",
      "if c == \"x\":\n",
      "    print (\"c ist x\")\n",
      "elif c == \"y\": \n",
      "    print (\"c ist y\")    \n",
      "elif c == \"z\":\n",
      "    print (\"c ist z\")    \n",
      "else: \n",
      "    print (\"c ist weder x noch y noch z\")    \n",
      "    "
     ],
     "language": "python",
     "metadata": {
      "slideshow": {
       "slide_type": "fragment"
      }
     },
     "outputs": [
      {
       "output_type": "stream",
       "stream": "stdout",
       "text": [
        "c ist z\n"
       ]
      }
     ],
     "prompt_number": 131
    },
    {
     "cell_type": "markdown",
     "metadata": {
      "slideshow": {
       "slide_type": "slide"
      }
     },
     "source": [
      "<h3 style=\"color:green\">Aufgaben</h3>\n",
      "<p>1) Wenn der String \"Freund\" in Klein- oder Gro\u00dfschreibung in \"Sie wollen sich befreunden\" enthalten ist, dann soll \"Found: Freund\" ausgegeben werden, ansonsten \"String not found\".</p>\n",
      "<p>2) `a` ist eine Variable (die urspr\u00fcnglich durch eine Benutzereingabe belegt worden sein k\u00f6nnte). Wenn die Eingabe kleiner ist als 7, dann lautet die Ausgabe: \"Gesuchte Zahl ist gr\u00f6\u00dfer\", wenn die Zahl gr\u00f6\u00dfer ist als 7, dann lautet die Ausgabe: \"Gesuchte Zahl ist kleiner\". Wenn die Zahl genau 7 ist, dann lautet die Ausgabe \"Zahl gefunden\". Spielen Sie das mit a = 1 und a = 7 durch.</p>"
     ]
    },
    {
     "cell_type": "markdown",
     "metadata": {
      "slideshow": {
       "slide_type": "slide"
      }
     },
     "source": [
      "<h3>Musterl\u00f6sung</h3>\n",
      "<p>Wenn der String \"Freund\" in Klein- oder Gro\u00dfschreibung in \"Sie wollen sich befreunden\" enthalten ist, dann soll \"Found: Freund\" ausgegeben werden, ansonsten \"String not found\"."
     ]
    },
    {
     "cell_type": "code",
     "collapsed": false,
     "input": [
      "if \"Freund\" in \"Sie wollen sich befreunden\" or \"Freund\".lower() in \"Sie wollen sich befreunden\":\n",
      "    print (\"Found: Freund\")\n",
      "else:\n",
      "    print (\"String not found\")"
     ],
     "language": "python",
     "metadata": {
      "slideshow": {
       "slide_type": "fragment"
      }
     },
     "outputs": [
      {
       "output_type": "stream",
       "stream": "stdout",
       "text": [
        "Found: Freund\n"
       ]
      }
     ],
     "prompt_number": 132
    },
    {
     "cell_type": "markdown",
     "metadata": {
      "slideshow": {
       "slide_type": "fragment"
      }
     },
     "source": [
      "2) a ist eine Benutzereingabe. Wenn die Eingabe kleiner ist als 7, dann lautet die Ausgabe: \"Gesuchte Zahl ist gr\u00f6\u00dfer\", wenn die Zahl gr\u00f6\u00dfer ist als 7, dann lautet die Ausgabe: \"Gesuchte Zahl ist kleiner\". Wenn die Zahl genau 7 ist, dann lautet die Ausgabe \"Zahl gefunden\". Spielen Sie das mit a = 1 und a = 7 durch."
     ]
    },
    {
     "cell_type": "code",
     "collapsed": false,
     "input": [
      "a = 1\n",
      "if a < 7:\n",
      "    print (\"Gesuchte Zahl ist gr\u00f6\u00dfer\")\n",
      "elif a == 7:\n",
      "    print (\"Zahl gefunden\")\n",
      "else:\n",
      "    print (\"Gesuchte Zahl ist kleiner\")\n",
      "    "
     ],
     "language": "python",
     "metadata": {
      "slideshow": {
       "slide_type": "fragment"
      }
     },
     "outputs": [
      {
       "output_type": "stream",
       "stream": "stdout",
       "text": [
        "Gesuchte Zahl ist gr\u00f6\u00dfer\n"
       ]
      }
     ],
     "prompt_number": 133
    },
    {
     "cell_type": "markdown",
     "metadata": {
      "slideshow": {
       "slide_type": "slide"
      }
     },
     "source": [
      "<h3>Einfache Benutzereingabe mit <code>input</code></h3>"
     ]
    },
    {
     "cell_type": "code",
     "collapsed": false,
     "input": [
      "r = input(\"Geben Sie bitte eine Zahl zwischen 1 und 10 ein: \")\n",
      "print(\"Ihre Eingabe war (falls Sie das schon vergessen haben): \", r)"
     ],
     "language": "python",
     "metadata": {
      "slideshow": {
       "slide_type": "fragment"
      }
     },
     "outputs": [
      {
       "name": "stdout",
       "output_type": "stream",
       "stream": "stdout",
       "text": [
        "Geben Sie bitte eine Zahl zwischen 1 und 10 ein: 7\n"
       ]
      },
      {
       "output_type": "stream",
       "stream": "stdout",
       "text": [
        "Ihre Eingabe war (falls Sie das schon vergessen haben):  7\n"
       ]
      }
     ],
     "prompt_number": 2
    },
    {
     "cell_type": "code",
     "collapsed": false,
     "input": [
      "r = input(\"Geben Sie bitte eine Zahl zwischen 1 und 10 ein: \")\n",
      "print(type(r))   # Achtung, der Datentyp von r ist string"
     ],
     "language": "python",
     "metadata": {
      "slideshow": {
       "slide_type": "fragment"
      }
     },
     "outputs": [
      {
       "name": "stdout",
       "output_type": "stream",
       "stream": "stdout",
       "text": [
        "Geben Sie bitte eine Zahl zwischen 1 und 10 ein: 4\n"
       ]
      },
      {
       "output_type": "stream",
       "stream": "stdout",
       "text": [
        "<class 'str'>\n"
       ]
      }
     ],
     "prompt_number": 3
    },
    {
     "cell_type": "markdown",
     "metadata": {
      "slideshow": {
       "slide_type": "subslide"
      }
     },
     "source": [
      "Wir k\u00f6nnen nun die Benutzereingabe auswerten:"
     ]
    },
    {
     "cell_type": "code",
     "collapsed": false,
     "input": [
      "r = input(\"Geben Sie bitte eine Zahl zwischen 1 und 10 ein: \")\n",
      "if not r.isnumeric():\n",
      "    print(r, \"ist eher keine Zahl.\")\n",
      "else: \n",
      "    r = int(r)  # type casting nach int\n",
      "    a = r ** 2\n",
      "    print(\"Das Quadrat der Zahl \", r, \" ist \", a)"
     ],
     "language": "python",
     "metadata": {
      "slideshow": {
       "slide_type": "fragment"
      }
     },
     "outputs": [
      {
       "name": "stdout",
       "output_type": "stream",
       "stream": "stdout",
       "text": [
        "Geben Sie bitte eine Zahl zwischen 1 und 10 ein: 5\n"
       ]
      },
      {
       "output_type": "stream",
       "stream": "stdout",
       "text": [
        "Das Quadrat der Zahl  5  ist  25\n"
       ]
      }
     ],
     "prompt_number": 136
    },
    {
     "cell_type": "markdown",
     "metadata": {
      "slideshow": {
       "slide_type": "subslide"
      }
     },
     "source": [
      "<h3 style=\"color:green\">Aufgabe</h3>\n",
      "<p>Lassen Sie den Benutzer ein beliebiges Wort eingeben. Geben Sie dann als Ergebnis die L\u00e4nge des Wortes und die Anzahl der Vokale aus (ignorieren Sie Klein- und Gro\u00dfschreibung).  "
     ]
    },
    {
     "cell_type": "code",
     "collapsed": false,
     "input": [
      "#Lassen Sie den Benutzer ein beliebiges Wort eingeben.\n",
      "#Geben Sie dann als Ergebnis die L\u00e4nge des Wortes und die Anzahl der verschiedenen Vokale aus\n",
      "\n",
      "word = input(\"Bitte geben Sie ein Wort ein: \")\n",
      "print(\"L\u00e4nge des Wortes: \", len(word))\n",
      "voc = 0\n",
      "if \"a\" in word.lower():\n",
      "    voc += 1\n",
      "if \"o\" in word.lower():\n",
      "    voc += 1\n",
      "if \"e\" in word.lower():\n",
      "    voc += 1\n",
      "if \"i\" in word.lower():\n",
      "    voc += 1\n",
      "if \"u\" in word.lower():\n",
      "    voc += 1\n",
      "\n",
      "print(\"Es sind \", voc, \" unterschiedliche Vokale in \", word)\n"
     ],
     "language": "python",
     "metadata": {
      "slideshow": {
       "slide_type": "subslide"
      }
     },
     "outputs": [
      {
       "name": "stdout",
       "output_type": "stream",
       "stream": "stdout",
       "text": [
        "Bitte geben Sie ein Wort ein: Anubis\n"
       ]
      },
      {
       "output_type": "stream",
       "stream": "stdout",
       "text": [
        "L\u00e4nge des Wortes:  6\n",
        "Es sind  3  unterschiedliche Vokale in  Anubis\n"
       ]
      }
     ],
     "prompt_number": 137
    },
    {
     "cell_type": "heading",
     "level": 2,
     "metadata": {
      "slideshow": {
       "slide_type": "slide"
      }
     },
     "source": [
      "Programmkontrolle: Schleifen"
     ]
    },
    {
     "cell_type": "markdown",
     "metadata": {
      "slideshow": {
       "slide_type": "slide"
      }
     },
     "source": [
      "<h3>while-Schleifen</h3>\n",
      "<p>\n",
      "<img src=\"files/images/loop.png\" width=\"50%\" height=\"50%\" border=\"0\" alt=\"\">    "
     ]
    },
    {
     "cell_type": "markdown",
     "metadata": {
      "slideshow": {
       "slide_type": "fragment"
      }
     },
     "source": [
      "<p><code>while &lt;bedingung ist wahr>:<br/>\n",
      "    Code</code>"
     ]
    },
    {
     "cell_type": "markdown",
     "metadata": {
      "slideshow": {
       "slide_type": "fragment"
      }
     },
     "source": [
      "\u00dcblicherweise wird im Code eine Variable so ver\u00e4ndert, dass an einem bestimmten Punkt die Bedingung nicht mehr wahr ist."
     ]
    },
    {
     "cell_type": "markdown",
     "metadata": {
      "slideshow": {
       "slide_type": "slide"
      }
     },
     "source": [
      "<h3>while-Schleifen: Beispiel"
     ]
    },
    {
     "cell_type": "code",
     "collapsed": false,
     "input": [
      "n = 0\n",
      "while n < 5:       # Anfang der Schleife, Bestimmung der Bedingung\n",
      "    print(n)       # tue etwas mit der Variablen n\n",
      "    n += 1         # ver\u00e4ndere n so, dass die Bedingung an einem bestimmten Punkt nicht mehr wahr ist."
     ],
     "language": "python",
     "metadata": {
      "slideshow": {
       "slide_type": "fragment"
      }
     },
     "outputs": [
      {
       "output_type": "stream",
       "stream": "stdout",
       "text": [
        "0\n",
        "1\n",
        "2\n",
        "3\n",
        "4\n"
       ]
      }
     ],
     "prompt_number": 46
    },
    {
     "cell_type": "markdown",
     "metadata": {
      "slideshow": {
       "slide_type": "slide"
      }
     },
     "source": [
      "<h3 style=\"color:green\">Aufgaben</h3>\n",
      "<p>1) Erstellen Sie eine Schleife, die 5 mal die Zahl 6 zur Ausgangszahl 0 hinzuz\u00e4hlt und das Ergebnis in jedem Durchlauf ausgibt.\n",
      "<p>2) Schreiben Sie eine Schleife, die beim Nutzer 3 Zahlen abfragt und dann das Ergebnis der Addition der Zahlen ausgibt."
     ]
    },
    {
     "cell_type": "markdown",
     "metadata": {
      "slideshow": {
       "slide_type": "subslide"
      }
     },
     "source": [
      "<h3>Musterl\u00f6sung</h3>\n",
      "<p>1) Erstellen Sie eine Schleife, die 5 mal die Zahl 6 zur Ausgangszahl 0 hinzuz\u00e4hlt und das Ergebnis in jedem Durchlauf ausgibt."
     ]
    },
    {
     "cell_type": "code",
     "collapsed": false,
     "input": [
      "n = 0\n",
      "z = 0\n",
      "while n < 5:\n",
      "    z += 6\n",
      "    print (z)\n",
      "    n += 1"
     ],
     "language": "python",
     "metadata": {
      "slideshow": {
       "slide_type": "fragment"
      }
     },
     "outputs": [
      {
       "output_type": "stream",
       "stream": "stdout",
       "text": [
        "6\n",
        "12\n",
        "18\n",
        "24\n",
        "30\n"
       ]
      }
     ],
     "prompt_number": 47
    },
    {
     "cell_type": "markdown",
     "metadata": {
      "slideshow": {
       "slide_type": "subslide"
      }
     },
     "source": [
      "<p>2) Schreiben Sie eine Schleife, die beim Nutzer 3 Zahlen abfragt und dann das Ergebnis der Addition der Zahlen ausgibt."
     ]
    },
    {
     "cell_type": "code",
     "collapsed": false,
     "input": [
      "n = 0\n",
      "res = 0\n",
      "while n < 3:\n",
      "    res += int(input(\"Bitte geben Sie eine Zahl ein: \"))\n",
      "    n += 1\n",
      "print(\"Summe: \", res)"
     ],
     "language": "python",
     "metadata": {
      "slideshow": {
       "slide_type": "subslide"
      }
     },
     "outputs": [
      {
       "name": "stdout",
       "output_type": "stream",
       "stream": "stdout",
       "text": [
        "Bitte geben Sie eine Zahl ein: 42\n"
       ]
      },
      {
       "name": "stdout",
       "output_type": "stream",
       "stream": "stdout",
       "text": [
        "Bitte geben Sie eine Zahl ein: 43\n"
       ]
      },
      {
       "name": "stdout",
       "output_type": "stream",
       "stream": "stdout",
       "text": [
        "Bitte geben Sie eine Zahl ein: 44\n"
       ]
      },
      {
       "output_type": "stream",
       "stream": "stdout",
       "text": [
        "Summe:  129\n"
       ]
      }
     ],
     "prompt_number": 49
    },
    {
     "cell_type": "markdown",
     "metadata": {
      "slideshow": {
       "slide_type": "slide"
      }
     },
     "source": [
      "<h3>while und Listen"
     ]
    },
    {
     "cell_type": "code",
     "collapsed": false,
     "input": [
      "# Aufgabe: Gib alle Elemente der Liste chars aus:\n",
      "chars = ['a','b','c']\n",
      "n = 0\n",
      "while n < len(chars):\n",
      "    print(chars[n])\n",
      "    n += 1"
     ],
     "language": "python",
     "metadata": {
      "slideshow": {
       "slide_type": "fragment"
      }
     },
     "outputs": [
      {
       "output_type": "stream",
       "stream": "stdout",
       "text": [
        "a\n",
        "b\n",
        "c\n"
       ]
      }
     ],
     "prompt_number": 5
    },
    {
     "cell_type": "markdown",
     "metadata": {
      "slideshow": {
       "slide_type": "fragment"
      }
     },
     "source": [
      "Da dies ein sehr h\u00e4ufiger Zugriff auf Listen (und alles Listenartige) ist, gibt es daf\u00fcr eine eigene, sehr viel kompaktere Syntax, n\u00e4mlich for-Schleifen:"
     ]
    },
    {
     "cell_type": "code",
     "collapsed": false,
     "input": [
      "for c in chars:\n",
      "    print(c)"
     ],
     "language": "python",
     "metadata": {
      "slideshow": {
       "slide_type": "fragment"
      }
     },
     "outputs": [
      {
       "output_type": "stream",
       "stream": "stdout",
       "text": [
        "a\n",
        "b\n",
        "c\n"
       ]
      }
     ],
     "prompt_number": 6
    },
    {
     "cell_type": "markdown",
     "metadata": {
      "slideshow": {
       "slide_type": "slide"
      }
     },
     "source": [
      "<h3>for-Schleife: <code>for x in &lt;List></code></h3>"
     ]
    },
    {
     "cell_type": "markdown",
     "metadata": {
      "slideshow": {
       "slide_type": "fragment"
      }
     },
     "source": [
      "<img src=\"files/images/for_loop_simple.png\" width=\"50%\" height=\"50%\" border=\"0\" alt=\"\">\n",
      "\n",
      "* __foreach__-Schleife"
     ]
    },
    {
     "cell_type": "markdown",
     "metadata": {
      "slideshow": {
       "slide_type": "subslide"
      }
     },
     "source": [
      "<h3>for-Schleife: Schritt f\u00fcr Schritt"
     ]
    },
    {
     "cell_type": "code",
     "collapsed": false,
     "input": [
      "chars = ['a','b','c']\n",
      "for x in chars:\n",
      "    print(x)"
     ],
     "language": "python",
     "metadata": {
      "slideshow": {
       "slide_type": "fragment"
      }
     },
     "outputs": [
      {
       "output_type": "stream",
       "stream": "stdout",
       "text": [
        "a\n",
        "b\n",
        "c\n"
       ]
      }
     ],
     "prompt_number": 52
    },
    {
     "cell_type": "markdown",
     "metadata": {
      "slideshow": {
       "slide_type": "fragment"
      }
     },
     "source": [
      "Schritt f\u00fcr Schritt:"
     ]
    },
    {
     "cell_type": "markdown",
     "metadata": {
      "slideshow": {
       "slide_type": "fragment"
      }
     },
     "source": [
      "<ol>\n",
      "<li>Zeile: Erzeugt die Liste chars.\n",
      "<li>Zeile: Anfang der Schleife: Versuche, das n\u00e4chste Element aus der Liste `chars` zu nehmen. Ist da nichts mehr, dann den Schleifenblock \u00fcberspringen und danach weitermachen. Ansonsten:\n",
      "<ul>\n",
      "<li>Weise der Variablen `x` das Element aus der Liste als Wert zu.<br/> Beim ersten Durchlauf ist das der Inhalt von `chars[0]`, also: `x = 'a'`, beim zweiten Durchlauf ist das der Inhalt von `chars[1]`, also `x = 'b'` und beim dritten Durchlauf ist das der Inhalt von `chars[2]`, also `x = 'c'`.\n",
      "</ul>\n",
      "<li>Zeile: Gebe den Inhalt von x aus</br>\n",
      "&nbsp;&nbsp;&nbsp; Ende des Schleifencodes</br>"
     ]
    },
    {
     "cell_type": "markdown",
     "metadata": {
      "slideshow": {
       "slide_type": "subslide"
      }
     },
     "source": [
      "<h3>for-Schleife: ein Beispiel"
     ]
    },
    {
     "cell_type": "code",
     "collapsed": false,
     "input": [
      "thinkers = ['Marx','Turing', 'Popper','Foucault']\n",
      "for t in thinkers:\n",
      "\tprint(t)"
     ],
     "language": "python",
     "metadata": {
      "slideshow": {
       "slide_type": "fragment"
      }
     },
     "outputs": [
      {
       "output_type": "stream",
       "stream": "stdout",
       "text": [
        "Marx\n",
        "Turing\n",
        "Popper\n",
        "Foucault\n"
       ]
      }
     ],
     "prompt_number": 7
    },
    {
     "cell_type": "markdown",
     "metadata": {
      "slideshow": {
       "slide_type": "slide"
      }
     },
     "source": [
      "<h3 style=\"color:green\">Aufgaben</h3>\n",
      "<p>Gegeben ist die Liste chars mit den Elementen A, C, E, U, \u00d6, I, B\n",
      "<ol>\n",
      "<li>Geben Sie alle Elemente der Liste in dieser Form aus - &lt;char> -  , also - A - usw. (jeweils in einer neuen Zeile).\n",
      "<li>Geben Sie alle Elemente der Liste sortiert aus."
     ]
    },
    {
     "cell_type": "markdown",
     "metadata": {
      "slideshow": {
       "slide_type": "slide"
      }
     },
     "source": [
      "<h3 style=\"color:green\">Musterl\u00f6sung</h3>\n",
      "<p>Geben Sie alle Elemente der Liste in dieser Form aus - &lt;char> - , also - A - usw. (jeweils in einer neuen Zeile).\n",
      "\n"
     ]
    },
    {
     "cell_type": "code",
     "collapsed": false,
     "input": [
      "chars = ['A','C','E','U','\u00d6','I','B']\n",
      "for c in chars:\n",
      "    print (\" - \", c, \" - \")"
     ],
     "language": "python",
     "metadata": {
      "slideshow": {
       "slide_type": "fragment"
      }
     },
     "outputs": [
      {
       "output_type": "stream",
       "stream": "stdout",
       "text": [
        " -  A  - \n",
        " -  C  - \n",
        " -  E  - \n",
        " -  U  - \n",
        " -  \u00d6  - \n",
        " -  I  - \n",
        " -  B  - \n"
       ]
      }
     ],
     "prompt_number": 54
    },
    {
     "cell_type": "code",
     "collapsed": false,
     "input": [
      "#sortierte Ausgabe\n",
      "for c in sorted(chars):\n",
      "    print (\" - \", c, \" - \")"
     ],
     "language": "python",
     "metadata": {
      "slideshow": {
       "slide_type": "subslide"
      }
     },
     "outputs": [
      {
       "output_type": "stream",
       "stream": "stdout",
       "text": [
        " -  A  - \n",
        " -  B  - \n",
        " -  C  - \n",
        " -  E  - \n",
        " -  I  - \n",
        " -  U  - \n",
        " -  \u00d6  - \n"
       ]
      }
     ],
     "prompt_number": 55
    },
    {
     "cell_type": "markdown",
     "metadata": {
      "slideshow": {
       "slide_type": "slide"
      }
     },
     "source": [
      "<h3>for-Schleife: Erste Verallgemeinerung</h3>\n",
      "<p>for-Schleifen haben die Form: <code>for &lt;variable> in &lt;list></code><br/>\n",
      "Tats\u00e4chlich muss f\u00fcr &lt;list> nicht eine Liste eingesetzt werden, sondern es kann jeder \n",
      "Ausdruck eingesetzt werden, der eine Liste zur\u00fcckgibt (oder etwas Listenartiges). "
     ]
    },
    {
     "cell_type": "code",
     "collapsed": false,
     "input": [
      "#definiert ein Dictionary namens word_count\n",
      "word_count = { 'der': 32, 'die': 17, 'das': 12, 'auch': 9 }\n",
      "\n",
      "#dict.keys() gibt die Keys des Dictionaries als Sequenz zur\u00fcck, \n",
      "#die an der Stelle der Liste verwendet werden kann.\n",
      "for w in word_count.keys():                    \n",
      "    print(w)                                  "
     ],
     "language": "python",
     "metadata": {
      "slideshow": {
       "slide_type": "fragment"
      }
     },
     "outputs": [
      {
       "output_type": "stream",
       "stream": "stdout",
       "text": [
        "das\n",
        "die\n",
        "der\n",
        "auch\n"
       ]
      }
     ],
     "prompt_number": 9
    },
    {
     "cell_type": "markdown",
     "metadata": {
      "slideshow": {
       "slide_type": "slide"
      }
     },
     "source": [
      "<h3>for-Schleife: range(n)</h3>\n",
      "<p>Manchmal hat meine keine Liste, sondern braucht nur Zahlen, etwa die Zahlen von 0 bis 5. Die Funktion range(n) gibt alle Zahlen von 0 bis n-1 aus."
     ]
    },
    {
     "cell_type": "code",
     "collapsed": false,
     "input": [
      "for i in range(6):\n",
      "    print(i, \": \", i**2)"
     ],
     "language": "python",
     "metadata": {
      "slideshow": {
       "slide_type": "fragment"
      }
     },
     "outputs": [
      {
       "output_type": "stream",
       "stream": "stdout",
       "text": [
        "0 :  0\n",
        "1 :  1\n",
        "2 :  4\n",
        "3 :  9\n",
        "4 :  16\n",
        "5 :  25\n"
       ]
      }
     ],
     "prompt_number": 138
    },
    {
     "cell_type": "code",
     "collapsed": false,
     "input": [
      "# wenn range zwei Parameter \u00fcbergeben werden, dann ist der erste der  Startwert\n",
      "for i in range(2, 4):             \n",
      "    print (i, \": \", i**2)"
     ],
     "language": "python",
     "metadata": {
      "slideshow": {
       "slide_type": "fragment"
      }
     },
     "outputs": [
      {
       "output_type": "stream",
       "stream": "stdout",
       "text": [
        "2 :  4\n",
        "3 :  9\n"
       ]
      }
     ],
     "prompt_number": 12
    },
    {
     "cell_type": "code",
     "collapsed": false,
     "input": [
      "# und bei drei Parametern ist der Dritte die Schrittweite\n",
      "for i in range(100, 150, 10):\n",
      "    print(i)"
     ],
     "language": "python",
     "metadata": {},
     "outputs": [
      {
       "output_type": "stream",
       "stream": "stdout",
       "text": [
        "100\n",
        "110\n",
        "120\n",
        "130\n",
        "140\n"
       ]
      }
     ],
     "prompt_number": 13
    },
    {
     "cell_type": "markdown",
     "metadata": {
      "slideshow": {
       "slide_type": "slide"
      }
     },
     "source": [
      "<h3 style=\"color:green\">Aufgaben</h3>\n",
      "<p>1) Schreiben Sie das obige Beispiel mit der Ausgabe der Wortliste so um, dass nun auch die H\u00e4ufigkeit der W\u00f6rter ausgegeben wird.</p>\n",
      "<p>2) Lassen  Sie den Benutzer 3 Zahlen eingeben und multiplizieren Sie miteinander. Die Abfrage sollte so aussehen:<br/>\n",
      "Bitte geben Sie das 1. Wort ein: <br/>\n",
      "und dann das 2. usw. (verwenden Sie nicht while)"
     ]
    },
    {
     "cell_type": "markdown",
     "metadata": {
      "slideshow": {
       "slide_type": "subslide"
      }
     },
     "source": [
      "<h3>Musterl\u00f6sung</h3>\n",
      "<p>Schreiben Sie das obige Beispiel mit der Ausgabe der Wortliste so um, dass nun auch die H\u00e4ufigkeit der W\u00f6rter ausgegeben wird."
     ]
    },
    {
     "cell_type": "code",
     "collapsed": false,
     "input": [
      "#definiert ein Dictionary namens word_count\n",
      "word_count = { 'der': 32, 'die': 17, 'das': 12, 'auch': 9 }\n",
      "\n",
      "for w in word_count:                    # kurz f\u00fcr for w in word_count.keys()\n",
      "    print(w, \"\\t\", word_count[w])"
     ],
     "language": "python",
     "metadata": {
      "slideshow": {
       "slide_type": "fragment"
      }
     },
     "outputs": [
      {
       "output_type": "stream",
       "stream": "stdout",
       "text": [
        "das \t 12\n",
        "auch \t 9\n",
        "die \t 17\n",
        "der \t 32\n"
       ]
      }
     ],
     "prompt_number": 141
    },
    {
     "cell_type": "markdown",
     "metadata": {
      "slideshow": {
       "slide_type": "slide"
      }
     },
     "source": [
      "<p> 2) Lassen Sie den Benutzer 3 Zahlen eingeben und addieren Sie sie. Die Abfrage sollte so aussehen:<br/>\n",
      "Bitte geben Sie das 1. Wort ein:<br/>\n",
      "und dann das 2. usw. (verwenden Sie nicht while) "
     ]
    },
    {
     "cell_type": "code",
     "collapsed": false,
     "input": [
      "res = 0\n",
      "for i in range(3):\n",
      "    res += int(input(\"Bitte geben Sie die \" + str(i+1) + \". Zahl ein: \"))\n",
      "print(\"Ergebnis: \", res)"
     ],
     "language": "python",
     "metadata": {
      "slideshow": {
       "slide_type": "fragment"
      }
     },
     "outputs": [
      {
       "name": "stdout",
       "output_type": "stream",
       "stream": "stdout",
       "text": [
        "Bitte geben Sie die 1. Zahl ein: 3\n"
       ]
      },
      {
       "name": "stdout",
       "output_type": "stream",
       "stream": "stdout",
       "text": [
        "Bitte geben Sie die 2. Zahl ein: 6\n"
       ]
      },
      {
       "name": "stdout",
       "output_type": "stream",
       "stream": "stdout",
       "text": [
        "Bitte geben Sie die 3. Zahl ein: 2\n"
       ]
      },
      {
       "output_type": "stream",
       "stream": "stdout",
       "text": [
        "Ergebnis:  11\n"
       ]
      }
     ],
     "prompt_number": 18
    },
    {
     "cell_type": "markdown",
     "metadata": {
      "slideshow": {
       "slide_type": "slide"
      }
     },
     "source": [
      "<h3>Schleifen und bedingte Verzweigungen</h3>\n",
      "<p>Man kann Schleifen und Verzweigungen frei mischen:</p>"
     ]
    },
    {
     "cell_type": "code",
     "collapsed": false,
     "input": [
      "a = [1,2,3,4]\n",
      "for i in a:\n",
      "    if i == 2:\n",
      "        print(\"hab die 2 gefunden\")\n",
      "    else:\n",
      "        print(\"uninteressant: \", i)"
     ],
     "language": "python",
     "metadata": {
      "slideshow": {
       "slide_type": "fragment"
      }
     },
     "outputs": [
      {
       "output_type": "stream",
       "stream": "stdout",
       "text": [
        "uninteressant:  1\n",
        "hab die 2 gefunden\n",
        "uninteressant:  3\n",
        "uninteressant:  4\n"
       ]
      }
     ],
     "prompt_number": 63
    },
    {
     "cell_type": "markdown",
     "metadata": {
      "slideshow": {
       "slide_type": "fragment"
      }
     },
     "source": [
      "Mit <code>break</code> kann man den Ablauf der Schleife abbrechen (aber Vorsicht, Lesbarkeit!)."
     ]
    },
    {
     "cell_type": "code",
     "collapsed": false,
     "input": [
      "a = [1,2,3,4]\n",
      "for i in a:\n",
      "    if i == 2:\n",
      "        print (\"hab die 2 gefunden. das reicht mir.\")\n",
      "        break\n",
      "    else:\n",
      "        print (\"uninteressant: \", i)"
     ],
     "language": "python",
     "metadata": {
      "slideshow": {
       "slide_type": "fragment"
      }
     },
     "outputs": [
      {
       "output_type": "stream",
       "stream": "stdout",
       "text": [
        "uninteressant:  1\n",
        "hab die 2 gefunden. das reicht mir.\n"
       ]
      }
     ],
     "prompt_number": 65
    },
    {
     "cell_type": "markdown",
     "metadata": {
      "slideshow": {
       "slide_type": "slide"
      }
     },
     "source": [
      "<h3 style=\"color:green\">Aufgaben</h3>\n",
      "<p style=\"color:green\">Gegeben ist die Liste chars mit den Elementen A, C, E, U, \u00d6, I, B\n",
      "<ol style=\"color:green\">\n",
      "<li>Geben Sie alle Elemente der Liste sortiert aus, mit der Ausnahme von \u00d6\n",
      "<li>Geben Sie alle Elemente aus; verwandeln Sie dabei alle Vokale in Kleinbuchstaben\n",
      "<li>Schreiben Sie ein Skript, das ermittelt, welche der Zahlen von 1-100 kleiner als 300 ist, wenn man sie quadriert. Gegen Sie nur die Zahlen aus, auf die dies zutrifft.\n",
      "<li>Schreiben Sie ein Skript, das ermittelt, welche der Zahlen zwischen 20.000 und 40.0000 durch 2.412 teilbar sind und geben Sie diese Zahlen aus.\n",
      "</ol>"
     ]
    },
    {
     "cell_type": "markdown",
     "metadata": {
      "slideshow": {
       "slide_type": "slide"
      }
     },
     "source": [
      "<h3>Musterl\u00f6sung</h3>\n",
      "1) Geben Sie alle Elemente der Liste sortiert aus, mit der Ausnahme von \u00d6 "
     ]
    },
    {
     "cell_type": "code",
     "collapsed": false,
     "input": [
      "uc = [\"A\",\"C\",\"E\",\"U\",\"\u00d6\",\"I\",\"B\"]\n",
      "for c in sorted(uc):\n",
      "    if c != \"\u00d6\":\n",
      "        print (c)"
     ],
     "language": "python",
     "metadata": {
      "slideshow": {
       "slide_type": "fragment"
      }
     },
     "outputs": [
      {
       "output_type": "stream",
       "stream": "stdout",
       "text": [
        "A\n",
        "B\n",
        "C\n",
        "E\n",
        "I\n",
        "U\n"
       ]
      }
     ],
     "prompt_number": 70
    },
    {
     "cell_type": "markdown",
     "metadata": {
      "slideshow": {
       "slide_type": "slide"
      }
     },
     "source": [
      "2) Geben Sie alle Elemente aus; verwandeln Sie dabei alle Vokale in Kleinbuchstaben "
     ]
    },
    {
     "cell_type": "code",
     "collapsed": false,
     "input": [
      "for c in uc:\n",
      "    print (c.lower())"
     ],
     "language": "python",
     "metadata": {
      "slideshow": {
       "slide_type": "fragment"
      }
     },
     "outputs": [
      {
       "output_type": "stream",
       "stream": "stdout",
       "text": [
        "a\n",
        "c\n",
        "e\n",
        "u\n",
        "\u00f6\n",
        "i\n",
        "b\n"
       ]
      }
     ],
     "prompt_number": 71
    },
    {
     "cell_type": "markdown",
     "metadata": {
      "slideshow": {
       "slide_type": "slide"
      }
     },
     "source": [
      "3) Schreiben Sie ein Skript, das ermittelt, welche der Zahlen von 1-100 kleiner als 300 ist, wenn man sie quadriert. Geben Sie nur die Zahlen aus, auf die dies zutrifft. "
     ]
    },
    {
     "cell_type": "code",
     "collapsed": false,
     "input": [
      "for i in range (100):\n",
      "    if i ** 2 < 300:\n",
      "        print (i, \" - \", i**2)\n",
      "    else:\n",
      "        break\n",
      "        "
     ],
     "language": "python",
     "metadata": {
      "slideshow": {
       "slide_type": "fragment"
      }
     },
     "outputs": [
      {
       "output_type": "stream",
       "stream": "stdout",
       "text": [
        "0  -  0\n",
        "1  -  1\n",
        "2  -  4\n",
        "3  -  9\n",
        "4  -  16\n",
        "5  -  25\n",
        "6  -  36\n",
        "7  -  49\n",
        "8  -  64\n",
        "9  -  81\n",
        "10  -  100\n",
        "11  -  121\n",
        "12  -  144\n",
        "13  -  169\n",
        "14  -  196\n",
        "15  -  225\n",
        "16  -  256\n",
        "17  -  289\n"
       ]
      }
     ],
     "prompt_number": 72
    },
    {
     "cell_type": "markdown",
     "metadata": {
      "slideshow": {
       "slide_type": "slide"
      }
     },
     "source": [
      "<p>Schreiben Sie ein Skript, das ermittelt, welche der Zahlen zwischen 20.000 und 40.0000 durch 2.412 teilbar sind und geben Sie diese Zahlen aus."
     ]
    },
    {
     "cell_type": "code",
     "collapsed": false,
     "input": [
      "for i in range (20000,40000):\n",
      "    if i % 2412 == 0:\n",
      "        print (i)"
     ],
     "language": "python",
     "metadata": {
      "slideshow": {
       "slide_type": "fragment"
      }
     },
     "outputs": [
      {
       "output_type": "stream",
       "stream": "stdout",
       "text": [
        "21708\n",
        "24120\n",
        "26532\n",
        "28944\n",
        "31356\n",
        "33768\n",
        "36180\n",
        "38592\n"
       ]
      }
     ],
     "prompt_number": 73
    },
    {
     "cell_type": "markdown",
     "metadata": {
      "slideshow": {
       "slide_type": "slide"
      }
     },
     "source": [
      "### `for`-Schleifen mit mehreren Laufvariablen\n",
      "\n",
      "Man kann Tupel auch auf der _linken_ Seite einer Zuweisung verwenden, um vorhandene Tupel, Listen etc. zu _entpacken_"
     ]
    },
    {
     "cell_type": "code",
     "collapsed": false,
     "input": [
      "t = (17, 23)\n",
      "(i, j) = t        # Klammern hier optional\n",
      "\n",
      "print(\"Tupel:\", t, \"\u2013 Erster Wert:\", i, \"\u2013 Zweiter Wert:\", j)"
     ],
     "language": "python",
     "metadata": {
      "slideshow": {
       "slide_type": "fragment"
      }
     },
     "outputs": [
      {
       "output_type": "stream",
       "stream": "stdout",
       "text": [
        "Tupel: (17, 23) \u2013 Erster Wert: 17 \u2013 Zweiter Wert: 23\n"
       ]
      }
     ],
     "prompt_number": 77
    },
    {
     "cell_type": "markdown",
     "metadata": {
      "slideshow": {
       "slide_type": "subslide"
      }
     },
     "source": [
      "Das sieht man z.B. beim Iterieren \u00fcber Dictionaries gelegentlich:"
     ]
    },
    {
     "cell_type": "code",
     "collapsed": false,
     "input": [
      "ages = {\"Klara\": 23, \"Maria\": 94, \"Hans\": 72, \"Peter\": \"31\"}\n",
      "print(alter.items())\n",
      "for name, age in alter.items():\n",
      "    print(name, \"ist\", age)"
     ],
     "language": "python",
     "metadata": {},
     "outputs": [
      {
       "output_type": "stream",
       "stream": "stdout",
       "text": [
        "dict_items([('Klara', 23), ('Maria', 94), ('Hans', 72), ('Peter', '31')])\n",
        "Klara ist 23\n",
        "Maria ist 94\n",
        "Hans ist 72\n",
        "Peter ist 31\n"
       ]
      }
     ],
     "prompt_number": 82
    },
    {
     "cell_type": "markdown",
     "metadata": {
      "slideshow": {
       "slide_type": "subslide"
      }
     },
     "source": [
      "Mit der `zip`-Funktion kann man Listen verschr\u00e4nken."
     ]
    },
    {
     "cell_type": "code",
     "collapsed": false,
     "input": [
      "authors  = [ \"Zora\", \"Yannick\", \"Xenia\", \"Wolfgang\" ]\n",
      "chapters = [ \"Problemstellung\", \"Methoden\", \"Ergebnisse\", \"Diskussion\" ]\n",
      "for author, chapter in zip(authors, chapters):\n",
      "    print(author, \"schreibt den Abschnitt\", chapter)\n",
      "    \n",
      "print(list(zip(authors, chapters)))"
     ],
     "language": "python",
     "metadata": {},
     "outputs": [
      {
       "output_type": "stream",
       "stream": "stdout",
       "text": [
        "Zora schreibt den Abschnitt Problemstellung\n",
        "Yannick schreibt den Abschnitt Methoden\n",
        "Xenia schreibt den Abschnitt Ergebnisse\n",
        "Wolfgang schreibt den Abschnitt Diskussion\n",
        "[('Zora', 'Problemstellung'), ('Yannick', 'Methoden'), ('Xenia', 'Ergebnisse'), ('Wolfgang', 'Diskussion')]\n"
       ]
      }
     ],
     "prompt_number": 143
    },
    {
     "cell_type": "markdown",
     "metadata": {
      "slideshow": {
       "slide_type": "slide"
      }
     },
     "source": [
      "<h3 style=\"color:green\">\u00dcbungsaufgabe</h3>\n",
      "<p> Sie haben eine Liste mit 5 Elementen: sa = [1,2,3,4,5]</p>\n",
      "<p> 1) Schreiben Sie ein Skript, das jedes Element mit jedem anderen vergleicht (1 -> 3 und 3 -> 1), aber nicht mit sich selbst.<br/> \n",
      "Der Output soll so aussehen: <br/> \n",
      "<code>comparing 1 -> 2\n",
      "comparing 1 -> 3 \n",
      "comparing 1 -> 4 \n",
      "comparing 2 -> 1 \n",
      "usw.</code></p>\n",
      "<p>2) Schreiben Sie das Programm so um, dass jedes Element nur einmal mit jedem anderen verglichen wird (aber nicht mit sich selbst), also statt  1 -> 2 und 2 -> 1  gibt es nun nur noch eine Zeile: 1 &lt;-> 2</p>"
     ]
    }
   ],
   "metadata": {}
  }
 ]
}