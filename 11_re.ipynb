{
 "cells": [
  {
   "cell_type": "markdown",
   "metadata": {
    "slideshow": {
     "slide_type": "-"
    }
   },
   "source": [
    "## Einführung in das Programmieren mit Python"
   ]
  },
  {
   "cell_type": "markdown",
   "metadata": {
    "slideshow": {
     "slide_type": "-"
    }
   },
   "source": [
    "# 8. Strings bearbeiten mit regulären Ausdrücken"
   ]
  },
  {
   "cell_type": "markdown",
   "metadata": {
    "slideshow": {
     "slide_type": "slide"
    }
   },
   "source": [
    "### Prüfungsanmeldung\n",
    "\n",
    "* bis 15. Juli\n",
    "* Prüfungstermin: __Mittwoch, 20. Juli, 18:00, Hörsaal 3__ (wie im SB@Home vermerkt)\n",
    "\n",
    "* Mögliche Prüfungen\n",
    "\n",
    "    * PO 2015:\n",
    "    \n",
    "       * Programmieren (benotet), 326877\n",
    "       * Skriptsprachen/FSQ (unbenotet), 326891\n",
    "\n",
    "    * PO 2012:\n",
    "\n",
    "       * Programmieren (5 ECTS) 317516\n",
    "       * Skriptsprachen (3 ECTS) 314784\n",
    "       \n",
    "* auf der Klausur vermerken, für welches Modul sie gewertet werden soll"
   ]
  },
  {
   "cell_type": "markdown",
   "metadata": {
    "slideshow": {
     "slide_type": "slide"
    }
   },
   "source": [
    "## Wiederholung: Dateien und Exceptions\n",
    "* Dateien öffnen mit `f = open(\"datei.txt\", \"r\", encoding=\"utf-8\")`\n",
    "* Methoden des Dateiobjekts zum Lesen und Schreiben, z.B. `read()`, `write()`\n",
    "* Iterieren über Dateiobjekt zum zeilenweisen Lesen\n",
    "* Dateien immer schließen\n",
    "* `with open(…) as variable:` Automatisches Schließen am Ende des With-Blocks\n",
    "* `try … except … else … finally`: Behandlung von Exceptions\n",
    "* Module `os`, `os.path`, `shutil`: Dateioperationen"
   ]
  },
  {
   "cell_type": "markdown",
   "metadata": {
    "slideshow": {
     "slide_type": "subslide"
    }
   },
   "source": [
    "### Funktionen und Exceptions: Beispiel"
   ]
  },
  {
   "cell_type": "code",
   "execution_count": 35,
   "metadata": {
    "collapsed": false,
    "slideshow": {
     "slide_type": "-"
    }
   },
   "outputs": [
    {
     "name": "stdout",
     "output_type": "stream",
     "text": [
      "Top 3 in  roman.txt : [('Roman.', 2), ('Leser', 1), ('Helden', 1)]\n",
      "FEHLER: missing.txt kann nicht gelesen werden: [Errno 2] No such file or directory: 'missing.txt'\n",
      "WARNUNG: Überspringe  short.txt : Zu wenig unterschiedliche Wörter für ordentliche Statistik\n",
      "Top 3 in  beispiel.txt : [('und', 2), ('große', 1), ('ſ!', 1)]\n"
     ]
    }
   ],
   "source": [
    "import string\n",
    "from collections import Counter\n",
    "\n",
    "def tokenize_file(filename):   # kann IOError werfen\n",
    "    with open(filename, encoding=\"utf-8\") as f:\n",
    "        return f.read().strip(string.punctuation).split()\n",
    "    \n",
    "def wordcounts(filename):\n",
    "    wc = Counter(tokenize_file(filename))\n",
    "    if len(wc.keys()) < 10:\n",
    "        raise ValueError(\"Zu wenig unterschiedliche Wörter für ordentliche Statistik\")\n",
    "    return wc\n",
    "        \n",
    "def _main():\n",
    "    filenames = [\"roman.txt\", \"missing.txt\", \"short.txt\", \"beispiel.txt\"]\n",
    "    for filename in filenames:\n",
    "        try:\n",
    "            counts = wordcounts(filename)\n",
    "            print(\"Top 3 in \", filename, \":\", counts.most_common(3))\n",
    "        except IOError as e:\n",
    "            print(\"FEHLER:\", filename, \"kann nicht gelesen werden:\", e)\n",
    "        except ValueError as e:\n",
    "            print(\"WARNUNG: Überspringe \", filename, \":\", e)\n",
    "            \n",
    "if __name__ == \"__main__\":\n",
    "    _main()"
   ]
  },
  {
   "cell_type": "markdown",
   "metadata": {
    "slideshow": {
     "slide_type": "slide"
    }
   },
   "source": [
    "### Reguläre Ausdrücke\n",
    "\n",
    "* Minisprache zur Beschreibung von Klassen von Zeichenketten\n",
    "* Typische Anwendungen: Suchen, Ersetzen, Aufteilen, Umstellen von Zeichenketten, Extrahieren von Informationen aus Zeichenketten\n",
    "* Beispiel: Literaturangaben in der Digitalen Bibliothek:\n",
    "\n",
    "> Achim von Arnim: Sämmtliche Werke. Band 16, Berlin 1846\n",
    "\n",
    "* reguläre Ausdrücke werden (mit leichten Abweichungen) von allen modernen Programmiersprachen und von allen halbwegs leistungsfähigen Texteditoren unterstützt"
   ]
  },
  {
   "cell_type": "markdown",
   "metadata": {
    "slideshow": {
     "slide_type": "slide"
    }
   },
   "source": [
    "<h3>Einfache Anfänge</h3>"
   ]
  },
  {
   "cell_type": "code",
   "execution_count": 8,
   "metadata": {
    "collapsed": false,
    "slideshow": {
     "slide_type": "-"
    }
   },
   "outputs": [
    {
     "name": "stdout",
     "output_type": "stream",
     "text": [
      "todo\n",
      "1. Verordnung 2. \n",
      "2. Befehl II. \n",
      "3. Verweigerung 2. \n",
      "4. Militär 101\n"
     ]
    }
   ],
   "source": [
    "import re  # Modul für Reguläre Ausdrücke\n",
    "s = 'todo\\n1. Verordnung 2. \\n2. Befehl II. \\n3. Verweigerung 2. \\n4. Militär 101'\n",
    "print(s)"
   ]
  },
  {
   "cell_type": "code",
   "execution_count": 2,
   "metadata": {
    "collapsed": false,
    "slideshow": {
     "slide_type": "-"
    }
   },
   "outputs": [
    {
     "data": {
      "text/plain": [
       "['Ver', 'Ver']"
      ]
     },
     "execution_count": 2,
     "metadata": {},
     "output_type": "execute_result"
    }
   ],
   "source": [
    "re.findall(\"Ver\",s) "
   ]
  },
  {
   "cell_type": "markdown",
   "metadata": {
    "slideshow": {
     "slide_type": "subslide"
    }
   },
   "source": [
    "### Operationen mit Standardmitteln, ohne RE"
   ]
  },
  {
   "cell_type": "code",
   "execution_count": 3,
   "metadata": {
    "collapsed": false,
    "slideshow": {
     "slide_type": "fragment"
    }
   },
   "outputs": [
    {
     "data": {
      "text/plain": [
       "True"
      ]
     },
     "execution_count": 3,
     "metadata": {},
     "output_type": "execute_result"
    }
   ],
   "source": [
    "# Zur Erinnerung: einfache Stringsuche\n",
    "\"welt\" in \"hallo welt\""
   ]
  },
  {
   "cell_type": "code",
   "execution_count": 4,
   "metadata": {
    "collapsed": false,
    "slideshow": {
     "slide_type": "fragment"
    }
   },
   "outputs": [
    {
     "data": {
      "text/plain": [
       "'hallo du'"
      ]
     },
     "execution_count": 4,
     "metadata": {},
     "output_type": "execute_result"
    }
   ],
   "source": [
    "#einfache ersetzung\n",
    "\"hallo welt\".replace(\"welt\", \"du\")"
   ]
  },
  {
   "cell_type": "markdown",
   "metadata": {
    "slideshow": {
     "slide_type": "slide"
    }
   },
   "source": [
    "### reguläre Ausdrücke anwenden (1)\n",
    "\n",
    "`re.findall(pattern,string)` findet alle Treffer von `pattern` in `string`"
   ]
  },
  {
   "cell_type": "code",
   "execution_count": 5,
   "metadata": {
    "collapsed": false,
    "slideshow": {
     "slide_type": "fragment"
    }
   },
   "outputs": [
    {
     "data": {
      "text/plain": [
       "['ha', 'ha']"
      ]
     },
     "execution_count": 5,
     "metadata": {},
     "output_type": "execute_result"
    }
   ],
   "source": [
    "import re\n",
    "re.findall(\"ha\",\"aha, das habe ich mir gedacht.\")"
   ]
  },
  {
   "cell_type": "markdown",
   "metadata": {
    "slideshow": {
     "slide_type": "fragment"
    }
   },
   "source": [
    "`re.sub(pattern,replace,string)` – **sub**stitute"
   ]
  },
  {
   "cell_type": "code",
   "execution_count": 6,
   "metadata": {
    "collapsed": false,
    "slideshow": {
     "slide_type": "fragment"
    }
   },
   "outputs": [
    {
     "data": {
      "text/plain": [
       "'du du du - schönes Wort'"
      ]
     },
     "execution_count": 6,
     "metadata": {},
     "output_type": "execute_result"
    }
   ],
   "source": [
    "re.sub(\"ich\",\"du\",\"ich ich ich - schönes Wort\")"
   ]
  },
  {
   "cell_type": "markdown",
   "metadata": {
    "slideshow": {
     "slide_type": "slide"
    }
   },
   "source": [
    "### Begrifflichkeiten\n",
    "\n",
    "* Ein Regulärer Ausdruck heißt auch **Pattern**\n",
    "* ein Pattern **matcht** auf einen String (oder eben auch nicht).\n",
    "* `re.findall(pattern, string)` findet alle Teilstrings von `string`, auf die `pattern` matcht."
   ]
  },
  {
   "cell_type": "markdown",
   "metadata": {
    "slideshow": {
     "slide_type": "fragment"
    }
   },
   "source": [
    "### Einfache reguläre Ausdrücke\n",
    "\n",
    "* »normale« Zeichen (= keine Metazeichen) matchen sich selbst. `a` matcht `a`.\n",
    "    * _Metazeichen_ sind `. ^ $ * + ? { } [ ] \\ | ( )`, sie können gematcht werden, indem man einen `\\` voranstellt \n",
    "* Ein Punkt `.` matcht ein beliebiges Zeichen (außer Newline). `.` matcht `a` oder `b` oder …    \n",
    "* Zusammensetzen = Hintereinanderschreiben.\n",
    "    * `abc` matcht \"abc\"\n",
    "    * `H. h. h.` matcht z.B. \"Ha ha ha\" oder \"Ho ho ho\" oder \"He ha hi\""
   ]
  },
  {
   "cell_type": "markdown",
   "metadata": {
    "slideshow": {
     "slide_type": "slide"
    }
   },
   "source": [
    "### Zeichenklassen\n",
    "\n",
    "* `[abc]` matcht ein Zeichen, das `a` oder `b` oder `c` ist.\n",
    "* `[A-Fa-f]` matcht einen der Groß- oder Kleinbuchstaben von A bis F\n",
    "* `^` am Beginn einer Zeichenklasse invertiert die Klasse:\n",
    "   * `[^0-9]` matcht jedes Zeichen, das _keine_ Ziffer von 0-9 ist\n",
    "* In Zeichenklassen gelten Metazeichen nicht: `[.]` matcht ebenso wie `\\.` einen Punkt"
   ]
  },
  {
   "cell_type": "markdown",
   "metadata": {
    "slideshow": {
     "slide_type": "fragment"
    }
   },
   "source": [
    "#### häufige Zeichenklassen\n",
    "\n",
    "-   `.` jedes Zeichen außer neue Zeile (`\\n`)\n",
    "-   `\\d` jede Ziffer, z.B. 1, 4, 0 <br/>\n",
    "    `\\D` jedes Zeichen, das **keine** Ziffer ist.\n",
    "-   `\\s` jedes whitespace-Zeichen, z.B. Leerzeichen, \\n, \\t<br/>\n",
    "    `\\S` jedes Zeichen, das **kein** whitespace ist.\n",
    "-   `\\w` »Identifier-Zeichen«, also Buchstaben, z.B. A g ö ß 4 é € α И, Ziffern, Unterstrich _ <br/>\n",
    "    `\\W` jedes Zeichen, das **kein** Identifier-Zeichen ist.\n",
    "\n",
    "Die Definitionen beziehen sich auf die Unicode-Zeicheneigenschaften. Wer Zugriff auf die kompletten Unicode-Properties will, muss das externe Modul _regex_ installieren."
   ]
  },
  {
   "cell_type": "markdown",
   "metadata": {
    "slideshow": {
     "slide_type": "slide"
    }
   },
   "source": [
    "#### Raw Strings\n",
    "* Um ein `\\` zu matchen, benötigen Sie die RE `\\\\`, in einem Python-String `\"\\\\\\\\\"` ...\n",
    "* in einem _raw string_ hat ``\\`` keine Sonderbedeutung\n",
    "* Syntax `r\"…\"` bzw. `r'…'`"
   ]
  },
  {
   "cell_type": "code",
   "execution_count": 32,
   "metadata": {
    "collapsed": true,
    "slideshow": {
     "slide_type": "-"
    }
   },
   "outputs": [
    {
     "name": "stdout",
     "output_type": "stream",
     "text": [
      "C:\\Windows Bla\n",
      "Blubb Bla\\nBlubb\n"
     ]
    }
   ],
   "source": [
    "print(r\"C:\\Windows\", \"Bla\\nBlubb\", r\"Bla\\nBlubb\",)"
   ]
  },
  {
   "cell_type": "markdown",
   "metadata": {
    "slideshow": {
     "slide_type": "slide"
    }
   },
   "source": [
    "<h3 style=\"color:green\">Aufgaben</h3>\n",
    "Gegeben ist der String: `s = \"1. Ja. 2. Nein. 3. Gut. \"`\n",
    "<ol>\n",
    "<li>Finden Sie alle Zahlen in dem String.</li>\n",
    "<li>Finden Sie alle Großbuchstaben in dem String.</li>\n",
    "<li>Finden Sie alle Leerzeichen in dem String.</li>\n",
    "<li>Ersetzen Sie 'Ja' mit 'Yes', 'Nein' mit 'No' und 'Gut' mit 'ok'.</li>\n",
    "</ol>"
   ]
  },
  {
   "cell_type": "markdown",
   "metadata": {
    "slideshow": {
     "slide_type": "subslide"
    }
   },
   "source": [
    "<h3>Musterlösung</h3>\n",
    "<p>Gegeben ist der String: s = \"1. Ja. 2. Nein. 3. Gut. \"</p>"
   ]
  },
  {
   "cell_type": "code",
   "execution_count": 12,
   "metadata": {
    "collapsed": false,
    "slideshow": {
     "slide_type": "fragment"
    }
   },
   "outputs": [],
   "source": [
    "s = \"1. Ja. 2. Nein. 3. Gut. \""
   ]
  },
  {
   "cell_type": "markdown",
   "metadata": {
    "slideshow": {
     "slide_type": "fragment"
    }
   },
   "source": [
    "<p>Finden Sie alle Zahlen in dem String.</p>"
   ]
  },
  {
   "cell_type": "code",
   "execution_count": 13,
   "metadata": {
    "collapsed": false,
    "slideshow": {
     "slide_type": "fragment"
    }
   },
   "outputs": [
    {
     "data": {
      "text/plain": [
       "['1', '2', '3']"
      ]
     },
     "execution_count": 13,
     "metadata": {},
     "output_type": "execute_result"
    }
   ],
   "source": [
    "import re\n",
    "re.findall(r\"\\d\", s)"
   ]
  },
  {
   "cell_type": "markdown",
   "metadata": {
    "slideshow": {
     "slide_type": "slide"
    }
   },
   "source": [
    "<p>Finden Sie alle Großbuchstaben in dem String.</p>"
   ]
  },
  {
   "cell_type": "code",
   "execution_count": 14,
   "metadata": {
    "collapsed": false,
    "slideshow": {
     "slide_type": "fragment"
    }
   },
   "outputs": [
    {
     "data": {
      "text/plain": [
       "['J', 'N', 'G']"
      ]
     },
     "execution_count": 14,
     "metadata": {},
     "output_type": "execute_result"
    }
   ],
   "source": [
    "re.findall(r\"[A-ZÄÖÜ]\", s)"
   ]
  },
  {
   "cell_type": "markdown",
   "metadata": {
    "slideshow": {
     "slide_type": "fragment"
    }
   },
   "source": [
    "<p>Finden Sie alle Leerzeichen in dem String.</p>"
   ]
  },
  {
   "cell_type": "code",
   "execution_count": 15,
   "metadata": {
    "collapsed": false,
    "slideshow": {
     "slide_type": "fragment"
    }
   },
   "outputs": [
    {
     "data": {
      "text/plain": [
       "[' ', ' ', ' ', ' ', ' ', ' ']"
      ]
     },
     "execution_count": 15,
     "metadata": {},
     "output_type": "execute_result"
    }
   ],
   "source": [
    "re.findall(r\"\\s\", s)"
   ]
  },
  {
   "cell_type": "markdown",
   "metadata": {
    "slideshow": {
     "slide_type": "slide"
    }
   },
   "source": [
    "<p>Ersetzen Sie 'Ja' mit 'Yes', 'Nein' mit 'No' und 'Gut' mit 'ok'.</p>"
   ]
  },
  {
   "cell_type": "code",
   "execution_count": 16,
   "metadata": {
    "collapsed": false,
    "slideshow": {
     "slide_type": "fragment"
    }
   },
   "outputs": [
    {
     "data": {
      "text/plain": [
       "'1. Yes. 2. No. 3. ok. '"
      ]
     },
     "execution_count": 16,
     "metadata": {},
     "output_type": "execute_result"
    }
   ],
   "source": [
    "s = re.sub(r\"Ja\", \"Yes\", s)\n",
    "s = re.sub(r\"Nein\", \"No\", s)\n",
    "re.sub(r\"Gut\", \"ok\", s)"
   ]
  },
  {
   "cell_type": "markdown",
   "metadata": {
    "slideshow": {
     "slide_type": "slide"
    }
   },
   "source": [
    "### Entwickeln regulärer Ausdrücke"
   ]
  },
  {
   "cell_type": "markdown",
   "metadata": {
    "slideshow": {
     "slide_type": "-"
    }
   },
   "source": [
    "Es gibt Tools, die Ihnen bei der Entwicklung komplexr regulärer Ausdrücke helfen, indem sie die Treffer (und Gruppen, s.u.) eines regulären Ausdrucks in einem Beispielstring direkt beim Bearbeiten des Patterns markieren, z.B.:\n",
    "\n",
    "* [regex101.com](https://regex101.com/#python) oder [pythex.org](http://pythex.org/) im Web\n",
    "* [redemo.py](https://hg.python.org/cpython/file/3.3/Tools/demo/redemo.py) als lokale Anwendung aus dem Python-Projekt selbst"
   ]
  },
  {
   "cell_type": "markdown",
   "metadata": {
    "slideshow": {
     "slide_type": "slide"
    }
   },
   "source": [
    "### Wiederholungen\n",
    "* `*` matcht auf **0 oder mehr** Wiederholungen des vorherigen Zeichens/Teilausdrucks\n",
    "* `+` matcht auf **1 oder mehr** Wiederholungen des vorherigen Zeichens/Teilausdrucks\n",
    "* `?` matcht auf **0 oder 1** Wiederholungen des vorherigen Zeichens/Teilausdrucks\n",
    "* `{n,m}` matcht auf **n bis m** Wiederholungen des vorherigen Zeichens/Teilausdrucks "
   ]
  },
  {
   "cell_type": "code",
   "execution_count": 17,
   "metadata": {
    "collapsed": false,
    "slideshow": {
     "slide_type": "fragment"
    }
   },
   "outputs": [
    {
     "name": "stdout",
     "output_type": "stream",
     "text": [
      "* ['Ha', 'Ha', 'Ha', 'Haa', 'Hai', 'Hi', 'H']\n",
      "+ ['Ha', 'Ha', 'Ha', 'Haa', 'Hai', 'Hi']\n",
      "? ['Ha', 'Ha', 'Ha', 'Ha', 'Ha', 'Hi', 'H']\n",
      "{2,3} ['Haa', 'Hai']\n"
     ]
    }
   ],
   "source": [
    "s = \"Ha HaHa Haahaa Hai Hi Ho\"\n",
    "print(\"*\", re.findall(\"H[ai]*\", s))\n",
    "print(\"+\", re.findall(\"H[ai]+\", s))\n",
    "print(\"?\", re.findall(\"H[ai]?\", s))\n",
    "print(\"{2,3}\", re.findall(\"H[ai]{2,3}\", s))"
   ]
  },
  {
   "cell_type": "markdown",
   "metadata": {
    "slideshow": {
     "slide_type": "fragment"
    }
   },
   "source": [
    "<h3 style=\"color:green\">Aufgaben</h3>\n",
    "<code>s = 'todo\\n1. Verordnung 2. \\n2. Befehl II. \\n3. Verweigerung 2. \\n4. Militär 101'</code>\n",
    "\n",
    "1. Finden Sie alle (arabischen) Zahlen.\n",
    "2. Suchen Sie in der Liste (ohne todo) alle Wörter, die 6 Buchstaben oder weniger haben"
   ]
  },
  {
   "cell_type": "markdown",
   "metadata": {
    "slideshow": {
     "slide_type": "slide"
    }
   },
   "source": [
    "<h3>Musterlösung</h3>"
   ]
  },
  {
   "cell_type": "markdown",
   "metadata": {
    "slideshow": {
     "slide_type": "-"
    }
   },
   "source": [
    "<code>s = 'todo\\n1. Verordnung 2. \\n2. Befehl II. \\n3. Verweigerung 2. \\n4. Militär 101'</code>\n",
    "\n",
    "(1) Finden Sie alle (arabischen) Zahlen."
   ]
  },
  {
   "cell_type": "code",
   "execution_count": 16,
   "metadata": {
    "collapsed": false,
    "slideshow": {
     "slide_type": "fragment"
    }
   },
   "outputs": [
    {
     "data": {
      "text/plain": [
       "['1', '2', '2', '3', '2', '4', '101']"
      ]
     },
     "execution_count": 16,
     "metadata": {},
     "output_type": "execute_result"
    }
   ],
   "source": [
    "re.findall('[0-9]+', s)"
   ]
  },
  {
   "cell_type": "markdown",
   "metadata": {
    "slideshow": {
     "slide_type": "fragment"
    }
   },
   "source": [
    "(2) Suchen Sie in der Liste (ohne todo) alle Wörter, die 6 Buchstaben oder weniger haben"
   ]
  },
  {
   "cell_type": "code",
   "execution_count": 17,
   "metadata": {
    "collapsed": false,
    "slideshow": {
     "slide_type": "fragment"
    }
   },
   "outputs": [
    {
     "data": {
      "text/plain": [
       "[' Befehl ']"
      ]
     },
     "execution_count": 17,
     "metadata": {},
     "output_type": "execute_result"
    }
   ],
   "source": [
    "s = 'todo\\n1. Verordnung 2. \\n2. Befehl II. \\n3. Verweigerung 2. \\n4. Militär 101'\n",
    "re.findall(r\" \\w{1,6} \", s)"
   ]
  },
  {
   "cell_type": "markdown",
   "metadata": {
    "slideshow": {
     "slide_type": "slide"
    }
   },
   "source": [
    "<h3>Positionen / Anker</h3>\n",
    "… matchen nicht _auf_, sondern _vor/nach/zwischen_ Zeichen\n",
    "<ul>\n",
    "<li>'^' matches the start of the string</li>\n",
    "<li>'$' matches the end of the string</li>\n",
    "<li>'\\b' matches the empty string but only at the beginning or ending of a word <br/>'\\B' matches the empty string but only if it is not at the beginning or ending of a word</li>\n",
    "</ul>\n"
   ]
  },
  {
   "cell_type": "code",
   "execution_count": 18,
   "metadata": {
    "collapsed": false,
    "slideshow": {
     "slide_type": "fragment"
    }
   },
   "outputs": [
    {
     "data": {
      "text/plain": [
       "['hallo']"
      ]
     },
     "execution_count": 18,
     "metadata": {},
     "output_type": "execute_result"
    }
   ],
   "source": [
    "s = \"hallo welt! wie geht es dir?\"\n",
    "re.findall(r\"^\\w+\", s)"
   ]
  },
  {
   "cell_type": "code",
   "execution_count": 19,
   "metadata": {
    "collapsed": false,
    "slideshow": {
     "slide_type": "fragment"
    }
   },
   "outputs": [
    {
     "data": {
      "text/plain": [
       "['foo', 'foo']"
      ]
     },
     "execution_count": 19,
     "metadata": {},
     "output_type": "execute_result"
    }
   ],
   "source": [
    "re.findall(r\"\\bfoo\\b\", \"foo. (foo) foobar\")"
   ]
  },
  {
   "cell_type": "markdown",
   "metadata": {
    "slideshow": {
     "slide_type": "slide"
    }
   },
   "source": [
    "### Gruppierungen\n",
    "\n",
    "* Runde Klammern um einen Teilausdruck bilden eine **Gruppe**.\n",
    "* Quantoren gelten für die ganze Gruppe -> `(bla)+` matcht `blablabla`\n",
    "* Gruppen können separat referenziert werden"
   ]
  },
  {
   "cell_type": "code",
   "execution_count": 20,
   "metadata": {
    "collapsed": false,
    "slideshow": {
     "slide_type": "fragment"
    }
   },
   "outputs": [
    {
     "data": {
      "text/plain": [
       "('Frau Mustermann',)"
      ]
     },
     "execution_count": 20,
     "metadata": {},
     "output_type": "execute_result"
    }
   ],
   "source": [
    "s = \"Sehr geehrte Frau Mustermann,\"\n",
    "m = re.match(\"Sehr geehrter? (.*),\", s)\n",
    "m.groups()"
   ]
  },
  {
   "cell_type": "markdown",
   "metadata": {
    "slideshow": {
     "slide_type": "fragment"
    }
   },
   "source": [
    "Gruppen können mit `\\1`, `\\2`, ... auch innerhalb des Ausdrucks referenziert werden:\n"
   ]
  },
  {
   "cell_type": "code",
   "execution_count": 21,
   "metadata": {
    "collapsed": false,
    "slideshow": {
     "slide_type": "fragment"
    }
   },
   "outputs": [
    {
     "name": "stdout",
     "output_type": "stream",
     "text": [
      "n += 1; test += n; n = test + 1\n"
     ]
    }
   ],
   "source": [
    "expr = \"n = n + 1; test = test + n; n = test + 1\"\n",
    "simplified = re.sub(r\"(\\w+) = \\1 \\+ (\\w+)\",   # diese RE bildet zwei Gruppen, die in der RE (\\1) …\n",
    "                    r\"\\1 += \\2\",              # und im 'ersetzen'-String (\\1, \\2) referenziert werden\n",
    "                    expr)\n",
    "print(simplified)"
   ]
  },
  {
   "cell_type": "markdown",
   "metadata": {
    "slideshow": {
     "slide_type": "slide"
    }
   },
   "source": [
    "<h3>Greedy vs. Non-Greedy</h3>\n",
    "<p>Voreinstellung: greedy, d.h. das die größtmögliche Zeichenkette gesucht wird, die zum regulären Ausdruck passt.</p>\n",
    "<p>Durch ? nach dem Quantifier Umstellung auf non-greedy</p>"
   ]
  },
  {
   "cell_type": "code",
   "execution_count": 22,
   "metadata": {
    "collapsed": false,
    "slideshow": {
     "slide_type": "-"
    }
   },
   "outputs": [
    {
     "data": {
      "text/plain": [
       "['booted the robot']"
      ]
     },
     "execution_count": 22,
     "metadata": {},
     "output_type": "execute_result"
    }
   ],
   "source": [
    "re.findall(\"b.*t\", \"She booted the robot.\")"
   ]
  },
  {
   "cell_type": "code",
   "execution_count": 23,
   "metadata": {
    "collapsed": false,
    "slideshow": {
     "slide_type": "-"
    }
   },
   "outputs": [
    {
     "data": {
      "text/plain": [
       "['boot', 'bot']"
      ]
     },
     "execution_count": 23,
     "metadata": {},
     "output_type": "execute_result"
    }
   ],
   "source": [
    "re.findall(\"b.*?t\", \"She booted the robot.\")"
   ]
  },
  {
   "cell_type": "markdown",
   "metadata": {
    "slideshow": {
     "slide_type": "slide"
    }
   },
   "source": [
    "### Oder\n",
    "\n",
    "Mit `|` können Sie nach Alternativen suchen:"
   ]
  },
  {
   "cell_type": "code",
   "execution_count": 1,
   "metadata": {
    "collapsed": false,
    "slideshow": {
     "slide_type": "fragment"
    }
   },
   "outputs": [
    {
     "ename": "NameError",
     "evalue": "name 're' is not defined",
     "output_type": "error",
     "traceback": [
      "\u001b[1;31m---------------------------------------------------------------------------\u001b[0m",
      "\u001b[1;31mNameError\u001b[0m                                 Traceback (most recent call last)",
      "\u001b[1;32m<ipython-input-1-d52d3d21aab8>\u001b[0m in \u001b[0;36m<module>\u001b[1;34m()\u001b[0m\n\u001b[1;32m----> 1\u001b[1;33m \u001b[1;32mfor\u001b[0m \u001b[0mmatch\u001b[0m \u001b[1;32min\u001b[0m \u001b[0mre\u001b[0m\u001b[1;33m.\u001b[0m\u001b[0mfinditer\u001b[0m\u001b[1;33m(\u001b[0m\u001b[1;34mr\"(Hai|Krokodil|Piranha)\\w*\"\u001b[0m\u001b[1;33m,\u001b[0m \u001b[1;34m\"Bond sollte schon durch Haibiss, Piranhas und Krokodile sterben.\"\u001b[0m\u001b[1;33m)\u001b[0m\u001b[1;33m:\u001b[0m\u001b[1;33m\u001b[0m\u001b[0m\n\u001b[0m\u001b[0;32m      2\u001b[0m     \u001b[0mprint\u001b[0m\u001b[1;33m(\u001b[0m\u001b[1;34m\"Todesursache:\"\u001b[0m\u001b[1;33m,\u001b[0m \u001b[0mmatch\u001b[0m\u001b[1;33m.\u001b[0m\u001b[0mgroup\u001b[0m\u001b[1;33m(\u001b[0m\u001b[1;36m0\u001b[0m\u001b[1;33m)\u001b[0m\u001b[1;33m)\u001b[0m\u001b[1;33m\u001b[0m\u001b[0m\n",
      "\u001b[1;31mNameError\u001b[0m: name 're' is not defined"
     ]
    }
   ],
   "source": [
    "for match in re.finditer(r\"(Hai|Krokodil|Piranha)\\w*\", \"Bond sollte schon durch Haibiss, Piranhas und Krokodile sterben.\"):\n",
    "    print(\"Todesursache:\", match.group(0))"
   ]
  },
  {
   "cell_type": "markdown",
   "metadata": {
    "slideshow": {
     "slide_type": "slide"
    }
   },
   "source": [
    "### Reguläre Ausdrücke anwenden (2)\n",
    "![Übersicht über das re-Modul](images/re-uebersicht.svg)"
   ]
  },
  {
   "cell_type": "markdown",
   "metadata": {
    "slideshow": {
     "slide_type": "notes"
    }
   },
   "source": [
    "* `re.compile` kompiliert einen regulären Ausdruck zu einem Objekt. Wenn Sie einen regulären Ausdruck oft benötigen (z.B. in einer Schleife), verwenden Sie diese Funktion (außerhalb der Schleife) und arbeiten mit dem Objekt, das sie zurückgibt: das ist schneller.\n",
    "* _Match-Objekte_ beschreiben einen Treffer in einem String genauer: Sie liefern z.B. Zugriff auf die einzelnen Gruppen und auf die genaue Stelle im Suchstring, an der der Ausdruck gematcht hat.\n",
    "* Die Funktionen/Methoden `match` und `search` liefern jeweils ein Match-Objekt: `match` matcht nur am _Beginn_ des Suchstrings, `search` findet den ersten Treffer (ggf. ab einem bestimmten Offset, lesen Sie dazu die Dokumentation zu den Funktionen). `finditer` liefert einen Iterator über alle Treffer, jeder Treffer wird als Matchobjekt zurückgegeben. Sie können darüber in einer `for`-Schleife iterieren:"
   ]
  },
  {
   "cell_type": "code",
   "execution_count": 25,
   "metadata": {
    "collapsed": false,
    "slideshow": {
     "slide_type": "notes"
    }
   },
   "outputs": [
    {
     "name": "stdout",
     "output_type": "stream",
     "text": [
      "An Position 22 steht die Zahl 3.\n",
      "An Position 39 steht die Zahl 55.\n",
      "An Position 42 steht die Zahl 60.\n"
     ]
    }
   ],
   "source": [
    "for match in re.finditer(\"\\d+\", \"Lesen Sie die Kapitel 3 und die Seiten 55-60\"):\n",
    "    print(\"An Position {} steht die Zahl {}.\".format(match.start(), match.group(0)))"
   ]
  },
  {
   "cell_type": "markdown",
   "metadata": {
    "slideshow": {
     "slide_type": "notes"
    }
   },
   "source": [
    "* `split` spaltet einen String an einem gegebenen regulären Ausdruck auf, liefert also quasi das Komplement zu `findall`:"
   ]
  },
  {
   "cell_type": "code",
   "execution_count": 26,
   "metadata": {
    "collapsed": false,
    "slideshow": {
     "slide_type": "notes"
    }
   },
   "outputs": [
    {
     "data": {
      "text/plain": [
       "['Hier', 'Nimm ein paar Sätze', 'Zerlegst du sie mir', '']"
      ]
     },
     "execution_count": 26,
     "metadata": {},
     "output_type": "execute_result"
    }
   ],
   "source": [
    "re.split(r'[,.;:!?]+\\s*', 'Hier: Nimm ein paar Sätze! Zerlegst du sie mir?')"
   ]
  },
  {
   "cell_type": "markdown",
   "metadata": {
    "slideshow": {
     "slide_type": "notes"
    }
   },
   "source": [
    "* mit `escape` können Sie alle potentiellen Metazeichen in einem String escapen:"
   ]
  },
  {
   "cell_type": "code",
   "execution_count": 27,
   "metadata": {
    "collapsed": false,
    "slideshow": {
     "slide_type": "notes"
    }
   },
   "outputs": [
    {
     "name": "stdout",
     "output_type": "stream",
     "text": [
      "Sonne\\,\\ Mond\\ \\[und\\]\\ Sterne\\*\\*\\*\n"
     ]
    }
   ],
   "source": [
    "print(re.escape(\"Sonne, Mond [und] Sterne***\"))"
   ]
  },
  {
   "cell_type": "markdown",
   "metadata": {
    "slideshow": {
     "slide_type": "slide"
    }
   },
   "source": [
    "<h3 style=\"color:green\">Übungsaufgaben</h3>\n",
    "<p>s = \"120313130414300312\" \n",
    "<ol>\n",
    "<li>Angenommen es handelt sich hier um drei Datumsangaben in Folge im Format TTMMJJ. Trennen Sie die Angaben durch einen Bindestrich: 120313-130414-300312</li>\n",
    "<li>Bearbeiten Sie den String weiter, so dass nun normale dt. Datumsangaben zu lesen sind: 12.03.13-13.04.14-30.03.12\n",
    "<li>Bearbeiten Sie den String s weiter, so dass am Ende amerikanische Datumsangaben dastehen: 03/12/13-...</li>\n",
    "</ol>"
   ]
  },
  {
   "cell_type": "code",
   "execution_count": 28,
   "metadata": {
    "collapsed": false,
    "slideshow": {
     "slide_type": "subslide"
    }
   },
   "outputs": [
    {
     "name": "stdout",
     "output_type": "stream",
     "text": [
      "120313-130414-300312\n"
     ]
    }
   ],
   "source": [
    "import re\n",
    "\n",
    "s = \"120313130414300312\"\n",
    "\n",
    "s1 = re.sub(r\"(\\d{6})\\B\", r\"\\1-\", s)\n",
    "print(s1)"
   ]
  },
  {
   "cell_type": "code",
   "execution_count": 29,
   "metadata": {
    "collapsed": false,
    "slideshow": {
     "slide_type": "fragment"
    }
   },
   "outputs": [
    {
     "name": "stdout",
     "output_type": "stream",
     "text": [
      "12.03.13-13.04.14-30.03.12\n"
     ]
    }
   ],
   "source": [
    "s2 = re.sub(r\"(\\d\\d)(\\d\\d)(\\d\\d)\", r\"\\1.\\2.\\3\", s1)\n",
    "print(s2)"
   ]
  },
  {
   "cell_type": "code",
   "execution_count": 31,
   "metadata": {
    "collapsed": false,
    "slideshow": {
     "slide_type": "fragment"
    }
   },
   "outputs": [
    {
     "name": "stdout",
     "output_type": "stream",
     "text": [
      "03/12/13-04/13/14-03/30/12\n"
     ]
    }
   ],
   "source": [
    "s3 = re.sub(r\"(\\d\\d)\\.(\\d\\d)\\.(\\d\\d)\", r\"\\2/\\1/\\3\", s2)\n",
    "print(s3)"
   ]
  }
 ],
 "metadata": {
  "celltoolbar": "Slideshow",
  "kernelspec": {
   "display_name": "Python 3",
   "language": "python",
   "name": "python3"
  },
  "language_info": {
   "codemirror_mode": {
    "name": "ipython",
    "version": 3
   },
   "file_extension": ".py",
   "mimetype": "text/x-python",
   "name": "python",
   "nbconvert_exporter": "python",
   "pygments_lexer": "ipython3",
   "version": "3.5.1+"
  }
 },
 "nbformat": 4,
 "nbformat_minor": 0
}
