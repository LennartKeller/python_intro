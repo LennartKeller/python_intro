{
 "cells": [
  {
   "cell_type": "markdown",
   "metadata": {
    "slideshow": {
     "slide_type": "-"
    }
   },
   "source": [
    "## Einführung in das Programmieren mit Python"
   ]
  },
  {
   "cell_type": "markdown",
   "metadata": {
    "slideshow": {
     "slide_type": "-"
    }
   },
   "source": [
    "# Strings bearbeiten mit regulären Ausdrücken"
   ]
  },
  {
   "cell_type": "markdown",
   "metadata": {
    "slideshow": {
     "slide_type": "skip"
    }
   },
   "source": [
    "### Hausaufgabe"
   ]
  },
  {
   "cell_type": "markdown",
   "metadata": {
    "slideshow": {
     "slide_type": "skip"
    }
   },
   "source": [
    "1) Schreiben Sie ein Skript, das die angehängte Datei von-einem-der-auszog.txt (UTF-8-codiert) einliest."
   ]
  },
  {
   "cell_type": "code",
   "execution_count": null,
   "metadata": {
    "collapsed": true,
    "slideshow": {
     "slide_type": "skip"
    }
   },
   "outputs": [],
   "source": [
    "with open(\"von-einem-der-auszog.txt\", \"rt\", encoding=\"UTF-8\") as f:\n",
    "    text = f.read()"
   ]
  },
  {
   "cell_type": "markdown",
   "metadata": {
    "slideshow": {
     "slide_type": "skip"
    }
   },
   "source": [
    "2) Zerlegen Sie den Text in eine Liste einzelner Wörter (Tokens). Entfernen Sie Satzzeichen (siehe Hinweis unten)."
   ]
  },
  {
   "cell_type": "code",
   "execution_count": null,
   "metadata": {
    "collapsed": true,
    "slideshow": {
     "slide_type": "skip"
    }
   },
   "outputs": [],
   "source": [
    "import string\n",
    "raw_tokens = text.split()\n",
    "tokens = []\n",
    "for token in raw_tokens:\n",
    "    tokens.append(token.strip(string.punctuation + \"«»\"))"
   ]
  },
  {
   "cell_type": "markdown",
   "metadata": {
    "slideshow": {
     "slide_type": "skip"
    }
   },
   "source": [
    "3.  Ermitteln Sie, wie oft jedes der unterschiedlichen Wörter in dem Text vorkommt. Wählen Sie eine geeignete Datenstruktur, um das Ergebnis (eine Worthäufigkeitstabelle) zu repräsentieren."
   ]
  },
  {
   "cell_type": "code",
   "execution_count": null,
   "metadata": {
    "collapsed": true,
    "slideshow": {
     "slide_type": "skip"
    }
   },
   "outputs": [],
   "source": [
    "frequencies = {}\n",
    "for token in tokens:\n",
    "    if token not in frequencies:\n",
    "        frequencies[token] = 1\n",
    "    else:\n",
    "        frequencies[token] += 1"
   ]
  },
  {
   "cell_type": "code",
   "execution_count": null,
   "metadata": {
    "collapsed": true,
    "slideshow": {
     "slide_type": "skip"
    }
   },
   "outputs": [],
   "source": [
    "# 4. Geben Sie mithilfe der Datenstruktur aus Teilaufgabe 3 die Häufigkeit der Wörter 'und' und 'Gruseln' aus.\n",
    "print(\"und:\", frequencies['und'])\n",
    "print(\"Gruseln:\", frequencies['Gruseln'])"
   ]
  },
  {
   "cell_type": "markdown",
   "metadata": {
    "slideshow": {
     "slide_type": "skip"
    }
   },
   "source": [
    "5. Bonus (2 Extrapunkte): Geben Sie mithilfe der angelegten Datenstrukturen aus, wieviele Tokens in dem Text vorkommen  und wieviele unterschiedliche Wörter („Types“) in dem Text vorkommen, und berechnen Sie aus Anzahl Types / Anzahl Tokens den Type Token Ratio, ein (textlängenabhängiges) Maß für die  Komplexität eines Texts."
   ]
  },
  {
   "cell_type": "code",
   "execution_count": 1,
   "metadata": {
    "collapsed": false,
    "slideshow": {
     "slide_type": "skip"
    }
   },
   "outputs": [
    {
     "name": "stdout",
     "output_type": "stream",
     "text": [
      "und: 143\n",
      "Gruseln: 16\n",
      "Tokens: 3408 Types: 971 TTR: 0.2849178403755869\n"
     ]
    }
   ],
   "source": [
    "print(\"Tokens:\", len(tokens), \n",
    "      \"Types:\", len(frequencies.keys()), \n",
    "      \"TTR:\", len(frequencies.keys()) / len(tokens))"
   ]
  },
  {
   "cell_type": "markdown",
   "metadata": {
    "slideshow": {
     "slide_type": "slide"
    }
   },
   "source": [
    "## Klausur\n",
    "\n",
    "* __Mittwoch, 02. August, 18:00__\n",
    "* __Phil.-Geb. - Hörsaal 5__\n",
    "\n",
    "Ablauf:\n",
    "\n",
    "* seien Sie pünktlich __vor__ dem Hörsaal\n",
    "* Kollegin legt die Klausuren aus und bittet Sie herein\n",
    "* Auf den Tisch dürfen:\n",
    "\n",
    "   * Stifte (nicht mit rot oder grün oder Bleistift schreiben)\n",
    "   * Studierendenausweis\n",
    "   * Wasser\n",
    "   \n",
    "* Handy vorher aus und wegpacken\n",
    "* Spicken, Kramen, Abschreiben, Handybenutzen → Betrugsversuch\n",
    "* __gewünschte Prüfung (PO 2012/2015 sowie benotet/unbenotet) ankreuzen__\n",
    "* Sie haben max. 45 Minuten\n",
    "\n",
    "* Sprechstunde Mi, 26.07., ab 12:30 in 8 E 15"
   ]
  },
  {
   "cell_type": "markdown",
   "metadata": {
    "slideshow": {
     "slide_type": "slide"
    }
   },
   "source": [
    "### Übungsaufgabe 1: Buchstaben zählen."
   ]
  },
  {
   "cell_type": "code",
   "execution_count": 3,
   "metadata": {
    "collapsed": false,
    "slideshow": {
     "slide_type": "-"
    }
   },
   "outputs": [
    {
     "name": "stdout",
     "output_type": "stream",
     "text": [
      "Durchschnittliche Wortlänge:  5.3\n",
      "Durchschnittliche Vokalanzahl:  1.7\n",
      "Durchschnittliche Konsonantenanzahl:  3.6\n"
     ]
    }
   ],
   "source": [
    "s = \"Herr Mustermann kommt ins Haus und trifft dort Frau Musterfrau\"\n",
    "sum_wordlength = 0\n",
    "for w in s.split():\n",
    "    sum_wordlength += len(w)\n",
    "avg_wordlength = sum_wordlength / len(s.split())\n",
    "print(\"Durchschnittliche Wortlänge: \", avg_wordlength )\n",
    "list_vowels = []\n",
    "for w in s.lower().split():\n",
    "    word_vowels = 0\n",
    "    for c in w:\n",
    "        if c in \"aeiou\":\n",
    "            word_vowels += 1\n",
    "    list_vowels.append(word_vowels)\n",
    "print(\"Durchschnittliche Vokalanzahl: \", sum(list_vowels) / len(list_vowels))\n",
    "list_consonants = []\n",
    "for w in s.lower().split():\n",
    "    word_cons = 0\n",
    "    for c in w:\n",
    "        if c in \"bcdfghjklmnpqrstvwxyz\":\n",
    "            word_cons += 1\n",
    "    list_consonants.append(word_cons)\n",
    "print(\"Durchschnittliche Konsonantenanzahl: \", sum(list_consonants) / len(list_consonants))"
   ]
  },
  {
   "cell_type": "markdown",
   "metadata": {
    "slideshow": {
     "slide_type": "subslide"
    }
   },
   "source": [
    "#### Zerlegungsstufe 0: Funktionen extrahieren"
   ]
  },
  {
   "cell_type": "code",
   "execution_count": 6,
   "metadata": {
    "collapsed": false,
    "slideshow": {
     "slide_type": "-"
    }
   },
   "outputs": [
    {
     "name": "stdout",
     "output_type": "stream",
     "text": [
      "Durchschnittliche Wortlänge:  5.3\n",
      "Durchschnittliche Vokalanzahl:  1.7\n",
      "Durchschnittliche Konsonantenanzahl:  3.6\n"
     ]
    }
   ],
   "source": [
    "def avg_wordlength(text):\n",
    "    sum_wordlength = 0\n",
    "    for w in text.split():\n",
    "        sum_wordlength += len(w)\n",
    "    return sum_wordlength / len(s.split())\n",
    "\n",
    "def avg_vowels(text):\n",
    "    list_vowels = []\n",
    "    for w in text.lower().split():\n",
    "        word_vowels = 0\n",
    "        for c in w:\n",
    "            if c in \"aeiou\":\n",
    "                word_vowels += 1\n",
    "        list_vowels.append(word_vowels)\n",
    "    return sum(list_vowels) / len(list_vowels)\n",
    "\n",
    "def avg_consonants(text):\n",
    "    list_consonants = []\n",
    "    for w in s.lower().split():\n",
    "        word_cons = 0\n",
    "        for c in w:\n",
    "            if c in \"bcdfghjklmnpqrstvwxyz\":\n",
    "                word_cons += 1\n",
    "        list_consonants.append(word_cons)\n",
    "    return sum(list_consonants) / len(list_consonants)\n",
    "\n",
    "s = \"Herr Mustermann kommt ins Haus und trifft dort Frau Musterfrau\"\n",
    "print(\"Durchschnittliche Wortlänge: \", avg_wordlength(s))\n",
    "print(\"Durchschnittliche Vokalanzahl: \", avg_vowels(s))\n",
    "print(\"Durchschnittliche Konsonantenanzahl: \", avg_consonants(s))"
   ]
  },
  {
   "cell_type": "markdown",
   "metadata": {
    "slideshow": {
     "slide_type": "slide"
    }
   },
   "source": [
    "#### Zerlegungsstufe 1: avg_consonants und avg_vowels zusammenfassen"
   ]
  },
  {
   "cell_type": "code",
   "execution_count": 9,
   "metadata": {
    "collapsed": false,
    "slideshow": {
     "slide_type": "-"
    }
   },
   "outputs": [
    {
     "name": "stdout",
     "output_type": "stream",
     "text": [
      "Durchschnittliche Wortlänge:  5.3\n",
      "Durchschnittliche Vokalanzahl:  1.7\n",
      "Durchschnittliche Konsonantenanzahl:  3.6\n"
     ]
    }
   ],
   "source": [
    "def avg_chars(text, chars):\n",
    "    \"\"\"Returns the average number of characters from `chars` in each word of `text`\"\"\"\n",
    "    list_chars = []\n",
    "    for w in s.lower().split():\n",
    "        word_chars = 0\n",
    "        for c in w:\n",
    "            if c in chars:\n",
    "                word_chars += 1\n",
    "        list_chars.append(word_chars)\n",
    "    return sum(list_chars) / len(list_chars)\n",
    "\n",
    "def avg_wordlength(text):\n",
    "    sum_wordlength = 0\n",
    "    for w in s.split():\n",
    "        sum_wordlength += len(w)\n",
    "    return sum_wordlength / len(s.split())\n",
    "\n",
    "# optional:\n",
    "def avg_vowels(text):\n",
    "    return avg_chars(text, \"aeiou\")\n",
    "\n",
    "def avg_consonants(text):\n",
    "    return avg_chars(text, \"bcdfghjklmnpqrstvwxyz\")\n",
    "\n",
    "s = \"Herr Mustermann kommt ins Haus und trifft dort Frau Musterfrau\"\n",
    "print(\"Durchschnittliche Wortlänge: \", avg_wordlength(s))\n",
    "print(\"Durchschnittliche Vokalanzahl: \", avg_vowels(s))\n",
    "print(\"Durchschnittliche Konsonantenanzahl: \", avg_consonants(s))"
   ]
  },
  {
   "cell_type": "markdown",
   "metadata": {
    "slideshow": {
     "slide_type": "subslide"
    }
   },
   "source": [
    "#### Zerlegungsstufe 2: avg_wordlength einbeziehen"
   ]
  },
  {
   "cell_type": "code",
   "execution_count": 13,
   "metadata": {
    "collapsed": false,
    "slideshow": {
     "slide_type": "-"
    }
   },
   "outputs": [
    {
     "name": "stdout",
     "output_type": "stream",
     "text": [
      "Durchschnittliche Wortlänge:  5.3\n",
      "Durchschnittliche Vokalanzahl:  1.7\n",
      "Durchschnittliche Konsonantenanzahl:  3.6\n"
     ]
    }
   ],
   "source": [
    "def avg_wordlength(text, chars=None): # Defaultwert für chars, wenn nur ein Parameter angegeben wird\n",
    "    \"\"\"Returns the average number of characters from `chars` in each word of `text`\"\"\"\n",
    "    list_chars = []\n",
    "    for w in s.lower().split():\n",
    "        word_chars = 0\n",
    "        for c in w:\n",
    "            if chars is None or c in chars:   # <- nur hier geändert\n",
    "                word_chars += 1\n",
    "        list_chars.append(word_chars)\n",
    "    return sum(list_chars) / len(list_chars)\n",
    "\n",
    "# optional:\n",
    "def avg_vowels(text):\n",
    "    return avg_wordlength(text, \"aeiou\")\n",
    "\n",
    "def avg_consonants(text):\n",
    "    return avg_wordlength(text, \"bcdfghjklmnpqrstvwxyz\")\n",
    "\n",
    "s = \"Herr Mustermann kommt ins Haus und trifft dort Frau Musterfrau\"\n",
    "print(\"Durchschnittliche Wortlänge: \", avg_wordlength(s))\n",
    "print(\"Durchschnittliche Vokalanzahl: \", avg_vowels(s))\n",
    "print(\"Durchschnittliche Konsonantenanzahl: \", avg_consonants(s))"
   ]
  },
  {
   "cell_type": "markdown",
   "metadata": {
    "slideshow": {
     "slide_type": "slide"
    }
   },
   "source": [
    "## Wiederholung: Dateien\n",
    "* Dateien öffnen mit `f = open(\"datei.txt\", \"r\", encoding=\"utf-8\")`\n",
    "* Methoden des Dateiobjekts zum Lesen und Schreiben, z.B. `read()`, `write()`\n",
    "* Iterieren über Dateiobjekt zum zeilenweisen Lesen\n",
    "* Dateien immer schließen\n",
    "* `with open(…) as variable:` Automatisches Schließen am Ende des With-Blocks"
   ]
  },
  {
   "cell_type": "markdown",
   "metadata": {
    "slideshow": {
     "slide_type": "slide"
    }
   },
   "source": [
    "### Reguläre Ausdrücke\n",
    "\n",
    "* Minisprache zur Beschreibung von Klassen von Zeichenketten\n",
    "* Typische Anwendungen: Suchen, Ersetzen, Aufteilen, Umstellen von Zeichenketten, Extrahieren von Informationen aus Zeichenketten\n",
    "* Beispiel: Literaturangaben in der Digitalen Bibliothek:\n",
    "\n",
    "> Achim von Arnim: Sämmtliche Werke. Band 16, Berlin 1846\n",
    "\n",
    "* reguläre Ausdrücke werden (mit leichten Abweichungen) von allen modernen Programmiersprachen und von allen halbwegs leistungsfähigen Texteditoren unterstützt"
   ]
  },
  {
   "cell_type": "markdown",
   "metadata": {
    "slideshow": {
     "slide_type": "slide"
    }
   },
   "source": [
    "<h3>Einfache Anfänge</h3>"
   ]
  },
  {
   "cell_type": "code",
   "execution_count": 15,
   "metadata": {
    "collapsed": false,
    "slideshow": {
     "slide_type": "-"
    }
   },
   "outputs": [
    {
     "name": "stdout",
     "output_type": "stream",
     "text": [
      "Achim von Arnim: Sämmtliche Werke. Band 16, Berlin 1846\n"
     ]
    }
   ],
   "source": [
    "import re  # Modul für Reguläre Ausdrücke\n",
    "s = 'Achim von Arnim: Sämmtliche Werke. Band 16, Berlin 1846'\n",
    "print(s)"
   ]
  },
  {
   "cell_type": "code",
   "execution_count": 16,
   "metadata": {
    "collapsed": false,
    "slideshow": {
     "slide_type": "-"
    }
   },
   "outputs": [
    {
     "data": {
      "text/plain": [
       "['im', 'im']"
      ]
     },
     "execution_count": 16,
     "metadata": {},
     "output_type": "execute_result"
    }
   ],
   "source": [
    "re.findall(\"im\",s) "
   ]
  },
  {
   "cell_type": "markdown",
   "metadata": {
    "slideshow": {
     "slide_type": "slide"
    }
   },
   "source": [
    "### Begrifflichkeiten\n",
    "\n",
    "* Ein Regulärer Ausdruck heißt auch **Pattern**\n",
    "* ein Pattern **matcht** auf einen String (oder eben auch nicht).\n",
    "* `re.findall(pattern, string)` findet alle Teilstrings von `string`, auf die `pattern` matcht.\n",
    "\n",
    "### Ausprobieren\n",
    "\n",
    "* https://regex101.com/#python"
   ]
  },
  {
   "cell_type": "markdown",
   "metadata": {
    "slideshow": {
     "slide_type": "fragment"
    }
   },
   "source": [
    "### Einfache reguläre Ausdrücke\n",
    "\n",
    "* »normale« Zeichen (= keine Metazeichen) matchen sich selbst. `a` matcht `a`.\n",
    "    * _Metazeichen_ sind `. ^ $ * + ? { } [ ] \\ | ( )`, sie können gematcht werden, indem man einen `\\` voranstellt \n",
    "* Ein Punkt `.` matcht ein beliebiges Zeichen (außer Newline). `.` matcht `a` oder `b` oder …    \n",
    "* Zusammensetzen = Hintereinanderschreiben.\n",
    "    * `abc` matcht \"abc\"\n",
    "    * `H. h. h.` matcht z.B. \"Ha ha ha\" oder \"Ho ho ho\" oder \"He ha hi\""
   ]
  },
  {
   "cell_type": "markdown",
   "metadata": {
    "slideshow": {
     "slide_type": "slide"
    }
   },
   "source": [
    "### Zeichenklassen\n",
    "\n",
    "* `[abc]` matcht ein Zeichen, das `a` oder `b` oder `c` ist.\n",
    "* `[A-Fa-f]` matcht einen der Groß- oder Kleinbuchstaben von A bis F\n",
    "* `^` am Beginn einer Zeichenklasse invertiert die Klasse:\n",
    "   * `[^0-9]` matcht jedes Zeichen, das _keine_ Ziffer von 0-9 ist\n",
    "* In Zeichenklassen gelten Metazeichen nicht: `[.]` matcht ebenso wie `\\.` einen Punkt"
   ]
  },
  {
   "cell_type": "markdown",
   "metadata": {
    "slideshow": {
     "slide_type": "fragment"
    }
   },
   "source": [
    "#### häufige Zeichenklassen\n",
    "\n",
    "-   `.` jedes Zeichen außer neue Zeile (`\\n`)\n",
    "-   `\\d` jede Ziffer, z.B. 1, 4, 0 <br/>\n",
    "    `\\D` jedes Zeichen, das **keine** Ziffer ist.\n",
    "-   `\\s` jedes whitespace-Zeichen, z.B. Leerzeichen, `\\n`, `\\t`\n",
    "    `\\S` jedes Zeichen, das **kein** whitespace ist.<br/>\n",
    "-   `\\w` »Identifier-Zeichen«, also Buchstaben, z.B. A g ö ß 4 é € α И, Ziffern, Unterstrich `_` <br/>\n",
    "    `\\W` jedes Zeichen, das **kein** Identifier-Zeichen ist.\n",
    "\n",
    "Die Definitionen beziehen sich auf die Unicode-Zeicheneigenschaften. Wer Zugriff auf die kompletten Unicode-Properties will, muss das externe Modul _regex_ installieren."
   ]
  },
  {
   "cell_type": "markdown",
   "metadata": {
    "slideshow": {
     "slide_type": "slide"
    }
   },
   "source": [
    "<h3 style=\"color:green\">Aufgaben</h3>\n",
    "Gegeben ist der String: `1. Ja. 2. Nein. 3. Gut.` Schreiben Sie jeweils reguläre Ausdrücke für folgende Aufgaben:\n",
    "<ol>\n",
    "<li>Finden Sie alle Zahlen in dem String.</li>\n",
    "<li>Finden Sie alle Großbuchstaben in dem String.</li>\n",
    "<li>Finden Sie alle Leerzeichen in dem String.</li>\n",
    "</ol>"
   ]
  },
  {
   "cell_type": "code",
   "execution_count": 22,
   "metadata": {
    "collapsed": false,
    "slideshow": {
     "slide_type": "subslide"
    }
   },
   "outputs": [
    {
     "data": {
      "text/plain": [
       "['1', '2', '3']"
      ]
     },
     "execution_count": 22,
     "metadata": {},
     "output_type": "execute_result"
    }
   ],
   "source": [
    "text = \"1. Ja. 2. Nein. 3. Gut.\"\n",
    "\n",
    "re.findall(r'\\d', text)    # 1. alle Zahlen (Ziffern hier)"
   ]
  },
  {
   "cell_type": "code",
   "execution_count": 23,
   "metadata": {
    "collapsed": false,
    "slideshow": {
     "slide_type": "fragment"
    }
   },
   "outputs": [
    {
     "data": {
      "text/plain": [
       "['J', 'N', 'G']"
      ]
     },
     "execution_count": 23,
     "metadata": {},
     "output_type": "execute_result"
    }
   ],
   "source": [
    "re.findall('[A-Z]', text)  # 2. alle Großbuchstaben"
   ]
  },
  {
   "cell_type": "code",
   "execution_count": 24,
   "metadata": {
    "collapsed": false,
    "slideshow": {
     "slide_type": "fragment"
    }
   },
   "outputs": [
    {
     "data": {
      "text/plain": [
       "[' ', ' ', ' ', ' ', ' ']"
      ]
     },
     "execution_count": 24,
     "metadata": {},
     "output_type": "execute_result"
    }
   ],
   "source": [
    "re.findall(r'\\s', text)   # 3. alle Leerzeichen"
   ]
  },
  {
   "cell_type": "markdown",
   "metadata": {
    "slideshow": {
     "slide_type": "slide"
    }
   },
   "source": [
    "#### Raw Strings\n",
    "* Um ein `\\` zu matchen, benötigen Sie die RE `\\\\`, in einem Python-String `\"\\\\\\\\\"` ...\n",
    "* in einem _raw string_ hat ``\\`` keine Sonderbedeutung\n",
    "* Syntax `r\"…\"` bzw. `r'…'`"
   ]
  },
  {
   "cell_type": "code",
   "execution_count": 30,
   "metadata": {
    "collapsed": false,
    "slideshow": {
     "slide_type": "-"
    }
   },
   "outputs": [
    {
     "name": "stdout",
     "output_type": "stream",
     "text": [
      "C:\\Windows Bla\n",
      "Blubb Bla\\nBlubb\n"
     ]
    }
   ],
   "source": [
    "print(r\"C:\\Windows\", \"Bla\\nBlubb\", r\"Bla\\nBlubb\",)"
   ]
  },
  {
   "cell_type": "markdown",
   "metadata": {
    "slideshow": {
     "slide_type": "skip"
    }
   },
   "source": [
    "### Entwickeln regulärer Ausdrücke"
   ]
  },
  {
   "cell_type": "markdown",
   "metadata": {
    "slideshow": {
     "slide_type": "skip"
    }
   },
   "source": [
    "Es gibt Tools, die Ihnen bei der Entwicklung komplexer regulärer Ausdrücke helfen, indem sie die Treffer (und Gruppen, s.u.) eines regulären Ausdrucks in einem Beispielstring direkt beim Bearbeiten des Patterns markieren, z.B.:\n",
    "\n",
    "* [regex101.com](https://regex101.com/#python) oder [pythex.org](http://pythex.org/) im Web\n",
    "* [redemo.py](https://hg.python.org/cpython/file/3.3/Tools/demo/redemo.py) als lokale Anwendung aus dem Python-Projekt selbst"
   ]
  },
  {
   "cell_type": "markdown",
   "metadata": {
    "slideshow": {
     "slide_type": "slide"
    }
   },
   "source": [
    "### Wiederholungen\n",
    "* `*` matcht auf **0 oder mehr** Wiederholungen des vorherigen Zeichens/Teilausdrucks\n",
    "* `+` matcht auf **1 oder mehr** Wiederholungen des vorherigen Zeichens/Teilausdrucks\n",
    "* `?` matcht auf **0 oder 1** Wiederholungen des vorherigen Zeichens/Teilausdrucks\n",
    "* `{n,m}` matcht auf **n bis m** Wiederholungen des vorherigen Zeichens/Teilausdrucks "
   ]
  },
  {
   "cell_type": "code",
   "execution_count": 17,
   "metadata": {
    "collapsed": false,
    "slideshow": {
     "slide_type": "fragment"
    }
   },
   "outputs": [
    {
     "name": "stdout",
     "output_type": "stream",
     "text": [
      "* ['Ha', 'Ha', 'Ha', 'Haa', 'Hai', 'Hi', 'H']\n",
      "+ ['Ha', 'Ha', 'Ha', 'Haa', 'Hai', 'Hi']\n",
      "? ['Ha', 'Ha', 'Ha', 'Ha', 'Ha', 'Hi', 'H']\n",
      "{2,3} ['Haa', 'Hai']\n"
     ]
    }
   ],
   "source": [
    "s = \"Ha HaHa Haahaa Hai Hi Ho\"\n",
    "print(\"*\", re.findall(\"H[ai]*\", s))\n",
    "print(\"+\", re.findall(\"H[ai]+\", s))\n",
    "print(\"?\", re.findall(\"H[ai]?\", s))\n",
    "print(\"{2,3}\", re.findall(\"H[ai]{2,3}\", s))"
   ]
  },
  {
   "cell_type": "markdown",
   "metadata": {
    "slideshow": {
     "slide_type": "fragment"
    }
   },
   "source": [
    "### Aufgaben\n",
    "\n",
    "`s = 'Achim von Arnim: Sämmtliche Werke. Band 16, Berlin 1846'`\n",
    "\n",
    "1. Finden Sie alle (arabischen) Zahlen.\n",
    "2. Finden Sie alle Zahlen, die mehr als 3 Ziffern haben"
   ]
  },
  {
   "cell_type": "markdown",
   "metadata": {
    "slideshow": {
     "slide_type": "subslide"
    }
   },
   "source": [
    "<h3>Musterlösung</h3>"
   ]
  },
  {
   "cell_type": "code",
   "execution_count": 16,
   "metadata": {
    "collapsed": true,
    "slideshow": {
     "slide_type": "-"
    }
   },
   "outputs": [],
   "source": [
    "s = 'Achim von Arnim: Sämmtliche Werke. Band 16, Berlin 1846'"
   ]
  },
  {
   "cell_type": "markdown",
   "metadata": {
    "slideshow": {
     "slide_type": "-"
    }
   },
   "source": [
    "(1) Finden Sie alle (arabischen) Zahlen."
   ]
  },
  {
   "cell_type": "code",
   "execution_count": 17,
   "metadata": {
    "collapsed": false,
    "slideshow": {
     "slide_type": "fragment"
    }
   },
   "outputs": [
    {
     "data": {
      "text/plain": [
       "['16', '1846']"
      ]
     },
     "execution_count": 17,
     "metadata": {},
     "output_type": "execute_result"
    }
   ],
   "source": [
    "re.findall('[0-9]+', s)"
   ]
  },
  {
   "cell_type": "markdown",
   "metadata": {
    "slideshow": {
     "slide_type": "fragment"
    }
   },
   "source": [
    "(2) Suchen Sie in der Zahlen, die mehr als 3 Ziffern haben"
   ]
  },
  {
   "cell_type": "code",
   "execution_count": 18,
   "metadata": {
    "collapsed": false,
    "slideshow": {
     "slide_type": "fragment"
    }
   },
   "outputs": [
    {
     "data": {
      "text/plain": [
       "['1846']"
      ]
     },
     "execution_count": 18,
     "metadata": {},
     "output_type": "execute_result"
    }
   ],
   "source": [
    "re.findall('[0-9]{3,}', s)"
   ]
  },
  {
   "cell_type": "markdown",
   "metadata": {
    "slideshow": {
     "slide_type": "slide"
    }
   },
   "source": [
    "### Positionen / Anker\n",
    "… matchen nicht _auf_, sondern _vor/nach/zwischen_ Zeichen\n",
    "\n",
    "* `^` matches the start of the string\n",
    "* `$` matches the end of the string\n",
    "* `\\b` matches the empty string but only at the beginning or ending of a word \n",
    "* `\\B` matches the empty string but only if it is not at the beginning or ending of a word\n"
   ]
  },
  {
   "cell_type": "code",
   "execution_count": 18,
   "metadata": {
    "collapsed": false,
    "slideshow": {
     "slide_type": "fragment"
    }
   },
   "outputs": [
    {
     "data": {
      "text/plain": [
       "['hallo']"
      ]
     },
     "execution_count": 18,
     "metadata": {},
     "output_type": "execute_result"
    }
   ],
   "source": [
    "s = \"hallo welt! wie geht es dir?\"\n",
    "re.findall(r\"^\\w+\", s)"
   ]
  },
  {
   "cell_type": "code",
   "execution_count": 19,
   "metadata": {
    "collapsed": false,
    "slideshow": {
     "slide_type": "fragment"
    }
   },
   "outputs": [
    {
     "data": {
      "text/plain": [
       "['foo', 'foo']"
      ]
     },
     "execution_count": 19,
     "metadata": {},
     "output_type": "execute_result"
    }
   ],
   "source": [
    "re.findall(r\"\\bfoo\\b\", \"foo. (foo) foobar\")"
   ]
  },
  {
   "cell_type": "markdown",
   "metadata": {
    "slideshow": {
     "slide_type": "subslide"
    }
   },
   "source": [
    "### Übung\n",
    "\n",
    "`s = 'Achim von Arnim: Sämmtliche Werke. Band 16, Berlin 1846'`\n",
    "\n",
    "Finden Sie Zahlen am Ende des Strings."
   ]
  },
  {
   "cell_type": "code",
   "execution_count": 26,
   "metadata": {
    "collapsed": false
   },
   "outputs": [
    {
     "name": "stdout",
     "output_type": "stream",
     "text": [
      "['1846']\n"
     ]
    }
   ],
   "source": [
    "s = 'Achim von Arnim: Sämmtliche Werke. Band 16, Berlin 1846'\n",
    "print(re.findall(r'\\d+$', s))"
   ]
  },
  {
   "cell_type": "markdown",
   "metadata": {
    "slideshow": {
     "slide_type": "slide"
    }
   },
   "source": [
    "### Reguläre Ausdrücke in Python anwenden\n",
    "\n",
    "* Modul `re`\n",
    "* Leistungsfähigeres Modul `regex`, muss ggf. nachinstalliert werden: `pip install regex` an der Kommandozeile\n",
    "   * Unterstützt z.B. Unicode-Zeichenklassen: `\\p{L}` = Buchstaben in allen Schriftsystemen"
   ]
  },
  {
   "cell_type": "code",
   "execution_count": 34,
   "metadata": {
    "collapsed": false,
    "slideshow": {
     "slide_type": "fragment"
    }
   },
   "outputs": [
    {
     "name": "stdout",
     "output_type": "stream",
     "text": [
      "['Achim', 'von', 'Arnim', 'Sämmtliche', 'Werke', 'Band', '16', 'Berlin', '1846']\n"
     ]
    }
   ],
   "source": [
    "import re\n",
    "text = 'Achim von Arnim: Sämmtliche Werke. Band 16, Berlin 1846'\n",
    "\n",
    "# Alle Treffer:\n",
    "print(re.findall('\\w+', text))"
   ]
  },
  {
   "cell_type": "code",
   "execution_count": 36,
   "metadata": {
    "collapsed": false,
    "slideshow": {
     "slide_type": "fragment"
    }
   },
   "outputs": [
    {
     "name": "stdout",
     "output_type": "stream",
     "text": [
      "Achim von Arnim: Sämmtliche Werke. Band XXX, Berlin XXX\n"
     ]
    }
   ],
   "source": [
    "# Ersetzen:\n",
    "\n",
    "print(re.sub('\\d+', 'XXX', s))"
   ]
  },
  {
   "cell_type": "code",
   "execution_count": 42,
   "metadata": {
    "collapsed": false,
    "slideshow": {
     "slide_type": "subslide"
    }
   },
   "outputs": [
    {
     "name": "stdout",
     "output_type": "stream",
     "text": [
      "<_sre.SRE_Match object; span=(0, 5), match='Achim'>\n",
      "None\n"
     ]
    }
   ],
   "source": [
    "# Treffer ab Anfang, mehr Info:\n",
    "print(re.match(r'\\w+', s))\n",
    "print(re.match(r'\\d+', s))"
   ]
  },
  {
   "cell_type": "code",
   "execution_count": 43,
   "metadata": {
    "collapsed": false,
    "slideshow": {
     "slide_type": "fragment"
    }
   },
   "outputs": [
    {
     "name": "stdout",
     "output_type": "stream",
     "text": [
      "<_sre.SRE_Match object; span=(40, 42), match='16'>\n"
     ]
    }
   ],
   "source": [
    "# Treffer irgendwo, mehr Info:\n",
    "print(re.search(r'\\d+', s))"
   ]
  },
  {
   "cell_type": "code",
   "execution_count": 50,
   "metadata": {
    "collapsed": false,
    "slideshow": {
     "slide_type": "fragment"
    }
   },
   "outputs": [
    {
     "name": "stdout",
     "output_type": "stream",
     "text": [
      "<_sre.SRE_Match object; span=(40, 42), match='16'>\n",
      "<_sre.SRE_Match object; span=(51, 55), match='1846'>\n"
     ]
    }
   ],
   "source": [
    "# Alle Treffer, mehr Info:\n",
    "for match in re.finditer(r'\\d+', s):\n",
    "    print(match)"
   ]
  },
  {
   "cell_type": "markdown",
   "metadata": {
    "slideshow": {
     "slide_type": "slide"
    }
   },
   "source": [
    "### Gruppierungen\n",
    "\n",
    "* Runde Klammern um einen Teilausdruck bilden eine **Gruppe**.\n",
    "* Quantoren gelten für die ganze Gruppe -> `(bla)+` matcht `blablabla`\n",
    "* Gruppen können separat referenziert werden"
   ]
  },
  {
   "cell_type": "code",
   "execution_count": 20,
   "metadata": {
    "collapsed": false,
    "slideshow": {
     "slide_type": "fragment"
    }
   },
   "outputs": [
    {
     "data": {
      "text/plain": [
       "('Frau Mustermann',)"
      ]
     },
     "execution_count": 20,
     "metadata": {},
     "output_type": "execute_result"
    }
   ],
   "source": [
    "s = \"Sehr geehrte Frau Mustermann,\"\n",
    "m = re.match(\"Sehr geehrter? (.*),\", s)\n",
    "m.groups()"
   ]
  },
  {
   "cell_type": "markdown",
   "metadata": {
    "slideshow": {
     "slide_type": "fragment"
    }
   },
   "source": [
    "N.B.:\n",
    "* `('Frau Mustermann',)` ist ein __Tupel__. \n",
    "* Tupel (Datentyp `tuple`) sind Listen ähnlich, aber unveränderlich\n",
    "* Das Literal verwendet runde Klammern statt eckiger, mindestens ein Komma muss vorhanden sein"
   ]
  },
  {
   "cell_type": "markdown",
   "metadata": {
    "slideshow": {
     "slide_type": "subslide"
    }
   },
   "source": [
    "Gruppen können mit `\\1`, `\\2`, ... auch innerhalb des Ausdrucks oder in einem Ersetzungsstring bei `re.sub` referenziert werden:\n"
   ]
  },
  {
   "cell_type": "code",
   "execution_count": 21,
   "metadata": {
    "collapsed": false,
    "slideshow": {
     "slide_type": "fragment"
    }
   },
   "outputs": [
    {
     "name": "stdout",
     "output_type": "stream",
     "text": [
      "n += 1; test += n; n = test + 1\n"
     ]
    }
   ],
   "source": [
    "expr = \"n = n + 1; test = test + n; n = test + 1\"\n",
    "simplified = re.sub(r\"(\\w+) = \\1 \\+ (\\w+)\",   # diese RE bildet zwei Gruppen, die in der RE (\\1) …\n",
    "                    r\"\\1 += \\2\",              # und im 'ersetzen'-String (\\1, \\2) referenziert werden\n",
    "                    expr)\n",
    "print(simplified)"
   ]
  },
  {
   "cell_type": "markdown",
   "metadata": {
    "slideshow": {
     "slide_type": "subslide"
    }
   },
   "source": [
    "### Aufgabe\n",
    "\n",
    "Datumsangaben erfolgen in der IT-Welt oft normalisiert nach ISO 8601 in der Form JJJJ-MM-TT. Schreiben Sie ein kleines Skript, das die Datumsangaben hier umformt:\n",
    "\n",
    "* `31.01.1900`\n",
    "* `07.10.2016`"
   ]
  },
  {
   "cell_type": "code",
   "execution_count": 30,
   "metadata": {
    "collapsed": false
   },
   "outputs": [
    {
     "name": "stdout",
     "output_type": "stream",
     "text": [
      "1900-01-31\n",
      "2016-10-07\n"
     ]
    }
   ],
   "source": [
    "def normalize_german_date(german_date):\n",
    "    return re.sub(r'(\\d\\d)\\.\\s*(\\d\\d)\\.\\s*(\\d+)', r'\\3-\\2-\\1', german_date)\n",
    "\n",
    "print(normalize_german_date('31.01.1900'))\n",
    "print(normalize_german_date('07.10.2016'))"
   ]
  },
  {
   "cell_type": "markdown",
   "metadata": {
    "slideshow": {
     "slide_type": "subslide"
    }
   },
   "source": [
    "### findall mit Gruppen\n",
    "\n",
    "Stehen in dem Pattern von `re.findall` Gruppen, so ist das Ergebnis eine Liste von Tupeln der Gruppen:"
   ]
  },
  {
   "cell_type": "code",
   "execution_count": 33,
   "metadata": {
    "collapsed": false,
    "slideshow": {
     "slide_type": "-"
    }
   },
   "outputs": [
    {
     "name": "stdout",
     "output_type": "stream",
     "text": [
      "Name:  Maria Musterfrau \tAdresse:  musterfrau@example.com\n",
      "Name:  Arndt Alliteration \tAdresse:  ali@dichtkunst.de\n"
     ]
    }
   ],
   "source": [
    "text = 'Von \"Maria Musterfrau\" <musterfrau@example.com> an \"Arndt Alliteration\" <ali@dichtkunst.de>'\n",
    "addresses = re.findall(r'\"([^\"]+)\"\\s*<([^>]+)>', text)\n",
    "\n",
    "for person in addresses:\n",
    "    print(\"Name: \", person[0], \"\\tAdresse: \", person[1])"
   ]
  },
  {
   "cell_type": "markdown",
   "metadata": {
    "slideshow": {
     "slide_type": "slide"
    }
   },
   "source": [
    "<h3>Greedy vs. Non-Greedy</h3>\n",
    "<p>Voreinstellung: greedy, d.h. das die größtmögliche Zeichenkette gesucht wird, die zum regulären Ausdruck passt.</p>\n",
    "<p>Durch ? nach dem Quantifier Umstellung auf non-greedy</p>\n",
    "\n",
    "Welches Ergebnis hat `re.findall(\"b.*t\", \"She booted the robot.\")`?"
   ]
  },
  {
   "cell_type": "code",
   "execution_count": 19,
   "metadata": {
    "collapsed": false,
    "slideshow": {
     "slide_type": "fragment"
    }
   },
   "outputs": [
    {
     "data": {
      "text/plain": [
       "['booted the robot']"
      ]
     },
     "execution_count": 19,
     "metadata": {},
     "output_type": "execute_result"
    }
   ],
   "source": [
    "re.findall(\"b.*t\", \"She booted the robot.\")"
   ]
  },
  {
   "cell_type": "code",
   "execution_count": 21,
   "metadata": {
    "collapsed": false,
    "slideshow": {
     "slide_type": "fragment"
    }
   },
   "outputs": [
    {
     "data": {
      "text/plain": [
       "['boot', 'bot']"
      ]
     },
     "execution_count": 21,
     "metadata": {},
     "output_type": "execute_result"
    }
   ],
   "source": [
    "re.findall(\"b.*?t\", \"She booted the robot.\")"
   ]
  },
  {
   "cell_type": "markdown",
   "metadata": {
    "slideshow": {
     "slide_type": "slide"
    }
   },
   "source": [
    "### Oder\n",
    "\n",
    "Mit `|` können Sie nach Alternativen suchen:"
   ]
  },
  {
   "cell_type": "code",
   "execution_count": 22,
   "metadata": {
    "collapsed": false,
    "slideshow": {
     "slide_type": "fragment"
    }
   },
   "outputs": [
    {
     "name": "stdout",
     "output_type": "stream",
     "text": [
      "Todesursache: Haibiss\n",
      "Todesursache: Piranhas\n",
      "Todesursache: Krokodile\n"
     ]
    }
   ],
   "source": [
    "for match in re.finditer(r\"(Hai|Krokodil|Piranha)\\w*\", \"Bond sollte schon durch Haibiss, Piranhas und Krokodile sterben.\"):\n",
    "    print(\"Todesursache:\", match.group(0))"
   ]
  },
  {
   "cell_type": "markdown",
   "metadata": {
    "slideshow": {
     "slide_type": "slide"
    }
   },
   "source": [
    "### Reguläre Ausdrücke anwenden (2)\n",
    "![Übersicht über das re-Modul](images/re-uebersicht.svg)"
   ]
  },
  {
   "cell_type": "markdown",
   "metadata": {
    "slideshow": {
     "slide_type": "notes"
    }
   },
   "source": [
    "* `re.compile` kompiliert einen regulären Ausdruck zu einem Objekt. Wenn Sie einen regulären Ausdruck oft benötigen (z.B. in einer Schleife), verwenden Sie diese Funktion (außerhalb der Schleife) und arbeiten mit dem Objekt, das sie zurückgibt: das ist schneller.\n",
    "* _Match-Objekte_ beschreiben einen Treffer in einem String genauer: Sie liefern z.B. Zugriff auf die einzelnen Gruppen und auf die genaue Stelle im Suchstring, an der der Ausdruck gematcht hat.\n",
    "* Die Funktionen/Methoden `match` und `search` liefern jeweils ein Match-Objekt: `match` matcht nur am _Beginn_ des Suchstrings, `search` findet den ersten Treffer (ggf. ab einem bestimmten Offset, lesen Sie dazu die Dokumentation zu den Funktionen). `finditer` liefert einen Iterator über alle Treffer, jeder Treffer wird als Matchobjekt zurückgegeben. Sie können darüber in einer `for`-Schleife iterieren:"
   ]
  },
  {
   "cell_type": "code",
   "execution_count": 23,
   "metadata": {
    "collapsed": false,
    "slideshow": {
     "slide_type": "notes"
    }
   },
   "outputs": [
    {
     "name": "stdout",
     "output_type": "stream",
     "text": [
      "An Position 22 steht die Zahl 3.\n",
      "An Position 39 steht die Zahl 55.\n",
      "An Position 42 steht die Zahl 60.\n"
     ]
    }
   ],
   "source": [
    "for match in re.finditer(\"\\d+\", \"Lesen Sie die Kapitel 3 und die Seiten 55-60\"):\n",
    "    print(\"An Position {} steht die Zahl {}.\".format(match.start(), match.group(0)))"
   ]
  },
  {
   "cell_type": "markdown",
   "metadata": {
    "slideshow": {
     "slide_type": "notes"
    }
   },
   "source": [
    "* `split` spaltet einen String an einem gegebenen regulären Ausdruck auf, liefert also quasi das Komplement zu `findall`:"
   ]
  },
  {
   "cell_type": "code",
   "execution_count": 24,
   "metadata": {
    "collapsed": false,
    "slideshow": {
     "slide_type": "notes"
    }
   },
   "outputs": [
    {
     "data": {
      "text/plain": [
       "['Hier', 'Nimm ein paar Sätze', 'Zerlegst du sie mir', '']"
      ]
     },
     "execution_count": 24,
     "metadata": {},
     "output_type": "execute_result"
    }
   ],
   "source": [
    "re.split(r'[,.;:!?]+\\s*', 'Hier: Nimm ein paar Sätze! Zerlegst du sie mir?')"
   ]
  },
  {
   "cell_type": "markdown",
   "metadata": {
    "slideshow": {
     "slide_type": "notes"
    }
   },
   "source": [
    "* mit `escape` können Sie alle potentiellen Metazeichen in einem String escapen:"
   ]
  },
  {
   "cell_type": "code",
   "execution_count": 25,
   "metadata": {
    "collapsed": false,
    "slideshow": {
     "slide_type": "notes"
    }
   },
   "outputs": [
    {
     "name": "stdout",
     "output_type": "stream",
     "text": [
      "Sonne\\,\\ Mond\\ \\[und\\]\\ Sterne\\*\\*\\*\n"
     ]
    }
   ],
   "source": [
    "print(re.escape(\"Sonne, Mond [und] Sterne***\"))"
   ]
  },
  {
   "cell_type": "markdown",
   "metadata": {
    "slideshow": {
     "slide_type": "slide"
    }
   },
   "source": [
    "<h3 style=\"color:green\">Übungsaufgaben</h3>\n",
    "<p>s = \"120313130414300312\" \n",
    "<ol>\n",
    "<li>Angenommen es handelt sich hier um drei Datumsangaben in Folge im Format TTMMJJ. Trennen Sie die Angaben durch einen Bindestrich: 120313-130414-300312</li>\n",
    "<li>Bearbeiten Sie den String weiter, so dass nun normale dt. Datumsangaben zu lesen sind: 12.03.13-13.04.14-30.03.12\n",
    "<li>Bearbeiten Sie den String s weiter, so dass am Ende amerikanische Datumsangaben dastehen: 03/12/13-...</li>\n",
    "</ol>"
   ]
  },
  {
   "cell_type": "code",
   "execution_count": 28,
   "metadata": {
    "collapsed": false,
    "slideshow": {
     "slide_type": "subslide"
    }
   },
   "outputs": [
    {
     "name": "stdout",
     "output_type": "stream",
     "text": [
      "120313-130414-300312\n"
     ]
    }
   ],
   "source": [
    "import re\n",
    "\n",
    "s = \"120313130414300312\"\n",
    "\n",
    "s1 = re.sub(r\"(\\d{6})\\B\", r\"\\1-\", s)\n",
    "print(s1)"
   ]
  },
  {
   "cell_type": "code",
   "execution_count": 29,
   "metadata": {
    "collapsed": false,
    "slideshow": {
     "slide_type": "fragment"
    }
   },
   "outputs": [
    {
     "name": "stdout",
     "output_type": "stream",
     "text": [
      "12.03.13-13.04.14-30.03.12\n"
     ]
    }
   ],
   "source": [
    "s2 = re.sub(r\"(\\d\\d)(\\d\\d)(\\d\\d)\", r\"\\1.\\2.\\3\", s1)\n",
    "print(s2)"
   ]
  },
  {
   "cell_type": "code",
   "execution_count": 31,
   "metadata": {
    "collapsed": false,
    "slideshow": {
     "slide_type": "fragment"
    }
   },
   "outputs": [
    {
     "name": "stdout",
     "output_type": "stream",
     "text": [
      "03/12/13-04/13/14-03/30/12\n"
     ]
    }
   ],
   "source": [
    "s3 = re.sub(r\"(\\d\\d)\\.(\\d\\d)\\.(\\d\\d)\", r\"\\2/\\1/\\3\", s2)\n",
    "print(s3)"
   ]
  }
 ],
 "metadata": {
  "celltoolbar": "Slideshow",
  "kernelspec": {
   "display_name": "Python 3",
   "language": "python",
   "name": "python3"
  },
  "language_info": {
   "codemirror_mode": {
    "name": "ipython",
    "version": 3
   },
   "file_extension": ".py",
   "mimetype": "text/x-python",
   "name": "python",
   "nbconvert_exporter": "python",
   "pygments_lexer": "ipython3",
   "version": "3.5.3+"
  },
  "nav_menu": {},
  "toc": {
   "navigate_menu": true,
   "number_sections": false,
   "sideBar": true,
   "threshold": 6,
   "toc_cell": false,
   "toc_section_display": "block",
   "toc_window_display": false
  }
 },
 "nbformat": 4,
 "nbformat_minor": 0
}
