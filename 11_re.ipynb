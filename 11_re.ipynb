{
 "cells": [
  {
   "cell_type": "markdown",
   "metadata": {
    "slideshow": {
     "slide_type": "-"
    }
   },
   "source": [
    "## Einführung in das Programmieren mit Python"
   ]
  },
  {
   "cell_type": "markdown",
   "metadata": {
    "slideshow": {
     "slide_type": "-"
    }
   },
   "source": [
    "# Strings bearbeiten mit regulären Ausdrücken"
   ]
  },
  {
   "cell_type": "markdown",
   "metadata": {
    "slideshow": {
     "slide_type": "slide"
    }
   },
   "source": [
    "### Hausaufgabe 1: Buchstaben zählen.\n",
    "#### Zerlegungsstufe 1"
   ]
  },
  {
   "cell_type": "code",
   "execution_count": 2,
   "metadata": {
    "collapsed": false,
    "slideshow": {
     "slide_type": "-"
    }
   },
   "outputs": [
    {
     "name": "stdout",
     "output_type": "stream",
     "text": [
      "Durchschnittliche Wortlänge:  5.3\n",
      "Durchschnittliche Vokalanzahl:  1.7\n",
      "Durchschnittliche Konsonantenanzahl:  3.6\n"
     ]
    }
   ],
   "source": [
    "def avg_wordlen(s):\n",
    "    sum_wordlength = 0\n",
    "    for w in s.split():\n",
    "        sum_wordlength += len(w)\n",
    "    return sum_wordlength / len(s.split())\n",
    "\n",
    "def avg_vowels(s):\n",
    "    list_vowels = []\n",
    "    for w in s.lower().split():\n",
    "        word_vowels = 0\n",
    "        for c in w:\n",
    "            if c in \"aeiou\":\n",
    "                word_vowels += 1\n",
    "        list_vowels.append(word_vowels)\n",
    "    return sum(list_vowels) / len(list_vowels)\n",
    "\n",
    "def avg_consonants(s):\n",
    "    list_consonants = []\n",
    "    for w in s.lower().split():\n",
    "        word_cons = 0\n",
    "        for c in w:\n",
    "            if c in \"bcdfghjklmnpqrstvwxyz\":\n",
    "                word_cons += 1\n",
    "        list_consonants.append(word_cons)\n",
    "    return sum(list_consonants) / len(list_consonants)\n",
    "\n",
    "s = \"Herr Mustermann kommt ins Haus und trifft dort Frau Musterfrau\"\n",
    "print(\"Durchschnittliche Wortlänge: \", avg_wordlen(s))\n",
    "print(\"Durchschnittliche Vokalanzahl: \", avg_vowels(s))\n",
    "print(\"Durchschnittliche Konsonantenanzahl: \", avg_consonants(s))"
   ]
  },
  {
   "cell_type": "markdown",
   "metadata": {
    "slideshow": {
     "slide_type": "subslide"
    }
   },
   "source": [
    "#### Zweite Zerlegungsstufe\n",
    "Der Code in den drei avg-Funktionen ist doch recht ähnlich ..."
   ]
  },
  {
   "cell_type": "code",
   "execution_count": 3,
   "metadata": {
    "collapsed": true,
    "slideshow": {
     "slide_type": "-"
    }
   },
   "outputs": [],
   "source": [
    "def avg_wordlen(s, charset=None):\n",
    "    list_chars = []\n",
    "    for w in s.lower().split():\n",
    "        word_chars = 0\n",
    "        for c in w:\n",
    "            if charset is None or c in charset:\n",
    "                word_chars += 1\n",
    "    return sum(list_chars) / len(list_chars)"
   ]
  },
  {
   "cell_type": "code",
   "execution_count": 4,
   "metadata": {
    "collapsed": true,
    "slideshow": {
     "slide_type": "fragment"
    }
   },
   "outputs": [],
   "source": [
    "def avg_consonants(s):\n",
    "    return avg_wordlen(s, \"bcdfghjklmnpqrstvwxyz\")\n",
    "\n",
    "def avg_vowels(s):\n",
    "    return avg_wordlen(s, \"aeiou\")"
   ]
  },
  {
   "cell_type": "markdown",
   "metadata": {
    "slideshow": {
     "slide_type": "subslide"
    }
   },
   "source": [
    "### Hausaufgabe 2: glob"
   ]
  },
  {
   "cell_type": "code",
   "execution_count": 8,
   "metadata": {
    "collapsed": false,
    "slideshow": {
     "slide_type": "-"
    }
   },
   "outputs": [
    {
     "name": "stdout",
     "output_type": "stream",
     "text": [
      "['corpus/test1.txt', 'corpus/test2.txt']\n",
      "['/home/tv/git/pydelta.2015/test/corpus3/Fontane,-Theodor_Der-Stechlin.txt', '/home/tv/git/pydelta.2015/test/corpus3/Fontane,-Theodor_Effi-Briest.txt', '/home/tv/git/pydelta.2015/test/corpus3/Fontane,-Theodor_Frau-Jenny-Treibel.txt', '/home/tv/git/pydelta.2015/test/corpus3/Marlitt,-Eugenie_Das-Geheimnis-der-alten-Mamsell.txt', '/home/tv/git/pydelta.2015/test/corpus3/Marlitt,-Eugenie_Das-Heideprinzesschen.txt', '/home/tv/git/pydelta.2015/test/corpus3/Marlitt,-Eugenie_Die-Frau-mit-den-Karfunkelsteinen.txt', '/home/tv/git/pydelta.2015/test/corpus3/Raabe,-Wilhelm_Die-Chronik-der-Sperlingsgasse.txt', '/home/tv/git/pydelta.2015/test/corpus3/Raabe,-Wilhelm_Im-alten-Eisen.txt', '/home/tv/git/pydelta.2015/test/corpus3/Raabe,-Wilhelm_Stopfkuchen.txt']\n"
     ]
    }
   ],
   "source": [
    "from glob import glob\n",
    "import os\n",
    "\n",
    "def list_texts(directory='corpus'):\n",
    "    return glob(os.path.join(directory, '*.txt'))\n",
    "\n",
    "print(list_texts())\n",
    "print(list_texts(\"/home/tv/git/pydelta.2015/test/corpus3\"))"
   ]
  },
  {
   "cell_type": "markdown",
   "metadata": {
    "slideshow": {
     "slide_type": "subslide"
    }
   },
   "source": [
    "### Hausaufgabe 3: Caesar"
   ]
  },
  {
   "cell_type": "code",
   "execution_count": 23,
   "metadata": {
    "collapsed": true,
    "slideshow": {
     "slide_type": "-"
    }
   },
   "outputs": [],
   "source": [
    "def rotate_char(char, rotate=3):\n",
    "    if char < 'A' or char > 'Z':\n",
    "        return char         # Alle Nichtgroßbuchstaben bleiben unangetastet\n",
    "    rotate = rotate % 26    # Ring, Rotation um z.B. 30 = um 4\n",
    "    encoded = ord(char) + rotate\n",
    "    if encoded > ord('Z'):\n",
    "        encoded = encoded - 26\n",
    "    return chr(encoded)"
   ]
  },
  {
   "cell_type": "code",
   "execution_count": 22,
   "metadata": {
    "collapsed": false,
    "slideshow": {
     "slide_type": "fragment"
    }
   },
   "outputs": [
    {
     "name": "stdout",
     "output_type": "stream",
     "text": [
      "JDOOLD HVW RPQLV GLYLVD LQ SDUWHV WUHV.\n",
      "ZEFIX NOCHMAL!\n"
     ]
    }
   ],
   "source": [
    "def caesar(string, rotate=3):\n",
    "    cyphertext = []\n",
    "    for char in string.upper():\n",
    "        cyphertext.append(rotate_char(char, rotate))\n",
    "    return \"\".join(cyphertext)\n",
    "\n",
    "print(caesar(\"Gallia est omnis divisa in partes tres.\"))\n",
    "print(caesar(caesar(\"Zefix nochmal!\", 5), -5))"
   ]
  },
  {
   "cell_type": "markdown",
   "metadata": {
    "slideshow": {
     "slide_type": "slide"
    }
   },
   "source": [
    "## Wiederholung: Dateien\n",
    "* Dateien öffnen mit `f = open(\"datei.txt\", \"r\", encoding=\"utf-8\")`\n",
    "* Methoden des Dateiobjekts zum Lesen und Schreiben, z.B. `read()`, `write()`\n",
    "* Iterieren über Dateiobjekt zum zeilenweisen Lesen\n",
    "* Dateien immer schließen\n",
    "* `with open(…) as variable:` Automatisches Schließen am Ende des With-Blocks"
   ]
  },
  {
   "cell_type": "markdown",
   "metadata": {
    "slideshow": {
     "slide_type": "fragment"
    }
   },
   "source": [
    "### Übungsaufgabe\n",
    "\n",
    "Schreiben Sie eine Funktion, die die Häufigkeiten der unterschiedlichen Wörter in einer Textdatei ermittelt. Ihrer Funktion wird ein Dateiname als Argument übergeben, die Funktion liest die Datei ein, zerlegt sie in Wörter und gibt eine geeignete Datenstruktur zurück, in der jedem unterschiedlichen Wort seine Häufigkeit zugeordnet wird (also z.B. und=45, die=30, …)"
   ]
  },
  {
   "cell_type": "code",
   "execution_count": 27,
   "metadata": {
    "collapsed": false,
    "slideshow": {
     "slide_type": "subslide"
    }
   },
   "outputs": [
    {
     "name": "stdout",
     "output_type": "stream",
     "text": [
      "{'…': 1, 'der': 1, 'Da': 1, 'schon': 1, 'gibt,': 1, 'ein': 1, 'Er': 1, 'mit': 1, 'Kurzer': 1, 'hier': 1, 'keine': 1, 'unterbricht': 1, 'dem': 1, 'ist': 1, 'Auftritt': 1, 'des': 1, 'beginnt': 1, 'Heldens.': 1, 'Roman.': 2, 'langer': 1, 'es': 1, 'Dies': 1, 'Helden': 1, 'Leser': 1}\n"
     ]
    }
   ],
   "source": [
    "def bag_of_words(filename):\n",
    "    result = {}\n",
    "    with open(filename, \"rt\", encoding=\"UTF-8\") as textfile:\n",
    "        for word in textfile.read().split():\n",
    "            if word in result:\n",
    "                result[word] += 1\n",
    "            else:\n",
    "                result[word] = 1\n",
    "    return(result)\n",
    "\n",
    "print(bag_of_words(\"roman.txt\"))"
   ]
  },
  {
   "cell_type": "code",
   "execution_count": 29,
   "metadata": {
    "collapsed": false,
    "slideshow": {
     "slide_type": "subslide"
    }
   },
   "outputs": [
    {
     "name": "stdout",
     "output_type": "stream",
     "text": [
      "Counter({'Roman.': 2, '…': 1, 'der': 1, 'Da': 1, 'schon': 1, 'gibt,': 1, 'ein': 1, 'Er': 1, 'mit': 1, 'Kurzer': 1, 'hier': 1, 'keine': 1, 'unterbricht': 1, 'dem': 1, 'ist': 1, 'Auftritt': 1, 'des': 1, 'beginnt': 1, 'Heldens.': 1, 'langer': 1, 'es': 1, 'Dies': 1, 'Helden': 1, 'Leser': 1})\n"
     ]
    }
   ],
   "source": [
    "from collections import Counter\n",
    "def bag_of_words2(filename):\n",
    "    with open(filename, \"rt\", encoding=\"UTF-8\") as textfile:\n",
    "        return Counter(textfile.read().split())\n",
    "    \n",
    "print(bag_of_words2(\"roman.txt\"))"
   ]
  },
  {
   "cell_type": "markdown",
   "metadata": {
    "slideshow": {
     "slide_type": "slide"
    }
   },
   "source": [
    "### Reguläre Ausdrücke\n",
    "\n",
    "* Minisprache zur Beschreibung von Klassen von Zeichenketten\n",
    "* Typische Anwendungen: Suchen, Ersetzen, Aufteilen, Umstellen von Zeichenketten, Extrahieren von Informationen aus Zeichenketten\n",
    "* Beispiel: Literaturangaben in der Digitalen Bibliothek:\n",
    "\n",
    "> Achim von Arnim: Sämmtliche Werke. Band 16, Berlin 1846\n",
    "\n",
    "* reguläre Ausdrücke werden (mit leichten Abweichungen) von allen modernen Programmiersprachen und von allen halbwegs leistungsfähigen Texteditoren unterstützt"
   ]
  },
  {
   "cell_type": "markdown",
   "metadata": {
    "slideshow": {
     "slide_type": "slide"
    }
   },
   "source": [
    "<h3>Einfache Anfänge</h3>"
   ]
  },
  {
   "cell_type": "code",
   "execution_count": 1,
   "metadata": {
    "collapsed": false,
    "slideshow": {
     "slide_type": "-"
    }
   },
   "outputs": [
    {
     "name": "stdout",
     "output_type": "stream",
     "text": [
      "Achim von Arnim: Sämmtliche Werke. Band 16, Berlin 1846\n"
     ]
    }
   ],
   "source": [
    "import re  # Modul für Reguläre Ausdrücke\n",
    "s = 'Achim von Arnim: Sämmtliche Werke. Band 16, Berlin 1846'\n",
    "print(s)"
   ]
  },
  {
   "cell_type": "code",
   "execution_count": 2,
   "metadata": {
    "collapsed": false,
    "slideshow": {
     "slide_type": "-"
    }
   },
   "outputs": [
    {
     "data": {
      "text/plain": [
       "['im', 'im']"
      ]
     },
     "execution_count": 2,
     "metadata": {},
     "output_type": "execute_result"
    }
   ],
   "source": [
    "re.findall(\"im\",s) "
   ]
  },
  {
   "cell_type": "markdown",
   "metadata": {
    "slideshow": {
     "slide_type": "slide"
    }
   },
   "source": [
    "### Begrifflichkeiten\n",
    "\n",
    "* Ein Regulärer Ausdruck heißt auch **Pattern**\n",
    "* ein Pattern **matcht** auf einen String (oder eben auch nicht).\n",
    "* `re.findall(pattern, string)` findet alle Teilstrings von `string`, auf die `pattern` matcht.\n",
    "\n",
    "### Ausprobieren\n",
    "\n",
    "* https://regex101.com/#python"
   ]
  },
  {
   "cell_type": "markdown",
   "metadata": {
    "slideshow": {
     "slide_type": "fragment"
    }
   },
   "source": [
    "### Einfache reguläre Ausdrücke\n",
    "\n",
    "* »normale« Zeichen (= keine Metazeichen) matchen sich selbst. `a` matcht `a`.\n",
    "    * _Metazeichen_ sind `. ^ $ * + ? { } [ ] \\ | ( )`, sie können gematcht werden, indem man einen `\\` voranstellt \n",
    "* Ein Punkt `.` matcht ein beliebiges Zeichen (außer Newline). `.` matcht `a` oder `b` oder …    \n",
    "* Zusammensetzen = Hintereinanderschreiben.\n",
    "    * `abc` matcht \"abc\"\n",
    "    * `H. h. h.` matcht z.B. \"Ha ha ha\" oder \"Ho ho ho\" oder \"He ha hi\""
   ]
  },
  {
   "cell_type": "markdown",
   "metadata": {
    "slideshow": {
     "slide_type": "slide"
    }
   },
   "source": [
    "### Zeichenklassen\n",
    "\n",
    "* `[abc]` matcht ein Zeichen, das `a` oder `b` oder `c` ist.\n",
    "* `[A-Fa-f]` matcht einen der Groß- oder Kleinbuchstaben von A bis F\n",
    "* `^` am Beginn einer Zeichenklasse invertiert die Klasse:\n",
    "   * `[^0-9]` matcht jedes Zeichen, das _keine_ Ziffer von 0-9 ist\n",
    "* In Zeichenklassen gelten Metazeichen nicht: `[.]` matcht ebenso wie `\\.` einen Punkt"
   ]
  },
  {
   "cell_type": "markdown",
   "metadata": {
    "slideshow": {
     "slide_type": "fragment"
    }
   },
   "source": [
    "#### häufige Zeichenklassen\n",
    "\n",
    "-   `.` jedes Zeichen außer neue Zeile (`\\n`)\n",
    "-   `\\d` jede Ziffer, z.B. 1, 4, 0 <br/>\n",
    "    `\\D` jedes Zeichen, das **keine** Ziffer ist.\n",
    "-   `\\s` jedes whitespace-Zeichen, z.B. Leerzeichen, `\\n`, `\\t`\n",
    "    `\\S` jedes Zeichen, das **kein** whitespace ist.<br/>\n",
    "-   `\\w` »Identifier-Zeichen«, also Buchstaben, z.B. A g ö ß 4 é € α И, Ziffern, Unterstrich `_` <br/>\n",
    "    `\\W` jedes Zeichen, das **kein** Identifier-Zeichen ist.\n",
    "\n",
    "Die Definitionen beziehen sich auf die Unicode-Zeicheneigenschaften. Wer Zugriff auf die kompletten Unicode-Properties will, muss das externe Modul _regex_ installieren."
   ]
  },
  {
   "cell_type": "markdown",
   "metadata": {
    "slideshow": {
     "slide_type": "slide"
    }
   },
   "source": [
    "<h3 style=\"color:green\">Aufgaben</h3>\n",
    "Gegeben ist der String: `1. Ja. 2. Nein. 3. Gut.` Schreiben Sie jeweils reguläre Ausdrücke für folgende Aufgaben:\n",
    "<ol>\n",
    "<li>Finden Sie alle Zahlen in dem String.</li>\n",
    "<li>Finden Sie alle Großbuchstaben in dem String.</li>\n",
    "<li>Finden Sie alle Leerzeichen in dem String.</li>\n",
    "</ol>"
   ]
  },
  {
   "cell_type": "markdown",
   "metadata": {
    "slideshow": {
     "slide_type": "slide"
    }
   },
   "source": [
    "#### Raw Strings\n",
    "* Um ein `\\` zu matchen, benötigen Sie die RE `\\\\`, in einem Python-String `\"\\\\\\\\\"` ...\n",
    "* in einem _raw string_ hat ``\\`` keine Sonderbedeutung\n",
    "* Syntax `r\"…\"` bzw. `r'…'`"
   ]
  },
  {
   "cell_type": "code",
   "execution_count": 30,
   "metadata": {
    "collapsed": false,
    "slideshow": {
     "slide_type": "-"
    }
   },
   "outputs": [
    {
     "name": "stdout",
     "output_type": "stream",
     "text": [
      "C:\\Windows Bla\n",
      "Blubb Bla\\nBlubb\n"
     ]
    }
   ],
   "source": [
    "print(r\"C:\\Windows\", \"Bla\\nBlubb\", r\"Bla\\nBlubb\",)"
   ]
  },
  {
   "cell_type": "markdown",
   "metadata": {
    "slideshow": {
     "slide_type": "skip"
    }
   },
   "source": [
    "### Entwickeln regulärer Ausdrücke"
   ]
  },
  {
   "cell_type": "markdown",
   "metadata": {
    "slideshow": {
     "slide_type": "skip"
    }
   },
   "source": [
    "Es gibt Tools, die Ihnen bei der Entwicklung komplexer regulärer Ausdrücke helfen, indem sie die Treffer (und Gruppen, s.u.) eines regulären Ausdrucks in einem Beispielstring direkt beim Bearbeiten des Patterns markieren, z.B.:\n",
    "\n",
    "* [regex101.com](https://regex101.com/#python) oder [pythex.org](http://pythex.org/) im Web\n",
    "* [redemo.py](https://hg.python.org/cpython/file/3.3/Tools/demo/redemo.py) als lokale Anwendung aus dem Python-Projekt selbst"
   ]
  },
  {
   "cell_type": "markdown",
   "metadata": {
    "slideshow": {
     "slide_type": "slide"
    }
   },
   "source": [
    "### Wiederholungen\n",
    "* `*` matcht auf **0 oder mehr** Wiederholungen des vorherigen Zeichens/Teilausdrucks\n",
    "* `+` matcht auf **1 oder mehr** Wiederholungen des vorherigen Zeichens/Teilausdrucks\n",
    "* `?` matcht auf **0 oder 1** Wiederholungen des vorherigen Zeichens/Teilausdrucks\n",
    "* `{n,m}` matcht auf **n bis m** Wiederholungen des vorherigen Zeichens/Teilausdrucks "
   ]
  },
  {
   "cell_type": "code",
   "execution_count": 17,
   "metadata": {
    "collapsed": false,
    "slideshow": {
     "slide_type": "fragment"
    }
   },
   "outputs": [
    {
     "name": "stdout",
     "output_type": "stream",
     "text": [
      "* ['Ha', 'Ha', 'Ha', 'Haa', 'Hai', 'Hi', 'H']\n",
      "+ ['Ha', 'Ha', 'Ha', 'Haa', 'Hai', 'Hi']\n",
      "? ['Ha', 'Ha', 'Ha', 'Ha', 'Ha', 'Hi', 'H']\n",
      "{2,3} ['Haa', 'Hai']\n"
     ]
    }
   ],
   "source": [
    "s = \"Ha HaHa Haahaa Hai Hi Ho\"\n",
    "print(\"*\", re.findall(\"H[ai]*\", s))\n",
    "print(\"+\", re.findall(\"H[ai]+\", s))\n",
    "print(\"?\", re.findall(\"H[ai]?\", s))\n",
    "print(\"{2,3}\", re.findall(\"H[ai]{2,3}\", s))"
   ]
  },
  {
   "cell_type": "markdown",
   "metadata": {
    "slideshow": {
     "slide_type": "fragment"
    }
   },
   "source": [
    "### Aufgaben\n",
    "\n",
    "`s = 'Achim von Arnim: Sämmtliche Werke. Band 16, Berlin 1846'`\n",
    "\n",
    "1. Finden Sie alle (arabischen) Zahlen.\n",
    "2. Finden Sie alle Zahlen, die mehr als 3 Ziffern haben"
   ]
  },
  {
   "cell_type": "markdown",
   "metadata": {
    "slideshow": {
     "slide_type": "subslide"
    }
   },
   "source": [
    "<h3>Musterlösung</h3>"
   ]
  },
  {
   "cell_type": "code",
   "execution_count": 16,
   "metadata": {
    "collapsed": true,
    "slideshow": {
     "slide_type": "-"
    }
   },
   "outputs": [],
   "source": [
    "s = 'Achim von Arnim: Sämmtliche Werke. Band 16, Berlin 1846'"
   ]
  },
  {
   "cell_type": "markdown",
   "metadata": {
    "slideshow": {
     "slide_type": "-"
    }
   },
   "source": [
    "(1) Finden Sie alle (arabischen) Zahlen."
   ]
  },
  {
   "cell_type": "code",
   "execution_count": 17,
   "metadata": {
    "collapsed": false,
    "slideshow": {
     "slide_type": "fragment"
    }
   },
   "outputs": [
    {
     "data": {
      "text/plain": [
       "['16', '1846']"
      ]
     },
     "execution_count": 17,
     "metadata": {},
     "output_type": "execute_result"
    }
   ],
   "source": [
    "re.findall('[0-9]+', s)"
   ]
  },
  {
   "cell_type": "markdown",
   "metadata": {
    "slideshow": {
     "slide_type": "fragment"
    }
   },
   "source": [
    "(2) Suchen Sie in der Zahlen, die mehr als 3 Ziffern haben"
   ]
  },
  {
   "cell_type": "code",
   "execution_count": 18,
   "metadata": {
    "collapsed": false,
    "slideshow": {
     "slide_type": "fragment"
    }
   },
   "outputs": [
    {
     "data": {
      "text/plain": [
       "['1846']"
      ]
     },
     "execution_count": 18,
     "metadata": {},
     "output_type": "execute_result"
    }
   ],
   "source": [
    "re.findall('[0-9]{3,}', s)"
   ]
  },
  {
   "cell_type": "markdown",
   "metadata": {
    "slideshow": {
     "slide_type": "slide"
    }
   },
   "source": [
    "<h3>Positionen / Anker</h3>\n",
    "… matchen nicht _auf_, sondern _vor/nach/zwischen_ Zeichen\n",
    "<ul>\n",
    "<li>'^' matches the start of the string</li>\n",
    "<li>'$' matches the end of the string</li>\n",
    "<li>'\\b' matches the empty string but only at the beginning or ending of a word <br/>'\\B' matches the empty string but only if it is not at the beginning or ending of a word</li>\n",
    "</ul>\n"
   ]
  },
  {
   "cell_type": "code",
   "execution_count": 18,
   "metadata": {
    "collapsed": false,
    "slideshow": {
     "slide_type": "fragment"
    }
   },
   "outputs": [
    {
     "data": {
      "text/plain": [
       "['hallo']"
      ]
     },
     "execution_count": 18,
     "metadata": {},
     "output_type": "execute_result"
    }
   ],
   "source": [
    "s = \"hallo welt! wie geht es dir?\"\n",
    "re.findall(r\"^\\w+\", s)"
   ]
  },
  {
   "cell_type": "code",
   "execution_count": 19,
   "metadata": {
    "collapsed": false,
    "slideshow": {
     "slide_type": "fragment"
    }
   },
   "outputs": [
    {
     "data": {
      "text/plain": [
       "['foo', 'foo']"
      ]
     },
     "execution_count": 19,
     "metadata": {},
     "output_type": "execute_result"
    }
   ],
   "source": [
    "re.findall(r\"\\bfoo\\b\", \"foo. (foo) foobar\")"
   ]
  },
  {
   "cell_type": "markdown",
   "metadata": {
    "slideshow": {
     "slide_type": "subslide"
    }
   },
   "source": [
    "### Übung\n",
    "\n",
    "`s = 'Achim von Arnim: Sämmtliche Werke. Band 16, Berlin 1846'`\n",
    "\n",
    "Finden Sie Zahlen am Ende des Strings."
   ]
  },
  {
   "cell_type": "markdown",
   "metadata": {
    "slideshow": {
     "slide_type": "slide"
    }
   },
   "source": [
    "### Reguläre Ausdrücke in Python anwenden\n",
    "\n",
    "* Modul `re`\n",
    "* Leistungsfähigeres Modul `regex`, muss ggf. nachinstalliert werden: `pip install regex` an der Kommandozeile\n",
    "   * Unterstützt z.B. Unicode-Zeichenklassen: `\\p{L}` = Buchstaben in allen Schriftsystemen"
   ]
  },
  {
   "cell_type": "code",
   "execution_count": 34,
   "metadata": {
    "collapsed": false,
    "slideshow": {
     "slide_type": "fragment"
    }
   },
   "outputs": [
    {
     "name": "stdout",
     "output_type": "stream",
     "text": [
      "['Achim', 'von', 'Arnim', 'Sämmtliche', 'Werke', 'Band', '16', 'Berlin', '1846']\n"
     ]
    }
   ],
   "source": [
    "import re\n",
    "text = 'Achim von Arnim: Sämmtliche Werke. Band 16, Berlin 1846'\n",
    "\n",
    "# Alle Treffer:\n",
    "print(re.findall('\\w+', text))"
   ]
  },
  {
   "cell_type": "code",
   "execution_count": 36,
   "metadata": {
    "collapsed": false,
    "slideshow": {
     "slide_type": "fragment"
    }
   },
   "outputs": [
    {
     "name": "stdout",
     "output_type": "stream",
     "text": [
      "Achim von Arnim: Sämmtliche Werke. Band XXX, Berlin XXX\n"
     ]
    }
   ],
   "source": [
    "# Ersetzen:\n",
    "\n",
    "print(re.sub('\\d+', 'XXX', s))"
   ]
  },
  {
   "cell_type": "code",
   "execution_count": 42,
   "metadata": {
    "collapsed": false,
    "slideshow": {
     "slide_type": "subslide"
    }
   },
   "outputs": [
    {
     "name": "stdout",
     "output_type": "stream",
     "text": [
      "<_sre.SRE_Match object; span=(0, 5), match='Achim'>\n",
      "None\n"
     ]
    }
   ],
   "source": [
    "# Treffer ab Anfang, mehr Info:\n",
    "print(re.match(r'\\w+', s))\n",
    "print(re.match(r'\\d+', s))"
   ]
  },
  {
   "cell_type": "code",
   "execution_count": 43,
   "metadata": {
    "collapsed": false,
    "slideshow": {
     "slide_type": "fragment"
    }
   },
   "outputs": [
    {
     "name": "stdout",
     "output_type": "stream",
     "text": [
      "<_sre.SRE_Match object; span=(40, 42), match='16'>\n"
     ]
    }
   ],
   "source": [
    "# Treffer irgendwo, mehr Info:\n",
    "print(re.search(r'\\d+', s))"
   ]
  },
  {
   "cell_type": "code",
   "execution_count": 50,
   "metadata": {
    "collapsed": false,
    "slideshow": {
     "slide_type": "fragment"
    }
   },
   "outputs": [
    {
     "name": "stdout",
     "output_type": "stream",
     "text": [
      "<_sre.SRE_Match object; span=(40, 42), match='16'>\n",
      "<_sre.SRE_Match object; span=(51, 55), match='1846'>\n"
     ]
    }
   ],
   "source": [
    "# Alle Treffer, mehr Info:\n",
    "for match in re.finditer(r'\\d+', s):\n",
    "    print(match)"
   ]
  },
  {
   "cell_type": "markdown",
   "metadata": {
    "slideshow": {
     "slide_type": "slide"
    }
   },
   "source": [
    "### Gruppierungen\n",
    "\n",
    "* Runde Klammern um einen Teilausdruck bilden eine **Gruppe**.\n",
    "* Quantoren gelten für die ganze Gruppe -> `(bla)+` matcht `blablabla`\n",
    "* Gruppen können separat referenziert werden"
   ]
  },
  {
   "cell_type": "code",
   "execution_count": 20,
   "metadata": {
    "collapsed": false,
    "slideshow": {
     "slide_type": "fragment"
    }
   },
   "outputs": [
    {
     "data": {
      "text/plain": [
       "('Frau Mustermann',)"
      ]
     },
     "execution_count": 20,
     "metadata": {},
     "output_type": "execute_result"
    }
   ],
   "source": [
    "s = \"Sehr geehrte Frau Mustermann,\"\n",
    "m = re.match(\"Sehr geehrter? (.*),\", s)\n",
    "m.groups()"
   ]
  },
  {
   "cell_type": "markdown",
   "metadata": {
    "slideshow": {
     "slide_type": "fragment"
    }
   },
   "source": [
    "Gruppen können mit `\\1`, `\\2`, ... auch innerhalb des Ausdrucks oder in einem Ersetzungsstring bei `re.sub` referenziert werden:\n"
   ]
  },
  {
   "cell_type": "code",
   "execution_count": 21,
   "metadata": {
    "collapsed": false,
    "slideshow": {
     "slide_type": "fragment"
    }
   },
   "outputs": [
    {
     "name": "stdout",
     "output_type": "stream",
     "text": [
      "n += 1; test += n; n = test + 1\n"
     ]
    }
   ],
   "source": [
    "expr = \"n = n + 1; test = test + n; n = test + 1\"\n",
    "simplified = re.sub(r\"(\\w+) = \\1 \\+ (\\w+)\",   # diese RE bildet zwei Gruppen, die in der RE (\\1) …\n",
    "                    r\"\\1 += \\2\",              # und im 'ersetzen'-String (\\1, \\2) referenziert werden\n",
    "                    expr)\n",
    "print(simplified)"
   ]
  },
  {
   "cell_type": "markdown",
   "metadata": {
    "slideshow": {
     "slide_type": "subslide"
    }
   },
   "source": [
    "### Aufgabe\n",
    "\n",
    "Datumsangaben erfolgen in der IT-Welt oft normalisiert nach ISO 8601 in der Form JJJJ-MM-TT. Schreiben Sie ein kleines Skript, das die Datumsangaben hier umformt:\n",
    "\n",
    "* `31.01.1900`\n",
    "* `07.10.2016`"
   ]
  },
  {
   "cell_type": "markdown",
   "metadata": {
    "slideshow": {
     "slide_type": "slide"
    }
   },
   "source": [
    "<h3>Greedy vs. Non-Greedy</h3>\n",
    "<p>Voreinstellung: greedy, d.h. das die größtmögliche Zeichenkette gesucht wird, die zum regulären Ausdruck passt.</p>\n",
    "<p>Durch ? nach dem Quantifier Umstellung auf non-greedy</p>\n",
    "\n",
    "Welches Ergebnis hat `re.findall(\"b.*t\", \"She booted the robot.\")`?"
   ]
  },
  {
   "cell_type": "code",
   "execution_count": 19,
   "metadata": {
    "collapsed": false,
    "slideshow": {
     "slide_type": "fragment"
    }
   },
   "outputs": [
    {
     "data": {
      "text/plain": [
       "['booted the robot']"
      ]
     },
     "execution_count": 19,
     "metadata": {},
     "output_type": "execute_result"
    }
   ],
   "source": [
    "re.findall(\"b.*t\", \"She booted the robot.\")"
   ]
  },
  {
   "cell_type": "code",
   "execution_count": 21,
   "metadata": {
    "collapsed": false,
    "slideshow": {
     "slide_type": "fragment"
    }
   },
   "outputs": [
    {
     "data": {
      "text/plain": [
       "['boot', 'bot']"
      ]
     },
     "execution_count": 21,
     "metadata": {},
     "output_type": "execute_result"
    }
   ],
   "source": [
    "re.findall(\"b.*?t\", \"She booted the robot.\")"
   ]
  },
  {
   "cell_type": "markdown",
   "metadata": {
    "slideshow": {
     "slide_type": "slide"
    }
   },
   "source": [
    "### Oder\n",
    "\n",
    "Mit `|` können Sie nach Alternativen suchen:"
   ]
  },
  {
   "cell_type": "code",
   "execution_count": 22,
   "metadata": {
    "collapsed": false,
    "slideshow": {
     "slide_type": "fragment"
    }
   },
   "outputs": [
    {
     "name": "stdout",
     "output_type": "stream",
     "text": [
      "Todesursache: Haibiss\n",
      "Todesursache: Piranhas\n",
      "Todesursache: Krokodile\n"
     ]
    }
   ],
   "source": [
    "for match in re.finditer(r\"(Hai|Krokodil|Piranha)\\w*\", \"Bond sollte schon durch Haibiss, Piranhas und Krokodile sterben.\"):\n",
    "    print(\"Todesursache:\", match.group(0))"
   ]
  },
  {
   "cell_type": "markdown",
   "metadata": {
    "slideshow": {
     "slide_type": "slide"
    }
   },
   "source": [
    "### Reguläre Ausdrücke anwenden (2)\n",
    "![Übersicht über das re-Modul](images/re-uebersicht.svg)"
   ]
  },
  {
   "cell_type": "markdown",
   "metadata": {
    "slideshow": {
     "slide_type": "notes"
    }
   },
   "source": [
    "* `re.compile` kompiliert einen regulären Ausdruck zu einem Objekt. Wenn Sie einen regulären Ausdruck oft benötigen (z.B. in einer Schleife), verwenden Sie diese Funktion (außerhalb der Schleife) und arbeiten mit dem Objekt, das sie zurückgibt: das ist schneller.\n",
    "* _Match-Objekte_ beschreiben einen Treffer in einem String genauer: Sie liefern z.B. Zugriff auf die einzelnen Gruppen und auf die genaue Stelle im Suchstring, an der der Ausdruck gematcht hat.\n",
    "* Die Funktionen/Methoden `match` und `search` liefern jeweils ein Match-Objekt: `match` matcht nur am _Beginn_ des Suchstrings, `search` findet den ersten Treffer (ggf. ab einem bestimmten Offset, lesen Sie dazu die Dokumentation zu den Funktionen). `finditer` liefert einen Iterator über alle Treffer, jeder Treffer wird als Matchobjekt zurückgegeben. Sie können darüber in einer `for`-Schleife iterieren:"
   ]
  },
  {
   "cell_type": "code",
   "execution_count": 23,
   "metadata": {
    "collapsed": false,
    "slideshow": {
     "slide_type": "notes"
    }
   },
   "outputs": [
    {
     "name": "stdout",
     "output_type": "stream",
     "text": [
      "An Position 22 steht die Zahl 3.\n",
      "An Position 39 steht die Zahl 55.\n",
      "An Position 42 steht die Zahl 60.\n"
     ]
    }
   ],
   "source": [
    "for match in re.finditer(\"\\d+\", \"Lesen Sie die Kapitel 3 und die Seiten 55-60\"):\n",
    "    print(\"An Position {} steht die Zahl {}.\".format(match.start(), match.group(0)))"
   ]
  },
  {
   "cell_type": "markdown",
   "metadata": {
    "slideshow": {
     "slide_type": "notes"
    }
   },
   "source": [
    "* `split` spaltet einen String an einem gegebenen regulären Ausdruck auf, liefert also quasi das Komplement zu `findall`:"
   ]
  },
  {
   "cell_type": "code",
   "execution_count": 24,
   "metadata": {
    "collapsed": false,
    "slideshow": {
     "slide_type": "notes"
    }
   },
   "outputs": [
    {
     "data": {
      "text/plain": [
       "['Hier', 'Nimm ein paar Sätze', 'Zerlegst du sie mir', '']"
      ]
     },
     "execution_count": 24,
     "metadata": {},
     "output_type": "execute_result"
    }
   ],
   "source": [
    "re.split(r'[,.;:!?]+\\s*', 'Hier: Nimm ein paar Sätze! Zerlegst du sie mir?')"
   ]
  },
  {
   "cell_type": "markdown",
   "metadata": {
    "slideshow": {
     "slide_type": "notes"
    }
   },
   "source": [
    "* mit `escape` können Sie alle potentiellen Metazeichen in einem String escapen:"
   ]
  },
  {
   "cell_type": "code",
   "execution_count": 25,
   "metadata": {
    "collapsed": false,
    "slideshow": {
     "slide_type": "notes"
    }
   },
   "outputs": [
    {
     "name": "stdout",
     "output_type": "stream",
     "text": [
      "Sonne\\,\\ Mond\\ \\[und\\]\\ Sterne\\*\\*\\*\n"
     ]
    }
   ],
   "source": [
    "print(re.escape(\"Sonne, Mond [und] Sterne***\"))"
   ]
  },
  {
   "cell_type": "markdown",
   "metadata": {
    "slideshow": {
     "slide_type": "slide"
    }
   },
   "source": [
    "<h3 style=\"color:green\">Übungsaufgaben</h3>\n",
    "<p>s = \"120313130414300312\" \n",
    "<ol>\n",
    "<li>Angenommen es handelt sich hier um drei Datumsangaben in Folge im Format TTMMJJ. Trennen Sie die Angaben durch einen Bindestrich: 120313-130414-300312</li>\n",
    "<li>Bearbeiten Sie den String weiter, so dass nun normale dt. Datumsangaben zu lesen sind: 12.03.13-13.04.14-30.03.12\n",
    "<li>Bearbeiten Sie den String s weiter, so dass am Ende amerikanische Datumsangaben dastehen: 03/12/13-...</li>\n",
    "</ol>"
   ]
  },
  {
   "cell_type": "code",
   "execution_count": 28,
   "metadata": {
    "collapsed": false,
    "slideshow": {
     "slide_type": "subslide"
    }
   },
   "outputs": [
    {
     "name": "stdout",
     "output_type": "stream",
     "text": [
      "120313-130414-300312\n"
     ]
    }
   ],
   "source": [
    "import re\n",
    "\n",
    "s = \"120313130414300312\"\n",
    "\n",
    "s1 = re.sub(r\"(\\d{6})\\B\", r\"\\1-\", s)\n",
    "print(s1)"
   ]
  },
  {
   "cell_type": "code",
   "execution_count": 29,
   "metadata": {
    "collapsed": false,
    "slideshow": {
     "slide_type": "fragment"
    }
   },
   "outputs": [
    {
     "name": "stdout",
     "output_type": "stream",
     "text": [
      "12.03.13-13.04.14-30.03.12\n"
     ]
    }
   ],
   "source": [
    "s2 = re.sub(r\"(\\d\\d)(\\d\\d)(\\d\\d)\", r\"\\1.\\2.\\3\", s1)\n",
    "print(s2)"
   ]
  },
  {
   "cell_type": "code",
   "execution_count": 31,
   "metadata": {
    "collapsed": false,
    "slideshow": {
     "slide_type": "fragment"
    }
   },
   "outputs": [
    {
     "name": "stdout",
     "output_type": "stream",
     "text": [
      "03/12/13-04/13/14-03/30/12\n"
     ]
    }
   ],
   "source": [
    "s3 = re.sub(r\"(\\d\\d)\\.(\\d\\d)\\.(\\d\\d)\", r\"\\2/\\1/\\3\", s2)\n",
    "print(s3)"
   ]
  },
  {
   "cell_type": "markdown",
   "metadata": {
    "slideshow": {
     "slide_type": "slide"
    }
   },
   "source": [
    "### Hausaufgabe\n",
    "\n",
    "Wir wollen unser Bag-of-Words-Modell professionalisieren. Schreiben Sie ein Skript, das mit jeder Textdatei (`*.txt`) aus einem Ordner folgendes tut:\n",
    "\n",
    "1. die Datei wird eingelesen\n",
    "2. der Inhalt der Datei wird in einzelne Wörter zerlegt, in Kleinschreibung. Diesmal akzeptieren wir als Wörter nur Sequenzen aus Buchstaben, d.h. sie sollten reguläre Ausdrücke verwenden statt `split()`. Wörter, die Zahlen oder Unterstriche enthalten, sollen Sie nicht mitberücksichtigen.\n",
    "3. die unterschiedlichen Wörter werden gezählt\n",
    "4. sie schreiben die Worthäufigeiten in eine Datei `dateiname.bow`. Diese Datei enthält eine Zeile pro Wort, die zunächst das Wort, dann ein Komma, und schließlich die Häufigkeit enthält.\n",
    "\n",
    "Beispiel: `beispiel.txt.bow`, Ausschnitt:\n",
    "\n",
    "```\n",
    "dampfschiff,2\n",
    "und,42\n",
    "die,20\n",
    "```"
   ]
  }
 ],
 "metadata": {
  "celltoolbar": "Slideshow",
  "kernelspec": {
   "display_name": "Python 3",
   "language": "python",
   "name": "python3"
  },
  "language_info": {
   "codemirror_mode": {
    "name": "ipython",
    "version": 3
   },
   "file_extension": ".py",
   "mimetype": "text/x-python",
   "name": "python",
   "nbconvert_exporter": "python",
   "pygments_lexer": "ipython3",
   "version": "3.5.3rc1"
  },
  "nav_menu": {},
  "toc": {
   "navigate_menu": true,
   "number_sections": false,
   "sideBar": true,
   "threshold": 6,
   "toc_cell": false,
   "toc_section_display": "block",
   "toc_window_display": false
  }
 },
 "nbformat": 4,
 "nbformat_minor": 0
}
