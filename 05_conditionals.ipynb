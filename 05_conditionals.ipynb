{
 "cells": [
  {
   "cell_type": "markdown",
   "metadata": {
    "slideshow": {
     "slide_type": "slide"
    }
   },
   "source": [
    "## Einführung in das Programmieren mit Python"
   ]
  },
  {
   "cell_type": "markdown",
   "metadata": {
    "slideshow": {
     "slide_type": "-"
    }
   },
   "source": [
    "# Bedingte Verzweigungen"
   ]
  },
  {
   "cell_type": "markdown",
   "metadata": {
    "slideshow": {
     "slide_type": "slide"
    }
   },
   "source": [
    "### Wiederholung: `for`-Schleife\n",
    "\n",
    "```python\n",
    "for element in liste:\n",
    "   mach_was(element)\n",
    "print(\"Alle Elemente abgearbeitet!\")\n",
    "```\n",
    "\n",
    "* _Iteration_ über eine Liste (oder etwas Listenartiges, z.B. einen String)\n",
    "* für jeden Eintrag: element = Listeneintrag, Code abarbeiten\n",
    "* Künstliche Liste mit range:\n",
    "\n",
    "    * `range(stop)` → `[0, 1, 2, …, stop-1]`\n",
    "    * `range(start, stop)` → `[start, start+1, start+2, …, stop-1]`\n",
    "    * `range(start, stop, step)` → `[start, start+step, start+2*step, …]`, letzter Wert < stop "
   ]
  },
  {
   "cell_type": "markdown",
   "metadata": {
    "slideshow": {
     "slide_type": "subslide"
    }
   },
   "source": [
    "### Aufgabe: Multiplizierprogramm\n",
    "\n",
    "- Benutzerin möge eingeben, wieviele Zahlen sie zu multiplizieren gedenkt\n",
    "- die entsprechende Anzahl Zahlen wird abgefragt\n",
    "- das Gesamtprodukt wird ausgegeben"
   ]
  },
  {
   "cell_type": "code",
   "execution_count": 26,
   "metadata": {
    "slideshow": {
     "slide_type": "subslide"
    }
   },
   "outputs": [
    {
     "name": "stdout",
     "output_type": "stream",
     "text": [
      "Wieviele Zahlen wollen Sie multiplizieren? 3\n",
      "1. Zahl? 5\n",
      "2. Zahl? 6\n",
      "3. Zahl? 10\n",
      "Das Produkt ist 300.0\n"
     ]
    }
   ],
   "source": [
    "# Multiplizierprogramm\n",
    "\n",
    "count = int(input(\"Wieviele Zahlen wollen Sie multiplizieren? \"))\n",
    "result = 1\n",
    "for i in range(count):\n",
    "    number = float(input(str(i+1) + \". Zahl? \"))\n",
    "    result = result * number\n",
    "print(\"Das Produkt ist\", result)"
   ]
  },
  {
   "cell_type": "markdown",
   "metadata": {
    "slideshow": {
     "slide_type": "slide"
    }
   },
   "source": [
    "### Bedingungen"
   ]
  },
  {
   "cell_type": "markdown",
   "metadata": {
    "slideshow": {
     "slide_type": "fragment"
    }
   },
   "source": [
    "Jeder Ausdruck, der einen Wahrheitswert (`True` oder `False`) zurückgibt, kann als Bedingung verwendet werden. Beispiele:"
   ]
  },
  {
   "cell_type": "code",
   "execution_count": 1,
   "metadata": {
    "slideshow": {
     "slide_type": "fragment"
    }
   },
   "outputs": [
    {
     "data": {
      "text/plain": [
       "False"
      ]
     },
     "execution_count": 1,
     "metadata": {},
     "output_type": "execute_result"
    }
   ],
   "source": [
    "x = 1 \n",
    "y = 0\n",
    "x == y      # testet, ob x gleich y; Achtung! Zwei '='"
   ]
  },
  {
   "cell_type": "code",
   "execution_count": 2,
   "metadata": {
    "slideshow": {
     "slide_type": "fragment"
    }
   },
   "outputs": [
    {
     "data": {
      "text/plain": [
       "True"
      ]
     },
     "execution_count": 2,
     "metadata": {},
     "output_type": "execute_result"
    }
   ],
   "source": [
    "x != y      #testet auf Ungleichheit. "
   ]
  },
  {
   "cell_type": "code",
   "execution_count": 3,
   "metadata": {
    "slideshow": {
     "slide_type": "fragment"
    }
   },
   "outputs": [
    {
     "data": {
      "text/plain": [
       "True"
      ]
     },
     "execution_count": 3,
     "metadata": {},
     "output_type": "execute_result"
    }
   ],
   "source": [
    "x > y      #testet ob x größer als y"
   ]
  },
  {
   "cell_type": "code",
   "execution_count": 4,
   "metadata": {
    "slideshow": {
     "slide_type": "fragment"
    }
   },
   "outputs": [
    {
     "data": {
      "text/plain": [
       "False"
      ]
     },
     "execution_count": 4,
     "metadata": {},
     "output_type": "execute_result"
    }
   ],
   "source": [
    "x <= y        #testet, ob x kleiner oder gleich y ist"
   ]
  },
  {
   "cell_type": "markdown",
   "metadata": {
    "slideshow": {
     "slide_type": "subslide"
    }
   },
   "source": [
    "<h3>Viele Operationen und Funktionen geben True oder False zurück:</h3>"
   ]
  },
  {
   "cell_type": "code",
   "execution_count": 90,
   "metadata": {
    "slideshow": {
     "slide_type": "fragment"
    }
   },
   "outputs": [
    {
     "data": {
      "text/plain": [
       "True"
      ]
     },
     "execution_count": 90,
     "metadata": {},
     "output_type": "execute_result"
    }
   ],
   "source": [
    "\"AU\"  in \"LAUFEN\"      #testet, ob \"AU\" in \"LAUFEN\" enthalten ist"
   ]
  },
  {
   "cell_type": "code",
   "execution_count": 91,
   "metadata": {
    "slideshow": {
     "slide_type": "fragment"
    }
   },
   "outputs": [
    {
     "data": {
      "text/plain": [
       "True"
      ]
     },
     "execution_count": 91,
     "metadata": {},
     "output_type": "execute_result"
    }
   ],
   "source": [
    "ml = [1,2,3,4]   \n",
    "2 in ml        #testet ob 2 ein Element der Liste ml ist"
   ]
  },
  {
   "cell_type": "code",
   "execution_count": 1,
   "metadata": {
    "slideshow": {
     "slide_type": "fragment"
    }
   },
   "outputs": [
    {
     "data": {
      "text/plain": [
       "False"
      ]
     },
     "execution_count": 1,
     "metadata": {},
     "output_type": "execute_result"
    }
   ],
   "source": [
    "chars = dict(a=1, b=3, c=5)\n",
    "\"d\" in chars  # testet ob d ein Key im Dictionary chars ist \n",
    "              # (also Kurzform für \"d\" in chars.keys()"
   ]
  },
  {
   "cell_type": "code",
   "execution_count": 36,
   "metadata": {
    "slideshow": {
     "slide_type": "fragment"
    }
   },
   "outputs": [
    {
     "data": {
      "text/plain": [
       "(True, False)"
      ]
     },
     "execution_count": 36,
     "metadata": {},
     "output_type": "execute_result"
    }
   ],
   "source": [
    "s = \"42\"\n",
    "t = \"zweiundvierzig\"\n",
    "s.isnumeric(), t.isnumeric()"
   ]
  },
  {
   "cell_type": "markdown",
   "metadata": {
    "slideshow": {
     "slide_type": "skip"
    }
   },
   "source": [
    "''Modulo'' berechnet den Rest einer Division:<br/>\n",
    "10 modulo 4 bedeutet also: Dividiere 10 durch 4 und erhalte den Rest.\n",
    "10 / 4  = 2*4 + 2, dh. 10 Modulo 4 = 2<br/>\n",
    "Syntax in Python 10 % 4 \n"
   ]
  },
  {
   "cell_type": "code",
   "execution_count": 37,
   "metadata": {
    "slideshow": {
     "slide_type": "skip"
    }
   },
   "outputs": [
    {
     "data": {
      "text/plain": [
       "2"
      ]
     },
     "execution_count": 37,
     "metadata": {},
     "output_type": "execute_result"
    }
   ],
   "source": [
    "10 % 4"
   ]
  },
  {
   "cell_type": "code",
   "execution_count": 38,
   "metadata": {
    "slideshow": {
     "slide_type": "skip"
    }
   },
   "outputs": [
    {
     "data": {
      "text/plain": [
       "3"
      ]
     },
     "execution_count": 38,
     "metadata": {},
     "output_type": "execute_result"
    }
   ],
   "source": [
    "13 % 5"
   ]
  },
  {
   "cell_type": "markdown",
   "metadata": {
    "slideshow": {
     "slide_type": "slide"
    }
   },
   "source": [
    "<h3 style=\"color:green\">Aufgaben</h3>\n",
    "\n",
    "1. Definieren Sie `a = 1` und `b = -1`. Testen Sie, ob `a` kleiner ist als `b`.\n",
    "4. Testen Sie, ob `2134` eine gerade Zahl ist."
   ]
  },
  {
   "cell_type": "markdown",
   "metadata": {
    "slideshow": {
     "slide_type": "subslide"
    },
    "solution2": "shown",
    "solution2_first": true
   },
   "source": [
    "<h3>Musterlösung</h3>\n",
    "<p>Testen Sie, ob a kleiner ist als b "
   ]
  },
  {
   "cell_type": "code",
   "execution_count": 39,
   "metadata": {
    "slideshow": {
     "slide_type": "fragment"
    },
    "solution2": "shown"
   },
   "outputs": [
    {
     "data": {
      "text/plain": [
       "False"
      ]
     },
     "execution_count": 39,
     "metadata": {},
     "output_type": "execute_result"
    }
   ],
   "source": [
    "a = 1\n",
    "b = -1\n",
    "a < b"
   ]
  },
  {
   "cell_type": "markdown",
   "metadata": {
    "slideshow": {
     "slide_type": "fragment"
    },
    "solution2": "shown"
   },
   "source": [
    "2) Testen Sie, ob 2134 eine gerade Zahl ist"
   ]
  },
  {
   "cell_type": "code",
   "execution_count": 42,
   "metadata": {
    "slideshow": {
     "slide_type": "fragment"
    },
    "solution2": "shown"
   },
   "outputs": [
    {
     "data": {
      "text/plain": [
       "True"
      ]
     },
     "execution_count": 42,
     "metadata": {},
     "output_type": "execute_result"
    }
   ],
   "source": [
    "2134 % 2 == 0"
   ]
  },
  {
   "cell_type": "markdown",
   "metadata": {
    "slideshow": {
     "slide_type": "slide"
    }
   },
   "source": [
    "<h3>Zusammengesetzte Bedingungen</h3>\n",
    "\n",
    "<p>&lt;bedingung> `and` &lt;bedingung>  <br/>   \n",
    "=> wahr, wenn beide Bedingungen wahr sind. \n",
    "\n",
    "<p>&lt;bedingung> `or` &lt;bedingung> <br/>\n",
    "=> wahr, wenn mindestens eine der Bedingungen wahr ist\n",
    "\n",
    "<p>`not` &lt;bedingung> <br/>\n",
    "=> wahr gdw. &lt;bedingung> falsch ist\n",
    "\n",
    "**Boolesche Operatoren**"
   ]
  },
  {
   "cell_type": "markdown",
   "metadata": {
    "slideshow": {
     "slide_type": "subslide"
    }
   },
   "source": [
    "## Wahrheitstabelle Konjunktion (∧, und)\n",
    "\n",
    "```python\n",
    "True  and True  == True\n",
    "True  and False == False\n",
    "False and True  == False\n",
    "False and False == False\n",
    "```\n",
    "\n",
    "## Wahrheitstabelle Disjunktion (∨, oder)\n",
    "\n",
    "```python\n",
    "True  or True  == True\n",
    "True  or False == True\n",
    "False or True  == True\n",
    "False or False == False\n",
    "```"
   ]
  },
  {
   "cell_type": "code",
   "execution_count": 1,
   "metadata": {
    "slideshow": {
     "slide_type": "fragment"
    }
   },
   "outputs": [
    {
     "data": {
      "text/plain": [
       "False"
      ]
     },
     "execution_count": 1,
     "metadata": {},
     "output_type": "execute_result"
    }
   ],
   "source": [
    "a = True\n",
    "b = False\n",
    "a and b"
   ]
  },
  {
   "cell_type": "code",
   "execution_count": 2,
   "metadata": {
    "slideshow": {
     "slide_type": "fragment"
    }
   },
   "outputs": [
    {
     "data": {
      "text/plain": [
       "True"
      ]
     },
     "execution_count": 2,
     "metadata": {},
     "output_type": "execute_result"
    }
   ],
   "source": [
    "a or b"
   ]
  },
  {
   "cell_type": "code",
   "execution_count": 45,
   "metadata": {
    "slideshow": {
     "slide_type": "fragment"
    }
   },
   "outputs": [
    {
     "data": {
      "text/plain": [
       "True"
      ]
     },
     "execution_count": 45,
     "metadata": {},
     "output_type": "execute_result"
    }
   ],
   "source": [
    "a and not b"
   ]
  },
  {
   "cell_type": "markdown",
   "metadata": {
    "slideshow": {
     "slide_type": "slide"
    }
   },
   "source": [
    "<h3 style=\"color:green\">Aufgaben</h3>\n",
    "\n",
    "1. Testen Sie, ob 3457 eine grade Zahl ist und kleiner als 34 im Quadrat\n",
    "2. Gegeben sind a = \"Wiederholung\" und b = \"Repetition\". Testen Sie, ob in einem der beidem Strings \"der\" enthalten ist."
   ]
  },
  {
   "cell_type": "markdown",
   "metadata": {
    "slideshow": {
     "slide_type": "slide"
    },
    "solution2": "hidden",
    "solution2_first": true
   },
   "source": [
    "<h3>Musterlösung</h3>\n",
    "<p>1) Testen Sie, ob 3457 eine grade Zahl ist und kleiner als 34 im Quadrat"
   ]
  },
  {
   "cell_type": "code",
   "execution_count": 9,
   "metadata": {
    "slideshow": {
     "slide_type": "fragment"
    },
    "solution2": "hidden"
   },
   "outputs": [
    {
     "data": {
      "text/plain": [
       "False"
      ]
     },
     "execution_count": 9,
     "metadata": {},
     "output_type": "execute_result"
    }
   ],
   "source": [
    "3457 % 2 == 0 and 3457 < 34 ** 2 "
   ]
  },
  {
   "cell_type": "markdown",
   "metadata": {
    "slideshow": {
     "slide_type": "fragment"
    },
    "solution2": "hidden"
   },
   "source": [
    "2) Gegeben sind a = \"Wiederholung\" und b = \"Repetition\". Testen Sie ob in einem der beidem Strings \"der\" enthalten ist."
   ]
  },
  {
   "cell_type": "code",
   "execution_count": 2,
   "metadata": {
    "slideshow": {
     "slide_type": "fragment"
    },
    "solution2": "hidden"
   },
   "outputs": [
    {
     "data": {
      "text/plain": [
       "True"
      ]
     },
     "execution_count": 2,
     "metadata": {},
     "output_type": "execute_result"
    }
   ],
   "source": [
    "a = \"Wiederholung\"\n",
    "b = \"Reptition\"\n",
    "\"der\" in a or \"der\" in b"
   ]
  },
  {
   "cell_type": "markdown",
   "metadata": {
    "slideshow": {
     "slide_type": "slide"
    }
   },
   "source": [
    "### Operatoren und Prioritäten\n",
    "\n",
    "* Wie werden Teilausdrücke gebildet?\n",
    "* In welcher Reihenfolge werden die Operatoren ausgeführt?\n",
    "\n",
    "`4 + 3 * 2`"
   ]
  },
  {
   "cell_type": "markdown",
   "metadata": {
    "slideshow": {
     "slide_type": "subslide"
    }
   },
   "source": [
    "### Priorität\n",
    "\n",
    "* `and` und `or` und `not` binden schwächer als Vergleichsoperatoren\n",
    "* Vergleichsoperatoren binden schwächer als Rechenoperatoren\n",
    "* links und rechts müssen Teilausdrücke stehen, die zu Wahrheitswerten ausgewertet werden"
   ]
  },
  {
   "cell_type": "code",
   "execution_count": 7,
   "metadata": {
    "slideshow": {
     "slide_type": "-"
    }
   },
   "outputs": [
    {
     "data": {
      "text/plain": [
       "True"
      ]
     },
     "execution_count": 7,
     "metadata": {},
     "output_type": "execute_result"
    }
   ],
   "source": [
    "1 < 2 and 3 < 2 + 2"
   ]
  },
  {
   "cell_type": "code",
   "execution_count": 8,
   "metadata": {
    "scrolled": true,
    "slideshow": {
     "slide_type": "-"
    }
   },
   "outputs": [
    {
     "data": {
      "text/plain": [
       "True"
      ]
     },
     "execution_count": 8,
     "metadata": {},
     "output_type": "execute_result"
    }
   ],
   "source": [
    "(1 < 2) and (3 < (2 + 2))"
   ]
  },
  {
   "cell_type": "code",
   "execution_count": 4,
   "metadata": {
    "slideshow": {
     "slide_type": "fragment"
    }
   },
   "outputs": [
    {
     "data": {
      "text/plain": [
       "True"
      ]
     },
     "execution_count": 4,
     "metadata": {},
     "output_type": "execute_result"
    }
   ],
   "source": [
    "4 + 3 * 2 <= 10 or (4 + 3) * 2 > 14"
   ]
  },
  {
   "cell_type": "markdown",
   "metadata": {
    "slideshow": {
     "slide_type": "subslide"
    }
   },
   "source": [
    "### Operatoren und Prioritäten\n",
    "\n",
    "```\n",
    "or                                                       # bindet schwächer\n",
    "and\n",
    "not x\n",
    "in, not in, is, is not, <, <=, >, >=, !=, ==\n",
    "|                                                        # bitweise Operatoren\n",
    "^                                                        \n",
    "&                                                        \n",
    "<<, >>                                                   \n",
    "+, -\n",
    "*, /, //, %\n",
    "+x, -x, ~x\n",
    "**\n",
    "x[index], x[index:index], x(arguments...), x.attribute\n",
    "(expressions...), [expressions...], {key: value...}, {expressions...} # stärker\n",
    "```"
   ]
  },
  {
   "cell_type": "code",
   "execution_count": 11,
   "metadata": {
    "slideshow": {
     "slide_type": "fragment"
    }
   },
   "outputs": [],
   "source": [
    "a =  True or True and False\n",
    "b = (True or True) and False"
   ]
  },
  {
   "cell_type": "code",
   "execution_count": 12,
   "metadata": {
    "slideshow": {
     "slide_type": "fragment"
    }
   },
   "outputs": [
    {
     "name": "stdout",
     "output_type": "stream",
     "text": [
      "a = True • b = False\n"
     ]
    }
   ],
   "source": [
    "print(\"a =\", a, \"• b =\", b)"
   ]
  },
  {
   "cell_type": "markdown",
   "metadata": {
    "slideshow": {
     "slide_type": "slide"
    }
   },
   "source": [
    "<h3>Programmkontrolle: Bedingte Verzweigung</h3>\n",
    "<p>Mit if kann man den Programmablauf abhängig vom Wahrheitswert von Bedingungen verzweigen lassen. Einfachster Fall:\n",
    "<p>\n",
    "<img src=\"files/images/if_simple.png\" width=\"50%\" height=\"50%\" border=\"0\" alt=\"\">    "
   ]
  },
  {
   "cell_type": "code",
   "execution_count": 76,
   "metadata": {
    "slideshow": {
     "slide_type": "fragment"
    }
   },
   "outputs": [
    {
     "name": "stdout",
     "output_type": "stream",
     "text": [
      "Surprisingly, a is one\n"
     ]
    }
   ],
   "source": [
    "a = 1\n",
    "if a == 1:\n",
    "    print (\"Surprisingly, a is one\")"
   ]
  },
  {
   "cell_type": "markdown",
   "metadata": {
    "slideshow": {
     "slide_type": "slide"
    }
   },
   "source": [
    "### Aufgaben\n",
    "\n",
    "1. Schreiben Sie ein Skript, das den Benutzer fragt: `Selbstzerstörungsmechanismus aktivieren?`. Antwortet der Benutzer mit `ja`, möge das Skript `BUMM` auf den Bildschirm schreiben (es ist nur eine Simulation).\n",
    "2. Modifizieren Sie das Skript so, dass es `ja` oder `yes` in Groß- oder Kleinschreibung akzeptiert"
   ]
  },
  {
   "cell_type": "markdown",
   "metadata": {
    "slideshow": {
     "slide_type": "slide"
    },
    "solution2": "hidden",
    "solution2_first": true
   },
   "source": [
    "<h3>Musterlösung</h3>\n",
    "1) Gegeben ist a = \"aus\" und b = \"Das Haus steht leer\". Schreiben Sie ein Script, dass für den Fall, dass a in b enthalten ist, ausgibt: \"aus\" ist in dem String \"Das Haus steht leer\" enthalten."
   ]
  },
  {
   "cell_type": "code",
   "execution_count": 5,
   "metadata": {
    "slideshow": {
     "slide_type": "fragment"
    },
    "solution2": "hidden"
   },
   "outputs": [
    {
     "name": "stdout",
     "output_type": "stream",
     "text": [
      "Selbstzerstörungsmechanismus aktivieren? nö\n",
      "Selbstzerstörungsmechanismus aktivieren? JA\n",
      "BUMM!\n"
     ]
    }
   ],
   "source": [
    "# 1.\n",
    "destroy = input(\"Selbstzerstörungsmechanismus aktivieren? \")\n",
    "if destroy == \"ja\":\n",
    "    print(\"BUMM!\")\n",
    "    \n",
    "# 2.\n",
    "destroy = input(\"Selbstzerstörungsmechanismus aktivieren? \")\n",
    "if destroy.lower() == \"ja\" or destroy.lower() == \"yes\":\n",
    "    print(\"BUMM!\")"
   ]
  },
  {
   "cell_type": "markdown",
   "metadata": {
    "slideshow": {
     "slide_type": "slide"
    }
   },
   "source": [
    "<h3>Bedingungen: if – else </h3>\n",
    "<p>Mit else kann man festlegen, welcher Code ausgeführt werden soll, wenn die Bedingung _nicht_ wahr ist:\n",
    "<p>\n",
    "<img src=\"files/images/if_else.png\" width=\"50%\" height=\"50%\" border=\"0\" alt=\"\">    "
   ]
  },
  {
   "cell_type": "code",
   "execution_count": 79,
   "metadata": {
    "slideshow": {
     "slide_type": "fragment"
    }
   },
   "outputs": [
    {
     "name": "stdout",
     "output_type": "stream",
     "text": [
      "a ungleich 1\n"
     ]
    }
   ],
   "source": [
    "a = 2\n",
    "if a == 1:\n",
    "    print (\"a gleich 1\")\n",
    "else: \n",
    "    print (\"a ungleich 1\")"
   ]
  },
  {
   "cell_type": "markdown",
   "metadata": {
    "slideshow": {
     "slide_type": "slide"
    }
   },
   "source": [
    "<h3>Gereihte Bedingungen mit elif</h3>\n",
    "<p>Will man überprüfen, ob eine von mehreren Bedingungen wahr ist, verwendet man eine Reihe von if – elif – [elif] – else:"
   ]
  },
  {
   "cell_type": "markdown",
   "metadata": {
    "slideshow": {
     "slide_type": "slide"
    }
   },
   "source": [
    "<pre>\n",
    "if &lt;bedingung>:\n",
    "\tcode\n",
    "elif &lt;bedingung>:\n",
    "\tcode\n",
    "[...]\n",
    "else:\n",
    "\tcode\n",
    "</pre>"
   ]
  },
  {
   "cell_type": "code",
   "execution_count": 80,
   "metadata": {
    "slideshow": {
     "slide_type": "fragment"
    }
   },
   "outputs": [
    {
     "name": "stdout",
     "output_type": "stream",
     "text": [
      "c ist z\n"
     ]
    }
   ],
   "source": [
    "c = \"z\"\n",
    "if c == \"x\":\n",
    "    print(\"c ist x\")\n",
    "elif c == \"y\": \n",
    "    print(\"c ist y\")    \n",
    "elif c == \"z\":\n",
    "    print(\"c ist z\")    \n",
    "else: \n",
    "    print(\"c ist weder x noch y noch z\")    "
   ]
  },
  {
   "cell_type": "markdown",
   "metadata": {
    "slideshow": {
     "slide_type": "slide"
    }
   },
   "source": [
    "<h3 style=\"color:green\">Aufgabe</h3>\n",
    "\n",
    "Lassen Sie eine Zahl eingeben. Wenn die Eingabe kleiner ist als 7, dann lautet die Ausgabe: \"Gesuchte Zahl ist größer\", wenn die Zahl größer ist als 7, dann lautet die Ausgabe: \"Gesuchte Zahl ist kleiner\". Wenn die Zahl genau 7 ist, dann lautet die Ausgabe \"Zahl gefunden\". Spielen Sie das mit sinnvollen Werten durch."
   ]
  },
  {
   "cell_type": "markdown",
   "metadata": {
    "slideshow": {
     "slide_type": "slide"
    }
   },
   "source": [
    "### Musterlösung\n"
   ]
  },
  {
   "cell_type": "code",
   "execution_count": 7,
   "metadata": {
    "slideshow": {
     "slide_type": "fragment"
    }
   },
   "outputs": [
    {
     "name": "stdout",
     "output_type": "stream",
     "text": [
      "Zahl? 7\n",
      "Zahl gefunden\n"
     ]
    }
   ],
   "source": [
    "zahl = float(input(\"Zahl? \"))\n",
    "if zahl < 7:\n",
    "    print(\"Gesuchte Zahl ist größer\")\n",
    "elif zahl == 7:\n",
    "    print(\"Zahl gefunden\")\n",
    "else:\n",
    "    print(\"Gesuchte Zahl ist kleiner\")"
   ]
  },
  {
   "cell_type": "markdown",
   "metadata": {
    "slideshow": {
     "slide_type": "subslide"
    }
   },
   "source": [
    "### Kombinierte Statements\n",
    "\n",
    "Schleifen und Bedingungen lassen sich beliebig schachteln – die Einrückungsstufe gibt die Zuordnung zum entsprechenden Block an."
   ]
  },
  {
   "cell_type": "code",
   "execution_count": 11,
   "metadata": {
    "slideshow": {
     "slide_type": "-"
    }
   },
   "outputs": [
    {
     "name": "stdout",
     "output_type": "stream",
     "text": [
      "0 ist gerade.\n",
      "0 ist durch drei teilbar.\n",
      "2 ist gerade.\n",
      "3 ist durch drei teilbar.\n",
      "4 ist gerade.\n",
      "6 ist gerade.\n",
      "6 ist durch drei teilbar.\n",
      "8 ist gerade.\n",
      "9 ist durch drei teilbar.\n"
     ]
    }
   ],
   "source": [
    "for i in range(10):\n",
    "    if i % 2 == 0:\n",
    "        print(i, \"ist gerade.\")\n",
    "    if i % 3 == 0:\n",
    "        print(i, \"ist durch drei teilbar.\")    "
   ]
  },
  {
   "cell_type": "markdown",
   "metadata": {
    "slideshow": {
     "slide_type": "subslide"
    }
   },
   "source": [
    "Mit `break` können Sie die aktuelle Schleife abbrechen, z.B. wenn eine Bedingung erfüllt ist:"
   ]
  },
  {
   "cell_type": "code",
   "execution_count": 11,
   "metadata": {},
   "outputs": [
    {
     "name": "stdout",
     "output_type": "stream",
     "text": [
      "1 3 6 10 15 21 28 36 45 55 | i = 10\n"
     ]
    }
   ],
   "source": [
    "total = 0\n",
    "for i in range(1, 100):\n",
    "    total += i\n",
    "    print(total, end=' ')\n",
    "    if total > 50:    \n",
    "        break\n",
    "print(\"| i =\", i)"
   ]
  },
  {
   "cell_type": "markdown",
   "metadata": {
    "slideshow": {
     "slide_type": "slide"
    }
   },
   "source": [
    "### Übung\n",
    "\n",
    "Mit `from random import randint` machen Sie eine Funktion `randint(a, b)` zugänglich, die eine Zufallszahl (int) von `a` bis `b` zurückgibt, beide Grenzen inclusive. Probieren Sie's aus:"
   ]
  },
  {
   "cell_type": "code",
   "execution_count": 13,
   "metadata": {
    "slideshow": {
     "slide_type": "-"
    }
   },
   "outputs": [
    {
     "data": {
      "text/plain": [
       "502"
      ]
     },
     "execution_count": 13,
     "metadata": {},
     "output_type": "execute_result"
    }
   ],
   "source": [
    "from random import randint\n",
    "randint(10, 1000)"
   ]
  },
  {
   "cell_type": "markdown",
   "metadata": {
    "slideshow": {
     "slide_type": "-"
    }
   },
   "source": [
    "Schreiben Sie analog zur letzten Übung ein Zahlenrateprogramm. Das Programm erzeugt zunächst eine zu erratende Zufallszahl von 0 bis 100. Ihr Benutzer darf dann bis zu zehn mal raten, sie verraten, ob die Eingabe zu hoch / zu niedrig ist und brechen mit einer Erfolgsmeldung ab, wenn die Zahl erfolgreich geraten wurde.\n",
    "\n",
    "(Wieviele Versuche benötigt ein kluger Rater maximal?)"
   ]
  },
  {
   "cell_type": "code",
   "execution_count": 23,
   "metadata": {
    "slideshow": {
     "slide_type": "slide"
    }
   },
   "outputs": [
    {
     "name": "stdout",
     "output_type": "stream",
     "text": [
      "Zahl eingeben, 1. Versuch: 50\n",
      "Die gesuchte Zahl ist größer.\n",
      "Zahl eingeben, 2. Versuch: 75\n",
      "Die gesuchte Zahl ist kleiner.\n",
      "Zahl eingeben, 3. Versuch: 62\n",
      "Die gesuchte Zahl ist größer.\n",
      "Zahl eingeben, 4. Versuch: 70\n",
      "Die gesuchte Zahl ist größer.\n",
      "Zahl eingeben, 5. Versuch: 73\n",
      "Die gesuchte Zahl ist größer.\n",
      "Zahl eingeben, 6. Versuch: 74\n",
      "Yippie! Richtig geraten!\n"
     ]
    }
   ],
   "source": [
    "from random import randint\n",
    "guessme = randint(0, 100)\n",
    "\n",
    "for attempt in range(10):\n",
    "    guess = int(input(\"Zahl eingeben, \" + str(attempt+1)+\". Versuch: \"))\n",
    "    if guess == guessme:\n",
    "        print(\"Yippie! Richtig geraten!\")\n",
    "        break\n",
    "    elif guessme < guess:\n",
    "        print(\"Die gesuchte Zahl ist kleiner.\")\n",
    "    else:\n",
    "        print(\"Die gesuchte Zahl ist größer.\")\n",
    "        \n",
    "if guess != guessme:\n",
    "    print(\"Vielleicht das nächste mal etwas geschickter raten?\")"
   ]
  },
  {
   "cell_type": "markdown",
   "metadata": {
    "slideshow": {
     "slide_type": "subslide"
    }
   },
   "source": [
    "Die optimale Lösungsstrategie besteht darin, immer die Zahl in der Mitte des Kandidatenintervalls zu raten und so den Suchraum jeweils zu halbieren. Dieses Verfahren nennt man [Binäre Suche](https://de.wikipedia.org/wiki/Binäre_Suche). Hier sind für $n$ zu ratende Zahlen maximal $\\lceil\\log_2(n+1)\\rceil$ Versuche nötig, in unserem Fall also $\\lceil\\log_2(102)\\rceil = \\lceil 6.672 \\rceil = 7$"
   ]
  },
  {
   "cell_type": "markdown",
   "metadata": {
    "slideshow": {
     "slide_type": "slide"
    }
   },
   "source": [
    "### Zusammengesetzte Statements\n",
    "\n",
    "![Ein- und Ausrückungen markieren zusammengehörige Statements (suite)](images/indent.png)"
   ]
  },
  {
   "cell_type": "markdown",
   "metadata": {
    "slideshow": {
     "slide_type": "-"
    }
   },
   "source": [
    "* Einrückung ist in Python bedeutungstragend\n",
    "* aufeinanderfolgende Elemente mit gleicher (Mindest-)Zahl von Leerzeichen bilden eine Folge (_suite_)\n",
    "* **Ausrückung** muss auf eine der vorherigen Einrückungsstufen gehen"
   ]
  },
  {
   "cell_type": "markdown",
   "metadata": {},
   "source": [
    "### Hausaufgabe\n",
    "\n",
    "Caesar verwendete eine einfache Schiebechiffre, um militärische Nachrichten zu verschleiern: dazu ersetzte er jeden Buchstaben jeweils durch das um drei Stellen im Alphabet verschobene Zeichen. Aus A wurde also D, B → E usw. Die letzten Buchstaben im Alphabet werden dann zu den ersten: X → A, Y → B, Z → C. Das Verfahren kann man variieren, indem man um eine andere Anzahl von Buchstaben $n$ verschiebt; und man kann den Text wieder entschlüsseln, indem man um $-n$ (entspricht $26 - n$) Zeichen verschiebt.\n",
    "\n",
    "Implementieren Sie ein Programm, das die Caesar-Chiffre für beliebige Verschiebungen von -25 bis +25 implementiert. Wir verschlüsseln dabei nur die Großbuchstaben von A bis Z, alle anderen Zeichen bleiben unangetastet.\n",
    "\n",
    "#### Vorgehen bei der Implementierung:\n",
    "\n",
    "1. Fragen Sie vom Benutzer wird den zu ver-/entschlüsselnde Text ab. Diesen Text wandeln Sie dann in Großbuchstaben – `help(str)` verrät Ihnen die entsprechende Methode.\n",
    "2. Fragen Sie die Anzahl der Stellen $n$, um die Sie verschieben wollen, abgefragt. Hinweis: Eine Rückwärtsverschiebung ($-n$) entspricht einer Vorwärtsverschiebung um $26-n$.\n",
    "3. Nun gehen Sie den in Großbuchstaben gewandelten Text zeichenweise durch. Für jedes Zeichen prüfen Sie, ob es in A-Z ist. Falls nein, wird es einfach so an das Ergebnis angehängt, wie es ist. Falls ja, addieren Sie $n$. Falls das Ergebnis jenseits von Z ist, ziehen Sie 26 ab. \n",
    "4. Fügen Sie das Ergebnis wieder zu einem String zusammen und geben Sie es aus.\n",
    "\n",
    "#### Tipps:\n",
    "\n",
    "* Sie erinnern sich sicher, dass Sie einen String wie eine nicht änderbare Liste von Zeichen verwenden können.\n",
    "* Natürlich können Sie nicht einfach auf ein Zeichen etwas addieren. Allerdings gibt es die in Python eingebauten Funktionen `ord(chr)` und `chr(int)`: `ord` wandelt ein Zeichen in dessen Unicode-Position (als `int`), `chr` wandelt die Unicode-Position (als `int`) wieder in das entsprechende Zeichen. Und A bis Z liegen im Unicode passenderweise direkt hintereinander. Probieren Sie’s aus.\n",
    "* Wenn Sie eine Liste von Strings bzw. Buchstaben wieder zu einem String zusammensetzen wollen, können Sie `\"Trennzeichen\".join(liste)` verwenden. D.h. `\" + \".join([\"Maria\", \"Max\", \"Moritz\"])` erzeugt `\"Maria + Max + Moritz\"` und `\"\".join(['C', 'A', 'E', 'S', 'A', 'R'])` wird zu `\"CAESAR\"`."
   ]
  },
  {
   "cell_type": "code",
   "execution_count": 1,
   "metadata": {},
   "outputs": [
    {
     "name": "stdout",
     "output_type": "stream",
     "text": [
      "Zu verschlüsselnde Nachricht: Gallia est omnis divisa in partes tres, quarum unam incolunt Belgae, aliam Aquitani, tertiam, qui ipsorum lingua Celtae, nostra Galli appellantur.\n",
      "Um wieviele Zeichen? [±1-25] 3\n",
      "JDOOLD HVW RPQLV GLYLVD LQ SDUWHV WUHV, TXDUXP XQDP LQFROXQW EHOJDH, DOLDP DTXLWDQL, WHUWLDP, TXL LSVRUXP OLQJXD FHOWDH, QRVWUD JDOOL DSSHOODQWXU.\n"
     ]
    }
   ],
   "source": []
  },
  {
   "cell_type": "code",
   "execution_count": null,
   "metadata": {
    "collapsed": true
   },
   "outputs": [],
   "source": []
  }
 ],
 "metadata": {
  "celltoolbar": "Slideshow",
  "kernelspec": {
   "display_name": "Python 3",
   "language": "python",
   "name": "python3"
  },
  "language_info": {
   "codemirror_mode": {
    "name": "ipython",
    "version": 3
   },
   "file_extension": ".py",
   "mimetype": "text/x-python",
   "name": "python",
   "nbconvert_exporter": "python",
   "pygments_lexer": "ipython3",
   "version": "3.6.7"
  },
  "nav_menu": {},
  "toc": {
   "navigate_menu": true,
   "number_sections": false,
   "sideBar": true,
   "threshold": 6,
   "toc_cell": false,
   "toc_section_display": "block",
   "toc_window_display": true
  }
 },
 "nbformat": 4,
 "nbformat_minor": 1
}
