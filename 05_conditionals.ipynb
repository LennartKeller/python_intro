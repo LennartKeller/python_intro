{
 "cells": [
  {
   "cell_type": "markdown",
   "metadata": {
    "slideshow": {
     "slide_type": "slide"
    }
   },
   "source": [
    "## Einführung in das Programmieren mit Python"
   ]
  },
  {
   "cell_type": "markdown",
   "metadata": {
    "slideshow": {
     "slide_type": "slide"
    }
   },
   "source": [
    "# Bedingte Verzweigungen"
   ]
  },
  {
   "cell_type": "markdown",
   "metadata": {
    "slideshow": {
     "slide_type": "subslide"
    }
   },
   "source": [
    "### Bedingungen"
   ]
  },
  {
   "cell_type": "markdown",
   "metadata": {
    "slideshow": {
     "slide_type": "fragment"
    }
   },
   "source": [
    "Jeder Ausdruck, der einen Wahrheitswert (`True` oder `False`) zurückgibt, kann als Bedingung verwendet werden. Beispiele:"
   ]
  },
  {
   "cell_type": "code",
   "execution_count": 1,
   "metadata": {
    "collapsed": false,
    "slideshow": {
     "slide_type": "fragment"
    }
   },
   "outputs": [
    {
     "data": {
      "text/plain": [
       "False"
      ]
     },
     "execution_count": 1,
     "metadata": {},
     "output_type": "execute_result"
    }
   ],
   "source": [
    "x = 1 \n",
    "y = 0\n",
    "x == y      # testet, ob x gleich y; Achtung! Zwei '='"
   ]
  },
  {
   "cell_type": "code",
   "execution_count": 2,
   "metadata": {
    "collapsed": false,
    "slideshow": {
     "slide_type": "fragment"
    }
   },
   "outputs": [
    {
     "data": {
      "text/plain": [
       "True"
      ]
     },
     "execution_count": 2,
     "metadata": {},
     "output_type": "execute_result"
    }
   ],
   "source": [
    "x != y      #testet auf Ungleichheit. "
   ]
  },
  {
   "cell_type": "code",
   "execution_count": 3,
   "metadata": {
    "collapsed": false,
    "slideshow": {
     "slide_type": "fragment"
    }
   },
   "outputs": [
    {
     "data": {
      "text/plain": [
       "True"
      ]
     },
     "execution_count": 3,
     "metadata": {},
     "output_type": "execute_result"
    }
   ],
   "source": [
    "x > y      #testet ob x größer als y"
   ]
  },
  {
   "cell_type": "code",
   "execution_count": 4,
   "metadata": {
    "collapsed": false,
    "slideshow": {
     "slide_type": "fragment"
    }
   },
   "outputs": [
    {
     "data": {
      "text/plain": [
       "False"
      ]
     },
     "execution_count": 4,
     "metadata": {},
     "output_type": "execute_result"
    }
   ],
   "source": [
    "x <= y        #testet, ob x kleiner oder gleich y ist"
   ]
  },
  {
   "cell_type": "markdown",
   "metadata": {
    "slideshow": {
     "slide_type": "subslide"
    }
   },
   "source": [
    "<h3>Viele Operationen und Funktionen geben True oder False zurück:</h3>"
   ]
  },
  {
   "cell_type": "code",
   "execution_count": 90,
   "metadata": {
    "collapsed": false,
    "slideshow": {
     "slide_type": "fragment"
    }
   },
   "outputs": [
    {
     "data": {
      "text/plain": [
       "True"
      ]
     },
     "execution_count": 90,
     "metadata": {},
     "output_type": "execute_result"
    }
   ],
   "source": [
    "\"AU\"  in \"LAUFEN\"      #testet, ob \"AU\" in \"LAUFEN\" enthalten ist"
   ]
  },
  {
   "cell_type": "code",
   "execution_count": 91,
   "metadata": {
    "collapsed": false,
    "slideshow": {
     "slide_type": "fragment"
    }
   },
   "outputs": [
    {
     "data": {
      "text/plain": [
       "True"
      ]
     },
     "execution_count": 91,
     "metadata": {},
     "output_type": "execute_result"
    }
   ],
   "source": [
    "ml = [1,2,3,4]   \n",
    "2 in ml        #testet ob 2 ein Element der Liste ml ist"
   ]
  },
  {
   "cell_type": "code",
   "execution_count": 1,
   "metadata": {
    "collapsed": false,
    "slideshow": {
     "slide_type": "fragment"
    }
   },
   "outputs": [
    {
     "data": {
      "text/plain": [
       "False"
      ]
     },
     "execution_count": 1,
     "metadata": {},
     "output_type": "execute_result"
    }
   ],
   "source": [
    "chars = dict(a=1, b=3, c=5)\n",
    "\"d\" in chars  # testet ob d ein Key im Dictionary chars ist \n",
    "              # (also Kurzform für \"d\" in chars.keys()"
   ]
  },
  {
   "cell_type": "code",
   "execution_count": 36,
   "metadata": {
    "collapsed": false,
    "slideshow": {
     "slide_type": "fragment"
    }
   },
   "outputs": [
    {
     "data": {
      "text/plain": [
       "(True, False)"
      ]
     },
     "execution_count": 36,
     "metadata": {},
     "output_type": "execute_result"
    }
   ],
   "source": [
    "s = \"42\"\n",
    "t = \"zweiundvierzig\"\n",
    "s.isnumeric(), t.isnumeric()"
   ]
  },
  {
   "cell_type": "markdown",
   "metadata": {
    "slideshow": {
     "slide_type": "skip"
    }
   },
   "source": [
    "''Modulo'' berechnet den Rest einer Division:<br/>\n",
    "10 modulo 4 bedeutet also: Dividiere 10 durch 4 und erhalte den Rest.\n",
    "10 / 4  = 2*4 + 2, dh. 10 Modulo 4 = 2<br/>\n",
    "Syntax in Python 10 % 4 \n"
   ]
  },
  {
   "cell_type": "code",
   "execution_count": 37,
   "metadata": {
    "collapsed": false,
    "slideshow": {
     "slide_type": "skip"
    }
   },
   "outputs": [
    {
     "data": {
      "text/plain": [
       "2"
      ]
     },
     "execution_count": 37,
     "metadata": {},
     "output_type": "execute_result"
    }
   ],
   "source": [
    "10 % 4"
   ]
  },
  {
   "cell_type": "code",
   "execution_count": 38,
   "metadata": {
    "collapsed": false,
    "slideshow": {
     "slide_type": "skip"
    }
   },
   "outputs": [
    {
     "data": {
      "text/plain": [
       "3"
      ]
     },
     "execution_count": 38,
     "metadata": {},
     "output_type": "execute_result"
    }
   ],
   "source": [
    "13 % 5"
   ]
  },
  {
   "cell_type": "markdown",
   "metadata": {
    "slideshow": {
     "slide_type": "slide"
    }
   },
   "source": [
    "<h3 style=\"color:green\">Aufgaben</h3>\n",
    "\n",
    "1. Testen Sie, ob `a` kleiner ist als `b`, wenn `a = 1` und `b = -1`\n",
    "4. Testen Sie, ob `2134` eine gerade Zahl ist"
   ]
  },
  {
   "cell_type": "markdown",
   "metadata": {
    "slideshow": {
     "slide_type": "subslide"
    },
    "solution2": "shown",
    "solution2_first": true
   },
   "source": [
    "<h3>Musterlösung</h3>\n",
    "<p>Testen Sie, ob a kleiner ist als b "
   ]
  },
  {
   "cell_type": "code",
   "execution_count": 39,
   "metadata": {
    "collapsed": false,
    "slideshow": {
     "slide_type": "fragment"
    },
    "solution2": "shown"
   },
   "outputs": [
    {
     "data": {
      "text/plain": [
       "False"
      ]
     },
     "execution_count": 39,
     "metadata": {},
     "output_type": "execute_result"
    }
   ],
   "source": [
    "a = 1\n",
    "b = -1\n",
    "a < b"
   ]
  },
  {
   "cell_type": "markdown",
   "metadata": {
    "slideshow": {
     "slide_type": "fragment"
    },
    "solution2": "shown"
   },
   "source": [
    "2) Testen Sie, ob 2134 eine gerade Zahl ist"
   ]
  },
  {
   "cell_type": "code",
   "execution_count": 42,
   "metadata": {
    "collapsed": false,
    "slideshow": {
     "slide_type": "fragment"
    },
    "solution2": "shown"
   },
   "outputs": [
    {
     "data": {
      "text/plain": [
       "True"
      ]
     },
     "execution_count": 42,
     "metadata": {},
     "output_type": "execute_result"
    }
   ],
   "source": [
    "2134 % 2 == 0"
   ]
  },
  {
   "cell_type": "markdown",
   "metadata": {
    "slideshow": {
     "slide_type": "slide"
    }
   },
   "source": [
    "<h3>Zusammengesetzte Bedingungen</h3>\n",
    "\n",
    "<p>&lt;bedingung> `and` &lt;bedingung>  <br/>   \n",
    "=> wahr, wenn beide Bedingungen wahr sind. \n",
    "\n",
    "<p>&lt;bedingung> `or` &lt;bedingung> <br/>\n",
    "=> wahr, wenn mindestens eine der Bedingungen wahr ist\n",
    "\n",
    "<p>`not` &lt;bedingung> <br/>\n",
    "=> wahr gdw. &lt;bedingung> falsch ist\n",
    "\n",
    "**Boolesche Operatoren**"
   ]
  },
  {
   "cell_type": "code",
   "execution_count": 43,
   "metadata": {
    "collapsed": false,
    "slideshow": {
     "slide_type": "fragment"
    }
   },
   "outputs": [
    {
     "data": {
      "text/plain": [
       "False"
      ]
     },
     "execution_count": 43,
     "metadata": {},
     "output_type": "execute_result"
    }
   ],
   "source": [
    "a = True\n",
    "b = False\n",
    "a and b"
   ]
  },
  {
   "cell_type": "code",
   "execution_count": 44,
   "metadata": {
    "collapsed": false,
    "slideshow": {
     "slide_type": "fragment"
    }
   },
   "outputs": [
    {
     "data": {
      "text/plain": [
       "True"
      ]
     },
     "execution_count": 44,
     "metadata": {},
     "output_type": "execute_result"
    }
   ],
   "source": [
    "a or b"
   ]
  },
  {
   "cell_type": "code",
   "execution_count": 45,
   "metadata": {
    "collapsed": false,
    "slideshow": {
     "slide_type": "fragment"
    }
   },
   "outputs": [
    {
     "data": {
      "text/plain": [
       "True"
      ]
     },
     "execution_count": 45,
     "metadata": {},
     "output_type": "execute_result"
    }
   ],
   "source": [
    "a and not b"
   ]
  },
  {
   "cell_type": "markdown",
   "metadata": {
    "slideshow": {
     "slide_type": "slide"
    }
   },
   "source": [
    "<h3 style=\"color:green\">Aufgaben</h3>\n",
    "\n",
    "1. Testen Sie, ob 3457 eine grade Zahl ist und kleiner als 34 im Quadrat\n",
    "2. Gegeben sind a = \"Wiederholung\" und b = \"Repetition\". Testen Sie, ob in einem der beidem Strings \"der\" enthalten ist."
   ]
  },
  {
   "cell_type": "markdown",
   "metadata": {
    "slideshow": {
     "slide_type": "slide"
    },
    "solution2": "hidden",
    "solution2_first": true
   },
   "source": [
    "<h3>Musterlösung</h3>\n",
    "<p>1) Testen Sie, ob 3457 eine grade Zahl ist und kleiner als 34 im Quadrat"
   ]
  },
  {
   "cell_type": "code",
   "execution_count": 1,
   "metadata": {
    "collapsed": false,
    "slideshow": {
     "slide_type": "fragment"
    },
    "solution2": "hidden"
   },
   "outputs": [
    {
     "data": {
      "text/plain": [
       "False"
      ]
     },
     "execution_count": 1,
     "metadata": {},
     "output_type": "execute_result"
    }
   ],
   "source": [
    "3457 % 2 == 0 and 3457 < 34 ** 2 "
   ]
  },
  {
   "cell_type": "markdown",
   "metadata": {
    "slideshow": {
     "slide_type": "fragment"
    },
    "solution2": "hidden"
   },
   "source": [
    "2) Gegeben sind a = \"Wiederholung\" und b = \"Repetition\". Testen Sie ob in einem der beidem Strings \"der\" enthalten ist."
   ]
  },
  {
   "cell_type": "code",
   "execution_count": 2,
   "metadata": {
    "collapsed": false,
    "slideshow": {
     "slide_type": "fragment"
    },
    "solution2": "hidden"
   },
   "outputs": [
    {
     "data": {
      "text/plain": [
       "True"
      ]
     },
     "execution_count": 2,
     "metadata": {},
     "output_type": "execute_result"
    }
   ],
   "source": [
    "a = \"Wiederholung\"\n",
    "b = \"Reptition\"\n",
    "\"der\" in a or \"der\" in b"
   ]
  },
  {
   "cell_type": "markdown",
   "metadata": {
    "slideshow": {
     "slide_type": "subslide"
    }
   },
   "source": [
    "### Operatoren und Prioritäten\n",
    "\n",
    "<pre>\n",
    "or                                                       # bindet schwächer\n",
    "and\n",
    "not x\n",
    "in, not in, is, is not, <, <=, >, >=, !=, ==\n",
    "|                                                        # bitweise Operatoren\n",
    "^                                                        \n",
    "&                                                        \n",
    "<<, >>                                                   \n",
    "+, -\n",
    "*, /, //, %\n",
    "+x, -x, ~x\n",
    "**\n",
    "x[index], x[index:index], x(arguments...), x.attribute\n",
    "(expressions...), [expressions...], {key: value...}, {expressions...} # stärker\n",
    "</pre>"
   ]
  },
  {
   "cell_type": "code",
   "execution_count": 3,
   "metadata": {
    "collapsed": false,
    "slideshow": {
     "slide_type": "fragment"
    }
   },
   "outputs": [],
   "source": [
    "a =  True or True and False\n",
    "b = (True or True) and False"
   ]
  },
  {
   "cell_type": "code",
   "execution_count": 4,
   "metadata": {
    "collapsed": false,
    "slideshow": {
     "slide_type": "fragment"
    }
   },
   "outputs": [
    {
     "name": "stdout",
     "output_type": "stream",
     "text": [
      "True False\n"
     ]
    }
   ],
   "source": [
    "print(a, b)"
   ]
  },
  {
   "cell_type": "markdown",
   "metadata": {
    "slideshow": {
     "slide_type": "slide"
    }
   },
   "source": [
    "<h3>Programmkontrolle: Bedingte Verzweigung</h3>\n",
    "<p>Mit if kann man den Programmablauf abhängig vom Wahrheitswert von Bedingungen verzweigen lassen. Einfachster Fall:\n",
    "<p>\n",
    "<img src=\"files/images/if_simple.png\" width=\"50%\" height=\"50%\" border=\"0\" alt=\"\">    "
   ]
  },
  {
   "cell_type": "code",
   "execution_count": 76,
   "metadata": {
    "collapsed": false,
    "slideshow": {
     "slide_type": "fragment"
    }
   },
   "outputs": [
    {
     "name": "stdout",
     "output_type": "stream",
     "text": [
      "Surprisingly, a is one\n"
     ]
    }
   ],
   "source": [
    "a = 1\n",
    "if a == 1:\n",
    "    print (\"Surprisingly, a is one\")"
   ]
  },
  {
   "cell_type": "markdown",
   "metadata": {
    "slideshow": {
     "slide_type": "slide"
    }
   },
   "source": [
    "<h3 style=\"color:green\">Aufgaben</h3>\n",
    "\n",
    "1. Gegeben ist a = \"aus\" und b = \"Das Haus steht leer\". Schreiben Sie ein Script, dass für den Fall, dass a in b enthalten ist, ausgibt: _\"aus\" ist in dem String \"Das Haus steht leer\" enthalten.\n",
    "2. Gegeben ist c = \"Haus\". Verwenden Sie   b aus Aufgabe 1). Schreiben Sie ein Skript, dass, wenn c in Klein- oder Großschreibung in b enthalten ist, ausgibt: \"Found: >Haus&lt;\""
   ]
  },
  {
   "cell_type": "markdown",
   "metadata": {
    "slideshow": {
     "slide_type": "slide"
    },
    "solution2": "hidden",
    "solution2_first": true
   },
   "source": [
    "<h3>Musterlösung</h3>\n",
    "1) Gegeben ist a = \"aus\" und b = \"Das Haus steht leer\". Schreiben Sie ein Script, dass für den Fall, dass a in b enthalten ist, ausgibt: \"aus\" ist in dem String \"Das Haus steht leer\" enthalten."
   ]
  },
  {
   "cell_type": "code",
   "execution_count": 47,
   "metadata": {
    "collapsed": false,
    "slideshow": {
     "slide_type": "fragment"
    },
    "solution2": "hidden"
   },
   "outputs": [
    {
     "name": "stdout",
     "output_type": "stream",
     "text": [
      "\"aus\" ist in dem String \"Das Haus steht leer\" enthalten.\n"
     ]
    }
   ],
   "source": [
    "a = \"aus\"\n",
    "b = \"Das Haus steht leer\"\n",
    "if a in b:\n",
    "    print ('\"aus\" ist in dem String \"Das Haus steht leer\" enthalten.')"
   ]
  },
  {
   "cell_type": "markdown",
   "metadata": {
    "slideshow": {
     "slide_type": "fragment"
    },
    "solution2": "hidden"
   },
   "source": [
    "2) Gegeben ist c = \"Haus\". Verwenden Sie b aus Aufgabe 1). Schreiben Sie ein Skript, dass, wenn c in Klein- oder Großschreibung in b enthalten ist, ausgibt: \"Found: >Haus<\""
   ]
  },
  {
   "cell_type": "code",
   "execution_count": 49,
   "metadata": {
    "collapsed": false,
    "slideshow": {
     "slide_type": "fragment"
    },
    "solution2": "hidden"
   },
   "outputs": [
    {
     "name": "stdout",
     "output_type": "stream",
     "text": [
      "Found: >Haus<\n"
     ]
    }
   ],
   "source": [
    "c = \"Haus\"\n",
    "if c in b or c.lower() in b:\n",
    "    print(\"Found: >\"+c+\"<\")"
   ]
  },
  {
   "cell_type": "markdown",
   "metadata": {
    "slideshow": {
     "slide_type": "slide"
    }
   },
   "source": [
    "<h3>Bedingungen: if – else </h3>\n",
    "<p>Mit else kann man festlegen, welcher Code ausgeführt werden soll, wenn die Bedingung _nicht_ wahr ist:\n",
    "<p>\n",
    "<img src=\"files/images/if_else.png\" width=\"50%\" height=\"50%\" border=\"0\" alt=\"\">    "
   ]
  },
  {
   "cell_type": "code",
   "execution_count": 79,
   "metadata": {
    "collapsed": false,
    "slideshow": {
     "slide_type": "fragment"
    }
   },
   "outputs": [
    {
     "name": "stdout",
     "output_type": "stream",
     "text": [
      "a ungleich 1\n"
     ]
    }
   ],
   "source": [
    "a = 2\n",
    "if a == 1:\n",
    "    print (\"a gleich 1\")\n",
    "else: \n",
    "    print (\"a ungleich 1\")"
   ]
  },
  {
   "cell_type": "markdown",
   "metadata": {
    "slideshow": {
     "slide_type": "slide"
    }
   },
   "source": [
    "<h3>Gereihte Bedingungen mit elif</h3>\n",
    "<p>Will man überprüfen, ob eine von mehreren Bedingungen wahr ist, verwendet man eine Reihe von if – elif – [elif] – else:"
   ]
  },
  {
   "cell_type": "markdown",
   "metadata": {
    "slideshow": {
     "slide_type": "slide"
    }
   },
   "source": [
    "<pre>\n",
    "if &lt;bedingung>:\n",
    "\tcode\n",
    "elif &lt;bedingung>:\n",
    "\tcode\n",
    "[...]\n",
    "else:\n",
    "\tcode\n",
    "</pre>"
   ]
  },
  {
   "cell_type": "code",
   "execution_count": 80,
   "metadata": {
    "collapsed": false,
    "slideshow": {
     "slide_type": "fragment"
    }
   },
   "outputs": [
    {
     "name": "stdout",
     "output_type": "stream",
     "text": [
      "c ist z\n"
     ]
    }
   ],
   "source": [
    "c = \"z\"\n",
    "if c == \"x\":\n",
    "    print(\"c ist x\")\n",
    "elif c == \"y\": \n",
    "    print(\"c ist y\")    \n",
    "elif c == \"z\":\n",
    "    print(\"c ist z\")    \n",
    "else: \n",
    "    print(\"c ist weder x noch y noch z\")    "
   ]
  },
  {
   "cell_type": "markdown",
   "metadata": {
    "slideshow": {
     "slide_type": "slide"
    }
   },
   "source": [
    "<h3 style=\"color:green\">Aufgaben</h3>\n",
    "<p>1) Wenn der String \"Freund\" in Klein- oder Großschreibung in \"Sie wollen sich befreunden\" enthalten ist, dann soll \"Found: Freund\" ausgegeben werden, ansonsten \"String not found\".</p>\n",
    "<p>2) Lassen Sie eine Zahl eingeben. Wenn die Eingabe kleiner ist als 7, dann lautet die Ausgabe: \"Gesuchte Zahl ist größer\", wenn die Zahl größer ist als 7, dann lautet die Ausgabe: \"Gesuchte Zahl ist kleiner\". Wenn die Zahl genau 7 ist, dann lautet die Ausgabe \"Zahl gefunden\". Spielen Sie das mit sinnvollen Werten durch.</p>"
   ]
  },
  {
   "cell_type": "markdown",
   "metadata": {
    "slideshow": {
     "slide_type": "slide"
    }
   },
   "source": [
    "<h3>Musterlösung</h3>\n",
    "<p>Wenn der String \"Freund\" in Klein- oder Großschreibung in \"Sie wollen sich befreunden\" enthalten ist, dann soll \"Found: Freund\" ausgegeben werden, ansonsten \"String not found\"."
   ]
  },
  {
   "cell_type": "code",
   "execution_count": 26,
   "metadata": {
    "collapsed": false,
    "slideshow": {
     "slide_type": "fragment"
    }
   },
   "outputs": [
    {
     "name": "stdout",
     "output_type": "stream",
     "text": [
      "Found: Freund\n"
     ]
    }
   ],
   "source": [
    "if \"Freund\" in \"Sie wollen sich befreunden\" or \"Freund\".lower() in \"Sie wollen sich befreunden\":\n",
    "    print(\"Found: Freund\")\n",
    "else:\n",
    "    print(\"String not found\")"
   ]
  },
  {
   "cell_type": "markdown",
   "metadata": {
    "slideshow": {
     "slide_type": "fragment"
    }
   },
   "source": [
    "2) a ist eine Benutzereingabe. Wenn die Eingabe kleiner ist als 7, dann lautet die Ausgabe: \"Gesuchte Zahl ist größer\", wenn die Zahl größer ist als 7, dann lautet die Ausgabe: \"Gesuchte Zahl ist kleiner\". Wenn die Zahl genau 7 ist, dann lautet die Ausgabe \"Zahl gefunden\". Spielen Sie das mit a = 1 und a = 7 durch."
   ]
  },
  {
   "cell_type": "code",
   "execution_count": 5,
   "metadata": {
    "collapsed": false,
    "slideshow": {
     "slide_type": "fragment"
    }
   },
   "outputs": [
    {
     "name": "stdout",
     "output_type": "stream",
     "text": [
      "Gesuchte Zahl ist größer\n"
     ]
    }
   ],
   "source": [
    "a = 1\n",
    "if a < 7:\n",
    "    print(\"Gesuchte Zahl ist größer\")\n",
    "elif a == 7:\n",
    "    print(\"Zahl gefunden\")\n",
    "else:\n",
    "    print(\"Gesuchte Zahl ist kleiner\")\n",
    "    "
   ]
  },
  {
   "cell_type": "markdown",
   "metadata": {
    "slideshow": {
     "slide_type": "subslide"
    }
   },
   "source": [
    "### Kombinierte Statements\n",
    "\n",
    "Schleifen und Bedingungen lassen sich beliebig schachteln – die Einrückungsstufe gibt die Zuordnung zum entsprechenden Block an."
   ]
  },
  {
   "cell_type": "code",
   "execution_count": 11,
   "metadata": {
    "collapsed": false,
    "slideshow": {
     "slide_type": "-"
    }
   },
   "outputs": [
    {
     "name": "stdout",
     "output_type": "stream",
     "text": [
      "0 ist gerade.\n",
      "0 ist durch drei teilbar.\n",
      "2 ist gerade.\n",
      "3 ist durch drei teilbar.\n",
      "4 ist gerade.\n",
      "6 ist gerade.\n",
      "6 ist durch drei teilbar.\n",
      "8 ist gerade.\n",
      "9 ist durch drei teilbar.\n"
     ]
    }
   ],
   "source": [
    "for i in range(10):\n",
    "    if i % 2 == 0:\n",
    "        print(i, \"ist gerade.\")\n",
    "    if i % 3 == 0:\n",
    "        print(i, \"ist durch drei teilbar.\")    "
   ]
  },
  {
   "cell_type": "markdown",
   "metadata": {
    "slideshow": {
     "slide_type": "subslide"
    }
   },
   "source": [
    "Mit `break` können Sie die aktuelle Schleife abbrechen, z.B. wenn eine Bedingung erfüllt ist:"
   ]
  },
  {
   "cell_type": "code",
   "execution_count": 28,
   "metadata": {
    "collapsed": false
   },
   "outputs": [
    {
     "name": "stdout",
     "output_type": "stream",
     "text": [
      "1 3 6 10 15 21 28 36 45 55 "
     ]
    }
   ],
   "source": [
    "total = 0\n",
    "for i in range(1, 100):\n",
    "    total += i\n",
    "    print(total, end=' ')\n",
    "    if total > 50:    \n",
    "        break"
   ]
  },
  {
   "cell_type": "markdown",
   "metadata": {
    "slideshow": {
     "slide_type": "slide"
    }
   },
   "source": [
    "### Übung\n",
    "\n",
    "Mit `from random import randint` machen Sie eine Funktion `randint(a, b)` zugänglich, die eine Zufallszahl (int) von `a` bis `b` zurückgibt, beide Grenzen inclusive. Probieren Sie's aus:"
   ]
  },
  {
   "cell_type": "code",
   "execution_count": 29,
   "metadata": {
    "collapsed": false,
    "slideshow": {
     "slide_type": "-"
    }
   },
   "outputs": [
    {
     "data": {
      "text/plain": [
       "369"
      ]
     },
     "execution_count": 29,
     "metadata": {},
     "output_type": "execute_result"
    }
   ],
   "source": [
    "from random import randint\n",
    "randint(10, 1000)"
   ]
  },
  {
   "cell_type": "markdown",
   "metadata": {
    "slideshow": {
     "slide_type": "-"
    }
   },
   "source": [
    "Schreiben Sie analog zur letzten Übung 2 ein Zahlenrateprogramm. Das Programm erzeugt zunächst eine zu erratende Zufallszahl von 0 bis 100. Ihr Benutzer darf dann bis zu zehn mal raten, sie verraten, ob die Eingabe zu hoch / zu niedrig ist.\n",
    "\n",
    "(Wieviele Versuche benötigt ein kluger Rater maximal?)"
   ]
  },
  {
   "cell_type": "markdown",
   "metadata": {
    "slideshow": {
     "slide_type": "slide"
    }
   },
   "source": [
    "### Zusammengesetzte Statements\n",
    "\n",
    "![Ein- und Ausrückungen markieren zusammengehörige Statements (suite)](images/indent.png)"
   ]
  },
  {
   "cell_type": "markdown",
   "metadata": {
    "slideshow": {
     "slide_type": "-"
    }
   },
   "source": [
    "* Einrückung ist in Python bedeutungstragend\n",
    "* aufeinanderfolgende Elemente mit gleicher (Mindest-)Zahl von Leerzeichen bilden eine Folge (_suite_)\n",
    "* **Ausrückung** muss auf eine der vorherigen Einrückungsstufen gehen"
   ]
  }
 ],
 "metadata": {
  "celltoolbar": "Slideshow",
  "kernelspec": {
   "display_name": "Python 3",
   "language": "python",
   "name": "python3"
  },
  "language_info": {
   "codemirror_mode": {
    "name": "ipython",
    "version": 3
   },
   "file_extension": ".py",
   "mimetype": "text/x-python",
   "name": "python",
   "nbconvert_exporter": "python",
   "pygments_lexer": "ipython3",
   "version": "3.5.2+"
  },
  "nav_menu": {},
  "toc": {
   "navigate_menu": true,
   "number_sections": false,
   "sideBar": true,
   "threshold": 6,
   "toc_cell": false,
   "toc_section_display": "block",
   "toc_window_display": true
  }
 },
 "nbformat": 4,
 "nbformat_minor": 0
}
