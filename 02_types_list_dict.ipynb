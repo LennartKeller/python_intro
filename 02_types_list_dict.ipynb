{
 "metadata": {
  "celltoolbar": "Slideshow",
  "name": "",
  "signature": "sha256:3cdd23d2f2ed748da76947737aebf9b3c334387e3d3849c79a4e4d8643417d7d"
 },
 "nbformat": 3,
 "nbformat_minor": 0,
 "worksheets": [
  {
   "cells": [
    {
     "cell_type": "heading",
     "level": 1,
     "metadata": {},
     "source": [
      "Programmieren mit Python"
     ]
    },
    {
     "cell_type": "heading",
     "level": 2,
     "metadata": {
      "slideshow": {
       "slide_type": "-"
      }
     },
     "source": [
      "2. Sitzung: Datentypen und Datenstrukturen I: Listen und Dictionaries"
     ]
    },
    {
     "cell_type": "heading",
     "level": 3,
     "metadata": {
      "slideshow": {
       "slide_type": "slide"
      }
     },
     "source": [
      "Wiederholung"
     ]
    },
    {
     "cell_type": "markdown",
     "metadata": {
      "slideshow": {
       "slide_type": "fragment"
      }
     },
     "source": [
      "* **Ausdruck** := syntaktisches Konstrukt, das in einem Kontext ausgewertet werden kann (also \u2192\u00a0Wert)\n",
      "\n",
      "* [Ausdr\u00fccke](https://docs.python.org/3/reference/expressions.html) sind rekursiv definiert, alles folgende sind Ausdr\u00fccke:\n",
      "\n",
      "    * ` 2`\n",
      "    * ` 3 * 4`\n",
      "    * ` 3 * 4 + 1`\n",
      "    * `(3 * 4 + 1) * len(\"Python\")`\n",
      "    * `(3 * 4 + 1) * len(\"Python\") < 5`"
     ]
    },
    {
     "cell_type": "markdown",
     "metadata": {
      "slideshow": {
       "slide_type": "fragment"
      }
     },
     "source": [
      "-   **Variablenzuweisung** mit = :<br/>\n",
      "     _identifier_ = _expression_<br/>\n",
      "     _Bezeichner_ = _Ausdruck_<br/>\n",
      "     Bsp.: ``word = \"Haus\" + \"bau\"``    "
     ]
    },
    {
     "cell_type": "markdown",
     "metadata": {
      "slideshow": {
       "slide_type": "subslide"
      }
     },
     "source": [
      "### Bezeichner / Identifier / Name\n",
      "\n",
      "* Bezeichnet irgendwas. Z.B. Variable, Funktion, \u2026\n",
      "* _Syntax_: Beginnt mit Buchstabe oder Unterstrich, dann folgen Buchstaben, Unterstriche und Ziffern\n",
      "* `i`, `hausnummer`, `file1`, `_input`, `word_length`\n",
      "* Ausnahme: _Keywords_, z.B. `or`, `if`, \u2026\n",
      "* Konventionen: Variablennamen aus Kleinbuchstaben, Sonderrolle f\u00fcr Unterstriche an Anfang / Ende"
     ]
    },
    {
     "cell_type": "heading",
     "level": 3,
     "metadata": {
      "slideshow": {
       "slide_type": "subslide"
      }
     },
     "source": [
      "Wiederholung (2)"
     ]
    },
    {
     "cell_type": "markdown",
     "metadata": {
      "slideshow": {
       "slide_type": "fragment"
      }
     },
     "source": [
      "-   **Datentypen**: <br/>\n",
      "     Integer, Float, Strings, Boolean"
     ]
    },
    {
     "cell_type": "markdown",
     "metadata": {
      "slideshow": {
       "slide_type": "fragment"
      }
     },
     "source": [
      "-   **Operatoren**:<br/>\n",
      "    ``+ - \\* / \\*\\* in            # Funktion der Operatoren abh\u00e4ngig vom Datentyp!``\n",
      " \n",
      "-   Aufruf von **Funktionen**<br/>\n",
      "     Funktion: `funktion(parameter [, \u2026])` z.B. `print`, `len`<br/>     "
     ]
    },
    {
     "cell_type": "heading",
     "level": 3,
     "metadata": {
      "slideshow": {
       "slide_type": "slide"
      }
     },
     "source": [
      "Alle Datentypen in Python sind Objekttypen"
     ]
    },
    {
     "cell_type": "code",
     "collapsed": false,
     "input": [
      "\"Hallo\".upper()"
     ],
     "language": "python",
     "metadata": {
      "slideshow": {
       "slide_type": "fragment"
      }
     },
     "outputs": [
      {
       "metadata": {},
       "output_type": "pyout",
       "prompt_number": 1,
       "text": [
        "'HALLO'"
       ]
      }
     ],
     "prompt_number": 1
    },
    {
     "cell_type": "code",
     "collapsed": false,
     "input": [
      "f = 0.375\n",
      "f.as_integer_ratio()"
     ],
     "language": "python",
     "metadata": {
      "slideshow": {
       "slide_type": "fragment"
      }
     },
     "outputs": [
      {
       "metadata": {},
       "output_type": "pyout",
       "prompt_number": 2,
       "text": [
        "(3, 8)"
       ]
      }
     ],
     "prompt_number": 2
    },
    {
     "cell_type": "markdown",
     "metadata": {
      "slideshow": {
       "slide_type": "fragment"
      }
     },
     "source": [
      "* Objekt = Daten + Operationen darauf\n",
      "* **Methoden** sind Funktionen, die Teil eines Objekts sind\n",
      "* `.` = *Subskriptionsoperator* \u2013 `foo.bar()` ruft die Methode namens `bar` des Objekts, das in der Veriablen `foo` steht, auf\n",
      "* Konsole: `\"Hallo\".<Tab>`, `help(str)`"
     ]
    },
    {
     "cell_type": "markdown",
     "metadata": {
      "slideshow": {
       "slide_type": "subslide"
      }
     },
     "source": [
      "<h3>Type Casting</h3>\n",
      "<p>Verwandelt den Datentyp einer Variablen in einen anderen. \n"
     ]
    },
    {
     "cell_type": "code",
     "collapsed": false,
     "input": [
      "a = 1.7\n",
      "type(a)        # type(x) gibt die Klasse von a aus                "
     ],
     "language": "python",
     "metadata": {
      "slideshow": {
       "slide_type": "fragment"
      }
     },
     "outputs": [
      {
       "metadata": {},
       "output_type": "pyout",
       "prompt_number": 3,
       "text": [
        "float"
       ]
      }
     ],
     "prompt_number": 3
    },
    {
     "cell_type": "code",
     "collapsed": false,
     "input": [
      "int(a)               # Achtung: Keine Rundung!"
     ],
     "language": "python",
     "metadata": {
      "slideshow": {
       "slide_type": "fragment"
      }
     },
     "outputs": [
      {
       "metadata": {},
       "output_type": "pyout",
       "prompt_number": 4,
       "text": [
        "1"
       ]
      }
     ],
     "prompt_number": 4
    },
    {
     "cell_type": "code",
     "collapsed": false,
     "input": [
      "a = 1\n",
      "float(a)"
     ],
     "language": "python",
     "metadata": {
      "slideshow": {
       "slide_type": "fragment"
      }
     },
     "outputs": [
      {
       "metadata": {},
       "output_type": "pyout",
       "prompt_number": 5,
       "text": [
        "1.0"
       ]
      }
     ],
     "prompt_number": 5
    },
    {
     "cell_type": "code",
     "collapsed": false,
     "input": [
      "a = \"1\" \n",
      "int(a)"
     ],
     "language": "python",
     "metadata": {
      "slideshow": {
       "slide_type": "fragment"
      }
     },
     "outputs": [
      {
       "metadata": {},
       "output_type": "pyout",
       "prompt_number": 6,
       "text": [
        "1"
       ]
      }
     ],
     "prompt_number": 6
    },
    {
     "cell_type": "markdown",
     "metadata": {
      "slideshow": {
       "slide_type": "subslide"
      }
     },
     "source": [
      "<div style=\"color:green\">\n",
      "\n",
      "<h3>Aufgaben</h3>\n",
      "\n",
      "<ol>\n",
      "\n",
      "<li>Weisen Sie der Variablen _a_ den Wert `32` als Flie\u00dfkommazahl zu. Speichern Sie das Ergebnis eines type castings nach Integers in der Variablen b.</li>\n",
      "\n",
      "<li>Gegeben ist: `c = \"hallo\"`<br/>\n",
      "    \n",
      "Verwandeln Sie den Datentyp von `c` in einen Wahrheitswert. Welchen Ausgangswert muss `c` wohl haben, damit der Wahrheitswert `False` lautet? </li>\n",
      "<li>Versuchen sie `c` nach `int` zu casten.</li>\n",
      "</ol>\n",
      "</div>\n"
     ]
    },
    {
     "cell_type": "markdown",
     "metadata": {
      "slideshow": {
       "slide_type": "subslide"
      }
     },
     "source": [
      "<h3>Musterl\u00f6sung</h3>"
     ]
    },
    {
     "cell_type": "markdown",
     "metadata": {
      "slideshow": {
       "slide_type": "fragment"
      }
     },
     "source": [
      "<p>1. Weisen Sie der Variablen a den Wert 32 als Flie\u00dfkommazahl zu. Speichern Sie das Ergebnis eines type casting nach Integers in der Variablen b. "
     ]
    },
    {
     "cell_type": "code",
     "collapsed": false,
     "input": [
      "a = float(32)\n",
      "type(a)\n",
      "b = int (a)\n",
      "type(b)"
     ],
     "language": "python",
     "metadata": {
      "slideshow": {
       "slide_type": "fragment"
      }
     },
     "outputs": [
      {
       "metadata": {},
       "output_type": "pyout",
       "prompt_number": 7,
       "text": [
        "int"
       ]
      }
     ],
     "prompt_number": 7
    },
    {
     "cell_type": "markdown",
     "metadata": {
      "slideshow": {
       "slide_type": "subslide"
      }
     },
     "source": [
      "<p>2. Gegeben ist: `c = \"hallo\"`<br/>\n",
      "Verwandeln Sie den Datentyp von `c` in einen Wahrheitswert. Welchen Ausgangswert muss `c` wohl haben, damit der Wahrheitswert `False` lautet? "
     ]
    },
    {
     "cell_type": "code",
     "collapsed": false,
     "input": [
      "c = \"hallo\"\n",
      "d = bool (c)\n",
      "type(d)"
     ],
     "language": "python",
     "metadata": {
      "slideshow": {
       "slide_type": "fragment"
      }
     },
     "outputs": [
      {
       "metadata": {},
       "output_type": "pyout",
       "prompt_number": 8,
       "text": [
        "bool"
       ]
      }
     ],
     "prompt_number": 8
    },
    {
     "cell_type": "code",
     "collapsed": false,
     "input": [
      "bool (\"a\")"
     ],
     "language": "python",
     "metadata": {
      "slideshow": {
       "slide_type": "fragment"
      }
     },
     "outputs": [
      {
       "metadata": {},
       "output_type": "pyout",
       "prompt_number": 9,
       "text": [
        "True"
       ]
      }
     ],
     "prompt_number": 9
    },
    {
     "cell_type": "code",
     "collapsed": false,
     "input": [
      "bool (\"\")"
     ],
     "language": "python",
     "metadata": {
      "slideshow": {
       "slide_type": "fragment"
      }
     },
     "outputs": [
      {
       "metadata": {},
       "output_type": "pyout",
       "prompt_number": 10,
       "text": [
        "False"
       ]
      }
     ],
     "prompt_number": 10
    },
    {
     "cell_type": "markdown",
     "metadata": {
      "slideshow": {
       "slide_type": "subslide"
      }
     },
     "source": [
      "<p>3. Versuchen sie `c` nach `int` zu casten"
     ]
    },
    {
     "cell_type": "code",
     "collapsed": false,
     "input": [
      "c = \"hallo\"\n",
      "int(c)"
     ],
     "language": "python",
     "metadata": {
      "slideshow": {
       "slide_type": "fragment"
      }
     },
     "outputs": [
      {
       "ename": "ValueError",
       "evalue": "invalid literal for int() with base 10: 'hallo'",
       "output_type": "pyerr",
       "traceback": [
        "\u001b[0;31m---------------------------------------------------------------------------\u001b[0m\n\u001b[0;31mValueError\u001b[0m                                Traceback (most recent call last)",
        "\u001b[0;32m<ipython-input-11-e2401aa1513e>\u001b[0m in \u001b[0;36m<module>\u001b[0;34m()\u001b[0m\n\u001b[1;32m      1\u001b[0m \u001b[0mc\u001b[0m \u001b[0;34m=\u001b[0m \u001b[0;34m\"hallo\"\u001b[0m\u001b[0;34m\u001b[0m\u001b[0m\n\u001b[0;32m----> 2\u001b[0;31m \u001b[0mint\u001b[0m\u001b[0;34m(\u001b[0m\u001b[0mc\u001b[0m\u001b[0;34m)\u001b[0m\u001b[0;34m\u001b[0m\u001b[0m\n\u001b[0m",
        "\u001b[0;31mValueError\u001b[0m: invalid literal for int() with base 10: 'hallo'"
       ]
      }
     ],
     "prompt_number": 11
    },
    {
     "cell_type": "heading",
     "level": 2,
     "metadata": {
      "slideshow": {
       "slide_type": "slide"
      }
     },
     "source": [
      "Datenstrukturen: Listen, Strings als Sequenzen, Dictionaries\n"
     ]
    },
    {
     "cell_type": "markdown",
     "metadata": {
      "slideshow": {
       "slide_type": "slide"
      }
     },
     "source": [
      "<h3>Datenstruktur: Liste</h3>\n",
      "<img src=\"files/images/liste1.png\" width=\"50%\" height=\"50%\" border=\"0\" alt=\"\">    "
     ]
    },
    {
     "cell_type": "markdown",
     "metadata": {
      "slideshow": {
       "slide_type": "subslide"
      }
     },
     "source": [
      "<h3>Listen \u2013 ein Beispiel<h3>\n",
      "<img src=\"files/images/liste2.png\" width=\"50%\" height=\"50%\" border=\"0\" alt=\"\">    "
     ]
    },
    {
     "cell_type": "code",
     "collapsed": false,
     "input": [
      "thinkers = ['Marx', 'Freud', 'Popper', 'Foucault']   # Listen-Literal\n",
      "thinkers[1]                                          # [1] hier: Subskriptionsoperator\n"
     ],
     "language": "python",
     "metadata": {
      "slideshow": {
       "slide_type": "fragment"
      }
     },
     "outputs": [
      {
       "metadata": {},
       "output_type": "pyout",
       "prompt_number": 12,
       "text": [
        "'Freud'"
       ]
      }
     ],
     "prompt_number": 12
    },
    {
     "cell_type": "markdown",
     "metadata": {
      "slideshow": {
       "slide_type": "subslide"
      }
     },
     "source": [
      "<h3>Slicing \u2013 Listenausschnitte</h3>\n",
      "<p>Achtung: beim Slicen: erster Index ist eingeschlossen, letzter ausgeschlossen. thinkers[1:3] bedeutet also: der Inhalt von thinkers[1] und thinkers[2] aber nicht mehr von [3]\n",
      "\n",
      "<img src=\"files/images/liste2.png\" width=\"50%\" height=\"50%\" border=\"0\" alt=\"\">    "
     ]
    },
    {
     "cell_type": "code",
     "collapsed": false,
     "input": [
      "thinkers[1:3]      # slicing "
     ],
     "language": "python",
     "metadata": {
      "slideshow": {
       "slide_type": "fragment"
      }
     },
     "outputs": [
      {
       "metadata": {},
       "output_type": "pyout",
       "prompt_number": 13,
       "text": [
        "['Freud', 'Popper']"
       ]
      }
     ],
     "prompt_number": 13
    },
    {
     "cell_type": "code",
     "collapsed": false,
     "input": [
      "thinkers[:2]"
     ],
     "language": "python",
     "metadata": {
      "slideshow": {
       "slide_type": "fragment"
      }
     },
     "outputs": [
      {
       "metadata": {},
       "output_type": "pyout",
       "prompt_number": 14,
       "text": [
        "['Marx', 'Freud']"
       ]
      }
     ],
     "prompt_number": 14
    },
    {
     "cell_type": "code",
     "collapsed": false,
     "input": [
      "thinkers[2:]"
     ],
     "language": "python",
     "metadata": {
      "slideshow": {
       "slide_type": "fragment"
      }
     },
     "outputs": [
      {
       "metadata": {},
       "output_type": "pyout",
       "prompt_number": 15,
       "text": [
        "['Popper', 'Foucault']"
       ]
      }
     ],
     "prompt_number": 15
    },
    {
     "cell_type": "code",
     "collapsed": false,
     "input": [
      "thinkers[:-1]                    # negative Indizes z\u00e4hlen von hinten"
     ],
     "language": "python",
     "metadata": {
      "slideshow": {
       "slide_type": "fragment"
      }
     },
     "outputs": [
      {
       "metadata": {},
       "output_type": "pyout",
       "prompt_number": 107,
       "text": [
        "['Marx', 'Freud', 'Popper']"
       ]
      }
     ],
     "prompt_number": 107
    },
    {
     "cell_type": "markdown",
     "metadata": {
      "slideshow": {
       "slide_type": "subslide"
      }
     },
     "source": [
      "<h3>Variablen, Liste sortieren</h3>\n",
      "<img src=\"files/images/liste2.png\" width=\"30%\" height=\"30%\" border=\"0\" alt=\"\">    "
     ]
    },
    {
     "cell_type": "code",
     "collapsed": false,
     "input": [
      "start = 1                           # slicing mit Variablen\n",
      "thinkers[start:3]"
     ],
     "language": "python",
     "metadata": {
      "slideshow": {
       "slide_type": "fragment"
      }
     },
     "outputs": [
      {
       "metadata": {},
       "output_type": "pyout",
       "prompt_number": 108,
       "text": [
        "['Freud', 'Popper']"
       ]
      }
     ],
     "prompt_number": 108
    },
    {
     "cell_type": "code",
     "collapsed": false,
     "input": [
      "sorted(thinkers)             # gibt die sortierte Liste zur\u00fcck"
     ],
     "language": "python",
     "metadata": {
      "slideshow": {
       "slide_type": "fragment"
      }
     },
     "outputs": [
      {
       "metadata": {},
       "output_type": "pyout",
       "prompt_number": 109,
       "text": [
        "['Foucault', 'Freud', 'Marx', 'Popper']"
       ]
      }
     ],
     "prompt_number": 109
    },
    {
     "cell_type": "code",
     "collapsed": false,
     "input": [
      "thinkers                    # Achtung: Liste wird nicht ver\u00e4ndert!"
     ],
     "language": "python",
     "metadata": {
      "slideshow": {
       "slide_type": "fragment"
      }
     },
     "outputs": [
      {
       "metadata": {},
       "output_type": "pyout",
       "prompt_number": 110,
       "text": [
        "['Marx', 'Freud', 'Popper', 'Foucault']"
       ]
      }
     ],
     "prompt_number": 110
    },
    {
     "cell_type": "markdown",
     "metadata": {
      "slideshow": {
       "slide_type": "subslide"
      }
     },
     "source": [
      "<h3>Listen \u2013 Operationen</h3>\n",
      "<img src=\"files/images/liste2.png\" width=\"30%\" height=\"30%\" border=\"0\" alt=\"\">    "
     ]
    },
    {
     "cell_type": "code",
     "collapsed": false,
     "input": [
      "thinkers = ['Marx','Freud', 'Popper','Foucault']\n",
      "len(thinkers)                                  #gibt L\u00e4nge der Liste aus"
     ],
     "language": "python",
     "metadata": {
      "slideshow": {
       "slide_type": "fragment"
      }
     },
     "outputs": [
      {
       "metadata": {},
       "output_type": "pyout",
       "prompt_number": 111,
       "text": [
        "4"
       ]
      }
     ],
     "prompt_number": 111
    },
    {
     "cell_type": "code",
     "collapsed": true,
     "input": [
      "thinkers = ['Marx','Freud', 'Popper','Foucault']\n",
      "thinkers[1] = \"Turing\"          #weist Listenplatz [1] einen neuen Wert zu\n",
      "thinkers.append('Luhmann')      #h\u00e4ngt einen neuen Eintrag an   \n",
      "thinkers"
     ],
     "language": "python",
     "metadata": {
      "slideshow": {
       "slide_type": "fragment"
      }
     },
     "outputs": [
      {
       "metadata": {},
       "output_type": "pyout",
       "prompt_number": 112,
       "text": [
        "['Marx', 'Turing', 'Popper', 'Foucault', 'Luhmann']"
       ]
      }
     ],
     "prompt_number": 112
    },
    {
     "cell_type": "code",
     "collapsed": false,
     "input": [
      "new_thinkers = []                                              # definiert leere Liste\n",
      "new_thinkers"
     ],
     "language": "python",
     "metadata": {
      "slideshow": {
       "slide_type": "fragment"
      }
     },
     "outputs": [
      {
       "metadata": {},
       "output_type": "pyout",
       "prompt_number": 113,
       "text": [
        "[]"
       ]
      }
     ],
     "prompt_number": 113
    },
    {
     "cell_type": "code",
     "collapsed": false,
     "input": [
      "new_thinkers.append(\"von Neumann\")\n",
      "new_thinkers"
     ],
     "language": "python",
     "metadata": {
      "slideshow": {
       "slide_type": "fragment"
      }
     },
     "outputs": [
      {
       "metadata": {},
       "output_type": "pyout",
       "prompt_number": 114,
       "text": [
        "['von Neumann']"
       ]
      }
     ],
     "prompt_number": 114
    },
    {
     "cell_type": "code",
     "collapsed": false,
     "input": [
      "\"Marx\" in thinkers             # testet, ob das Element 'Marx' in der Liste thinkers enthalten ist."
     ],
     "language": "python",
     "metadata": {
      "slideshow": {
       "slide_type": "fragment"
      }
     },
     "outputs": [
      {
       "metadata": {},
       "output_type": "pyout",
       "prompt_number": 115,
       "text": [
        "True"
       ]
      }
     ],
     "prompt_number": 115
    },
    {
     "cell_type": "markdown",
     "metadata": {
      "slideshow": {
       "slide_type": "slide"
      }
     },
     "source": [
      "<h3 style=\"color:green\">Aufgaben</h3>\n",
      "<ol style=\"color:green\">\n",
      "<li>Erzeugen Sie eine Liste mit dem Namen 'romane', die die Titel von 4 Romanen enth\u00e4lt.\n",
      "<li>Geben Sie alle Titel aus\n",
      "<li>Geben Sie nur den ersten Titel aus.\n",
      "<li>Geben Sie den 3. und den 4. Titel aus.\n",
      "<li>H\u00e4ngen Sie den Namen eines weiteren Romans an die Liste an.\n",
      "<li>Sortieren Sie die Namen nach dem Alphabet\n",
      "<li>Ersetzen Sie den ersten Namen durch einen neuen\n",
      "<li>Testen Sie, ob \"Effi Briest\" in der Liste enthalten ist.\n",
      "<ol>"
     ]
    },
    {
     "cell_type": "markdown",
     "metadata": {
      "slideshow": {
       "slide_type": "subslide"
      }
     },
     "source": [
      "<h3>Musterl\u00f6sung</h3>"
     ]
    },
    {
     "cell_type": "markdown",
     "metadata": {
      "slideshow": {
       "slide_type": "fragment"
      }
     },
     "source": [
      "\n",
      "\n",
      "1) Erzeugen Sie eine Liste mit dem Namen 'romane', die die Titel von 4 Romanen enth\u00e4lt."
     ]
    },
    {
     "cell_type": "code",
     "collapsed": false,
     "input": [
      "novels = [\"Wahlverwandtschaften\",\"Effi Briest\",\"Buddenbrooks\",\"Der Proze\u00df\"]"
     ],
     "language": "python",
     "metadata": {
      "slideshow": {
       "slide_type": "fragment"
      }
     },
     "outputs": [],
     "prompt_number": 116
    },
    {
     "cell_type": "markdown",
     "metadata": {
      "slideshow": {
       "slide_type": "fragment"
      }
     },
     "source": [
      "2) Geben Sie alle Titel aus"
     ]
    },
    {
     "cell_type": "code",
     "collapsed": false,
     "input": [
      "novels"
     ],
     "language": "python",
     "metadata": {
      "slideshow": {
       "slide_type": "fragment"
      }
     },
     "outputs": [
      {
       "metadata": {},
       "output_type": "pyout",
       "prompt_number": 117,
       "text": [
        "['Wahlverwandtschaften', 'Effi Briest', 'Buddenbrooks', 'Der Proze\u00df']"
       ]
      }
     ],
     "prompt_number": 117
    },
    {
     "cell_type": "markdown",
     "metadata": {
      "slideshow": {
       "slide_type": "fragment"
      }
     },
     "source": [
      "3) Geben Sie nur den ersten Titel aus."
     ]
    },
    {
     "cell_type": "code",
     "collapsed": false,
     "input": [
      "novels[0]"
     ],
     "language": "python",
     "metadata": {
      "slideshow": {
       "slide_type": "fragment"
      }
     },
     "outputs": [
      {
       "metadata": {},
       "output_type": "pyout",
       "prompt_number": 118,
       "text": [
        "'Wahlverwandtschaften'"
       ]
      }
     ],
     "prompt_number": 118
    },
    {
     "cell_type": "markdown",
     "metadata": {
      "slideshow": {
       "slide_type": "fragment"
      }
     },
     "source": [
      "4) Geben Sie den 3. und den 4. Titel aus."
     ]
    },
    {
     "cell_type": "code",
     "collapsed": false,
     "input": [
      "novels[2:4]"
     ],
     "language": "python",
     "metadata": {
      "slideshow": {
       "slide_type": "fragment"
      }
     },
     "outputs": [
      {
       "metadata": {},
       "output_type": "pyout",
       "prompt_number": 119,
       "text": [
        "['Buddenbrooks', 'Der Proze\u00df']"
       ]
      }
     ],
     "prompt_number": 119
    },
    {
     "cell_type": "markdown",
     "metadata": {
      "slideshow": {
       "slide_type": "subslide"
      }
     },
     "source": [
      "5) H\u00e4ngen Sie den Namen eines weiteren Romans an die Liste an."
     ]
    },
    {
     "cell_type": "code",
     "collapsed": false,
     "input": [
      "novels.append(\"Soll und Haben\")\n",
      "novels"
     ],
     "language": "python",
     "metadata": {
      "slideshow": {
       "slide_type": "fragment"
      }
     },
     "outputs": [
      {
       "metadata": {},
       "output_type": "pyout",
       "prompt_number": 120,
       "text": [
        "['Wahlverwandtschaften',\n",
        " 'Effi Briest',\n",
        " 'Buddenbrooks',\n",
        " 'Der Proze\u00df',\n",
        " 'Soll und Haben']"
       ]
      }
     ],
     "prompt_number": 120
    },
    {
     "cell_type": "markdown",
     "metadata": {
      "slideshow": {
       "slide_type": "subslide"
      }
     },
     "source": [
      "6) Sortieren Sie die Namen nach dem Alphabet"
     ]
    },
    {
     "cell_type": "code",
     "collapsed": false,
     "input": [
      "sorted(novels)"
     ],
     "language": "python",
     "metadata": {
      "slideshow": {
       "slide_type": "fragment"
      }
     },
     "outputs": [
      {
       "metadata": {},
       "output_type": "pyout",
       "prompt_number": 121,
       "text": [
        "['Buddenbrooks',\n",
        " 'Der Proze\u00df',\n",
        " 'Effi Briest',\n",
        " 'Soll und Haben',\n",
        " 'Wahlverwandtschaften']"
       ]
      }
     ],
     "prompt_number": 121
    },
    {
     "cell_type": "markdown",
     "metadata": {
      "slideshow": {
       "slide_type": "subslide"
      }
     },
     "source": [
      "7) Ersetzen Sie den ersten Namen durch einen neuen"
     ]
    },
    {
     "cell_type": "code",
     "collapsed": false,
     "input": [
      "novels[0] = \"Der Mann ohne Eigenschaften\"\n",
      "novels"
     ],
     "language": "python",
     "metadata": {
      "slideshow": {
       "slide_type": "fragment"
      }
     },
     "outputs": [
      {
       "metadata": {},
       "output_type": "pyout",
       "prompt_number": 122,
       "text": [
        "['Der Mann ohne Eigenschaften',\n",
        " 'Effi Briest',\n",
        " 'Buddenbrooks',\n",
        " 'Der Proze\u00df',\n",
        " 'Soll und Haben']"
       ]
      }
     ],
     "prompt_number": 122
    },
    {
     "cell_type": "markdown",
     "metadata": {
      "slideshow": {
       "slide_type": "subslide"
      }
     },
     "source": [
      "8) Testen Sie, ob \"Effi Briest\" in der Liste enthalten ist."
     ]
    },
    {
     "cell_type": "code",
     "collapsed": false,
     "input": [
      "\"Effi Briest\" in novels"
     ],
     "language": "python",
     "metadata": {
      "slideshow": {
       "slide_type": "fragment"
      }
     },
     "outputs": [
      {
       "metadata": {},
       "output_type": "pyout",
       "prompt_number": 123,
       "text": [
        "True"
       ]
      }
     ],
     "prompt_number": 123
    },
    {
     "cell_type": "markdown",
     "metadata": {
      "slideshow": {
       "slide_type": "slide"
      }
     },
     "source": [
      "<h3>Strings als Sequenzen</h3>\n",
      "<p>Strings teilen mit Listen gewisse Eigenschaften, z.B. kann man Strings \u00fcber ihren Index ansprechen:"
     ]
    },
    {
     "cell_type": "code",
     "collapsed": false,
     "input": [
      "s = \"Hausaufgabe\"\n",
      "print(s[0])\n",
      "print(s[4:])"
     ],
     "language": "python",
     "metadata": {
      "slideshow": {
       "slide_type": "fragment"
      }
     },
     "outputs": [
      {
       "output_type": "stream",
       "stream": "stdout",
       "text": [
        "H\n",
        "aufgabe\n"
       ]
      }
     ],
     "prompt_number": 124
    },
    {
     "cell_type": "markdown",
     "metadata": {
      "slideshow": {
       "slide_type": "fragment"
      }
     },
     "source": [
      "Strings k\u00f6nnen sortiert werden:"
     ]
    },
    {
     "cell_type": "code",
     "collapsed": false,
     "input": [
      "sorted(s)\n",
      "['H', 'a', 'a', 'a', 'b', 'e', 'f', 'g', 's', 'u', 'u']"
     ],
     "language": "python",
     "metadata": {
      "slideshow": {
       "slide_type": "fragment"
      }
     },
     "outputs": [
      {
       "metadata": {},
       "output_type": "pyout",
       "prompt_number": 47,
       "text": [
        "['H', 'a', 'a', 'a', 'b', 'e', 'f', 'g', 's', 'u', 'u']"
       ]
      }
     ],
     "prompt_number": 47
    },
    {
     "cell_type": "markdown",
     "metadata": {
      "slideshow": {
       "slide_type": "fragment"
      }
     },
     "source": [
      "Die L\u00e4nge von Strings kann ebenso ausgegen werden wie die von Listen:"
     ]
    },
    {
     "cell_type": "code",
     "collapsed": false,
     "input": [
      "len(s)"
     ],
     "language": "python",
     "metadata": {
      "slideshow": {
       "slide_type": "subslide"
      }
     },
     "outputs": [
      {
       "metadata": {},
       "output_type": "pyout",
       "prompt_number": 48,
       "text": [
        "11"
       ]
      }
     ],
     "prompt_number": 48
    },
    {
     "cell_type": "markdown",
     "metadata": {
      "slideshow": {
       "slide_type": "fragment"
      }
     },
     "source": [
      "Aber Strings sind unver\u00e4nderlich, d.h. man kann nichts einf\u00fcgen oder anh\u00e4ngen:"
     ]
    },
    {
     "cell_type": "code",
     "collapsed": false,
     "input": [
      "s.append(\"en\")  # erzeugt einen Fehler!"
     ],
     "language": "python",
     "metadata": {
      "slideshow": {
       "slide_type": "fragment"
      }
     },
     "outputs": [
      {
       "ename": "AttributeError",
       "evalue": "'str' object has no attribute 'append'",
       "output_type": "pyerr",
       "traceback": [
        "\u001b[0;31m---------------------------------------------------------------------------\u001b[0m\n\u001b[0;31mAttributeError\u001b[0m                            Traceback (most recent call last)",
        "\u001b[0;32m<ipython-input-49-ece1edd35ab3>\u001b[0m in \u001b[0;36m<module>\u001b[0;34m()\u001b[0m\n\u001b[0;32m----> 1\u001b[0;31m \u001b[0ms\u001b[0m\u001b[0;34m.\u001b[0m\u001b[0mappend\u001b[0m\u001b[0;34m(\u001b[0m\u001b[0;34m\"en\"\u001b[0m\u001b[0;34m)\u001b[0m  \u001b[0;31m# erzeugt einen Fehler!\u001b[0m\u001b[0;34m\u001b[0m\u001b[0m\n\u001b[0m",
        "\u001b[0;31mAttributeError\u001b[0m: 'str' object has no attribute 'append'"
       ]
      }
     ],
     "prompt_number": 49
    },
    {
     "cell_type": "markdown",
     "metadata": {
      "slideshow": {
       "slide_type": "fragment"
      }
     },
     "source": [
      "Oberbegriff: **Sequenzen**"
     ]
    },
    {
     "cell_type": "markdown",
     "metadata": {
      "slideshow": {
       "slide_type": "slide"
      }
     },
     "source": [
      "<h3 style=\"color: green\">Aufgaben</h3>\n",
      "\n",
      "<code style=\"color: green\"> s = \"Kleine Kinder\"</code>\n",
      "<ol style=\"color: green\">\n",
      "<li> Geben Sie das \u201aK\u2018 von \u201aKinder\u2018 aus</li>\n",
      "<li> Schneiden Sie \u201aKinder\u2018 aus dem String </li>\n",
      "<li> Geben Sie das folgende in die Python-Konsole ein:<br/>\n",
      "<code style=\"color: green\">a = [\"Kind\",\"Name\",\"Hund\"]</code><br/>\n",
      "<code style=\"color: green\">a[0][0]</code></li>\n",
      "<li>Wie sieht das Ergebnis aus? Erkl\u00e4ren Sie das Ergebnis. Probieren Sie weitere Kombinationen. </li>\n",
      "<li> Wie k\u00f6nnte man aus \u2018Hund\u2019 \u2018Hand\u2019 machen? (Verwenden Sie bei der Zuweisung den Wert aus der Liste)</li>\n",
      "</ol>"
     ]
    },
    {
     "cell_type": "markdown",
     "metadata": {
      "slideshow": {
       "slide_type": "subslide"
      }
     },
     "source": [
      "<h3 style=\"color: green\">Musterl\u00f6sung</h3>\n",
      "<div style=\"color: green\">\n",
      "<code style=\"color: green\"> s = \"Kleine Kinder\"</code>\n",
      "<ol>\n",
      "<li> Geben Sie das \u201aK\u2018 von \u201aKinder\u2018 aus\n",
      "</ol>\n",
      "\n",
      "</div>\n"
     ]
    },
    {
     "cell_type": "code",
     "collapsed": false,
     "input": [
      "s = \"Kleine Kinder\"\n",
      "s[7]"
     ],
     "language": "python",
     "metadata": {
      "slideshow": {
       "slide_type": "fragment"
      }
     },
     "outputs": [
      {
       "metadata": {},
       "output_type": "pyout",
       "prompt_number": 50,
       "text": [
        "'K'"
       ]
      }
     ],
     "prompt_number": 50
    },
    {
     "cell_type": "markdown",
     "metadata": {},
     "source": [
      "<p style=\"color:green;\">2. Schneiden Sie \u201aKinder\u2018 aus dem String </p>"
     ]
    },
    {
     "cell_type": "code",
     "collapsed": false,
     "input": [
      "s[7:]"
     ],
     "language": "python",
     "metadata": {
      "slideshow": {
       "slide_type": "fragment"
      }
     },
     "outputs": [
      {
       "metadata": {},
       "output_type": "pyout",
       "prompt_number": 52,
       "text": [
        "'Kinder'"
       ]
      }
     ],
     "prompt_number": 52
    },
    {
     "cell_type": "markdown",
     "metadata": {
      "slideshow": {
       "slide_type": "subslide"
      }
     },
     "source": [
      "<p> 3. Geben Sie das folgende in die Python-Console ein:<br/>\n",
      "<code style=\"color: green\">a = [\"Kind\",\"Name\",\"Hund\"]</code><br/>\n",
      "<code style=\"color: green\">a[0][0]</code>\n",
      "<li>Wie sieht das Ergebnis aus? Erkl\u00e4ren Sie das Ergebnis. Probieren Sie weitere Kombinationen. \n"
     ]
    },
    {
     "cell_type": "code",
     "collapsed": false,
     "input": [
      "a = [\"Kind\",\"Name\",\"Hund\"]\n",
      "print(a[0])\n",
      "print(a[0][0])"
     ],
     "language": "python",
     "metadata": {
      "slideshow": {
       "slide_type": "fragment"
      }
     },
     "outputs": [
      {
       "output_type": "stream",
       "stream": "stdout",
       "text": [
        "Kind\n",
        "K\n"
       ]
      }
     ],
     "prompt_number": 59
    },
    {
     "cell_type": "markdown",
     "metadata": {
      "slideshow": {
       "slide_type": "fragment"
      }
     },
     "source": [
      "<p>4. Wie k\u00f6nnte man aus 'Hund' 'Hand' machen? (Verwenden Sie bei der Zuweisung den Wert aus der Liste) "
     ]
    },
    {
     "cell_type": "markdown",
     "metadata": {
      "slideshow": {
       "slide_type": "fragment"
      }
     },
     "source": [
      "Strings sind unver\u00e4nderlich, man kann also nicht den String ver\u00e4ndern, sondern muss das ganze Listenelement ersetzen!"
     ]
    },
    {
     "cell_type": "code",
     "collapsed": false,
     "input": [
      "a[2] = \"Hand\"\n",
      "a"
     ],
     "language": "python",
     "metadata": {
      "slideshow": {
       "slide_type": "fragment"
      }
     },
     "outputs": [
      {
       "metadata": {},
       "output_type": "pyout",
       "prompt_number": 54,
       "text": [
        "['Kind', 'Name', 'Hand']"
       ]
      }
     ],
     "prompt_number": 54
    },
    {
     "cell_type": "heading",
     "level": 3,
     "metadata": {
      "slideshow": {
       "slide_type": "slide"
      }
     },
     "source": [
      "Datenstruktur: Tupel"
     ]
    },
    {
     "cell_type": "code",
     "collapsed": false,
     "input": [
      "t = (\"Eins\", \"Zwei\")\n",
      "t[0]"
     ],
     "language": "python",
     "metadata": {
      "slideshow": {
       "slide_type": "fragment"
      }
     },
     "outputs": [
      {
       "metadata": {},
       "output_type": "pyout",
       "prompt_number": 55,
       "text": [
        "'Eins'"
       ]
      }
     ],
     "prompt_number": 55
    },
    {
     "cell_type": "code",
     "collapsed": false,
     "input": [
      "t[0] = \"Null\""
     ],
     "language": "python",
     "metadata": {
      "slideshow": {
       "slide_type": "fragment"
      }
     },
     "outputs": [
      {
       "ename": "TypeError",
       "evalue": "'tuple' object does not support item assignment",
       "output_type": "pyerr",
       "traceback": [
        "\u001b[0;31m---------------------------------------------------------------------------\u001b[0m\n\u001b[0;31mTypeError\u001b[0m                                 Traceback (most recent call last)",
        "\u001b[0;32m<ipython-input-56-9de85a0cabce>\u001b[0m in \u001b[0;36m<module>\u001b[0;34m()\u001b[0m\n\u001b[0;32m----> 1\u001b[0;31m \u001b[0mt\u001b[0m\u001b[0;34m[\u001b[0m\u001b[0;36m0\u001b[0m\u001b[0;34m]\u001b[0m \u001b[0;34m=\u001b[0m \u001b[0;34m\"Null\"\u001b[0m\u001b[0;34m\u001b[0m\u001b[0m\n\u001b[0m",
        "\u001b[0;31mTypeError\u001b[0m: 'tuple' object does not support item assignment"
       ]
      }
     ],
     "prompt_number": 56
    },
    {
     "cell_type": "markdown",
     "metadata": {
      "slideshow": {
       "slide_type": "fragment"
      }
     },
     "source": [
      "* Tupel \u00e4hneln Listen, sind aber unver\u00e4nderlich\n",
      "* Literal mit `,` (zwingend) und runden Klammern (meist n\u00f6tig)"
     ]
    },
    {
     "cell_type": "code",
     "collapsed": false,
     "input": [
      "a = (\"Eins\")\n",
      "b = (\"Eins\",)\n",
      "print(type(a), type(b))"
     ],
     "language": "python",
     "metadata": {
      "slideshow": {
       "slide_type": "fragment"
      }
     },
     "outputs": [
      {
       "output_type": "stream",
       "stream": "stdout",
       "text": [
        "<class 'str'> <class 'tuple'>\n"
       ]
      }
     ],
     "prompt_number": 58
    },
    {
     "cell_type": "markdown",
     "metadata": {
      "slideshow": {
       "slide_type": "slide"
      }
     },
     "source": [
      "<h3>Datenstruktur Dictionary</h3>\n",
      "<p>Dictionaries sind Sammlungen von Dateneinheiten. Jede Einheit hat einen Namen ('key') und einen Inhalt ('value'). Sie sind sehr geeignet zum schnellen Nachschlagen, wenn der key bekannt ist.\n",
      "<p>Dictionary sind unsortiert, d.h.die Einheiten liegen nicht in einer bestimmten Reihenfolge vor.\n",
      "\n",
      "<img src=\"files/images/dict1.png\" width=\"60%\" height=\"60%\" border=\"0\" alt=\"\"> "
     ]
    },
    {
     "cell_type": "markdown",
     "metadata": {
      "slideshow": {
       "slide_type": "slide"
      }
     },
     "source": [
      "<h3>Dictionaries erzeugen<h3>"
     ]
    },
    {
     "cell_type": "code",
     "collapsed": false,
     "input": [
      "# erzeugt ein Dictionary mit 3 Eintr\u00e4gen. Strings als Key mit Anf\u00fchrungszeichen. \n",
      "# Doppelpunkt zwischen Key und Value. \n",
      "# Geschweifte Klammer als Gesamtmarkierung\n",
      "titles = { \"Goethe\" : \"Faust. Eine Trag\u00f6die\", \n",
      "           \"Mann\" : \"Buddenbrooks\", \n",
      "           \"Schiller\" : \"Der Geisterseher\" }\n",
      "titles"
     ],
     "language": "python",
     "metadata": {
      "slideshow": {
       "slide_type": "fragment"
      }
     },
     "outputs": [
      {
       "metadata": {},
       "output_type": "pyout",
       "prompt_number": 62,
       "text": [
        "{'Goethe': 'Faust. Eine Trag\u00f6die',\n",
        " 'Mann': 'Buddenbrooks',\n",
        " 'Schiller': 'Der Geisterseher'}"
       ]
      }
     ],
     "prompt_number": 62
    },
    {
     "cell_type": "code",
     "collapsed": false,
     "input": [
      "# erzeugt ein Dictionary mit 3 Eintr\u00e4gen. Strings als Key ohne(!) Anf\u00fchrungszeichen. \n",
      "# Istgleich-Zeichen zwischen Key und Value.  \n",
      "titles = dict(Goethe = \"Faust. Eine Trag\u00f6die\", \n",
      "              Mann = \"Buddenbrooks\", \n",
      "              Schiller = \"Der Geisterseher\" )\n",
      "titles"
     ],
     "language": "python",
     "metadata": {
      "slideshow": {
       "slide_type": "fragment"
      }
     },
     "outputs": [
      {
       "metadata": {},
       "output_type": "pyout",
       "prompt_number": 63,
       "text": [
        "{'Schiller': 'Der Geisterseher',\n",
        " 'Mann': 'Buddenbrooks',\n",
        " 'Goethe': 'Faust. Eine Trag\u00f6die'}"
       ]
      }
     ],
     "prompt_number": 63
    },
    {
     "cell_type": "markdown",
     "metadata": {
      "slideshow": {
       "slide_type": "fragment"
      }
     },
     "source": [
      "`dict` als **Konstruktor**funktion, Keys = _Keyword-Argumente_. Das geht nur, wenn die Keys Identifier sind!"
     ]
    },
    {
     "cell_type": "markdown",
     "metadata": {
      "slideshow": {
       "slide_type": "subslide"
      }
     },
     "source": [
      "<h3>Dictionary: Werte setzen</h3>"
     ]
    },
    {
     "cell_type": "code",
     "collapsed": false,
     "input": [
      "titles[\"Kafka\"] = \"Der Proze\u00df\"               # f\u00fcgt weiteren Wert hinzu\n",
      "titles"
     ],
     "language": "python",
     "metadata": {
      "slideshow": {
       "slide_type": "fragment"
      }
     },
     "outputs": [
      {
       "metadata": {},
       "output_type": "pyout",
       "prompt_number": 64,
       "text": [
        "{'Kafka': 'Der Proze\u00df',\n",
        " 'Schiller': 'Der Geisterseher',\n",
        " 'Mann': 'Buddenbrooks',\n",
        " 'Goethe': 'Faust. Eine Trag\u00f6die'}"
       ]
      }
     ],
     "prompt_number": 64
    },
    {
     "cell_type": "code",
     "collapsed": false,
     "input": [
      "titles[\"Kafka\"] = \"Das Schlo\u00df\"\n",
      "titles"
     ],
     "language": "python",
     "metadata": {
      "slideshow": {
       "slide_type": "fragment"
      }
     },
     "outputs": [
      {
       "metadata": {},
       "output_type": "pyout",
       "prompt_number": 65,
       "text": [
        "{'Kafka': 'Das Schlo\u00df',\n",
        " 'Schiller': 'Der Geisterseher',\n",
        " 'Mann': 'Buddenbrooks',\n",
        " 'Goethe': 'Faust. Eine Trag\u00f6die'}"
       ]
      }
     ],
     "prompt_number": 65
    },
    {
     "cell_type": "markdown",
     "metadata": {
      "slideshow": {
       "slide_type": "subslide"
      }
     },
     "source": [
      "<h3>Dictionaries: keys</h3>\n",
      "<p>Keys m\u00fcssen _hashable_ sein, d.h. vor allem unver\u00e4nderbar, z.B. Zahlen, Strings etc.    (also keine Listen und keine Dictionaries)\n"
     ]
    },
    {
     "cell_type": "code",
     "collapsed": false,
     "input": [
      "a = \"hallo\"\n",
      "d  = { a : 1 }        # dictionary mit string als key\n",
      "a = 1\n",
      "d  =  { a : 1 }       # dictionary mit int als key\n",
      "a = [1,2,3]         \n",
      "#d  = { a : 1 }        # dictionary mit liste als key erzeugt einen Error"
     ],
     "language": "python",
     "metadata": {
      "slideshow": {
       "slide_type": "fragment"
      }
     },
     "outputs": [],
     "prompt_number": 66
    },
    {
     "cell_type": "markdown",
     "metadata": {
      "slideshow": {
       "slide_type": "fragment"
      }
     },
     "source": [
      "Aber **Tupel** gehen, wenn deren Elemente _hashable_ sind:"
     ]
    },
    {
     "cell_type": "code",
     "collapsed": false,
     "input": [
      "{(\"Kafka\", \"Franz\") : \"Der Proze\u00df\"}"
     ],
     "language": "python",
     "metadata": {
      "slideshow": {
       "slide_type": "fragment"
      }
     },
     "outputs": [
      {
       "metadata": {},
       "output_type": "pyout",
       "prompt_number": 67,
       "text": [
        "{('Kafka', 'Franz'): 'Der Proze\u00df'}"
       ]
      }
     ],
     "prompt_number": 67
    },
    {
     "cell_type": "markdown",
     "metadata": {
      "slideshow": {
       "slide_type": "subslide"
      }
     },
     "source": [
      "<h3>Dictionaries: values</h3>\n",
      "<p>Values k\u00f6nnen beliebige Objekte sein, also wirklich alles (da in Python alles ein Objekt ist)\n"
     ]
    },
    {
     "cell_type": "code",
     "collapsed": false,
     "input": [
      "d = { \"a\" : \"hallo\"}              #value ist ein String. \n",
      "d[\"a\"]"
     ],
     "language": "python",
     "metadata": {
      "slideshow": {
       "slide_type": "fragment"
      }
     },
     "outputs": [
      {
       "metadata": {},
       "output_type": "pyout",
       "prompt_number": 68,
       "text": [
        "'hallo'"
       ]
      }
     ],
     "prompt_number": 68
    },
    {
     "cell_type": "code",
     "collapsed": false,
     "input": [
      "d = { \"a\" : [1,2,3,4] }           #value ist eine Liste \n",
      "d[\"a\"]"
     ],
     "language": "python",
     "metadata": {
      "slideshow": {
       "slide_type": "fragment"
      }
     },
     "outputs": [
      {
       "metadata": {},
       "output_type": "pyout",
       "prompt_number": 69,
       "text": [
        "[1, 2, 3, 4]"
       ]
      }
     ],
     "prompt_number": 69
    },
    {
     "cell_type": "code",
     "collapsed": false,
     "input": [
      "d[\"a\"][1]"
     ],
     "language": "python",
     "metadata": {
      "slideshow": {
       "slide_type": "fragment"
      }
     },
     "outputs": [
      {
       "metadata": {},
       "output_type": "pyout",
       "prompt_number": 70,
       "text": [
        "2"
       ]
      }
     ],
     "prompt_number": 70
    },
    {
     "cell_type": "code",
     "collapsed": false,
     "input": [
      "d = { \"a\" : len }                  #value ist eine Funktion - eher ungew\u00f6hnliche Verwendung\n",
      "d[\"a\"](\"hallo\")"
     ],
     "language": "python",
     "metadata": {
      "slideshow": {
       "slide_type": "fragment"
      }
     },
     "outputs": [
      {
       "metadata": {},
       "output_type": "pyout",
       "prompt_number": 71,
       "text": [
        "5"
       ]
      }
     ],
     "prompt_number": 71
    },
    {
     "cell_type": "markdown",
     "metadata": {
      "slideshow": {
       "slide_type": "slide"
      }
     },
     "source": [
      "<h3 style=\"color: green\">Aufgaben</h3>\n",
      "<div style=\"color: green\">\n",
      "<ol>\n",
      "<li>Erzeugen Sie ein Dictionary mit 4 Eintr\u00e4gen, das als Key den Namen eines Landes enth\u00e4lt und als Value die Hauptstadt. Ein Eintrag lautet: Deutschland - Bonn.\n",
      "<li>F\u00fcgen sie dem Dictionary einen weiteren Eintrag hinzu: Frankreich - Paris.\n",
      "<li>Geben Sie die Hauptstadt von Deutschland aus.\n",
      "<li>Korrigieren Sie den Eintrag f\u00fcr Deutschland und setzen den value auf 'Berlin'\n",
      "<li>Verwenden Sie ein Dictionary, um ein kleines Telefonbuch anzulegen. Jedem der Namen sind <b>zwei</b> Nummern zugeordnet (Heim, Office): Maria: 555-1234 und 555-9999, Sepp: 555-5678 und 555-8888, Jo: 5555-1526 und 555-7777. \n",
      "<li>Listen Sie aus ihrem Telefonbuch den Heimanschluss f\u00fcr Maria auf.\n",
      "</ol>\n",
      "\n",
      "</div>"
     ]
    },
    {
     "cell_type": "markdown",
     "metadata": {},
     "source": [
      "### Musterl\u00f6sung"
     ]
    },
    {
     "cell_type": "code",
     "collapsed": false,
     "input": [
      "# 1. Erzeugen Sie ein Dictionary mit 4 Eintr\u00e4gen, das als Key den Namen eines Landes \n",
      "# enth\u00e4lt und als Value die Hauptstadt. Ein Eintrag lautet: Deutschland - Bonn.\n",
      "capitals = { \"Deutschland\": \"Bonn\", \"Italien\": \"Rom\", \"Polen\": \"Warschau\", \"Schweiz\": \"Z\u00fcrich\" }\n",
      "# 2. Neuer Eintrag\n",
      "capitals[\"Frankreich\"] = \"Paris\"\n",
      "# 3. Ausgabe\n",
      "print(\"Die Hauptstadt von Deutschland ist\", capitals[\"Deutschland\"])\n",
      "# 4. Korrektur\n",
      "capitals[\"Deutschland\"] = \"Berlin\"\n",
      "# 5. Telefonbuch z.B. so:\n",
      "telefonbuch = { \n",
      "    \"Maria\": { \"Heim\": \"555-1234\", \"Office\": \"555-9999\" },\n",
      "    \"Sepp\":  { \"Heim\": \"555-5678\", \"Office\": \"555-8888\" },\n",
      "    \"Jo\":    { \"Heim\": \"5555-1526\", \"Office\": \"555-7777\" }\n",
      "}\n",
      "print(\"Marias Heimanschluss:\", telefonbuch[\"Maria\"][\"Heim\"])"
     ],
     "language": "python",
     "metadata": {},
     "outputs": [
      {
       "output_type": "stream",
       "stream": "stdout",
       "text": [
        "Die Hauptstadt von Deutschland ist Bonn\n",
        "Marias Heimanschluss: 555-1234\n"
       ]
      }
     ],
     "prompt_number": 87
    },
    {
     "cell_type": "markdown",
     "metadata": {
      "slideshow": {
       "slide_type": "fragment"
      }
     },
     "source": [
      "In F\u00e4llen wie Aufgabe\u00a05 kann man auch _Konstanten_ f\u00fcr die gleichbleibenden technischen Strings `\"Heim\"` und `\"Office\"` verwenden. In diesem Falle bek\u00e4me man bei einem Tippfehler eine Fehlermeldung \u00fcber die undefinierte Variable statt eines unerwarteten Ergebnisses."
     ]
    },
    {
     "cell_type": "code",
     "collapsed": false,
     "input": [
      "HOME = \"Heim\"\n",
      "OFFICE = \"Office\"\n",
      "telefonbuch = { \n",
      "    \"Maria\": { HOME: \"555-1234\", OFFICE: \"555-9999\" },\n",
      "    \"Sepp\":  { HOME: \"555-5678\", OFFICE: \"555-8888\" },\n",
      "    \"Jo\":    { HOME: \"5555-1526\", OFFICE: \"555-7777\" }\n",
      "}\n",
      "print(telefonbuch[\"Maria\"][HOME])"
     ],
     "language": "python",
     "metadata": {
      "slideshow": {
       "slide_type": "fragment"
      }
     },
     "outputs": [
      {
       "output_type": "stream",
       "stream": "stdout",
       "text": [
        "555-1234\n"
       ]
      }
     ],
     "prompt_number": 91
    },
    {
     "cell_type": "markdown",
     "metadata": {
      "slideshow": {
       "slide_type": "slide"
      }
     },
     "source": [
      "<h3>Dictionaries: Funktionen</h3>"
     ]
    },
    {
     "cell_type": "code",
     "collapsed": false,
     "input": [
      "d = {\"a\" : 1, \"b\" : 2 , \"c\" : 5}\n",
      "del d[\"c\"]    #del d [mkey] l\u00f6scht den Eintrag im Dictionary, der den key mkey hat.\n",
      "d"
     ],
     "language": "python",
     "metadata": {
      "slideshow": {
       "slide_type": "fragment"
      }
     },
     "outputs": [
      {
       "metadata": {},
       "output_type": "pyout",
       "prompt_number": 92,
       "text": [
        "{'b': 2, 'a': 1}"
       ]
      }
     ],
     "prompt_number": 92
    },
    {
     "cell_type": "code",
     "collapsed": false,
     "input": [
      "d.keys()   # gibt die keys des dictionaries d aus"
     ],
     "language": "python",
     "metadata": {
      "slideshow": {
       "slide_type": "fragment"
      }
     },
     "outputs": [
      {
       "metadata": {},
       "output_type": "pyout",
       "prompt_number": 93,
       "text": [
        "dict_keys(['b', 'a'])"
       ]
      }
     ],
     "prompt_number": 93
    },
    {
     "cell_type": "code",
     "collapsed": false,
     "input": [
      "titles.keys()"
     ],
     "language": "python",
     "metadata": {
      "slideshow": {
       "slide_type": "fragment"
      }
     },
     "outputs": [
      {
       "metadata": {},
       "output_type": "pyout",
       "prompt_number": 94,
       "text": [
        "dict_keys(['Goethe', 'Mann', 'Schiller'])"
       ]
      }
     ],
     "prompt_number": 94
    },
    {
     "cell_type": "markdown",
     "metadata": {
      "slideshow": {
       "slide_type": "fragment"
      }
     },
     "source": [
      "<p>Die Klasse dict_keys sieht zwar aus wie eine Liste und funktioniert auch \u00e4hnlich, aber wenn wir auf einen bestimmten Index zugreifen wollen, m\u00fcssen wir vorher eine Liste daraus machen (Type Casting!)."
     ]
    },
    {
     "cell_type": "code",
     "collapsed": false,
     "input": [
      "names = list(titles.keys())\n",
      "names[1]"
     ],
     "language": "python",
     "metadata": {
      "slideshow": {
       "slide_type": "fragment"
      }
     },
     "outputs": [
      {
       "metadata": {},
       "output_type": "pyout",
       "prompt_number": 95,
       "text": [
        "'Mann'"
       ]
      }
     ],
     "prompt_number": 95
    },
    {
     "cell_type": "markdown",
     "metadata": {
      "slideshow": {
       "slide_type": "slide"
      }
     },
     "source": [
      "<h3 >Dictionaries: auf Inhalte testen</h3>\n",
      "<p> Mit <code>key in d</code> kann man testen, ob der key in dem Dictionary d enthalten ist. Wenn er vorhanden ist, wird True zur\u00fcckgegeben, sonst False. \n",
      "<p>Das Gegenst\u00fcck ist <code>key not in d</code>, das True zur\u00fcckgibt, wenn der key nicht in dem Dictionary enthalten ist."
     ]
    },
    {
     "cell_type": "code",
     "collapsed": false,
     "input": [
      "titles = {\"Goethe\": \"Faust. Eine Trag\u00f6die\", \"Mann\": \"Buddenbrooks\", \"Schiller\": \"Der Geisterseher\"}\n",
      "\"Mann\" in titles"
     ],
     "language": "python",
     "metadata": {
      "slideshow": {
       "slide_type": "fragment"
      }
     },
     "outputs": [
      {
       "metadata": {},
       "output_type": "pyout",
       "prompt_number": 96,
       "text": [
        "True"
       ]
      }
     ],
     "prompt_number": 96
    },
    {
     "cell_type": "code",
     "collapsed": false,
     "input": [
      "\"Hesse\" not in titles"
     ],
     "language": "python",
     "metadata": {
      "slideshow": {
       "slide_type": "fragment"
      }
     },
     "outputs": [
      {
       "metadata": {},
       "output_type": "pyout",
       "prompt_number": 97,
       "text": [
        "True"
       ]
      }
     ],
     "prompt_number": 97
    },
    {
     "cell_type": "markdown",
     "metadata": {
      "slideshow": {
       "slide_type": "slide"
      }
     },
     "source": [
      "<h3 style=\"color:green\">Aufgaben </h3>\n",
      "<ol style=\"color:green\">\n",
      "\n",
      "<li>Listen Sie die Hauptst\u00e4dte von oben auf (als Liste!).\n",
      "<li>Ersetzen Sie in der Liste der literarischen Texte \"Der Geisterseher\" mit \"Wallenstein\".\n",
      "<li>L\u00f6schen Sie Frankreich aus dem Dictionary.\n",
      "<li>Testen Sie, ob Italien in der Hauptstadtliste steht.\n",
      "<li>Testen Sie, ob Berlin <b>als value</b> in der Hauptstadtliste steht. \n",
      "\n",
      "</ol>\n"
     ]
    },
    {
     "cell_type": "markdown",
     "metadata": {
      "slideshow": {
       "slide_type": "slide"
      }
     },
     "source": [
      "<h3>Liste und Dictionaries</h3>\n",
      "<p>Listen und Dictionaries enthalten \u00fcblicherweise immer Elemente des gleichen Typs, so dass alle Elemente gleich verarbeitet werden k\u00f6nnen. Welche Datenstruktur f\u00fcr welche Aufgabe besser geeignet ist, ergibt sich aus der Art der Verarbeitung. Listen sind hervorragend geeignet, wenn alle ihre Elemente durchlaufen werden sollen, um alle oder einige (evtl. von Bedingungen) zu bearbeiten. Da Listen ihre Struktur behalten, also die Elemente immer in der gleichen Folge vorliegen, sind sie auch besonders geeignet, wenn die Reihenfolge der Elemente eine Rolle spielt. \n",
      "<p>Dictionaries sind besonders geeignet, wenn der bevorzugte Zugriff auf die Elemente nicht \u00fcber eine einfache Positionsinformation geschehen soll wie bei der Liste. \n",
      "<p>Sie werden noch viele weitere Datenstrukturen kennenlernen und auch lernen, eigene zu konstruieren. Machen Sie sich immer klar, welche Datenstruktur f\u00fcr die zu l\u00f6sende Aufgabe notwendig ist. Denken Sie \u00fcber ihr Programm nach, indem sie sich fragen, wie sieht meine Datenstruktur aus und wie muss ich sie bef\u00fcllen und auslesen.\n"
     ]
    },
    {
     "cell_type": "markdown",
     "metadata": {
      "slideshow": {
       "slide_type": "slide"
      }
     },
     "source": [
      "<h3 style=\"color:green\">Hausaufgaben (1/2) </h3>\n",
      "<ol style=\"color:green\">\n",
      "<li>Sie wollen ein einfaches Telefonbuch anlegen, nur Nachnamen und Nummer. Was ist die beste Datenstruktur? \n",
      "<li>Sie wollen die W\u00f6rter eines Textes auflisten. Welche der Datenstrukturen eignet sich daf\u00fcr?\n",
      "<li>Sie wollen die W\u00f6rter eines Textes und ihre Frequenz auflisten. Diskutieren Sie m\u00f6gliche L\u00f6sungen. Testen Sie eine in der Python-Konsole. Was erscheint Ihnen die beste L\u00f6sung?\n",
      "<li>Sie wollen die Tages-Temperaturen der europ\u00e4ischen Hauptst\u00e4dte in den letzten 4 Wochen speichern. Was w\u00e4ren m\u00f6gliche L\u00f6sungen? Testen Sie eine mit wenigen Spieldaten in der IPython-Konsole. Was w\u00e4re eine perfekte L\u00f6sung?  \n",
      "</ol>\n"
     ]
    },
    {
     "cell_type": "markdown",
     "metadata": {
      "slideshow": {
       "slide_type": "slide"
      }
     },
     "source": [
      "<h3 style=\"color:green\">Hausaufgaben (2/2)</h3>\n",
      "<p style=\"color:green\">Die Gemeinsame Normdatei der Deutschen Nationalbibliothek verzeichnet historische Personen, Ortsnamen usw. Jeder Eintrag hat eine einzigartige Nummer (id). In unserer vereinfachten Version besteht ein Eintrag aus 1. der id, 2. dem Namen, 3. einem kleinen Text zur Person oder dem Ort. \n",
      "<ol style=\"color:green\">\n",
      "<li>Definieren Sie 4 Test-Eintr\u00e4ge und holen Sie sich von der GND die richtigen GND-Nummern daf\u00fcr. \n",
      "<li>Geben Sie durch Angabe der Nummer den Eintrag aus. \n",
      "<li>F\u00fcgen Sie einen weiteren Eintrag hinzu.\n",
      "<li>Geben Sie alle GND-Nummern aus.\n",
      "<li>Geben Sie mit Verwendung einer GND-Nummer (nur) den Namen aus. \n",
      "<li>Geben Sie mit Verwendung einer GND-Nummer (nur) den  Text aus. \n",
      "\n",
      "</ol>"
     ]
    }
   ],
   "metadata": {}
  }
 ]
}