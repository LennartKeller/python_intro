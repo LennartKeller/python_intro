{
 "cells": [
  {
   "cell_type": "markdown",
   "metadata": {
    "slideshow": {
     "slide_type": "slide"
    }
   },
   "source": [
    "## Einführen in das Programmieren mit Python"
   ]
  },
  {
   "cell_type": "markdown",
   "metadata": {
    "slideshow": {
     "slide_type": "-"
    }
   },
   "source": [
    "# Datentypen und Datenstrukturen: Listen und Dictionaries"
   ]
  },
  {
   "cell_type": "markdown",
   "metadata": {
    "slideshow": {
     "slide_type": "slide"
    }
   },
   "source": [
    "### Wiederholung"
   ]
  },
  {
   "cell_type": "markdown",
   "metadata": {
    "slideshow": {
     "slide_type": "fragment"
    }
   },
   "source": [
    "* **Ausdruck** := syntaktisches Konstrukt, das in einem Kontext ausgewertet werden kann (also → Wert)\n",
    "\n",
    "* [Ausdrücke](https://docs.python.org/3/reference/expressions.html) sind rekursiv definiert, alles folgende sind Ausdrücke:\n",
    "\n",
    "    * ` 2`\n",
    "    * ` 3 * 4`\n",
    "    * ` 3 * 4 + 1`\n",
    "    * `(3 * 4 + 1) * len(\"Python\")`\n",
    "    * `(3 * 4 + 1) * len(\"Python\") < 5`"
   ]
  },
  {
   "cell_type": "markdown",
   "metadata": {
    "slideshow": {
     "slide_type": "fragment"
    }
   },
   "source": [
    "-   **Variablenzuweisung** mit = :<br/>\n",
    "     _identifier_ = _expression_<br/>\n",
    "     _Bezeichner_ = _Ausdruck_<br/>\n",
    "     Bsp.: ``word = \"Haus\" + \"bau\"``    "
   ]
  },
  {
   "cell_type": "markdown",
   "metadata": {
    "slideshow": {
     "slide_type": "subslide"
    }
   },
   "source": [
    "### Wiederholung (2)"
   ]
  },
  {
   "cell_type": "markdown",
   "metadata": {
    "slideshow": {
     "slide_type": "fragment"
    }
   },
   "source": [
    "-   **Datentypen**: <br/>\n",
    "     Integer, Float, Strings, Boolean"
   ]
  },
  {
   "cell_type": "markdown",
   "metadata": {
    "slideshow": {
     "slide_type": "fragment"
    }
   },
   "source": [
    "-   **Operatoren**:<br/>\n",
    "    ``+ - * / // % **            # Funktion der Operatoren abhängig vom Datentyp!``\n",
    " \n",
    "-   Aufruf von **Funktionen**<br/>\n",
    "     Funktion: `funktion(parameter [, …])` z.B. `print`, `len`<br/>     "
   ]
  },
  {
   "cell_type": "markdown",
   "metadata": {
    "slideshow": {
     "slide_type": "slide"
    }
   },
   "source": [
    "### Alle Datentypen in Python sind Objekttypen"
   ]
  },
  {
   "cell_type": "code",
   "execution_count": 2,
   "metadata": {
    "collapsed": false,
    "slideshow": {
     "slide_type": "fragment"
    }
   },
   "outputs": [
    {
     "data": {
      "text/plain": [
       "'HALLO'"
      ]
     },
     "execution_count": 2,
     "metadata": {},
     "output_type": "execute_result"
    }
   ],
   "source": [
    "\"Hallo\".upper()"
   ]
  },
  {
   "cell_type": "code",
   "execution_count": 3,
   "metadata": {
    "collapsed": false,
    "slideshow": {
     "slide_type": "fragment"
    }
   },
   "outputs": [
    {
     "data": {
      "text/plain": [
       "(3, 8)"
      ]
     },
     "execution_count": 3,
     "metadata": {},
     "output_type": "execute_result"
    }
   ],
   "source": [
    "f = 0.375\n",
    "f.as_integer_ratio()"
   ]
  },
  {
   "cell_type": "markdown",
   "metadata": {
    "slideshow": {
     "slide_type": "fragment"
    }
   },
   "source": [
    "* Objekt = Daten + Operationen darauf\n",
    "* **Methoden** sind Funktionen, die Teil eines Objekts sind\n",
    "* `.` = *Attributreferenz* – `foo.bar()` ruft die Methode namens `bar` des Objekts, das in der Veriablen `foo` steht, auf\n",
    "* Konsole: `\"Hallo\".<Tab>`\n",
    "* Konsole: `help(str)`"
   ]
  },
  {
   "cell_type": "markdown",
   "metadata": {
    "slideshow": {
     "slide_type": "subslide"
    }
   },
   "source": [
    "<h3>Type Casting</h3>\n",
    "<p>Verwandelt den Datentyp einer Variablen in einen anderen. \n"
   ]
  },
  {
   "cell_type": "code",
   "execution_count": 80,
   "metadata": {
    "collapsed": false,
    "slideshow": {
     "slide_type": "fragment"
    }
   },
   "outputs": [
    {
     "data": {
      "text/plain": [
       "float"
      ]
     },
     "execution_count": 80,
     "metadata": {},
     "output_type": "execute_result"
    }
   ],
   "source": [
    "a = 1.7\n",
    "type(a)        # type(x) gibt die Klasse von a aus                "
   ]
  },
  {
   "cell_type": "code",
   "execution_count": 81,
   "metadata": {
    "collapsed": false,
    "slideshow": {
     "slide_type": "fragment"
    }
   },
   "outputs": [
    {
     "data": {
      "text/plain": [
       "1"
      ]
     },
     "execution_count": 81,
     "metadata": {},
     "output_type": "execute_result"
    }
   ],
   "source": [
    "int(a)               # Achtung: Keine Rundung!"
   ]
  },
  {
   "cell_type": "code",
   "execution_count": 82,
   "metadata": {
    "collapsed": false,
    "slideshow": {
     "slide_type": "fragment"
    }
   },
   "outputs": [
    {
     "data": {
      "text/plain": [
       "1.0"
      ]
     },
     "execution_count": 82,
     "metadata": {},
     "output_type": "execute_result"
    }
   ],
   "source": [
    "a = 1\n",
    "float(a)"
   ]
  },
  {
   "cell_type": "code",
   "execution_count": 83,
   "metadata": {
    "collapsed": false,
    "slideshow": {
     "slide_type": "fragment"
    }
   },
   "outputs": [
    {
     "data": {
      "text/plain": [
       "1"
      ]
     },
     "execution_count": 83,
     "metadata": {},
     "output_type": "execute_result"
    }
   ],
   "source": [
    "a = \"1\" \n",
    "int(a)"
   ]
  },
  {
   "cell_type": "markdown",
   "metadata": {
    "slideshow": {
     "slide_type": "subslide"
    }
   },
   "source": [
    "<div style=\"color:green\">\n",
    "\n",
    "<h3>Aufgaben</h3>\n",
    "\n",
    "<ol>\n",
    "\n",
    "<li>Weisen Sie der Variablen _a_ den Wert `32` als Fließkommazahl zu. Speichern Sie das Ergebnis eines type casting nach Integers in der Variablen b.</li>\n",
    "\n",
    "<li>Gegeben ist: `c = \"hallo\"`<br/>\n",
    "    \n",
    "Verwandeln Sie den Datentyp von `c` in einen Wahrheitswert. Welchen Ausgangswert muss `c` wohl haben, damit der Wahrheitswert `False` lautet? </li>\n",
    "<li>Versuchen sie `c` nach `int` zu casten.</li>\n",
    "</ol>\n",
    "</div>\n"
   ]
  },
  {
   "cell_type": "markdown",
   "metadata": {
    "slideshow": {
     "slide_type": "subslide"
    }
   },
   "source": [
    "<h3>Musterlösung</h3>"
   ]
  },
  {
   "cell_type": "markdown",
   "metadata": {
    "slideshow": {
     "slide_type": "fragment"
    }
   },
   "source": [
    "<p>1. Weisen Sie der Variablen a den Wert 32 als Fließkommazahl zu. Speichern Sie das Ergebnis eines type casting nach Integers in der Variablen b. "
   ]
  },
  {
   "cell_type": "code",
   "execution_count": 11,
   "metadata": {
    "collapsed": false,
    "slideshow": {
     "slide_type": "fragment"
    }
   },
   "outputs": [
    {
     "name": "stdout",
     "output_type": "stream",
     "text": [
      "a: 32.0 • Typ: <class 'float'>\n",
      "b: 32 • Typ: <class 'int'>\n"
     ]
    }
   ],
   "source": [
    "a = float(32)   # oder a = 32.0\n",
    "print(\"a:\", a, \"• Typ:\", type(a))\n",
    "b = int(a)\n",
    "print(\"b:\", b, \"• Typ:\", type(b))"
   ]
  },
  {
   "cell_type": "markdown",
   "metadata": {
    "slideshow": {
     "slide_type": "subslide"
    }
   },
   "source": [
    "<p>2. Gegeben ist: `c = \"hallo\"`<br/>\n",
    "Verwandeln Sie den Datentyp von `c` in einen Wahrheitswert. Welchen Ausgangswert muss `c` wohl haben, damit der Wahrheitswert `False` lautet? "
   ]
  },
  {
   "cell_type": "code",
   "execution_count": 12,
   "metadata": {
    "collapsed": false,
    "slideshow": {
     "slide_type": "fragment"
    }
   },
   "outputs": [
    {
     "name": "stdout",
     "output_type": "stream",
     "text": [
      "d: True • Typ: <class 'bool'>\n"
     ]
    }
   ],
   "source": [
    "c = \"hallo\"\n",
    "d = bool(c)\n",
    "print(\"d:\", d, \"• Typ:\", type(d))"
   ]
  },
  {
   "cell_type": "code",
   "execution_count": 13,
   "metadata": {
    "collapsed": false,
    "slideshow": {
     "slide_type": "fragment"
    }
   },
   "outputs": [
    {
     "data": {
      "text/plain": [
       "True"
      ]
     },
     "execution_count": 13,
     "metadata": {},
     "output_type": "execute_result"
    }
   ],
   "source": [
    "bool(\"a\")"
   ]
  },
  {
   "cell_type": "code",
   "execution_count": 14,
   "metadata": {
    "collapsed": false,
    "slideshow": {
     "slide_type": "fragment"
    }
   },
   "outputs": [
    {
     "data": {
      "text/plain": [
       "False"
      ]
     },
     "execution_count": 14,
     "metadata": {},
     "output_type": "execute_result"
    }
   ],
   "source": [
    "bool(\"\")"
   ]
  },
  {
   "cell_type": "markdown",
   "metadata": {
    "slideshow": {
     "slide_type": "subslide"
    }
   },
   "source": [
    "<p>3. Versuchen sie `c` nach `int` zu casten"
   ]
  },
  {
   "cell_type": "code",
   "execution_count": 15,
   "metadata": {
    "collapsed": false,
    "slideshow": {
     "slide_type": "fragment"
    }
   },
   "outputs": [
    {
     "ename": "ValueError",
     "evalue": "invalid literal for int() with base 10: 'hallo'",
     "output_type": "error",
     "traceback": [
      "\u001b[1;31m---------------------------------------------------------------------------\u001b[0m",
      "\u001b[1;31mValueError\u001b[0m                                Traceback (most recent call last)",
      "\u001b[1;32m<ipython-input-15-e2401aa1513e>\u001b[0m in \u001b[0;36m<module>\u001b[1;34m()\u001b[0m\n\u001b[0;32m      1\u001b[0m \u001b[0mc\u001b[0m \u001b[1;33m=\u001b[0m \u001b[1;34m\"hallo\"\u001b[0m\u001b[1;33m\u001b[0m\u001b[0m\n\u001b[1;32m----> 2\u001b[1;33m \u001b[0mint\u001b[0m\u001b[1;33m(\u001b[0m\u001b[0mc\u001b[0m\u001b[1;33m)\u001b[0m\u001b[1;33m\u001b[0m\u001b[0m\n\u001b[0m",
      "\u001b[1;31mValueError\u001b[0m: invalid literal for int() with base 10: 'hallo'"
     ]
    }
   ],
   "source": [
    "c = \"hallo\"\n",
    "int(c)"
   ]
  },
  {
   "cell_type": "markdown",
   "metadata": {
    "slideshow": {
     "slide_type": "slide"
    }
   },
   "source": [
    "## Datenstrukturen: Listen, Strings als Sequenzen, Dictionaries"
   ]
  },
  {
   "cell_type": "markdown",
   "metadata": {
    "slideshow": {
     "slide_type": "slide"
    }
   },
   "source": [
    "<h3>Datenstruktur: Liste</h3>\n",
    "<img src=\"files/images/liste1.png\" width=\"50%\" height=\"50%\" border=\"0\" alt=\"\">    "
   ]
  },
  {
   "cell_type": "markdown",
   "metadata": {
    "slideshow": {
     "slide_type": "subslide"
    }
   },
   "source": [
    "<h3>Listen – ein Beispiel<h3>\n",
    "<img src=\"files/images/liste2.png\" width=\"50%\" height=\"50%\" border=\"0\" alt=\"\">    "
   ]
  },
  {
   "cell_type": "code",
   "execution_count": 16,
   "metadata": {
    "collapsed": false,
    "slideshow": {
     "slide_type": "fragment"
    }
   },
   "outputs": [
    {
     "data": {
      "text/plain": [
       "'Freud'"
      ]
     },
     "execution_count": 16,
     "metadata": {},
     "output_type": "execute_result"
    }
   ],
   "source": [
    "thinkers = ['Marx', 'Freud', 'Popper', 'Foucault']   # Listen-Literal\n",
    "thinkers[1]                                          # [1] hier: Subskriptionsoperator"
   ]
  },
  {
   "cell_type": "markdown",
   "metadata": {
    "slideshow": {
     "slide_type": "subslide"
    }
   },
   "source": [
    "<h3>Slicing – Listenausschnitte</h3>\n",
    "<p>Achtung: beim Slicen: erster Index ist eingeschlossen, letzter ausgeschlossen. thinkers[1:3] bedeutet also: der Inhalt von thinkers[1] und thinkers[2] aber nicht mehr von [3]\n",
    "\n",
    "<img src=\"files/images/liste2.png\" width=\"50%\" height=\"50%\" border=\"0\" alt=\"\">    "
   ]
  },
  {
   "cell_type": "code",
   "execution_count": 17,
   "metadata": {
    "collapsed": false,
    "slideshow": {
     "slide_type": "fragment"
    }
   },
   "outputs": [
    {
     "data": {
      "text/plain": [
       "['Freud', 'Popper']"
      ]
     },
     "execution_count": 17,
     "metadata": {},
     "output_type": "execute_result"
    }
   ],
   "source": [
    "thinkers[1:3]      # slicing "
   ]
  },
  {
   "cell_type": "code",
   "execution_count": 18,
   "metadata": {
    "collapsed": false,
    "slideshow": {
     "slide_type": "fragment"
    }
   },
   "outputs": [
    {
     "data": {
      "text/plain": [
       "['Marx', 'Freud']"
      ]
     },
     "execution_count": 18,
     "metadata": {},
     "output_type": "execute_result"
    }
   ],
   "source": [
    "thinkers[:2]"
   ]
  },
  {
   "cell_type": "code",
   "execution_count": 19,
   "metadata": {
    "collapsed": false,
    "slideshow": {
     "slide_type": "fragment"
    }
   },
   "outputs": [
    {
     "data": {
      "text/plain": [
       "['Popper', 'Foucault']"
      ]
     },
     "execution_count": 19,
     "metadata": {},
     "output_type": "execute_result"
    }
   ],
   "source": [
    "thinkers[2:]"
   ]
  },
  {
   "cell_type": "code",
   "execution_count": 20,
   "metadata": {
    "collapsed": false,
    "slideshow": {
     "slide_type": "fragment"
    }
   },
   "outputs": [
    {
     "data": {
      "text/plain": [
       "['Marx', 'Freud', 'Popper']"
      ]
     },
     "execution_count": 20,
     "metadata": {},
     "output_type": "execute_result"
    }
   ],
   "source": [
    "thinkers[:-1]                    # negative Indizes zählen von hinten"
   ]
  },
  {
   "cell_type": "markdown",
   "metadata": {
    "slideshow": {
     "slide_type": "subslide"
    }
   },
   "source": [
    "<h3>Variablen, Liste sortieren</h3>\n",
    "<img src=\"files/images/liste2.png\" width=\"30%\" height=\"30%\" border=\"0\" alt=\"\">    "
   ]
  },
  {
   "cell_type": "code",
   "execution_count": 21,
   "metadata": {
    "collapsed": false,
    "slideshow": {
     "slide_type": "fragment"
    }
   },
   "outputs": [
    {
     "data": {
      "text/plain": [
       "['Freud', 'Popper']"
      ]
     },
     "execution_count": 21,
     "metadata": {},
     "output_type": "execute_result"
    }
   ],
   "source": [
    "start = 1                           # slicing mit Variablen\n",
    "thinkers[start:3]"
   ]
  },
  {
   "cell_type": "code",
   "execution_count": 22,
   "metadata": {
    "collapsed": false,
    "slideshow": {
     "slide_type": "fragment"
    }
   },
   "outputs": [
    {
     "data": {
      "text/plain": [
       "['Foucault', 'Freud', 'Marx', 'Popper']"
      ]
     },
     "execution_count": 22,
     "metadata": {},
     "output_type": "execute_result"
    }
   ],
   "source": [
    "sorted(thinkers)             # gibt die sortierte Liste zurück"
   ]
  },
  {
   "cell_type": "code",
   "execution_count": 23,
   "metadata": {
    "collapsed": false,
    "slideshow": {
     "slide_type": "fragment"
    }
   },
   "outputs": [
    {
     "data": {
      "text/plain": [
       "['Marx', 'Freud', 'Popper', 'Foucault']"
      ]
     },
     "execution_count": 23,
     "metadata": {},
     "output_type": "execute_result"
    }
   ],
   "source": [
    "thinkers                    # hier: Liste selbst ist nicht verändert worden"
   ]
  },
  {
   "cell_type": "markdown",
   "metadata": {
    "slideshow": {
     "slide_type": "subslide"
    }
   },
   "source": [
    "<h3>Listen – Operationen</h3>\n",
    "<img src=\"files/images/liste2.png\" width=\"30%\" height=\"30%\" border=\"0\" alt=\"\">    "
   ]
  },
  {
   "cell_type": "code",
   "execution_count": 24,
   "metadata": {
    "collapsed": false,
    "slideshow": {
     "slide_type": "fragment"
    }
   },
   "outputs": [
    {
     "data": {
      "text/plain": [
       "4"
      ]
     },
     "execution_count": 24,
     "metadata": {},
     "output_type": "execute_result"
    }
   ],
   "source": [
    "thinkers = ['Marx','Freud', 'Popper','Foucault']\n",
    "len(thinkers)                                  # gibt Länge der Liste aus"
   ]
  },
  {
   "cell_type": "code",
   "execution_count": 26,
   "metadata": {
    "collapsed": false,
    "slideshow": {
     "slide_type": "fragment"
    }
   },
   "outputs": [
    {
     "data": {
      "text/plain": [
       "['Marx', 'Turing', 'Popper', 'Foucault', 'Luhmann']"
      ]
     },
     "execution_count": 26,
     "metadata": {},
     "output_type": "execute_result"
    }
   ],
   "source": [
    "thinkers = ['Marx','Freud', 'Popper','Foucault']\n",
    "thinkers[1] = \"Turing\"          # weist Listenplatz [1] einen neuen Wert zu\n",
    "thinkers.append('Luhmann')      # hängt einen neuen Eintrag an   \n",
    "thinkers"
   ]
  },
  {
   "cell_type": "code",
   "execution_count": 27,
   "metadata": {
    "collapsed": false,
    "slideshow": {
     "slide_type": "subslide"
    }
   },
   "outputs": [
    {
     "data": {
      "text/plain": [
       "['Marx', 'Turing', 'de Beauvoir', 'Popper', 'Foucault', 'Luhmann']"
      ]
     },
     "execution_count": 27,
     "metadata": {},
     "output_type": "execute_result"
    }
   ],
   "source": [
    "thinkers.insert(2, 'de Beauvoir')\n",
    "thinkers"
   ]
  },
  {
   "cell_type": "code",
   "execution_count": 28,
   "metadata": {
    "collapsed": false,
    "slideshow": {
     "slide_type": "fragment"
    }
   },
   "outputs": [
    {
     "data": {
      "text/plain": [
       "['Marx', 'Turing', 'de Beauvoir', 'Foucault', 'Luhmann']"
      ]
     },
     "execution_count": 28,
     "metadata": {},
     "output_type": "execute_result"
    }
   ],
   "source": [
    "del thinkers[3]\n",
    "thinkers"
   ]
  },
  {
   "cell_type": "code",
   "execution_count": 29,
   "metadata": {
    "collapsed": false,
    "slideshow": {
     "slide_type": "fragment"
    }
   },
   "outputs": [
    {
     "data": {
      "text/plain": [
       "[]"
      ]
     },
     "execution_count": 29,
     "metadata": {},
     "output_type": "execute_result"
    }
   ],
   "source": [
    "new_thinkers = []                                              # definiert leere Liste\n",
    "new_thinkers"
   ]
  },
  {
   "cell_type": "code",
   "execution_count": 30,
   "metadata": {
    "collapsed": false,
    "slideshow": {
     "slide_type": "fragment"
    }
   },
   "outputs": [
    {
     "data": {
      "text/plain": [
       "['von Neumann']"
      ]
     },
     "execution_count": 30,
     "metadata": {},
     "output_type": "execute_result"
    }
   ],
   "source": [
    "new_thinkers.append(\"von Neumann\")\n",
    "new_thinkers"
   ]
  },
  {
   "cell_type": "code",
   "execution_count": 31,
   "metadata": {
    "collapsed": false,
    "slideshow": {
     "slide_type": "fragment"
    }
   },
   "outputs": [
    {
     "data": {
      "text/plain": [
       "True"
      ]
     },
     "execution_count": 31,
     "metadata": {},
     "output_type": "execute_result"
    }
   ],
   "source": [
    "\"Marx\" in thinkers             # testet, ob das Element 'Marx' in der Liste thinkers enthalten ist."
   ]
  },
  {
   "cell_type": "markdown",
   "metadata": {
    "slideshow": {
     "slide_type": "slide"
    }
   },
   "source": [
    "<h3 style=\"color:green\">Aufgaben</h3>\n",
    "<ol style=\"color:green\">\n",
    "<li>Erzeugen Sie eine Liste mit dem Namen 'romane', die die Titel von 4 Romanen enthält.\n",
    "<li>Geben Sie alle Titel aus\n",
    "<li>Geben Sie nur den ersten Titel aus.\n",
    "<li>Geben Sie den 3. und den 4. Titel aus.\n",
    "<li>Hängen Sie den Namen eines weiteren Romans an die Liste an.\n",
    "<li>Sortieren Sie die Namen nach dem Alphabet\n",
    "<li>Ersetzen Sie den ersten Namen durch einen neuen\n",
    "<li>Testen Sie, ob \"Effi Briest\" in der Liste enthalten ist.\n",
    "<ol>"
   ]
  },
  {
   "cell_type": "markdown",
   "metadata": {
    "slideshow": {
     "slide_type": "subslide"
    }
   },
   "source": [
    "<h3>Musterlösung</h3>"
   ]
  },
  {
   "cell_type": "markdown",
   "metadata": {
    "slideshow": {
     "slide_type": "fragment"
    }
   },
   "source": [
    "\n",
    "\n",
    "1) Erzeugen Sie eine Liste mit dem Namen 'romane', die die Titel von 4 Romanen enthält."
   ]
  },
  {
   "cell_type": "code",
   "execution_count": 32,
   "metadata": {
    "collapsed": false,
    "slideshow": {
     "slide_type": "fragment"
    }
   },
   "outputs": [],
   "source": [
    "novels = [\"Wahlverwandtschaften\",\"Effi Briest\",\"Buddenbrooks\",\"Der Prozeß\"]"
   ]
  },
  {
   "cell_type": "markdown",
   "metadata": {
    "slideshow": {
     "slide_type": "fragment"
    }
   },
   "source": [
    "2) Geben Sie alle Titel aus"
   ]
  },
  {
   "cell_type": "code",
   "execution_count": 34,
   "metadata": {
    "collapsed": false,
    "slideshow": {
     "slide_type": "fragment"
    }
   },
   "outputs": [
    {
     "name": "stdout",
     "output_type": "stream",
     "text": [
      "['Wahlverwandtschaften', 'Effi Briest', 'Buddenbrooks', 'Der Prozeß']\n"
     ]
    }
   ],
   "source": [
    "print(novels)"
   ]
  },
  {
   "cell_type": "markdown",
   "metadata": {
    "slideshow": {
     "slide_type": "fragment"
    }
   },
   "source": [
    "3) Geben Sie nur den ersten Titel aus."
   ]
  },
  {
   "cell_type": "code",
   "execution_count": 35,
   "metadata": {
    "collapsed": false,
    "slideshow": {
     "slide_type": "fragment"
    }
   },
   "outputs": [
    {
     "name": "stdout",
     "output_type": "stream",
     "text": [
      "Wahlverwandtschaften\n"
     ]
    }
   ],
   "source": [
    "print(novels[0])"
   ]
  },
  {
   "cell_type": "markdown",
   "metadata": {
    "slideshow": {
     "slide_type": "fragment"
    }
   },
   "source": [
    "4) Geben Sie den 3. und den 4. Titel aus."
   ]
  },
  {
   "cell_type": "code",
   "execution_count": 36,
   "metadata": {
    "collapsed": false,
    "slideshow": {
     "slide_type": "fragment"
    }
   },
   "outputs": [
    {
     "name": "stdout",
     "output_type": "stream",
     "text": [
      "['Buddenbrooks', 'Der Prozeß']\n"
     ]
    }
   ],
   "source": [
    "print(novels[2:4])"
   ]
  },
  {
   "cell_type": "markdown",
   "metadata": {
    "slideshow": {
     "slide_type": "subslide"
    }
   },
   "source": [
    "5) Hängen Sie den Namen eines weiteren Romans an die Liste an."
   ]
  },
  {
   "cell_type": "code",
   "execution_count": 18,
   "metadata": {
    "collapsed": false,
    "slideshow": {
     "slide_type": "fragment"
    }
   },
   "outputs": [
    {
     "data": {
      "text/plain": [
       "['Wahlverwandtschaften',\n",
       " 'Effi Briest',\n",
       " 'Buddenbrooks',\n",
       " 'Der Prozeß',\n",
       " 'Soll und Haben']"
      ]
     },
     "execution_count": 18,
     "metadata": {},
     "output_type": "execute_result"
    }
   ],
   "source": [
    "novels.append(\"Soll und Haben\")\n",
    "novels"
   ]
  },
  {
   "cell_type": "markdown",
   "metadata": {
    "slideshow": {
     "slide_type": "subslide"
    }
   },
   "source": [
    "6) Sortieren Sie die Namen nach dem Alphabet"
   ]
  },
  {
   "cell_type": "code",
   "execution_count": 19,
   "metadata": {
    "collapsed": false,
    "slideshow": {
     "slide_type": "fragment"
    }
   },
   "outputs": [
    {
     "data": {
      "text/plain": [
       "['Buddenbrooks',\n",
       " 'Der Prozeß',\n",
       " 'Effi Briest',\n",
       " 'Soll und Haben',\n",
       " 'Wahlverwandtschaften']"
      ]
     },
     "execution_count": 19,
     "metadata": {},
     "output_type": "execute_result"
    }
   ],
   "source": [
    "sorted(novels)"
   ]
  },
  {
   "cell_type": "markdown",
   "metadata": {
    "slideshow": {
     "slide_type": "subslide"
    }
   },
   "source": [
    "7) Ersetzen Sie den ersten Namen durch einen neuen"
   ]
  },
  {
   "cell_type": "code",
   "execution_count": 20,
   "metadata": {
    "collapsed": false,
    "slideshow": {
     "slide_type": "fragment"
    }
   },
   "outputs": [
    {
     "data": {
      "text/plain": [
       "['Der Mann ohne Eigenschaften',\n",
       " 'Effi Briest',\n",
       " 'Buddenbrooks',\n",
       " 'Der Prozeß',\n",
       " 'Soll und Haben']"
      ]
     },
     "execution_count": 20,
     "metadata": {},
     "output_type": "execute_result"
    }
   ],
   "source": [
    "novels[0] = \"Der Mann ohne Eigenschaften\"\n",
    "novels"
   ]
  },
  {
   "cell_type": "markdown",
   "metadata": {
    "slideshow": {
     "slide_type": "subslide"
    }
   },
   "source": [
    "8) Testen Sie, ob \"Effi Briest\" in der Liste enthalten ist."
   ]
  },
  {
   "cell_type": "code",
   "execution_count": 21,
   "metadata": {
    "collapsed": false,
    "slideshow": {
     "slide_type": "fragment"
    }
   },
   "outputs": [
    {
     "data": {
      "text/plain": [
       "True"
      ]
     },
     "execution_count": 21,
     "metadata": {},
     "output_type": "execute_result"
    }
   ],
   "source": [
    "\"Effi Briest\" in novels"
   ]
  },
  {
   "cell_type": "markdown",
   "metadata": {
    "slideshow": {
     "slide_type": "slide"
    }
   },
   "source": [
    "### Listen als veränderliche Objekte\n",
    "\n",
    "![](images/assign2.svg)"
   ]
  },
  {
   "cell_type": "code",
   "execution_count": 37,
   "metadata": {
    "collapsed": false,
    "slideshow": {
     "slide_type": "-"
    }
   },
   "outputs": [
    {
     "name": "stdout",
     "output_type": "stream",
     "text": [
      "[1, 2, 5, 4] [1, 2, 5, 4]\n"
     ]
    }
   ],
   "source": [
    "l1 = [1, 2, 3, 4]\n",
    "l2 = l1\n",
    "l2[2] = 5\n",
    "print(l1, l2)"
   ]
  },
  {
   "cell_type": "markdown",
   "metadata": {
    "slideshow": {
     "slide_type": "fragment"
    }
   },
   "source": [
    "`list(…)` erzeugt eine neue Liste:"
   ]
  },
  {
   "cell_type": "code",
   "execution_count": 23,
   "metadata": {
    "collapsed": false,
    "slideshow": {
     "slide_type": "fragment"
    }
   },
   "outputs": [
    {
     "name": "stdout",
     "output_type": "stream",
     "text": [
      "[1, 2, 3, 4] [1, 2, 5, 4]\n"
     ]
    }
   ],
   "source": [
    "l1 = [1, 2, 3, 4]\n",
    "l2 = list(l1)\n",
    "l2[2] = 5\n",
    "print(l1, l2)"
   ]
  },
  {
   "cell_type": "markdown",
   "metadata": {
    "slideshow": {
     "slide_type": "slide"
    }
   },
   "source": [
    "<h3>Strings als Sequenzen</h3>\n",
    "<p>Strings teilen mit Listen gewisse Eigenschaften, z.B. kann man Strings über ihren Index ansprechen:"
   ]
  },
  {
   "cell_type": "code",
   "execution_count": 24,
   "metadata": {
    "collapsed": false,
    "slideshow": {
     "slide_type": "fragment"
    }
   },
   "outputs": [
    {
     "name": "stdout",
     "output_type": "stream",
     "text": [
      "H\n",
      "aufgabe\n"
     ]
    }
   ],
   "source": [
    "s = \"Hausaufgabe\"\n",
    "print(s[0])\n",
    "print(s[4:])"
   ]
  },
  {
   "cell_type": "markdown",
   "metadata": {
    "slideshow": {
     "slide_type": "fragment"
    }
   },
   "source": [
    "Strings können sortiert werden:"
   ]
  },
  {
   "cell_type": "code",
   "execution_count": 25,
   "metadata": {
    "collapsed": false,
    "slideshow": {
     "slide_type": "fragment"
    }
   },
   "outputs": [
    {
     "data": {
      "text/plain": [
       "['H', 'a', 'a', 'a', 'b', 'e', 'f', 'g', 's', 'u', 'u']"
      ]
     },
     "execution_count": 25,
     "metadata": {},
     "output_type": "execute_result"
    }
   ],
   "source": [
    "sorted(s)\n",
    "['H', 'a', 'a', 'a', 'b', 'e', 'f', 'g', 's', 'u', 'u']"
   ]
  },
  {
   "cell_type": "markdown",
   "metadata": {
    "slideshow": {
     "slide_type": "fragment"
    }
   },
   "source": [
    "Die Länge von Strings kann ebenso ausgegen werden wie die von Listen:"
   ]
  },
  {
   "cell_type": "code",
   "execution_count": 26,
   "metadata": {
    "collapsed": false,
    "slideshow": {
     "slide_type": "subslide"
    }
   },
   "outputs": [
    {
     "data": {
      "text/plain": [
       "11"
      ]
     },
     "execution_count": 26,
     "metadata": {},
     "output_type": "execute_result"
    }
   ],
   "source": [
    "len(s)"
   ]
  },
  {
   "cell_type": "markdown",
   "metadata": {
    "slideshow": {
     "slide_type": "fragment"
    }
   },
   "source": [
    "Aber Strings sind unveränderlich, d.h. man kann nichts einfügen oder anhängen:"
   ]
  },
  {
   "cell_type": "code",
   "execution_count": 27,
   "metadata": {
    "collapsed": false,
    "slideshow": {
     "slide_type": "fragment"
    }
   },
   "outputs": [
    {
     "ename": "AttributeError",
     "evalue": "'str' object has no attribute 'append'",
     "output_type": "error",
     "traceback": [
      "\u001b[0;31m---------------------------------------------------------------------------\u001b[0m\n\u001b[0;31mAttributeError\u001b[0m                            Traceback (most recent call last)",
      "\u001b[0;32m<ipython-input-27-ece1edd35ab3>\u001b[0m in \u001b[0;36m<module>\u001b[0;34m()\u001b[0m\n\u001b[0;32m----> 1\u001b[0;31m \u001b[0ms\u001b[0m\u001b[0;34m.\u001b[0m\u001b[0mappend\u001b[0m\u001b[0;34m(\u001b[0m\u001b[0;34m\"en\"\u001b[0m\u001b[0;34m)\u001b[0m  \u001b[0;31m# erzeugt einen Fehler!\u001b[0m\u001b[0;34m\u001b[0m\u001b[0m\n\u001b[0m",
      "\u001b[0;31mAttributeError\u001b[0m: 'str' object has no attribute 'append'"
     ]
    }
   ],
   "source": [
    "s.append(\"en\")  # erzeugt einen Fehler!"
   ]
  },
  {
   "cell_type": "markdown",
   "metadata": {
    "slideshow": {
     "slide_type": "fragment"
    }
   },
   "source": [
    "Oberbegriff: **Sequenzen**"
   ]
  },
  {
   "cell_type": "markdown",
   "metadata": {
    "slideshow": {
     "slide_type": "slide"
    }
   },
   "source": [
    "<h3 style=\"color: green\">Aufgaben</h3>\n",
    "\n",
    "<code style=\"color: green\"> s = \"Kleine Kinder\"</code>\n",
    "<ol style=\"color: green\">\n",
    "<li> Geben Sie das ‚K‘ von ‚Kinder‘ aus</li>\n",
    "<li> Schneiden Sie ‚Kinder‘ aus dem String </li>\n",
    "<li> Geben Sie das folgende in die Python-Konsole ein:<br/>\n",
    "<code style=\"color: green\">a = [\"Kind\",\"Name\",\"Hund\"]</code><br/>\n",
    "<code style=\"color: green\">a[0][0]</code></li>\n",
    "<li>Wie sieht das Ergebnis aus? Erklären Sie das Ergebnis. Probieren Sie weitere Kombinationen. </li>\n",
    "<li> Wie könnte man aus ‘Hund’ ‘Hand’ machen? (Verwenden Sie bei der Zuweisung den Wert aus der Liste)</li>\n",
    "</ol>"
   ]
  },
  {
   "cell_type": "markdown",
   "metadata": {
    "slideshow": {
     "slide_type": "slide"
    }
   },
   "source": [
    "### Datenstruktur: Tupel"
   ]
  },
  {
   "cell_type": "code",
   "execution_count": 119,
   "metadata": {
    "collapsed": false,
    "slideshow": {
     "slide_type": "fragment"
    }
   },
   "outputs": [
    {
     "data": {
      "text/plain": [
       "'Eins'"
      ]
     },
     "execution_count": 119,
     "metadata": {},
     "output_type": "execute_result"
    }
   ],
   "source": [
    "t = (\"Eins\", \"Zwei\")\n",
    "t[0]"
   ]
  },
  {
   "cell_type": "code",
   "execution_count": 120,
   "metadata": {
    "collapsed": false,
    "slideshow": {
     "slide_type": "fragment"
    }
   },
   "outputs": [
    {
     "ename": "TypeError",
     "evalue": "'tuple' object does not support item assignment",
     "output_type": "error",
     "traceback": [
      "\u001b[0;31m---------------------------------------------------------------------------\u001b[0m\n\u001b[0;31mTypeError\u001b[0m                                 Traceback (most recent call last)",
      "\u001b[0;32m<ipython-input-120-9de85a0cabce>\u001b[0m in \u001b[0;36m<module>\u001b[0;34m()\u001b[0m\n\u001b[0;32m----> 1\u001b[0;31m \u001b[0mt\u001b[0m\u001b[0;34m[\u001b[0m\u001b[0;36m0\u001b[0m\u001b[0;34m]\u001b[0m \u001b[0;34m=\u001b[0m \u001b[0;34m\"Null\"\u001b[0m\u001b[0;34m\u001b[0m\u001b[0m\n\u001b[0m",
      "\u001b[0;31mTypeError\u001b[0m: 'tuple' object does not support item assignment"
     ]
    }
   ],
   "source": [
    "t[0] = \"Null\""
   ]
  },
  {
   "cell_type": "markdown",
   "metadata": {
    "slideshow": {
     "slide_type": "fragment"
    }
   },
   "source": [
    "* Tupel ähneln Listen, sind aber **unveränderlich**\n",
    "* Literal mit `,` (zwingend) und runden Klammern (meist nötig)\n",
    "* _Tuples have structure, lists have order_"
   ]
  },
  {
   "cell_type": "code",
   "execution_count": 77,
   "metadata": {
    "collapsed": false,
    "slideshow": {
     "slide_type": "fragment"
    }
   },
   "outputs": [
    {
     "name": "stdout",
     "output_type": "stream",
     "text": [
      "<class 'str'> <class 'tuple'>\n"
     ]
    }
   ],
   "source": [
    "a = (\"Eins\")\n",
    "b = (\"Eins\",)\n",
    "print(type(a), type(b))"
   ]
  },
  {
   "cell_type": "markdown",
   "metadata": {
    "slideshow": {
     "slide_type": "slide"
    }
   },
   "source": [
    "<h3>Datenstruktur Dictionary</h3>\n",
    "<p>Dictionaries sind Sammlungen von Dateneinheiten. Jede Einheit hat einen Namen ('key') und einen Inhalt ('value'). Sie sind sehr geeignet zum schnellen Nachschlagen, wenn der key bekannt ist.\n",
    "<p>Dictionary sind unsortiert, d.h.die Einheiten liegen nicht in einer bestimmten Reihenfolge vor.\n",
    "\n",
    "<img src=\"files/images/dict1.png\" width=\"60%\" height=\"60%\" border=\"0\" alt=\"\"> "
   ]
  },
  {
   "cell_type": "markdown",
   "metadata": {
    "slideshow": {
     "slide_type": "slide"
    }
   },
   "source": [
    "<h3>Dictionaries erzeugen<h3>"
   ]
  },
  {
   "cell_type": "code",
   "execution_count": 78,
   "metadata": {
    "collapsed": false,
    "slideshow": {
     "slide_type": "fragment"
    }
   },
   "outputs": [
    {
     "data": {
      "text/plain": [
       "{'Mann': 'Buddenbrooks',\n",
       " 'Schiller': 'Der Geisterseher',\n",
       " 'Goethe': 'Faust. Eine Tragödie'}"
      ]
     },
     "execution_count": 78,
     "metadata": {},
     "output_type": "execute_result"
    }
   ],
   "source": [
    "# erzeugt ein Dictionary mit 3 Einträgen. Strings als Key mit Anführungszeichen. \n",
    "# Doppelpunkt zwischen Key und Value. \n",
    "# Geschweifte Klammer als Gesamtmarkierung\n",
    "titles = { \"Goethe\" : \"Faust. Eine Tragödie\", \n",
    "           \"Mann\" : \"Buddenbrooks\", \n",
    "           \"Schiller\" : \"Der Geisterseher\" }\n",
    "titles"
   ]
  },
  {
   "cell_type": "code",
   "execution_count": 79,
   "metadata": {
    "collapsed": false,
    "slideshow": {
     "slide_type": "fragment"
    }
   },
   "outputs": [
    {
     "data": {
      "text/plain": [
       "{'Mann': 'Buddenbrooks',\n",
       " 'Schiller': 'Der Geisterseher',\n",
       " 'Goethe': 'Faust. Eine Tragödie'}"
      ]
     },
     "execution_count": 79,
     "metadata": {},
     "output_type": "execute_result"
    }
   ],
   "source": [
    "# erzeugt ein Dictionary mit 3 Einträgen. Strings als Key ohne(!) Anführungszeichen. \n",
    "# Istgleich-Zeichen zwischen Key und Value.  \n",
    "titles = dict(Goethe = \"Faust. Eine Tragödie\", \n",
    "              Mann = \"Buddenbrooks\", \n",
    "              Schiller = \"Der Geisterseher\" )\n",
    "titles"
   ]
  },
  {
   "cell_type": "markdown",
   "metadata": {
    "slideshow": {
     "slide_type": "fragment"
    }
   },
   "source": [
    "`dict` als **Konstruktor**funktion, Keys = _Keyword-Argumente_. Das geht nur, wenn die Keys Identifier sind!"
   ]
  },
  {
   "cell_type": "markdown",
   "metadata": {
    "slideshow": {
     "slide_type": "subslide"
    }
   },
   "source": [
    "<h3>Dictionary: Werte setzen</h3>"
   ]
  },
  {
   "cell_type": "code",
   "execution_count": 122,
   "metadata": {
    "collapsed": false,
    "slideshow": {
     "slide_type": "fragment"
    }
   },
   "outputs": [
    {
     "data": {
      "text/plain": [
       "{'Kafka': 'Der Prozeß',\n",
       " 'Mann': 'Buddenbrooks',\n",
       " 'Schiller': 'Der Geisterseher',\n",
       " 'Goethe': 'Faust. Eine Tragödie'}"
      ]
     },
     "execution_count": 122,
     "metadata": {},
     "output_type": "execute_result"
    }
   ],
   "source": [
    "titles[\"Kafka\"] = \"Der Prozeß\"               # fügt hier weiteren Wert hinzu\n",
    "titles"
   ]
  },
  {
   "cell_type": "code",
   "execution_count": 123,
   "metadata": {
    "collapsed": false,
    "slideshow": {
     "slide_type": "fragment"
    }
   },
   "outputs": [
    {
     "data": {
      "text/plain": [
       "{'Kafka': 'Das Schloß',\n",
       " 'Mann': 'Buddenbrooks',\n",
       " 'Schiller': 'Der Geisterseher',\n",
       " 'Goethe': 'Faust. Eine Tragödie'}"
      ]
     },
     "execution_count": 123,
     "metadata": {},
     "output_type": "execute_result"
    }
   ],
   "source": [
    "titles[\"Kafka\"] = \"Das Schloß\"\n",
    "titles"
   ]
  },
  {
   "cell_type": "markdown",
   "metadata": {
    "slideshow": {
     "slide_type": "subslide"
    }
   },
   "source": [
    "<h3>Dictionaries: keys</h3>\n",
    "<p>Keys müssen _hashable_ sein, d.h. vor allem unveränderbar, z.B. Zahlen, Strings etc.    (also keine Listen und keine Dictionaries)\n"
   ]
  },
  {
   "cell_type": "code",
   "execution_count": 124,
   "metadata": {
    "collapsed": false,
    "slideshow": {
     "slide_type": "fragment"
    }
   },
   "outputs": [],
   "source": [
    "a = \"hallo\"\n",
    "d  = { a : 1 }        # dictionary mit string als key\n",
    "a = 1\n",
    "d  =  { a : 1 }       # dictionary mit int als key\n",
    "a = [1,2,3]         \n",
    "#d  = { a : 1 }        # dictionary mit liste als key erzeugt einen Error"
   ]
  },
  {
   "cell_type": "markdown",
   "metadata": {
    "slideshow": {
     "slide_type": "fragment"
    }
   },
   "source": [
    "Aber **Tupel** gehen, wenn deren Elemente _hashable_ sind:"
   ]
  },
  {
   "cell_type": "code",
   "execution_count": 125,
   "metadata": {
    "collapsed": false,
    "slideshow": {
     "slide_type": "fragment"
    }
   },
   "outputs": [
    {
     "data": {
      "text/plain": [
       "{('Kafka', 'Franz'): 'Der Prozeß'}"
      ]
     },
     "execution_count": 125,
     "metadata": {},
     "output_type": "execute_result"
    }
   ],
   "source": [
    "{(\"Kafka\", \"Franz\") : \"Der Prozeß\"}"
   ]
  },
  {
   "cell_type": "markdown",
   "metadata": {
    "slideshow": {
     "slide_type": "subslide"
    }
   },
   "source": [
    "<h3>Dictionaries: values</h3>\n",
    "<p>Values können beliebige Objekte sein, also wirklich alles (da in Python alles ein Objekt ist)\n"
   ]
  },
  {
   "cell_type": "code",
   "execution_count": 126,
   "metadata": {
    "collapsed": false,
    "slideshow": {
     "slide_type": "fragment"
    }
   },
   "outputs": [
    {
     "data": {
      "text/plain": [
       "'hallo'"
      ]
     },
     "execution_count": 126,
     "metadata": {},
     "output_type": "execute_result"
    }
   ],
   "source": [
    "d = { \"a\" : \"hallo\"}              #value ist ein String. \n",
    "d[\"a\"]"
   ]
  },
  {
   "cell_type": "code",
   "execution_count": 127,
   "metadata": {
    "collapsed": false,
    "slideshow": {
     "slide_type": "fragment"
    }
   },
   "outputs": [
    {
     "data": {
      "text/plain": [
       "[1, 2, 3, 4]"
      ]
     },
     "execution_count": 127,
     "metadata": {},
     "output_type": "execute_result"
    }
   ],
   "source": [
    "d = { \"a\" : [1,2,3,4] }           #value ist eine Liste \n",
    "d[\"a\"]"
   ]
  },
  {
   "cell_type": "code",
   "execution_count": 128,
   "metadata": {
    "collapsed": false,
    "slideshow": {
     "slide_type": "fragment"
    }
   },
   "outputs": [
    {
     "data": {
      "text/plain": [
       "2"
      ]
     },
     "execution_count": 128,
     "metadata": {},
     "output_type": "execute_result"
    }
   ],
   "source": [
    "d[\"a\"][1]"
   ]
  },
  {
   "cell_type": "code",
   "execution_count": 129,
   "metadata": {
    "collapsed": false,
    "slideshow": {
     "slide_type": "fragment"
    }
   },
   "outputs": [
    {
     "data": {
      "text/plain": [
       "5"
      ]
     },
     "execution_count": 129,
     "metadata": {},
     "output_type": "execute_result"
    }
   ],
   "source": [
    "d = { \"a\" : len }                  #value ist eine Funktion - eher ungewöhnliche Verwendung\n",
    "d[\"a\"](\"hallo\")"
   ]
  },
  {
   "cell_type": "markdown",
   "metadata": {
    "slideshow": {
     "slide_type": "slide"
    }
   },
   "source": [
    "<h3 style=\"color: green\">Aufgaben</h3>\n",
    "<div style=\"color: green\">\n",
    "<ol>\n",
    "<li>Erzeugen Sie ein Dictionary mit 4 Einträgen, das als Key den Namen eines Landes enthält und als Value die Hauptstadt. Ein Eintrag lautet: Deutschland - Bonn.\n",
    "<li>Fügen sie dem Dictionary einen weiteren Eintrag hinzu: Frankreich - Paris.\n",
    "<li>Geben Sie die Hauptstadt von Deutschland aus.\n",
    "<li>Korrigieren Sie den Eintrag für Deutschland und setzen den value auf 'Berlin'\n",
    "<li>Verwenden Sie ein Dictionary, um ein kleines Telefonbuch anzulegen. Jedem der Namen sind <b>zwei</b> Nummern zugeordnet (Heim, Office): Maria: 555-1234 und 555-9999, Sepp: 555-5678 und 555-8888, Jo: 5555-1526 und 555-7777. \n",
    "<li>Listen Sie aus ihrem Telefonbuch den Heimanschluss für Maria auf.\n",
    "</ol>\n",
    "\n",
    "</div>"
   ]
  }
 ],
 "metadata": {
  "celltoolbar": "Slideshow",
  "kernelspec": {
   "display_name": "Python 3",
   "language": "python",
   "name": "python3"
  },
  "language_info": {
   "codemirror_mode": {
    "name": "ipython",
    "version": 3
   },
   "file_extension": ".py",
   "mimetype": "text/x-python",
   "name": "python",
   "nbconvert_exporter": "python",
   "pygments_lexer": "ipython3",
   "version": "3.4.2"
  }
 },
 "nbformat": 4,
 "nbformat_minor": 0
}
