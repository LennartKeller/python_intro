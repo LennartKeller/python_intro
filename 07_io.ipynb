{
 "metadata": {
  "celltoolbar": "Slideshow",
  "name": "",
  "signature": "sha256:ebd37ee00f4cb2c6ada56c34f839022826ccf92f8a4e1cab6ea79a62a04759af"
 },
 "nbformat": 3,
 "nbformat_minor": 0,
 "worksheets": [
  {
   "cells": [
    {
     "cell_type": "heading",
     "level": 1,
     "metadata": {
      "slideshow": {
       "slide_type": "slide"
      }
     },
     "source": [
      "Programmieren mit Python: 7. Input/Output, Exceptions"
     ]
    },
    {
     "cell_type": "markdown",
     "metadata": {
      "slideshow": {
       "slide_type": "subslide"
      }
     },
     "source": [
      "## Wiederholung: Module\n",
      "\n",
      "* Module zur Kapselung zusammengeh\u00f6riger Funktionen etc.\n",
      "* Python-Datei = Python-Modul\n",
      "* Import, Aliase und gezielter Import\n",
      "* `__name__ == \"__main__\"`\n",
      "* Doctests\n",
      "* Python-Standardbibliothek"
     ]
    },
    {
     "cell_type": "markdown",
     "metadata": {
      "slideshow": {
       "slide_type": "skip"
      }
     },
     "source": [
      "<h3>Text-Dateien \u00f6ffnen und lesen</h3>\n",
      "<p>Python 3 unterscheidet strikt zwischen Text- und Bin\u00e4rdateien. Textdateien sind nat\u00fcrlich letzten Endes auch bin\u00e4r kodiert, aber diese Kodierung ist f\u00fcr den Benutzer im Normalfall nicht sichtbar. </p>\n",
      "<p>Textdateien verwenden ein character encoding. Die Voreinstellung ist plattform-spezifisch, so sind Text-Dateien unter Windows etwa als \"cp1252\" kodiert. </p>\n",
      "<p>Mein pers\u00f6nlicher Tipp: Verwenden Sie immer, auch wenn Sie glauben, dass nur Sie dieses Skript verwenden werden, eine unabh\u00e4ngige Kodierung wie utf-8.</p>\n",
      "<p>Syntax zum \u00d6ffnen von Dateien:"
     ]
    },
    {
     "cell_type": "code",
     "collapsed": false,
     "input": [
      "f = open(\"roman.txt\", \"rt\", encoding=\"utf-8\")\n",
      "#        ^^^^^^^^^^^                            Dateiname\n",
      "#                     ^^^^                      Modus, r = lesen, t = Text (beides Default)\n",
      "#                           ^^^^^^^^^^^^^^^^    Textcodierung, Default Systemabh\u00e4ngig"
     ],
     "language": "python",
     "metadata": {
      "slideshow": {
       "slide_type": "fragment"
      }
     },
     "outputs": [],
     "prompt_number": 44
    },
    {
     "cell_type": "markdown",
     "metadata": {
      "slideshow": {
       "slide_type": "fragment"
      }
     },
     "source": [
      "* \u00d6ffnet die Datei `roman.txt` (im aktuellen Verzeichnis) zum Lesen (`r`) als Textdatei (`t`), Datei ist UTF-8-codiert\n",
      "* R\u00fcckgabewert = Dateiobjekt (hier: `io.TextWrapper`)\n",
      "* Methoden des Dateiobjekts zum Lesen/Schreiben verwenden"
     ]
    },
    {
     "cell_type": "code",
     "collapsed": false,
     "input": [
      "content = f.read()  # liest die komplette Datei ein. \n",
      "print(content)      # gibt den eingelesenen Inhalt der Datei aus\n",
      "f.close()           # Datei wieder schlie\u00dfen"
     ],
     "language": "python",
     "metadata": {
      "slideshow": {
       "slide_type": "fragment"
      }
     },
     "outputs": [
      {
       "output_type": "stream",
       "stream": "stdout",
       "text": [
        "Kurzer Roman.\n",
        "Dies ist ein langer Roman. Er beginnt mit dem Auftritt des Heldens. \n",
        "Da es keine Helden gibt, unterbricht hier schon der Leser \u2026\n",
        "\n"
       ]
      }
     ],
     "prompt_number": 42
    },
    {
     "cell_type": "markdown",
     "metadata": {
      "slideshow": {
       "slide_type": "slide"
      }
     },
     "source": [
      "<h3>Zeilenweises Einlesen einer Datei</h3>"
     ]
    },
    {
     "cell_type": "markdown",
     "metadata": {
      "slideshow": {
       "slide_type": "fragment"
      }
     },
     "source": [
      "<p>Sehr h\u00e4ufig ist der zeilenweise Zugriff auf Dateien, mit dem man auch sehr, sehr gro\u00dfe Dateien ohne Probleme bearbeiten kann. Man verwendet eine for-Schleife, die automatisch beendet wird, wenn das Ende der Datei erreicht ist.</p>"
     ]
    },
    {
     "cell_type": "code",
     "collapsed": false,
     "input": [
      "for line in f:\n",
      "    print(line)    #hier kann man nat\u00fcrlich auch etwas Sinnvolleres machen..."
     ],
     "language": "python",
     "metadata": {
      "slideshow": {
       "slide_type": "fragment"
      }
     },
     "outputs": [
      {
       "output_type": "stream",
       "stream": "stdout",
       "text": [
        "Kurzer Roman.\n",
        "\n",
        "Dies ist ein langer Roman. Er beginnt mit dem Auftritt des Heldens. \n",
        "\n",
        "Da es keine Helden gibt, unterbricht hier schon der Leser \u2026\n",
        "\n"
       ]
      }
     ],
     "prompt_number": 45
    },
    {
     "cell_type": "markdown",
     "metadata": {
      "slideshow": {
       "slide_type": "slide"
      }
     },
     "source": [
      "<h3>Schlie\u00dfen von Dateien</h3>\n",
      "<p>Man sollte am Ende eines Zugriffs auf Dateien diese schlie\u00dfen:</p>"
     ]
    },
    {
     "cell_type": "code",
     "collapsed": false,
     "input": [
      "f.close()"
     ],
     "language": "python",
     "metadata": {
      "slideshow": {
       "slide_type": "fragment"
      }
     },
     "outputs": [],
     "prompt_number": 25
    },
    {
     "cell_type": "markdown",
     "metadata": {
      "slideshow": {
       "slide_type": "fragment"
      }
     },
     "source": [
      "<p>Noch einfacher ist allerdings diese Konstruktion:"
     ]
    },
    {
     "cell_type": "code",
     "collapsed": false,
     "input": [
      "with open(\"roman.txt\", \"r\", encoding=\"utf-8\") as f:\n",
      "    for line in f:\n",
      "        print(line)      "
     ],
     "language": "python",
     "metadata": {
      "slideshow": {
       "slide_type": "fragment"
      }
     },
     "outputs": [
      {
       "output_type": "stream",
       "stream": "stdout",
       "text": [
        "Kurzer Roman.\n",
        "\n",
        "Dies ist ein langer Roman. Er beginnt mit dem Auftritt des Heldens. \n",
        "\n",
        "Da es keine Helden gibt, unterbricht hier schon der Leser \u2026\n",
        "\n"
       ]
      }
     ],
     "prompt_number": 46
    },
    {
     "cell_type": "markdown",
     "metadata": {
      "slideshow": {
       "slide_type": "fragment"
      }
     },
     "source": [
      "<p>hier wird die Datei am Ende des \"with\"-Blocks automatisch geschlossen."
     ]
    },
    {
     "cell_type": "markdown",
     "metadata": {
      "slideshow": {
       "slide_type": "slide"
      }
     },
     "source": [
      "<h3 style=\"color:green\">Aufgaben</h3>\n",
      "<p>1) Legen Sie mit einem Editor eine utf-8-Datei in einem  Unterverzeichnis an (inkl. Umlaute und \u00df) und geben Sie dann den Inhalt mit Python aus. Unter Windows k\u00f6nnen Sie daf\u00fcr den editor unter Zubeh\u00f6r verwenden.</p>\n",
      "<p>2) Messen Sie mit Python, wieviele Buchstaben Ihr Probetext inkl. Leerzeichen etc. lang ist. Vergleichen Sie das Ergebnis mit der Dateigr\u00f6\u00dfe, wie sie vom Betriebssystem angegeben wird. Wie kommt der Unterschied zustande?</p>\n"
     ]
    },
    {
     "cell_type": "code",
     "collapsed": false,
     "input": [
      "with open(\"beispiel.txt\", \"rt\", encoding=\"utf-8\") as f:\n",
      "    for line in f:\n",
      "        print(line)"
     ],
     "language": "python",
     "metadata": {
      "slideshow": {
       "slide_type": "fragment"
      }
     },
     "outputs": [
      {
       "output_type": "stream",
       "stream": "stdout",
       "text": [
        "Dies ist eine einfache Beispieldatei.\n",
        "\n",
        "Sie enth\u00e4lt Umlaute, GRO\u1e9eE und nicht gro\u00dfe Eszetts und \u017fogar ein langes \u017f!\n",
        "\n"
       ]
      }
     ],
     "prompt_number": 14
    },
    {
     "cell_type": "code",
     "collapsed": false,
     "input": [
      "import os\n",
      "with open(\"beispiel.txt\", \"rt\", encoding=\"utf-8\") as f:\n",
      "    content = f.read()\n",
      "    filesize = os.stat(\"beispiel.txt\").st_size\n",
      "    print(len(content), filesize)"
     ],
     "language": "python",
     "metadata": {
      "slideshow": {
       "slide_type": "fragment"
      }
     },
     "outputs": [
      {
       "output_type": "stream",
       "stream": "stdout",
       "text": [
        "113 119\n"
       ]
      }
     ],
     "prompt_number": 15
    },
    {
     "cell_type": "markdown",
     "metadata": {
      "slideshow": {
       "slide_type": "subslide"
      }
     },
     "source": [
      "Im Hex-Viewer:\n",
      "\n",
      "<img src=\"files/images/utf-8_file.png\"/>\n",
      "\n",
      "* Codierung der Zeilenenden\n",
      "* Codierung von Sonderzeichen mit mehr als einem Byte"
     ]
    },
    {
     "cell_type": "markdown",
     "metadata": {
      "slideshow": {
       "slide_type": "subslide"
      }
     },
     "source": [
      "### Encoding einer Textdatei\n",
      "\n",
      "* Zuordnung Bytefolge <> Interpretation als Zeichen\n",
      "* UTF-8 ist eine standardisierte, portable Codierung f\u00fcr den gesamten Unicode-Zeichenvorrat (bis zu 0x10FFFF verschiedene Zeichen)\n",
      "* UTF-8: ein Zeichen <> 1\u20134 Bytes\n",
      "* Python-3-Strings sind Unicode-Strings\n",
      "* _Tipp_: Arbeiten Sie immer mit UTF-8-Dateien, und geben Sie das Encoding explizit an."
     ]
    },
    {
     "cell_type": "code",
     "collapsed": true,
     "input": [
      "import locale\n",
      "import sys\n",
      "\n",
      "print(\"Standardcodierung f\u00fcr Dateiinhalte (encoding-Parameter):\", locale.getpreferredencoding())\n",
      "print(\"Standardcodierung f\u00fcr Dateinamen etc.:\", sys.getfilesystemencoding())"
     ],
     "language": "python",
     "metadata": {
      "slideshow": {
       "slide_type": "fragment"
      }
     },
     "outputs": [
      {
       "output_type": "stream",
       "stream": "stdout",
       "text": [
        "Standardcodierung f\u00fcr Dateiinhalte (encoding-Parameter): UTF-8\n",
        "Standardcodierung f\u00fcr Dateinamen etc.: utf-8\n"
       ]
      }
     ],
     "prompt_number": 20
    },
    {
     "cell_type": "markdown",
     "metadata": {
      "slideshow": {
       "slide_type": "slide"
      }
     },
     "source": [
      "<h3>Schreiben von Dateien</h3>\n",
      "<p>Das Schreiben von Dateien funktioniert ganz \u00e4hnlich wie das Lesen.</p>"
     ]
    },
    {
     "cell_type": "code",
     "collapsed": false,
     "input": [
      "t = [\"Dies ist ein k\u00fcrzerer Text.\", \"Und das w\u00e4re die letzte Zeile!\", \"Wenn es nicht eine weitere g\u00e4be.\"]\n",
      "with open(\"fileout.txt\", \"w\", encoding=\"utf-8\") as fout:\n",
      "    for l in t:\n",
      "        fout.write(l + \"\\n\")"
     ],
     "language": "python",
     "metadata": {
      "slideshow": {
       "slide_type": "fragment"
      }
     },
     "outputs": [],
     "prompt_number": 2
    },
    {
     "cell_type": "markdown",
     "metadata": {
      "slideshow": {
       "slide_type": "fragment"
      }
     },
     "source": [
      "<p>Beim Aufruf der Funktion open wird als Parameter nun \"w\" (write) gesetzt. 'fout' ist ebenfalls ein frei w\u00e4hlbarer Variablenname f\u00fcr unser Dateiobjekt. </p>\n",
      "<p>Achtung: Bei der Verwendung von \"w\" allein wird die Datei immer zuerst zur\u00fcckgesetzt, wenn sie existieren sollte. D.h. evtl. bestehende Inhalte werden gel\u00f6scht!</p>\n",
      "<p>Beachten Sie, dass die Methode 'write' nicht automatisch eine Newline anh\u00e4ngt, wie das im Fall von print geschieht. </p>"
     ]
    },
    {
     "cell_type": "markdown",
     "metadata": {
      "slideshow": {
       "slide_type": "slide"
      }
     },
     "source": [
      "<h3 style=\"color: green\">Aufgabe</h3>\n",
      "<p>1) Schreiben Sie ein Skript, dass ihre oben mit dem Editor angelegte Datei \u00f6ffnet und den Inhalt in eine Datei namens results.txt schreibt. Das encoding ist utf-8.</p>"
     ]
    },
    {
     "cell_type": "markdown",
     "metadata": {
      "slideshow": {
       "slide_type": "slide"
      }
     },
     "source": [
      "<h3>Das Anh\u00e4ngen an eine Datei</h3>\n",
      "<p>Sie k\u00f6nnen Dateien auch erg\u00e4nzen, indem Sie als Parameter statt \"w\" oder \"r\" den Buchstaben \"a\" (append) setzten.</p>"
     ]
    },
    {
     "cell_type": "code",
     "collapsed": false,
     "input": [
      "with open(\"fileout.txt\", \"a\", encoding=\"utf-8\") as writer:\n",
      "    writer.write(\"H\u00e4nge diese Zeile an. Das ist nun die letzte.\")"
     ],
     "language": "python",
     "metadata": {
      "slideshow": {
       "slide_type": "fragment"
      }
     },
     "outputs": [],
     "prompt_number": 3
    },
    {
     "cell_type": "markdown",
     "metadata": {
      "slideshow": {
       "slide_type": "fragment"
      }
     },
     "source": [
      "<p>Achtung: Wenn Sie hier das falsche encoding angeben oder den Parameter vergessen, es sich aber um eine utf-8 Datei handelt, dann kann es sehr gut sein, dass das Ergebnis fehlerhaft ist, ohne dass Python einen Fehler meldet!</p>"
     ]
    },
    {
     "cell_type": "markdown",
     "metadata": {
      "slideshow": {
       "slide_type": "slide"
      }
     },
     "source": [
      "<h3 style=\"color: green\">Aufgaben</h3>\n",
      "<p>Erg\u00e4nzen Sie die Datei, die Sie oben angelegt haben, um zwei Zeilen.</p>"
     ]
    },
    {
     "cell_type": "markdown",
     "metadata": {
      "slideshow": {
       "slide_type": "slide"
      }
     },
     "source": [
      "## `open` im Detail\n",
      "```\n",
      "open(...)\n",
      "    open(file, mode='r', buffering=-1, encoding=None,\n",
      "         errors=None, newline=None, closefd=True, opener=None) -> file object\n",
      "```\n",
      "__mode__ ist ein String aus einem oder mehreren der folgenden Zeichen:\n",
      "\n",
      "|Character| Meaning                                                        |\n",
      "|---------|----------------------------------------------------------------|\n",
      "|'r'      | open for reading (default)                                     |\n",
      "|'w'      | open for writing, truncating the file first                    |\n",
      "|'x'      | create a new file and open it for writing                      |\n",
      "|'a'      | open for writing, appending to the end of the file if it exists|\n",
      "|'b'      | binary mode                                                    |\n",
      "|'t'      | text mode (default)                                            |\n",
      "|'+'      | open a disk file for updating (reading and writing)            |\n",
      "|'U'      | universal newline mode (deprecated)                            |\n",
      "\n",
      "__encoding__ z.B. `utf-8`, `latin1`, `cp1252`"
     ]
    },
    {
     "cell_type": "markdown",
     "metadata": {
      "slideshow": {
       "slide_type": "subslide"
      }
     },
     "source": [
      "### Textdatei (vs. Bin\u00e4rdatei)\n",
      "* Zeilenweises Einlesen m\u00f6glich\n",
      "* Konvertierung der Zeilenenden (Linux, Python: `'\\n'`, Windows: `'\\r\\n'`, MacOS: `'\\r'`), Option `newline`\n",
      "* Dekodierung als String (Option `errors` regelt den Umgang mit Fehlern)"
     ]
    },
    {
     "cell_type": "heading",
     "level": 3,
     "metadata": {
      "slideshow": {
       "slide_type": "slide"
      }
     },
     "source": [
      "Umgang mit Fehlern"
     ]
    },
    {
     "cell_type": "markdown",
     "metadata": {
      "slideshow": {
       "slide_type": "fragment"
      }
     },
     "source": [
      "* vorher pr\u00fcfen -> Aufw\u00e4ndig\n",
      "* Fehlerwert statt R\u00fcckgabewert durchreichen -> Unintuitiv"
     ]
    },
    {
     "cell_type": "markdown",
     "metadata": {
      "slideshow": {
       "slide_type": "slide"
      }
     },
     "source": [
      "### Exceptions"
     ]
    },
    {
     "cell_type": "code",
     "collapsed": false,
     "input": [
      "f = open(\"werther.txt\")"
     ],
     "language": "python",
     "metadata": {
      "slideshow": {
       "slide_type": "-"
      }
     },
     "outputs": [
      {
       "ename": "FileNotFoundError",
       "evalue": "[Errno 2] No such file or directory: 'werther.txt'",
       "output_type": "pyerr",
       "traceback": [
        "\u001b[1;31m---------------------------------------------------------------------------\u001b[0m\n\u001b[1;31mFileNotFoundError\u001b[0m                         Traceback (most recent call last)",
        "\u001b[1;32m<ipython-input-28-e105d558c6ba>\u001b[0m in \u001b[0;36m<module>\u001b[1;34m()\u001b[0m\n\u001b[1;32m----> 1\u001b[1;33m \u001b[0mf\u001b[0m \u001b[1;33m=\u001b[0m \u001b[0mopen\u001b[0m\u001b[1;33m(\u001b[0m\u001b[1;34m\"werther.txt\"\u001b[0m\u001b[1;33m)\u001b[0m\u001b[1;33m\u001b[0m\u001b[0m\n\u001b[0m",
        "\u001b[1;31mFileNotFoundError\u001b[0m: [Errno 2] No such file or directory: 'werther.txt'"
       ]
      }
     ],
     "prompt_number": 28
    },
    {
     "cell_type": "code",
     "collapsed": false,
     "input": [
      "f = open(\"roman.txt\", \"r\")\n",
      "f.write(\"Bla\")\n",
      "f.close()"
     ],
     "language": "python",
     "metadata": {
      "slideshow": {
       "slide_type": "fragment"
      }
     },
     "outputs": [
      {
       "ename": "UnsupportedOperation",
       "evalue": "not writable",
       "output_type": "pyerr",
       "traceback": [
        "\u001b[1;31m---------------------------------------------------------------------------\u001b[0m\n\u001b[1;31mUnsupportedOperation\u001b[0m                      Traceback (most recent call last)",
        "\u001b[1;32m<ipython-input-27-99e0236320b0>\u001b[0m in \u001b[0;36m<module>\u001b[1;34m()\u001b[0m\n\u001b[0;32m      1\u001b[0m \u001b[0mf\u001b[0m \u001b[1;33m=\u001b[0m \u001b[0mopen\u001b[0m\u001b[1;33m(\u001b[0m\u001b[1;34m\"roman.txt\"\u001b[0m\u001b[1;33m,\u001b[0m \u001b[1;34m\"r\"\u001b[0m\u001b[1;33m)\u001b[0m\u001b[1;33m\u001b[0m\u001b[0m\n\u001b[1;32m----> 2\u001b[1;33m \u001b[0mf\u001b[0m\u001b[1;33m.\u001b[0m\u001b[0mwrite\u001b[0m\u001b[1;33m(\u001b[0m\u001b[1;34m\"Bla\"\u001b[0m\u001b[1;33m)\u001b[0m\u001b[1;33m\u001b[0m\u001b[0m\n\u001b[0m\u001b[0;32m      3\u001b[0m \u001b[0mf\u001b[0m\u001b[1;33m.\u001b[0m\u001b[0mclose\u001b[0m\u001b[1;33m(\u001b[0m\u001b[1;33m)\u001b[0m\u001b[1;33m\u001b[0m\u001b[0m\n",
        "\u001b[1;31mUnsupportedOperation\u001b[0m: not writable"
       ]
      }
     ],
     "prompt_number": 27
    },
    {
     "cell_type": "markdown",
     "metadata": {
      "slideshow": {
       "slide_type": "fragment"
      }
     },
     "source": [
      "* Programm wird mit wenig benutzergeeigneter Meldung beendet\n",
      "* `close()` wird nicht ausgef\u00fchrt"
     ]
    },
    {
     "cell_type": "code",
     "collapsed": false,
     "input": [
      "from io import UnsupportedOperation\n",
      "\n",
      "try:\n",
      "    f = open(\"roman.txt\", \"r\")\n",
      "    f.write(\"Bla\")\n",
      "except UnsupportedOperation as e:    # Wird ausgef\u00fchrt, wenn eine UnsupportedOperation-Exception auftritt\n",
      "    print(\"Diese Operation wird nicht unterst\u00fctzt:\", e)\n",
      "except:\n",
      "    print(\"Irgendwas anderes ging schief\")\n",
      "else:                                # Wird ausgef\u00fchrt, wenn _keine_ Exception auftritt\n",
      "    print(\"Erfolgreich gespeichert\")\n",
      "finally:                             # Wird _immer_ ausgef\u00fchrt\n",
      "    f.close()"
     ],
     "language": "python",
     "metadata": {
      "slideshow": {
       "slide_type": "slide"
      }
     },
     "outputs": [
      {
       "output_type": "stream",
       "stream": "stdout",
       "text": [
        "Diese Operation wird nicht unterst\u00fctzt: not writable\n"
       ]
      }
     ],
     "prompt_number": 33
    },
    {
     "cell_type": "markdown",
     "metadata": {
      "slideshow": {
       "slide_type": "subslide"
      }
     },
     "source": [
      "## Wie funktionieren Exceptions?\n",
      "* Irgendwo im Code der `write()`-Methode steht ``raise UnsupportedOperation(\"not writeable\")``\n",
      "* ``UnsupportedOperation(\"not writeable\")`` erzeugt ein Exception-Objekt\n",
      "* ``raise`` erzeugt den _Ausnahmezustand_ und markiert dieses Objekt als aktuelle Exception\n",
      "* der aktuelle Block/Funktion/\u2026 wird abgebrochen, bis in einem mit ``try`` gesch\u00fctzten Block\n",
      "* in diesem Block wird nach Klauseln geschaut:\n",
      "\n",
      "    * `except IOError` oder `except (IOError, TypeError, NameError)` oder ``except io.UnsupportedOperation as e``: Wenn die Exception von einem der angegebenen Typen ist, wird sie \u00bbgefangen\u00ab und der Block abgearbeitet, danach geht's normal weiter\n",
      "    * `except` oder `except Exception`: f\u00e4ngt alle Exceptions\n",
      "    * `finally`: Dieser Block wird in jedem Falle abgearbeitet, die Exception wird jedoch _nicht_ aufgehalten\n",
      "    \n",
      "* wenn die Exception nirgends aufgefangen wird, wird das Programm mit Fehlermeldung abgebrochen."
     ]
    },
    {
     "cell_type": "heading",
     "level": 4,
     "metadata": {
      "slideshow": {
       "slide_type": "subslide"
      }
     },
     "source": [
      "`with` und Exceptions"
     ]
    },
    {
     "cell_type": "code",
     "collapsed": false,
     "input": [
      "with open(\"roman.txt\", \"r\") as f:\n",
      "    f.write(\"Bla\")"
     ],
     "language": "python",
     "metadata": {
      "slideshow": {
       "slide_type": "-"
      }
     },
     "outputs": [
      {
       "ename": "UnsupportedOperation",
       "evalue": "not writable",
       "output_type": "pyerr",
       "traceback": [
        "\u001b[1;31m---------------------------------------------------------------------------\u001b[0m\n\u001b[1;31mUnsupportedOperation\u001b[0m                      Traceback (most recent call last)",
        "\u001b[1;32m<ipython-input-37-463c58cf879b>\u001b[0m in \u001b[0;36m<module>\u001b[1;34m()\u001b[0m\n\u001b[0;32m      1\u001b[0m \u001b[1;32mwith\u001b[0m \u001b[0mopen\u001b[0m\u001b[1;33m(\u001b[0m\u001b[1;34m\"roman.txt\"\u001b[0m\u001b[1;33m,\u001b[0m \u001b[1;34m\"r\"\u001b[0m\u001b[1;33m)\u001b[0m \u001b[1;32mas\u001b[0m \u001b[0mf\u001b[0m\u001b[1;33m:\u001b[0m\u001b[1;33m\u001b[0m\u001b[0m\n\u001b[1;32m----> 2\u001b[1;33m     \u001b[0mf\u001b[0m\u001b[1;33m.\u001b[0m\u001b[0mwrite\u001b[0m\u001b[1;33m(\u001b[0m\u001b[1;34m\"Bla\"\u001b[0m\u001b[1;33m)\u001b[0m\u001b[1;33m\u001b[0m\u001b[0m\n\u001b[0m",
        "\u001b[1;31mUnsupportedOperation\u001b[0m: not writable"
       ]
      }
     ],
     "prompt_number": 37
    },
    {
     "cell_type": "markdown",
     "metadata": {
      "slideshow": {
       "slide_type": "-"
      }
     },
     "source": [
      "Das Dateiobjekt in der `with`-Klausel bringt seinen eigenen ``finally``-Block implizit mit (\u00bbContext Manager\u00ab)"
     ]
    },
    {
     "cell_type": "markdown",
     "metadata": {
      "slideshow": {
       "slide_type": "slide"
      }
     },
     "source": [
      "<h3 style=\"color:green\">Aufgaben</h3>\n",
      "1) _(jetzt)_ Schreiben Sie eine Funktion save_file, die als Parameter einen Dateinamen nimmt und dann diese Datei zum Schreiben \u00f6ffnet, aber nur, wenn die Datei noch nicht existiert. Die Fehlermeldung, wenn eine bereits existierende Datei zu \u00f6ffnen versucht wird, soll lauten: \"ERROR: Cannot overwrite existing file!\" \n",
      "\n",
      "2) _(zur \u00dcbung zu Hause)_ Schreiben Sie die Methode so um, dass sie nun einen Parameter overwrite hat, dessen default-Wert False ist. Er bestimmt, ob die Funktion wie in 1) beschrieben funktioniert oder ob eine existierende Datei einfach \u00fcberschrieben wird.</p>"
     ]
    },
    {
     "cell_type": "markdown",
     "metadata": {
      "slideshow": {
       "slide_type": "subslide"
      }
     },
     "source": [
      "<h3>Musterl\u00f6sung</h3>\n",
      "<p>1) Schreiben Sie eine Funktion save_file, die als ersten Parameter einen Dateinamen nimmt und dann diese Datei zum Schreiben \u00f6ffnet, aber nur, wenn die Datei noch nicht existiert. Als zweiten Parameter kommt ein String namens content, der den Inhalt der Datei enth\u00e4lt. Die Fehlermeldung, wenn eine bereits existierende Datei zu \u00f6ffnen versucht wird, soll lauten: \"ERROR: Cannot overwrite existing file!\" "
     ]
    },
    {
     "cell_type": "code",
     "collapsed": false,
     "input": [
      "def save_file(filename, content):\n",
      "    \"\"\"\n",
      "    saves content into filename\n",
      "    \"\"\"\n",
      "    try: \n",
      "        with open(filename, \"x\", encoding=\"utf-8\") as fout:\n",
      "            fout.write(content)\n",
      "    except FileExistsError:\n",
      "        print(\"ERROR: Cannot overwrite existing file!\")\n",
      "        \n",
      "save_file(\"test.txt\", \"Hier k\u00f6mmt der Inhalt.\")"
     ],
     "language": "python",
     "metadata": {
      "slideshow": {
       "slide_type": "fragment"
      }
     },
     "outputs": [],
     "prompt_number": 34
    },
    {
     "cell_type": "markdown",
     "metadata": {
      "slideshow": {
       "slide_type": "subslide"
      }
     },
     "source": [
      "<p>2) Schreiben Sie die Methode so um, dass sie nun einen Parameter overwrite hat, dessen default-Wert False ist. Er bestimmt, ob die Funktion wie in 1) beschrieben funktioniert oder ob eine existierende Datei einfach \u00fcberschrieben wird.\n"
     ]
    },
    {
     "cell_type": "code",
     "collapsed": false,
     "input": [
      "def save_file(filename, content, overwrite=False):\n",
      "    \"\"\"\n",
      "    saves content into filename\n",
      "    \"\"\"\n",
      "    if overwrite==False:\n",
      "        write_value=\"x\"\n",
      "    else:\n",
      "        write_value=\"w\"\n",
      "    try: \n",
      "        with open(filename, write_value, encoding=\"utf-8\") as fout:\n",
      "            fout.write(content)\n",
      "    except FileExistsError:\n",
      "        print (\"ERROR: Cannot overwrite existing file!\")\n",
      "        \n",
      "save_file(\"testbtxt\", \"Hier k\u00f6mmt der Inhalt.\")"
     ],
     "language": "python",
     "metadata": {
      "slideshow": {
       "slide_type": "fragment"
      }
     },
     "outputs": [
      {
       "output_type": "stream",
       "stream": "stdout",
       "text": [
        "ERROR: Cannot overwrite existing file!\n"
       ]
      }
     ],
     "prompt_number": 27
    },
    {
     "cell_type": "markdown",
     "metadata": {
      "slideshow": {
       "slide_type": "slide"
      }
     },
     "source": [
      "<h3>Dateien kopieren bzw. verschieben</h3>"
     ]
    },
    {
     "cell_type": "markdown",
     "metadata": {
      "slideshow": {
       "slide_type": "fragment"
      }
     },
     "source": [
      "* Modul [shutil](https://docs.python.org/3.3/library/shutil.html) (__sh__ell __util__ities): Funktionen u.A. zum Kopieren und Verschieben von Dateien. \n",
      "* Ziel-Parameter:    \n",
      "    * existierendes Verzeichnis \u2013 Datei wird unter ihrem Namen in dem Verzeichnis abgelegt\n",
      "    * sonst \u2013 neuer Dateiname"
     ]
    },
    {
     "cell_type": "code",
     "collapsed": false,
     "input": [
      "import shutil\n",
      "shutil.copy(\"roman.txt\", \"results.dat\")"
     ],
     "language": "python",
     "metadata": {
      "slideshow": {
       "slide_type": "fragment"
      }
     },
     "outputs": [
      {
       "metadata": {},
       "output_type": "pyout",
       "prompt_number": 39,
       "text": [
        "'results.dat'"
       ]
      }
     ],
     "prompt_number": 39
    },
    {
     "cell_type": "markdown",
     "metadata": {
      "slideshow": {
       "slide_type": "subslide"
      }
     },
     "source": [
      "### Verzeichnispfade\n",
      "* Unter Windows: `\"C:\\\\TEMP\\\\Bla.txt\"`\n",
      "* Unter anderen Betriebssystemen: `\"/tmp/Bla.txt\"` (geht i.A. auch unter Windows \u2026)\n",
      "* saubere L\u00f6sung: [os.path.join()](https://docs.python.org/3.3/library/os.path.html#os.path.join) verwenden (oder ``os.sep``)"
     ]
    },
    {
     "cell_type": "code",
     "collapsed": false,
     "input": [
      "# FIXME\n",
      "import shutil\n",
      "import os\n",
      "shutil.copy(\"roman.txt\", os.path.join(\"daten\", \"kurzer-roman.txt\"))  #plattformunabh\u00e4ngig\n",
      "shutil.copy(\"roman.txt\", \"daten\" + os.sep + \"kurzer-roman.txt\")      #plattformunabh\u00e4ngig\n",
      "shutil.copy(\"roman.txt\", \"daten\\\\kurzer-roman.txt\")                  #macht unter nicht-windows etwas anderes ..."
     ],
     "language": "python",
     "metadata": {
      "slideshow": {
       "slide_type": "fragment"
      }
     },
     "outputs": [
      {
       "metadata": {},
       "output_type": "pyout",
       "prompt_number": 7,
       "text": [
        "'daten\\\\kurzer-roman.txt'"
       ]
      }
     ],
     "prompt_number": 7
    },
    {
     "cell_type": "markdown",
     "metadata": {
      "slideshow": {
       "slide_type": "fragment"
      }
     },
     "source": [
      "<p>Um Dateien (oder Unterverzeichnisse) zu bewegen, k\u00f6nnen sie in gleicher Weise shutil.move(file, file) verwenden."
     ]
    },
    {
     "cell_type": "markdown",
     "metadata": {
      "slideshow": {
       "slide_type": "slide"
      }
     },
     "source": [
      "<h3>Dateien umbenennen oder l\u00f6schen</h3>\n",
      "<p>Verwirrenderweise sind diese Befehle in einem anderen Modul, n\u00e4mlich dem Modul os</p>"
     ]
    },
    {
     "cell_type": "code",
     "collapsed": false,
     "input": [
      "import os\n",
      "os.rename(\"fileout.txt\", \"fileout.alt\")\n",
      "os.remove(\"fileout.alt\")"
     ],
     "language": "python",
     "metadata": {
      "slideshow": {
       "slide_type": "fragment"
      }
     },
     "outputs": [],
     "prompt_number": 8
    },
    {
     "cell_type": "markdown",
     "metadata": {
      "slideshow": {
       "slide_type": "slide"
      }
     },
     "source": [
      "<h3>Informationen \u00fcber Dateien oder Verzeichnisse</h3>"
     ]
    },
    {
     "cell_type": "code",
     "collapsed": false,
     "input": [
      "import os.path\n",
      "if os.path.exists(\"fileout.txt\"):  #pr\u00fcft ob eine Datei mit diesem Namen existiert\n",
      "    print(\"file exists\")\n",
      "else:\n",
      "    print(\"file does not exist\")"
     ],
     "language": "python",
     "metadata": {
      "slideshow": {
       "slide_type": "fragment"
      }
     },
     "outputs": [
      {
       "output_type": "stream",
       "stream": "stdout",
       "text": [
        "file does not exist\n"
       ]
      }
     ],
     "prompt_number": 9
    },
    {
     "cell_type": "code",
     "collapsed": false,
     "input": [
      "import os.path\n",
      "print(\"size of file results.dat: \", os.path.getsize(\"results.dat\"))"
     ],
     "language": "python",
     "metadata": {
      "slideshow": {
       "slide_type": "fragment"
      }
     },
     "outputs": [
      {
       "output_type": "stream",
       "stream": "stdout",
       "text": [
        "size of file results.dat:  145\n"
       ]
      }
     ],
     "prompt_number": 12
    },
    {
     "cell_type": "code",
     "collapsed": false,
     "input": [
      "os.stat(\"results.dat\")"
     ],
     "language": "python",
     "metadata": {
      "slideshow": {
       "slide_type": "fragment"
      }
     },
     "outputs": [
      {
       "metadata": {},
       "output_type": "pyout",
       "prompt_number": 15,
       "text": [
        "os.stat_result(st_mode=33204, st_ino=1183855, st_dev=2049, st_nlink=1, st_uid=1000, st_gid=1000, st_size=145, st_atime=1417443956, st_mtime=1417443956, st_ctime=1417443956)"
       ]
      }
     ],
     "prompt_number": 15
    },
    {
     "cell_type": "markdown",
     "metadata": {
      "slideshow": {
       "slide_type": "subslide"
      }
     },
     "source": [
      "### Mehr\n",
      "* in den Modulen `os`, `os.path` und `shutil` finden Sie zahlreiche weitere Funktionen zum Umgang mit Dateien und Verzeichnissen, z.B. zum Auflisten des Verzeichnisinhalts\n",
      "* Modul `glob` zum Auswerten von Shell-Glob-Mustern wie `*.txt`\n",
      "* Siehe Python-Dokumentation"
     ]
    },
    {
     "cell_type": "markdown",
     "metadata": {
      "slideshow": {
       "slide_type": "slide"
      }
     },
     "source": [
      "<h3>Ausgaben formatieren</h3>\n",
      "\n",
      "Es gibt [eine kleine Minisprache](https://docs.python.org/3/library/string.html#formatspec), u.a. um Strings nicht immer mit `+` zusammenbauen zu m\u00fcssen:"
     ]
    },
    {
     "cell_type": "code",
     "collapsed": false,
     "input": [
      "s = \"{hi} {world}!\".format(hi=\"hello and a wonderful\", world=\"beautiful world\")\n",
      "print(s)"
     ],
     "language": "python",
     "metadata": {
      "slideshow": {
       "slide_type": "fragment"
      }
     },
     "outputs": [
      {
       "output_type": "stream",
       "stream": "stdout",
       "text": [
        "hello and a wonderful beautiful world!\n"
       ]
      }
     ],
     "prompt_number": 16
    },
    {
     "cell_type": "markdown",
     "metadata": {
      "slideshow": {
       "slide_type": "fragment"
      }
     },
     "source": [
      "* Formatierungsinformationen in den Templates nach einem Doppelpunkt, \n",
      "* z.B. `<`/`>` f\u00fcr links/rechts ausgerichtet, Zahl f\u00fcr Breite"
     ]
    },
    {
     "cell_type": "code",
     "collapsed": false,
     "input": [
      "a = 2.593729475\n",
      "b = \"average number of people born in a city in an hour\"\n",
      "print (\"{text:<} {nr:>f}\".format(text=b, nr=a))"
     ],
     "language": "python",
     "metadata": {
      "slideshow": {
       "slide_type": "fragment"
      }
     },
     "outputs": [
      {
       "output_type": "stream",
       "stream": "stdout",
       "text": [
        "average number of people born in a city in an hour 2.593729\n"
       ]
      }
     ],
     "prompt_number": 17
    },
    {
     "cell_type": "code",
     "collapsed": false,
     "input": [
      "a = [2.68438575, 4.12, 5, 1.0484753838]\n",
      "b = [\"Paris\", \"Peking\", \"Mexico City\", \"Berlin\"]\n",
      "for i in range(len(a)):\n",
      "    print (\"{city:>12}: {nr:<5f}\".format(city=b[i], nr=a[i]))"
     ],
     "language": "python",
     "metadata": {
      "slideshow": {
       "slide_type": "fragment"
      }
     },
     "outputs": [
      {
       "output_type": "stream",
       "stream": "stdout",
       "text": [
        "       Paris: 2.684386\n",
        "      Peking: 4.120000\n",
        " Mexico City: 5.000000\n",
        "      Berlin: 1.048475\n"
       ]
      }
     ],
     "prompt_number": 18
    },
    {
     "cell_type": "markdown",
     "metadata": {
      "slideshow": {
       "slide_type": "slide"
      }
     },
     "source": [
      "<h3 style=\"color:green\">Hausaufgabe</h3>\n",
      "\n",
      "Schreiben Sie eine Programm, das rekursiv die Dateigr\u00f6\u00dfe aller Dateien und Unterverzeichnisse eines gegebenen Verzeichnis ermittelt und eine Liste daraus in eine Datei schreibt. Hier ein Ausschnitt, wie der Inhalt dieser Datei nach dem Ablauf Ihres Programms aussehen k\u00f6nnte:\n",
      "```\n",
      "        74 pydelta/requirements.txt\n",
      "       691 pydelta/licence.txt\n",
      "     39641 pydelta/delta.py\n",
      "      2320 pydelta/readme.txt\n",
      "     10589 pydelta/docs/conf.py\n",
      "         7 pydelta/docs/.gitignore\n",
      "      6766 pydelta/docs/Makefile\n",
      "      6703 pydelta/docs/make.bat\n",
      "       106 pydelta/docs/delta.rst\n",
      "        56 pydelta/docs/modules.rst\n",
      "       479 pydelta/docs/index.rst\n",
      "     24706 pydelta/docs\n",
      "     67432 pydelta\n",
      "```\n",
      "Ihr Programm sollte als Modul einbindbar sein und nicht nur unter Windows funktionieren."
     ]
    },
    {
     "cell_type": "code",
     "collapsed": false,
     "input": [],
     "language": "python",
     "metadata": {},
     "outputs": []
    }
   ],
   "metadata": {}
  }
 ]
}