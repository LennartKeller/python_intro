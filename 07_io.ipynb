{
 "cells": [
  {
   "cell_type": "markdown",
   "metadata": {
    "slideshow": {
     "slide_type": "slide"
    }
   },
   "source": [
    "## Einführung in das Programmieren mit Python\n",
    "\n",
    "# Input/Output, Exceptions (II)"
   ]
  },
  {
   "cell_type": "markdown",
   "metadata": {
    "slideshow": {
     "slide_type": "subslide"
    }
   },
   "source": [
    "## Wiederholung: Module\n",
    "\n",
    "* Module zur Kapselung zusammengehöriger Funktionen etc.\n",
    "* Python-Datei = Python-Modul\n",
    "* Import, Aliase und gezielter Import\n",
    "* `__name__ == \"__main__\"`\n",
    "* Doctests\n",
    "* Python-Standardbibliothek"
   ]
  },
  {
   "cell_type": "markdown",
   "metadata": {
    "slideshow": {
     "slide_type": "slide"
    }
   },
   "source": [
    "### Text-Dateien öffnen und lesen"
   ]
  },
  {
   "cell_type": "code",
   "execution_count": 2,
   "metadata": {
    "collapsed": false,
    "slideshow": {
     "slide_type": "fragment"
    }
   },
   "outputs": [
    {
     "data": {
      "text/plain": [
       "<_io.TextIOWrapper name='roman.txt' mode='rt' encoding='utf-8'>"
      ]
     },
     "execution_count": 2,
     "metadata": {},
     "output_type": "execute_result"
    }
   ],
   "source": [
    "f = open(\"roman.txt\", \"rt\", encoding=\"utf-8\")\n",
    "#        ^^^^^^^^^^^                       Dateiname\n",
    "#                     ^^^^                 Modus, r = lesen, t = Text\n",
    "#                                          (beides Default)\n",
    "#                           ^^^^^^^^^^^^^^ Textcodierung, Default systemabh.\n",
    "#=> Dateiobjekt\n",
    "f"
   ]
  },
  {
   "cell_type": "code",
   "execution_count": 3,
   "metadata": {
    "collapsed": false,
    "slideshow": {
     "slide_type": "fragment"
    }
   },
   "outputs": [
    {
     "name": "stdout",
     "output_type": "stream",
     "text": [
      "Kurzer Roman.\n",
      "Dies ist ein langer Roman. Er beginnt mit dem Auftritt des Heldens. \n",
      "Da es keine Helden gibt, unterbricht hier schon der Leser …\n",
      "\n"
     ]
    }
   ],
   "source": [
    "content = f.read()  # liest die komplette Datei in einen String ein. \n",
    "print(content)      # gibt den eingelesenen Inhalt der Datei aus\n",
    "f.close()           # Datei wieder schließen"
   ]
  },
  {
   "cell_type": "markdown",
   "metadata": {
    "slideshow": {
     "slide_type": "slide"
    }
   },
   "source": [
    "### Zeilenweises Einlesen einer Datei\n",
    "\n",
    "Dateien sind _Iterables_, sie können z.B. in `for`-Schleifen verwendet werden und liefern dann Zeilen:"
   ]
  },
  {
   "cell_type": "code",
   "execution_count": 3,
   "metadata": {
    "collapsed": false,
    "slideshow": {
     "slide_type": "fragment"
    }
   },
   "outputs": [
    {
     "name": "stdout",
     "output_type": "stream",
     "text": [
      "»Kurzer Roman.\n",
      "«\n",
      "»Dies ist ein langer Roman. Er beginnt mit dem Auftritt des Heldens. \n",
      "«\n",
      "»Da es keine Helden gibt, unterbricht hier schon der Leser …\n",
      "«\n"
     ]
    }
   ],
   "source": [
    "f = open(\"roman.txt\", encoding=\"utf-8\")\n",
    "for line in f:\n",
    "    print(\"»\" + line + \"«\") # hier kann man natürlich auch etwas Sinnvolleres tun …\n",
    "f.close()"
   ]
  },
  {
   "cell_type": "markdown",
   "metadata": {
    "slideshow": {
     "slide_type": "slide"
    }
   },
   "source": [
    "Schließen von Dateien\n",
    "Man sollte am Ende eines Zugriffs auf Dateien diese _immer_ schließen (`f.close()`). Um sicherzustellen, dass das passiert, kann man `with` verwenden:"
   ]
  },
  {
   "cell_type": "code",
   "execution_count": 6,
   "metadata": {
    "collapsed": false,
    "slideshow": {
     "slide_type": "fragment"
    }
   },
   "outputs": [
    {
     "name": "stdout",
     "output_type": "stream",
     "text": [
      "Kurzer Roman.\n",
      "Dies ist ein langer Roman. Er beginnt mit dem Auftritt des Heldens. \n",
      "Da es keine Helden gibt, unterbricht hier schon der Leser …\n"
     ]
    }
   ],
   "source": [
    "with open(\"roman.txt\", \"r\", encoding=\"utf-8\") as f:\n",
    "    for line in f:\n",
    "        print(line, end='')      "
   ]
  },
  {
   "cell_type": "markdown",
   "metadata": {
    "slideshow": {
     "slide_type": "slide"
    }
   },
   "source": [
    "<h3 style=\"color:green\">Aufgaben</h3>\n",
    "\n",
    "\n",
    "1. Legen Sie mit einem Editor eine utf-8-Datei in einem  Unterverzeichnis an (inkl. Umlaute und ß) und geben Sie dann den Inhalt mit Python aus. Unter Windows können Sie dafür den editor unter Zubehör verwenden.\n",
    "2. Messen Sie mit Python, wieviele Buchstaben Ihr Probetext inkl. Leerzeichen etc. lang ist. Vergleichen Sie das Ergebnis mit der Dateigröße, wie sie vom Betriebssystem angegeben wird. Wie kommt der Unterschied zustande?\n"
   ]
  },
  {
   "cell_type": "code",
   "execution_count": 7,
   "metadata": {
    "collapsed": false,
    "slideshow": {
     "slide_type": "fragment"
    }
   },
   "outputs": [
    {
     "name": "stdout",
     "output_type": "stream",
     "text": [
      "Dies ist eine einfache Beispieldatei.\n",
      "\n",
      "Sie enthält Umlaute, GROẞE und nicht große Eszetts und ſogar ein langes ſ!\n",
      "\n"
     ]
    }
   ],
   "source": [
    "with open(\"beispiel.txt\", \"rt\", encoding=\"utf-8\") as f:\n",
    "    for line in f:\n",
    "        print(line)"
   ]
  },
  {
   "cell_type": "code",
   "execution_count": 8,
   "metadata": {
    "collapsed": false,
    "slideshow": {
     "slide_type": "fragment"
    }
   },
   "outputs": [
    {
     "name": "stdout",
     "output_type": "stream",
     "text": [
      "113 121\n"
     ]
    }
   ],
   "source": [
    "import os\n",
    "with open(\"beispiel.txt\", \"rt\", encoding=\"utf-8\") as f:\n",
    "    content = f.read()\n",
    "    filesize = os.stat(\"beispiel.txt\").st_size\n",
    "    print(len(content), filesize)"
   ]
  },
  {
   "cell_type": "markdown",
   "metadata": {
    "slideshow": {
     "slide_type": "subslide"
    }
   },
   "source": [
    "Im [Hex-Viewer](http://de.wikipedia.org/wiki/Hex-Editor):\n",
    "\n",
    "<img src=\"files/images/utf-8_file.png\"/>\n",
    "\n",
    "* Codierung der Zeilenenden – in Windows als 0A 0D (`\\r\\n`), in Python-Strings als `'\\n'`\n",
    "* Codierung von Sonderzeichen mit mehr als einem Byte"
   ]
  },
  {
   "cell_type": "markdown",
   "metadata": {
    "slideshow": {
     "slide_type": "subslide"
    }
   },
   "source": [
    "### Encoding einer Textdatei\n",
    "\n",
    "* Zuordnung Bytefolge <> Interpretation als Zeichen\n",
    "* UTF-8 ist eine standardisierte, portable Codierung für den gesamten Unicode-Zeichenvorrat (bis zu 0x10FFFF verschiedene Zeichen)\n",
    "* UTF-8: ein Zeichen <> 1–4 Bytes\n",
    "* Python-3-Strings sind Unicode-Strings\n",
    "* _Tipp_: Arbeiten Sie immer mit UTF-8-Dateien, und geben Sie das Encoding explizit an."
   ]
  },
  {
   "cell_type": "code",
   "execution_count": 9,
   "metadata": {
    "collapsed": false,
    "slideshow": {
     "slide_type": "fragment"
    }
   },
   "outputs": [
    {
     "name": "stdout",
     "output_type": "stream",
     "text": [
      "Standardcodierung für Dateiinhalte (encoding-Parameter): UTF-8\n",
      "Standardcodierung für Dateinamen etc.: utf-8\n"
     ]
    }
   ],
   "source": [
    "import locale\n",
    "import sys\n",
    "\n",
    "print(\"Standardcodierung für Dateiinhalte (encoding-Parameter):\", locale.getpreferredencoding())\n",
    "print(\"Standardcodierung für Dateinamen etc.:\", sys.getfilesystemencoding())"
   ]
  },
  {
   "cell_type": "markdown",
   "metadata": {
    "slideshow": {
     "slide_type": "slide"
    }
   },
   "source": [
    "<h3>Schreiben von Dateien</h3>\n",
    "<p>Das Schreiben von Dateien funktioniert ganz ähnlich wie das Lesen.</p>"
   ]
  },
  {
   "cell_type": "code",
   "execution_count": 10,
   "metadata": {
    "collapsed": false,
    "slideshow": {
     "slide_type": "fragment"
    }
   },
   "outputs": [],
   "source": [
    "t = [\"Dies ist ein kürzerer Text.\", \"Und das wäre die letzte Zeile!\", \"Wenn es nicht eine weitere gäbe.\"]\n",
    "with open(\"fileout.txt\", \"w\", encoding=\"utf-8\") as output_file:\n",
    "    for l in t:\n",
    "        output_file.write(l + \"\\n\")"
   ]
  },
  {
   "cell_type": "markdown",
   "metadata": {
    "slideshow": {
     "slide_type": "fragment"
    }
   },
   "source": [
    "Beim Aufruf der Funktion open wird als Parameter nun `\"w\"` (write) gesetzt. `output_file` ist ebenfalls ein frei wählbarer Variablenname für unser Dateiobjekt.\n",
    "\n",
    "Achtung: Bei der Verwendung von `\"w\"` allein wird die Datei immer zuerst zurückgesetzt, wenn sie existieren sollte. D.h. evtl. bestehende Inhalte werden gelöscht!\n",
    "\n",
    "Beachten Sie, dass die Methode `write` nicht automatisch eine Newline anhängt, wie das im Fall von print geschieht."
   ]
  },
  {
   "cell_type": "markdown",
   "metadata": {
    "slideshow": {
     "slide_type": "slide"
    }
   },
   "source": [
    "<h3 style=\"color: green\">Aufgabe</h3>\n",
    "<p>1) Schreiben Sie ein Skript, dass ihre oben mit dem Editor angelegte Datei öffnet und den Inhalt in eine Datei namens results.txt schreibt. Das encoding ist utf-8.</p>"
   ]
  },
  {
   "cell_type": "markdown",
   "metadata": {
    "slideshow": {
     "slide_type": "fragment"
    }
   },
   "source": [
    "#### Musterlösung"
   ]
  },
  {
   "cell_type": "code",
   "execution_count": 5,
   "metadata": {
    "collapsed": false,
    "slideshow": {
     "slide_type": "-"
    }
   },
   "outputs": [],
   "source": [
    "with open(\"roman.txt\", \"r\", encoding=\"utf-8\") as fin:\n",
    "    with open(\"result.txt\", \"w\", encoding=\"utf-8\") as fout:\n",
    "        for line in fin:\n",
    "            fout.write(line)"
   ]
  },
  {
   "cell_type": "markdown",
   "metadata": {
    "slideshow": {
     "slide_type": "fragment"
    }
   },
   "source": [
    "oder in einem Rutsch lesen:"
   ]
  },
  {
   "cell_type": "code",
   "execution_count": 7,
   "metadata": {
    "collapsed": false,
    "slideshow": {
     "slide_type": "fragment"
    }
   },
   "outputs": [],
   "source": [
    "with open(\"roman.txt\", \"r\", encoding=\"utf-8\") as fin:\n",
    "    content = fin.read()\n",
    "    with open(\"result.txt\", \"w\", encoding=\"utf-8\") as fout:\n",
    "        fout.write(content)"
   ]
  },
  {
   "cell_type": "markdown",
   "metadata": {
    "slideshow": {
     "slide_type": "slide"
    }
   },
   "source": [
    "<h3>Das Anhängen an eine Datei</h3>\n",
    "<p>Sie können Dateien auch ergänzen, indem Sie als Parameter statt \"w\" oder \"r\" den Buchstaben \"a\" (append) setzten.</p>"
   ]
  },
  {
   "cell_type": "code",
   "execution_count": 8,
   "metadata": {
    "collapsed": false,
    "slideshow": {
     "slide_type": "fragment"
    }
   },
   "outputs": [],
   "source": [
    "with open(\"fileout.txt\", \"a\", encoding=\"utf-8\") as writer:\n",
    "    writer.write(\"Hänge diese Zeile an. Das ist nun die letzte.\")"
   ]
  },
  {
   "cell_type": "markdown",
   "metadata": {
    "slideshow": {
     "slide_type": "skip"
    }
   },
   "source": [
    "Achtung: Wenn Sie hier das falsche encoding angeben oder den Parameter vergessen, es sich aber um eine utf-8 Datei handelt, dann kann es sehr gut sein, dass das Ergebnis fehlerhaft ist, ohne dass Python einen Fehler meldet!\n",
    "\n",
    "Das Anhängen mit `\"a\"` ist für Fälle gedacht, in denen die Datei beim Start Ihres Programmes bereits existiert. Wenn Sie aus verschiedenen Teilen Ihres Programms in dieselbe Datei schreiben wollen, reichen Sie besser das von `open` zurückgelieferte Dateiobjekt umher."
   ]
  },
  {
   "cell_type": "markdown",
   "metadata": {
    "slideshow": {
     "slide_type": "fragment"
    }
   },
   "source": [
    "<h3 style=\"color: green\">Aufgaben</h3>\n",
    "<p>Ergänzen Sie die Datei, die Sie oben angelegt haben, um zwei Zeilen.</p>"
   ]
  },
  {
   "cell_type": "markdown",
   "metadata": {
    "slideshow": {
     "slide_type": "slide"
    }
   },
   "source": [
    "## `open` im Detail\n",
    "```\n",
    "open(...)\n",
    "    open(file, mode='r', buffering=-1, encoding=None,\n",
    "         errors=None, newline=None, closefd=True, opener=None) -> file object\n",
    "```\n",
    "__mode__ ist ein String aus einem oder mehreren der folgenden Zeichen:\n",
    "\n",
    "|Character| Meaning                                                        |\n",
    "|---------|----------------------------------------------------------------|\n",
    "|'r'      | open for reading (default)                                     |\n",
    "|'w'      | open for writing, truncating the file first                    |\n",
    "|'x'      | create a new file and open it for writing                      |\n",
    "|'a'      | open for writing, appending to the end of the file if it exists|\n",
    "|'b'      | binary mode                                                    |\n",
    "|'t'      | text mode (default)                                            |\n",
    "|'+'      | open a disk file for updating (reading and writing)            |\n",
    "|'U'      | universal newline mode (deprecated)                            |\n",
    "\n",
    "__encoding__ z.B. `utf-8`, `latin1`, `cp1252`"
   ]
  },
  {
   "cell_type": "markdown",
   "metadata": {
    "slideshow": {
     "slide_type": "subslide"
    }
   },
   "source": [
    "### Textdatei (vs. Binärdatei)\n",
    "* Zeilenweises Einlesen möglich\n",
    "* Konvertierung der Zeilenenden (Linux, Python: `'\\n'`, Windows: `'\\r\\n'`, MacOS: `'\\r'`), Option `newline`\n",
    "* Dekodierung als String (Option `errors` regelt den Umgang mit Fehlern)"
   ]
  },
  {
   "cell_type": "markdown",
   "metadata": {
    "slideshow": {
     "slide_type": "slide"
    }
   },
   "source": [
    "### Umgang mit Fehlern"
   ]
  },
  {
   "cell_type": "markdown",
   "metadata": {
    "slideshow": {
     "slide_type": "fragment"
    }
   },
   "source": [
    "* vorher prüfen → Aufwändig\n",
    "* Fehlerwert statt Rückgabewert durchreichen → Unintuitiv"
   ]
  },
  {
   "cell_type": "markdown",
   "metadata": {
    "slideshow": {
     "slide_type": "slide"
    }
   },
   "source": [
    "### Exceptions"
   ]
  },
  {
   "cell_type": "code",
   "execution_count": 11,
   "metadata": {
    "collapsed": false,
    "slideshow": {
     "slide_type": "-"
    }
   },
   "outputs": [
    {
     "ename": "FileNotFoundError",
     "evalue": "[Errno 2] No such file or directory: 'werther.txt'",
     "output_type": "error",
     "traceback": [
      "\u001b[1;31m---------------------------------------------------------------------------\u001b[0m",
      "\u001b[1;31mFileNotFoundError\u001b[0m                         Traceback (most recent call last)",
      "\u001b[1;32m<ipython-input-11-e105d558c6ba>\u001b[0m in \u001b[0;36m<module>\u001b[1;34m()\u001b[0m\n\u001b[1;32m----> 1\u001b[1;33m \u001b[0mf\u001b[0m \u001b[1;33m=\u001b[0m \u001b[0mopen\u001b[0m\u001b[1;33m(\u001b[0m\u001b[1;34m\"werther.txt\"\u001b[0m\u001b[1;33m)\u001b[0m\u001b[1;33m\u001b[0m\u001b[0m\n\u001b[0m",
      "\u001b[1;31mFileNotFoundError\u001b[0m: [Errno 2] No such file or directory: 'werther.txt'"
     ]
    }
   ],
   "source": [
    "f = open(\"werther.txt\")"
   ]
  },
  {
   "cell_type": "code",
   "execution_count": 10,
   "metadata": {
    "collapsed": false,
    "slideshow": {
     "slide_type": "fragment"
    }
   },
   "outputs": [
    {
     "ename": "UnsupportedOperation",
     "evalue": "not writable",
     "output_type": "error",
     "traceback": [
      "\u001b[0;31m---------------------------------------------------------------------------\u001b[0m\n\u001b[0;31mUnsupportedOperation\u001b[0m                      Traceback (most recent call last)",
      "\u001b[0;32m<ipython-input-10-99e0236320b0>\u001b[0m in \u001b[0;36m<module>\u001b[0;34m()\u001b[0m\n\u001b[1;32m      1\u001b[0m \u001b[0mf\u001b[0m \u001b[0;34m=\u001b[0m \u001b[0mopen\u001b[0m\u001b[0;34m(\u001b[0m\u001b[0;34m\"roman.txt\"\u001b[0m\u001b[0;34m,\u001b[0m \u001b[0;34m\"r\"\u001b[0m\u001b[0;34m)\u001b[0m\u001b[0;34m\u001b[0m\u001b[0m\n\u001b[0;32m----> 2\u001b[0;31m \u001b[0mf\u001b[0m\u001b[0;34m.\u001b[0m\u001b[0mwrite\u001b[0m\u001b[0;34m(\u001b[0m\u001b[0;34m\"Bla\"\u001b[0m\u001b[0;34m)\u001b[0m\u001b[0;34m\u001b[0m\u001b[0m\n\u001b[0m\u001b[1;32m      3\u001b[0m \u001b[0mf\u001b[0m\u001b[0;34m.\u001b[0m\u001b[0mclose\u001b[0m\u001b[0;34m(\u001b[0m\u001b[0;34m)\u001b[0m\u001b[0;34m\u001b[0m\u001b[0m\n",
      "\u001b[0;31mUnsupportedOperation\u001b[0m: not writable"
     ]
    }
   ],
   "source": [
    "f = open(\"roman.txt\", \"r\")\n",
    "f.write(\"Bla\")\n",
    "f.close()"
   ]
  },
  {
   "cell_type": "markdown",
   "metadata": {
    "slideshow": {
     "slide_type": "fragment"
    }
   },
   "source": [
    "* Programm wird mit wenig benutzergeeigneter Meldung beendet\n",
    "* `close()` wird nicht ausgeführt"
   ]
  },
  {
   "cell_type": "code",
   "execution_count": 11,
   "metadata": {
    "collapsed": false,
    "slideshow": {
     "slide_type": "slide"
    }
   },
   "outputs": [
    {
     "name": "stdout",
     "output_type": "stream",
     "text": [
      "Diese Operation wird nicht unterstützt: not writable\n"
     ]
    }
   ],
   "source": [
    "from io import UnsupportedOperation\n",
    "\n",
    "try:\n",
    "    f = open(\"roman.txt\", \"r\")\n",
    "    f.write(\"Bla\")\n",
    "except UnsupportedOperation as e:    # Wird ausgeführt, wenn eine UnsupportedOperation-Exception auftritt\n",
    "    print(\"Diese Operation wird nicht unterstützt:\", e)\n",
    "except:\n",
    "    print(\"Irgendwas anderes ging schief\")\n",
    "else:                                # Wird ausgeführt, wenn _keine_ Exception auftritt\n",
    "    print(\"Erfolgreich gespeichert\")\n",
    "finally:                             # Wird _immer_ ausgeführt\n",
    "    f.close()"
   ]
  },
  {
   "cell_type": "markdown",
   "metadata": {
    "slideshow": {
     "slide_type": "subslide"
    }
   },
   "source": [
    "## Wie funktionieren Exceptions?\n",
    "* Irgendwo im Code der `write()`-Methode steht ``raise UnsupportedOperation(\"not writeable\")``\n",
    "* ``UnsupportedOperation(\"not writeable\")`` erzeugt ein Exception-Objekt\n",
    "* ``raise`` erzeugt den _Ausnahmezustand_ und markiert dieses Objekt als aktuelle Exception\n",
    "* der aktuelle Block/Funktion/… wird abgebrochen, bis auf in einem mit ``try`` geschützten Block\n",
    "* in diesem Block wird nach Klauseln geschaut:\n",
    "\n",
    "    * `except IOError` oder `except (IOError, TypeError, NameError)` oder ``except io.UnsupportedOperation as e``: Wenn die Exception von einem der angegebenen Typen ist, wird sie »gefangen« und der Block abgearbeitet, danach geht's normal weiter\n",
    "    * `except` oder `except Exception`: fängt alle Exceptions\n",
    "    * `finally`: Dieser Block wird in jedem Falle abgearbeitet, die Exception wird jedoch _nicht_ aufgehalten\n",
    "    \n",
    "* wenn die Exception nirgends aufgefangen wird, wird das Programm mit Fehlermeldung abgebrochen."
   ]
  },
  {
   "cell_type": "markdown",
   "metadata": {
    "slideshow": {
     "slide_type": "subslide"
    }
   },
   "source": [
    "#### `with` und Exceptions"
   ]
  },
  {
   "cell_type": "code",
   "execution_count": 12,
   "metadata": {
    "collapsed": false,
    "slideshow": {
     "slide_type": "-"
    }
   },
   "outputs": [
    {
     "ename": "UnsupportedOperation",
     "evalue": "not writable",
     "output_type": "error",
     "traceback": [
      "\u001b[0;31m---------------------------------------------------------------------------\u001b[0m\n\u001b[0;31mUnsupportedOperation\u001b[0m                      Traceback (most recent call last)",
      "\u001b[0;32m<ipython-input-12-463c58cf879b>\u001b[0m in \u001b[0;36m<module>\u001b[0;34m()\u001b[0m\n\u001b[1;32m      1\u001b[0m \u001b[0;32mwith\u001b[0m \u001b[0mopen\u001b[0m\u001b[0;34m(\u001b[0m\u001b[0;34m\"roman.txt\"\u001b[0m\u001b[0;34m,\u001b[0m \u001b[0;34m\"r\"\u001b[0m\u001b[0;34m)\u001b[0m \u001b[0;32mas\u001b[0m \u001b[0mf\u001b[0m\u001b[0;34m:\u001b[0m\u001b[0;34m\u001b[0m\u001b[0m\n\u001b[0;32m----> 2\u001b[0;31m     \u001b[0mf\u001b[0m\u001b[0;34m.\u001b[0m\u001b[0mwrite\u001b[0m\u001b[0;34m(\u001b[0m\u001b[0;34m\"Bla\"\u001b[0m\u001b[0;34m)\u001b[0m\u001b[0;34m\u001b[0m\u001b[0m\n\u001b[0m",
      "\u001b[0;31mUnsupportedOperation\u001b[0m: not writable"
     ]
    }
   ],
   "source": [
    "with open(\"roman.txt\", \"r\") as f:\n",
    "    f.write(\"Bla\")"
   ]
  },
  {
   "cell_type": "markdown",
   "metadata": {
    "slideshow": {
     "slide_type": "-"
    }
   },
   "source": [
    "Das Dateiobjekt in der `with`-Klausel bringt seinen eigenen ``finally``-Block implizit mit (»Context Manager«)"
   ]
  },
  {
   "cell_type": "markdown",
   "metadata": {
    "slideshow": {
     "slide_type": "slide"
    }
   },
   "source": [
    "<h3 style=\"color:green\">Aufgaben</h3>\n",
    "1) Schreiben Sie eine Funktion save_file, die als Parameter einen Dateinamen nimmt und dann diese Datei zum Schreiben öffnet, aber nur, wenn die Datei noch nicht existiert. Die Fehlermeldung, wenn eine bereits existierende Datei zu öffnen versucht wird, soll lauten: \"ERROR: Cannot overwrite existing file!\" \n",
    "\n",
    "2) Schreiben Sie die Methode so um, dass sie nun einen Parameter overwrite hat, dessen default-Wert False ist. Er bestimmt, ob die Funktion wie in 1) beschrieben funktioniert oder ob eine existierende Datei einfach überschrieben wird.</p>"
   ]
  },
  {
   "cell_type": "markdown",
   "metadata": {
    "slideshow": {
     "slide_type": "subslide"
    }
   },
   "source": [
    "<h3>Musterlösung</h3>\n",
    "<p>1) Schreiben Sie eine Funktion save_file, die als ersten Parameter einen Dateinamen nimmt und dann diese Datei zum Schreiben öffnet, aber nur, wenn die Datei noch nicht existiert. Als zweiten Parameter kommt ein String namens content, der den Inhalt der Datei enthält. Die Fehlermeldung, wenn eine bereits existierende Datei zu öffnen versucht wird, soll lauten: \"ERROR: Cannot overwrite existing file!\" "
   ]
  },
  {
   "cell_type": "code",
   "execution_count": 34,
   "metadata": {
    "collapsed": false,
    "slideshow": {
     "slide_type": "fragment"
    }
   },
   "outputs": [],
   "source": [
    "def save_file(filename, content):\n",
    "    \"\"\"\n",
    "    saves content into filename\n",
    "    \"\"\"\n",
    "    try: \n",
    "        with open(filename, \"x\", encoding=\"utf-8\") as fout:\n",
    "            fout.write(content)\n",
    "    except FileExistsError:\n",
    "        print(\"ERROR: Cannot overwrite existing file!\")\n",
    "        \n",
    "save_file(\"test.txt\", \"Hier kömmt der Inhalt.\")"
   ]
  },
  {
   "cell_type": "markdown",
   "metadata": {
    "slideshow": {
     "slide_type": "subslide"
    }
   },
   "source": [
    "<p>2) Schreiben Sie die Methode so um, dass sie nun einen Parameter overwrite hat, dessen default-Wert False ist. Er bestimmt, ob die Funktion wie in 1) beschrieben funktioniert oder ob eine existierende Datei einfach überschrieben wird.\n"
   ]
  },
  {
   "cell_type": "code",
   "execution_count": 27,
   "metadata": {
    "collapsed": false,
    "slideshow": {
     "slide_type": "fragment"
    }
   },
   "outputs": [
    {
     "name": "stdout",
     "output_type": "stream",
     "text": [
      "ERROR: Cannot overwrite existing file!\n"
     ]
    }
   ],
   "source": [
    "def save_file(filename, content, overwrite=False):\n",
    "    \"\"\"\n",
    "    saves content into filename\n",
    "    \"\"\"\n",
    "    if overwrite==False:\n",
    "        write_value=\"x\"\n",
    "    else:\n",
    "        write_value=\"w\"\n",
    "    try: \n",
    "        with open(filename, write_value, encoding=\"utf-8\") as fout:\n",
    "            fout.write(content)\n",
    "    except FileExistsError:\n",
    "        print (\"ERROR: Cannot overwrite existing file!\")\n",
    "        \n",
    "save_file(\"testbtxt\", \"Hier kömmt der Inhalt.\")"
   ]
  },
  {
   "cell_type": "markdown",
   "metadata": {
    "slideshow": {
     "slide_type": "slide"
    }
   },
   "source": [
    "<h3>Dateien kopieren bzw. verschieben</h3>"
   ]
  },
  {
   "cell_type": "markdown",
   "metadata": {
    "slideshow": {
     "slide_type": "fragment"
    }
   },
   "source": [
    "* Modul [shutil](https://docs.python.org/3.3/library/shutil.html) (__sh__ell __util__ities): Funktionen u.A. zum Kopieren und Verschieben von Dateien. \n",
    "* Ziel-Parameter:    \n",
    "    * existierendes Verzeichnis – Datei wird unter ihrem Namen in dem Verzeichnis abgelegt\n",
    "    * sonst – neuer Dateiname"
   ]
  },
  {
   "cell_type": "code",
   "execution_count": 39,
   "metadata": {
    "collapsed": false,
    "slideshow": {
     "slide_type": "fragment"
    }
   },
   "outputs": [
    {
     "data": {
      "text/plain": [
       "'results.dat'"
      ]
     },
     "execution_count": 39,
     "metadata": {},
     "output_type": "execute_result"
    }
   ],
   "source": [
    "import shutil\n",
    "shutil.copy(\"roman.txt\", \"results.dat\")"
   ]
  },
  {
   "cell_type": "markdown",
   "metadata": {
    "slideshow": {
     "slide_type": "subslide"
    }
   },
   "source": [
    "### Verzeichnispfade\n",
    "* Unter Windows: `\"C:\\\\TEMP\\\\Bla.txt\"`\n",
    "* Unter anderen Betriebssystemen: `\"/tmp/Bla.txt\"` (geht i.A. auch unter Windows …)\n",
    "* saubere Lösung: [os.path.join()](https://docs.python.org/3.3/library/os.path.html#os.path.join) verwenden (oder ``os.sep``)"
   ]
  },
  {
   "cell_type": "code",
   "execution_count": 7,
   "metadata": {
    "collapsed": false,
    "slideshow": {
     "slide_type": "fragment"
    }
   },
   "outputs": [
    {
     "data": {
      "text/plain": [
       "'daten\\\\kurzer-roman.txt'"
      ]
     },
     "execution_count": 7,
     "metadata": {},
     "output_type": "execute_result"
    }
   ],
   "source": [
    "# FIXME\n",
    "import shutil\n",
    "import os\n",
    "shutil.copy(\"roman.txt\", os.path.join(\"daten\", \"kurzer-roman.txt\"))  #plattformunabhängig\n",
    "shutil.copy(\"roman.txt\", \"daten\" + os.sep + \"kurzer-roman.txt\")      #plattformunabhängig\n",
    "shutil.copy(\"roman.txt\", \"daten\\\\kurzer-roman.txt\")                  #macht unter nicht-windows etwas anderes ..."
   ]
  },
  {
   "cell_type": "markdown",
   "metadata": {
    "slideshow": {
     "slide_type": "fragment"
    }
   },
   "source": [
    "<p>Um Dateien (oder Unterverzeichnisse) zu bewegen, können sie in gleicher Weise shutil.move(file, file) verwenden."
   ]
  },
  {
   "cell_type": "markdown",
   "metadata": {
    "slideshow": {
     "slide_type": "slide"
    }
   },
   "source": [
    "<h3>Dateien umbenennen oder löschen</h3>\n",
    "<p>Verwirrenderweise sind diese Befehle in einem anderen Modul, nämlich dem Modul os</p>"
   ]
  },
  {
   "cell_type": "code",
   "execution_count": 8,
   "metadata": {
    "collapsed": false,
    "slideshow": {
     "slide_type": "fragment"
    }
   },
   "outputs": [],
   "source": [
    "import os\n",
    "os.rename(\"fileout.txt\", \"fileout.alt\")\n",
    "os.remove(\"fileout.alt\")"
   ]
  },
  {
   "cell_type": "markdown",
   "metadata": {
    "slideshow": {
     "slide_type": "slide"
    }
   },
   "source": [
    "<h3>Informationen über Dateien oder Verzeichnisse</h3>"
   ]
  },
  {
   "cell_type": "code",
   "execution_count": 9,
   "metadata": {
    "collapsed": false,
    "slideshow": {
     "slide_type": "fragment"
    }
   },
   "outputs": [
    {
     "name": "stdout",
     "output_type": "stream",
     "text": [
      "file does not exist\n"
     ]
    }
   ],
   "source": [
    "import os.path\n",
    "if os.path.exists(\"fileout.txt\"):  #prüft ob eine Datei mit diesem Namen existiert\n",
    "    print(\"file exists\")\n",
    "else:\n",
    "    print(\"file does not exist\")"
   ]
  },
  {
   "cell_type": "code",
   "execution_count": 12,
   "metadata": {
    "collapsed": false,
    "slideshow": {
     "slide_type": "fragment"
    }
   },
   "outputs": [
    {
     "name": "stdout",
     "output_type": "stream",
     "text": [
      "size of file results.dat:  145\n"
     ]
    }
   ],
   "source": [
    "import os.path\n",
    "print(\"size of file results.dat: \", os.path.getsize(\"results.dat\"))"
   ]
  },
  {
   "cell_type": "code",
   "execution_count": 15,
   "metadata": {
    "collapsed": false,
    "slideshow": {
     "slide_type": "fragment"
    }
   },
   "outputs": [
    {
     "data": {
      "text/plain": [
       "os.stat_result(st_mode=33204, st_ino=1183855, st_dev=2049, st_nlink=1, st_uid=1000, st_gid=1000, st_size=145, st_atime=1417443956, st_mtime=1417443956, st_ctime=1417443956)"
      ]
     },
     "execution_count": 15,
     "metadata": {},
     "output_type": "execute_result"
    }
   ],
   "source": [
    "os.stat(\"results.dat\")"
   ]
  },
  {
   "cell_type": "markdown",
   "metadata": {
    "slideshow": {
     "slide_type": "subslide"
    }
   },
   "source": [
    "### Mehr\n",
    "* in den Modulen `os`, `os.path` und `shutil` finden Sie zahlreiche weitere Funktionen zum Umgang mit Dateien und Verzeichnissen, z.B. zum Auflisten des Verzeichnisinhalts\n",
    "* Modul `glob` zum Auswerten von Shell-Glob-Mustern wie `*.txt`\n",
    "* Siehe Python-Dokumentation"
   ]
  },
  {
   "cell_type": "markdown",
   "metadata": {
    "slideshow": {
     "slide_type": "slide"
    }
   },
   "source": [
    "<h3>Ausgaben formatieren</h3>\n",
    "\n",
    "Es gibt [eine kleine Minisprache](https://docs.python.org/3/library/string.html#formatspec), u.a. um Strings nicht immer mit `+` zusammenbauen zu müssen:"
   ]
  },
  {
   "cell_type": "code",
   "execution_count": 16,
   "metadata": {
    "collapsed": false,
    "slideshow": {
     "slide_type": "fragment"
    }
   },
   "outputs": [
    {
     "name": "stdout",
     "output_type": "stream",
     "text": [
      "hello and a wonderful beautiful world!\n"
     ]
    }
   ],
   "source": [
    "s = \"{hi} {world}!\".format(hi=\"hello and a wonderful\", world=\"beautiful world\")\n",
    "print(s)"
   ]
  },
  {
   "cell_type": "markdown",
   "metadata": {
    "slideshow": {
     "slide_type": "fragment"
    }
   },
   "source": [
    "* Formatierungsinformationen in den Templates nach einem Doppelpunkt, \n",
    "* z.B. `<`/`>` für links/rechts ausgerichtet, Zahl für Breite"
   ]
  },
  {
   "cell_type": "code",
   "execution_count": 17,
   "metadata": {
    "collapsed": false,
    "slideshow": {
     "slide_type": "fragment"
    }
   },
   "outputs": [
    {
     "name": "stdout",
     "output_type": "stream",
     "text": [
      "average number of people born in a city in an hour 2.593729\n"
     ]
    }
   ],
   "source": [
    "a = 2.593729475\n",
    "b = \"average number of people born in a city in an hour\"\n",
    "print (\"{text:<} {nr:>f}\".format(text=b, nr=a))"
   ]
  },
  {
   "cell_type": "code",
   "execution_count": 20,
   "metadata": {
    "collapsed": false,
    "slideshow": {
     "slide_type": "fragment"
    }
   },
   "outputs": [
    {
     "name": "stdout",
     "output_type": "stream",
     "text": [
      "       Paris: 2.68439\n",
      "      Peking: 4.12000\n",
      " Mexico City: 5.00000\n",
      "      Berlin: 1.04848\n"
     ]
    }
   ],
   "source": [
    "a = [2.68438575, 4.12, 5, 1.0484753838]\n",
    "b = [\"Paris\", \"Peking\", \"Mexico City\", \"Berlin\"]\n",
    "for i in range(len(a)):\n",
    "    print (\"{city:>12}: {nr:<.5f}\".format(city=b[i], nr=a[i]))"
   ]
  },
  {
   "cell_type": "markdown",
   "metadata": {
    "slideshow": {
     "slide_type": "fragment"
    }
   },
   "source": [
    "* `>12`: Rechtsbündig, auf mindestens zwölf Zeichen (aufgefüllt wird mit Leerzeichen)\n",
    "* `<.5f`: Linksbündig, Kommazahl (`f`), mit fünf Nachkommastellen (`.5`)"
   ]
  }
 ],
 "metadata": {
  "celltoolbar": "Slideshow",
  "kernelspec": {
   "display_name": "Python 3",
   "language": "python",
   "name": "python3"
  },
  "language_info": {
   "codemirror_mode": {
    "name": "ipython",
    "version": 3
   },
   "file_extension": ".py",
   "mimetype": "text/x-python",
   "name": "python",
   "nbconvert_exporter": "python",
   "pygments_lexer": "ipython3",
   "version": "3.5.1+"
  }
 },
 "nbformat": 4,
 "nbformat_minor": 0
}
