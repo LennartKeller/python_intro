{
 "metadata": {
  "celltoolbar": "Slideshow",
  "name": "",
  "signature": "sha256:1a93a32b1a1c3e70ab6d618744f494d62883ce6ac6cfc2484ada6d165c9a5af7"
 },
 "nbformat": 3,
 "nbformat_minor": 0,
 "worksheets": [
  {
   "cells": [
    {
     "cell_type": "heading",
     "level": 1,
     "metadata": {
      "slideshow": {
       "slide_type": "slide"
      }
     },
     "source": [
      "Einf\u00fchrung in das Programmieren mit Python"
     ]
    },
    {
     "cell_type": "markdown",
     "metadata": {
      "slideshow": {
       "slide_type": "slide"
      }
     },
     "source": [
      "<h3>Wiederholung</h3>\n",
      "<ul>\n",
      "<li>Type Casting<br/>\n",
      "erm\u00f6glicht es, den Datentyp einer Variablen oder eines Wertes zu \u00e4ndern. Schreibweise new_datatype (var)\n",
      "<li>Listen<br/>\n",
      "anlegen: mylist = [1,2,3,4]<br/>\n",
      "erg\u00e4nzen: mylist.append(5)<br/>\n",
      "slicing: mylist[2:4], mylist[:3]<br/>\n",
      "sortieren: sort (mylist)<br/>\n",
      "<li>Strings als Sequenzen\n",
      "<li>Tupel als unver\u00e4nderliche Listenvariante\n",
      "<li>Dictionaries<br/>\n",
      "anlegen: mydic = {\"a\" : 1, \"b\" : 2} <br/>\n",
      "erg\u00e4nzen my[\"c\"] = 3 <br/>\n",
      "Funktionen: dic.keys(), dic.values()<br/>\n",
      "\n"
     ]
    },
    {
     "cell_type": "markdown",
     "metadata": {
      "slideshow": {
       "slide_type": "slide"
      }
     },
     "source": [
      "<h3>Musterl\u00f6sung f\u00fcr die Hausaufgaben</h3>\n",
      "<p>1) Sie wollen ein einfaches Telefonbuch anlegen, nur Nachnamen und Nummer. Was ist die beste Datenstruktur? \n"
     ]
    },
    {
     "cell_type": "code",
     "collapsed": false,
     "input": [
      "#ein Dictionary\n",
      "phone = { 'Maria': '555-28231', 'Sepp': '555-1234', 'Jo': '1919-1919' }\n",
      "phone[\"Maria\"]"
     ],
     "language": "python",
     "metadata": {
      "slideshow": {
       "slide_type": "fragment"
      }
     },
     "outputs": [
      {
       "metadata": {},
       "output_type": "pyout",
       "prompt_number": 1,
       "text": [
        "'555-28231'"
       ]
      }
     ],
     "prompt_number": 1
    },
    {
     "cell_type": "markdown",
     "metadata": {
      "slideshow": {
       "slide_type": "fragment"
      }
     },
     "source": [
      "2) Sie wollen die W\u00f6rter eines Textes auflisten. Welche der Datenstrukturen eignet sich daf\u00fcr?"
     ]
    },
    {
     "cell_type": "code",
     "collapsed": false,
     "input": [
      "#auflisten (!) -> eine Liste\n",
      "words = [\"wir\", \"haus\", \"kein\"]\n",
      "words[0]"
     ],
     "language": "python",
     "metadata": {
      "slideshow": {
       "slide_type": "fragment"
      }
     },
     "outputs": [
      {
       "metadata": {},
       "output_type": "pyout",
       "prompt_number": 92,
       "text": [
        "'wir'"
       ]
      }
     ],
     "prompt_number": 92
    },
    {
     "cell_type": "markdown",
     "metadata": {
      "slideshow": {
       "slide_type": "subslide"
      }
     },
     "source": [
      "3) Sie wollen die Tages-Temperaturen der europ\u00e4ischen Hauptst\u00e4dte in den letzten 4 Wochen speichern. Was w\u00e4ren m\u00f6gliche L\u00f6sungen? Testen Sie eine mit wenigen Spieldaten. Was w\u00e4re eine perfekte L\u00f6sung?  \n"
     ]
    },
    {
     "cell_type": "markdown",
     "metadata": {
      "slideshow": {
       "slide_type": "fragment"
      }
     },
     "source": [
      "Die Aufgabe lautet \"die Tages-Temperaturen der europ\u00e4ischen Hauptst\u00e4dte in den letzten 4 Wochen speichern\", d.h. wir m\u00fcssen f\u00fcr jeden Ort (1. Einheit) f\u00fcr jeden Tag (2. Einheit) die Temperatur (3. Einheit) speichern. Eine M\u00f6glichkeit w\u00e4re ein Dictionary, dessen Eintr\u00e4ge als key den St\u00e4dtenamen verwenden und als value eine 30 Elemente-lange Liste haben. Jedes Element der Liste enth\u00e4lt die Temperatur an diesem Tag, also temp[12] ist die Temperatur am 12. Aus Platzgr\u00fcnden verwende ich im folgenden nur 7 Tage."
     ]
    },
    {
     "cell_type": "code",
     "collapsed": false,
     "input": [
      "weather = { 'Berlin': [14,17,16,17,15,14,12], 'Athen' : [22,23,25,24,20,19,23] }\n",
      "weather[\"Berlin\"][5] # gibt das Wetter in Berlin am Samstag aus"
     ],
     "language": "python",
     "metadata": {
      "slideshow": {
       "slide_type": "fragment"
      }
     },
     "outputs": [
      {
       "metadata": {},
       "output_type": "pyout",
       "prompt_number": 6,
       "text": [
        "14"
       ]
      }
     ],
     "prompt_number": 6
    },
    {
     "cell_type": "markdown",
     "metadata": {
      "slideshow": {
       "slide_type": "subslide"
      }
     },
     "source": [
      "4) Sie wollen die W\u00f6rter eines Textes und ihre Frequenz auflisten. Diskutieren Sie m\u00f6gliche L\u00f6sungen. Testen Sie eine. Was erscheint Ihnen die beste L\u00f6sung?\n"
     ]
    },
    {
     "cell_type": "code",
     "collapsed": false,
     "input": [
      "# ein Dictionary ist eine gute Wahl:\n",
      "words =  {\"haus\" : 0.004, \"der\" : 0.03, \"auch\" : 0.009}\n",
      "#daraus kann man dann alphabetische Listen erstellen und auch H\u00e4ufigkeitswortlisten \n",
      "sorted(words.keys())"
     ],
     "language": "python",
     "metadata": {
      "slideshow": {
       "slide_type": "fragment"
      }
     },
     "outputs": [
      {
       "metadata": {},
       "output_type": "pyout",
       "prompt_number": 93,
       "text": [
        "['auch', 'der', 'haus']"
       ]
      }
     ],
     "prompt_number": 93
    },
    {
     "cell_type": "markdown",
     "metadata": {
      "slideshow": {
       "slide_type": "subslide"
      }
     },
     "source": [
      "<p style=\"color:green\">Die Gemeinsame Normdatei der Deutschen Nationalbibliothek verzeichnet historische Personen, Ortsnamen usw. Jeder Eintrag hat eine einzigartige Nummer (id). In unserer vereinfachten Version besteht ein Eintrag aus 1. der id, 2. dem Namen, 3. einem kleinen Text zur Person oder dem Ort. \n",
      "<ol style=\"color:green\">\n",
      "<li>Definieren Sie 4 Test-Eintr\u00e4ge und holen Sie sich von der GND die richtigen GND-Nummern daf\u00fcr. \n",
      "</ol>\n",
      "<p> Sie k\u00f6nnen ganz bequem in der GND suchen, etwa hier: <a href=\"https://wiki.bsz-bw.de/doku.php?id=v-team:recherche:ognd:start\">https://wiki.bsz-bw.de/doku.php?id=v-team:recherche:ognd:start</a><br/>\n",
      "Sie k\u00f6nnen dann die Nummer auch als Link verwenden. Goethe etwa hat die Nummer 118540238. Dann k\u00f6nnen Sie nun mit dem Link <a href=\"d-nb.info/gnd/118540238\">http://d-nb.info/gnd/118540238</a> seinen GND-Eintrag abrufen. \n",
      "\n"
     ]
    },
    {
     "cell_type": "code",
     "collapsed": false,
     "input": [
      "# FIXME\n",
      "vips = {118540238 : {\"Goethe\" : \"Schriftsteller, Publizist, Politiker, Jurist, Naturwissenschaftler, Theaterintendant, Maler, Zeichner, 1749 - 1832\"},\n",
      "        118607625 : {\"Schiller\" : \"Schriftsteller, Dramatiker, Historiker, 1759 - 1805\"}, \n",
      "        118572121 : {\"Lessing\" : \"Schriftsteller, Kritiker, Philosoph, Bibliothekar, 1729 - 1781\"}, \n",
      "        118559230: {\"Kafka\" : \"Schriftsteller, Jurist, 1883 - 1924\"} }"
     ],
     "language": "python",
     "metadata": {
      "slideshow": {
       "slide_type": "fragment"
      }
     },
     "outputs": [],
     "prompt_number": 105
    },
    {
     "cell_type": "markdown",
     "metadata": {
      "slideshow": {
       "slide_type": "fragment"
      }
     },
     "source": [
      "2) Geben Sie durch Angabe der Nummer den Eintrag aus. \n"
     ]
    },
    {
     "cell_type": "code",
     "collapsed": false,
     "input": [
      "vips[118572121]"
     ],
     "language": "python",
     "metadata": {
      "slideshow": {
       "slide_type": "fragment"
      }
     },
     "outputs": [
      {
       "metadata": {},
       "output_type": "pyout",
       "prompt_number": 106,
       "text": [
        "{'Lessing': 'Schriftsteller, Kritiker, Philosoph, Bibliothekar, 1729 - 1781'}"
       ]
      }
     ],
     "prompt_number": 106
    },
    {
     "cell_type": "markdown",
     "metadata": {
      "slideshow": {
       "slide_type": "subslide"
      }
     },
     "source": [
      "3) F\u00fcgen Sie einen weiteren Eintrag hinzu."
     ]
    },
    {
     "cell_type": "code",
     "collapsed": false,
     "input": [
      "vips[118534262] =  {\"Fontane\" : \"Schriftsteller, Journalist, Kritiker, Theaterkritiker, Kriegsberichterstatter, Apotheker, 1819 - 1898\"} "
     ],
     "language": "python",
     "metadata": {
      "slideshow": {
       "slide_type": "fragment"
      }
     },
     "outputs": [],
     "prompt_number": 107
    },
    {
     "cell_type": "markdown",
     "metadata": {
      "slideshow": {
       "slide_type": "fragment"
      }
     },
     "source": [
      "4) Geben Sie alle GND-Nummern aus."
     ]
    },
    {
     "cell_type": "code",
     "collapsed": false,
     "input": [
      "vips.keys()"
     ],
     "language": "python",
     "metadata": {
      "slideshow": {
       "slide_type": "fragment"
      }
     },
     "outputs": [
      {
       "metadata": {},
       "output_type": "pyout",
       "prompt_number": 108,
       "text": [
        "dict_keys([118534262, 118607625, 118559230, 118540238, 118572121])"
       ]
      }
     ],
     "prompt_number": 108
    },
    {
     "cell_type": "markdown",
     "metadata": {
      "slideshow": {
       "slide_type": "fragment"
      }
     },
     "source": [
      "5) Geben Sie mit Verwendung der GND-Nummer (nur) einen Namen aus. "
     ]
    },
    {
     "cell_type": "code",
     "collapsed": false,
     "input": [
      "list(vips[118534262].keys())[0]"
     ],
     "language": "python",
     "metadata": {
      "slideshow": {
       "slide_type": "fragment"
      }
     },
     "outputs": [
      {
       "metadata": {},
       "output_type": "pyout",
       "prompt_number": 109,
       "text": [
        "'Fontane'"
       ]
      }
     ],
     "prompt_number": 109
    },
    {
     "cell_type": "markdown",
     "metadata": {
      "slideshow": {
       "slide_type": "fragment"
      }
     },
     "source": [
      "6) Geben Sie mit Verwendung der GND-Nummer (nur) den Text aus. "
     ]
    },
    {
     "cell_type": "code",
     "collapsed": false,
     "input": [
      "list(vips[118534262].values())[0]"
     ],
     "language": "python",
     "metadata": {
      "slideshow": {
       "slide_type": "fragment"
      }
     },
     "outputs": [
      {
       "metadata": {},
       "output_type": "pyout",
       "prompt_number": 110,
       "text": [
        "'Schriftsteller, Journalist, Kritiker, Theaterkritiker, Kriegsberichterstatter, Apotheker, 1819 - 1898'"
       ]
      }
     ],
     "prompt_number": 110
    },
    {
     "cell_type": "heading",
     "level": 2,
     "metadata": {
      "slideshow": {
       "slide_type": "slide"
      }
     },
     "source": [
      "Programmkontrolle mit bedingten Verzweigungen und Schleifen"
     ]
    },
    {
     "cell_type": "markdown",
     "metadata": {
      "slideshow": {
       "slide_type": "subslide"
      }
     },
     "source": [
      "<h3>Bedingungen"
     ]
    },
    {
     "cell_type": "markdown",
     "metadata": {
      "slideshow": {
       "slide_type": "fragment"
      }
     },
     "source": [
      "Jeder Ausdruck, der einen Wahrheitswert (`True` oder `False`) zur\u00fcckgibt, kann als Bedingung verwendet werden. Beispiele:"
     ]
    },
    {
     "cell_type": "code",
     "collapsed": false,
     "input": [
      "x = 1 \n",
      "y = 0\n",
      "x == y      # testet, ob x gleich y; Achtung! Zwei '='"
     ],
     "language": "python",
     "metadata": {
      "slideshow": {
       "slide_type": "fragment"
      }
     },
     "outputs": [
      {
       "metadata": {},
       "output_type": "pyout",
       "prompt_number": 1,
       "text": [
        "False"
       ]
      }
     ],
     "prompt_number": 1
    },
    {
     "cell_type": "code",
     "collapsed": false,
     "input": [
      "x != y      #testet auf Ungleichheit. "
     ],
     "language": "python",
     "metadata": {
      "slideshow": {
       "slide_type": "fragment"
      }
     },
     "outputs": [
      {
       "metadata": {},
       "output_type": "pyout",
       "prompt_number": 2,
       "text": [
        "True"
       ]
      }
     ],
     "prompt_number": 2
    },
    {
     "cell_type": "code",
     "collapsed": false,
     "input": [
      "x > y      #testet ob x gr\u00f6\u00dfer als y"
     ],
     "language": "python",
     "metadata": {
      "slideshow": {
       "slide_type": "fragment"
      }
     },
     "outputs": [
      {
       "metadata": {},
       "output_type": "pyout",
       "prompt_number": 3,
       "text": [
        "True"
       ]
      }
     ],
     "prompt_number": 3
    },
    {
     "cell_type": "code",
     "collapsed": false,
     "input": [
      "x <= y        #testet, ob x kleiner oder gleich y ist"
     ],
     "language": "python",
     "metadata": {
      "slideshow": {
       "slide_type": "fragment"
      }
     },
     "outputs": [
      {
       "metadata": {},
       "output_type": "pyout",
       "prompt_number": 4,
       "text": [
        "False"
       ]
      }
     ],
     "prompt_number": 4
    },
    {
     "cell_type": "markdown",
     "metadata": {
      "slideshow": {
       "slide_type": "subslide"
      }
     },
     "source": [
      "<h3>Viele Operationen und Funktionen geben True oder False zur\u00fcck:</h3>"
     ]
    },
    {
     "cell_type": "code",
     "collapsed": false,
     "input": [
      "\"AU\"  in \"LAUFEN\"      #testet, ob \"AU\" in \"LAUFEN\" enthalten ist"
     ],
     "language": "python",
     "metadata": {
      "slideshow": {
       "slide_type": "fragment"
      }
     },
     "outputs": [
      {
       "metadata": {},
       "output_type": "pyout",
       "prompt_number": 5,
       "text": [
        "True"
       ]
      }
     ],
     "prompt_number": 5
    },
    {
     "cell_type": "code",
     "collapsed": false,
     "input": [
      "ml = [1,2,3,4]   \n",
      "2 in ml        #testet ob 2 ein Element der Liste ml ist"
     ],
     "language": "python",
     "metadata": {
      "slideshow": {
       "slide_type": "fragment"
      }
     },
     "outputs": [
      {
       "metadata": {},
       "output_type": "pyout",
       "prompt_number": 6,
       "text": [
        "True"
       ]
      }
     ],
     "prompt_number": 6
    },
    {
     "cell_type": "code",
     "collapsed": false,
     "input": [
      "chars = dict(a = 1, b = 3, c = 5)\n",
      "\"d\" in chars  # testet ob d ein Key im Dictionary chars ist \n",
      "              # (also Kurzform f\u00fcr \"d\" in chars.keys()"
     ],
     "language": "python",
     "metadata": {
      "slideshow": {
       "slide_type": "fragment"
      }
     },
     "outputs": [
      {
       "metadata": {},
       "output_type": "pyout",
       "prompt_number": 7,
       "text": [
        "False"
       ]
      }
     ],
     "prompt_number": 7
    },
    {
     "cell_type": "code",
     "collapsed": false,
     "input": [
      "s = \"42\"\n",
      "t = \"zweiundvierzig\"\n",
      "s.isnumeric(), t.isnumeric()"
     ],
     "language": "python",
     "metadata": {
      "slideshow": {
       "slide_type": "fragment"
      }
     },
     "outputs": [
      {
       "metadata": {},
       "output_type": "pyout",
       "prompt_number": 8,
       "text": [
        "(True, False)"
       ]
      }
     ],
     "prompt_number": 8
    },
    {
     "cell_type": "markdown",
     "metadata": {
      "slideshow": {
       "slide_type": "subslide"
      }
     },
     "source": [
      "''Modulo'' berechnet den Rest einer Division:<br/>\n",
      "10 modulo 4 bedeutet also: Dividiere 10 durch 4 und erhalte den Rest.\n",
      "10 / 4  = 2*4 + 2, dh. 10 Modulo 4 = 2<br/>\n",
      "Syntax in Python 10 % 4 \n"
     ]
    },
    {
     "cell_type": "code",
     "collapsed": false,
     "input": [
      "10 % 4"
     ],
     "language": "python",
     "metadata": {
      "slideshow": {
       "slide_type": "fragment"
      }
     },
     "outputs": [
      {
       "metadata": {},
       "output_type": "pyout",
       "prompt_number": 9,
       "text": [
        "2"
       ]
      }
     ],
     "prompt_number": 9
    },
    {
     "cell_type": "code",
     "collapsed": false,
     "input": [
      "13 % 5"
     ],
     "language": "python",
     "metadata": {
      "slideshow": {
       "slide_type": "fragment"
      }
     },
     "outputs": [
      {
       "metadata": {},
       "output_type": "pyout",
       "prompt_number": 10,
       "text": [
        "3"
       ]
      }
     ],
     "prompt_number": 10
    },
    {
     "cell_type": "markdown",
     "metadata": {
      "slideshow": {
       "slide_type": "slide"
      }
     },
     "source": [
      "<h3 style=\"color:green\">Aufgaben</h3>\n",
      "<ol>\n",
      "<li>Testen Sie, ob `a` kleiner ist als `b`, wenn `a = 1` und `b = -1`\n",
      "<li>Testen Sie, ob der String \"Ich\" in \"Magermilch mag mich nicht\" enthalten ist.\n",
      "<li>Gegeben ist das Dictionary `d = {\"a\" : 23, \"b\" : 24, \"c\" : 25}`. Testen Sie ob `\"d\"` in den keys enthalten ist und ob `25` in den values enthalten ist\n",
      "<li>Testen Sie, ob `2134` eine gerade Zahl ist\n",
      "</ol>"
     ]
    },
    {
     "cell_type": "markdown",
     "metadata": {
      "slideshow": {
       "slide_type": "subslide"
      }
     },
     "source": [
      "<h3>Musterl\u00f6sung</h3>\n",
      "<p>Testen Sie, ob a kleiner ist als b "
     ]
    },
    {
     "cell_type": "code",
     "collapsed": false,
     "input": [
      "a = 1\n",
      "b = -1\n",
      "a < b"
     ],
     "language": "python",
     "metadata": {
      "slideshow": {
       "slide_type": "fragment"
      }
     },
     "outputs": [
      {
       "metadata": {},
       "output_type": "pyout",
       "prompt_number": 11,
       "text": [
        "False"
       ]
      }
     ],
     "prompt_number": 11
    },
    {
     "cell_type": "markdown",
     "metadata": {
      "slideshow": {
       "slide_type": "fragment"
      }
     },
     "source": [
      "2) Testen Sie, ob der String \"Ich\" in \"Magermilch mag mich nicht\" enthalten ist. "
     ]
    },
    {
     "cell_type": "code",
     "collapsed": false,
     "input": [
      "\"Ich\" in \"Magermilch mag mich nicht\""
     ],
     "language": "python",
     "metadata": {
      "slideshow": {
       "slide_type": "fragment"
      }
     },
     "outputs": [
      {
       "metadata": {},
       "output_type": "pyout",
       "prompt_number": 12,
       "text": [
        "False"
       ]
      }
     ],
     "prompt_number": 12
    },
    {
     "cell_type": "markdown",
     "metadata": {
      "slideshow": {
       "slide_type": "subslide"
      }
     },
     "source": [
      "3) Gegeben ist das Dictionary d = {\"a\" : 23, \"b\" : 24, \"c\" : 25}. Testen Sie ob d in den keys enthalten ist und ob 25 in den values enthalten ist "
     ]
    },
    {
     "cell_type": "code",
     "collapsed": false,
     "input": [
      "d = {\"a\" : 23, \"b\" : 24, \"c\" : 25}\n",
      "print(\"d\" in d)\n",
      "print(25 in d.values())"
     ],
     "language": "python",
     "metadata": {
      "slideshow": {
       "slide_type": "fragment"
      }
     },
     "outputs": [
      {
       "output_type": "stream",
       "stream": "stdout",
       "text": [
        "False\n",
        "True\n"
       ]
      }
     ],
     "prompt_number": 13
    },
    {
     "cell_type": "markdown",
     "metadata": {
      "slideshow": {
       "slide_type": "fragment"
      }
     },
     "source": [
      "4) Testen Sie, ob 2134 eine gerade Zahl ist"
     ]
    },
    {
     "cell_type": "code",
     "collapsed": false,
     "input": [
      "2134 % 2 == 0"
     ],
     "language": "python",
     "metadata": {
      "slideshow": {
       "slide_type": "fragment"
      }
     },
     "outputs": [
      {
       "metadata": {},
       "output_type": "pyout",
       "prompt_number": 14,
       "text": [
        "True"
       ]
      }
     ],
     "prompt_number": 14
    },
    {
     "cell_type": "markdown",
     "metadata": {
      "slideshow": {
       "slide_type": "slide"
      }
     },
     "source": [
      "<h3>Zusammengesetzte Bedingungen</h3>\n",
      "\n",
      "<p>&lt;bedingung> `and` &lt;bedingung>  <br/>   \n",
      "=> wahr, wenn beide Bedingungen wahr sind. \n",
      "\n",
      "<p>&lt;bedingung> `or` &lt;bedingung> <br/>\n",
      "=> wahr, wenn eine der beiden Bedingungen wahr ist oder wenn beide wahr sind\n",
      "\n",
      "<p>`not` &lt;bedingung> <br/>\n",
      "=> wahr gdw. &lt;bedingung> falsch ist\n",
      "\n",
      "**Boolesche Operatoren**"
     ]
    },
    {
     "cell_type": "code",
     "collapsed": false,
     "input": [
      "a = True\n",
      "b = False\n",
      "a and b"
     ],
     "language": "python",
     "metadata": {
      "slideshow": {
       "slide_type": "fragment"
      }
     },
     "outputs": [
      {
       "metadata": {},
       "output_type": "pyout",
       "prompt_number": 15,
       "text": [
        "False"
       ]
      }
     ],
     "prompt_number": 15
    },
    {
     "cell_type": "code",
     "collapsed": false,
     "input": [
      "a or b"
     ],
     "language": "python",
     "metadata": {
      "slideshow": {
       "slide_type": "fragment"
      }
     },
     "outputs": [
      {
       "metadata": {},
       "output_type": "pyout",
       "prompt_number": 16,
       "text": [
        "True"
       ]
      }
     ],
     "prompt_number": 16
    },
    {
     "cell_type": "code",
     "collapsed": false,
     "input": [
      "a and not b"
     ],
     "language": "python",
     "metadata": {
      "slideshow": {
       "slide_type": "fragment"
      }
     },
     "outputs": [
      {
       "metadata": {},
       "output_type": "pyout",
       "prompt_number": 17,
       "text": [
        "True"
       ]
      }
     ],
     "prompt_number": 17
    },
    {
     "cell_type": "markdown",
     "metadata": {
      "slideshow": {
       "slide_type": "slide"
      }
     },
     "source": [
      "<h3 style=\"color:green\">Aufgaben</h3>\n",
      "<p>1) Testen Sie, ob 3457 eine grade Zahl ist und kleiner als 34 im Quadrat</p>\n",
      "<p>2) Gegeben sind a = \"Wiederholung\" und b = \"Repetition\". Testen Sie, ob in einem der beidem Strings \"der\" enthalten ist."
     ]
    },
    {
     "cell_type": "markdown",
     "metadata": {
      "slideshow": {
       "slide_type": "slide"
      }
     },
     "source": [
      "<h3>Musterl\u00f6sung</h3>\n",
      "<p>1) Testen Sie, ob 3457 eine grade Zahl ist und kleiner als 34 im Quadrat"
     ]
    },
    {
     "cell_type": "code",
     "collapsed": false,
     "input": [
      "3457 % 2 == 0 and 3457 < 34 ** 2 "
     ],
     "language": "python",
     "metadata": {
      "slideshow": {
       "slide_type": "fragment"
      }
     },
     "outputs": [
      {
       "metadata": {},
       "output_type": "pyout",
       "prompt_number": 18,
       "text": [
        "False"
       ]
      }
     ],
     "prompt_number": 18
    },
    {
     "cell_type": "markdown",
     "metadata": {
      "slideshow": {
       "slide_type": "fragment"
      }
     },
     "source": [
      "2) Gegeben sind a = \"Wiederholung\" und b = \"Repetition\". Testen Sie ob in einem der beidem Strings \"der\" enthalten ist."
     ]
    },
    {
     "cell_type": "code",
     "collapsed": false,
     "input": [
      "a = \"Wiederholung\"\n",
      "b = \"Reptition\"\n",
      "\"der\" in a or \"der\" in b"
     ],
     "language": "python",
     "metadata": {
      "slideshow": {
       "slide_type": "fragment"
      }
     },
     "outputs": [
      {
       "metadata": {},
       "output_type": "pyout",
       "prompt_number": 19,
       "text": [
        "True"
       ]
      }
     ],
     "prompt_number": 19
    },
    {
     "cell_type": "markdown",
     "metadata": {
      "slideshow": {
       "slide_type": "subslide"
      }
     },
     "source": [
      "### Priorit\u00e4ten\n",
      "\n",
      "<pre>\n",
      "or                                                       # bindet schw\u00e4cher\n",
      "and\n",
      "not x\n",
      "in, not in, is, is not, <, <=, >, >=, !=, ==\n",
      "|\n",
      "^\n",
      "&\n",
      "<<, >>\n",
      "+, -\n",
      "*, /, //, %\n",
      "+x, -x, ~x\n",
      "**\n",
      "x[index], x[index:index], x(arguments...), x.attribute\n",
      "(expressions...), [expressions...], {key: value...}, {expressions...} # st\u00e4rker\n",
      "</pre>"
     ]
    },
    {
     "cell_type": "code",
     "collapsed": false,
     "input": [
      "a =  True or True and False\n",
      "b = (True or True) and False"
     ],
     "language": "python",
     "metadata": {
      "slideshow": {
       "slide_type": "fragment"
      }
     },
     "outputs": [],
     "prompt_number": 20
    },
    {
     "cell_type": "code",
     "collapsed": false,
     "input": [
      "print(a, b)"
     ],
     "language": "python",
     "metadata": {
      "slideshow": {
       "slide_type": "fragment"
      }
     },
     "outputs": [
      {
       "output_type": "stream",
       "stream": "stdout",
       "text": [
        "True False\n"
       ]
      }
     ],
     "prompt_number": 21
    },
    {
     "cell_type": "markdown",
     "metadata": {
      "slideshow": {
       "slide_type": "slide"
      }
     },
     "source": [
      "<h3>Programmkontrolle: Bedingte Verzweigung</h3>\n",
      "<p>Mit if kann man den Programmablauf abh\u00e4ngig vom Wahrheitswert von Bedingungen verzweigen lassen. Einfachster Fall:\n",
      "<p>\n",
      "<img src=\"files/images/if_simple.png\" width=\"50%\" height=\"50%\" border=\"0\" alt=\"\">    "
     ]
    },
    {
     "cell_type": "code",
     "collapsed": false,
     "input": [
      "a = 1\n",
      "if a == 1:\n",
      "    print (\"Surprisingly, a is one\")"
     ],
     "language": "python",
     "metadata": {
      "slideshow": {
       "slide_type": "fragment"
      }
     },
     "outputs": [
      {
       "output_type": "stream",
       "stream": "stdout",
       "text": [
        "Surprisingly, a is one\n"
       ]
      }
     ],
     "prompt_number": 22
    },
    {
     "cell_type": "markdown",
     "metadata": {
      "slideshow": {
       "slide_type": "slide"
      }
     },
     "source": [
      "<h3 style=\"color:green\">Aufgaben</h3>\n",
      "<p>1) Gegeben ist a = \"aus\" und b = \"Das Haus steht leer\". Schreiben Sie ein Script, dass f\u00fcr den Fall, dass a in b enthalten ist, ausgibt: _\"aus\" ist in dem String \"Das Haus steht leer\" enthalten._</p>\n",
      "<p>2) Gegeben ist c = \"Haus\". Verwenden Sie   b aus Aufgabe 1). Schreiben Sie ein Skript, dass, wenn c in Klein- oder Gro\u00dfschreibung in b enthalten ist, ausgibt: \"Found: >Haus&lt;\" </p>"
     ]
    },
    {
     "cell_type": "markdown",
     "metadata": {
      "slideshow": {
       "slide_type": "slide"
      }
     },
     "source": [
      "<h3>Musterl\u00f6sung</h3>\n",
      "1) Gegeben ist a = \"aus\" und b = \"Das Haus steht leer\". Schreiben Sie ein Script, dass f\u00fcr den Fall, dass a in b enthalten ist, ausgibt: \"aus\" ist in dem String \"Das Haus steht leer\" enthalten."
     ]
    },
    {
     "cell_type": "code",
     "collapsed": false,
     "input": [
      "a = \"aus\"\n",
      "b = \"Das Haus steht leer\"\n",
      "if a in b:\n",
      "    print ('\"aus\" ist in dem String \"Das Haus steht leer\" enthalten.')"
     ],
     "language": "python",
     "metadata": {
      "slideshow": {
       "slide_type": "fragment"
      }
     },
     "outputs": [
      {
       "output_type": "stream",
       "stream": "stdout",
       "text": [
        "\"aus\" ist in dem String \"Das Haus steht leer\" enthalten.\n"
       ]
      }
     ],
     "prompt_number": 23
    },
    {
     "cell_type": "markdown",
     "metadata": {
      "slideshow": {
       "slide_type": "fragment"
      }
     },
     "source": [
      "2) Gegeben ist c = \"Haus\". Verwenden Sie b aus Aufgabe 1). Schreiben Sie ein Skript, dass, wenn c in Klein- oder Gro\u00dfschreibung in b enthalten ist, ausgibt: \"Found: >Haus<\""
     ]
    },
    {
     "cell_type": "code",
     "collapsed": false,
     "input": [
      "c = \"Haus\"\n",
      "if c in b or c.lower() in b:\n",
      "    print (\"Found: >Haus<\")"
     ],
     "language": "python",
     "metadata": {
      "slideshow": {
       "slide_type": "fragment"
      }
     },
     "outputs": [
      {
       "output_type": "stream",
       "stream": "stdout",
       "text": [
        "Found: >Haus<\n"
       ]
      }
     ],
     "prompt_number": 129
    },
    {
     "cell_type": "markdown",
     "metadata": {
      "slideshow": {
       "slide_type": "slide"
      }
     },
     "source": [
      "<h3>Bedingungen: if \u2013 else </h3>\n",
      "<p>Mit else kann man festlegen, welcher Code ausgef\u00fchrt werden soll, wenn die Bedingung _nicht_ wahr ist:\n",
      "<p>\n",
      "<img src=\"files/images/if_else.png\" width=\"50%\" height=\"50%\" border=\"0\" alt=\"\">    "
     ]
    },
    {
     "cell_type": "code",
     "collapsed": false,
     "input": [
      "a = 2\n",
      "if a == 1:\n",
      "    print (\"a gleich 1\")\n",
      "else: \n",
      "    print (\"a ungleich 1\")"
     ],
     "language": "python",
     "metadata": {
      "slideshow": {
       "slide_type": "fragment"
      }
     },
     "outputs": [
      {
       "output_type": "stream",
       "stream": "stdout",
       "text": [
        "a ungleich 1\n"
       ]
      }
     ],
     "prompt_number": 130
    },
    {
     "cell_type": "markdown",
     "metadata": {
      "slideshow": {
       "slide_type": "slide"
      }
     },
     "source": [
      "<h3>Gereihte Bedingungen mit elif</h3>\n",
      "<p>Will man \u00fcberpr\u00fcfen, ob eine von mehreren Bedingungen wahr ist, verwendet man eine Reihe von if \u2013 elif \u2013 [elif] \u2013 else:"
     ]
    },
    {
     "cell_type": "markdown",
     "metadata": {},
     "source": [
      "<pre>\n",
      "if &lt;bedingung>:\n",
      "\tcode\n",
      "elif &lt;bedingung>:\n",
      "\tcode\n",
      "[...]\n",
      "else:\n",
      "\tcode\n",
      "</pre>"
     ]
    },
    {
     "cell_type": "code",
     "collapsed": false,
     "input": [
      "c = \"z\"\n",
      "if c == \"x\":\n",
      "    print (\"c ist x\")\n",
      "elif c == \"y\": \n",
      "    print (\"c ist y\")    \n",
      "elif c == \"z\":\n",
      "    print (\"c ist z\")    \n",
      "else: \n",
      "    print (\"c ist weder x noch y noch z\")    \n",
      "    "
     ],
     "language": "python",
     "metadata": {
      "slideshow": {
       "slide_type": "fragment"
      }
     },
     "outputs": [
      {
       "output_type": "stream",
       "stream": "stdout",
       "text": [
        "c ist z\n"
       ]
      }
     ],
     "prompt_number": 131
    },
    {
     "cell_type": "markdown",
     "metadata": {
      "slideshow": {
       "slide_type": "slide"
      }
     },
     "source": [
      "<h3 style=\"color:green\">Aufgaben</h3>\n",
      "<p>1) Wenn der String \"Freund\" in Klein- oder Gro\u00dfschreibung in \"Sie wollen sich befreunden\" enthalten ist, dann soll \"Found: Freund\" ausgegeben werden, ansonsten \"String not found\".</p>\n",
      "<p>2) `a` ist eine Variable (die urspr\u00fcnglich durch eine Benutzereingabe belegt worden sein k\u00f6nnte). Wenn die Eingabe kleiner ist als 7, dann lautet die Ausgabe: \"Gesuchte Zahl ist gr\u00f6\u00dfer\", wenn die Zahl gr\u00f6\u00dfer ist als 7, dann lautet die Ausgabe: \"Gesuchte Zahl ist kleiner\". Wenn die Zahl genau 7 ist, dann lautet die Ausgabe \"Zahl gefunden\". Spielen Sie das mit a = 1 und a = 7 durch.</p>"
     ]
    },
    {
     "cell_type": "markdown",
     "metadata": {
      "slideshow": {
       "slide_type": "slide"
      }
     },
     "source": [
      "<h3>Musterl\u00f6sung</h3>\n",
      "<p>Wenn der String \"Freund\" in Klein- oder Gro\u00dfschreibung in \"Sie wollen sich befreunden\" enthalten ist, dann soll \"Found: Freund\" ausgegeben werden, ansonsten \"String not found\"."
     ]
    },
    {
     "cell_type": "code",
     "collapsed": false,
     "input": [
      "if \"Freund\" in \"Sie wollen sich befreunden\" or \"Freund\".lower() in \"Sie wollen sich befreunden\":\n",
      "    print (\"Found: Freund\")\n",
      "else:\n",
      "    print (\"String not found\")"
     ],
     "language": "python",
     "metadata": {
      "slideshow": {
       "slide_type": "fragment"
      }
     },
     "outputs": [
      {
       "output_type": "stream",
       "stream": "stdout",
       "text": [
        "Found: Freund\n"
       ]
      }
     ],
     "prompt_number": 132
    },
    {
     "cell_type": "markdown",
     "metadata": {
      "slideshow": {
       "slide_type": "fragment"
      }
     },
     "source": [
      "2) a ist eine Benutzereingabe. Wenn die Eingabe kleiner ist als 7, dann lautet die Ausgabe: \"Gesuchte Zahl ist gr\u00f6\u00dfer\", wenn die Zahl gr\u00f6\u00dfer ist als 7, dann lautet die Ausgabe: \"Gesuchte Zahl ist kleiner\". Wenn die Zahl genau 7 ist, dann lautet die Ausgabe \"Zahl gefunden\". Spielen Sie das mit a = 1 und a = 7 durch."
     ]
    },
    {
     "cell_type": "code",
     "collapsed": false,
     "input": [
      "a = 1\n",
      "if a < 7:\n",
      "    print (\"Gesuchte Zahl ist gr\u00f6\u00dfer\")\n",
      "elif a == 7:\n",
      "    print (\"Zahl gefunden\")\n",
      "else:\n",
      "    print (\"Gesuchte Zahl ist kleiner\")\n",
      "    "
     ],
     "language": "python",
     "metadata": {
      "slideshow": {
       "slide_type": "fragment"
      }
     },
     "outputs": [
      {
       "output_type": "stream",
       "stream": "stdout",
       "text": [
        "Gesuchte Zahl ist gr\u00f6\u00dfer\n"
       ]
      }
     ],
     "prompt_number": 133
    },
    {
     "cell_type": "markdown",
     "metadata": {
      "slideshow": {
       "slide_type": "slide"
      }
     },
     "source": [
      "<h3>Einfache Benutzereingabe mit <code>input</code></h3>"
     ]
    },
    {
     "cell_type": "code",
     "collapsed": false,
     "input": [
      "r = input(\"Geben Sie bitte eine Zahl zwischen 1 und 10 ein: \")\n",
      "print(\"Ihre Eingabe war (falls Sie das schon vergessen haben): \", r)"
     ],
     "language": "python",
     "metadata": {
      "slideshow": {
       "slide_type": "fragment"
      }
     },
     "outputs": [
      {
       "name": "stdout",
       "output_type": "stream",
       "stream": "stdout",
       "text": [
        "Geben Sie bitte eine Zahl zwischen 1 und 10 ein: 7\n"
       ]
      },
      {
       "output_type": "stream",
       "stream": "stdout",
       "text": [
        "Ihre Eingabe war (falls Sie das schon vergessen haben):  7\n"
       ]
      }
     ],
     "prompt_number": 2
    },
    {
     "cell_type": "code",
     "collapsed": false,
     "input": [
      "r = input(\"Geben Sie bitte eine Zahl zwischen 1 und 10 ein: \")\n",
      "print(type(r))   # Achtung, der Datentyp von r ist string"
     ],
     "language": "python",
     "metadata": {
      "slideshow": {
       "slide_type": "fragment"
      }
     },
     "outputs": [
      {
       "name": "stdout",
       "output_type": "stream",
       "stream": "stdout",
       "text": [
        "Geben Sie bitte eine Zahl zwischen 1 und 10 ein: 4\n"
       ]
      },
      {
       "output_type": "stream",
       "stream": "stdout",
       "text": [
        "<class 'str'>\n"
       ]
      }
     ],
     "prompt_number": 3
    },
    {
     "cell_type": "markdown",
     "metadata": {
      "slideshow": {
       "slide_type": "subslide"
      }
     },
     "source": [
      "Wir k\u00f6nnen nun die Benutzereingabe auswerten:"
     ]
    },
    {
     "cell_type": "code",
     "collapsed": false,
     "input": [
      "r = input(\"Geben Sie bitte eine Zahl zwischen 1 und 10 ein: \")\n",
      "if not r.isnumeric():\n",
      "    print(r, \"ist eher keine Zahl.\")\n",
      "else: \n",
      "    r = int(r)  # type casting nach int\n",
      "    a = r ** 2\n",
      "    print(\"Das Quadrat der Zahl \", r, \" ist \", a)"
     ],
     "language": "python",
     "metadata": {
      "slideshow": {
       "slide_type": "fragment"
      }
     },
     "outputs": [
      {
       "name": "stdout",
       "output_type": "stream",
       "stream": "stdout",
       "text": [
        "Geben Sie bitte eine Zahl zwischen 1 und 10 ein: 5\n"
       ]
      },
      {
       "output_type": "stream",
       "stream": "stdout",
       "text": [
        "Das Quadrat der Zahl  5  ist  25\n"
       ]
      }
     ],
     "prompt_number": 136
    }
   ],
   "metadata": {}
  }
 ]
}