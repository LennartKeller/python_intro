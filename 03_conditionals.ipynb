{
 "cells": [
  {
   "cell_type": "markdown",
   "metadata": {
    "slideshow": {
     "slide_type": "slide"
    }
   },
   "source": [
    "# Einführung in das Programmieren mit Python"
   ]
  },
  {
   "cell_type": "markdown",
   "metadata": {
    "slideshow": {
     "slide_type": "slide"
    }
   },
   "source": [
    "<h3>Wiederholung</h3>\n",
    "<ul>\n",
    "<li>Type Casting<br/>\n",
    "ermöglicht es, den Datentyp einer Variablen oder eines Wertes zu ändern. Datentyp als Funktionsaufruf:  new_datatype(var)\n",
    "<li>Listen<br/>\n",
    "anlegen: `mylist = [1,2,3,4]`<br/>\n",
    "ergänzen: `mylist.append(5)`<br/>\n",
    "slicing: `mylist[2:4]`, `mylist[:-3]`<br/>\n",
    "sortieren: `sorted(mylist)`<br/>\n",
    "<li>Strings als Sequenzen\n",
    "<li>Tupel als unveränderliche Listenvariante"
   ]
  },
  {
   "cell_type": "markdown",
   "metadata": {
    "slideshow": {
     "slide_type": "subslide"
    }
   },
   "source": [
    "<h3 style=\"color: green\">Strings als Sequenzen</h3>\n",
    "<div style=\"color: green\">\n",
    "<code style=\"color: green\"> s = \"Kleine Kinder\"</code>\n",
    "<ol>\n",
    "<li> Geben Sie das ‚K‘ von ‚Kinder‘ aus\n",
    "</ol>\n",
    "\n",
    "</div>\n"
   ]
  },
  {
   "cell_type": "code",
   "execution_count": 6,
   "metadata": {
    "collapsed": false,
    "slideshow": {
     "slide_type": "fragment"
    }
   },
   "outputs": [
    {
     "data": {
      "text/plain": [
       "'K'"
      ]
     },
     "execution_count": 6,
     "metadata": {},
     "output_type": "execute_result"
    }
   ],
   "source": [
    "s = \"Kleine Kinder\"\n",
    "s[7]"
   ]
  },
  {
   "cell_type": "markdown",
   "metadata": {
    "slideshow": {
     "slide_type": "fragment"
    }
   },
   "source": [
    "<p style=\"color:green;\">2. Schneiden Sie ‚Kinder‘ aus dem String </p>"
   ]
  },
  {
   "cell_type": "code",
   "execution_count": 7,
   "metadata": {
    "collapsed": false,
    "slideshow": {
     "slide_type": "fragment"
    }
   },
   "outputs": [
    {
     "data": {
      "text/plain": [
       "'Kinder'"
      ]
     },
     "execution_count": 7,
     "metadata": {},
     "output_type": "execute_result"
    }
   ],
   "source": [
    "s[7:]"
   ]
  },
  {
   "cell_type": "markdown",
   "metadata": {
    "slideshow": {
     "slide_type": "subslide"
    }
   },
   "source": [
    "<p> 3. Geben Sie das folgende in die Python-Console ein:<br/>\n",
    "<code style=\"color: green\">a = [\"Kind\",\"Name\",\"Hund\"]</code><br/>\n",
    "<code style=\"color: green\">a[0][0]</code>\n",
    "<li>Wie sieht das Ergebnis aus? Erklären Sie das Ergebnis. Probieren Sie weitere Kombinationen. \n"
   ]
  },
  {
   "cell_type": "code",
   "execution_count": 8,
   "metadata": {
    "collapsed": false,
    "slideshow": {
     "slide_type": "fragment"
    }
   },
   "outputs": [
    {
     "name": "stdout",
     "output_type": "stream",
     "text": [
      "Kind\n",
      "K\n"
     ]
    }
   ],
   "source": [
    "a = [\"Kind\",\"Name\",\"Hund\"]\n",
    "print(a[0])\n",
    "print(a[0][0])"
   ]
  },
  {
   "cell_type": "markdown",
   "metadata": {
    "slideshow": {
     "slide_type": "fragment"
    }
   },
   "source": [
    "<p>4. Wie könnte man aus 'Hund' 'Hand' machen? (Verwenden Sie bei der Zuweisung den Wert aus der Liste) "
   ]
  },
  {
   "cell_type": "markdown",
   "metadata": {
    "slideshow": {
     "slide_type": "fragment"
    }
   },
   "source": [
    "Strings sind unveränderlich, man kann also nicht den String verändern, sondern muss das ganze Listenelement ersetzen!"
   ]
  },
  {
   "cell_type": "code",
   "execution_count": 9,
   "metadata": {
    "collapsed": false,
    "slideshow": {
     "slide_type": "fragment"
    }
   },
   "outputs": [
    {
     "data": {
      "text/plain": [
       "['Kind', 'Name', 'Hand']"
      ]
     },
     "execution_count": 9,
     "metadata": {},
     "output_type": "execute_result"
    }
   ],
   "source": [
    "a[2] = \"Hand\"\n",
    "a"
   ]
  },
  {
   "cell_type": "markdown",
   "metadata": {
    "slideshow": {
     "slide_type": "slide"
    }
   },
   "source": [
    "<h3>Datenstruktur Dictionary</h3>\n",
    "<p>Dictionaries sind Sammlungen von Dateneinheiten. Jede Einheit hat einen Namen ('key') und einen Inhalt ('value'). Sie sind sehr geeignet zum schnellen Nachschlagen, wenn der key bekannt ist.\n",
    "<p>Dictionary sind unsortiert, d.h.die Einheiten liegen nicht in einer bestimmten Reihenfolge vor.\n",
    "\n",
    "<img src=\"files/images/dict1.png\" width=\"60%\" height=\"60%\" border=\"0\" alt=\"\"> "
   ]
  },
  {
   "cell_type": "markdown",
   "metadata": {
    "slideshow": {
     "slide_type": "slide"
    }
   },
   "source": [
    "<h3>Dictionaries erzeugen<h3>"
   ]
  },
  {
   "cell_type": "code",
   "execution_count": 10,
   "metadata": {
    "collapsed": false,
    "slideshow": {
     "slide_type": "fragment"
    }
   },
   "outputs": [
    {
     "data": {
      "text/plain": [
       "{'Goethe': 'Faust. Eine Tragödie',\n",
       " 'Mann': 'Buddenbrooks',\n",
       " 'Schiller': 'Der Geisterseher'}"
      ]
     },
     "execution_count": 10,
     "metadata": {},
     "output_type": "execute_result"
    }
   ],
   "source": [
    "# erzeugt ein Dictionary mit 3 Einträgen. Strings als Key mit Anführungszeichen. \n",
    "# Doppelpunkt zwischen Key und Value. \n",
    "# Geschweifte Klammer als Gesamtmarkierung\n",
    "titles = { \"Goethe\" : \"Faust. Eine Tragödie\", \n",
    "           \"Mann\" : \"Buddenbrooks\", \n",
    "           \"Schiller\" : \"Der Geisterseher\" }\n",
    "titles"
   ]
  },
  {
   "cell_type": "code",
   "execution_count": 11,
   "metadata": {
    "collapsed": false,
    "slideshow": {
     "slide_type": "fragment"
    }
   },
   "outputs": [
    {
     "data": {
      "text/plain": [
       "{'Goethe': 'Faust. Eine Tragödie',\n",
       " 'Mann': 'Buddenbrooks',\n",
       " 'Schiller': 'Der Geisterseher'}"
      ]
     },
     "execution_count": 11,
     "metadata": {},
     "output_type": "execute_result"
    }
   ],
   "source": [
    "# erzeugt ein Dictionary mit 3 Einträgen. Strings als Key ohne(!) Anführungszeichen. \n",
    "# Istgleich-Zeichen zwischen Key und Value.  \n",
    "titles = dict(Goethe = \"Faust. Eine Tragödie\", \n",
    "              Mann = \"Buddenbrooks\", \n",
    "              Schiller = \"Der Geisterseher\" )\n",
    "titles"
   ]
  },
  {
   "cell_type": "markdown",
   "metadata": {
    "slideshow": {
     "slide_type": "fragment"
    }
   },
   "source": [
    "`dict` als **Konstruktor**funktion, Keys = _Keyword-Argumente_. Das geht nur, wenn die Keys Identifier sind!"
   ]
  },
  {
   "cell_type": "markdown",
   "metadata": {
    "slideshow": {
     "slide_type": "subslide"
    }
   },
   "source": [
    "<h3>Dictionary: Werte setzen</h3>"
   ]
  },
  {
   "cell_type": "code",
   "execution_count": 12,
   "metadata": {
    "collapsed": false,
    "slideshow": {
     "slide_type": "fragment"
    }
   },
   "outputs": [
    {
     "data": {
      "text/plain": [
       "{'Goethe': 'Faust. Eine Tragödie',\n",
       " 'Kafka': 'Der Prozeß',\n",
       " 'Mann': 'Buddenbrooks',\n",
       " 'Schiller': 'Der Geisterseher'}"
      ]
     },
     "execution_count": 12,
     "metadata": {},
     "output_type": "execute_result"
    }
   ],
   "source": [
    "titles[\"Kafka\"] = \"Der Prozeß\"               # fügt hier weiteren Wert hinzu\n",
    "titles"
   ]
  },
  {
   "cell_type": "code",
   "execution_count": 13,
   "metadata": {
    "collapsed": false,
    "slideshow": {
     "slide_type": "fragment"
    }
   },
   "outputs": [
    {
     "data": {
      "text/plain": [
       "{'Goethe': 'Faust. Eine Tragödie',\n",
       " 'Kafka': 'Das Schloß',\n",
       " 'Mann': 'Buddenbrooks',\n",
       " 'Schiller': 'Der Geisterseher'}"
      ]
     },
     "execution_count": 13,
     "metadata": {},
     "output_type": "execute_result"
    }
   ],
   "source": [
    "titles[\"Kafka\"] = \"Das Schloß\"\n",
    "titles"
   ]
  },
  {
   "cell_type": "markdown",
   "metadata": {
    "slideshow": {
     "slide_type": "subslide"
    }
   },
   "source": [
    "<h3>Dictionaries: keys</h3>\n",
    "<p>Keys müssen _hashable_ sein, d.h. vor allem unveränderbar, z.B. Zahlen, Strings etc.    (also keine Listen und keine Dictionaries)\n"
   ]
  },
  {
   "cell_type": "code",
   "execution_count": 14,
   "metadata": {
    "collapsed": false,
    "slideshow": {
     "slide_type": "fragment"
    }
   },
   "outputs": [],
   "source": [
    "a = \"hallo\"\n",
    "d  = { a : 1 }        # dictionary mit string als key\n",
    "a = 1\n",
    "d  =  { a : 1 }       # dictionary mit int als key\n",
    "a = [1,2,3]         \n",
    "#d  = { a : 1 }        # dictionary mit liste als key erzeugt einen Error"
   ]
  },
  {
   "cell_type": "markdown",
   "metadata": {
    "slideshow": {
     "slide_type": "fragment"
    }
   },
   "source": [
    "Aber **Tupel** gehen, wenn deren Elemente _hashable_ sind:"
   ]
  },
  {
   "cell_type": "code",
   "execution_count": 15,
   "metadata": {
    "collapsed": false,
    "slideshow": {
     "slide_type": "fragment"
    }
   },
   "outputs": [
    {
     "data": {
      "text/plain": [
       "{('Kafka', 'Franz'): 'Der Prozeß'}"
      ]
     },
     "execution_count": 15,
     "metadata": {},
     "output_type": "execute_result"
    }
   ],
   "source": [
    "{(\"Kafka\", \"Franz\") : \"Der Prozeß\"}"
   ]
  },
  {
   "cell_type": "markdown",
   "metadata": {
    "slideshow": {
     "slide_type": "subslide"
    }
   },
   "source": [
    "<h3>Dictionaries: values</h3>\n",
    "<p>Values können beliebige Objekte sein, also wirklich alles (da in Python alles ein Objekt ist)\n"
   ]
  },
  {
   "cell_type": "code",
   "execution_count": 16,
   "metadata": {
    "collapsed": false,
    "slideshow": {
     "slide_type": "fragment"
    }
   },
   "outputs": [
    {
     "data": {
      "text/plain": [
       "'hallo'"
      ]
     },
     "execution_count": 16,
     "metadata": {},
     "output_type": "execute_result"
    }
   ],
   "source": [
    "d = { \"a\" : \"hallo\"}              #value ist ein String. \n",
    "d[\"a\"]"
   ]
  },
  {
   "cell_type": "code",
   "execution_count": 17,
   "metadata": {
    "collapsed": false,
    "slideshow": {
     "slide_type": "fragment"
    }
   },
   "outputs": [
    {
     "data": {
      "text/plain": [
       "[1, 2, 3, 4]"
      ]
     },
     "execution_count": 17,
     "metadata": {},
     "output_type": "execute_result"
    }
   ],
   "source": [
    "d = { \"a\" : [1,2,3,4] }           #value ist eine Liste \n",
    "d[\"a\"]"
   ]
  },
  {
   "cell_type": "code",
   "execution_count": 18,
   "metadata": {
    "collapsed": false,
    "slideshow": {
     "slide_type": "fragment"
    }
   },
   "outputs": [
    {
     "data": {
      "text/plain": [
       "2"
      ]
     },
     "execution_count": 18,
     "metadata": {},
     "output_type": "execute_result"
    }
   ],
   "source": [
    "d[\"a\"][1]"
   ]
  },
  {
   "cell_type": "code",
   "execution_count": 19,
   "metadata": {
    "collapsed": false,
    "slideshow": {
     "slide_type": "fragment"
    }
   },
   "outputs": [
    {
     "data": {
      "text/plain": [
       "5"
      ]
     },
     "execution_count": 19,
     "metadata": {},
     "output_type": "execute_result"
    }
   ],
   "source": [
    "d = { \"a\" : len }                  #value ist eine Funktion - eher ungewöhnliche Verwendung\n",
    "d[\"a\"](\"hallo\")"
   ]
  },
  {
   "cell_type": "markdown",
   "metadata": {
    "slideshow": {
     "slide_type": "slide"
    }
   },
   "source": [
    "<h3 style=\"color: green\">Aufgaben</h3>\n",
    "<div style=\"color: green\">\n",
    "<ol>\n",
    "<li>Erzeugen Sie ein Dictionary mit 4 Einträgen, das als Key den Namen eines Landes enthält und als Value die Hauptstadt. Ein Eintrag lautet: Deutschland - Bonn.\n",
    "<li>Fügen sie dem Dictionary einen weiteren Eintrag hinzu: Frankreich - Paris.\n",
    "<li>Geben Sie die Hauptstadt von Deutschland aus.\n",
    "<li>Korrigieren Sie den Eintrag für Deutschland und setzen den value auf 'Berlin'\n",
    "<li>Verwenden Sie ein Dictionary, um ein kleines Telefonbuch anzulegen. Jedem der Namen sind <b>zwei</b> Nummern zugeordnet (Heim, Office): Maria: 555-1234 und 555-9999, Sepp: 555-5678 und 555-8888, Jo: 5555-1526 und 555-7777. \n",
    "<li>Listen Sie aus ihrem Telefonbuch den Heimanschluss für Maria auf.\n",
    "</ol>\n",
    "\n",
    "</div>"
   ]
  },
  {
   "cell_type": "markdown",
   "metadata": {
    "slideshow": {
     "slide_type": "subslide"
    }
   },
   "source": [
    "### Musterlösung"
   ]
  },
  {
   "cell_type": "code",
   "execution_count": 20,
   "metadata": {
    "collapsed": false,
    "slideshow": {
     "slide_type": "subslide"
    },
    "solution2": "shown",
    "solution2_first": true
   },
   "outputs": [
    {
     "name": "stdout",
     "output_type": "stream",
     "text": [
      "Die Hauptstadt von Deutschland ist Bonn\n",
      "{'Italien': 'Rom', 'Frankreich': 'Paris', 'Deutschland': 'Berlin', 'Polen': 'Warschau', 'Schweiz': 'Zürich'}\n",
      "Marias Heimanschluss: 555-1234\n"
     ]
    }
   ],
   "source": [
    "# 1. Erzeugen Sie ein Dictionary mit 4 Einträgen, das als Key den Namen eines Landes \n",
    "# enthält und als Value die Hauptstadt. Ein Eintrag lautet: Deutschland - Bonn.\n",
    "capitals = { \"Deutschland\": \"Bonn\", \"Italien\": \"Rom\", \"Polen\": \"Warschau\", \"Schweiz\": \"Zürich\" }\n",
    "# 2. Neuer Eintrag\n",
    "capitals[\"Frankreich\"] = \"Paris\"\n",
    "# 3. Ausgabe\n",
    "print(\"Die Hauptstadt von Deutschland ist\", capitals[\"Deutschland\"])\n",
    "# 4. Korrektur\n",
    "capitals[\"Deutschland\"] = \"Berlin\"\n",
    "print(capitals)\n",
    "# 5. Telefonbuch z.B. so:\n",
    "telefonbuch = { \n",
    "    \"Maria\": { \"Heim\": \"555-1234\", \"Office\": \"555-9999\" },\n",
    "    \"Sepp\":  { \"Heim\": \"555-5678\", \"Office\": \"555-8888\" },\n",
    "    \"Jo\":    { \"Heim\": \"5555-1526\", \"Office\": \"555-7777\" }\n",
    "}\n",
    "print(\"Marias Heimanschluss:\", telefonbuch[\"Maria\"][\"Heim\"])"
   ]
  },
  {
   "cell_type": "markdown",
   "metadata": {
    "slideshow": {
     "slide_type": "subslide"
    },
    "solution2": "shown"
   },
   "source": [
    "In Fällen wie Aufgabe 5 kann man auch _Konstanten_ für die gleichbleibenden technischen Strings `\"Heim\"` und `\"Office\"` verwenden. In diesem Falle bekäme man bei einem Tippfehler eine Fehlermeldung über die undefinierte Variable statt eines unerwarteten Ergebnisses."
   ]
  },
  {
   "cell_type": "code",
   "execution_count": 21,
   "metadata": {
    "collapsed": false,
    "slideshow": {
     "slide_type": "fragment"
    },
    "solution2": "shown"
   },
   "outputs": [
    {
     "name": "stdout",
     "output_type": "stream",
     "text": [
      "555-1234\n"
     ]
    }
   ],
   "source": [
    "HOME = \"Heim\"\n",
    "OFFICE = \"Office\"\n",
    "telefonbuch = { \n",
    "    \"Maria\": { HOME: \"555-1234\", OFFICE: \"555-9999\" },\n",
    "    \"Sepp\":  { HOME: \"555-5678\", OFFICE: \"555-8888\" },\n",
    "    \"Jo\":    { HOME: \"5555-1526\", OFFICE: \"555-7777\" }\n",
    "}\n",
    "print(telefonbuch[\"Maria\"][HOME])"
   ]
  },
  {
   "cell_type": "markdown",
   "metadata": {
    "slideshow": {
     "slide_type": "subslide"
    },
    "solution2": "shown"
   },
   "source": [
    "Ein alternatives Design für das Telefonbuch könnte sein, nur ein Dictionary mit einem Tupel als Key zu verwenden:"
   ]
  },
  {
   "cell_type": "code",
   "execution_count": 22,
   "metadata": {
    "collapsed": false,
    "solution2": "shown"
   },
   "outputs": [
    {
     "name": "stdout",
     "output_type": "stream",
     "text": [
      "555-1234\n"
     ]
    }
   ],
   "source": [
    "telefonbuch_tupel = {\n",
    "    (\"Maria\", \"Heim\") : \"555-1234\",\n",
    "    (\"Maria\", \"Office\") : \"555-9999\",\n",
    "    (\"Sepp\", \"Heim\"): \"555-5678\",\n",
    "    (\"Sepp\", \"Office\"): \"555-8888\"\n",
    "    # etc.\n",
    "}\n",
    "\n",
    "print(telefonbuch_tupel[('Maria', 'Heim')])"
   ]
  },
  {
   "cell_type": "markdown",
   "metadata": {
    "slideshow": {
     "slide_type": "fragment"
    },
    "solution2": "shown"
   },
   "source": [
    "Der Nachteil dieser Lösung ist, dass eine Anfrage wie _zeige alle Telefonnummern von Maria_ nicht einfach möglich ist. In der Variante mit geschachtelten Dictionaries ist das indes trivial:"
   ]
  },
  {
   "cell_type": "code",
   "execution_count": 23,
   "metadata": {
    "collapsed": false,
    "solution2": "shown"
   },
   "outputs": [
    {
     "name": "stdout",
     "output_type": "stream",
     "text": [
      "{'Office': '555-9999', 'Heim': '555-1234'}\n"
     ]
    }
   ],
   "source": [
    "print(telefonbuch[\"Maria\"])"
   ]
  },
  {
   "cell_type": "markdown",
   "metadata": {
    "slideshow": {
     "slide_type": "subslide"
    },
    "solution2": "shown"
   },
   "source": [
    "Andere Möglichkeit: Tupel für die _Werte_ des Dictionaries:"
   ]
  },
  {
   "cell_type": "code",
   "execution_count": 24,
   "metadata": {
    "collapsed": true,
    "solution2": "shown"
   },
   "outputs": [],
   "source": [
    "telefonbuch_tupel2 = {\n",
    "    \"Maria\": (\"555-1234\", \"555-9999\"),\n",
    "    \"Sepp\":  (\"555-5678\", \"555-8888\")\n",
    "}"
   ]
  },
  {
   "cell_type": "markdown",
   "metadata": {
    "solution2": "shown"
   },
   "source": [
    "Nachteil hier: Semantik der Werte implizit (welche die Heim-, welche die Büronummer?)"
   ]
  },
  {
   "cell_type": "markdown",
   "metadata": {
    "slideshow": {
     "slide_type": "slide"
    }
   },
   "source": [
    "<h3>Dictionaries: Funktionen</h3>"
   ]
  },
  {
   "cell_type": "code",
   "execution_count": 25,
   "metadata": {
    "collapsed": false,
    "slideshow": {
     "slide_type": "fragment"
    }
   },
   "outputs": [
    {
     "data": {
      "text/plain": [
       "{'a': 1, 'b': 2}"
      ]
     },
     "execution_count": 25,
     "metadata": {},
     "output_type": "execute_result"
    }
   ],
   "source": [
    "d = {\"a\" : 1, \"b\" : 2 , \"c\" : 5}\n",
    "del d[\"c\"]    #del d [mkey] löscht den Eintrag im Dictionary, der den key mkey hat.\n",
    "d"
   ]
  },
  {
   "cell_type": "code",
   "execution_count": 26,
   "metadata": {
    "collapsed": false,
    "slideshow": {
     "slide_type": "fragment"
    }
   },
   "outputs": [
    {
     "data": {
      "text/plain": [
       "dict_keys(['b', 'a'])"
      ]
     },
     "execution_count": 26,
     "metadata": {},
     "output_type": "execute_result"
    }
   ],
   "source": [
    "d.keys()   # gibt die keys des dictionaries d zurück"
   ]
  },
  {
   "cell_type": "code",
   "execution_count": 27,
   "metadata": {
    "collapsed": false,
    "slideshow": {
     "slide_type": "fragment"
    }
   },
   "outputs": [
    {
     "data": {
      "text/plain": [
       "dict_keys(['Schiller', 'Mann', 'Goethe', 'Kafka'])"
      ]
     },
     "execution_count": 27,
     "metadata": {},
     "output_type": "execute_result"
    }
   ],
   "source": [
    "titles.keys()"
   ]
  },
  {
   "cell_type": "markdown",
   "metadata": {
    "slideshow": {
     "slide_type": "fragment"
    }
   },
   "source": [
    "Achtung: Dies ist keine Liste, auch wenn es manche ähnlichen Eigenschaften hat."
   ]
  },
  {
   "cell_type": "code",
   "execution_count": 28,
   "metadata": {
    "collapsed": false,
    "slideshow": {
     "slide_type": "fragment"
    }
   },
   "outputs": [
    {
     "ename": "TypeError",
     "evalue": "'dict_keys' object does not support indexing",
     "output_type": "error",
     "traceback": [
      "\u001b[1;31m---------------------------------------------------------------------------\u001b[0m",
      "\u001b[1;31mTypeError\u001b[0m                                 Traceback (most recent call last)",
      "\u001b[1;32m<ipython-input-28-a5dd001ffea5>\u001b[0m in \u001b[0;36m<module>\u001b[1;34m()\u001b[0m\n\u001b[1;32m----> 1\u001b[1;33m \u001b[0mtitles\u001b[0m\u001b[1;33m.\u001b[0m\u001b[0mkeys\u001b[0m\u001b[1;33m(\u001b[0m\u001b[1;33m)\u001b[0m\u001b[1;33m[\u001b[0m\u001b[1;36m1\u001b[0m\u001b[1;33m]\u001b[0m\u001b[1;33m\u001b[0m\u001b[0m\n\u001b[0m",
      "\u001b[1;31mTypeError\u001b[0m: 'dict_keys' object does not support indexing"
     ]
    }
   ],
   "source": [
    "titles.keys()[1]"
   ]
  },
  {
   "cell_type": "markdown",
   "metadata": {
    "slideshow": {
     "slide_type": "slide"
    }
   },
   "source": [
    "<h3 >Dictionaries: auf Inhalte testen</h3>\n",
    "<p> Mit <code>key in d</code> kann man testen, ob der key in dem Dictionary d enthalten ist. Wenn er vorhanden ist, wird True zurückgegeben, sonst False. \n",
    "<p>Das Gegenstück ist <code>key not in d</code>, das True zurückgibt, wenn der key nicht in dem Dictionary enthalten ist."
   ]
  },
  {
   "cell_type": "code",
   "execution_count": 29,
   "metadata": {
    "collapsed": false,
    "slideshow": {
     "slide_type": "fragment"
    }
   },
   "outputs": [
    {
     "data": {
      "text/plain": [
       "True"
      ]
     },
     "execution_count": 29,
     "metadata": {},
     "output_type": "execute_result"
    }
   ],
   "source": [
    "titles = {\"Goethe\": \"Faust. Eine Tragödie\", \"Mann\": \"Buddenbrooks\", \"Schiller\": \"Der Geisterseher\"}\n",
    "\"Mann\" in titles"
   ]
  },
  {
   "cell_type": "code",
   "execution_count": 30,
   "metadata": {
    "collapsed": false,
    "slideshow": {
     "slide_type": "fragment"
    }
   },
   "outputs": [
    {
     "data": {
      "text/plain": [
       "True"
      ]
     },
     "execution_count": 30,
     "metadata": {},
     "output_type": "execute_result"
    }
   ],
   "source": [
    "\"Hesse\" not in titles"
   ]
  },
  {
   "cell_type": "markdown",
   "metadata": {
    "slideshow": {
     "slide_type": "slide"
    }
   },
   "source": [
    "<h3 style=\"color:green\">Aufgaben </h3>\n",
    "<ol style=\"color:green\">\n",
    "\n",
    "<li>Listen Sie die Länder aus der Hauptstadtdatenbank von oben auf (als Liste!).\n",
    "<li>Löschen Sie Frankreich aus dem Dictionary.\n",
    "<li>Testen Sie, ob Italien in der Hauptstadtliste steht.\n",
    "<li>Testen Sie, ob Berlin <b>als value</b> in der Hauptstadtdatenbank steht. \n",
    "\n",
    "</ol>\n"
   ]
  },
  {
   "cell_type": "code",
   "execution_count": 31,
   "metadata": {
    "collapsed": false,
    "slideshow": {
     "slide_type": "subslide"
    }
   },
   "outputs": [
    {
     "data": {
      "text/plain": [
       "['Italien', 'Frankreich', 'Deutschland', 'Polen', 'Schweiz']"
      ]
     },
     "execution_count": 31,
     "metadata": {},
     "output_type": "execute_result"
    }
   ],
   "source": [
    "list(capitals.keys())"
   ]
  },
  {
   "cell_type": "code",
   "execution_count": 32,
   "metadata": {
    "collapsed": false,
    "slideshow": {
     "slide_type": "fragment"
    }
   },
   "outputs": [
    {
     "data": {
      "text/plain": [
       "{'Deutschland': 'Berlin',\n",
       " 'Italien': 'Rom',\n",
       " 'Polen': 'Warschau',\n",
       " 'Schweiz': 'Zürich'}"
      ]
     },
     "execution_count": 32,
     "metadata": {},
     "output_type": "execute_result"
    }
   ],
   "source": [
    "del capitals[\"Frankreich\"]\n",
    "capitals\n"
   ]
  },
  {
   "cell_type": "code",
   "execution_count": 33,
   "metadata": {
    "collapsed": false,
    "slideshow": {
     "slide_type": "fragment"
    }
   },
   "outputs": [
    {
     "data": {
      "text/plain": [
       "True"
      ]
     },
     "execution_count": 33,
     "metadata": {},
     "output_type": "execute_result"
    }
   ],
   "source": [
    "\"Italien\" in capitals"
   ]
  },
  {
   "cell_type": "code",
   "execution_count": 34,
   "metadata": {
    "collapsed": false,
    "slideshow": {
     "slide_type": "fragment"
    }
   },
   "outputs": [
    {
     "data": {
      "text/plain": [
       "True"
      ]
     },
     "execution_count": 34,
     "metadata": {},
     "output_type": "execute_result"
    }
   ],
   "source": [
    "\"Berlin\" in capitals.values()"
   ]
  },
  {
   "cell_type": "markdown",
   "metadata": {
    "slideshow": {
     "slide_type": "subslide"
    }
   },
   "source": [
    "### Hausaufgaben\n",
    "\n",
    "… WueCampus, Abgabe bis nächsten Dienstag, 12:00"
   ]
  },
  {
   "cell_type": "markdown",
   "metadata": {
    "slideshow": {
     "slide_type": "skip"
    }
   },
   "source": [
    "<h3>Liste und Dictionaries</h3>\n",
    "<p>Listen und Dictionaries enthalten üblicherweise (aber nicht zwingend!) immer Elemente des gleichen Typs, so dass alle Elemente gleich verarbeitet werden können. Welche Datenstruktur für welche Aufgabe besser geeignet ist, ergibt sich aus der Art der Verarbeitung. Listen sind hervorragend geeignet, wenn alle ihre Elemente durchlaufen werden sollen, um alle oder einige (evtl. von Bedingungen) zu bearbeiten. Da Listen ihre Struktur behalten, also die Elemente immer in der gleichen Folge vorliegen, sind sie auch besonders geeignet, wenn die Reihenfolge der Elemente eine Rolle spielt. \n",
    "<p>Dictionaries sind besonders geeignet, wenn der bevorzugte Zugriff auf die Elemente nicht über eine einfache Positionsinformation geschehen soll wie bei der Liste, sondern über ein anderes Zugriffskriterium (Schlüssel). \n",
    "<p>Sie werden noch viele weitere Datenstrukturen kennenlernen und auch lernen, eigene zu konstruieren. Machen Sie sich immer klar, welche Datenstruktur für die zu lösende Aufgabe notwendig ist. Denken Sie über ihr Programm nach, indem sie sich fragen, wie sieht meine Datenstruktur aus und wie muss ich sie befüllen und auslesen.\n"
   ]
  },
  {
   "cell_type": "markdown",
   "metadata": {
    "slideshow": {
     "slide_type": "slide"
    }
   },
   "source": [
    "## Programmkontrolle mit bedingten Verzweigungen und Schleifen"
   ]
  },
  {
   "cell_type": "markdown",
   "metadata": {
    "slideshow": {
     "slide_type": "subslide"
    }
   },
   "source": [
    "<h3>Bedingungen"
   ]
  },
  {
   "cell_type": "markdown",
   "metadata": {
    "slideshow": {
     "slide_type": "fragment"
    }
   },
   "source": [
    "Jeder Ausdruck, der einen Wahrheitswert (`True` oder `False`) zurückgibt, kann als Bedingung verwendet werden. Beispiele:"
   ]
  },
  {
   "cell_type": "code",
   "execution_count": 86,
   "metadata": {
    "collapsed": false,
    "slideshow": {
     "slide_type": "fragment"
    }
   },
   "outputs": [
    {
     "data": {
      "text/plain": [
       "False"
      ]
     },
     "execution_count": 86,
     "metadata": {},
     "output_type": "execute_result"
    }
   ],
   "source": [
    "x = 1 \n",
    "y = 0\n",
    "x == y      # testet, ob x gleich y; Achtung! Zwei '='"
   ]
  },
  {
   "cell_type": "code",
   "execution_count": 87,
   "metadata": {
    "collapsed": false,
    "slideshow": {
     "slide_type": "fragment"
    }
   },
   "outputs": [
    {
     "data": {
      "text/plain": [
       "True"
      ]
     },
     "execution_count": 87,
     "metadata": {},
     "output_type": "execute_result"
    }
   ],
   "source": [
    "x != y      #testet auf Ungleichheit. "
   ]
  },
  {
   "cell_type": "code",
   "execution_count": 88,
   "metadata": {
    "collapsed": false,
    "slideshow": {
     "slide_type": "fragment"
    }
   },
   "outputs": [
    {
     "data": {
      "text/plain": [
       "True"
      ]
     },
     "execution_count": 88,
     "metadata": {},
     "output_type": "execute_result"
    }
   ],
   "source": [
    "x > y      #testet ob x größer als y"
   ]
  },
  {
   "cell_type": "code",
   "execution_count": 89,
   "metadata": {
    "collapsed": false,
    "slideshow": {
     "slide_type": "fragment"
    }
   },
   "outputs": [
    {
     "data": {
      "text/plain": [
       "False"
      ]
     },
     "execution_count": 89,
     "metadata": {},
     "output_type": "execute_result"
    }
   ],
   "source": [
    "x <= y        #testet, ob x kleiner oder gleich y ist"
   ]
  },
  {
   "cell_type": "markdown",
   "metadata": {
    "slideshow": {
     "slide_type": "subslide"
    }
   },
   "source": [
    "<h3>Viele Operationen und Funktionen geben True oder False zurück:</h3>"
   ]
  },
  {
   "cell_type": "code",
   "execution_count": 90,
   "metadata": {
    "collapsed": false,
    "slideshow": {
     "slide_type": "fragment"
    }
   },
   "outputs": [
    {
     "data": {
      "text/plain": [
       "True"
      ]
     },
     "execution_count": 90,
     "metadata": {},
     "output_type": "execute_result"
    }
   ],
   "source": [
    "\"AU\"  in \"LAUFEN\"      #testet, ob \"AU\" in \"LAUFEN\" enthalten ist"
   ]
  },
  {
   "cell_type": "code",
   "execution_count": 91,
   "metadata": {
    "collapsed": false,
    "slideshow": {
     "slide_type": "fragment"
    }
   },
   "outputs": [
    {
     "data": {
      "text/plain": [
       "True"
      ]
     },
     "execution_count": 91,
     "metadata": {},
     "output_type": "execute_result"
    }
   ],
   "source": [
    "ml = [1,2,3,4]   \n",
    "2 in ml        #testet ob 2 ein Element der Liste ml ist"
   ]
  },
  {
   "cell_type": "code",
   "execution_count": 1,
   "metadata": {
    "collapsed": false,
    "slideshow": {
     "slide_type": "fragment"
    }
   },
   "outputs": [
    {
     "data": {
      "text/plain": [
       "False"
      ]
     },
     "execution_count": 1,
     "metadata": {},
     "output_type": "execute_result"
    }
   ],
   "source": [
    "chars = dict(a=1, b=3, c=5)\n",
    "\"d\" in chars  # testet ob d ein Key im Dictionary chars ist \n",
    "              # (also Kurzform für \"d\" in chars.keys()"
   ]
  },
  {
   "cell_type": "code",
   "execution_count": 36,
   "metadata": {
    "collapsed": false,
    "slideshow": {
     "slide_type": "fragment"
    }
   },
   "outputs": [
    {
     "data": {
      "text/plain": [
       "(True, False)"
      ]
     },
     "execution_count": 36,
     "metadata": {},
     "output_type": "execute_result"
    }
   ],
   "source": [
    "s = \"42\"\n",
    "t = \"zweiundvierzig\"\n",
    "s.isnumeric(), t.isnumeric()"
   ]
  },
  {
   "cell_type": "markdown",
   "metadata": {
    "slideshow": {
     "slide_type": "skip"
    }
   },
   "source": [
    "''Modulo'' berechnet den Rest einer Division:<br/>\n",
    "10 modulo 4 bedeutet also: Dividiere 10 durch 4 und erhalte den Rest.\n",
    "10 / 4  = 2*4 + 2, dh. 10 Modulo 4 = 2<br/>\n",
    "Syntax in Python 10 % 4 \n"
   ]
  },
  {
   "cell_type": "code",
   "execution_count": 37,
   "metadata": {
    "collapsed": false,
    "slideshow": {
     "slide_type": "skip"
    }
   },
   "outputs": [
    {
     "data": {
      "text/plain": [
       "2"
      ]
     },
     "execution_count": 37,
     "metadata": {},
     "output_type": "execute_result"
    }
   ],
   "source": [
    "10 % 4"
   ]
  },
  {
   "cell_type": "code",
   "execution_count": 38,
   "metadata": {
    "collapsed": false,
    "slideshow": {
     "slide_type": "skip"
    }
   },
   "outputs": [
    {
     "data": {
      "text/plain": [
       "3"
      ]
     },
     "execution_count": 38,
     "metadata": {},
     "output_type": "execute_result"
    }
   ],
   "source": [
    "13 % 5"
   ]
  },
  {
   "cell_type": "markdown",
   "metadata": {
    "slideshow": {
     "slide_type": "slide"
    }
   },
   "source": [
    "<h3 style=\"color:green\">Aufgaben</h3>\n",
    "\n",
    "1. Testen Sie, ob `a` kleiner ist als `b`, wenn `a = 1` und `b = -1`\n",
    "2. Testen Sie, ob der String \"Ich\" in \"Magermilch mag mich nicht\" enthalten ist.\n",
    "3. Gegeben ist das Dictionary `d = {\"a\" : 23, \"b\" : 24, \"c\" : 25}`. Testen Sie ob `\"d\"` in den keys enthalten ist und ob `25` in den values enthalten ist\n",
    "4. Testen Sie, ob `2134` eine gerade Zahl ist"
   ]
  },
  {
   "cell_type": "markdown",
   "metadata": {
    "slideshow": {
     "slide_type": "subslide"
    },
    "solution2": "hidden",
    "solution2_first": true
   },
   "source": [
    "<h3>Musterlösung</h3>\n",
    "<p>Testen Sie, ob a kleiner ist als b "
   ]
  },
  {
   "cell_type": "code",
   "execution_count": 39,
   "metadata": {
    "collapsed": false,
    "slideshow": {
     "slide_type": "fragment"
    },
    "solution2": "hidden"
   },
   "outputs": [
    {
     "data": {
      "text/plain": [
       "False"
      ]
     },
     "execution_count": 39,
     "metadata": {},
     "output_type": "execute_result"
    }
   ],
   "source": [
    "a = 1\n",
    "b = -1\n",
    "a < b"
   ]
  },
  {
   "cell_type": "markdown",
   "metadata": {
    "slideshow": {
     "slide_type": "fragment"
    },
    "solution2": "hidden"
   },
   "source": [
    "2) Testen Sie, ob der String \"Ich\" in \"Magermilch mag mich nicht\" enthalten ist. "
   ]
  },
  {
   "cell_type": "code",
   "execution_count": 40,
   "metadata": {
    "collapsed": false,
    "slideshow": {
     "slide_type": "fragment"
    },
    "solution2": "hidden"
   },
   "outputs": [
    {
     "data": {
      "text/plain": [
       "False"
      ]
     },
     "execution_count": 40,
     "metadata": {},
     "output_type": "execute_result"
    }
   ],
   "source": [
    "\"Ich\" in \"Magermilch mag mich nicht\""
   ]
  },
  {
   "cell_type": "markdown",
   "metadata": {
    "slideshow": {
     "slide_type": "subslide"
    },
    "solution2": "hidden"
   },
   "source": [
    "3) Gegeben ist das Dictionary d = {\"a\" : 23, \"b\" : 24, \"c\" : 25}. Testen Sie ob d in den keys enthalten ist und ob 25 in den values enthalten ist "
   ]
  },
  {
   "cell_type": "code",
   "execution_count": 41,
   "metadata": {
    "collapsed": false,
    "slideshow": {
     "slide_type": "fragment"
    },
    "solution2": "hidden"
   },
   "outputs": [
    {
     "name": "stdout",
     "output_type": "stream",
     "text": [
      "False\n",
      "True\n"
     ]
    }
   ],
   "source": [
    "d = {\"a\" : 23, \"b\" : 24, \"c\" : 25}\n",
    "print(\"d\" in d)\n",
    "print(25 in d.values())"
   ]
  },
  {
   "cell_type": "markdown",
   "metadata": {
    "slideshow": {
     "slide_type": "fragment"
    },
    "solution2": "hidden"
   },
   "source": [
    "4) Testen Sie, ob 2134 eine gerade Zahl ist"
   ]
  },
  {
   "cell_type": "code",
   "execution_count": 42,
   "metadata": {
    "collapsed": false,
    "slideshow": {
     "slide_type": "fragment"
    },
    "solution2": "hidden"
   },
   "outputs": [
    {
     "data": {
      "text/plain": [
       "True"
      ]
     },
     "execution_count": 42,
     "metadata": {},
     "output_type": "execute_result"
    }
   ],
   "source": [
    "2134 % 2 == 0"
   ]
  },
  {
   "cell_type": "markdown",
   "metadata": {
    "slideshow": {
     "slide_type": "slide"
    }
   },
   "source": [
    "<h3>Zusammengesetzte Bedingungen</h3>\n",
    "\n",
    "<p>&lt;bedingung> `and` &lt;bedingung>  <br/>   \n",
    "=> wahr, wenn beide Bedingungen wahr sind. \n",
    "\n",
    "<p>&lt;bedingung> `or` &lt;bedingung> <br/>\n",
    "=> wahr, wenn mindestens eine der Bedingungen wahr ist\n",
    "\n",
    "<p>`not` &lt;bedingung> <br/>\n",
    "=> wahr gdw. &lt;bedingung> falsch ist\n",
    "\n",
    "**Boolesche Operatoren**"
   ]
  },
  {
   "cell_type": "code",
   "execution_count": 43,
   "metadata": {
    "collapsed": false,
    "slideshow": {
     "slide_type": "fragment"
    }
   },
   "outputs": [
    {
     "data": {
      "text/plain": [
       "False"
      ]
     },
     "execution_count": 43,
     "metadata": {},
     "output_type": "execute_result"
    }
   ],
   "source": [
    "a = True\n",
    "b = False\n",
    "a and b"
   ]
  },
  {
   "cell_type": "code",
   "execution_count": 44,
   "metadata": {
    "collapsed": false,
    "slideshow": {
     "slide_type": "fragment"
    }
   },
   "outputs": [
    {
     "data": {
      "text/plain": [
       "True"
      ]
     },
     "execution_count": 44,
     "metadata": {},
     "output_type": "execute_result"
    }
   ],
   "source": [
    "a or b"
   ]
  },
  {
   "cell_type": "code",
   "execution_count": 45,
   "metadata": {
    "collapsed": false,
    "slideshow": {
     "slide_type": "fragment"
    }
   },
   "outputs": [
    {
     "data": {
      "text/plain": [
       "True"
      ]
     },
     "execution_count": 45,
     "metadata": {},
     "output_type": "execute_result"
    }
   ],
   "source": [
    "a and not b"
   ]
  },
  {
   "cell_type": "markdown",
   "metadata": {
    "slideshow": {
     "slide_type": "slide"
    }
   },
   "source": [
    "<h3 style=\"color:green\">Aufgaben</h3>\n",
    "\n",
    "1. Testen Sie, ob 3457 eine grade Zahl ist und kleiner als 34 im Quadrat\n",
    "2. Gegeben sind a = \"Wiederholung\" und b = \"Repetition\". Testen Sie, ob in einem der beidem Strings \"der\" enthalten ist."
   ]
  },
  {
   "cell_type": "markdown",
   "metadata": {
    "slideshow": {
     "slide_type": "slide"
    },
    "solution2": "hidden",
    "solution2_first": true
   },
   "source": [
    "<h3>Musterlösung</h3>\n",
    "<p>1) Testen Sie, ob 3457 eine grade Zahl ist und kleiner als 34 im Quadrat"
   ]
  },
  {
   "cell_type": "code",
   "execution_count": 46,
   "metadata": {
    "collapsed": false,
    "slideshow": {
     "slide_type": "fragment"
    },
    "solution2": "hidden"
   },
   "outputs": [
    {
     "data": {
      "text/plain": [
       "False"
      ]
     },
     "execution_count": 46,
     "metadata": {},
     "output_type": "execute_result"
    }
   ],
   "source": [
    "3457 % 2 == 0 and 3457 < 34 ** 2 "
   ]
  },
  {
   "cell_type": "markdown",
   "metadata": {
    "slideshow": {
     "slide_type": "fragment"
    },
    "solution2": "hidden"
   },
   "source": [
    "2) Gegeben sind a = \"Wiederholung\" und b = \"Repetition\". Testen Sie ob in einem der beidem Strings \"der\" enthalten ist."
   ]
  },
  {
   "cell_type": "code",
   "execution_count": 73,
   "metadata": {
    "collapsed": false,
    "slideshow": {
     "slide_type": "fragment"
    },
    "solution2": "hidden"
   },
   "outputs": [
    {
     "data": {
      "text/plain": [
       "True"
      ]
     },
     "execution_count": 73,
     "metadata": {},
     "output_type": "execute_result"
    }
   ],
   "source": [
    "a = \"Wiederholung\"\n",
    "b = \"Reptition\"\n",
    "\"der\" in a or \"der\" in b"
   ]
  },
  {
   "cell_type": "markdown",
   "metadata": {
    "slideshow": {
     "slide_type": "subslide"
    }
   },
   "source": [
    "### Operatoren und Prioritäten\n",
    "\n",
    "<pre>\n",
    "or                                                       # bindet schwächer\n",
    "and\n",
    "not x\n",
    "in, not in, is, is not, <, <=, >, >=, !=, ==\n",
    "|                                                        # bitweise Operatoren\n",
    "^                                                        \n",
    "&                                                        \n",
    "<<, >>                                                   \n",
    "+, -\n",
    "*, /, //, %\n",
    "+x, -x, ~x\n",
    "**\n",
    "x[index], x[index:index], x(arguments...), x.attribute\n",
    "(expressions...), [expressions...], {key: value...}, {expressions...} # stärker\n",
    "</pre>"
   ]
  },
  {
   "cell_type": "code",
   "execution_count": 74,
   "metadata": {
    "collapsed": false,
    "slideshow": {
     "slide_type": "fragment"
    }
   },
   "outputs": [],
   "source": [
    "a =  True or True and False\n",
    "b = (True or True) and False"
   ]
  },
  {
   "cell_type": "code",
   "execution_count": 75,
   "metadata": {
    "collapsed": false,
    "slideshow": {
     "slide_type": "fragment"
    }
   },
   "outputs": [
    {
     "name": "stdout",
     "output_type": "stream",
     "text": [
      "True False\n"
     ]
    }
   ],
   "source": [
    "print(a, b)"
   ]
  },
  {
   "cell_type": "markdown",
   "metadata": {
    "slideshow": {
     "slide_type": "slide"
    }
   },
   "source": [
    "<h3>Programmkontrolle: Bedingte Verzweigung</h3>\n",
    "<p>Mit if kann man den Programmablauf abhängig vom Wahrheitswert von Bedingungen verzweigen lassen. Einfachster Fall:\n",
    "<p>\n",
    "<img src=\"files/images/if_simple.png\" width=\"50%\" height=\"50%\" border=\"0\" alt=\"\">    "
   ]
  },
  {
   "cell_type": "code",
   "execution_count": 76,
   "metadata": {
    "collapsed": false,
    "slideshow": {
     "slide_type": "fragment"
    }
   },
   "outputs": [
    {
     "name": "stdout",
     "output_type": "stream",
     "text": [
      "Surprisingly, a is one\n"
     ]
    }
   ],
   "source": [
    "a = 1\n",
    "if a == 1:\n",
    "    print (\"Surprisingly, a is one\")"
   ]
  },
  {
   "cell_type": "markdown",
   "metadata": {
    "slideshow": {
     "slide_type": "slide"
    }
   },
   "source": [
    "<h3 style=\"color:green\">Aufgaben</h3>\n",
    "\n",
    "1. Gegeben ist a = \"aus\" und b = \"Das Haus steht leer\". Schreiben Sie ein Script, dass für den Fall, dass a in b enthalten ist, ausgibt: _\"aus\" ist in dem String \"Das Haus steht leer\" enthalten.\n",
    "2. Gegeben ist c = \"Haus\". Verwenden Sie   b aus Aufgabe 1). Schreiben Sie ein Skript, dass, wenn c in Klein- oder Großschreibung in b enthalten ist, ausgibt: \"Found: >Haus&lt;\""
   ]
  },
  {
   "cell_type": "markdown",
   "metadata": {
    "slideshow": {
     "slide_type": "slide"
    },
    "solution2": "hidden",
    "solution2_first": true
   },
   "source": [
    "<h3>Musterlösung</h3>\n",
    "1) Gegeben ist a = \"aus\" und b = \"Das Haus steht leer\". Schreiben Sie ein Script, dass für den Fall, dass a in b enthalten ist, ausgibt: \"aus\" ist in dem String \"Das Haus steht leer\" enthalten."
   ]
  },
  {
   "cell_type": "code",
   "execution_count": 47,
   "metadata": {
    "collapsed": false,
    "slideshow": {
     "slide_type": "fragment"
    },
    "solution2": "hidden"
   },
   "outputs": [
    {
     "name": "stdout",
     "output_type": "stream",
     "text": [
      "\"aus\" ist in dem String \"Das Haus steht leer\" enthalten.\n"
     ]
    }
   ],
   "source": [
    "a = \"aus\"\n",
    "b = \"Das Haus steht leer\"\n",
    "if a in b:\n",
    "    print ('\"aus\" ist in dem String \"Das Haus steht leer\" enthalten.')"
   ]
  },
  {
   "cell_type": "markdown",
   "metadata": {
    "slideshow": {
     "slide_type": "fragment"
    },
    "solution2": "hidden"
   },
   "source": [
    "2) Gegeben ist c = \"Haus\". Verwenden Sie b aus Aufgabe 1). Schreiben Sie ein Skript, dass, wenn c in Klein- oder Großschreibung in b enthalten ist, ausgibt: \"Found: >Haus<\""
   ]
  },
  {
   "cell_type": "code",
   "execution_count": 49,
   "metadata": {
    "collapsed": false,
    "slideshow": {
     "slide_type": "fragment"
    },
    "solution2": "hidden"
   },
   "outputs": [
    {
     "name": "stdout",
     "output_type": "stream",
     "text": [
      "Found: >Haus<\n"
     ]
    }
   ],
   "source": [
    "c = \"Haus\"\n",
    "if c in b or c.lower() in b:\n",
    "    print(\"Found: >\"+c+\"<\")"
   ]
  },
  {
   "cell_type": "markdown",
   "metadata": {
    "slideshow": {
     "slide_type": "slide"
    }
   },
   "source": [
    "<h3>Bedingungen: if – else </h3>\n",
    "<p>Mit else kann man festlegen, welcher Code ausgeführt werden soll, wenn die Bedingung _nicht_ wahr ist:\n",
    "<p>\n",
    "<img src=\"files/images/if_else.png\" width=\"50%\" height=\"50%\" border=\"0\" alt=\"\">    "
   ]
  },
  {
   "cell_type": "code",
   "execution_count": 79,
   "metadata": {
    "collapsed": false,
    "slideshow": {
     "slide_type": "fragment"
    }
   },
   "outputs": [
    {
     "name": "stdout",
     "output_type": "stream",
     "text": [
      "a ungleich 1\n"
     ]
    }
   ],
   "source": [
    "a = 2\n",
    "if a == 1:\n",
    "    print (\"a gleich 1\")\n",
    "else: \n",
    "    print (\"a ungleich 1\")"
   ]
  },
  {
   "cell_type": "markdown",
   "metadata": {
    "slideshow": {
     "slide_type": "slide"
    }
   },
   "source": [
    "<h3>Gereihte Bedingungen mit elif</h3>\n",
    "<p>Will man überprüfen, ob eine von mehreren Bedingungen wahr ist, verwendet man eine Reihe von if – elif – [elif] – else:"
   ]
  },
  {
   "cell_type": "markdown",
   "metadata": {
    "slideshow": {
     "slide_type": "slide"
    }
   },
   "source": [
    "<pre>\n",
    "if &lt;bedingung>:\n",
    "\tcode\n",
    "elif &lt;bedingung>:\n",
    "\tcode\n",
    "[...]\n",
    "else:\n",
    "\tcode\n",
    "</pre>"
   ]
  },
  {
   "cell_type": "code",
   "execution_count": 80,
   "metadata": {
    "collapsed": false,
    "slideshow": {
     "slide_type": "fragment"
    }
   },
   "outputs": [
    {
     "name": "stdout",
     "output_type": "stream",
     "text": [
      "c ist z\n"
     ]
    }
   ],
   "source": [
    "c = \"z\"\n",
    "if c == \"x\":\n",
    "    print (\"c ist x\")\n",
    "elif c == \"y\": \n",
    "    print (\"c ist y\")    \n",
    "elif c == \"z\":\n",
    "    print (\"c ist z\")    \n",
    "else: \n",
    "    print (\"c ist weder x noch y noch z\")    \n",
    "    "
   ]
  },
  {
   "cell_type": "markdown",
   "metadata": {
    "slideshow": {
     "slide_type": "slide"
    }
   },
   "source": [
    "<h3 style=\"color:green\">Aufgaben</h3>\n",
    "<p>1) Wenn der String \"Freund\" in Klein- oder Großschreibung in \"Sie wollen sich befreunden\" enthalten ist, dann soll \"Found: Freund\" ausgegeben werden, ansonsten \"String not found\".</p>\n",
    "<p>2) `a` ist eine Variable (die ursprünglich durch eine Benutzereingabe belegt worden sein könnte). Wenn die Eingabe kleiner ist als 7, dann lautet die Ausgabe: \"Gesuchte Zahl ist größer\", wenn die Zahl größer ist als 7, dann lautet die Ausgabe: \"Gesuchte Zahl ist kleiner\". Wenn die Zahl genau 7 ist, dann lautet die Ausgabe \"Zahl gefunden\". Spielen Sie das mit a = 1 und a = 7 durch.</p>"
   ]
  },
  {
   "cell_type": "code",
   "execution_count": null,
   "metadata": {
    "collapsed": true
   },
   "outputs": [],
   "source": []
  }
 ],
 "metadata": {
  "celltoolbar": "Slideshow",
  "kernelspec": {
   "display_name": "Python 3",
   "language": "python",
   "name": "python3"
  },
  "language_info": {
   "codemirror_mode": {
    "name": "ipython",
    "version": 3
   },
   "file_extension": ".py",
   "mimetype": "text/x-python",
   "name": "python",
   "nbconvert_exporter": "python",
   "pygments_lexer": "ipython3",
   "version": "3.5.1+"
  }
 },
 "nbformat": 4,
 "nbformat_minor": 0
}
