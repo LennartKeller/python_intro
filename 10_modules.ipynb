{
 "cells": [
  {
   "cell_type": "markdown",
   "metadata": {
    "slideshow": {
     "slide_type": "slide"
    }
   },
   "source": [
    "## Einführung in das Programmieren mit Python\n",
    "# Module"
   ]
  },
  {
   "cell_type": "markdown",
   "metadata": {
    "slideshow": {
     "slide_type": "slide"
    }
   },
   "source": [
    "## Wiederholung: Funktionen"
   ]
  },
  {
   "cell_type": "code",
   "execution_count": 7,
   "metadata": {
    "slideshow": {
     "slide_type": "slide"
    }
   },
   "outputs": [
    {
     "name": "stdout",
     "output_type": "stream",
     "text": [
      "Satz: Hui bu\n",
      "Die Wörter in Hui bu sind durchschnittlich 2.5 Zeichen lang.\n"
     ]
    }
   ],
   "source": [
    "# +------------------------------------------------ def = Schlüsselwort Funktionsdefinition\n",
    "# |    +------------------------------------------- Funktionsname\n",
    "# |    |            ,---------------------,-------- Klammern für Argumentliste (auch ohne Argumente!)\n",
    "# |    |           |  ,---------------------------- Argument/Parameter, verpflichtend\n",
    "# |    |           |  |          ,----------------- Argument/Parameter, mit Standardwert 'None'\n",
    "def avg_word_length(text, strip_chars=\".,?!;\"):\n",
    "    \"\"\"                                             (Docstring, beschreibt Funktion, help(avg_word_length))\n",
    "    Returns the average length of the words in text. Whitespace will be stripped,\n",
    "    if strip is not None, leading and trailing characters from strip_chars will be\n",
    "    removed from each word, as well.\n",
    "    \"\"\"\n",
    "    words = text.split()\n",
    "    chars_in_words = 0\n",
    "    for word in words:        \n",
    "        word = word.strip(strip_chars)\n",
    "        chars_in_words += len(word)\n",
    "    return chars_in_words / len(words)               # return <ausdruck> gibt den Wert von <ausdruck> zurück, sonst None\n",
    "\n",
    "satz = input(\"Satz: \")\n",
    "print(\"Die Wörter in\", satz, \"sind durchschnittlich\", \n",
    "      #    ,------------------------------------------- Funktionsname\n",
    "      #    |          .----------------------------.--- Klammern = Funktionsaufruf\n",
    "      #    |         |  .------------------------- | -- positionales Argument (Position -> text)\n",
    "      #    |         |  |       .----------------- | -- keybord-Argument \n",
    "      avg_word_length(satz, strip_chars='!?.,;:()\"'), \n",
    "      \"Zeichen lang.\")"
   ]
  },
  {
   "cell_type": "markdown",
   "metadata": {
    "slideshow": {
     "slide_type": "slide"
    }
   },
   "source": [
    "### Globale und Lokale Variablen\n",
    "\n",
    "* Variablen, denen innerhalb einer Funktion ein Wert zugewiesen wird, sind __lokale Variablen__\n",
    "* ebenso Parameter\n",
    "* lokale Variablen sind nur innerhalb der Funktion sichtbar und verschwinden mit ihrem Ende\n",
    "---\n",
    "* Variablen, die außerhalb Ihrer Funktionen definiert werden, sind __globale Variablen__\n",
    "* vermeiden Sie den Zugriff auf globale Variablen aus ihren Funktionen, übergeben Sie lieber Parameter\n",
    "* vermeiden Sie möglichst globale Variablen – Ausnahme: Globale Konfigurationseinstellungen etc."
   ]
  },
  {
   "cell_type": "code",
   "execution_count": 2,
   "metadata": {
    "collapsed": true,
    "slideshow": {
     "slide_type": "slide"
    }
   },
   "outputs": [],
   "source": [
    "# dieser Code enthält ein Problem – nicht nachmachen!\n",
    "def strip_chars(wordlist, chars='.!?,:;'):\n",
    "    for i in range(len(wordlist)):\n",
    "        wordlist[i] = wordlist[i].strip(chars)\n",
    "    return wordlist"
   ]
  },
  {
   "cell_type": "code",
   "execution_count": 3,
   "metadata": {
    "slideshow": {
     "slide_type": "fragment"
    }
   },
   "outputs": [
    {
     "name": "stdout",
     "output_type": "stream",
     "text": [
      "vorher = ['Ruf', 'mich', 'an']\n",
      "nachher = ['Ruf', 'mich', 'an']\n"
     ]
    }
   ],
   "source": [
    "vorher = \"Ruf! mich! an!\".split()\n",
    "nachher = strip_chars(vorher)\n",
    "print(\"vorher =\", vorher)\n",
    "print(\"nachher =\", nachher)"
   ]
  },
  {
   "cell_type": "markdown",
   "metadata": {
    "slideshow": {
     "slide_type": "slide"
    }
   },
   "source": [
    "## Module"
   ]
  },
  {
   "cell_type": "markdown",
   "metadata": {
    "slideshow": {
     "slide_type": "-"
    }
   },
   "source": [
    "* Weitere Möglichkeit, Programmcode einzukapseln\n",
    "* Typischer Use-Case: zusammengehörige Funktionen (, Klassen, …)\n",
    "* Mitgelieferte Funktionalität (jenseits des Sprachkerns) und Herunterladbares kommt in Modulen"
   ]
  },
  {
   "cell_type": "markdown",
   "metadata": {
    "slideshow": {
     "slide_type": "fragment"
    }
   },
   "source": [
    "* Modul = Python-Datei\n",
    "* Modulname = Python-Dateiname ohne Pfad und Endung"
   ]
  },
  {
   "cell_type": "markdown",
   "metadata": {
    "slideshow": {
     "slide_type": "notes"
    }
   },
   "source": [
    "<p>Module bieten eine weitere Möglichkeit, Programmcode in abgeschlossene Einheiten zu kapseln. Typischerweise werden zusammengehörige Funktionen in einem Modul versammelt. Module sind die wichtigste Organisationseinheit in Python, da alle Python-eigenen Funktionalitäten, aber auch alle zusätzlich herunterladbare Erweiterungen immer in Form von Modulen kommen.</p>\n",
    "<p>Module sind Python-Dateien, die Funktionen und Variablen-Definitionen enthalten.<br/>\n",
    "Name des Moduls = Name der Datei (ohne die Endung .py)<br/>\n",
    "Beispiel: <br/>\n"
   ]
  },
  {
   "cell_type": "code",
   "execution_count": 1,
   "metadata": {
    "slideshow": {
     "slide_type": "subslide"
    }
   },
   "outputs": [],
   "source": [
    "def get_chars(instring):\n",
    "    chars = []\n",
    "    for i in instring:\n",
    "        chars.append(i)\n",
    "    return chars"
   ]
  },
  {
   "cell_type": "markdown",
   "metadata": {
    "slideshow": {
     "slide_type": "fragment"
    }
   },
   "source": [
    "Speichern Sie diese Funktion in der Datei `chars.py`.\n",
    "Nun können Sie in jedem neuen Programm diese Funktion zugänglich machen, indem Sie einfach `import Dateiname` (ohne Endung!) eingeben:"
   ]
  },
  {
   "cell_type": "code",
   "execution_count": 2,
   "metadata": {
    "slideshow": {
     "slide_type": "fragment"
    }
   },
   "outputs": [
    {
     "data": {
      "text/plain": [
       "['h', 'a', 'l', 'l', 'o']"
      ]
     },
     "execution_count": 2,
     "metadata": {},
     "output_type": "execute_result"
    }
   ],
   "source": [
    "import chars\n",
    "chars.get_chars(\"hallo\")"
   ]
  },
  {
   "cell_type": "markdown",
   "metadata": {
    "slideshow": {
     "slide_type": "subslide"
    }
   },
   "source": [
    "### Modulsuchpfad\n",
    "\n",
    "Wo werden Module gesucht? Der _Modulsuchpfad_ wird beim Starten von Python befüllt und ist systemspezifisch. Sie können ihn mit `sys.path` anzeigen:"
   ]
  },
  {
   "cell_type": "code",
   "execution_count": 3,
   "metadata": {
    "slideshow": {
     "slide_type": "-"
    }
   },
   "outputs": [
    {
     "name": "stdout",
     "output_type": "stream",
     "text": [
      "['', '/home/tv/.virtualenvs/Topics/lib/python35.zip', '/home/tv/.virtualenvs/Topics/lib/python3.5', '/home/tv/.virtualenvs/Topics/lib/python3.5/plat-x86_64-linux-gnu', '/home/tv/.virtualenvs/Topics/lib/python3.5/lib-dynload', '/usr/lib/python3.5', '/usr/lib/python3.5/plat-x86_64-linux-gnu', '/home/tv/.virtualenvs/Topics/lib/python3.5/site-packages', '/home/tv/.virtualenvs/Topics/src/cophi-toolbox', '/home/tv/.virtualenvs/Topics/lib/python3.5/site-packages/IPython/extensions', '/home/tv/.ipython']\n"
     ]
    }
   ],
   "source": [
    "import sys\n",
    "print(sys.path)"
   ]
  },
  {
   "cell_type": "markdown",
   "metadata": {
    "slideshow": {
     "slide_type": "-"
    }
   },
   "source": [
    "* `''` steht für das aktuelle Verzeichnis (`os.getcwd()`)\n",
    "* Umgebungsvariable `PYTHONPATH`\n",
    "* Probieren Sie's aus!"
   ]
  },
  {
   "cell_type": "markdown",
   "metadata": {
    "slideshow": {
     "slide_type": "slide"
    }
   },
   "source": [
    "### Formen der import-Anweisung"
   ]
  },
  {
   "cell_type": "code",
   "execution_count": null,
   "metadata": {
    "slideshow": {
     "slide_type": "fragment"
    }
   },
   "outputs": [],
   "source": [
    "# Standardform. Hier muss der Modulname beim jeden Aufruf einer Funktion genannt werden.\n",
    "import chars\n",
    "chars.get_chars(\"hallo\")"
   ]
  },
  {
   "cell_type": "code",
   "execution_count": null,
   "metadata": {
    "slideshow": {
     "slide_type": "fragment"
    }
   },
   "outputs": [],
   "source": [
    "# Man kann auch ein kurzes Alias für einen längeren Modulnamen setzen:\n",
    "import chars as c\n",
    "c.get_chars(\"hi\")"
   ]
  },
  {
   "cell_type": "code",
   "execution_count": null,
   "metadata": {
    "slideshow": {
     "slide_type": "fragment"
    }
   },
   "outputs": [],
   "source": [
    "# import eine Funktion in den lokalen Namensraum, d.h. man kann sie nun ohne Modulnamen verwenden\n",
    "# man könnte auch mehrere importieren: from chars import get_chars, other_function\n",
    "from chars import get_chars\n",
    "get_chars(\"hi\")"
   ]
  },
  {
   "cell_type": "code",
   "execution_count": null,
   "metadata": {
    "slideshow": {
     "slide_type": "fragment"
    }
   },
   "outputs": [],
   "source": [
    "# \"Alles\" importieren -- aber Vorsicht, kann unübersichtlich werden ...\n",
    "from chars import *"
   ]
  },
  {
   "cell_type": "markdown",
   "metadata": {
    "slideshow": {
     "slide_type": "skip"
    }
   },
   "source": [
    "### Aufgaben\n",
    "1. Kopieren Sie die o.g. Funktionen zum Wörterextrahieren bzw. zur durchschnittlichen Wortlänge in ein Modul stringtools.py\n",
    "2. Verwenden Sie Ihre Funktionen in einem neuen Skript. \n",
    "3. Verwenden Sie die Funktionen mit dem Alias `st`."
   ]
  },
  {
   "cell_type": "markdown",
   "metadata": {
    "slideshow": {
     "slide_type": "skip"
    }
   },
   "source": [
    "<h3>Musterlösung</h3>"
   ]
  },
  {
   "cell_type": "code",
   "execution_count": 5,
   "metadata": {
    "slideshow": {
     "slide_type": "skip"
    }
   },
   "outputs": [
    {
     "name": "stdout",
     "output_type": "stream",
     "text": [
      "Wörter:  ['Herr', 'Mustermann', 'kommt', 'ins', 'Haus', 'und', 'trifft', 'dort', 'Frau', 'Musterfrau']\n",
      "Durchschnittliche Wortlänge:  5.3\n"
     ]
    }
   ],
   "source": [
    "import stringtools\n",
    "satz = \"Herr Mustermann kommt ins Haus und trifft dort Frau Musterfrau\"\n",
    "print(\"Wörter: \", stringtools.extract_words(satz))\n",
    "print(\"Durchschnittliche Wortlänge: \", stringtools.avg_word_length(satz))"
   ]
  },
  {
   "cell_type": "code",
   "execution_count": 6,
   "metadata": {
    "slideshow": {
     "slide_type": "skip"
    }
   },
   "outputs": [
    {
     "name": "stdout",
     "output_type": "stream",
     "text": [
      "Wörter:  ['Herr', 'Mustermann', 'kommt', 'ins', 'Haus', 'und', 'trifft', 'dort', 'Frau', 'Musterfrau']\n",
      "Durchschnittliche Wortlänge:  5.3\n"
     ]
    }
   ],
   "source": [
    "import stringtools as st\n",
    "satz = \"Herr Mustermann kommt ins Haus und trifft dort Frau Musterfrau\"\n",
    "print(\"Wörter: \", st.extract_words(satz))\n",
    "print(\"Durchschnittliche Wortlänge: \", st.avg_word_length(satz))\n"
   ]
  },
  {
   "cell_type": "markdown",
   "metadata": {
    "slideshow": {
     "slide_type": "slide"
    }
   },
   "source": [
    "### Programm == Modul\n",
    "\n",
    "* _Jedes_ Python-Skript ist ein Modul, auch Ihr \"Hauptprogramm\"\n",
    "* der Name jedes Moduls steht in der modulspezifischen Variable `__name__`\n",
    "* der spezielle Name `\"__main__\"` steht für das Hauptprogramm"
   ]
  },
  {
   "cell_type": "code",
   "execution_count": null,
   "metadata": {
    "slideshow": {
     "slide_type": "fragment"
    }
   },
   "outputs": [],
   "source": [
    "\"\"\"Some useful string utilities\"\"\"\n",
    "def get_words(text):\n",
    "    \"\"\"Returns a list of words in the given `text`\"\"\"\n",
    "    return text.split()\n",
    "\n",
    "def _main():\n",
    "    import sys\n",
    "    words = get_words(sys.argv[1])\n",
    "    print(len(words), \"Words: \", words)\n",
    "    \n",
    "if __name__ == \"__main__\":\n",
    "    _main()"
   ]
  },
  {
   "cell_type": "markdown",
   "metadata": {
    "slideshow": {
     "slide_type": "slide"
    }
   },
   "source": [
    "## Kommandozeile\n",
    "\n",
    "* es gibt immer ein aktuelles Verzeichnis. \n",
    "    * Linux/MacOS: Anzeigen mit `pwd`, wechseln mit `cd neuer/pfad`\n",
    "    * Windows: Anzeigen mit `cd`, wechseln mit `cd neuer\\pfad`\n",
    "* __Kommandos__ bestehen aus einem oder mehreren Wörtern, durch Leerzeichen getrennt, ggf. mit \" \" umschlossen.\n",
    "* Erstes Wort: Befehl, z.B. Programm. Folgende Wörter: Argumente, werden vom Programm interpretiert.\n",
    "\n",
    "### Umgebungsvariablen\n",
    "* _Umgebungsvariablen_ enthalten Werte, die allen Programmen zur Verfügung stehen, z.B. `$PATH` (bzw. `%PATH%` auf Windows). Tippen Sie `set`\n",
    "* Umgebungvariablen vererben sich an gestartete Prozesse\n",
    "* Wichtige Umgebungsvariablen:\n",
    "   * `PATH` (`%PATH%` (Windows) bzw. `$PATH` (sonst)) enthält die Verzeichnisse, in denen das OS nach Programmen sucht.\n",
    "   * `PYTHONHOME` ggf. Grundverzeichnis von Python\n",
    "   * `PYTHONPATH` Modul-Suchverzeichnisse von Python"
   ]
  },
  {
   "cell_type": "markdown",
   "metadata": {
    "slideshow": {
     "slide_type": "subslide"
    }
   },
   "source": [
    "### Übung\n",
    "\n",
    "Kommandozeilenargumente finden Sie in Ihrem Programm in der Liste `sys.argv`. `sys.argv[0]` ist immer der Name des Programms."
   ]
  },
  {
   "cell_type": "code",
   "execution_count": null,
   "metadata": {
    "slideshow": {
     "slide_type": "-"
    }
   },
   "outputs": [],
   "source": [
    "import sys\n",
    "sys.argv"
   ]
  },
  {
   "cell_type": "markdown",
   "metadata": {
    "slideshow": {
     "slide_type": "-"
    }
   },
   "source": [
    "Schreiben Sie ein Programm, das die Kommandozeilenargumente, mit denen es aufgerufen wird, auf den Bildschirm ausgibt. Speichern Sie es als `cmdtest.py` und rufen Sie es an der Kommandozeile mit verschiedenen Argumenten auf."
   ]
  },
  {
   "cell_type": "markdown",
   "metadata": {
    "slideshow": {
     "slide_type": "slide"
    }
   },
   "source": [
    "### Pythons Standard-Module\n",
    "Python kommt mit einer [umfangreichen Bibliothek von Modulen](https://docs.python.org/3/library), die für viele Probleme schon ausreichend sind (batteries included).\n",
    "\n",
    "\n",
    "<img src=\"files/images/reference.png\" height=\"50%\" width=\"50%\"/>"
   ]
  },
  {
   "cell_type": "markdown",
   "metadata": {
    "slideshow": {
     "slide_type": "slide"
    }
   },
   "source": [
    "<h3>Pythons Standard-Module </h3>\n",
    "<p>sind nichts anderes als normale Module in einem Verzeichnis im Modulsuchpfad\n",
    "\n",
    "<img src=\"files/images/modules.png\" height=\"40%\" width=\"40%\" />\n"
   ]
  },
  {
   "cell_type": "markdown",
   "metadata": {
    "slideshow": {
     "slide_type": "slide"
    }
   },
   "source": [
    "<h3 style=\"color:green\">Übungsaufgabe</h3>\n",
    "<p>Schlagen Sie in der Dokumentation nach, wie die Funktion `glob` aus dem Modul `glob` verwendet werden kann, um Dateien aufzulisten. Testen Sie den Befehl."
   ]
  },
  {
   "cell_type": "markdown",
   "metadata": {
    "slideshow": {
     "slide_type": "slide"
    }
   },
   "source": [
    "## Externe Module installieren"
   ]
  },
  {
   "cell_type": "markdown",
   "metadata": {
    "slideshow": {
     "slide_type": "-"
    }
   },
   "source": [
    "* Zentrales Archiv externer Python-Module: __PyPI__ – Python Package Index – https://pypi.python.org/pypi\n",
    "* Tool zur Installation externer Python-Module: `pip` – Bestandteil der Python-Installation\n",
    "* Kommandozeilentool"
   ]
  },
  {
   "cell_type": "code",
   "execution_count": null,
   "metadata": {
    "slideshow": {
     "slide_type": "subslide"
    }
   },
   "outputs": [],
   "source": [
    "%%bash\n",
    "\n",
    "pip --help"
   ]
  },
  {
   "cell_type": "markdown",
   "metadata": {
    "slideshow": {
     "slide_type": "subslide"
    }
   },
   "source": [
    "<table>\n",
    "<tr><td><code>pip install</code> <em>⟨Paketname⟩</em></td><td>Installiert das angegebene Paket, falls nicht bereits da</td></tr>\n",
    "<tr><td><code>pip install --update</code> <em>⟨Paketname⟩</em></td><td>Installiert oder aktualisiert das angegebene Paket</td></tr>\n",
    "<tr><td><code>pip install --user</code> <em>⟨Paketname⟩</em></td><td>Installiert das angegebene Paket nur für den aktuellen Benutzer</td></tr>"
   ]
  },
  {
   "cell_type": "markdown",
   "metadata": {
    "slideshow": {
     "slide_type": "fragment"
    }
   },
   "source": [
    "### Übungsaufgaben externe Module\n",
    "\n",
    "Das Paket [requests](http://python-requests.org/) ein Paket, das HTTP-Zugriffe sehr einfach macht. \n",
    "\n",
    "1. Installieren Sie es mit `pip`. \n",
    "2. Finden Sie heraus, wohin das Paket installiert wurde.\n",
    "3. Schreiben Sie mit Requests ein Programm, das herausfindet, ob die Unihomepage erfolgreich aufgerufen werden kann.\n",
    "4. (Schreiben Sie unter Zuhilfenahme von requests ein kleines Script, bei dem der Benutzer einen Ländercode (z.B. `de` oder `co`) eingibt und Namen und Hauptstadt des betreffenden Landes angezeigt bekommt. Benutzen Sie dazu den Service http://restcountries.eu/, der Ihnen allerlei Länderinfos zu einem Land im von Requests direkt unterstützten JSON-Format liefert.)"
   ]
  }
 ],
 "metadata": {
  "celltoolbar": "Slideshow",
  "kernelspec": {
   "display_name": "Python 3",
   "language": "python",
   "name": "python3"
  },
  "language_info": {
   "codemirror_mode": {
    "name": "ipython",
    "version": 3
   },
   "file_extension": ".py",
   "mimetype": "text/x-python",
   "name": "python",
   "nbconvert_exporter": "python",
   "pygments_lexer": "ipython3",
   "version": "3.6.4"
  },
  "nav_menu": {},
  "toc": {
   "navigate_menu": true,
   "number_sections": false,
   "sideBar": true,
   "threshold": 6,
   "toc_cell": false,
   "toc_section_display": "block",
   "toc_window_display": false
  }
 },
 "nbformat": 4,
 "nbformat_minor": 1
}
