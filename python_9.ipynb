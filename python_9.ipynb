{
 "metadata": {
  "name": ""
 },
 "nbformat": 3,
 "nbformat_minor": 0,
 "worksheets": [
  {
   "cells": [
    {
     "cell_type": "heading",
     "level": 1,
     "metadata": {
      "slideshow": {
       "slide_type": "slide"
      }
     },
     "source": [
      "9. Sitzung: List Comprehensions / Standardbibliothek / Pypi  "
     ]
    },
    {
     "cell_type": "markdown",
     "metadata": {
      "slideshow": {
       "slide_type": "slide"
      }
     },
     "source": [
      "<h3>List Comprehension</h3>\n",
      "<p>List Comprehension sind ein Element (von vielen) des funktionalen Programmierens in Python. Der wichtigste Vorteil ist das Vermeiden von Nebeneffekten. Was hei\u00dft das? Anstelle des Ver\u00e4ndern des Zustands einer Datenstruktur (z.B. eines Objekts), sind funktionale Ausdr\u00fccke wie mathematische Funktionen aufgebaut, die nur aus einem klaren Input und einen ebenso eindeutig definierten Output bestehen.</p>\n",
      "<p>Prinzipielle Schreibweise: <br/>\n",
      "<code>[&lt;expression> for &lt;variable> in &lt;iterable> &lt;&lt;if &lt;condition> >>]</code>\n",
      "<p>Im folgenden Beispiel haben wir eine Liste mit Strings, in denen die Leerzeichen neben den eigentlich interessanten Buchstaben entfernt werden sollen. Zuerst die traditionelle L\u00f6sung mit einer for-Schleife, in deren K\u00f6rper eine neue Detatenstruktur aufgebaut wird (man k\u00f6nnte auch a ver\u00e4ndern).</p>"
     ]
    },
    {
     "cell_type": "code",
     "collapsed": false,
     "input": [
      "a = [\" a \", \"b \", \"  c\", \"     d \"]\n",
      "#einfache for-Schleife\n",
      "b = []\n",
      "for x in a:\n",
      "    b.append(x.strip())\n",
      "b"
     ],
     "language": "python",
     "metadata": {
      "slideshow": {
       "slide_type": "fragment"
      }
     },
     "outputs": [
      {
       "metadata": {},
       "output_type": "pyout",
       "prompt_number": 25,
       "text": [
        "['a', 'b', 'c', 'd']"
       ]
      }
     ],
     "prompt_number": 25
    },
    {
     "cell_type": "markdown",
     "metadata": {
      "slideshow": {
       "slide_type": "fragment"
      }
     },
     "source": [
      "<p>Hier nun die list comprehension, die als input a hat und als output eine neue Liste, in der alle Leerzeichen entfernt sind, erzeugt: "
     ]
    },
    {
     "cell_type": "code",
     "collapsed": false,
     "input": [
      "[x.strip() for x in a]"
     ],
     "language": "python",
     "metadata": {
      "slideshow": {
       "slide_type": "fragment"
      }
     },
     "outputs": [
      {
       "metadata": {},
       "output_type": "pyout",
       "prompt_number": 26,
       "text": [
        "['a', 'b', 'c', 'd']"
       ]
      }
     ],
     "prompt_number": 26
    },
    {
     "cell_type": "markdown",
     "metadata": {
      "slideshow": {
       "slide_type": "slide"
      }
     },
     "source": [
      "<p>Wie sie sehen, wird im prozeduralen Beispiel eine zweite Liste (b) aufgebaut und in jedem Durchgang der Schleife ver\u00e4ndert. Das ist hier einfach zu verstehen, kann aber in komplexeren F\u00e4llen zu schwierig zu findenden Fehlern f\u00fchren. Das funktionale Beispiel hat als Input die Datenstruktur a, die unver\u00e4ndert bleibt und als Output die Liste, die wir \u00fcbrigens auch wieder einer Variablen zuweisen k\u00f6nnen. Durch diesen klaren Aufbau lassen sich, so die leitende Idee hinter dem funktionalen Programmieren, Programme leichter warten."
     ]
    },
    {
     "cell_type": "code",
     "collapsed": false,
     "input": [
      "b = [x.strip() for x in a]\n",
      "b"
     ],
     "language": "python",
     "metadata": {
      "slideshow": {
       "slide_type": "fragment"
      }
     },
     "outputs": [
      {
       "metadata": {},
       "output_type": "pyout",
       "prompt_number": 27,
       "text": [
        "['a', 'b', 'c', 'd']"
       ]
      }
     ],
     "prompt_number": 27
    },
    {
     "cell_type": "code",
     "collapsed": false,
     "input": [
      "#noch einmal ein traditionelle for-Schleife:\n",
      "squared = []\n",
      "for x in range(10):\n",
      "    squared.append(x**2)\n",
      "squared"
     ],
     "language": "python",
     "metadata": {
      "slideshow": {
       "slide_type": "slide"
      }
     },
     "outputs": [
      {
       "metadata": {},
       "output_type": "pyout",
       "prompt_number": 2,
       "text": [
        "[0, 1, 4, 9, 16, 25, 36, 49, 64, 81]"
       ]
      }
     ],
     "prompt_number": 2
    },
    {
     "cell_type": "code",
     "collapsed": false,
     "input": [
      "#funktionales \u00c4quivalent\n",
      "squared = [(x**2) for x in range(10)]\n",
      "squared"
     ],
     "language": "python",
     "metadata": {
      "slideshow": {
       "slide_type": "fragment"
      }
     },
     "outputs": [
      {
       "metadata": {},
       "output_type": "pyout",
       "prompt_number": 1,
       "text": [
        "[0, 1, 4, 9, 16, 25, 36, 49, 64, 81]"
       ]
      }
     ],
     "prompt_number": 1
    },
    {
     "cell_type": "markdown",
     "metadata": {
      "slideshow": {
       "slide_type": "slide"
      }
     },
     "source": [
      "<p>Man kann in list comprehensions auch mehrere geschachtelte for-Schleifen aufrufen:"
     ]
    },
    {
     "cell_type": "code",
     "collapsed": false,
     "input": [
      "#Aufgabe: vergleiche zwei Zahlenlisten und gebe alle Zahlenkombinationen aus, die ungleich sind\n",
      "#Erst einmal die traditionelle L\u00f6sung mit geschachtelten Schleifen:\n",
      "combs = [] \n",
      "for x in [1,2,3 ]: \n",
      "    for y in [3,1,4]: \n",
      "        if x != y: \n",
      "            combs.append((x, y))\n",
      "combs"
     ],
     "language": "python",
     "metadata": {
      "slideshow": {
       "slide_type": "skip"
      }
     },
     "outputs": [
      {
       "metadata": {},
       "output_type": "pyout",
       "prompt_number": 3,
       "text": [
        "[(1, 3), (1, 4), (2, 3), (2, 1), (2, 4), (3, 1), (3, 4)]"
       ]
      }
     ],
     "prompt_number": 3
    },
    {
     "cell_type": "code",
     "collapsed": false,
     "input": [
      "[(x,y) for x in [1,2,3] for y in [3,1,4] if x != y]"
     ],
     "language": "python",
     "metadata": {
      "slideshow": {
       "slide_type": "fragment"
      }
     },
     "outputs": [
      {
       "metadata": {},
       "output_type": "pyout",
       "prompt_number": 4,
       "text": [
        "[(1, 3), (1, 4), (2, 3), (2, 1), (2, 4), (3, 1), (3, 4)]"
       ]
      }
     ],
     "prompt_number": 4
    },
    {
     "cell_type": "markdown",
     "metadata": {
      "slideshow": {
       "slide_type": "slide"
      }
     },
     "source": [
      "<h3>Aufgabe</h3>\n",
      "<ul>\n",
      "<li>\n",
      "Gegeben sind zwei Wortlisten: \n",
      "<code>\n",
      "a = [\"hallo\", \"nie\", \"geduld\", \"m\u00fcde\"]\n",
      "b = [\"nie\", \"ich\", \"immer\", \"geduld\"]\n",
      "</code>\n",
      "Ermitteln Sie alle Worte die in beiden Listen enthalten sind. Verwenden Sie list comprehension\n",
      "</li>\n",
      "</ul>"
     ]
    },
    {
     "cell_type": "code",
     "collapsed": false,
     "input": [],
     "language": "python",
     "metadata": {
      "slideshow": {
       "slide_type": "fragment"
      }
     },
     "outputs": [
      {
       "metadata": {},
       "output_type": "pyout",
       "prompt_number": 34,
       "text": [
        "['nie', 'geduld']"
       ]
      }
     ],
     "prompt_number": 34
    },
    {
     "cell_type": "markdown",
     "metadata": {
      "slideshow": {
       "slide_type": "slide"
      }
     },
     "source": [
      "<h3>Musterl\u00f6sung</h3>\n",
      "<li>Ermitteln Sie alle Worte die in beiden Listen enthalten sind. Verwenden Sie list comprehension\n"
     ]
    },
    {
     "cell_type": "code",
     "collapsed": false,
     "input": [
      "a = [\"hallo\", \"nie\", \"geduld\", \"m\u00fcde\"] \n",
      "b = [\"nie\", \"ich\", \"immer\", \"geduld\"]\n",
      "[x for x in a for y in b if x ==y]"
     ],
     "language": "python",
     "metadata": {
      "slideshow": {
       "slide_type": "fragment"
      }
     },
     "outputs": [
      {
       "metadata": {},
       "output_type": "pyout",
       "prompt_number": 35,
       "text": [
        "['nie', 'geduld']"
       ]
      }
     ],
     "prompt_number": 35
    },
    {
     "cell_type": "markdown",
     "metadata": {
      "slideshow": {
       "slide_type": "slide"
      }
     },
     "source": [
      "<h3>Aufgabe</h3>\n",
      "<p>Man kann es nat\u00fcrlich auch \u00fcbertreiben. Der folgende Code funktioniert zwar, ist aber nicht wirklich gut lesbar. Aber: Was macht er eigentlich genau? (Nutzen Sie das Handbuch, um unbekannte Befehle nachzuschlagen!)"
     ]
    },
    {
     "cell_type": "code",
     "collapsed": false,
     "input": [
      "from collections import Counter\n",
      "import re\n",
      "wl = Counter(sum([re.findall(\"\\w+\", l) for l in open(\"roman.txt\", \"r\", encoding=\"utf-8\")], []))"
     ],
     "language": "python",
     "metadata": {
      "slideshow": {
       "slide_type": "fragment"
      }
     },
     "outputs": [],
     "prompt_number": 9
    },
    {
     "cell_type": "markdown",
     "metadata": {
      "slideshow": {
       "slide_type": "slide"
      }
     },
     "source": [
      "<h3>Pythons Standardbibliothek</h3>\n",
      "<p>Pythonista f\u00fchren gerne als  Motto von Python an: \"batteries included\" - gemeint ist damit, dass Python schon nach einer einfachen Installation des von Python zahlreiche Bibliotheken mitbringt, mit denen man viele Aufgaben l\u00f6sen kann. Diese 'Bibliotheken' sind nichts anderes als Python-Module, die man mit einem import-Statement in seinen eigenen Code einbinden und dann nutzen kann.</p>\n",
      "<p>Hier ein kleiner \u00dcberblick \u00fcber wichtige Aspekte (es k\u00f6nnen hier nat\u00fcrlich noch nicht alle \u00dcberschriften der 34 Kapitel des Handbuchs der Python-Bibliotheken dargestellt werden, das insgesamt immerhin rd. 250 Bibliotheken behandelt):<br/>\n",
      "<ul>\n",
      "<li>Datenpersistenz (u.a. Schnittstelle zu SQLlite-Datenbank)</li>\n",
      "<li>Datenkompression (u.a. Lesen u. Schreiben von Zip-Files)</li>\n",
      "<li>Internet (u.a. Email, FTP, HTTP)</li>\n",
      "<li>GUI mit TK/TKinter</li>\n",
      "<li>Entwicklungswerkzeuge, z.B. unittest</li>\n",
      "<li> u.a.m.</li>\n",
      "</ul>\n",
      "<p>Allerdings sollte man h\u00e4ufig pr\u00fcfen, welche Bibliothek von erfahrenen Python-Programmierern wirklich empfohlen wird. So gibt es etwa in der Standardbibliothek eine umfangreiche XML-Bibliothek, aber viele empfehlen f\u00fcr das Arbeiten mit XML lxml (lxml.de). </p>\n",
      "\n"
     ]
    },
    {
     "cell_type": "markdown",
     "metadata": {
      "slideshow": {
       "slide_type": "slide"
      }
     },
     "source": [
      "<h3>Argumente auf der Kommandozeile</h3>\n",
      "<p>In der Unix-Welt ist die folgende Gebrauchsweise von Programmen sehr verbreitet:</p>\n",
      "<code>ls -l </code> \n",
      "<p>Zeigt das Directory an und verwendet dabei ein bestimmtes Format - letzteres wird durch den Schalter '-l' festgelegt. Ebene diese M\u00f6glichkeit, sein Skript durch Parametern zu steuern, die beim Aufruf \u00fcbergeben werden, kann man auch in Python verwenden.</p>\n",
      "<p>\n",
      "In der Liste argv sind alle Angaben, die auf der Kommandozeile \u00fcbergeben werden, enthalten. Schreiben Sie den folgenden Befehl in die Datei \"test_args.py\"<br/>\n",
      "<code>import sys\n",
      "print (sys.argv[0], \" \", sys.argv[1])</code><br/>\n",
      "und f\u00fchren auf der Kommandozeile diesen Befehl aus (Unix-Variante kann anders aussehen):<br/>\n",
      "<code>python test_args.py file.txt</code></p>\n",
      "<p>Sie sollten dann als Antwort sehen: <br/>\n",
      "<code>test_args.py  file.txt</code>\n",
      "<p>sys.argv[0] enth\u00e4lt also immer den Namen des aufrufenden Skripts, w\u00e4hrend sys.argv[1] bis sys.argv[n] die n Parameter enth\u00e4lt, die beim  Aufruf \u00fcbergeben wurden. </p>"
     ]
    },
    {
     "cell_type": "markdown",
     "metadata": {
      "slideshow": {
       "slide_type": "slide"
      }
     },
     "source": [
      "<h3>Aufgabe</h3>\n",
      "<ul><li>Um das verarbeiten von Kommandozeilen-Argumenten einfacher zu  machen, gibt es in der Standardbibliothek das Modul argparse. Schreiben Sie ein Skript, das mit der Option --input filename bzw. -i filename den Dateinamen f\u00fcr die zu verarbeitende Datei annimmt. Schauen Sie sich im Handbuch an, wie das Modul zu verwenden ist!\n",
      "</li>"
     ]
    },
    {
     "cell_type": "markdown",
     "metadata": {
      "slideshow": {
       "slide_type": "slide"
      }
     },
     "source": [
      "<h3>Musterl\u00f6sung</h3>"
     ]
    },
    {
     "cell_type": "code",
     "collapsed": false,
     "input": [
      "from collections import Counter\n",
      "import re\n",
      "import argparse\n",
      "import sys\n",
      "\n",
      "parser = argparse.ArgumentParser()\n",
      "parser.add_argument('-i', '--input', help='input file')\n",
      "parser.add_argument('-o', '--output', help='output file (optional)')\n",
      "parser.add_argument('-e', '--encoding', help='encoding of input file (optional)')\n",
      "args = parser.parse_args()\n",
      "\n",
      "#tell user whats happening    \n",
      "print (\"processing \", args.input)  \n",
      "\n",
      "#define standard encoding\n",
      "encoding = \"utf-8\"\n",
      "#apply user setting of encoding\n",
      "if args.encoding is not None:\n",
      "    encoding = args.encoding\n",
      "\n",
      "#count words\n",
      "wl = Counter()\n",
      "with open(args.input, \"r\", encoding=encoding) as fin:\n",
      "    for line in fin:\n",
      "        wl.update(re.findall(\"\\w+\", line))\n",
      "\n",
      "#write results to standard output or output file         \n",
      "if args.output is not None:\n",
      "    fout = open(args.output, \"w\", encoding=\"utf-8\")\n",
      "\n",
      "for w in sorted(wl.keys()):\n",
      "    if args.output is None:\n",
      "        print(w, \"\\t\", wl[w])\n",
      "    else:\n",
      "        fout.write(w + \"\\t\" + str(wl[w]) + \"\\n\") \n"
     ],
     "language": "python",
     "metadata": {
      "slideshow": {
       "slide_type": "fragment"
      }
     },
     "outputs": [
      {
       "ename": "SystemExit",
       "evalue": "2",
       "output_type": "pyerr",
       "traceback": [
        "An exception has occurred, use %tb to see the full traceback.\n",
        "\u001b[1;31mSystemExit\u001b[0m\u001b[1;31m:\u001b[0m 2\n"
       ]
      },
      {
       "output_type": "stream",
       "stream": "stderr",
       "text": [
        "usage: -c [-h] [-i INPUT] [-o OUTPUT] [-e ENCODING]\n",
        "-c: error: unrecognized arguments: -f C:\\daten\\Dropbox\\uni\\PROJEKT\\Programmieren\\.ipython\\profile_default\\security\\kernel-30cf7580-5525-484c-8d35-7c762a5cfff9.json --IPKernelApp.parent_appname='ipython-notebook' --interrupt=924 --parent=928\n",
        "To exit: use 'exit', 'quit', or Ctrl-D.\n"
       ]
      }
     ],
     "prompt_number": 3
    },
    {
     "cell_type": "markdown",
     "metadata": {
      "slideshow": {
       "slide_type": "slide"
      }
     },
     "source": [
      "<h3>pypi</h3>\n",
      "<p>Es geh\u00f6rt zu den St\u00e4rken von Python, dass es ein gro\u00dfes \u00d6kosystem von Bibliotheken gibt, die von Anwendern geschrieben worden sind. Leider hat man das in Python selbst erst sp\u00e4t verstanden, so dass es lange Zeit eine F\u00fclle von unterschiedlichen Verfahren gab, wie man Python-Bibliotheken verteilt. Erst jetzt (python > 3.3) kann man annehmen, dass die meisten pypi verwenden und dass man die Bibliotheken dort standardisiert installieren kann.</p>\n",
      "<img src=\"files/images/pypi1.png\"/ height=\"50%\" width=\"50%\">\n",
      "<p>[Windows User:] Im folgenden gehe ich davon aus, dass Sie Pyhton in das Verzeichnis c:\\python33 installiert haben. Sie m\u00fcssen dann das Verzeichnis c:\\\\python33\\\\scripts im Pfad haben oder dorthin wechseln.</p>\n",
      "<p>Rufen Sie dann einfach folgenden Befehl auf (offensichtlich m\u00fcssen Sie dabei online sein):<br/>\n",
      "<code>pip install name_des_moduls</code><br/>\n",
      "<p>also zum Beispiel:</p>\n",
      "<code>pip install requests</code>\n",
      "<p>Nun gibt es noch ein weiteres Problem f\u00fcr Windows-User: Manche Python-Bibliotheken verwenden, um schneller zu laufen, f\u00fcr einige Routinen C Code. Der muss auf dem Zielrechner mitkompiliert werden. Unter UNix ist das theoretisch kein Problem, da dort immer ein C-Compiler vorhanden ist. Unter Windows muss man entweder einen installieren oder man muss diese Bibliotheken pr\u00e4kompiliert installieren. Ich empfehle das letzere und eine gute Quelle daf\u00fcr ist diese Website: http://www.lfd.uci.edu/~gohlke/pythonlibs/ </p>"
     ]
    },
    {
     "cell_type": "markdown",
     "metadata": {
      "slideshow": {
       "slide_type": "slide"
      }
     },
     "source": [
      "<h3>Aufgabe</h3>\n",
      "<ul><li>Installieren Sie requests von Pypi</li>\n",
      "<li>Installieren Sie lxml (enth\u00e4lt C-Code)</li>\n"
     ]
    },
    {
     "cell_type": "markdown",
     "metadata": {
      "slideshow": {
       "slide_type": "slide"
      }
     },
     "source": [
      "<h3>Scraping a Website</h3>"
     ]
    },
    {
     "cell_type": "code",
     "collapsed": false,
     "input": [
      "import requests\n",
      "#url we want to fetch\n",
      "url = \"http://de.wikipedia.org/wiki/Johann_Wilhelm_Ludwig_Gleim\"\n",
      "#fetch ist\n",
      "r = requests.get(url)\n",
      "#check the response code. 200 is good, 40x is bad\n",
      "print (r.status_code)\n",
      "#get the text of the html-file\n",
      "html_doc = r.text\n",
      "#have a peet at the first 500 chars\n",
      "print (html_doc[:500])"
     ],
     "language": "python",
     "metadata": {
      "slideshow": {
       "slide_type": "fragment"
      }
     },
     "outputs": [
      {
       "output_type": "stream",
       "stream": "stdout",
       "text": [
        "200\n",
        "<!DOCTYPE html>\n",
        "<html lang=\"de\" dir=\"ltr\" class=\"client-nojs\">\n",
        "<head>\n",
        "<meta charset=\"UTF-8\" />\n",
        "<title>Johann Wilhelm Ludwig Gleim \u2013 Wikipedia</title>\n",
        "<meta name=\"generator\" content=\"MediaWiki 1.24wmf10\" />\n",
        "<link rel=\"alternate\" href=\"android-app://org.wikipedia/http/de.m.wikipedia.org/wiki/Johann_Wilhelm_Ludwig_Gleim\" />\n",
        "<link rel=\"alternate\" type=\"application/x-wiki\" title=\"Seite bearbeiten\" href=\"/w/index.php?title=Johann_Wilhelm_Ludwig_Gleim&amp;action=edit\" />\n",
        "<link rel=\"edit\" title=\"Seite b\n"
       ]
      }
     ],
     "prompt_number": 10
    },
    {
     "cell_type": "markdown",
     "metadata": {
      "slideshow": {
       "slide_type": "slide"
      }
     },
     "source": [
      "<h3>Hausaufgabe</h3>\n",
      "<p>Schauen Sie sich die Dokumentation von lxml an, insbesondere den Teil, wie man html-Elemente + Text extrahieren kann. Versuchen Sie dann aus der Gleim-Seite die Werke-Liste zu extrahieren.</p>"
     ]
    },
    {
     "cell_type": "markdown",
     "metadata": {
      "slideshow": {
       "slide_type": "slide"
      }
     },
     "source": [
      "<h3>Zum Schlu\u00df</h3>\n",
      "<p>Sie beherrschen nun die Grundbegriffe von Python (wenn Sie leidlich mitgearbeitet haben), aber Sie sollten zwei Dinge beachten:</p> \n",
      "<p>Das Erlernen einer Programmiersprache ist vergleichbar dem Erlernen einer Fremdsprache. Das hei\u00dft: Nur durch \u00dcbung wird man sie wirklich erlernen. Nur wenn Sie regelm\u00e4\u00dfig mit Python arbeiten, wird es Ihre Sprache werden. </p>\n",
      "<p>Sehr viel in der allt\u00e4glichen Programmierarbeit besteht darin, komplexe Bibliotheken zu verwenden, etwa Django als Webserver-Framework, lxml zur Verarbeitung von XML, numpy und pandas f\u00fcr wissenschaftliche Datenstrukturen (Matrizen) und viele andere mehr. Sie m\u00fcssen sich klar sein, dass Sie keine dieser Bibliotheken aus dem Stand anwenden k\u00f6nnen, sondern dass Sie immer erst einmal verstehen m\u00fcssen, wie die Datenstrukturen der Bibliotheken genau aussehen und welche typischen Verwendungsweisen sich deren Autoren vorgestellt haben. Aber dann haben Sie mit etwas Aufwand nun Zugriff auf die gesammelte Arbeit vieler tausender Python-Programmierer und stehen damit wahrhaft auf den Schultern von Riesen.</p>\n"
     ]
    }
   ],
   "metadata": {}
  }
 ]
}