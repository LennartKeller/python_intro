{
 "metadata": {
  "celltoolbar": "Slideshow",
  "name": "",
  "signature": "sha256:90b4990bb98df46c22d85034c623c6fc7d1ffcfdb80a4a6a35820cbc9f86fbe6"
 },
 "nbformat": 3,
 "nbformat_minor": 0,
 "worksheets": [
  {
   "cells": [
    {
     "cell_type": "heading",
     "level": 1,
     "metadata": {
      "slideshow": {
       "slide_type": "slide"
      }
     },
     "source": [
      "Einf\u00fchrung in das Programmieren mit Python"
     ]
    },
    {
     "cell_type": "markdown",
     "metadata": {
      "slideshow": {
       "slide_type": "slide"
      }
     },
     "source": [
      "<h3 style=\"color:green\">Hausaufgabe</h3>\n",
      "\n",
      "Schreiben Sie eine Programm, das rekursiv die Dateigr\u00f6\u00dfe aller Dateien und Unterverzeichnisse eines gegebenen Verzeichnis ermittelt und eine Liste daraus in eine Datei schreibt. Hier ein Ausschnitt, wie der Inhalt dieser Datei nach dem Ablauf Ihres Programms aussehen k\u00f6nnte:\n",
      "```\n",
      "        74 pydelta/requirements.txt\n",
      "       691 pydelta/licence.txt\n",
      "     39641 pydelta/delta.py\n",
      "      2320 pydelta/readme.txt\n",
      "     10589 pydelta/docs/conf.py\n",
      "         7 pydelta/docs/.gitignore\n",
      "      6766 pydelta/docs/Makefile\n",
      "      6703 pydelta/docs/make.bat\n",
      "       106 pydelta/docs/delta.rst\n",
      "        56 pydelta/docs/modules.rst\n",
      "       479 pydelta/docs/index.rst\n",
      "     24706 pydelta/docs\n",
      "     67432 pydelta\n",
      "```\n",
      "Ihr Programm sollte:\n",
      "\n",
      "* als Modul einbindbar sein und dort eine Funktion anbieten, der man den Pfad des zu untersuchenden Verzeichnisses/der zu untersuchenden Datei und die Ausgabedatei mitgibt,\n",
      "* wenn es als Hauptprogramm aufgerufen wird, die Analyse des aktuellen Verzeichnisses (`'.'`) in eine Datei `'total-sizes.txt'` speichern,\n",
      "* und nicht nur unter Windows funktionieren."
     ]
    },
    {
     "cell_type": "markdown",
     "metadata": {
      "slideshow": {
       "slide_type": "subslide"
      }
     },
     "source": [
      "### Musterl\u00f6sung\n",
      "\n",
      "#### Modul vs. Hauptprogramm"
     ]
    },
    {
     "cell_type": "code",
     "collapsed": false,
     "input": [
      "import os\n",
      "\n",
      "# Funktion f\u00fcr Hauptprogramm:\n",
      "def main():\n",
      "    # Ausgabedatei mit Standardnamen \u00f6ffnen:\n",
      "    with open(\"total-sizes.txt\", \"w\", encoding=\"utf-8\") as output:\n",
      "        # und an unsere rekursive Funktion (s.u.) \u00fcbergeben:\n",
      "        total_size(\".\", output)\n",
      "        \n",
      "# Wenn als Hauptprogramm aufgerufen, unsere Main-Funktion starten:\n",
      "if __name__ == \"__main__\":\n",
      "    main()"
     ],
     "language": "python",
     "metadata": {
      "slideshow": {
       "slide_type": "-"
      }
     },
     "outputs": [
      {
       "ename": "NameError",
       "evalue": "name 'total_size' is not defined",
       "output_type": "pyerr",
       "traceback": [
        "\u001b[0;31m---------------------------------------------------------------------------\u001b[0m\n\u001b[0;31mNameError\u001b[0m                                 Traceback (most recent call last)",
        "\u001b[0;32m<ipython-input-2-a92993942d8d>\u001b[0m in \u001b[0;36m<module>\u001b[0;34m()\u001b[0m\n\u001b[1;32m      8\u001b[0m \u001b[0;31m# Wenn als Hauptprogramm aufgerufen, unsere Main-Funktion starten:\u001b[0m\u001b[0;34m\u001b[0m\u001b[0;34m\u001b[0m\u001b[0m\n\u001b[1;32m      9\u001b[0m \u001b[0;32mif\u001b[0m \u001b[0m__name__\u001b[0m \u001b[0;34m==\u001b[0m \u001b[0;34m\"__main__\"\u001b[0m\u001b[0;34m:\u001b[0m\u001b[0;34m\u001b[0m\u001b[0m\n\u001b[0;32m---> 10\u001b[0;31m     \u001b[0mmain\u001b[0m\u001b[0;34m(\u001b[0m\u001b[0;34m)\u001b[0m\u001b[0;34m\u001b[0m\u001b[0m\n\u001b[0m",
        "\u001b[0;32m<ipython-input-2-a92993942d8d>\u001b[0m in \u001b[0;36mmain\u001b[0;34m()\u001b[0m\n\u001b[1;32m      4\u001b[0m     \u001b[0;32mwith\u001b[0m \u001b[0mopen\u001b[0m\u001b[0;34m(\u001b[0m\u001b[0;34m\"total-sizes.txt\"\u001b[0m\u001b[0;34m,\u001b[0m \u001b[0;34m\"w\"\u001b[0m\u001b[0;34m,\u001b[0m \u001b[0mencoding\u001b[0m\u001b[0;34m=\u001b[0m\u001b[0;34m\"utf-8\"\u001b[0m\u001b[0;34m)\u001b[0m \u001b[0;32mas\u001b[0m \u001b[0moutput\u001b[0m\u001b[0;34m:\u001b[0m\u001b[0;34m\u001b[0m\u001b[0m\n\u001b[1;32m      5\u001b[0m         \u001b[0;31m# und an unsere rekursive Funktion (s.u.) \u00fcbergeben:\u001b[0m\u001b[0;34m\u001b[0m\u001b[0;34m\u001b[0m\u001b[0m\n\u001b[0;32m----> 6\u001b[0;31m         \u001b[0mtotal_size\u001b[0m\u001b[0;34m(\u001b[0m\u001b[0;34m\".\"\u001b[0m\u001b[0;34m,\u001b[0m \u001b[0moutput\u001b[0m\u001b[0;34m)\u001b[0m\u001b[0;34m\u001b[0m\u001b[0m\n\u001b[0m\u001b[1;32m      7\u001b[0m \u001b[0;34m\u001b[0m\u001b[0m\n\u001b[1;32m      8\u001b[0m \u001b[0;31m# Wenn als Hauptprogramm aufgerufen, unsere Main-Funktion starten:\u001b[0m\u001b[0;34m\u001b[0m\u001b[0;34m\u001b[0m\u001b[0m\n",
        "\u001b[0;31mNameError\u001b[0m: name 'total_size' is not defined"
       ]
      }
     ],
     "prompt_number": 2
    },
    {
     "cell_type": "heading",
     "level": 4,
     "metadata": {
      "slideshow": {
       "slide_type": "subslide"
      }
     },
     "source": [
      "Summierungsfunktion: Einfacher Fall (Datei)"
     ]
    },
    {
     "cell_type": "code",
     "collapsed": false,
     "input": [
      "def total_size(path, output):\n",
      "    \"\"\"\n",
      "    Berechnet die Gesamtgr\u00f6\u00dfe des gegebenen Verzeichnis' oder Datei.\n",
      "    \n",
      "    path   = Pfad zum zu untersuchenden Verzeichnis / Datei\n",
      "    output = offenes Dateiobjekt zum Ausgeben\n",
      "    \"\"\"\n",
      "    if os.path.isdir(path):\n",
      "        pass # TODO\n",
      "    else: # kein Verzeichnis: Datei. Der Fall ist einfach.\n",
      "        size = os.path.getsize(path)\n",
      "        # oder size = os.stat(path).st_size\n",
      "\n",
      "    output.write(\"{:>10} {}\\n\".format(size, path))  # Gr\u00f6\u00dfe rausschreiben\n",
      "    return size                     # ... und zur\u00fcckgeben."
     ],
     "language": "python",
     "metadata": {
      "slideshow": {
       "slide_type": "-"
      }
     },
     "outputs": [],
     "prompt_number": 8
    },
    {
     "cell_type": "heading",
     "level": 4,
     "metadata": {
      "slideshow": {
       "slide_type": "subslide"
      }
     },
     "source": [
      "Summierungsfunktion: Rekursionsfall (Verzeichnis)"
     ]
    },
    {
     "cell_type": "code",
     "collapsed": false,
     "input": [
      "def total_size(path, output):\n",
      "    \"\"\"\n",
      "    Berechnet die Gesamtgr\u00f6\u00dfe des gegebenen Verzeichnis' oder Datei.\n",
      "    \n",
      "    path   = Pfad zum zu untersuchenden Verzeichnis / Datei\n",
      "    output = offenes Dateiobjekt zum Ausgeben\n",
      "    R\u00fcckgabewert = Gesamtgr\u00f6\u00dfe von path (int)\n",
      "    \"\"\"\n",
      "    if os.path.isdir(path):\n",
      "        # Rekursionsfall: Die Gr\u00f6\u00dfe eines Verzeichnisses ist die Summe der\n",
      "        # Gr\u00f6\u00dfen aller Inhalte des Verzeichnisses, also ...\n",
      "        size = 0                        # Variable zum Aufsummieren\n",
      "        for name in os.listdir(path):   # Verzeichnis listen\n",
      "            subdir = os.path.join(path, name)   # Pfad zusammenbauen\n",
      "            size += total_size(subdir, output)  # Eintragsgr\u00f6\u00dfe ermitteln und dazuz\u00e4hlen\n",
      "    else: # kein Verzeichnis: Datei. Der Fall ist einfach.\n",
      "        size = os.path.getsize(path)\n",
      "        # oder size = os.stat(path).st_size\n",
      "\n",
      "    output.write(\"{:>10} {}\\n\".format(size, path))  # Gr\u00f6\u00dfe rausschreiben\n",
      "    return size                     # ... und zur\u00fcckgeben."
     ],
     "language": "python",
     "metadata": {
      "slideshow": {
       "slide_type": "-"
      }
     },
     "outputs": [],
     "prompt_number": 11
    },
    {
     "cell_type": "heading",
     "level": 4,
     "metadata": {
      "slideshow": {
       "slide_type": "subslide"
      }
     },
     "source": [
      "Musterl\u00f6sung insgesamt"
     ]
    },
    {
     "cell_type": "code",
     "collapsed": false,
     "input": [
      "#!/usr/bin/env python3\n",
      "# -*- coding: utf-8 -*-\n",
      "\"\"\"\n",
      "Created on Tue Dec  2 17:13:16 2014\n",
      "\n",
      "@author: vitt\n",
      "\"\"\"\n",
      "import os\n",
      "\n",
      "def total_size(path, output):\n",
      "    \"\"\"\n",
      "    Berechnet die Gesamtgr\u00f6\u00dfe des gegebenen Verzeichnis' oder Datei.\n",
      "\n",
      "    path   = Pfad zum zu untersuchenden Verzeichnis / Datei\n",
      "    output = offenes Dateiobjekt zum Ausgeben\n",
      "    R\u00fcckgabewert = Gesamtgr\u00f6\u00dfe von path (int)\n",
      "    \"\"\"\n",
      "    if os.path.isdir(path):\n",
      "        # Rekursionsfall: Die Gr\u00f6\u00dfe eines Verzeichnisses ist die Summe der\n",
      "        # Gr\u00f6\u00dfen aller Inhalte des Verzeichnisses, also ...\n",
      "        size = 0                        # Variable zum Aufsummieren\n",
      "        for name in os.listdir(path):   # Verzeichnis listen\n",
      "            subdir = os.path.join(path, name)   # Pfad zusammenbauen\n",
      "            size += total_size(subdir, output)  # Eintragsgr\u00f6\u00dfe ermitteln und dazuz\u00e4hlen\n",
      "    else: # kein Verzeichnis: Datei. Der Fall ist einfach.\n",
      "        size = os.path.getsize(path)\n",
      "        # oder size = os.stat(path).st_size\n",
      "\n",
      "    output.write(\"{:>10} {}\\n\".format(size, path))  # Gr\u00f6\u00dfe rausschreiben\n",
      "    return size                     # ... und zur\u00fcckgeben.\n",
      "\n",
      "def main():\n",
      "    # Ausgabedatei mit Standardnamen \u00f6ffnen:\n",
      "    with open(\"total-sizes.txt\", \"w\", encoding=\"utf-8\") as output:\n",
      "        # und an unsere rekursive Funktion (s.u.) \u00fcbergeben:\n",
      "        total_size(\".\", output)\n",
      "\n",
      "# Wenn als Hauptprogramm aufgerufen, unsere Main-Funktion starten:\n",
      "if __name__ == \"__main__\":\n",
      "    main()"
     ],
     "language": "python",
     "metadata": {
      "slideshow": {
       "slide_type": "-"
      }
     },
     "outputs": [],
     "prompt_number": 12
    },
    {
     "cell_type": "code",
     "collapsed": false,
     "input": [
      "import sys\n",
      "total_size('example', sys.stdout)"
     ],
     "language": "python",
     "metadata": {
      "slideshow": {
       "slide_type": "subslide"
      }
     },
     "outputs": [
      {
       "output_type": "stream",
       "stream": "stdout",
       "text": [
        "      6766 example/docs/Makefile\n",
        "       106 example/docs/delta.rst\n",
        "        56 example/docs/modules.rst\n",
        "      6703 example/docs/make.bat\n",
        "       479 example/docs/index.rst\n",
        "     10589 example/docs/conf.py\n",
        "         7 example/docs/.gitignore\n",
        "     24706 example/docs\n",
        "    374965 example/corpus_words.csv\n",
        "       691 example/licence.txt\n",
        "     39642 example/delta.py\n",
        "        74 example/requirements.txt\n",
        "      2152 example/pydelta.ini\n",
        "      2320 example/readme.txt\n",
        "        55 example/.gitignore\n",
        "    444605 example\n"
       ]
      },
      {
       "metadata": {},
       "output_type": "pyout",
       "prompt_number": 18,
       "text": [
        "444605"
       ]
      }
     ],
     "prompt_number": 18
    },
    {
     "cell_type": "markdown",
     "metadata": {
      "slideshow": {
       "slide_type": "slide"
      }
     },
     "source": [
      "### Debugging (Spyder)"
     ]
    },
    {
     "cell_type": "markdown",
     "metadata": {
      "slideshow": {
       "slide_type": "-"
      }
     },
     "source": [
      "![](images/spyder_debugging.png)"
     ]
    },
    {
     "cell_type": "markdown",
     "metadata": {
      "slideshow": {
       "slide_type": "slide"
      }
     },
     "source": [
      "## Wiederholung: Regul\u00e4re Ausdr\u00fccke\n",
      "\n",
      "* Minisprache zur Beschreibung von Klassen von Strings\n",
      "* Suchen, Ersetzen, Informationen extrahieren\n",
      "* Ein **Pattern** **matcht** auf einen String, bzw. auf Teilstrings\n",
      "* Entwickeln z.B. mit [pythex.org](http://pythex.org)"
     ]
    },
    {
     "cell_type": "code",
     "collapsed": false,
     "input": [
      "import re\n",
      "re.findall(\"[0-9]+\", \"Jeden Mittwoch von 10 bis 12 lernen wir Python.\")"
     ],
     "language": "python",
     "metadata": {},
     "outputs": [
      {
       "metadata": {},
       "output_type": "pyout",
       "prompt_number": 23,
       "text": [
        "['10', '12']"
       ]
      }
     ],
     "prompt_number": 23
    },
    {
     "cell_type": "markdown",
     "metadata": {
      "slideshow": {
       "slide_type": "subslide"
      }
     },
     "source": [
      "<h3>Special characters</h3>\n",
      "<table>\n",
      "    <tbody><tr>\n",
      "            <td class=\"key_td\"><code>\\</code></td>\n",
      "            <td>escape special characters</td>\n",
      "        </tr>\n",
      "        <tr>\n",
      "            <td class=\"key_td\"><code>.</code></td>\n",
      "            <td>matches any character</td>\n",
      "        </tr>\n",
      "        <tr>\n",
      "            <td class=\"key_td\"><code>^</code></td>\n",
      "            <td>matches beginning of string</td>\n",
      "        </tr>\n",
      "        <tr>\n",
      "            <td class=\"key_td\"><code>$</code></td>\n",
      "            <td>matches end of string</td>\n",
      "        </tr>\n",
      "        <tr>\n",
      "            <td class=\"key_td\"><code>[5b-d]</code></td>\n",
      "            <td>matches any chars '5', 'b', 'c' or 'd'</td>\n",
      "        </tr>\n",
      "        <tr>\n",
      "            <td class=\"key_td\"><code>[^a-c6]</code></td>\n",
      "            <td>matches any char except 'a', 'b', 'c' or '6'</td>\n",
      "        </tr>\n",
      "        <tr>\n",
      "            <td class=\"key_td\"><code>R|S</code></td>\n",
      "            <td>matches either regex <code>R</code> or regex <code>S</code></td>\n",
      "        </tr>\n",
      "        <tr>\n",
      "            <td class=\"key_td\"><code>()</code></td>\n",
      "            <td>creates a capture group and indicates precedence</td>\n",
      "        </tr>\n",
      "    </tbody>\n",
      "</table>\n",
      "<h3>Quantifiers</h3>\n",
      "<table>\n",
      "    <tbody><tr>\n",
      "            <td class=\"key_td\"><code>*</code></td>\n",
      "            <td>0 or more (append <code>?</code> for non-greedy)</td>\n",
      "        </tr>\n",
      "        <tr>\n",
      "            <td class=\"key_td\"><code>+</code></td>\n",
      "            <td>1 or more (append <code>?</code> for non-greedy)</td>\n",
      "        </tr>\n",
      "        <tr>\n",
      "            <td class=\"key_td\"><code>?</code></td>\n",
      "            <td>0 or 1 (append <code>?</code> for non-greedy)</td>\n",
      "        </tr>\n",
      "        <tr>\n",
      "            <td class=\"key_td\"><code>{m}</code></td>\n",
      "            <td>exactly <code>m</code> occurrences</td>\n",
      "        </tr>\n",
      "        <tr>\n",
      "            <td class=\"key_td\"><code>{m, n}</code></td>\n",
      "            <td>from <code>m</code> to <code>n</code>. <code>m</code> defaults to 0, <code>n</code> to infinity</td>\n",
      "        </tr>\n",
      "        <tr>\n",
      "            <td class=\"key_td\"><code>{m, n}?</code></td>\n",
      "            <td>from <code>m</code> to <code>n</code>, as few as possible</td>\n",
      "        </tr>\n",
      "    </tbody>\n",
      "</table>\n"
     ]
    },
    {
     "cell_type": "markdown",
     "metadata": {
      "slideshow": {
       "slide_type": "subslide"
      }
     },
     "source": [
      "<h3>Special sequences</h3>\n",
      "<table>\n",
      "    <tbody><tr>\n",
      "            <td class=\"key_td\"><code>\\A</code></td>\n",
      "            <td>start of string</td>\n",
      "        </tr>\n",
      "        <tr>\n",
      "            <td class=\"key_td\"><code>\\b</code></td>\n",
      "            <td>matches empty string at word boundary (between <code>\\w</code> and <code>\\W</code>)</td>\n",
      "        </tr>\n",
      "        <tr>\n",
      "            <td class=\"key_td\"><code>\\B</code></td>\n",
      "            <td>matches empty string not at word boundary</td>\n",
      "        </tr>\n",
      "        <tr>\n",
      "            <td class=\"key_td\"><code>\\d</code></td>\n",
      "            <td>digit</td>\n",
      "        </tr>\n",
      "        <tr>\n",
      "            <td class=\"key_td\"><code>\\D</code></td>\n",
      "            <td>non-digit</td>\n",
      "        </tr>\n",
      "        <tr>\n",
      "            <td class=\"key_td\"><code>\\s</code></td>\n",
      "            <td>whitespace: <code>[ \\t\\n\\r\\f\\v]</code></td>\n",
      "        </tr>\n",
      "        <tr>\n",
      "            <td class=\"key_td\"><code>\\S</code></td>\n",
      "            <td>non-whitespace</td>\n",
      "        </tr>\n",
      "        <tr>\n",
      "            <td class=\"key_td\"><code>\\w</code></td>\n",
      "            <td>alphanumeric: <code>[0-9a-zA-Z_]</code></td>\n",
      "        </tr>\n",
      "        <tr>\n",
      "            <td class=\"key_td\"><code>\\W</code></td>\n",
      "            <td>non-alphanumeric</td>\n",
      "        </tr>\n",
      "        <tr>\n",
      "            <td class=\"key_td\"><code>\\Z</code></td>\n",
      "            <td>end of string</td>\n",
      "        </tr>\n",
      "        <tr>\n",
      "            <td class=\"key_td\">`\\1`, `\\2`, ...</td>\n",
      "            <td>matches a previously defined group</td>\n",
      "        </tr>\n",
      "    </tbody>\n",
      "</table>\n",
      "<h3>F\u00fcr Fortgeschrittene: Spezielle Sequenzen, siehe Doku</h3>\n",
      "<table>\n",
      "    <tbody><tr>\n",
      "            <td class=\"key_td\"><code>(?iLmsux)</code></td>\n",
      "            <td>matches empty string, sets re.X flags</td>\n",
      "        </tr>\n",
      "        <tr>\n",
      "            <td class=\"key_td\"><code>(?:...)</code></td>\n",
      "            <td>non-capturing version of regular parentheses</td>\n",
      "        </tr>\n",
      "        <tr>\n",
      "            <td class=\"key_td\"><code>(?P<name>...)</name></code></td>\n",
      "            <td>matches whatever matched previously named group</td>\n",
      "        </tr>\n",
      "        <tr>\n",
      "            <td class=\"key_td\"><code>(?P=<name>)</name></code></td>\n",
      "            <td>digit</td>\n",
      "        </tr>\n",
      "        <tr>\n",
      "            <td class=\"key_td\"><code>(?#...)</code></td>\n",
      "            <td>a comment; ignored</td>\n",
      "        </tr>\n",
      "        <tr>\n",
      "            <td class=\"key_td\"><code>(?=...)</code></td>\n",
      "            <td>lookahead assertion: matches without consuming</td>\n",
      "        </tr>\n",
      "        <tr>\n",
      "            <td class=\"key_td\"><code>(?!...)</code></td>\n",
      "            <td>negative lookahead assertion</td>\n",
      "        </tr>\n",
      "        <tr>\n",
      "            <td class=\"key_td\"><code>(?&lt;=...)</code></td>\n",
      "            <td>lookbehind assertion: matches if preceded</td>\n",
      "        </tr>\n",
      "        <tr>\n",
      "            <td class=\"key_td\"><code>(?&lt;!...)</code></td>\n",
      "            <td>negative lookbehind assertion</td>\n",
      "        </tr>\n",
      "        <tr>\n",
      "            <td class=\"key_td\"><code>(?(id)yes|no)</code></td>\n",
      "            <td>match 'yes' if group 'id' matched, else 'no'</td></tr></tbody>\n",
      "</table>\n"
     ]
    },
    {
     "cell_type": "markdown",
     "metadata": {
      "slideshow": {
       "slide_type": "slide"
      }
     },
     "source": [
      "### Regul\u00e4re Ausdr\u00fccke anwenden (2)\n",
      "\n",
      "![\u00dcbersicht \u00fcber das re-Modul](images/re-uebersicht.svg)"
     ]
    },
    {
     "cell_type": "markdown",
     "metadata": {
      "slideshow": {
       "slide_type": "slide"
      }
     },
     "source": [
      "### Aufgabe\n",
      "\n",
      "Schreiben Sie einen einfachen Tokenizer: Der Tokenizer soll eine Textdatei zeilenweise einlesen und jede Zeile in Tokens (W\u00f6rter und Zahlen) zerlegen. Ihr Tokenizer soll als Funktion aufrufbar sein und eine lange Sequenz / Liste mit allen Tokens aus der Datei zur\u00fcckgeben. Alle Tokens sollen in Kleinbuchstaben normalisiert werden."
     ]
    },
    {
     "cell_type": "code",
     "collapsed": false,
     "input": [
      "import re\n",
      "\n",
      "def tokenize(filename):\n",
      "    tokens = []\n",
      "    \n",
      "    with open(filename, \"rt\", encoding=\"utf-8\") as file:\n",
      "        for line in file:\n",
      "            for token in re.findall(\"\\w+\", line):\n",
      "                tokens.append(token.lower())\n",
      "    \n",
      "    return tokens\n",
      "\n",
      "print(tokenize(\"roman.txt\"))"
     ],
     "language": "python",
     "metadata": {
      "slideshow": {
       "slide_type": "subslide"
      }
     },
     "outputs": [
      {
       "output_type": "stream",
       "stream": "stdout",
       "text": [
        "['kurzer', 'roman', 'dies', 'ist', 'ein', 'langer', 'roman', 'er', 'beginnt', 'mit', 'dem', 'auftritt', 'des', 'heldens', 'da', 'es', 'keine', 'helden', 'gibt', 'unterbricht', 'hier', 'schon', 'der', 'leser']\n"
       ]
      }
     ],
     "prompt_number": 24
    },
    {
     "cell_type": "markdown",
     "metadata": {
      "slideshow": {
       "slide_type": "slide"
      }
     },
     "source": [
      "### Aufgabe\n",
      "\n",
      "Schreiben Sie ein Programm, das mithilfe von regul\u00e4ren Ausdr\u00fccken aus einer XML-Datei s\u00e4mtliches Markup entfernt und lediglich den Textinhalt in eine neue Datei schreibt. Verwenden Sie eine TEI-Datei von [textgridrep.de](http://textgridrep.de) als Testfall."
     ]
    },
    {
     "cell_type": "markdown",
     "metadata": {
      "slideshow": {
       "slide_type": "slide"
      }
     },
     "source": [
      "## Einf\u00fchrung in das Programmieren mit Python\n",
      "# Objektorientiertes Programmieren in Python"
     ]
    },
    {
     "cell_type": "markdown",
     "metadata": {
      "slideshow": {
       "slide_type": "slide"
      }
     },
     "source": [
      "### Objektorientierte Programmierung \u2013 Idee und Konzept\n",
      "\n",
      "* zusammengeh\u00f6rige Daten werden in einen gemeinsamen Container zusammengefasst\n",
      "* Operationen auf diesen Daten kommen ebenfalls in diesen Container\n",
      "* Ergebnis: **Objekt**, das seine internen Daten kapselt und Operationen anbietet"
     ]
    },
    {
     "cell_type": "code",
     "collapsed": false,
     "input": [
      "\"Hallo\".lower()"
     ],
     "language": "python",
     "metadata": {
      "slideshow": {
       "slide_type": "fragment"
      }
     },
     "outputs": [
      {
       "metadata": {},
       "output_type": "pyout",
       "prompt_number": 27,
       "text": [
        "'hallo'"
       ]
      }
     ],
     "prompt_number": 27
    },
    {
     "cell_type": "markdown",
     "metadata": {
      "slideshow": {
       "slide_type": "subslide"
      }
     },
     "source": [
      "### Begriffe\n",
      "\n",
      "* **Objekt** oder **Instanz**  (z.B. `\"Hallo\"`)\n",
      "   * in Python ist _alles_ ein Objekt\n",
      "* **Attribute** oder **Eigenschaften** (oder **Felder**)\n",
      "   * Zugriff per `objekt.feld`\n",
      "   * les- und ggf. schreibbar\n",
      "* **Methoden**\n",
      "   * Funktionen, die teil eines Objekts sind und mit dem Objekt arbeiten"
     ]
    },
    {
     "cell_type": "code",
     "collapsed": false,
     "input": [
      "f = open(\"roman.txt\")\n",
      "print(f.encoding)\n",
      "print(f.read())"
     ],
     "language": "python",
     "metadata": {
      "slideshow": {
       "slide_type": "fragment"
      }
     },
     "outputs": [
      {
       "output_type": "stream",
       "stream": "stdout",
       "text": [
        "UTF-8\n",
        "Kurzer Roman.\n",
        "Dies ist ein langer Roman. Er beginnt mit dem Auftritt des Heldens. \n",
        "Da es keine Helden gibt, unterbricht hier schon der Leser \u2026\n",
        "\n"
       ]
      }
     ],
     "prompt_number": 35
    },
    {
     "cell_type": "markdown",
     "metadata": {
      "slideshow": {
       "slide_type": "subslide"
      }
     },
     "source": [
      "### Klassen\n",
      "\n",
      "* Der _Datentyp_ eines Objekts ist seine **Klasse**\n",
      "* Klasse = \u00bbBauplan\u00ab f\u00fcr die Objekte, definiert die Methoden (und Eigenschaften)"
     ]
    },
    {
     "cell_type": "code",
     "collapsed": false,
     "input": [
      "print(type(\"Hallo\"))"
     ],
     "language": "python",
     "metadata": {
      "slideshow": {
       "slide_type": "fragment"
      }
     },
     "outputs": [
      {
       "output_type": "stream",
       "stream": "stdout",
       "text": [
        "<class 'str'>\n"
       ]
      }
     ],
     "prompt_number": 37
    },
    {
     "cell_type": "code",
     "collapsed": false,
     "input": [
      "class Person(object):\n",
      "    \"\"\"\n",
      "    Eine Person.\n",
      "    \"\"\"\n",
      "    \n",
      "    def __init__(self, name, email):\n",
      "        self.name = name\n",
      "        self.email = email\n",
      "        \n",
      "    def formattedOutput(self):\n",
      "        \"\"\"\n",
      "        Liefert einen String zur\u00fcck, der diese Person beschreibt.\n",
      "        \"\"\"\n",
      "        return self.name + ' <' + self.email + '>'\n",
      "    \n",
      "    def describe(self):\n",
      "        \"\"\"\n",
      "        Beschreibt diese Person.\n",
      "        \"\"\"\n",
      "        print(self.formattedOutput())\n",
      "        \n",
      "max = Person(\"Max M\u00fcller\", \"max.mueller@example.com\")\n",
      "max.describe()"
     ],
     "language": "python",
     "metadata": {
      "slideshow": {
       "slide_type": "subslide"
      }
     },
     "outputs": [
      {
       "output_type": "stream",
       "stream": "stdout",
       "text": [
        "Max M\u00fcller <max.mueller@example.com>\n",
        "Max M\u00fcller\n"
       ]
      }
     ],
     "prompt_number": 41
    },
    {
     "cell_type": "code",
     "collapsed": false,
     "input": [
      "print(max.name)"
     ],
     "language": "python",
     "metadata": {
      "slideshow": {
       "slide_type": "fragment"
      }
     },
     "outputs": [
      {
       "output_type": "stream",
       "stream": "stdout",
       "text": [
        "Max M\u00fcller\n"
       ]
      }
     ],
     "prompt_number": 42
    },
    {
     "cell_type": "code",
     "collapsed": false,
     "input": [
      "print(type(max))"
     ],
     "language": "python",
     "metadata": {
      "slideshow": {
       "slide_type": "fragment"
      }
     },
     "outputs": [
      {
       "output_type": "stream",
       "stream": "stdout",
       "text": [
        "<class '__main__.Person'>\n"
       ]
      }
     ],
     "prompt_number": 43
    },
    {
     "cell_type": "markdown",
     "metadata": {
      "slideshow": {
       "slide_type": "subslide"
      }
     },
     "source": [
      "### Vererbung\n",
      "\n",
      "Eine Klasse kann eine _Superklasse_ haben, deren Eigenschaften sie erbt."
     ]
    },
    {
     "cell_type": "code",
     "collapsed": false,
     "input": [
      "class Student(Person):\n",
      "    \n",
      "    def __init__(self, name, email, matrikel):\n",
      "        super().__init__(name, email)\n",
      "        self.matrikel = matrikel\n",
      "        \n",
      "    def formattedOutput(self):\n",
      "        return self.name + ' <' + self.email + '> (' + str(self.matrikel) + ')'\n",
      "        "
     ],
     "language": "python",
     "metadata": {
      "slideshow": {
       "slide_type": "fragment"
      }
     },
     "outputs": [],
     "prompt_number": 51
    },
    {
     "cell_type": "code",
     "collapsed": false,
     "input": [
      "moritz = Student(\"Moritz Maier\", \"moritz.maier@example.com\", 4711)\n",
      "moritz.describe()"
     ],
     "language": "python",
     "metadata": {
      "slideshow": {
       "slide_type": "fragment"
      }
     },
     "outputs": [
      {
       "output_type": "stream",
       "stream": "stdout",
       "text": [
        "Moritz Maier <moritz.maier@example.com> (4711)\n"
       ]
      }
     ],
     "prompt_number": 54
    },
    {
     "cell_type": "code",
     "collapsed": false,
     "input": [],
     "language": "python",
     "metadata": {},
     "outputs": []
    }
   ],
   "metadata": {}
  }
 ]
}