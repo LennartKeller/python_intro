{
 "metadata": {
  "name": "",
  "signature": "sha256:69b83dfb5aacababfb4e0291dcf3b7241ae4ec41d40da023502ee995f5c4086f"
 },
 "nbformat": 3,
 "nbformat_minor": 0,
 "worksheets": [
  {
   "cells": [
    {
     "cell_type": "heading",
     "level": 1,
     "metadata": {
      "slideshow": {
       "slide_type": "slide"
      }
     },
     "source": [
      "Programmieren mit Python"
     ]
    },
    {
     "cell_type": "heading",
     "level": 2,
     "metadata": {
      "slideshow": {
       "slide_type": "slide"
      }
     },
     "source": [
      "2. Sitzung: Datenstrukturen: Listen und Dictionaries\n"
     ]
    },
    {
     "cell_type": "markdown",
     "metadata": {
      "slideshow": {
       "slide_type": "slide"
      }
     },
     "source": [
      "### Wiederholung\n",
      "\n",
      "-   Variablenzuweisung mit = :<br/>\n",
      "     Bsp.: word = \"Haus\" + \"bau\"\n",
      "     \n",
      "-   Datentypen: <br/>\n",
      "     integer, float, strings, Booleans\n",
      "\n",
      "-   Operatoren:<br/>\n",
      "    <code>+ - \\* / \\*\\* in</code>            # Funktion der Operatoren abh\u00e4ngig vom Datentyp!\n",
      " \n",
      "-   Aufruf von Funktionen und Methoden:<br/>\n",
      "     Funktion: funktion(parameter [, \u2026]) z.B. print, len<br/>\n",
      "     Methode: Objekt.methode(parameter [, \u2026]) z.B. string.lower<br/>"
     ]
    },
    {
     "cell_type": "markdown",
     "metadata": {
      "slideshow": {
       "slide_type": "slide"
      }
     },
     "source": [
      "<h3>Type Casting</h3>\n",
      "<p>Verwandelt den Datentyp einer Variablen in einen anderen. \n"
     ]
    },
    {
     "cell_type": "code",
     "collapsed": false,
     "input": [
      "a = 1.7\n",
      "type(a)        # type(x) gibt die Klasse von a aus \n",
      "               #(alles in Python ist ein Objekt, ist also eine Instanz einer Klasse)"
     ],
     "language": "python",
     "metadata": {
      "slideshow": {
       "slide_type": "fragment"
      }
     },
     "outputs": [
      {
       "metadata": {},
       "output_type": "pyout",
       "prompt_number": 9,
       "text": [
        "float"
       ]
      }
     ],
     "prompt_number": 9
    },
    {
     "cell_type": "code",
     "collapsed": false,
     "input": [
      "int(a)               # Achtung: Keine Rundung!"
     ],
     "language": "python",
     "metadata": {
      "slideshow": {
       "slide_type": "fragment"
      }
     },
     "outputs": [
      {
       "metadata": {},
       "output_type": "pyout",
       "prompt_number": 10,
       "text": [
        "1"
       ]
      }
     ],
     "prompt_number": 10
    },
    {
     "cell_type": "code",
     "collapsed": false,
     "input": [
      "a = 1\n",
      "float(a)"
     ],
     "language": "python",
     "metadata": {
      "slideshow": {
       "slide_type": "fragment"
      }
     },
     "outputs": [
      {
       "metadata": {},
       "output_type": "pyout",
       "prompt_number": 11,
       "text": [
        "1.0"
       ]
      }
     ],
     "prompt_number": 11
    },
    {
     "cell_type": "code",
     "collapsed": false,
     "input": [
      "a = \"1\" \n",
      "int(a)"
     ],
     "language": "python",
     "metadata": {
      "slideshow": {
       "slide_type": "fragment"
      }
     },
     "outputs": [
      {
       "metadata": {},
       "output_type": "pyout",
       "prompt_number": 12,
       "text": [
        "1"
       ]
      }
     ],
     "prompt_number": 12
    },
    {
     "cell_type": "markdown",
     "metadata": {
      "slideshow": {
       "slide_type": "slide"
      }
     },
     "source": [
      "<h3 style=\"color:green\">Aufgaben</h3>\n",
      "<ol style=\"color:green\">\n",
      "<li>Weisen Sie der Variablen a den Wert 32 als Flie\u00dfkommazahl zu. Speichern Sie das Ergebnis eines type castings nach Integers in der Variablen b.\n",
      "<li>Gegeben ist: c = \"hallo\" <br/>Verwandeln Sie den Datentyp von c in einen Wahrheitswert. Welchen Ausgangswert muss c wohl haben, damit der Wahrheitswert False lautet? \n",
      "<li>Versuchen sie c nach int zu casten.\n",
      "</ol>\n"
     ]
    },
    {
     "cell_type": "markdown",
     "metadata": {
      "slideshow": {
       "slide_type": "slide"
      }
     },
     "source": [
      "<h3>Musterl\u00f6sung</h3>"
     ]
    },
    {
     "cell_type": "markdown",
     "metadata": {
      "slideshow": {
       "slide_type": "slide"
      }
     },
     "source": [
      "<p>1. Weisen Sie der Variablen a den Wert 32 als Flie\u00dfkommazahl zu. Speichern Sie das Ergebnis eines type casting nach Integers in der Variablen b. "
     ]
    },
    {
     "cell_type": "code",
     "collapsed": false,
     "input": [
      "a = float(32)\n",
      "type(a)\n",
      "b = int (a)\n",
      "type(b)"
     ],
     "language": "python",
     "metadata": {
      "slideshow": {
       "slide_type": "fragment"
      }
     },
     "outputs": [
      {
       "metadata": {},
       "output_type": "pyout",
       "prompt_number": 13,
       "text": [
        "int"
       ]
      }
     ],
     "prompt_number": 13
    },
    {
     "cell_type": "markdown",
     "metadata": {
      "slideshow": {
       "slide_type": "slide"
      }
     },
     "source": [
      "<p>2. Gegeben ist: c = \"hallo\"<br/>\n",
      "Verwandeln Sie den Datentyp von c in einen Wahrheitswert. Welchen Ausgangswert muss c wohl haben, damit der Wahrheitswert False lautet? "
     ]
    },
    {
     "cell_type": "code",
     "collapsed": false,
     "input": [
      "c = \"hallo\"\n",
      "d = bool (c)\n",
      "type(d)"
     ],
     "language": "python",
     "metadata": {
      "slideshow": {
       "slide_type": "fragment"
      }
     },
     "outputs": [
      {
       "metadata": {},
       "output_type": "pyout",
       "prompt_number": 14,
       "text": [
        "bool"
       ]
      }
     ],
     "prompt_number": 14
    },
    {
     "cell_type": "code",
     "collapsed": false,
     "input": [
      "bool (\"a\")"
     ],
     "language": "python",
     "metadata": {
      "slideshow": {
       "slide_type": "fragment"
      }
     },
     "outputs": [
      {
       "metadata": {},
       "output_type": "pyout",
       "prompt_number": 15,
       "text": [
        "True"
       ]
      }
     ],
     "prompt_number": 15
    },
    {
     "cell_type": "code",
     "collapsed": false,
     "input": [
      "bool (\"\")"
     ],
     "language": "python",
     "metadata": {
      "slideshow": {
       "slide_type": "fragment"
      }
     },
     "outputs": [
      {
       "metadata": {},
       "output_type": "pyout",
       "prompt_number": 16,
       "text": [
        "False"
       ]
      }
     ],
     "prompt_number": 16
    },
    {
     "cell_type": "markdown",
     "metadata": {
      "slideshow": {
       "slide_type": "slide"
      }
     },
     "source": [
      "<p>3. Versuchen sie c nach int zu casten"
     ]
    },
    {
     "cell_type": "code",
     "collapsed": false,
     "input": [
      "c = \"hallo\"\n",
      "int(c)"
     ],
     "language": "python",
     "metadata": {
      "slideshow": {
       "slide_type": "fragment"
      }
     },
     "outputs": [
      {
       "ename": "ValueError",
       "evalue": "invalid literal for int() with base 10: 'hallo'",
       "output_type": "pyerr",
       "traceback": [
        "\u001b[0;31m---------------------------------------------------------------------------\u001b[0m\n\u001b[0;31mValueError\u001b[0m                                Traceback (most recent call last)",
        "\u001b[0;32m<ipython-input-17-e2401aa1513e>\u001b[0m in \u001b[0;36m<module>\u001b[0;34m()\u001b[0m\n\u001b[1;32m      1\u001b[0m \u001b[0mc\u001b[0m \u001b[0;34m=\u001b[0m \u001b[0;34m\"hallo\"\u001b[0m\u001b[0;34m\u001b[0m\u001b[0m\n\u001b[0;32m----> 2\u001b[0;31m \u001b[0mint\u001b[0m\u001b[0;34m(\u001b[0m\u001b[0mc\u001b[0m\u001b[0;34m)\u001b[0m\u001b[0;34m\u001b[0m\u001b[0m\n\u001b[0m",
        "\u001b[0;31mValueError\u001b[0m: invalid literal for int() with base 10: 'hallo'"
       ]
      }
     ],
     "prompt_number": 17
    },
    {
     "cell_type": "heading",
     "level": 2,
     "metadata": {
      "slideshow": {
       "slide_type": "slide"
      }
     },
     "source": [
      "Datenstrukturen: Listen, Strings als Listen, Dictionaries\n"
     ]
    },
    {
     "cell_type": "markdown",
     "metadata": {
      "slideshow": {
       "slide_type": "slide"
      }
     },
     "source": [
      "<h3>Datenstruktur: Liste</h3>\n",
      "<img src=\"files/images/liste1.png\" width=\"50%\" height=\"50%\" border=\"0\" alt=\"\">    "
     ]
    },
    {
     "cell_type": "markdown",
     "metadata": {
      "slideshow": {
       "slide_type": "slide"
      }
     },
     "source": [
      "<h3>Listen - ein Beispiel<h3>\n",
      "<img src=\"files/images/liste2.png\" width=\"50%\" height=\"50%\" border=\"0\" alt=\"\">    "
     ]
    },
    {
     "cell_type": "code",
     "collapsed": false,
     "input": [
      "thinkers = ['Marx','Freud', 'Popper','Foucault']\n",
      "thinkers[1]\n"
     ],
     "language": "python",
     "metadata": {
      "slideshow": {
       "slide_type": "fragment"
      }
     },
     "outputs": []
    },
    {
     "cell_type": "markdown",
     "metadata": {
      "slideshow": {
       "slide_type": "slide"
      }
     },
     "source": [
      "<h3>Slicing - Listen bearbeiten</h3>\n",
      "<p>Achtung: beim Slicen: erster Index ist eingeschlossen, letzter ausgeschlossen. thinkers[1:3] bedeutet also: der Inhalt von thinkers[1] und thinkers[2] aber nicht mehr von [3]\n",
      "\n",
      "<img src=\"files/images/liste2.png\" width=\"50%\" height=\"50%\" border=\"0\" alt=\"\">    "
     ]
    },
    {
     "cell_type": "code",
     "collapsed": false,
     "input": [
      "thinkers[1:3]     #\u2018slicing\u2018 "
     ],
     "language": "python",
     "metadata": {
      "slideshow": {
       "slide_type": "fragment"
      }
     },
     "outputs": []
    },
    {
     "cell_type": "code",
     "collapsed": false,
     "input": [
      "thinkers[:2]"
     ],
     "language": "python",
     "metadata": {
      "slideshow": {
       "slide_type": "fragment"
      }
     },
     "outputs": []
    },
    {
     "cell_type": "code",
     "collapsed": false,
     "input": [
      "thinkers[2:]"
     ],
     "language": "python",
     "metadata": {
      "slideshow": {
       "slide_type": "fragment"
      }
     },
     "outputs": []
    },
    {
     "cell_type": "markdown",
     "metadata": {
      "slideshow": {
       "slide_type": "slide"
      }
     },
     "source": [
      "<h3>Variablen, Liste sortieren</h3>\n",
      "<img src=\"files/images/liste2.png\" width=\"30%\" height=\"30%\" border=\"0\" alt=\"\">    "
     ]
    },
    {
     "cell_type": "code",
     "collapsed": false,
     "input": [
      "start = 1                           # slicing mit Variablen\n",
      "thinkers[start:3]"
     ],
     "language": "python",
     "metadata": {
      "slideshow": {
       "slide_type": "fragment"
      }
     },
     "outputs": []
    },
    {
     "cell_type": "code",
     "collapsed": false,
     "input": [
      "sorted (thinkers)           #sortiert die Liste"
     ],
     "language": "python",
     "metadata": {
      "slideshow": {
       "slide_type": "fragment"
      }
     },
     "outputs": []
    },
    {
     "cell_type": "code",
     "collapsed": false,
     "input": [
      "thinkers                    # Achtung: Liste wird nicht ver\u00e4ndert!"
     ],
     "language": "python",
     "metadata": {
      "slideshow": {
       "slide_type": "fragment"
      }
     },
     "outputs": []
    },
    {
     "cell_type": "markdown",
     "metadata": {
      "slideshow": {
       "slide_type": "slide"
      }
     },
     "source": [
      "<h3>Listen - Funktionen</h3>\n",
      "<img src=\"files/images/liste2.png\" width=\"30%\" height=\"30%\" border=\"0\" alt=\"\">    "
     ]
    },
    {
     "cell_type": "code",
     "collapsed": false,
     "input": [
      "thinkers = ['Marx','Freud', 'Popper','Foucault']\n",
      "len(thinkers)                                  #gibt L\u00e4nge der Liste aus"
     ],
     "language": "python",
     "metadata": {
      "slideshow": {
       "slide_type": "fragment"
      }
     },
     "outputs": []
    },
    {
     "cell_type": "code",
     "collapsed": true,
     "input": [
      "thinkers = ['Marx','Freud', 'Popper','Foucault']\n",
      "thinkers[1] = \"Turing\"          #weist Listenplatz [1] einen neuen Wert zu\n",
      "thinkers.append('Luhmann')      #h\u00e4ngt einen neuen Eintrag an   \n",
      "thinkers"
     ],
     "language": "python",
     "metadata": {
      "slideshow": {
       "slide_type": "fragment"
      }
     },
     "outputs": []
    },
    {
     "cell_type": "code",
     "collapsed": false,
     "input": [
      "new_thinkers = []                                              # definiert leere Liste\n",
      "new_thinkers"
     ],
     "language": "python",
     "metadata": {
      "slideshow": {
       "slide_type": "fragment"
      }
     },
     "outputs": []
    },
    {
     "cell_type": "code",
     "collapsed": false,
     "input": [
      "new_thinkers.append(\"von Neumann\")\n",
      "new_thinkers"
     ],
     "language": "python",
     "metadata": {
      "slideshow": {
       "slide_type": "fragment"
      }
     },
     "outputs": []
    },
    {
     "cell_type": "code",
     "collapsed": false,
     "input": [
      "\"Marx\" in thinkers             # testet, ob das Element 'Marx' in der Liste thinkers enthalten ist."
     ],
     "language": "python",
     "metadata": {},
     "outputs": []
    },
    {
     "cell_type": "markdown",
     "metadata": {
      "slideshow": {
       "slide_type": "slide"
      }
     },
     "source": [
      "<h3 style=\"color:green\">Aufgaben</h3>\n",
      "<ol style=\"color:green\">\n",
      "<li>Erzeugen Sie eine Liste mit dem Namen 'romane', die die Titel von 4 Romanen enth\u00e4lt.\n",
      "<li>Geben Sie alle Titel aus\n",
      "<li>Geben Sie nur den ersten Titel aus.\n",
      "<li>Geben Sie den 3. und den 4. Titel aus.\n",
      "<li>H\u00e4ngen Sie den Namen eines weiteren Romans an die Liste an.\n",
      "<li>Sortieren Sie die Namen nach dem Alphabet\n",
      "<li>Ersetzen Sie den ersten Namen durch einen neuen\n",
      "<li>Testen Sie, ob \"Effi Briest\" in der Liste enthalten ist.\n",
      "<ol>"
     ]
    },
    {
     "cell_type": "markdown",
     "metadata": {
      "slideshow": {
       "slide_type": "slide"
      }
     },
     "source": [
      "<h3>Musterl\u00f6sung</h3>"
     ]
    },
    {
     "cell_type": "markdown",
     "metadata": {
      "slideshow": {
       "slide_type": "slide"
      }
     },
     "source": [
      "\n",
      "\n",
      "1) Erzeugen Sie eine Liste mit dem Namen 'romane', die die Titel von 4 Romanen enth\u00e4lt."
     ]
    },
    {
     "cell_type": "code",
     "collapsed": false,
     "input": [
      "novels = [\"Wahlverwandtschaften\",\"Effi Briest\",\"Buddenbrooks\",\"Der Proze\u00df\"]"
     ],
     "language": "python",
     "metadata": {
      "slideshow": {
       "slide_type": "fragment"
      }
     },
     "outputs": []
    },
    {
     "cell_type": "markdown",
     "metadata": {
      "slideshow": {
       "slide_type": "slide"
      }
     },
     "source": [
      "2) Geben Sie alle Titel aus"
     ]
    },
    {
     "cell_type": "code",
     "collapsed": false,
     "input": [
      "novels"
     ],
     "language": "python",
     "metadata": {
      "slideshow": {
       "slide_type": "fragment"
      }
     },
     "outputs": []
    },
    {
     "cell_type": "markdown",
     "metadata": {
      "slideshow": {
       "slide_type": "slide"
      }
     },
     "source": [
      "3) Geben Sie nur den ersten Titel aus."
     ]
    },
    {
     "cell_type": "code",
     "collapsed": false,
     "input": [
      "novels[0]"
     ],
     "language": "python",
     "metadata": {
      "slideshow": {
       "slide_type": "fragment"
      }
     },
     "outputs": [
      {
       "ename": "NameError",
       "evalue": "name 'novels' is not defined",
       "output_type": "pyerr",
       "traceback": [
        "\u001b[0;31m---------------------------------------------------------------------------\u001b[0m\n\u001b[0;31mNameError\u001b[0m                                 Traceback (most recent call last)",
        "\u001b[0;32m<ipython-input-18-10109d1ba097>\u001b[0m in \u001b[0;36m<module>\u001b[0;34m()\u001b[0m\n\u001b[0;32m----> 1\u001b[0;31m \u001b[0mnovels\u001b[0m\u001b[0;34m[\u001b[0m\u001b[0;36m0\u001b[0m\u001b[0;34m]\u001b[0m\u001b[0;34m\u001b[0m\u001b[0m\n\u001b[0m",
        "\u001b[0;31mNameError\u001b[0m: name 'novels' is not defined"
       ]
      }
     ],
     "prompt_number": 18
    },
    {
     "cell_type": "markdown",
     "metadata": {
      "slideshow": {
       "slide_type": "slide"
      }
     },
     "source": [
      "4) Geben Sie den 3. und den 4. Titel aus."
     ]
    },
    {
     "cell_type": "code",
     "collapsed": false,
     "input": [
      "novels[2:4]"
     ],
     "language": "python",
     "metadata": {
      "slideshow": {
       "slide_type": "fragment"
      }
     },
     "outputs": []
    },
    {
     "cell_type": "markdown",
     "metadata": {
      "slideshow": {
       "slide_type": "slide"
      }
     },
     "source": [
      "5) H\u00e4ngen Sie den Namen eines weiteren Romans an die Liste an."
     ]
    },
    {
     "cell_type": "code",
     "collapsed": false,
     "input": [
      "novels.append(\"Soll und Haben\")\n",
      "novels"
     ],
     "language": "python",
     "metadata": {
      "slideshow": {
       "slide_type": "fragment"
      }
     },
     "outputs": []
    },
    {
     "cell_type": "markdown",
     "metadata": {
      "slideshow": {
       "slide_type": "slide"
      }
     },
     "source": [
      "6) Sortieren Sie die Namen nach dem Alphabet"
     ]
    },
    {
     "cell_type": "code",
     "collapsed": false,
     "input": [
      "sorted(novels)"
     ],
     "language": "python",
     "metadata": {
      "slideshow": {
       "slide_type": "fragment"
      }
     },
     "outputs": []
    },
    {
     "cell_type": "markdown",
     "metadata": {
      "slideshow": {
       "slide_type": "slide"
      }
     },
     "source": [
      "7) Ersetzen Sie den ersten Namen durch einen neuen"
     ]
    },
    {
     "cell_type": "code",
     "collapsed": false,
     "input": [
      "novels[0] = \"Der Mann ohne Eigenschaften\"\n",
      "novels"
     ],
     "language": "python",
     "metadata": {
      "slideshow": {
       "slide_type": "fragment"
      }
     },
     "outputs": []
    },
    {
     "cell_type": "markdown",
     "metadata": {
      "slideshow": {
       "slide_type": "slide"
      }
     },
     "source": [
      "8) Testen Sie, ob \"Effi Briest\" in der Liste enthalten ist."
     ]
    },
    {
     "cell_type": "code",
     "collapsed": false,
     "input": [
      "\"Effi Briest\" in novels"
     ],
     "language": "python",
     "metadata": {
      "slideshow": {
       "slide_type": "fragment"
      }
     },
     "outputs": []
    },
    {
     "cell_type": "markdown",
     "metadata": {
      "slideshow": {
       "slide_type": "slide"
      }
     },
     "source": [
      "<h3>Strings als Listen</h3>\n",
      "<p>Strings teilen mit Listen gewisse Eigenschaften, z.B. kann man Strings \u00fcber ihren Index ansprechen:"
     ]
    },
    {
     "cell_type": "code",
     "collapsed": false,
     "input": [
      "s = \"Hausaufgabe\"\n",
      "print(s[0])\n",
      "print(s[4:])\n",
      "\n"
     ],
     "language": "python",
     "metadata": {
      "slideshow": {
       "slide_type": "fragment"
      }
     },
     "outputs": []
    },
    {
     "cell_type": "markdown",
     "metadata": {
      "slideshow": {
       "slide_type": "slide"
      }
     },
     "source": [
      "<h3>Strings als Listen 2</h3>\n",
      "<p>Strings k\u00f6nnen sortiert werden:"
     ]
    },
    {
     "cell_type": "code",
     "collapsed": false,
     "input": [
      "sorted(s)\n",
      "['H', 'a', 'a', 'a', 'b', 'e', 'f', 'g', 's', 'u', 'u']"
     ],
     "language": "python",
     "metadata": {
      "slideshow": {
       "slide_type": "fragment"
      }
     },
     "outputs": []
    },
    {
     "cell_type": "markdown",
     "metadata": {
      "slideshow": {
       "slide_type": "fragment"
      }
     },
     "source": [
      "Die L\u00e4nge von Strings kann ebenso ausgegen werden wie die von Listen:"
     ]
    },
    {
     "cell_type": "code",
     "collapsed": false,
     "input": [
      "len(s)"
     ],
     "language": "python",
     "metadata": {
      "slideshow": {
       "slide_type": "fragment"
      }
     },
     "outputs": []
    },
    {
     "cell_type": "markdown",
     "metadata": {
      "slideshow": {
       "slide_type": "fragment"
      }
     },
     "source": [
      "Aber Strings sind unver\u00e4nderlich, d.h. man kann nichts einf\u00fcgen oder anh\u00e4ngen:"
     ]
    },
    {
     "cell_type": "code",
     "collapsed": false,
     "input": [
      "s.append(\"en\")  # erzeugt einen Fehler!"
     ],
     "language": "python",
     "metadata": {
      "slideshow": {
       "slide_type": "fragment"
      }
     },
     "outputs": []
    },
    {
     "cell_type": "markdown",
     "metadata": {
      "slideshow": {
       "slide_type": "slide"
      }
     },
     "source": [
      "<h3 style=\"color: green\">Aufgaben</h3>\n",
      "<div style=\"color: green\">\n",
      "<code style=\"color: green\"> s = \"Kleine Kinder\"</code>\n",
      "<ol>\n",
      "<li> Geben Sie das \u201aK\u2018 von \u201aKinder\u2018 aus\n",
      "<li> Schneiden Sie \u201aKinder\u2018 aus dem String \n",
      "<li> Geben Sie das folgende in Idle ein:<br/>\n",
      "<code style=\"color: green\">a = [\"Kind\",\"Name\",\"Hund\"]</code><br/>\n",
      "<code style=\"color: green\">a[0][0]</code>\n",
      "<li>Wie sieht das Ergebnis aus? Erkl\u00e4ren Sie das Ergebnis. Probieren Sie weitere Kombinationen. \n",
      "<li> Wie k\u00f6nnte man aus \u2018Hund\u2019 \u2018Hand\u2019 machen? (Verwenden Sie bei der Zuweisung den Wert aus der Liste)\n",
      "</ol><div>\n"
     ]
    },
    {
     "cell_type": "markdown",
     "metadata": {
      "slideshow": {
       "slide_type": "slide"
      }
     },
     "source": [
      "<h3 style=\"color: green\">Musterl\u00f6sung</h3>\n",
      "<div style=\"color: green\">\n",
      "<code style=\"color: green\"> s = \"Kleine Kinder\"</code>\n",
      "<ol>\n",
      "<li> Geben Sie das \u201aK\u2018 von \u201aKinder\u2018 aus\n",
      "</ol><div>\n"
     ]
    },
    {
     "cell_type": "code",
     "collapsed": false,
     "input": [
      "s = \"Kleine Kinder\"\n",
      "s[7]"
     ],
     "language": "python",
     "metadata": {
      "slideshow": {
       "slide_type": "fragment"
      }
     },
     "outputs": []
    },
    {
     "cell_type": "code",
     "collapsed": false,
     "input": [
      "2. Schneiden Sie \u201aKinder\u2018 aus dem String "
     ],
     "language": "python",
     "metadata": {
      "slideshow": {
       "slide_type": "fragment"
      }
     },
     "outputs": []
    },
    {
     "cell_type": "code",
     "collapsed": false,
     "input": [
      "s[7:]"
     ],
     "language": "python",
     "metadata": {
      "slideshow": {
       "slide_type": "fragment"
      }
     },
     "outputs": []
    },
    {
     "cell_type": "markdown",
     "metadata": {},
     "source": [
      "<p> 3. Geben Sie das folgende in Idle ein:<br/>\n",
      "<code style=\"color: green\">a = [\"Kind\",\"Name\",\"Hund\"]</code><br/>\n",
      "<code style=\"color: green\">a[0][0]</code>\n",
      "<li>Wie sieht das Ergebnis aus? Erkl\u00e4ren Sie das Ergebnis. Probieren Sie weitere Kombinationen. \n"
     ]
    },
    {
     "cell_type": "code",
     "collapsed": false,
     "input": [
      "a = [\"Kind\",\"Name\",\"Hund\"]\n",
      "print (a[0])\n",
      "print (a[0][0])"
     ],
     "language": "python",
     "metadata": {
      "slideshow": {
       "slide_type": "fragment"
      }
     },
     "outputs": []
    },
    {
     "cell_type": "code",
     "collapsed": false,
     "input": [
      "4. Wie k\u00f6nnte man aus 'Hund' 'Hand' machen? (Verwenden Sie bei der Zuweisung den Wert aus der Liste) "
     ],
     "language": "python",
     "metadata": {
      "slideshow": {
       "slide_type": "fragment"
      }
     },
     "outputs": []
    },
    {
     "cell_type": "markdown",
     "metadata": {
      "slideshow": {
       "slide_type": "fragment"
      }
     },
     "source": [
      "Strings sind unver\u00e4nderlich, man kann also nicht den String ver\u00e4ndern, sondern muss das ganze Listenelement ersetzen!"
     ]
    },
    {
     "cell_type": "code",
     "collapsed": false,
     "input": [
      "a[2] = \"Hand\"\n",
      "a"
     ],
     "language": "python",
     "metadata": {
      "slideshow": {
       "slide_type": "fragment"
      }
     },
     "outputs": []
    },
    {
     "cell_type": "markdown",
     "metadata": {
      "slideshow": {
       "slide_type": "slide"
      }
     },
     "source": [
      "<h3>Datenstruktur Dictionary</h3>\n",
      "<p>Dictionaries sind Sammlungen von Dateneinheiten. Jede Einheit hat einen Namen ('key') und einen Inhalt ('value'). Sie sind sehr geeignet zum schnellen Nachschlagen, wenn der key bekannt ist.\n",
      "<p>Dictionary sind unsortiert, d.h.die Einheiten liegen nicht in einer bestimmten Reihenfolge vor.\n",
      "\n",
      "<img src=\"files/images/dict1.png\" width=\"60%\" height=\"60%\" border=\"0\" alt=\"\"> "
     ]
    },
    {
     "cell_type": "markdown",
     "metadata": {
      "slideshow": {
       "slide_type": "slide"
      }
     },
     "source": [
      "<h3>Dictionaries erzeugen<h3>"
     ]
    },
    {
     "cell_type": "code",
     "collapsed": false,
     "input": [
      "#erzeugt ein Dictionary mit 3 Eintr\u00e4gen. Strings als Key mit Anf\u00fchrungszeichen. \n",
      "#Doppelpunkt zwischen Key und Value. \n",
      "#Geschweifte Klammer als Gesamtmarkierung\n",
      "titles = { \"Goethe\" : \"Faust. Eine Trag\u00f6die\", \n",
      "           \"Mann\" : \"Buddenbrooks\", \n",
      "           \"Schiller\" : \"Der Geisterseher\" }\n",
      "titles\n"
     ],
     "language": "python",
     "metadata": {
      "slideshow": {
       "slide_type": "fragment"
      }
     },
     "outputs": []
    },
    {
     "cell_type": "code",
     "collapsed": false,
     "input": [
      "#erzeugt ein Dictionary mit 3 Eintr\u00e4gen. Strings als Key ohne(!) Anf\u00fchrungszeichen. \n",
      "#Istgleich-Zeichen zwischen Key und Value. \n",
      "#dict als Type Casting.\n",
      "#Runde Klammern um den Eintrag \n",
      "titles = dict (Goethe = \"Faust. Eine Trag\u00f6die\", \n",
      "               Mann = \"Buddenbrooks\", \n",
      "               Schiller = \"Der Geisterseher\" )\n",
      "titles"
     ],
     "language": "python",
     "metadata": {
      "slideshow": {
       "slide_type": "fragment"
      }
     },
     "outputs": []
    },
    {
     "cell_type": "markdown",
     "metadata": {
      "slideshow": {
       "slide_type": "slide"
      }
     },
     "source": [
      "<h3>Dictionary: Werte hinzuf\u00fcgen</h3>"
     ]
    },
    {
     "cell_type": "code",
     "collapsed": false,
     "input": [
      "titles[\"Kafka\"] = \"Der Proze\u00df\"               #f\u00fcgt weiteren Wert hinzu\n",
      "titles\n"
     ],
     "language": "python",
     "metadata": {
      "slideshow": {
       "slide_type": "fragment"
      }
     },
     "outputs": []
    },
    {
     "cell_type": "markdown",
     "metadata": {
      "slideshow": {
       "slide_type": "slide"
      }
     },
     "source": [
      "<h3>Dictionaries: keys</h3>\n",
      "<p>Keys m\u00fcssen hashable sein, d.h. vor allem unver\u00e4nderbar, z.B. Zahlen, Strings etc.    (also keine Listen und keine Dictionaries)\n"
     ]
    },
    {
     "cell_type": "code",
     "collapsed": false,
     "input": [
      "a = \"hallo\"\n",
      "d  = { a : 1 }        # dictionary mit string als key\n",
      "a = 1\n",
      "d  =  { a : 1 }       # dictionary mit int als key\n",
      "a = [1,2,3]         \n",
      "#d  = { a : 1 }        # dictionary mit liste als key erzeugt einen Error"
     ],
     "language": "python",
     "metadata": {
      "slideshow": {
       "slide_type": "fragment"
      }
     },
     "outputs": []
    },
    {
     "cell_type": "markdown",
     "metadata": {
      "slideshow": {
       "slide_type": "slide"
      }
     },
     "source": [
      "<h3>Dictionaries: values</h3>\n",
      "<p>Values k\u00f6nnen beliebige Objekte sein, also wirklich alles (da in Python alles ein Objekt ist)\n"
     ]
    },
    {
     "cell_type": "code",
     "collapsed": false,
     "input": [
      "d = { \"a\" : \"hallo\"}              #value ist ein String. \n",
      "d[\"a\"]\n"
     ],
     "language": "python",
     "metadata": {
      "slideshow": {
       "slide_type": "fragment"
      }
     },
     "outputs": []
    },
    {
     "cell_type": "code",
     "collapsed": false,
     "input": [
      "d = { \"a\" : [1,2,3,4] }           #value ist eine Liste \n",
      "d[\"a\"]\n"
     ],
     "language": "python",
     "metadata": {
      "slideshow": {
       "slide_type": "fragment"
      }
     },
     "outputs": []
    },
    {
     "cell_type": "code",
     "collapsed": false,
     "input": [
      "d[\"a\"][1]\n"
     ],
     "language": "python",
     "metadata": {
      "slideshow": {
       "slide_type": "fragment"
      }
     },
     "outputs": []
    },
    {
     "cell_type": "code",
     "collapsed": false,
     "input": [
      "d = { \"a\" : len }                  #value ist eine Funktion - eher ungew\u00f6hnliche Verwendung\n",
      "d[\"a\"](\"hallo\")\n"
     ],
     "language": "python",
     "metadata": {
      "slideshow": {
       "slide_type": "fragment"
      }
     },
     "outputs": []
    },
    {
     "cell_type": "markdown",
     "metadata": {
      "slideshow": {
       "slide_type": "slide"
      }
     },
     "source": [
      "<h3 style=\"color: green\">Aufgaben</h3>\n",
      "<div style=\"color: green\">\n",
      "<ol>\n",
      "<li>Erzeugen Sie ein Dictionary mit 4 Eintr\u00e4gen, das als Key den Namen eines Landes enth\u00e4lt und als Value die Hauptstadt. Ein Eintrag lautet: Deutschland - Bonn.\n",
      "<li>F\u00fcgen sie dem Dictionary einen weiteren Eintrag hinzu: Frankreich - Paris.\n",
      "<li>Geben Sie die Hauptstadt von Deutschland aus.\n",
      "<li>Korrigieren Sie den Eintrag f\u00fcr Deutschland und setzen den value auf 'Berlin'\n",
      "<li>Verwenden Sie ein Dictionary, um ein kleines Telefonbuch anzulegen. Jedem der Namen sind <b>zwei</b> Nummern zugeordnet (Heim, Office): Maria: 555-1234 und 555-9999, Sepp: 555-5678 und 555-8888, Jo: 5555-1526 und 555-7777. \n",
      "<li>Listen Sie aus ihrem Telefonbuch den Heimanschluss f\u00fcr Maria auf.\n",
      "</ol>\n",
      "\n",
      "</div>"
     ]
    },
    {
     "cell_type": "markdown",
     "metadata": {
      "slideshow": {
       "slide_type": "slide"
      }
     },
     "source": [
      "<h3>Dictionaries: Funktionen</h3>"
     ]
    },
    {
     "cell_type": "code",
     "collapsed": false,
     "input": [
      "d = {\"a\" : 1, \"b\" : 2 , \"c\" : 5}\n",
      "del d[\"c\"]    #del d [mkey] l\u00f6scht den Eintrag im Dictionary, der den key mkey hat.\n",
      "d"
     ],
     "language": "python",
     "metadata": {
      "slideshow": {
       "slide_type": "fragment"
      }
     },
     "outputs": []
    },
    {
     "cell_type": "code",
     "collapsed": false,
     "input": [
      "d.keys()   # gibt die keys des dictionaries d aus"
     ],
     "language": "python",
     "metadata": {
      "slideshow": {
       "slide_type": "fragment"
      }
     },
     "outputs": []
    },
    {
     "cell_type": "code",
     "collapsed": false,
     "input": [
      "titles.keys()"
     ],
     "language": "python",
     "metadata": {
      "slideshow": {
       "slide_type": "fragment"
      }
     },
     "outputs": []
    },
    {
     "cell_type": "markdown",
     "metadata": {
      "slideshow": {
       "slide_type": "fragment"
      }
     },
     "source": [
      "<p>Die Klasse dict_keys sieht zwar aus wie eine Liste und funktioniert auch \u00e4hnlich, aber wenn wir auf einen bestimmten Index zugreifen wollen, m\u00fcssen wir vorher eine Liste daraus machen (Type Casting!)."
     ]
    },
    {
     "cell_type": "code",
     "collapsed": false,
     "input": [
      "names = list(titles.keys())\n",
      "names[1]"
     ],
     "language": "python",
     "metadata": {
      "slideshow": {
       "slide_type": "fragment"
      }
     },
     "outputs": []
    },
    {
     "cell_type": "markdown",
     "metadata": {
      "slideshow": {
       "slide_type": "slide"
      }
     },
     "source": [
      "<h3 >Dictionaries: auf Inhalte testen</h3>\n",
      "<p> Mit <code>key in d</code> kann man testen, ob der key in dem Dictionary d enthalten ist. Wenn er vorhanden ist, wird True zur\u00fcckgegeben, sonst False. \n",
      "<p>Das Gegenst\u00fcck ist <code>key not in d</code>, das True zur\u00fcckgibt, wenn der key nicht in dem Dictionary enthalten ist."
     ]
    },
    {
     "cell_type": "code",
     "collapsed": false,
     "input": [
      "titles = {\"Goethe\": \"Faust. Eine Trag\u00f6die\", \"Mann\": \"Buddenbrooks\", \"Schiller\": \"Der Geisterseher\"}\n",
      "\"Mann\" in titles"
     ],
     "language": "python",
     "metadata": {
      "slideshow": {
       "slide_type": "fragment"
      }
     },
     "outputs": []
    },
    {
     "cell_type": "code",
     "collapsed": false,
     "input": [
      "\"Hesse\" not in titles"
     ],
     "language": "python",
     "metadata": {
      "slideshow": {
       "slide_type": "fragment"
      }
     },
     "outputs": []
    },
    {
     "cell_type": "markdown",
     "metadata": {
      "slideshow": {
       "slide_type": "slide"
      }
     },
     "source": [
      "<h3 style=\"color:green\">Aufgaben </h3>\n",
      "<ol style=\"color:green\">\n",
      "\n",
      "<li>Listen Sie alle Hauptst\u00e4dte auf (als Liste).\n",
      "<li>Ersetzen Sie in der Liste der literarischen Texte \"Der Geisterseher\" mit \"Wallenstein\".\n",
      "<li>L\u00f6schen Sie Frankreich aus dem Dictionary.\n",
      "<li>Testen Sie, ob Italien in der Hauptstadtliste steht.\n",
      "<li>Testen Sie, ob Berlin <b>als value</b> in der Hauptstadtliste steht. \n",
      "\n",
      "</ol>\n"
     ]
    },
    {
     "cell_type": "markdown",
     "metadata": {
      "slideshow": {
       "slide_type": "slide"
      }
     },
     "source": [
      "<h3>Liste und Dictionaries</h3>\n",
      "<p>Listen und Dictionaries enthalten \u00fcblicherweise immer Elemente des gleichen Typs, so dass alle Elemente gleich verarbeitet werden k\u00f6nnen. Welche Datenstruktur f\u00fcr welche Aufgabe besser geeignet ist, ergibt sich aus der Art der Verarbeitung. Listen sind hervorragend geeignet, wenn alle ihre Elemente durchlaufen werden sollen, um alle oder einige (evtl. von Bedingungen) zu bearbeiten. Da Listen ihre Struktur behalten, also die Elemente immer in der gleichen Folge vorliegen, sind sie auch besonders geeignet, wenn die Reihenfolge der Elemente eine Rolle spielt. \n",
      "<p>Dictionaries sind besonders geeignet, wenn der bevorzugte Zugriff auf die Elemente nicht \u00fcber eine einfache Positionsinformation geschehen soll wie bei der Liste. \n",
      "<p>Sie werden noch viele weitere Datenstrukturen kennenlernen und auch lernen, eigene zu konstruieren. Machen Sie sich immer klar, welche Datenstruktur f\u00fcr die zu l\u00f6sende Aufgabe notwendig ist. Denken Sie \u00fcber ihr Programm nach, indem sie sich fragen, wie sieht meine Datenstruktur aus und wie muss ich sie bef\u00fcllen und auslesen.\n"
     ]
    },
    {
     "cell_type": "markdown",
     "metadata": {
      "slideshow": {
       "slide_type": "slide"
      }
     },
     "source": [
      "<h3 style=\"color:green\">Aufgaben </h3>\n",
      "<ol style=\"color:green\">\n",
      "<li>Sie wollen ein einfaches Telefonbuch anlegen, nur Nachnamen und Nummer. Was ist die beste Datenstruktur? \n",
      "<li>Sie wollen die W\u00f6rter eines Textes auflisten. Welche der Datenstrukturen eignet sich daf\u00fcr?\n",
      "<li>Sie wollen die W\u00f6rter eines Textes und ihre Frequenz auflisten. Diskutieren Sie m\u00f6gliche L\u00f6sungen. Testen Sie eine in Idle. Was erscheint Ihnen die beste L\u00f6sung?\n",
      "<li>Sie wollen die Tages-Temperaturen der europ\u00e4ischen Hauptst\u00e4dte in den letzten 4 Wochen speichern. Was w\u00e4ren m\u00f6gliche L\u00f6sungen? Testen Sie eine mit wenigen Spieldaten in Idle. Was w\u00e4re eine perfekte L\u00f6sung?  \n",
      "</ol>\n"
     ]
    },
    {
     "cell_type": "markdown",
     "metadata": {
      "slideshow": {
       "slide_type": "slide"
      }
     },
     "source": [
      "<h3 style=\"color:green\">Hausaufgaben</h3>\n",
      "<p style=\"color:green\">Die Gemeinsame Normdatei der Deutschen Nationalbibliothek verzeichnet historische Personen, Ortsnamen usw. Jeder Eintrag hat eine einzigartige Nummer (id). In unserer vereinfachten Version besteht ein Eintrag aus 1. der id, 2. dem Namen, 3. einem kleinen Text zur Person oder dem Ort. \n",
      "<ol style=\"color:green\">\n",
      "<li>Definieren Sie 4 Test-Eintr\u00e4ge und holen Sie sich von der GND die richtigen GND-Nummern daf\u00fcr. \n",
      "<li>Geben Sie durch Angabe der Nummer den Eintrag aus. \n",
      "<li>F\u00fcgen Sie einen weiteren Eintrag hinzu.\n",
      "<li>Geben Sie alle GND-Nummern aus.\n",
      "<li>Geben Sie mit Verwendung einer GND-Nummer (nur) den Namen aus. \n",
      "<li>Geben Sie mit Verwendung einer GND-Nummer (nur) den  Text aus. \n",
      "\n",
      "</ol>"
     ]
    },
    {
     "cell_type": "code",
     "collapsed": false,
     "input": [],
     "language": "python",
     "metadata": {},
     "outputs": []
    }
   ],
   "metadata": {}
  }
 ]
}