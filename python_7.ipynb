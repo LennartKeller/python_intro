{
 "metadata": {
  "name": ""
 },
 "nbformat": 3,
 "nbformat_minor": 0,
 "worksheets": [
  {
   "cells": [
    {
     "cell_type": "markdown",
     "metadata": {
      "slideshow": {
       "slide_type": "slide"
      }
     },
     "source": [
      "<h3 style=\"color:green\">Hausaufgaben</h3>\n",
      "<p>1) Schreiben Sie eine Methode 'utf82local', die als Argument einen Dateinamen nimmt, die Datei als utf-8 \u00f6ffnet und im lokalen Format abspeichert. Die gespeicherte Datei tr\u00e4gt statt '.txt' die Endung '.loc'.\n",
      "</p>\n"
     ]
    },
    {
     "cell_type": "code",
     "collapsed": false,
     "input": [
      "def utf2local(filename):\n",
      "    content = \"\"\n",
      "    with open (filename, \"r\", encoding=\"utf-8\") as fin:\n",
      "        content = fin.read(None)\n",
      "    with open (filename[:-3]+\"loc\", \"w\") as fout:\n",
      "        fout.write(content)\n",
      "\n",
      "utf2local(\"roman.txt\")"
     ],
     "language": "python",
     "metadata": {
      "slideshow": {
       "slide_type": "fragment"
      }
     },
     "outputs": [],
     "prompt_number": 2
    },
    {
     "cell_type": "markdown",
     "metadata": {
      "slideshow": {
       "slide_type": "slide"
      }
     },
     "source": [
      "<p>2) Schreiben Sie in die Datei numbers.txt alle Zahlen von 1-1000 (getrennt durch \u201a-\u2018. Machen Sie jeweils nach 99, 199 usw. einen Zeilenumbruch.\n",
      "</p>"
     ]
    },
    {
     "cell_type": "code",
     "collapsed": false,
     "input": [
      "with open (\"numbers.txt\", \"w\") as fout:\n",
      "    for n in range(1, 1001):\n",
      "        if n % 100 == 0:\n",
      "            fout.write(\"\\n\")\n",
      "        fout.write(str(n) + \"-\")"
     ],
     "language": "python",
     "metadata": {
      "slideshow": {
       "slide_type": "fragment"
      }
     },
     "outputs": [],
     "prompt_number": 5
    },
    {
     "cell_type": "markdown",
     "metadata": {
      "slideshow": {
       "slide_type": "slide"
      }
     },
     "source": [
      "<p>3) Lassen Sie sich aus der Datei numbers.txt nur die Zeilen anzeigen, die die Nummern 345 und 786 enthalten.\n",
      "</p>"
     ]
    },
    {
     "cell_type": "code",
     "collapsed": false,
     "input": [
      "with open(\"numbers.txt\", \"r\") as fin:\n",
      "    for l in fin:\n",
      "        if \"345\" in l or \"786\" in l:\n",
      "            print (l)"
     ],
     "language": "python",
     "metadata": {
      "slideshow": {
       "slide_type": "fragment"
      }
     },
     "outputs": [
      {
       "output_type": "stream",
       "stream": "stdout",
       "text": [
        "300-301-302-303-304-305-306-307-308-309-310-311-312-313-314-315-316-317-318-319-320-321-322-323-324-325-326-327-328-329-330-331-332-333-334-335-336-337-338-339-340-341-342-343-344-345-346-347-348-349-350-351-352-353-354-355-356-357-358-359-360-361-362-363-364-365-366-367-368-369-370-371-372-373-374-375-376-377-378-379-380-381-382-383-384-385-386-387-388-389-390-391-392-393-394-395-396-397-398-399-\n",
        "\n",
        "700-701-702-703-704-705-706-707-708-709-710-711-712-713-714-715-716-717-718-719-720-721-722-723-724-725-726-727-728-729-730-731-732-733-734-735-736-737-738-739-740-741-742-743-744-745-746-747-748-749-750-751-752-753-754-755-756-757-758-759-760-761-762-763-764-765-766-767-768-769-770-771-772-773-774-775-776-777-778-779-780-781-782-783-784-785-786-787-788-789-790-791-792-793-794-795-796-797-798-799-\n",
        "\n"
       ]
      }
     ],
     "prompt_number": 8
    },
    {
     "cell_type": "heading",
     "level": 1,
     "metadata": {
      "slideshow": {
       "slide_type": "slide"
      }
     },
     "source": [
      "7. Sitzung: Regul\u00e4re Ausdr\u00fccke"
     ]
    },
    {
     "cell_type": "markdown",
     "metadata": {
      "slideshow": {
       "slide_type": "slide"
      }
     },
     "source": [
      "<h3>Regul\u00e4re Ausdr\u00fccke</h3>\n",
      "<p>Was sind regul\u00e4re Ausdr\u00fccke? Sie beschreiben Klassen von Zeichenketten. Insbesondere werden Sie f\u00fcr die Suche und f\u00fcr Suche/Ersetze-Operationen verwendet. Sehr leistungsf\u00e4hige kleine Minisprache, die sich in fast jeder modernen  Programmiersprache findet und auch in Editoren, Textverarbeitungsprogrammen usw.</p"
     ]
    },
    {
     "cell_type": "markdown",
     "metadata": {
      "slideshow": {
       "slide_type": "slide"
      }
     },
     "source": [
      "<h3>Einfache Anf\u00e4nge</h3>"
     ]
    },
    {
     "cell_type": "code",
     "collapsed": false,
     "input": [
      "import re  #importieren die r.A. Bibliothek\n",
      "s = 'todo\\n1. Verordnung 2. \\n2. Befehl II. \\n3. Verweigerung 2. \\n4. Milit\u00e4r 101'\n",
      "print (s)  #ein String :-)"
     ],
     "language": "python",
     "metadata": {
      "slideshow": {
       "slide_type": "fragment"
      }
     },
     "outputs": [
      {
       "output_type": "stream",
       "stream": "stdout",
       "text": [
        "todo\n",
        "1. Verordnung 2. \n",
        "2. Befehl II. \n",
        "3. Verweigerung 2. \n",
        "4. Milit\u00e4r 101\n"
       ]
      }
     ],
     "prompt_number": 12
    },
    {
     "cell_type": "code",
     "collapsed": false,
     "input": [
      "re.findall(\"Ver\",s) "
     ],
     "language": "python",
     "metadata": {
      "slideshow": {
       "slide_type": "fragment"
      }
     },
     "outputs": [
      {
       "metadata": {},
       "output_type": "pyout",
       "prompt_number": 13,
       "text": [
        "['Ver', 'Ver']"
       ]
      }
     ],
     "prompt_number": 13
    },
    {
     "cell_type": "markdown",
     "metadata": {
      "slideshow": {
       "slide_type": "slide"
      }
     },
     "source": [
      "<h3>Suchen - Suchen/Ersetzen</h3>"
     ]
    },
    {
     "cell_type": "code",
     "collapsed": false,
     "input": [
      "#zur erinnerung: einfache string suche\n",
      "\"welt\" in \"hallo welt\""
     ],
     "language": "python",
     "metadata": {
      "slideshow": {
       "slide_type": "fragment"
      }
     },
     "outputs": [
      {
       "metadata": {},
       "output_type": "pyout",
       "prompt_number": 37,
       "text": [
        "True"
       ]
      }
     ],
     "prompt_number": 37
    },
    {
     "cell_type": "code",
     "collapsed": false,
     "input": [
      "#einfache ersetzung\n",
      "\"hallo welt\".replace(\"welt\", \"du\")"
     ],
     "language": "python",
     "metadata": {
      "slideshow": {
       "slide_type": "fragment"
      }
     },
     "outputs": [
      {
       "metadata": {},
       "output_type": "pyout",
       "prompt_number": 38,
       "text": [
        "'hallo du'"
       ]
      }
     ],
     "prompt_number": 38
    },
    {
     "cell_type": "markdown",
     "metadata": {
      "slideshow": {
       "slide_type": "slide"
      }
     },
     "source": [
      "<code>#regul\u00e4re Ausdr\u00fccke\n",
      "re.findall(pattern,string)</code>"
     ]
    },
    {
     "cell_type": "code",
     "collapsed": false,
     "input": [
      "import re\n",
      "re.findall(\"ha\",\"aha, das habe ich mir gedacht.\")"
     ],
     "language": "python",
     "metadata": {
      "slideshow": {
       "slide_type": "fragment"
      }
     },
     "outputs": [
      {
       "metadata": {},
       "output_type": "pyout",
       "prompt_number": 1,
       "text": [
        "['ha', 'ha']"
       ]
      }
     ],
     "prompt_number": 1
    },
    {
     "cell_type": "markdown",
     "metadata": {
      "slideshow": {
       "slide_type": "fragment"
      }
     },
     "source": [
      "<code>re.sub(pattern,replace,string)</code>"
     ]
    },
    {
     "cell_type": "code",
     "collapsed": false,
     "input": [
      "re.sub(\"ich\",\"du\",\"ich ich ich - sch\u00f6nes Wort\")"
     ],
     "language": "python",
     "metadata": {
      "slideshow": {
       "slide_type": "fragment"
      }
     },
     "outputs": [
      {
       "metadata": {},
       "output_type": "pyout",
       "prompt_number": 15,
       "text": [
        "'du du du - sch\u00f6nes Wort'"
       ]
      }
     ],
     "prompt_number": 15
    },
    {
     "cell_type": "markdown",
     "metadata": {
      "slideshow": {
       "slide_type": "slide"
      }
     },
     "source": [
      "<h3 style=\"color:green\">Aufgaben</h3>\n",
      "<p>1) Schreiben Sie einen Test, der pr\u00fcft, ob in \u201eAllerleiweile\u201c das Wort \u201aErle\u2018 vorkommt (Gro\u00df-/Kleinschreibung ignorieren)</p>"
     ]
    },
    {
     "cell_type": "markdown",
     "metadata": {
      "slideshow": {
       "slide_type": "slide"
      }
     },
     "source": [
      "<h3>Musterl\u00f6sung</h3>\n",
      "<p>Schreiben Sie einen Test, der pr\u00fcft, ob in \u201eAllerleiweile\u201c das Wort \u201aErle\u2018 vorkommt (Gro\u00df-/Kleinschreibung ignorieren)</p>"
     ]
    },
    {
     "cell_type": "code",
     "collapsed": false,
     "input": [
      "if re.findall(\"erle\", \"Allerleiweile\".lower()):\n",
      "    print (\"found\")"
     ],
     "language": "python",
     "metadata": {
      "slideshow": {
       "slide_type": "fragment"
      }
     },
     "outputs": [
      {
       "output_type": "stream",
       "stream": "stdout",
       "text": [
        "found\n"
       ]
      }
     ],
     "prompt_number": 19
    },
    {
     "cell_type": "markdown",
     "metadata": {
      "slideshow": {
       "slide_type": "slide"
      }
     },
     "source": [
      "<h3>Bestandteile von regul\u00e4ren Ausdr\u00fccken</h3>\n",
      "<ul>\n",
      "<li>Zeichenklassen<br/>z.B.  '.' (hier und im folgenden ohne '') = beliebiges Zeichen\n",
      "<li>Quantifier<br/>z.B. '+'   = 1 oder beliebig viele des vorangehenden Zeichens\u000b",
      "'ab+' matches 'ab' 'abb'  'abbbbb', aber nicht 'abab'\n",
      "<li>Positionen<br/>z.B. '^' am Anfang der Zeile\n",
      "<li>Sonstiges<br/>Gruppen (x), '|'  Oder\u201a '|', Non-greedy: ?, '\\'  Escape character\n",
      "</ul>\n",
      "\n"
     ]
    },
    {
     "cell_type": "markdown",
     "metadata": {
      "slideshow": {
       "slide_type": "slide"
      }
     },
     "source": [
      "<h3>Zeichenklassen</h3>\n",
      "<p>Die Definitionen beziehen sich jeweils auf die entsprechenden Klassifikationen in Unicode, so dass man mit der Zeichenklasse f\u00fcr Buchstaben \\\\w Buchstaben in allen Sprachen (nach Unicode) beschreibt. </p>\n",
      "<ul>\n",
      "<li>\".\"  jedes Zeichen au\u00dfer neue Zeile (\\n)\n",
      "<li>\"\\\\d\" jede Dezimalzahl, z.B. 1, 4, 0<br/>'\\\\D'  jedes Zeichen, das <b>keine</b> Dezimalzahl ist.</li>\n",
      "<li>\"\\\\s\" jedes whitespace-Zeichen, z.B. \\n \\t<br/>'\\\\S' jedes Zeichen, das <b>kein</b> whitespace ist.</li>\n",
      "<li>\"\\\\w\" jeden Buchstaben, z.B. A g \u00f6 \u00df 4 \u00e9 \u20ac \u03b1 \u0418  <br/> '\\\\W' jedes Zeichen, das <b>kein</b> Buchstabe ist.</li> \n",
      "<li>[Abc] die Zeichen 'A' oder 'b' oder 'c'. <br/>andere Beispiele: [A-z] (alle Buchstaben von A-z (ohne Umlaute!)   [A-Z] (Gro\u00dfbuchstaben ohne Umlaute) [0-9] Zahlen von 0-9  [\\dab] (alle Zahlen oder 'a' oder 'b')\n",
      "</ul>\n",
      "<p>Wenn Sie eines der Sonderzeichen, also z.B. . oder \\ suchen wollen, m\u00fcssen Sie das Escape-Zeichen verwenden: \\. Also z.B. \"\\.\" sucht einfach den Punkt.</p>\n",
      "<p>Da man h\u00e4ufig Escape-Zeichen verwenden m\u00fcsste, gibt es eine String-Notation, die das auf der ersten Ebene \u00fcberfl\u00fcssig macht: r\"string\" -- so werden im allgemeinen die Muster (pattern) in Python geschrieben."
     ]
    },
    {
     "cell_type": "markdown",
     "metadata": {
      "slideshow": {
       "slide_type": "slide"
      }
     },
     "source": [
      "<h3 style=\"color:green\">Aufgaben</h3>\n",
      "<p>Gegeben ist der String: s = \"1. Ja. 2. Nein. 3. Gut. \"</p>\n",
      "<ol>\n",
      "<li>Finden Sie alle Zahlen in dem String.</li>\n",
      "<li>Finden Sie alle Gro\u00dfbuchstaben in dem String.</li>\n",
      "<li>Finden Sie alle Leerzeichen in dem String.</li>\n",
      "<li>Ersetzen Sie 'Ja' mit 'Yes', 'Nein' mit 'No' und 'Gut' mit 'ok'.</li>\n",
      "</ol>"
     ]
    },
    {
     "cell_type": "markdown",
     "metadata": {
      "slideshow": {
       "slide_type": "slide"
      }
     },
     "source": [
      "<h3>Musterl\u00f6sung</h3>\n",
      "<p>Gegeben ist der String: s = \"1. Ja. 2. Nein. 3. Gut. \"</p>"
     ]
    },
    {
     "cell_type": "code",
     "collapsed": false,
     "input": [
      "s = \"1. Ja. 2. Nein. 3. Gut. \""
     ],
     "language": "python",
     "metadata": {
      "slideshow": {
       "slide_type": "fragment"
      }
     },
     "outputs": [],
     "prompt_number": 2
    },
    {
     "cell_type": "markdown",
     "metadata": {
      "slideshow": {
       "slide_type": "fragment"
      }
     },
     "source": [
      "<p>Finden Sie alle Zahlen in dem String.</p>"
     ]
    },
    {
     "cell_type": "code",
     "collapsed": false,
     "input": [
      "import re\n",
      "re.findall(r\"\\d\", s)"
     ],
     "language": "python",
     "metadata": {
      "slideshow": {
       "slide_type": "fragment"
      }
     },
     "outputs": [
      {
       "metadata": {},
       "output_type": "pyout",
       "prompt_number": 3,
       "text": [
        "['1', '2', '3']"
       ]
      }
     ],
     "prompt_number": 3
    },
    {
     "cell_type": "markdown",
     "metadata": {
      "slideshow": {
       "slide_type": "slide"
      }
     },
     "source": [
      "<p>Finden Sie alle Gro\u00dfbuchstaben in dem String.</p>"
     ]
    },
    {
     "cell_type": "code",
     "collapsed": false,
     "input": [
      "re.findall(r\"[A-Z\u00c4\u00d6\u00dc]\", s)"
     ],
     "language": "python",
     "metadata": {
      "slideshow": {
       "slide_type": "fragment"
      }
     },
     "outputs": [
      {
       "metadata": {},
       "output_type": "pyout",
       "prompt_number": 4,
       "text": [
        "['J', 'N', 'G']"
       ]
      }
     ],
     "prompt_number": 4
    },
    {
     "cell_type": "markdown",
     "metadata": {
      "slideshow": {
       "slide_type": "fragment"
      }
     },
     "source": [
      "<p>Finden Sie alle Leerzeichen in dem String.</p>"
     ]
    },
    {
     "cell_type": "code",
     "collapsed": false,
     "input": [
      "re.findall(r\"\\s\", s)"
     ],
     "language": "python",
     "metadata": {
      "slideshow": {
       "slide_type": "fragment"
      }
     },
     "outputs": [
      {
       "metadata": {},
       "output_type": "pyout",
       "prompt_number": 5,
       "text": [
        "[' ', ' ', ' ', ' ', ' ', ' ']"
       ]
      }
     ],
     "prompt_number": 5
    },
    {
     "cell_type": "markdown",
     "metadata": {
      "slideshow": {
       "slide_type": "slide"
      }
     },
     "source": [
      "<p>Ersetzen Sie 'Ja' mit 'Yes', 'Nein' mit 'No' und 'Gut' mit 'ok'.</p>"
     ]
    },
    {
     "cell_type": "code",
     "collapsed": false,
     "input": [
      "s = re.sub(r\"Ja\", \"Yes\", s)\n",
      "s = re.sub(r\"Nein\", \"No\", s)\n",
      "re.sub(r\"Gut\", \"ok\", s)"
     ],
     "language": "python",
     "metadata": {
      "slideshow": {
       "slide_type": "fragment"
      }
     },
     "outputs": [
      {
       "metadata": {},
       "output_type": "pyout",
       "prompt_number": 6,
       "text": [
        "'1. Yes. 2. No. 3. ok. '"
       ]
      }
     ],
     "prompt_number": 6
    },
    {
     "cell_type": "markdown",
     "metadata": {
      "slideshow": {
       "slide_type": "slide"
      }
     },
     "source": [
      "<h3>Quantifier</h3>\n",
      "<ul>\n",
      "<li>'*' matches 0 or more repetitions of the preceding character</li>\n",
      "<li>'+' matches 1 or more repetitions of the preceding character</li>\n",
      "<li>'?' matches 0 or 1 repetitions of the preceding character</li>\n",
      "<li>{n} matches exactly n repetitions of the preceding character</li>\n",
      "<li>{m,n} matches minimal m, maximal n repetitions of the preceding character</li>\n",
      "</ul>"
     ]
    },
    {
     "cell_type": "code",
     "collapsed": false,
     "input": [
      "#Beispiel\n",
      "import re\n",
      "s = \"#312d #5134h #84t #042e.\"\n",
      "re.findall(r\"#\\d+[a-z][ .]\", s)"
     ],
     "language": "python",
     "metadata": {
      "slideshow": {
       "slide_type": "fragment"
      }
     },
     "outputs": [
      {
       "metadata": {},
       "output_type": "pyout",
       "prompt_number": 7,
       "text": [
        "['#312d ', '#5134h ', '#84t ', '#042e.']"
       ]
      }
     ],
     "prompt_number": 7
    },
    {
     "cell_type": "code",
     "collapsed": false,
     "input": [
      "re.findall(r\".{2,6}[ .]\", s)"
     ],
     "language": "python",
     "metadata": {
      "slideshow": {
       "slide_type": "fragment"
      }
     },
     "outputs": [
      {
       "metadata": {},
       "output_type": "pyout",
       "prompt_number": 8,
       "text": [
        "['#312d ', '#5134h ', '#84t ', '#042e.']"
       ]
      }
     ],
     "prompt_number": 8
    },
    {
     "cell_type": "markdown",
     "metadata": {
      "slideshow": {
       "slide_type": "fragment"
      }
     },
     "source": [
      "<h3 style=\"color:green\">Aufgaben</h3>\n",
      "<code>s = 'todo\\n1. Verordnung 2. \\n2. Befehl II. \\n3. Verweigerung 2. \\n4. Milit\u00e4r 101'</code>\n",
      "<p>Suchen Sie alle W\u00f6rter, die weniger als 6 Buchstaben haben"
     ]
    },
    {
     "cell_type": "markdown",
     "metadata": {
      "slideshow": {
       "slide_type": "slide"
      }
     },
     "source": [
      "<h3>Musterl\u00f6sung</h3>"
     ]
    },
    {
     "cell_type": "markdown",
     "metadata": {
      "slideshow": {
       "slide_type": "fragment"
      }
     },
     "source": [
      "<code>s = ' todo\\n1. Verordnung 2. \\n2. Befehl II. \\n3. Verweigerung 2. \\n4. Milit\u00e4r 101'</code>\n",
      "<p>Suchen Sie in der Liste (ohne todo) alle W\u00f6rter, die weniger als 6 Buchstaben haben"
     ]
    },
    {
     "cell_type": "code",
     "collapsed": false,
     "input": [
      "s = ' todo\\n1. Verordnung 2. \\n2. Befehl II. \\n3. Verweigerung 2. \\n4. Milit\u00e4r 101'\n",
      "re.findall(r\" \\w{1,6} \", s)"
     ],
     "language": "python",
     "metadata": {
      "slideshow": {
       "slide_type": "fragment"
      }
     },
     "outputs": [
      {
       "metadata": {},
       "output_type": "pyout",
       "prompt_number": 9,
       "text": [
        "[' Befehl ']"
       ]
      }
     ],
     "prompt_number": 9
    },
    {
     "cell_type": "markdown",
     "metadata": {
      "slideshow": {
       "slide_type": "slide"
      }
     },
     "source": [
      "<h3>Greedy vs. Non-Greedy</h3>\n",
      "<p>Voreinstellung: greedy, d.h. das die gr\u00f6\u00dftm\u00f6gliche Zeichenkette gesucht wird, die zum regul\u00e4ren Ausdruck passt.</p>\n",
      "<p>Durch ? nach dem Quantifier Umstellung auf non-greedy</p>"
     ]
    },
    {
     "cell_type": "code",
     "collapsed": false,
     "input": [
      "s = \"sie und er\"\n",
      "re.findall(r\"\\w+\",s)"
     ],
     "language": "python",
     "metadata": {
      "slideshow": {
       "slide_type": "fragment"
      }
     },
     "outputs": [
      {
       "metadata": {},
       "output_type": "pyout",
       "prompt_number": 10,
       "text": [
        "['sie', 'und', 'er']"
       ]
      }
     ],
     "prompt_number": 10
    },
    {
     "cell_type": "code",
     "collapsed": false,
     "input": [
      "re.findall(r\"\\w+?\",s)"
     ],
     "language": "python",
     "metadata": {
      "slideshow": {
       "slide_type": "fragment"
      }
     },
     "outputs": [
      {
       "metadata": {},
       "output_type": "pyout",
       "prompt_number": 11,
       "text": [
        "['s', 'i', 'e', 'u', 'n', 'd', 'e', 'r']"
       ]
      }
     ],
     "prompt_number": 11
    },
    {
     "cell_type": "code",
     "collapsed": false,
     "input": [
      "s = \"#312d #5134h #84t #042e.\"\n",
      "re.findall(r\".+[ .]\", s) "
     ],
     "language": "python",
     "metadata": {
      "slideshow": {
       "slide_type": "slide"
      }
     },
     "outputs": [
      {
       "metadata": {},
       "output_type": "pyout",
       "prompt_number": 12,
       "text": [
        "['#312d #5134h #84t #042e.']"
       ]
      }
     ],
     "prompt_number": 12
    },
    {
     "cell_type": "code",
     "collapsed": false,
     "input": [
      "re.findall(r\".+?[ .]\", s) "
     ],
     "language": "python",
     "metadata": {
      "slideshow": {
       "slide_type": "fragment"
      }
     },
     "outputs": [
      {
       "metadata": {},
       "output_type": "pyout",
       "prompt_number": 13,
       "text": [
        "['#312d ', '#5134h ', '#84t ', '#042e.']"
       ]
      }
     ],
     "prompt_number": 13
    },
    {
     "cell_type": "markdown",
     "metadata": {
      "slideshow": {
       "slide_type": "slide"
      }
     },
     "source": [
      "<h3>Positionen</h3>\n",
      "<ul>\n",
      "<li>'^' matches the start of the string</li>\n",
      "<li>'$' matches the end of the string</li>\n",
      "<li>'\\b' matches the empty string but only at the beginning or ending of a word <br/>'\\B' matches the empty string but only if it is not at the beginning or ending of a word</li>\n",
      "</ul>\n"
     ]
    },
    {
     "cell_type": "code",
     "collapsed": false,
     "input": [
      "s = \"hallo welt! wie geht es dir?\"\n",
      "re.findall(r\"^.+? \", s)"
     ],
     "language": "python",
     "metadata": {
      "slideshow": {
       "slide_type": "fragment"
      }
     },
     "outputs": [
      {
       "metadata": {},
       "output_type": "pyout",
       "prompt_number": 14,
       "text": [
        "['hallo ']"
       ]
      }
     ],
     "prompt_number": 14
    },
    {
     "cell_type": "code",
     "collapsed": false,
     "input": [
      "re.findall(r\"\\bfoo\\b\", \"foo. (foo) foobar\")"
     ],
     "language": "python",
     "metadata": {},
     "outputs": [
      {
       "metadata": {},
       "output_type": "pyout",
       "prompt_number": 18,
       "text": [
        "['foo', 'foo']"
       ]
      }
     ],
     "prompt_number": 18
    },
    {
     "cell_type": "markdown",
     "metadata": {
      "slideshow": {
       "slide_type": "slide"
      }
     },
     "source": [
      "<h3>Kommentieren</h3>\n",
      "<p>Mit (?#kommentar) kann man Kommentare in seine regex einf\u00fcgen</p>"
     ]
    },
    {
     "cell_type": "code",
     "collapsed": false,
     "input": [
      "s = \"hallo welt! wie geht es dir?\"\n",
      "\n",
      "re.findall(\n",
      "\"\\w+?(?#sucht 0 bis unendl wortbuchstaben non greedy)\\\n",
      "\\s(?#sucht 1 white space)\"\\\n",
      ",s)"
     ],
     "language": "python",
     "metadata": {
      "slideshow": {
       "slide_type": "fragment"
      }
     },
     "outputs": [
      {
       "metadata": {},
       "output_type": "pyout",
       "prompt_number": 16,
       "text": [
        "['hallo ', 'wie ', 'geht ', 'es ']"
       ]
      }
     ],
     "prompt_number": 16
    },
    {
     "cell_type": "markdown",
     "metadata": {
      "slideshow": {
       "slide_type": "slide"
      }
     },
     "source": [
      "<h3>Gruppen</h3>\n",
      "<p>Mit runden Klammern kann man in der Suche die Ergebnisausgabe spezifizieren und beim Suchen und Ersetzen bestimmen, welche Teile des gefundenen Strings wo im Ersetzungsstring platziert werden:</p>"
     ]
    },
    {
     "cell_type": "code",
     "collapsed": false,
     "input": [
      "a = \"Monat 1: Januar. Monat 2: Februar. Monat 3: M\u00e4rz.\"\n",
      "re.findall(r\"Monat \\d: (\\w+)\\.\",a)"
     ],
     "language": "python",
     "metadata": {
      "slideshow": {
       "slide_type": "fragment"
      }
     },
     "outputs": [
      {
       "metadata": {},
       "output_type": "pyout",
       "prompt_number": 17,
       "text": [
        "['Januar', 'Februar', 'M\u00e4rz']"
       ]
      }
     ],
     "prompt_number": 17
    },
    {
     "cell_type": "code",
     "collapsed": false,
     "input": [
      "re.sub(r\"(\\w+\\s\\d):\\s(\\w+)\\.\",\"\\\\2: \\\\1.\",a)"
     ],
     "language": "python",
     "metadata": {
      "slideshow": {
       "slide_type": "fragment"
      }
     },
     "outputs": [
      {
       "metadata": {},
       "output_type": "pyout",
       "prompt_number": 36,
       "text": [
        "'Januar: Monat 1. Februar: Monat 2. M\u00e4rz: Monat 3.'"
       ]
      }
     ],
     "prompt_number": 36
    },
    {
     "cell_type": "markdown",
     "metadata": {
      "slideshow": {
       "slide_type": "slide"
      }
     },
     "source": [
      "<h3 style=\"color:green\">Aufgaben</h3>\n",
      "<p>s = \"120313130414300312\" \n",
      "<ol>\n",
      "<li>Angenommen es handelt sich hier um drei Datumsangaben in Folge im Format TTMMJJ. Trennen Sie die Angaben durch einen Bindestrich: 120313-130414-300312</li>\n",
      "<li>Bearbeiten Sie den String weiter, so dass nun normale dt. Datumsangaben zu lesen sind: 12.03.13-13.04.14-30.03.12\n",
      "<li>Bearbeiten Sie den String s weiter, so dass am Ende amerikanische Datumsangaben dastehen: 03/12/13-...</li>\n",
      "</ol>"
     ]
    },
    {
     "cell_type": "markdown",
     "metadata": {
      "slideshow": {
       "slide_type": "slide"
      }
     },
     "source": [
      "<h3 style=\"color:green\">Hausaufgaben</h3>\n",
      "<ul><li>Schreiben Sie eine Funktion, die s\u00e4mtliches Markup in einer XML-Datei entfernt. Verwenden Sie eine XML-Datei von TextgridRep als Beispiel.</li>\n",
      "<li>Schreiben Sie einen Tokenisierer, der S\u00e4tze in eine Liste der W\u00f6rter zerlegt (ohne Satzzeichen wie .#() usw.). Wenden Sie ihn auf die Datei an, die sie gerade vom Markup befreit haben. BONUS-Aufgabe: Erstellen Sie eine H\u00e4ufigkeitswortliste.</li>\n",
      "<li>Schreiben Sie eine Funktion, die die L\u00e4nge aller W\u00f6rter eines Textes z\u00e4hlt. Aufruf und Ausgabe sollten so aussehen (Zahlen anstelle von n,m usw.):<br/>\n",
      "<code>wordlengths(\"faust.txt\")\n",
      "the text has: <br/>\n",
      "words with 2 chars: n<br/>\n",
      "words with 3 chars: m<br/>\n",
      "...</code>"
     ]
    }
   ],
   "metadata": {}
  }
 ]
}