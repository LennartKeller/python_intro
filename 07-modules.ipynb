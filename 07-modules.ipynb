{
 "cells": [
  {
   "cell_type": "markdown",
   "metadata": {
    "slideshow": {
     "slide_type": "slide"
    }
   },
   "source": [
    "## Einführung in das Programmieren mit Python\n",
    "# Module"
   ]
  },
  {
   "cell_type": "markdown",
   "metadata": {
    "slideshow": {
     "slide_type": "slide"
    }
   },
   "source": [
    "## Wiederholung: Funktionen"
   ]
  },
  {
   "cell_type": "code",
   "execution_count": 1,
   "metadata": {
    "slideshow": {
     "slide_type": "skip"
    }
   },
   "outputs": [
    {
     "name": "stdout",
     "output_type": "stream",
     "text": [
      "Satz: Ottp Mops kotzt\n",
      "Die Wörter in Ottp Mops kotzt sind durchschnittlich 4.333333333333333 Zeichen lang.\n"
     ]
    }
   ],
   "source": [
    "# +------------------------------------------------ def = Schlüsselwort Funktionsdefinition\n",
    "# |    +------------------------------------------- Funktionsname\n",
    "# |    |            ,---------------------,-------- Klammern für Argumentliste (auch ohne Argumente!)\n",
    "# |    |           |  ,---------------------------- Argument/Parameter, verpflichtend\n",
    "# |    |           |  |          ,----------------- Argument/Parameter, mit Standardwert 'None'\n",
    "def avg_word_length(text, strip_chars=\".,?!;\"):\n",
    "    \"\"\"                                             (Docstring, beschreibt Funktion, help(avg_word_length))\n",
    "    Returns the average length of the words in text. Whitespace will be stripped,\n",
    "    if strip is not None, leading and trailing characters from strip_chars will be\n",
    "    removed from each word, as well.\n",
    "    \"\"\"\n",
    "    words = text.split()\n",
    "    chars_in_words = 0\n",
    "    for word in words:        \n",
    "        word = word.strip(strip_chars)\n",
    "        chars_in_words += len(word)\n",
    "    return chars_in_words / len(words)               # return <ausdruck> gibt den Wert von <ausdruck> zurück, sonst None\n",
    "\n",
    "satz = input(\"Satz: \")\n",
    "print(\"Die Wörter in\", satz, \"sind durchschnittlich\", \n",
    "      #    ,------------------------------------------- Funktionsname\n",
    "      #    |          .----------------------------.--- Klammern = Funktionsaufruf\n",
    "      #    |         |  .------------------------- | -- positionales Argument (Position -> text)\n",
    "      #    |         |  |       .----------------- | -- keybord-Argument \n",
    "      avg_word_length(satz, strip_chars='!?.,;:()\"'), \n",
    "      \"Zeichen lang.\")"
   ]
  },
  {
   "cell_type": "markdown",
   "metadata": {
    "slideshow": {
     "slide_type": "slide"
    }
   },
   "source": [
    "## Module"
   ]
  },
  {
   "cell_type": "markdown",
   "metadata": {
    "slideshow": {
     "slide_type": "-"
    }
   },
   "source": [
    "* Weitere Möglichkeit, Programmcode einzukapseln\n",
    "* Typischer Use-Case: zusammengehörige Funktionen (, Klassen, …)\n",
    "* Mitgelieferte Funktionalität (jenseits des Sprachkerns) und Herunterladbares kommt in Modulen"
   ]
  },
  {
   "cell_type": "markdown",
   "metadata": {
    "slideshow": {
     "slide_type": "fragment"
    }
   },
   "source": [
    "* Modul = Python-Datei\n",
    "* Modulname = Python-Dateiname ohne Pfad und Endung"
   ]
  },
  {
   "cell_type": "markdown",
   "metadata": {
    "slideshow": {
     "slide_type": "notes"
    }
   },
   "source": [
    "<p>Module bieten eine weitere Möglichkeit, Programmcode in abgeschlossene Einheiten zu kapseln. Typischerweise werden zusammengehörige Funktionen in einem Modul versammelt. Module sind die wichtigste Organisationseinheit in Python, da alle Python-eigenen Funktionalitäten, aber auch alle zusätzlich herunterladbare Erweiterungen immer in Form von Modulen kommen.</p>\n",
    "<p>Module sind Python-Dateien, die Funktionen und Variablen-Definitionen enthalten.<br/>\n",
    "Name des Moduls = Name der Datei (ohne die Endung .py)<br/>\n",
    "Beispiel: <br/>\n"
   ]
  },
  {
   "cell_type": "code",
   "execution_count": 2,
   "metadata": {
    "slideshow": {
     "slide_type": "subslide"
    }
   },
   "outputs": [],
   "source": [
    "def get_chars(instring):\n",
    "    chars = []\n",
    "    for i in instring:\n",
    "        chars.append(i)\n",
    "    return chars"
   ]
  },
  {
   "cell_type": "markdown",
   "metadata": {
    "slideshow": {
     "slide_type": "fragment"
    }
   },
   "source": [
    "Speichern Sie diese Funktion in der Datei `chars.py`.\n",
    "Nun können Sie in jedem neuen Programm diese Funktion zugänglich machen, indem Sie einfach `import Dateiname` (ohne Endung!) eingeben:"
   ]
  },
  {
   "cell_type": "code",
   "execution_count": 3,
   "metadata": {
    "slideshow": {
     "slide_type": "-"
    }
   },
   "outputs": [
    {
     "name": "stdout",
     "output_type": "stream",
     "text": [
      "/home/lennart/Uni/python_intro\n",
      "/home/lennart/Uni/python_intro/chars.py\n"
     ]
    }
   ],
   "source": [
    "! pwd\n",
    "! realpath chars.py"
   ]
  },
  {
   "cell_type": "code",
   "execution_count": 4,
   "metadata": {
    "slideshow": {
     "slide_type": "fragment"
    }
   },
   "outputs": [
    {
     "data": {
      "text/plain": [
       "['h', 'a', 'l', 'l', 'o']"
      ]
     },
     "execution_count": 4,
     "metadata": {},
     "output_type": "execute_result"
    }
   ],
   "source": [
    "import chars\n",
    "chars.get_chars(\"hallo\")"
   ]
  },
  {
   "cell_type": "markdown",
   "metadata": {
    "slideshow": {
     "slide_type": "subslide"
    }
   },
   "source": [
    "### Modulsuchpfad\n",
    "\n",
    "Wo werden Module gesucht? Der _Modulsuchpfad_ wird beim Starten von Python befüllt und ist systemspezifisch. Sie können ihn mit `sys.path` anzeigen:"
   ]
  },
  {
   "cell_type": "code",
   "execution_count": 5,
   "metadata": {
    "slideshow": {
     "slide_type": "-"
    }
   },
   "outputs": [
    {
     "name": "stdout",
     "output_type": "stream",
     "text": [
      "['/home/lennart/Uni/python_intro', '/home/lennart/anaconda3/envs/python_intro/lib/python38.zip', '/home/lennart/anaconda3/envs/python_intro/lib/python3.8', '/home/lennart/anaconda3/envs/python_intro/lib/python3.8/lib-dynload', '', '/home/lennart/anaconda3/envs/python_intro/lib/python3.8/site-packages', '/home/lennart/anaconda3/envs/python_intro/lib/python3.8/site-packages/IPython/extensions', '/home/lennart/.ipython']\n"
     ]
    }
   ],
   "source": [
    "import sys\n",
    "print(sys.path)"
   ]
  },
  {
   "cell_type": "markdown",
   "metadata": {
    "slideshow": {
     "slide_type": "-"
    }
   },
   "source": [
    "* `''` steht für das aktuelle Verzeichnis (`os.getcwd()`)\n",
    "* Umgebungsvariable `PYTHONPATH`\n",
    "* Probieren Sie's aus!"
   ]
  },
  {
   "cell_type": "markdown",
   "metadata": {
    "slideshow": {
     "slide_type": "slide"
    }
   },
   "source": [
    "### Formen der import-Anweisung"
   ]
  },
  {
   "cell_type": "code",
   "execution_count": 6,
   "metadata": {
    "slideshow": {
     "slide_type": "fragment"
    }
   },
   "outputs": [
    {
     "data": {
      "text/plain": [
       "['h', 'a', 'l', 'l', 'o']"
      ]
     },
     "execution_count": 6,
     "metadata": {},
     "output_type": "execute_result"
    }
   ],
   "source": [
    "# Standardform. Hier muss der Modulname beim jeden Aufruf einer Funktion genannt werden.\n",
    "import chars\n",
    "chars.get_chars(\"hallo\")"
   ]
  },
  {
   "cell_type": "code",
   "execution_count": 7,
   "metadata": {
    "slideshow": {
     "slide_type": "fragment"
    }
   },
   "outputs": [
    {
     "data": {
      "text/plain": [
       "['h', 'i']"
      ]
     },
     "execution_count": 7,
     "metadata": {},
     "output_type": "execute_result"
    }
   ],
   "source": [
    "# Man kann auch ein kurzes Alias für einen längeren Modulnamen setzen:\n",
    "import chars as c\n",
    "c.get_chars(\"hi\")"
   ]
  },
  {
   "cell_type": "code",
   "execution_count": 8,
   "metadata": {
    "slideshow": {
     "slide_type": "fragment"
    }
   },
   "outputs": [
    {
     "data": {
      "text/plain": [
       "['h', 'i']"
      ]
     },
     "execution_count": 8,
     "metadata": {},
     "output_type": "execute_result"
    }
   ],
   "source": [
    "# import eine Funktion in den lokalen Namensraum, d.h. man kann sie nun ohne Modulnamen verwenden\n",
    "# man könnte auch mehrere importieren: from chars import get_chars, other_function\n",
    "from chars import get_chars\n",
    "get_chars(\"hi\")"
   ]
  },
  {
   "cell_type": "code",
   "execution_count": 9,
   "metadata": {
    "slideshow": {
     "slide_type": "fragment"
    }
   },
   "outputs": [],
   "source": [
    "# \"Alles\" importieren -- aber Vorsicht, kann unübersichtlich werden ...\n",
    "from chars import *"
   ]
  },
  {
   "cell_type": "markdown",
   "metadata": {
    "slideshow": {
     "slide_type": "subslide"
    }
   },
   "source": [
    "#### Best Practice – Import\n",
    "\n",
    "* Import-Statements stehen (fast) immer oben im Programm\n",
    "* Für manche Libraries gibt es etablierte Aliase:\n",
    "```python\n",
    "import numpy as np\n",
    "import networkx as nx\n",
    "```\n",
    "* Verwenden Sie eher die `from module import symbol`-Form, wenn es Ihnen um einzelne Funktionen/Typen/… geht, und die `import module`-Form, wenn es um die Bibliothek als solche geht\n",
    "* `from module import *` ist __nur__ in interaktiven Sitzungen etc. akzeptabel, in Programmen verschleiert es die Herkunft (und damit die Identität) der Symbole"
   ]
  },
  {
   "cell_type": "markdown",
   "metadata": {
    "slideshow": {
     "slide_type": "slide"
    }
   },
   "source": [
    "### Programm == Modul\n",
    "\n",
    "* _Jedes_ Python-Skript ist ein Modul, auch Ihr \"Hauptprogramm\"\n",
    "* der Name jedes Moduls steht in der modulspezifischen Variable `__name__`\n",
    "* der spezielle Name `\"__main__\"` steht für das Hauptprogramm\n",
    "* damit können Sie ein Skript als Modul und als Programm nutzbar machen:"
   ]
  },
  {
   "cell_type": "code",
   "execution_count": 10,
   "metadata": {
    "slideshow": {
     "slide_type": "fragment"
    }
   },
   "outputs": [
    {
     "name": "stdout",
     "output_type": "stream",
     "text": [
      "1 Words:  ['-f']\n"
     ]
    }
   ],
   "source": [
    "\"\"\"Some useful string utilities\"\"\"\n",
    "def get_words(text):\n",
    "    \"\"\"Returns a list of words in the given `text`\"\"\"\n",
    "    return text.split()\n",
    "\n",
    "def _main():\n",
    "    import sys\n",
    "    words = get_words(sys.argv[1])\n",
    "    print(len(words), \"Words: \", words)\n",
    "    \n",
    "if __name__ == \"__main__\":\n",
    "    _main()"
   ]
  },
  {
   "cell_type": "markdown",
   "metadata": {
    "slideshow": {
     "slide_type": "slide"
    }
   },
   "source": [
    "#### Achtung\n",
    "Code außerhalb der des ```__name__ == '__main__':``` Abschnitts, wird bei jedem Import der Moduls ausgeführt."
   ]
  },
  {
   "cell_type": "code",
   "execution_count": 11,
   "metadata": {
    "slideshow": {
     "slide_type": "fragment"
    }
   },
   "outputs": [
    {
     "name": "stdout",
     "output_type": "stream",
     "text": [
      "/home/lennart/Uni/python_intro/bad_chars.py\n",
      "\u001b[34mimport\u001b[39;49;00m \u001b[04m\u001b[36mtime\u001b[39;49;00m\n",
      "\n",
      "\u001b[34mfor\u001b[39;49;00m t \u001b[35min\u001b[39;49;00m \u001b[36mreversed\u001b[39;49;00m(\u001b[36mrange\u001b[39;49;00m(\u001b[34m1\u001b[39;49;00m,\u001b[34m11\u001b[39;49;00m)):\n",
      "\t\u001b[34mprint\u001b[39;49;00m(f\u001b[33m\"\u001b[39;49;00m\u001b[33mNur noch {t} Sekund{\u001b[39;49;00m\u001b[33m'\u001b[39;49;00m\u001b[33men\u001b[39;49;00m\u001b[33m'\u001b[39;49;00m\u001b[33m if t > 1 else \u001b[39;49;00m\u001b[33m'\u001b[39;49;00m\u001b[33me\u001b[39;49;00m\u001b[33m'\u001b[39;49;00m\u001b[33m}. Dann ist alles startbereit!\u001b[39;49;00m\u001b[33m\"\u001b[39;49;00m)\n",
      "\ttime.sleep(\u001b[34m1\u001b[39;49;00m)\n",
      "\n",
      "\u001b[34mdef\u001b[39;49;00m \u001b[32mget_chars\u001b[39;49;00m(instring):\n",
      "    chars = []\n",
      "    \u001b[34mfor\u001b[39;49;00m i \u001b[35min\u001b[39;49;00m instring:\n",
      "        chars.append(i)\n",
      "    \u001b[34mreturn\u001b[39;49;00m chars\n",
      "\n",
      "\u001b[34mif\u001b[39;49;00m \u001b[31m__name__\u001b[39;49;00m == \u001b[33m'\u001b[39;49;00m\u001b[33m__main__\u001b[39;49;00m\u001b[33m'\u001b[39;49;00m:\n",
      "    \u001b[34mprint\u001b[39;49;00m(get_chars(\u001b[33m\"\u001b[39;49;00m\u001b[33mHello World!\u001b[39;49;00m\u001b[33m\"\u001b[39;49;00m))\n"
     ]
    }
   ],
   "source": [
    "! realpath bad_chars.py\n",
    "! cat bad_chars.py | pygmentize"
   ]
  },
  {
   "cell_type": "code",
   "execution_count": 12,
   "metadata": {},
   "outputs": [
    {
     "name": "stdout",
     "output_type": "stream",
     "text": [
      "Nur noch 10 Sekunden. Dann ist alles startbereit!\n",
      "Nur noch 9 Sekunden. Dann ist alles startbereit!\n",
      "Nur noch 8 Sekunden. Dann ist alles startbereit!\n",
      "Nur noch 7 Sekunden. Dann ist alles startbereit!\n",
      "Nur noch 6 Sekunden. Dann ist alles startbereit!\n",
      "Nur noch 5 Sekunden. Dann ist alles startbereit!\n",
      "Nur noch 4 Sekunden. Dann ist alles startbereit!\n",
      "Nur noch 3 Sekunden. Dann ist alles startbereit!\n",
      "Nur noch 2 Sekunden. Dann ist alles startbereit!\n",
      "Nur noch 1 Sekunde. Dann ist alles startbereit!\n"
     ]
    }
   ],
   "source": [
    "from bad_chars import get_chars"
   ]
  },
  {
   "cell_type": "markdown",
   "metadata": {
    "slideshow": {
     "slide_type": "slide"
    }
   },
   "source": [
    "## Kommandozeile\n",
    "\n",
    "* [Kurztutorial für alle OS](https://tutorial.djangogirls.org/de/intro_to_command_line/)\n",
    "* es gibt immer ein aktuelles Verzeichnis. \n",
    "    * Linux/MacOS: Anzeigen mit `pwd`, wechseln mit `cd neuer/pfad`\n",
    "    * Windows: Anzeigen mit `cd`, wechseln mit `cd neuer\\pfad`\n",
    "* __Kommandos__ bestehen aus einem oder mehreren Wörtern, durch Leerzeichen getrennt, ggf. mit \" \" umschlossen.\n",
    "* Erstes Wort: Befehl, z.B. Programm. Folgende Wörter: Argumente, werden vom Programm interpretiert.\n",
    "\n",
    "### Umgebungsvariablen\n",
    "* _Umgebungsvariablen_ enthalten Werte, die allen Programmen zur Verfügung stehen, z.B. `$PATH` (bzw. `%PATH%` auf Windows). Tippen Sie `set`\n",
    "* Umgebungvariablen vererben sich an gestartete Prozesse\n",
    "* Wichtige Umgebungsvariablen:\n",
    "   * `PATH` (`%PATH%` (Windows) bzw. `$PATH` (sonst)) enthält die Verzeichnisse, in denen das OS nach Programmen sucht.\n",
    "   * `PYTHONHOME` ggf. Grundverzeichnis von Python\n",
    "   * `PYTHONPATH` Modul-Suchverzeichnisse von Python"
   ]
  },
  {
   "cell_type": "markdown",
   "metadata": {
    "slideshow": {
     "slide_type": "subslide"
    }
   },
   "source": [
    "### Übung\n",
    "\n",
    "Kommandozeilenargumente finden Sie in Ihrem Programm in der Liste `sys.argv`. `sys.argv[0]` ist immer der Name des Programms."
   ]
  },
  {
   "cell_type": "code",
   "execution_count": 13,
   "metadata": {
    "slideshow": {
     "slide_type": "-"
    }
   },
   "outputs": [
    {
     "data": {
      "text/plain": [
       "['/home/lennart/anaconda3/envs/python_intro/lib/python3.8/site-packages/ipykernel_launcher.py',\n",
       " '-f',\n",
       " '/home/lennart/.local/share/jupyter/runtime/kernel-41ad5789-96d5-4065-946e-9a664a79dd38.json']"
      ]
     },
     "execution_count": 13,
     "metadata": {},
     "output_type": "execute_result"
    }
   ],
   "source": [
    "import sys\n",
    "sys.argv"
   ]
  },
  {
   "cell_type": "markdown",
   "metadata": {
    "slideshow": {
     "slide_type": "-"
    }
   },
   "source": [
    "Schreiben Sie ein Programm, das die Kommandozeilenargumente, mit denen es aufgerufen wird, auf den Bildschirm ausgibt. Speichern Sie es als `cmdtest.py` und rufen Sie es an der Kommandozeile mit verschiedenen Argumenten auf."
   ]
  },
  {
   "cell_type": "markdown",
   "metadata": {
    "slideshow": {
     "slide_type": "slide"
    }
   },
   "source": [
    "### Pythons Standard-Module\n",
    "* Python kommt mit einer [umfangreichen Bibliothek von Modulen](https://docs.python.org/3/library), die für viele Probleme schon ausreichend sind (batteries included).\n",
    "* Python-Module sind oft einfach Python-Dateien im Suchpfad "
   ]
  },
  {
   "cell_type": "markdown",
   "metadata": {
    "slideshow": {
     "slide_type": "slide"
    }
   },
   "source": [
    "## Externe Module installieren"
   ]
  },
  {
   "cell_type": "markdown",
   "metadata": {
    "slideshow": {
     "slide_type": "-"
    }
   },
   "source": [
    "* Zentrales Archiv externer Python-Module: __PyPI__ – Python Package Index – https://pypi.python.org/pypi\n",
    "* Tool zur Installation externer Python-Module: `pip` – Bestandteil der Python-Installation\n",
    "* Kommandozeilentool"
   ]
  },
  {
   "cell_type": "code",
   "execution_count": 14,
   "metadata": {
    "slideshow": {
     "slide_type": "subslide"
    }
   },
   "outputs": [
    {
     "name": "stdout",
     "output_type": "stream",
     "text": [
      "\n",
      "Usage:   \n",
      "  pip <command> [options]\n",
      "\n",
      "Commands:\n",
      "  install                     Install packages.\n",
      "  download                    Download packages.\n",
      "  uninstall                   Uninstall packages.\n",
      "  freeze                      Output installed packages in requirements format.\n",
      "  list                        List installed packages.\n",
      "  show                        Show information about installed packages.\n",
      "  check                       Verify installed packages have compatible dependencies.\n",
      "  config                      Manage local and global configuration.\n",
      "  search                      Search PyPI for packages.\n",
      "  wheel                       Build wheels from your requirements.\n",
      "  hash                        Compute hashes of package archives.\n",
      "  completion                  A helper command used for command completion.\n",
      "  debug                       Show information useful for debugging.\n",
      "  help                        Show help for commands.\n",
      "\n",
      "General Options:\n",
      "  -h, --help                  Show help.\n",
      "  --isolated                  Run pip in an isolated mode, ignoring\n",
      "                              environment variables and user configuration.\n",
      "  -v, --verbose               Give more output. Option is additive, and can be\n",
      "                              used up to 3 times.\n",
      "  -V, --version               Show version and exit.\n",
      "  -q, --quiet                 Give less output. Option is additive, and can be\n",
      "                              used up to 3 times (corresponding to WARNING,\n",
      "                              ERROR, and CRITICAL logging levels).\n",
      "  --log <path>                Path to a verbose appending log.\n",
      "  --proxy <proxy>             Specify a proxy in the form\n",
      "                              [user:passwd@]proxy.server:port.\n",
      "  --retries <retries>         Maximum number of retries each connection should\n",
      "                              attempt (default 5 times).\n",
      "  --timeout <sec>             Set the socket timeout (default 15 seconds).\n",
      "  --exists-action <action>    Default action when a path already exists:\n",
      "                              (s)witch, (i)gnore, (w)ipe, (b)ackup, (a)bort.\n",
      "  --trusted-host <hostname>   Mark this host or host:port pair as trusted,\n",
      "                              even though it does not have valid or any HTTPS.\n",
      "  --cert <path>               Path to alternate CA bundle.\n",
      "  --client-cert <path>        Path to SSL client certificate, a single file\n",
      "                              containing the private key and the certificate\n",
      "                              in PEM format.\n",
      "  --cache-dir <dir>           Store the cache data in <dir>.\n",
      "  --no-cache-dir              Disable the cache.\n",
      "  --disable-pip-version-check\n",
      "                              Don't periodically check PyPI to determine\n",
      "                              whether a new version of pip is available for\n",
      "                              download. Implied with --no-index.\n",
      "  --no-color                  Suppress colored output\n",
      "  --no-python-version-warning\n",
      "                              Silence deprecation warnings for upcoming\n",
      "                              unsupported Pythons.\n"
     ]
    }
   ],
   "source": [
    "%%bash\n",
    "\n",
    "pip --help"
   ]
  },
  {
   "cell_type": "markdown",
   "metadata": {
    "slideshow": {
     "slide_type": "subslide"
    }
   },
   "source": [
    "<table>\n",
    "<tr><td><code>pip install</code> <em>⟨Paketname⟩</em></td><td>Installiert das angegebene Paket, falls nicht bereits da</td></tr>\n",
    "<tr><td><code>pip install --update</code> <em>⟨Paketname⟩</em></td><td>Installiert oder aktualisiert das angegebene Paket</td></tr>\n",
    "<tr><td><code>pip install --user</code> <em>⟨Paketname⟩</em></td><td>Installiert das angegebene Paket nur für den aktuellen Benutzer</td></tr>"
   ]
  },
  {
   "cell_type": "markdown",
   "metadata": {
    "slideshow": {
     "slide_type": "fragment"
    }
   },
   "source": [
    "### Übungsaufgaben externe Module\n",
    "\n",
    "Das Paket [requests](http://python-requests.org/) ein Paket, das HTTP-Zugriffe sehr einfach macht. \n",
    "\n",
    "1. Installieren Sie es mit `pip`. \n",
    "2. Finden Sie heraus, wohin das Paket installiert wurde.\n",
    "3. Schreiben Sie mit Requests ein Programm, das herausfindet, ob die Unihomepage erfolgreich aufgerufen werden kann.\n",
    "4. (Schreiben Sie unter Zuhilfenahme von requests ein kleines Script, bei dem der Benutzer einen Ländercode (z.B. `de` oder `co`) eingibt und Namen und Hauptstadt des betreffenden Landes angezeigt bekommt. Benutzen Sie dazu den Service http://restcountries.eu/, der Ihnen allerlei Länderinfos zu einem Land im von Requests direkt unterstützten JSON-Format liefert.)"
   ]
  },
  {
   "cell_type": "markdown",
   "metadata": {
    "slideshow": {
     "slide_type": "slide"
    }
   },
   "source": [
    "### Pakete (Packages)\n",
    "\n",
    "Komplexe Bibliotheken werden oft in _Pakete_ gegliedert. "
   ]
  },
  {
   "cell_type": "code",
   "execution_count": 15,
   "metadata": {
    "slideshow": {
     "slide_type": "-"
    }
   },
   "outputs": [
    {
     "name": "stdout",
     "output_type": "stream",
     "text": [
      "Requirement already satisfied: scikit-learn in /home/lennart/anaconda3/envs/python_intro/lib/python3.8/site-packages (0.22.1)\r\n",
      "Requirement already satisfied: joblib>=0.11 in /home/lennart/anaconda3/envs/python_intro/lib/python3.8/site-packages (from scikit-learn) (0.15.1)\r\n",
      "Requirement already satisfied: scipy>=0.17.0 in /home/lennart/anaconda3/envs/python_intro/lib/python3.8/site-packages (from scikit-learn) (1.4.1)\r\n",
      "Requirement already satisfied: numpy>=1.11.0 in /home/lennart/anaconda3/envs/python_intro/lib/python3.8/site-packages (from scikit-learn) (1.18.1)\r\n"
     ]
    }
   ],
   "source": [
    "! pip install scikit-learn\n",
    "from sklearn.metrics import f1_score"
   ]
  },
  {
   "cell_type": "markdown",
   "metadata": {
    "slideshow": {
     "slide_type": "-"
    }
   },
   "source": [
    "Ein Paket / Package ist ein Verzeichnis, in dem eine Datei `__init__.py` liegt. Z.B. ein kleiner Ausschnitt aus scikit-learn:\n",
    "\n",
    "```\n",
    "sklearn\n",
    "├── base.py\n",
    "├── metrics\n",
    "│   ├── base.py\n",
    "│   ├── classification.py\n",
    "│   ├── cluster\n",
    "│   └── __init__.py\n",
    "└── __init__.py\n",
    "```\n",
    "\n",
    "`import sklearn.metrics` lädt `sklearn/metrics/__init__.py`."
   ]
  },
  {
   "cell_type": "code",
   "execution_count": null,
   "metadata": {},
   "outputs": [],
   "source": []
  }
 ],
 "metadata": {
  "celltoolbar": "Slideshow",
  "kernelspec": {
   "display_name": "Python 3",
   "language": "python",
   "name": "python3"
  },
  "language_info": {
   "codemirror_mode": {
    "name": "ipython",
    "version": 3
   },
   "file_extension": ".py",
   "mimetype": "text/x-python",
   "name": "python",
   "nbconvert_exporter": "python",
   "pygments_lexer": "ipython3",
   "version": "3.8.3"
  },
  "nav_menu": {},
  "toc": {
   "navigate_menu": true,
   "number_sections": false,
   "sideBar": true,
   "threshold": 6,
   "toc_cell": false,
   "toc_section_display": "block",
   "toc_window_display": false
  }
 },
 "nbformat": 4,
 "nbformat_minor": 1
}
