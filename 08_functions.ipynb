{
 "cells": [
  {
   "cell_type": "markdown",
   "metadata": {
    "slideshow": {
     "slide_type": "slide"
    }
   },
   "source": [
    "# Einführung in das Programmieren mit Python"
   ]
  },
  {
   "cell_type": "markdown",
   "metadata": {
    "slideshow": {
     "slide_type": "-"
    }
   },
   "source": [
    "## Funktionen und Module"
   ]
  },
  {
   "cell_type": "markdown",
   "metadata": {
    "slideshow": {
     "slide_type": "slide"
    }
   },
   "source": [
    "## Hinweis zur Klausur & Prüfungsanmeldung\n",
    "\n",
    "* Die Klausur findet für alle am __Di., 14.02.2017, 12:00 s.t. in Phil.-Geb. - Hörsaal 5__ statt.\n",
    "* Sie müssen sich zur Prüfung anmelden (und bei Bedarf wieder abmelden) → SB@Home\n",
    "* Es gibt für PO 2012 und PO 2015 jeweils zwei Prüfungen:\n",
    "\n",
    "   * PO 2015\n",
    "       * Modul Programmieren: benotet\n",
    "       * FSQ: b/nb\n",
    "   * PO 2012\n",
    "       * Programmieren:  b/nb 5 ECTS\n",
    "       * Skriptsprachen: b/nb 3 ECTS"
   ]
  },
  {
   "cell_type": "markdown",
   "metadata": {
    "slideshow": {
     "slide_type": "slide"
    }
   },
   "source": [
    "<h3>Wiederholung Schleifen</h3>\n",
    "<ul>\n",
    "<li>while - Schleifen werden so formuliert:<br/>\n",
    "<code>while &lt;bedingung>:\n",
    "    code</code><br/>\n",
    "Sie werden solange ausgeführt, wie die Bedingung wahr ist. Achtung vor Endlosschleifen\n",
    "<li>Für alles Listenartige verwendet man aber besser for-Schleifen:<br/>\n",
    "<code>\n",
    "for x in ‹List›:\n",
    "    code</code>\n",
    "<li>Mit der Funktion range(n) kann man eine Liste von Zahlen von 0 bis n erzeugen. Mit range(n,m) erzeugt man eine Liste, die bei n anfängt und bis m reicht. Sie wird häufig in for-Schleifen verwendet:   <br/>\n",
    "<code>\n",
    "for i in range(3):\n",
    "    print(i)</code>\n",
    "<li>Schleifen und bedingte Verzweigungen können beliebig verschachtelt werden."
   ]
  },
  {
   "cell_type": "markdown",
   "metadata": {
    "slideshow": {
     "slide_type": "subslide"
    }
   },
   "source": [
    "### Musterlösung Hausaufgabe 2"
   ]
  },
  {
   "cell_type": "code",
   "execution_count": 1,
   "metadata": {
    "collapsed": false,
    "slideshow": {
     "slide_type": "-"
    }
   },
   "outputs": [
    {
     "name": "stdout",
     "output_type": "stream",
     "text": [
      "### Aufgabe 1 ###\n",
      "Bitte geben Sie Sätze ein. Satzende = ⏎  Eingabeende = ⏎⏎\n",
      "Satz > Ich bin ein einfacher Beispielsatz.\n",
      "Satz > Ich auch.\n",
      "Satz > Chromosomen sind als Doppelhelix angeordnete Desoxyribonukleinsäuremoleküle.\n",
      "Satz > \n",
      "### Aufgabe 2 ###\n",
      "Ich bin ein einfacher Beispielsatz. : 35 Zeichen\n",
      "Ich auch. : 9 Zeichen\n",
      "Chromosomen sind als Doppelhelix angeordnete Desoxyribonukleinsäuremoleküle. : 76 Zeichen\n"
     ]
    }
   ],
   "source": [
    "#!/usr/bin/env python3\n",
    "\n",
    "print(\"### Aufgabe 1 ###\")\n",
    "saetze = []\n",
    "satz = input(\"Bitte geben Sie Sätze ein. Satzende = ⏎  Eingabeende = ⏎⏎\\nSatz > \")\n",
    "while satz:\n",
    "    saetze.append(satz)\n",
    "    satz = input(\"Satz > \")\n",
    "\n",
    "print(\"### Aufgabe 2 ###\")\n",
    "for satz in saetze:\n",
    "    print(satz, \":\", len(satz), \"Zeichen\")"
   ]
  },
  {
   "cell_type": "code",
   "execution_count": 2,
   "metadata": {
    "collapsed": false,
    "slideshow": {
     "slide_type": "subslide"
    }
   },
   "outputs": [
    {
     "name": "stdout",
     "output_type": "stream",
     "text": [
      "### Aufgabe 3 ###\n",
      "Ich bin ein einfacher Beispielsatz. : ø Wortlänge =  6.2\n",
      "Ich auch. : ø Wortlänge =  4.0\n",
      "Chromosomen sind als Doppelhelix angeordnete Desoxyribonukleinsäuremoleküle. : ø Wortlänge =  11.833333333333334\n"
     ]
    }
   ],
   "source": [
    "print(\"### Aufgabe 3 ###\")\n",
    "for satz in saetze:\n",
    "    woerter = satz.split()\n",
    "    wortlaengen = 0\n",
    "    for wort in woerter:\n",
    "        wortlaengen += len(wort)\n",
    "    print(satz, \": ø Wortlänge = \", wortlaengen / len(woerter))"
   ]
  },
  {
   "cell_type": "markdown",
   "metadata": {
    "slideshow": {
     "slide_type": "slide"
    }
   },
   "source": [
    "### Wiederholung: Dictionaries\n",
    "\n",
    "* Datenstruktur für _Key-Value-Paare_\n",
    "* keys: Unveränderliche Werte, die zum Zugriff auf die Values verwendet werden\n",
    "* values: Beliebige Python-Objekte"
   ]
  },
  {
   "cell_type": "code",
   "execution_count": 5,
   "metadata": {
    "collapsed": false,
    "slideshow": {
     "slide_type": "-"
    }
   },
   "outputs": [
    {
     "name": "stdout",
     "output_type": "stream",
     "text": [
      "10\n",
      "{'Römer': 2, 'Reise': 1, 'Xanten': 1, 'Geschichte': 1, 'und': 10}\n"
     ]
    }
   ],
   "source": [
    "frequencies = { \"und\": 10, \"die\": 4, \"Xanten\": 1 }     # anlegen\n",
    "print(frequencies[\"und\"])  # → 10: Zugriff auf Werte per key\n",
    "frequencies[\"Reise\"] = 1   # Zuweisung / Erzeugen neuer Einträge\n",
    "frequencies.update({\"Römer\": 2, \"Geschichte\": 1})  # Aktualisierung aus ex. Dictionary\n",
    "del frequencies[\"die\"]     # Wert löschen\n",
    "print(frequencies)"
   ]
  },
  {
   "cell_type": "code",
   "execution_count": 7,
   "metadata": {
    "collapsed": false,
    "slideshow": {
     "slide_type": "subslide"
    }
   },
   "outputs": [
    {
     "name": "stdout",
     "output_type": "stream",
     "text": [
      "dict_keys(['Römer', 'Reise', 'Xanten', 'Geschichte', 'und'])\n",
      "dict_values([2, 1, 1, 1, 10])\n",
      "Römer kommt 2 mal vor.\n",
      "Reise kommt 1 mal vor.\n",
      "Xanten kommt 1 mal vor.\n",
      "Geschichte kommt 1 mal vor.\n",
      "und kommt 10 mal vor.\n"
     ]
    }
   ],
   "source": [
    "print(frequencies.keys())   # Zugriff auf Schlüssel\n",
    "print(frequencies.values()) # Zugriff auf Werte\n",
    "for word in frequencies:    # Iteration über Keys\n",
    "    print(word, \"kommt\", frequencies[word], \"mal vor.\")"
   ]
  },
  {
   "cell_type": "markdown",
   "metadata": {},
   "source": [
    "### Übung: Wörter zählen"
   ]
  },
  {
   "cell_type": "code",
   "execution_count": 9,
   "metadata": {
    "collapsed": true,
    "slideshow": {
     "slide_type": "-"
    }
   },
   "outputs": [],
   "source": [
    "text = \"\"\"O Tannenbaum, o Tannenbaum,\n",
    "wie treu sind deine Blätter!\n",
    "Du grünst nicht nur zur Sommerzeit,\n",
    "nein, auch im Winter, wenn es schneit.\n",
    "O Tannenbaum, o Tannenbaum,\n",
    "wie treu sind deine Blätter!\"\"\""
   ]
  },
  {
   "cell_type": "code",
   "execution_count": 10,
   "metadata": {
    "collapsed": false,
    "slideshow": {
     "slide_type": "subslide"
    }
   },
   "outputs": [
    {
     "name": "stdout",
     "output_type": "stream",
     "text": [
      "auch\t1\n",
      "blätter!\t2\n",
      "deine\t2\n",
      "du\t1\n",
      "es\t1\n",
      "grünst\t1\n",
      "im\t1\n",
      "nein,\t1\n",
      "nicht\t1\n",
      "nur\t1\n",
      "o\t4\n",
      "schneit.\t1\n",
      "sind\t2\n",
      "sommerzeit,\t1\n",
      "tannenbaum,\t4\n",
      "treu\t2\n",
      "wenn\t1\n",
      "wie\t2\n",
      "winter,\t1\n",
      "zur\t1\n"
     ]
    }
   ],
   "source": [
    "# Kleinschreibung und Zerlegen:\n",
    "words = text.lower().split()\n",
    "\n",
    "# Häufigkeiten zählen:\n",
    "freqs = {}             # Sammeln in diesem Dictionary\n",
    "for word in words:     \n",
    "    if word in freqs:  # vorläufige Frequenz schon vorhanden\n",
    "        freqs[word] += 1\n",
    "    else:              # Wort zum 1. Mal gesehen\n",
    "        freqs[word] = 1\n",
    "\n",
    "for word in sorted(freqs):\n",
    "    print(word, freqs[word], sep=\"\\t\")"
   ]
  },
  {
   "cell_type": "markdown",
   "metadata": {
    "slideshow": {
     "slide_type": "slide"
    }
   },
   "source": [
    "### Datenstrukturen I – Abschluss\n",
    "\n",
    "* Listen und Dictionaries enthalten i.A. Objekte desselben Typs (aber nicht zwingend!)\n",
    "* __Listen__ sammeln Objekte in einer bestimmten Reihenfolge. Der Zugriff erfolgt durch die Listenposition. Sinnvoll wenn:\n",
    "\n",
    "    * Reihenfolge relevant\n",
    "    * Durchlaufen der Liste\n",
    "\n",
    "* __Dictionaries__ sammeln Einträge in undefinierter Reihenfolge. Der effiziente Zugriff erfolgt über eindeutige Schlüssel (Keys).\n",
    "\n",
    "    * Wahlfreier Zugriff per Schlüssel sehr effizient\n",
    "    * Eindeutigkeit der Schlüssel\n",
    "    * Iteration erfolgt in _irgendeiner_ Reihenfolge\n",
    "    \n",
    "Weitere Datentypen z.B.\n",
    "\n",
    "* Mengen (set) – unsortiert, keine Duplikate (Dictionary ohne Values)\n",
    "* Tupel (tuple) – sequentiell, »unveränderliche Listen«\n",
    "* collections-Modul: OrderedDict, defaultdict, Counter, namedtuple …"
   ]
  },
  {
   "cell_type": "markdown",
   "metadata": {
    "slideshow": {
     "slide_type": "slide"
    }
   },
   "source": [
    "## Funktionen und Module\n",
    "\n",
    "Management von Komplexität:\n",
    "\n",
    "* Modularisierung: Übersichtlichkeit und Fokus\n",
    "* Abstraktion: Wiederverwendung ermöglichen, Vermeiden von Wiederholungen\n",
    "* Management unterschiedlicher Abstraktionsebenen\n",
    "* Klare Schnittstellen zum Rest des Programms\n",
    "\n",
    "Praxis: So klein wie möglich"
   ]
  },
  {
   "cell_type": "markdown",
   "metadata": {
    "slideshow": {
     "slide_type": "slide"
    }
   },
   "source": [
    "<h3>Definition einer Funktion</h3>\n",
    "<ul>\n",
    "<li>_Funktionsname_, mit dem die Funktion aufgerufen wird\n",
    "<li>die _Parameter_, die beim Aufruf der Funktion an die Funktion übergeben werden (optional)\n",
    "<li>den _Rückgabewert_ der Funktion (optional)\n",
    "</ul>"
   ]
  },
  {
   "cell_type": "code",
   "execution_count": 13,
   "metadata": {
    "collapsed": false,
    "slideshow": {
     "slide_type": "fragment"
    }
   },
   "outputs": [
    {
     "data": {
      "text/plain": [
       "1100"
      ]
     },
     "execution_count": 13,
     "metadata": {},
     "output_type": "execute_result"
    }
   ],
   "source": [
    "# Funktionsdefinitionen beginnen mit 'def'  \n",
    "# der Bezeichner nach def ist der Funktionsname\n",
    "# in den Klammern stehen die Parameter der Funktion\n",
    "def add(nr1, nr2):\n",
    "    # nach der Definitionszeile folgt der Code der Funktion\n",
    "    result = nr1 + nr2\n",
    "    # return bestimmt den Rückgabewert der Funktion\n",
    "    return result\n",
    "\n",
    "#jetzt kann man die Funktion aufrufen:\n",
    "add(211, 889)\n"
   ]
  },
  {
   "cell_type": "markdown",
   "metadata": {
    "slideshow": {
     "slide_type": "subslide"
    }
   },
   "source": [
    "<h3>Funktionen – Schritt für Schritt</h3>\n",
    "<code>def add(nr1, nr2):\n",
    "\tresult = nr1 + nr2\n",
    "\treturn result\n",
    "</code>\n",
    "\n",
    "<p>Was passiert nun genau beim Aufruf der Funktion?</p>\n",
    "\n",
    "<code>add(3, 7)</code>\n",
    "<p>Implizit wird am Anfang der Funktion durch die Angabe der Parameter eine Zuweisung vorgenommen:</p>\n",
    "<code>nr1 = 3\n",
    "nr2 = 7</code>\n",
    "<p>D.h. die Werte 3 und 7 werden beim Aufruf der Funktion an die Variablen nr1 und nr2 gebunden.</p>\n",
    "\n",
    "<p>Dann kann das Ergebnis berechnet werden:</p>\n",
    "<code>result = nr1 + nr2 </code>\n",
    "\n",
    "<p>Und als Rückgabewert ausgegeben werden:</p>\n",
    "<code>return result</code>\n"
   ]
  },
  {
   "cell_type": "markdown",
   "metadata": {
    "slideshow": {
     "slide_type": "slide"
    }
   },
   "source": [
    "<h3 style=\"color:green\">Aufgaben</h3>\n",
    "\n",
    "Mit der Methode `split()` kann man Zeichenketten in Listen zerlegen. Wenn `s = \"Dies ist ein Satz\"` ist, dann gibt `s.split()` als Rückgabewert die Liste `[\"Dies\",\"ist\",\"ein\",\"Satz\"]` aus.\n",
    "\n",
    "Schreiben Sie eine Funktion, die die durchschnittliche Wortlänge einer Zeichenkette berechnet (wir ignorieren die Satzzeichen erst einmal). \n"
   ]
  },
  {
   "cell_type": "markdown",
   "metadata": {
    "slideshow": {
     "slide_type": "subslide"
    }
   },
   "source": [
    "<h3>Musterlösung</h3>"
   ]
  },
  {
   "cell_type": "markdown",
   "metadata": {
    "slideshow": {
     "slide_type": "fragment"
    }
   },
   "source": [
    "Schreiben Sie eine Funktion, die die durchschnittliche Wortlänge einer Zeichenkette berechnet (wir ignorieren die Satzzeichen erst einmal). \n"
   ]
  },
  {
   "cell_type": "code",
   "execution_count": 1,
   "metadata": {
    "collapsed": false,
    "slideshow": {
     "slide_type": "fragment"
    }
   },
   "outputs": [
    {
     "name": "stdout",
     "output_type": "stream",
     "text": [
      "Durchschnittliche Wortlänge:  5.3076923076923075\n"
     ]
    }
   ],
   "source": [
    "def avg_word_length(s):\n",
    "    words = s.split()\n",
    "    total_len = 0\n",
    "    for w in words:\n",
    "        total_len += len(w)\n",
    "    return total_len / len(words)\n",
    "\n",
    "# Test:\n",
    "sent = \"Dies ist ein kleiner, aber erheblich interessanterer Test als der letzte oder so.\"\n",
    "print(\"Durchschnittliche Wortlänge: \", avg_word_length(sent))"
   ]
  },
  {
   "cell_type": "markdown",
   "metadata": {
    "slideshow": {
     "slide_type": "slide"
    }
   },
   "source": [
    "### Signatur einer Funktion\n",
    "\n",
    "* Name\n",
    "* Argumente\n",
    "* (Rückgabewert)\n",
    "\n",
    "In Python:\n",
    "\n",
    "* Identifikation der Funktion nur durch den Namen\n",
    "* Überprüfung der Signatur erst beim Aufruf"
   ]
  },
  {
   "cell_type": "code",
   "execution_count": 2,
   "metadata": {
    "collapsed": false,
    "slideshow": {
     "slide_type": "-"
    }
   },
   "outputs": [
    {
     "data": {
      "text/plain": [
       "36.0"
      ]
     },
     "execution_count": 2,
     "metadata": {},
     "output_type": "execute_result"
    }
   ],
   "source": [
    "def calculate(add1, add2, divisor, factor):\n",
    "    return ((add1 + add2) / divisor) * factor\n",
    "\n",
    "calculate(3, 6, 3, 12)"
   ]
  },
  {
   "cell_type": "markdown",
   "metadata": {
    "slideshow": {
     "slide_type": "slide"
    }
   },
   "source": [
    "<h3>Funktionen dokumentieren</h3>\n",
    "* Funktionen sind im Idealfall kleine, selbständige Einheiten, die ein Problem lösen. Dokumentieren Sie Ihre Funktionen!\n",
    "* Stringliteral am Beginn des Funktionskörpers = **Docstring**"
   ]
  },
  {
   "cell_type": "code",
   "execution_count": 3,
   "metadata": {
    "collapsed": false,
    "slideshow": {
     "slide_type": "fragment"
    }
   },
   "outputs": [],
   "source": [
    "def add(nr1, nr2):\n",
    "    \"\"\"\n",
    "    Adds two numbers.\n",
    "    \n",
    "    Args:\n",
    "        nr1 (int): first number to be added\n",
    "        nr2 (int): second number to be added\n",
    "    \n",
    "    Returns:\n",
    "        int: The sum of the two numbers\n",
    "    \"\"\"\n",
    "    return nr1 + nr2"
   ]
  },
  {
   "cell_type": "code",
   "execution_count": 4,
   "metadata": {
    "collapsed": false,
    "slideshow": {
     "slide_type": "fragment"
    }
   },
   "outputs": [
    {
     "name": "stdout",
     "output_type": "stream",
     "text": [
      "Help on function add in module __main__:\n",
      "\n",
      "add(nr1, nr2)\n",
      "    Adds two numbers.\n",
      "    \n",
      "    Args:\n",
      "        nr1 (int): first number to be added\n",
      "        nr2 (int): second number to be added\n",
      "    \n",
      "    Returns:\n",
      "        int: The sum of the two numbers\n",
      "\n"
     ]
    }
   ],
   "source": [
    "help(add)"
   ]
  },
  {
   "cell_type": "markdown",
   "metadata": {
    "slideshow": {
     "slide_type": "slide"
    }
   },
   "source": [
    "<h3>Scope von Variablen</h3>\n",
    "<img src=\"files/images/scope.png\" width=\"50%\" height=\"50%\" border=\"0\"/> \n",
    "* _Gültigkeitsbereich_ einer Variablen\n",
    "* genauer: der Teil des Quelltexts, in dem eine Variable (ohne irgendwelche Präfixe, siehe später) zugreifbar ist\n",
    "* globaler Scope\n",
    "* Funktionsdefinition: lokaler Scope, Variable wird »vergessen«, wenn der Funktionsaufruf beendet ist\n",
    "* der innerste Scope wird genommen"
   ]
  },
  {
   "cell_type": "markdown",
   "metadata": {
    "slideshow": {
     "slide_type": "slide"
    }
   },
   "source": [
    "<h3>Globale Variable</h3>"
   ]
  },
  {
   "cell_type": "code",
   "execution_count": 19,
   "metadata": {
    "collapsed": false,
    "slideshow": {
     "slide_type": "fragment"
    }
   },
   "outputs": [
    {
     "name": "stdout",
     "output_type": "stream",
     "text": [
      "hallo\n",
      "hi\n"
     ]
    }
   ],
   "source": [
    "x = \"hallo\"\n",
    "def foo():\n",
    "    print(x)    \n",
    "foo()\n",
    "x = \"hi\"\n",
    "foo()\n"
   ]
  },
  {
   "cell_type": "markdown",
   "metadata": {
    "slideshow": {
     "slide_type": "slide"
    }
   },
   "source": [
    "<h3>Lokale Variablen</h3>"
   ]
  },
  {
   "cell_type": "code",
   "execution_count": 3,
   "metadata": {
    "collapsed": false,
    "slideshow": {
     "slide_type": "fragment"
    }
   },
   "outputs": [
    {
     "name": "stdout",
     "output_type": "stream",
     "text": [
      "Welt\n"
     ]
    }
   ],
   "source": [
    "def bar():\n",
    "    y = \"Welt\"\n",
    "    print(y)\n",
    "    \n",
    "bar()\n",
    "#print(y)\n",
    "#erzeugt einen NameError: name 'y' is not defined"
   ]
  },
  {
   "cell_type": "markdown",
   "metadata": {
    "slideshow": {
     "slide_type": "slide"
    }
   },
   "source": [
    "<h3>Globale und lokale Variablen</h3>"
   ]
  },
  {
   "cell_type": "code",
   "execution_count": 4,
   "metadata": {
    "collapsed": false,
    "slideshow": {
     "slide_type": "fragment"
    }
   },
   "outputs": [],
   "source": [
    "#Don't do this at home!!\n",
    "y = \"Ich\"\n",
    "def bar():\n",
    "    y = \"Welt\"\n",
    "    #print(\"lokaler Wert von y: \", y)\n",
    "\n",
    "#print(\"globaler Wert von y: \", y)    \n",
    "bar()\n",
    "y = \"NEU\"\n",
    "#print(\"neuer globaler Wert von y: \", y)\n",
    "bar()"
   ]
  },
  {
   "cell_type": "code",
   "execution_count": 6,
   "metadata": {
    "collapsed": false,
    "slideshow": {
     "slide_type": "subslide"
    }
   },
   "outputs": [
    {
     "name": "stdout",
     "output_type": "stream",
     "text": [
      "globaler Wert von y:  Ich\n",
      "lokaler Wert von y:  Welt\n",
      "neuer globaler Wert von y:  NEU\n",
      "lokaler Wert von y:  Welt\n"
     ]
    }
   ],
   "source": [
    "# Don't do this at home!\n",
    "y = \"Ich\"\n",
    "def bar():\n",
    "    y = \"Welt\"\n",
    "    print(\"lokaler Wert von y: \", y)\n",
    "\n",
    "print(\"globaler Wert von y: \", y)    \n",
    "bar()\n",
    "y = \"NEU\"\n",
    "print(\"neuer globaler Wert von y: \", y)\n",
    "bar()"
   ]
  },
  {
   "cell_type": "markdown",
   "metadata": {
    "slideshow": {
     "slide_type": "subslide"
    }
   },
   "source": [
    "Falls eine Variable im Bereich einer Funktion zugewiesen wird, dann ist sie automatisch lokal zur Funktion:"
   ]
  },
  {
   "cell_type": "code",
   "execution_count": 7,
   "metadata": {
    "collapsed": false,
    "slideshow": {
     "slide_type": "-"
    }
   },
   "outputs": [
    {
     "ename": "UnboundLocalError",
     "evalue": "local variable 'y' referenced before assignment",
     "output_type": "error",
     "traceback": [
      "\u001b[1;31m---------------------------------------------------------------------------\u001b[0m",
      "\u001b[1;31mUnboundLocalError\u001b[0m                         Traceback (most recent call last)",
      "\u001b[1;32m<ipython-input-7-6c642f715a78>\u001b[0m in \u001b[0;36m<module>\u001b[1;34m()\u001b[0m\n\u001b[0;32m      3\u001b[0m     \u001b[0mprint\u001b[0m\u001b[1;33m(\u001b[0m\u001b[0my\u001b[0m\u001b[1;33m)\u001b[0m\u001b[1;33m\u001b[0m\u001b[0m\n\u001b[0;32m      4\u001b[0m     \u001b[0my\u001b[0m \u001b[1;33m=\u001b[0m \u001b[1;34m\"Du\"\u001b[0m\u001b[1;33m\u001b[0m\u001b[0m\n\u001b[1;32m----> 5\u001b[1;33m \u001b[0mbar\u001b[0m\u001b[1;33m(\u001b[0m\u001b[1;33m)\u001b[0m\u001b[1;33m\u001b[0m\u001b[0m\n\u001b[0m",
      "\u001b[1;32m<ipython-input-7-6c642f715a78>\u001b[0m in \u001b[0;36mbar\u001b[1;34m()\u001b[0m\n\u001b[0;32m      1\u001b[0m \u001b[0my\u001b[0m \u001b[1;33m=\u001b[0m \u001b[1;34m\"Ich\"\u001b[0m\u001b[1;33m\u001b[0m\u001b[0m\n\u001b[0;32m      2\u001b[0m \u001b[1;32mdef\u001b[0m \u001b[0mbar\u001b[0m\u001b[1;33m(\u001b[0m\u001b[1;33m)\u001b[0m\u001b[1;33m:\u001b[0m\u001b[1;33m\u001b[0m\u001b[0m\n\u001b[1;32m----> 3\u001b[1;33m     \u001b[0mprint\u001b[0m\u001b[1;33m(\u001b[0m\u001b[0my\u001b[0m\u001b[1;33m)\u001b[0m\u001b[1;33m\u001b[0m\u001b[0m\n\u001b[0m\u001b[0;32m      4\u001b[0m     \u001b[0my\u001b[0m \u001b[1;33m=\u001b[0m \u001b[1;34m\"Du\"\u001b[0m\u001b[1;33m\u001b[0m\u001b[0m\n\u001b[0;32m      5\u001b[0m \u001b[0mbar\u001b[0m\u001b[1;33m(\u001b[0m\u001b[1;33m)\u001b[0m\u001b[1;33m\u001b[0m\u001b[0m\n",
      "\u001b[1;31mUnboundLocalError\u001b[0m: local variable 'y' referenced before assignment"
     ]
    }
   ],
   "source": [
    "y = \"Ich\"\n",
    "def bar():\n",
    "    print(y)\n",
    "    y = \"Du\"\n",
    "bar()"
   ]
  },
  {
   "cell_type": "markdown",
   "metadata": {
    "slideshow": {
     "slide_type": "subslide"
    }
   },
   "source": [
    "### Scope Revisited\n",
    "\n",
    "* Nur eine Funktionsdefinition erzeugt einen neuen Scope\n",
    "* Variablen entstehen bei der ersten _Zuweisung_\n",
    "* Variablen entstehen im aktuellen Scope\n",
    "* Beim _Lesezugriff_ wird die Variable im innersten Scope gewählt, in dem sie existiert\n",
    "* LEGB:\n",
    "\n",
    "  * __L__ocal (in der aktuellen Funktion)\n",
    "  * __E__nclosing (in drumherum geschachtelten Funktionen)\n",
    "  * __G__lobal (in Ihrem Programm)\n",
    "  * __B__uiltin (in Python eingebaut)"
   ]
  },
  {
   "cell_type": "markdown",
   "metadata": {
    "slideshow": {
     "slide_type": "slide"
    }
   },
   "source": [
    "### Parameter-Übergabe _by reference_, nicht _by value_\n",
    "\n",
    "![](images/assign2.svg)"
   ]
  },
  {
   "cell_type": "markdown",
   "metadata": {
    "slideshow": {
     "slide_type": "skip"
    }
   },
   "source": [
    "Python-Variablen enthalten Referenzen auf die Daten, nicht die Daten. Wenn Daten also übergeben werden (etwa bei einer Zuweisung oder als Parameter beim Aufruf einer Funktion/Methode), dann werden die Verweise übergeben und nicht Kopien der Daten angelegt!"
   ]
  },
  {
   "cell_type": "code",
   "execution_count": 8,
   "metadata": {
    "collapsed": false,
    "slideshow": {
     "slide_type": "fragment"
    }
   },
   "outputs": [
    {
     "name": "stdout",
     "output_type": "stream",
     "text": [
      "[1, 99, 5]\n"
     ]
    }
   ],
   "source": [
    "x = [1, 4, 5]  # Erzeugt eine Liste und weist sie der Variablen x zu\n",
    "y = x          # Weist die Liste auch der Variablen y zu \n",
    "y[1] = 99      # Verändert y und x! \n",
    "print(x)\n"
   ]
  },
  {
   "cell_type": "markdown",
   "metadata": {
    "slideshow": {
     "slide_type": "slide"
    }
   },
   "source": [
    "<h3>reference / value in einer Funktion</h3>"
   ]
  },
  {
   "cell_type": "code",
   "execution_count": 9,
   "metadata": {
    "collapsed": false,
    "slideshow": {
     "slide_type": "fragment"
    }
   },
   "outputs": [
    {
     "name": "stdout",
     "output_type": "stream",
     "text": [
      "Wert der Liste in der Funktion:  [99, 2, 3, 4]\n",
      "Neuer Wert für int_list:  [10, 9, 8]\n",
      "Wert von l nach Aufruf der Funktion:  [99, 2, 3, 4]\n"
     ]
    }
   ],
   "source": [
    "def subst_first(int_list):      # definiert Funktion mit Parameter int_list\n",
    "    int_list[0] = 99            # setzt ersten Wert der Liste auf 99\n",
    "    print(\"Wert der Liste in der Funktion: \", int_list)\n",
    "    int_list = [10,9,8]\n",
    "    print(\"Neuer Wert für int_list: \", int_list)\n",
    "l = [1,2,3,4]           # definiert globale Variable l\n",
    "subst_first(l)          # Verwendet und verändert l in der Funktion   \n",
    "print(\"Wert von l nach Aufruf der Funktion: \", l)"
   ]
  },
  {
   "cell_type": "markdown",
   "metadata": {
    "slideshow": {
     "slide_type": "fragment"
    }
   },
   "source": [
    "* **Nebeneffekte**\n",
    "  \n",
    "  * vermeiden oder explizit machen und dokumentieren\n",
    "  * ggf. unveränderliche Datenstrukturen verwenden -- aber allzuviel zu erzwingen ist nicht _pythonic_"
   ]
  },
  {
   "cell_type": "markdown",
   "metadata": {
    "slideshow": {
     "slide_type": "slide"
    }
   },
   "source": [
    "### Listen kopieren\n",
    "Kopie einer Liste z.B. mit der ``list``-Funktion:"
   ]
  },
  {
   "cell_type": "code",
   "execution_count": 10,
   "metadata": {
    "collapsed": false,
    "slideshow": {
     "slide_type": "fragment"
    }
   },
   "outputs": [
    {
     "name": "stdout",
     "output_type": "stream",
     "text": [
      "[20, 33, 15]\n",
      "[1000, 33, 15]\n"
     ]
    }
   ],
   "source": [
    "x = [20, 33, 15] # Erzeugt eine Liste\n",
    "y = list(x)      # Erzeugt eine neue Liste mit den Inhalten aus x, Zuschreibung zu y\n",
    "y[0] = 1000      # Schreibt dem ersten Element von y einen neuen Wert zu, OHNE x zu verändern\n",
    "print(x)\n",
    "print(y)"
   ]
  },
  {
   "cell_type": "markdown",
   "metadata": {
    "slideshow": {
     "slide_type": "fragment"
    }
   },
   "source": [
    "* erzeugt _shallow_-Kopie einer verschachtelten Liste, d.h. nur die oberste Ebene wird kopiert\n",
    "* [copy-Modul](https://docs.python.org/3.4/library/copy.html)"
   ]
  },
  {
   "cell_type": "markdown",
   "metadata": {
    "slideshow": {
     "slide_type": "slide"
    }
   },
   "source": [
    "### Ergänzende Übungsaufgabe\n",
    "\n",
    "Gegeben sei eine einfache Templatesprache, in der Variablen Wörter sind, die mit einem `$` beginnen. Schreiben Sie eine Funktion, die einen String an Whitespacegrenzen in Wörter zerlegt und eine Liste aller Variablennamen entsprechend dieser Syntax zurückgibt."
   ]
  },
  {
   "cell_type": "code",
   "execution_count": null,
   "metadata": {
    "collapsed": false,
    "slideshow": {
     "slide_type": "-"
    }
   },
   "outputs": [],
   "source": [
    "template = \"\"\"\n",
    "$Adresse\n",
    "\n",
    "$Ort, den $Datum\n",
    "\n",
    "\n",
    "$Anrede $Name,\n",
    "\n",
    "vielen Dank für Ihre Bestellung. Bitte überweisen Sie den \n",
    "Betrag $Betrag auf eines unserer Konten unter Angabe des\n",
    "Verwendungszwecks:\n",
    "\n",
    "  $ReNr vom $Datum\n",
    "  \n",
    "Mit bestem Dank und freundlichen Grüßen\n",
    "\"\"\"\n",
    "\n",
    "print(extract_variables(template)) # → $Adresse, $Ort, $Datum, $Anrede, $Name, $ReNr"
   ]
  },
  {
   "cell_type": "markdown",
   "metadata": {
    "slideshow": {
     "slide_type": "slide"
    }
   },
   "source": [
    "### Keyword-Argumente für Funktionen"
   ]
  },
  {
   "cell_type": "markdown",
   "metadata": {
    "slideshow": {
     "slide_type": "fragment"
    }
   },
   "source": [
    "Argumente können auch per Namen referenziert werden:"
   ]
  },
  {
   "cell_type": "code",
   "execution_count": 16,
   "metadata": {
    "collapsed": false,
    "slideshow": {
     "slide_type": "fragment"
    }
   },
   "outputs": [
    {
     "name": "stdout",
     "output_type": "stream",
     "text": [
      "5.0\n"
     ]
    }
   ],
   "source": [
    "def formula2(nr1, divisor, nr2):\n",
    "    return (nr1 + nr2) / divisor\n",
    "\n",
    "print(formula2(7, nr2=3, divisor=2))"
   ]
  },
  {
   "cell_type": "markdown",
   "metadata": {
    "slideshow": {
     "slide_type": "fragment"
    }
   },
   "source": [
    "* erst _positional_, dann _keyword arguments_\n",
    "* Bei den Keyword-Argumenten ist die Reihenfolge egal"
   ]
  },
  {
   "cell_type": "markdown",
   "metadata": {
    "slideshow": {
     "slide_type": "subslide"
    }
   },
   "source": [
    "### Defaultwerte"
   ]
  },
  {
   "cell_type": "markdown",
   "metadata": {
    "slideshow": {
     "slide_type": "-"
    }
   },
   "source": [
    "Keyword-Argumente können mit Voreinstellungen belegt werden, dann kann man sie weglassen:"
   ]
  },
  {
   "cell_type": "code",
   "execution_count": 36,
   "metadata": {
    "collapsed": false,
    "slideshow": {
     "slide_type": "-"
    }
   },
   "outputs": [
    {
     "name": "stdout",
     "output_type": "stream",
     "text": [
      "21\n"
     ]
    }
   ],
   "source": [
    "def add(nr1, nr2, verbose=False):\n",
    "    result = nr1 + nr2\n",
    "    if verbose:\n",
    "        print(\"The sum is\", result)\n",
    "    return result\n",
    "\n",
    "print(add(17, 4))"
   ]
  },
  {
   "cell_type": "markdown",
   "metadata": {
    "slideshow": {
     "slide_type": "subslide"
    }
   },
   "source": [
    "<h3> &#42;args und **kwargs</h3>\n",
    "\n",
    "Mit `*args` in der Parameterliste einer Funktion kann man Parameter festlegen, deren Anzahl und Art man nicht kennt. Das gleiche kann man mit `**kwargs` für Keyword-Parameter machen (kwargs = keyword arguments). Das ist u.a. dann nützlich, wenn man mit dieser Funktion wiederum Funktionen aufruft, deren Parameter man nicht genau festlegen möchte. "
   ]
  },
  {
   "cell_type": "code",
   "execution_count": 13,
   "metadata": {
    "collapsed": false,
    "slideshow": {
     "slide_type": "fragment"
    }
   },
   "outputs": [
    {
     "name": "stdout",
     "output_type": "stream",
     "text": [
      "args hat den Datentyp <class 'tuple'>\n"
     ]
    },
    {
     "data": {
      "text/plain": [
       "14"
      ]
     },
     "execution_count": 13,
     "metadata": {},
     "output_type": "execute_result"
    }
   ],
   "source": [
    "def formula3(nr1, nr2, *args):\n",
    "        print(\"args hat den Datentyp\", type(args))\n",
    "        if args == None:\n",
    "            return nr1 + nr2\n",
    "        else:\n",
    "            result = 0\n",
    "            for i in args:\n",
    "                result += i\n",
    "        return nr1 + nr2 + result\n",
    "formula3(2,3,4,5)"
   ]
  },
  {
   "cell_type": "markdown",
   "metadata": {
    "slideshow": {
     "slide_type": "subslide"
    }
   },
   "source": [
    "#### Auspacken mit `*args`, `**kwargs`"
   ]
  },
  {
   "cell_type": "code",
   "execution_count": 18,
   "metadata": {
    "collapsed": false,
    "slideshow": {
     "slide_type": "-"
    }
   },
   "outputs": [
    {
     "name": "stdout",
     "output_type": "stream",
     "text": [
      "WARNING Datei nicht gefunden: bla.txt\n",
      "ERROR Rechenzentrum explodiert gleich\n"
     ]
    }
   ],
   "source": [
    "loglevel = 1\n",
    "def log(*args, level=0, **kwargs):\n",
    "    labels = [\"INFO\", \"WARNING\", \"ERROR\"]\n",
    "    if level >=  loglevel:\n",
    "        print(labels[level], *args, **kwargs)\n",
    "\n",
    "log(\"Jetzt geht's los\")\n",
    "log(\"Datei nicht gefunden:\", \"bla.txt\", level=1)\n",
    "log(\"Rechenzentrum explodiert gleich\", level=2)"
   ]
  },
  {
   "cell_type": "markdown",
   "metadata": {
    "slideshow": {
     "slide_type": "slide"
    }
   },
   "source": [
    "<h3 style=\"color:green\">Aufgabe: Code in Funktionen zerlegen</h3>\n",
    "Es ist gute Praxis, längere Code-Abschnitte in die kleineren Einheiten von Funktionen zu zerlegen. Dabei spielt es auch eine Rolle, in welcher Weise sie die Funktionen wieder verwenden können und wollen. Schreiben Sie den folgenden Code so um, dass er aus Funktionen und einem Hauptteil besteht. Überlegen Sie, wie Sie ihn möglichst weit modularisieren können. (Sie finden den selben Codeabschnitt auch in einer separaten Datei im WueCampus)"
   ]
  },
  {
   "cell_type": "code",
   "execution_count": 1,
   "metadata": {
    "collapsed": false,
    "slideshow": {
     "slide_type": "fragment"
    }
   },
   "outputs": [
    {
     "name": "stdout",
     "output_type": "stream",
     "text": [
      "Durchschnittliche Wortlänge:  5.3\n",
      "Durchschnittliche Vokalanzahl:  1.7\n",
      "Durchschnittliche Konsonantenanzahl:  3.6\n"
     ]
    }
   ],
   "source": [
    "s = \"Herr Mustermann kommt ins Haus und trifft dort Frau Musterfrau\"\n",
    "sum_wordlength = 0\n",
    "for w in s.split():\n",
    "    sum_wordlength += len(w)\n",
    "avg_wordlength = sum_wordlength / len(s.split())\n",
    "print(\"Durchschnittliche Wortlänge: \", avg_wordlength )\n",
    "list_vowels = []\n",
    "for w in s.lower().split():\n",
    "    word_vowels = 0\n",
    "    for c in w:\n",
    "        if c in \"aeiou\":\n",
    "            word_vowels += 1\n",
    "    list_vowels.append(word_vowels)\n",
    "print(\"Durchschnittliche Vokalanzahl: \", sum(list_vowels) / len(list_vowels))\n",
    "list_consonants = []\n",
    "for w in s.lower().split():\n",
    "    word_cons = 0\n",
    "    for c in w:\n",
    "        if c in \"bcdfghjklmnpqrstvwxyz\":\n",
    "            word_cons += 1\n",
    "    list_consonants.append(word_cons)\n",
    "print(\"Durchschnittliche Konsonantenanzahl: \", sum(list_consonants) / len(list_consonants))"
   ]
  },
  {
   "cell_type": "markdown",
   "metadata": {
    "slideshow": {
     "slide_type": "subslide"
    }
   },
   "source": [
    "<h3 style=\"color:green;\">Aufgabe: Summenfunktion</h3>\n",
    "\n",
    "Python hat eine eingebaute Funktion `sum`, das ein Iterable (z.B. eine Liste) und einen optionalen Startwert als Default nimmt und die Summe daraus zurückliefert:"
   ]
  },
  {
   "cell_type": "code",
   "execution_count": 2,
   "metadata": {
    "collapsed": false,
    "slideshow": {
     "slide_type": "-"
    }
   },
   "outputs": [
    {
     "name": "stdout",
     "output_type": "stream",
     "text": [
      "Help on built-in function sum in module builtins:\n",
      "\n",
      "sum(...)\n",
      "    sum(iterable[, start]) -> value\n",
      "    \n",
      "    Return the sum of an iterable of numbers (NOT strings) plus the value\n",
      "    of parameter 'start' (which defaults to 0).  When the iterable is\n",
      "    empty, return start.\n",
      "\n"
     ]
    }
   ],
   "source": [
    "help(sum)"
   ]
  },
  {
   "cell_type": "markdown",
   "metadata": {
    "slideshow": {
     "slide_type": "-"
    }
   },
   "source": [
    "Schreiben Sie eine äquivalente Funktion `product`, die eine Liste und optional einen Startfaktor (der natürlich hier sinnvollerweise 1 ist, wenn nicht angegeben) nimmt, alle Elemente miteinander multipliziert und das Produkt zurückliefert. Schreiben Sie außerdem vier Testfälle (Funktionsaufrufe), mit und ohne Startwert und mit voller und leerer Liste."
   ]
  },
  {
   "cell_type": "markdown",
   "metadata": {
    "slideshow": {
     "slide_type": "slide"
    }
   },
   "source": [
    "## Rekursion"
   ]
  },
  {
   "cell_type": "markdown",
   "metadata": {
    "slideshow": {
     "slide_type": "-"
    }
   },
   "source": [
    "* Aufruf einer Funktion durch sich selbst"
   ]
  },
  {
   "cell_type": "markdown",
   "metadata": {
    "slideshow": {
     "slide_type": "-"
    }
   },
   "source": [
    "\n",
    "<p>Als Rekursion bezeichnet man den Aufruf einer Funktion durch sich selbst. Eine rekursive Funktion besteht typischerweise aus zwei Bausteinen, einem Verarbeitungsteil, der auch den Selbstaufruf enthält und einer Prüfung, die feststellt, ob ein bestimmte Bedingung erreicht ist, so dass die Rekursion endet. </p>\n",
    "<p>Rekursionen funktionieren also ähnlich wie Schleifen. Wann soll man Rekursionen verwenden? Wenn man bei der Analyse des Problems feststellt, dass jede komplexere Form des Problems sich auf eine einfache Lösung des Problems zurückführen lässt. Eine ausführlichere Behandlung von Rekursion finden Sie <a href=\"http://cs.stanford.edu/people/eroberts/courses/cs106b/chapters/05-intro-to-recursion.pdf\">hier</a>.<br/></p>\n",
    "<p>Die prinzipielle Struktur einer rekursiven Funktion sieht also so aus:</p>"
   ]
  },
  {
   "cell_type": "code",
   "execution_count": null,
   "metadata": {
    "collapsed": true,
    "slideshow": {
     "slide_type": "fragment"
    }
   },
   "outputs": [],
   "source": [
    "if (test for simple case) == True: \n",
    "    Bereche eine einfache Lösung ohne Rekursion\n",
    "else:\n",
    "    Zerlege das Problem in Teilprobleme, die die gleiche Form haben.\n",
    "    Löse jedes Teilproblem durch rekursiven Aufruf der Funktion.\n",
    "    Setze die Lösungen für die Teilprobleme zusammen, um eine Lösung für das ganze Problem zu erhalten."
   ]
  },
  {
   "cell_type": "markdown",
   "metadata": {
    "slideshow": {
     "slide_type": "subslide"
    }
   },
   "source": [
    "Beispiel: **Fakultät** $n!$ einer natürlichen Zahl $n$:<br/>\n",
    "\n",
    "* $n!$ (sprich: $n$ Fakultät) ist definiert als $n \\cdot (n-1)!$\n",
    "* $0!$ ist definiert als $1$\n",
    "\n",
    "\n",
    "$3! = 3 \\cdot 2! = 3 \\cdot 2 \\cdot 1! = 3 \\cdot 2 \\cdot 1 \\cdot 0! = 3 \\cdot 2 \\cdot 1 \\cdot 1 = 6$\n"
   ]
  },
  {
   "cell_type": "code",
   "execution_count": 19,
   "metadata": {
    "collapsed": false,
    "slideshow": {
     "slide_type": "fragment"
    }
   },
   "outputs": [
    {
     "name": "stdout",
     "output_type": "stream",
     "text": [
      "Fakultät 3! ist  6\n"
     ]
    }
   ],
   "source": [
    "def factorial(n):\n",
    "    \"\"\"\"\n",
    "    calculates the factorial of n\n",
    "    \"\"\"\n",
    "    if n == 0:      # einfacher fall ohne rekursion\n",
    "        return 1\n",
    "    else:\n",
    "        result = n * factorial(n-1)   #Zerlegung: n! = n * (n-1)!   Lösung von (n-1)! durch rekursiven Aufruf der F.\n",
    "                                      #Zusammensetzung durch die Multiplikation der Einzelzahlen\n",
    "        return result\n",
    "\n",
    "    \n",
    "print(\"Fakultät 3! ist \", factorial(3))"
   ]
  },
  {
   "cell_type": "code",
   "execution_count": 20,
   "metadata": {
    "collapsed": false,
    "slideshow": {
     "slide_type": "slide"
    }
   },
   "outputs": [
    {
     "name": "stdout",
     "output_type": "stream",
     "text": [
      "factorial of 3 ?\n",
      "factorial of 2 ?\n",
      "factorial of 1 ?\n",
      "factorial of 0 ?\n",
      "0 (simple case)\n",
      "1! = 1\n",
      "2! = 2\n",
      "3! = 6\n",
      "Fakultät 3! ist  6\n"
     ]
    }
   ],
   "source": [
    "#um zu sehen, was hier genau passiert, fügen wir einige print-statements ein\n",
    "def factorial(n):\n",
    "    print(\"factorial of\", n, \"?\")\n",
    "    if n == 0:\n",
    "        print(n, \"(simple case)\")\n",
    "        return 1\n",
    "    else:\n",
    "        result = n * factorial(n-1)\n",
    "        print(str(n) + \"! =\", result)\n",
    "        return result\n",
    "\n",
    "print(\"Fakultät 3! ist \", factorial(3))"
   ]
  },
  {
   "cell_type": "markdown",
   "metadata": {
    "slideshow": {
     "slide_type": "skip"
    }
   },
   "source": [
    "<p>Was passiert hier? Im ersten Durchlauf ist n==3, d.h. das Programm springt von Z.4 zu Z. 7 und beginnt mit der Bearbeitung von Z.8. Python berechnet `3 *`, aber um den zweiten Faktor zu berechnen, muss es wiederum die Funktion aufrufen. Der ursprüngliche Aufruf der Funktion (nennen wir ihn Funktionsaufruf[0]) wir also angehalten und auf einen Stapel gelegt.</p>\n",
    "<p>Die Berechnung des zweiten Faktors hat einen neuen Aufruf gestartet, Funktionsaufruf[1]. n ist hier == 2. Wiederum springt das Programm von Zeile 3 zu Zeile 6 und beginnt dann mit der Arbeit an Zeile 8: Es rechnet 2 * -- und auch hier muss der Programmaufruf angehalten werden, da die Funktion nun zum 3. Mal aufgerufen wird (Funktionsaufruf[2]), während Funktionsaufruf[1] ebenfalls auf den Stapel kommt.</p>\n",
    "<p>Bei Funktionsaufruf[2] ist n == 1. Es geschieht wieder dasselbe, Funktionsaufruf[2] kommt auf den Stapel, Funktionsaufruf[3] erfolgt dann mit `n == 0`.\n",
    "<p>Deshalb verzweigt das Programm nun, in Funktionsaufruf[3], von Z. 4 zu Z. 5 und gibt die Zeile `0 (simple case`) aus. Dann wird Funktionsaufruf[3] mit dem Rückgabewert 1 beendet. Der Stapeleintrag für Funktionsaufruf[3] wird damit entfernt.</p>\n",
    "<p>Der Rückgabewert wird an den letzten Funktionsaufruf gegeben, der auf den Stapel gewandert ist, also Funktionsaufruf[2]. Hier kann nun die Multiplikation vollzogen werden: `1 * 1`. Das Ergebnis wird ausgegeben und dann wird die Funktion mit dem Rückgabewert `1` beendet. </p>\n",
    "<p>Dieser Rückgabewert wird an den nunmehr letzten Funktionsaufruf gegeben, der auf den Stapel gewandert ist, also Funktionsaufruf[1]. Hier kann nun die Multiplikation vollzogen werden: `2 * 1`. Das Ergebnis wird ausgegeben und dann wird die Funktion mit dem Rückgabewert `2` beendet. </p>\n",
    "<p>Der Rückgabewert wird an den Funktionsaufruf[0], der noch auf dem Stapel liegt, gegeben. Hier kann nun wiederum weiter gerechnet werden: `3 * 2`. Das Ergebnis, `6`, wird ausgegeben und dann als Rückgabewert zurückgegeben. "
   ]
  },
  {
   "cell_type": "markdown",
   "metadata": {
    "slideshow": {
     "slide_type": "slide"
    }
   },
   "source": [
    "<h3 style=\"color:green\">Aufgabe</h3> \n",
    "Ein _Palindrom_ ist ein String, der von vorn wie von hinten gelesen gleich ist, z.B. `\"anna\"` oder `\"MAOAM\"`.\n",
    "\n",
    "Schreiben Sie eine rekursive Funktion `is_palindrome(s)`, die für einen gegebenen String überprüft, ob es sich um ein Palindrom handelt. Welche Fälle von Strings sind trivialerweise Palindrome?"
   ]
  },
  {
   "cell_type": "markdown",
   "metadata": {
    "slideshow": {
     "slide_type": "subslide"
    }
   },
   "source": [
    "#### Musterlösung"
   ]
  },
  {
   "cell_type": "code",
   "execution_count": 7,
   "metadata": {
    "collapsed": true,
    "slideshow": {
     "slide_type": "fragment"
    }
   },
   "outputs": [
    {
     "name": "stdout",
     "output_type": "stream",
     "text": [
      "... checking anna ...\n",
      "... checking nn ...\n",
      "... checking  ...\n",
      "anna True\n",
      "... checking MAOAM ...\n",
      "... checking AOA ...\n",
      "... checking O ...\n",
      "MAOAM True\n",
      "... checking annika ...\n",
      "... checking nnik ...\n",
      "annika False\n"
     ]
    }
   ],
   "source": [
    "def is_palindrome(s):\n",
    "    \n",
    "    print(\"... checking\", s, \"...\")\n",
    "    if len(s) <= 1:\n",
    "        return True\n",
    "    if s[0] == s[-1]:\n",
    "        return is_palindrome(s[1:-1])\n",
    "    else:\n",
    "        return False\n",
    "    \n",
    "print(\"anna\", is_palindrome(\"anna\"))\n",
    "print(\"MAOAM\", is_palindrome(\"MAOAM\"))\n",
    "print(\"annika\", is_palindrome(\"annika\"))"
   ]
  },
  {
   "cell_type": "markdown",
   "metadata": {
    "slideshow": {
     "slide_type": "fragment"
    }
   },
   "source": [
    "### Übungsaufgabe (nicht prüfungsrelevant)\n",
    "\n",
    "\n",
    "Ein bekanntes Beispiel für Rekursion sind die _Türme von Hanoi_. Schauen Sie sich [hier die Beschreibung des Problems und des Lösungsalgorithmus in Pseudocode an](https://www.cs.cmu.edu/~cburch/survey/recurse/hanoiimpl.html) und implementieren Sie die Lösung in Python. Bonus: Geben Sie nach jedem Zug den Stand der Stapel an."
   ]
  }
 ],
 "metadata": {
  "celltoolbar": "Slideshow",
  "kernelspec": {
   "display_name": "Python 3",
   "language": "python",
   "name": "python3"
  },
  "language_info": {
   "codemirror_mode": {
    "name": "ipython",
    "version": 3
   },
   "file_extension": ".py",
   "mimetype": "text/x-python",
   "name": "python",
   "nbconvert_exporter": "python",
   "pygments_lexer": "ipython3",
   "version": "3.5.3rc1"
  },
  "nav_menu": {},
  "toc": {
   "navigate_menu": true,
   "number_sections": false,
   "sideBar": true,
   "threshold": 6,
   "toc_cell": false,
   "toc_section_display": "block",
   "toc_window_display": false
  }
 },
 "nbformat": 4,
 "nbformat_minor": 0
}
