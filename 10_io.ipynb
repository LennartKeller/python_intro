{
 "cells": [
  {
   "cell_type": "markdown",
   "metadata": {
    "slideshow": {
     "slide_type": "slide"
    }
   },
   "source": [
    "## Einführung in das Programmieren mit Python\n",
    "\n",
    "# Input/Output"
   ]
  },
  {
   "cell_type": "markdown",
   "metadata": {
    "slideshow": {
     "slide_type": "skip"
    }
   },
   "source": [
    "## Wiederholung: Module\n",
    "\n",
    "* Module zur Kapselung zusammengehöriger Funktionen etc.\n",
    "* Python-Datei = Python-Modul\n",
    "* Import, Aliase und gezielter Import\n",
    "* `__name__ == \"__main__\"`\n",
    "* Doctests\n",
    "* Python-Standardbibliothek"
   ]
  },
  {
   "cell_type": "markdown",
   "metadata": {
    "slideshow": {
     "slide_type": "slide"
    }
   },
   "source": [
    "### Text-Dateien öffnen und lesen"
   ]
  },
  {
   "cell_type": "code",
   "execution_count": 1,
   "metadata": {
    "collapsed": false,
    "slideshow": {
     "slide_type": "fragment"
    }
   },
   "outputs": [
    {
     "data": {
      "text/plain": [
       "<_io.TextIOWrapper name='roman.txt' mode='rt' encoding='utf-8'>"
      ]
     },
     "execution_count": 1,
     "metadata": {},
     "output_type": "execute_result"
    }
   ],
   "source": [
    "f = open(\"roman.txt\", \"rt\", encoding=\"utf-8\")\n",
    "#        ^^^^^^^^^^^                       Dateiname\n",
    "#                     ^^^^                 Modus, r = lesen, t = Text\n",
    "#                                          (beides Default)\n",
    "#                           ^^^^^^^^^^^^^^ Textcodierung, Default systemabh.\n",
    "#=> Dateiobjekt\n",
    "f"
   ]
  },
  {
   "cell_type": "code",
   "execution_count": 2,
   "metadata": {
    "collapsed": false,
    "slideshow": {
     "slide_type": "fragment"
    }
   },
   "outputs": [
    {
     "name": "stdout",
     "output_type": "stream",
     "text": [
      "Kurzer Roman.\n",
      "Dies ist ein langer Roman. Er beginnt mit dem Auftritt des Heldens. \n",
      "Da es keine Helden gibt, unterbricht hier schon der Leser …\n",
      "\n"
     ]
    }
   ],
   "source": [
    "content = f.read()  # liest die komplette Datei in einen String ein. \n",
    "print(content)      # gibt den eingelesenen Inhalt der Datei aus\n",
    "f.close()           # Datei wieder schließen"
   ]
  },
  {
   "cell_type": "markdown",
   "metadata": {
    "slideshow": {
     "slide_type": "slide"
    }
   },
   "source": [
    "### Zeilenweises Einlesen einer Datei\n",
    "\n",
    "Dateien sind _Iterables_, sie können z.B. in `for`-Schleifen verwendet werden und liefern dann Zeilen:"
   ]
  },
  {
   "cell_type": "code",
   "execution_count": 3,
   "metadata": {
    "collapsed": false,
    "slideshow": {
     "slide_type": "fragment"
    }
   },
   "outputs": [
    {
     "name": "stdout",
     "output_type": "stream",
     "text": [
      "»Kurzer Roman.\n",
      "«\n",
      "»Dies ist ein langer Roman. Er beginnt mit dem Auftritt des Heldens. \n",
      "«\n",
      "»Da es keine Helden gibt, unterbricht hier schon der Leser …\n",
      "«\n"
     ]
    }
   ],
   "source": [
    "f = open(\"roman.txt\", encoding=\"utf-8\")\n",
    "for line in f:\n",
    "    print(\"»\" + line + \"«\") # hier kann man natürlich auch etwas Sinnvolleres tun …\n",
    "f.close()"
   ]
  },
  {
   "cell_type": "markdown",
   "metadata": {
    "slideshow": {
     "slide_type": "slide"
    }
   },
   "source": [
    "Schließen von Dateien\n",
    "Man sollte am Ende eines Zugriffs auf Dateien diese _immer_ schließen (`f.close()`). Um sicherzustellen, dass das passiert, kann man `with` verwenden:"
   ]
  },
  {
   "cell_type": "code",
   "execution_count": 4,
   "metadata": {
    "collapsed": false,
    "slideshow": {
     "slide_type": "fragment"
    }
   },
   "outputs": [
    {
     "name": "stdout",
     "output_type": "stream",
     "text": [
      "Kurzer Roman.\n",
      "Dies ist ein langer Roman. Er beginnt mit dem Auftritt des Heldens. \n",
      "Da es keine Helden gibt, unterbricht hier schon der Leser …\n"
     ]
    }
   ],
   "source": [
    "with open(\"roman.txt\", \"r\", encoding=\"utf-8\") as f:\n",
    "    for line in f:\n",
    "        print(line, end='')      "
   ]
  },
  {
   "cell_type": "markdown",
   "metadata": {
    "slideshow": {
     "slide_type": "slide"
    }
   },
   "source": [
    "<h3 style=\"color:green\">Aufgaben</h3>\n",
    "\n",
    "\n",
    "1. Legen Sie mit einem Editor eine utf-8-Datei in einem  Unterverzeichnis an (inkl. Umlaute und ß) und geben Sie dann den Inhalt mit Python aus. Unter Windows können Sie dafür den editor unter Zubehör verwenden. Beachten Sie das Encoding unter _Speichern unter_.\n",
    "2. Lesen Sie den Inhalt der Datei mit Python ein. Messen Sie mit Python, wieviele Buchstaben Ihr Probetext inkl. Leerzeichen etc. lang ist. Vergleichen Sie mit der von `os.path.getsize()` gemessenen Dateigröße."
   ]
  },
  {
   "cell_type": "code",
   "execution_count": 5,
   "metadata": {
    "collapsed": false,
    "slideshow": {
     "slide_type": "fragment"
    }
   },
   "outputs": [
    {
     "name": "stdout",
     "output_type": "stream",
     "text": [
      "Dies ist eine einfache Beispieldatei.\n",
      "\n",
      "Sie enthält Umlaute, GROẞE und nicht große Eszetts und ſogar ein langes ſ!\n",
      "\n"
     ]
    }
   ],
   "source": [
    "with open(\"beispiel.txt\", \"rt\", encoding=\"utf-8\") as f:\n",
    "    for line in f:\n",
    "        print(line)"
   ]
  },
  {
   "cell_type": "code",
   "execution_count": 7,
   "metadata": {
    "collapsed": false,
    "slideshow": {
     "slide_type": "fragment"
    }
   },
   "outputs": [
    {
     "name": "stdout",
     "output_type": "stream",
     "text": [
      "113\n",
      "121\n"
     ]
    }
   ],
   "source": [
    "import os\n",
    "with open(\"beispiel.txt\", \"rt\", encoding=\"utf-8\") as f:\n",
    "    content = f.read()    \n",
    "    print(len(content))\n",
    "    print(os.path.getsize(\"beispiel.txt\"))"
   ]
  },
  {
   "cell_type": "markdown",
   "metadata": {
    "slideshow": {
     "slide_type": "subslide"
    }
   },
   "source": [
    "Im [Hex-Viewer](http://de.wikipedia.org/wiki/Hex-Editor):\n",
    "\n",
    "<img src=\"files/images/utf-8_file.png\"/>\n",
    "\n",
    "* Codierung der Zeilenenden – in Windows als 0A 0D (`\\r\\n`), in Python-Strings als `'\\n'`\n",
    "* Codierung von Sonderzeichen mit mehr als einem Byte"
   ]
  },
  {
   "cell_type": "markdown",
   "metadata": {
    "slideshow": {
     "slide_type": "subslide"
    }
   },
   "source": [
    "### Encoding einer Textdatei\n",
    "\n",
    "* Zuordnung Bytefolge <> Interpretation als Zeichen\n",
    "* UTF-8 ist eine standardisierte, portable Codierung für den gesamten Unicode-Zeichenvorrat (bis zu 0x10FFFF verschiedene Zeichen)\n",
    "* UTF-8: ein Zeichen <> 1–4 Bytes\n",
    "* Python-3-Strings sind Unicode-Strings\n",
    "* _Tipp_: Arbeiten Sie immer mit UTF-8-Dateien, und geben Sie das Encoding explizit an."
   ]
  },
  {
   "cell_type": "code",
   "execution_count": 9,
   "metadata": {
    "collapsed": false,
    "slideshow": {
     "slide_type": "fragment"
    }
   },
   "outputs": [
    {
     "name": "stdout",
     "output_type": "stream",
     "text": [
      "Standardcodierung für Dateiinhalte (encoding-Parameter): UTF-8\n",
      "Standardcodierung für Dateinamen etc.: utf-8\n"
     ]
    }
   ],
   "source": [
    "import locale\n",
    "import sys\n",
    "\n",
    "print(\"Standardcodierung für Dateiinhalte (encoding-Parameter):\", locale.getpreferredencoding())\n",
    "print(\"Standardcodierung für Dateinamen etc.:\", sys.getfilesystemencoding())"
   ]
  },
  {
   "cell_type": "markdown",
   "metadata": {
    "slideshow": {
     "slide_type": "slide"
    }
   },
   "source": [
    "<h3>Schreiben von Dateien</h3>\n",
    "<p>Das Schreiben von Dateien funktioniert ganz ähnlich wie das Lesen.</p>"
   ]
  },
  {
   "cell_type": "code",
   "execution_count": 10,
   "metadata": {
    "collapsed": false,
    "slideshow": {
     "slide_type": "fragment"
    }
   },
   "outputs": [],
   "source": [
    "t = [\"Dies ist ein kürzerer Text.\", \"Und das wäre die letzte Zeile!\", \"Wenn es nicht eine weitere gäbe.\"]\n",
    "with open(\"fileout.txt\", \"w\", encoding=\"utf-8\") as output_file:\n",
    "    for l in t:\n",
    "        output_file.write(l + \"\\n\")"
   ]
  },
  {
   "cell_type": "markdown",
   "metadata": {
    "slideshow": {
     "slide_type": "fragment"
    }
   },
   "source": [
    "Beim Aufruf der Funktion open wird als Parameter nun `\"w\"` (write) gesetzt. `output_file` ist ebenfalls ein frei wählbarer Variablenname für unser Dateiobjekt.\n",
    "\n",
    "Achtung: Bei der Verwendung von `\"w\"` allein wird die Datei immer zuerst zurückgesetzt, wenn sie existieren sollte. D.h. evtl. bestehende Inhalte werden gelöscht!\n",
    "\n",
    "Beachten Sie, dass die Methode `write` nicht automatisch eine Newline anhängt, wie das im Fall von print geschieht."
   ]
  },
  {
   "cell_type": "markdown",
   "metadata": {
    "slideshow": {
     "slide_type": "slide"
    }
   },
   "source": [
    "<h3 style=\"color: green\">Aufgabe</h3>\n",
    "1. Schreiben Sie ein Skript, dass ihre oben mit dem Editor angelegte Datei öffnet und den Inhalt in eine Datei namens results.txt schreibt. Das encoding ist utf-8.</p>\n",
    "2. Variieren Sie ihr Skript, sodass es in der Zieldatei vor jede Zeile in der Quelldatei die Zeilennummer schreibt."
   ]
  },
  {
   "cell_type": "markdown",
   "metadata": {
    "slideshow": {
     "slide_type": "fragment"
    }
   },
   "source": [
    "#### Musterlösung"
   ]
  },
  {
   "cell_type": "code",
   "execution_count": 7,
   "metadata": {
    "collapsed": false,
    "slideshow": {
     "slide_type": "-"
    }
   },
   "outputs": [],
   "source": [
    "with open(\"roman.txt\", \"r\", encoding=\"utf-8\") as fin:\n",
    "    with open(\"result.txt\", \"w\", encoding=\"utf-8\") as fout:\n",
    "        for line in fin:\n",
    "            fout.write(line)"
   ]
  },
  {
   "cell_type": "markdown",
   "metadata": {
    "slideshow": {
     "slide_type": "fragment"
    }
   },
   "source": [
    "oder in einem Rutsch lesen:"
   ]
  },
  {
   "cell_type": "code",
   "execution_count": 8,
   "metadata": {
    "collapsed": false,
    "slideshow": {
     "slide_type": "fragment"
    }
   },
   "outputs": [],
   "source": [
    "with open(\"roman.txt\", \"r\", encoding=\"utf-8\") as fin:\n",
    "    content = fin.read()\n",
    "    with open(\"result.txt\", \"w\", encoding=\"utf-8\") as fout:\n",
    "        fout.write(content)"
   ]
  },
  {
   "cell_type": "code",
   "execution_count": 11,
   "metadata": {
    "collapsed": false,
    "slideshow": {
     "slide_type": "fragment"
    }
   },
   "outputs": [],
   "source": [
    "with open(\"roman.txt\", \"r\", encoding=\"utf-8\") as fin:\n",
    "    with open(\"result.txt\", \"w\", encoding=\"utf-8\") as fout:\n",
    "        lineno = 0\n",
    "        for line in fin:\n",
    "            lineno = lineno + 1\n",
    "            fout.write(str(lineno) + \" \" + line)"
   ]
  },
  {
   "cell_type": "markdown",
   "metadata": {
    "slideshow": {
     "slide_type": "slide"
    }
   },
   "source": [
    "<h3>Das Anhängen an eine Datei</h3>\n",
    "<p>Sie können Dateien auch ergänzen, indem Sie als Parameter statt \"w\" oder \"r\" den Buchstaben \"a\" (append) setzten.</p>"
   ]
  },
  {
   "cell_type": "code",
   "execution_count": 8,
   "metadata": {
    "collapsed": false,
    "slideshow": {
     "slide_type": "fragment"
    }
   },
   "outputs": [],
   "source": [
    "with open(\"fileout.txt\", \"a\", encoding=\"utf-8\") as writer:\n",
    "    writer.write(\"Hänge diese Zeile an. Das ist nun die letzte.\")"
   ]
  },
  {
   "cell_type": "markdown",
   "metadata": {
    "slideshow": {
     "slide_type": "skip"
    }
   },
   "source": [
    "Achtung: Wenn Sie hier das falsche encoding angeben oder den Parameter vergessen, es sich aber um eine utf-8 Datei handelt, dann kann es sehr gut sein, dass das Ergebnis fehlerhaft ist, ohne dass Python einen Fehler meldet!\n",
    "\n",
    "Das Anhängen mit `\"a\"` ist für Fälle gedacht, in denen die Datei beim Start Ihres Programmes bereits existiert (z.B. Protokolldateien). Wenn Sie aus verschiedenen Teilen Ihres Programms in dieselbe Datei schreiben wollen, reichen Sie besser das von `open` zurückgelieferte Dateiobjekt umher."
   ]
  },
  {
   "cell_type": "markdown",
   "metadata": {
    "slideshow": {
     "slide_type": "fragment"
    }
   },
   "source": [
    "<h3 style=\"color: green\">Aufgaben</h3>\n",
    "<p>Ergänzen Sie die Datei, die Sie oben angelegt haben, um zwei Zeilen.</p>"
   ]
  },
  {
   "cell_type": "markdown",
   "metadata": {
    "slideshow": {
     "slide_type": "slide"
    }
   },
   "source": [
    "## `open` im Detail\n",
    "```\n",
    "open(...)\n",
    "    open(file, mode='r', buffering=-1, encoding=None,\n",
    "         errors=None, newline=None, closefd=True, opener=None) -> file object\n",
    "```\n",
    "__mode__ ist ein String aus einem oder mehreren der folgenden Zeichen:\n",
    "\n",
    "|Character| Meaning                                                        |\n",
    "|---------|----------------------------------------------------------------|\n",
    "|'r'      | open for reading (default)                                     |\n",
    "|'w'      | open for writing, truncating the file first                    |\n",
    "|'x'      | create a new file and open it for writing                      |\n",
    "|'a'      | open for writing, appending to the end of the file if it exists|\n",
    "|'b'      | binary mode                                                    |\n",
    "|'t'      | text mode (default)                                            |\n",
    "|'+'      | open a disk file for updating (reading and writing)            |\n",
    "|'U'      | universal newline mode (deprecated)                            |\n",
    "\n",
    "__encoding__ z.B. `utf-8`, `latin1`, `cp1252`"
   ]
  },
  {
   "cell_type": "markdown",
   "metadata": {
    "slideshow": {
     "slide_type": "subslide"
    }
   },
   "source": [
    "### Textdatei (vs. Binärdatei)\n",
    "* Zeilenweises Einlesen möglich\n",
    "* Konvertierung der Zeilenenden (Linux, Python: `'\\n'`, Windows: `'\\r\\n'`, MacOS: `'\\r'`), Option `newline`\n",
    "* Dekodierung als String (Option `errors` regelt den Umgang mit Fehlern)"
   ]
  },
  {
   "cell_type": "markdown",
   "metadata": {
    "slideshow": {
     "slide_type": "slide"
    }
   },
   "source": [
    "### Übung\n",
    "\n",
    "Lesen Sie eine Textdatei ein und zerlegen sie in Wörter. Zählen Sie, wie oft jedes Wort vorkommt. D.h. Ergebnis Ihrer Funktion sollte eine Datenstruktur sein, die zu jedem Wort in der Datei die Häufigkeit angibt.\n",
    "\n",
    "* Bonus: Ignorieren Sie Groß- und Kleinschreibung"
   ]
  },
  {
   "cell_type": "code",
   "execution_count": 12,
   "metadata": {
    "collapsed": false
   },
   "outputs": [
    {
     "name": "stdout",
     "output_type": "stream",
     "text": [
      "{'es': 1, 'keine': 1, 'Auftritt': 1, 'Dies': 1, 'ein': 1, 'mit': 1, 'Er': 1, 'dem': 1, 'Kurzer': 1, 'der': 1, 'unterbricht': 1, '…': 1, 'ist': 1, 'des': 1, 'langer': 1, 'Heldens.': 1, 'Leser': 1, 'Roman.': 2, 'hier': 1, 'Da': 1, 'beginnt': 1, 'gibt,': 1, 'Helden': 1, 'schon': 1}\n"
     ]
    }
   ],
   "source": [
    "def count_words(filename):\n",
    "    word_counts = {}\n",
    "    with open(filename, \"rt\", encoding=\"utf-8\") as f:\n",
    "        for line in f:\n",
    "            for word in line.split():                \n",
    "                if word in word_counts:\n",
    "                    word_counts[word] += 1\n",
    "                else:\n",
    "                    word_counts[word] = 1\n",
    "    return word_counts\n",
    "print(count_words(\"roman.txt\"))"
   ]
  },
  {
   "cell_type": "markdown",
   "metadata": {},
   "source": [
    "## Umgang mit Dateinamen und -pfaden\n",
    "\n",
    "Für den Umgang mit Dateien gibt es Module in der Standardbibliothek:\n",
    "\n",
    "* `os.path` enthält Funktionen zum Umgang mit Dateinamen und -pfaden, mit und ohne Zugriff auf die Dateien\n",
    "* `os` enthält allgemeinere Dinge zum Betriebssystem, z.B. `os.listdir()`\n",
    "* `shutil` enthält »höhere« Betriebssystemfunktionen, z.B. Kopieren von Dateien\n",
    "* `glob` liefert die Funktion `glob.glob()`, mit der man z.B. "
   ]
  },
  {
   "cell_type": "code",
   "execution_count": 24,
   "metadata": {
    "collapsed": false
   },
   "outputs": [
    {
     "data": {
      "text/plain": [
       "['Arnim,-Ludwig-Achim-von_Armut Reichtum Schuld und Buße der Gräfin Dolores.txt',\n",
       " 'Arnim,-Ludwig-Achim-von_Isabella von Ägypten.txt',\n",
       " 'Arnim,-Ludwig-Achim-von_Kronenwächter 1.txt',\n",
       " 'Dohm,-Hedwig_Christa Ruland.txt',\n",
       " 'Dohm,-Hedwig_Schicksale einer Seele.txt',\n",
       " 'Dohm,-Hedwig_Sibilla Dalmar.txt',\n",
       " 'Ebner-Eschenbach,-Marie-von_Bozena.txt',\n",
       " 'Ebner-Eschenbach,-Marie-von_Das Gemeindekind.txt',\n",
       " 'Ebner-Eschenbach,-Marie-von_Unsühnbar.txt',\n",
       " 'Fischer,-Caroline-Auguste_Die Honigmonathe.txt',\n",
       " 'Fischer,-Caroline-Auguste_Gustavs Verirrungen.txt',\n",
       " 'Fischer,-Caroline-Auguste_Margarethe.txt',\n",
       " 'Fontane,-Theodor_Der Stechlin.txt',\n",
       " 'Fontane,-Theodor_Effi Briest.txt',\n",
       " 'Fontane,-Theodor_Irrungen Wirrungen.txt',\n",
       " 'Fouqué,-Caroline-de-la-Motte_Die Frau des Falkensteins.txt',\n",
       " 'Fouqué,-Caroline-de-la-Motte_Magie der Natur.txt',\n",
       " 'Fouqué,-Caroline-de-la-Motte_Resignation.txt',\n",
       " 'François,-Louise-von_Die letzte Reckenburgerin.txt',\n",
       " 'François,-Louise-von_Judith die Kluswirtin.txt',\n",
       " 'François,-Louise-von_Stufenjahre eines Glücklichen.txt',\n",
       " 'Freytag,-Gustav_Die Ahnen.txt',\n",
       " 'Freytag,-Gustav_Die verlorene Handschrift.txt',\n",
       " 'Freytag,-Gustav_Soll und Haben.txt',\n",
       " 'Goethe,-Johann-Wolfgang_Die Leiden des jungen Werther.txt',\n",
       " 'Goethe,-Johann-Wolfgang_Die Wahlverwandtschaften.txt',\n",
       " 'Goethe,-Johann-Wolfgang_Wilhelm Meisters Lehrjahre.txt',\n",
       " 'Gutzkow,-Karl_Der Zauberer von Rom.txt',\n",
       " 'Gutzkow,-Karl_Die Ritter vom Geiste.txt',\n",
       " 'Gutzkow,-Karl_Wally die Zweiflerin.txt',\n",
       " 'Hahn-Hahn,-Ida-Gräfin-von_Gräfin Faustine.txt',\n",
       " 'Hahn-Hahn,-Ida-Gräfin-von_Maria Regina.txt',\n",
       " 'Hahn-Hahn,-Ida-Gräfin-von_Sibylle.txt',\n",
       " 'Hauff,-Wilhelm_Die Bettlerin vom Pont des Arts.txt',\n",
       " 'Hauff,-Wilhelm_Lichtenstein.txt',\n",
       " 'Hauff,-Wilhelm_Mitteilungen aus den Memoiren des Satan.txt',\n",
       " 'Huber,-Therese_Die Familie Seldorf.txt',\n",
       " 'Huber,-Therese_Ellen Percy.txt',\n",
       " 'Huber,-Therese_Luise.txt',\n",
       " 'Jean-Paul_Flegeljahre.txt',\n",
       " 'Jean-Paul_Hesperus oder 45 Hundsposttage.txt',\n",
       " 'Jean-Paul_Titan.txt',\n",
       " 'Kafka,-Franz_Amerika.txt',\n",
       " 'Kafka,-Franz_Das Schloß.txt',\n",
       " 'Kafka,-Franz_Der Prozeß.txt',\n",
       " 'Keller,-Gottfried_Das Sinngedicht.txt',\n",
       " 'Keller,-Gottfried_Der grüne Heinrich [Erste Fassung].txt',\n",
       " 'Keller,-Gottfried_Martin Salander.txt',\n",
       " 'Lewald,-Fanny_Clementine.txt',\n",
       " 'Lewald,-Fanny_Eine Lebensfrage.txt',\n",
       " 'Lewald,-Fanny_Jenny.txt',\n",
       " 'Marlitt,-Eugenie_Das Geheimnis der alten Mamsell.txt',\n",
       " 'Marlitt,-Eugenie_Die Frau mit den Karfunkelsteinen.txt',\n",
       " 'Marlitt,-Eugenie_Goldelse.txt',\n",
       " 'May,-Karl_Im Reiche des silbernen Löwen I.txt',\n",
       " 'May,-Karl_Kurdistan.txt',\n",
       " 'May,-Karl_Old Surehand I.txt',\n",
       " 'Raabe,-Wilhelm_Das Odfeld.txt',\n",
       " 'Raabe,-Wilhelm_Im alten Eisen.txt',\n",
       " 'Raabe,-Wilhelm_Stopfkuchen. Eine See- und Mordgeschichte.txt',\n",
       " 'Schopenhauer,-Johanna_Die Tante.txt',\n",
       " 'Schopenhauer,-Johanna_Gabriele.txt',\n",
       " 'Schopenhauer,-Johanna_Richard Wood.txt',\n",
       " 'Spielhagen,-Friedrich_Hammer und Amboß.txt',\n",
       " 'Spielhagen,-Friedrich_Problematische Naturen. Erste Abtheilung.txt',\n",
       " 'Spielhagen,-Friedrich_Zum Zeitvertreib.txt',\n",
       " 'Tieck,-Ludwig_Franz Sternbalds Wanderungen.txt',\n",
       " 'Tieck,-Ludwig_Geschichte des Herrn William Lovell.txt',\n",
       " 'Tieck,-Ludwig_Vittoria Accorombona.txt',\n",
       " 'Wassermann,-Jakob_Christian Wahnschaffe.txt',\n",
       " 'Wassermann,-Jakob_Das Gänsemännchen.txt',\n",
       " 'Wassermann,-Jakob_Die Juden von Zirndorf.txt',\n",
       " 'Wieland,-Christoph-Martin_Aristipp und einige seiner Zeitgenossen.txt',\n",
       " 'Wieland,-Christoph-Martin_Die Abenteuer des Don Sylvio von Rosalva.txt',\n",
       " 'Wieland,-Christoph-Martin_Geschichte des Agathon.txt']"
      ]
     },
     "execution_count": 24,
     "metadata": {},
     "output_type": "execute_result"
    }
   ],
   "source": [
    "import os\n",
    "os.listdir('/home/tv/git/pydelta/corpus_DE')"
   ]
  },
  {
   "cell_type": "markdown",
   "metadata": {
    "slideshow": {
     "slide_type": "slide"
    }
   },
   "source": [
    "### Übung\n",
    "\n",
    "1. Entpacken Sie die ZIP-Datei `corpus_DE.zip` (mit dem Entpackprogramm Ihrer Wahl) und listen Sie alle Dateien mit vollem Dateipfad auf.\n",
    "2. Lesen Sie jede der Dateien ein und rufen Ihre Wörterzählfunktion darauf auf.\n",
    "3. Wie können wir einfach die Gesamtwörterzahl über das gesamte Corpus ermitteln?"
   ]
  }
 ],
 "metadata": {
  "celltoolbar": "Slideshow",
  "kernelspec": {
   "display_name": "Python 3",
   "language": "python",
   "name": "python3"
  },
  "language_info": {
   "codemirror_mode": {
    "name": "ipython",
    "version": 3
   },
   "file_extension": ".py",
   "mimetype": "text/x-python",
   "name": "python",
   "nbconvert_exporter": "python",
   "pygments_lexer": "ipython3",
   "version": "3.5.3rc1"
  },
  "nav_menu": {},
  "toc": {
   "navigate_menu": true,
   "number_sections": false,
   "sideBar": true,
   "threshold": 6,
   "toc_cell": false,
   "toc_section_display": "block",
   "toc_window_display": false
  }
 },
 "nbformat": 4,
 "nbformat_minor": 0
}
