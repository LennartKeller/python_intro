{
 "cells": [
  {
   "cell_type": "markdown",
   "metadata": {
    "slideshow": {
     "slide_type": "slide"
    }
   },
   "source": [
    "# Crashkurs Programmieren in Python"
   ]
  },
  {
   "cell_type": "markdown",
   "metadata": {
    "slideshow": {
     "slide_type": "slide"
    }
   },
   "source": [
    "## Wiederholung\n",
    "\n",
    "* _Ausdrücke_ aus Operatoren, Literalen, Variablen und Funktionsaufrufen können zu einem _Wert_ ausgewertet werden\n",
    "* _Werte_ haben einen _Datentyp_, z.B. `int`, `str`, `bool`, `list`, `dict`\n",
    "* Werte können _Variablen_ zugewiesen werden\n",
    "* Datenstrukturen:\n",
    "\n",
    "    * Listen – geordnete, veränderliche Folge von zumeist gleichartigen Elementen  `[1, 3, 5, 7, 11, 13, 17]`\n",
    "    * Dictionaries – »assoziatives Feld«, Zuordnung Schlüssel → Wert, keine Ordnung `{ 'Werther': 'Goethe', 'Räuber': 'Schiller' }`"
   ]
  },
  {
   "cell_type": "markdown",
   "metadata": {
    "slideshow": {
     "slide_type": "slide"
    }
   },
   "source": [
    "## Kontrollstrukturen\n",
    "\n",
    "### Verzweigungen: `if`"
   ]
  },
  {
   "cell_type": "code",
   "execution_count": 4,
   "metadata": {
    "collapsed": false,
    "slideshow": {
     "slide_type": "fragment"
    }
   },
   "outputs": [
    {
     "name": "stdout",
     "output_type": "stream",
     "text": [
      "Type a word: Python\n",
      "Python\n"
     ]
    }
   ],
   "source": [
    "word = input(\"Type a word: \")\n",
    "if len(word) == 4:\n",
    "    print('****')\n",
    "else:\n",
    "    print(word)"
   ]
  },
  {
   "cell_type": "markdown",
   "metadata": {
    "slideshow": {
     "slide_type": "subslide"
    }
   },
   "source": [
    "### Schleifen: `for`\n",
    "\n",
    "* for-Schleifen iterieren über eine Sequenz\n",
    "* z.B. über eine Liste, oder über die Keys eines Dictionaries"
   ]
  },
  {
   "cell_type": "code",
   "execution_count": 6,
   "metadata": {
    "collapsed": false,
    "slideshow": {
     "slide_type": "fragment"
    }
   },
   "outputs": [
    {
     "name": "stdout",
     "output_type": "stream",
     "text": [
      "Text? Python ist toll!\n",
      "Python hat 6 Zeichen\n",
      "ist hat 3 Zeichen\n",
      "toll! hat 5 Zeichen\n"
     ]
    }
   ],
   "source": [
    "text = input(\"Text? \")\n",
    "for word in text.split():\n",
    "    print(word, \"hat\", len(word), \"Zeichen\")"
   ]
  },
  {
   "cell_type": "markdown",
   "metadata": {
    "slideshow": {
     "slide_type": "subslide"
    }
   },
   "source": [
    "### Schleifen: `while`\n",
    "\n",
    "* `while`-Schleifen wiederholen, solange eine Bedingung wahr ist\n",
    "* im Schleifenkörper dafür sorgen, dass die Bedingung erfüllt wird"
   ]
  },
  {
   "cell_type": "markdown",
   "metadata": {
    "slideshow": {
     "slide_type": "subslide"
    }
   },
   "source": [
    "### Schleifen: Abbruch\n",
    "\n",
    "* `break` bricht eine Schleife vorzeitig ab"
   ]
  },
  {
   "cell_type": "markdown",
   "metadata": {
    "slideshow": {
     "slide_type": "subslide"
    }
   },
   "source": [
    "## Übung\n",
    "\n",
    "Für ein Inhaltsverzeichnis müssen Sie Überschriften bei Bedarf auf den verfügbaren Platz kürzen. Sie haben maximal 40 Zeichen zur Verfügung, wollen aber keine Wörter zerschneiden."
   ]
  },
  {
   "cell_type": "markdown",
   "metadata": {
    "slideshow": {
     "slide_type": "slide"
    }
   },
   "source": [
    "### Funktionen\n",
    "\n",
    "Funktionen dienen der Modularisierung und der Nachnutzung existierenden Codes."
   ]
  },
  {
   "cell_type": "code",
   "execution_count": 11,
   "metadata": {
    "collapsed": true,
    "slideshow": {
     "slide_type": "fragment"
    }
   },
   "outputs": [],
   "source": [
    "def add(numbers, normalize=False):\n",
    "    \"\"\"Adds the given numbers. If normalize=True, normalizes by list length.\"\"\"\n",
    "    total = 0\n",
    "    for number in numbers:\n",
    "        total = total + number\n",
    "    if normalize:\n",
    "        total = total / len(numbers)\n",
    "    return total  "
   ]
  },
  {
   "cell_type": "markdown",
   "metadata": {
    "slideshow": {
     "slide_type": "slide"
    }
   },
   "source": [
    "## Übung: Code modularisieren"
   ]
  },
  {
   "cell_type": "code",
   "execution_count": 12,
   "metadata": {
    "collapsed": false,
    "slideshow": {
     "slide_type": "-"
    }
   },
   "outputs": [
    {
     "name": "stdout",
     "output_type": "stream",
     "text": [
      "Durchschnittliche Wortlänge:  5.3\n",
      "Durchschnittliche Vokalanzahl:  1.7\n",
      "Durchschnittliche Konsonantenanzahl:  3.6\n"
     ]
    }
   ],
   "source": [
    "#!/usr/bin/env python3\n",
    "\n",
    "s = \"Herr Mustermann kommt ins Haus und trifft dort Frau Musterfrau\"\n",
    "sum_wordlength = 0\n",
    "for w in s.split():\n",
    "    sum_wordlength += len(w)\n",
    "avg_wordlength = sum_wordlength / len(s.split())\n",
    "print(\"Durchschnittliche Wortlänge: \", avg_wordlength )\n",
    "list_vowels = []\n",
    "for w in s.lower().split():\n",
    "    word_vowels = 0\n",
    "    for c in w:\n",
    "        if c in \"aeiou\":\n",
    "            word_vowels += 1\n",
    "    list_vowels.append(word_vowels)\n",
    "print(\"Durchschnittliche Vokalanzahl: \", sum(list_vowels) / len(list_vowels))\n",
    "list_consonants = []\n",
    "for w in s.lower().split():\n",
    "    word_cons = 0\n",
    "    for c in w:\n",
    "        if c in \"bcdfghjklmnpqrstvwxyz\":\n",
    "            word_cons += 1\n",
    "    list_consonants.append(word_cons)\n",
    "print(\"Durchschnittliche Konsonantenanzahl: \", sum(list_consonants) / len(list_consonants))"
   ]
  },
  {
   "cell_type": "markdown",
   "metadata": {
    "slideshow": {
     "slide_type": "slide"
    }
   },
   "source": [
    "## Übung: Akronyme"
   ]
  },
  {
   "cell_type": "markdown",
   "metadata": {
    "slideshow": {
     "slide_type": "fragment"
    }
   },
   "source": [
    "1. Schreiben Sie eine Funktion, die prüft, ob ein Wort ein Akronym ist. (Vereinfachend sei ein Akronym ein Wort, das nur aus Großbuchstaben bestehe)"
   ]
  },
  {
   "cell_type": "code",
   "execution_count": 21,
   "metadata": {
    "collapsed": false,
    "slideshow": {
     "slide_type": "fragment"
    }
   },
   "outputs": [
    {
     "name": "stdout",
     "output_type": "stream",
     "text": [
      "UNO True\n",
      "Bla False\n",
      "bla False\n",
      "42 False\n"
     ]
    }
   ],
   "source": [
    "import string\n",
    "\n",
    "def is_acronym(word):\n",
    "    for c in word:\n",
    "        if c not in 'ABCDEFGHIJKLMNOPQRSTUVWXYZ':\n",
    "            return False\n",
    "    return True\n",
    "\n",
    "for test in ['UNO', 'Bla', 'bla', '42']:\n",
    "    print(test, is_acronym(test))"
   ]
  },
  {
   "cell_type": "code",
   "execution_count": 14,
   "metadata": {
    "collapsed": true,
    "slideshow": {
     "slide_type": "subslide"
    }
   },
   "outputs": [],
   "source": [
    "text1 = \"\"\"\n",
    "Auch Colin Guinn, Präsident und CEO von DJI Innovations, einem führenden Hersteller\n",
    "diverser Multikopter, äußerte sich gegenüber The Verge: „Für ein Unternehmen wie \n",
    "Amazon oder UPS wäre es ein Einfaches, eine funktionierende Drohnen-Flotte \n",
    "innerhalb der nächsten 18 bis 24 Monate aufzustellen. In Bezug auf die technischen \n",
    "Möglichkeiten benötigen wir allerdings dringend eine verbesserte Objekterkennung \n",
    "und Kollisionsvermeidung. GPS Koordinaten allein reichen noch nicht aus, um Drohnen\n",
    "sicher zwischen Kindern und Autos manövrieren zu können.“\n",
    "\"\"\" # Quelle: http://www.drohnen.de/858/drohnen-als-postbote-ups-fedex-und-deutsche-post-offenbar-auch-mit-loesungen-beschaeftigt/"
   ]
  },
  {
   "cell_type": "markdown",
   "metadata": {
    "slideshow": {
     "slide_type": "fragment"
    }
   },
   "source": [
    "2. Schreiben Sie ein Programm, das aus einem Text alle Akronyme extrahiert."
   ]
  },
  {
   "cell_type": "markdown",
   "metadata": {
    "slideshow": {
     "slide_type": "slide"
    }
   },
   "source": [
    "## Übung: Effizienz\n",
    "\n",
    "Gegeben sei eine sortierte Liste von Werten, z.B.:"
   ]
  },
  {
   "cell_type": "code",
   "execution_count": 9,
   "metadata": {
    "collapsed": true,
    "slideshow": {
     "slide_type": "-"
    }
   },
   "outputs": [],
   "source": [
    "numbers = [1, 3, 5, 7, 11, 13, 17]"
   ]
  },
  {
   "cell_type": "markdown",
   "metadata": {
    "slideshow": {
     "slide_type": "fragment"
    }
   },
   "source": [
    "Schreiben Sie eine Funktion, die einen Wert in der Liste findet."
   ]
  },
  {
   "cell_type": "markdown",
   "metadata": {
    "slideshow": {
     "slide_type": "fragment"
    }
   },
   "source": [
    "Wie verändert sich die Laufzeit des Programms, wenn sich die Länge der Liste verdoppelt?"
   ]
  },
  {
   "cell_type": "markdown",
   "metadata": {
    "slideshow": {
     "slide_type": "fragment"
    }
   },
   "source": [
    "Kann man das Verhalten verbessern?"
   ]
  }
 ],
 "metadata": {
  "celltoolbar": "Slideshow",
  "kernelspec": {
   "display_name": "Python 3",
   "language": "python",
   "name": "python3"
  },
  "language_info": {
   "codemirror_mode": {
    "name": "ipython",
    "version": 3
   },
   "file_extension": ".py",
   "mimetype": "text/x-python",
   "name": "python",
   "nbconvert_exporter": "python",
   "pygments_lexer": "ipython3",
   "version": "3.5.1+"
  },
  "nav_menu": {},
  "toc": {
   "navigate_menu": true,
   "number_sections": false,
   "sideBar": true,
   "threshold": 6,
   "toc_cell": false,
   "toc_section_display": "block",
   "toc_window_display": false
  }
 },
 "nbformat": 4,
 "nbformat_minor": 1
}
