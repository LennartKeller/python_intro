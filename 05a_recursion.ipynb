{
 "metadata": {
  "celltoolbar": "Slideshow",
  "name": "",
  "signature": "sha256:24ef6c50e9a1fae3fda17383fcc253a55b5dcf990d8df45f23be391038cb6195"
 },
 "nbformat": 3,
 "nbformat_minor": 0,
 "worksheets": [
  {
   "cells": [
    {
     "cell_type": "heading",
     "level": 1,
     "metadata": {
      "slideshow": {
       "slide_type": "slide"
      }
     },
     "source": [
      "Einf\u00fchrung in das Programmieren mit Python"
     ]
    },
    {
     "cell_type": "heading",
     "level": 2,
     "metadata": {
      "slideshow": {
       "slide_type": "-"
      }
     },
     "source": [
      "Funktionen: Rekursion"
     ]
    },
    {
     "cell_type": "markdown",
     "metadata": {
      "slideshow": {
       "slide_type": "subslide"
      }
     },
     "source": [
      "<h3 style=\"color:green;\">Hausaufgabe 2</h3>\n",
      "\n",
      "Python hat eine eingebaute Funktion `sum`, das ein Iterable (z.B. eine Liste) und einen optionalen Startwert als Default nimmt und die Summe daraus zur\u00fcckliefert:"
     ]
    },
    {
     "cell_type": "code",
     "collapsed": false,
     "input": [
      "help(sum)"
     ],
     "language": "python",
     "metadata": {
      "slideshow": {
       "slide_type": "-"
      }
     },
     "outputs": [
      {
       "output_type": "stream",
       "stream": "stdout",
       "text": [
        "Help on built-in function sum in module builtins:\n",
        "\n",
        "sum(...)\n",
        "    sum(iterable[, start]) -> value\n",
        "    \n",
        "    Return the sum of an iterable of numbers (NOT strings) plus the value\n",
        "    of parameter 'start' (which defaults to 0).  When the iterable is\n",
        "    empty, return start.\n",
        "\n"
       ]
      }
     ],
     "prompt_number": 2
    },
    {
     "cell_type": "markdown",
     "metadata": {
      "slideshow": {
       "slide_type": "-"
      }
     },
     "source": [
      "Schreiben Sie eine \u00e4quivalente Funktion `product`, die eine Liste und optional einen Startfaktor (der nat\u00fcrlich hier sinnvollerweise 1 ist, wenn nicht angegeben) nimmt, alle Elemente miteinander multipliziert und das Produkt zur\u00fcckliefert. Schreiben Sie au\u00dferdem vier Testf\u00e4lle (Funktionsaufrufe), mit und ohne Startwert und mit voller und leerer Liste."
     ]
    },
    {
     "cell_type": "heading",
     "level": 3,
     "metadata": {
      "slideshow": {
       "slide_type": "subslide"
      }
     },
     "source": [
      "Musterl\u00f6sung"
     ]
    },
    {
     "cell_type": "code",
     "collapsed": false,
     "input": [
      "#!/usr/bin/env python3\n",
      "\n",
      "def product(factors, start=1):\n",
      "    \"\"\"\n",
      "    Multiplies the given factors.\n",
      "\n",
      "    Arguments:\n",
      "        factors (list of numbers):  factors to multiply\n",
      "        start (number): start factor\n",
      "    \"\"\"\n",
      "    result = start\n",
      "    for factor in factors:\n",
      "        result *= factor\n",
      "    return result\n",
      "\n",
      "print(product([3, 4, 5]))\n",
      "print(product([], start=5))\n",
      "print(product([3, 5, 7], start=2))"
     ],
     "language": "python",
     "metadata": {},
     "outputs": [
      {
       "output_type": "stream",
       "stream": "stdout",
       "text": [
        "60\n",
        "5\n",
        "210\n"
       ]
      }
     ],
     "prompt_number": 1
    },
    {
     "cell_type": "heading",
     "level": 2,
     "metadata": {
      "slideshow": {
       "slide_type": "slide"
      }
     },
     "source": [
      "Rekursion"
     ]
    },
    {
     "cell_type": "markdown",
     "metadata": {
      "slideshow": {
       "slide_type": "-"
      }
     },
     "source": [
      "* Aufruf einer Funktion durch sich selbst"
     ]
    },
    {
     "cell_type": "markdown",
     "metadata": {
      "slideshow": {
       "slide_type": "-"
      }
     },
     "source": [
      "\n",
      "<p>Als Rekursion bezeichnet man den Aufruf einer Funktion durch sich selbst. Eine rekursive Funktion besteht typischerweise aus zwei Bausteinen, einem Verarbeitungsteil, der auch den Selbstaufruf enth\u00e4lt und einer Pr\u00fcfung, die feststellt, ob ein bestimmte Bedingung erreicht ist, so dass die Rekursion endet. </p>\n",
      "<p>Rekursionen funktionieren also \u00e4hnlich wie Schleifen. Wann soll man Rekursionen verwenden? Wenn man bei der Analyse des Problems feststellt, dass jede komplexere Form des Problems sich auf eine einfache L\u00f6sung des Problems zur\u00fcckf\u00fchren l\u00e4sst. Eine ausf\u00fchrlichere Behandlung von Rekursion finden Sie <a href=\"http://cs.stanford.edu/people/eroberts/courses/cs106b/chapters/05-intro-to-recursion.pdf\">hier</a>.<br/></p>\n",
      "<p>Die prinzipielle Struktur einer rekursiven Funktion sieht also so aus:</p>"
     ]
    },
    {
     "cell_type": "code",
     "collapsed": true,
     "input": [
      "if (test for simple case) == True: \n",
      "    Bereche eine einfache L\u00f6sung ohne Rekursion\n",
      "else:\n",
      "    Zerlege das Problem in Teilprobleme, die die gleiche Form haben.\n",
      "    L\u00f6se jedes Teilproblem durch rekursiven Aufruf der Funktion.\n",
      "    Setze die L\u00f6sungen f\u00fcr die Teilprobleme zusammen, um eine L\u00f6sung f\u00fcr das ganze Problem zu erhalten."
     ],
     "language": "python",
     "metadata": {
      "slideshow": {
       "slide_type": "fragment"
      }
     },
     "outputs": []
    },
    {
     "cell_type": "markdown",
     "metadata": {
      "slideshow": {
       "slide_type": "subslide"
      }
     },
     "source": [
      "Beispiel: **Fakult\u00e4t** $n!$ einer nat\u00fcrlichen Zahl $n$:<br/>\n",
      "\n",
      "* $n!$ (sprich: $n$ Fakult\u00e4t) ist definiert als $n \\cdot (n-1)!$\n",
      "* $0!$ ist definiert als $1$\n",
      "\n",
      "\n",
      "$3! = 3 \\cdot 2! = 3 \\cdot 2 \\cdot 1! = 3 \\cdot 2 \\cdot 1 \\cdot 0! = 3 \\cdot 2 \\cdot 1 \\cdot 1 = 6$\n"
     ]
    },
    {
     "cell_type": "code",
     "collapsed": false,
     "input": [
      "def factorial(n):\n",
      "    \"\"\"\"\n",
      "    calculates the factorial of n\n",
      "    \"\"\"\n",
      "    if n == 0:      # einfacher fall ohne rekursion\n",
      "        return 1\n",
      "    else:\n",
      "        result = n * factorial(n-1)   #Zerlegung: n! = n * (n-1)!   L\u00f6sung von (n-1)! durch rekursiven Aufruf der F.\n",
      "                                      #Zusammensetzung durch die Multiplikation der Einzelzahlen\n",
      "        return result\n",
      "\n",
      "    \n",
      "print(\"Fakult\u00e4t 3! ist \", factorial(3))"
     ],
     "language": "python",
     "metadata": {
      "slideshow": {
       "slide_type": "fragment"
      }
     },
     "outputs": [
      {
       "output_type": "stream",
       "stream": "stdout",
       "text": [
        "Fakult\u00e4t 3! ist  6\n"
       ]
      }
     ],
     "prompt_number": 19
    },
    {
     "cell_type": "code",
     "collapsed": false,
     "input": [
      "#um zu sehen, was hier genau passiert, f\u00fcgen wir einige print-statements ein\n",
      "def factorial(n):\n",
      "    print(\"factorial of\", n, \"?\")\n",
      "    if n == 0:\n",
      "        print(n, \"(simple case)\")\n",
      "        return 1\n",
      "    else:\n",
      "        result = n * factorial(n-1)\n",
      "        print(str(n) + \"! =\", result)\n",
      "        return result\n",
      "\n",
      "print(\"Fakult\u00e4t 3! ist \", factorial(3))"
     ],
     "language": "python",
     "metadata": {
      "slideshow": {
       "slide_type": "slide"
      }
     },
     "outputs": [
      {
       "output_type": "stream",
       "stream": "stdout",
       "text": [
        "factorial of 3 ?\n",
        "factorial of 2 ?\n",
        "factorial of 1 ?\n",
        "factorial of 0 ?\n",
        "0 (simple case)\n",
        "1! = 1\n",
        "2! = 2\n",
        "3! = 6\n",
        "Fakult\u00e4t 3! ist  6\n"
       ]
      }
     ],
     "prompt_number": 20
    },
    {
     "cell_type": "markdown",
     "metadata": {
      "slideshow": {
       "slide_type": "skip"
      }
     },
     "source": [
      "<p>Was passiert hier? Im ersten Durchlauf ist n==3, d.h. das Programm springt von Z.4 zu Z. 7 und beginnt mit der Bearbeitung von Z.8. Python berechnet `3 *`, aber um den zweiten Faktor zu berechnen, muss es wiederum die Funktion aufrufen. Der urspr\u00fcngliche Aufruf der Funktion (nennen wir ihn Funktionsaufruf[0]) wir also angehalten und auf einen Stapel gelegt.</p>\n",
      "<p>Die Berechnung des zweiten Faktors hat einen neuen Aufruf gestartet, Funktionsaufruf[1]. n ist hier == 2. Wiederum springt das Programm von Zeile 3 zu Zeile 6 und beginnt dann mit der Arbeit an Zeile 8: Es rechnet 2 * -- und auch hier muss der Programmaufruf angehalten werden, da die Funktion nun zum 3. Mal aufgerufen wird (Funktionsaufruf[2]), w\u00e4hrend Funktionsaufruf[1] ebenfalls auf den Stapel kommt.</p>\n",
      "<p>Bei Funktionsaufruf[2] ist n == 1. Es geschieht wieder dasselbe, Funktionsaufruf[2] kommt auf den Stapel, Funktionsaufruf[3] erfolgt dann mit `n == 0`.\n",
      "<p>Deshalb verzweigt das Programm nun, in Funktionsaufruf[3], von Z. 4 zu Z. 5 und gibt die Zeile `0 (simple case`) aus. Dann wird Funktionsaufruf[3] mit dem R\u00fcckgabewert 1 beendet. Der Stapeleintrag f\u00fcr Funktionsaufruf[3] wird damit entfernt.</p>\n",
      "<p>Der R\u00fcckgabewert wird an den letzten Funktionsaufruf gegeben, der auf den Stapel gewandert ist, also Funktionsaufruf[2]. Hier kann nun die Multiplikation vollzogen werden: `1 * 1`. Das Ergebnis wird ausgegeben und dann wird die Funktion mit dem R\u00fcckgabewert `1` beendet. </p>\n",
      "<p>Dieser R\u00fcckgabewert wird an den nunmehr letzten Funktionsaufruf gegeben, der auf den Stapel gewandert ist, also Funktionsaufruf[1]. Hier kann nun die Multiplikation vollzogen werden: `2 * 1`. Das Ergebnis wird ausgegeben und dann wird die Funktion mit dem R\u00fcckgabewert `2` beendet. </p>\n",
      "<p>Der R\u00fcckgabewert wird an den Funktionsaufruf[0], der noch auf dem Stapel liegt, gegeben. Hier kann nun wiederum weiter gerechnet werden: `3 * 2`. Das Ergebnis, `6`, wird ausgegeben und dann als R\u00fcckgabewert zur\u00fcckgegeben. "
     ]
    },
    {
     "cell_type": "markdown",
     "metadata": {
      "slideshow": {
       "slide_type": "slide"
      }
     },
     "source": [
      "<h3 style=\"color:green\">Aufgabe</h3> \n",
      "Ein _Palindrom_ ist ein String, der von vorn wie von hinten gelesen gleich ist, z.B. `\"anna\"` oder `\"MAOAM\"`.\n",
      "\n",
      "Schreiben Sie eine rekursive Funktion `is_palindrome(s)`, die f\u00fcr einen gegebenen String \u00fcberpr\u00fcft, ob es sich um ein Palindrom handelt. Welche F\u00e4lle von Strings sind trivialerweise Palindrome?"
     ]
    },
    {
     "cell_type": "heading",
     "level": 4,
     "metadata": {
      "slideshow": {
       "slide_type": "subslide"
      }
     },
     "source": [
      "Musterl\u00f6sung"
     ]
    },
    {
     "cell_type": "code",
     "collapsed": true,
     "input": [
      "def is_palindrome(s):\n",
      "    \n",
      "    print(\"... checking\", s, \"...\")\n",
      "    if len(s) <= 1:\n",
      "        return True\n",
      "    if s[0] == s[-1]:\n",
      "        return is_palindrome(s[1:-1])\n",
      "    else:\n",
      "        return False\n",
      "    \n",
      "print(\"anna\", is_palindrome(\"anna\"))\n",
      "print(\"MAOAM\", is_palindrome(\"MAOAM\"))\n",
      "print(\"annika\", is_palindrome(\"annika\"))"
     ],
     "language": "python",
     "metadata": {
      "slideshow": {
       "slide_type": "fragment"
      }
     },
     "outputs": [
      {
       "output_type": "stream",
       "stream": "stdout",
       "text": [
        "... checking anna ...\n",
        "... checking nn ...\n",
        "... checking  ...\n",
        "anna True\n",
        "... checking MAOAM ...\n",
        "... checking AOA ...\n",
        "... checking O ...\n",
        "MAOAM True\n",
        "... checking annika ...\n",
        "... checking nnik ...\n",
        "annika False\n"
       ]
      }
     ],
     "prompt_number": 7
    },
    {
     "cell_type": "markdown",
     "metadata": {
      "slideshow": {
       "slide_type": "fragment"
      }
     },
     "source": [
      "### \u00dcbungsaufgabe (nicht pr\u00fcfungsrelevant)\n",
      "\n",
      "\n",
      "Ein bekanntes Beispiel f\u00fcr Rekursion sind die _T\u00fcrme von Hanoi_. Schauen Sie sich [hier die Beschreibung des Problems und des L\u00f6sungsalgorithmus in Pseudocode an](https://www.cs.cmu.edu/~cburch/survey/recurse/hanoiimpl.html) und implementieren Sie die L\u00f6sung in Python. Bonus: Geben Sie nach jedem Zug den Stand der Stapel an."
     ]
    }
   ],
   "metadata": {}
  }
 ]
}