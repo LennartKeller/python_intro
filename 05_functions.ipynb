{
 "metadata": {
  "celltoolbar": "Slideshow",
  "name": "",
  "signature": "sha256:384b5395b40162a306415e9fb8ab192bff235914799f23c17147e73d27b67b45"
 },
 "nbformat": 3,
 "nbformat_minor": 0,
 "worksheets": [
  {
   "cells": [
    {
     "cell_type": "heading",
     "level": 1,
     "metadata": {
      "slideshow": {
       "slide_type": "slide"
      }
     },
     "source": [
      "Einf\u00fchrung in das Programmieren mit Python"
     ]
    },
    {
     "cell_type": "heading",
     "level": 2,
     "metadata": {
      "slideshow": {
       "slide_type": "-"
      }
     },
     "source": [
      "Funktionen und Module"
     ]
    },
    {
     "cell_type": "markdown",
     "metadata": {
      "slideshow": {
       "slide_type": "slide"
      }
     },
     "source": [
      "<h3>Wiederholung Schleifen</h3>\n",
      "<ul>\n",
      "<li>while - Schleifen werden so formuliert:<br/>\n",
      "<code>while &lt;bedingung>:\n",
      "    code</code><br/>\n",
      "Sie werden solange ausgef\u00fchrt, wie die Bedingung wahr ist. Achtung vor Endlosschleifen\n",
      "<li>F\u00fcr alles Listenartige verwendet man aber besser for - Schleifen:<br/>\n",
      "<code>\n",
      "for x in \u2039List\u203a:\n",
      "    code</code>\n",
      "<li>Mit der Funktion range(n) kann man eine Liste von Zahlen von 0 bis n erzeugen. Mit range(n,m) erzeugt man eine Liste, die bei n anf\u00e4ngt und bis m reicht. Sie wird h\u00e4ufig in for-Schleifen verwendet:   <br/>\n",
      "<code>\n",
      "for i in range (3):\n",
      "    print(i)</code>\n",
      "<li>Schleifen und bedingte Verzweigungen k\u00f6nnen beliebig verschachtelt werden."
     ]
    },
    {
     "cell_type": "markdown",
     "metadata": {
      "slideshow": {
       "slide_type": "subslide"
      }
     },
     "source": [
      "<h3>\u00dcbungsaufgaben</h3>\n",
      "<p> Sie haben eine Liste mit 5 Elementen: sa = [1,2,3,4]\n",
      "<p> 1) Schreiben Sie ein Skript, das jedes Element mit jedem anderen vergleicht (1 -> 3 und 3 -> 1), aber nicht mit sich selbst.<br/> \n",
      "Der Output soll so aussehen: <br/> \n",
      "<code>comparing 1 -> 2\n",
      "comparing 1 -> 3 \n",
      "comparing 1 -> 4 \n",
      "comparing 2 -> 1 \n",
      "usw.</code>"
     ]
    },
    {
     "cell_type": "code",
     "collapsed": false,
     "input": [
      "sa = [1,2,3,4]\n",
      "c = 0\n",
      "d = 0\n",
      "while c < len(sa):\n",
      "    while d < len(sa):\n",
      "        if c != d:\n",
      "            print(\"comparing \", sa[c], \" -> \", sa[d])\n",
      "        d += 1\n",
      "    d = 0\n",
      "    c += 1"
     ],
     "language": "python",
     "metadata": {
      "slideshow": {
       "slide_type": "subslide"
      }
     },
     "outputs": [
      {
       "output_type": "stream",
       "stream": "stdout",
       "text": [
        "comparing  1  ->  2\n",
        "comparing  1  ->  3\n",
        "comparing  1  ->  4\n",
        "comparing  2  ->  1\n",
        "comparing  2  ->  3\n",
        "comparing  2  ->  4\n",
        "comparing  3  ->  1\n",
        "comparing  3  ->  2\n",
        "comparing  3  ->  4\n",
        "comparing  4  ->  1\n",
        "comparing  4  ->  2\n",
        "comparing  4  ->  3\n"
       ]
      }
     ],
     "prompt_number": 4
    },
    {
     "cell_type": "code",
     "collapsed": false,
     "input": [
      "sa = [1,2,3,4]\n",
      "for c in range(len(sa)):\n",
      "    for d in range(len(sa)):\n",
      "        if c != d:\n",
      "            print (\"comparing \", sa[c], \" -> \", sa[d])"
     ],
     "language": "python",
     "metadata": {
      "slideshow": {
       "slide_type": "subslide"
      }
     },
     "outputs": [
      {
       "output_type": "stream",
       "stream": "stdout",
       "text": [
        "comparing  1  ->  2\n",
        "comparing  1  ->  3\n",
        "comparing  1  ->  4\n",
        "comparing  2  ->  1\n",
        "comparing  2  ->  3\n",
        "comparing  2  ->  4\n",
        "comparing  3  ->  1\n",
        "comparing  3  ->  2\n",
        "comparing  3  ->  4\n",
        "comparing  4  ->  1\n",
        "comparing  4  ->  2\n",
        "comparing  4  ->  3\n"
       ]
      }
     ],
     "prompt_number": 5
    },
    {
     "cell_type": "markdown",
     "metadata": {
      "slideshow": {
       "slide_type": "subslide"
      }
     },
     "source": [
      "<p>2) Schreiben Sie das Programm so um, dass jedes Element nur einmal mit jedem anderen verglichen wird (aber nicht mit sich selbst), also statt  1 -> 2 und 2 -> 1  gibt es nun nur noch eine Zeile: 1 <-> 2"
     ]
    },
    {
     "cell_type": "code",
     "collapsed": false,
     "input": [
      "for i in range(len(sa)):\n",
      "    for j in range(i, len(sa)):        # <- i als start\n",
      "        if sa[i] != sa[j]:\n",
      "            print (\"comparing \", sa[i], \" <-> \", sa[j])"
     ],
     "language": "python",
     "metadata": {
      "slideshow": {
       "slide_type": "subslide"
      }
     },
     "outputs": [
      {
       "output_type": "stream",
       "stream": "stdout",
       "text": [
        "comparing  1  <->  2\n",
        "comparing  1  <->  3\n",
        "comparing  1  <->  4\n",
        "comparing  2  <->  3\n",
        "comparing  2  <->  4\n",
        "comparing  3  <->  4\n"
       ]
      }
     ],
     "prompt_number": 6
    },
    {
     "cell_type": "markdown",
     "metadata": {
      "slideshow": {
       "slide_type": "slide"
      }
     },
     "source": [
      "### Funktionen und Module\n",
      "\n",
      "Management von Komplexit\u00e4t:\n",
      "\n",
      "* Modularisierung: \u00dcbersichtlichkeit und Fokus\n",
      "* Abstraktion: Wiederverwendung erm\u00f6glichen, Vermeiden von Wiederholungen\n",
      "* Management unterschiedlicher Abstraktionsebenen\n",
      "* Klare Schnittstellen zum Rest des Programms\n",
      "\n",
      "Praxis: So klein wie m\u00f6glich"
     ]
    },
    {
     "cell_type": "markdown",
     "metadata": {
      "slideshow": {
       "slide_type": "slide"
      }
     },
     "source": [
      "<h3>Definition einer Funktion</h3>\n",
      "<ul>\n",
      "<li>_Funktionsname_, mit dem die Funktion aufgerufen wird\n",
      "<li>die _Parameter_, die beim Aufruf der Funktion an die Funktion \u00fcbergeben werden (optional)\n",
      "<li>den _R\u00fcckgabewert_ der Funktion (optional)\n",
      "</ul>"
     ]
    },
    {
     "cell_type": "code",
     "collapsed": false,
     "input": [
      "# Funktionsdefinitionen beginnen mit 'def'  \n",
      "# der Bezeichner nach def ist der Funktionsname\n",
      "# in den Klammern stehen die Parameter der Funktion\n",
      "def add(nr1, nr2):\n",
      "    # nach der Definitionszeile folgt der Code der Funktion\n",
      "    result = nr1 + nr2\n",
      "    # return bestimmt den R\u00fcckgabewert der Funktion\n",
      "    return result\n",
      "\n",
      "#jetzt kann man die Funktion aufrufen:\n",
      "add(211, 889)\n"
     ],
     "language": "python",
     "metadata": {
      "slideshow": {
       "slide_type": "fragment"
      }
     },
     "outputs": [
      {
       "metadata": {},
       "output_type": "pyout",
       "prompt_number": 8,
       "text": [
        "1100"
       ]
      }
     ],
     "prompt_number": 8
    },
    {
     "cell_type": "markdown",
     "metadata": {
      "slideshow": {
       "slide_type": "subslide"
      }
     },
     "source": [
      "<h3>Funktionen \u2013 Schritt f\u00fcr Schritt</h3>\n",
      "<code>def add(nr1, nr2):\n",
      "\tresult = nr1 + nr2\n",
      "\treturn result\n",
      "</code>\n",
      "\n",
      "<p>Was passiert nun genau beim Aufruf der Funktion?</p>\n",
      "\n",
      "<code>add(3, 7)</code>\n",
      "<p>Implizit wird am Anfang der Funktion durch die Angabe der Parameter eine Zuweisung vorgenommen:</p>\n",
      "<code>nr1 = 3\n",
      "nr2 = 7</code>\n",
      "<p>D.h. die Werte 3 und 7 werden beim Aufruf der Funktion an die Variablen nr1 und nr2 gebunden.</p>\n",
      "\n",
      "<p>Dann kann das Ergebnis berechnet werden:</p>\n",
      "<code>result = nr1 + nr2 </code>\n",
      "\n",
      "<p>Und als R\u00fcckgabewert ausgegeben werden:</p>\n",
      "<code>return result</code>\n"
     ]
    },
    {
     "cell_type": "markdown",
     "metadata": {
      "slideshow": {
       "slide_type": "slide"
      }
     },
     "source": [
      "<h3 style=\"color:green\">Aufgaben</h3>\n",
      "<p>1) Schreiben Sie eine Funktion, der beim Aufruf ein String \u00fcbergeben wird und die als R\u00fcckgabe einen String der Form \"Dieser String hat x Zeichen\" zur\u00fcckgibt, wobei x die Anzahl der Zeichen im String sind.</p>\n",
      "<p>2) Mit der Methode split() kann man Zeichenketten in Listen zerlegen. Wenn s = \"Dies ist ein Satz\" ist, dann gibt s.split() als R\u00fcckgabewert die Liste [\"Dies\",\"ist\",\"ein\",\"Satz\"] aus. <br/>\n",
      "Schreiben Sie eine Funktion, die die durchschnittliche Wortl\u00e4nge einer Zeichenkette berechnet (wir ignorieren die Satzzeichen erst einmal). \n"
     ]
    },
    {
     "cell_type": "markdown",
     "metadata": {
      "slideshow": {
       "slide_type": "subslide"
      }
     },
     "source": [
      "<h3>Musterl\u00f6sung</h3>\n",
      "1) Schreiben Sie eine Funktion, der beim Aufruf ein String \u00fcbergeben wird und die als R\u00fcckgabe einen String der Form \"Dieser String hat x Zeichen\" liefert, wobei x die Anzahl der Zeichen im String sind."
     ]
    },
    {
     "cell_type": "code",
     "collapsed": false,
     "input": [
      "def format_len(s):\n",
      "    return \"Dieser String hat \" + str(len(s)) + \" Zeichen.\"\n",
      "\n",
      "# Test:\n",
      "print(format_len(\"Dies ist ein kleiner Test\"))"
     ],
     "language": "python",
     "metadata": {
      "slideshow": {
       "slide_type": "fragment"
      }
     },
     "outputs": [
      {
       "output_type": "stream",
       "stream": "stdout",
       "text": [
        "Dieser String hat 25 Zeichen.\n"
       ]
      }
     ],
     "prompt_number": 10
    },
    {
     "cell_type": "markdown",
     "metadata": {
      "slideshow": {
       "slide_type": "fragment"
      }
     },
     "source": [
      "<p>2) Schreiben Sie eine Funktion, die die durchschnittliche Wortl\u00e4nge einer Zeichenkette berechnet (wir ignorieren die Satzzeichen erst einmal). \n"
     ]
    },
    {
     "cell_type": "code",
     "collapsed": false,
     "input": [
      "def avg_word_length(s):\n",
      "    words = s.split()\n",
      "    total_len = 0\n",
      "    for w in words:\n",
      "        total_len += len(w)\n",
      "    return total_len / len(words)\n",
      "\n",
      "# Test:\n",
      "sent = \"Dies ist ein kleiner, aber erheblich interessanterer Test als der letzte oder so.\"\n",
      "print(\"Durchschnittliche Wortl\u00e4nge: \", avg_word_length(sent))"
     ],
     "language": "python",
     "metadata": {
      "slideshow": {
       "slide_type": "fragment"
      }
     },
     "outputs": [
      {
       "output_type": "stream",
       "stream": "stdout",
       "text": [
        "Durchschnittliche Wortl\u00e4nge:  5.3076923076923075\n"
       ]
      }
     ],
     "prompt_number": 11
    },
    {
     "cell_type": "markdown",
     "metadata": {
      "slideshow": {
       "slide_type": "slide"
      }
     },
     "source": [
      "### Signatur einer Funktion\n",
      "\n",
      "* Name\n",
      "* Argumente\n",
      "* (R\u00fcckgabewert)\n",
      "\n",
      "In Python:\n",
      "\n",
      "* Identifikation der Funktion nur durch den Namen\n",
      "* \u00dcberpr\u00fcfung der Signatur erst beim Aufruf"
     ]
    },
    {
     "cell_type": "code",
     "collapsed": false,
     "input": [
      "def calculate(add1, add2, divisor, factor):\n",
      "    return ((add1 + add2) / divisor) * factor\n",
      "\n",
      "calculate(3, 6, 3, 12)"
     ],
     "language": "python",
     "metadata": {
      "slideshow": {
       "slide_type": "-"
      }
     },
     "outputs": [
      {
       "metadata": {},
       "output_type": "pyout",
       "prompt_number": 12,
       "text": [
        "36.0"
       ]
      }
     ],
     "prompt_number": 12
    },
    {
     "cell_type": "markdown",
     "metadata": {
      "slideshow": {
       "slide_type": "slide"
      }
     },
     "source": [
      "<h3>Funktionen dokumentieren</h3>\n",
      "* Funktionen sind im Idealfall kleine, selbst\u00e4ndige Einheiten, die ein Problem l\u00f6sen. Dokumentieren Sie Ihre Funktionen!\n",
      "* Stringliteral am Beginn des Funktionsk\u00f6rpers = **Docstring**"
     ]
    },
    {
     "cell_type": "code",
     "collapsed": false,
     "input": [
      "def add(nr1, nr2):\n",
      "    \"\"\"\n",
      "    Adds two numbers.\n",
      "    \n",
      "    Args:\n",
      "        nr1 (int): first number to be added\n",
      "        nr2 (int): second number to be added\n",
      "    \n",
      "    Returns:\n",
      "        int: The sum of the two numbers\n",
      "    \"\"\"\n",
      "    return nr1 + nr2"
     ],
     "language": "python",
     "metadata": {
      "slideshow": {
       "slide_type": "fragment"
      }
     },
     "outputs": [],
     "prompt_number": 1
    },
    {
     "cell_type": "code",
     "collapsed": false,
     "input": [
      "help(add)"
     ],
     "language": "python",
     "metadata": {
      "slideshow": {
       "slide_type": "fragment"
      }
     },
     "outputs": [
      {
       "output_type": "stream",
       "stream": "stdout",
       "text": [
        "Help on function add in module __main__:\n",
        "\n",
        "add(nr1, nr2)\n",
        "    Adds two numbers.\n",
        "    \n",
        "    Args:\n",
        "        nr1 (int): first number to be added\n",
        "        nr2 (int): second number to be added\n",
        "    \n",
        "    Returns:\n",
        "        int: The sum of the two numbers\n",
        "\n"
       ]
      }
     ],
     "prompt_number": 2
    },
    {
     "cell_type": "markdown",
     "metadata": {
      "slideshow": {
       "slide_type": "slide"
      }
     },
     "source": [
      "<h3>Scope von Variablen</h3>\n",
      "<img src=\"files/images/scope.png\" width=\"50%\" height=\"50%\" border=\"0\"/> \n",
      "* _G\u00fcltigkeitsbereich_ einer Variablen\n",
      "* genauer: der Teil des Quelltexts, in dem eine Variable (ohne irgendwelche Pr\u00e4fixe, siehe sp\u00e4ter) zugreifbar ist\n",
      "* globaler Scope\n",
      "* Funktionsdefinition: lokaler Scope, Variable wird \u00bbvergessen\u00ab, wenn der Funktionsaufruf beendet ist\n",
      "* der innerste Scope wird genommen"
     ]
    },
    {
     "cell_type": "markdown",
     "metadata": {
      "slideshow": {
       "slide_type": "slide"
      }
     },
     "source": [
      "<h3>Globale Variable</h3>"
     ]
    },
    {
     "cell_type": "code",
     "collapsed": false,
     "input": [
      "x = \"hallo\"\n",
      "def foo():\n",
      "    print(x)    \n",
      "foo()\n",
      "x = \"hi\"\n",
      "foo()\n"
     ],
     "language": "python",
     "metadata": {
      "slideshow": {
       "slide_type": "fragment"
      }
     },
     "outputs": [
      {
       "output_type": "stream",
       "stream": "stdout",
       "text": [
        "hallo\n",
        "hi\n"
       ]
      }
     ],
     "prompt_number": 19
    },
    {
     "cell_type": "markdown",
     "metadata": {
      "slideshow": {
       "slide_type": "slide"
      }
     },
     "source": [
      "<h3>Lokale Variablen</h3>"
     ]
    },
    {
     "cell_type": "code",
     "collapsed": false,
     "input": [
      "def bar():\n",
      "    y = \"Welt\"\n",
      "    print(y)\n",
      "    \n",
      "bar()\n",
      "#print(y)\n",
      "#erzeugt einen NameError: name 'y' is not defined"
     ],
     "language": "python",
     "metadata": {
      "slideshow": {
       "slide_type": "fragment"
      }
     },
     "outputs": [
      {
       "output_type": "stream",
       "stream": "stdout",
       "text": [
        "Welt\n"
       ]
      }
     ],
     "prompt_number": 3
    },
    {
     "cell_type": "markdown",
     "metadata": {
      "slideshow": {
       "slide_type": "slide"
      }
     },
     "source": [
      "<h3>Globale und lokale Variablen</h3>"
     ]
    },
    {
     "cell_type": "code",
     "collapsed": false,
     "input": [
      "#Don't do this at home!!\n",
      "y = \"Ich\"\n",
      "def bar():\n",
      "    y = \"Welt\"\n",
      "    #print(\"lokaler Wert von y: \", y)\n",
      "\n",
      "#print(\"globaler Wert von y: \", y)    \n",
      "bar()\n",
      "y = \"NEU\"\n",
      "#print(\"neuer globaler Wert von y: \", y)\n",
      "bar()"
     ],
     "language": "python",
     "metadata": {
      "slideshow": {
       "slide_type": "fragment"
      }
     },
     "outputs": [],
     "prompt_number": 4
    },
    {
     "cell_type": "code",
     "collapsed": false,
     "input": [
      "# Don't do this at home!\n",
      "y = \"Ich\"\n",
      "def bar():\n",
      "    y = \"Welt\"\n",
      "    print(\"lokaler Wert von y: \", y)\n",
      "\n",
      "print(\"globaler Wert von y: \", y)    \n",
      "bar()\n",
      "y = \"NEU\"\n",
      "print(\"neuer globaler Wert von y: \", y)\n",
      "bar()"
     ],
     "language": "python",
     "metadata": {
      "slideshow": {
       "slide_type": "subslide"
      }
     },
     "outputs": [
      {
       "output_type": "stream",
       "stream": "stdout",
       "text": [
        "globaler Wert von y:  Ich\n",
        "lokaler Wert von y:  Welt\n",
        "neuer globaler Wert von y:  NEU\n",
        "lokaler Wert von y:  Welt\n"
       ]
      }
     ],
     "prompt_number": 6
    },
    {
     "cell_type": "markdown",
     "metadata": {
      "slideshow": {
       "slide_type": "slide"
      }
     },
     "source": [
      "### Parameter-\u00dcbergabe _by reference_, nicht _by value_\n",
      "\n",
      "![](images/assign2.svg)"
     ]
    },
    {
     "cell_type": "markdown",
     "metadata": {
      "slideshow": {
       "slide_type": "skip"
      }
     },
     "source": [
      "Python-Variablen enthalten Referenzen auf die Daten, nicht die Daten. Wenn Daten also \u00fcbergeben werden (etwa bei einer Zuweisung oder als Parameter beim Aufruf einer Funktion/Methode), dann werden die Verweise \u00fcbergeben und nicht Kopien der Daten angelegt!"
     ]
    },
    {
     "cell_type": "code",
     "collapsed": false,
     "input": [
      "x = [1, 4, 5]  # Erzeugt eine Liste und weist sie der Variablen x zu\n",
      "y = x          # Weist die Liste auch der Variablen y zu \n",
      "y[1] = 99      # Ver\u00e4ndert y und x! \n",
      "print(x)\n"
     ],
     "language": "python",
     "metadata": {
      "slideshow": {
       "slide_type": "fragment"
      }
     },
     "outputs": [
      {
       "output_type": "stream",
       "stream": "stdout",
       "text": [
        "[1, 99, 5]\n"
       ]
      }
     ],
     "prompt_number": 7
    },
    {
     "cell_type": "markdown",
     "metadata": {
      "slideshow": {
       "slide_type": "slide"
      }
     },
     "source": [
      "<h3>reference / value in einer Funktion</h3>"
     ]
    },
    {
     "cell_type": "code",
     "collapsed": false,
     "input": [
      "def subst_first(int_list):      # definiert Funktion mit Parameter int_list\n",
      "    int_list[0] = 99            # setzt ersten Wert der Liste auf 99\n",
      "    print(\"Wert der Liste in der Funktion: \", int_list)\n",
      "    int_list = [10,9,8]\n",
      "    print(\"Neuer Wert f\u00fcr int_list: \", int_list)\n",
      "l = [1,2,3,4]           # definiert globale Variable l\n",
      "subst_first(l)          # Verwendet und ver\u00e4ndert l in der Funktion   \n",
      "print(\"Wert von l nach Aufruf der Funktion: \", l)"
     ],
     "language": "python",
     "metadata": {
      "slideshow": {
       "slide_type": "fragment"
      }
     },
     "outputs": [
      {
       "output_type": "stream",
       "stream": "stdout",
       "text": [
        "Wert der Liste in der Funktion:  [99, 2, 3, 4]\n",
        "Neuer Wert f\u00fcr int_list:  [10, 9, 8]\n",
        "Wert von l nach Aufruf der Funktion:  [99, 2, 3, 4]\n"
       ]
      }
     ],
     "prompt_number": 14
    },
    {
     "cell_type": "markdown",
     "metadata": {
      "slideshow": {
       "slide_type": "fragment"
      }
     },
     "source": [
      "* **Nebeneffekte**\n",
      "  \n",
      "  * vermeiden oder explizit machen und dokumentieren\n",
      "  * ggf. unver\u00e4nderliche Datenstrukturen verwenden -- aber allzuviel zu erzwingen ist nicht _pythonic_"
     ]
    },
    {
     "cell_type": "markdown",
     "metadata": {
      "slideshow": {
       "slide_type": "slide"
      }
     },
     "source": [
      "### Listen kopieren\n",
      "Kopie einer Liste z.B. mit der ``list``-Funktion:"
     ]
    },
    {
     "cell_type": "code",
     "collapsed": false,
     "input": [
      "x = [20, 33, 15] # Erzeugt eine Liste\n",
      "y = list(x)      # Erzeugt eine neue Liste mit den Inhalten aus x, Zuschreibung zu y\n",
      "y[0] = 1000      # Schreibt dem ersten Element von y einen neuen Wert zu, OHNE x zu ver\u00e4ndern\n",
      "print (x)\n",
      "print (y)"
     ],
     "language": "python",
     "metadata": {
      "slideshow": {
       "slide_type": "fragment"
      }
     },
     "outputs": [
      {
       "output_type": "stream",
       "stream": "stdout",
       "text": [
        "[20, 33, 15]\n",
        "[1000, 33, 15]\n"
       ]
      }
     ],
     "prompt_number": 15
    },
    {
     "cell_type": "markdown",
     "metadata": {
      "slideshow": {
       "slide_type": "fragment"
      }
     },
     "source": [
      "* erzeugt _shallow_-Kopie einer verschachtelten Liste, d.h. nur die oberste Ebene wird kopiert\n",
      "* [copy-Modul](https://docs.python.org/3.4/library/copy.html)"
     ]
    },
    {
     "cell_type": "markdown",
     "metadata": {
      "slideshow": {
       "slide_type": "slide"
      }
     },
     "source": [
      "### Keyword-Argumente f\u00fcr Funktionen"
     ]
    },
    {
     "cell_type": "markdown",
     "metadata": {
      "slideshow": {
       "slide_type": "fragment"
      }
     },
     "source": [
      "Argumente k\u00f6nnen auch per Namen referenziert werden:"
     ]
    },
    {
     "cell_type": "code",
     "collapsed": false,
     "input": [
      "def formula2(nr1, divisor, nr2):\n",
      "    return (nr1 + nr2) / divisor\n",
      "\n",
      "print(formula2(7, nr2=3, divisor=2))"
     ],
     "language": "python",
     "metadata": {
      "slideshow": {
       "slide_type": "fragment"
      }
     },
     "outputs": [
      {
       "output_type": "stream",
       "stream": "stdout",
       "text": [
        "5.0\n"
       ]
      }
     ],
     "prompt_number": 16
    },
    {
     "cell_type": "markdown",
     "metadata": {
      "slideshow": {
       "slide_type": "fragment"
      }
     },
     "source": [
      "* erst _positional_, dann _keyword arguments_\n",
      "* Bei den Keyword-Argumenten ist die Reihenfolge egal"
     ]
    },
    {
     "cell_type": "markdown",
     "metadata": {
      "slideshow": {
       "slide_type": "subslide"
      }
     },
     "source": [
      "### Defaultwerte"
     ]
    },
    {
     "cell_type": "markdown",
     "metadata": {
      "slideshow": {
       "slide_type": "-"
      }
     },
     "source": [
      "Keyword-Argumente k\u00f6nnen mit Voreinstellungen belegt werden, dann kann man sie weglassen:"
     ]
    },
    {
     "cell_type": "code",
     "collapsed": false,
     "input": [
      "def add(nr1, nr2, verbose=False):\n",
      "    result = nr1 + nr2\n",
      "    if verbose:\n",
      "        print(\"The sum is\", result)\n",
      "    return result\n",
      "\n",
      "print(add(17, 4))"
     ],
     "language": "python",
     "metadata": {
      "slideshow": {
       "slide_type": "-"
      }
     },
     "outputs": [
      {
       "output_type": "stream",
       "stream": "stdout",
       "text": [
        "21\n"
       ]
      }
     ],
     "prompt_number": 36
    },
    {
     "cell_type": "markdown",
     "metadata": {
      "slideshow": {
       "slide_type": "subslide"
      }
     },
     "source": [
      "<h3> &#42;args und **kwargs</h3>\n",
      "\n",
      "Mit `*args` in der Parameterliste einer Funktion kann man Parameter festlegen, deren Anzahl und Art man nicht kennt. Das gleiche kann man mit `**kwargs` f\u00fcr Keyword-Parameter machen (kwargs = keyword arguments). Das ist u.a. dann n\u00fctzlich, wenn man mit dieser Funktion wiederum Funktionen aufruft, deren Parameter man nicht genau festlegen m\u00f6chte. "
     ]
    },
    {
     "cell_type": "code",
     "collapsed": false,
     "input": [
      "def formula3(nr1, nr2, *args):\n",
      "        print(type(args))\n",
      "        if args == None:\n",
      "            return nr1 + nr2\n",
      "        else:\n",
      "            result = 0\n",
      "            for i in args:\n",
      "                result += i\n",
      "        return nr1 + nr2 + result\n",
      "formula3(2,3,4,5)"
     ],
     "language": "python",
     "metadata": {
      "slideshow": {
       "slide_type": "fragment"
      }
     },
     "outputs": [
      {
       "output_type": "stream",
       "stream": "stdout",
       "text": [
        "<class 'tuple'>\n"
       ]
      },
      {
       "metadata": {},
       "output_type": "pyout",
       "prompt_number": 17,
       "text": [
        "14"
       ]
      }
     ],
     "prompt_number": 17
    },
    {
     "cell_type": "markdown",
     "metadata": {
      "slideshow": {
       "slide_type": "subslide"
      }
     },
     "source": [
      "#### Auspacken mit `*args`, `**kwargs`"
     ]
    },
    {
     "cell_type": "code",
     "collapsed": false,
     "input": [
      "loglevel = 1\n",
      "def log(*args, level=0, **kwargs):\n",
      "    labels = [\"INFO\", \"WARNING\", \"ERROR\"]\n",
      "    if level >=  loglevel:\n",
      "        print(labels[level], *args, **kwargs)\n",
      "\n",
      "log(\"Jetzt geht's los\")\n",
      "log(\"Datei nicht gefunden:\", \"bla.txt\", level=1)\n",
      "log(\"Rechenzentrum explodiert gleich\", level=2)"
     ],
     "language": "python",
     "metadata": {
      "slideshow": {
       "slide_type": "-"
      }
     },
     "outputs": [
      {
       "output_type": "stream",
       "stream": "stdout",
       "text": [
        "WARNING Datei nicht gefunden: bla.txt\n",
        "ERROR Rechenzentrum explodiert gleich\n"
       ]
      }
     ],
     "prompt_number": 18
    },
    {
     "cell_type": "markdown",
     "metadata": {
      "slideshow": {
       "slide_type": "slide"
      }
     },
     "source": [
      "<h3 style=\"color:green\">Hausaufgabe 1: Code in Funktionen zerlegen</h3>\n",
      "Es ist gute Praxis, l\u00e4ngere Code-Abschnitte in die kleineren Einheiten von Funktionen zu zerlegen. Dabei spielt es auch eine Rolle, in welcher Weise sie die Funktionen wieder verwenden k\u00f6nnen und wollen. Schreiben Sie den folgenden Code so um, dass er aus Funktionen und einem Hauptteil besteht. \u00dcberlegen Sie, wie Sie ihn m\u00f6glichst weit modularisieren k\u00f6nnen. (Sie finden den selben Codeabschnitt auch in einer separaten Datei im WueCampus)"
     ]
    },
    {
     "cell_type": "code",
     "collapsed": false,
     "input": [
      "s = \"Herr Mustermann kommt ins Haus und trifft dort Frau Musterfrau\"\n",
      "sum_wordlength = 0\n",
      "for w in s.split():\n",
      "    sum_wordlength += len(w)\n",
      "avg_wordlength = sum_wordlength / len(s.split())\n",
      "print(\"Durchschnittliche Wortl\u00e4nge: \", avg_wordlength )\n",
      "list_vowels = []\n",
      "for w in s.lower().split():\n",
      "    word_vowels = 0\n",
      "    for c in w:\n",
      "        if c in \"aeiou\":\n",
      "            word_vowels += 1\n",
      "    list_vowels.append(word_vowels)\n",
      "print(\"Durchschnittliche Vokalanzahl: \", sum(list_vowels) / len(list_vowels))\n",
      "list_consonants = []\n",
      "for w in s.lower().split():\n",
      "    word_cons = 0\n",
      "    for c in w:\n",
      "        if c in \"bcdfghjklmnpqrstvwxyz\":\n",
      "            word_cons += 1\n",
      "    list_consonants.append(word_cons)\n",
      "print(\"Durchschnittliche Konsonantenanzahl: \", sum(list_consonants) / len(list_consonants))"
     ],
     "language": "python",
     "metadata": {
      "slideshow": {
       "slide_type": "fragment"
      }
     },
     "outputs": [
      {
       "output_type": "stream",
       "stream": "stdout",
       "text": [
        "Durchschnittliche Wortl\u00e4nge:  5.3\n",
        "Durchschnittliche Vokalanzahl:  1.7\n",
        "Durchschnittliche Konsonantenanzahl:  3.6\n"
       ]
      }
     ],
     "prompt_number": 1
    },
    {
     "cell_type": "markdown",
     "metadata": {
      "slideshow": {
       "slide_type": "subslide"
      }
     },
     "source": [
      "<h3 style=\"color:green;\">Hausaufgabe 2</h3>\n",
      "\n",
      "Python hat eine eingebaute Funktion `sum`, das ein Iterable (z.B. eine Liste) und einen optionalen Startwert als Default nimmt und die Summe daraus zur\u00fcckliefert:"
     ]
    },
    {
     "cell_type": "code",
     "collapsed": false,
     "input": [
      "help(sum)"
     ],
     "language": "python",
     "metadata": {
      "slideshow": {
       "slide_type": "-"
      }
     },
     "outputs": [
      {
       "output_type": "stream",
       "stream": "stdout",
       "text": [
        "Help on built-in function sum in module builtins:\n",
        "\n",
        "sum(...)\n",
        "    sum(iterable[, start]) -> value\n",
        "    \n",
        "    Return the sum of an iterable of numbers (NOT strings) plus the value\n",
        "    of parameter 'start' (which defaults to 0).  When the iterable is\n",
        "    empty, return start.\n",
        "\n"
       ]
      }
     ],
     "prompt_number": 2
    },
    {
     "cell_type": "markdown",
     "metadata": {
      "slideshow": {
       "slide_type": "-"
      }
     },
     "source": [
      "Schreiben Sie eine \u00e4quivalente Funktion `product`, die eine Liste und optional einen Startfaktor (der nat\u00fcrlich hier sinnvollerweise 1 ist, wenn nicht angegeben) nimmt, alle Elemente miteinander multipliziert und das Produkt zur\u00fcckliefert. Schreiben Sie au\u00dferdem vier Testf\u00e4lle (Funktionsaufrufe), mit und ohne Startwert und mit voller und leerer Liste."
     ]
    },
    {
     "cell_type": "heading",
     "level": 3,
     "metadata": {
      "slideshow": {
       "slide_type": "subslide"
      }
     },
     "source": [
      "Musterl\u00f6sung"
     ]
    },
    {
     "cell_type": "code",
     "collapsed": false,
     "input": [
      "#!/usr/bin/env python3\n",
      "\n",
      "def product(factors, start=1):\n",
      "    \"\"\"\n",
      "    Multiplies the given factors.\n",
      "\n",
      "    Arguments:\n",
      "        factors (list of numbers):  factors to multiply\n",
      "        start (number): start factor\n",
      "    \"\"\"\n",
      "    result = start\n",
      "    for factor in factors:\n",
      "        result *= factor\n",
      "    return result\n",
      "\n",
      "print(product([3, 4, 5]))\n",
      "print(product([], start=5))\n",
      "print(product([3, 5, 7], start=2))"
     ],
     "language": "python",
     "metadata": {},
     "outputs": [
      {
       "output_type": "stream",
       "stream": "stdout",
       "text": [
        "60\n",
        "5\n",
        "210\n"
       ]
      }
     ],
     "prompt_number": 1
    },
    {
     "cell_type": "heading",
     "level": 2,
     "metadata": {
      "slideshow": {
       "slide_type": "slide"
      }
     },
     "source": [
      "Rekursion"
     ]
    },
    {
     "cell_type": "markdown",
     "metadata": {
      "slideshow": {
       "slide_type": "-"
      }
     },
     "source": [
      "* Aufruf einer Funktion durch sich selbst"
     ]
    },
    {
     "cell_type": "markdown",
     "metadata": {
      "slideshow": {
       "slide_type": "-"
      }
     },
     "source": [
      "\n",
      "<p>Als Rekursion bezeichnet man den Aufruf einer Funktion durch sich selbst. Eine rekursive Funktion besteht typischerweise aus zwei Bausteinen, einem Verarbeitungsteil, der auch den Selbstaufruf enth\u00e4lt und einer Pr\u00fcfung, die feststellt, ob ein bestimmte Bedingung erreicht ist, so dass die Rekursion endet. </p>\n",
      "<p>Rekursionen funktionieren also \u00e4hnlich wie Schleifen. Wann soll man Rekursionen verwenden? Wenn man bei der Analyse des Problems feststellt, dass jede komplexere Form des Problems sich auf eine einfache L\u00f6sung des Problems zur\u00fcckf\u00fchren l\u00e4sst. Eine ausf\u00fchrlichere Behandlung von Rekursion finden Sie <a href=\"http://cs.stanford.edu/people/eroberts/courses/cs106b/chapters/05-intro-to-recursion.pdf\">hier</a>.<br/></p>\n",
      "<p>Die prinzipielle Struktur einer rekursiven Funktion sieht also so aus:</p>"
     ]
    },
    {
     "cell_type": "code",
     "collapsed": true,
     "input": [
      "if (test for simple case) == True: \n",
      "    Bereche eine einfache L\u00f6sung ohne Rekursion\n",
      "else:\n",
      "    Zerlege das Problem in Teilprobleme, die die gleiche Form haben.\n",
      "    L\u00f6se jedes Teilproblem durch rekursiven Aufruf der Funktion.\n",
      "    Setze die L\u00f6sungen f\u00fcr die Teilprobleme zusammen, um eine L\u00f6sung f\u00fcr das ganze Problem zu erhalten."
     ],
     "language": "python",
     "metadata": {
      "slideshow": {
       "slide_type": "fragment"
      }
     },
     "outputs": []
    },
    {
     "cell_type": "markdown",
     "metadata": {
      "slideshow": {
       "slide_type": "subslide"
      }
     },
     "source": [
      "Beispiel: **Fakult\u00e4t** $n!$ einer nat\u00fcrlichen Zahl $n$:<br/>\n",
      "\n",
      "* $n!$ (sprich: $n$ Fakult\u00e4t) ist definiert als $n \\cdot (n-1)!$\n",
      "* $0!$ ist definiert als $1$\n",
      "\n",
      "\n",
      "$3! = 3 \\cdot 2! = 3 \\cdot 2 \\cdot 1! = 3 \\cdot 2 \\cdot 1 \\cdot 0! = 3 \\cdot 2 \\cdot 1 \\cdot 1 = 6$\n"
     ]
    },
    {
     "cell_type": "code",
     "collapsed": false,
     "input": [
      "def factorial(n):\n",
      "    \"\"\"\"\n",
      "    calculates the factorial of n\n",
      "    \"\"\"\n",
      "    if n == 0:      # einfacher fall ohne rekursion\n",
      "        return 1\n",
      "    else:\n",
      "        result = n * factorial(n-1)   #Zerlegung: n! = n * (n-1)!   L\u00f6sung von (n-1)! durch rekursiven Aufruf der F.\n",
      "                                      #Zusammensetzung durch die Multiplikation der Einzelzahlen\n",
      "        return result\n",
      "\n",
      "    \n",
      "print(\"Fakult\u00e4t 3! ist \", factorial(3))"
     ],
     "language": "python",
     "metadata": {
      "slideshow": {
       "slide_type": "fragment"
      }
     },
     "outputs": [
      {
       "output_type": "stream",
       "stream": "stdout",
       "text": [
        "Fakult\u00e4t 3! ist  6\n"
       ]
      }
     ],
     "prompt_number": 19
    },
    {
     "cell_type": "code",
     "collapsed": false,
     "input": [
      "#um zu sehen, was hier genau passiert, f\u00fcgen wir einige print-statements ein\n",
      "def factorial(n):\n",
      "    print(\"factorial of\", n, \"?\")\n",
      "    if n == 0:\n",
      "        print(n, \"(simple case)\")\n",
      "        return 1\n",
      "    else:\n",
      "        result = n * factorial(n-1)\n",
      "        print(str(n) + \"! =\", result)\n",
      "        return result\n",
      "\n",
      "print(\"Fakult\u00e4t 3! ist \", factorial(3))"
     ],
     "language": "python",
     "metadata": {
      "slideshow": {
       "slide_type": "slide"
      }
     },
     "outputs": [
      {
       "output_type": "stream",
       "stream": "stdout",
       "text": [
        "factorial of 3 ?\n",
        "factorial of 2 ?\n",
        "factorial of 1 ?\n",
        "factorial of 0 ?\n",
        "0 (simple case)\n",
        "1! = 1\n",
        "2! = 2\n",
        "3! = 6\n",
        "Fakult\u00e4t 3! ist  6\n"
       ]
      }
     ],
     "prompt_number": 20
    },
    {
     "cell_type": "markdown",
     "metadata": {
      "slideshow": {
       "slide_type": "skip"
      }
     },
     "source": [
      "<p>Was passiert hier? Im ersten Durchlauf ist n==3, d.h. das Programm springt von Z.4 zu Z. 7 und beginnt mit der Bearbeitung von Z.8. Python berechnet `3 *`, aber um den zweiten Faktor zu berechnen, muss es wiederum die Funktion aufrufen. Der urspr\u00fcngliche Aufruf der Funktion (nennen wir ihn Funktionsaufruf[0]) wir also angehalten und auf einen Stapel gelegt.</p>\n",
      "<p>Die Berechnung des zweiten Faktors hat einen neuen Aufruf gestartet, Funktionsaufruf[1]. n ist hier == 2. Wiederum springt das Programm von Zeile 3 zu Zeile 6 und beginnt dann mit der Arbeit an Zeile 8: Es rechnet 2 * -- und auch hier muss der Programmaufruf angehalten werden, da die Funktion nun zum 3. Mal aufgerufen wird (Funktionsaufruf[2]), w\u00e4hrend Funktionsaufruf[1] ebenfalls auf den Stapel kommt.</p>\n",
      "<p>Bei Funktionsaufruf[2] ist n == 1. Es geschieht wieder dasselbe, Funktionsaufruf[2] kommt auf den Stapel, Funktionsaufruf[3] erfolgt dann mit `n == 0`.\n",
      "<p>Deshalb verzweigt das Programm nun, in Funktionsaufruf[3], von Z. 4 zu Z. 5 und gibt die Zeile `0 (simple case`) aus. Dann wird Funktionsaufruf[3] mit dem R\u00fcckgabewert 1 beendet. Der Stapeleintrag f\u00fcr Funktionsaufruf[3] wird damit entfernt.</p>\n",
      "<p>Der R\u00fcckgabewert wird an den letzten Funktionsaufruf gegeben, der auf den Stapel gewandert ist, also Funktionsaufruf[2]. Hier kann nun die Multiplikation vollzogen werden: `1 * 1`. Das Ergebnis wird ausgegeben und dann wird die Funktion mit dem R\u00fcckgabewert `1` beendet. </p>\n",
      "<p>Dieser R\u00fcckgabewert wird an den nunmehr letzten Funktionsaufruf gegeben, der auf den Stapel gewandert ist, also Funktionsaufruf[1]. Hier kann nun die Multiplikation vollzogen werden: `2 * 1`. Das Ergebnis wird ausgegeben und dann wird die Funktion mit dem R\u00fcckgabewert `2` beendet. </p>\n",
      "<p>Der R\u00fcckgabewert wird an den Funktionsaufruf[0], der noch auf dem Stapel liegt, gegeben. Hier kann nun wiederum weiter gerechnet werden: `3 * 2`. Das Ergebnis, `6`, wird ausgegeben und dann als R\u00fcckgabewert zur\u00fcckgegeben. "
     ]
    },
    {
     "cell_type": "markdown",
     "metadata": {
      "slideshow": {
       "slide_type": "slide"
      }
     },
     "source": [
      "<h3 style=\"color:green\">Aufgabe</h3> \n",
      "Ein _Palindrom_ ist ein String, der von vorn wie von hinten gelesen gleich ist, z.B. `\"anna\"` oder `\"MAOAM\"`.\n",
      "\n",
      "Schreiben Sie eine rekursive Funktion `is_palindrome(s)`, die f\u00fcr einen gegebenen String \u00fcberpr\u00fcft, ob es sich um ein Palindrom handelt. Welche F\u00e4lle von Strings sind trivialerweise Palindrome?"
     ]
    },
    {
     "cell_type": "heading",
     "level": 4,
     "metadata": {
      "slideshow": {
       "slide_type": "subslide"
      }
     },
     "source": [
      "Musterl\u00f6sung"
     ]
    },
    {
     "cell_type": "code",
     "collapsed": true,
     "input": [
      "def is_palindrome(s):\n",
      "    \n",
      "    print(\"... checking\", s, \"...\")\n",
      "    if len(s) <= 1:\n",
      "        return True\n",
      "    if s[0] == s[-1]:\n",
      "        return is_palindrome(s[1:-1])\n",
      "    else:\n",
      "        return False\n",
      "    \n",
      "print(\"anna\", is_palindrome(\"anna\"))\n",
      "print(\"MAOAM\", is_palindrome(\"MAOAM\"))\n",
      "print(\"annika\", is_palindrome(\"annika\"))"
     ],
     "language": "python",
     "metadata": {
      "slideshow": {
       "slide_type": "fragment"
      }
     },
     "outputs": [
      {
       "output_type": "stream",
       "stream": "stdout",
       "text": [
        "... checking anna ...\n",
        "... checking nn ...\n",
        "... checking  ...\n",
        "anna True\n",
        "... checking MAOAM ...\n",
        "... checking AOA ...\n",
        "... checking O ...\n",
        "MAOAM True\n",
        "... checking annika ...\n",
        "... checking nnik ...\n",
        "annika False\n"
       ]
      }
     ],
     "prompt_number": 7
    },
    {
     "cell_type": "markdown",
     "metadata": {
      "slideshow": {
       "slide_type": "fragment"
      }
     },
     "source": [
      "### \u00dcbungsaufgabe (nicht pr\u00fcfungsrelevant)\n",
      "\n",
      "\n",
      "Ein bekanntes Beispiel f\u00fcr Rekursion sind die _T\u00fcrme von Hanoi_. Schauen Sie sich [hier die Beschreibung des Problems und des L\u00f6sungsalgorithmus in Pseudocode an](https://www.cs.cmu.edu/~cburch/survey/recurse/hanoiimpl.html) und implementieren Sie die L\u00f6sung in Python. Bonus: Geben Sie nach jedem Zug den Stand der Stapel an."
     ]
    }
   ],
   "metadata": {}
  }
 ]
}
