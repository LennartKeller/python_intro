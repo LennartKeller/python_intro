{
 "cells": [
  {
   "cell_type": "markdown",
   "metadata": {
    "slideshow": {
     "slide_type": "slide"
    }
   },
   "source": [
    "# Einführung in das Programmieren mit Python"
   ]
  },
  {
   "cell_type": "markdown",
   "metadata": {
    "slideshow": {
     "slide_type": "-"
    }
   },
   "source": [
    "## Funktionen und Module"
   ]
  },
  {
   "cell_type": "markdown",
   "metadata": {
    "slideshow": {
     "slide_type": "slide"
    }
   },
   "source": [
    "<h3>Wiederholung Schleifen</h3>\n",
    "<ul>\n",
    "<li>while - Schleifen werden so formuliert:<br/>\n",
    "<code>while &lt;bedingung>:\n",
    "    code</code><br/>\n",
    "Sie werden solange ausgeführt, wie die Bedingung wahr ist. Achtung vor Endlosschleifen\n",
    "<li>Für alles Listenartige verwendet man aber besser for - Schleifen:<br/>\n",
    "<code>\n",
    "for x in ‹List›:\n",
    "    code</code>\n",
    "<li>Mit der Funktion range(n) kann man eine Liste von Zahlen von 0 bis n erzeugen. Mit range(n,m) erzeugt man eine Liste, die bei n anfängt und bis m reicht. Sie wird häufig in for-Schleifen verwendet:   <br/>\n",
    "<code>\n",
    "for i in range(3):\n",
    "    print(i)</code>\n",
    "<li>Schleifen und bedingte Verzweigungen können beliebig verschachtelt werden."
   ]
  },
  {
   "cell_type": "markdown",
   "metadata": {
    "slideshow": {
     "slide_type": "subslide"
    }
   },
   "source": [
    "<h3>Übungsaufgaben</h3>\n",
    "<p> Sie haben eine Liste mit 5 Elementen: sa = ['A','B','C','D']\n",
    "<p> 1) Schreiben Sie ein Skript, das jedes Element mit jedem anderen vergleicht (A -> C und C -> A), aber nicht mit sich selbst.<br/> \n",
    "Der Output soll so aussehen: <br/> \n",
    "<code>comparing A -> B\n",
    "comparing A -> C\n",
    "comparing A -> D \n",
    "comparing B -> A\n",
    "usw.</code>"
   ]
  },
  {
   "cell_type": "code",
   "execution_count": 2,
   "metadata": {
    "collapsed": false,
    "slideshow": {
     "slide_type": "subslide"
    }
   },
   "outputs": [
    {
     "name": "stdout",
     "output_type": "stream",
     "text": [
      "comparing  A -> B\n",
      "comparing  A -> C\n",
      "comparing  A -> D\n",
      "comparing  B -> A\n",
      "comparing  B -> C\n",
      "comparing  B -> D\n",
      "comparing  C -> A\n",
      "comparing  C -> B\n",
      "comparing  C -> D\n",
      "comparing  D -> A\n",
      "comparing  D -> B\n",
      "comparing  D -> C\n"
     ]
    }
   ],
   "source": [
    "sa = ['A', 'B', 'C', 'D']\n",
    "for i in range(len(sa)):\n",
    "    for j in range(len(sa)):\n",
    "        if i != j:\n",
    "            print (\"comparing \", sa[i], \"->\", sa[j])"
   ]
  },
  {
   "cell_type": "markdown",
   "metadata": {
    "slideshow": {
     "slide_type": "subslide"
    }
   },
   "source": [
    "<p>2) Schreiben Sie das Programm so um, dass jedes Element nur einmal mit jedem anderen verglichen wird (aber nicht mit sich selbst), also statt  A -> B und B -> A  gibt es nun nur noch eine Zeile: A <-> B"
   ]
  },
  {
   "cell_type": "code",
   "execution_count": 4,
   "metadata": {
    "collapsed": false,
    "slideshow": {
     "slide_type": "subslide"
    }
   },
   "outputs": [
    {
     "name": "stdout",
     "output_type": "stream",
     "text": [
      "comparing  A  <->  B\n",
      "comparing  A  <->  C\n",
      "comparing  A  <->  D\n",
      "comparing  B  <->  C\n",
      "comparing  B  <->  D\n",
      "comparing  C  <->  D\n"
     ]
    }
   ],
   "source": [
    "for i in range(len(sa)):\n",
    "    for j in range(i+1, len(sa)):        # <- i+1 als start        \n",
    "            print(\"comparing \", sa[i], \" <-> \", sa[j])"
   ]
  },
  {
   "cell_type": "markdown",
   "metadata": {
    "slideshow": {
     "slide_type": "skip"
    }
   },
   "source": [
    "Mit `enumerate`, das eine Sequenz von Paaren `(index, item)` zurück gibt, kann man das noch einfacher schreiben:"
   ]
  },
  {
   "cell_type": "code",
   "execution_count": 3,
   "metadata": {
    "collapsed": false,
    "slideshow": {
     "slide_type": "subslide"
    }
   },
   "outputs": [
    {
     "name": "stdout",
     "output_type": "stream",
     "text": [
      "comparing A <-> B\n",
      "comparing A <-> C\n",
      "comparing A <-> D\n",
      "comparing B <-> C\n",
      "comparing B <-> D\n",
      "comparing C <-> D\n"
     ]
    }
   ],
   "source": [
    "for i, c in enumerate(sa):\n",
    "    for d in sa[i+1:]:\n",
    "        print(\"comparing\", c, \"<->\", d)"
   ]
  },
  {
   "cell_type": "code",
   "execution_count": 5,
   "metadata": {
    "collapsed": false,
    "slideshow": {
     "slide_type": "fragment"
    }
   },
   "outputs": [
    {
     "name": "stdout",
     "output_type": "stream",
     "text": [
      "[(0, 'A'), (1, 'B'), (2, 'C'), (3, 'D')]\n"
     ]
    }
   ],
   "source": [
    "print(list(enumerate(sa)))"
   ]
  },
  {
   "cell_type": "markdown",
   "metadata": {
    "slideshow": {
     "slide_type": "slide"
    }
   },
   "source": [
    "### Funktionen und Module\n",
    "\n",
    "Management von Komplexität:\n",
    "\n",
    "* Modularisierung: Übersichtlichkeit und Fokus\n",
    "* Abstraktion: Wiederverwendung ermöglichen, Vermeiden von Wiederholungen\n",
    "* Management unterschiedlicher Abstraktionsebenen\n",
    "* Klare Schnittstellen zum Rest des Programms\n",
    "\n",
    "Praxis: So klein wie möglich"
   ]
  },
  {
   "cell_type": "markdown",
   "metadata": {
    "slideshow": {
     "slide_type": "slide"
    }
   },
   "source": [
    "<h3>Definition einer Funktion</h3>\n",
    "<ul>\n",
    "<li>_Funktionsname_, mit dem die Funktion aufgerufen wird\n",
    "<li>die _Parameter_, die beim Aufruf der Funktion an die Funktion übergeben werden (optional)\n",
    "<li>den _Rückgabewert_ der Funktion (optional)\n",
    "</ul>"
   ]
  },
  {
   "cell_type": "code",
   "execution_count": 13,
   "metadata": {
    "collapsed": false,
    "slideshow": {
     "slide_type": "fragment"
    }
   },
   "outputs": [
    {
     "data": {
      "text/plain": [
       "1100"
      ]
     },
     "execution_count": 13,
     "metadata": {},
     "output_type": "execute_result"
    }
   ],
   "source": [
    "# Funktionsdefinitionen beginnen mit 'def'  \n",
    "# der Bezeichner nach def ist der Funktionsname\n",
    "# in den Klammern stehen die Parameter der Funktion\n",
    "def add(nr1, nr2):\n",
    "    # nach der Definitionszeile folgt der Code der Funktion\n",
    "    result = nr1 + nr2\n",
    "    # return bestimmt den Rückgabewert der Funktion\n",
    "    return result\n",
    "\n",
    "#jetzt kann man die Funktion aufrufen:\n",
    "add(211, 889)\n"
   ]
  },
  {
   "cell_type": "markdown",
   "metadata": {
    "slideshow": {
     "slide_type": "subslide"
    }
   },
   "source": [
    "<h3>Funktionen – Schritt für Schritt</h3>\n",
    "<code>def add(nr1, nr2):\n",
    "\tresult = nr1 + nr2\n",
    "\treturn result\n",
    "</code>\n",
    "\n",
    "<p>Was passiert nun genau beim Aufruf der Funktion?</p>\n",
    "\n",
    "<code>add(3, 7)</code>\n",
    "<p>Implizit wird am Anfang der Funktion durch die Angabe der Parameter eine Zuweisung vorgenommen:</p>\n",
    "<code>nr1 = 3\n",
    "nr2 = 7</code>\n",
    "<p>D.h. die Werte 3 und 7 werden beim Aufruf der Funktion an die Variablen nr1 und nr2 gebunden.</p>\n",
    "\n",
    "<p>Dann kann das Ergebnis berechnet werden:</p>\n",
    "<code>result = nr1 + nr2 </code>\n",
    "\n",
    "<p>Und als Rückgabewert ausgegeben werden:</p>\n",
    "<code>return result</code>\n"
   ]
  },
  {
   "cell_type": "markdown",
   "metadata": {
    "slideshow": {
     "slide_type": "slide"
    }
   },
   "source": [
    "<h3 style=\"color:green\">Aufgaben</h3>\n",
    "<p>1) Schreiben Sie eine Funktion, der beim Aufruf ein String übergeben wird und die als Rückgabe einen String der Form \"Dieser String hat x Zeichen\" zurückgibt, wobei x die Anzahl der Zeichen im String sind.</p>\n",
    "<p>2) Mit der Methode split() kann man Zeichenketten in Listen zerlegen. Wenn s = \"Dies ist ein Satz\" ist, dann gibt s.split() als Rückgabewert die Liste [\"Dies\",\"ist\",\"ein\",\"Satz\"] aus. <br/>\n",
    "Schreiben Sie eine Funktion, die die durchschnittliche Wortlänge einer Zeichenkette berechnet (wir ignorieren die Satzzeichen erst einmal). \n"
   ]
  },
  {
   "cell_type": "markdown",
   "metadata": {
    "slideshow": {
     "slide_type": "subslide"
    }
   },
   "source": [
    "<h3>Musterlösung</h3>\n",
    "1) Schreiben Sie eine Funktion, der beim Aufruf ein String übergeben wird und die als Rückgabe einen String der Form \"Dieser String hat x Zeichen\" liefert, wobei x die Anzahl der Zeichen im String sind."
   ]
  },
  {
   "cell_type": "code",
   "execution_count": 10,
   "metadata": {
    "collapsed": false,
    "slideshow": {
     "slide_type": "fragment"
    }
   },
   "outputs": [
    {
     "name": "stdout",
     "output_type": "stream",
     "text": [
      "Dieser String hat 25 Zeichen.\n"
     ]
    }
   ],
   "source": [
    "def format_len(s):\n",
    "    return \"Dieser String hat \" + str(len(s)) + \" Zeichen.\"\n",
    "\n",
    "# Test:\n",
    "print(format_len(\"Dies ist ein kleiner Test\"))"
   ]
  },
  {
   "cell_type": "markdown",
   "metadata": {
    "slideshow": {
     "slide_type": "fragment"
    }
   },
   "source": [
    "<p>2) Schreiben Sie eine Funktion, die die durchschnittliche Wortlänge einer Zeichenkette berechnet (wir ignorieren die Satzzeichen erst einmal). \n"
   ]
  },
  {
   "cell_type": "code",
   "execution_count": 11,
   "metadata": {
    "collapsed": false,
    "slideshow": {
     "slide_type": "fragment"
    }
   },
   "outputs": [
    {
     "name": "stdout",
     "output_type": "stream",
     "text": [
      "Durchschnittliche Wortlänge:  5.3076923076923075\n"
     ]
    }
   ],
   "source": [
    "def avg_word_length(s):\n",
    "    words = s.split()\n",
    "    total_len = 0\n",
    "    for w in words:\n",
    "        total_len += len(w)\n",
    "    return total_len / len(words)\n",
    "\n",
    "# Test:\n",
    "sent = \"Dies ist ein kleiner, aber erheblich interessanterer Test als der letzte oder so.\"\n",
    "print(\"Durchschnittliche Wortlänge: \", avg_word_length(sent))"
   ]
  },
  {
   "cell_type": "markdown",
   "metadata": {
    "slideshow": {
     "slide_type": "slide"
    }
   },
   "source": [
    "### Signatur einer Funktion\n",
    "\n",
    "* Name\n",
    "* Argumente\n",
    "* (Rückgabewert)\n",
    "\n",
    "In Python:\n",
    "\n",
    "* Identifikation der Funktion nur durch den Namen\n",
    "* Überprüfung der Signatur erst beim Aufruf"
   ]
  },
  {
   "cell_type": "code",
   "execution_count": 12,
   "metadata": {
    "collapsed": false,
    "slideshow": {
     "slide_type": "-"
    }
   },
   "outputs": [
    {
     "data": {
      "text/plain": [
       "36.0"
      ]
     },
     "execution_count": 12,
     "metadata": {},
     "output_type": "execute_result"
    }
   ],
   "source": [
    "def calculate(add1, add2, divisor, factor):\n",
    "    return ((add1 + add2) / divisor) * factor\n",
    "\n",
    "calculate(3, 6, 3, 12)"
   ]
  },
  {
   "cell_type": "markdown",
   "metadata": {
    "slideshow": {
     "slide_type": "slide"
    }
   },
   "source": [
    "<h3>Funktionen dokumentieren</h3>\n",
    "* Funktionen sind im Idealfall kleine, selbständige Einheiten, die ein Problem lösen. Dokumentieren Sie Ihre Funktionen!\n",
    "* Stringliteral am Beginn des Funktionskörpers = **Docstring**"
   ]
  },
  {
   "cell_type": "code",
   "execution_count": 1,
   "metadata": {
    "collapsed": false,
    "slideshow": {
     "slide_type": "fragment"
    }
   },
   "outputs": [],
   "source": [
    "def add(nr1, nr2):\n",
    "    \"\"\"\n",
    "    Adds two numbers.\n",
    "    \n",
    "    Args:\n",
    "        nr1 (int): first number to be added\n",
    "        nr2 (int): second number to be added\n",
    "    \n",
    "    Returns:\n",
    "        int: The sum of the two numbers\n",
    "    \"\"\"\n",
    "    return nr1 + nr2"
   ]
  },
  {
   "cell_type": "code",
   "execution_count": 2,
   "metadata": {
    "collapsed": false,
    "slideshow": {
     "slide_type": "fragment"
    }
   },
   "outputs": [
    {
     "name": "stdout",
     "output_type": "stream",
     "text": [
      "Help on function add in module __main__:\n",
      "\n",
      "add(nr1, nr2)\n",
      "    Adds two numbers.\n",
      "    \n",
      "    Args:\n",
      "        nr1 (int): first number to be added\n",
      "        nr2 (int): second number to be added\n",
      "    \n",
      "    Returns:\n",
      "        int: The sum of the two numbers\n",
      "\n"
     ]
    }
   ],
   "source": [
    "help(add)"
   ]
  },
  {
   "cell_type": "markdown",
   "metadata": {
    "slideshow": {
     "slide_type": "slide"
    }
   },
   "source": [
    "<h3>Scope von Variablen</h3>\n",
    "<img src=\"files/images/scope.png\" width=\"50%\" height=\"50%\" border=\"0\"/> \n",
    "* _Gültigkeitsbereich_ einer Variablen\n",
    "* genauer: der Teil des Quelltexts, in dem eine Variable (ohne irgendwelche Präfixe, siehe später) zugreifbar ist\n",
    "* globaler Scope\n",
    "* Funktionsdefinition: lokaler Scope, Variable wird »vergessen«, wenn der Funktionsaufruf beendet ist\n",
    "* der innerste Scope wird genommen"
   ]
  },
  {
   "cell_type": "markdown",
   "metadata": {
    "slideshow": {
     "slide_type": "slide"
    }
   },
   "source": [
    "<h3>Globale Variable</h3>"
   ]
  },
  {
   "cell_type": "code",
   "execution_count": 19,
   "metadata": {
    "collapsed": false,
    "slideshow": {
     "slide_type": "fragment"
    }
   },
   "outputs": [
    {
     "name": "stdout",
     "output_type": "stream",
     "text": [
      "hallo\n",
      "hi\n"
     ]
    }
   ],
   "source": [
    "x = \"hallo\"\n",
    "def foo():\n",
    "    print(x)    \n",
    "foo()\n",
    "x = \"hi\"\n",
    "foo()\n"
   ]
  },
  {
   "cell_type": "markdown",
   "metadata": {
    "slideshow": {
     "slide_type": "slide"
    }
   },
   "source": [
    "<h3>Lokale Variablen</h3>"
   ]
  },
  {
   "cell_type": "code",
   "execution_count": 3,
   "metadata": {
    "collapsed": false,
    "slideshow": {
     "slide_type": "fragment"
    }
   },
   "outputs": [
    {
     "name": "stdout",
     "output_type": "stream",
     "text": [
      "Welt\n"
     ]
    }
   ],
   "source": [
    "def bar():\n",
    "    y = \"Welt\"\n",
    "    print(y)\n",
    "    \n",
    "bar()\n",
    "#print(y)\n",
    "#erzeugt einen NameError: name 'y' is not defined"
   ]
  },
  {
   "cell_type": "markdown",
   "metadata": {
    "slideshow": {
     "slide_type": "slide"
    }
   },
   "source": [
    "<h3>Globale und lokale Variablen</h3>"
   ]
  },
  {
   "cell_type": "code",
   "execution_count": 4,
   "metadata": {
    "collapsed": false,
    "slideshow": {
     "slide_type": "fragment"
    }
   },
   "outputs": [],
   "source": [
    "#Don't do this at home!!\n",
    "y = \"Ich\"\n",
    "def bar():\n",
    "    y = \"Welt\"\n",
    "    #print(\"lokaler Wert von y: \", y)\n",
    "\n",
    "#print(\"globaler Wert von y: \", y)    \n",
    "bar()\n",
    "y = \"NEU\"\n",
    "#print(\"neuer globaler Wert von y: \", y)\n",
    "bar()"
   ]
  },
  {
   "cell_type": "code",
   "execution_count": 6,
   "metadata": {
    "collapsed": false,
    "slideshow": {
     "slide_type": "subslide"
    }
   },
   "outputs": [
    {
     "name": "stdout",
     "output_type": "stream",
     "text": [
      "globaler Wert von y:  Ich\n",
      "lokaler Wert von y:  Welt\n",
      "neuer globaler Wert von y:  NEU\n",
      "lokaler Wert von y:  Welt\n"
     ]
    }
   ],
   "source": [
    "# Don't do this at home!\n",
    "y = \"Ich\"\n",
    "def bar():\n",
    "    y = \"Welt\"\n",
    "    print(\"lokaler Wert von y: \", y)\n",
    "\n",
    "print(\"globaler Wert von y: \", y)    \n",
    "bar()\n",
    "y = \"NEU\"\n",
    "print(\"neuer globaler Wert von y: \", y)\n",
    "bar()"
   ]
  },
  {
   "cell_type": "markdown",
   "metadata": {},
   "source": [
    "### Scope Revisited\n",
    "\n",
    "* Nur eine Funktionsdefinition erzeugt einen neuen Scope\n",
    "* Variablen entstehen bei der ersten _Zuweisung_\n",
    "* Variablen entstehen im aktuellen Scope\n",
    "* Beim _Lesezugriff_ wird die Variable im innersten Scope gewählt, in dem sie existiert\n",
    "* LEGB:\n",
    "\n",
    "  * __L__ocal (in der aktuellen Funktion)\n",
    "  * __E__nclosing (in drumherum geschachtelten Funktionen)\n",
    "  * __G__lobal (in Ihrem Programm)\n",
    "  * __B__uiltin (in Python eingebaut)"
   ]
  },
  {
   "cell_type": "markdown",
   "metadata": {
    "slideshow": {
     "slide_type": "slide"
    }
   },
   "source": [
    "### Parameter-Übergabe _by reference_, nicht _by value_\n",
    "\n",
    "![](images/assign2.svg)"
   ]
  },
  {
   "cell_type": "markdown",
   "metadata": {
    "slideshow": {
     "slide_type": "skip"
    }
   },
   "source": [
    "Python-Variablen enthalten Referenzen auf die Daten, nicht die Daten. Wenn Daten also übergeben werden (etwa bei einer Zuweisung oder als Parameter beim Aufruf einer Funktion/Methode), dann werden die Verweise übergeben und nicht Kopien der Daten angelegt!"
   ]
  },
  {
   "cell_type": "code",
   "execution_count": 7,
   "metadata": {
    "collapsed": false,
    "slideshow": {
     "slide_type": "fragment"
    }
   },
   "outputs": [
    {
     "name": "stdout",
     "output_type": "stream",
     "text": [
      "[1, 99, 5]\n"
     ]
    }
   ],
   "source": [
    "x = [1, 4, 5]  # Erzeugt eine Liste und weist sie der Variablen x zu\n",
    "y = x          # Weist die Liste auch der Variablen y zu \n",
    "y[1] = 99      # Verändert y und x! \n",
    "print(x)\n"
   ]
  },
  {
   "cell_type": "markdown",
   "metadata": {
    "slideshow": {
     "slide_type": "slide"
    }
   },
   "source": [
    "<h3>reference / value in einer Funktion</h3>"
   ]
  },
  {
   "cell_type": "code",
   "execution_count": 14,
   "metadata": {
    "collapsed": false,
    "slideshow": {
     "slide_type": "fragment"
    }
   },
   "outputs": [
    {
     "name": "stdout",
     "output_type": "stream",
     "text": [
      "Wert der Liste in der Funktion:  [99, 2, 3, 4]\n",
      "Neuer Wert für int_list:  [10, 9, 8]\n",
      "Wert von l nach Aufruf der Funktion:  [99, 2, 3, 4]\n"
     ]
    }
   ],
   "source": [
    "def subst_first(int_list):      # definiert Funktion mit Parameter int_list\n",
    "    int_list[0] = 99            # setzt ersten Wert der Liste auf 99\n",
    "    print(\"Wert der Liste in der Funktion: \", int_list)\n",
    "    int_list = [10,9,8]\n",
    "    print(\"Neuer Wert für int_list: \", int_list)\n",
    "l = [1,2,3,4]           # definiert globale Variable l\n",
    "subst_first(l)          # Verwendet und verändert l in der Funktion   \n",
    "print(\"Wert von l nach Aufruf der Funktion: \", l)"
   ]
  },
  {
   "cell_type": "markdown",
   "metadata": {
    "slideshow": {
     "slide_type": "fragment"
    }
   },
   "source": [
    "* **Nebeneffekte**\n",
    "  \n",
    "  * vermeiden oder explizit machen und dokumentieren\n",
    "  * ggf. unveränderliche Datenstrukturen verwenden -- aber allzuviel zu erzwingen ist nicht _pythonic_"
   ]
  },
  {
   "cell_type": "markdown",
   "metadata": {
    "slideshow": {
     "slide_type": "slide"
    }
   },
   "source": [
    "### Listen kopieren\n",
    "Kopie einer Liste z.B. mit der ``list``-Funktion:"
   ]
  },
  {
   "cell_type": "code",
   "execution_count": 14,
   "metadata": {
    "collapsed": false,
    "slideshow": {
     "slide_type": "fragment"
    }
   },
   "outputs": [
    {
     "name": "stdout",
     "output_type": "stream",
     "text": [
      "[20, 33, 15]\n",
      "[1000, 33, 15]\n"
     ]
    }
   ],
   "source": [
    "x = [20, 33, 15] # Erzeugt eine Liste\n",
    "y = list(x)      # Erzeugt eine neue Liste mit den Inhalten aus x, Zuschreibung zu y\n",
    "y[0] = 1000      # Schreibt dem ersten Element von y einen neuen Wert zu, OHNE x zu verändern\n",
    "print(x)\n",
    "print(y)"
   ]
  },
  {
   "cell_type": "markdown",
   "metadata": {
    "slideshow": {
     "slide_type": "fragment"
    }
   },
   "source": [
    "* erzeugt _shallow_-Kopie einer verschachtelten Liste, d.h. nur die oberste Ebene wird kopiert\n",
    "* [copy-Modul](https://docs.python.org/3.4/library/copy.html)"
   ]
  },
  {
   "cell_type": "markdown",
   "metadata": {
    "slideshow": {
     "slide_type": "slide"
    }
   },
   "source": [
    "### Ergänzende Übungsaufgabe\n",
    "\n",
    "Gegeben sei eine einfache Templatesprache, in der Variablen Wörter sind, die mit einem `$` beginnen. Schreiben Sie eine Funktion, die einen String an Whitespacegrenzen in Wörter zerlegt und eine Liste aller Variablennamen entsprechend dieser Syntax zurückgibt."
   ]
  },
  {
   "cell_type": "code",
   "execution_count": 25,
   "metadata": {
    "collapsed": false,
    "slideshow": {
     "slide_type": "-"
    }
   },
   "outputs": [
    {
     "name": "stdout",
     "output_type": "stream",
     "text": [
      "['Name,', 'Adresse', 'ReNr', 'Ort,', 'Anrede', 'Datum', 'Betrag']\n"
     ]
    }
   ],
   "source": [
    "template = \"\"\"\n",
    "$Adresse\n",
    "\n",
    "$Ort, den $Datum\n",
    "\n",
    "\n",
    "$Anrede $Name,\n",
    "\n",
    "vielen Dank für Ihre Bestellung. Bitte überweisen Sie den \n",
    "Betrag $Betrag auf eines unserer Konten unter Angabe des\n",
    "Verwendungszwecks:\n",
    "\n",
    "  $ReNr vom $Datum\n",
    "  \n",
    "Mit bestem Dank und freundlichen Grüßen\n",
    "\"\"\"\n",
    "\n",
    "print(extract_variables(template))"
   ]
  }
 ],
 "metadata": {
  "celltoolbar": "Slideshow",
  "kernelspec": {
   "display_name": "Python 3",
   "language": "python",
   "name": "python3"
  },
  "language_info": {
   "codemirror_mode": {
    "name": "ipython",
    "version": 3
   },
   "file_extension": ".py",
   "mimetype": "text/x-python",
   "name": "python",
   "nbconvert_exporter": "python",
   "pygments_lexer": "ipython3",
   "version": "3.4.2"
  }
 },
 "nbformat": 4,
 "nbformat_minor": 0
}
