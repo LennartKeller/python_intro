{
 "metadata": {
  "celltoolbar": "Slideshow",
  "name": "",
  "signature": "sha256:f0ca4901edaae836e7248c863fcd9668132e79e7edd59fcf79e5d8ebbe268c99"
 },
 "nbformat": 3,
 "nbformat_minor": 0,
 "worksheets": [
  {
   "cells": [
    {
     "cell_type": "markdown",
     "metadata": {
      "slideshow": {
       "slide_type": "slide"
      }
     },
     "source": [
      "## Einf\u00fchrung in das Programmieren in Python\n",
      "# Objektorientiertes Programmieren: Vererbung\n",
      "# Externe Module \u2013 ``pip``"
     ]
    },
    {
     "cell_type": "markdown",
     "metadata": {
      "slideshow": {
       "slide_type": "slide"
      }
     },
     "source": [
      "<h3 color=\"green\">Hausaufgabe</h3>\n",
      "\n",
      "* Tags entfernen aus einer XML-Datei"
     ]
    },
    {
     "cell_type": "code",
     "collapsed": false,
     "input": [
      "import re\n",
      "def dexml(xmlfile, outfile):\n",
      "    \"\"\"\n",
      "    Removes XML tags from xmlfile and writes the stripped result to outfile.\n",
      "    xmlfile must be a text file opened for reading, outfile one that is opened for writing.\n",
      "    \"\"\"\n",
      "    for line in xmlfile:\n",
      "        outfile.write(re.sub('<.+?>', '', line))\n",
      "        \n",
      "with open(\"test.xml\", \"r\", encoding=\"utf-8\") as xml, open(\"test.txt\", \"w\", encoding=\"utf-8\") as txt:\n",
      "    dexml(xml, txt)"
     ],
     "language": "python",
     "metadata": {
      "slideshow": {
       "slide_type": "fragment"
      }
     },
     "outputs": [],
     "prompt_number": 9
    },
    {
     "cell_type": "markdown",
     "metadata": {
      "slideshow": {
       "slide_type": "-"
      }
     },
     "source": [
      "* Probleme mit dieser L\u00f6sung?"
     ]
    },
    {
     "cell_type": "markdown",
     "metadata": {
      "slideshow": {
       "slide_type": "slide"
      }
     },
     "source": [
      "OOP Wiederholung"
     ]
    },
    {
     "cell_type": "markdown",
     "metadata": {
      "slideshow": {
       "slide_type": "slide"
      }
     },
     "source": [
      "### Objektorientierte Programmierung \u2013 Idee und Konzept\n",
      "\n",
      "* zusammengeh\u00f6rige Daten werden in einen gemeinsamen Container zusammengefasst\n",
      "* Operationen auf diesen Daten kommen ebenfalls in diesen Container\n",
      "* Ergebnis: **Objekt**, das seine internen Daten kapselt und Operationen anbietet"
     ]
    },
    {
     "cell_type": "markdown",
     "metadata": {
      "slideshow": {
       "slide_type": "fragment"
      }
     },
     "source": [
      "### Begriffe\n",
      "\n",
      "* **Objekt** oder **Instanz**  (z.B. `\"Hallo\"`)\n",
      "   * in Python ist _alles_ ein Objekt\n",
      "* **Attribute** oder **Eigenschaften** (oder **Felder**)\n",
      "   * Zugriff per `objekt.feld`\n",
      "   * les- und ggf. schreibbar\n",
      "* **Methoden**\n",
      "   * Funktionen, die teil eines Objekts sind und mit dem Objekt arbeiten"
     ]
    },
    {
     "cell_type": "markdown",
     "metadata": {
      "slideshow": {
       "slide_type": "fragment"
      }
     },
     "source": [
      "### Klassen\n",
      "\n",
      "* Der _Datentyp_ eines Objekts ist seine **Klasse**\n",
      "* Klasse = \u00bbBauplan\u00ab f\u00fcr die Objekte, definiert die Methoden (und Eigenschaften)"
     ]
    },
    {
     "cell_type": "code",
     "collapsed": false,
     "input": [
      "class Person:\n",
      "    \"\"\"\n",
      "    Eine Person.\n",
      "    \"\"\"\n",
      "    \n",
      "    def __init__(self, name, email):\n",
      "        \"\"\"\n",
      "        Erzeugt eine neue Person.\n",
      "        \"\"\"\n",
      "        self.name = name\n",
      "        self.email = email\n",
      "        \n",
      "    def formattedOutput(self):\n",
      "        \"\"\"\n",
      "        Liefert einen String zur\u00fcck, der diese Person beschreibt.\n",
      "        \"\"\"\n",
      "        return self.name + ' <' + self.email + '>'\n",
      "    \n",
      "    def describe(self):\n",
      "        \"\"\"\n",
      "        Beschreibt diese Person.\n",
      "        \"\"\"\n",
      "        print(self.formattedOutput())\n",
      "        \n",
      "max = Person(\"Max M\u00fcller\", \"max.mueller@example.com\")\n",
      "max.describe()"
     ],
     "language": "python",
     "metadata": {
      "slideshow": {
       "slide_type": "slide"
      }
     },
     "outputs": [
      {
       "output_type": "stream",
       "stream": "stdout",
       "text": [
        "Max M\u00fcller <max.mueller@example.com>\n"
       ]
      }
     ],
     "prompt_number": 6
    },
    {
     "cell_type": "heading",
     "level": 3,
     "metadata": {
      "slideshow": {
       "slide_type": "slide"
      }
     },
     "source": [
      "Vererbung"
     ]
    },
    {
     "cell_type": "code",
     "collapsed": false,
     "input": [
      "# zur Erinnerung nochmal die Klasse 'Person':\n",
      "class Person:\n",
      "    \"\"\"\n",
      "    Eine Person.\n",
      "    \"\"\"\n",
      "    \n",
      "    def __init__(self, name, email):\n",
      "        \"\"\"\n",
      "        Erzeugt eine neue Person.\n",
      "        \"\"\"\n",
      "        self.name = name\n",
      "        self.email = email\n",
      "        \n",
      "    def formattedOutput(self):\n",
      "        \"\"\"\n",
      "        Liefert einen String zur\u00fcck, der diese Person beschreibt.\n",
      "        \"\"\"\n",
      "        return self.name + ' <' + self.email + '>'\n",
      "    \n",
      "    def describe(self):\n",
      "        \"\"\"\n",
      "        Beschreibt diese Person.\n",
      "        \"\"\"\n",
      "        print(self.formattedOutput())\n",
      "        \n",
      "max = Person(\"Max M\u00fcller\", \"max.mueller@example.com\")\n",
      "max.describe()"
     ],
     "language": "python",
     "metadata": {
      "slideshow": {
       "slide_type": "-"
      }
     },
     "outputs": [
      {
       "output_type": "stream",
       "stream": "stdout",
       "text": [
        "Max M\u00fcller <max.mueller@example.com>\n"
       ]
      }
     ],
     "prompt_number": 6
    },
    {
     "cell_type": "markdown",
     "metadata": {
      "slideshow": {
       "slide_type": "subslide"
      }
     },
     "source": [
      "### Vererbung\n",
      "\n",
      "Eine Klasse kann eine _Superklasse_ (_Oberklasse_) haben, deren Eigenschaften sie erbt."
     ]
    },
    {
     "cell_type": "code",
     "collapsed": false,
     "input": [
      "class Student(Person):    # in Klammern: Superklasse\n",
      "    \n",
      "    def __init__(self, name, email, matrikel):\n",
      "        super().__init__(name, email)  # super() -> Oberklasse\n",
      "        self.matrikel = matrikel\n",
      "        \n",
      "    def formattedOutput(self):\n",
      "        return self.name + ' <' + self.email + '> (' + str(self.matrikel) + ')'        "
     ],
     "language": "python",
     "metadata": {
      "slideshow": {
       "slide_type": "fragment"
      }
     },
     "outputs": [],
     "prompt_number": 38
    },
    {
     "cell_type": "code",
     "collapsed": false,
     "input": [
      "moritz = Student(\"Moritz Maier\", \"moritz.maier@example.com\", 4711)\n",
      "moritz.describe()"
     ],
     "language": "python",
     "metadata": {
      "slideshow": {
       "slide_type": "fragment"
      }
     },
     "outputs": [
      {
       "output_type": "stream",
       "stream": "stdout",
       "text": [
        "Moritz Maier <moritz.maier@example.com> (4711)\n"
       ]
      }
     ],
     "prompt_number": 33
    },
    {
     "cell_type": "code",
     "collapsed": false,
     "input": [
      "for p in max, moritz:\n",
      "    print(p.name, isinstance(p, Person), isinstance(p, Student))"
     ],
     "language": "python",
     "metadata": {
      "slideshow": {
       "slide_type": "fragment"
      }
     },
     "outputs": [
      {
       "output_type": "stream",
       "stream": "stdout",
       "text": [
        "Max M\u00fcller True False\n",
        "Moritz Maier True True\n"
       ]
      }
     ],
     "prompt_number": 34
    },
    {
     "cell_type": "markdown",
     "metadata": {
      "slideshow": {
       "slide_type": "subslide"
      }
     },
     "source": [
      "### Vererbung im Detail\n",
      "\n",
      "Wird eine Klasse definiert, so kann sie mit einer Oberklasse verkn\u00fcpft werden, deren Eigenschaften sie _erbt_:\n",
      "\n",
      "```\n",
      "class Student(Person):\n",
      "```\n",
      "definiert die Klasse Student, deren Oberklasse Person ist.\n",
      "\n",
      "* Objekte des Typs `Student` sind _auch_ vom Typ `Person`\n",
      "* Objekte vom Typ `Person` sind aber nicht notwendigerweise vom Typ `Student`\n",
      "* Alle `Student`en haben die Eigenschaften von `Person`en, die `Student`-Klasse kann Attribute und Methoden jedoch \u00fcberschreiben"
     ]
    },
    {
     "cell_type": "markdown",
     "metadata": {
      "slideshow": {
       "slide_type": "subslide"
      }
     },
     "source": [
      "### Methoden \u00fcberschreiben\n",
      "* Wird in der Subklasse eine Methode definiert, so wird diese statt die der Oberklasse verwendet\n",
      "* in einer Methode kann mit `super()` auf die Oberklasse zugegriffen werden"
     ]
    },
    {
     "cell_type": "code",
     "collapsed": false,
     "input": [
      "class Student(Person):    # in Klammern: Superklasse\n",
      "    \n",
      "    def __init__(self, name, email, matrikel):\n",
      "        super().__init__(name, email)  # super() -> Oberklasse\n",
      "        self.matrikel = matrikel\n"
     ],
     "language": "python",
     "metadata": {
      "slideshow": {
       "slide_type": "-"
      }
     },
     "outputs": [],
     "prompt_number": 39
    },
    {
     "cell_type": "markdown",
     "metadata": {
      "slideshow": {
       "slide_type": "-"
      }
     },
     "source": [
      "hier wird `__init__` von Person \u00fcberschrieben und aus der \u00fcberschreibenden Methode  mithilfe von `super()` aufgerufen"
     ]
    },
    {
     "cell_type": "markdown",
     "metadata": {
      "slideshow": {
       "slide_type": "subslide"
      }
     },
     "source": [
      "### Polymorphie\n",
      "\n",
      "* Ein Objekt einer Subklasse kann wie das der Superklasse verwendet werden, es werden jedoch ggf. die Methoden der Subklasse verwendet.\n",
      "* Beispiel: `Student.formattedOutput` wird aus `Person.describe` aufgerufen ..."
     ]
    },
    {
     "cell_type": "code",
     "collapsed": false,
     "input": [
      "class Student(Person):    # in Klammern: Superklasse\n",
      "    \n",
      "    def __init__(self, name, email, matrikel):\n",
      "        super().__init__(name, email)  # super() -> Oberklasse\n",
      "        self.matrikel = matrikel\n",
      "        \n",
      "    def formattedOutput(self):\n",
      "        return self.name + ' <' + self.email + '> (' + str(self.matrikel) + ')'        "
     ],
     "language": "python",
     "metadata": {
      "slideshow": {
       "slide_type": "fragment"
      }
     },
     "outputs": [],
     "prompt_number": 38
    },
    {
     "cell_type": "code",
     "collapsed": false,
     "input": [
      "moritz = Student(\"Moritz Maier\", \"moritz.maier@example.com\", 4711)\n",
      "moritz.describe()"
     ],
     "language": "python",
     "metadata": {
      "slideshow": {
       "slide_type": "fragment"
      }
     },
     "outputs": [
      {
       "output_type": "stream",
       "stream": "stdout",
       "text": [
        "Moritz Maier <moritz.maier@example.com> (4711)\n"
       ]
      }
     ],
     "prompt_number": 33
    },
    {
     "cell_type": "code",
     "collapsed": false,
     "input": [
      "class Obst:\n",
      "    \n",
      "    def __init__(self, name, erntemonate):\n",
      "        \"\"\"\n",
      "        Erzeugt eine neue Obstsorte `name`. `erntemonate` ist eine Liste der Monate \u00e0 la ['Jan', 'Feb'], \n",
      "        die die Erntezeit repr\u00e4sentiert.\n",
      "        \"\"\"\n",
      "        self.name = name\n",
      "        self.erntemonate = erntemonate\n",
      "        \n",
      "    def verfuegbar(self, monat):\n",
      "        \"\"\"Ist das Obst in Monat `monat` (z.B. 'Jan') verf\u00fcgbar?\"\"\"\n",
      "        return monat in self.erntemonate\n",
      "\n",
      "aprikosen = Obst(\"Aprikosen\", [\"Jul\", \"Aug\"])\n",
      "brombeeren = Obst(\"Brombeeren\", [\"Jul\",\"Aug\", \"Sep\"])\n",
      "erdbeeren = Obst(\"Erdbeeren\", [\"Mai\",\"Jun\", \"Jul\"])"
     ],
     "language": "python",
     "metadata": {
      "slideshow": {
       "slide_type": "slide"
      }
     },
     "outputs": [],
     "prompt_number": 1
    },
    {
     "cell_type": "markdown",
     "metadata": {
      "slideshow": {
       "slide_type": "slide"
      }
     },
     "source": [
      "<h3 style='color:green'>Aufgabe</h3>\n",
      "\n",
      "1. Manche Obstsorten sind lagerf\u00e4hig. Erzeugen Sie eine Subklasse `Lagerobst` zu ihrer Obstklasse, die die Monate, in denen eine Obstsorte aus Lagerbest\u00e4nden verf\u00fcgbar ist, als zus\u00e4tzliches Attribut pflegt. Erzeugen Sie Instanzen f\u00fcr \u00c4pfel (Erntezeit August bis November, lagerf\u00e4hig Dezember bis Mai) und Birnen (Ernte August bis Oktober, lagerf\u00e4hig bis Dezember)\n",
      "2. \u00dcberschreiben Sie die `verfuegbar`-Methode, sodass sie bei Lagerobst auch in den Lagermonaten `True` zur\u00fcckgibt\n",
      "3. F\u00fcgen Sie dem Lagerobst eine Methode hinzu, mit der zwischen frisch und gelagert verf\u00fcgbarem Obst unterschieden werden kann. Welche Implementierungsm\u00f6glichkeiten sind m\u00f6glich? Diskutieren Sie Vor- und Nachteile."
     ]
    },
    {
     "cell_type": "code",
     "collapsed": false,
     "input": [
      "class Lagerobst(Obst):\n",
      "    def __init__(self, name, erntemonate, lagermonate):\n",
      "        super().__init__(name, erntemonate)\n",
      "        self.lagermonate = lagermonate\n",
      "        \n",
      "    def verfuegbar(self, monat):\n",
      "        return super().verfuegbar(monat) or self.gelagert()\n",
      "    \n",
      "    # eine M\u00f6glichkeit:\n",
      "    def gelagert(self, monat):\n",
      "        return monat in lagermonate        "
     ],
     "language": "python",
     "metadata": {
      "slideshow": {
       "slide_type": "subslide"
      }
     },
     "outputs": [],
     "prompt_number": 2
    },
    {
     "cell_type": "markdown",
     "metadata": {
      "slideshow": {
       "slide_type": "slide"
      }
     },
     "source": [
      "## Weitere OOP-Konzepte in Python\n",
      "\n",
      "* spezielle Methoden und Attribute, z.B.\n",
      "\n",
      "    * `__dict__`\n",
      "    \n",
      "    * `__iter__`\n",
      "    * `__next__`\n",
      "\n",
      "* Operator-\u00dcberladung:\n",
      "\n",
      "    * `__add__` etc.\n",
      "    \n",
      "* Klassen- und Statische Methoden"
     ]
    },
    {
     "cell_type": "heading",
     "level": 1,
     "metadata": {
      "slideshow": {
       "slide_type": "slide"
      }
     },
     "source": [
      "Externe Module"
     ]
    },
    {
     "cell_type": "markdown",
     "metadata": {
      "slideshow": {
       "slide_type": "-"
      }
     },
     "source": [
      "* Der [Python Package Index](http://pypi.python.org/) ist das zentrale Verzeichnis der meisten Module\n",
      "* z.B. Requests <https://pypi.python.org/pypi/requests/>\n",
      "* Installation mit `pip` (das manchmal auch `pip3` hei\u00dft f\u00fcr Python 3)"
     ]
    },
    {
     "cell_type": "markdown",
     "metadata": {
      "slideshow": {
       "slide_type": "fragment"
      }
     },
     "source": [
      "```bash\n",
      "pip install --help | more\n",
      "pip search <something>\n",
      "pip install <paketname>\n",
      "\n",
      "pip install requests\n",
      "```"
     ]
    },
    {
     "cell_type": "code",
     "collapsed": false,
     "input": [
      "import requests\n",
      "r = requests.get('http://www.textgridrep.de/')"
     ],
     "language": "python",
     "metadata": {
      "slideshow": {
       "slide_type": "subslide"
      }
     },
     "outputs": [],
     "prompt_number": 5
    },
    {
     "cell_type": "code",
     "collapsed": false,
     "input": [
      "r.headers"
     ],
     "language": "python",
     "metadata": {
      "slideshow": {
       "slide_type": "-"
      }
     },
     "outputs": [
      {
       "metadata": {},
       "output_type": "pyout",
       "prompt_number": 6,
       "text": [
        "{'Date': 'Wed, 21 Jan 2015 08:39:48 GMT', 'Content-Encoding': 'gzip', 'Content-Type': 'text/html', 'Last-Modified': 'Fri, 31 Jan 2014 10:34:10 GMT', 'Connection': 'keep-alive', 'Server': 'nginx/1.2.1', 'Transfer-Encoding': 'chunked'}"
       ]
      }
     ],
     "prompt_number": 6
    },
    {
     "cell_type": "markdown",
     "metadata": {
      "slideshow": {
       "slide_type": "subslide"
      }
     },
     "source": [
      "```bash\n",
      "pip freeze > requirements.txt\n",
      "pip -r requirements.txt\n",
      "```"
     ]
    },
    {
     "cell_type": "markdown",
     "metadata": {
      "slideshow": {
       "slide_type": "slide"
      }
     },
     "source": [
      "# Hausaufgabe\n",
      "\n",
      "OOP-Modellieraufgabe folgt heute"
     ]
    },
    {
     "cell_type": "code",
     "collapsed": false,
     "input": [],
     "language": "python",
     "metadata": {},
     "outputs": []
    }
   ],
   "metadata": {}
  }
 ]
}