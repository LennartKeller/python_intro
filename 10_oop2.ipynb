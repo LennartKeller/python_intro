{
 "cells": [
  {
   "cell_type": "markdown",
   "metadata": {
    "slideshow": {
     "slide_type": "slide"
    }
   },
   "source": [
    "## Einführung in das Programmieren in Python\n",
    "# Objektorientiertes Programmieren 2"
   ]
  },
  {
   "cell_type": "markdown",
   "metadata": {
    "slideshow": {
     "slide_type": "slide"
    }
   },
   "source": [
    "### Objektorientierte Programmierung – Idee und Konzept\n",
    "\n",
    "* zusammengehörige Daten werden in einen gemeinsamen Container zusammengefasst\n",
    "* Operationen auf diesen Daten kommen ebenfalls in diesen Container\n",
    "* Ergebnis: **Objekt**, das seine internen Daten kapselt und Operationen anbietet"
   ]
  },
  {
   "cell_type": "markdown",
   "metadata": {
    "slideshow": {
     "slide_type": "fragment"
    }
   },
   "source": [
    "### Begriffe\n",
    "\n",
    "* **Objekt** oder **Instanz**  (z.B. `\"Hallo\"`)\n",
    "   * in Python ist _alles_ ein Objekt\n",
    "* **Attribute** oder **Eigenschaften** (oder **Felder**)\n",
    "   * Zugriff per `objekt.feld`\n",
    "   * les- und ggf. schreibbar\n",
    "* **Methoden**\n",
    "   * Funktionen, die Teil eines Objekts sind und mit dem Objekt arbeiten"
   ]
  },
  {
   "cell_type": "markdown",
   "metadata": {
    "slideshow": {
     "slide_type": "fragment"
    }
   },
   "source": [
    "### Klassen\n",
    "\n",
    "* Der _Datentyp_ eines Objekts ist seine **Klasse**\n",
    "* Klasse = »Bauplan« für die Objekte, definiert die Methoden (und Eigenschaften)"
   ]
  },
  {
   "cell_type": "code",
   "execution_count": 38,
   "metadata": {
    "collapsed": false,
    "slideshow": {
     "slide_type": "slide"
    }
   },
   "outputs": [
    {
     "name": "stdout",
     "output_type": "stream",
     "text": [
      "Max Müller <max.mueller@example.com>\n"
     ]
    }
   ],
   "source": [
    "class Person:\n",
    "    \"\"\"\n",
    "    Eine Person.\n",
    "    \"\"\"\n",
    "    \n",
    "    def __init__(self, name, email):\n",
    "        \"\"\"\n",
    "        Erzeugt eine neue Person.\n",
    "        \"\"\"\n",
    "        self.name = name\n",
    "        self.email = email\n",
    "        \n",
    "    def formattedOutput(self):\n",
    "        \"\"\"\n",
    "        Liefert einen String zurück, der diese Person beschreibt.\n",
    "        \"\"\"\n",
    "        return self.name + ' <' + self.email + '>'\n",
    "    \n",
    "    def describe(self):\n",
    "        \"\"\"\n",
    "        Beschreibt diese Person.\n",
    "        \"\"\"\n",
    "        print(self.formattedOutput())\n",
    "        \n",
    "max = Person(\"Max Müller\", \"max.mueller@example.com\")\n",
    "max.describe()"
   ]
  },
  {
   "cell_type": "markdown",
   "metadata": {
    "slideshow": {
     "slide_type": "slide"
    }
   },
   "source": [
    "### Vererbung\n",
    "\n",
    "Eine Klasse kann eine _Superklasse_ (_Oberklasse_) haben, deren Eigenschaften sie erbt."
   ]
  },
  {
   "cell_type": "code",
   "execution_count": 39,
   "metadata": {
    "collapsed": false,
    "slideshow": {
     "slide_type": "fragment"
    }
   },
   "outputs": [],
   "source": [
    "class Student(Person):    # in Klammern: Superklasse\n",
    "    \n",
    "    def __init__(self, name, email, matrikel):\n",
    "        super().__init__(name, email)  # super() -> Oberklasse\n",
    "        self.matrikel = matrikel\n",
    "        \n",
    "    def formattedOutput(self):\n",
    "        return self.name + ' <' + self.email + '> (' + str(self.matrikel) + ')'        "
   ]
  },
  {
   "cell_type": "code",
   "execution_count": 40,
   "metadata": {
    "collapsed": false,
    "slideshow": {
     "slide_type": "fragment"
    }
   },
   "outputs": [
    {
     "name": "stdout",
     "output_type": "stream",
     "text": [
      "Moritz Maier <moritz.maier@example.com> (4711)\n"
     ]
    }
   ],
   "source": [
    "moritz = Student(\"Moritz Maier\", \"moritz.maier@example.com\", 4711)\n",
    "moritz.describe()"
   ]
  },
  {
   "cell_type": "code",
   "execution_count": 42,
   "metadata": {
    "collapsed": false,
    "slideshow": {
     "slide_type": "slide"
    }
   },
   "outputs": [
    {
     "name": "stdout",
     "output_type": "stream",
     "text": [
      "Länge: 62\n",
      "Wörter: ['Dies', 'ist', 'ein', 'kleiner', 'Text.', 'Nicht', 'der', 'Rede', 'wert.', 'Aber', 'immerhin.']\n"
     ]
    }
   ],
   "source": [
    "class Text:\n",
    "    def __init__(self, text):\n",
    "        self.text = text\n",
    "    def length(self):\n",
    "        return len(self.text)\n",
    "    def words(self):\n",
    "        return self.text.split()\n",
    "t = Text(\"Dies ist ein kleiner Text. Nicht der Rede wert. Aber immerhin.\")\n",
    "print(\"Länge:\", t.length())\n",
    "print(\"Wörter:\", t.words())"
   ]
  },
  {
   "cell_type": "markdown",
   "metadata": {
    "slideshow": {
     "slide_type": "-"
    }
   },
   "source": [
    "<h3 style=\"color:green;\">Aufgabe</h3>\n",
    "\n",
    "* Erzeugen Sie eine Subklasse `MarkedUpText` zu Ihrer `Text`-Klasse von oben. \n",
    "* Die Subklasse soll Strings mit Tags wie in `\"Dies ist ein <hi rend=\"bold\">wichtiger</hi> Text\"` im Konstruktor akzeptieren\n",
    "* die übrigen Methoden sollen funktionieren wie bei `Text`, aber sich nur auf den reinen Textinhalt ohne Tags beziehen. \n",
    "* Definieren Sie außerdem eine Methode `raw_length()`, die die Länge in Zeichen _mit_ Markup liefert"
   ]
  },
  {
   "cell_type": "code",
   "execution_count": 43,
   "metadata": {
    "collapsed": false,
    "slideshow": {
     "slide_type": "subslide"
    }
   },
   "outputs": [],
   "source": [
    "import re\n",
    "\n",
    "class MarkedUpText(Text):\n",
    "    \n",
    "    def __init__(self, markedup_text):\n",
    "        self.raw_text = markedup_text\n",
    "        plain_text = re.sub('<[^>]+>', '', markedup_text)\n",
    "        super().__init__(plain_text)\n",
    "    \n",
    "    def raw_length(self):\n",
    "        return len(self.raw_text)"
   ]
  },
  {
   "cell_type": "code",
   "execution_count": 44,
   "metadata": {
    "collapsed": false,
    "slideshow": {
     "slide_type": "-"
    }
   },
   "outputs": [
    {
     "name": "stdout",
     "output_type": "stream",
     "text": [
      "Dies ist ein wichtiger Text; 27; ['Dies', 'ist', 'ein', 'wichtiger', 'Text']; 48\n"
     ]
    }
   ],
   "source": [
    "m = MarkedUpText('Dies ist ein <hi rend=\"bold\">wichtiger</hi> Text')\n",
    "print(m.text, m.length(), m.words(), m.raw_length(), sep=\"; \")"
   ]
  },
  {
   "cell_type": "markdown",
   "metadata": {
    "slideshow": {
     "slide_type": "slide"
    }
   },
   "source": [
    "### Erweitern existierender Klassen\n",
    "\n",
    "* Modul `collections` enthält eine Klasse `Counter`\n",
    "* `dict`-Subklasse\n",
    "* zählt Einträge"
   ]
  },
  {
   "cell_type": "code",
   "execution_count": 45,
   "metadata": {
    "collapsed": false,
    "slideshow": {
     "slide_type": "-"
    }
   },
   "outputs": [
    {
     "data": {
      "text/plain": [
       "Counter({'ist': 2, 'dies': 1, 'Text': 1, 'ein': 1, 'der': 1, 'wichtig': 1})"
      ]
     },
     "execution_count": 45,
     "metadata": {},
     "output_type": "execute_result"
    }
   ],
   "source": [
    "from collections import Counter\n",
    "c = Counter([\"dies\", \"ist\", \"ein\", \"Text\", \"der\", \"wichtig\", \"ist\"])\n",
    "c"
   ]
  },
  {
   "cell_type": "code",
   "execution_count": 46,
   "metadata": {
    "collapsed": false,
    "slideshow": {
     "slide_type": "fragment"
    }
   },
   "outputs": [
    {
     "data": {
      "text/plain": [
       "2"
      ]
     },
     "execution_count": 46,
     "metadata": {},
     "output_type": "execute_result"
    }
   ],
   "source": [
    "c.update([\"dies\", \"auch\"])\n",
    "c[\"dies\"]"
   ]
  },
  {
   "cell_type": "code",
   "execution_count": 47,
   "metadata": {
    "collapsed": false,
    "slideshow": {
     "slide_type": "fragment"
    }
   },
   "outputs": [
    {
     "data": {
      "text/plain": [
       "[('dies', 2),\n",
       " ('ist', 2),\n",
       " ('auch', 1),\n",
       " ('Text', 1),\n",
       " ('ein', 1),\n",
       " ('der', 1),\n",
       " ('wichtig', 1)]"
      ]
     },
     "execution_count": 47,
     "metadata": {},
     "output_type": "execute_result"
    }
   ],
   "source": [
    "c.most_common()"
   ]
  },
  {
   "cell_type": "code",
   "execution_count": 48,
   "metadata": {
    "collapsed": false,
    "slideshow": {
     "slide_type": "skip"
    }
   },
   "outputs": [],
   "source": [
    "class ItemStat(Counter):\n",
    "    def itemcount(self):\n",
    "        return sum(self.values())\n",
    "    def freq(self, item):\n",
    "        if item in self:\n",
    "            return self[item] / self.itemcount()"
   ]
  },
  {
   "cell_type": "markdown",
   "metadata": {
    "slideshow": {
     "slide_type": "slide"
    }
   },
   "source": [
    "<h3 style=\"color:green;\">Aufgabe</h3>\n",
    "\n",
    "Schreiben Sie eine Subklasse `ItemStat` von `collections.Counter`. Fügen Sie eine Methode `freq` hinzu, die für einen gegebenen Eintrag die relative Frequenz ausrechnet. Selbsttest:"
   ]
  },
  {
   "cell_type": "code",
   "execution_count": 50,
   "metadata": {
    "collapsed": false,
    "slideshow": {
     "slide_type": "-"
    }
   },
   "outputs": [
    {
     "name": "stdout",
     "output_type": "stream",
     "text": [
      "0.2\n"
     ]
    }
   ],
   "source": [
    "stat = ItemStat(\"dies ist ein text der langweilig ist - dies auch\".split())\n",
    "print(stat.freq('ist'))"
   ]
  },
  {
   "cell_type": "markdown",
   "metadata": {
    "slideshow": {
     "slide_type": "subslide"
    }
   },
   "source": [
    "### Lösung"
   ]
  },
  {
   "cell_type": "code",
   "execution_count": 51,
   "metadata": {
    "collapsed": false,
    "slideshow": {
     "slide_type": "-"
    }
   },
   "outputs": [],
   "source": [
    "class ItemStat(Counter):\n",
    "    \n",
    "    # Wir müssen __init__ hier nicht überschreiben – würde nichts neues liefern\n",
    "    \n",
    "    def itemcount(self):\n",
    "        \"\"\"Gesamtzahl der Einträge\"\"\"\n",
    "        return sum(self.values())\n",
    "        \n",
    "    def freq(self, item):\n",
    "        \"\"\"Relative Häufigkeit von item\"\"\"\n",
    "        if item in self:\n",
    "            return self[item] / self.itemcount()"
   ]
  },
  {
   "cell_type": "markdown",
   "metadata": {
    "slideshow": {
     "slide_type": "slide"
    }
   },
   "source": [
    "### [Besondere Attribute und Methoden](https://docs.python.org/3.4/reference/datamodel.html#special-method-names)\n",
    "\n",
    "* `__doc__` = Docstring\n",
    "* `__dict__` = alle Eigenschaften eines Objekts als Dictionary"
   ]
  },
  {
   "cell_type": "code",
   "execution_count": 55,
   "metadata": {
    "collapsed": false,
    "slideshow": {
     "slide_type": "-"
    }
   },
   "outputs": [
    {
     "data": {
      "text/plain": [
       "{'raw_text': 'Ein Text mit <em>Hervorhebung</em>.',\n",
       " 'text': 'Ein Text mit Hervorhebung.'}"
      ]
     },
     "execution_count": 55,
     "metadata": {},
     "output_type": "execute_result"
    }
   ],
   "source": [
    "t = MarkedUpText(\"Ein Text mit <em>Hervorhebung</em>.\")\n",
    "t.__dict__"
   ]
  },
  {
   "cell_type": "markdown",
   "metadata": {},
   "source": [
    "* Für die Benutzung _innerhalb_ von Objekten gedacht"
   ]
  },
  {
   "cell_type": "markdown",
   "metadata": {
    "slideshow": {
     "slide_type": "slide"
    }
   },
   "source": [
    "#### `__repr__` und `__str__`\n",
    "\n",
    "* `__str__()` liefert die \"schöne\" Repräsentation des Objekts, verwendet in `str()`, `print()`\n",
    "* `__repr__()` liefert die \"maschinenlesbare\" Repräsentation:\n",
    "\n",
    "     * möglichst ein Python-Ausdruck zur Erzeugung\n",
    "     * oder `< nützliche Beschreibung >`"
   ]
  },
  {
   "cell_type": "code",
   "execution_count": 64,
   "metadata": {
    "collapsed": false,
    "slideshow": {
     "slide_type": "fragment"
    }
   },
   "outputs": [
    {
     "name": "stdout",
     "output_type": "stream",
     "text": [
      "'Hallöchen'\n",
      "Hallöchen\n"
     ]
    }
   ],
   "source": [
    "s = \"Hallöchen\"\n",
    "print(repr(s))\n",
    "print(s)"
   ]
  },
  {
   "cell_type": "markdown",
   "metadata": {
    "slideshow": {
     "slide_type": "fragment"
    }
   },
   "source": [
    "Mit `eval(\"Ausdruck\")` können Sie einen String als Python-Ausdruck auswerten."
   ]
  },
  {
   "cell_type": "code",
   "execution_count": 69,
   "metadata": {
    "collapsed": false,
    "slideshow": {
     "slide_type": "fragment"
    }
   },
   "outputs": [
    {
     "name": "stdout",
     "output_type": "stream",
     "text": [
      "Hallo Welt\n"
     ]
    }
   ],
   "source": [
    "print(eval(\"'Hallo ' + 'Welt'\"))"
   ]
  },
  {
   "cell_type": "markdown",
   "metadata": {
    "slideshow": {
     "slide_type": "subslide"
    }
   },
   "source": [
    "<h3 style=\"color:green;\">Aufgabe</h3>"
   ]
  },
  {
   "cell_type": "markdown",
   "metadata": {
    "slideshow": {
     "slide_type": "-"
    }
   },
   "source": [
    "Ergänzen Sie Ihre `MarkedUpText`-Klasse um eine nützliche `__repr__`-Methode"
   ]
  },
  {
   "cell_type": "code",
   "execution_count": 70,
   "metadata": {
    "collapsed": false,
    "slideshow": {
     "slide_type": "-"
    }
   },
   "outputs": [],
   "source": [
    "class MarkedUpText(Text):    \n",
    "    def __init__(self, markedup_text):\n",
    "        self.raw_text = markedup_text\n",
    "        plain_text = re.sub('<[^>]+>', '', markedup_text)\n",
    "        super().__init__(plain_text)    \n",
    "    def raw_length(self):\n",
    "        return len(self.raw_text)"
   ]
  },
  {
   "cell_type": "code",
   "execution_count": 74,
   "metadata": {
    "collapsed": false,
    "slideshow": {
     "slide_type": "subslide"
    }
   },
   "outputs": [
    {
     "name": "stdout",
     "output_type": "stream",
     "text": [
      "MarkedUpText('Text <em>mit</em> Markup')\n"
     ]
    }
   ],
   "source": [
    "class MarkedUpText(Text):\n",
    "    \n",
    "    def __init__(self, markedup_text):\n",
    "        self.raw_text = markedup_text\n",
    "        plain_text = re.sub('<[^>]+>', '', markedup_text)\n",
    "        super().__init__(plain_text)\n",
    "    \n",
    "    def raw_length(self):\n",
    "        return len(self.raw_text)\n",
    "    \n",
    "    def __repr__(self):\n",
    "        return self.__class__.__name__ + \"(\" + repr(self.raw_text) + \")\"\n",
    "    \n",
    "print(repr(MarkedUpText('Text <em>mit</em> Markup')))"
   ]
  },
  {
   "cell_type": "markdown",
   "metadata": {},
   "source": [
    "### Iterables und Iteratoren"
   ]
  },
  {
   "cell_type": "markdown",
   "metadata": {},
   "source": [
    "* `for`-Schleifen und dergleichen funktionieren nicht nur mit Listen\n",
    "* Oberbegriff __Iterables__\n",
    "* Protokoll:\n",
    "\n",
    "    * Iterable ist ein Objekt, dass die Methode `__iter__()` anbietet\n",
    "    * `__iter__` liefert einen __Iterator__\n",
    "    * ein __Iterator__ ist ein Objekt mit der Methode __next()__\n",
    "    * __next()__ liefet jeweils den nächsten Eintrag des Iterables\n",
    "    * am Ende der Liste: `raise StopIteration()`  "
   ]
  },
  {
   "cell_type": "code",
   "execution_count": 80,
   "metadata": {
    "collapsed": false
   },
   "outputs": [
    {
     "name": "stdout",
     "output_type": "stream",
     "text": [
      "<list_iterator object at 0x7f2c5c27c208>\n",
      "1 2 3\n"
     ]
    }
   ],
   "source": [
    "lst = [1, 2, 3]\n",
    "it = iter(lst)    # Kapselt lst.__iter__()\n",
    "print(it)\n",
    "print(next(it), next(it), next(it))  # next(it) kapselt it.__next__()"
   ]
  },
  {
   "cell_type": "code",
   "execution_count": 81,
   "metadata": {
    "collapsed": false
   },
   "outputs": [
    {
     "ename": "StopIteration",
     "evalue": "",
     "output_type": "error",
     "traceback": [
      "\u001b[0;31m---------------------------------------------------------------------------\u001b[0m\n\u001b[0;31mStopIteration\u001b[0m                             Traceback (most recent call last)",
      "\u001b[0;32m<ipython-input-81-2cdb14c0d4d6>\u001b[0m in \u001b[0;36m<module>\u001b[0;34m()\u001b[0m\n\u001b[0;32m----> 1\u001b[0;31m \u001b[0mnext\u001b[0m\u001b[0;34m(\u001b[0m\u001b[0mit\u001b[0m\u001b[0;34m)\u001b[0m\u001b[0;34m\u001b[0m\u001b[0m\n\u001b[0m",
      "\u001b[0;31mStopIteration\u001b[0m: "
     ]
    }
   ],
   "source": [
    "next(it)"
   ]
  },
  {
   "cell_type": "markdown",
   "metadata": {
    "slideshow": {
     "slide_type": "slide"
    }
   },
   "source": [
    "<h3 style=\"color:green;\">Aufgabe</h3>\n",
    "\n",
    "Ergänzen Sie `Text` so, dass Sie bei einer Benutzung in einer for-Schleife über die Wörter iterieren."
   ]
  },
  {
   "cell_type": "code",
   "execution_count": null,
   "metadata": {
    "collapsed": false,
    "slideshow": {
     "slide_type": "-"
    }
   },
   "outputs": [],
   "source": [
    "class Text:\n",
    "    def __init__(self, text):\n",
    "        self.text = text\n",
    "    def length(self):\n",
    "        return len(self.text)\n",
    "    def words(self):\n",
    "        return self.text.split()"
   ]
  },
  {
   "cell_type": "code",
   "execution_count": 84,
   "metadata": {
    "collapsed": false,
    "slideshow": {
     "slide_type": "subslide"
    }
   },
   "outputs": [
    {
     "name": "stdout",
     "output_type": "stream",
     "text": [
      "Hallo\n",
      "sonnige\n",
      "Welt\n"
     ]
    }
   ],
   "source": [
    "class Text:\n",
    "    def __init__(self, text):\n",
    "        self.text = text\n",
    "    def length(self):\n",
    "        return len(self.text)\n",
    "    def words(self):\n",
    "        return self.text.split()\n",
    "    def __iter__(self):\n",
    "        return iter(self.words())\n",
    "    \n",
    "for w in Text(\"Hallo sonnige Welt\"):\n",
    "    print(w)"
   ]
  },
  {
   "cell_type": "code",
   "execution_count": 88,
   "metadata": {
    "collapsed": false,
    "slideshow": {
     "slide_type": "subslide"
    }
   },
   "outputs": [
    {
     "name": "stdout",
     "output_type": "stream",
     "text": [
      "Hallo\n",
      "sonnige\n",
      "Welt\n"
     ]
    }
   ],
   "source": [
    "class Text:\n",
    "    def __init__(self, text):\n",
    "        self.text = text\n",
    "    def length(self):\n",
    "        return len(self.text)\n",
    "    def words(self):\n",
    "        return self.text.split()\n",
    "    def __iter__(self):\n",
    "        class TextIterator:\n",
    "            def __init__(self, text):\n",
    "                self.wordlist = text.words()\n",
    "                self.pos = -1\n",
    "            def __next__(self):\n",
    "                self.pos += 1\n",
    "                if self.pos >= len(self.wordlist):\n",
    "                    raise StopIteration()\n",
    "                else:\n",
    "                    return self.wordlist[self.pos]\n",
    "        return TextIterator(self)\n",
    "                \n",
    "for w in Text(\"Hallo sonnige Welt\"):\n",
    "    print(w)"
   ]
  },
  {
   "cell_type": "markdown",
   "metadata": {
    "slideshow": {
     "slide_type": "slide"
    }
   },
   "source": [
    "### Generatoren / Generator-Funktionen\n",
    "\n",
    "* Funktionen / Methoden, die das Schlüsselwort `yield` enthalten\n",
    "* die Funktion liefert einen _Generator_, ein Iterable"
   ]
  },
  {
   "cell_type": "code",
   "execution_count": 99,
   "metadata": {
    "collapsed": false,
    "slideshow": {
     "slide_type": "fragment"
    }
   },
   "outputs": [
    {
     "name": "stdout",
     "output_type": "stream",
     "text": [
      "Die Funktion lieferte einen Generator: <generator object my_range at 0x7f2c5c28c828>\n",
      "Gleich geht's los:\n",
      "Jetzt kommt 0\n",
      "Jetzt ist 0 angekommen\n",
      "Erhöhe auf 1\n",
      "Jetzt kommt 1\n",
      "Jetzt ist 1 angekommen\n",
      "Erhöhe auf 2\n",
      "Jetzt kommt 2\n",
      "Jetzt ist 2 angekommen\n",
      "Erhöhe auf 3\n"
     ]
    }
   ],
   "source": [
    "def my_range(stop):\n",
    "    i = 0\n",
    "    print(\"Gleich geht's los:\")\n",
    "    while i < stop:\n",
    "        print(\"Jetzt kommt\", i)\n",
    "        yield i\n",
    "        i += 1\n",
    "        print(\"Erhöhe auf\", i)\n",
    "        \n",
    "gen = my_range(3)\n",
    "print(\"Die Funktion lieferte einen Generator:\", gen)\n",
    "\n",
    "for number in gen:\n",
    "    print(\"Jetzt ist\", number, \"angekommen\")"
   ]
  },
  {
   "cell_type": "markdown",
   "metadata": {
    "slideshow": {
     "slide_type": "slide"
    }
   },
   "source": [
    "<h3 style=\"color:green;\">Aufgabe</h3>\n",
    "\n",
    "Schreiben Sie `Text.__iter__()` als Generator-Funktion (mit `yield Eintrag`)."
   ]
  },
  {
   "cell_type": "code",
   "execution_count": 103,
   "metadata": {
    "collapsed": false,
    "slideshow": {
     "slide_type": "-"
    }
   },
   "outputs": [],
   "source": [
    "class Text:\n",
    "    def __init__(self, text):\n",
    "        self.text = text\n",
    "    def length(self):\n",
    "        return len(self.text)\n",
    "    def words(self):\n",
    "        return self.text.split()"
   ]
  },
  {
   "cell_type": "code",
   "execution_count": 104,
   "metadata": {
    "collapsed": false,
    "slideshow": {
     "slide_type": "subslide"
    }
   },
   "outputs": [],
   "source": [
    "class Text:\n",
    "    def __init__(self, text):\n",
    "        self.text = text\n",
    "    def length(self):\n",
    "        return len(self.text)\n",
    "    def words(self):\n",
    "        return self.text.split()\n",
    "    def __iter__(self):\n",
    "        for word in self.words():\n",
    "            yield word        "
   ]
  },
  {
   "cell_type": "markdown",
   "metadata": {
    "slideshow": {
     "slide_type": "slide"
    }
   },
   "source": [
    "# Externe Module"
   ]
  },
  {
   "cell_type": "markdown",
   "metadata": {
    "slideshow": {
     "slide_type": "-"
    }
   },
   "source": [
    "* Der [Python Package Index](http://pypi.python.org/) ist das zentrale Verzeichnis der meisten Module\n",
    "* z.B. Requests <https://pypi.python.org/pypi/requests/>\n",
    "* Installation mit `pip` (das manchmal auch `pip3` heißt für Python 3)"
   ]
  },
  {
   "cell_type": "markdown",
   "metadata": {
    "slideshow": {
     "slide_type": "fragment"
    }
   },
   "source": [
    "```bash\n",
    "pip install --help | more\n",
    "pip search <something>\n",
    "pip install <paketname>\n",
    "\n",
    "pip install requests\n",
    "```"
   ]
  },
  {
   "cell_type": "code",
   "execution_count": 5,
   "metadata": {
    "collapsed": false,
    "slideshow": {
     "slide_type": "subslide"
    }
   },
   "outputs": [],
   "source": [
    "import requests\n",
    "r = requests.get('http://www.textgridrep.de/')"
   ]
  },
  {
   "cell_type": "code",
   "execution_count": 6,
   "metadata": {
    "collapsed": false,
    "slideshow": {
     "slide_type": "-"
    }
   },
   "outputs": [
    {
     "data": {
      "text/plain": [
       "{'Date': 'Wed, 21 Jan 2015 08:39:48 GMT', 'Content-Encoding': 'gzip', 'Content-Type': 'text/html', 'Last-Modified': 'Fri, 31 Jan 2014 10:34:10 GMT', 'Connection': 'keep-alive', 'Server': 'nginx/1.2.1', 'Transfer-Encoding': 'chunked'}"
      ]
     },
     "execution_count": 6,
     "metadata": {},
     "output_type": "execute_result"
    }
   ],
   "source": [
    "r.headers"
   ]
  },
  {
   "cell_type": "markdown",
   "metadata": {
    "slideshow": {
     "slide_type": "subslide"
    }
   },
   "source": [
    "```bash\n",
    "pip freeze > requirements.txt\n",
    "pip -r requirements.txt\n",
    "```"
   ]
  },
  {
   "cell_type": "code",
   "execution_count": null,
   "metadata": {
    "collapsed": false
   },
   "outputs": [],
   "source": []
  }
 ],
 "metadata": {
  "celltoolbar": "Slideshow",
  "kernelspec": {
   "display_name": "Python 3",
   "language": "python",
   "name": "python3"
  },
  "language_info": {
   "codemirror_mode": {
    "name": "ipython",
    "version": 3
   },
   "file_extension": ".py",
   "mimetype": "text/x-python",
   "name": "python",
   "nbconvert_exporter": "python",
   "pygments_lexer": "ipython3",
   "version": "3.4.2"
  }
 },
 "nbformat": 4,
 "nbformat_minor": 0
}
