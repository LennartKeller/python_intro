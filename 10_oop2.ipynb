{
 "metadata": {
  "celltoolbar": "Slideshow",
  "name": "",
  "signature": "sha256:d71999a6ca436bdd737f95b07bae2b66de3b8d27d3217b26f8219c1e98b83bf8"
 },
 "nbformat": 3,
 "nbformat_minor": 0,
 "worksheets": [
  {
   "cells": [
    {
     "cell_type": "markdown",
     "metadata": {
      "slideshow": {
       "slide_type": "slide"
      }
     },
     "source": [
      "## Einf\u00fchrung in das Programmieren in Python\n",
      "# Objektorientiertes Programmieren 2"
     ]
    },
    {
     "cell_type": "markdown",
     "metadata": {
      "slideshow": {
       "slide_type": "slide"
      }
     },
     "source": [
      "### Objektorientierte Programmierung \u2013 Idee und Konzept\n",
      "\n",
      "* zusammengeh\u00f6rige Daten werden in einen gemeinsamen Container zusammengefasst\n",
      "* Operationen auf diesen Daten kommen ebenfalls in diesen Container\n",
      "* Ergebnis: **Objekt**, das seine internen Daten kapselt und Operationen anbietet"
     ]
    },
    {
     "cell_type": "markdown",
     "metadata": {
      "slideshow": {
       "slide_type": "fragment"
      }
     },
     "source": [
      "### Begriffe\n",
      "\n",
      "* **Objekt** oder **Instanz**  (z.B. `\"Hallo\"`)\n",
      "   * in Python ist _alles_ ein Objekt\n",
      "* **Attribute** oder **Eigenschaften** (oder **Felder**)\n",
      "   * Zugriff per `objekt.feld`\n",
      "   * les- und ggf. schreibbar\n",
      "* **Methoden**\n",
      "   * Funktionen, die Teil eines Objekts sind und mit dem Objekt arbeiten"
     ]
    },
    {
     "cell_type": "markdown",
     "metadata": {
      "slideshow": {
       "slide_type": "fragment"
      }
     },
     "source": [
      "### Klassen\n",
      "\n",
      "* Der _Datentyp_ eines Objekts ist seine **Klasse**\n",
      "* Klasse = \u00bbBauplan\u00ab f\u00fcr die Objekte, definiert die Methoden (und Eigenschaften)"
     ]
    },
    {
     "cell_type": "code",
     "collapsed": false,
     "input": [
      "class Person:\n",
      "    \"\"\"\n",
      "    Eine Person.\n",
      "    \"\"\"\n",
      "    \n",
      "    def __init__(self, name, email):\n",
      "        \"\"\"\n",
      "        Erzeugt eine neue Person.\n",
      "        \"\"\"\n",
      "        self.name = name\n",
      "        self.email = email\n",
      "        \n",
      "    def formattedOutput(self):\n",
      "        \"\"\"\n",
      "        Liefert einen String zur\u00fcck, der diese Person beschreibt.\n",
      "        \"\"\"\n",
      "        return self.name + ' <' + self.email + '>'\n",
      "    \n",
      "    def describe(self):\n",
      "        \"\"\"\n",
      "        Beschreibt diese Person.\n",
      "        \"\"\"\n",
      "        print(self.formattedOutput())\n",
      "        \n",
      "max = Person(\"Max M\u00fcller\", \"max.mueller@example.com\")\n",
      "max.describe()"
     ],
     "language": "python",
     "metadata": {
      "slideshow": {
       "slide_type": "slide"
      }
     },
     "outputs": [
      {
       "output_type": "stream",
       "stream": "stdout",
       "text": [
        "Max M\u00fcller <max.mueller@example.com>\n"
       ]
      }
     ],
     "prompt_number": 38
    },
    {
     "cell_type": "markdown",
     "metadata": {
      "slideshow": {
       "slide_type": "subslide"
      }
     },
     "source": [
      "### Vererbung\n",
      "\n",
      "Eine Klasse kann eine _Superklasse_ (_Oberklasse_) haben, deren Eigenschaften sie erbt."
     ]
    },
    {
     "cell_type": "code",
     "collapsed": false,
     "input": [
      "class Student(Person):    # in Klammern: Superklasse\n",
      "    \n",
      "    def __init__(self, name, email, matrikel):\n",
      "        super().__init__(name, email)  # super() -> Oberklasse\n",
      "        self.matrikel = matrikel\n",
      "        \n",
      "    def formattedOutput(self):\n",
      "        return self.name + ' <' + self.email + '> (' + str(self.matrikel) + ')'        "
     ],
     "language": "python",
     "metadata": {
      "slideshow": {
       "slide_type": "fragment"
      }
     },
     "outputs": [],
     "prompt_number": 39
    },
    {
     "cell_type": "code",
     "collapsed": false,
     "input": [
      "moritz = Student(\"Moritz Maier\", \"moritz.maier@example.com\", 4711)\n",
      "moritz.describe()"
     ],
     "language": "python",
     "metadata": {
      "slideshow": {
       "slide_type": "fragment"
      }
     },
     "outputs": [
      {
       "output_type": "stream",
       "stream": "stdout",
       "text": [
        "Moritz Maier <moritz.maier@example.com> (4711)\n"
       ]
      }
     ],
     "prompt_number": 40
    },
    {
     "cell_type": "code",
     "collapsed": false,
     "input": [
      "class Text:\n",
      "    def __init__(self, text):\n",
      "        self.text = text\n",
      "    def length(self):\n",
      "        return len(self.text)\n",
      "    def words(self):\n",
      "        return self.text.split()\n",
      "t = Text(\"Dies ist ein kleiner Text. Nicht der Rede wert. Aber immerhin.\")\n",
      "print(\"L\u00e4nge:\", t.length())\n",
      "print(\"W\u00f6rter:\", t.words())"
     ],
     "language": "python",
     "metadata": {
      "slideshow": {
       "slide_type": "slide"
      }
     },
     "outputs": [
      {
       "output_type": "stream",
       "stream": "stdout",
       "text": [
        "L\u00e4nge: 62\n",
        "W\u00f6rter: ['Dies', 'ist', 'ein', 'kleiner', 'Text.', 'Nicht', 'der', 'Rede', 'wert.', 'Aber', 'immerhin.']\n"
       ]
      }
     ],
     "prompt_number": 42
    },
    {
     "cell_type": "markdown",
     "metadata": {
      "slideshow": {
       "slide_type": "-"
      }
     },
     "source": [
      "<h3 style=\"color:green;\">Aufgabe</h3>\n",
      "\n",
      "* Erzeugen Sie eine Subklasse `MarkedUpText` zu Ihrer `Text`-Klasse von oben. \n",
      "* Die Subklasse soll Strings mit Tags wie in `\"Dies ist ein <hi rend=\"bold\">wichtiger</bold> Text\"` im Konstruktor akzeptieren\n",
      "* die \u00fcbrigen Methoden sollen funktionieren wie bei `Text`, aber sich nur auf den reinen Textinhalt ohne Tags beziehen. \n",
      "* Definieren Sie au\u00dferdem eine Methode `raw_length()`, die die L\u00e4nge in Zeichen _mit_ Markup liefert"
     ]
    },
    {
     "cell_type": "code",
     "collapsed": false,
     "input": [
      "import re\n",
      "\n",
      "class MarkedUpText(Text):\n",
      "    \n",
      "    def __init__(self, markedup_text):\n",
      "        self.raw_text = markedup_text\n",
      "        plain_text = re.sub('<[^>]+>', '', markedup_text)\n",
      "        super().__init__(plain_text)\n",
      "    \n",
      "    def raw_length(self):\n",
      "        return len(self.raw_text)"
     ],
     "language": "python",
     "metadata": {
      "slideshow": {
       "slide_type": "subslide"
      }
     },
     "outputs": [],
     "prompt_number": 43
    },
    {
     "cell_type": "code",
     "collapsed": false,
     "input": [
      "m = MarkedUpText('Dies ist ein <hi rend=\"bold\">wichtiger</hi> Text')\n",
      "print(m.text, m.length(), m.words(), m.raw_length(), sep=\"; \")"
     ],
     "language": "python",
     "metadata": {
      "slideshow": {
       "slide_type": "-"
      }
     },
     "outputs": [
      {
       "output_type": "stream",
       "stream": "stdout",
       "text": [
        "Dies ist ein wichtiger Text; 27; ['Dies', 'ist', 'ein', 'wichtiger', 'Text']; 48\n"
       ]
      }
     ],
     "prompt_number": 44
    },
    {
     "cell_type": "markdown",
     "metadata": {
      "slideshow": {
       "slide_type": "slide"
      }
     },
     "source": [
      "### Erweitern existierender Klassen\n",
      "\n",
      "* Modul `collections` enth\u00e4lt eine Klasse `Counter`\n",
      "* `dict`-Subklasse\n",
      "* z\u00e4hlt Eintr\u00e4ge"
     ]
    },
    {
     "cell_type": "code",
     "collapsed": false,
     "input": [
      "from collections import Counter\n",
      "c = Counter([\"dies\", \"ist\", \"ein\", \"Text\", \"der\", \"wichtig\", \"ist\"])\n",
      "c"
     ],
     "language": "python",
     "metadata": {
      "slideshow": {
       "slide_type": "-"
      }
     },
     "outputs": [
      {
       "metadata": {},
       "output_type": "pyout",
       "prompt_number": 45,
       "text": [
        "Counter({'ist': 2, 'dies': 1, 'Text': 1, 'ein': 1, 'der': 1, 'wichtig': 1})"
       ]
      }
     ],
     "prompt_number": 45
    },
    {
     "cell_type": "code",
     "collapsed": false,
     "input": [
      "c.update([\"dies\", \"auch\"])\n",
      "c[\"dies\"]"
     ],
     "language": "python",
     "metadata": {
      "slideshow": {
       "slide_type": "fragment"
      }
     },
     "outputs": [
      {
       "metadata": {},
       "output_type": "pyout",
       "prompt_number": 46,
       "text": [
        "2"
       ]
      }
     ],
     "prompt_number": 46
    },
    {
     "cell_type": "code",
     "collapsed": false,
     "input": [
      "c.most_common()"
     ],
     "language": "python",
     "metadata": {
      "slideshow": {
       "slide_type": "fragment"
      }
     },
     "outputs": [
      {
       "metadata": {},
       "output_type": "pyout",
       "prompt_number": 47,
       "text": [
        "[('dies', 2),\n",
        " ('ist', 2),\n",
        " ('auch', 1),\n",
        " ('Text', 1),\n",
        " ('ein', 1),\n",
        " ('der', 1),\n",
        " ('wichtig', 1)]"
       ]
      }
     ],
     "prompt_number": 47
    },
    {
     "cell_type": "code",
     "collapsed": false,
     "input": [
      "class ItemStat(Counter):\n",
      "    def itemcount(self):\n",
      "        return sum(self.values())\n",
      "    def freq(self, item):\n",
      "        if item in self:\n",
      "            return self[item] / self.itemcount()"
     ],
     "language": "python",
     "metadata": {
      "slideshow": {
       "slide_type": "skip"
      }
     },
     "outputs": [],
     "prompt_number": 48
    },
    {
     "cell_type": "markdown",
     "metadata": {
      "slideshow": {
       "slide_type": "slide"
      }
     },
     "source": [
      "<h3 style=\"color:green;\">Aufgabe</h3>\n",
      "\n",
      "Schreiben Sie eine Subklasse `ItemStat` von `collections.Counter`. F\u00fcgen Sie eine Methode `freq` hinzu, die f\u00fcr einen gegebenen Eintrag die relative Frequenz ausrechnet. Selbsttest:"
     ]
    },
    {
     "cell_type": "code",
     "collapsed": false,
     "input": [
      "stat = ItemStat(\"dies ist ein text der langweilig ist - dies auch\".split())\n",
      "print(stat.freq('ist'))"
     ],
     "language": "python",
     "metadata": {
      "slideshow": {
       "slide_type": "-"
      }
     },
     "outputs": [
      {
       "output_type": "stream",
       "stream": "stdout",
       "text": [
        "0.2\n"
       ]
      }
     ],
     "prompt_number": 50
    },
    {
     "cell_type": "heading",
     "level": 3,
     "metadata": {
      "slideshow": {
       "slide_type": "subslide"
      }
     },
     "source": [
      "L\u00f6sung"
     ]
    },
    {
     "cell_type": "code",
     "collapsed": false,
     "input": [
      "class ItemStat(Counter):\n",
      "    \n",
      "    # Wir m\u00fcssen __init__ hier nicht \u00fcberschreiben \u2013 w\u00fcrde nichts neues liefern\n",
      "    \n",
      "    def itemcount(self):\n",
      "        \"\"\"Gesamtzahl der Eintr\u00e4ge\"\"\"\n",
      "        return sum(self.values())\n",
      "        \n",
      "    def freq(self, item):\n",
      "        \"\"\"Relative H\u00e4ufigkeit von item\"\"\"\n",
      "        if item in self:\n",
      "            return self[item] / self.itemcount()"
     ],
     "language": "python",
     "metadata": {
      "slideshow": {
       "slide_type": "-"
      }
     },
     "outputs": [],
     "prompt_number": 51
    },
    {
     "cell_type": "markdown",
     "metadata": {
      "slideshow": {
       "slide_type": "slide"
      }
     },
     "source": [
      "### [Besondere Attribute und Methoden](https://docs.python.org/3.4/reference/datamodel.html#special-method-names)\n",
      "\n",
      "* `__doc__` = Docstring\n",
      "* `__dict__` = alle Eigenschaften eines Objekts als Dictionary"
     ]
    },
    {
     "cell_type": "code",
     "collapsed": false,
     "input": [
      "t = MarkedUpText(\"Ein Text mit <em>Hervorhebung</em>.\")\n",
      "t.__dict__"
     ],
     "language": "python",
     "metadata": {
      "slideshow": {
       "slide_type": "-"
      }
     },
     "outputs": [
      {
       "metadata": {},
       "output_type": "pyout",
       "prompt_number": 55,
       "text": [
        "{'raw_text': 'Ein Text mit <em>Hervorhebung</em>.',\n",
        " 'text': 'Ein Text mit Hervorhebung.'}"
       ]
      }
     ],
     "prompt_number": 55
    },
    {
     "cell_type": "markdown",
     "metadata": {},
     "source": [
      "* F\u00fcr die Benutzung _innerhalb_ von Objekten gedacht"
     ]
    },
    {
     "cell_type": "markdown",
     "metadata": {
      "slideshow": {
       "slide_type": "slide"
      }
     },
     "source": [
      "#### `__repr__` und `__str__`\n",
      "\n",
      "* `__str__()` liefert die \"sch\u00f6ne\" Repr\u00e4sentation des Objekts, verwendet in `str()`, `print()`\n",
      "* `__repr__()` liefert die \"maschinenlesbare\" Repr\u00e4sentation:\n",
      "\n",
      "     * m\u00f6glichst ein Python-Ausdruck zur Erzeugung\n",
      "     * oder `< n\u00fctzliche Beschreibung >`"
     ]
    },
    {
     "cell_type": "code",
     "collapsed": false,
     "input": [
      "s = \"Hall\u00f6chen\"\n",
      "print(repr(s))\n",
      "print(s)"
     ],
     "language": "python",
     "metadata": {
      "slideshow": {
       "slide_type": "fragment"
      }
     },
     "outputs": [
      {
       "output_type": "stream",
       "stream": "stdout",
       "text": [
        "'Hall\u00f6chen'\n",
        "Hall\u00f6chen\n"
       ]
      }
     ],
     "prompt_number": 64
    },
    {
     "cell_type": "markdown",
     "metadata": {
      "slideshow": {
       "slide_type": "fragment"
      }
     },
     "source": [
      "Mit `eval(\"Ausdruck\")` k\u00f6nnen Sie einen String als Python-Ausdruck auswerten."
     ]
    },
    {
     "cell_type": "code",
     "collapsed": false,
     "input": [
      "print(eval(\"'Hallo ' + 'Welt'\"))"
     ],
     "language": "python",
     "metadata": {
      "slideshow": {
       "slide_type": "fragment"
      }
     },
     "outputs": [
      {
       "output_type": "stream",
       "stream": "stdout",
       "text": [
        "Hallo Welt\n"
       ]
      }
     ],
     "prompt_number": 69
    },
    {
     "cell_type": "markdown",
     "metadata": {
      "slideshow": {
       "slide_type": "subslide"
      }
     },
     "source": [
      "<h3 style=\"color:green;\">Aufgabe</h3>"
     ]
    },
    {
     "cell_type": "markdown",
     "metadata": {
      "slideshow": {
       "slide_type": "-"
      }
     },
     "source": [
      "Erg\u00e4nzen Sie Ihre `MarkedUpText`-Klasse um eine n\u00fctzliche `__repr__`-Methode"
     ]
    },
    {
     "cell_type": "code",
     "collapsed": false,
     "input": [
      "class MarkedUpText(Text):    \n",
      "    def __init__(self, markedup_text):\n",
      "        self.raw_text = markedup_text\n",
      "        plain_text = re.sub('<[^>]+>', '', markedup_text)\n",
      "        super().__init__(plain_text)    \n",
      "    def raw_length(self):\n",
      "        return len(self.raw_text)"
     ],
     "language": "python",
     "metadata": {
      "slideshow": {
       "slide_type": "-"
      }
     },
     "outputs": [],
     "prompt_number": 70
    },
    {
     "cell_type": "code",
     "collapsed": false,
     "input": [
      "class MarkedUpText(Text):\n",
      "    \n",
      "    def __init__(self, markedup_text):\n",
      "        self.raw_text = markedup_text\n",
      "        plain_text = re.sub('<[^>]+>', '', markedup_text)\n",
      "        super().__init__(plain_text)\n",
      "    \n",
      "    def raw_length(self):\n",
      "        return len(self.raw_text)\n",
      "    \n",
      "    def __repr__(self):\n",
      "        return self.__class__.__name__ + \"(\" + repr(self.raw_text) + \")\"\n",
      "    \n",
      "print(repr(MarkedUpText('Text <em>mit</em> Markup')))"
     ],
     "language": "python",
     "metadata": {
      "slideshow": {
       "slide_type": "subslide"
      }
     },
     "outputs": [
      {
       "output_type": "stream",
       "stream": "stdout",
       "text": [
        "MarkedUpText('Text <em>mit</em> Markup')\n"
       ]
      }
     ],
     "prompt_number": 74
    },
    {
     "cell_type": "markdown",
     "metadata": {},
     "source": [
      "### Iterables und Iteratoren"
     ]
    },
    {
     "cell_type": "markdown",
     "metadata": {},
     "source": [
      "* `for`-Schleifen und dergleichen funktionieren nicht nur mit Listen\n",
      "* Oberbegriff __Iterables__\n",
      "* Protokoll:\n",
      "\n",
      "    * Iterable ist ein Objekt, dass die Methode `__iter__()` anbietet\n",
      "    * `__iter__` liefert einen __Iterator__\n",
      "    * ein __Iterator__ ist ein Objekt mit der Methode __next()__\n",
      "    * __next()__ liefet jeweils den n\u00e4chsten Eintrag des Iterables\n",
      "    * am Ende der Liste: `raise StopIteration()`  "
     ]
    },
    {
     "cell_type": "code",
     "collapsed": false,
     "input": [
      "lst = [1, 2, 3]\n",
      "it = iter(lst)    # Kapselt lst.__iter__()\n",
      "print(it)\n",
      "print(next(it), next(it), next(it))  # next(it) kapselt it.__next__()"
     ],
     "language": "python",
     "metadata": {},
     "outputs": [
      {
       "output_type": "stream",
       "stream": "stdout",
       "text": [
        "<list_iterator object at 0x7f2c5c27c208>\n",
        "1 2 3\n"
       ]
      }
     ],
     "prompt_number": 80
    },
    {
     "cell_type": "code",
     "collapsed": false,
     "input": [
      "next(it)"
     ],
     "language": "python",
     "metadata": {},
     "outputs": [
      {
       "ename": "StopIteration",
       "evalue": "",
       "output_type": "pyerr",
       "traceback": [
        "\u001b[0;31m---------------------------------------------------------------------------\u001b[0m\n\u001b[0;31mStopIteration\u001b[0m                             Traceback (most recent call last)",
        "\u001b[0;32m<ipython-input-81-2cdb14c0d4d6>\u001b[0m in \u001b[0;36m<module>\u001b[0;34m()\u001b[0m\n\u001b[0;32m----> 1\u001b[0;31m \u001b[0mnext\u001b[0m\u001b[0;34m(\u001b[0m\u001b[0mit\u001b[0m\u001b[0;34m)\u001b[0m\u001b[0;34m\u001b[0m\u001b[0m\n\u001b[0m",
        "\u001b[0;31mStopIteration\u001b[0m: "
       ]
      }
     ],
     "prompt_number": 81
    },
    {
     "cell_type": "markdown",
     "metadata": {
      "slideshow": {
       "slide_type": "slide"
      }
     },
     "source": [
      "<h3 style=\"color:green;\">Aufgabe</h3>\n",
      "\n",
      "Erg\u00e4nzen Sie `Text` so, dass Sie bei einer Benutzung in einer for-Schleife \u00fcber die W\u00f6rter iterieren."
     ]
    },
    {
     "cell_type": "code",
     "collapsed": false,
     "input": [
      "class Text:\n",
      "    def __init__(self, text):\n",
      "        self.text = text\n",
      "    def length(self):\n",
      "        return len(self.text)\n",
      "    def words(self):\n",
      "        return self.text.split()"
     ],
     "language": "python",
     "metadata": {
      "slideshow": {
       "slide_type": "-"
      }
     },
     "outputs": []
    },
    {
     "cell_type": "code",
     "collapsed": false,
     "input": [
      "class Text:\n",
      "    def __init__(self, text):\n",
      "        self.text = text\n",
      "    def length(self):\n",
      "        return len(self.text)\n",
      "    def words(self):\n",
      "        return self.text.split()\n",
      "    def __iter__(self):\n",
      "        return iter(self.words())\n",
      "    \n",
      "for w in Text(\"Hallo sonnige Welt\"):\n",
      "    print(w)"
     ],
     "language": "python",
     "metadata": {
      "slideshow": {
       "slide_type": "subslide"
      }
     },
     "outputs": [
      {
       "output_type": "stream",
       "stream": "stdout",
       "text": [
        "Hallo\n",
        "sonnige\n",
        "Welt\n"
       ]
      }
     ],
     "prompt_number": 84
    },
    {
     "cell_type": "code",
     "collapsed": false,
     "input": [
      "class Text:\n",
      "    def __init__(self, text):\n",
      "        self.text = text\n",
      "    def length(self):\n",
      "        return len(self.text)\n",
      "    def words(self):\n",
      "        return self.text.split()\n",
      "    def __iter__(self):\n",
      "        class TextIterator:\n",
      "            def __init__(self, text):\n",
      "                self.wordlist = text.words()\n",
      "                self.pos = -1\n",
      "            def __next__(self):\n",
      "                self.pos += 1\n",
      "                if self.pos >= len(self.wordlist):\n",
      "                    raise StopIteration()\n",
      "                else:\n",
      "                    return self.wordlist[self.pos]\n",
      "        return TextIterator(self)\n",
      "                \n",
      "for w in Text(\"Hallo sonnige Welt\"):\n",
      "    print(w)"
     ],
     "language": "python",
     "metadata": {
      "slideshow": {
       "slide_type": "subslide"
      }
     },
     "outputs": [
      {
       "output_type": "stream",
       "stream": "stdout",
       "text": [
        "Hallo\n",
        "sonnige\n",
        "Welt\n"
       ]
      }
     ],
     "prompt_number": 88
    },
    {
     "cell_type": "markdown",
     "metadata": {
      "slideshow": {
       "slide_type": "slide"
      }
     },
     "source": [
      "### Generatoren / Generator-Funktionen\n",
      "\n",
      "* Funktionen / Methoden, die das Schl\u00fcsselwort `yield` enthalten\n",
      "* die Funktion liefert einen _Generator_, ein Iterable"
     ]
    },
    {
     "cell_type": "code",
     "collapsed": false,
     "input": [
      "def my_range(stop):\n",
      "    i = 0\n",
      "    print(\"Gleich geht's los:\")\n",
      "    while i < stop:\n",
      "        print(\"Jetzt kommt\", i)\n",
      "        yield i\n",
      "        i += 1\n",
      "        print(\"Erh\u00f6he auf\", i)\n",
      "        \n",
      "gen = my_range(3)\n",
      "print(\"Die Funktion lieferte einen Generator:\", gen)\n",
      "\n",
      "for number in gen:\n",
      "    print(\"Jetzt ist\", number, \"angekommen\")"
     ],
     "language": "python",
     "metadata": {
      "slideshow": {
       "slide_type": "fragment"
      }
     },
     "outputs": [
      {
       "output_type": "stream",
       "stream": "stdout",
       "text": [
        "Die Funktion lieferte einen Generator: <generator object my_range at 0x7f2c5c28c828>\n",
        "Gleich geht's los:\n",
        "Jetzt kommt 0\n",
        "Jetzt ist 0 angekommen\n",
        "Erh\u00f6he auf 1\n",
        "Jetzt kommt 1\n",
        "Jetzt ist 1 angekommen\n",
        "Erh\u00f6he auf 2\n",
        "Jetzt kommt 2\n",
        "Jetzt ist 2 angekommen\n",
        "Erh\u00f6he auf 3\n"
       ]
      }
     ],
     "prompt_number": 99
    },
    {
     "cell_type": "markdown",
     "metadata": {
      "slideshow": {
       "slide_type": "slide"
      }
     },
     "source": [
      "<h3 style=\"color:green;\">Aufgabe</h3>\n",
      "\n",
      "Schreiben Sie `Text.__iter__()` als Generator-Funktion (mit `yield Eintrag`)."
     ]
    },
    {
     "cell_type": "code",
     "collapsed": false,
     "input": [
      "class Text:\n",
      "    def __init__(self, text):\n",
      "        self.text = text\n",
      "    def length(self):\n",
      "        return len(self.text)\n",
      "    def words(self):\n",
      "        return self.text.split()"
     ],
     "language": "python",
     "metadata": {
      "slideshow": {
       "slide_type": "-"
      }
     },
     "outputs": [],
     "prompt_number": 103
    },
    {
     "cell_type": "code",
     "collapsed": false,
     "input": [
      "class Text:\n",
      "    def __init__(self, text):\n",
      "        self.text = text\n",
      "    def length(self):\n",
      "        return len(self.text)\n",
      "    def words(self):\n",
      "        return self.text.split()\n",
      "    def __iter__(self):\n",
      "        for word in self.words():\n",
      "            yield word        "
     ],
     "language": "python",
     "metadata": {
      "slideshow": {
       "slide_type": "subslide"
      }
     },
     "outputs": [],
     "prompt_number": 104
    },
    {
     "cell_type": "heading",
     "level": 1,
     "metadata": {
      "slideshow": {
       "slide_type": "slide"
      }
     },
     "source": [
      "Externe Module"
     ]
    },
    {
     "cell_type": "markdown",
     "metadata": {
      "slideshow": {
       "slide_type": "-"
      }
     },
     "source": [
      "* Der [Python Package Index](http://pypi.python.org/) ist das zentrale Verzeichnis der meisten Module\n",
      "* z.B. Requests <https://pypi.python.org/pypi/requests/>\n",
      "* Installation mit `pip` (das manchmal auch `pip3` hei\u00dft f\u00fcr Python 3)"
     ]
    },
    {
     "cell_type": "markdown",
     "metadata": {
      "slideshow": {
       "slide_type": "fragment"
      }
     },
     "source": [
      "```bash\n",
      "pip install --help | more\n",
      "pip search <something>\n",
      "pip install <paketname>\n",
      "\n",
      "pip install requests\n",
      "```"
     ]
    },
    {
     "cell_type": "code",
     "collapsed": false,
     "input": [
      "import requests\n",
      "r = requests.get('http://www.textgridrep.de/')"
     ],
     "language": "python",
     "metadata": {
      "slideshow": {
       "slide_type": "subslide"
      }
     },
     "outputs": [],
     "prompt_number": 5
    },
    {
     "cell_type": "code",
     "collapsed": false,
     "input": [
      "r.headers"
     ],
     "language": "python",
     "metadata": {
      "slideshow": {
       "slide_type": "-"
      }
     },
     "outputs": [
      {
       "metadata": {},
       "output_type": "pyout",
       "prompt_number": 6,
       "text": [
        "{'Date': 'Wed, 21 Jan 2015 08:39:48 GMT', 'Content-Encoding': 'gzip', 'Content-Type': 'text/html', 'Last-Modified': 'Fri, 31 Jan 2014 10:34:10 GMT', 'Connection': 'keep-alive', 'Server': 'nginx/1.2.1', 'Transfer-Encoding': 'chunked'}"
       ]
      }
     ],
     "prompt_number": 6
    },
    {
     "cell_type": "markdown",
     "metadata": {
      "slideshow": {
       "slide_type": "subslide"
      }
     },
     "source": [
      "```bash\n",
      "pip freeze > requirements.txt\n",
      "pip -r requirements.txt\n",
      "```"
     ]
    },
    {
     "cell_type": "code",
     "collapsed": false,
     "input": [],
     "language": "python",
     "metadata": {},
     "outputs": []
    }
   ],
   "metadata": {}
  }
 ]
}