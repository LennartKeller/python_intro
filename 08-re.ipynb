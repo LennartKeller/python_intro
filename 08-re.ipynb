{
 "cells": [
  {
   "cell_type": "markdown",
   "metadata": {
    "slideshow": {
     "slide_type": "-"
    }
   },
   "source": [
    "## Programmieren mit Python"
   ]
  },
  {
   "cell_type": "markdown",
   "metadata": {
    "slideshow": {
     "slide_type": "-"
    }
   },
   "source": [
    "# Strings bearbeiten mit regulären Ausdrücken"
   ]
  },
  {
   "cell_type": "markdown",
   "metadata": {
    "slideshow": {
     "slide_type": "slide"
    }
   },
   "source": [
    "### Reguläre Ausdrücke\n",
    "\n",
    "* Minisprache zur Beschreibung von Klassen von Zeichenketten\n",
    "* Typische Anwendungen: Suchen, Ersetzen, Aufteilen, Umstellen von Zeichenketten, Extrahieren von Informationen aus Zeichenketten\n",
    "* Beispiel: Literaturangaben in der Digitalen Bibliothek:\n",
    "\n",
    "> Achim von Arnim: Sämmtliche Werke. Band 16, Berlin 1846\n",
    "\n",
    "* reguläre Ausdrücke werden (mit leichten Abweichungen) von allen modernen Programmiersprachen und von allen halbwegs leistungsfähigen Texteditoren unterstützt"
   ]
  },
  {
   "cell_type": "markdown",
   "metadata": {
    "slideshow": {
     "slide_type": "slide"
    }
   },
   "source": [
    "<h3>Einfache Anfänge</h3>"
   ]
  },
  {
   "cell_type": "code",
   "execution_count": 1,
   "metadata": {
    "slideshow": {
     "slide_type": "-"
    }
   },
   "outputs": [
    {
     "name": "stdout",
     "output_type": "stream",
     "text": [
      "Achim von Arnim: Sämmtliche Werke. Band 16, Berlin 1846\n"
     ]
    }
   ],
   "source": [
    "import re  # Modul für Reguläre Ausdrücke\n",
    "s = 'Achim von Arnim: Sämmtliche Werke. Band 16, Berlin 1846'\n",
    "print(s)"
   ]
  },
  {
   "cell_type": "code",
   "execution_count": 2,
   "metadata": {
    "slideshow": {
     "slide_type": "-"
    }
   },
   "outputs": [
    {
     "name": "stdout",
     "output_type": "stream",
     "text": [
      "['im', 'im']\n"
     ]
    }
   ],
   "source": [
    "print(re.findall(\"im\", s))"
   ]
  },
  {
   "cell_type": "markdown",
   "metadata": {
    "slideshow": {
     "slide_type": "slide"
    }
   },
   "source": [
    "### Begrifflichkeiten\n",
    "\n",
    "* Ein Regulärer Ausdruck heißt auch **Pattern**\n",
    "* ein Pattern **matcht** auf einen String (oder eben auch nicht).\n",
    "* `re.findall(pattern, string)` findet alle Teilstrings von `string`, auf die `pattern` matcht.\n",
    "\n",
    "### Ausprobieren\n",
    "\n",
    "* https://regex101.com/#python"
   ]
  },
  {
   "cell_type": "markdown",
   "metadata": {
    "slideshow": {
     "slide_type": "fragment"
    }
   },
   "source": [
    "### Einfache reguläre Ausdrücke\n",
    "\n",
    "* »normale« Zeichen (= keine Metazeichen) matchen sich selbst. `a` matcht `a`.\n",
    "    * __Metazeichen__ sind `. ^ $ * + ? { } [ ] \\ | ( )`, sie können gematcht werden, indem man einen `\\` voranstellt \n",
    "* Ein Punkt `.` matcht ein beliebiges Zeichen (außer Newline). `.` matcht `a` oder `b` oder …    \n",
    "* Zusammensetzen = Hintereinanderschreiben.\n",
    "    * `abc` matcht \"abc\"\n",
    "    * `H. h. h.` matcht z.B. \"Ha ha ha\" oder \"Ho ho ho\" oder \"He ha hi\""
   ]
  },
  {
   "cell_type": "markdown",
   "metadata": {
    "slideshow": {
     "slide_type": "slide"
    }
   },
   "source": [
    "### Zeichenklassen\n",
    "\n",
    "* `[abc]` matcht ein Zeichen, das `a` oder `b` oder `c` ist.\n",
    "* `[A-Fa-f]` matcht einen der Groß- oder Kleinbuchstaben von A bis F\n",
    "* `^` am Beginn einer Zeichenklasse invertiert die Klasse:\n",
    "   * `[^0-9]` matcht jedes Zeichen, das _keine_ Ziffer von 0-9 ist\n",
    "* In Zeichenklassen gelten Metazeichen nicht: `[.]` matcht ebenso wie `\\.` einen Punkt"
   ]
  },
  {
   "cell_type": "markdown",
   "metadata": {
    "slideshow": {
     "slide_type": "fragment"
    }
   },
   "source": [
    "#### häufige Zeichenklassen\n",
    "\n",
    "-   `.` jedes Zeichen außer neue Zeile (`\\n`)\n",
    "-   `\\d` jede Ziffer, z.B. 1, 4, 0 <br/>\n",
    "    `\\D` jedes Zeichen, das **keine** Ziffer ist.\n",
    "-   `\\s` jedes whitespace-Zeichen, z.B. Leerzeichen, `\\n`, `\\t`\n",
    "    `\\S` jedes Zeichen, das **kein** whitespace ist.<br/>\n",
    "-   `\\w` »Identifier-Zeichen«, also Buchstaben, z.B. A g ö ß 4 é € α И, Ziffern, Unterstrich `_` <br/>\n",
    "    `\\W` jedes Zeichen, das **kein** Identifier-Zeichen ist.\n",
    "\n",
    "Die Definitionen beziehen sich auf die Unicode-Zeicheneigenschaften. Wer Zugriff auf die kompletten Unicode-Properties will, muss das externe Modul _regex_ installieren."
   ]
  },
  {
   "cell_type": "markdown",
   "metadata": {
    "slideshow": {
     "slide_type": "slide"
    }
   },
   "source": [
    "#### Raw Strings\n",
    "* Um ein `\\` zu matchen, benötigen Sie die RE `\\\\`, in einem Python-String `\"\\\\\\\\\"` ...\n",
    "* in einem _raw string_ hat ``\\`` keine Sonderbedeutung\n",
    "* Syntax `r\"…\"` bzw. `r'…'`"
   ]
  },
  {
   "cell_type": "code",
   "execution_count": 3,
   "metadata": {
    "slideshow": {
     "slide_type": "-"
    }
   },
   "outputs": [
    {
     "name": "stdout",
     "output_type": "stream",
     "text": [
      "C:\\Windows Bla\n",
      "Blubb Bla\\nBlubb\n"
     ]
    }
   ],
   "source": [
    "print(r\"C:\\Windows\", \"Bla\\nBlubb\", r\"Bla\\nBlubb\",)"
   ]
  },
  {
   "cell_type": "markdown",
   "metadata": {
    "slideshow": {
     "slide_type": "slide"
    }
   },
   "source": [
    "### Wiederholungen\n",
    "* `*` matcht auf **0 oder mehr** Wiederholungen des vorherigen Zeichens/Teilausdrucks\n",
    "* `+` matcht auf **1 oder mehr** Wiederholungen des vorherigen Zeichens/Teilausdrucks\n",
    "* `?` matcht auf **0 oder 1** Wiederholungen des vorherigen Zeichens/Teilausdrucks\n",
    "* `{n,m}` matcht auf **n bis m** Wiederholungen des vorherigen Zeichens/Teilausdrucks \n",
    "    \n",
    "    * `{n}` exakt n Wiederholungen, `{n,}` mindestens n, `{,m}` höchstens m"
   ]
  },
  {
   "cell_type": "code",
   "execution_count": 4,
   "metadata": {
    "slideshow": {
     "slide_type": "fragment"
    }
   },
   "outputs": [
    {
     "name": "stdout",
     "output_type": "stream",
     "text": [
      "* ['Ha', 'Ha', 'Ha', 'Haa', 'Hai', 'Hi', 'H']\n",
      "+ ['Ha', 'Ha', 'Ha', 'Haa', 'Hai', 'Hi']\n",
      "? ['Ha', 'Ha', 'Ha', 'Ha', 'Ha', 'Hi', 'H']\n",
      "{2,3} ['Haa', 'Hai']\n"
     ]
    }
   ],
   "source": [
    "s = \"Ha HaHa Haahaa Hai Hi Ho\"\n",
    "print(\"*\", re.findall(\"H[ai]*\", s))\n",
    "print(\"+\", re.findall(\"H[ai]+\", s))\n",
    "print(\"?\", re.findall(\"H[ai]?\", s))\n",
    "print(\"{2,3}\", re.findall(\"H[ai]{2,3}\", s))"
   ]
  },
  {
   "cell_type": "markdown",
   "metadata": {
    "slideshow": {
     "slide_type": "fragment"
    }
   },
   "source": [
    "### Aufgaben\n",
    "\n",
    "`s = 'Achim von Arnim: Sämmtliche Werke. Band 16, Berlin 1846'`\n",
    "\n",
    "1. Finden Sie alle (arabischen) Zahlen.\n",
    "2. Finden Sie alle Zahlen, die mehr als 3 Ziffern haben"
   ]
  },
  {
   "cell_type": "markdown",
   "metadata": {
    "slideshow": {
     "slide_type": "subslide"
    }
   },
   "source": [
    "<h3>Musterlösung</h3>"
   ]
  },
  {
   "cell_type": "code",
   "execution_count": 5,
   "metadata": {
    "slideshow": {
     "slide_type": "-"
    }
   },
   "outputs": [],
   "source": [
    "s = 'Achim von Arnim: Sämmtliche Werke. Band 16, Berlin 1846'"
   ]
  },
  {
   "cell_type": "markdown",
   "metadata": {
    "slideshow": {
     "slide_type": "-"
    }
   },
   "source": [
    "(1) Finden Sie alle (arabischen) Zahlen."
   ]
  },
  {
   "cell_type": "code",
   "execution_count": 6,
   "metadata": {},
   "outputs": [
    {
     "data": {
      "text/plain": [
       "['16', '1846']"
      ]
     },
     "execution_count": 6,
     "metadata": {},
     "output_type": "execute_result"
    }
   ],
   "source": [
    "re.findall(r'\\d+', s)"
   ]
  },
  {
   "cell_type": "markdown",
   "metadata": {
    "slideshow": {
     "slide_type": "fragment"
    }
   },
   "source": [
    "(2) Suchen Sie Zahlen, die mehr als 3 Ziffern haben"
   ]
  },
  {
   "cell_type": "code",
   "execution_count": 7,
   "metadata": {},
   "outputs": [
    {
     "data": {
      "text/plain": [
       "['1846']"
      ]
     },
     "execution_count": 7,
     "metadata": {},
     "output_type": "execute_result"
    }
   ],
   "source": [
    "re.findall(r'\\d{3,}', s)"
   ]
  },
  {
   "cell_type": "markdown",
   "metadata": {
    "slideshow": {
     "slide_type": "slide"
    }
   },
   "source": [
    "### Positionen / Anker\n",
    "… matchen nicht _auf_, sondern _vor/nach/zwischen_ Zeichen\n",
    "\n",
    "* `^` matcht den Anfang eines Strings\n",
    "* `$` matcht das Ende eines Strings\n",
    "* `\\b` matcht eine _Word Boundary_, d.h. den leeren String, aber nur am Anfang oder Ende eines Worts\n",
    "* `\\B` matcht den leeren String, aber nur im Inneren eines Worts\n"
   ]
  },
  {
   "cell_type": "code",
   "execution_count": 8,
   "metadata": {
    "slideshow": {
     "slide_type": "fragment"
    }
   },
   "outputs": [
    {
     "data": {
      "text/plain": [
       "['hallo']"
      ]
     },
     "execution_count": 8,
     "metadata": {},
     "output_type": "execute_result"
    }
   ],
   "source": [
    "s = \"hallo welt! wie geht es dir?\"\n",
    "re.findall(r\"^\\w+\", s)"
   ]
  },
  {
   "cell_type": "code",
   "execution_count": 9,
   "metadata": {
    "slideshow": {
     "slide_type": "fragment"
    }
   },
   "outputs": [
    {
     "data": {
      "text/plain": [
       "['foo', 'foo']"
      ]
     },
     "execution_count": 9,
     "metadata": {},
     "output_type": "execute_result"
    }
   ],
   "source": [
    "re.findall(r\"\\bfoo\\b\", \"foo. (foo) foobar\")"
   ]
  },
  {
   "cell_type": "markdown",
   "metadata": {
    "slideshow": {
     "slide_type": "subslide"
    }
   },
   "source": [
    "### Übung\n",
    "\n",
    "`s = 'Achim von Arnim: Sämmtliche Werke. Band 16, Berlin 1846'`\n",
    "\n",
    "Finden Sie Zahlen am Ende des Strings."
   ]
  },
  {
   "cell_type": "markdown",
   "metadata": {
    "slideshow": {
     "slide_type": "slide"
    }
   },
   "source": [
    "### Reguläre Ausdrücke in Python anwenden\n",
    "\n",
    "* Modul `re`\n",
    "* Leistungsfähigeres Modul `regex`, muss ggf. nachinstalliert werden: `pip install regex` an der Kommandozeile\n",
    "   * Unterstützt z.B. Unicode-Zeichenklassen: `\\p{L}` = Buchstaben in allen Schriftsystemen"
   ]
  },
  {
   "cell_type": "code",
   "execution_count": 10,
   "metadata": {
    "slideshow": {
     "slide_type": "fragment"
    }
   },
   "outputs": [
    {
     "name": "stdout",
     "output_type": "stream",
     "text": [
      "['Achim', 'von', 'Arnim', 'Sämmtliche', 'Werke', 'Band', '16', 'Berlin', '1846']\n"
     ]
    }
   ],
   "source": [
    "import re\n",
    "text = 'Achim von Arnim: Sämmtliche Werke. Band 16, Berlin 1846'\n",
    "\n",
    "# Alle Treffer:\n",
    "print(re.findall('\\w+', text))"
   ]
  },
  {
   "cell_type": "code",
   "execution_count": 11,
   "metadata": {
    "slideshow": {
     "slide_type": "fragment"
    }
   },
   "outputs": [
    {
     "name": "stdout",
     "output_type": "stream",
     "text": [
      "hallo welt! wie geht es dir?\n"
     ]
    }
   ],
   "source": [
    "# Ersetzen:\n",
    "\n",
    "print(re.sub('\\d+', 'XXX', s))"
   ]
  },
  {
   "cell_type": "code",
   "execution_count": 12,
   "metadata": {
    "slideshow": {
     "slide_type": "subslide"
    }
   },
   "outputs": [
    {
     "name": "stdout",
     "output_type": "stream",
     "text": [
      "<re.Match object; span=(0, 5), match='hallo'>\n",
      "None\n"
     ]
    }
   ],
   "source": [
    "# Treffer ab Anfang, mehr Info:\n",
    "print(re.match(r'\\w+', s))\n",
    "print(re.match(r'\\d+', s))"
   ]
  },
  {
   "cell_type": "code",
   "execution_count": 13,
   "metadata": {
    "slideshow": {
     "slide_type": "fragment"
    }
   },
   "outputs": [
    {
     "name": "stdout",
     "output_type": "stream",
     "text": [
      "None\n"
     ]
    }
   ],
   "source": [
    "# Treffer irgendwo, mehr Info:\n",
    "print(re.search(r'\\d+', s))"
   ]
  },
  {
   "cell_type": "code",
   "execution_count": 14,
   "metadata": {
    "slideshow": {
     "slide_type": "fragment"
    }
   },
   "outputs": [],
   "source": [
    "# Alle Treffer, mehr Info:\n",
    "for match in re.finditer(r'\\d+', s):\n",
    "    print(match)"
   ]
  },
  {
   "cell_type": "markdown",
   "metadata": {
    "slideshow": {
     "slide_type": "slide"
    }
   },
   "source": [
    "### Gruppierungen\n",
    "\n",
    "* Runde Klammern um einen Teilausdruck bilden eine **Gruppe**.\n",
    "* Quantoren gelten für die ganze Gruppe → `(bla)+` matcht `blablabla`\n",
    "* Gruppen können separat referenziert werden\n",
    "* findall mit Gruppen liefert Liste mit Tupeln"
   ]
  },
  {
   "cell_type": "code",
   "execution_count": 15,
   "metadata": {
    "slideshow": {
     "slide_type": "fragment"
    }
   },
   "outputs": [
    {
     "data": {
      "text/plain": [
       "('Frau Mustermann',)"
      ]
     },
     "execution_count": 15,
     "metadata": {},
     "output_type": "execute_result"
    }
   ],
   "source": [
    "s = \"Sehr geehrte Frau Mustermann,\"\n",
    "m = re.match(\"Sehr geehrter? (.*),\", s)\n",
    "m.groups()"
   ]
  },
  {
   "cell_type": "markdown",
   "metadata": {
    "slideshow": {
     "slide_type": "fragment"
    }
   },
   "source": [
    "N.B.:\n",
    "* `('Frau Mustermann',)` ist ein __Tupel__. \n",
    "* Tupel (Datentyp `tuple`) sind Listen ähnlich, aber unveränderlich\n",
    "* Das Literal verwendet runde Klammern statt eckiger, mindestens ein Komma muss vorhanden sein"
   ]
  },
  {
   "cell_type": "markdown",
   "metadata": {
    "slideshow": {
     "slide_type": "subslide"
    }
   },
   "source": [
    "Gruppen können mit `\\1`, `\\2`, ... auch innerhalb des Ausdrucks oder in einem Ersetzungsstring bei `re.sub` referenziert werden:\n"
   ]
  },
  {
   "cell_type": "code",
   "execution_count": 16,
   "metadata": {
    "slideshow": {
     "slide_type": "fragment"
    }
   },
   "outputs": [
    {
     "name": "stdout",
     "output_type": "stream",
     "text": [
      "n += 1; test += n; n = test + 1\n"
     ]
    }
   ],
   "source": [
    "expr = \"n = n + 1; test = test + n; n = test + 1\"\n",
    "simplified = re.sub(r\"(\\w+) = \\1 \\+ (\\w+)\",   # diese RE bildet zwei Gruppen, die in der RE (\\1) …\n",
    "                    r\"\\1 += \\2\",              # und im 'ersetzen'-String (\\1, \\2) referenziert werden\n",
    "                    expr)\n",
    "print(simplified)"
   ]
  },
  {
   "cell_type": "markdown",
   "metadata": {
    "slideshow": {
     "slide_type": "subslide"
    }
   },
   "source": [
    "### Aufgabe\n",
    "\n",
    "Datumsangaben erfolgen in der IT-Welt oft normalisiert nach ISO 8601 in der Form JJJJ-MM-TT. Schreiben Sie ein kleines Skript, das die Datumsangaben hier umformt:\n",
    "\n",
    "* `31.01.1900`\n",
    "* `07.10.2016`"
   ]
  },
  {
   "cell_type": "markdown",
   "metadata": {
    "slideshow": {
     "slide_type": "subslide"
    }
   },
   "source": [
    "### findall mit Gruppen\n",
    "\n",
    "Stehen in dem Pattern von `re.findall` Gruppen, so ist das Ergebnis eine Liste von Tupeln der Gruppen:"
   ]
  },
  {
   "cell_type": "code",
   "execution_count": 17,
   "metadata": {
    "slideshow": {
     "slide_type": "-"
    }
   },
   "outputs": [
    {
     "name": "stdout",
     "output_type": "stream",
     "text": [
      "Name:  Maria Musterfrau \tAdresse:  musterfrau@example.com\n",
      "Name:  Arndt Alliteration \tAdresse:  ali@dichtkunst.de\n"
     ]
    }
   ],
   "source": [
    "text = 'Von \"Maria Musterfrau\" <musterfrau@example.com> an \"Arndt Alliteration\" <ali@dichtkunst.de>'\n",
    "addresses = re.findall(r'\"([^\"]+)\"\\s*<([^>]+)>', text)\n",
    "\n",
    "for person in addresses:\n",
    "    print(\"Name: \", person[0], \"\\tAdresse: \", person[1])"
   ]
  },
  {
   "cell_type": "markdown",
   "metadata": {
    "slideshow": {
     "slide_type": "slide"
    }
   },
   "source": [
    "<h3>Greedy vs. Non-Greedy</h3>\n",
    "<p>Voreinstellung: greedy, d.h. das die größtmögliche Zeichenkette gesucht wird, die zum regulären Ausdruck passt.</p>\n",
    "<p>Durch ? nach dem Quantifier Umstellung auf non-greedy</p>\n",
    "\n",
    "Welches Ergebnis hat `re.findall(\"b.*t\", \"She booted the robot.\")`?"
   ]
  },
  {
   "cell_type": "code",
   "execution_count": 18,
   "metadata": {
    "slideshow": {
     "slide_type": "fragment"
    }
   },
   "outputs": [
    {
     "data": {
      "text/plain": [
       "['booted the robot']"
      ]
     },
     "execution_count": 18,
     "metadata": {},
     "output_type": "execute_result"
    }
   ],
   "source": [
    "re.findall(\"b.*t\", \"She booted the robot.\")"
   ]
  },
  {
   "cell_type": "code",
   "execution_count": 19,
   "metadata": {
    "slideshow": {
     "slide_type": "fragment"
    }
   },
   "outputs": [
    {
     "data": {
      "text/plain": [
       "['boot', 'bot']"
      ]
     },
     "execution_count": 19,
     "metadata": {},
     "output_type": "execute_result"
    }
   ],
   "source": [
    "re.findall(\"b.*?t\", \"She booted the robot.\")"
   ]
  },
  {
   "cell_type": "markdown",
   "metadata": {
    "slideshow": {
     "slide_type": "slide"
    }
   },
   "source": [
    "### Oder\n",
    "\n",
    "Mit `|` können Sie nach Alternativen suchen:"
   ]
  },
  {
   "cell_type": "code",
   "execution_count": 20,
   "metadata": {
    "slideshow": {
     "slide_type": "fragment"
    }
   },
   "outputs": [
    {
     "name": "stdout",
     "output_type": "stream",
     "text": [
      "Todesursache: Haibiss\n",
      "Todesursache: Piranhas\n",
      "Todesursache: Krokodile\n"
     ]
    }
   ],
   "source": [
    "for match in re.finditer(r\"(Hai|Krokodil|Piranha)\\w*\", \"Bond sollte schon durch Haibiss, Piranhas und Krokodile sterben.\"):\n",
    "    print(\"Todesursache:\", match.group(0))"
   ]
  },
  {
   "cell_type": "markdown",
   "metadata": {
    "slideshow": {
     "slide_type": "slide"
    }
   },
   "source": [
    "### Reguläre Ausdrücke anwenden (2)\n",
    "![Übersicht über das re-Modul](img/re-uebersicht.svg)"
   ]
  },
  {
   "cell_type": "markdown",
   "metadata": {
    "slideshow": {
     "slide_type": "notes"
    }
   },
   "source": [
    "* `re.compile` kompiliert einen regulären Ausdruck zu einem Objekt. Wenn Sie einen regulären Ausdruck oft benötigen (z.B. in einer Schleife), verwenden Sie diese Funktion (außerhalb der Schleife) und arbeiten mit dem Objekt, das sie zurückgibt: das ist schneller.\n",
    "* _Match-Objekte_ beschreiben einen Treffer in einem String genauer: Sie liefern z.B. Zugriff auf die einzelnen Gruppen und auf die genaue Stelle im Suchstring, an der der Ausdruck gematcht hat.\n",
    "* Die Funktionen/Methoden `match` und `search` liefern jeweils ein Match-Objekt: `match` matcht nur am _Beginn_ des Suchstrings, `search` findet den ersten Treffer (ggf. ab einem bestimmten Offset, lesen Sie dazu die Dokumentation zu den Funktionen). `finditer` liefert einen Iterator über alle Treffer, jeder Treffer wird als Matchobjekt zurückgegeben. Sie können darüber in einer `for`-Schleife iterieren:"
   ]
  },
  {
   "cell_type": "code",
   "execution_count": 21,
   "metadata": {
    "slideshow": {
     "slide_type": "notes"
    }
   },
   "outputs": [
    {
     "name": "stdout",
     "output_type": "stream",
     "text": [
      "An Position 22 steht die Zahl 3.\n",
      "An Position 39 steht die Zahl 55.\n",
      "An Position 42 steht die Zahl 60.\n"
     ]
    }
   ],
   "source": [
    "for match in re.finditer(\"\\d+\", \"Lesen Sie die Kapitel 3 und die Seiten 55-60\"):\n",
    "    print(\"An Position {} steht die Zahl {}.\".format(match.start(), match.group(0)))"
   ]
  },
  {
   "cell_type": "markdown",
   "metadata": {
    "slideshow": {
     "slide_type": "notes"
    }
   },
   "source": [
    "* `split` spaltet einen String an einem gegebenen regulären Ausdruck auf, liefert also quasi das Komplement zu `findall`:"
   ]
  },
  {
   "cell_type": "code",
   "execution_count": 22,
   "metadata": {
    "slideshow": {
     "slide_type": "notes"
    }
   },
   "outputs": [
    {
     "data": {
      "text/plain": [
       "['Hier', 'Nimm ein paar Sätze', 'Zerlegst du sie mir', '']"
      ]
     },
     "execution_count": 22,
     "metadata": {},
     "output_type": "execute_result"
    }
   ],
   "source": [
    "re.split(r'[,.;:!?]+\\s*', 'Hier: Nimm ein paar Sätze! Zerlegst du sie mir?')"
   ]
  },
  {
   "cell_type": "markdown",
   "metadata": {
    "slideshow": {
     "slide_type": "notes"
    }
   },
   "source": [
    "* mit `escape` können Sie alle potentiellen Metazeichen in einem String escapen:"
   ]
  },
  {
   "cell_type": "code",
   "execution_count": 23,
   "metadata": {
    "slideshow": {
     "slide_type": "notes"
    }
   },
   "outputs": [
    {
     "name": "stdout",
     "output_type": "stream",
     "text": [
      "Sonne\\ O\\)\\)\\),\\ Mond\\ \\[und\\]\\ Sterne\\*\\*\\*\n"
     ]
    }
   ],
   "source": [
    "print(re.escape(\"Sonne O))), Mond [und] Sterne***\"))"
   ]
  }
 ],
 "metadata": {
  "celltoolbar": "Slideshow",
  "kernelspec": {
   "display_name": "Python 3",
   "language": "python",
   "name": "python3"
  },
  "language_info": {
   "codemirror_mode": {
    "name": "ipython",
    "version": 3
   },
   "file_extension": ".py",
   "mimetype": "text/x-python",
   "name": "python",
   "nbconvert_exporter": "python",
   "pygments_lexer": "ipython3",
   "version": "3.7.5"
  },
  "nav_menu": {},
  "toc": {
   "navigate_menu": true,
   "number_sections": false,
   "sideBar": true,
   "threshold": 6,
   "toc_cell": false,
   "toc_section_display": "block",
   "toc_window_display": false
  }
 },
 "nbformat": 4,
 "nbformat_minor": 1
}
