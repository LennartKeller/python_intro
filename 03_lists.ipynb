{
 "cells": [
  {
   "cell_type": "markdown",
   "metadata": {
    "deletable": true,
    "editable": true,
    "slideshow": {
     "slide_type": "-"
    }
   },
   "source": [
    "## Einführung in das Programmieren mit Python\n",
    "\n",
    "# Datenstrukturen I: Listen"
   ]
  },
  {
   "cell_type": "markdown",
   "metadata": {
    "deletable": true,
    "editable": true,
    "slideshow": {
     "slide_type": "slide"
    }
   },
   "source": [
    "### Wiederholung"
   ]
  },
  {
   "cell_type": "markdown",
   "metadata": {
    "deletable": true,
    "editable": true,
    "slideshow": {
     "slide_type": "fragment"
    }
   },
   "source": [
    "* **Ausdruck** := syntaktisches Konstrukt, das in einem Kontext ausgewertet werden kann (also → Wert)\n",
    "\n",
    "* [Ausdrücke](https://docs.python.org/3/reference/expressions.html) sind rekursiv definiert, alles folgende sind Ausdrücke:\n",
    "\n",
    "    * ` 2`\n",
    "    * ` 3 * 4`\n",
    "    * ` 3 * 4 + 1`\n",
    "    * `(3 * 4 + 1) * len(\"Python\")`\n",
    "    * `(3 * 4 + 1) * len(\"Python\") < 5`"
   ]
  },
  {
   "cell_type": "markdown",
   "metadata": {
    "deletable": true,
    "editable": true,
    "slideshow": {
     "slide_type": "fragment"
    }
   },
   "source": [
    "-   **Variablenzuweisung** mit = :<br/>\n",
    "     _identifier_ = _expression_<br/>\n",
    "     _Bezeichner_ = _Ausdruck_<br/>\n",
    "     Bsp.: ``word = \"Haus\" + \"bau\"``   \n",
    "     \n",
    "-   **Literale** vs. **Variablen** <br/>\n",
    "    ``print(\"word\")`` vs. ``print(word)``"
   ]
  },
  {
   "cell_type": "markdown",
   "metadata": {
    "deletable": true,
    "editable": true,
    "slideshow": {
     "slide_type": "subslide"
    }
   },
   "source": [
    "### Wiederholung (2)"
   ]
  },
  {
   "cell_type": "markdown",
   "metadata": {
    "deletable": true,
    "editable": true,
    "slideshow": {
     "slide_type": "fragment"
    }
   },
   "source": [
    "-   **Datentypen**: <br/>\n",
    "     Integer, Float, Strings, Boolean"
   ]
  },
  {
   "cell_type": "markdown",
   "metadata": {
    "deletable": true,
    "editable": true,
    "slideshow": {
     "slide_type": "fragment"
    }
   },
   "source": [
    "-   **Operatoren**:<br/>\n",
    "    ``+ - * / // % **            # Funktion der Operatoren abhängig vom Datentyp!``\n",
    "\n",
    "-   **Eingabe**<br/>\n",
    "    ``wert = input(prompt)``\n",
    "\n",
    "-   Aufruf von **Funktionen**<br/>\n",
    "     Funktion: `funktion(parameter [, …])` z.B. `print`, `len`<br/> "
   ]
  },
  {
   "cell_type": "markdown",
   "metadata": {
    "deletable": true,
    "editable": true,
    "slideshow": {
     "slide_type": "slide"
    }
   },
   "source": [
    "## Datenstruktur: Liste\n",
    "\n",
    "<img src=\"files/images/liste1.png\" width=\"50%\" height=\"50%\" border=\"0\" alt=\"\">    "
   ]
  },
  {
   "cell_type": "markdown",
   "metadata": {
    "deletable": true,
    "editable": true,
    "slideshow": {
     "slide_type": "subslide"
    }
   },
   "source": [
    "<h3>Listen – ein Beispiel<h3>\n",
    "<img src=\"files/images/liste2.png\" width=\"50%\" height=\"50%\" border=\"0\" alt=\"\">    "
   ]
  },
  {
   "cell_type": "code",
   "execution_count": 1,
   "metadata": {
    "collapsed": false,
    "deletable": true,
    "editable": true,
    "slideshow": {
     "slide_type": "fragment"
    }
   },
   "outputs": [
    {
     "data": {
      "text/plain": [
       "'Freud'"
      ]
     },
     "execution_count": 1,
     "metadata": {},
     "output_type": "execute_result"
    }
   ],
   "source": [
    "thinkers = ['Marx', 'Freud', 'Popper', 'Foucault']   # Listen-Literal\n",
    "thinkers[1]                                          # [1] hier: Subskriptionsoperator"
   ]
  },
  {
   "cell_type": "markdown",
   "metadata": {
    "deletable": true,
    "editable": true,
    "slideshow": {
     "slide_type": "subslide"
    }
   },
   "source": [
    "<h3>Slicing – Listenausschnitte</h3>\n",
    "<p>Achtung: beim Slicen: erster Index ist eingeschlossen, letzter ausgeschlossen. thinkers[1:3] bedeutet also: der Inhalt von thinkers[1] und thinkers[2] aber nicht mehr von [3]\n",
    "\n",
    "<img src=\"files/images/liste2.png\" width=\"50%\" height=\"50%\" border=\"0\" alt=\"\">    "
   ]
  },
  {
   "cell_type": "code",
   "execution_count": 2,
   "metadata": {
    "collapsed": false,
    "deletable": true,
    "editable": true,
    "slideshow": {
     "slide_type": "fragment"
    }
   },
   "outputs": [
    {
     "data": {
      "text/plain": [
       "['Freud', 'Popper']"
      ]
     },
     "execution_count": 2,
     "metadata": {},
     "output_type": "execute_result"
    }
   ],
   "source": [
    "thinkers[1:3]      # slicing "
   ]
  },
  {
   "cell_type": "code",
   "execution_count": 3,
   "metadata": {
    "collapsed": false,
    "deletable": true,
    "editable": true,
    "slideshow": {
     "slide_type": "fragment"
    }
   },
   "outputs": [
    {
     "data": {
      "text/plain": [
       "['Marx', 'Freud']"
      ]
     },
     "execution_count": 3,
     "metadata": {},
     "output_type": "execute_result"
    }
   ],
   "source": [
    "thinkers[:2]"
   ]
  },
  {
   "cell_type": "code",
   "execution_count": 4,
   "metadata": {
    "collapsed": false,
    "deletable": true,
    "editable": true,
    "slideshow": {
     "slide_type": "fragment"
    }
   },
   "outputs": [
    {
     "data": {
      "text/plain": [
       "['Popper', 'Foucault']"
      ]
     },
     "execution_count": 4,
     "metadata": {},
     "output_type": "execute_result"
    }
   ],
   "source": [
    "thinkers[2:]"
   ]
  },
  {
   "cell_type": "code",
   "execution_count": 5,
   "metadata": {
    "collapsed": false,
    "deletable": true,
    "editable": true,
    "slideshow": {
     "slide_type": "fragment"
    }
   },
   "outputs": [
    {
     "data": {
      "text/plain": [
       "['Marx', 'Freud', 'Popper']"
      ]
     },
     "execution_count": 5,
     "metadata": {},
     "output_type": "execute_result"
    }
   ],
   "source": [
    "thinkers[:-1]                    # negative Indizes zählen von hinten"
   ]
  },
  {
   "cell_type": "markdown",
   "metadata": {
    "deletable": true,
    "editable": true,
    "slideshow": {
     "slide_type": "subslide"
    }
   },
   "source": [
    "<h3>Variablen, Liste sortieren</h3>\n",
    "<img src=\"files/images/liste2.png\" width=\"30%\" height=\"30%\" border=\"0\" alt=\"\">    "
   ]
  },
  {
   "cell_type": "code",
   "execution_count": 6,
   "metadata": {
    "collapsed": false,
    "deletable": true,
    "editable": true,
    "slideshow": {
     "slide_type": "fragment"
    }
   },
   "outputs": [
    {
     "data": {
      "text/plain": [
       "['Freud', 'Popper']"
      ]
     },
     "execution_count": 6,
     "metadata": {},
     "output_type": "execute_result"
    }
   ],
   "source": [
    "start = 1                           # slicing mit Variablen\n",
    "thinkers[start:3]"
   ]
  },
  {
   "cell_type": "code",
   "execution_count": 7,
   "metadata": {
    "collapsed": false,
    "deletable": true,
    "editable": true,
    "slideshow": {
     "slide_type": "fragment"
    }
   },
   "outputs": [
    {
     "data": {
      "text/plain": [
       "['Foucault', 'Freud', 'Marx', 'Popper']"
      ]
     },
     "execution_count": 7,
     "metadata": {},
     "output_type": "execute_result"
    }
   ],
   "source": [
    "sorted(thinkers)             # gibt die sortierte Liste zurück"
   ]
  },
  {
   "cell_type": "code",
   "execution_count": 8,
   "metadata": {
    "collapsed": false,
    "deletable": true,
    "editable": true,
    "slideshow": {
     "slide_type": "fragment"
    }
   },
   "outputs": [
    {
     "data": {
      "text/plain": [
       "['Marx', 'Freud', 'Popper', 'Foucault']"
      ]
     },
     "execution_count": 8,
     "metadata": {},
     "output_type": "execute_result"
    }
   ],
   "source": [
    "thinkers                    # hier: Liste selbst ist nicht verändert worden"
   ]
  },
  {
   "cell_type": "markdown",
   "metadata": {
    "deletable": true,
    "editable": true,
    "slideshow": {
     "slide_type": "slide"
    }
   },
   "source": [
    "### Übung\n",
    "\n",
    "1. Legen Sie eine Liste mit vier Romantiteln Ihrer Wahl an\n",
    "2. Geben Sie die Liste aus\n",
    "3. Geben Sie das erste Element der Liste aus\n",
    "4. Geben Sie das letzte Element der Liste aus\n",
    "4. Geben Sie die letzten beiden Elemente der Liste aus\n",
    "5. Geben Sie den Roman mit dem alphabetisch ersten Titel aus"
   ]
  },
  {
   "cell_type": "code",
   "execution_count": 9,
   "metadata": {
    "collapsed": false,
    "deletable": true,
    "editable": true,
    "slideshow": {
     "slide_type": "subslide"
    }
   },
   "outputs": [
    {
     "name": "stdout",
     "output_type": "stream",
     "text": [
      "['Wahlverwandschaften', 'Effi Briest', 'Buddenbrooks', 'Der Prozeß']\n"
     ]
    }
   ],
   "source": [
    "# 1. Liste anlegen\n",
    "romane = ['Wahlverwandschaften', 'Effi Briest', 'Buddenbrooks', 'Der Prozeß']\n",
    "# 2. ausgeben\n",
    "print(romane)"
   ]
  },
  {
   "cell_type": "code",
   "execution_count": 10,
   "metadata": {
    "collapsed": false,
    "deletable": true,
    "editable": true,
    "slideshow": {
     "slide_type": "fragment"
    }
   },
   "outputs": [
    {
     "name": "stdout",
     "output_type": "stream",
     "text": [
      "Wahlverwandschaften\n",
      "Der Prozeß\n"
     ]
    }
   ],
   "source": [
    "# 3. erstes Element, 4. letztes element\n",
    "print(romane[0])\n",
    "print(romane[-1])"
   ]
  },
  {
   "cell_type": "code",
   "execution_count": 11,
   "metadata": {
    "collapsed": false,
    "deletable": true,
    "editable": true,
    "slideshow": {
     "slide_type": "fragment"
    }
   },
   "outputs": [
    {
     "name": "stdout",
     "output_type": "stream",
     "text": [
      "['Buddenbrooks', 'Der Prozeß']\n"
     ]
    }
   ],
   "source": [
    "# 5. letzte zwei\n",
    "print(romane[-2:])"
   ]
  },
  {
   "cell_type": "code",
   "execution_count": 12,
   "metadata": {
    "collapsed": false,
    "deletable": true,
    "editable": true,
    "slideshow": {
     "slide_type": "fragment"
    }
   },
   "outputs": [
    {
     "name": "stdout",
     "output_type": "stream",
     "text": [
      "Buddenbrooks\n"
     ]
    }
   ],
   "source": [
    "# 6. alphabetisch erstes\n",
    "print(sorted(romane)[0])"
   ]
  },
  {
   "cell_type": "markdown",
   "metadata": {
    "deletable": true,
    "editable": true,
    "slideshow": {
     "slide_type": "subslide"
    }
   },
   "source": [
    "<h3>Listen – Operationen</h3>\n",
    "<img src=\"files/images/liste2.png\" width=\"30%\" height=\"30%\" border=\"0\" alt=\"\">    "
   ]
  },
  {
   "cell_type": "code",
   "execution_count": 13,
   "metadata": {
    "collapsed": false,
    "deletable": true,
    "editable": true,
    "slideshow": {
     "slide_type": "fragment"
    }
   },
   "outputs": [
    {
     "data": {
      "text/plain": [
       "4"
      ]
     },
     "execution_count": 13,
     "metadata": {},
     "output_type": "execute_result"
    }
   ],
   "source": [
    "thinkers = ['Marx','Freud', 'Popper','Foucault']\n",
    "len(thinkers)                                  # gibt Länge der Liste aus"
   ]
  },
  {
   "cell_type": "code",
   "execution_count": 14,
   "metadata": {
    "collapsed": false,
    "deletable": true,
    "editable": true,
    "slideshow": {
     "slide_type": "fragment"
    }
   },
   "outputs": [
    {
     "data": {
      "text/plain": [
       "['Marx', 'Turing', 'Popper', 'Foucault', 'Luhmann']"
      ]
     },
     "execution_count": 14,
     "metadata": {},
     "output_type": "execute_result"
    }
   ],
   "source": [
    "thinkers = ['Marx','Freud', 'Popper','Foucault']\n",
    "thinkers[1] = \"Turing\"          # weist Listenplatz [1] einen neuen Wert zu\n",
    "thinkers.append('Luhmann')      # hängt einen neuen Eintrag an   \n",
    "thinkers"
   ]
  },
  {
   "cell_type": "code",
   "execution_count": 15,
   "metadata": {
    "collapsed": false,
    "deletable": true,
    "editable": true,
    "slideshow": {
     "slide_type": "subslide"
    }
   },
   "outputs": [
    {
     "data": {
      "text/plain": [
       "['Marx', 'Turing', 'de Beauvoir', 'Popper', 'Foucault', 'Luhmann']"
      ]
     },
     "execution_count": 15,
     "metadata": {},
     "output_type": "execute_result"
    }
   ],
   "source": [
    "thinkers.insert(2, 'de Beauvoir')\n",
    "thinkers"
   ]
  },
  {
   "cell_type": "code",
   "execution_count": 16,
   "metadata": {
    "collapsed": false,
    "deletable": true,
    "editable": true,
    "slideshow": {
     "slide_type": "fragment"
    }
   },
   "outputs": [
    {
     "data": {
      "text/plain": [
       "3"
      ]
     },
     "execution_count": 16,
     "metadata": {},
     "output_type": "execute_result"
    }
   ],
   "source": [
    "thinkers.index('Popper')        # an welcher Stelle steht Popper?"
   ]
  },
  {
   "cell_type": "code",
   "execution_count": 17,
   "metadata": {
    "collapsed": false,
    "deletable": true,
    "editable": true,
    "slideshow": {
     "slide_type": "fragment"
    }
   },
   "outputs": [
    {
     "data": {
      "text/plain": [
       "['Marx', 'Turing', 'de Beauvoir', 'Foucault', 'Luhmann']"
      ]
     },
     "execution_count": 17,
     "metadata": {},
     "output_type": "execute_result"
    }
   ],
   "source": [
    "del thinkers[3]\n",
    "thinkers"
   ]
  },
  {
   "cell_type": "code",
   "execution_count": 18,
   "metadata": {
    "collapsed": false,
    "deletable": true,
    "editable": true,
    "slideshow": {
     "slide_type": "fragment"
    }
   },
   "outputs": [
    {
     "data": {
      "text/plain": [
       "[]"
      ]
     },
     "execution_count": 18,
     "metadata": {},
     "output_type": "execute_result"
    }
   ],
   "source": [
    "new_thinkers = []                                              # definiert leere Liste\n",
    "new_thinkers"
   ]
  },
  {
   "cell_type": "code",
   "execution_count": 19,
   "metadata": {
    "collapsed": false,
    "deletable": true,
    "editable": true,
    "slideshow": {
     "slide_type": "fragment"
    }
   },
   "outputs": [
    {
     "data": {
      "text/plain": [
       "['von Neumann']"
      ]
     },
     "execution_count": 19,
     "metadata": {},
     "output_type": "execute_result"
    }
   ],
   "source": [
    "new_thinkers.append(\"von Neumann\")\n",
    "new_thinkers"
   ]
  },
  {
   "cell_type": "code",
   "execution_count": 20,
   "metadata": {
    "collapsed": false,
    "deletable": true,
    "editable": true,
    "slideshow": {
     "slide_type": "fragment"
    }
   },
   "outputs": [
    {
     "data": {
      "text/plain": [
       "True"
      ]
     },
     "execution_count": 20,
     "metadata": {},
     "output_type": "execute_result"
    }
   ],
   "source": [
    "\"Marx\" in thinkers             # testet, ob das Element 'Marx' in der Liste thinkers enthalten ist."
   ]
  },
  {
   "cell_type": "markdown",
   "metadata": {
    "deletable": true,
    "editable": true,
    "slideshow": {
     "slide_type": "slide"
    }
   },
   "source": [
    "<h3 style=\"color:green\">Aufgaben</h3>\n",
    "Arbeiten Sie weiter mit Ihrer Romanliste.\n",
    "<ol>\n",
    "<li>Hängen Sie den Namen eines weiteren Romans an die Liste an.\n",
    "<li>Ersetzen Sie den ersten Namen durch einen neuen\n",
    "<li>Testen Sie, ob \"Effi Briest\" in der Liste enthalten ist.\n",
    "<ol>"
   ]
  },
  {
   "cell_type": "code",
   "execution_count": 21,
   "metadata": {
    "collapsed": false,
    "deletable": true,
    "editable": true,
    "slideshow": {
     "slide_type": "subslide"
    }
   },
   "outputs": [
    {
     "name": "stdout",
     "output_type": "stream",
     "text": [
      "['Wahlverwandschaften', 'Effi Briest', 'Buddenbrooks', 'Der Prozeß', 'Soll und Haben']\n"
     ]
    }
   ],
   "source": [
    "# 1. neuer Roman\n",
    "romane.append('Soll und Haben')\n",
    "print(romane)"
   ]
  },
  {
   "cell_type": "code",
   "execution_count": 22,
   "metadata": {
    "collapsed": false,
    "deletable": true,
    "editable": true,
    "slideshow": {
     "slide_type": "fragment"
    }
   },
   "outputs": [
    {
     "name": "stdout",
     "output_type": "stream",
     "text": [
      "['Mann ohne Eigenschaften', 'Effi Briest', 'Buddenbrooks', 'Der Prozeß', 'Soll und Haben']\n"
     ]
    }
   ],
   "source": [
    "# 2. ersten ersetzen\n",
    "romane[0] = 'Mann ohne Eigenschaften'\n",
    "print(romane)"
   ]
  },
  {
   "cell_type": "code",
   "execution_count": 23,
   "metadata": {
    "collapsed": false,
    "deletable": true,
    "editable": true,
    "slideshow": {
     "slide_type": "fragment"
    }
   },
   "outputs": [
    {
     "data": {
      "text/plain": [
       "True"
      ]
     },
     "execution_count": 23,
     "metadata": {},
     "output_type": "execute_result"
    }
   ],
   "source": [
    "# 3. Effi in der Liste?\n",
    "\"Effi Briest\" in romane"
   ]
  },
  {
   "cell_type": "markdown",
   "metadata": {
    "deletable": true,
    "editable": true,
    "slideshow": {
     "slide_type": "slide"
    }
   },
   "source": [
    "### Listen als veränderliche Objekte\n",
    "\n",
    "[Beispiel auf pythontutor.com](http://pythontutor.com/visualize.html#code=zahlen%20%3D%20%5B1,2,3,4%5D%0Aauch_zahlen%20%3D%20zahlen%0Aauch_zahlen%5B2%5D%20%3D%2099&cumulative=false&curInstr=0&heapPrimitives=false&mode=display&origin=opt-frontend.js&py=3&rawInputLstJSON=%5B%5D&textReferences=false) (oder schrittweise in Thonny anschauen)"
   ]
  },
  {
   "cell_type": "code",
   "execution_count": 24,
   "metadata": {
    "collapsed": false,
    "deletable": true,
    "editable": true,
    "slideshow": {
     "slide_type": "-"
    }
   },
   "outputs": [
    {
     "name": "stdout",
     "output_type": "stream",
     "text": [
      "zahlen      = [1, 2, 99, 4]\n",
      "auch_zahlen = [1, 2, 99, 4]\n"
     ]
    }
   ],
   "source": [
    "zahlen = [1, 2, 3, 4]\n",
    "auch_zahlen = zahlen\n",
    "auch_zahlen[2] = 99\n",
    "print(\"zahlen      =\", zahlen)\n",
    "print(\"auch_zahlen =\", auch_zahlen)"
   ]
  },
  {
   "cell_type": "markdown",
   "metadata": {
    "deletable": true,
    "editable": true,
    "slideshow": {
     "slide_type": "subslide"
    }
   },
   "source": [
    "`list(…)` erzeugt eine neue Liste:"
   ]
  },
  {
   "cell_type": "code",
   "execution_count": 25,
   "metadata": {
    "collapsed": false,
    "deletable": true,
    "editable": true,
    "slideshow": {
     "slide_type": "fragment"
    }
   },
   "outputs": [
    {
     "name": "stdout",
     "output_type": "stream",
     "text": [
      "zahlen       = [1, 2, 3, 4]\n",
      "zahlen_kopie = [1, 2, 99, 4]\n"
     ]
    }
   ],
   "source": [
    "zahlen = [1, 2, 3, 4]\n",
    "zahlen_kopie = list(zahlen)\n",
    "zahlen_kopie[2] = 99\n",
    "print(\"zahlen       =\", zahlen)\n",
    "print(\"zahlen_kopie =\", zahlen_kopie)"
   ]
  },
  {
   "cell_type": "markdown",
   "metadata": {
    "deletable": true,
    "editable": true,
    "slideshow": {
     "slide_type": "slide"
    }
   },
   "source": [
    "### Übung\n",
    "\n",
    "1. Erzeugen Sie eine Kopie Ihrer Romanliste. \n",
    "2. Entfernen Sie aus der Kopie das letzte Element\n",
    "3. Geben Sie Original und Kopie aus.\n",
    "\n",
    "Bonus zum Knobeln: Entfernen Sie das _alphabetisch_ letzte Element."
   ]
  },
  {
   "cell_type": "code",
   "execution_count": 26,
   "metadata": {
    "collapsed": false,
    "deletable": true,
    "editable": true,
    "slideshow": {
     "slide_type": "subslide"
    }
   },
   "outputs": [
    {
     "name": "stdout",
     "output_type": "stream",
     "text": [
      "['Mann ohne Eigenschaften', 'Effi Briest', 'Buddenbrooks', 'Der Prozeß', 'Soll und Haben']\n",
      "['Mann ohne Eigenschaften', 'Effi Briest', 'Buddenbrooks', 'Der Prozeß']\n"
     ]
    }
   ],
   "source": [
    "romankopie = list(romane)\n",
    "del romankopie[-1]\n",
    "print(romane)\n",
    "print(romankopie)"
   ]
  },
  {
   "cell_type": "code",
   "execution_count": 27,
   "metadata": {
    "collapsed": false,
    "deletable": true,
    "editable": true
   },
   "outputs": [
    {
     "name": "stdout",
     "output_type": "stream",
     "text": [
      "['Mann ohne Eigenschaften', 'Effi Briest', 'Buddenbrooks', 'Der Prozeß', 'Soll und Haben']\n",
      "['Effi Briest', 'Buddenbrooks', 'Der Prozeß']\n"
     ]
    }
   ],
   "source": [
    "alpha_letztes = sorted(romankopie)[-1]\n",
    "letztes_idx = romankopie.index(alpha_letztes)\n",
    "del romankopie[letztes_idx]\n",
    "print(romane)\n",
    "print(romankopie)"
   ]
  },
  {
   "cell_type": "markdown",
   "metadata": {
    "deletable": true,
    "editable": true,
    "slideshow": {
     "slide_type": "slide"
    }
   },
   "source": [
    "<h3>Strings als Sequenzen</h3>\n",
    "<p>Strings teilen mit Listen gewisse Eigenschaften, z.B. kann man Strings über ihren Index ansprechen:"
   ]
  },
  {
   "cell_type": "code",
   "execution_count": 28,
   "metadata": {
    "collapsed": false,
    "deletable": true,
    "editable": true,
    "slideshow": {
     "slide_type": "fragment"
    }
   },
   "outputs": [
    {
     "name": "stdout",
     "output_type": "stream",
     "text": [
      "H\n",
      "aufgabe\n"
     ]
    }
   ],
   "source": [
    "s = \"Hausaufgabe\"\n",
    "print(s[0])\n",
    "print(s[4:])"
   ]
  },
  {
   "cell_type": "markdown",
   "metadata": {
    "deletable": true,
    "editable": true,
    "slideshow": {
     "slide_type": "fragment"
    }
   },
   "source": [
    "Strings können sortiert werden:"
   ]
  },
  {
   "cell_type": "code",
   "execution_count": 29,
   "metadata": {
    "collapsed": false,
    "deletable": true,
    "editable": true,
    "slideshow": {
     "slide_type": "fragment"
    }
   },
   "outputs": [
    {
     "data": {
      "text/plain": [
       "['H', 'a', 'a', 'a', 'b', 'e', 'f', 'g', 's', 'u', 'u']"
      ]
     },
     "execution_count": 29,
     "metadata": {},
     "output_type": "execute_result"
    }
   ],
   "source": [
    "sorted(s)\n",
    "['H', 'a', 'a', 'a', 'b', 'e', 'f', 'g', 's', 'u', 'u']"
   ]
  },
  {
   "cell_type": "markdown",
   "metadata": {
    "deletable": true,
    "editable": true,
    "slideshow": {
     "slide_type": "fragment"
    }
   },
   "source": [
    "Die Länge von Strings kann ebenso ausgegen werden wie die von Listen:"
   ]
  },
  {
   "cell_type": "code",
   "execution_count": 30,
   "metadata": {
    "collapsed": false,
    "deletable": true,
    "editable": true,
    "slideshow": {
     "slide_type": "subslide"
    }
   },
   "outputs": [
    {
     "data": {
      "text/plain": [
       "11"
      ]
     },
     "execution_count": 30,
     "metadata": {},
     "output_type": "execute_result"
    }
   ],
   "source": [
    "len(s)"
   ]
  },
  {
   "cell_type": "markdown",
   "metadata": {
    "deletable": true,
    "editable": true,
    "slideshow": {
     "slide_type": "fragment"
    }
   },
   "source": [
    "Aber Strings sind unveränderlich, d.h. man kann nichts einfügen oder anhängen:"
   ]
  },
  {
   "cell_type": "code",
   "execution_count": 31,
   "metadata": {
    "collapsed": false,
    "deletable": true,
    "editable": true,
    "slideshow": {
     "slide_type": "fragment"
    }
   },
   "outputs": [
    {
     "ename": "AttributeError",
     "evalue": "'str' object has no attribute 'append'",
     "output_type": "error",
     "traceback": [
      "\u001b[0;31m---------------------------------------------------------------------------\u001b[0m",
      "\u001b[0;31mAttributeError\u001b[0m                            Traceback (most recent call last)",
      "\u001b[0;32m<ipython-input-31-ece1edd35ab3>\u001b[0m in \u001b[0;36m<module>\u001b[0;34m()\u001b[0m\n\u001b[0;32m----> 1\u001b[0;31m \u001b[0ms\u001b[0m\u001b[0;34m.\u001b[0m\u001b[0mappend\u001b[0m\u001b[0;34m(\u001b[0m\u001b[0;34m\"en\"\u001b[0m\u001b[0;34m)\u001b[0m  \u001b[0;31m# erzeugt einen Fehler!\u001b[0m\u001b[0;34m\u001b[0m\u001b[0m\n\u001b[0m",
      "\u001b[0;31mAttributeError\u001b[0m: 'str' object has no attribute 'append'"
     ]
    }
   ],
   "source": [
    "s.append(\"en\")  # erzeugt einen Fehler!"
   ]
  },
  {
   "cell_type": "markdown",
   "metadata": {
    "deletable": true,
    "editable": true,
    "slideshow": {
     "slide_type": "fragment"
    }
   },
   "source": [
    "Oberbegriffe: **Sequenzen** (Reihenfolge relevant), **Iterable** (keine Aussage über Reihenfolge)"
   ]
  },
  {
   "cell_type": "markdown",
   "metadata": {
    "deletable": true,
    "editable": true,
    "slideshow": {
     "slide_type": "slide"
    }
   },
   "source": [
    "<h3 style=\"color: green\">Aufgaben</h3>\n",
    "\n",
    "<code style=\"color: green\"> s = \"Kleine Kinder\"</code>\n",
    "<ol style=\"color: green\">\n",
    "<li> Geben Sie das ‚K‘ von ‚Kinder‘ aus</li>\n",
    "<li> Extrahieren Sie ‚Kinder‘ aus dem String </li>\n",
    "<li> Geben Sie das folgende in die Python-Konsole ein:<br/>\n",
    "<code style=\"color: green\">a = [\"Kind\",\"Name\",\"Hund\"]</code><br/>\n",
    "<code style=\"color: green\">a[0][0]</code></li>\n",
    "<li>Wie sieht das Ergebnis aus? Erklären Sie das Ergebnis. Probieren Sie weitere Kombinationen. </li>\n",
    "<li> Wie könnte man aus ‘Hund’ in der Liste `a` ‘Hand’ machen?</li>\n",
    "</ol>"
   ]
  },
  {
   "cell_type": "code",
   "execution_count": 6,
   "metadata": {
    "collapsed": false,
    "slideshow": {
     "slide_type": "subslide"
    }
   },
   "outputs": [
    {
     "name": "stdout",
     "output_type": "stream",
     "text": [
      "Aufgabe 1: K\n",
      "Aufgabe 2: Kinder\n"
     ]
    }
   ],
   "source": [
    "s = \"Kleine Kinder\"\n",
    "\n",
    "print(\"Aufgabe 1:\", s[7])\n",
    "print(\"Aufgabe 2:\", s[7:])"
   ]
  },
  {
   "cell_type": "code",
   "execution_count": 7,
   "metadata": {
    "collapsed": false,
    "slideshow": {
     "slide_type": "subslide"
    }
   },
   "outputs": [
    {
     "data": {
      "text/plain": [
       "'K'"
      ]
     },
     "execution_count": 7,
     "metadata": {},
     "output_type": "execute_result"
    }
   ],
   "source": [
    "# 3\n",
    "a = [\"Kind\", \"Name\", \"Hund\"]\n",
    "a[0][0]"
   ]
  },
  {
   "cell_type": "code",
   "execution_count": 8,
   "metadata": {
    "collapsed": true,
    "slideshow": {
     "slide_type": "subslide"
    }
   },
   "outputs": [],
   "source": [
    "# 5\n",
    "a[2] = \"Hand\" # Strings sind unveränderlich, Listen nicht."
   ]
  },
  {
   "cell_type": "markdown",
   "metadata": {
    "deletable": true,
    "editable": true,
    "slideshow": {
     "slide_type": "slide"
    }
   },
   "source": [
    "### Hausaufgaben\n",
    "\n",
    "1. Legen Sie eine Liste aus fünf Städten an und geben Sie die Liste auf dem Bildschirm aus.\n",
    "2. Geben Sie den Anfangsbuchstaben der ersten Stadt in der Liste aus.\n",
    "3. Ersetzen Sie die erste Stadt in der Liste durch _Zürich_.\n",
    "2. Lassen Sie IhrE BenutzerIn eine weitere Stadt eingeben, speichern Sie die in einer Variablen. Lassen Sie außerdem eine Position von 1 bis _Länge der Liste_ eingeben. Fügen Sie die neue Stadt an der entsprechenden Position in die Liste ein. Geben Sie die entstandene Liste aus.\n",
    "3. Ihr Benutzer möge diesmal den Namen einer Stadt, die in der Liste steht, eingeben. Löschen Sie den entsprechenden Eintrag aus der Liste.\n",
    "4. Geben Sie die endgültige Liste sortiert aus.\n",
    "\n",
    "----\n",
    "\n",
    "Beispiel-Interaktion:\n",
    "```\n",
    "['Würzburg', 'Rom', 'Peking', 'New York', 'Ouagadougou']\n",
    "W\n",
    "Noch eine Stadt? London\n",
    "Wo einfügen? 1-5: 2\n",
    "['Zürich', 'London', 'Rom', 'Peking', 'New York', 'Ouagadougou']\n",
    "Welche Stadt soll weg? Rom\n",
    "['London', 'New York', 'Ouagadougou', 'Peking', 'Zürich']\n",
    "```"
   ]
  },
  {
   "cell_type": "code",
   "execution_count": null,
   "metadata": {
    "collapsed": true,
    "deletable": true,
    "editable": true
   },
   "outputs": [],
   "source": []
  }
 ],
 "metadata": {
  "celltoolbar": "Slideshow",
  "kernelspec": {
   "display_name": "Python 3",
   "language": "python",
   "name": "python3"
  },
  "language_info": {
   "codemirror_mode": {
    "name": "ipython",
    "version": 3
   },
   "file_extension": ".py",
   "mimetype": "text/x-python",
   "name": "python",
   "nbconvert_exporter": "python",
   "pygments_lexer": "ipython3",
   "version": "3.6.3"
  },
  "livereveal": {
   "height": 768,
   "width": 1024
  },
  "toc": {
   "navigate_menu": true,
   "number_sections": false,
   "sideBar": true,
   "threshold": 6,
   "toc_cell": false,
   "toc_section_display": "block",
   "toc_window_display": true
  }
 },
 "nbformat": 4,
 "nbformat_minor": 0
}
