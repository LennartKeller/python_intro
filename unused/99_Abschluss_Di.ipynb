{
 "cells": [
  {
   "cell_type": "markdown",
   "metadata": {},
   "source": [
    "### Einführung in das Programmieren mit Python\n",
    "## Semesterabschluss"
   ]
  },
  {
   "cell_type": "markdown",
   "metadata": {},
   "source": [
    "* Begriff \"Keyword-Argument\"\n",
    "* Globale und lokale <del>Parameter</del><ins>Variablen</ins>\n",
    "* Einlesen von Dateipfaden?\n",
    "* Kommandozeile & Modulsuchpfad\n",
    "* Installieren externer Module"
   ]
  },
  {
   "cell_type": "markdown",
   "metadata": {},
   "source": [
    "### Funktionsparameter\n",
    "\n",
    "* Funktionen haben Parameter / Argumente:"
   ]
  },
  {
   "cell_type": "code",
   "execution_count": 25,
   "metadata": {
    "collapsed": true
   },
   "outputs": [],
   "source": [
    "def read_words(filename, encoding):\n",
    "    with open(filename, \"r\", encoding=encoding) as file:\n",
    "        return file.read().split()"
   ]
  },
  {
   "cell_type": "markdown",
   "metadata": {},
   "source": [
    "Diese Funktion hat zwei normale, verpflichtende Parameter. Jeder dieser Parameter hat einen __Namen__ und eine __Position__: \n",
    "* 0: filename\n",
    "* 1: encoding\n",
    "\n",
    "Wird die Funktion aufgerufen, so werden konkrete Werte für diese Parameter übergeben, die innerhalb der Funktion über Variablennamen zugegriffen werden können. Welcher Wert an welchen Parameter gebunden wird, hängt normalerweise von der Position ab:\n",
    "\n",
    "```python\n",
    "# def read_words(filename,    encoding)\n",
    "      read_words(\"roman.txt\", \"UTF-8\")\n",
    "```"
   ]
  },
  {
   "cell_type": "markdown",
   "metadata": {},
   "source": [
    "Man kann das aber auch explizit machen, indem man die Namen der Parameter angibt. Man spricht dann von __Keyword-Argumenten__, die Parameternamen sind die Keywords, und die Reihenfolge dann egal:\n",
    "\n",
    "```python\n",
    "read_words(encoding=\"UTF-8\", filename=\"roman.txt\")\n",
    "```"
   ]
  },
  {
   "cell_type": "markdown",
   "metadata": {},
   "source": [
    "#### Default-Argumente\n",
    "\n",
    "Man kann bei der Definition einer Funktion Argumenten default-Werte mitgeben:"
   ]
  },
  {
   "cell_type": "code",
   "execution_count": 26,
   "metadata": {
    "collapsed": true
   },
   "outputs": [],
   "source": [
    "def read_words(filename, sep=\" \", encoding=\"UTF-8\"):\n",
    "    with open(filename, \"rt\", encoding=encoding) as file:\n",
    "        return file.read().split(sep)"
   ]
  },
  {
   "cell_type": "markdown",
   "metadata": {},
   "source": [
    "Beim Aufruf können alle Parameter, die Defaultwerte haben, weggelassen werden. Alle folgenden Zeilen sind gültige Aufrufe der o.a. Funktion:\n",
    "\n",
    "```python\n",
    "read_words(\"roman.txt\")\n",
    "read_words(\"roman.txt\", \"\\n\")\n",
    "read_words(\"roman.txt\", \"\\n\", \"cp1252\")\n",
    "read_words(\"roman.txt\", encoding=\"cp1252\")\n",
    "read_words(\"roman.txt\", encoding=\"cp1252\", sep=\"\\n\")\n",
    "read_words(sep=\"\\n\", filename=\"roman.txt\")\n",
    "```"
   ]
  },
  {
   "cell_type": "markdown",
   "metadata": {},
   "source": [
    "#### Flexible Argumentlisten\n",
    "\n",
    "Es ist möglich, flexible Argumentlisten zu verwenden, sowohl für _positionale_ als auch für _keyword_-Argumente. Ein Beispiel ist die Ihnen bekannte `print`-Funktion:"
   ]
  },
  {
   "cell_type": "code",
   "execution_count": 27,
   "metadata": {
    "collapsed": false
   },
   "outputs": [
    {
     "name": "stdout",
     "output_type": "stream",
     "text": [
      "('Hallo', 42)\n",
      "Hallo 42\n"
     ]
    }
   ],
   "source": [
    "import sys\n",
    "def print(*args, sep=' ', end='\\n', file=sys.stdout, flush=False):\n",
    "    strings = []\n",
    "    __builtin__.print(args)\n",
    "    for arg in args:\n",
    "        strings.append(str(arg))\n",
    "    file.write(sep.join(strings) + end)\n",
    "    if flush:\n",
    "        file.flush()\n",
    "        \n",
    "# Aufruf z.B.:\n",
    "print(\"Hallo\", 42)"
   ]
  },
  {
   "cell_type": "code",
   "execution_count": 28,
   "metadata": {
    "collapsed": false
   },
   "outputs": [
    {
     "name": "stdout",
     "output_type": "stream",
     "text": [
      "('Bla', 43.0, True, 'Blubb')\n",
      "Bla 43.0 True Blubb\n"
     ]
    }
   ],
   "source": [
    "print(\"Bla\", 43.0, True, \"Blubb\")"
   ]
  },
  {
   "cell_type": "markdown",
   "metadata": {},
   "source": [
    "Da durch das `*args` beliebig viele positionale Parameter möglich sind (die in der Funktion im Tupel `args` zur Verfügung stehen), _müssen_ alle weiteren Parameter beim Aufruf als Keyword-Parameter angegeben werden!"
   ]
  },
  {
   "cell_type": "markdown",
   "metadata": {},
   "source": [
    "#### Flexible Keyword-Parameter"
   ]
  },
  {
   "cell_type": "code",
   "execution_count": 29,
   "metadata": {
    "collapsed": false
   },
   "outputs": [
    {
     "ename": "SyntaxError",
     "evalue": "keyword argument repeated (<ipython-input-29-70aa38fa10a8>, line 9)",
     "output_type": "error",
     "traceback": [
      "\u001b[0;36m  File \u001b[0;32m\"<ipython-input-29-70aa38fa10a8>\"\u001b[0;36m, line \u001b[0;32m9\u001b[0m\n\u001b[0;31m    From=\"Holly\", From='Bob', To='Alice', Subject='Mjam')\u001b[0m\n\u001b[0m                 ^\u001b[0m\n\u001b[0;31mSyntaxError\u001b[0m\u001b[0;31m:\u001b[0m keyword argument repeated\n"
     ]
    }
   ],
   "source": [
    "def write_with_header(body, file=sys.stdout, **kwargs):\n",
    "    print(kwargs)\n",
    "    for key in kwargs:\n",
    "        file.write(key + \": \" + kwargs[key] + \"\\n\")\n",
    "    file.write(\"\\n\")\n",
    "    file.write(body)\n",
    "    \n",
    "write_with_header(\"Hallo Alice,\\n\\nbitte schick mir doch das Kirschkuchenrezept.\",\n",
    "                 From=\"Holly\", From='Bob', To='Alice', Subject='Mjam')"
   ]
  },
  {
   "cell_type": "markdown",
   "metadata": {},
   "source": [
    "Analog zu `*args` ist auch `**kwargs` möglich. Dahinein werden alle per Keyword angegebenen Parameter gesammelt, die _nicht_ in der Funktionsdefinition (`def`) deklariert worden sind.\n",
    "\n",
    "`**` ist syntax, `kwargs` Konvention, die Funktion oben hätte auch definiert sein können als\n",
    "\n",
    "```python\n",
    "def write_with_header(body, file=sys.stdout, **header)\n",
    "```"
   ]
  },
  {
   "cell_type": "code",
   "execution_count": null,
   "metadata": {
    "collapsed": true
   },
   "outputs": [],
   "source": []
  },
  {
   "cell_type": "markdown",
   "metadata": {},
   "source": [
    "Mit Verwendung derselben Syntax kann man Argumentlisten auch weitergeben:"
   ]
  },
  {
   "cell_type": "code",
   "execution_count": 30,
   "metadata": {
    "collapsed": true
   },
   "outputs": [],
   "source": [
    "def print_happy(*args, **kwargs):\n",
    "    \"\"\"Wie Print, nur fröhlich. Selbe Argumente verwenden.\"\"\"\n",
    "    print(\"☺\", *args, **kwargs)"
   ]
  },
  {
   "cell_type": "code",
   "execution_count": 31,
   "metadata": {
    "collapsed": false
   },
   "outputs": [
    {
     "name": "stdout",
     "output_type": "stream",
     "text": [
      "('☺', 'Hallo', 23)\n",
      "☺ Hallo 23!!!\n"
     ]
    }
   ],
   "source": [
    "print_happy(\"Hallo\", 23, end=\"!!!\\n\")"
   ]
  },
  {
   "cell_type": "markdown",
   "metadata": {},
   "source": [
    "### Globale und Lokale Variablen\n",
    "\n",
    "Variablen können prinzipiell an zwei Stellen erzeugt werden:\n",
    "* in einer Funktion → lokale Variablen → nur in der Funktion sichtbar\n",
    "* außerhalb einer Funktion → globale Variablen → überall sichtbar\n",
    "\n",
    "Funktionsparameter verhalten sich wie lokale Variablen.\n",
    "\n",
    "Entscheidend ist, wo die Variable _zugewiesen_ wird. Beispiele:"
   ]
  },
  {
   "cell_type": "code",
   "execution_count": 32,
   "metadata": {
    "collapsed": false
   },
   "outputs": [
    {
     "ename": "NameError",
     "evalue": "name 's' is not defined",
     "output_type": "error",
     "traceback": [
      "\u001b[0;31m---------------------------------------------------------------------------\u001b[0m",
      "\u001b[0;31mNameError\u001b[0m                                 Traceback (most recent call last)",
      "\u001b[0;32m<ipython-input-32-573ecb6b5561>\u001b[0m in \u001b[0;36m<module>\u001b[0;34m()\u001b[0m\n\u001b[1;32m      6\u001b[0m \u001b[0;34m\u001b[0m\u001b[0m\n\u001b[1;32m      7\u001b[0m \u001b[0mconcat\u001b[0m\u001b[0;34m(\u001b[0m\u001b[0;34m\"Foo\"\u001b[0m\u001b[0;34m,\u001b[0m \u001b[0;34m\"Bar\"\u001b[0m\u001b[0;34m)\u001b[0m\u001b[0;34m\u001b[0m\u001b[0m\n\u001b[0;32m----> 8\u001b[0;31m \u001b[0mprint\u001b[0m\u001b[0;34m(\u001b[0m\u001b[0ms\u001b[0m\u001b[0;34m)\u001b[0m\u001b[0;34m\u001b[0m\u001b[0m\n\u001b[0m",
      "\u001b[0;31mNameError\u001b[0m: name 's' is not defined"
     ]
    }
   ],
   "source": [
    "def concat(*args):\n",
    "    s = \"\"\n",
    "    for arg in args:\n",
    "        s = s + arg\n",
    "    return s\n",
    "\n",
    "concat(\"Foo\", \"Bar\")\n",
    "print(s)"
   ]
  },
  {
   "cell_type": "code",
   "execution_count": 33,
   "metadata": {
    "collapsed": false
   },
   "outputs": [
    {
     "name": "stdout",
     "output_type": "stream",
     "text": [
      "('Ich soll jetzt ', 23, ' und ', 42, 'addieren')\n",
      "Ich soll jetzt  23  und  42 addieren\n"
     ]
    },
    {
     "data": {
      "text/plain": [
       "{'verbose': True, 'write_to_file': 'foo.txt'}"
      ]
     },
     "execution_count": 33,
     "metadata": {},
     "output_type": "execute_result"
    }
   ],
   "source": [
    "options = { 'verbose': True, 'write_to_file': 'foo.txt'}\n",
    "\n",
    "def add(n1, n2):\n",
    "    if options['verbose']:\n",
    "        print(\"Ich soll jetzt \", n1, \" und \", n2, \"addieren\")\n",
    "    return n1 + n2\n",
    "\n",
    "add(23, 42)\n",
    "options"
   ]
  },
  {
   "cell_type": "code",
   "execution_count": 34,
   "metadata": {
    "collapsed": false
   },
   "outputs": [
    {
     "name": "stdout",
     "output_type": "stream",
     "text": [
      "(4,)\n",
      "4\n"
     ]
    }
   ],
   "source": [
    "x = 4\n",
    "def f(x):\n",
    "    x = x+1\n",
    "    return x\n",
    "f(x+1)\n",
    "print(x)"
   ]
  },
  {
   "cell_type": "code",
   "execution_count": 35,
   "metadata": {
    "collapsed": false
   },
   "outputs": [
    {
     "name": "stdout",
     "output_type": "stream",
     "text": [
      "(6,)\n",
      "6\n"
     ]
    }
   ],
   "source": [
    "x = 4\n",
    "def f(y):\n",
    "    y = x+y\n",
    "    return y\n",
    "print(f(2))"
   ]
  },
  {
   "cell_type": "code",
   "execution_count": 36,
   "metadata": {
    "collapsed": false
   },
   "outputs": [
    {
     "name": "stdout",
     "output_type": "stream",
     "text": [
      "(8,)\n",
      "8\n"
     ]
    }
   ],
   "source": [
    "def f(y):\n",
    "    global x\n",
    "    x = x+y\n",
    "    return x\n",
    "print(f(x))"
   ]
  },
  {
   "cell_type": "code",
   "execution_count": 37,
   "metadata": {
    "collapsed": false
   },
   "outputs": [
    {
     "data": {
      "text/plain": [
       "30"
      ]
     },
     "execution_count": 37,
     "metadata": {},
     "output_type": "execute_result"
    }
   ],
   "source": [
    "def f(x):\n",
    "    def g(y):\n",
    "        return x*y\n",
    "    return g(x+1)\n",
    "\n",
    "f(5)"
   ]
  },
  {
   "cell_type": "code",
   "execution_count": 38,
   "metadata": {
    "collapsed": false
   },
   "outputs": [
    {
     "data": {
      "text/plain": [
       "8"
      ]
     },
     "execution_count": 38,
     "metadata": {},
     "output_type": "execute_result"
    }
   ],
   "source": [
    "x"
   ]
  },
  {
   "cell_type": "markdown",
   "metadata": {},
   "source": [
    "### Einlesen von Verzeichnisstrukturen\n",
    "\n",
    "Die Standardbibliothek hält zahlreiche Funktionen für den Umgang mit Dateien und Verzeichnissen bereit:\n",
    "\n",
    "* Modul [os](https://docs.python.org/3/library/os.html) für typische Betriebssystemfunktionen\n",
    "* Modul [os.path](https://docs.python.org/3/library/os.path.html) für den Umgang mit Datei- und Verzeichnisnamen\n",
    "* Modul [shutil](https://docs.python.org/3/library/shutil.html) für Dateioperationen auf höherer Abstraktionsebene, z.B. Kopieren\n",
    "* Modul [glob](https://docs.python.org/3/library/glob.html) zum Evalueren von _shell glob patterns_ wie z.B. `*.txt`"
   ]
  },
  {
   "cell_type": "code",
   "execution_count": 39,
   "metadata": {
    "collapsed": false
   },
   "outputs": [
    {
     "data": {
      "text/plain": [
       "'/home/tv/git/python_intro_2016'"
      ]
     },
     "execution_count": 39,
     "metadata": {},
     "output_type": "execute_result"
    }
   ],
   "source": [
    "import os\n",
    "\n",
    "os.getcwd()"
   ]
  },
  {
   "cell_type": "markdown",
   "metadata": {},
   "source": [
    "`os.listdir(path)` listet die Namen aller Einträge des durch `path` angegebenen Verzeichnisses auf:"
   ]
  },
  {
   "cell_type": "code",
   "execution_count": 40,
   "metadata": {
    "collapsed": false
   },
   "outputs": [
    {
     "name": "stdout",
     "output_type": "stream",
     "text": [
      "(['anweisung.png', 'assign1.svg', 'assign2.svg', 'assign3.svg', 'dh_titel.png', 'dict1.png', 'for_loop_simple.png', 'ide1.png', 'ide2.png', 'ide3.png', 'ide4.png', 'ide5.png', 'ide6.png', 'if_else.png', 'if_simple.png', 'indent.svg', 'inheritance-task.png', 'inheritance.png', 'liste1.png', 'liste2.png', 'loop.png', 'modules.png', 'print-anweisung.svg', 're-uebersicht.svg', 'reference.png', 'scope.png', 'spyder-argv.png', 'spyder_debugging.png', 'tkinter_grid.png', 'utf-8_file.png', 'zuweisung-detail.svg', 'pythontutor-list.png', 'functioncall.svg'],)\n",
      "['anweisung.png', 'assign1.svg', 'assign2.svg', 'assign3.svg', 'dh_titel.png', 'dict1.png', 'for_loop_simple.png', 'ide1.png', 'ide2.png', 'ide3.png', 'ide4.png', 'ide5.png', 'ide6.png', 'if_else.png', 'if_simple.png', 'indent.svg', 'inheritance-task.png', 'inheritance.png', 'liste1.png', 'liste2.png', 'loop.png', 'modules.png', 'print-anweisung.svg', 're-uebersicht.svg', 'reference.png', 'scope.png', 'spyder-argv.png', 'spyder_debugging.png', 'tkinter_grid.png', 'utf-8_file.png', 'zuweisung-detail.svg', 'pythontutor-list.png', 'functioncall.svg']\n"
     ]
    }
   ],
   "source": [
    "print(os.listdir('images'))"
   ]
  },
  {
   "cell_type": "markdown",
   "metadata": {},
   "source": [
    "Wenn man damit was machen will, muss man `path` mit jedem Eintrag zusammenkleben. Das geht z.B. mit os.path.join(…)"
   ]
  },
  {
   "cell_type": "code",
   "execution_count": 41,
   "metadata": {
    "collapsed": false
   },
   "outputs": [
    {
     "data": {
      "text/plain": [
       "'/'"
      ]
     },
     "execution_count": 41,
     "metadata": {},
     "output_type": "execute_result"
    }
   ],
   "source": [
    "os.path.sep"
   ]
  },
  {
   "cell_type": "code",
   "execution_count": 42,
   "metadata": {
    "collapsed": false
   },
   "outputs": [
    {
     "data": {
      "text/plain": [
       "'/home/tv/git/python_intro_2016/bla/fasel/blubb'"
      ]
     },
     "execution_count": 42,
     "metadata": {},
     "output_type": "execute_result"
    }
   ],
   "source": [
    "os.path.join(os.getcwd(), 'bla', 'fasel', 'blubb')"
   ]
  },
  {
   "cell_type": "code",
   "execution_count": 43,
   "metadata": {
    "collapsed": false
   },
   "outputs": [
    {
     "ename": "FileNotFoundError",
     "evalue": "[Errno 2] No such file or directory: 'tg1'",
     "output_type": "error",
     "traceback": [
      "\u001b[0;31m---------------------------------------------------------------------------\u001b[0m",
      "\u001b[0;31mFileNotFoundError\u001b[0m                         Traceback (most recent call last)",
      "\u001b[0;32m<ipython-input-43-b656c10a8e7c>\u001b[0m in \u001b[0;36m<module>\u001b[0;34m()\u001b[0m\n\u001b[1;32m      1\u001b[0m \u001b[0mfolder\u001b[0m \u001b[0;34m=\u001b[0m \u001b[0;34m'tg1'\u001b[0m\u001b[0;34m\u001b[0m\u001b[0m\n\u001b[0;32m----> 2\u001b[0;31m \u001b[0;32mfor\u001b[0m \u001b[0mfile\u001b[0m \u001b[0;32min\u001b[0m \u001b[0mos\u001b[0m\u001b[0;34m.\u001b[0m\u001b[0mlistdir\u001b[0m\u001b[0;34m(\u001b[0m\u001b[0mfolder\u001b[0m\u001b[0;34m)\u001b[0m\u001b[0;34m:\u001b[0m\u001b[0;34m\u001b[0m\u001b[0m\n\u001b[0m\u001b[1;32m      3\u001b[0m     \u001b[0mfullpath\u001b[0m \u001b[0;34m=\u001b[0m \u001b[0mos\u001b[0m\u001b[0;34m.\u001b[0m\u001b[0mpath\u001b[0m\u001b[0;34m.\u001b[0m\u001b[0mjoin\u001b[0m\u001b[0;34m(\u001b[0m\u001b[0mfolder\u001b[0m\u001b[0;34m,\u001b[0m \u001b[0mfile\u001b[0m\u001b[0;34m)\u001b[0m\u001b[0;34m\u001b[0m\u001b[0m\n\u001b[1;32m      4\u001b[0m     \u001b[0;32mif\u001b[0m \u001b[0mos\u001b[0m\u001b[0;34m.\u001b[0m\u001b[0mpath\u001b[0m\u001b[0;34m.\u001b[0m\u001b[0misdir\u001b[0m\u001b[0;34m(\u001b[0m\u001b[0mfullpath\u001b[0m\u001b[0;34m)\u001b[0m\u001b[0;34m:\u001b[0m\u001b[0;34m\u001b[0m\u001b[0m\n\u001b[1;32m      5\u001b[0m         \u001b[0mfiletype\u001b[0m \u001b[0;34m=\u001b[0m \u001b[0;34m'[FOLDER]'\u001b[0m\u001b[0;34m\u001b[0m\u001b[0m\n",
      "\u001b[0;31mFileNotFoundError\u001b[0m: [Errno 2] No such file or directory: 'tg1'"
     ]
    }
   ],
   "source": [
    "folder = 'tg1'\n",
    "for file in os.listdir(folder):\n",
    "    fullpath = os.path.join(folder, file)\n",
    "    if os.path.isdir(fullpath):\n",
    "        filetype = '[FOLDER]'\n",
    "    else:\n",
    "        filetype = '[FILE]  '\n",
    "    print(filetype, file, fullpath, sep='\\t')"
   ]
  },
  {
   "cell_type": "markdown",
   "metadata": {},
   "source": [
    "Will man alle Unterverzeichnisse behandeln, so steigt man rekursiv ab.\n",
    "\n",
    "```\n",
    "tg1\n",
    "├── tg2.txt\n",
    "├── tg3\n",
    "│   ├── tg134\n",
    "│   │   ├── tg135.txt\n",
    "│   │   ├── tg136.txt\n",
    ".   .   .   ...\n",
    "│   │   ├── tg172.txt\n",
    "│   │   ├── tg173\n",
    "│   │   │   ├── tg174.txt\n",
    "│   │   │   ├── tg175.txt\n",
    "│   │   │   ├── tg176.txt\n",
    "│   │   │   ├── tg177.txt\n",
    "│   │   │   ├── tg178.txt\n",
    "│   │   │   └── tg179.txt\n",
    ".   .   .   .............\n",
    "\n",
    "```"
   ]
  },
  {
   "cell_type": "code",
   "execution_count": 44,
   "metadata": {
    "collapsed": false
   },
   "outputs": [
    {
     "ename": "FileNotFoundError",
     "evalue": "[Errno 2] No such file or directory: 'tg1'",
     "output_type": "error",
     "traceback": [
      "\u001b[0;31m---------------------------------------------------------------------------\u001b[0m",
      "\u001b[0;31mFileNotFoundError\u001b[0m                         Traceback (most recent call last)",
      "\u001b[0;32m<ipython-input-44-f29e491cf04c>\u001b[0m in \u001b[0;36m<module>\u001b[0;34m()\u001b[0m\n\u001b[1;32m      7\u001b[0m         \u001b[0;32melse\u001b[0m\u001b[0;34m:\u001b[0m\u001b[0;34m\u001b[0m\u001b[0m\n\u001b[1;32m      8\u001b[0m             \u001b[0mprint\u001b[0m\u001b[0;34m(\u001b[0m\u001b[0;34m' '\u001b[0m\u001b[0;34m*\u001b[0m\u001b[0mlevel\u001b[0m \u001b[0;34m+\u001b[0m \u001b[0;34m'[FILE]  '\u001b[0m\u001b[0;34m,\u001b[0m \u001b[0mfile\u001b[0m\u001b[0;34m,\u001b[0m \u001b[0mfullpath\u001b[0m\u001b[0;34m,\u001b[0m \u001b[0msep\u001b[0m\u001b[0;34m=\u001b[0m\u001b[0;34m'\\t'\u001b[0m\u001b[0;34m)\u001b[0m\u001b[0;34m\u001b[0m\u001b[0m\n\u001b[0;32m----> 9\u001b[0;31m \u001b[0mlist_recursively\u001b[0m\u001b[0;34m(\u001b[0m\u001b[0;34m'tg1'\u001b[0m\u001b[0;34m)\u001b[0m\u001b[0;34m\u001b[0m\u001b[0m\n\u001b[0m",
      "\u001b[0;32m<ipython-input-44-f29e491cf04c>\u001b[0m in \u001b[0;36mlist_recursively\u001b[0;34m(folder, level)\u001b[0m\n\u001b[1;32m      1\u001b[0m \u001b[0;32mdef\u001b[0m \u001b[0mlist_recursively\u001b[0m\u001b[0;34m(\u001b[0m\u001b[0mfolder\u001b[0m\u001b[0;34m,\u001b[0m \u001b[0mlevel\u001b[0m\u001b[0;34m=\u001b[0m\u001b[0;36m0\u001b[0m\u001b[0;34m)\u001b[0m\u001b[0;34m:\u001b[0m\u001b[0;34m\u001b[0m\u001b[0m\n\u001b[0;32m----> 2\u001b[0;31m     \u001b[0;32mfor\u001b[0m \u001b[0mfile\u001b[0m \u001b[0;32min\u001b[0m \u001b[0mos\u001b[0m\u001b[0;34m.\u001b[0m\u001b[0mlistdir\u001b[0m\u001b[0;34m(\u001b[0m\u001b[0mfolder\u001b[0m\u001b[0;34m)\u001b[0m\u001b[0;34m:\u001b[0m\u001b[0;34m\u001b[0m\u001b[0m\n\u001b[0m\u001b[1;32m      3\u001b[0m         \u001b[0mfullpath\u001b[0m \u001b[0;34m=\u001b[0m \u001b[0mos\u001b[0m\u001b[0;34m.\u001b[0m\u001b[0mpath\u001b[0m\u001b[0;34m.\u001b[0m\u001b[0mjoin\u001b[0m\u001b[0;34m(\u001b[0m\u001b[0mfolder\u001b[0m\u001b[0;34m,\u001b[0m \u001b[0mfile\u001b[0m\u001b[0;34m)\u001b[0m\u001b[0;34m\u001b[0m\u001b[0m\n\u001b[1;32m      4\u001b[0m         \u001b[0;32mif\u001b[0m \u001b[0mos\u001b[0m\u001b[0;34m.\u001b[0m\u001b[0mpath\u001b[0m\u001b[0;34m.\u001b[0m\u001b[0misdir\u001b[0m\u001b[0;34m(\u001b[0m\u001b[0mfullpath\u001b[0m\u001b[0;34m)\u001b[0m\u001b[0;34m:\u001b[0m\u001b[0;34m\u001b[0m\u001b[0m\n\u001b[1;32m      5\u001b[0m             \u001b[0mprint\u001b[0m\u001b[0;34m(\u001b[0m\u001b[0;34m' '\u001b[0m\u001b[0;34m*\u001b[0m\u001b[0mlevel\u001b[0m \u001b[0;34m+\u001b[0m \u001b[0;34m'[FOLDER]'\u001b[0m\u001b[0;34m,\u001b[0m \u001b[0mfile\u001b[0m\u001b[0;34m,\u001b[0m \u001b[0mfullpath\u001b[0m\u001b[0;34m,\u001b[0m \u001b[0msep\u001b[0m\u001b[0;34m=\u001b[0m\u001b[0;34m'\\t'\u001b[0m\u001b[0;34m)\u001b[0m\u001b[0;34m\u001b[0m\u001b[0m\n",
      "\u001b[0;31mFileNotFoundError\u001b[0m: [Errno 2] No such file or directory: 'tg1'"
     ]
    }
   ],
   "source": [
    "def list_recursively(folder, level=0):\n",
    "    for file in os.listdir(folder):\n",
    "        fullpath = os.path.join(folder, file)\n",
    "        if os.path.isdir(fullpath):\n",
    "            print(' '*level + '[FOLDER]', file, fullpath, sep='\\t')\n",
    "            list_recursively(fullpath, level+1)  #### <===\n",
    "        else:\n",
    "            print(' '*level + '[FILE]  ', file, fullpath, sep='\\t')\n",
    "list_recursively('tg1')"
   ]
  },
  {
   "cell_type": "code",
   "execution_count": 45,
   "metadata": {
    "collapsed": false
   },
   "outputs": [
    {
     "data": {
      "text/plain": [
       "'Mein Lebensabend'"
      ]
     },
     "execution_count": 45,
     "metadata": {},
     "output_type": "execute_result"
    }
   ],
   "source": [
    "import re\n",
    "m = re.match(r'(\\S+): (.*)', 'Title: Mein Lebensabend')\n",
    "m.group(2)"
   ]
  },
  {
   "cell_type": "code",
   "execution_count": 46,
   "metadata": {
    "collapsed": false
   },
   "outputs": [
    {
     "data": {
      "text/plain": [
       "['images/assign1.svg',\n",
       " 'images/assign2.svg',\n",
       " 'images/assign3.svg',\n",
       " 'images/indent.svg',\n",
       " 'images/print-anweisung.svg',\n",
       " 'images/re-uebersicht.svg',\n",
       " 'images/zuweisung-detail.svg',\n",
       " 'images/functioncall.svg']"
      ]
     },
     "execution_count": 46,
     "metadata": {},
     "output_type": "execute_result"
    }
   ],
   "source": [
    "from glob import glob\n",
    "glob('images/*.svg')"
   ]
  },
  {
   "cell_type": "markdown",
   "metadata": {},
   "source": [
    "### Kommandozeile\n",
    "\n",
    "* Computer-Grundkompetenz für DH-Studierende"
   ]
  },
  {
   "cell_type": "markdown",
   "metadata": {},
   "source": [
    "* es gibt immer ein aktuelles Verzeichnis. \n",
    "    * Linux/MacOS: Anzeigen mit `pwd`, wechseln mit `cd neuer/pfad`\n",
    "    * Windows: Anzeigen mit `cd`, wechseln mit `cd neuer\\pfad`\n",
    "* __Kommandos__ bestehen aus einem oder mehreren Wörtern, durch Leerzeichen getrennt, ggf. mit \" \" umschlossen.\n",
    "* Erstes Wort: Befehl, z.B. Programm. Folgende Wörter: Argumente, werden vom Programm interpretiert.\n",
    "#### Umgebungsvariablen\n",
    "* _Umgebungsvariablen_ enthalten Werte, die allen Programmen zur Verfügung stehen, z.B. `$PATH` (bzw. `%PATH%` auf Windows). Tippen Sie `set`\n",
    "* Umgebungvariablen vererben sich an gestartete Prozesse\n",
    "* Wichtige Umgebungsvariablen:\n",
    "   * `PATH` (`%PATH%` (Windows) bzw. `$PATH` (sonst)) enthält die Verzeichnisse, in denen das OS nach Programmen sucht.\n",
    "   * `PYTHONHOME` ggf. Grundverzeichnis von Python\n",
    "   * `PYTHONPATH` Modul-Suchverzeichnisse von Python"
   ]
  },
  {
   "cell_type": "markdown",
   "metadata": {},
   "source": [
    "### Starten von Python-Programmen an der Kommandozeile\n",
    "\n",
    "`python meinscript.py argumente argumente`"
   ]
  },
  {
   "cell_type": "markdown",
   "metadata": {},
   "source": [
    "### Benutzen der Kommandozeilenargumente"
   ]
  },
  {
   "cell_type": "code",
   "execution_count": 47,
   "metadata": {
    "collapsed": false
   },
   "outputs": [
    {
     "name": "stdout",
     "output_type": "stream",
     "text": [
      "(['/home/tv/.virtualenvs/jupyter/lib/python3.5/site-packages/ipykernel/__main__.py', '-f', '/run/user/1000/jupyter/kernel-d7960b55-1169-4c46-81e8-6b72f4a21aaa.json'],)\n",
      "['/home/tv/.virtualenvs/jupyter/lib/python3.5/site-packages/ipykernel/__main__.py', '-f', '/run/user/1000/jupyter/kernel-d7960b55-1169-4c46-81e8-6b72f4a21aaa.json']\n"
     ]
    }
   ],
   "source": [
    "import sys\n",
    "print(sys.argv)"
   ]
  },
  {
   "cell_type": "markdown",
   "metadata": {},
   "source": [
    "* `sys.argv[0]` ist der Name des Programms\n",
    "* `sys.argv[1:]` sind die Argumente"
   ]
  },
  {
   "cell_type": "markdown",
   "metadata": {},
   "source": [
    "z.B. [argparse](https://docs.python.org/3/library/argparse.html) hilft beim Verarbeiten komplexer Argumentstrukturen"
   ]
  },
  {
   "cell_type": "markdown",
   "metadata": {},
   "source": [
    "### Standardein-, ausgabe, Standardfehler"
   ]
  },
  {
   "cell_type": "markdown",
   "metadata": {},
   "source": [
    "`ls` listet Verzeichnisinhalte, `wc -l` zählt Zeilen → zähle Dateien\n",
    "```bash\n",
    "ls > ls.txt     # Führe ls aus, schreibe die Ausgabe von ls nach ls.txt\n",
    "wc -l < ls.txt  # Führe wc -l aus, als Eingabe soll ls.txt verwendet werden\n",
    "ls | wc -l      # Führe ls aus, die Ausgabe von ls soll die Eingabe von wc -l sein.\n",
    "```"
   ]
  },
  {
   "cell_type": "markdown",
   "metadata": {},
   "source": [
    "In Python:\n",
    "\n",
    "* `sys.stdin` ist eine bereits geöffnete Datei, die die Eingabe repräsentiert.\n",
    "* `sys.stdout` ist eine bereits geöffnete Datei, die die Eingabe repräsentiert.\n",
    "* `sys.stderr` ist eine weitere bereits geöffnete Datei, die die Eingabe repräsentiert.\n",
    "\n",
    "Alle diese Dateien sind normalerweise mit der Konsole verknüpft. stdin wird an der Kommandozeile durch `< dateiname` umgeleitet, stdout durch `> dateiname`. Mit `kommando1 | kommando2` werden stdout von kommando1 mit stdin von kommando2 verbunden."
   ]
  },
  {
   "cell_type": "markdown",
   "metadata": {},
   "source": [
    "### Modulsuchpfad"
   ]
  },
  {
   "cell_type": "code",
   "execution_count": 48,
   "metadata": {
    "collapsed": false
   },
   "outputs": [
    {
     "data": {
      "text/plain": [
       "['',\n",
       " '/home/tv/git/pydelta.2015',\n",
       " '/home/tv/.virtualenvs/jupyter/lib/python35.zip',\n",
       " '/home/tv/.virtualenvs/jupyter/lib/python3.5',\n",
       " '/home/tv/.virtualenvs/jupyter/lib/python3.5/plat-x86_64-linux-gnu',\n",
       " '/home/tv/.virtualenvs/jupyter/lib/python3.5/lib-dynload',\n",
       " '/usr/lib/python3.5',\n",
       " '/usr/lib/python3.5/plat-x86_64-linux-gnu',\n",
       " '/home/tv/.virtualenvs/jupyter/lib/python3.5/site-packages',\n",
       " '/home/tv/.virtualenvs/jupyter/lib/python3.5/site-packages/IPython/extensions',\n",
       " '/home/tv/.ipython']"
      ]
     },
     "execution_count": 48,
     "metadata": {},
     "output_type": "execute_result"
    }
   ],
   "source": [
    "sys.path"
   ]
  },
  {
   "cell_type": "markdown",
   "metadata": {},
   "source": [
    "Wird beim Start von Python durch das `site`-Modul bevölkert"
   ]
  },
  {
   "cell_type": "markdown",
   "metadata": {},
   "source": [
    "### Installation von Paketen\n",
    "\n",
    "Das Kommandozeilenprogramm `pip` installiert Pakete.\n",
    "\n",
    "```bash\n",
    "pip --help\n",
    "pip install --help\n",
    "pip install --user --upgrade regex\n",
    "```\n",
    "… das letzte Kommando installiert das Paket `regex`. Falls es schon installiert ist, wird es aktualisiert (`--upgrade` bzw. `-U`). Es wird in Ihr Benutzer-Modulverzeichnis installiert."
   ]
  },
  {
   "cell_type": "markdown",
   "metadata": {},
   "source": [
    "#### Übung\n",
    "\n",
    "Installieren Sie das Paket `requests` in Ihr Benutzermodulverzeichnis. Vergleichen Sie die Ausgabe von `sys.path` vorher und nachher. Wohin wurde das Paket installiert?"
   ]
  }
 ],
 "metadata": {
  "kernelspec": {
   "display_name": "Python 3",
   "language": "python",
   "name": "python3"
  },
  "language_info": {
   "codemirror_mode": {
    "name": "ipython",
    "version": 3
   },
   "file_extension": ".py",
   "mimetype": "text/x-python",
   "name": "python",
   "nbconvert_exporter": "python",
   "pygments_lexer": "ipython3",
   "version": "3.5.1+"
  },
  "nav_menu": {},
  "toc": {
   "navigate_menu": true,
   "number_sections": false,
   "sideBar": true,
   "threshold": 6,
   "toc_cell": false,
   "toc_section_display": "block",
   "toc_window_display": false
  }
 },
 "nbformat": 4,
 "nbformat_minor": 0
}
