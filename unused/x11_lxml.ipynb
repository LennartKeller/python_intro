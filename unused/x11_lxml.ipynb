{
 "cells": [
  {
   "cell_type": "markdown",
   "metadata": {
    "slideshow": {
     "slide_type": "slide"
    }
   },
   "source": [
    "## Einführung in das Programmieren in Python\n",
    "# Externe Module\n",
    "# XML bearbeiten mit lxml"
   ]
  },
  {
   "cell_type": "markdown",
   "metadata": {
    "slideshow": {
     "slide_type": "fragment"
    }
   },
   "source": [
    "### Begriffe\n",
    "\n",
    "* **Objekt** oder **Instanz**  (z.B. `\"Hallo\"`)\n",
    "   * in Python ist _alles_ ein Objekt\n",
    "* **Attribute** oder **Eigenschaften** (oder **Felder**)\n",
    "   * Zugriff per `objekt.feld`\n",
    "   * les- und ggf. schreibbar\n",
    "* **Methoden**\n",
    "   * Funktionen, die Teil eines Objekts sind und mit dem Objekt arbeiten"
   ]
  },
  {
   "cell_type": "markdown",
   "metadata": {
    "slideshow": {
     "slide_type": "fragment"
    }
   },
   "source": [
    "### Klassen\n",
    "\n",
    "* Der _Datentyp_ eines Objekts ist seine **Klasse**\n",
    "* Klasse = »Bauplan« für die Objekte, definiert die Methoden (und Eigenschaften)"
   ]
  },
  {
   "cell_type": "code",
   "execution_count": 1,
   "metadata": {
    "collapsed": false,
    "slideshow": {
     "slide_type": "subslide"
    }
   },
   "outputs": [],
   "source": [
    "class Obst:\n",
    "    \n",
    "    def __init__(self, name, erntemonate):\n",
    "        \"\"\"\n",
    "        Erzeugt eine neue Obstsorte `name`. `erntemonate` ist eine Liste der Monate à la ['Jan', 'Feb'], \n",
    "        die die Erntezeit repräsentiert.\n",
    "        \"\"\"\n",
    "        self.name = name\n",
    "        self.erntemonate = erntemonate\n",
    "        \n",
    "    def verfuegbar(self, monat):\n",
    "        \"\"\"Ist das Obst in Monat `monat` (z.B. 'Jan') verfügbar?\"\"\"\n",
    "        return monat in self.erntemonate\n",
    "\n",
    "aprikosen = Obst(\"Aprikosen\", [\"Jul\", \"Aug\"])\n",
    "brombeeren = Obst(\"Brombeeren\", [\"Jul\",\"Aug\", \"Sep\"])\n",
    "erdbeeren = Obst(\"Erdbeeren\", [\"Mai\",\"Jun\", \"Jul\"])"
   ]
  },
  {
   "cell_type": "markdown",
   "metadata": {
    "slideshow": {
     "slide_type": "subslide"
    }
   },
   "source": [
    "### Vererbung\n",
    "\n",
    "Eine Klasse kann eine _Superklasse_ (_Oberklasse_) haben, deren Eigenschaften sie erbt."
   ]
  },
  {
   "cell_type": "code",
   "execution_count": 2,
   "metadata": {
    "collapsed": false,
    "slideshow": {
     "slide_type": "fragment"
    }
   },
   "outputs": [],
   "source": [
    "class Lagerobst(Obst):\n",
    "    def __init__(self, name, erntemonate, lagermonate):\n",
    "        super().__init__(name, erntemonate)\n",
    "        self.lagermonate = lagermonate\n",
    "        \n",
    "    def verfuegbar(self, monat):\n",
    "        return super().verfuegbar(monat) or self.gelagert()\n",
    "    \n",
    "    # eine Möglichkeit:\n",
    "    def gelagert(self, monat):\n",
    "        return monat in lagermonate"
   ]
  },
  {
   "cell_type": "markdown",
   "metadata": {
    "slideshow": {
     "slide_type": "slide"
    }
   },
   "source": [
    "### [Besondere Attribute und Methoden](https://docs.python.org/3.4/reference/datamodel.html#special-method-names)\n",
    "\n",
    "* `__doc__` = Docstring\n",
    "* `__dict__` = alle Eigenschaften eines Objekts als Dictionary"
   ]
  },
  {
   "cell_type": "markdown",
   "metadata": {
    "slideshow": {
     "slide_type": "slide"
    }
   },
   "source": [
    "#### `__repr__` und `__str__`\n",
    "\n",
    "* `__str__()` liefert die \"schöne\" Repräsentation des Objekts, verwendet in `str()`, `print()`\n",
    "* `__repr__()` liefert die \"maschinenlesbare\" Repräsentation:\n",
    "\n",
    "     * möglichst ein Python-Ausdruck zur Erzeugung\n",
    "     * oder `< nützliche Beschreibung >`"
   ]
  },
  {
   "cell_type": "markdown",
   "metadata": {
    "slideshow": {
     "slide_type": "slide"
    }
   },
   "source": [
    "### Iterables und Iteratoren"
   ]
  },
  {
   "cell_type": "markdown",
   "metadata": {
    "slideshow": {
     "slide_type": "subslide"
    }
   },
   "source": [
    "* `for`-Schleifen und dergleichen funktionieren nicht nur mit Listen\n",
    "* Oberbegriff __Iterables__\n",
    "* Protokoll:\n",
    "\n",
    "    * Iterable ist ein Objekt, dass die Methode `__iter__()` anbietet\n",
    "    * `__iter__` liefert einen __Iterator__\n",
    "    * ein __Iterator__ ist ein Objekt mit der Methode __next()__\n",
    "    * __next()__ liefet jeweils den nächsten Eintrag des Iterables\n",
    "    * am Ende der Liste: `raise StopIteration()`  "
   ]
  },
  {
   "cell_type": "code",
   "execution_count": 80,
   "metadata": {
    "collapsed": false,
    "slideshow": {
     "slide_type": "subslide"
    }
   },
   "outputs": [
    {
     "name": "stdout",
     "output_type": "stream",
     "text": [
      "<list_iterator object at 0x7f2c5c27c208>\n",
      "1 2 3\n"
     ]
    }
   ],
   "source": [
    "lst = [1, 2, 3]\n",
    "it = iter(lst)    # Kapselt lst.__iter__()\n",
    "print(it)\n",
    "print(next(it), next(it), next(it))  # next(it) kapselt it.__next__()"
   ]
  },
  {
   "cell_type": "code",
   "execution_count": 81,
   "metadata": {
    "collapsed": false,
    "slideshow": {
     "slide_type": "subslide"
    }
   },
   "outputs": [
    {
     "ename": "StopIteration",
     "evalue": "",
     "output_type": "error",
     "traceback": [
      "\u001b[0;31m---------------------------------------------------------------------------\u001b[0m\n\u001b[0;31mStopIteration\u001b[0m                             Traceback (most recent call last)",
      "\u001b[0;32m<ipython-input-81-2cdb14c0d4d6>\u001b[0m in \u001b[0;36m<module>\u001b[0;34m()\u001b[0m\n\u001b[0;32m----> 1\u001b[0;31m \u001b[0mnext\u001b[0m\u001b[0;34m(\u001b[0m\u001b[0mit\u001b[0m\u001b[0;34m)\u001b[0m\u001b[0;34m\u001b[0m\u001b[0m\n\u001b[0m",
      "\u001b[0;31mStopIteration\u001b[0m: "
     ]
    }
   ],
   "source": [
    "next(it)"
   ]
  },
  {
   "cell_type": "markdown",
   "metadata": {
    "slideshow": {
     "slide_type": "slide"
    }
   },
   "source": [
    "<h3 style=\"color:green;\">Aufgabe</h3>\n",
    "\n",
    "Ergänzen Sie `Text` so, dass Sie bei einer Benutzung in einer for-Schleife über die Wörter iterieren."
   ]
  },
  {
   "cell_type": "code",
   "execution_count": null,
   "metadata": {
    "collapsed": false,
    "slideshow": {
     "slide_type": "-"
    }
   },
   "outputs": [],
   "source": [
    "class Text:\n",
    "    def __init__(self, text):\n",
    "        self.text = text\n",
    "    def length(self):\n",
    "        return len(self.text)\n",
    "    def words(self):\n",
    "        return self.text.split()"
   ]
  },
  {
   "cell_type": "code",
   "execution_count": 84,
   "metadata": {
    "collapsed": false,
    "slideshow": {
     "slide_type": "subslide"
    }
   },
   "outputs": [
    {
     "name": "stdout",
     "output_type": "stream",
     "text": [
      "Hallo\n",
      "sonnige\n",
      "Welt\n"
     ]
    }
   ],
   "source": [
    "class Text:\n",
    "    def __init__(self, text):\n",
    "        self.text = text\n",
    "    def length(self):\n",
    "        return len(self.text)\n",
    "    def words(self):\n",
    "        return self.text.split()\n",
    "    def __iter__(self):\n",
    "        return iter(self.words())\n",
    "    \n",
    "for w in Text(\"Hallo sonnige Welt\"):\n",
    "    print(w)"
   ]
  },
  {
   "cell_type": "code",
   "execution_count": 88,
   "metadata": {
    "collapsed": false,
    "slideshow": {
     "slide_type": "subslide"
    }
   },
   "outputs": [
    {
     "name": "stdout",
     "output_type": "stream",
     "text": [
      "Hallo\n",
      "sonnige\n",
      "Welt\n"
     ]
    }
   ],
   "source": [
    "class Text:\n",
    "    def __init__(self, text):\n",
    "        self.text = text\n",
    "    def length(self):\n",
    "        return len(self.text)\n",
    "    def words(self):\n",
    "        return self.text.split()\n",
    "    def __iter__(self):\n",
    "        class TextIterator:\n",
    "            def __init__(self, text):\n",
    "                self.wordlist = text.words()\n",
    "                self.pos = -1\n",
    "            def __next__(self):\n",
    "                self.pos += 1\n",
    "                if self.pos >= len(self.wordlist):\n",
    "                    raise StopIteration()\n",
    "                else:\n",
    "                    return self.wordlist[self.pos]\n",
    "        return TextIterator(self)\n",
    "                \n",
    "for w in Text(\"Hallo sonnige Welt\"):\n",
    "    print(w)"
   ]
  },
  {
   "cell_type": "markdown",
   "metadata": {
    "slideshow": {
     "slide_type": "slide"
    }
   },
   "source": [
    "### Generatoren / Generator-Funktionen\n",
    "\n",
    "* Funktionen / Methoden, die das Schlüsselwort `yield` enthalten\n",
    "* die Funktion liefert einen _Generator_, ein Iterable"
   ]
  },
  {
   "cell_type": "code",
   "execution_count": 99,
   "metadata": {
    "collapsed": false,
    "slideshow": {
     "slide_type": "fragment"
    }
   },
   "outputs": [
    {
     "name": "stdout",
     "output_type": "stream",
     "text": [
      "Die Funktion lieferte einen Generator: <generator object my_range at 0x7f2c5c28c828>\n",
      "Gleich geht's los:\n",
      "Jetzt kommt 0\n",
      "Jetzt ist 0 angekommen\n",
      "Erhöhe auf 1\n",
      "Jetzt kommt 1\n",
      "Jetzt ist 1 angekommen\n",
      "Erhöhe auf 2\n",
      "Jetzt kommt 2\n",
      "Jetzt ist 2 angekommen\n",
      "Erhöhe auf 3\n"
     ]
    }
   ],
   "source": [
    "def my_range(stop):\n",
    "    i = 0\n",
    "    print(\"Gleich geht's los:\")\n",
    "    while i < stop:\n",
    "        print(\"Jetzt kommt\", i)\n",
    "        yield i\n",
    "        i += 1\n",
    "        print(\"Erhöhe auf\", i)\n",
    "        \n",
    "gen = my_range(3)\n",
    "print(\"Die Funktion lieferte einen Generator:\", gen)\n",
    "\n",
    "for number in gen:\n",
    "    print(\"Jetzt ist\", number, \"angekommen\")"
   ]
  },
  {
   "cell_type": "markdown",
   "metadata": {
    "slideshow": {
     "slide_type": "slide"
    }
   },
   "source": [
    "### `yield` macht iterieren einfach\n",
    "\n",
    "Schreiben Sie `Text.__iter__()` als Generator-Funktion (mit `yield Eintrag`)."
   ]
  },
  {
   "cell_type": "code",
   "execution_count": 104,
   "metadata": {
    "collapsed": false,
    "slideshow": {
     "slide_type": "subslide"
    }
   },
   "outputs": [],
   "source": [
    "class Text:\n",
    "    def __init__(self, text):\n",
    "        self.text = text\n",
    "    def length(self):\n",
    "        return len(self.text)\n",
    "    def words(self):\n",
    "        return self.text.split()\n",
    "    def __iter__(self):\n",
    "        for word in self.words():\n",
    "            yield word        "
   ]
  },
  {
   "cell_type": "markdown",
   "metadata": {
    "slideshow": {
     "slide_type": "slide"
    }
   },
   "source": [
    "# Externe Module"
   ]
  },
  {
   "cell_type": "markdown",
   "metadata": {
    "slideshow": {
     "slide_type": "-"
    }
   },
   "source": [
    "* Der [Python Package Index](http://pypi.python.org/) ist das zentrale Verzeichnis der meisten Module\n",
    "* z.B. Requests <https://pypi.python.org/pypi/requests/>\n",
    "* Installation mit `pip` (das manchmal auch `pip3` heißt für Python 3)"
   ]
  },
  {
   "cell_type": "markdown",
   "metadata": {
    "slideshow": {
     "slide_type": "fragment"
    }
   },
   "source": [
    "```bash\n",
    "pip install --help | more\n",
    "pip search <something>\n",
    "pip install <paketname>\n",
    "\n",
    "pip install requests\n",
    "```"
   ]
  },
  {
   "cell_type": "code",
   "execution_count": 5,
   "metadata": {
    "collapsed": false,
    "slideshow": {
     "slide_type": "subslide"
    }
   },
   "outputs": [],
   "source": [
    "import requests\n",
    "r = requests.get('http://www.textgridrep.de/')"
   ]
  },
  {
   "cell_type": "code",
   "execution_count": 6,
   "metadata": {
    "collapsed": false,
    "slideshow": {
     "slide_type": "-"
    }
   },
   "outputs": [
    {
     "data": {
      "text/plain": [
       "{'Date': 'Wed, 21 Jan 2015 08:39:48 GMT', 'Content-Encoding': 'gzip', 'Content-Type': 'text/html', 'Last-Modified': 'Fri, 31 Jan 2014 10:34:10 GMT', 'Connection': 'keep-alive', 'Server': 'nginx/1.2.1', 'Transfer-Encoding': 'chunked'}"
      ]
     },
     "execution_count": 6,
     "metadata": {},
     "output_type": "execute_result"
    }
   ],
   "source": [
    "r.headers"
   ]
  },
  {
   "cell_type": "markdown",
   "metadata": {
    "slideshow": {
     "slide_type": "subslide"
    }
   },
   "source": [
    "```bash\n",
    "pip freeze > requirements.txt\n",
    "pip -r requirements.txt\n",
    "```"
   ]
  },
  {
   "cell_type": "markdown",
   "metadata": {
    "slideshow": {
     "slide_type": "slide"
    }
   },
   "source": [
    "## Beispiel für externe Module: `lxml`\n",
    "\n",
    "* <http://lxml.de/>\n",
    "* \"pythonic\" libxml/libxslt-Binding\n",
    "* effiziente und beliebte Lösung zum Parsen (und Serialisieren) XML und HTML\n",
    "\n",
    "```bash\n",
    "pip3 install lxml     # oder, wenn pip nicht pip3 heißt,\n",
    "pip install lxml\n",
    "```"
   ]
  },
  {
   "cell_type": "code",
   "execution_count": 23,
   "metadata": {
    "collapsed": true,
    "slideshow": {
     "slide_type": "fragment"
    }
   },
   "outputs": [
    {
     "name": "stdout",
     "output_type": "stream",
     "text": [
      "<root>\n",
      "  <child interesting=\"totally\"/>\n",
      "  <other-child/>\n",
      "</root>\n",
      "\n"
     ]
    }
   ],
   "source": [
    "from lxml import etree\n",
    "root = etree.Element(\"root\")\n",
    "root.append(etree.Element(\"child\", interesting=\"totally\"))\n",
    "root.append(etree.Element(\"other-child\"))\n",
    "print(etree.tostring(root, pretty_print=True, encoding=\"unicode\"))"
   ]
  },
  {
   "cell_type": "code",
   "execution_count": 24,
   "metadata": {
    "collapsed": false,
    "slideshow": {
     "slide_type": "subslide"
    }
   },
   "outputs": [
    {
     "name": "stdout",
     "output_type": "stream",
     "text": [
      "<root>\n",
      "  <child interesting=\"totally\"/>\n",
      "  <other-child/>\n",
      "  <child n=\"3\"/>\n",
      "</root>\n",
      "\n"
     ]
    }
   ],
   "source": [
    "# Abkürzung für Subelemente\n",
    "child3 = etree.SubElement(root, \"child\", n=\"3\")\n",
    "print(etree.tostring(root, pretty_print=True, encoding=\"unicode\"))"
   ]
  },
  {
   "cell_type": "code",
   "execution_count": 28,
   "metadata": {
    "collapsed": false,
    "slideshow": {
     "slide_type": "fragment"
    }
   },
   "outputs": [
    {
     "name": "stdout",
     "output_type": "stream",
     "text": [
      "<root><child interesting=\"totally\"/><other-child/><child n=\"3\">Ich bin ein Textinhalt</child>... und dies kommt nach dem dritten Kind.</root>\n",
      "\n"
     ]
    }
   ],
   "source": [
    "child3.text = \"Ich bin ein Textinhalt\"\n",
    "child3.tail = \"... und dies kommt nach dem dritten Kind.\"\n",
    "print(etree.tostring(root, pretty_print=True, encoding=\"unicode\"))"
   ]
  },
  {
   "cell_type": "markdown",
   "metadata": {
    "slideshow": {
     "slide_type": "subslide"
    }
   },
   "source": [
    "#### Elemente sind Sequenzen"
   ]
  },
  {
   "cell_type": "code",
   "execution_count": 30,
   "metadata": {
    "collapsed": false,
    "slideshow": {
     "slide_type": "-"
    }
   },
   "outputs": [
    {
     "name": "stdout",
     "output_type": "stream",
     "text": [
      "child\n",
      "other-child\n",
      "child\n"
     ]
    }
   ],
   "source": [
    "for child in root:\n",
    "    print(child.tag)"
   ]
  },
  {
   "cell_type": "code",
   "execution_count": 43,
   "metadata": {
    "collapsed": false,
    "slideshow": {
     "slide_type": "fragment"
    }
   },
   "outputs": [
    {
     "name": "stdout",
     "output_type": "stream",
     "text": [
      "root \tElternknoten:  None\n",
      "child \tElternknoten:  <Element root at 0x7fd9680ca2c8>\n",
      "other-child \tElternknoten:  <Element root at 0x7fd9680ca2c8>\n",
      "child \tElternknoten:  <Element root at 0x7fd9680ca2c8>\n"
     ]
    }
   ],
   "source": [
    "# Iterieren über den ganzen baum:\n",
    "for elem in root.iter():\n",
    "    print(elem.tag, \"\\tElternknoten: \", elem.getparent())"
   ]
  },
  {
   "cell_type": "markdown",
   "metadata": {
    "slideshow": {
     "slide_type": "subslide"
    }
   },
   "source": [
    "#### Attribute sind Dictionaries"
   ]
  },
  {
   "cell_type": "code",
   "execution_count": 37,
   "metadata": {
    "collapsed": false,
    "slideshow": {
     "slide_type": "-"
    }
   },
   "outputs": [
    {
     "data": {
      "text/plain": [
       "{'n': '3'}"
      ]
     },
     "execution_count": 37,
     "metadata": {},
     "output_type": "execute_result"
    }
   ],
   "source": [
    "child3.attrib"
   ]
  },
  {
   "cell_type": "markdown",
   "metadata": {
    "slideshow": {
     "slide_type": "slide"
    }
   },
   "source": [
    "### XML parsen\n",
    "\n",
    "\n",
    "* aus Strings: `etree.fromstring(), etree.XML()`\n",
    "* aus Dateien: `etree.parse()`"
   ]
  },
  {
   "cell_type": "code",
   "execution_count": 59,
   "metadata": {
    "collapsed": false,
    "slideshow": {
     "slide_type": "subslide"
    }
   },
   "outputs": [
    {
     "data": {
      "text/plain": [
       "<Element root at 0x7fd9680e6ac8>"
      ]
     },
     "execution_count": 59,
     "metadata": {},
     "output_type": "execute_result"
    }
   ],
   "source": [
    "elem = etree.XML(\"<root foo='bar'><child/><child>Text!</child></root>\")\n",
    "elem"
   ]
  },
  {
   "cell_type": "code",
   "execution_count": 47,
   "metadata": {
    "collapsed": false,
    "slideshow": {
     "slide_type": "subslide"
    }
   },
   "outputs": [
    {
     "data": {
      "text/plain": [
       "<lxml.etree._ElementTree at 0x7fd9680e1248>"
      ]
     },
     "execution_count": 47,
     "metadata": {},
     "output_type": "execute_result"
    }
   ],
   "source": [
    "doc = etree.parse('gernhardt.xml')\n",
    "doc"
   ]
  },
  {
   "cell_type": "code",
   "execution_count": 55,
   "metadata": {
    "collapsed": false,
    "slideshow": {
     "slide_type": "subslide"
    }
   },
   "outputs": [
    {
     "name": "stdout",
     "output_type": "stream",
     "text": [
      "<?xml-model href=\"poem.rnc\" type=\"application/relax-ng-compact-syntax\"?><doc type=\"poem\">\n",
      "    <author>Robert Gernhardt</author>\n",
      "    <title>Trost und Rat</title>\n",
      "    <lg>\n",
      "        <l>Ja wer wird denn gleich verzweifeln,</l>\n",
      "        <l>weil er klein und laut und dumm ist?</l>\n",
      "        <l>Jedes Leben endet. Leb so,</l>\n",
      "        <l>daß du, wenn dein Leben um ist</l>\n",
      "    </lg>\n",
      "    <!-- Noch ne Strophe: -->\n",
      "    <lg>\n",
      "        <l>von dir sagen kannst: Na wenn schon!</l>\n",
      "        <l>Ist mein Leben jetzt auch um, </l>\n",
      "        <l>habe ich doch was geleistet:</l>\n",
      "        <l>ich war klein <hi rend=\"spaced\">und</hi> laut <hi rend=\"spaced\">und</hi> dumm</l>\n",
      "    </lg>\n",
      "</doc>\n"
     ]
    }
   ],
   "source": [
    "print(etree.tostring(doc, encoding=\"unicode\"))"
   ]
  },
  {
   "cell_type": "markdown",
   "metadata": {
    "slideshow": {
     "slide_type": "slide"
    }
   },
   "source": [
    "### ElementTree\n",
    "\n",
    "* `ElementTree` repräsentiert ein ganzes XML-Dokument\n",
    "* z.B. Kommentare, Processing Instructions vor dem Rootelement; DTD-Info\n",
    "* Convenience-Funktionen: write, relaxng, ..."
   ]
  },
  {
   "cell_type": "code",
   "execution_count": 64,
   "metadata": {
    "collapsed": false,
    "slideshow": {
     "slide_type": "subslide"
    }
   },
   "outputs": [],
   "source": [
    "et = etree.ElementTree(root)\n",
    "et.write('et.xml')"
   ]
  },
  {
   "cell_type": "markdown",
   "metadata": {
    "slideshow": {
     "slide_type": "subslide"
    }
   },
   "source": [
    "### XPath\n",
    "\n",
    "lxml unterstützt XPath (1.0):"
   ]
  },
  {
   "cell_type": "code",
   "execution_count": 69,
   "metadata": {
    "collapsed": false,
    "slideshow": {
     "slide_type": "subslide"
    }
   },
   "outputs": [
    {
     "data": {
      "text/plain": [
       "[<Element l at 0x7fd968774a88>,\n",
       " <Element l at 0x7fd9680f1dc8>,\n",
       " <Element l at 0x7fd9680f1f08>,\n",
       " <Element l at 0x7fd9680f1f48>,\n",
       " <Element l at 0x7fd9680f1d48>,\n",
       " <Element l at 0x7fd968169988>,\n",
       " <Element l at 0x7fd9681690c8>,\n",
       " <Element l at 0x7fd9681699c8>]"
      ]
     },
     "execution_count": 69,
     "metadata": {},
     "output_type": "execute_result"
    }
   ],
   "source": [
    "doc.xpath(\"//l\")"
   ]
  },
  {
   "cell_type": "code",
   "execution_count": 76,
   "metadata": {
    "collapsed": false,
    "slideshow": {
     "slide_type": "subslide"
    }
   },
   "outputs": [
    {
     "data": {
      "text/plain": [
       "['Ja wer wird denn gleich verzweifeln,',\n",
       " 'weil er klein und laut und dumm ist?',\n",
       " 'Jedes Leben endet. Leb so,',\n",
       " 'daß du, wenn dein Leben um ist',\n",
       " 'von dir sagen kannst: Na wenn schon!',\n",
       " 'Ist mein Leben jetzt auch um, ',\n",
       " 'habe ich doch was geleistet:',\n",
       " 'ich war klein ',\n",
       " ' laut ',\n",
       " ' dumm']"
      ]
     },
     "execution_count": 76,
     "metadata": {},
     "output_type": "execute_result"
    }
   ],
   "source": [
    "doc.xpath(\"//l/text()\")"
   ]
  },
  {
   "cell_type": "code",
   "execution_count": 75,
   "metadata": {
    "collapsed": false,
    "slideshow": {
     "slide_type": "subslide"
    }
   },
   "outputs": [
    {
     "name": "stdout",
     "output_type": "stream",
     "text": [
      "Ja wer wird denn gleich verzweifeln,\n",
      "weil er klein und laut und dumm ist?\n",
      "Jedes Leben endet. Leb so,\n",
      "daß du, wenn dein Leben um ist\n",
      "von dir sagen kannst: Na wenn schon!\n",
      "Ist mein Leben jetzt auch um, \n",
      "habe ich doch was geleistet:\n",
      "ich war klein und laut und dumm\n"
     ]
    }
   ],
   "source": [
    "for elem in doc.xpath(\"//l\"):\n",
    "    print(\"\".join(elem.xpath('descendant::text()')))"
   ]
  },
  {
   "cell_type": "markdown",
   "metadata": {
    "slideshow": {
     "slide_type": "-"
    }
   },
   "source": [
    "### LXML kann noch viel mehr:\n",
    "\n",
    "* validieren mit Relax NG\n",
    "* transformieren mit XSLT (1.0)\n",
    "* Canonical XML (C14n)\n",
    "* Objekt-Binding: XML-Dokument in Python-Objektstruktur verwandeln\n",
    "* HTML parsen, auch realweltlich\n",
    "* <http://lxml.de/>"
   ]
  },
  {
   "cell_type": "code",
   "execution_count": null,
   "metadata": {
    "collapsed": false
   },
   "outputs": [],
   "source": []
  }
 ],
 "metadata": {
  "celltoolbar": "Slideshow",
  "kernelspec": {
   "display_name": "Python 3",
   "language": "python",
   "name": "python3"
  },
  "language_info": {
   "codemirror_mode": {
    "name": "ipython",
    "version": 3
   },
   "file_extension": ".py",
   "mimetype": "text/x-python",
   "name": "python",
   "nbconvert_exporter": "python",
   "pygments_lexer": "ipython3",
   "version": "3.5.1+"
  },
  "nav_menu": {},
  "toc": {
   "navigate_menu": true,
   "number_sections": false,
   "sideBar": true,
   "threshold": 6,
   "toc_cell": false,
   "toc_section_display": "block",
   "toc_window_display": false
  }
 },
 "nbformat": 4,
 "nbformat_minor": 0
}
