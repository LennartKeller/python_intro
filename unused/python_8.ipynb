{
 "cells": [
  {
   "cell_type": "markdown",
   "metadata": {
    "slideshow": {
     "slide_type": "slide"
    }
   },
   "source": [
    "# 8. Sitzung: Datenstrukturen"
   ]
  },
  {
   "cell_type": "markdown",
   "metadata": {
    "slideshow": {
     "slide_type": "slide"
    }
   },
   "source": [
    "<h3>Hausaufgaben</h3>\n",
    "<ul><li>Schreiben Sie eine Funktion, die sämtliches Markup in einer XML-Datei entfernt. Verwenden Sie eine XML-Datei von TextgridRep als Beispiel.</li>\n"
   ]
  },
  {
   "cell_type": "code",
   "execution_count": 39,
   "metadata": {
    "collapsed": false,
    "slideshow": {
     "slide_type": "fragment"
    }
   },
   "outputs": [
    {
     "name": "stdout",
     "output_type": "stream",
     "text": [
      "xml\\Aston,-Louise__Aus dem Leben einer Frau.xml\n"
     ]
    }
   ],
   "source": [
    "import glob\n",
    "import os\n",
    "import re\n",
    "\n",
    "def remove_xml(content):\n",
    "    return re.sub(\"<.+?>\", \"\", content)\n",
    "\n",
    "for file in glob.glob(\"xml\" + os.sep + \"*.xml\"):\n",
    "    print (file)\n",
    "    with open (file, \"r\", encoding=\"utf-8\") as fin:\n",
    "        with open (file[:-3]+\"txt\", \"w\", encoding=\"utf-8\") as fout:\n",
    "            content = fin.read(None)\n",
    "            fout.write(remove_xml(content))"
   ]
  },
  {
   "cell_type": "markdown",
   "metadata": {
    "slideshow": {
     "slide_type": "slide"
    }
   },
   "source": [
    "<li>Schreiben Sie einen Tokenisierer, der Sätze in eine Liste der Wörter zerlegt (ohne Satzzeichen wie .#() usw.). Wenden Sie ihn auf die Datei an, die sie gerade vom Markup befreit haben. BONUS-Aufgabe: Erstellen Sie eine Häufigkeitswortliste.</li>\n"
   ]
  },
  {
   "cell_type": "code",
   "execution_count": 4,
   "metadata": {
    "collapsed": false,
    "slideshow": {
     "slide_type": "fragment"
    }
   },
   "outputs": [],
   "source": [
    "import glob\n",
    "import os\n",
    "import re\n",
    "\n",
    "def tokenizer (line):\n",
    "    \"\"\"\n",
    "    splits a line into tokens\n",
    "    \"\"\"\n",
    "    return re.findall(\"\\w+\", line)\n",
    "\n",
    "def count_words(wordlist, line_list):\n",
    "    \"\"\"\n",
    "    counts the words in line_list and adds the result to dict wordlist\n",
    "    \"\"\"\n",
    "    for word in line_list:\n",
    "        if word in wordlist:\n",
    "            wordlist[word] += 1\n",
    "        else:\n",
    "            wordlist[word] = 1\n",
    "    return wordlist\n",
    "\n",
    "def write_freq_list(filename, wordlist):\n",
    "    with open (filename, \"w\", encoding=\"utf-8\") as fout:\n",
    "        fout.write (\"words\" + \"\\t\" + \"frequency\" + \"\\n\")\n",
    "        for w in sorted(wordlist, key=wordlist.get, reverse=True):\n",
    "            fout.write (w + \"\\t\" + str(wordlist[w])+\"\\n\")     \n",
    "        \n",
    "for file in glob.glob(\"xml\" + os.sep + \"*.txt\"):\n",
    "    with open (file, \"r\", encoding=\"utf-8\") as fin:\n",
    "        wordlist = {}\n",
    "        for line in fin:\n",
    "            wordlist.update(count_words(wordlist, tokenizer(line)))\n",
    "    write_freq_list(file[:-3]+\"wlist\", wordlist)"
   ]
  },
  {
   "cell_type": "markdown",
   "metadata": {
    "slideshow": {
     "slide_type": "slide"
    }
   },
   "source": [
    "<li>Schreiben Sie eine Funktion, die die Länge aller Wörter eines Textes zählt. Aufruf und Ausgabe sollten so aussehen (Zahlen anstelle von n,m usw.):<br/>\n",
    "<code>wordlengths(\"faust.txt\")\n",
    "the text has: <br/>\n",
    "words with 2 chars: n<br/>\n",
    "words with 3 chars: m<br/>\n",
    "...</code>"
   ]
  },
  {
   "cell_type": "markdown",
   "metadata": {
    "slideshow": {
     "slide_type": "slide"
    }
   },
   "source": [
    "<h3>Datenstrukturen im Überblick</h3>\n",
    "<ul>\n",
    "<li>Sequence  (geordnete Folge)</li>\n",
    "<ul>\n",
    "<li>String (enthält Folge von Unicode-Zeichen) <b>nicht</b> veränderbar</li>\n",
    "<li>List (enthält Elemente des gleichen Datentyps; beliebige Länge) veränderbar</li>\n",
    "<li>Tuple (enthält Elemente unterschiedlichen Datentyps; gleiche Länge) <b>nicht</b> veränderbar</li>\n",
    "<li>namedtuple (Tuple, dessen Felder Namen haben) <b>nicht</b> veränderbar</li>\n",
    "<li>Range (Folge von Zahlen) <b>nicht</b> veränderbar</li>\n",
    "<li>deque (double-ended queue) veränderbar</li>\n",
    "</ul>\n",
    "<li>Maps (ungeordnete Zuordnungen)</li>\n",
    "<ul>\n",
    "<li>Dictionary (enthält key-value Paare)</li>\n",
    "<li>Counter</li>\n",
    "<li>OrderedDict</li>\n",
    "</ul>\n",
    "<li>Set (Gruppe von Elementen ohne Duplikate)</li>\n",
    "<ul>\n",
    "<li>Set (enthält ungeordnet Elemente ohne Duplikate; veränderbar)</li>\n",
    "<li>Frozenset (wie Set, nur unveränderlich)</li>\n",
    "</ul>\n",
    "</ul>"
   ]
  },
  {
   "cell_type": "markdown",
   "metadata": {
    "slideshow": {
     "slide_type": "slide"
    }
   },
   "source": [
    "<h3>Wiederholung: String, List, Range</h3>"
   ]
  },
  {
   "cell_type": "code",
   "execution_count": 13,
   "metadata": {
    "collapsed": false,
    "slideshow": {
     "slide_type": "fragment"
    }
   },
   "outputs": [
    {
     "data": {
      "text/plain": [
       "'2'"
      ]
     },
     "execution_count": 13,
     "metadata": {},
     "output_type": "execute_result"
    }
   ],
   "source": [
    "#String\n",
    "a = \"hallo welt\"\n",
    "b = str(2)\n",
    "b"
   ]
  },
  {
   "cell_type": "code",
   "execution_count": 14,
   "metadata": {
    "collapsed": false,
    "slideshow": {
     "slide_type": "fragment"
    }
   },
   "outputs": [
    {
     "data": {
      "text/plain": [
       "['h', 'a', 'l', 'l', 'o']"
      ]
     },
     "execution_count": 14,
     "metadata": {},
     "output_type": "execute_result"
    }
   ],
   "source": [
    "#List\n",
    "a = [1, 5, 2, 84, 23]\n",
    "b = list(\"hallo\")\n",
    "b"
   ]
  },
  {
   "cell_type": "code",
   "execution_count": 20,
   "metadata": {
    "collapsed": false,
    "slideshow": {
     "slide_type": "fragment"
    }
   },
   "outputs": [
    {
     "name": "stdout",
     "output_type": "stream",
     "text": [
      "range(1, 5)\n",
      "<class 'range'>\n",
      "[1, 2, 3, 4]\n",
      "1-2-3-4-"
     ]
    }
   ],
   "source": [
    "#Range\n",
    "a = range(1,5)\n",
    "print (a)\n",
    "print (type(a))\n",
    "print (list(a))\n",
    "for x in a:\n",
    "    print (x, end=\"-\")"
   ]
  },
  {
   "cell_type": "markdown",
   "metadata": {
    "slideshow": {
     "slide_type": "slide"
    }
   },
   "source": [
    "<h3>Tuple: unveränderliche Listen</h3>\n",
    "<p>Tuple sind unveränderliche Listen. Sie können auch verschiedene Datentypen enthalten.</p>\n",
    "<p>Sie werden so erzeugt / gecastet: tuple (iterable)"
   ]
  },
  {
   "cell_type": "code",
   "execution_count": 26,
   "metadata": {
    "collapsed": false,
    "slideshow": {
     "slide_type": "fragment"
    }
   },
   "outputs": [
    {
     "data": {
      "text/plain": [
       "2"
      ]
     },
     "execution_count": 26,
     "metadata": {},
     "output_type": "execute_result"
    }
   ],
   "source": [
    "a = tuple ([2, 4, 6])\n",
    "a[0]"
   ]
  },
  {
   "cell_type": "code",
   "execution_count": 27,
   "metadata": {
    "collapsed": false,
    "slideshow": {
     "slide_type": "fragment"
    }
   },
   "outputs": [
    {
     "name": "stdout",
     "output_type": "stream",
     "text": [
      "TypeError: 'tuple' object does not support item assignment\n"
     ]
    }
   ],
   "source": [
    "#tuples sind unveränderbar\n",
    "try:\n",
    "    a[0] = 1    \n",
    "except TypeError:\n",
    "    print (\"TypeError: 'tuple' object does not support item assignment\")"
   ]
  },
  {
   "cell_type": "code",
   "execution_count": 30,
   "metadata": {
    "collapsed": false,
    "slideshow": {
     "slide_type": "slide"
    }
   },
   "outputs": [
    {
     "data": {
      "text/plain": [
       "('hallo', 5, 2)"
      ]
     },
     "execution_count": 30,
     "metadata": {},
     "output_type": "execute_result"
    }
   ],
   "source": [
    "#sie werden auch oft verwendet, um unterschiedliche \n",
    "#Datentypen in einer Struktur aufzubewahren (wie in einer Tabellenreihe)\n",
    "a = (\"hallo\", 5, 2)\n",
    "a"
   ]
  },
  {
   "cell_type": "code",
   "execution_count": 34,
   "metadata": {
    "collapsed": false,
    "slideshow": {
     "slide_type": "fragment"
    }
   },
   "outputs": [
    {
     "data": {
      "text/plain": [
       "(2,)"
      ]
     },
     "execution_count": 34,
     "metadata": {},
     "output_type": "execute_result"
    }
   ],
   "source": [
    "#Achtung: Nicht die Klammer definiert das Tuple. Def. eines Tuples mit einem Feld:\n",
    "a = (2,)\n",
    "a = 2,\n",
    "a"
   ]
  },
  {
   "cell_type": "markdown",
   "metadata": {
    "slideshow": {
     "slide_type": "slide"
    }
   },
   "source": [
    "<h3>namedtuple für Datenbank-ähnliche Reihen</h3>"
   ]
  },
  {
   "cell_type": "markdown",
   "metadata": {
    "slideshow": {
     "slide_type": "fragment"
    }
   },
   "source": [
    "<p>Instanziierung von namedtuples: namedtuple(\"Name\", \"Feldnamen\")<br/>\n",
    "Die Feldnamen sind ein String, wobei die einzelnen Namen durch Leerzeichen oder Kommata getrennt sind. \n",
    "<p>Wird besonders zum Einlesen von Datenbank-Dateien, z.B. im csv-Format, verwendet oder um Ergebnisse von Datenbankabfragen zu managen."
   ]
  },
  {
   "cell_type": "code",
   "execution_count": 55,
   "metadata": {
    "collapsed": false,
    "slideshow": {
     "slide_type": "fragment"
    }
   },
   "outputs": [
    {
     "name": "stdout",
     "output_type": "stream",
     "text": [
      "Name(first='Friedrich', surname='Schiller')\n"
     ]
    }
   ],
   "source": [
    "from  collections import namedtuple\n",
    "Name = namedtuple('Name', \"first surname \")   #erzeugt eine Datenstruktur, die immer \n",
    "                                              #aus zwei Felder mit festgelegten Namen besteht\n",
    "n = Name(\"Friedrich\", \"Schiller\")   #kann man nun ohne Namen verwenden\n",
    "m = Name(first=\"Thomas\", surname=\"Mann\")   #oder mit\n",
    "print (n)"
   ]
  },
  {
   "cell_type": "code",
   "execution_count": null,
   "metadata": {
    "collapsed": false,
    "slideshow": {
     "slide_type": "fragment"
    }
   },
   "outputs": [],
   "source": [
    "#Nun kann man die Felder mit den Namen verwenden:"
   ]
  },
  {
   "cell_type": "code",
   "execution_count": 56,
   "metadata": {
    "collapsed": false,
    "slideshow": {
     "slide_type": "fragment"
    }
   },
   "outputs": [
    {
     "name": "stdout",
     "output_type": "stream",
     "text": [
      "Thomas\n"
     ]
    }
   ],
   "source": [
    "print(m.first)"
   ]
  },
  {
   "cell_type": "code",
   "execution_count": 58,
   "metadata": {
    "collapsed": false,
    "slideshow": {
     "slide_type": "fragment"
    }
   },
   "outputs": [
    {
     "data": {
      "text/plain": [
       "'Thomas'"
      ]
     },
     "execution_count": 58,
     "metadata": {},
     "output_type": "execute_result"
    }
   ],
   "source": [
    "m[0]  #aber es funktionieren auch die typischen Sequence-Funktionedn"
   ]
  },
  {
   "cell_type": "markdown",
   "metadata": {
    "slideshow": {
     "slide_type": "slide"
    }
   },
   "source": [
    "<h3>Aufgabe</h3>\n",
    "<ul>\n",
    "<li>Definieren Sie ein namedtuple zum Speichern von 2-dimensionalen Punktkoordinaten mit den Feldnamen x und y. Speichern Sie unter Verwendung der Namen 2 Koordinaten ab und drucken Sie dann aus.</li>\n",
    "</ul>"
   ]
  },
  {
   "cell_type": "markdown",
   "metadata": {
    "slideshow": {
     "slide_type": "slide"
    }
   },
   "source": [
    "<h3>deque</h3>\n",
    "<p>Ein deque (kurz für: double-ended queue) ist eine Datenstruktur, die zwei typische Datenstrukturen in einem Format vereint: \n",
    "Stacks (Stapel) und queues (Reihe).<br/>\n",
    "Einen Stapel kann man sich vorstellen wie einen Stapel von Karten. Ich lege eine Karte nach der anderen auf den Stapel. Wenn ich nun Karten herunternehme, dann nehme ich zuerst die Karte in die Hand, die ich als letzte abgelegt habe. Ganz zum Schluß erhalte ich die Karte, die ich als erstes abgelegt habe. Verallgemeinert kann man sagen: diese Datenstruktur funktioniert nach dem Prinzip: FILO (first in - last out). Wenn Sie etwa die Tags in einem XML-Baum parsen, würden Sie einen Stack verwenden, um die Tags abzulegen.</p>\n",
    "<p>Eine queue funktioniert dagegen nach dem Prinzip FIFO: First in first out. Man kann sich das wie eine Warteschlange an einer Bushaltestelle vorstellen. Wer sich zuerst angestellt hat, darf zuerst einsteigen (In England - in Deutschland beginnt der Kampf um den Platz, wenn der Bus kommt...) Wenn Sie zb Daten aus dem Netz laden und sie zwischenspeichern, bevor sie sie weiterverarbeiten, da die Verarbeitung länger dauert, dann wäre eine queue geeignet.</p>"
   ]
  },
  {
   "cell_type": "code",
   "execution_count": 41,
   "metadata": {
    "collapsed": false,
    "slideshow": {
     "slide_type": "fragment"
    }
   },
   "outputs": [
    {
     "name": "stdout",
     "output_type": "stream",
     "text": [
      "deque(['TEI', 'teiHeader', 'p'])\n",
      "deque(['TEI', 'teiHeader'])\n"
     ]
    }
   ],
   "source": [
    "from collections import deque\n",
    "#deque als stack verwenden\n",
    "stack = deque()\n",
    "#auf den stapel ablegen\n",
    "stack.append(\"TEI\")\n",
    "stack.append(\"teiHeader\")\n",
    "stack.append(\"p\")\n",
    "print (stack)\n",
    "#vom stapel nehmen\n",
    "stack.pop()\n",
    "print(stack)\n"
   ]
  },
  {
   "cell_type": "code",
   "execution_count": 43,
   "metadata": {
    "collapsed": false,
    "slideshow": {
     "slide_type": "slide"
    }
   },
   "outputs": [
    {
     "name": "stdout",
     "output_type": "stream",
     "text": [
      "deque(['todo 1', 'todo 2'])\n",
      "deque(['todo 2'])\n"
     ]
    }
   ],
   "source": [
    "#deque als queue verwenden\n",
    "queue = deque()\n",
    "queue.append(\"todo 1\")\n",
    "queue.append(\"todo 2\")\n",
    "print(queue)\n",
    "queue.popleft()\n",
    "print(queue)"
   ]
  },
  {
   "cell_type": "code",
   "execution_count": 44,
   "metadata": {
    "collapsed": false,
    "slideshow": {
     "slide_type": "fragment"
    }
   },
   "outputs": [
    {
     "name": "stdout",
     "output_type": "stream",
     "text": [
      "TEI\n",
      "teiHeader\n"
     ]
    }
   ],
   "source": [
    "#auch hier funktioniert das typische Arbeiten, das wir von Listen kennen\n",
    "for i in stack:\n",
    "    print(i)"
   ]
  },
  {
   "cell_type": "code",
   "execution_count": 45,
   "metadata": {
    "collapsed": false,
    "slideshow": {
     "slide_type": "fragment"
    }
   },
   "outputs": [
    {
     "name": "stdout",
     "output_type": "stream",
     "text": [
      "todo 1\n",
      "todo 2\n"
     ]
    }
   ],
   "source": [
    "queue.appendleft(\"todo 1\")\n",
    "for i in queue:\n",
    "    print(i)"
   ]
  },
  {
   "cell_type": "markdown",
   "metadata": {
    "slideshow": {
     "slide_type": "slide"
    }
   },
   "source": [
    "<h3>Aufgabe</h3>\n",
    "<ul>\n",
    "<li>Zerlegen Sie einen Text in Sätze (Verwenden Sie die txt-Datei aus Ihrer Hausaufgabe). Speichern Sie den Satz in einem deque. Geben Sie jeweils das erste und das letzte Wort des Satzes aus.\n"
   ]
  },
  {
   "cell_type": "markdown",
   "metadata": {
    "slideshow": {
     "slide_type": "slide"
    }
   },
   "source": [
    "<h3>Funktionen für Sequences (str, list, tuple, namedtuple, range, deque)</h3>\n",
    "<p>x in s, x not in s"
   ]
  },
  {
   "cell_type": "code",
   "execution_count": 1,
   "metadata": {
    "collapsed": false,
    "slideshow": {
     "slide_type": "fragment"
    }
   },
   "outputs": [
    {
     "data": {
      "text/plain": [
       "True"
      ]
     },
     "execution_count": 1,
     "metadata": {},
     "output_type": "execute_result"
    }
   ],
   "source": [
    "\"welt\" in \"hallo welt\""
   ]
  },
  {
   "cell_type": "markdown",
   "metadata": {
    "slideshow": {
     "slide_type": "slide"
    }
   },
   "source": [
    "<p>slicing: s[start:end]"
   ]
  },
  {
   "cell_type": "code",
   "execution_count": 5,
   "metadata": {
    "collapsed": false,
    "slideshow": {
     "slide_type": "fragment"
    }
   },
   "outputs": [
    {
     "data": {
      "text/plain": [
       "'man'"
      ]
     },
     "execution_count": 5,
     "metadata": {},
     "output_type": "execute_result"
    }
   ],
   "source": [
    "\"woman\"[2:5]          "
   ]
  },
  {
   "cell_type": "markdown",
   "metadata": {
    "slideshow": {
     "slide_type": "fragment"
    }
   },
   "source": [
    "<p>Länge: len (s)"
   ]
  },
  {
   "cell_type": "code",
   "execution_count": 8,
   "metadata": {
    "collapsed": false,
    "slideshow": {
     "slide_type": "fragment"
    }
   },
   "outputs": [
    {
     "data": {
      "text/plain": [
       "4"
      ]
     },
     "execution_count": 8,
     "metadata": {},
     "output_type": "execute_result"
    }
   ],
   "source": [
    "len ([3,12,4,67])"
   ]
  },
  {
   "cell_type": "markdown",
   "metadata": {
    "slideshow": {
     "slide_type": "slide"
    }
   },
   "source": [
    "<p>Minimum und Maximum: min(s), max(s)"
   ]
  },
  {
   "cell_type": "code",
   "execution_count": 10,
   "metadata": {
    "collapsed": false,
    "slideshow": {
     "slide_type": "fragment"
    }
   },
   "outputs": [
    {
     "name": "stdout",
     "output_type": "stream",
     "text": [
      "Minimum:  1  und Maximum:  154\n"
     ]
    }
   ],
   "source": [
    "a = [23, 1, 56, 154, 99, 1]\n",
    "print (\"Minimum: \", min(a), \" und Maximum: \", max(a))"
   ]
  },
  {
   "cell_type": "markdown",
   "metadata": {
    "slideshow": {
     "slide_type": "fragment"
    }
   },
   "source": [
    "<p>Anzahl der Token des Typs x: sequence.count(x)"
   ]
  },
  {
   "cell_type": "code",
   "execution_count": 12,
   "metadata": {
    "collapsed": false,
    "slideshow": {
     "slide_type": "fragment"
    }
   },
   "outputs": [
    {
     "data": {
      "text/plain": [
       "2"
      ]
     },
     "execution_count": 12,
     "metadata": {},
     "output_type": "execute_result"
    }
   ],
   "source": [
    "a = [23, 1, 56, 154, 99, 1]\n",
    "a.count(1)"
   ]
  },
  {
   "cell_type": "markdown",
   "metadata": {
    "slideshow": {
     "slide_type": "fragment"
    }
   },
   "source": [
    "<p>Verkettung von zwei Sequences (a,b): a + b"
   ]
  },
  {
   "cell_type": "code",
   "execution_count": 21,
   "metadata": {
    "collapsed": false,
    "slideshow": {
     "slide_type": "fragment"
    }
   },
   "outputs": [
    {
     "data": {
      "text/plain": [
       "[1, 2, 3, 4]"
      ]
     },
     "execution_count": 21,
     "metadata": {},
     "output_type": "execute_result"
    }
   ],
   "source": [
    "a = [1, 2]\n",
    "b = [3, 4]\n",
    "a + b"
   ]
  },
  {
   "cell_type": "markdown",
   "metadata": {
    "slideshow": {
     "slide_type": "slide"
    }
   },
   "source": [
    "<h3>Aufgabe</h3>\n",
    "<ul>\n",
    "<li>Füllen Sie das deque a mit \"todo 2\", \"todo 1\". Füllen Sie das deque b mit \"todo 7\", \"todo 4\". ERezugen Sie ein deque, das alle Einträge in sortierter Reihenfolge enthält.\n",
    "</li>\n",
    "</ul>"
   ]
  },
  {
   "cell_type": "markdown",
   "metadata": {
    "slideshow": {
     "slide_type": "slide"
    }
   },
   "source": [
    "<h3>Dictionaries</h3>"
   ]
  },
  {
   "cell_type": "code",
   "execution_count": 22,
   "metadata": {
    "collapsed": false,
    "slideshow": {
     "slide_type": "fragment"
    }
   },
   "outputs": [
    {
     "name": "stdout",
     "output_type": "stream",
     "text": [
      "{'der': 21, 'die': 19, 'und': 23}\n",
      "{'der': 21, 'die': 19, 'und': 23}\n",
      "{'der': 21, 'die': 19, 'und': 23}\n"
     ]
    }
   ],
   "source": [
    "#3 constructors for dict\n",
    "wordlist = {\"und\" : 23, \"der\" : 21, \"die\" : 19}\n",
    "print (wordlist)\n",
    "wordlist = dict ( und = 23, der = 21, die = 19 )\n",
    "print (wordlist)\n",
    "wordlist = dict (zip( [\"und\", \"der\", \"die\"], [23, 21, 19] ))\n",
    "print (wordlist)"
   ]
  },
  {
   "cell_type": "markdown",
   "metadata": {
    "slideshow": {
     "slide_type": "slide"
    }
   },
   "source": [
    "<h3>Counter</h3>\n",
    "<p>Counter ist ein dictionary, das sich besonders zum Zählen eignet, da es bei Elementen, die nicht enthalten sind, den Wert 0 zurückgibt. Wir haben oben die Funktion zum Zählen von Worten gesehen, die den Fall, dass das Wort noch nichtin der Liste  enthalten ist, gesondert behandeln musste: </p>"
   ]
  },
  {
   "cell_type": "code",
   "execution_count": 23,
   "metadata": {
    "collapsed": false,
    "slideshow": {
     "slide_type": "fragment"
    }
   },
   "outputs": [],
   "source": [
    "def count_words(wordlist, line_list):\n",
    "    \"\"\"\n",
    "    counts the words in line_list and adds the result to dict wordlist\n",
    "    \"\"\"\n",
    "    for word in line_list:\n",
    "        if word in wordlist:\n",
    "            wordlist[word] += 1\n",
    "        else:\n",
    "            wordlist[word] = 1\n",
    "    return wordlist"
   ]
  },
  {
   "cell_type": "markdown",
   "metadata": {
    "slideshow": {
     "slide_type": "fragment"
    }
   },
   "source": [
    "<p>Das kann man nun mit Counter einfacher machen:\n"
   ]
  },
  {
   "cell_type": "code",
   "execution_count": 1,
   "metadata": {
    "collapsed": false,
    "slideshow": {
     "slide_type": "fragment"
    }
   },
   "outputs": [
    {
     "name": "stdout",
     "output_type": "stream",
     "text": [
      "ist\t3\n",
      "keine\t1\n",
      "dies\t3\n",
      "Zeile\t2\n",
      "eine\t1\n"
     ]
    }
   ],
   "source": [
    "from collections import Counter\n",
    "import re\n",
    "wordlist = Counter()\n",
    "text = \"dies ist eine Zeile. dies ist keine Zeile. dies ist.\"\n",
    "for word in re.findall(\"\\w+\", text):\n",
    "    wordlist[word] += 1\n",
    "    \n",
    "for key, value in wordlist.items():\n",
    "    print (key + \"\\t\" + str(value))"
   ]
  },
  {
   "cell_type": "code",
   "execution_count": 2,
   "metadata": {
    "collapsed": false
   },
   "outputs": [
    {
     "name": "stdout",
     "output_type": "stream",
     "text": [
      "ist\t3\n",
      "keine\t1\n",
      "dies\t3\n",
      "Zeile\t2\n",
      "eine\t1\n"
     ]
    }
   ],
   "source": [
    "#das gleiche kann man mit der Methode update von Counter erreichen\n",
    "from collections import Counter\n",
    "import re\n",
    "wordlist = Counter()\n",
    "text = \"dies ist eine Zeile. dies ist keine Zeile. dies ist.\"\n",
    "for word in re.findall(\"\\w+\", text):\n",
    "    wordlist.update([word])\n",
    "    \n",
    "for key, value in wordlist.items():\n",
    "    print (key + \"\\t\" + str(value))"
   ]
  },
  {
   "cell_type": "markdown",
   "metadata": {
    "slideshow": {
     "slide_type": "slide"
    }
   },
   "source": [
    "<h3>Set</h3>\n",
    "<p>Def.: \"A set object is an unordered collection of distinct hashable objects.\""
   ]
  },
  {
   "cell_type": "code",
   "execution_count": 26,
   "metadata": {
    "collapsed": false,
    "slideshow": {
     "slide_type": "fragment"
    }
   },
   "outputs": [
    {
     "data": {
      "text/plain": [
       "{1, 2, 3}"
      ]
     },
     "execution_count": 26,
     "metadata": {},
     "output_type": "execute_result"
    }
   ],
   "source": [
    "l = [1,1,1,2,2,3,3]\n",
    "set (l)"
   ]
  },
  {
   "cell_type": "markdown",
   "metadata": {
    "slideshow": {
     "slide_type": "slide"
    }
   },
   "source": [
    "<h3>Aufgabe</h3>\n",
    "<p>Schreiben Sie die Funktion zum Zählen von Worten unter Verwendung von Counter um</p> "
   ]
  }
 ],
 "metadata": {
  "kernelspec": {
   "display_name": "Python 3",
   "language": "python",
   "name": "python3"
  },
  "language_info": {
   "codemirror_mode": {
    "name": "ipython",
    "version": 3
   },
   "file_extension": ".py",
   "mimetype": "text/x-python",
   "name": "python",
   "nbconvert_exporter": "python",
   "pygments_lexer": "ipython3",
   "version": "3.5.1+"
  },
  "nav_menu": {},
  "toc": {
   "navigate_menu": true,
   "number_sections": false,
   "sideBar": true,
   "threshold": 6,
   "toc_cell": false,
   "toc_section_display": "block",
   "toc_window_display": false
  }
 },
 "nbformat": 4,
 "nbformat_minor": 0
}
