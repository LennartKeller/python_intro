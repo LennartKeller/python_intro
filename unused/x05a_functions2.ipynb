{
 "cells": [
  {
   "cell_type": "markdown",
   "metadata": {
    "slideshow": {
     "slide_type": "slide"
    }
   },
   "source": [
    "## Einführung in das Programmieren mit Python"
   ]
  },
  {
   "cell_type": "markdown",
   "metadata": {
    "slideshow": {
     "slide_type": "-"
    }
   },
   "source": [
    "# Funktionen und Module II"
   ]
  },
  {
   "cell_type": "markdown",
   "metadata": {
    "slideshow": {
     "slide_type": "slide"
    }
   },
   "source": [
    "### Funktionen und Module\n",
    "\n",
    "Management von Komplexität:\n",
    "\n",
    "* Modularisierung: Übersichtlichkeit und Fokus\n",
    "* Abstraktion: Wiederverwendung ermöglichen, Vermeiden von Wiederholungen\n",
    "* Management unterschiedlicher Abstraktionsebenen\n",
    "* Klare Schnittstellen zum Rest des Programms\n",
    "\n",
    "Praxis: So klein wie möglich"
   ]
  },
  {
   "cell_type": "code",
   "execution_count": 2,
   "metadata": {
    "collapsed": false,
    "slideshow": {
     "slide_type": "slide"
    }
   },
   "outputs": [],
   "source": [
    "def add(nr1, nr2):\n",
    "    \"\"\"\n",
    "    Adds two numbers.\n",
    "    \n",
    "    Args:\n",
    "        nr1 (int): first number to be added\n",
    "        nr2 (int): second number to be added\n",
    "    \n",
    "    Returns:\n",
    "        int: The sum of the two numbers\n",
    "    \"\"\"\n",
    "    return nr1 + nr2"
   ]
  },
  {
   "cell_type": "markdown",
   "metadata": {
    "slideshow": {
     "slide_type": "slide"
    }
   },
   "source": [
    "<h3>Scope von Variablen</h3>\n",
    "<img src=\"files/images/scope.png\" width=\"50%\" height=\"50%\" border=\"0\"/> \n",
    "* _Gültigkeitsbereich_ einer Variablen\n",
    "* genauer: der Teil des Quelltexts, in dem eine Variable (ohne irgendwelche Präfixe, siehe später) zugreifbar ist\n",
    "* globaler Scope\n",
    "* Funktionsdefinition: lokaler Scope, Variable wird »vergessen«, wenn der Funktionsaufruf beendet ist\n",
    "* der innerste Scope wird genommen"
   ]
  },
  {
   "cell_type": "markdown",
   "metadata": {
    "slideshow": {
     "slide_type": "slide"
    }
   },
   "source": [
    "<h3>reference / value in einer Funktion</h3>"
   ]
  },
  {
   "cell_type": "code",
   "execution_count": 1,
   "metadata": {
    "collapsed": false,
    "slideshow": {
     "slide_type": "fragment"
    }
   },
   "outputs": [
    {
     "name": "stdout",
     "output_type": "stream",
     "text": [
      "[99, 2, 3, 4]\n"
     ]
    }
   ],
   "source": [
    "def subst_first(int_list):\n",
    "    int_list[0] = 99\n",
    "\n",
    "l = [1,2,3,4]           # definiert globale Variable l\n",
    "subst_first(l)          # Verwendet und verändert l in der Funktion   \n",
    "print(l)"
   ]
  },
  {
   "cell_type": "markdown",
   "metadata": {
    "slideshow": {
     "slide_type": "subslide"
    }
   },
   "source": [
    "![Visualisierung](images/pythontutor-list.png)\n",
    "[Visualisierung: Pythontutor](http://pythontutor.com/visualize.html#code=def+subst_first(int_list%29%3A++++++%23+definiert+Funktion+mit+Parameter+int_list%0A++++int_list%5B0%5D+%3D+99++++++++++++%23+setzt+ersten+Wert+der+Liste+auf+99%0A++++print(%22Wert+der+Liste+in+der+Funktion%3A+%22,+int_list%29%0A++++int_list+%3D+%5B10,9,8%5D%0A++++print(%22Neuer+Wert+f%C3%BCr+int_list%3A+%22,+int_list%29%0Al+%3D+%5B1,2,3,4%5D+++++++++++%23+definiert+globale+Variable+l%0Asubst_first(l%29++++++++++%23+Verwendet+und+ver%C3%A4ndert+l+in+der+Funktion+++%0Aprint(%22Wert+von+l+nach+Aufruf+der+Funktion%3A+%22,+l%29&mode=display&origin=opt-frontend.js&cumulative=false&heapPrimitives=false&textReferences=false&py=3&rawInputLstJSON=%5B%5D&curInstr=6)\n",
    "\n",
    "* **Nebeneffekte**\n",
    "  \n",
    "  * vermeiden oder explizit machen und dokumentieren\n",
    "  * ggf. unveränderliche Datenstrukturen verwenden -- aber allzuviel zu erzwingen ist nicht _pythonic_"
   ]
  },
  {
   "cell_type": "markdown",
   "metadata": {
    "slideshow": {
     "slide_type": "slide"
    }
   },
   "source": [
    "### Richtlinien für Funktionen\n",
    "\n",
    "* Klare, abgetrennte Funktionseinheit\n",
    "* überschaubare Gesamtlänge → möglichst klein\n",
    "* Code wird (ggf. mit leichter Variation) wiederholt? → in Funktion auslagern\n",
    "* Sinnvoller, inhaltlicher Rückgabewert mit passendem Datentyp\n",
    "\n",
    "    * Funktion überprüft irgendwas? `bool`\n",
    "    * Funktion berechnet irgendwas? Zahl\n",
    "    * Funktion manipuliert Liste? Neue Liste\n",
    "    * _kein_ »Antwortsatz«\n",
    "    * keine Nebeneffekte\n",
    "    * i.A. _kein_ `print` in der Funktion\n",
    "\n",
    "* Sinnvolle Namen für Funktion und Argumente"
   ]
  },
  {
   "cell_type": "markdown",
   "metadata": {
    "slideshow": {
     "slide_type": "slide"
    }
   },
   "source": [
    "### Ergänzende Übungsaufgabe\n",
    "\n",
    "Gegeben sei eine einfache Templatesprache, in der Variablen Wörter sind, die mit einem `$` beginnen. Schreiben Sie eine Funktion, die einen String an Whitespacegrenzen in Wörter zerlegt und eine Liste aller Variablennamen entsprechend dieser Syntax zurückgibt."
   ]
  },
  {
   "cell_type": "code",
   "execution_count": 3,
   "metadata": {
    "collapsed": false,
    "slideshow": {
     "slide_type": "-"
    }
   },
   "outputs": [
    {
     "name": "stdout",
     "output_type": "stream",
     "text": [
      "['Adresse', 'Ort,', 'Datum', 'Anrede', 'Name,', 'Betrag', 'ReNr']\n"
     ]
    }
   ],
   "source": [
    "template = \"\"\"\n",
    "$Adresse\n",
    "\n",
    "$Ort, den $Datum\n",
    "\n",
    "\n",
    "$Anrede $Name,\n",
    "\n",
    "vielen Dank für Ihre Bestellung. Bitte überweisen Sie den \n",
    "Betrag $Betrag auf eines unserer Konten unter Angabe des\n",
    "Verwendungszwecks:\n",
    "\n",
    "  $ReNr vom $Datum\n",
    "  \n",
    "Mit bestem Dank und freundlichen Grüßen\n",
    "\"\"\"\n",
    "\n",
    "print(extract_variables(template))"
   ]
  },
  {
   "cell_type": "code",
   "execution_count": 4,
   "metadata": {
    "collapsed": false,
    "slideshow": {
     "slide_type": "skip"
    }
   },
   "outputs": [],
   "source": [
    "def extract_variables(s):\n",
    "    \"\"\"\n",
    "    Extracts all variable names (prefixed with $) from the given string.\n",
    "    \"\"\"\n",
    "    result = []\n",
    "    for word in s.split():\n",
    "        if word[0] == '$':\n",
    "            var = word[1:]\n",
    "            if var not in result:\n",
    "                result.append(var)\n",
    "    return result"
   ]
  },
  {
   "cell_type": "code",
   "execution_count": 6,
   "metadata": {
    "collapsed": false,
    "slideshow": {
     "slide_type": "skip"
    }
   },
   "outputs": [
    {
     "name": "stdout",
     "output_type": "stream",
     "text": [
      "{'Adresse', 'Ort,', 'Anrede', 'Name,', 'Datum', 'Betrag', 'ReNr'}\n"
     ]
    }
   ],
   "source": [
    "def extract_variables(s):\n",
    "    \"\"\"\n",
    "    Extracts all variable names (prefixed with $) from the given string.\n",
    "    \"\"\"\n",
    "    result = set()    # set = Menge\n",
    "    for word in s.split():\n",
    "        if word[0] == '$':\n",
    "            result.add(word[1:])\n",
    "    return result\n",
    "print(extract_variables(template))"
   ]
  },
  {
   "cell_type": "markdown",
   "metadata": {
    "slideshow": {
     "slide_type": "slide"
    }
   },
   "source": [
    "### Keyword-Argumente für Funktionen"
   ]
  },
  {
   "cell_type": "markdown",
   "metadata": {
    "slideshow": {
     "slide_type": "fragment"
    }
   },
   "source": [
    "Argumente können beim Funktionsaufruf auch per Namen _(keyword)_ referenziert werden:"
   ]
  },
  {
   "cell_type": "code",
   "execution_count": 7,
   "metadata": {
    "collapsed": false,
    "slideshow": {
     "slide_type": "fragment"
    }
   },
   "outputs": [
    {
     "name": "stdout",
     "output_type": "stream",
     "text": [
      "5.0\n"
     ]
    }
   ],
   "source": [
    "def formula2(summand1, divisor, summand2):\n",
    "    return (summand1 + summand2) / divisor\n",
    "\n",
    "print(formula2(7, summand2=3, divisor=2))"
   ]
  },
  {
   "cell_type": "markdown",
   "metadata": {
    "slideshow": {
     "slide_type": "fragment"
    }
   },
   "source": [
    "* erst _positional_, dann _keyword arguments_\n",
    "* Bei den Keyword-Argumenten ist die Reihenfolge egal"
   ]
  },
  {
   "cell_type": "markdown",
   "metadata": {
    "slideshow": {
     "slide_type": "subslide"
    }
   },
   "source": [
    "### Defaultwerte"
   ]
  },
  {
   "cell_type": "markdown",
   "metadata": {
    "slideshow": {
     "slide_type": "-"
    }
   },
   "source": [
    "Keyword-Argumente können mit Voreinstellungen belegt werden, dann kann man sie weglassen:"
   ]
  },
  {
   "cell_type": "code",
   "execution_count": 8,
   "metadata": {
    "collapsed": false,
    "slideshow": {
     "slide_type": "-"
    }
   },
   "outputs": [
    {
     "name": "stdout",
     "output_type": "stream",
     "text": [
      "21\n"
     ]
    }
   ],
   "source": [
    "def add(nr1, nr2, verbose=False):\n",
    "    result = nr1 + nr2\n",
    "    if verbose:\n",
    "        print(\"The sum is\", result)\n",
    "    return result\n",
    "\n",
    "print(add(17, 4))"
   ]
  },
  {
   "cell_type": "markdown",
   "metadata": {
    "slideshow": {
     "slide_type": "subslide"
    }
   },
   "source": [
    "### `*args` und `**kwargs`\n",
    "\n",
    "* `*args` in der Funktionsdefinition = _beliebig viele positionale Argumente_\n",
    "* `args` ist dann ein Tupel\n",
    "* Analog `**kwargs` für _beliebige Keyword-Argumente_\n",
    "* `kwargs` ist dann ein Dictionary"
   ]
  },
  {
   "cell_type": "code",
   "execution_count": 9,
   "metadata": {
    "collapsed": false,
    "slideshow": {
     "slide_type": "fragment"
    }
   },
   "outputs": [
    {
     "name": "stdout",
     "output_type": "stream",
     "text": [
      "<class 'tuple'>\n"
     ]
    },
    {
     "data": {
      "text/plain": [
       "14"
      ]
     },
     "execution_count": 9,
     "metadata": {},
     "output_type": "execute_result"
    }
   ],
   "source": [
    "def formula3(nr1, nr2, *args):\n",
    "        print(type(args))\n",
    "        if args == None:\n",
    "            return nr1 + nr2\n",
    "        else:\n",
    "            result = 0\n",
    "            for i in args:\n",
    "                result += i\n",
    "        return nr1 + nr2 + result\n",
    "formula3(2,3,4,5)"
   ]
  },
  {
   "cell_type": "markdown",
   "metadata": {
    "slideshow": {
     "slide_type": "subslide"
    }
   },
   "source": [
    "#### Auspacken mit `*args`, `**kwargs`\n",
    "\n",
    "* Sequenzen bzw. Dictionaries können zu Parameterlisten »ausgepackt« werden\n",
    "* `*liste` bzw. `**dictionary` im _Funktionsaufruf_"
   ]
  },
  {
   "cell_type": "code",
   "execution_count": 10,
   "metadata": {
    "collapsed": false,
    "slideshow": {
     "slide_type": "slide"
    }
   },
   "outputs": [
    {
     "name": "stdout",
     "output_type": "stream",
     "text": [
      "WARNING: Datei nicht gefunden: bla.txt\n",
      "ERROR Rechenzentrum explodiert gleich\n"
     ]
    }
   ],
   "source": [
    "loglevel = 1\n",
    "def log(*args, level=0, **kwargs):\n",
    "    labels = [\"INFO\", \"WARNING\", \"ERROR\"]\n",
    "    if level >=  loglevel:\n",
    "        print(labels[level], *args, **kwargs)\n",
    "\n",
    "log(\"Jetzt geht's los\")\n",
    "log(\"Datei nicht gefunden\", \"bla.txt\", level=1, sep=': ')\n",
    "log(\"Rechenzentrum explodiert gleich\", level=2)"
   ]
  },
  {
   "cell_type": "markdown",
   "metadata": {
    "slideshow": {
     "slide_type": "slide"
    }
   },
   "source": [
    "## Rekursion"
   ]
  },
  {
   "cell_type": "markdown",
   "metadata": {
    "slideshow": {
     "slide_type": "-"
    }
   },
   "source": [
    "* Aufruf einer Funktion durch sich selbst"
   ]
  },
  {
   "cell_type": "markdown",
   "metadata": {
    "slideshow": {
     "slide_type": "-"
    }
   },
   "source": [
    "\n",
    "<p>Als Rekursion bezeichnet man den Aufruf einer Funktion durch sich selbst. Eine rekursive Funktion besteht typischerweise aus zwei Bausteinen, einem Verarbeitungsteil, der auch den Selbstaufruf enthält und einer Prüfung, die feststellt, ob ein bestimmte Bedingung erreicht ist, so dass die Rekursion endet. </p>\n",
    "<p>Rekursionen funktionieren also ähnlich wie Schleifen. Wann soll man Rekursionen verwenden? Wenn man bei der Analyse des Problems feststellt, dass jede komplexere Form des Problems sich auf eine einfache Lösung des Problems zurückführen lässt. Eine ausführlichere Behandlung von Rekursion finden Sie <a href=\"http://cs.stanford.edu/people/eroberts/courses/cs106b/chapters/05-intro-to-recursion.pdf\">hier</a>.<br/></p>\n",
    "<p>Die prinzipielle Struktur einer rekursiven Funktion sieht also so aus:</p>"
   ]
  },
  {
   "cell_type": "markdown",
   "metadata": {
    "collapsed": true,
    "slideshow": {
     "slide_type": "fragment"
    }
   },
   "source": [
    "```python\n",
    "if (test for simple case) == True: \n",
    "    Bereche eine einfache Lösung ohne Rekursion\n",
    "else:\n",
    "    Zerlege das Problem in Teilprobleme, die die gleiche Form haben.\n",
    "    Löse jedes Teilproblem durch rekursiven Aufruf der Funktion.\n",
    "    Setze die Lösungen für die Teilprobleme zusammen, um eine Lösung für das ganze Problem zu erhalten.\n",
    "```"
   ]
  },
  {
   "cell_type": "markdown",
   "metadata": {
    "slideshow": {
     "slide_type": "subslide"
    }
   },
   "source": [
    "Beispiel: **Fakultät** $n!$ einer natürlichen Zahl $n$:<br/>\n",
    "\n",
    "* $n!$ (sprich: $n$ Fakultät) ist definiert als $n \\cdot (n-1)!$\n",
    "* $0!$ und $1!$ sind definiert als $1$\n",
    "\n",
    "\n",
    "$3! = 3 \\cdot 2! = 3 \\cdot 2 \\cdot 1! = 3 \\cdot 2 \\cdot 1 = 6$\n"
   ]
  },
  {
   "cell_type": "code",
   "execution_count": 2,
   "metadata": {
    "collapsed": false,
    "slideshow": {
     "slide_type": "fragment"
    }
   },
   "outputs": [
    {
     "name": "stdout",
     "output_type": "stream",
     "text": [
      "Fakultät 3! ist  6\n"
     ]
    }
   ],
   "source": [
    "def factorial(n):\n",
    "    \"\"\"\"\n",
    "    calculates the factorial of n\n",
    "    \"\"\"\n",
    "    if n == 0 or n == 1:      # einfacher fall ohne rekursion\n",
    "        return 1\n",
    "    else:\n",
    "        result = n * factorial(n-1)   #Zerlegung: n! = n * (n-1)!   Lösung von (n-1)! durch rekursiven Aufruf der F.\n",
    "                                      #Zusammensetzung durch die Multiplikation der Einzelzahlen\n",
    "        return result\n",
    "\n",
    "    \n",
    "print(\"Fakultät 3! ist \", factorial(3))"
   ]
  },
  {
   "cell_type": "markdown",
   "metadata": {
    "slideshow": {
     "slide_type": "subslide"
    }
   },
   "source": [
    "[Visualisierung](http://pythontutor.com/visualize.html#code=def+factorial(n%29%3A%0A++++if+n+%3D%3D+0+or+n+%3D%3D+1%3A%0A++++++++return+1%0A++++else%3A%0A++++++++result+%3D+n+*+factorial(n-1%29%0A++++++++return+result%0A++++%0Aprint(%22Fakult%C3%A4t+3!+ist+%22,+factorial(3%29%29&mode=display&origin=opt-frontend.js&cumulative=false&heapPrimitives=false&textReferences=false&py=3&rawInputLstJSON=%5B%5D&curInstr=0); bzw.: um zu sehen, was hier genau passiert, fügen wir einige print-statements ein"
   ]
  },
  {
   "cell_type": "code",
   "execution_count": 3,
   "metadata": {
    "collapsed": false,
    "slideshow": {
     "slide_type": "-"
    }
   },
   "outputs": [
    {
     "name": "stdout",
     "output_type": "stream",
     "text": [
      "factorial of 3 ?\n",
      "factorial of 2 ?\n",
      "factorial of 1 ?\n",
      "1 (simple case)\n",
      "2! = 2\n",
      "3! = 6\n",
      "Fakultät 3! ist  6\n"
     ]
    }
   ],
   "source": [
    "\n",
    "def factorial(n):\n",
    "    print(\"factorial of\", n, \"?\")\n",
    "    if n == 0 or n == 1:\n",
    "        print(n, \"(simple case)\")\n",
    "        return 1\n",
    "    else:\n",
    "        result = n * factorial(n-1)\n",
    "        print(str(n) + \"! =\", result)\n",
    "        return result\n",
    "\n",
    "print(\"Fakultät 3! ist \", factorial(3))"
   ]
  },
  {
   "cell_type": "markdown",
   "metadata": {
    "slideshow": {
     "slide_type": "skip"
    }
   },
   "source": [
    "<p>Was passiert hier? Im ersten Durchlauf ist n==3, d.h. das Programm springt von Z.4 zu Z. 7 und beginnt mit der Bearbeitung von Z.8. Python berechnet `3 *`, aber um den zweiten Faktor zu berechnen, muss es wiederum die Funktion aufrufen. Der ursprüngliche Aufruf der Funktion (nennen wir ihn Funktionsaufruf[0]) wir also angehalten und auf einen Stapel gelegt.</p>\n",
    "<p>Die Berechnung des zweiten Faktors hat einen neuen Aufruf gestartet, Funktionsaufruf[1]. n ist hier == 2. Wiederum springt das Programm von Zeile 3 zu Zeile 6 und beginnt dann mit der Arbeit an Zeile 8: Es rechnet 2 * -- und auch hier muss der Programmaufruf angehalten werden, da die Funktion nun zum 3. Mal aufgerufen wird (Funktionsaufruf[2]), während Funktionsaufruf[1] ebenfalls auf den Stapel kommt.</p>\n",
    "<p>Bei Funktionsaufruf[2] ist n == 1. Es geschieht wieder dasselbe, Funktionsaufruf[2] kommt auf den Stapel, Funktionsaufruf[3] erfolgt dann mit `n == 0`.\n",
    "<p>Deshalb verzweigt das Programm nun, in Funktionsaufruf[3], von Z. 4 zu Z. 5 und gibt die Zeile `0 (simple case`) aus. Dann wird Funktionsaufruf[3] mit dem Rückgabewert 1 beendet. Der Stapeleintrag für Funktionsaufruf[3] wird damit entfernt.</p>\n",
    "<p>Der Rückgabewert wird an den letzten Funktionsaufruf gegeben, der auf den Stapel gewandert ist, also Funktionsaufruf[2]. Hier kann nun die Multiplikation vollzogen werden: `1 * 1`. Das Ergebnis wird ausgegeben und dann wird die Funktion mit dem Rückgabewert `1` beendet. </p>\n",
    "<p>Dieser Rückgabewert wird an den nunmehr letzten Funktionsaufruf gegeben, der auf den Stapel gewandert ist, also Funktionsaufruf[1]. Hier kann nun die Multiplikation vollzogen werden: `2 * 1`. Das Ergebnis wird ausgegeben und dann wird die Funktion mit dem Rückgabewert `2` beendet. </p>\n",
    "<p>Der Rückgabewert wird an den Funktionsaufruf[0], der noch auf dem Stapel liegt, gegeben. Hier kann nun wiederum weiter gerechnet werden: `3 * 2`. Das Ergebnis, `6`, wird ausgegeben und dann als Rückgabewert zurückgegeben. "
   ]
  },
  {
   "cell_type": "markdown",
   "metadata": {
    "slideshow": {
     "slide_type": "slide"
    }
   },
   "source": [
    "<h3 style=\"color:green\">Aufgabe</h3> \n",
    "Ein _Palindrom_ ist ein String, der von vorn wie von hinten gelesen gleich ist, z.B. `\"anna\"` oder `\"MAOAM\"`.\n",
    "\n",
    "Schreiben Sie eine rekursive Funktion `is_palindrome(s)`, die für einen gegebenen String überprüft, ob es sich um ein Palindrom handelt. Welche Fälle von Strings sind trivialerweise Palindrome?"
   ]
  },
  {
   "cell_type": "markdown",
   "metadata": {
    "slideshow": {
     "slide_type": "fragment"
    }
   },
   "source": [
    "### Übungsaufgabe (nicht prüfungsrelevant)\n",
    "\n",
    "\n",
    "Ein bekanntes Beispiel für Rekursion sind die _Türme von Hanoi_. Schauen Sie sich [hier die Beschreibung des Problems und des Lösungsalgorithmus in Pseudocode an](https://www.cs.cmu.edu/~cburch/survey/recurse/hanoiimpl.html) und implementieren Sie die Lösung in Python. Bonus: Geben Sie nach jedem Zug den Stand der Stapel an."
   ]
  }
 ],
 "metadata": {
  "celltoolbar": "Slideshow",
  "kernelspec": {
   "display_name": "Python 3",
   "language": "python",
   "name": "python3"
  },
  "language_info": {
   "codemirror_mode": {
    "name": "ipython",
    "version": 3
   },
   "file_extension": ".py",
   "mimetype": "text/x-python",
   "name": "python",
   "nbconvert_exporter": "python",
   "pygments_lexer": "ipython3",
   "version": "3.5.1+"
  }
 },
 "nbformat": 4,
 "nbformat_minor": 0
}
