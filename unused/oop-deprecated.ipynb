{
 "metadata": {
  "celltoolbar": "Slideshow",
  "name": "",
  "signature": "sha256:1cc9924dd7967afdeb7eefb243d948e16f46f2e08ad4e5d0879ad0cb049eba17"
 },
 "nbformat": 3,
 "nbformat_minor": 0,
 "worksheets": [
  {
   "cells": [
    {
     "cell_type": "heading",
     "level": 2,
     "metadata": {
      "slideshow": {
       "slide_type": "slide"
      }
     },
     "source": [
      "Einf\u00fchren in das Programmieren mit Python"
     ]
    },
    {
     "cell_type": "heading",
     "level": 1,
     "metadata": {
      "slideshow": {
       "slide_type": "-"
      }
     },
     "source": [
      "Objektorientierte Programmierung"
     ]
    },
    {
     "cell_type": "markdown",
     "metadata": {
      "slideshow": {
       "slide_type": "slide"
      }
     },
     "source": [
      "### Grundbegriffe der objektorientierten Programmierung\n",
      "\n",
      "* __Objekte__ ( = Instanzen)<br/>\n",
      " umfassen zusammengeh\u00f6rige Daten und passende Methoden f\u00fcr die Daten\n",
      "\n",
      "* __Klassen__<br/>\n",
      " Klassen sind sozusagen Blaupausen. Beim Aufruf werden Sie instantiiert,\n",
      "d.h. aufgrund der Blaupause und spezifischen Daten wird ein Objekt (= eine _Instanz_)\n",
      "gebildet.\n",
      "\n",
      "* __Kapselung__<br/>\n",
      " Eine Klasse ist (eigentlich) eine black box. D.h. ihre Implementierung\n",
      "ist f\u00fcr den Anwender unsichtbar und auch ohne Belang. Er verwendet nur\n",
      "die festgelegte Schnittstelle, d.h. die \u00f6ffentlichen Methoden.\n",
      "\n",
      "* __Vererbung__<br/>\n",
      " OOP erlaubt die Organisation von Objekten in Hierarchien. Untere\n",
      "Klassen erben Methoden und Klassenvariablen von oberen Klassen.\n",
      "\n",
      "* __Polymorphismus__\\\n",
      " Methoden mit gleichem Namen f\u00fchren unterschiedliche Befehle aus,\n",
      "abh\u00e4ngig von der spezifischen Klasse."
     ]
    },
    {
     "cell_type": "markdown",
     "metadata": {
      "slideshow": {
       "slide_type": "slide"
      }
     },
     "source": [
      "### Objekte und Klassen in Python\n",
      "\n",
      "* __Alles__ in Python __ist ein Objekt__, (Daten, Datentypen, Funktionen, Exceptions, \u2026 einfach alles)\n",
      "* Funktionen einer Klasse = __Methoden__. <br/>Typische Methoden sind etwa die Methoden der Klasse String, z.B. die Methode split(): `\"hello world\".split()`.\n",
      "* Methoden und Attribute werden mit einem Punkt als Trenner an das Objekt angeh\u00e4ngt. Sie erinnern sich: Methoden haben wie Funktionen Parameter beim Aufruf und geben zumeist auch etwas zur\u00fcck:</li>\n"
     ]
    },
    {
     "cell_type": "code",
     "collapsed": false,
     "input": [
      "a = \"hello world\"\n",
      "print(type(a))"
     ],
     "language": "python",
     "metadata": {
      "slideshow": {
       "slide_type": "fragment"
      }
     },
     "outputs": [
      {
       "output_type": "stream",
       "stream": "stdout",
       "text": [
        "<class 'str'>\n"
       ]
      }
     ],
     "prompt_number": 1
    },
    {
     "cell_type": "code",
     "collapsed": false,
     "input": [
      "a.split()"
     ],
     "language": "python",
     "metadata": {
      "slideshow": {
       "slide_type": "fragment"
      }
     },
     "outputs": [
      {
       "metadata": {},
       "output_type": "pyout",
       "prompt_number": 2,
       "text": [
        "['hello', 'world']"
       ]
      }
     ],
     "prompt_number": 2
    },
    {
     "cell_type": "code",
     "collapsed": false,
     "input": [
      "a.islower()"
     ],
     "language": "python",
     "metadata": {
      "slideshow": {
       "slide_type": "fragment"
      }
     },
     "outputs": [
      {
       "metadata": {},
       "output_type": "pyout",
       "prompt_number": 3,
       "text": [
        "True"
       ]
      }
     ],
     "prompt_number": 3
    },
    {
     "cell_type": "code",
     "collapsed": false,
     "input": [
      "a.islower()"
     ],
     "language": "python",
     "metadata": {
      "slideshow": {
       "slide_type": "slide"
      }
     },
     "outputs": [
      {
       "metadata": {},
       "output_type": "pyout",
       "prompt_number": 4,
       "text": [
        "True"
       ]
      }
     ],
     "prompt_number": 4
    },
    {
     "cell_type": "code",
     "collapsed": false,
     "input": [
      "b = [\"hello\",\"to\", \"all\", \"pythonista\"]\n",
      "\" - \".join(b)"
     ],
     "language": "python",
     "metadata": {
      "slideshow": {
       "slide_type": "fragment"
      }
     },
     "outputs": [
      {
       "metadata": {},
       "output_type": "pyout",
       "prompt_number": 5,
       "text": [
        "'hello - to - all - pythonista'"
       ]
      }
     ],
     "prompt_number": 5
    },
    {
     "cell_type": "markdown",
     "metadata": {
      "slideshow": {
       "slide_type": "slide"
      }
     },
     "source": [
      "<h3 style=\"color:green\">Aufgaben</h3>\n",
      "\n",
      "1. Schlagen Sie in der Python-Dokumentation nach, mit welcher String-Methode sie z\u00e4hlen k\u00f6nnen, wie h\u00e4ufig der String `a` in dem String `b` vorkommt. \n",
      "2. Testen Sie die Methode an `a=\"aus\"` und `b=\"Im Haus fand der Nikolaus eine kleine Schokoladenmaus.\"` Wie m\u00fcsste ihr Code aussehen, wenn Sie nur die zweite H\u00e4lfte von `b` durchsuchen wollten.?"
     ]
    },
    {
     "cell_type": "code",
     "collapsed": false,
     "input": [
      "a = \"aus\"\n",
      "b = \"Im Haus fand der Nikolaus eine kleine Schokoladenmaus\"\n",
      "\n",
      "print(b.count(a))\n",
      "print(b.count(a, len(b) // 2))"
     ],
     "language": "python",
     "metadata": {
      "slideshow": {
       "slide_type": "fragment"
      }
     },
     "outputs": [
      {
       "output_type": "stream",
       "stream": "stdout",
       "text": [
        "3\n",
        "1\n"
       ]
      }
     ],
     "prompt_number": 13
    },
    {
     "cell_type": "markdown",
     "metadata": {
      "slideshow": {
       "slide_type": "slide"
      }
     },
     "source": [
      "<h3>Klassen und Methoden</h3>\n",
      "<p>Definiert eine Klasse namens `Foo`:</p>"
     ]
    },
    {
     "cell_type": "code",
     "collapsed": false,
     "input": [
      "class Foo:\n",
      "    \"\"\"A simple class that wraps a message.\"\"\"\n",
      "    def __init__(self, msg):    #interne Methode, die beim Aufruf der Klasse (Foo(\"hi\")) aufgerufen wird.\n",
      "                                #allen Instanz-Methoden wird als erster Parameter self \u00fcbergeben.  \n",
      "        self.msg = msg          #hier wird der Wert der  Variablen msg der Instanzvariablen self.msg zugeschrieben\n",
      "\n",
      "    def getMsg(self):\n",
      "        return self.msg         #Der Zugriff auf diese Instanzvariable im Code der Klasse geschieht stets mit self.name "
     ],
     "language": "python",
     "metadata": {
      "slideshow": {
       "slide_type": "fragment"
      }
     },
     "outputs": [],
     "prompt_number": 14
    },
    {
     "cell_type": "markdown",
     "metadata": {
      "slideshow": {
       "slide_type": "fragment"
      }
     },
     "source": [
      "Nun k\u00f6nnen wir die Klasse verwenden:"
     ]
    },
    {
     "cell_type": "code",
     "collapsed": false,
     "input": [
      "a = Foo(\"Meine Nachricht\")  # Erzeugt ein Objekt der Klasse Foo, initialisiert es & speichert es in a\n",
      "print(a.getMsg())           # Das Objekt, a, wird beim Methodenaufruf an den Parameter self gebunden"
     ],
     "language": "python",
     "metadata": {
      "slideshow": {
       "slide_type": "fragment"
      }
     },
     "outputs": [
      {
       "output_type": "stream",
       "stream": "stdout",
       "text": [
        "Meine Nachricht\n"
       ]
      }
     ],
     "prompt_number": 15
    },
    {
     "cell_type": "markdown",
     "metadata": {
      "slideshow": {
       "slide_type": "fragment"
      }
     },
     "source": [
      "Man kann in Python auch direkt auf die Werte einer Instanzvariablen zugreifen:"
     ]
    },
    {
     "cell_type": "code",
     "collapsed": false,
     "input": [
      "a.msg"
     ],
     "language": "python",
     "metadata": {
      "slideshow": {
       "slide_type": "fragment"
      }
     },
     "outputs": [
      {
       "metadata": {},
       "output_type": "pyout",
       "prompt_number": 16,
       "text": [
        "'Meine Nachricht'"
       ]
      }
     ],
     "prompt_number": 16
    },
    {
     "cell_type": "markdown",
     "metadata": {
      "slideshow": {
       "slide_type": "slide"
      }
     },
     "source": [
      "<h3>Noch ein Beispiel</h3>"
     ]
    },
    {
     "cell_type": "code",
     "collapsed": false,
     "input": [
      "import math\n",
      "class circle:\n",
      "    \"\"\"defines a circle\"\"\"\n",
      "    def __init__(self,r):\n",
      "        self.r = r\n",
      "    def diameter(self):\n",
      "        return 2*self.r\n",
      "    def area(self):\n",
      "        return math.pow(self.r,2) * math.pi\n",
      "    def set_r(self,r):\n",
      "        \"\"\"Sets a new radius.\"\"\"\n",
      "        self.r = r"
     ],
     "language": "python",
     "metadata": {
      "slideshow": {
       "slide_type": "fragment"
      }
     },
     "outputs": [],
     "prompt_number": 18
    },
    {
     "cell_type": "code",
     "collapsed": false,
     "input": [
      "#Instanz der Klasse circle\n",
      "c = circle(5)\n",
      "print(c.diameter())\n",
      "print(c.area())\n",
      "#andere Instanz der Klasse\n",
      "nc = circle(7)\n",
      "print(nc.diameter())\n",
      "#ver\u00e4ndert r der 1.Instanz\n",
      "c.set_r(2)\n",
      "print(c.diameter())\n",
      "print(nc.diameter())\n",
      "print(\"Radius der Instanz c:\", c.r, \"Durchmesser:\", c.diameter())\n",
      "print(\"Radius der Instanz nc:\", nc.r)"
     ],
     "language": "python",
     "metadata": {
      "slideshow": {
       "slide_type": "slide"
      }
     },
     "outputs": [
      {
       "output_type": "stream",
       "stream": "stdout",
       "text": [
        "10\n",
        "78.53981633974483\n",
        "14\n",
        "4\n",
        "14\n",
        "Radius der Instanz c: 2 Durchmesser: 4\n",
        "Radius der Instanz nc: 7\n"
       ]
      }
     ],
     "prompt_number": 21
    },
    {
     "cell_type": "markdown",
     "metadata": {
      "slideshow": {
       "slide_type": "slide"
      }
     },
     "source": [
      "<h3 style=\"color:green\">Aufgaben</h3>\n",
      "1. Definieren Sie eine Klasse mit dem Namen `Text`, der beim Aufruf ein String \u00fcbergeben wird, z.B.:<br/>\n",
      "`t = Text(\"Dies ist ein kleiner Text. Nicht der Rede wert. Aber immerhin.\")`\n",
      "2. Definieren Sie eine Methode der Klasse, die die L\u00e4nge des Textes zur\u00fcckgibt.\n",
      "3. Definieren Sie eine weitere Methode, die die W\u00f6rter in Form einer Liste zur\u00fcckgibt."
     ]
    },
    {
     "cell_type": "markdown",
     "metadata": {
      "slideshow": {
       "slide_type": "slide"
      }
     },
     "source": [
      "<h3>Musterl\u00f6sung</h3>"
     ]
    },
    {
     "cell_type": "code",
     "collapsed": false,
     "input": [
      "class Text:\n",
      "    def __init__(self, text):\n",
      "        self.text = text\n",
      "    def length(self):\n",
      "        return len(self.text)\n",
      "    def words(self):\n",
      "        return self.text.split()\n",
      "t = Text(\"Dies ist ein kleiner Text. Nicht der Rede wert. Aber immerhin.\")\n",
      "print(\"L\u00e4nge:\", t.length())\n",
      "print(\"W\u00f6rter:\", t.words())"
     ],
     "language": "python",
     "metadata": {
      "slideshow": {
       "slide_type": "slide"
      }
     },
     "outputs": [
      {
       "output_type": "stream",
       "stream": "stdout",
       "text": [
        "L\u00e4nge: 62\n",
        "W\u00f6rter: ['Dies', 'ist', 'ein', 'kleiner', 'Text.', 'Nicht', 'der', 'Rede', 'wert.', 'Aber', 'immerhin.']\n"
       ]
      }
     ],
     "prompt_number": 23
    },
    {
     "cell_type": "markdown",
     "metadata": {
      "slideshow": {
       "slide_type": "slide"
      }
     },
     "source": [
      "<img src=\"files/images/inheritance.png\">"
     ]
    },
    {
     "cell_type": "code",
     "collapsed": false,
     "input": [
      "class Person:\n",
      "    \"\"\"defines a person\"\"\"\n",
      "    def __init__(self,name, email, adresse):\n",
      "        self.name = name\n",
      "        self.email = email\n",
      "        self.adresse = adresse\n",
      "\n",
      "    def getEmail(self):\n",
      "        return '\"' + self.name + '\" <' + self.email + '>'\n",
      "\n",
      "    def formattedEntry(self):\n",
      "        print (self.name)\n",
      "        print (self.adresse)\n",
      "        print (self.email)\n"
     ],
     "language": "python",
     "metadata": {
      "slideshow": {
       "slide_type": "subslide"
      }
     },
     "outputs": [],
     "prompt_number": 24
    },
    {
     "cell_type": "code",
     "collapsed": false,
     "input": [
      "class Mitarbeiter(Person):    #erbt von der Klasse Person\n",
      "    def __init__(self, name, email, adresse, abteilung, gehalt):\n",
      "        super().__init__(name, email, adresse)  # ruft Konstruktor der Oberklasse (super()) auf\n",
      "        self.abteilung = abteilung\n",
      "        self.gehalt = gehalt\n",
      "\n",
      "    def formattedEntry(self):                   # \u00fcberschreibt die gleichnamige Methode der Basisklasse\n",
      "        print (self.name)\n",
      "        print (self.adresse)\n",
      "        print (self.email)\n",
      "        print (self.abteilung)\n",
      "        print (self.gehalt)"
     ],
     "language": "python",
     "metadata": {
      "slideshow": {
       "slide_type": "subslide"
      }
     },
     "outputs": [],
     "prompt_number": 27
    },
    {
     "cell_type": "markdown",
     "metadata": {
      "slideshow": {
       "slide_type": "fragment"
      }
     },
     "source": [
      "<h3 style=\"color: green;\">Aufgabe</h3>\n",
      "Wir wollen eine Unterklasse zu `Text`, die wir `Document` nennen. Sie soll Texte verwalten, die Autoren und einen Titel haben. Diese Informationen sollen beim Initiieren der Klasse zus\u00e4tzlich angegeben werden.\n",
      "Au\u00dferdem soll Document eine zus\u00e4tzliche Methode namens `biblio` haben, die Autor und Titel in der Form \"Autor: Titel\" ausgibt."
     ]
    },
    {
     "cell_type": "markdown",
     "metadata": {
      "slideshow": {
       "slide_type": "slide"
      }
     },
     "source": [
      "<h3>Musterl\u00f6sung</h3>"
     ]
    },
    {
     "cell_type": "code",
     "collapsed": false,
     "input": [
      "class Document(Text):\n",
      "    def __init__(self, text, author, title):\n",
      "        super().__init__(text)\n",
      "        self.author = author\n",
      "        self.title = title\n",
      "    \n",
      "    def biblio(self):\n",
      "        return self.author + \": \" + self.title"
     ],
     "language": "python",
     "metadata": {
      "slideshow": {
       "slide_type": "fragment"
      }
     },
     "outputs": [],
     "prompt_number": 29
    },
    {
     "cell_type": "code",
     "collapsed": false,
     "input": [
      "d = Document(\"Dies ist der Text\", \"Goethe\", \"Wahlverwandtschaften\")\n",
      "print(d.biblio(), \" (\", d.length(), \")\")    # wir verwenden Methoden der Klasse Document und der \u00fcbergeordneten Klasse"
     ],
     "language": "python",
     "metadata": {
      "slideshow": {
       "slide_type": "slide"
      }
     },
     "outputs": [
      {
       "output_type": "stream",
       "stream": "stdout",
       "text": [
        "Goethe: Wahlverwandtschaften  ( 17 )\n"
       ]
      }
     ],
     "prompt_number": 30
    },
    {
     "cell_type": "markdown",
     "metadata": {
      "slideshow": {
       "slide_type": "slide"
      }
     },
     "source": [
      "<h3>Kapselung</h3>\n",
      "\n",
      "* Interna eines Objekts vor der Au\u00dfenwelt verbergen, Zugriff nur \u00fcber definierte Schnittstellen\n",
      "* In Python _keine_ direkte Unterst\u00fctzung f\u00fcr (forcierte) Kapselung\n",
      "* __Konvention__: Attribute und Methoden, die mit einem Unterstrich beginnen, sind intern/privat und sollten nicht von au\u00dfen zugegriffen werden"
     ]
    },
    {
     "cell_type": "markdown",
     "metadata": {
      "slideshow": {
       "slide_type": "slide"
      }
     },
     "source": [
      "<h3>Methoden \u00fcberladen</h3>\n",
      "<p>Oft ist es sinnvoll, dass eine Unterklasse eine Methode der Superklasse selbst\u00e4ndig berechnet, da hier andere Daten/Algorithmen zur Anwendung kommen. </p>"
     ]
    },
    {
     "cell_type": "code",
     "collapsed": false,
     "input": [
      "class XMLText(Text):\n",
      "    def length(self):\n",
      "        l = 0\n",
      "        NORMALTEXT = 0\n",
      "        MARKUP = 1\n",
      "        state = 0\n",
      "        for i in self.text:\n",
      "            if i == \"<\":\n",
      "                state = MARKUP\n",
      "            elif i == \">\" and state == MARKUP:\n",
      "                state = NORMALTEXT\n",
      "            if state == NORMALTEXT:\n",
      "                l += 1\n",
      "        return l\n",
      "\n",
      "t = \"<img src=dothis.png/>Here you <b>go</b>!\"\n",
      "a = Text(t)\n",
      "print (a.length())\n",
      "x = XMLText(t)\n",
      "print (x.length())"
     ],
     "language": "python",
     "metadata": {
      "slideshow": {
       "slide_type": "fragment"
      }
     },
     "outputs": [
      {
       "output_type": "stream",
       "stream": "stdout",
       "text": [
        "40\n",
        "15\n"
       ]
      }
     ],
     "prompt_number": 50
    },
    {
     "cell_type": "markdown",
     "metadata": {
      "slideshow": {
       "slide_type": "slide"
      }
     },
     "source": [
      "<h3 style=\"color:green\">Hausaufgaben</h3>\n",
      "<p>Setzen Sie das folgende Klassendiagramm um (die Angaben \u00fcber dem Strich sind Klassennamen, darunter finden sich Methodennamen. Bedenken Sie den jeweiligen Aufbau des Konstruktors:</p>\n",
      "<img src=\"files/images/inheritance-task.png\">"
     ]
    }
   ],
   "metadata": {}
  }
 ]
}