{
 "cells": [
  {
   "cell_type": "markdown",
   "metadata": {
    "slideshow": {
     "slide_type": "slide"
    }
   },
   "source": [
    "### Thorsten Vitt\n",
    "## Programmieren mit Python"
   ]
  },
  {
   "cell_type": "markdown",
   "metadata": {
    "slideshow": {
     "slide_type": "subslide"
    }
   },
   "source": [
    "## Einführung\n",
    "\n",
    "* Früher: Einführungskurs → jetzt in Informatik & Einführungstutorium\n",
    "* Jetzt: Vertiefung"
   ]
  },
  {
   "cell_type": "code",
   "execution_count": 1,
   "metadata": {},
   "outputs": [
    {
     "name": "stdout",
     "output_type": "stream",
     "text": [
      "Hello World\n"
     ]
    }
   ],
   "source": [
    "print(\"Hello World\")"
   ]
  },
  {
   "cell_type": "markdown",
   "metadata": {
    "slideshow": {
     "slide_type": "fragment"
    }
   },
   "source": [
    "#### Mögliche / Geplante Themen\n",
    "\n",
    "* Auffrischung \n",
    "* Arbeiten in Python-Umgebungen\n",
    "* Comprehensions und erweiterte Datenstrukturen\n",
    "* Funktionen als Objekte\n",
    "* Objektorientierung in Python\n",
    "* Externe Bibliotheken\n",
    "* Module und Packages\n",
    "* wissenschaftliches Programmieren"
   ]
  },
  {
   "cell_type": "markdown",
   "metadata": {
    "slideshow": {
     "slide_type": "subslide"
    }
   },
   "source": [
    "## Format\n",
    "\n",
    "* Lehrveranstaltungen: Vortrag, Fragen, Übungen\n",
    "\n",
    "   * Laptop mit Pythonumgebung mitbringen\n",
    "   \n",
    "* Standard-Hausaufgabe: Material nachbereiten, alle Übungen fertigmachen, ggf. Fragen überlegen\n",
    "\n",
    "* Prüfungsleistungen:\n",
    "\n",
    "    * 4 abzugebende Programmieraufgaben\n",
    "    * Klausur am **17.02.2020, 12:00**\n",
    "    \n",
    "* WueCampus-Kursraum\n",
    "* Fragen jederzeit"
   ]
  },
  {
   "cell_type": "markdown",
   "metadata": {
    "slideshow": {
     "slide_type": "slide"
    }
   },
   "source": [
    "## Python-Umgebungen\n",
    "\n",
    "* Für Einsteiger: [Thonny](https://thonny.org/)\n",
    "\n",
    "    * Portabel (USB-Stick / J:); bringt Python mit\n",
    "    * Einfache GUI\n",
    "    * Autovervollständigung und Hilfe\n",
    "    * Simpler Debugger"
   ]
  },
  {
   "cell_type": "markdown",
   "metadata": {
    "slideshow": {
     "slide_type": "fragment"
    }
   },
   "source": [
    "* Für Puristen: [Python + (das eingebaute) IDLE](https://www.python.org/downloads/)"
   ]
  },
  {
   "cell_type": "markdown",
   "metadata": {
    "slideshow": {
     "slide_type": "fragment"
    }
   },
   "source": [
    "* Wissenschaftliche Python-Distribution: [Anaconda](https://www.anaconda.com/distribution/)\n",
    "\n",
    "    * Kommt mit diversen, auch ggf. schwierig zu installierenden Paketen und eigenem Installer\n",
    "    * für Windows, MacOS, Linux\n",
    "    * bringt Jupyter (s.u.) mit sowie einfache IDE _Spyder_"
   ]
  },
  {
   "cell_type": "markdown",
   "metadata": {
    "slideshow": {
     "slide_type": "fragment"
    }
   },
   "source": [
    "* Professionelle IDE: [PyCharm](https://www.jetbrains.com/pycharm/)\n",
    "\n",
    "    * Umfangreiche Unterstützung auch beim Entwickeln komplexer Software\n",
    "    * ausgewachsener Debugger\n",
    "    * Codeanalysen, Refactoring, Tests …\n",
    "    * kostenlose Community-Version, sowie für Studierende/Lehrende kostenlose Professional-Version"
   ]
  },
  {
   "cell_type": "markdown",
   "metadata": {
    "slideshow": {
     "slide_type": "fragment"
    }
   },
   "source": [
    "* Programmieren im Browser: Jupyter Notebooks / Jupyter Lab\n",
    "\n",
    "    * Notebooks: Text + Codezellen, z.B. für wissenschaftliche Dokumentation oder Präsentationen\n",
    "    * Cloud-Anbieter, z.B. [Colaboratory (Google)](https://colab.research.google.com/) mit Google-Drive-Einbindung"
   ]
  },
  {
   "cell_type": "markdown",
   "metadata": {
    "slideshow": {
     "slide_type": "fragment"
    }
   },
   "source": [
    "Empfehlung: __Anaconda__ + __PyCharm__ bringt Sie durch’s Studium. ÜA: Beides auf Laptop installieren und mitbringen."
   ]
  },
  {
   "cell_type": "markdown",
   "metadata": {
    "slideshow": {
     "slide_type": "slide"
    }
   },
   "source": [
    "## Python: Auffrischung"
   ]
  },
  {
   "cell_type": "code",
   "execution_count": 3,
   "metadata": {
    "slideshow": {
     "slide_type": "-"
    }
   },
   "outputs": [
    {
     "name": "stdout",
     "output_type": "stream",
     "text": [
      "Hello World\n"
     ]
    }
   ],
   "source": [
    "print(\"Hello\",\n",
    "      \"World\")           # ein einfaches Programm\n",
    "x = 3 + 4 \\\n",
    "    + 5"
   ]
  },
  {
   "cell_type": "markdown",
   "metadata": {
    "slideshow": {
     "slide_type": "fragment"
    }
   },
   "source": [
    "#### Übungsaufgabe\n",
    "\n",
    "Schreiben Sie ein einfaches Programm, das berechnet, wie viele Sekunden 5 Wochen entsprechen."
   ]
  },
  {
   "cell_type": "code",
   "execution_count": null,
   "metadata": {
    "slideshow": {
     "slide_type": "-"
    }
   },
   "outputs": [],
   "source": []
  },
  {
   "cell_type": "code",
   "execution_count": 7,
   "metadata": {
    "slideshow": {
     "slide_type": "fragment"
    }
   },
   "outputs": [
    {
     "name": "stdout",
     "output_type": "stream",
     "text": [
      "3024000\n"
     ]
    }
   ],
   "source": [
    "print(60 * 60 * 24 * 7 * 5)"
   ]
  },
  {
   "cell_type": "markdown",
   "metadata": {
    "slideshow": {
     "slide_type": "subslide"
    }
   },
   "source": [
    "### Literale, Ausdrücke, Variablen, Zuweisungen\n",
    "\n",
    "* Code, der zu irgendeinem Wert ausgewertet werden kann, heißt __Ausdruck__, z.B. `1` oder `\"Hallo\" + \"Welt\"` oder `5 + 3 * 7` oder `max(3*3, 5)`\n",
    "* Das Ergebnis eines Ausdrucks kann einer __Variablen__ __zugewiesen__ werden:"
   ]
  },
  {
   "cell_type": "code",
   "execution_count": 9,
   "metadata": {
    "slideshow": {
     "slide_type": "-"
    }
   },
   "outputs": [
    {
     "name": "stdout",
     "output_type": "stream",
     "text": [
      "3024000\n"
     ]
    }
   ],
   "source": [
    "hour = 60 * 60      # Rechnet 60 * 60 aus, speichert das Ergebnis in hour\n",
    "day = 24 * hour     # verwendet die Variable hour\n",
    "week = 7 * day\n",
    "print(5 * week)"
   ]
  },
  {
   "cell_type": "markdown",
   "metadata": {
    "slideshow": {
     "slide_type": "fragment"
    }
   },
   "source": [
    "Der Wert von Variablen kann geändert werden:"
   ]
  },
  {
   "cell_type": "code",
   "execution_count": 10,
   "metadata": {
    "slideshow": {
     "slide_type": "fragment"
    }
   },
   "outputs": [],
   "source": [
    "books_read = 5 \n",
    "books_read = books_read + 1    "
   ]
  },
  {
   "cell_type": "markdown",
   "metadata": {
    "slideshow": {
     "slide_type": "-"
    }
   },
   "source": [
    "### Datentypen\n",
    "\n",
    "Was ist das Ergebnis der folgenden Ausdrücke?\n",
    "\n",
    "a) `4 + 2` \\\n",
    "b) `\"4\" + \"2\"` \\\n",
    "c) `4 / 2` \\\n",
    "d) `4 + \"2\"`"
   ]
  },
  {
   "cell_type": "code",
   "execution_count": 12,
   "metadata": {
    "slideshow": {
     "slide_type": "fragment"
    }
   },
   "outputs": [
    {
     "name": "stdout",
     "output_type": "stream",
     "text": [
      "a) 6\n"
     ]
    }
   ],
   "source": [
    "print(\"a)\",  4  + 2)"
   ]
  },
  {
   "cell_type": "code",
   "execution_count": 13,
   "metadata": {
    "slideshow": {
     "slide_type": "fragment"
    }
   },
   "outputs": [
    {
     "name": "stdout",
     "output_type": "stream",
     "text": [
      "b) 42\n"
     ]
    }
   ],
   "source": [
    "print(\"b)\", \"4\" + \"2\")"
   ]
  },
  {
   "cell_type": "code",
   "execution_count": 14,
   "metadata": {
    "slideshow": {
     "slide_type": "fragment"
    }
   },
   "outputs": [
    {
     "name": "stdout",
     "output_type": "stream",
     "text": [
      "c) 2.0\n"
     ]
    }
   ],
   "source": [
    "print(\"c)\",  4  /  2)"
   ]
  },
  {
   "cell_type": "code",
   "execution_count": 15,
   "metadata": {
    "slideshow": {
     "slide_type": "fragment"
    }
   },
   "outputs": [
    {
     "ename": "TypeError",
     "evalue": "unsupported operand type(s) for +: 'int' and 'str'",
     "output_type": "error",
     "traceback": [
      "\u001b[0;31m---------------------------------------------------------------------------\u001b[0m",
      "\u001b[0;31mTypeError\u001b[0m                                 Traceback (most recent call last)",
      "\u001b[0;32m<ipython-input-15-588276e47b0d>\u001b[0m in \u001b[0;36m<module>\u001b[0;34m()\u001b[0m\n\u001b[0;32m----> 1\u001b[0;31m \u001b[0mprint\u001b[0m\u001b[0;34m(\u001b[0m\u001b[0;34m\"d)\"\u001b[0m\u001b[0;34m,\u001b[0m  \u001b[0;36m4\u001b[0m  \u001b[0;34m+\u001b[0m \u001b[0;34m\"2\"\u001b[0m\u001b[0;34m)\u001b[0m\u001b[0;34m\u001b[0m\u001b[0;34m\u001b[0m\u001b[0m\n\u001b[0m",
      "\u001b[0;31mTypeError\u001b[0m: unsupported operand type(s) for +: 'int' and 'str'"
     ]
    }
   ],
   "source": [
    "print(\"d)\",  4  + \"2\")"
   ]
  },
  {
   "cell_type": "markdown",
   "metadata": {
    "slideshow": {
     "slide_type": "subslide"
    }
   },
   "source": [
    "### Datentypen\n",
    "\n",
    "* Ein Datentyp bestimmt die möglichen Werte und Operationen\n",
    "* Den Datentyp eines Werts finden Sie mit `type(wert)` heraus"
   ]
  },
  {
   "cell_type": "code",
   "execution_count": 16,
   "metadata": {
    "slideshow": {
     "slide_type": "-"
    }
   },
   "outputs": [
    {
     "name": "stdout",
     "output_type": "stream",
     "text": [
      "<class 'int'>\n",
      "<class 'bool'>\n"
     ]
    }
   ],
   "source": [
    "print(type(42))\n",
    "print(type(4 == 2))"
   ]
  },
  {
   "cell_type": "markdown",
   "metadata": {
    "slideshow": {
     "slide_type": "subslide"
    }
   },
   "source": [
    "### Einfache Datentypen in Python\n",
    "\n",
    "| Typisches Literal | Typ     | Beschreibung            |\n",
    "|:------------------|:--------|:------------------------|\n",
    "| `5`, `-42`        | `int`   | Ganze Zahl (*Integer*)  |\n",
    "| `5.0`, `-3.75`    | `float` | Fließkommazahl          |\n",
    "| `\"Hallo\"`         | `str`   | Zeichenkette (*String*) |\n",
    "| `True`, `False`   | `bool`  | Wahrheitswert           |\n"
   ]
  },
  {
   "cell_type": "markdown",
   "metadata": {
    "slideshow": {
     "slide_type": "subslide"
    }
   },
   "source": [
    "### Datenstrukturen: Listen\n",
    "\n",
    "* Listen (Datentyp `list`) enthalten eine Sequenz von Werten, die durch eine 'Hausnummer' identifiziert werden\n",
    "* Python zählt ab 0"
   ]
  },
  {
   "cell_type": "code",
   "execution_count": 18,
   "metadata": {
    "slideshow": {
     "slide_type": "fragment"
    }
   },
   "outputs": [
    {
     "name": "stdout",
     "output_type": "stream",
     "text": [
      "Goethe\n",
      "Droste-Hülshoff\n",
      "['Schiller', 'Seghers']\n",
      "4\n"
     ]
    }
   ],
   "source": [
    "dichter = ['Goethe', 'Schiller', 'Seghers', 'Droste-Hülshoff']\n",
    "print(dichter[0])    # erstes Element\n",
    "print(dichter[-1])   # letztes Element\n",
    "print(dichter[1:3])  # Nr. 1 bis ausschließlich Nr. 3\n",
    "print(len(dichter))  # Länge"
   ]
  },
  {
   "cell_type": "markdown",
   "metadata": {
    "slideshow": {
     "slide_type": "subslide"
    }
   },
   "source": [
    "* Listen sind veränderlich"
   ]
  },
  {
   "cell_type": "code",
   "execution_count": 19,
   "metadata": {
    "slideshow": {
     "slide_type": "fragment"
    }
   },
   "outputs": [
    {
     "name": "stdout",
     "output_type": "stream",
     "text": [
      "['Goethe', 'Schiller', 'Kafka', 'Droste-Hülshoff', 'Fontane']\n"
     ]
    }
   ],
   "source": [
    "dichter.append('Fontane')\n",
    "dichter[2] = 'Kafka'\n",
    "print(dichter)"
   ]
  },
  {
   "cell_type": "markdown",
   "metadata": {
    "slideshow": {
     "slide_type": "subslide"
    }
   },
   "source": [
    "### Datenstrukturen: Dictionaries\n",
    "\n",
    "* Ein Dictionary (assoziatives Array) bildet Schlüssel auf Werte ab"
   ]
  },
  {
   "cell_type": "code",
   "execution_count": 20,
   "metadata": {
    "slideshow": {
     "slide_type": "-"
    }
   },
   "outputs": [
    {
     "name": "stdout",
     "output_type": "stream",
     "text": [
      "80079\n"
     ]
    }
   ],
   "source": [
    "durchwahl = {'Jannidis': '80078',\n",
    "               'Vitt': '80079',\n",
    "               'Gersitz': '88421'}\n",
    "print(durchwahl['Vitt'])"
   ]
  },
  {
   "cell_type": "code",
   "execution_count": 21,
   "metadata": {
    "slideshow": {
     "slide_type": "fragment"
    }
   },
   "outputs": [
    {
     "name": "stdout",
     "output_type": "stream",
     "text": [
      "dict_keys(['Jannidis', 'Vitt', 'Gersitz']) dict_values(['80078', '80079', '88421'])\n"
     ]
    }
   ],
   "source": [
    "print(durchwahl.keys(), durchwahl.values())"
   ]
  },
  {
   "cell_type": "markdown",
   "metadata": {
    "slideshow": {
     "slide_type": "subslide"
    }
   },
   "source": [
    "### Kontrollstrukturen: Bedingte Verzweigung"
   ]
  },
  {
   "cell_type": "code",
   "execution_count": 23,
   "metadata": {
    "slideshow": {
     "slide_type": "-"
    }
   },
   "outputs": [
    {
     "name": "stdout",
     "output_type": "stream",
     "text": [
      "i is positive\n"
     ]
    }
   ],
   "source": [
    "i = 42\n",
    "if i < 0:\n",
    "      print(\"i is negative\")\n",
    "elif i == 0:\n",
    "    print(\"i is 0\")\n",
    "    print(\"Yay!\")\n",
    "else:\n",
    "    print(\"i is positive\")"
   ]
  },
  {
   "cell_type": "markdown",
   "metadata": {
    "slideshow": {
     "slide_type": "subslide"
    }
   },
   "source": [
    "### Kontrollstrukturen: while-Schleifen"
   ]
  },
  {
   "cell_type": "code",
   "execution_count": 24,
   "metadata": {
    "slideshow": {
     "slide_type": "-"
    }
   },
   "outputs": [
    {
     "name": "stdout",
     "output_type": "stream",
     "text": [
      "Was ist der Sinn des Lebens usw? 23\n",
      "Nö. Versuch's nochmal. 42\n",
      "'42'\n"
     ]
    }
   ],
   "source": [
    "answer = input(\"Was ist der Sinn des Lebens usw? \")\n",
    "while answer != \"42\":\n",
    "    answer = input(\"Nö. Versuch's nochmal. \")\n",
    "    print(\"'\"+answer+\"'\")"
   ]
  },
  {
   "cell_type": "markdown",
   "metadata": {
    "slideshow": {
     "slide_type": "subslide"
    }
   },
   "source": [
    "### Kontrollstrukturen: for-Schleifen"
   ]
  },
  {
   "cell_type": "code",
   "execution_count": 25,
   "metadata": {
    "slideshow": {
     "slide_type": "-"
    }
   },
   "outputs": [
    {
     "name": "stdout",
     "output_type": "stream",
     "text": [
      "Jannidis kann unter 80078 erreicht werden.\n",
      "Vitt kann unter 80079 erreicht werden.\n",
      "Gersitz kann unter 88421 erreicht werden.\n",
      "P Q R S T U V W X Y "
     ]
    }
   ],
   "source": [
    "for mitarbeiter in durchwahl:\n",
    "    print(mitarbeiter, 'kann unter', durchwahl[mitarbeiter], 'erreicht werden.')\n",
    "\n",
    "for codepoint in range(80, 90):\n",
    "    print(chr(codepoint),end=\" \")"
   ]
  },
  {
   "cell_type": "markdown",
   "metadata": {
    "slideshow": {
     "slide_type": "subslide"
    }
   },
   "source": [
    "### Funktionen\n",
    "\n",
    "Funktionen dienen der Modularisierung und kapseln Funktionalität, die öfters benötigt wird."
   ]
  },
  {
   "cell_type": "code",
   "execution_count": 27,
   "metadata": {
    "slideshow": {
     "slide_type": "-"
    }
   },
   "outputs": [
    {
     "name": "stdout",
     "output_type": "stream",
     "text": [
      "—a—b—c→\n"
     ]
    }
   ],
   "source": [
    "def make_arrow(vias):\n",
    "    result = ''\n",
    "    for item in vias:\n",
    "        result += '—' + str(item)\n",
    "    result += '→'\n",
    "    return result\n",
    "\n",
    "print(make_arrow(['a', 'b', 'c']))"
   ]
  },
  {
   "cell_type": "markdown",
   "metadata": {
    "slideshow": {
     "slide_type": "slide"
    }
   },
   "source": [
    "### Übungsaufgabe 2\n",
    "\n",
    "Schreiben Sie ein Programm, das zählt, wieviele `i` im Satz _Die Ilias ist eines der ältesten schriftlich fixierten fiktionalen Werke Europas._ vorkommen. Variante: Berücksichtigen Sie groß- und kleingeschriebene `i`."
   ]
  },
  {
   "cell_type": "markdown",
   "metadata": {
    "slideshow": {
     "slide_type": "fragment"
    }
   },
   "source": [
    "### Übungsaufgabe 3\n",
    "\n",
    "Auf WueCampus finden Sie eine Textdatei. Finden Sie mit Python heraus, wie oft das Wort `Effi` in dieser Datei vorkommt."
   ]
  },
  {
   "cell_type": "markdown",
   "metadata": {
    "slideshow": {
     "slide_type": "fragment"
    }
   },
   "source": [
    "### Übungsaufgabe 4\n",
    "\n",
    "Erzeugen Sie aus der Datei aus Übungsaufgabe 3 eine Worthäufigkeitstabelle, d.h. eine Datenstruktur, die repräsentiert, wie oft jede Wortform in diesem Text vorkommt."
   ]
  },
  {
   "cell_type": "code",
   "execution_count": null,
   "metadata": {},
   "outputs": [],
   "source": []
  }
 ],
 "metadata": {
  "kernelspec": {
   "display_name": "Python 3",
   "language": "python",
   "name": "python3"
  },
  "language_info": {
   "codemirror_mode": {
    "name": "ipython",
    "version": 3
   },
   "file_extension": ".py",
   "mimetype": "text/x-python",
   "name": "python",
   "nbconvert_exporter": "python",
   "pygments_lexer": "ipython3",
   "version": "3.7.5rc1"
  }
 },
 "nbformat": 4,
 "nbformat_minor": 2
}
