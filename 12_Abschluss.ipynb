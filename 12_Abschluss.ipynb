{
 "cells": [
  {
   "cell_type": "markdown",
   "metadata": {
    "slideshow": {
     "slide_type": "-"
    }
   },
   "source": [
    "## Einführung in das Programmieren mit Python"
   ]
  },
  {
   "cell_type": "markdown",
   "metadata": {
    "slideshow": {
     "slide_type": "-"
    }
   },
   "source": [
    "# Strings bearbeiten mit regulären Ausdrücken"
   ]
  },
  {
   "cell_type": "markdown",
   "metadata": {
    "slideshow": {
     "slide_type": "slide"
    }
   },
   "source": [
    "## Klausur\n",
    "\n",
    "* __Mo. 11.02.2018  \t12:00 Uhr s.t.__\n",
    "* __Phil.-Geb. - Hörsaal 4__\n",
    "\n",
    "Ablauf:\n",
    "\n",
    "* seien Sie pünktlich __vor__ dem Hörsaal\n",
    "* ich lege die Klausuren aus und bitte Sie herein\n",
    "* Auf den Tisch dürfen:\n",
    "\n",
    "   * Stifte (nicht mit rot oder grün oder Bleistift schreiben)\n",
    "   * Studierendenausweis\n",
    "   * Wasser\n",
    "   * gedrucktes Wörterbuch _natürliche Sprache_ <> Deutsch, wird ggf. auf Spickzettel korrigiert\n",
    "   \n",
    "* Handy vorher aus und wegpacken\n",
    "* Spicken, Kramen, Abschreiben, Handybenutzen → Betrugsversuch\n",
    "* __gewünschte Prüfung (PO 2012/2015 sowie benotet/unbenotet) ankreuzen__\n",
    "* Sie haben 30 – max. 45 Minuten"
   ]
  },
  {
   "cell_type": "markdown",
   "metadata": {
    "slideshow": {
     "slide_type": "slide"
    }
   },
   "source": [
    "### Reguläre Ausdrücke\n",
    "\n",
    "* Minisprache zur Beschreibung von Klassen von Zeichenketten\n",
    "* Typische Anwendungen: Suchen, Ersetzen, Aufteilen, Umstellen von Zeichenketten, Extrahieren von Informationen aus Zeichenketten\n",
    "* Beispiel: Literaturangaben in der Digitalen Bibliothek:\n",
    "\n",
    "> Achim von Arnim: Sämmtliche Werke. Band 16, Berlin 1846\n",
    "\n",
    "* reguläre Ausdrücke werden (mit leichten Abweichungen) von allen modernen Programmiersprachen und von allen halbwegs leistungsfähigen Texteditoren unterstützt"
   ]
  },
  {
   "cell_type": "markdown",
   "metadata": {
    "slideshow": {
     "slide_type": "fragment"
    }
   },
   "source": [
    "### Einfache reguläre Ausdrücke\n",
    "\n",
    "* »normale« Zeichen (= keine Metazeichen) matchen sich selbst. `a` matcht `a`.\n",
    "    * __Metazeichen__ sind `. ^ $ * + ? { } [ ] \\ | ( )`, sie können gematcht werden, indem man einen `\\` voranstellt \n",
    "* Ein Punkt `.` matcht ein beliebiges Zeichen (außer Newline). `.` matcht `a` oder `b` oder …    \n",
    "* Zusammensetzen = Hintereinanderschreiben.\n",
    "    * `abc` matcht \"abc\"\n",
    "    * `H. h. h.` matcht z.B. \"Ha ha ha\" oder \"Ho ho ho\" oder \"He ha hi\""
   ]
  },
  {
   "cell_type": "markdown",
   "metadata": {
    "slideshow": {
     "slide_type": "slide"
    }
   },
   "source": [
    "### Zeichenklassen\n",
    "\n",
    "* `[abc]` matcht ein Zeichen, das `a` oder `b` oder `c` ist.\n",
    "* `[A-Fa-f]` matcht einen der Groß- oder Kleinbuchstaben von A bis F\n",
    "* `^` am Beginn einer Zeichenklasse invertiert die Klasse:\n",
    "   * `[^0-9]` matcht jedes Zeichen, das _keine_ Ziffer von 0-9 ist\n",
    "* In Zeichenklassen gelten Metazeichen nicht: `[.]` matcht ebenso wie `\\.` einen Punkt"
   ]
  },
  {
   "cell_type": "markdown",
   "metadata": {
    "slideshow": {
     "slide_type": "fragment"
    }
   },
   "source": [
    "#### häufige Zeichenklassen\n",
    "\n",
    "-   `.` jedes Zeichen außer neue Zeile (`\\n`)\n",
    "-   `\\d` jede Ziffer, z.B. 1, 4, 0 <br/>\n",
    "    `\\D` jedes Zeichen, das **keine** Ziffer ist.\n",
    "-   `\\s` jedes whitespace-Zeichen, z.B. Leerzeichen, `\\n`, `\\t`\n",
    "    `\\S` jedes Zeichen, das **kein** whitespace ist.<br/>\n",
    "-   `\\w` »Identifier-Zeichen«, also Buchstaben, z.B. A g ö ß 4 é € α И, Ziffern, Unterstrich `_` <br/>\n",
    "    `\\W` jedes Zeichen, das **kein** Identifier-Zeichen ist.\n",
    "\n",
    "Die Definitionen beziehen sich auf die Unicode-Zeicheneigenschaften. Wer Zugriff auf die kompletten Unicode-Properties will, muss das externe Modul _regex_ installieren."
   ]
  },
  {
   "cell_type": "markdown",
   "metadata": {
    "slideshow": {
     "slide_type": "skip"
    }
   },
   "source": [
    "### Entwickeln regulärer Ausdrücke"
   ]
  },
  {
   "cell_type": "markdown",
   "metadata": {
    "slideshow": {
     "slide_type": "skip"
    }
   },
   "source": [
    "Es gibt Tools, die Ihnen bei der Entwicklung komplexer regulärer Ausdrücke helfen, indem sie die Treffer (und Gruppen, s.u.) eines regulären Ausdrucks in einem Beispielstring direkt beim Bearbeiten des Patterns markieren, z.B.:\n",
    "\n",
    "* [regex101.com](https://regex101.com/#python) oder [pythex.org](http://pythex.org/) im Web\n",
    "* [redemo.py](https://hg.python.org/cpython/file/3.3/Tools/demo/redemo.py) als lokale Anwendung aus dem Python-Projekt selbst"
   ]
  },
  {
   "cell_type": "markdown",
   "metadata": {
    "slideshow": {
     "slide_type": "slide"
    }
   },
   "source": [
    "### Wiederholungen\n",
    "* `*` matcht auf **0 oder mehr** Wiederholungen des vorherigen Zeichens/Teilausdrucks\n",
    "* `+` matcht auf **1 oder mehr** Wiederholungen des vorherigen Zeichens/Teilausdrucks\n",
    "* `?` matcht auf **0 oder 1** Wiederholungen des vorherigen Zeichens/Teilausdrucks\n",
    "* `{n,m}` matcht auf **n bis m** Wiederholungen des vorherigen Zeichens/Teilausdrucks \n",
    "    \n",
    "    * `{n}` exakt n Wiederholungen, `{n,}` mindestens n, `{,m}` höchstens m"
   ]
  },
  {
   "cell_type": "code",
   "execution_count": 2,
   "metadata": {},
   "outputs": [
    {
     "data": {
      "text/plain": [
       "['16', '1846']"
      ]
     },
     "execution_count": 2,
     "metadata": {},
     "output_type": "execute_result"
    }
   ],
   "source": [
    "import re\n",
    "re.findall(r'\\d+', 'Achim von Arnim: Sämmtliche Werke. Band 16, Berlin 1846')"
   ]
  },
  {
   "cell_type": "markdown",
   "metadata": {
    "slideshow": {
     "slide_type": "slide"
    }
   },
   "source": [
    "### Positionen / Anker\n",
    "… matchen nicht _auf_, sondern _vor/nach/zwischen_ Zeichen\n",
    "\n",
    "* `^` matcht den Anfang eines Strings\n",
    "* `$` matcht das Ende eines Strings\n",
    "* `\\b` matcht eine _Word Boundary_, d.h. den leeren String, aber nur am Anfang oder Ende eines Worts\n",
    "* `\\B` matcht den leeren String, aber nur im Inneren eines Worts\n"
   ]
  },
  {
   "cell_type": "code",
   "execution_count": 4,
   "metadata": {
    "slideshow": {
     "slide_type": "fragment"
    }
   },
   "outputs": [
    {
     "data": {
      "text/plain": [
       "['booted']"
      ]
     },
     "execution_count": 4,
     "metadata": {},
     "output_type": "execute_result"
    }
   ],
   "source": [
    "re.findall(r\"\\bbo\\w+\",            # Wortgrenze + bo + Buchstaben = Wörter, die mit 'bo' beginnen\n",
    "           \"She booted the robot\")"
   ]
  },
  {
   "cell_type": "markdown",
   "metadata": {
    "slideshow": {
     "slide_type": "subslide"
    }
   },
   "source": [
    "### Übung\n",
    "\n",
    "`s = 'Achim von Arnim: Sämmtliche Werke. Band 16, Berlin 1846'`\n",
    "\n",
    "Finden Sie Zahlen am Ende des Strings."
   ]
  },
  {
   "cell_type": "markdown",
   "metadata": {
    "slideshow": {
     "slide_type": "slide"
    }
   },
   "source": [
    "### Reguläre Ausdrücke in Python anwenden\n",
    "\n",
    "* Modul `re`\n",
    "* Leistungsfähigeres Modul `regex`, muss ggf. nachinstalliert werden: `pip install regex` an der Kommandozeile\n",
    "   * Unterstützt z.B. Unicode-Zeichenklassen: `\\p{L}` = Buchstaben in allen Schriftsystemen"
   ]
  },
  {
   "cell_type": "code",
   "execution_count": 5,
   "metadata": {
    "slideshow": {
     "slide_type": "fragment"
    }
   },
   "outputs": [
    {
     "name": "stdout",
     "output_type": "stream",
     "text": [
      "['Achim', 'von', 'Arnim', 'Sämmtliche', 'Werke', 'Band', '16', 'Berlin', '1846']\n"
     ]
    }
   ],
   "source": [
    "import re\n",
    "text = 'Achim von Arnim: Sämmtliche Werke. Band 16, Berlin 1846'\n",
    "\n",
    "# Alle Treffer:\n",
    "print(re.findall('\\w+', text))"
   ]
  },
  {
   "cell_type": "code",
   "execution_count": 7,
   "metadata": {
    "slideshow": {
     "slide_type": "fragment"
    }
   },
   "outputs": [
    {
     "name": "stdout",
     "output_type": "stream",
     "text": [
      "Achim von Arnim: Sämmtliche Werke. Band XXX, Berlin XXX\n"
     ]
    }
   ],
   "source": [
    "# Ersetzen:\n",
    "\n",
    "print(re.sub('\\d+', 'XXX', text))"
   ]
  },
  {
   "cell_type": "code",
   "execution_count": 8,
   "metadata": {
    "slideshow": {
     "slide_type": "subslide"
    }
   },
   "outputs": [
    {
     "name": "stdout",
     "output_type": "stream",
     "text": [
      "<_sre.SRE_Match object; span=(0, 5), match='Achim'>\n",
      "None\n"
     ]
    }
   ],
   "source": [
    "# Treffer ab Anfang, mehr Info:\n",
    "print(re.match(r'\\w+', text))\n",
    "print(re.match(r'\\d+', text))"
   ]
  },
  {
   "cell_type": "code",
   "execution_count": 43,
   "metadata": {
    "slideshow": {
     "slide_type": "fragment"
    }
   },
   "outputs": [
    {
     "name": "stdout",
     "output_type": "stream",
     "text": [
      "<_sre.SRE_Match object; span=(40, 42), match='16'>\n"
     ]
    }
   ],
   "source": [
    "# Treffer irgendwo, mehr Info:\n",
    "print(re.search(r'\\d+', s))"
   ]
  },
  {
   "cell_type": "code",
   "execution_count": 9,
   "metadata": {
    "slideshow": {
     "slide_type": "fragment"
    }
   },
   "outputs": [
    {
     "name": "stdout",
     "output_type": "stream",
     "text": [
      "<_sre.SRE_Match object; span=(40, 42), match='16'>\n",
      "<_sre.SRE_Match object; span=(51, 55), match='1846'>\n"
     ]
    }
   ],
   "source": [
    "# Alle Treffer, mehr Info:\n",
    "for match in re.finditer(r'\\d+', text):\n",
    "    print(match)"
   ]
  },
  {
   "cell_type": "markdown",
   "metadata": {
    "slideshow": {
     "slide_type": "slide"
    }
   },
   "source": [
    "### Gruppierungen\n",
    "\n",
    "* Runde Klammern um einen Teilausdruck bilden eine **Gruppe**.\n",
    "* Quantoren gelten für die ganze Gruppe → `(bla)+` matcht `blablabla`\n",
    "* Gruppen können separat referenziert werden\n",
    "* findall mit Gruppen liefert Liste mit Tupeln"
   ]
  },
  {
   "cell_type": "code",
   "execution_count": 20,
   "metadata": {
    "slideshow": {
     "slide_type": "fragment"
    }
   },
   "outputs": [
    {
     "data": {
      "text/plain": [
       "('Frau Mustermann',)"
      ]
     },
     "execution_count": 20,
     "metadata": {},
     "output_type": "execute_result"
    }
   ],
   "source": [
    "s = \"Sehr geehrte Frau Mustermann,\"\n",
    "m = re.match(\"Sehr geehrter? (.*),\", s)\n",
    "m.groups()"
   ]
  },
  {
   "cell_type": "markdown",
   "metadata": {
    "slideshow": {
     "slide_type": "fragment"
    }
   },
   "source": [
    "N.B.:\n",
    "* `('Frau Mustermann',)` ist ein __Tupel__. \n",
    "* Tupel (Datentyp `tuple`) sind Listen ähnlich, aber unveränderlich\n",
    "* Das Literal verwendet runde Klammern statt eckiger, mindestens ein Komma muss vorhanden sein"
   ]
  },
  {
   "cell_type": "markdown",
   "metadata": {
    "slideshow": {
     "slide_type": "subslide"
    }
   },
   "source": [
    "Gruppen können mit `\\1`, `\\2`, ... auch innerhalb des Ausdrucks oder in einem Ersetzungsstring bei `re.sub` referenziert werden:\n"
   ]
  },
  {
   "cell_type": "code",
   "execution_count": 22,
   "metadata": {
    "slideshow": {
     "slide_type": "fragment"
    }
   },
   "outputs": [
    {
     "name": "stdout",
     "output_type": "stream",
     "text": [
      "n += 1; test += n; n = test + 1\n"
     ]
    }
   ],
   "source": [
    "expr = \"n = n + 1; test = test + n; n = test + 1\"\n",
    "simplified = re.sub(r\"(\\w+) = \\1 \\+ (\\w+)\",   # diese RE bildet zwei Gruppen, die in der RE (\\1) …\n",
    "                    r\"\\1 += \\2\",              # und im 'ersetzen'-String (\\1, \\2) referenziert werden\n",
    "                    expr)\n",
    "print(simplified)"
   ]
  },
  {
   "cell_type": "markdown",
   "metadata": {
    "slideshow": {
     "slide_type": "subslide"
    }
   },
   "source": [
    "### Aufgabe\n",
    "\n",
    "Datumsangaben erfolgen in der IT-Welt oft normalisiert nach ISO 8601 in der Form JJJJ-MM-TT. Schreiben Sie ein kleines Skript, das die Datumsangaben hier umformt:\n",
    "\n",
    "* `31.01.1900`\n",
    "* `07.10.2016`"
   ]
  },
  {
   "cell_type": "code",
   "execution_count": 23,
   "metadata": {
    "slideshow": {
     "slide_type": "subslide"
    }
   },
   "outputs": [
    {
     "name": "stdout",
     "output_type": "stream",
     "text": [
      "1900-01-31\n",
      "2016-10-07\n"
     ]
    }
   ],
   "source": [
    "def normalize_german_date(german_date):\n",
    "    return re.sub(r'(\\d\\d)\\.\\s*(\\d\\d)\\.\\s*(\\d+)', r'\\3-\\2-\\1', german_date)\n",
    "\n",
    "print(normalize_german_date('31.01.1900'))\n",
    "print(normalize_german_date('07.10.2016'))"
   ]
  },
  {
   "cell_type": "markdown",
   "metadata": {
    "slideshow": {
     "slide_type": "subslide"
    }
   },
   "source": [
    "### findall mit Gruppen\n",
    "\n",
    "Stehen in dem Pattern von `re.findall` Gruppen, so ist das Ergebnis eine Liste von Tupeln der Gruppen:"
   ]
  },
  {
   "cell_type": "code",
   "execution_count": 33,
   "metadata": {
    "slideshow": {
     "slide_type": "-"
    }
   },
   "outputs": [
    {
     "name": "stdout",
     "output_type": "stream",
     "text": [
      "Name:  Maria Musterfrau \tAdresse:  musterfrau@example.com\n",
      "Name:  Arndt Alliteration \tAdresse:  ali@dichtkunst.de\n"
     ]
    }
   ],
   "source": [
    "text = 'Von \"Maria Musterfrau\" <musterfrau@example.com> an \"Arndt Alliteration\" <ali@dichtkunst.de>'\n",
    "addresses = re.findall(r'\"([^\"]+)\"\\s*<([^>]+)>', text)\n",
    "\n",
    "for person in addresses:\n",
    "    print(\"Name: \", person[0], \"\\tAdresse: \", person[1])"
   ]
  },
  {
   "cell_type": "markdown",
   "metadata": {
    "slideshow": {
     "slide_type": "slide"
    }
   },
   "source": [
    "<h3>Greedy vs. Non-Greedy</h3>\n",
    "<p>Voreinstellung: greedy, d.h. das die größtmögliche Zeichenkette gesucht wird, die zum regulären Ausdruck passt.</p>\n",
    "<p>Durch ? nach dem Quantifier Umstellung auf non-greedy</p>\n",
    "\n",
    "Welches Ergebnis hat `re.findall(\"b.*t\", \"She booted the robot.\")`?"
   ]
  },
  {
   "cell_type": "code",
   "execution_count": 19,
   "metadata": {
    "slideshow": {
     "slide_type": "fragment"
    }
   },
   "outputs": [
    {
     "data": {
      "text/plain": [
       "['booted the robot']"
      ]
     },
     "execution_count": 19,
     "metadata": {},
     "output_type": "execute_result"
    }
   ],
   "source": [
    "re.findall(\"b.*t\", \"She booted the robot.\")"
   ]
  },
  {
   "cell_type": "code",
   "execution_count": 21,
   "metadata": {
    "slideshow": {
     "slide_type": "fragment"
    }
   },
   "outputs": [
    {
     "data": {
      "text/plain": [
       "['boot', 'bot']"
      ]
     },
     "execution_count": 21,
     "metadata": {},
     "output_type": "execute_result"
    }
   ],
   "source": [
    "re.findall(\"b.*?t\", \"She booted the robot.\")"
   ]
  },
  {
   "cell_type": "markdown",
   "metadata": {
    "slideshow": {
     "slide_type": "slide"
    }
   },
   "source": [
    "### Oder\n",
    "\n",
    "Mit `|` können Sie nach Alternativen suchen:"
   ]
  },
  {
   "cell_type": "code",
   "execution_count": 22,
   "metadata": {
    "slideshow": {
     "slide_type": "fragment"
    }
   },
   "outputs": [
    {
     "name": "stdout",
     "output_type": "stream",
     "text": [
      "Todesursache: Haibiss\n",
      "Todesursache: Piranhas\n",
      "Todesursache: Krokodile\n"
     ]
    }
   ],
   "source": [
    "for match in re.finditer(r\"(Hai|Krokodil|Piranha)\\w*\", \"Bond sollte schon durch Haibiss, Piranhas und Krokodile sterben.\"):\n",
    "    print(\"Todesursache:\", match.group(0))"
   ]
  },
  {
   "cell_type": "markdown",
   "metadata": {
    "slideshow": {
     "slide_type": "slide"
    }
   },
   "source": [
    "### Reguläre Ausdrücke anwenden (2)\n",
    "![Übersicht über das re-Modul](images/re-uebersicht.svg)"
   ]
  },
  {
   "cell_type": "markdown",
   "metadata": {
    "slideshow": {
     "slide_type": "notes"
    }
   },
   "source": [
    "* `re.compile` kompiliert einen regulären Ausdruck zu einem Objekt. Wenn Sie einen regulären Ausdruck oft benötigen (z.B. in einer Schleife), verwenden Sie diese Funktion (außerhalb der Schleife) und arbeiten mit dem Objekt, das sie zurückgibt: das ist schneller.\n",
    "* _Match-Objekte_ beschreiben einen Treffer in einem String genauer: Sie liefern z.B. Zugriff auf die einzelnen Gruppen und auf die genaue Stelle im Suchstring, an der der Ausdruck gematcht hat.\n",
    "* Die Funktionen/Methoden `match` und `search` liefern jeweils ein Match-Objekt: `match` matcht nur am _Beginn_ des Suchstrings, `search` findet den ersten Treffer (ggf. ab einem bestimmten Offset, lesen Sie dazu die Dokumentation zu den Funktionen). `finditer` liefert einen Iterator über alle Treffer, jeder Treffer wird als Matchobjekt zurückgegeben. Sie können darüber in einer `for`-Schleife iterieren:"
   ]
  },
  {
   "cell_type": "code",
   "execution_count": 23,
   "metadata": {
    "slideshow": {
     "slide_type": "notes"
    }
   },
   "outputs": [
    {
     "name": "stdout",
     "output_type": "stream",
     "text": [
      "An Position 22 steht die Zahl 3.\n",
      "An Position 39 steht die Zahl 55.\n",
      "An Position 42 steht die Zahl 60.\n"
     ]
    }
   ],
   "source": [
    "for match in re.finditer(\"\\d+\", \"Lesen Sie die Kapitel 3 und die Seiten 55-60\"):\n",
    "    print(\"An Position {} steht die Zahl {}.\".format(match.start(), match.group(0)))"
   ]
  },
  {
   "cell_type": "markdown",
   "metadata": {
    "slideshow": {
     "slide_type": "notes"
    }
   },
   "source": [
    "* `split` spaltet einen String an einem gegebenen regulären Ausdruck auf, liefert also quasi das Komplement zu `findall`:"
   ]
  },
  {
   "cell_type": "code",
   "execution_count": 24,
   "metadata": {
    "slideshow": {
     "slide_type": "notes"
    }
   },
   "outputs": [
    {
     "data": {
      "text/plain": [
       "['Hier', 'Nimm ein paar Sätze', 'Zerlegst du sie mir', '']"
      ]
     },
     "execution_count": 24,
     "metadata": {},
     "output_type": "execute_result"
    }
   ],
   "source": [
    "re.split(r'[,.;:!?]+\\s*', 'Hier: Nimm ein paar Sätze! Zerlegst du sie mir?')"
   ]
  },
  {
   "cell_type": "markdown",
   "metadata": {
    "slideshow": {
     "slide_type": "notes"
    }
   },
   "source": [
    "* mit `escape` können Sie alle potentiellen Metazeichen in einem String escapen:"
   ]
  },
  {
   "cell_type": "code",
   "execution_count": 25,
   "metadata": {
    "slideshow": {
     "slide_type": "notes"
    }
   },
   "outputs": [
    {
     "name": "stdout",
     "output_type": "stream",
     "text": [
      "Sonne\\,\\ Mond\\ \\[und\\]\\ Sterne\\*\\*\\*\n"
     ]
    }
   ],
   "source": [
    "print(re.escape(\"Sonne, Mond [und] Sterne***\"))"
   ]
  },
  {
   "cell_type": "markdown",
   "metadata": {
    "slideshow": {
     "slide_type": "slide"
    }
   },
   "source": [
    "# Module"
   ]
  },
  {
   "cell_type": "markdown",
   "metadata": {
    "slideshow": {
     "slide_type": "slide"
    }
   },
   "source": [
    "## Module\n",
    "\n",
    "* Weitere Möglichkeit, Programmcode einzukapseln\n",
    "* Typischer Use-Case: zusammengehörige Funktionen (, Klassen, …)\n",
    "* Mitgelieferte Funktionalität (jenseits des Sprachkerns) und Herunterladbares kommt in Modulen"
   ]
  },
  {
   "cell_type": "markdown",
   "metadata": {
    "slideshow": {
     "slide_type": "fragment"
    }
   },
   "source": [
    "* Modul = Python-Datei\n",
    "* Modulname = Python-Dateiname ohne Pfad und Endung\n",
    "* (Moduldateiname sollte ein Python-Bezeichner sein; Konvention: Einfache Namen in Kleinbuchstaben)"
   ]
  },
  {
   "cell_type": "markdown",
   "metadata": {
    "slideshow": {
     "slide_type": "slide"
    }
   },
   "source": [
    "### Beispiel\n",
    "\n",
    "__Datei `wordstats.py`:__\n",
    "\n",
    "```python\n",
    "def read_text(filename):\n",
    "    \"\"\"Reads the utf-8 encoded text file with the given name and returns its contents.\"\"\"\n",
    "    with open(filename, 'rt', encoding='utf-8') as file:\n",
    "        return file.read()\n",
    "\n",
    "\n",
    "def tokenize(text):\n",
    "    \"\"\"Tokenizes the given string, returns a list of tokens.\"\"\"\n",
    "    PUNCTUATION='!\"#$%&\\'()*+,-./:;<=>?@[\\\\]^_{|}~»«'\n",
    "    tokens = text.split\n",
    "    result = []\n",
    "    for token in tokens:\n",
    "        stripped = token.strip(PUNCTUATION)\n",
    "        if stripped:\n",
    "            result.append(token)\n",
    "    return result\n",
    "\n",
    "def word_count(tokens):\n",
    "    \"\"\"\n",
    "    Counts how often each different item in the given token list occurs.\n",
    "    Returns: dict mapping token → number of occurences\n",
    "    \"\"\"\n",
    "    frequencies = {}\n",
    "    for token in tokens:\n",
    "        if token in frequencies:\n",
    "            frequencies[token] += 1\n",
    "        else:\n",
    "            frequencies[token] = 1\n",
    "    return frequencies\n",
    "```"
   ]
  },
  {
   "cell_type": "markdown",
   "metadata": {
    "slideshow": {
     "slide_type": "subslide"
    }
   },
   "source": [
    "### Modul importieren"
   ]
  },
  {
   "cell_type": "code",
   "execution_count": 16,
   "metadata": {
    "slideshow": {
     "slide_type": "-"
    }
   },
   "outputs": [
    {
     "name": "stdout",
     "output_type": "stream",
     "text": [
      "Modulname: wordstats\n"
     ]
    },
    {
     "data": {
      "text/plain": [
       "{'ottos': 1, 'mops': 2, 'trotzt': 1, 'otto': 1, 'fort': 2}"
      ]
     },
     "execution_count": 16,
     "metadata": {},
     "output_type": "execute_result"
    }
   ],
   "source": [
    "import wordstats\n",
    "wordstats.word_count(wordstats.tokenize(\"ottos mops trotzt\\notto: fort mops fort\"))"
   ]
  },
  {
   "cell_type": "code",
   "execution_count": 17,
   "metadata": {
    "slideshow": {
     "slide_type": "fragment"
    }
   },
   "outputs": [
    {
     "data": {
      "text/plain": [
       "{'ottos': 1, 'mops': 2, 'trotzt': 1, 'otto': 1, 'fort': 2}"
      ]
     },
     "execution_count": 17,
     "metadata": {},
     "output_type": "execute_result"
    }
   ],
   "source": [
    "import wordstats as w\n",
    "w.word_count(w.tokenize(\"ottos mops trotzt\\notto: fort mops fort\"))"
   ]
  },
  {
   "cell_type": "code",
   "execution_count": 18,
   "metadata": {
    "slideshow": {
     "slide_type": "fragment"
    }
   },
   "outputs": [
    {
     "data": {
      "text/plain": [
       "{'ottos': 1, 'mops': 2, 'trotzt': 1, 'otto': 1, 'fort': 2}"
      ]
     },
     "execution_count": 18,
     "metadata": {},
     "output_type": "execute_result"
    }
   ],
   "source": [
    "from wordstats import word_count, tokenize\n",
    "word_count(tokenize(\"ottos mops trotzt\\notto: fort mops fort\"))"
   ]
  },
  {
   "cell_type": "markdown",
   "metadata": {
    "slideshow": {
     "slide_type": "fragment"
    }
   },
   "source": [
    "Die Schreibweise `from wordstats import *` gibt es auch, sie sollte nur in der interaktiven Konsole, nicht in Skripten verwendet werden, da sie die Herkunft der importierten Namen verschleiert."
   ]
  },
  {
   "cell_type": "markdown",
   "metadata": {
    "slideshow": {
     "slide_type": "slide"
    }
   },
   "source": [
    "### Standardbibliothek\n",
    "\n",
    "Python kommt mit _batteries included_: Füt viele Aufgabeben gibt es fertiges in der Standardbibliothek\n",
    "\n",
    "* <https://docs.python.org/3/library/index.html>\n",
    "* Datentypen, z.B. collections\n",
    "* Datei- / Betriebssystemkram: os, os.path, glob, shutil, pathlib ...\n",
    "* Dateiformate (HTML, XML, ZIP, CSV, JSON, ...)\n",
    "* Internet\n",
    "* Mathematik\n",
    "* ..."
   ]
  },
  {
   "cell_type": "markdown",
   "metadata": {
    "slideshow": {
     "slide_type": "slide"
    }
   },
   "source": [
    "### Eigene Module schreiben"
   ]
  },
  {
   "cell_type": "markdown",
   "metadata": {
    "slideshow": {
     "slide_type": "-"
    }
   },
   "source": [
    "* es ist nur eine Python-Datei, also los :-)\n",
    "* beim ersten `import wordcounts` wird der gesamte Code in `wordcounts` ausgeführt\n",
    "* alle definierten und importierten Namen stehen danach im Modulnamespace zur Verfügung\n",
    "* Konvention: Private Namen beginnen mit `_`"
   ]
  },
  {
   "cell_type": "markdown",
   "metadata": {
    "slideshow": {
     "slide_type": "subslide"
    }
   },
   "source": [
    "### Module ablegen"
   ]
  },
  {
   "cell_type": "code",
   "execution_count": 19,
   "metadata": {
    "slideshow": {
     "slide_type": "-"
    }
   },
   "outputs": [
    {
     "name": "stdout",
     "output_type": "stream",
     "text": [
      "['', '/home/tv/git/python_intro_new', '/usr/lib/python37.zip', '/usr/lib/python3.7', '/usr/lib/python3.7/lib-dynload', '/home/tv/.local/lib/python3.7/site-packages', '/usr/local/lib/python3.7/dist-packages', '/usr/local/lib/python3.7/dist-packages/dlib-19.16.0-py3.7-linux-x86_64.egg', '/usr/lib/python3/dist-packages', '/usr/lib/python3.7/dist-packages', '/usr/lib/python3/dist-packages/IPython/extensions', '/home/tv/.ipython']\n"
     ]
    }
   ],
   "source": [
    "import sys\n",
    "print(sys.path)"
   ]
  },
  {
   "cell_type": "markdown",
   "metadata": {
    "slideshow": {
     "slide_type": "-"
    }
   },
   "source": [
    "* `''` steht hier für das aktuelle Verzeichnis\n",
    "* Umgebungsvariable `PYTHONPATH`"
   ]
  },
  {
   "cell_type": "markdown",
   "metadata": {
    "slideshow": {
     "slide_type": "subslide"
    }
   },
   "source": [
    "### Skripte\n",
    "\n",
    "Skripte zum Ausführen an der Kommandozeile:\n",
    "\n",
    "```python \n",
    "#!/usr/bin/env python3\n",
    "# -*- coding: utf-8 -*-\n",
    "\n",
    "import …\n",
    "\n",
    "def …:\n",
    "   …\n",
    "\n",
    "def …:\n",
    "    …\n",
    "\n",
    "def _main():\n",
    "    mach_was()\n",
    "    mach_was_anderes()\n",
    "    \n",
    "if __name__ == '__main__':\n",
    "    _main()\n",
    "```\n",
    "\n",
    "`__name__` enthält den Namen des aktuellen Moduls bzw. `\"__main__\"` für das Hauptmodul = Skript"
   ]
  },
  {
   "cell_type": "markdown",
   "metadata": {
    "slideshow": {
     "slide_type": "slide"
    }
   },
   "source": [
    "## Externe Module\n",
    "\n",
    "* Python verfügt über zahlreiche externe Pakete, die Funktionsbibliotheken für diverse Anwendungen bieten\n",
    "* Beispiele:\n",
    "\n",
    "    * `requests` für die bequeme Interaktion mit Webservern\n",
    "    * `lxml` für komfortables XML- und XPath-Handling\n",
    "    * `numpy` für effiziente Operationen auf Zahlen, Vektoren und Matrizen\n",
    "    * `pandas` für den effizienten Umgang mit (tabellarischen) Daten\n",
    "    * `networkx` für Graphen/Netzwerke (Datenstruktur aus Knoten und Kanten)\n",
    "    * `scikit-learn` für maschinelles Lernen\n",
    "    * …\n",
    "    \n",
    "* <https://pypi.python.org/> Python Package Index"
   ]
  },
  {
   "cell_type": "markdown",
   "metadata": {
    "slideshow": {
     "slide_type": "subslide"
    }
   },
   "source": [
    "### Externe Module installieren\n",
    "\n",
    "Kommandozeile: `pip` (bzw. `pip3`)"
   ]
  },
  {
   "cell_type": "code",
   "execution_count": 29,
   "metadata": {
    "slideshow": {
     "slide_type": "-"
    }
   },
   "outputs": [
    {
     "name": "stdout",
     "output_type": "stream",
     "text": [
      "Requirement already satisfied: requests in /usr/lib/python3/dist-packages\n"
     ]
    }
   ],
   "source": [
    "%%bash\n",
    "\n",
    "pip install --user requests"
   ]
  },
  {
   "cell_type": "markdown",
   "metadata": {
    "slideshow": {
     "slide_type": "-"
    }
   },
   "source": [
    "`pip` ist das Tool, `install` das Kommando, `--user` installiere ins Benutzerverzeichnis, `requests` ist die Library"
   ]
  },
  {
   "cell_type": "code",
   "execution_count": 31,
   "metadata": {
    "slideshow": {
     "slide_type": "subslide"
    }
   },
   "outputs": [],
   "source": [
    "import requests"
   ]
  },
  {
   "cell_type": "code",
   "execution_count": 36,
   "metadata": {
    "slideshow": {
     "slide_type": "-"
    }
   },
   "outputs": [
    {
     "name": "stdout",
     "output_type": "stream",
     "text": [
      "<!doctype html><html itemscope=\"\" itemtype=\"http://schema.org/WebPage\" lang=\"de\"><head><meta content=\"text/html; charset=UTF-8\" http-equiv=\"Content-Type\"><meta content=\"/images/branding/googleg/1x/goo\n"
     ]
    }
   ],
   "source": [
    "response = requests.get('https://www.google.com/')\n",
    "if response.ok:\n",
    "    print(response.text[:200])"
   ]
  },
  {
   "cell_type": "markdown",
   "metadata": {
    "slideshow": {
     "slide_type": "slide"
    }
   },
   "source": [
    "### Ausblick\n",
    "\n",
    "Ein paar weitere syntaktische Konstrukte:\n",
    "\n",
    "#### List (Dictionary, Set …) Comprehensions"
   ]
  },
  {
   "cell_type": "code",
   "execution_count": 37,
   "metadata": {
    "slideshow": {
     "slide_type": "-"
    }
   },
   "outputs": [],
   "source": [
    "# statt:\n",
    "squares = []\n",
    "for base in range(10):\n",
    "    squares.append(base**2)\n",
    "# kürzer:\n",
    "squares = [base**2 for base in range(10)]"
   ]
  },
  {
   "cell_type": "markdown",
   "metadata": {
    "slideshow": {
     "slide_type": "subslide"
    }
   },
   "source": [
    "#### Stringformatierung"
   ]
  },
  {
   "cell_type": "code",
   "execution_count": 20,
   "metadata": {
    "slideshow": {
     "slide_type": "fragment"
    }
   },
   "outputs": [
    {
     "name": "stdout",
     "output_type": "stream",
     "text": [
      "Abschnitt 1     Einführung______________________________ S.   5\n",
      "Abschnitt 1.1   Datenmodell_____________________________ S.  10\n"
     ]
    }
   ],
   "source": [
    "toc = \"Abschnitt {:<5} {:_<40} S. {:>3}\"\n",
    "\n",
    "print(toc.format(\"1\", \"Einführung\", 5))\n",
    "print(toc.format(\"1.1\", \"Datenmodell\", 10))"
   ]
  },
  {
   "cell_type": "code",
   "execution_count": 21,
   "metadata": {
    "slideshow": {
     "slide_type": "fragment"
    }
   },
   "outputs": [
    {
     "name": "stdout",
     "output_type": "stream",
     "text": [
      "7988 Tokens, davon 5007 unterschiedliche, ergibt TTR≈0.6268\n"
     ]
    }
   ],
   "source": [
    "types = 5007\n",
    "tokens = 7988\n",
    "print(f\"{tokens} Tokens, davon {types} unterschiedliche, ergibt TTR≈{types/tokens:.4f}\")"
   ]
  },
  {
   "cell_type": "markdown",
   "metadata": {
    "slideshow": {
     "slide_type": "subslide"
    }
   },
   "source": [
    "#### Objektorientierung"
   ]
  },
  {
   "cell_type": "code",
   "execution_count": 22,
   "metadata": {
    "slideshow": {
     "slide_type": "-"
    }
   },
   "outputs": [
    {
     "name": "stdout",
     "output_type": "stream",
     "text": [
      "Hallo, ich bin der Huber Max\n"
     ]
    }
   ],
   "source": [
    "class Person:\n",
    "    def __init__(self, name, vorname):\n",
    "        self.name = name\n",
    "        self.vorname = vorname        \n",
    "        \n",
    "    def introduce(self, in_bayern=False):\n",
    "        if not in_bayern:\n",
    "            print(\"Hallo, ich bin\", self.vorname, self.name)\n",
    "        else:\n",
    "            print(\"Hallo, ich bin der\", self.name, self.vorname)\n",
    "            \n",
    "Person(\"Huber\", \"Max\").introduce(True)"
   ]
  },
  {
   "cell_type": "markdown",
   "metadata": {
    "slideshow": {
     "slide_type": "subslide"
    }
   },
   "source": [
    "#### Exceptions\n",
    "zum Umgang mit Fehlern"
   ]
  },
  {
   "cell_type": "markdown",
   "metadata": {
    "slideshow": {
     "slide_type": "-"
    }
   },
   "source": [
    "```python\n",
    "try:\n",
    "    f = open(filename)\n",
    "    f.read()\n",
    "except IOError:\n",
    "    print(\"Dateiname falsch?\")\n",
    "finally:\n",
    "    f.close()\n",
    "```"
   ]
  },
  {
   "cell_type": "markdown",
   "metadata": {
    "slideshow": {
     "slide_type": "slide"
    }
   },
   "source": [
    "#### Leistungsfähigere IDEs\n",
    "\n",
    "* z.B. Pycharm\n",
    "* Debugger, Projekte, Refactoring"
   ]
  }
 ],
 "metadata": {
  "celltoolbar": "Slideshow",
  "kernelspec": {
   "display_name": "Python 3",
   "language": "python",
   "name": "python3"
  },
  "language_info": {
   "codemirror_mode": {
    "name": "ipython",
    "version": 3
   },
   "file_extension": ".py",
   "mimetype": "text/x-python",
   "name": "python",
   "nbconvert_exporter": "python",
   "pygments_lexer": "ipython3",
   "version": "3.7.2"
  },
  "nav_menu": {},
  "toc": {
   "navigate_menu": true,
   "number_sections": false,
   "sideBar": true,
   "threshold": 6,
   "toc_cell": false,
   "toc_section_display": "block",
   "toc_window_display": false
  }
 },
 "nbformat": 4,
 "nbformat_minor": 1
}
