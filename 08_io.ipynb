{
 "cells": [
  {
   "cell_type": "markdown",
   "metadata": {
    "slideshow": {
     "slide_type": "slide"
    }
   },
   "source": [
    "## Einführung in das Programmieren mit Python\n",
    "\n",
    "# Input/Output"
   ]
  },
  {
   "cell_type": "markdown",
   "metadata": {
    "slideshow": {
     "slide_type": "slide"
    }
   },
   "source": [
    "## Wiederholung: Funktionen"
   ]
  },
  {
   "cell_type": "markdown",
   "metadata": {
    "slideshow": {
     "slide_type": "skip"
    }
   },
   "source": [
    "Der folgende Code möge sinnvoll in Funktionen zerlegt werden, um\n",
    "1. Berechnungen und Benutzerinteraktion zu trennen und so die Berechnungen auch für andere Anwendungszwecke nutzbar zu machen\n",
    "2. wiederholten und redundanten Code zu eliminieren, sodass z.B. Fehler nur an einer Stelle behoben werden müssen\n",
    "3. eine klare Schnittstelle für die zu berechnenden Funktionen zu gestalten\n",
    "4. den Code übersichtlicher zu machen."
   ]
  },
  {
   "cell_type": "code",
   "execution_count": 1,
   "metadata": {
    "slideshow": {
     "slide_type": "-"
    }
   },
   "outputs": [
    {
     "name": "stdout",
     "output_type": "stream",
     "text": [
      "Durchschnittliche Wortlänge:  5.3\n",
      "Durchschnittliche Vokalanzahl:  1.7\n",
      "Durchschnittliche Konsonantenanzahl:  3.6\n"
     ]
    }
   ],
   "source": [
    "s = \"Herr Mustermann kommt ins Haus und trifft dort Frau Musterfrau\"\n",
    "sum_wordlength = 0\n",
    "for w in s.split():\n",
    "    sum_wordlength += len(w)\n",
    "avg_wordlength = sum_wordlength / len(s.split())\n",
    "print(\"Durchschnittliche Wortlänge: \", avg_wordlength )\n",
    "list_vowels = []\n",
    "for w in s.lower().split():\n",
    "    word_vowels = 0\n",
    "    for c in w:\n",
    "        if c in \"aeiou\":\n",
    "            word_vowels += 1\n",
    "    list_vowels.append(word_vowels)\n",
    "print(\"Durchschnittliche Vokalanzahl: \", sum(list_vowels) / len(list_vowels))\n",
    "list_consonants = []\n",
    "for w in s.lower().split():\n",
    "    word_cons = 0\n",
    "    for c in w:\n",
    "        if c in \"bcdfghjklmnpqrstvwxyz\":\n",
    "            word_cons += 1\n",
    "    list_consonants.append(word_cons)\n",
    "print(\"Durchschnittliche Konsonantenanzahl: \", sum(list_consonants) / len(list_consonants))"
   ]
  },
  {
   "cell_type": "markdown",
   "metadata": {
    "slideshow": {
     "slide_type": "subslide"
    }
   },
   "source": [
    "#### Zerlegungsstufe 0: Trennung Berechnung / Ausgabe"
   ]
  },
  {
   "cell_type": "code",
   "execution_count": 2,
   "metadata": {
    "slideshow": {
     "slide_type": "-"
    }
   },
   "outputs": [
    {
     "name": "stdout",
     "output_type": "stream",
     "text": [
      "Durchschnittliche Wortlänge:  5.3\n",
      "Durchschnittliche Vokalanzahl:  1.7\n",
      "Durchschnittliche Konsonantenanzahl:  3.6\n"
     ]
    }
   ],
   "source": [
    "def avg_wordlength(text):\n",
    "    sum_wordlength = 0\n",
    "    for w in text.split():\n",
    "        sum_wordlength += len(w)\n",
    "    return sum_wordlength / len(s.split())\n",
    "\n",
    "def avg_vowels(text):\n",
    "    list_vowels = []\n",
    "    for w in text.lower().split():\n",
    "        word_vowels = 0\n",
    "        for c in w:\n",
    "            if c in \"aeiou\":\n",
    "                word_vowels += 1\n",
    "        list_vowels.append(word_vowels)\n",
    "    return sum(list_vowels) / len(list_vowels)\n",
    "\n",
    "def avg_consonants(text):\n",
    "    list_consonants = []\n",
    "    for w in s.lower().split():\n",
    "        word_cons = 0\n",
    "        for c in w:\n",
    "            if c in \"bcdfghjklmnpqrstvwxyz\":\n",
    "                word_cons += 1\n",
    "        list_consonants.append(word_cons)\n",
    "    return sum(list_consonants) / len(list_consonants)\n",
    "\n",
    "s = \"Herr Mustermann kommt ins Haus und trifft dort Frau Musterfrau\"\n",
    "print(\"Durchschnittliche Wortlänge: \", avg_wordlength(s))\n",
    "print(\"Durchschnittliche Vokalanzahl: \", avg_vowels(s))\n",
    "print(\"Durchschnittliche Konsonantenanzahl: \", avg_consonants(s))"
   ]
  },
  {
   "cell_type": "markdown",
   "metadata": {
    "slideshow": {
     "slide_type": "skip"
    }
   },
   "source": [
    "In dieser Version wurde die Trennung von Berechnung und Ausgabe durchgeführt und der Code übersichtlicher gegliedert. Die Funktionen `avg_vowels` und `avg_consonants` sind indes noch strukturell gleich, sie unterscheiden sich ausschließlich durch die Liste der zu zählenden Buchstaben. Wird diese zu einem Parameter der Funktion, können wir beide Funktionen zusammenfassen. Der Klarheit halber benennen wir dabei die in der Funktion verwendeten Variablen um: Dies hat keine Auswirkungen auf die Funktionalität."
   ]
  },
  {
   "cell_type": "markdown",
   "metadata": {
    "slideshow": {
     "slide_type": "subslide"
    }
   },
   "source": [
    "#### Zerlegungsstufe 1: Vokale und Konsonanten sind ja nur Zeichenmengen"
   ]
  },
  {
   "cell_type": "code",
   "execution_count": 2,
   "metadata": {
    "slideshow": {
     "slide_type": "-"
    }
   },
   "outputs": [
    {
     "name": "stdout",
     "output_type": "stream",
     "text": [
      "Durchschnittliche Wortlänge:  5.3\n",
      "Durchschnittliche Vokalanzahl:  1.7\n",
      "Durchschnittliche Konsonantenanzahl:  3.6\n"
     ]
    }
   ],
   "source": [
    "def avg_chars(text, chars):\n",
    "    \"\"\"Returns the average number of characters from `chars` in each word of `text`\"\"\"\n",
    "    list_chars = []\n",
    "    for word in s.lower().split():\n",
    "        word_chars = 0\n",
    "        for char in word:\n",
    "            if char in chars:\n",
    "                word_chars += 1\n",
    "        list_chars.append(word_chars)\n",
    "    return sum(list_chars) / len(list_chars)\n",
    "\n",
    "def avg_wordlength(text):\n",
    "    sum_wordlength = 0\n",
    "    for word in s.split():\n",
    "        sum_wordlength += len(word)\n",
    "    return sum_wordlength / len(s.split())\n",
    "\n",
    "# optional:\n",
    "def avg_vowels(text):\n",
    "    return avg_chars(text, \"aeiou\")\n",
    "\n",
    "def avg_consonants(text):\n",
    "    return avg_chars(text, \"bcdfghjklmnpqrstvwxyz\")\n",
    "\n",
    "s = \"Herr Mustermann kommt ins Haus und trifft dort Frau Musterfrau\"\n",
    "print(\"Durchschnittliche Wortlänge: \", avg_wordlength(s))\n",
    "print(\"Durchschnittliche Vokalanzahl: \", avg_vowels(s))\n",
    "print(\"Durchschnittliche Konsonantenanzahl: \", avg_consonants(s))"
   ]
  },
  {
   "cell_type": "markdown",
   "metadata": {
    "slideshow": {
     "slide_type": "skip"
    }
   },
   "source": [
    "Optional können wir die beiden alten Funktionen `avg_vowels` und `avg_consonants` neu definieren, als reine »Delegates«, die `avg_characters` mit passenden Parametern aufrufen. Dies kann sinnvoll sein, wenn andere Leute z.B. mit unseren oben definierten Funktionen bereits arbeiten und ihren Code nicht ändern wollen."
   ]
  },
  {
   "cell_type": "markdown",
   "metadata": {
    "slideshow": {
     "slide_type": "subslide"
    }
   },
   "source": [
    "#### Zerlegungstufe 2: Zählen ist zählen"
   ]
  },
  {
   "cell_type": "markdown",
   "metadata": {
    "slideshow": {
     "slide_type": "skip"
    }
   },
   "source": [
    "`avg_wordlength` und `avg_characters` sind zwar leicht unterschiedlich implementiert, machen aber strukturell dasselbe: Sie zerlegen einen String in Wörter, zählen (bestimmte) Zeichen pro Wort und bilden daraus das arithmetische Mittel. Nur _welche_ Zeichen gezählt wird unterscheidet sie (alle vs. bestimmte). Wir können sie deshalb ebenfalls zusammenfassen:"
   ]
  },
  {
   "cell_type": "code",
   "execution_count": 4,
   "metadata": {
    "slideshow": {
     "slide_type": "-"
    }
   },
   "outputs": [
    {
     "name": "stdout",
     "output_type": "stream",
     "text": [
      "Durchschnittliche Wortlänge:  5.3\n",
      "Durchschnittliche Vokalanzahl:  1.7\n",
      "Durchschnittliche Konsonantenanzahl:  3.6\n"
     ]
    }
   ],
   "source": [
    "def avg_wordlength(text, chars=None): # Defaultwert für chars, wenn nur ein Parameter angegeben wird\n",
    "    \"\"\"Returns the average number of characters from `chars` in each word of `text`\"\"\"\n",
    "    list_chars = []\n",
    "    for word in s.lower().split():\n",
    "        word_chars = 0\n",
    "        for char in word:\n",
    "            if chars is None or char in chars:   # <- nur hier geändert\n",
    "                word_chars += 1\n",
    "        list_chars.append(word_chars)\n",
    "    return sum(list_chars) / len(list_chars)\n",
    "\n",
    "# optional:\n",
    "def avg_vowels(text):\n",
    "    return avg_wordlength(text, \"aeiou\")\n",
    "\n",
    "def avg_consonants(text):\n",
    "    return avg_wordlength(text, \"bcdfghjklmnpqrstvwxyz\")\n",
    "\n",
    "s = \"Herr Mustermann kommt ins Haus und trifft dort Frau Musterfrau\"\n",
    "print(\"Durchschnittliche Wortlänge: \", avg_wordlength(s))\n",
    "print(\"Durchschnittliche Vokalanzahl: \", avg_vowels(s))\n",
    "print(\"Durchschnittliche Konsonantenanzahl: \", avg_consonants(s))"
   ]
  },
  {
   "cell_type": "markdown",
   "metadata": {
    "slideshow": {
     "slide_type": "skip"
    }
   },
   "source": [
    "Allerdings kann es sein, dass das Selberimplementieren von `len` in diesem Schritt weniger effizient ist als die eingebaute Implementierung.\n",
    "\n",
    "Wir haben nach jedem Zerlegungsschritt das Programm laufen lassen und so festgestellt, dass das _Verhalten_ des Programms immernoch dasselbe ist. Solche Umstrukturierungen des Programmcodes bei unveränderter Funktionalität nennt man auch __Refactoring__, sie sind ein wichtiger Bestandteil der Softwareentwicklung und dienen dazu, bei der Implementierung »gewachsenen« (oder gewucherten ☺) Programmcode aufzuräumen und so für die künftige Weiterentwicklung und Wartung des Programmes fit zu machen."
   ]
  },
  {
   "cell_type": "markdown",
   "metadata": {
    "slideshow": {
     "slide_type": "slide"
    }
   },
   "source": [
    "### Hausaufgabe 2\n",
    "\n",
    "Viele analytische Verfahren in den DH beruhen auf einem Bag of Words-Modell: Dabei wird ein Dokument repräsentiert durch die Häufigkeiten, mit denen die einzelnen Wörter des Dokuments vorkommen. Schreiben Sie eine Funktion, die aus einem als String übergebenen Text eine Worthäufigkeitstabelle (als dict) erzeugt (3). Die Funktion soll einen optionalen Parameter haben, über den bestimmt werden kann, ob die Groß- bzw. Kleinschreibung unterschieden werden soll (1). Rufen Sie die Funktion mit einem Beispielstring auf, um die Funktionalität zu testen.\n",
    "Beim Zerlegen eines Strings in Wörter sollten Sie diesmal nach dem bereits bekannten split() von jedem Wort führende oder abschließende Satzzeichen abschneiden (str.strip). D.h. aus Blätter! wird Blätter, aus \"Hallo\" wird Hallo, aber aus Singer-Songwriter bleibt wie es ist."
   ]
  },
  {
   "cell_type": "code",
   "execution_count": 3,
   "metadata": {
    "slideshow": {
     "slide_type": "subslide"
    }
   },
   "outputs": [
    {
     "name": "stdout",
     "output_type": "stream",
     "text": [
      "{'oh': 2, 'weh': 3, 'mein': 1, 'arm': 1, 'tut': 1}\n"
     ]
    }
   ],
   "source": [
    "from string import punctuation\n",
    "\n",
    "def frequencies(text, case_sensitive=True):\n",
    "    if not case_sensitive:\n",
    "        text = text.lower()\n",
    "            \n",
    "    freqs = {}\n",
    "    for raw_token in text.split():\n",
    "        token = raw_token.strip(punctuation)\n",
    "        if token in freqs:\n",
    "            freqs[token] += 1\n",
    "        else:\n",
    "            freqs[token] = 1\n",
    "    return freqs\n",
    "\n",
    "print(frequencies(\"Oh weh, oh weh: mein Arm tut weh!\", case_sensitive=False))"
   ]
  },
  {
   "cell_type": "markdown",
   "metadata": {
    "slideshow": {
     "slide_type": "slide"
    }
   },
   "source": [
    "#### 3.\n",
    "\n",
    "Schreiben Sie eine Funktion, die mehrere Worthäufigkeitstabellen (die Ihnen als Liste übergeben wird) zu einer neuen zusammenfasst, in der die Häufigkeiten pro Wort summiert werden. Die ursprünglichen Tabellen dürfen nicht verändert werden!\n",
    "Testen Sie auch hier die Funktionalität der Funktion. (Anwendungsfall: Sie haben die Häufigkeiten für verschiedene Texte und wollen sie nun zu einer Gesamttabelle zusammenfassen) (3)"
   ]
  },
  {
   "cell_type": "code",
   "execution_count": 5,
   "metadata": {
    "slideshow": {
     "slide_type": "subslide"
    }
   },
   "outputs": [
    {
     "name": "stdout",
     "output_type": "stream",
     "text": [
      "{'der': 2, 'die': 3, 'und': 1}\n"
     ]
    }
   ],
   "source": [
    "def combine_tables(tables):\n",
    "    result = {}\n",
    "    for table in tables:\n",
    "        for word, freq in table.items():\n",
    "            if word in result:\n",
    "                result[word] += freq\n",
    "            else:\n",
    "                result[word] = freq\n",
    "    return result\n",
    "\n",
    "print(combine_tables([{'der':2,'die':1}, {'die':2, 'und': 1}]))"
   ]
  },
  {
   "cell_type": "markdown",
   "metadata": {
    "slideshow": {
     "slide_type": "slide"
    }
   },
   "source": [
    "## Text-Dateien öffnen und lesen"
   ]
  },
  {
   "cell_type": "code",
   "execution_count": 1,
   "metadata": {
    "slideshow": {
     "slide_type": "fragment"
    }
   },
   "outputs": [
    {
     "data": {
      "text/plain": [
       "<_io.TextIOWrapper name='roman.txt' mode='rt' encoding='utf-8'>"
      ]
     },
     "execution_count": 1,
     "metadata": {},
     "output_type": "execute_result"
    }
   ],
   "source": [
    "file = open(\"roman.txt\", \"rt\", encoding=\"utf-8\")\n",
    "#           ^^^^^^^^^^^                       Dateiname\n",
    "#                        ^^^^                 Modus, r = lesen, t = Text\n",
    "#                                          (beides Default)\n",
    "#                              ^^^^^^^^^^^^^^ Textcodierung, Default systemabh.\n",
    "#=> Dateiobjekt\n",
    "file"
   ]
  },
  {
   "cell_type": "code",
   "execution_count": 2,
   "metadata": {
    "slideshow": {
     "slide_type": "fragment"
    }
   },
   "outputs": [
    {
     "name": "stdout",
     "output_type": "stream",
     "text": [
      "Kurzer Roman.\n",
      "Dies ist ein langer Roman. Er beginnt mit dem Auftritt des Heldens. \n",
      "Da es keine Helden gibt, unterbricht hier schon der Leser …\n",
      "\n"
     ]
    }
   ],
   "source": [
    "content = file.read()  # liest die komplette Datei in einen String ein. \n",
    "print(content)         # gibt den eingelesenen Inhalt der Datei aus\n",
    "file.close()           # Datei wieder schließen"
   ]
  },
  {
   "cell_type": "markdown",
   "metadata": {
    "slideshow": {
     "slide_type": "slide"
    }
   },
   "source": [
    "### Zeilenweises Einlesen einer Datei\n",
    "\n",
    "Dateien sind _Iterables_, sie können z.B. in `for`-Schleifen verwendet werden und liefern dann Zeilen:"
   ]
  },
  {
   "cell_type": "code",
   "execution_count": 3,
   "metadata": {
    "slideshow": {
     "slide_type": "fragment"
    }
   },
   "outputs": [
    {
     "name": "stdout",
     "output_type": "stream",
     "text": [
      "»Kurzer Roman.\n",
      "«\n",
      "»Dies ist ein langer Roman. Er beginnt mit dem Auftritt des Heldens. \n",
      "«\n",
      "»Da es keine Helden gibt, unterbricht hier schon der Leser …\n",
      "«\n"
     ]
    }
   ],
   "source": [
    "text_file = open(\"roman.txt\", encoding=\"utf-8\")\n",
    "for line in text_file:\n",
    "    print(\"»\" + line + \"«\") # hier kann man natürlich auch etwas Sinnvolleres tun …\n",
    "text_file.close()"
   ]
  },
  {
   "cell_type": "markdown",
   "metadata": {
    "slideshow": {
     "slide_type": "slide"
    }
   },
   "source": [
    "Schließen von Dateien\n",
    "Man sollte am Ende eines Zugriffs auf Dateien diese _immer_ schließen (`f.close()`). Um sicherzustellen, dass das passiert (auch im Fehlerfall oder bei einem vorzeitigen `return`), kann man `with` verwenden:"
   ]
  },
  {
   "cell_type": "code",
   "execution_count": 4,
   "metadata": {
    "slideshow": {
     "slide_type": "fragment"
    }
   },
   "outputs": [
    {
     "name": "stdout",
     "output_type": "stream",
     "text": [
      "Kurzer Roman.\n",
      "Dies ist ein langer Roman. Er beginnt mit dem Auftritt des Heldens. \n",
      "Da es keine Helden gibt, unterbricht hier schon der Leser …\n"
     ]
    }
   ],
   "source": [
    "with open(\"roman.txt\", \"r\", encoding=\"utf-8\") as f:\n",
    "    for line in f:\n",
    "        print(line, end='')      "
   ]
  },
  {
   "cell_type": "markdown",
   "metadata": {
    "slideshow": {
     "slide_type": "slide"
    }
   },
   "source": [
    "<h3 style=\"color:green\">Aufgaben</h3>\n",
    "\n",
    "\n",
    "1. Legen Sie mit einem Editor eine utf-8-Datei in einem  Unterverzeichnis an (inkl. Umlaute und ß) und geben Sie dann den Inhalt mit Python aus. Unter Windows können Sie dafür den editor unter Zubehör verwenden. __Beachten Sie das Encoding unter _Speichern unter___.\n",
    "2. Lesen Sie den Inhalt der Datei mit Python ein. Messen Sie mit Python, wieviele Buchstaben Ihr Probetext inkl. Leerzeichen etc. lang ist. Vergleichen Sie mit der von Ihrem Dateimanager angegebenen Dateigröße."
   ]
  },
  {
   "cell_type": "code",
   "execution_count": 5,
   "metadata": {
    "slideshow": {
     "slide_type": "fragment"
    }
   },
   "outputs": [
    {
     "name": "stdout",
     "output_type": "stream",
     "text": [
      "Dies ist eine einfache Beispieldatei.\n",
      "\n",
      "Sie enthält Umlaute, GROẞE und nicht große Eszetts und ſogar ein langes ſ!\n",
      "\n",
      "Angehängter Text\n"
     ]
    }
   ],
   "source": [
    "with open(\"beispiel.txt\", \"rt\", encoding=\"utf-8\") as file:\n",
    "    for line in file:\n",
    "        print(line)"
   ]
  },
  {
   "cell_type": "code",
   "execution_count": 6,
   "metadata": {
    "slideshow": {
     "slide_type": "fragment"
    }
   },
   "outputs": [
    {
     "name": "stdout",
     "output_type": "stream",
     "text": [
      "129\n",
      "138\n"
     ]
    }
   ],
   "source": [
    "import os\n",
    "with open(\"beispiel.txt\", \"rt\", encoding=\"utf-8\") as f:\n",
    "    content = f.read()    \n",
    "    print(len(content))\n",
    "    print(os.path.getsize(\"beispiel.txt\"))"
   ]
  },
  {
   "cell_type": "markdown",
   "metadata": {
    "slideshow": {
     "slide_type": "fragment"
    }
   },
   "source": [
    "Im [Hex-Viewer](http://de.wikipedia.org/wiki/Hex-Editor):\n",
    "\n",
    "<img src=\"files/images/utf-8_file.png\"/>\n",
    "\n",
    "* Codierung der Zeilenenden – in Windows als 0A 0D (`\\r\\n`), in Python-Strings als `'\\n'`\n",
    "* Codierung von Sonderzeichen mit mehr als einem Byte"
   ]
  },
  {
   "cell_type": "markdown",
   "metadata": {
    "slideshow": {
     "slide_type": "skip"
    }
   },
   "source": [
    "### Encoding einer Textdatei\n",
    "\n",
    "* Zuordnung Bytefolge <> Interpretation als Zeichen\n",
    "* Welche Zeichen? __Unicode__ vergibt Nummern _(Codepoints)_, z.Z.  136690 Zeichen (Unicode 10)\n",
    "* UTF-8 ist eine standardisierte, portable Codierung für den gesamten möglichen Unicode-Zeichenvorrat (bis zu 0x10FFFF verschiedene Zeichen)\n",
    "* UTF-8: ein Zeichen <> 1–4 Bytes\n",
    "* Python-3-Strings sind Unicode-Strings\n",
    "* _Tipp_: Arbeiten Sie immer mit UTF-8-Dateien, und geben Sie das Encoding explizit an."
   ]
  },
  {
   "cell_type": "code",
   "execution_count": 7,
   "metadata": {
    "slideshow": {
     "slide_type": "skip"
    }
   },
   "outputs": [
    {
     "name": "stdout",
     "output_type": "stream",
     "text": [
      "Standardcodierung für Dateiinhalte (encoding-Parameter): UTF-8\n",
      "Standardcodierung für Dateinamen etc.: utf-8\n"
     ]
    }
   ],
   "source": [
    "import locale\n",
    "import sys\n",
    "\n",
    "print(\"Standardcodierung für Dateiinhalte (encoding-Parameter):\", locale.getpreferredencoding())\n",
    "print(\"Standardcodierung für Dateinamen etc.:\", sys.getfilesystemencoding())"
   ]
  },
  {
   "cell_type": "markdown",
   "metadata": {
    "slideshow": {
     "slide_type": "slide"
    }
   },
   "source": [
    "<h3>Schreiben von Dateien</h3>\n",
    "<p>Das Schreiben von Dateien funktioniert ganz ähnlich wie das Lesen.</p>"
   ]
  },
  {
   "cell_type": "code",
   "execution_count": 8,
   "metadata": {
    "slideshow": {
     "slide_type": "fragment"
    }
   },
   "outputs": [],
   "source": [
    "text = [\"Dies ist ein kürzerer Text.\", \"Und das wäre die letzte Zeile!\", \"Wenn es nicht eine weitere gäbe.\"]\n",
    "with open(\"fileout.txt\", \"w\", encoding=\"utf-8\") as output_file:\n",
    "    for line in text:\n",
    "        output_file.write(line + \"\\n\")"
   ]
  },
  {
   "cell_type": "markdown",
   "metadata": {
    "slideshow": {
     "slide_type": "fragment"
    }
   },
   "source": [
    "Beim Aufruf der Funktion open wird als Parameter nun `\"w\"` (write) gesetzt. `output_file` ist ebenfalls ein frei wählbarer Variablenname für unser Dateiobjekt.\n",
    "\n",
    "Achtung: Bei der Verwendung von `\"w\"` allein wird die Datei immer zuerst zurückgesetzt, wenn sie existieren sollte. D.h. evtl. bestehende Inhalte werden gelöscht!\n",
    "\n",
    "Beachten Sie, dass die Methode `write` nicht automatisch eine Newline anhängt, wie das im Fall von print geschieht."
   ]
  },
  {
   "cell_type": "markdown",
   "metadata": {
    "slideshow": {
     "slide_type": "skip"
    }
   },
   "source": [
    "<h3 style=\"color: green\">Aufgabe</h3>\n",
    "1. Schreiben Sie ein Skript, dass ihre oben mit dem Editor angelegte Datei öffnet und den Inhalt in eine Datei namens results.txt schreibt. Das encoding ist utf-8.</p>\n",
    "2. Variieren Sie ihr Skript, sodass es in der Zieldatei vor jede Zeile in der Quelldatei die Zeilennummer schreibt."
   ]
  },
  {
   "cell_type": "markdown",
   "metadata": {
    "slideshow": {
     "slide_type": "skip"
    }
   },
   "source": [
    "#### Musterlösung"
   ]
  },
  {
   "cell_type": "code",
   "execution_count": 9,
   "metadata": {
    "slideshow": {
     "slide_type": "skip"
    }
   },
   "outputs": [],
   "source": [
    "with open(\"roman.txt\", \"r\", encoding=\"utf-8\") as fin:\n",
    "    with open(\"result.txt\", \"w\", encoding=\"utf-8\") as fout:\n",
    "        for line in fin:\n",
    "            fout.write(line)"
   ]
  },
  {
   "cell_type": "markdown",
   "metadata": {
    "slideshow": {
     "slide_type": "skip"
    }
   },
   "source": [
    "oder in einem Rutsch lesen:"
   ]
  },
  {
   "cell_type": "code",
   "execution_count": 10,
   "metadata": {
    "slideshow": {
     "slide_type": "skip"
    }
   },
   "outputs": [],
   "source": [
    "with open(\"roman.txt\", \"r\", encoding=\"utf-8\") as fin:\n",
    "    content = fin.read()\n",
    "    with open(\"result.txt\", \"w\", encoding=\"utf-8\") as fout:\n",
    "        fout.write(content)"
   ]
  },
  {
   "cell_type": "markdown",
   "metadata": {
    "slideshow": {
     "slide_type": "skip"
    }
   },
   "source": [
    "mit Zeilennummer:"
   ]
  },
  {
   "cell_type": "code",
   "execution_count": 11,
   "metadata": {
    "slideshow": {
     "slide_type": "skip"
    }
   },
   "outputs": [],
   "source": [
    "with open(\"roman.txt\", \"r\", encoding=\"utf-8\") as fin:\n",
    "    with open(\"result.txt\", \"w\", encoding=\"utf-8\") as fout:\n",
    "        lineno = 0\n",
    "        for line in fin:\n",
    "            lineno = lineno + 1\n",
    "            fout.write(str(lineno) + \" \" + line)"
   ]
  },
  {
   "cell_type": "markdown",
   "metadata": {
    "slideshow": {
     "slide_type": "slide"
    }
   },
   "source": [
    "<h3>Das Anhängen an eine Datei</h3>\n",
    "<p>Sie können Dateien auch ergänzen, indem Sie als Parameter statt \"w\" oder \"r\" den Buchstaben \"a\" (append) setzten.</p>"
   ]
  },
  {
   "cell_type": "code",
   "execution_count": 12,
   "metadata": {
    "slideshow": {
     "slide_type": "fragment"
    }
   },
   "outputs": [],
   "source": [
    "with open(\"fileout.txt\", \"a\", encoding=\"utf-8\") as writer:\n",
    "    writer.write(\"Hänge diese Zeile an. Das ist nun die letzte.\")"
   ]
  },
  {
   "cell_type": "markdown",
   "metadata": {
    "slideshow": {
     "slide_type": "skip"
    }
   },
   "source": [
    "Achtung: Wenn Sie hier das falsche encoding angeben oder den Parameter vergessen, es sich aber um eine utf-8 Datei handelt, dann kann es sehr gut sein, dass das Ergebnis fehlerhaft ist, ohne dass Python einen Fehler meldet!\n",
    "\n",
    "Das Anhängen mit `\"a\"` ist für Fälle gedacht, in denen die Datei beim Start Ihres Programmes bereits existiert (z.B. Protokolldateien). Wenn Sie aus verschiedenen Teilen Ihres Programms in dieselbe Datei schreiben wollen, reichen Sie besser das von `open` zurückgelieferte Dateiobjekt umher."
   ]
  },
  {
   "cell_type": "markdown",
   "metadata": {
    "slideshow": {
     "slide_type": "skip"
    }
   },
   "source": [
    "<h3 style=\"color: green\">Aufgaben</h3>\n",
    "<p>Ergänzen Sie die Datei, die Sie oben angelegt haben, um zwei Zeilen.</p>"
   ]
  },
  {
   "cell_type": "markdown",
   "metadata": {
    "slideshow": {
     "slide_type": "slide"
    }
   },
   "source": [
    "## `open` im Detail\n",
    "```\n",
    "open(...)\n",
    "    open(file, mode='r', buffering=-1, encoding=None,\n",
    "         errors=None, newline=None, closefd=True, opener=None) -> file object\n",
    "```\n",
    "__mode__ ist ein String aus einem oder mehreren der folgenden Zeichen:\n",
    "\n",
    "|Character| Meaning                                                        |\n",
    "|---------|----------------------------------------------------------------|\n",
    "|'r'      | open for reading (default)                                     |\n",
    "|'w'      | open for writing, truncating the file first                    |\n",
    "|'x'      | create a new file and open it for writing                      |\n",
    "|'a'      | open for writing, appending to the end of the file if it exists|\n",
    "|'b'      | binary mode                                                    |\n",
    "|'t'      | text mode (default)                                            |\n",
    "|'+'      | open a disk file for updating (reading and writing)            |\n",
    "|'U'      | universal newline mode (deprecated)                            |\n",
    "\n",
    "__encoding__ z.B. `utf-8`, `latin1`, `cp1252`"
   ]
  },
  {
   "cell_type": "markdown",
   "metadata": {
    "slideshow": {
     "slide_type": "subslide"
    }
   },
   "source": [
    "### Textdatei (vs. Binärdatei)\n",
    "* Zeilenweises Einlesen möglich\n",
    "* Konvertierung der Zeilenenden (Linux, Python: `'\\n'`, Windows: `'\\r\\n'`, MacOS: `'\\r'`), Option `newline`\n",
    "* Dekodierung als String (Option `errors` regelt den Umgang mit Fehlern)"
   ]
  },
  {
   "cell_type": "markdown",
   "metadata": {
    "slideshow": {
     "slide_type": "slide"
    }
   },
   "source": [
    "## Umgang mit Dateinamen und -pfaden\n",
    "\n",
    "Für den [Umgang mit Dateien](https://docs.python.org/3/library/filesys.html) gibt es Module in der [Standardbibliothek](https://docs.python.org/3/library/index.html):\n",
    "\n",
    "* `pathlib` liefert ein objektorientiertes, Betriebssystemunabhängiges Interface für Dateinamen etc."
   ]
  },
  {
   "cell_type": "code",
   "execution_count": 8,
   "metadata": {
    "slideshow": {
     "slide_type": "fragment"
    }
   },
   "outputs": [
    {
     "name": "stdout",
     "output_type": "stream",
     "text": [
      "/home/tv/git/python_intro_new/target/huhu.txt\n"
     ]
    }
   ],
   "source": [
    "from pathlib import Path\n",
    "outdir = Path('target')       # verzeichnis 'target'\n",
    "outdir.mkdir(exist_ok=True)   # anlegen falls nicht da\n",
    "file = outdir / \"huhu.txt\"    # neuer pfad: datei in outdir\n",
    "file.write_text('hallo welt') # text reinschreiben\n",
    "print(file.absolute())        # bei ihnen vllt c:\\Users\\..."
   ]
  },
  {
   "cell_type": "markdown",
   "metadata": {
    "slideshow": {
     "slide_type": "fragment"
    }
   },
   "source": [
    "* `os.path` enthält Funktionen zum Umgang mit Dateinamen und -pfaden, mit und ohne Zugriff auf die Dateien\n",
    "* `os` enthält allgemeinere Dinge zum Betriebssystem, z.B. `os.listdir()`\n",
    "* `shutil` enthält »höhere« Betriebssystemfunktionen, z.B. Kopieren von Dateien\n",
    "* `glob` liefert die Funktion `glob.glob()`, mit der man Dateien mit einem bestimmten Muster anzeigen lassen kann."
   ]
  },
  {
   "cell_type": "markdown",
   "metadata": {
    "slideshow": {
     "slide_type": "subslide"
    }
   },
   "source": [
    "### Umgang mit Modulen aus der Standardbibliothek\n",
    "\n",
    "* Die Standardbibliothek liefert viele Funktionen für gängige Aufgaben\n",
    "* Bei jedem Python mit installiert, müssen in Ihrem Programm aber erst importiert werden\n",
    "\n",
    "__Beispiel:__\n",
    "\n",
    "Die Funktion `glob` im Modul `glob` bietet die Möglichkeit, alle Dateien in einem bestimmten Verzeichnis, deren Namen einem bestimmten Muster folgt, auflisten zu lassen. Dabei gilt:\n",
    "\n",
    "```\n",
    "+--------------+---------------------------------------------+\n",
    "|Sonderzeichen | Steht für ...                               |\n",
    "+--------------+---------------------------------------------+\n",
    "|    *         | beliebig viele beliebige Zeichen            |\n",
    "|    ?         | ein beliebiges Zeichen                      |\n",
    "|  [0-9]       | die zwischen den `[]` aufgelisteten Zeichen |\n",
    "+--------------+---------------------------------------------+\n",
    "```\n",
    "\n",
    "`scripts/*.py` steht also z.B. für alle Python-Dateien im Unterverzeichnis `scripts`."
   ]
  },
  {
   "cell_type": "markdown",
   "metadata": {
    "slideshow": {
     "slide_type": "subslide"
    }
   },
   "source": [
    " 1. [Dokumentation lesen](https://docs.python.org/3/library/glob.html)\n",
    " 2. Modul importieren"
   ]
  },
  {
   "cell_type": "code",
   "execution_count": 13,
   "metadata": {
    "slideshow": {
     "slide_type": "-"
    }
   },
   "outputs": [],
   "source": [
    "import glob"
   ]
  },
  {
   "cell_type": "markdown",
   "metadata": {
    "slideshow": {
     "slide_type": "-"
    }
   },
   "source": [
    " 3. Modul benutzen – die Funktionen stehen jetzt mit dem Präfix `glob.` zur Verfügung"
   ]
  },
  {
   "cell_type": "code",
   "execution_count": 14,
   "metadata": {
    "slideshow": {
     "slide_type": "-"
    }
   },
   "outputs": [
    {
     "name": "stdout",
     "output_type": "stream",
     "text": [
      "['06_while.pdf', 'Untitled1.pdf', 'Aufgabe4.pdf', '03_lists-ol.pdf', '04_for-ol.pdf', '06_for.pdf', '03_lists_dict.pdf', '09_functions-ol.pdf', '05_while.pdf', '11_re-ol.pdf', 'x11_lxml.pdf', '07_dict_ol.pdf', '03_lists.pdf', '04_for.pdf', '08a_auffrischung.pdf', '08_io.pdf', '09_modules.pdf', '01_intro.pdf', '05_conditionals-ol.pdf', '09_functions.pdf', '08_problemstruktur.pdf', '03a_dict.pdf', '06_while-ol.pdf', 'Untitled.pdf', '11_re.pdf', '11_re_refcard.pdf', 'Uebungen-Philip.pdf', '04_for_ol.pdf', '07_dict_0.pdf', '02_types_objects_import.pdf', '05_conditionals.pdf', '07_dict-ol.pdf', '12_vertiefen.pdf', 'Untitled2.pdf', 'Federalist-Papers.pdf', '02_types_objects_import-ol.pdf', '08_io-ol.pdf', 'Fotis-Statistik.pdf', '10_modules.pdf', '07_dict.pdf', '04_conditionals.pdf', '12_Abschluss.pdf']\n"
     ]
    }
   ],
   "source": [
    "print(glob.glob('*.pdf'))"
   ]
  },
  {
   "cell_type": "markdown",
   "metadata": {
    "slideshow": {
     "slide_type": "fragment"
    }
   },
   "source": [
    "### Übung\n",
    "\n",
    "Benutzen Sie die Funktion zum Dateien kopieren aus der Standardbibliothek, um ihre vorhin erzeugte Beispieldatei zu einer Datei mit dem Namen `beispiel-kopie.txt` zu kopieren."
   ]
  },
  {
   "cell_type": "code",
   "execution_count": null,
   "metadata": {},
   "outputs": [],
   "source": []
  }
 ],
 "metadata": {
  "celltoolbar": "Slideshow",
  "kernelspec": {
   "display_name": "Python 3",
   "language": "python",
   "name": "python3"
  },
  "language_info": {
   "codemirror_mode": {
    "name": "ipython",
    "version": 3
   },
   "file_extension": ".py",
   "mimetype": "text/x-python",
   "name": "python",
   "nbconvert_exporter": "python",
   "pygments_lexer": "ipython3",
   "version": "3.7.3"
  },
  "nav_menu": {},
  "toc": {
   "navigate_menu": true,
   "number_sections": false,
   "sideBar": true,
   "threshold": 6,
   "toc_cell": false,
   "toc_section_display": "block",
   "toc_window_display": false
  }
 },
 "nbformat": 4,
 "nbformat_minor": 1
}
