{
 "metadata": {
  "celltoolbar": "Slideshow",
  "name": "",
  "signature": "sha256:216ab0f3e96e0d1046173eaf7e31c555556ccf28e9b3095bdd5651e5eaef95ee"
 },
 "nbformat": 3,
 "nbformat_minor": 0,
 "worksheets": [
  {
   "cells": [
    {
     "cell_type": "markdown",
     "metadata": {},
     "source": [
      "## Einf\u00fchrung in das Programmieren mit Python\n",
      "# Comprehensions, Iteratoren und Generatoren: Funktionales Programmieren in Python"
     ]
    },
    {
     "cell_type": "markdown",
     "metadata": {},
     "source": [
      "### Aufgabe\n",
      "\n",
      "Schreiben Sie einen einfachen Tokenizer: Der Tokenizer soll eine Textdatei zeilenweise einlesen und jede Zeile in Tokens (W\u00f6rter und Zahlen) zerlegen. Ihr Tokenizer soll als Funktion aufrufbar sein und eine lange Sequenz / Liste mit allen Tokens aus der Datei zur\u00fcckgeben. Alle Tokens sollen in Kleinbuchstaben normalisiert werden."
     ]
    },
    {
     "cell_type": "code",
     "collapsed": false,
     "input": [
      "import re\n",
      "\n",
      "def tokenize(filename):\n",
      "    tokens = []\n",
      "    \n",
      "    with open(filename, \"rt\", encoding=\"utf-8\") as file:\n",
      "        for line in file:\n",
      "            for token in re.findall(\"\\w+\", line):\n",
      "                tokens.append(token.lower())\n",
      "    \n",
      "    return tokens\n",
      "\n",
      "print(tokenize(\"roman.txt\"))"
     ],
     "language": "python",
     "metadata": {},
     "outputs": [
      {
       "output_type": "stream",
       "stream": "stdout",
       "text": [
        "['kurzer', 'roman', 'dies', 'ist', 'ein', 'langer', 'roman', 'er', 'beginnt', 'mit', 'dem', 'auftritt', 'des', 'heldens', 'da', 'es', 'keine', 'helden', 'gibt', 'unterbricht', 'hier', 'schon', 'der', 'leser']\n"
       ]
      }
     ],
     "prompt_number": 52
    },
    {
     "cell_type": "markdown",
     "metadata": {},
     "source": [
      "### List Comprehensions\n",
      "\n",
      "* Kurzschreibweise f\u00fcr systematisch aufgebaute Listen\n",
      "* z.B. Quadratzahlen: $Q := \\{ n^2 \\mid n \\in \\mathbb{N} \\}$\n",
      "* in Python: `[` _Ausdruck_ `for` _name_ `in` _sequenz_ \u2026 `]`"
     ]
    },
    {
     "cell_type": "code",
     "collapsed": false,
     "input": [
      "quadratzahlen = [ n**2 for n in range(20) ]\n",
      "print(quadratzahlen, type(quadratzahlen))"
     ],
     "language": "python",
     "metadata": {},
     "outputs": [
      {
       "output_type": "stream",
       "stream": "stdout",
       "text": [
        "[0, 1, 4, 9, 16, 25, 36, 49, 64, 81, 100, 121, 144, 169, 196, 225, 256, 289, 324, 361] <class 'list'>\n"
       ]
      }
     ],
     "prompt_number": 14
    },
    {
     "cell_type": "markdown",
     "metadata": {},
     "source": [
      "Man kann auch __filtern__:"
     ]
    },
    {
     "cell_type": "code",
     "collapsed": false,
     "input": [
      "[n**2 for n in range(20) if n % 2 == 0]"
     ],
     "language": "python",
     "metadata": {},
     "outputs": [
      {
       "metadata": {},
       "output_type": "pyout",
       "prompt_number": 18,
       "text": [
        "[0, 4, 16, 36, 64, 100, 144, 196, 256, 324]"
       ]
      }
     ],
     "prompt_number": 18
    },
    {
     "cell_type": "markdown",
     "metadata": {},
     "source": [
      "Auf mehreren Zeilen ist's u.U. \u00fcbersichtlicher:"
     ]
    },
    {
     "cell_type": "code",
     "collapsed": false,
     "input": [
      "[ n**2 \n",
      "     for n in range(20) \n",
      "     if n % 2 == 0 ]"
     ],
     "language": "python",
     "metadata": {},
     "outputs": [
      {
       "metadata": {},
       "output_type": "pyout",
       "prompt_number": 16,
       "text": [
        "[0, 4, 16, 36, 64, 100, 144, 196, 256, 324]"
       ]
      }
     ],
     "prompt_number": 16
    },
    {
     "cell_type": "markdown",
     "metadata": {},
     "source": [
      "<h3 style=\"color:green;\">Aufgabe</h3>\n",
      "Schreiben Sie eine List Comprehension, die aus einem String eine in Liste der in Kleinbuchstaben gewandelten Tokens generiert."
     ]
    },
    {
     "cell_type": "code",
     "collapsed": false,
     "input": [
      "[ token.lower() for token in re.findall(r\"\\w+\", \"Dies ist ein Beispiel f\u00fcr eine List Comprehension.\") ]"
     ],
     "language": "python",
     "metadata": {},
     "outputs": [
      {
       "metadata": {},
       "output_type": "pyout",
       "prompt_number": 19,
       "text": [
        "['dies', 'ist', 'ein', 'beispiel', 'f\u00fcr', 'eine', 'list', 'comprehension']"
       ]
      }
     ],
     "prompt_number": 19
    },
    {
     "cell_type": "code",
     "collapsed": false,
     "input": [
      "with open(\"roman.txt\", encoding=\"utf-8\") as file:\n",
      "    result = [ re.findall(r'\\w+', line) for line in file ]"
     ],
     "language": "python",
     "metadata": {},
     "outputs": [],
     "prompt_number": 24
    },
    {
     "cell_type": "code",
     "collapsed": false,
     "input": [
      "print(result)"
     ],
     "language": "python",
     "metadata": {},
     "outputs": [
      {
       "output_type": "stream",
       "stream": "stdout",
       "text": [
        "[['Kurzer', 'Roman'], ['Dies', 'ist', 'ein', 'langer', 'Roman', 'Er', 'beginnt', 'mit', 'dem', 'Auftritt', 'des', 'Heldens'], ['Da', 'es', 'keine', 'Helden', 'gibt', 'unterbricht', 'hier', 'schon', 'der', 'Leser']]\n"
       ]
      }
     ],
     "prompt_number": 26
    },
    {
     "cell_type": "code",
     "collapsed": false,
     "input": [
      "def tokenize(filename):\n",
      "    with open(filename, encoding=\"utf-8\") as file:\n",
      "        return [ token.lower()\n",
      "                      for line in file\n",
      "                      for token in re.findall(r\"\\w+\", line) ]\n",
      "print(tokenize(\"roman.txt\"))"
     ],
     "language": "python",
     "metadata": {},
     "outputs": [
      {
       "output_type": "stream",
       "stream": "stdout",
       "text": [
        "['kurzer', 'roman', 'dies', 'ist', 'ein', 'langer', 'roman', 'er', 'beginnt', 'mit', 'dem', 'auftritt', 'des', 'heldens', 'da', 'es', 'keine', 'helden', 'gibt', 'unterbricht', 'hier', 'schon', 'der', 'leser']\n"
       ]
      }
     ],
     "prompt_number": 34
    },
    {
     "cell_type": "markdown",
     "metadata": {},
     "source": [
      "### Dictionary Comprehensions\n",
      "\n",
      "Man kann auch Dictionaries auf diese Weise bauen:"
     ]
    },
    {
     "cell_type": "code",
     "collapsed": false,
     "input": [
      "print({ token : len(token)  for token in tokens })"
     ],
     "language": "python",
     "metadata": {},
     "outputs": [
      {
       "output_type": "stream",
       "stream": "stdout",
       "text": [
        "{'dies': 4, 'da': 2, 'helden': 6, 'keine': 5, 'dem': 3, 'schon': 5, 'es': 2, 'er': 2, 'langer': 6, 'heldens': 7, 'der': 3, 'gibt': 4, 'beginnt': 7, 'mit': 3, 'hier': 4, 'roman': 5, 'ein': 3, 'leser': 5, 'auftritt': 8, 'unterbricht': 11, 'des': 3, 'ist': 3, 'kurzer': 6}\n"
       ]
      }
     ],
     "prompt_number": 36
    },
    {
     "cell_type": "markdown",
     "metadata": {},
     "source": []
    }
   ],
   "metadata": {}
  }
 ]
}