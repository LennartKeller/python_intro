{
 "cells": [
  {
   "cell_type": "markdown",
   "metadata": {
    "slideshow": {
     "slide_type": "slide"
    }
   },
   "source": [
    "## Programmieren mit Python"
   ]
  },
  {
   "cell_type": "markdown",
   "metadata": {
    "slideshow": {
     "slide_type": "-"
    }
   },
   "source": [
    "# Problemstruktur • Rekursion"
   ]
  },
  {
   "cell_type": "markdown",
   "metadata": {},
   "source": [
    "__TODO__\n",
    "\n",
    "* Wie kommt man von einer verbal beschriebenen Problemstellung zu einem Programm?\n",
    "* An einem Beispiel gemeinsam mit dem Kurs erarbeiten\n",
    "* Weitere Übung, um das selbständig zu machen"
   ]
  },
  {
   "cell_type": "markdown",
   "metadata": {
    "slideshow": {
     "slide_type": "slide"
    }
   },
   "source": [
    "## Rekursion"
   ]
  },
  {
   "cell_type": "markdown",
   "metadata": {},
   "source": [
    "__TODO__ \n",
    "\n",
    "* Herleitung der Rekursion nicht durch die Implementierung, sondern durch die Problemstellung\n",
    "* Einfaches Beispiel: Verzeichnisstruktur – Wie ermitteln wir den Gesamtspeicherplatz, der für ein Verzeichnis mit allen Dateien und Unterverzeichnissen benötigt wird?\n",
    "\n",
    "   * Ein Verzeichnis enthält Dateien und (Unter-)Verzeichnisse\n",
    "   * Die Größe einer Datei kann man mit `os.path.size` abfragen\n",
    "   * Die Größe eines Verzeichnisses ergibt sich aus der Summe der Größen der Dateien und (Unter-)Verzeichnisse darin\n",
    "   * Und wie ermitteln wir die Größe jedes Unterverzeichnis?"
   ]
  },
  {
   "cell_type": "markdown",
   "metadata": {
    "slideshow": {
     "slide_type": "-"
    }
   },
   "source": [
    "* Aufruf einer Funktion durch sich selbst"
   ]
  },
  {
   "cell_type": "markdown",
   "metadata": {
    "slideshow": {
     "slide_type": "-"
    }
   },
   "source": [
    "\n",
    "<p>Als Rekursion bezeichnet man den Aufruf einer Funktion durch sich selbst. Eine rekursive Funktion besteht typischerweise aus zwei Bausteinen, einem Verarbeitungsteil, der auch den Selbstaufruf enthält und einer Prüfung, die feststellt, ob ein bestimmte Bedingung erreicht ist, so dass die Rekursion endet. </p>\n",
    "<p>Rekursionen funktionieren also ähnlich wie Schleifen. Wann soll man Rekursionen verwenden? Wenn man bei der Analyse des Problems feststellt, dass jede komplexere Form des Problems sich auf eine einfache Lösung des Problems zurückführen lässt. Eine ausführlichere Behandlung von Rekursion finden Sie <a href=\"http://cs.stanford.edu/people/eroberts/courses/cs106b/chapters/05-intro-to-recursion.pdf\">hier</a>.<br/></p>\n",
    "<p>Die prinzipielle Struktur einer rekursiven Funktion sieht also so aus:</p>"
   ]
  },
  {
   "cell_type": "code",
   "execution_count": null,
   "metadata": {
    "collapsed": true,
    "slideshow": {
     "slide_type": "fragment"
    }
   },
   "outputs": [],
   "source": [
    "if (test for simple case) == True: \n",
    "    Bereche eine einfache Lösung ohne Rekursion\n",
    "else:\n",
    "    Zerlege das Problem in Teilprobleme, die die gleiche Form haben.\n",
    "    Löse jedes Teilproblem durch rekursiven Aufruf der Funktion.\n",
    "    Setze die Lösungen für die Teilprobleme zusammen, um eine Lösung für das ganze Problem zu erhalten."
   ]
  },
  {
   "cell_type": "markdown",
   "metadata": {
    "slideshow": {
     "slide_type": "subslide"
    }
   },
   "source": [
    "Beispiel: **Fakultät** $n!$ einer natürlichen Zahl $n$:<br/>\n",
    "\n",
    "* $n!$ (sprich: $n$ Fakultät) ist definiert als $n \\cdot (n-1)!$\n",
    "* $0!$ ist definiert als $1$\n",
    "\n",
    "\n",
    "$3! = 3 \\cdot 2! = 3 \\cdot 2 \\cdot 1! = 3 \\cdot 2 \\cdot 1 \\cdot 0! = 3 \\cdot 2 \\cdot 1 \\cdot 1 = 6$\n"
   ]
  },
  {
   "cell_type": "code",
   "execution_count": 19,
   "metadata": {
    "collapsed": false,
    "slideshow": {
     "slide_type": "fragment"
    }
   },
   "outputs": [
    {
     "name": "stdout",
     "output_type": "stream",
     "text": [
      "Fakultät 3! ist  6\n"
     ]
    }
   ],
   "source": [
    "def factorial(n):\n",
    "    \"\"\"\"\n",
    "    calculates the factorial of n\n",
    "    \"\"\"\n",
    "    if n == 0:      # einfacher fall ohne rekursion\n",
    "        return 1\n",
    "    else:\n",
    "        result = n * factorial(n-1)   #Zerlegung: n! = n * (n-1)!   Lösung von (n-1)! durch rekursiven Aufruf der F.\n",
    "                                      #Zusammensetzung durch die Multiplikation der Einzelzahlen\n",
    "        return result\n",
    "\n",
    "    \n",
    "print(\"Fakultät 3! ist \", factorial(3))"
   ]
  },
  {
   "cell_type": "code",
   "execution_count": 20,
   "metadata": {
    "collapsed": false,
    "slideshow": {
     "slide_type": "slide"
    }
   },
   "outputs": [
    {
     "name": "stdout",
     "output_type": "stream",
     "text": [
      "factorial of 3 ?\n",
      "factorial of 2 ?\n",
      "factorial of 1 ?\n",
      "factorial of 0 ?\n",
      "0 (simple case)\n",
      "1! = 1\n",
      "2! = 2\n",
      "3! = 6\n",
      "Fakultät 3! ist  6\n"
     ]
    }
   ],
   "source": [
    "#um zu sehen, was hier genau passiert, fügen wir einige print-statements ein\n",
    "def factorial(n):\n",
    "    print(\"factorial of\", n, \"?\")\n",
    "    if n == 0:\n",
    "        print(n, \"(simple case)\")\n",
    "        return 1\n",
    "    else:\n",
    "        result = n * factorial(n-1)\n",
    "        print(str(n) + \"! =\", result)\n",
    "        return result\n",
    "\n",
    "print(\"Fakultät 3! ist \", factorial(3))"
   ]
  },
  {
   "cell_type": "markdown",
   "metadata": {
    "slideshow": {
     "slide_type": "skip"
    }
   },
   "source": [
    "<p>Was passiert hier? Im ersten Durchlauf ist n==3, d.h. das Programm springt von Z.4 zu Z. 7 und beginnt mit der Bearbeitung von Z.8. Python berechnet `3 *`, aber um den zweiten Faktor zu berechnen, muss es wiederum die Funktion aufrufen. Der ursprüngliche Aufruf der Funktion (nennen wir ihn Funktionsaufruf[0]) wir also angehalten und auf einen Stapel gelegt.</p>\n",
    "<p>Die Berechnung des zweiten Faktors hat einen neuen Aufruf gestartet, Funktionsaufruf[1]. n ist hier == 2. Wiederum springt das Programm von Zeile 3 zu Zeile 6 und beginnt dann mit der Arbeit an Zeile 8: Es rechnet 2 * -- und auch hier muss der Programmaufruf angehalten werden, da die Funktion nun zum 3. Mal aufgerufen wird (Funktionsaufruf[2]), während Funktionsaufruf[1] ebenfalls auf den Stapel kommt.</p>\n",
    "<p>Bei Funktionsaufruf[2] ist n == 1. Es geschieht wieder dasselbe, Funktionsaufruf[2] kommt auf den Stapel, Funktionsaufruf[3] erfolgt dann mit `n == 0`.\n",
    "<p>Deshalb verzweigt das Programm nun, in Funktionsaufruf[3], von Z. 4 zu Z. 5 und gibt die Zeile `0 (simple case`) aus. Dann wird Funktionsaufruf[3] mit dem Rückgabewert 1 beendet. Der Stapeleintrag für Funktionsaufruf[3] wird damit entfernt.</p>\n",
    "<p>Der Rückgabewert wird an den letzten Funktionsaufruf gegeben, der auf den Stapel gewandert ist, also Funktionsaufruf[2]. Hier kann nun die Multiplikation vollzogen werden: `1 * 1`. Das Ergebnis wird ausgegeben und dann wird die Funktion mit dem Rückgabewert `1` beendet. </p>\n",
    "<p>Dieser Rückgabewert wird an den nunmehr letzten Funktionsaufruf gegeben, der auf den Stapel gewandert ist, also Funktionsaufruf[1]. Hier kann nun die Multiplikation vollzogen werden: `2 * 1`. Das Ergebnis wird ausgegeben und dann wird die Funktion mit dem Rückgabewert `2` beendet. </p>\n",
    "<p>Der Rückgabewert wird an den Funktionsaufruf[0], der noch auf dem Stapel liegt, gegeben. Hier kann nun wiederum weiter gerechnet werden: `3 * 2`. Das Ergebnis, `6`, wird ausgegeben und dann als Rückgabewert zurückgegeben. "
   ]
  },
  {
   "cell_type": "markdown",
   "metadata": {
    "slideshow": {
     "slide_type": "slide"
    }
   },
   "source": [
    "<h3 style=\"color:green\">Aufgabe</h3> \n",
    "Ein _Palindrom_ ist ein String, der von vorn wie von hinten gelesen gleich ist, z.B. `\"anna\"` oder `\"MAOAM\"`.\n",
    "\n",
    "Schreiben Sie eine rekursive Funktion `is_palindrome(s)`, die für einen gegebenen String überprüft, ob es sich um ein Palindrom handelt. Welche Fälle von Strings sind trivialerweise Palindrome?"
   ]
  },
  {
   "cell_type": "markdown",
   "metadata": {
    "slideshow": {
     "slide_type": "subslide"
    }
   },
   "source": [
    "#### Musterlösung"
   ]
  },
  {
   "cell_type": "code",
   "execution_count": 7,
   "metadata": {
    "collapsed": true,
    "slideshow": {
     "slide_type": "fragment"
    }
   },
   "outputs": [
    {
     "name": "stdout",
     "output_type": "stream",
     "text": [
      "... checking anna ...\n",
      "... checking nn ...\n",
      "... checking  ...\n",
      "anna True\n",
      "... checking MAOAM ...\n",
      "... checking AOA ...\n",
      "... checking O ...\n",
      "MAOAM True\n",
      "... checking annika ...\n",
      "... checking nnik ...\n",
      "annika False\n"
     ]
    }
   ],
   "source": [
    "def is_palindrome(s):\n",
    "    \n",
    "    print(\"... checking\", s, \"...\")\n",
    "    if len(s) <= 1:\n",
    "        return True\n",
    "    if s[0] == s[-1]:\n",
    "        return is_palindrome(s[1:-1])\n",
    "    else:\n",
    "        return False\n",
    "    \n",
    "print(\"anna\", is_palindrome(\"anna\"))\n",
    "print(\"MAOAM\", is_palindrome(\"MAOAM\"))\n",
    "print(\"annika\", is_palindrome(\"annika\"))"
   ]
  },
  {
   "cell_type": "markdown",
   "metadata": {
    "slideshow": {
     "slide_type": "fragment"
    }
   },
   "source": [
    "### Übungsaufgabe (nicht prüfungsrelevant)\n",
    "\n",
    "\n",
    "Ein bekanntes Beispiel für Rekursion sind die _Türme von Hanoi_. Schauen Sie sich [hier die Beschreibung des Problems und des Lösungsalgorithmus in Pseudocode an](https://www.cs.cmu.edu/~cburch/survey/recurse/hanoiimpl.html) und implementieren Sie die Lösung in Python. Bonus: Geben Sie nach jedem Zug den Stand der Stapel an."
   ]
  }
 ],
 "metadata": {
  "celltoolbar": "Slideshow",
  "kernelspec": {
   "display_name": "Python 3",
   "language": "python",
   "name": "python3"
  },
  "language_info": {
   "codemirror_mode": {
    "name": "ipython",
    "version": 3
   },
   "file_extension": ".py",
   "mimetype": "text/x-python",
   "name": "python",
   "nbconvert_exporter": "python",
   "pygments_lexer": "ipython3",
   "version": "3.5.1+"
  },
  "nav_menu": {},
  "toc": {
   "navigate_menu": true,
   "number_sections": false,
   "sideBar": true,
   "threshold": 6,
   "toc_cell": false,
   "toc_section_display": "block",
   "toc_window_display": false
  }
 },
 "nbformat": 4,
 "nbformat_minor": 0
}
