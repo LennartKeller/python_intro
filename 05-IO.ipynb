{
 "cells": [
  {
   "cell_type": "markdown",
   "metadata": {
    "slideshow": {
     "slide_type": "slide"
    }
   },
   "source": [
    "## Einführung in das Programmieren mit Python\n",
    "\n",
    "# Input/Output"
   ]
  },
  {
   "cell_type": "markdown",
   "metadata": {
    "slideshow": {
     "slide_type": "slide"
    }
   },
   "source": [
    "### Hausaufgabe  – Musterlösung"
   ]
  },
  {
   "cell_type": "markdown",
   "metadata": {
    "slideshow": {
     "slide_type": "-"
    }
   },
   "source": [
    "1. Erstellen Sie eine Tabelle der absoluten Worthäufigkeiten der angehängten Textdatei. Dazu zerlegen Sie die Textdatei in Tokens, entfernen den Tokens anhaftende Satzzeichen, und zählen, wie oft jede unterschiedliche Wortform _(Type)_ vorkommt. Ob Sie das Zählen selbst übernehmen oder passende Strukturen aus der Standardbibliothek zuhilfenehmen ist Ihnen überlassen."
   ]
  },
  {
   "cell_type": "code",
   "execution_count": 1,
   "metadata": {
    "slideshow": {
     "slide_type": "fragment"
    }
   },
   "outputs": [],
   "source": [
    "from pathlib import Path\n",
    "from collections import Counter\n",
    "text = Path('Fontane-Theodor_Effi Briest.txt').read_text(encoding='utf-8')\n",
    "tokens = [token.strip(',.;:-()»«') for token in text.split()]\n",
    "abs_freqs = Counter(tokens)"
   ]
  },
  {
   "cell_type": "markdown",
   "metadata": {
    "slideshow": {
     "slide_type": "fragment"
    }
   },
   "source": [
    "2. Ermitteln Sie die Anzahl der Tokens  und die der Types (= der _unterschiedlichen_ Tokens). "
   ]
  },
  {
   "cell_type": "code",
   "execution_count": 2,
   "metadata": {
    "slideshow": {
     "slide_type": "fragment"
    }
   },
   "outputs": [
    {
     "name": "stdout",
     "output_type": "stream",
     "text": [
      "95503 Tokens, 12525 Types\n"
     ]
    }
   ],
   "source": [
    "token_count = sum(abs_freqs.values())\n",
    "type_count = len(abs_freqs)\n",
    "print(f\"{token_count} Tokens, {type_count} Types\")"
   ]
  },
  {
   "cell_type": "markdown",
   "metadata": {
    "slideshow": {
     "slide_type": "subslide"
    }
   },
   "source": [
    "3. Erzeugen Sie eine Tabelle der _relativen_ Häufigkeiten. Selbstkontrolle: `sum(rel_freqs.values())` muss `1.0` sein."
   ]
  },
  {
   "cell_type": "code",
   "execution_count": 3,
   "metadata": {
    "slideshow": {
     "slide_type": "fragment"
    }
   },
   "outputs": [
    {
     "name": "stdout",
     "output_type": "stream",
     "text": [
      "1.0000000000004237\n"
     ]
    }
   ],
   "source": [
    "freqs = {word: freq / token_count for word, freq in abs_freqs.items()}\n",
    "print(sum(freqs.values()))"
   ]
  },
  {
   "cell_type": "markdown",
   "metadata": {
    "slideshow": {
     "slide_type": "fragment"
    }
   },
   "source": [
    "4. Berechnen Sie das arithmetische Mittel der relativen Worthäufigkeiten: $\\mu = \\frac{1}{n} \\sum_{i=1}^n f_i$ für die relativen Häufigkeiten $f_1, \\dotsc, f_n$ ($n$ ist die Anzahl der unterschiedlichen Wortformen aus Aufgabe 1.)"
   ]
  },
  {
   "cell_type": "code",
   "execution_count": 4,
   "metadata": {
    "slideshow": {
     "slide_type": "fragment"
    }
   },
   "outputs": [
    {
     "name": "stdout",
     "output_type": "stream",
     "text": [
      "7.984031936131128e-05\n"
     ]
    }
   ],
   "source": [
    "mean = sum(freqs.values()) / type_count\n",
    "print(mean)"
   ]
  },
  {
   "cell_type": "markdown",
   "metadata": {
    "slideshow": {
     "slide_type": "subslide"
    }
   },
   "source": [
    "5. Berechnen Sie die (korrigierte) Stichprobenvarianz. Sie ist die mittlere quadratische Abweichung der Werte vom Mittelwert: $\\sigma^2 = \\frac{1}{n-1} \\sum_{i=1}^n (f_i - \\mu)^2$. Durch das Quadrieren der einzelnen Summanden wird man das Vorzeichen los, man teilt die Summe meist durch die Anzahl der Werte - 1 ($n-1$), da durch die Verwendung des Mittelwerts ein Freiheitsgrad verlorengeht."
   ]
  },
  {
   "cell_type": "code",
   "execution_count": 5,
   "metadata": {
    "slideshow": {
     "slide_type": "fragment"
    }
   },
   "outputs": [
    {
     "name": "stdout",
     "output_type": "stream",
     "text": [
      "3.8291677098655836e-07\n"
     ]
    }
   ],
   "source": [
    "var = 1/(type_count-1)  * sum((freq - mean)**2 for freq in freqs.values())\n",
    "print(var)"
   ]
  },
  {
   "cell_type": "markdown",
   "metadata": {
    "slideshow": {
     "slide_type": "subslide"
    }
   },
   "source": [
    "6. Ein sprechenderer Wert als die Varianz ist die _Standardabweichung_, das ist einfach die Quadratwurzel aus der Varianz: $\\sigma = \\sqrt{\\sigma^2}$. Die Standardabweichung ist in der selben Dimension wie die einzelnen Werte oder das arithmetische Mittel. Berechnen Sie sie. Sie können dazu die Funktion `sqrt` aus dem Modul `math` der Standardbibliothek importieren."
   ]
  },
  {
   "cell_type": "code",
   "execution_count": 6,
   "metadata": {
    "slideshow": {
     "slide_type": "fragment"
    }
   },
   "outputs": [
    {
     "name": "stdout",
     "output_type": "stream",
     "text": [
      "0.0006188026914829624\n"
     ]
    }
   ],
   "source": [
    "from math import sqrt\n",
    "std_dev = sqrt(var)\n",
    "print(std_dev)"
   ]
  },
  {
   "cell_type": "markdown",
   "metadata": {
    "slideshow": {
     "slide_type": "slide"
    }
   },
   "source": [
    "## Text-Dateien öffnen und lesen"
   ]
  },
  {
   "cell_type": "code",
   "execution_count": 7,
   "metadata": {
    "slideshow": {
     "slide_type": "fragment"
    }
   },
   "outputs": [
    {
     "data": {
      "text/plain": [
       "<_io.TextIOWrapper name='roman.txt' mode='rt' encoding='utf-8'>"
      ]
     },
     "execution_count": 7,
     "metadata": {},
     "output_type": "execute_result"
    }
   ],
   "source": [
    "file = open(\"roman.txt\", \"rt\", encoding=\"utf-8\")\n",
    "#           ^^^^^^^^^^^                       Dateiname\n",
    "#                        ^^^^                 Modus, r = lesen, t = Text\n",
    "#                                          (beides Default)\n",
    "#                              ^^^^^^^^^^^^^^ Textcodierung, Default systemabh.\n",
    "#=> Dateiobjekt\n",
    "file"
   ]
  },
  {
   "cell_type": "code",
   "execution_count": 8,
   "metadata": {
    "slideshow": {
     "slide_type": "fragment"
    }
   },
   "outputs": [
    {
     "name": "stdout",
     "output_type": "stream",
     "text": [
      "Kurzer Roman.\n",
      "Dies ist ein langer Roman. Er beginnt mit dem Auftritt des Heldens. \n",
      "Da es keine Helden gibt, unterbricht hier schon der Leser …\n",
      "\n"
     ]
    }
   ],
   "source": [
    "content = file.read()  # liest die komplette Datei in einen String ein. \n",
    "print(content)         # gibt den eingelesenen Inhalt der Datei aus\n",
    "file.close()           # Datei wieder schließen"
   ]
  },
  {
   "cell_type": "markdown",
   "metadata": {
    "slideshow": {
     "slide_type": "slide"
    }
   },
   "source": [
    "### Zeilenweises Einlesen einer Datei\n",
    "\n",
    "Dateien sind _Iterables_, sie können z.B. in `for`-Schleifen verwendet werden und liefern dann Zeilen:"
   ]
  },
  {
   "cell_type": "code",
   "execution_count": 9,
   "metadata": {
    "slideshow": {
     "slide_type": "fragment"
    }
   },
   "outputs": [
    {
     "name": "stdout",
     "output_type": "stream",
     "text": [
      "»Kurzer Roman.\n",
      "«\n",
      "»Dies ist ein langer Roman. Er beginnt mit dem Auftritt des Heldens. \n",
      "«\n",
      "»Da es keine Helden gibt, unterbricht hier schon der Leser …\n",
      "«\n"
     ]
    }
   ],
   "source": [
    "text_file = open(\"roman.txt\", encoding=\"utf-8\")\n",
    "for line in text_file:\n",
    "    print(\"»\" + line + \"«\") # hier kann man natürlich auch etwas Sinnvolleres tun …\n",
    "text_file.close()"
   ]
  },
  {
   "cell_type": "markdown",
   "metadata": {
    "slideshow": {
     "slide_type": "slide"
    }
   },
   "source": [
    "### Schließen von Dateien\n",
    "\n",
    "Man sollte am Ende eines Zugriffs auf Dateien diese _immer_ schließen (`f.close()`). Um sicherzustellen, dass das passiert (auch im Fehlerfall oder bei einem vorzeitigen `return`), kann man `with` verwenden:"
   ]
  },
  {
   "cell_type": "code",
   "execution_count": 10,
   "metadata": {
    "slideshow": {
     "slide_type": "fragment"
    }
   },
   "outputs": [
    {
     "name": "stdout",
     "output_type": "stream",
     "text": [
      "Kurzer Roman.\n",
      "Dies ist ein langer Roman. Er beginnt mit dem Auftritt des Heldens. \n",
      "Da es keine Helden gibt, unterbricht hier schon der Leser …\n"
     ]
    }
   ],
   "source": [
    "with open(\"roman.txt\", \"r\", encoding=\"utf-8\") as f:\n",
    "    for line in f:\n",
    "        print(line, end='')      "
   ]
  },
  {
   "cell_type": "markdown",
   "metadata": {
    "slideshow": {
     "slide_type": "slide"
    }
   },
   "source": [
    "<h3 style=\"color:green\">Aufgaben</h3>\n",
    "\n",
    "\n",
    "1. Legen Sie mit einem Editor eine utf-8-Datei in einem  Unterverzeichnis an (inkl. Umlaute und ß) und geben Sie dann den Inhalt mit Python aus. Unter Windows können Sie dafür den editor unter Zubehör verwenden. __Beachten Sie das Encoding unter _Speichern unter___.\n",
    "2. Lesen Sie den Inhalt der Datei mit Python ein. Messen Sie mit Python, wieviele Buchstaben Ihr Probetext inkl. Leerzeichen etc. lang ist. Vergleichen Sie mit der von Ihrem Dateimanager angegebenen Dateigröße."
   ]
  },
  {
   "cell_type": "code",
   "execution_count": 12,
   "metadata": {
    "slideshow": {
     "slide_type": "fragment"
    }
   },
   "outputs": [
    {
     "name": "stdout",
     "output_type": "stream",
     "text": [
      "Dies ist eine einfache Beispieldatei.\n",
      "\n",
      "Sie enthält Umlaute, GROẞE und nicht große Eszetts und ſogar ein langes ſ!\n",
      "\n"
     ]
    }
   ],
   "source": [
    "with open(\"beispiel.txt\", \"rt\", encoding=\"utf-8\") as file:\n",
    "    for line in file:\n",
    "        print(line)"
   ]
  },
  {
   "cell_type": "code",
   "execution_count": 13,
   "metadata": {
    "slideshow": {
     "slide_type": "fragment"
    }
   },
   "outputs": [
    {
     "name": "stdout",
     "output_type": "stream",
     "text": [
      "113\n",
      "121\n"
     ]
    }
   ],
   "source": [
    "import os\n",
    "with open(\"beispiel.txt\", \"rt\", encoding=\"utf-8\") as f:\n",
    "    content = f.read()    \n",
    "    print(len(content))\n",
    "    print(os.path.getsize(\"beispiel.txt\"))"
   ]
  },
  {
   "cell_type": "markdown",
   "metadata": {
    "slideshow": {
     "slide_type": "fragment"
    }
   },
   "source": [
    "Im [Hex-Viewer](http://de.wikipedia.org/wiki/Hex-Editor):\n",
    "\n",
    "<img src=\"img/utf-8_file.png\"/>\n",
    "\n",
    "* Codierung der Zeilenenden – in Windows als 0A 0D (`\\r\\n`), in Python-Strings als `'\\n'`\n",
    "* Codierung von Sonderzeichen mit mehr als einem Byte"
   ]
  },
  {
   "cell_type": "markdown",
   "metadata": {
    "slideshow": {
     "slide_type": "skip"
    }
   },
   "source": [
    "### Encoding einer Textdatei\n",
    "\n",
    "* Zuordnung Bytefolge <> Interpretation als Zeichen\n",
    "* Welche Zeichen? __Unicode__ vergibt Nummern _(Codepoints)_, z.Z.  136690 Zeichen (Unicode 10)\n",
    "* UTF-8 ist eine standardisierte, portable Codierung für den gesamten möglichen Unicode-Zeichenvorrat (bis zu 0x10FFFF verschiedene Zeichen)\n",
    "* UTF-8: ein Zeichen <> 1–4 Bytes\n",
    "* Python-3-Strings sind Unicode-Strings\n",
    "* _Tipp_: Arbeiten Sie immer mit UTF-8-Dateien, und geben Sie das Encoding explizit an."
   ]
  },
  {
   "cell_type": "code",
   "execution_count": 14,
   "metadata": {
    "slideshow": {
     "slide_type": "skip"
    }
   },
   "outputs": [
    {
     "name": "stdout",
     "output_type": "stream",
     "text": [
      "Standardcodierung für Dateiinhalte (encoding-Parameter): UTF-8\n",
      "Standardcodierung für Dateinamen etc.: utf-8\n"
     ]
    }
   ],
   "source": [
    "import locale\n",
    "import sys\n",
    "\n",
    "print(\"Standardcodierung für Dateiinhalte (encoding-Parameter):\", locale.getpreferredencoding())\n",
    "print(\"Standardcodierung für Dateinamen etc.:\", sys.getfilesystemencoding())"
   ]
  },
  {
   "cell_type": "markdown",
   "metadata": {
    "slideshow": {
     "slide_type": "slide"
    }
   },
   "source": [
    "<h3>Schreiben von Dateien</h3>\n",
    "<p>Das Schreiben von Dateien funktioniert ganz ähnlich wie das Lesen.</p>"
   ]
  },
  {
   "cell_type": "code",
   "execution_count": 15,
   "metadata": {
    "slideshow": {
     "slide_type": "fragment"
    }
   },
   "outputs": [],
   "source": [
    "text = [\"Dies ist ein kürzerer Text.\", \"Und das wäre die letzte Zeile!\", \"Wenn es nicht eine weitere gäbe.\"]\n",
    "with open(\"fileout.txt\", \"w\", encoding=\"utf-8\") as output_file:\n",
    "    for line in text:\n",
    "        output_file.write(line + \"\\n\")"
   ]
  },
  {
   "cell_type": "markdown",
   "metadata": {
    "slideshow": {
     "slide_type": "fragment"
    }
   },
   "source": [
    "Beim Aufruf der Funktion open wird als Parameter nun `\"w\"` (write) gesetzt. `output_file` ist ebenfalls ein frei wählbarer Variablenname für unser Dateiobjekt.\n",
    "\n",
    "Achtung: Bei der Verwendung von `\"w\"` allein wird die Datei immer zuerst zurückgesetzt, wenn sie existieren sollte. D.h. evtl. bestehende Inhalte werden gelöscht!\n",
    "\n",
    "Beachten Sie, dass die Methode `write` nicht automatisch eine Newline anhängt, wie das im Fall von print geschieht."
   ]
  },
  {
   "cell_type": "markdown",
   "metadata": {
    "slideshow": {
     "slide_type": "skip"
    }
   },
   "source": [
    "<h3 style=\"color: green\">Aufgabe</h3>\n",
    "1. Schreiben Sie ein Skript, dass ihre oben mit dem Editor angelegte Datei öffnet und den Inhalt in eine Datei namens results.txt schreibt. Das encoding ist utf-8.</p>\n",
    "2. Variieren Sie ihr Skript, sodass es in der Zieldatei vor jede Zeile in der Quelldatei die Zeilennummer schreibt."
   ]
  },
  {
   "cell_type": "markdown",
   "metadata": {
    "slideshow": {
     "slide_type": "skip"
    }
   },
   "source": [
    "#### Musterlösung"
   ]
  },
  {
   "cell_type": "code",
   "execution_count": 16,
   "metadata": {
    "slideshow": {
     "slide_type": "skip"
    }
   },
   "outputs": [],
   "source": [
    "with open(\"roman.txt\", \"r\", encoding=\"utf-8\") as fin:\n",
    "    with open(\"result.txt\", \"w\", encoding=\"utf-8\") as fout:\n",
    "        for line in fin:\n",
    "            fout.write(line)"
   ]
  },
  {
   "cell_type": "markdown",
   "metadata": {
    "slideshow": {
     "slide_type": "skip"
    }
   },
   "source": [
    "oder in einem Rutsch lesen:"
   ]
  },
  {
   "cell_type": "code",
   "execution_count": 17,
   "metadata": {
    "slideshow": {
     "slide_type": "skip"
    }
   },
   "outputs": [],
   "source": [
    "with open(\"roman.txt\", \"r\", encoding=\"utf-8\") as fin:\n",
    "    content = fin.read()\n",
    "    with open(\"result.txt\", \"w\", encoding=\"utf-8\") as fout:\n",
    "        fout.write(content)"
   ]
  },
  {
   "cell_type": "markdown",
   "metadata": {
    "slideshow": {
     "slide_type": "skip"
    }
   },
   "source": [
    "mit Zeilennummer:"
   ]
  },
  {
   "cell_type": "code",
   "execution_count": 18,
   "metadata": {
    "slideshow": {
     "slide_type": "skip"
    }
   },
   "outputs": [],
   "source": [
    "with open(\"roman.txt\", \"r\", encoding=\"utf-8\") as fin:\n",
    "    with open(\"result.txt\", \"w\", encoding=\"utf-8\") as fout:\n",
    "        lineno = 0\n",
    "        for line in fin:\n",
    "            lineno = lineno + 1\n",
    "            fout.write(str(lineno) + \" \" + line)"
   ]
  },
  {
   "cell_type": "markdown",
   "metadata": {
    "slideshow": {
     "slide_type": "slide"
    }
   },
   "source": [
    "<h3>Das Anhängen an eine Datei</h3>\n",
    "<p>Sie können Dateien auch ergänzen, indem Sie als Parameter statt \"w\" oder \"r\" den Buchstaben \"a\" (append) setzten.</p>"
   ]
  },
  {
   "cell_type": "code",
   "execution_count": 19,
   "metadata": {
    "slideshow": {
     "slide_type": "fragment"
    }
   },
   "outputs": [],
   "source": [
    "with open(\"fileout.txt\", \"a\", encoding=\"utf-8\") as writer:\n",
    "    writer.write(\"Hänge diese Zeile an. Das ist nun die letzte.\")"
   ]
  },
  {
   "cell_type": "markdown",
   "metadata": {
    "slideshow": {
     "slide_type": "skip"
    }
   },
   "source": [
    "Achtung: Wenn Sie hier das falsche encoding angeben oder den Parameter vergessen, es sich aber um eine utf-8 Datei handelt, dann kann es sehr gut sein, dass das Ergebnis fehlerhaft ist, ohne dass Python einen Fehler meldet!\n",
    "\n",
    "Das Anhängen mit `\"a\"` ist für Fälle gedacht, in denen die Datei beim Start Ihres Programmes bereits existiert (z.B. Protokolldateien). Wenn Sie aus verschiedenen Teilen Ihres Programms in dieselbe Datei schreiben wollen, reichen Sie besser das von `open` zurückgelieferte Dateiobjekt umher."
   ]
  },
  {
   "cell_type": "markdown",
   "metadata": {
    "slideshow": {
     "slide_type": "skip"
    }
   },
   "source": [
    "<h3 style=\"color: green\">Aufgaben</h3>\n",
    "<p>Ergänzen Sie die Datei, die Sie oben angelegt haben, um zwei Zeilen.</p>"
   ]
  },
  {
   "cell_type": "markdown",
   "metadata": {
    "slideshow": {
     "slide_type": "slide"
    }
   },
   "source": [
    "## `open` im Detail\n",
    "```\n",
    "open(...)\n",
    "    open(file, mode='r', buffering=-1, encoding=None,\n",
    "         errors=None, newline=None, closefd=True, opener=None) -> file object\n",
    "```\n",
    "__mode__ ist ein String aus einem oder mehreren der folgenden Zeichen:\n",
    "\n",
    "|Character| Meaning                                                        |\n",
    "|---------|----------------------------------------------------------------|\n",
    "|'r'      | open for reading (default)                                     |\n",
    "|'w'      | open for writing, truncating the file first                    |\n",
    "|'x'      | create a new file and open it for writing                      |\n",
    "|'a'      | open for writing, appending to the end of the file if it exists|\n",
    "|'b'      | binary mode                                                    |\n",
    "|'t'      | text mode (default)                                            |\n",
    "|'+'      | open a disk file for updating (reading and writing)            |\n",
    "|'U'      | universal newline mode (deprecated)                            |\n",
    "\n",
    "__encoding__ z.B. `utf-8`, `latin1`, `cp1252`"
   ]
  },
  {
   "cell_type": "markdown",
   "metadata": {
    "slideshow": {
     "slide_type": "subslide"
    }
   },
   "source": [
    "### Textdatei (vs. Binärdatei)\n",
    "* Zeilenweises Einlesen möglich\n",
    "* Konvertierung der Zeilenenden (Linux, Python: `'\\n'`, Windows: `'\\r\\n'`, MacOS: `'\\r'`), Option `newline`\n",
    "* Dekodierung als String (Option `errors` regelt den Umgang mit Fehlern)"
   ]
  },
  {
   "cell_type": "markdown",
   "metadata": {
    "slideshow": {
     "slide_type": "slide"
    }
   },
   "source": [
    "## Umgang mit Dateinamen und -pfaden\n",
    "\n",
    "Für den [Umgang mit Dateien](https://docs.python.org/3/library/filesys.html) gibt es Module in der [Standardbibliothek](https://docs.python.org/3/library/index.html):\n",
    "\n",
    "* `pathlib` liefert ein objektorientiertes, Betriebssystemunabhängiges Interface für Dateinamen etc."
   ]
  },
  {
   "cell_type": "code",
   "execution_count": 20,
   "metadata": {
    "slideshow": {
     "slide_type": "fragment"
    }
   },
   "outputs": [
    {
     "name": "stdout",
     "output_type": "stream",
     "text": [
      "/home/tv/Documents/OwnCloud/Uni/Lehre/Python1-neu/target/huhu.txt\n"
     ]
    }
   ],
   "source": [
    "from pathlib import Path\n",
    "outdir = Path('target')       # verzeichnis 'target'\n",
    "outdir.mkdir(exist_ok=True)   # anlegen falls nicht da\n",
    "file = outdir / \"huhu.txt\"    # neuer pfad: datei in outdir\n",
    "file.write_text('hallo welt') # text reinschreiben\n",
    "print(file.absolute())        # bei ihnen vllt c:\\Users\\..."
   ]
  },
  {
   "cell_type": "markdown",
   "metadata": {
    "slideshow": {
     "slide_type": "fragment"
    }
   },
   "source": [
    "* `os.path` enthält Funktionen zum Umgang mit Dateinamen und -pfaden, mit und ohne Zugriff auf die Dateien\n",
    "* `os` enthält allgemeinere Dinge zum Betriebssystem, z.B. `os.listdir()`\n",
    "* `shutil` enthält »höhere« Betriebssystemfunktionen, z.B. Kopieren von Dateien\n",
    "* `glob` liefert die Funktion `glob.glob()`, mit der man Dateien mit einem bestimmten Muster anzeigen lassen kann."
   ]
  },
  {
   "cell_type": "markdown",
   "metadata": {
    "slideshow": {
     "slide_type": "subslide"
    }
   },
   "source": [
    "### Umgang mit Modulen aus der Standardbibliothek\n",
    "\n",
    "* Die Standardbibliothek liefert viele Funktionen für gängige Aufgaben\n",
    "* Bei jedem Python mit installiert, müssen in Ihrem Programm aber erst importiert werden\n",
    "\n",
    "__Beispiel:__\n",
    "\n",
    "Die Funktion `glob` im Modul `glob` bietet die Möglichkeit, alle Dateien in einem bestimmten Verzeichnis, deren Namen einem bestimmten Muster folgt, auflisten zu lassen. Dabei gilt:\n",
    "\n",
    "```\n",
    "+--------------+---------------------------------------------+\n",
    "|Sonderzeichen | Steht für ...                               |\n",
    "+--------------+---------------------------------------------+\n",
    "|    *         | beliebig viele beliebige Zeichen            |\n",
    "|    ?         | ein beliebiges Zeichen                      |\n",
    "|  [0-9]       | die zwischen den `[]` aufgelisteten Zeichen |\n",
    "+--------------+---------------------------------------------+\n",
    "```\n",
    "\n",
    "`scripts/*.py` steht also z.B. für alle Python-Dateien im Unterverzeichnis `scripts`."
   ]
  },
  {
   "cell_type": "markdown",
   "metadata": {
    "slideshow": {
     "slide_type": "subslide"
    }
   },
   "source": [
    " 1. [Dokumentation lesen](https://docs.python.org/3/library/glob.html)\n",
    " 2. Modul importieren"
   ]
  },
  {
   "cell_type": "code",
   "execution_count": 21,
   "metadata": {
    "slideshow": {
     "slide_type": "-"
    }
   },
   "outputs": [],
   "source": [
    "import glob"
   ]
  },
  {
   "cell_type": "markdown",
   "metadata": {
    "slideshow": {
     "slide_type": "-"
    }
   },
   "source": [
    " 3. Modul benutzen – die Funktionen stehen jetzt mit dem Präfix `glob.` zur Verfügung"
   ]
  },
  {
   "cell_type": "code",
   "execution_count": 22,
   "metadata": {
    "slideshow": {
     "slide_type": "-"
    }
   },
   "outputs": [
    {
     "name": "stdout",
     "output_type": "stream",
     "text": [
      "['01-Einführung.pdf', '05-IO.pdf', '04-Comprehensions.pdf', '03-Datenstrukturen-ol.pdf', '06-Funktionen.pdf', '03-Datenstrukturen.pdf', '02-Kontroll+Datenstrukturen.pdf']\n"
     ]
    }
   ],
   "source": [
    "print(glob.glob('*.pdf'))"
   ]
  },
  {
   "cell_type": "markdown",
   "metadata": {
    "slideshow": {
     "slide_type": "fragment"
    }
   },
   "source": [
    "### Übung\n",
    "\n",
    "Benutzen Sie eine Funktion zum Dateien kopieren aus der Standardbibliothek, um ihre vorhin erzeugte Beispieldatei zu einer Datei mit dem Namen `beispiel-kopie.txt` zu kopieren."
   ]
  }
 ],
 "metadata": {
  "celltoolbar": "Slideshow",
  "kernelspec": {
   "display_name": "Python 3",
   "language": "python",
   "name": "python3"
  },
  "language_info": {
   "codemirror_mode": {
    "name": "ipython",
    "version": 3
   },
   "file_extension": ".py",
   "mimetype": "text/x-python",
   "name": "python",
   "nbconvert_exporter": "python",
   "pygments_lexer": "ipython3",
   "version": "3.7.5"
  },
  "nav_menu": {},
  "toc": {
   "navigate_menu": true,
   "number_sections": false,
   "sideBar": true,
   "threshold": 6,
   "toc_cell": false,
   "toc_section_display": "block",
   "toc_window_display": false
  }
 },
 "nbformat": 4,
 "nbformat_minor": 1
}
