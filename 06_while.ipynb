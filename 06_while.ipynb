{
 "cells": [
  {
   "cell_type": "markdown",
   "metadata": {
    "slideshow": {
     "slide_type": "slide"
    }
   },
   "source": [
    "## Einführung in das Programmieren mit Python"
   ]
  },
  {
   "cell_type": "markdown",
   "metadata": {
    "slideshow": {
     "slide_type": "-"
    }
   },
   "source": [
    "# Schleifen"
   ]
  },
  {
   "cell_type": "markdown",
   "metadata": {
    "slideshow": {
     "slide_type": "slide"
    }
   },
   "source": [
    "## Wiederholung: Bedingungen, Verzweigungen\n",
    "\n",
    "* Bedingungen sind Ausdrücke, die einen Wahrheitswert zurückgeben\n",
    "* Vergleichsoperatoren: ``== != < <= > >=   in   not in``, \n",
    "* Funktionen und Methoden, z.B. ``str.isnumeric()``\n",
    "* Boolesche Operatoren: ``and or not``\n",
    "\n",
    "* Verzweigung in der Programmstruktur:<br/>\n",
    "``\n",
    "if <Bedingung>:\n",
    "   Code\n",
    "``"
   ]
  },
  {
   "cell_type": "code",
   "execution_count": 5,
   "metadata": {
    "collapsed": false,
    "slideshow": {
     "slide_type": "fragment"
    }
   },
   "outputs": [
    {
     "name": "stdout",
     "output_type": "stream",
     "text": [
      "Gesuchte Zahl ist größer\n"
     ]
    }
   ],
   "source": [
    "a = 1\n",
    "if a < 7:\n",
    "    print(\"Gesuchte Zahl ist größer\")\n",
    "elif a == 7:\n",
    "    print(\"Zahl gefunden\")\n",
    "else:\n",
    "    print(\"Gesuchte Zahl ist kleiner\")\n",
    "    "
   ]
  },
  {
   "cell_type": "markdown",
   "metadata": {
    "slideshow": {
     "slide_type": "subslide"
    }
   },
   "source": [
    "### Kombinierte Statements\n",
    "\n",
    "Schleifen und Bedingungen lassen sich beliebig schachteln – die Einrückungsstufe gibt die Zuordnung zum entsprechenden Block an."
   ]
  },
  {
   "cell_type": "code",
   "execution_count": 11,
   "metadata": {
    "collapsed": false,
    "slideshow": {
     "slide_type": "-"
    }
   },
   "outputs": [
    {
     "name": "stdout",
     "output_type": "stream",
     "text": [
      "0 ist gerade.\n",
      "0 ist durch drei teilbar.\n",
      "2 ist gerade.\n",
      "3 ist durch drei teilbar.\n",
      "4 ist gerade.\n",
      "6 ist gerade.\n",
      "6 ist durch drei teilbar.\n",
      "8 ist gerade.\n",
      "9 ist durch drei teilbar.\n"
     ]
    }
   ],
   "source": [
    "for i in range(10):\n",
    "    if i % 2 == 0:\n",
    "        print(i, \"ist gerade.\")\n",
    "    if i % 3 == 0:\n",
    "        print(i, \"ist durch drei teilbar.\")    "
   ]
  },
  {
   "cell_type": "markdown",
   "metadata": {
    "slideshow": {
     "slide_type": "subslide"
    }
   },
   "source": [
    "Mit `break` können Sie die aktuelle Schleife abbrechen, z.B. wenn eine Bedingung erfüllt ist:"
   ]
  },
  {
   "cell_type": "code",
   "execution_count": 28,
   "metadata": {
    "collapsed": false
   },
   "outputs": [
    {
     "name": "stdout",
     "output_type": "stream",
     "text": [
      "1 3 6 10 15 21 28 36 45 55 "
     ]
    }
   ],
   "source": [
    "total = 0\n",
    "for i in range(1, 100):\n",
    "    total += i\n",
    "    print(total, end=' ')\n",
    "    if total > 50:    \n",
    "        break"
   ]
  },
  {
   "cell_type": "markdown",
   "metadata": {
    "slideshow": {
     "slide_type": "slide"
    }
   },
   "source": [
    "### Übung\n",
    "\n",
    "Mit `from random import randint` machen Sie eine Funktion `randint(a, b)` zugänglich, die eine Zufallszahl (int) von `a` bis `b` zurückgibt, beide Grenzen inclusive. Probieren Sie's aus:"
   ]
  },
  {
   "cell_type": "code",
   "execution_count": 1,
   "metadata": {
    "collapsed": false,
    "slideshow": {
     "slide_type": "-"
    }
   },
   "outputs": [
    {
     "data": {
      "text/plain": [
       "757"
      ]
     },
     "execution_count": 1,
     "metadata": {},
     "output_type": "execute_result"
    }
   ],
   "source": [
    "from random import randint\n",
    "randint(10, 1000)"
   ]
  },
  {
   "cell_type": "markdown",
   "metadata": {
    "slideshow": {
     "slide_type": "-"
    }
   },
   "source": [
    "Schreiben Sie analog zur letzten Übung 2 ein Zahlenrateprogramm. Das Programm erzeugt zunächst eine zu erratende Zufallszahl von 0 bis 100. Ihr Benutzer darf dann bis zu zehn mal raten, sie verraten, ob die Eingabe zu hoch / zu niedrig ist.\n",
    "\n",
    "(Wieviele Versuche benötigt ein kluger Rater maximal?)"
   ]
  },
  {
   "cell_type": "code",
   "execution_count": 2,
   "metadata": {
    "collapsed": false,
    "slideshow": {
     "slide_type": "subslide"
    }
   },
   "outputs": [
    {
     "name": "stdout",
     "output_type": "stream",
     "text": [
      "Raten Sie die Zahl:50\n",
      "Die gesuchte Zahl ist kleiner als 50\n",
      "Raten Sie die Zahl:25\n",
      "Die gesuchte Zahl ist kleiner als 25\n",
      "Raten Sie die Zahl:13\n",
      "Die gesuchte Zahl ist kleiner als 13\n",
      "Raten Sie die Zahl:6\n",
      "Die gesuchte Zahl ist kleiner als 6\n",
      "Raten Sie die Zahl:3\n",
      "Die gesuchte Zahl ist größer als 3\n",
      "Raten Sie die Zahl:5\n",
      "Glückwunsch: 5 in 6 Versuchen gefunden!\n"
     ]
    }
   ],
   "source": [
    "from random import randint\n",
    "number = randint(0, 100)     # Zu ratende Zahl 'number' bestimmen\n",
    "\n",
    "for attempt in range(10):    # 10 Versuche stehen zur Verfügung, also folgendes Prozedere 10 mal wiederholen\n",
    "    guess = int(input(\"Raten Sie die Zahl:\" ))\n",
    "    if number < guess:\n",
    "        print(\"Die gesuchte Zahl ist kleiner als\", guess)\n",
    "    elif number > guess:\n",
    "        print(\"Die gesuchte Zahl ist größer als\", guess)\n",
    "    else:                    # dann muss number == guess sein\n",
    "        print(\"Glückwunsch:\", number, \"in\", attempt+1, \"Versuchen gefunden!\")\n",
    "        break                # Rateschleife vorzeitig abbrechen\n",
    "\n",
    "if number != guess:          # nach Abschluss der Schleife weiter\n",
    "    print(number, \"wäre es gewesen :(\")"
   ]
  },
  {
   "cell_type": "markdown",
   "metadata": {
    "slideshow": {
     "slide_type": "subslide"
    }
   },
   "source": [
    "Die optimale Lösungsstrategie besteht darin, immer die Zahl in der Mitte des Kandidatenintervalls zu raten und so den Suchraum jeweils zu halbieren. Dieses Verfahren nennt man [Binäre Suche](https://de.wikipedia.org/wiki/Binäre_Suche). Hier sind für $n$ zu ratende Zahlen maximal $\\lceil\\log_2(n+1)\\rceil$ Versuche nötig, in unserem Fall also $\\lceil\\log_2(102)\\rceil = \\lceil 6.672 \\rceil = 7$"
   ]
  },
  {
   "cell_type": "code",
   "execution_count": 7,
   "metadata": {
    "collapsed": false,
    "slideshow": {
     "slide_type": "-"
    }
   },
   "outputs": [
    {
     "data": {
      "text/plain": [
       "7"
      ]
     },
     "execution_count": 7,
     "metadata": {},
     "output_type": "execute_result"
    }
   ],
   "source": [
    "import math\n",
    "math.ceil(math.log2(101+1))"
   ]
  },
  {
   "cell_type": "markdown",
   "metadata": {
    "slideshow": {
     "slide_type": "slide"
    }
   },
   "source": [
    "### Zusammengesetzte Statements\n",
    "\n",
    "![Ein- und Ausrückungen markieren zusammengehörige Statements (suite)](images/indent.png)"
   ]
  },
  {
   "cell_type": "markdown",
   "metadata": {
    "slideshow": {
     "slide_type": "-"
    }
   },
   "source": [
    "* Einrückung ist in Python bedeutungstragend\n",
    "* aufeinanderfolgende Elemente mit gleicher (Mindest-)Zahl von Leerzeichen bilden eine Folge (_suite_)\n",
    "* **Ausrückung** muss auf eine der vorherigen Einrückungsstufen gehen"
   ]
  },
  {
   "cell_type": "markdown",
   "metadata": {
    "slideshow": {
     "slide_type": "slide"
    }
   },
   "source": [
    "## Programmkontrolle: while-Schleifen"
   ]
  },
  {
   "cell_type": "markdown",
   "metadata": {
    "slideshow": {
     "slide_type": "subslide"
    }
   },
   "source": [
    "<h3>while-Schleifen</h3>\n",
    "<p>\n",
    "<img src=\"files/images/loop.png\" width=\"50%\" height=\"50%\" border=\"0\" alt=\"\">    "
   ]
  },
  {
   "cell_type": "code",
   "execution_count": null,
   "metadata": {
    "collapsed": false,
    "slideshow": {
     "slide_type": "fragment"
    }
   },
   "outputs": [],
   "source": [
    "while bedingung:           # solange die bedingung wahr ist,\n",
    "    mach_was()             # wiederhole den (eingerückten Block)\n",
    "    mach_noch_mehr()       \n",
    "continue_normal_flow()     # wenn die bedingung falsch wird, hier weiter"
   ]
  },
  {
   "cell_type": "markdown",
   "metadata": {
    "slideshow": {
     "slide_type": "fragment"
    }
   },
   "source": [
    "Üblicherweise wird im Code eine Variable so verändert, dass an einem bestimmten Punkt die Bedingung nicht mehr wahr ist."
   ]
  },
  {
   "cell_type": "markdown",
   "metadata": {
    "slideshow": {
     "slide_type": "slide"
    }
   },
   "source": [
    "while-Schleifen: Beispiel"
   ]
  },
  {
   "cell_type": "code",
   "execution_count": 33,
   "metadata": {
    "collapsed": false,
    "slideshow": {
     "slide_type": "fragment"
    }
   },
   "outputs": [
    {
     "name": "stdout",
     "output_type": "stream",
     "text": [
      "0\n",
      "1\n",
      "2\n",
      "3\n",
      "4\n"
     ]
    }
   ],
   "source": [
    "n = 0\n",
    "while n < 5:       # Anfang der Schleife, Bestimmung der Bedingung\n",
    "    print(n)       # tue etwas mit der Variablen n\n",
    "    n = n + 1      # verändere n so, dass die Bedingung an einem bestimmten Punkt nicht mehr wahr ist."
   ]
  },
  {
   "cell_type": "markdown",
   "metadata": {
    "slideshow": {
     "slide_type": "fragment"
    }
   },
   "source": [
    "### Inkrement\n",
    "```\n",
    "n = 0\n",
    "n = n + 1\n",
    "```\n",
    "* erst wird der Ausdruck `n + 1` auf der rechten Seite der Zuweisung ausgewertet: `n + 1` → `0 + 1` → `1`\n",
    "* dann wird dieser Wert der Variable `n` zugewiesen. Danach ist `n == 1`\n",
    "* Kurzschreibweise: **`n += 1`**, Achtung: `+=` \n",
    "* <span style=\"color:green\">(Übung: Was passiert wohl, wenn Sie `n=+1` schreiben? und wieso?)</span>"
   ]
  },
  {
   "cell_type": "markdown",
   "metadata": {
    "slideshow": {
     "slide_type": "slide"
    }
   },
   "source": [
    "<h3 style=\"color:green\">Aufgabe</h3>\n",
    "Schreiben Sie ein Summationsprogramm: Fragen Sie in einer Schleife Benutzereingaben ab. Solange Zahlen eingegeben werden, summieren Sie die Zahlen auf, wenn der Benutzer einfach Return drückt (also einen Leerstring eingibt), Summe der bisher eingegebenen Zahlen anzeigen."
   ]
  },
  {
   "cell_type": "code",
   "execution_count": 5,
   "metadata": {
    "collapsed": false,
    "slideshow": {
     "slide_type": "subslide"
    }
   },
   "outputs": [
    {
     "name": "stdout",
     "output_type": "stream",
     "text": [
      "Bitte geben Sie den ersten Summanden ein: 1\n",
      "  Zwischensumme:  1.0\n",
      "Nächster Summand, <Return> zum Beenden: 2\n",
      "  Zwischensumme:  3.0\n",
      "Nächster Summand, <Return> zum Beenden: 3\n",
      "  Zwischensumme:  6.0\n",
      "Nächster Summand, <Return> zum Beenden: \n",
      "Summe:  6.0\n"
     ]
    }
   ],
   "source": [
    "total = 0\n",
    "number = input(\"Bitte geben Sie den ersten Summanden ein: \")\n",
    "while number:  # bzw. while number != \"\": bzw. while number.isnumeric():\n",
    "    total += float(number)\n",
    "    print(\"  Zwischensumme: \", total)\n",
    "    number = input(\"Nächster Summand, <Return> zum Beenden: \")\n",
    "print(\"Summe: \", total)"
   ]
  },
  {
   "cell_type": "markdown",
   "metadata": {
    "collapsed": true,
    "slideshow": {
     "slide_type": "slide"
    }
   },
   "source": [
    "### Hausaufgabe\n",
    "\n",
    "Wir wollen ein paar Analysen auf Sätzen durchführen, die unser Benutzer eingibt. Geben Sie ein lauffähiges Python-Programm ab, das die folgenden drei Teilaufgaben nacheinander erledigt. Lassen Sie Ihr Skript zwischen den drei Teilaufgaben eine Trennzeile à la `### Aufgabe 1 ###` ausgeben.\n",
    "\n",
    "1. Fragen Sie vom Benutzer eine Reihe von Sätzen ab. Sammeln Sie die Sätze in einer Liste. Ihr Benutzer kann beliebig viele Sätze eingeben und das Eingeben von Sätzen beenden, in dem er eine leere Eingabe tätigt (= Return drückt).\n",
    "\n",
    "2. Geben Sie nun jeden der in Teilaufgabe 1 eingesammelten Sätze zusammen mit seiner Länge in Zeichen aus.\n",
    "\n",
    "3. Mit der split-Methode können Sie einen String an Leerraum in Wörter zerlegen: `\"Hallo Welt!\".split() → [\"Hallo\", \"Welt!\"].` Benutzen Sie das, um für jeden der in Teilaufgabe 1 eingegebenen Sätze die durchschnittliche Wortlänge zu ermitteln. Geben Sie jeweils Satz und Wortlänge aus.\n",
    "\n",
    "  (Das Ergebnis wird nicht ganz exakt sein, weil durch split() Satzzeichen mit in das vorangehende Wort eingeschlossen werden, das ist für diese Aufgabe aber nicht schlimm. Z.B. in der Sitzung zu Regulären Ausdrücken später im Semester werden wir Methoden kennenlernen, um _nur_ Wortzeichen zu verwenden.)"
   ]
  }
 ],
 "metadata": {
  "celltoolbar": "Slideshow",
  "kernelspec": {
   "display_name": "Python 3",
   "language": "python",
   "name": "python3"
  },
  "language_info": {
   "codemirror_mode": {
    "name": "ipython",
    "version": 3
   },
   "file_extension": ".py",
   "mimetype": "text/x-python",
   "name": "python",
   "nbconvert_exporter": "python",
   "pygments_lexer": "ipython3",
   "version": "3.5.2+"
  },
  "toc": {
   "navigate_menu": true,
   "number_sections": false,
   "sideBar": true,
   "threshold": 6,
   "toc_cell": false,
   "toc_section_display": "block",
   "toc_window_display": true
  }
 },
 "nbformat": 4,
 "nbformat_minor": 0
}
