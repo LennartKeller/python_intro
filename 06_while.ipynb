{
 "cells": [
  {
   "cell_type": "markdown",
   "metadata": {
    "slideshow": {
     "slide_type": "slide"
    }
   },
   "source": [
    "## Einführung in das Programmieren mit Python"
   ]
  },
  {
   "cell_type": "markdown",
   "metadata": {
    "slideshow": {
     "slide_type": "-"
    }
   },
   "source": [
    "# Schleifen"
   ]
  },
  {
   "cell_type": "markdown",
   "metadata": {
    "slideshow": {
     "slide_type": "slide"
    }
   },
   "source": [
    "## Musterlösung für die Hausaufgaben\n",
    "\n",
    "1.1) Einfaches Telefonbuch"
   ]
  },
  {
   "cell_type": "code",
   "execution_count": 12,
   "metadata": {
    "collapsed": false,
    "slideshow": {
     "slide_type": "subslide"
    }
   },
   "outputs": [
    {
     "data": {
      "text/plain": [
       "'555-28231'"
      ]
     },
     "execution_count": 12,
     "metadata": {},
     "output_type": "execute_result"
    }
   ],
   "source": [
    "#ein Dictionary\n",
    "phone = { 'Maria': '555-28231', 'Sepp': '555-1234', 'Jo': '1919-1919' }\n",
    "phone[\"Maria\"]"
   ]
  },
  {
   "cell_type": "markdown",
   "metadata": {
    "slideshow": {
     "slide_type": "fragment"
    }
   },
   "source": [
    "1.2) Sie wollen die Wörter eines Textes auflisten. Welche der Datenstrukturen eignet sich dafür?"
   ]
  },
  {
   "cell_type": "code",
   "execution_count": 13,
   "metadata": {
    "collapsed": false,
    "slideshow": {
     "slide_type": "fragment"
    }
   },
   "outputs": [
    {
     "data": {
      "text/plain": [
       "'wir'"
      ]
     },
     "execution_count": 13,
     "metadata": {},
     "output_type": "execute_result"
    }
   ],
   "source": [
    "#auflisten (!) -> eine Liste\n",
    "words = [\"wir\", \"haus\", \"kein\"]\n",
    "words[0]"
   ]
  },
  {
   "cell_type": "markdown",
   "metadata": {
    "slideshow": {
     "slide_type": "subslide"
    }
   },
   "source": [
    "1.3) Wörter und Frequenz"
   ]
  },
  {
   "cell_type": "code",
   "execution_count": 14,
   "metadata": {
    "collapsed": false,
    "slideshow": {
     "slide_type": "fragment"
    }
   },
   "outputs": [
    {
     "name": "stdout",
     "output_type": "stream",
     "text": [
      "haus:  0.004\n",
      "['auch', 'der', 'haus']\n"
     ]
    }
   ],
   "source": [
    "# ein Dictionary ist eine gute Wahl:\n",
    "words =  {\"haus\" : 0.004, \"der\" : 0.03, \"auch\" : 0.009}\n",
    "#daraus kann man dann Frequenzen abfragen\n",
    "print('haus: ', words['haus'])\n",
    "# oder auch z.B. alphabetische Listen erstellen \n",
    "print(sorted(words.keys()))"
   ]
  },
  {
   "cell_type": "markdown",
   "metadata": {
    "slideshow": {
     "slide_type": "slide"
    }
   },
   "source": [
    "#### 2. Geonames\n",
    "\n",
    "http://www.geonames.org/\n",
    "\n",
    "ID, Namen, Bevölkerungsgröße, Geokoordinaten\n",
    "\n",
    "1.) Beispieleinträge"
   ]
  },
  {
   "cell_type": "code",
   "execution_count": 15,
   "metadata": {
    "collapsed": false,
    "slideshow": {
     "slide_type": "fragment"
    }
   },
   "outputs": [],
   "source": [
    "cities = { \n",
    "    2805615: {\n",
    "        \"name\": \"Würzburg\",\n",
    "        \"population\": 133731,\n",
    "        \"coords\": (49.79391,9.95121)\n",
    "    },\n",
    "    6557104: {\n",
    "        \"name\": \"Veitshöchheim\",\n",
    "        \"population\": 9669,\n",
    "        \"coords\": (49.8244, 9.8792)\n",
    "    },\n",
    "    2643743: {\n",
    "        \"name\": \"London\",\n",
    "        \"population\": 7556900,\n",
    "        \"coords\": (51.50853, -0.12574)\n",
    "    }    \n",
    "}"
   ]
  },
  {
   "cell_type": "markdown",
   "metadata": {
    "slideshow": {
     "slide_type": "subslide"
    }
   },
   "source": [
    "2) Geben Sie durch Angabe der Nummer einen Eintrag aus. \n"
   ]
  },
  {
   "cell_type": "code",
   "execution_count": 16,
   "metadata": {
    "collapsed": false,
    "slideshow": {
     "slide_type": "fragment"
    }
   },
   "outputs": [
    {
     "name": "stdout",
     "output_type": "stream",
     "text": [
      "{'population': 133731, 'coords': (49.79391, 9.95121), 'name': 'Würzburg'}\n"
     ]
    }
   ],
   "source": [
    "print(cities[2805615])"
   ]
  },
  {
   "cell_type": "markdown",
   "metadata": {
    "slideshow": {
     "slide_type": "subslide"
    }
   },
   "source": [
    "3) Fügen Sie einen weiteren Eintrag hinzu."
   ]
  },
  {
   "cell_type": "code",
   "execution_count": 17,
   "metadata": {
    "collapsed": false,
    "slideshow": {
     "slide_type": "fragment"
    }
   },
   "outputs": [],
   "source": [
    "cities[2950159] = {\"name\": \"Berlin\", \"population\": 3426354, \"coords\": (52.52437,13.41053)}"
   ]
  },
  {
   "cell_type": "markdown",
   "metadata": {
    "slideshow": {
     "slide_type": "subslide"
    }
   },
   "source": [
    "4) Geben Sie alle ID-Nummern aus"
   ]
  },
  {
   "cell_type": "code",
   "execution_count": 18,
   "metadata": {
    "collapsed": false,
    "slideshow": {
     "slide_type": "fragment"
    }
   },
   "outputs": [
    {
     "name": "stdout",
     "output_type": "stream",
     "text": [
      "Geo-IDs: [6557104, 2950159, 2643743, 2805615]\n"
     ]
    }
   ],
   "source": [
    "print(\"Geo-IDs:\", list(cities.keys()))"
   ]
  },
  {
   "cell_type": "markdown",
   "metadata": {
    "slideshow": {
     "slide_type": "subslide"
    }
   },
   "source": [
    "5) Geben Sie mit Verwendung der ID (nur) den Breitengrad aus. "
   ]
  },
  {
   "cell_type": "code",
   "execution_count": 19,
   "metadata": {
    "collapsed": false,
    "slideshow": {
     "slide_type": "fragment"
    }
   },
   "outputs": [
    {
     "name": "stdout",
     "output_type": "stream",
     "text": [
      "52.52437\n"
     ]
    }
   ],
   "source": [
    "print(cities[2950159][\"coords\"][0])"
   ]
  },
  {
   "cell_type": "markdown",
   "metadata": {
    "slideshow": {
     "slide_type": "subslide"
    }
   },
   "source": [
    "6) Sei `id=2805615`. Schreiben Sie einen Ausdruck, der `True` genau dann zurückgibt, wenn eine Stadt mit dieser ID in Ihrer Datenbank existiert und mehr als 100000 Einwohner hat."
   ]
  },
  {
   "cell_type": "code",
   "execution_count": 20,
   "metadata": {
    "collapsed": false,
    "slideshow": {
     "slide_type": "fragment"
    }
   },
   "outputs": [
    {
     "name": "stdout",
     "output_type": "stream",
     "text": [
      "2805615 True\n"
     ]
    }
   ],
   "source": [
    "# erfasst\n",
    "id=2805615\n",
    "print(id, id in cities and cities[id][\"population\"] > 100000)"
   ]
  },
  {
   "cell_type": "code",
   "execution_count": 21,
   "metadata": {
    "collapsed": false,
    "slideshow": {
     "slide_type": "fragment"
    }
   },
   "outputs": [
    {
     "name": "stdout",
     "output_type": "stream",
     "text": [
      "2918632 False\n"
     ]
    }
   ],
   "source": [
    "# nicht erfasst\n",
    "id=2918632\n",
    "print(id, id in cities and cities[id][\"population\"] > 100000)"
   ]
  },
  {
   "cell_type": "code",
   "execution_count": 22,
   "metadata": {
    "collapsed": false,
    "slideshow": {
     "slide_type": "fragment"
    }
   },
   "outputs": [
    {
     "name": "stdout",
     "output_type": "stream",
     "text": [
      "6557104 False\n"
     ]
    }
   ],
   "source": [
    "# erfasst, < 100000\n",
    "id=6557104\n",
    "print(id, id in cities and cities[id][\"population\"] > 100000)"
   ]
  },
  {
   "cell_type": "markdown",
   "metadata": {
    "slideshow": {
     "slide_type": "slide"
    }
   },
   "source": [
    "### Exkurs: namedtuple"
   ]
  },
  {
   "cell_type": "code",
   "execution_count": 23,
   "metadata": {
    "collapsed": false,
    "slideshow": {
     "slide_type": "-"
    }
   },
   "outputs": [
    {
     "name": "stdout",
     "output_type": "stream",
     "text": [
      "{2918632: City(name='Göttingen', population=122149, coords=(51.53443, 9.93228))}\n",
      "122149\n"
     ]
    }
   ],
   "source": [
    "# Namedtuple existiert im collections-Modul der Standardlibrary\n",
    "from collections import namedtuple\n",
    "\n",
    "# mit namedtuple() definiert man einen Datentyp:\n",
    "City = namedtuple('City', ['name', 'population', 'coords'])\n",
    "\n",
    "# Den können wir jetzt verwenden\n",
    "cities = { 2918632: City(\"Göttingen\", 122149, (51.53443,9.93228))}\n",
    "print(cities)\n",
    "\n",
    "# Zugriff auf die Felder erfolgt mit .\n",
    "print(cities[2918632].population)"
   ]
  },
  {
   "cell_type": "markdown",
   "metadata": {
    "slideshow": {
     "slide_type": "slide"
    }
   },
   "source": [
    "## Wiederholung: Bedingungen, Verzweigungen\n",
    "\n",
    "* Bedingungen sind Ausdrücke, die einen Wahrheitswert zurückgeben\n",
    "* Vergleichsoperatoren: ``== != < <= > >=   in   not in``, \n",
    "* Funktionen und Methoden, z.B. ``str.isnumeric()``\n",
    "* Boolesche Operatoren: ``and or not``\n",
    "\n",
    "* Verzweigung in der Programmstruktur:<br/>\n",
    "``\n",
    "if <Bedingung>:\n",
    "   Code\n",
    "``"
   ]
  },
  {
   "cell_type": "markdown",
   "metadata": {
    "slideshow": {
     "slide_type": "slide"
    }
   },
   "source": [
    "<h3>Bedingungen: if – else </h3>\n",
    "<p>Mit else kann man festlegen, welcher Code ausgeführt werden soll, wenn die Bedingung _nicht_ wahr ist:\n",
    "<p>\n",
    "<img src=\"files/images/if_else.png\" width=\"50%\" height=\"50%\" border=\"0\" alt=\"\">    "
   ]
  },
  {
   "cell_type": "code",
   "execution_count": 24,
   "metadata": {
    "collapsed": false,
    "slideshow": {
     "slide_type": "fragment"
    }
   },
   "outputs": [
    {
     "name": "stdout",
     "output_type": "stream",
     "text": [
      "a ungleich 1\n"
     ]
    }
   ],
   "source": [
    "a = 2\n",
    "if a == 1:\n",
    "    print (\"a gleich 1\")\n",
    "else: \n",
    "    print (\"a ungleich 1\")"
   ]
  },
  {
   "cell_type": "markdown",
   "metadata": {
    "slideshow": {
     "slide_type": "slide"
    }
   },
   "source": [
    "<h3>Gereihte Bedingungen mit elif</h3>\n",
    "<p>Will man überprüfen, ob eine von mehreren Bedingungen wahr ist, verwendet man eine Reihe von if – elif – [elif] – else:"
   ]
  },
  {
   "cell_type": "markdown",
   "metadata": {
    "slideshow": {
     "slide_type": "slide"
    }
   },
   "source": [
    "<pre>\n",
    "if &lt;bedingung>:\n",
    "\tcode\n",
    "elif &lt;bedingung>:\n",
    "\tcode\n",
    "[...]\n",
    "else:\n",
    "\tcode\n",
    "</pre>"
   ]
  },
  {
   "cell_type": "code",
   "execution_count": 25,
   "metadata": {
    "collapsed": false,
    "slideshow": {
     "slide_type": "fragment"
    }
   },
   "outputs": [
    {
     "name": "stdout",
     "output_type": "stream",
     "text": [
      "c ist z\n"
     ]
    }
   ],
   "source": [
    "c = \"z\"\n",
    "if c == \"x\":\n",
    "    print (\"c ist x\")\n",
    "elif c == \"y\": \n",
    "    print (\"c ist y\")    \n",
    "elif c == \"z\":\n",
    "    print (\"c ist z\")    \n",
    "else: \n",
    "    print (\"c ist weder x noch y noch z\")    \n",
    "    "
   ]
  },
  {
   "cell_type": "markdown",
   "metadata": {
    "slideshow": {
     "slide_type": "slide"
    }
   },
   "source": [
    "<h3 style=\"color:green\">Aufgaben</h3>\n",
    "<p>1) Wenn der String \"Freund\" in Klein- oder Großschreibung in \"Sie wollen sich befreunden\" enthalten ist, dann soll \"Found: Freund\" ausgegeben werden, ansonsten \"String not found\".</p>\n",
    "<p>2) `a` ist eine Variable (die ursprünglich durch eine Benutzereingabe belegt worden sein könnte). Wenn die Eingabe kleiner ist als 7, dann lautet die Ausgabe: \"Gesuchte Zahl ist größer\", wenn die Zahl größer ist als 7, dann lautet die Ausgabe: \"Gesuchte Zahl ist kleiner\". Wenn die Zahl genau 7 ist, dann lautet die Ausgabe \"Zahl gefunden\". Spielen Sie das mit a = 1 und a = 7 durch.</p>"
   ]
  },
  {
   "cell_type": "markdown",
   "metadata": {
    "slideshow": {
     "slide_type": "slide"
    }
   },
   "source": [
    "<h3>Einfache Benutzereingabe mit <code>input</code></h3>"
   ]
  },
  {
   "cell_type": "code",
   "execution_count": 28,
   "metadata": {
    "collapsed": false,
    "slideshow": {
     "slide_type": "fragment"
    }
   },
   "outputs": [
    {
     "name": "stdout",
     "output_type": "stream",
     "text": [
      "Geben Sie bitte eine Zahl zwischen 1 und 10 ein: 7\n",
      "Ihre Eingabe war (falls Sie das schon vergessen haben):  7\n"
     ]
    }
   ],
   "source": [
    "r = input(\"Geben Sie bitte eine Zahl zwischen 1 und 10 ein: \")\n",
    "print(\"Ihre Eingabe war (falls Sie das schon vergessen haben): \", r)"
   ]
  },
  {
   "cell_type": "code",
   "execution_count": 29,
   "metadata": {
    "collapsed": false,
    "slideshow": {
     "slide_type": "fragment"
    }
   },
   "outputs": [
    {
     "name": "stdout",
     "output_type": "stream",
     "text": [
      "Geben Sie bitte eine Zahl zwischen 1 und 10 ein: 7\n",
      "<class 'str'>\n"
     ]
    }
   ],
   "source": [
    "r = input(\"Geben Sie bitte eine Zahl zwischen 1 und 10 ein: \")\n",
    "print(type(r))   # Achtung, der Datentyp von r ist string"
   ]
  },
  {
   "cell_type": "markdown",
   "metadata": {
    "slideshow": {
     "slide_type": "subslide"
    }
   },
   "source": [
    "Wir können nun die Benutzereingabe auswerten:"
   ]
  },
  {
   "cell_type": "code",
   "execution_count": 30,
   "metadata": {
    "collapsed": false,
    "slideshow": {
     "slide_type": "fragment"
    }
   },
   "outputs": [
    {
     "name": "stdout",
     "output_type": "stream",
     "text": [
      "Geben Sie bitte eine Zahl zwischen 1 und 10 ein: 7\n",
      "Das Quadrat der Zahl  7  ist  49\n"
     ]
    }
   ],
   "source": [
    "r = input(\"Geben Sie bitte eine Zahl zwischen 1 und 10 ein: \")\n",
    "if not r.isnumeric():\n",
    "    print(r, \"ist eher keine Zahl.\")\n",
    "else: \n",
    "    r = int(r)  # type casting nach int\n",
    "    a = r ** 2\n",
    "    print(\"Das Quadrat der Zahl \", r, \" ist \", a)"
   ]
  },
  {
   "cell_type": "markdown",
   "metadata": {
    "slideshow": {
     "slide_type": "skip"
    }
   },
   "source": [
    "<h3 style=\"color:green\">Aufgabe</h3>\n",
    "<p>Lassen Sie den Benutzer ein beliebiges Wort eingeben. Geben Sie dann als Ergebnis die Länge des Wortes und die Anzahl der _unterschiedlichen_ Vokale aus (ignorieren Sie Klein- und Großschreibung).  "
   ]
  },
  {
   "cell_type": "code",
   "execution_count": 31,
   "metadata": {
    "collapsed": false,
    "slideshow": {
     "slide_type": "skip"
    }
   },
   "outputs": [
    {
     "name": "stdout",
     "output_type": "stream",
     "text": [
      "Bitte geben Sie ein Wort ein: Pythonista\n",
      "Länge des Wortes:  10\n",
      "Es sind  3  unterschiedliche Vokale in  Pythonista\n"
     ]
    }
   ],
   "source": [
    "#Lassen Sie den Benutzer ein beliebiges Wort eingeben.\n",
    "#Geben Sie dann als Ergebnis die Länge des Wortes und die Anzahl der verschiedenen Vokale aus\n",
    "\n",
    "word = input(\"Bitte geben Sie ein Wort ein: \")\n",
    "print(\"Länge des Wortes: \", len(word))\n",
    "voc = 0\n",
    "if \"a\" in word.lower():\n",
    "    voc += 1\n",
    "if \"o\" in word.lower():\n",
    "    voc += 1\n",
    "if \"e\" in word.lower():\n",
    "    voc += 1\n",
    "if \"i\" in word.lower():\n",
    "    voc += 1\n",
    "if \"u\" in word.lower():\n",
    "    voc += 1\n",
    "\n",
    "print(\"Es sind \", voc, \" unterschiedliche Vokale in \", word)\n"
   ]
  },
  {
   "cell_type": "markdown",
   "metadata": {
    "slideshow": {
     "slide_type": "slide"
    }
   },
   "source": [
    "## Programmkontrolle: Schleifen"
   ]
  },
  {
   "cell_type": "markdown",
   "metadata": {
    "slideshow": {
     "slide_type": "subslide"
    }
   },
   "source": [
    "<h3>while-Schleifen</h3>\n",
    "<p>\n",
    "<img src=\"files/images/loop.png\" width=\"50%\" height=\"50%\" border=\"0\" alt=\"\">    "
   ]
  },
  {
   "cell_type": "code",
   "execution_count": null,
   "metadata": {
    "collapsed": false,
    "slideshow": {
     "slide_type": "fragment"
    }
   },
   "outputs": [],
   "source": [
    "while bedingung:           # solange die bedingung wahr ist,\n",
    "    mach_was()             # wiederhole den (eingerückten Block)\n",
    "    mach_noch_mehr()       \n",
    "continue_normal_flow()     # wenn die bedingung falsch wird, hier weiter"
   ]
  },
  {
   "cell_type": "markdown",
   "metadata": {
    "slideshow": {
     "slide_type": "fragment"
    }
   },
   "source": [
    "Üblicherweise wird im Code eine Variable so verändert, dass an einem bestimmten Punkt die Bedingung nicht mehr wahr ist."
   ]
  },
  {
   "cell_type": "markdown",
   "metadata": {
    "slideshow": {
     "slide_type": "slide"
    }
   },
   "source": [
    "while-Schleifen: Beispiel"
   ]
  },
  {
   "cell_type": "code",
   "execution_count": 33,
   "metadata": {
    "collapsed": false,
    "slideshow": {
     "slide_type": "fragment"
    }
   },
   "outputs": [
    {
     "name": "stdout",
     "output_type": "stream",
     "text": [
      "0\n",
      "1\n",
      "2\n",
      "3\n",
      "4\n"
     ]
    }
   ],
   "source": [
    "n = 0\n",
    "while n < 5:       # Anfang der Schleife, Bestimmung der Bedingung\n",
    "    print(n)       # tue etwas mit der Variablen n\n",
    "    n = n + 1      # verändere n so, dass die Bedingung an einem bestimmten Punkt nicht mehr wahr ist."
   ]
  },
  {
   "cell_type": "markdown",
   "metadata": {
    "slideshow": {
     "slide_type": "fragment"
    }
   },
   "source": [
    "### Inkrement\n",
    "```\n",
    "n = 0\n",
    "n = n + 1\n",
    "```\n",
    "* erst wird der Ausdruck `n + 1` auf der rechten Seite der Zuweisung ausgewertet: `n + 1` → `0 + 1` → `1`\n",
    "* dann wird dieser Wert der Variable `n` zugewiesen. Danach ist `n == 1`\n",
    "* Kurzschreibweise: **`n += 1`**, Achtung: `+=` \n",
    "* <span style=\"color:green\">(Übung: Was passiert wohl, wenn Sie `n=+1` schreiben? und wieso?)</span>"
   ]
  },
  {
   "cell_type": "markdown",
   "metadata": {
    "slideshow": {
     "slide_type": "slide"
    }
   },
   "source": [
    "<h3 style=\"color:green\">Aufgabe</h3>\n",
    "Schreiben Sie ein Summationsprogramm: Fragen Sie in einer Schleife Benutzereingaben ab. Solange Zahlen eingegeben werden, summieren Sie die Zahlen auf, wenn der Benutzer einfach Return drückt (also einen Leerstring eingibt), Summe der bisher eingegebenen Zahlen anzeigen."
   ]
  },
  {
   "cell_type": "code",
   "execution_count": 9,
   "metadata": {
    "collapsed": false
   },
   "outputs": [
    {
     "name": "stdout",
     "output_type": "stream",
     "text": [
      "Zahl her oder Return: 23\n",
      "Zahl her oder Return: 17\n",
      "Zahl her oder Return: \n",
      "Summe: 40\n"
     ]
    }
   ],
   "source": [
    "summe = 0\n",
    "\n",
    "while True:\n",
    "    eingabe = input(\"Zahl her oder Return: \")\n",
    "    if eingabe.isnumeric():\n",
    "        summe = summe + int(eingabe)\n",
    "    elif eingabe == '':\n",
    "        break\n",
    "print(\"Summe:\", summe)"
   ]
  },
  {
   "cell_type": "markdown",
   "metadata": {
    "slideshow": {
     "slide_type": "subslide"
    }
   },
   "source": [
    "### Musterlösung"
   ]
  },
  {
   "cell_type": "code",
   "execution_count": 34,
   "metadata": {
    "collapsed": false,
    "slideshow": {
     "slide_type": "-"
    }
   },
   "outputs": [
    {
     "name": "stdout",
     "output_type": "stream",
     "text": [
      "Geben Sie eine Zahl ein, oder <Enter> zum Beenden: 18\n",
      "Zwischensumme: 18\n",
      "Geben Sie noch eine Zahl ein, oder <Enter> zum Beenden: 20\n",
      "Zwischensumme: 38\n",
      "Geben Sie noch eine Zahl ein, oder <Enter> zum Beenden: 22\n",
      "Zwischensumme: 60\n",
      "Geben Sie noch eine Zahl ein, oder <Enter> zum Beenden: \n",
      "Gesamtsumme: 60\n"
     ]
    }
   ],
   "source": [
    "summe = 0\n",
    "eingabe = input(\"Geben Sie eine Zahl ein, oder <Enter> zum Beenden: \")\n",
    "while eingabe != \"\": # oder while eingabe.isnumeric(): Abbruch, wenn keine Zahl eingegeben\n",
    "    summe = summe + int(eingabe)\n",
    "    print(\"Zwischensumme:\", summe)\n",
    "    eingabe = input(\"Geben Sie noch eine Zahl ein, oder <Enter> zum Beenden: \")\n",
    "    \n",
    "print(\"Gesamtsumme:\", summe)"
   ]
  }
 ],
 "metadata": {
  "celltoolbar": "Slideshow",
  "kernelspec": {
   "display_name": "Python 3",
   "language": "python",
   "name": "python3"
  },
  "language_info": {
   "codemirror_mode": {
    "name": "ipython",
    "version": 3
   },
   "file_extension": ".py",
   "mimetype": "text/x-python",
   "name": "python",
   "nbconvert_exporter": "python",
   "pygments_lexer": "ipython3",
   "version": "3.5.1+"
  },
  "toc": {
   "navigate_menu": true,
   "number_sections": false,
   "sideBar": true,
   "threshold": 6,
   "toc_cell": false,
   "toc_section_display": "block",
   "toc_window_display": true
  }
 },
 "nbformat": 4,
 "nbformat_minor": 0
}
