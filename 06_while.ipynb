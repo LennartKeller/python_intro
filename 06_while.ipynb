{
 "cells": [
  {
   "cell_type": "markdown",
   "metadata": {
    "slideshow": {
     "slide_type": "slide"
    }
   },
   "source": [
    "## Einführung in das Programmieren mit Python"
   ]
  },
  {
   "cell_type": "markdown",
   "metadata": {
    "slideshow": {
     "slide_type": "-"
    }
   },
   "source": [
    "# Schleifen"
   ]
  },
  {
   "cell_type": "markdown",
   "metadata": {
    "slideshow": {
     "slide_type": "slide"
    }
   },
   "source": [
    "## Wiederholung: Bedingungen, Verzweigungen\n",
    "\n",
    "* Bedingungen sind Ausdrücke, die einen Wahrheitswert zurückgeben\n",
    "* Vergleichsoperatoren: ``== != < <= > >=   in   not in``, \n",
    "* Funktionen und Methoden, z.B. ``str.isnumeric()``\n",
    "* Boolesche Operatoren: ``and or not``\n",
    "\n",
    "* Verzweigung in der Programmstruktur:<br/>\n",
    "``\n",
    "if <Bedingung>:\n",
    "   Code\n",
    "``"
   ]
  },
  {
   "cell_type": "code",
   "execution_count": 25,
   "metadata": {
    "collapsed": false,
    "slideshow": {
     "slide_type": "fragment"
    }
   },
   "outputs": [
    {
     "name": "stdout",
     "output_type": "stream",
     "text": [
      "c ist z\n"
     ]
    }
   ],
   "source": [
    "c = \"z\"\n",
    "if c == \"x\":\n",
    "    print (\"c ist x\")\n",
    "elif c == \"y\": \n",
    "    print (\"c ist y\")    \n",
    "elif c == \"z\":\n",
    "    print (\"c ist z\")    \n",
    "else: \n",
    "    print (\"c ist weder x noch y noch z\")    \n",
    "    "
   ]
  },
  {
   "cell_type": "markdown",
   "metadata": {
    "slideshow": {
     "slide_type": "slide"
    }
   },
   "source": [
    "## Programmkontrolle: while-Schleifen"
   ]
  },
  {
   "cell_type": "markdown",
   "metadata": {
    "slideshow": {
     "slide_type": "subslide"
    }
   },
   "source": [
    "<h3>while-Schleifen</h3>\n",
    "<p>\n",
    "<img src=\"files/images/loop.png\" width=\"50%\" height=\"50%\" border=\"0\" alt=\"\">    "
   ]
  },
  {
   "cell_type": "code",
   "execution_count": null,
   "metadata": {
    "collapsed": false,
    "slideshow": {
     "slide_type": "fragment"
    }
   },
   "outputs": [],
   "source": [
    "while bedingung:           # solange die bedingung wahr ist,\n",
    "    mach_was()             # wiederhole den (eingerückten Block)\n",
    "    mach_noch_mehr()       \n",
    "continue_normal_flow()     # wenn die bedingung falsch wird, hier weiter"
   ]
  },
  {
   "cell_type": "markdown",
   "metadata": {
    "slideshow": {
     "slide_type": "fragment"
    }
   },
   "source": [
    "Üblicherweise wird im Code eine Variable so verändert, dass an einem bestimmten Punkt die Bedingung nicht mehr wahr ist."
   ]
  },
  {
   "cell_type": "markdown",
   "metadata": {
    "slideshow": {
     "slide_type": "slide"
    }
   },
   "source": [
    "while-Schleifen: Beispiel"
   ]
  },
  {
   "cell_type": "code",
   "execution_count": 33,
   "metadata": {
    "collapsed": false,
    "slideshow": {
     "slide_type": "fragment"
    }
   },
   "outputs": [
    {
     "name": "stdout",
     "output_type": "stream",
     "text": [
      "0\n",
      "1\n",
      "2\n",
      "3\n",
      "4\n"
     ]
    }
   ],
   "source": [
    "n = 0\n",
    "while n < 5:       # Anfang der Schleife, Bestimmung der Bedingung\n",
    "    print(n)       # tue etwas mit der Variablen n\n",
    "    n = n + 1      # verändere n so, dass die Bedingung an einem bestimmten Punkt nicht mehr wahr ist."
   ]
  },
  {
   "cell_type": "markdown",
   "metadata": {
    "slideshow": {
     "slide_type": "fragment"
    }
   },
   "source": [
    "### Inkrement\n",
    "```\n",
    "n = 0\n",
    "n = n + 1\n",
    "```\n",
    "* erst wird der Ausdruck `n + 1` auf der rechten Seite der Zuweisung ausgewertet: `n + 1` → `0 + 1` → `1`\n",
    "* dann wird dieser Wert der Variable `n` zugewiesen. Danach ist `n == 1`\n",
    "* Kurzschreibweise: **`n += 1`**, Achtung: `+=` \n",
    "* <span style=\"color:green\">(Übung: Was passiert wohl, wenn Sie `n=+1` schreiben? und wieso?)</span>"
   ]
  },
  {
   "cell_type": "markdown",
   "metadata": {
    "slideshow": {
     "slide_type": "slide"
    }
   },
   "source": [
    "<h3 style=\"color:green\">Aufgabe</h3>\n",
    "Schreiben Sie ein Summationsprogramm: Fragen Sie in einer Schleife Benutzereingaben ab. Solange Zahlen eingegeben werden, summieren Sie die Zahlen auf, wenn der Benutzer einfach Return drückt (also einen Leerstring eingibt), Summe der bisher eingegebenen Zahlen anzeigen."
   ]
  },
  {
   "cell_type": "code",
   "execution_count": 9,
   "metadata": {
    "collapsed": false
   },
   "outputs": [
    {
     "name": "stdout",
     "output_type": "stream",
     "text": [
      "Zahl her oder Return: 23\n",
      "Zahl her oder Return: 17\n",
      "Zahl her oder Return: \n",
      "Summe: 40\n"
     ]
    }
   ],
   "source": [
    "summe = 0\n",
    "\n",
    "while True:\n",
    "    eingabe = input(\"Zahl her oder Return: \")\n",
    "    if eingabe.isnumeric():\n",
    "        summe = summe + int(eingabe)\n",
    "    elif eingabe == '':\n",
    "        break\n",
    "print(\"Summe:\", summe)"
   ]
  },
  {
   "cell_type": "markdown",
   "metadata": {
    "slideshow": {
     "slide_type": "subslide"
    }
   },
   "source": [
    "### Musterlösung"
   ]
  },
  {
   "cell_type": "code",
   "execution_count": 34,
   "metadata": {
    "collapsed": false,
    "slideshow": {
     "slide_type": "-"
    }
   },
   "outputs": [
    {
     "name": "stdout",
     "output_type": "stream",
     "text": [
      "Geben Sie eine Zahl ein, oder <Enter> zum Beenden: 18\n",
      "Zwischensumme: 18\n",
      "Geben Sie noch eine Zahl ein, oder <Enter> zum Beenden: 20\n",
      "Zwischensumme: 38\n",
      "Geben Sie noch eine Zahl ein, oder <Enter> zum Beenden: 22\n",
      "Zwischensumme: 60\n",
      "Geben Sie noch eine Zahl ein, oder <Enter> zum Beenden: \n",
      "Gesamtsumme: 60\n"
     ]
    }
   ],
   "source": [
    "summe = 0\n",
    "eingabe = input(\"Geben Sie eine Zahl ein, oder <Enter> zum Beenden: \")\n",
    "while eingabe != \"\": # oder while eingabe.isnumeric(): Abbruch, wenn keine Zahl eingegeben\n",
    "    summe = summe + int(eingabe)\n",
    "    print(\"Zwischensumme:\", summe)\n",
    "    eingabe = input(\"Geben Sie noch eine Zahl ein, oder <Enter> zum Beenden: \")\n",
    "    \n",
    "print(\"Gesamtsumme:\", summe)"
   ]
  }
 ],
 "metadata": {
  "celltoolbar": "Slideshow",
  "kernelspec": {
   "display_name": "Python 3",
   "language": "python",
   "name": "python3"
  },
  "language_info": {
   "codemirror_mode": {
    "name": "ipython",
    "version": 3
   },
   "file_extension": ".py",
   "mimetype": "text/x-python",
   "name": "python",
   "nbconvert_exporter": "python",
   "pygments_lexer": "ipython3",
   "version": "3.5.2+"
  },
  "toc": {
   "navigate_menu": true,
   "number_sections": false,
   "sideBar": true,
   "threshold": 6,
   "toc_cell": false,
   "toc_section_display": "block",
   "toc_window_display": true
  }
 },
 "nbformat": 4,
 "nbformat_minor": 0
}
