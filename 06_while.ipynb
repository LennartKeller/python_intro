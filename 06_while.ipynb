{
 "cells": [
  {
   "cell_type": "markdown",
   "metadata": {
    "slideshow": {
     "slide_type": "slide"
    }
   },
   "source": [
    "## Einführung in das Programmieren mit Python"
   ]
  },
  {
   "cell_type": "markdown",
   "metadata": {
    "slideshow": {
     "slide_type": "-"
    }
   },
   "source": [
    "# Schleifen II: while"
   ]
  },
  {
   "cell_type": "markdown",
   "metadata": {
    "slideshow": {
     "slide_type": "slide"
    }
   },
   "source": [
    "## Wiederholung: Bedingungen, Verzweigungen\n",
    "\n",
    "* Bedingungen sind Ausdrücke, die einen Wahrheitswert zurückgeben\n",
    "* Vergleichsoperatoren: ``== != < <= > >=   in   not in``, \n",
    "* Funktionen und Methoden, z.B. ``str.isnumeric()``\n",
    "* Boolesche Operatoren: ``and or not``\n",
    "\n",
    "* Verzweigung in der Programmstruktur:<br/>\n",
    "``\n",
    "if <Bedingung>:\n",
    "   Code\n",
    "``"
   ]
  },
  {
   "cell_type": "code",
   "execution_count": 1,
   "metadata": {
    "collapsed": false,
    "slideshow": {
     "slide_type": "fragment"
    }
   },
   "outputs": [
    {
     "name": "stdout",
     "output_type": "stream",
     "text": [
      "Gesuchte Zahl ist größer\n"
     ]
    }
   ],
   "source": [
    "a = 1\n",
    "if a < 7:\n",
    "    print(\"Gesuchte Zahl ist größer\")\n",
    "elif a == 7:\n",
    "    print(\"Zahl gefunden\")\n",
    "else:\n",
    "    print(\"Gesuchte Zahl ist kleiner\")\n",
    "    "
   ]
  },
  {
   "cell_type": "markdown",
   "metadata": {
    "slideshow": {
     "slide_type": "slide"
    }
   },
   "source": [
    "### Hausaufgabe"
   ]
  },
  {
   "cell_type": "markdown",
   "metadata": {
    "slideshow": {
     "slide_type": "fragment"
    }
   },
   "source": [
    "Teilaufgaben:\n",
    "\n",
    "* Verschlüsselung eines einzelnen Buchstabens\n",
    "\n",
    "    * Position im Alphabet, beginnend mit 0: = `ord(chr) - ord('A')`\n",
    "    * Addition des Schlüssels\n",
    "    * Fall `>= 26` lösen -- `% 26` oder mit Bedingung und Subtraktion\n",
    "    * Position wieder in Buchstaben wandeln: `chr(ord('A') + new_pos)\n",
    "    \n",
    "* Fallunterscheidung Buchstabe oder nicht\n",
    "* Iteration über den String\n",
    "\n",
    "```python\n",
    "result = []\n",
    "for char in text:\n",
    "    # char verschlüsseln\n",
    "    result.append(encrypted_char)\n",
    "```\n",
    "\n",
    "* Kleinkram:\n",
    "\n",
    "    * Eingaben\n",
    "    * Großbuchstaben / Integer\n",
    "    * Ergebnisliste -> Ergebnisstring    "
   ]
  },
  {
   "cell_type": "code",
   "execution_count": 4,
   "metadata": {
    "collapsed": false,
    "slideshow": {
     "slide_type": "subslide"
    }
   },
   "outputs": [
    {
     "name": "stdout",
     "output_type": "stream",
     "text": [
      "Zu verschlüsselnde Nachricht: abcde uvwxyz\n",
      "Um wieviele Zeichen? [±1-25]3\n",
      "DEFGH XYZABC\n"
     ]
    }
   ],
   "source": [
    "text = input(\"Zu verschlüsselnde Nachricht: \").upper()\n",
    "n = int(input(\"Um wieviele Zeichen? [±1-25]\"))\n",
    "\n",
    "# n = n % 26\n",
    "# oder:\n",
    "if n < 0:\n",
    "    n = 26 + n\n",
    "\n",
    "result = []\n",
    "for char in text:    \n",
    "    if char < 'A' or char > 'Z':\n",
    "        result.append(char)\n",
    "    else:        \n",
    "        new_pos = ord(char) - ord('A') + n \n",
    "        # entweder: new_pos = (ord(char) - ord('A') + n) % 26\n",
    "        # oder: \n",
    "        if new_pos >= 26:\n",
    "            new_pos = new_pos - 26\n",
    "        result.append(chr(ord('A') + new_pos))\n",
    "        \n",
    "print(\"\".join(result))"
   ]
  },
  {
   "cell_type": "markdown",
   "metadata": {
    "slideshow": {
     "slide_type": "slide"
    }
   },
   "source": [
    "## Programmkontrolle: while-Schleifen"
   ]
  },
  {
   "cell_type": "markdown",
   "metadata": {
    "slideshow": {
     "slide_type": "subslide"
    }
   },
   "source": [
    "<h3>while-Schleifen</h3>\n",
    "<p>\n",
    "<img src=\"files/images/loop.png\" width=\"50%\" height=\"50%\" border=\"0\" alt=\"\">    "
   ]
  },
  {
   "cell_type": "code",
   "execution_count": null,
   "metadata": {
    "collapsed": false,
    "slideshow": {
     "slide_type": "fragment"
    }
   },
   "outputs": [],
   "source": [
    "while bedingung:           # solange die bedingung wahr ist,\n",
    "    mach_was()             # wiederhole den (eingerückten Block)\n",
    "    mach_noch_mehr()       \n",
    "continue_normal_flow()     # wenn die bedingung falsch wird, hier weiter"
   ]
  },
  {
   "cell_type": "markdown",
   "metadata": {
    "slideshow": {
     "slide_type": "fragment"
    }
   },
   "source": [
    "Üblicherweise wird im Code eine Variable so verändert, dass an einem bestimmten Punkt die Bedingung nicht mehr wahr ist."
   ]
  },
  {
   "cell_type": "markdown",
   "metadata": {
    "slideshow": {
     "slide_type": "slide"
    }
   },
   "source": [
    "while-Schleifen: Beispiel"
   ]
  },
  {
   "cell_type": "code",
   "execution_count": 33,
   "metadata": {
    "collapsed": false,
    "slideshow": {
     "slide_type": "fragment"
    }
   },
   "outputs": [
    {
     "name": "stdout",
     "output_type": "stream",
     "text": [
      "0\n",
      "1\n",
      "2\n",
      "3\n",
      "4\n"
     ]
    }
   ],
   "source": [
    "n = 0\n",
    "while n < 5:       # Anfang der Schleife, Bestimmung der Bedingung\n",
    "    print(n)       # tue etwas mit der Variablen n\n",
    "    n = n + 1      # verändere n so, dass die Bedingung an einem bestimmten Punkt nicht mehr wahr ist."
   ]
  },
  {
   "cell_type": "markdown",
   "metadata": {
    "slideshow": {
     "slide_type": "fragment"
    }
   },
   "source": [
    "### Inkrement\n",
    "```\n",
    "n = 0\n",
    "n = n + 1\n",
    "```\n",
    "* erst wird der Ausdruck `n + 1` auf der rechten Seite der Zuweisung ausgewertet: `n + 1` → `0 + 1` → `1`\n",
    "* dann wird dieser Wert der Variable `n` zugewiesen. Danach ist `n == 1`\n",
    "* Kurzschreibweise: **`n += 1`**, Achtung: `+=` \n",
    "* <span style=\"color:green\">(Übung: Was passiert wohl, wenn Sie `n=+1` schreiben? und wieso?)</span>"
   ]
  },
  {
   "cell_type": "markdown",
   "metadata": {},
   "source": [
    "### Aufgabe 1\n",
    "\n",
    "Schreiben Sie ein Script zur Längenermittlung von Strings: Ihr Benutzer kann Text eingeben. Solange die Eingabe Ihres Benutzers nicht der leere String (`\"\"`) ist, geben Sie den Text zusammen mit der Länge in Zeichen und fragen einen neuen Text ab. "
   ]
  },
  {
   "cell_type": "code",
   "execution_count": 2,
   "metadata": {
    "collapsed": false
   },
   "outputs": [
    {
     "name": "stdout",
     "output_type": "stream",
     "text": [
      "Text? Test.\n",
      "Test. : 5 Zeichen\n",
      "Nächster Text? Ach, ich weiß auch nicht.\n",
      "Ach, ich weiß auch nicht. : 25 Zeichen\n",
      "Nächster Text? \n"
     ]
    }
   ],
   "source": [
    "text = input(\"Text? \")\n",
    "while text != \"\":\n",
    "    print(text, ':', len(text), 'Zeichen')\n",
    "    text = input(\"Nächster Text? \")"
   ]
  },
  {
   "cell_type": "markdown",
   "metadata": {},
   "source": [
    "### Aufgabe 2\n",
    "\n",
    "Schreiben Sie das Skript aus Aufgabe 1 um: Hängen Sie jede Zeile an einen Gesamttext an. Wenn der Benutzer fertig ist, geben Sie die Gesamtlänge des Texts aus."
   ]
  },
  {
   "cell_type": "code",
   "execution_count": 7,
   "metadata": {
    "collapsed": false
   },
   "outputs": [
    {
     "name": "stdout",
     "output_type": "stream",
     "text": [
      "Text? Ich bin ein Test.\n",
      "Nächster Text? Aus mehreren Zeilen.\n",
      "Nächster Text? Bla.\n",
      "Nächster Text? \n",
      "Insgesamt 41 Zeichen\n"
     ]
    }
   ],
   "source": [
    "whole_text = \"\"\n",
    "text = input(\"Text? \")\n",
    "while text != \"\":\n",
    "    whole_text += text\n",
    "    text = input(\"Nächster Text? \")\n",
    "print(\"Insgesamt\", len(whole_text), 'Zeichen')"
   ]
  },
  {
   "cell_type": "markdown",
   "metadata": {
    "slideshow": {
     "slide_type": "slide"
    }
   },
   "source": [
    "<h3 style=\"color:green\">Aufgabe 3</h3>\n",
    "\n",
    "Schreiben Sie ein Summationsprogramm:\n",
    "\n",
    "Das Programm bittet den Benutzer \n",
    "\n",
    "Fehleingaben (= Benutzer gibt irgendwas ein, was sich nicht in eine Zahl wandeln lässt) können Sie ignorieren."
   ]
  },
  {
   "cell_type": "code",
   "execution_count": 5,
   "metadata": {
    "collapsed": false,
    "slideshow": {
     "slide_type": "subslide"
    }
   },
   "outputs": [
    {
     "name": "stdout",
     "output_type": "stream",
     "text": [
      "Bitte geben Sie den ersten Summanden ein: 1\n",
      "  Zwischensumme:  1.0\n",
      "Nächster Summand, <Return> zum Beenden: 2\n",
      "  Zwischensumme:  3.0\n",
      "Nächster Summand, <Return> zum Beenden: 3\n",
      "  Zwischensumme:  6.0\n",
      "Nächster Summand, <Return> zum Beenden: \n",
      "Summe:  6.0\n"
     ]
    }
   ],
   "source": [
    "total = 0\n",
    "number = input(\"Bitte geben Sie den ersten Summanden ein: \")\n",
    "while number:  # bzw. while number != \"\": bzw. while number.isnumeric():\n",
    "    total += float(number)\n",
    "    print(\"  Zwischensumme: \", total)\n",
    "    number = input(\"Nächster Summand, <Return> zum Beenden: \")\n",
    "print(\"Summe: \", total)"
   ]
  },
  {
   "cell_type": "markdown",
   "metadata": {
    "collapsed": true,
    "slideshow": {
     "slide_type": "-"
    }
   },
   "source": [
    "### Übungsaufgabe\n",
    "\n",
    "Wir wollen ein paar Analysen auf Sätzen durchführen, die unser Benutzer eingibt. Geben Sie ein lauffähiges Python-Programm ab, das die folgenden drei Teilaufgaben nacheinander erledigt. Lassen Sie Ihr Skript zwischen den drei Teilaufgaben eine Trennzeile à la `### Aufgabe 1 ###` ausgeben.\n",
    "\n",
    "1. Fragen Sie vom Benutzer eine Reihe von Sätzen ab. Sammeln Sie die Sätze in einer Liste. Ihr Benutzer kann beliebig viele Sätze eingeben und das Eingeben von Sätzen beenden, in dem er eine leere Eingabe tätigt (= Return drückt).\n",
    "\n",
    "2. Geben Sie nun jeden der in Teilaufgabe 1 eingesammelten Sätze zusammen mit seiner Länge in Zeichen aus.\n",
    "\n",
    "3. Mit der split-Methode können Sie einen String an Leerraum in Wörter zerlegen: `\"Hallo Welt!\".split() → [\"Hallo\", \"Welt!\"].` Benutzen Sie das, um für jeden der in Teilaufgabe 1 eingegebenen Sätze die durchschnittliche Wortlänge zu ermitteln. Geben Sie jeweils Satz und Wortlänge aus.\n",
    "\n",
    "  (Das Ergebnis wird nicht ganz exakt sein, weil durch split() Satzzeichen mit in das vorangehende Wort eingeschlossen werden, das ist für diese Aufgabe aber nicht schlimm. Z.B. in der Sitzung zu Regulären Ausdrücken später im Semester werden wir Methoden kennenlernen, um _nur_ Wortzeichen zu verwenden.)"
   ]
  },
  {
   "cell_type": "code",
   "execution_count": null,
   "metadata": {
    "collapsed": true
   },
   "outputs": [],
   "source": []
  }
 ],
 "metadata": {
  "celltoolbar": "Slideshow",
  "kernelspec": {
   "display_name": "Python 3",
   "language": "python",
   "name": "python3"
  },
  "language_info": {
   "codemirror_mode": {
    "name": "ipython",
    "version": 3
   },
   "file_extension": ".py",
   "mimetype": "text/x-python",
   "name": "python",
   "nbconvert_exporter": "python",
   "pygments_lexer": "ipython3",
   "version": "3.5.3+"
  },
  "toc": {
   "navigate_menu": true,
   "number_sections": false,
   "sideBar": true,
   "threshold": 6,
   "toc_cell": false,
   "toc_section_display": "block",
   "toc_window_display": true
  }
 },
 "nbformat": 4,
 "nbformat_minor": 0
}
