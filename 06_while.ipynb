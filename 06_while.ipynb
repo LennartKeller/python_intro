{
 "cells": [
  {
   "cell_type": "markdown",
   "metadata": {
    "slideshow": {
     "slide_type": "slide"
    }
   },
   "source": [
    "## Einführung in das Programmieren mit Python"
   ]
  },
  {
   "cell_type": "markdown",
   "metadata": {
    "slideshow": {
     "slide_type": "-"
    }
   },
   "source": [
    "# Schleifen II: while"
   ]
  },
  {
   "cell_type": "markdown",
   "metadata": {
    "slideshow": {
     "slide_type": "slide"
    }
   },
   "source": [
    "# SB@Home-Abschaltung\n",
    "\n",
    "* [Folie](https://www.uni-wuerzburg.de/fileadmin/wuestudy/WueStudy10-Beamerfolie-Umstellung.pdf)\n",
    "* Prüfungsanmeldung!"
   ]
  },
  {
   "cell_type": "markdown",
   "metadata": {
    "slideshow": {
     "slide_type": "slide"
    }
   },
   "source": [
    "## Wiederholung: Bedingungen, Verzweigungen\n",
    "\n",
    "* Bedingungen sind Ausdrücke, die einen Wahrheitswert zurückgeben\n",
    "* Vergleichsoperatoren: ``== != < <= > >=   in   not in``, \n",
    "* Funktionen und Methoden, z.B. ``str.isnumeric()``\n",
    "* Boolesche Operatoren: ``and or not``\n",
    "\n",
    "* Verzweigung in der Programmstruktur:<br/>\n",
    "```\n",
    "if bedingung:\n",
    "    code\n",
    "    mehr_code\n",
    "```"
   ]
  },
  {
   "cell_type": "code",
   "execution_count": 1,
   "metadata": {
    "slideshow": {
     "slide_type": "fragment"
    }
   },
   "outputs": [
    {
     "name": "stdout",
     "output_type": "stream",
     "text": [
      "Gesuchte Zahl ist größer\n"
     ]
    }
   ],
   "source": [
    "a = 1\n",
    "if a < 7:\n",
    "    print(\"Gesuchte Zahl ist größer\")\n",
    "elif a == 7:\n",
    "    print(\"Zahl gefunden\")\n",
    "else:\n",
    "    print(\"Gesuchte Zahl ist kleiner\")\n",
    "    "
   ]
  },
  {
   "cell_type": "markdown",
   "metadata": {
    "slideshow": {
     "slide_type": "slide"
    }
   },
   "source": [
    "### Übung\n",
    "\n",
    "Schreiben Sie analog zur letzten Übung ein Zahlenrateprogramm. Das Programm erzeugt zunächst eine zu erratende Zufallszahl von 0 bis 100. Ihr Benutzer darf dann bis zu zehn mal raten, sie verraten, ob die Eingabe zu hoch / zu niedrig ist und brechen mit einer Erfolgsmeldung ab, wenn die Zahl erfolgreich geraten wurde."
   ]
  },
  {
   "cell_type": "code",
   "execution_count": null,
   "metadata": {
    "slideshow": {
     "slide_type": "subslide"
    }
   },
   "outputs": [],
   "source": [
    "from random import randint\n",
    "guessme = randint(0, 100)\n",
    "\n",
    "for attempt in range(10):\n",
    "    guess = int(input(\"Zahl von 0-100 eingeben, \" + str(attempt+1)+\". Versuch: \"))\n",
    "    if guess == guessme:\n",
    "        print(\"Yippie! Richtig geraten!\")\n",
    "        break\n",
    "    elif guessme < guess:\n",
    "        print(\"Die gesuchte Zahl ist kleiner.\")\n",
    "    else:\n",
    "        print(\"Die gesuchte Zahl ist größer.\")\n",
    "        \n",
    "if guess != guessme:\n",
    "    print(\"Vielleicht das nächste mal etwas geschickter raten?\")"
   ]
  },
  {
   "cell_type": "markdown",
   "metadata": {
    "slideshow": {
     "slide_type": "subslide"
    }
   },
   "source": [
    "Wieviele Versuche benötigt ein kluger Rater maximal?\n",
    "\n",
    "(Was ist die geschickteste Ratestrategie?)"
   ]
  },
  {
   "cell_type": "markdown",
   "metadata": {
    "slideshow": {
     "slide_type": "fragment"
    }
   },
   "source": [
    "Die optimale Lösungsstrategie besteht darin, immer die Zahl in der Mitte des Kandidatenintervalls zu raten und so den Suchraum jeweils zu halbieren. Dieses Verfahren nennt man [Binäre Suche](https://de.wikipedia.org/wiki/Binäre_Suche). Hier sind für $n$ zu ratende Zahlen maximal $\\lceil\\log_2(n+1)\\rceil$ Versuche nötig, in unserem Fall also $\\lceil\\log_2(102)\\rceil = \\lceil 6.672 \\rceil = 7$"
   ]
  },
  {
   "cell_type": "markdown",
   "metadata": {
    "slideshow": {
     "slide_type": "slide"
    }
   },
   "source": [
    "## Programmkontrolle: while-Schleifen"
   ]
  },
  {
   "cell_type": "markdown",
   "metadata": {
    "slideshow": {
     "slide_type": "subslide"
    }
   },
   "source": [
    "<h3>while-Schleifen</h3>\n",
    "<p>\n",
    "<img src=\"files/images/loop.png\" width=\"50%\" height=\"50%\" border=\"0\" alt=\"\">    "
   ]
  },
  {
   "cell_type": "markdown",
   "metadata": {
    "slideshow": {
     "slide_type": "fragment"
    }
   },
   "source": [
    "```python\n",
    "while bedingung:           # solange die bedingung wahr ist,\n",
    "    mach_was()             # wiederhole den (eingerückten Block)\n",
    "    mach_noch_mehr()       \n",
    "continue_normal_flow()     # wenn die bedingung falsch wird, hier weiter\n",
    "```"
   ]
  },
  {
   "cell_type": "markdown",
   "metadata": {
    "slideshow": {
     "slide_type": "fragment"
    }
   },
   "source": [
    "Üblicherweise wird im Code eine Variable so verändert, dass an einem bestimmten Punkt die Bedingung nicht mehr wahr ist."
   ]
  },
  {
   "cell_type": "markdown",
   "metadata": {
    "slideshow": {
     "slide_type": "slide"
    }
   },
   "source": [
    "### while-Schleifen: Beispiel"
   ]
  },
  {
   "cell_type": "code",
   "execution_count": 33,
   "metadata": {
    "slideshow": {
     "slide_type": "fragment"
    }
   },
   "outputs": [
    {
     "name": "stdout",
     "output_type": "stream",
     "text": [
      "0\n",
      "1\n",
      "2\n",
      "3\n",
      "4\n"
     ]
    }
   ],
   "source": [
    "n = 0\n",
    "while n < 5:       # Anfang der Schleife, Bestimmung der Bedingung\n",
    "    print(n)       # tue etwas mit der Variablen n\n",
    "    n = n + 1      # verändere n so, dass die Bedingung an einem bestimmten Punkt nicht mehr wahr ist."
   ]
  },
  {
   "cell_type": "markdown",
   "metadata": {
    "slideshow": {
     "slide_type": "fragment"
    }
   },
   "source": [
    "### Inkrement\n",
    "```\n",
    "n = 0\n",
    "n = n + 1\n",
    "```\n",
    "* erst wird der Ausdruck `n + 1` auf der rechten Seite der Zuweisung ausgewertet: `n + 1` → `0 + 1` → `1`\n",
    "* dann wird dieser Wert der Variable `n` zugewiesen. Danach ist `n == 1`\n",
    "* Kurzschreibweise: **`n += 1`**, Achtung: `+=` \n",
    "* <span style=\"color:green\">(Übung: Was passiert wohl, wenn Sie `n=+1` schreiben? und wieso?)</span>"
   ]
  },
  {
   "cell_type": "markdown",
   "metadata": {
    "slideshow": {
     "slide_type": "slide"
    }
   },
   "source": [
    "### Aufgabe 1\n",
    "\n",
    "Schreiben Sie ein Script zur Längenermittlung von Strings: Ihr Benutzer kann Text eingeben. Solange die Eingabe Ihres Benutzers nicht der leere String (`\"\"`) ist, geben Sie den Text zusammen mit der Länge in Zeichen und fragen einen neuen Text ab. "
   ]
  },
  {
   "cell_type": "code",
   "execution_count": 2,
   "metadata": {
    "slideshow": {
     "slide_type": "subslide"
    }
   },
   "outputs": [
    {
     "name": "stdout",
     "output_type": "stream",
     "text": [
      "Text? Test.\n",
      "Test. : 5 Zeichen\n",
      "Nächster Text? Ach, ich weiß auch nicht.\n",
      "Ach, ich weiß auch nicht. : 25 Zeichen\n",
      "Nächster Text? \n"
     ]
    }
   ],
   "source": [
    "text = input(\"Text? \")\n",
    "while text != \"\":\n",
    "    print(text, ':', len(text), 'Zeichen')\n",
    "    text = input(\"Nächster Text? \")"
   ]
  },
  {
   "cell_type": "markdown",
   "metadata": {
    "slideshow": {
     "slide_type": "skip"
    }
   },
   "source": [
    "### Aufgabe\n",
    "\n",
    "Schreiben Sie das Skript aus Aufgabe 1 um: Hängen Sie jede Zeile an einen Gesamttext an. Wenn der Benutzer fertig ist, geben Sie die Gesamtlänge des Texts aus."
   ]
  },
  {
   "cell_type": "code",
   "execution_count": 3,
   "metadata": {
    "slideshow": {
     "slide_type": "skip"
    }
   },
   "outputs": [
    {
     "name": "stdout",
     "output_type": "stream",
     "text": [
      "Text? Ich bin ein Text\n",
      "Nächster Text? Bla\n",
      "Nächster Text? Fasel\n",
      "Nächster Text? Jetzt ist aber Schluß.\n",
      "Nächster Text? \n",
      "Insgesamt 46 Zeichen\n"
     ]
    }
   ],
   "source": [
    "whole_text = \"\"\n",
    "text = input(\"Text? \")\n",
    "while text != \"\":\n",
    "    whole_text += text\n",
    "    text = input(\"Nächster Text? \")\n",
    "print(\"Insgesamt\", len(whole_text), 'Zeichen')"
   ]
  },
  {
   "cell_type": "markdown",
   "metadata": {
    "slideshow": {
     "slide_type": "slide"
    }
   },
   "source": [
    "### Aufgabe\n",
    "\n",
    "Schreiben Sie ein Summationsprogramm:\n",
    "\n",
    "Der Benutzer kann wiederholt Zahlen eingeben. Ihr Programm summiert alle eingegebenen Zahlen auf und gibt nach jeder Eingabe die Zwischensumme aus. Das Programm fragt solange Zahlen ab, bis der Benutzer nichts mehr eintippt, sondern nur noch Return (⏎) drückt (→ `input()` liefert einen Leerstring zurück).\n",
    "\n",
    "Fehleingaben (= Benutzer gibt irgendwas ein, was sich nicht in eine Zahl wandeln lässt) können Sie ignorieren."
   ]
  },
  {
   "cell_type": "code",
   "execution_count": 5,
   "metadata": {
    "slideshow": {
     "slide_type": "subslide"
    }
   },
   "outputs": [
    {
     "name": "stdout",
     "output_type": "stream",
     "text": [
      "Bitte geben Sie den ersten Summanden ein: 1\n",
      "  Zwischensumme:  1.0\n",
      "Nächster Summand, <Return> zum Beenden: 2\n",
      "  Zwischensumme:  3.0\n",
      "Nächster Summand, <Return> zum Beenden: 3\n",
      "  Zwischensumme:  6.0\n",
      "Nächster Summand, <Return> zum Beenden: \n",
      "Summe:  6.0\n"
     ]
    }
   ],
   "source": [
    "total = 0\n",
    "number = input(\"Bitte geben Sie den ersten Summanden ein: \")\n",
    "while number:  # bzw. while number != \"\": bzw. while number.isnumeric():\n",
    "    total += float(number)\n",
    "    print(\"  Zwischensumme: \", total)\n",
    "    number = input(\"Nächster Summand, <Return> zum Beenden: \")\n",
    "print(\"Summe: \", total)"
   ]
  },
  {
   "cell_type": "markdown",
   "metadata": {
    "slideshow": {
     "slide_type": "slide"
    }
   },
   "source": [
    "## Bedingungen und while: Stilfragen\n",
    "\n",
    "* Eine boolesche Variable ist bereits eine Bedingung. Schreiben Sie nie `if flag == True:`, sondern stattdessen `if flag:`"
   ]
  },
  {
   "cell_type": "markdown",
   "metadata": {
    "slideshow": {
     "slide_type": "fragment"
    }
   },
   "source": [
    "* In Python sind bestimmte Werte – Leerstring (`''`), `0`, leere Liste `[]`, `None` __falsey__ und alle anderen Werte der entsprechenden Datentypen __truthy__, d.h. sie sind `True` oder `False` wenn man versucht, einen `bool` daraus zu machen. Diese Werte können Sie _direkt_ als Bedingung verwenden:\n",
    "```python\n",
    "new_line = input(\"Text, erste Zeile:\\t\")\n",
    "while new_line:\n",
    "    mach_was_mit(new_line)\n",
    "    new_line = input(\"Text, nächste Zeile:\\t\")\n",
    "```"
   ]
  },
  {
   "cell_type": "markdown",
   "metadata": {
    "slideshow": {
     "slide_type": "fragment"
    }
   },
   "source": [
    "* Erinnerung: Schleifen können Sie mit `break` abbrechen. Mit `continue` machen Sie direkt mit der nächsten Iteration weiter.\n",
    "\n",
    "### Übungsaufgabe\n",
    "\n",
    "Schreiben Sie das Zahlenrateprogramm von oben so um, dass folgende Bedingungen erfüllt sind:\n",
    "\n",
    "1. Benutzer_in darf beliebig oft raten, sie zählen die Versuche\n",
    "2. Eingabe von `''` → Ende, Lösung aufdecken (\"keine Lust mehr\")\n",
    "3. Eingabe von etwas, das keine Zahl von 0-100 ist: Hinweismeldung, neue Eingabe möglich, zählt nicht als Versuch"
   ]
  },
  {
   "cell_type": "markdown",
   "metadata": {
    "collapsed": true,
    "slideshow": {
     "slide_type": "-"
    }
   },
   "source": [
    "### voraussichtliche Hausaufgabe, kommt morgen früh\n",
    "\n",
    "Wir wollen ein paar Analysen auf Sätzen durchführen, die unser Benutzer eingibt. Geben Sie ein lauffähiges Python-Programm ab, das die folgenden drei Teilaufgaben nacheinander erledigt. Lassen Sie Ihr Skript zwischen den drei Teilaufgaben eine Trennzeile à la `### Aufgabe 1 ###` ausgeben.\n",
    "\n",
    "1. Fragen Sie vom Benutzer eine Reihe von Sätzen ab. Sammeln Sie die Sätze in einer Liste. Ihr Benutzer kann beliebig viele Sätze eingeben und das Eingeben von Sätzen beenden, in dem er eine leere Eingabe tätigt (= Return drückt).\n",
    "\n",
    "2. Geben Sie nun jeden der in Teilaufgabe 1 eingesammelten Sätze zusammen mit seiner Länge in Zeichen aus.\n",
    "\n",
    "3. Mit der split-Methode können Sie einen String an Leerraum in Wörter zerlegen: `\"Hallo Welt!\".split() → [\"Hallo\", \"Welt!\"].` Benutzen Sie das, um für jeden der in Teilaufgabe 1 eingegebenen Sätze die durchschnittliche Wortlänge zu ermitteln. Geben Sie jeweils Satz und Wortlänge aus.\n",
    "\n",
    "  (Das Ergebnis wird nicht ganz exakt sein, weil durch split() Satzzeichen mit in das vorangehende Wort eingeschlossen werden, das ist für diese Aufgabe aber nicht schlimm. Z.B. in der Sitzung zu Regulären Ausdrücken später im Semester werden wir Methoden kennenlernen, um _nur_ Wortzeichen zu verwenden.)"
   ]
  },
  {
   "cell_type": "code",
   "execution_count": null,
   "metadata": {
    "collapsed": true
   },
   "outputs": [],
   "source": []
  }
 ],
 "metadata": {
  "celltoolbar": "Slideshow",
  "kernelspec": {
   "display_name": "Python 3",
   "language": "python",
   "name": "python3"
  },
  "language_info": {
   "codemirror_mode": {
    "name": "ipython",
    "version": 3
   },
   "file_extension": ".py",
   "mimetype": "text/x-python",
   "name": "python",
   "nbconvert_exporter": "python",
   "pygments_lexer": "ipython3",
   "version": "3.6.4rc1"
  },
  "toc": {
   "navigate_menu": true,
   "number_sections": false,
   "sideBar": true,
   "threshold": 6,
   "toc_cell": false,
   "toc_section_display": "block",
   "toc_window_display": true
  }
 },
 "nbformat": 4,
 "nbformat_minor": 1
}
