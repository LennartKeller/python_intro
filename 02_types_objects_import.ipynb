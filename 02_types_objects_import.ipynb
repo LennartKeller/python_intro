{
 "cells": [
  {
   "cell_type": "markdown",
   "metadata": {
    "slideshow": {
     "slide_type": "slide"
    }
   },
   "source": [
    "## Einführen in das Programmieren mit Python\n",
    "\n",
    "# Datentypen"
   ]
  },
  {
   "cell_type": "markdown",
   "metadata": {
    "slideshow": {
     "slide_type": "slide"
    }
   },
   "source": [
    "### Wiederholung"
   ]
  },
  {
   "cell_type": "markdown",
   "metadata": {
    "slideshow": {
     "slide_type": "fragment"
    }
   },
   "source": [
    "* **Ausdruck** := syntaktisches Konstrukt, das in einem Kontext ausgewertet werden kann (also → Wert)\n",
    "\n",
    "* [Ausdrücke](https://docs.python.org/3/reference/expressions.html) sind rekursiv definiert, alles folgende sind Ausdrücke:\n",
    "\n",
    "    * ` 2`\n",
    "    * ` 3 * 4`\n",
    "    * ` 3 * 4 + 1`\n",
    "    * `(3 * 4 + 1) * len(\"Python\")`\n",
    "    * `(3 * 4 + 1) * len(\"Python\") < 5`"
   ]
  },
  {
   "cell_type": "markdown",
   "metadata": {
    "slideshow": {
     "slide_type": "fragment"
    }
   },
   "source": [
    "-   **Variablenzuweisung** mit = :<br/>\n",
    "     _identifier_ = _expression_<br/>\n",
    "     _Bezeichner_ = _Ausdruck_<br/>\n",
    "     Bsp.: ``word = \"Haus\" + \"bau\"``    "
   ]
  },
  {
   "cell_type": "markdown",
   "metadata": {
    "slideshow": {
     "slide_type": "slide"
    }
   },
   "source": [
    "## Datentypen\n",
    "\n",
    "Was ist jeweils das Ergebnis der folgenden Operationen?\n",
    "\n",
    "```python\n",
    "3 + 2               # a)\n",
    "\"Hallo\" + \"Welt\"    # b)\n",
    "\"3\" + \"2\"           # c)\n",
    "3 / 2               # d)\n",
    "3 / 3               # e)\n",
    "```"
   ]
  },
  {
   "cell_type": "markdown",
   "metadata": {},
   "source": [
    "* Alle Werte in Python haben einen __Datentyp__\n",
    "* der Datentyp bestimmt, wie der Wert interpretiert\n",
    "* der Datentyp bestimmt die für den Wert zur Verfügung stehenden Operationen\n",
    "* Die Funktion `type` liefert den Typ eines Werts zurück"
   ]
  },
  {
   "cell_type": "code",
   "execution_count": 3,
   "metadata": {
    "collapsed": false,
    "slideshow": {
     "slide_type": "fragment"
    }
   },
   "outputs": [
    {
     "data": {
      "text/plain": [
       "float"
      ]
     },
     "execution_count": 3,
     "metadata": {},
     "output_type": "execute_result"
    }
   ],
   "source": [
    "type(1.75)"
   ]
  },
  {
   "cell_type": "markdown",
   "metadata": {
    "slideshow": {
     "slide_type": "fragment"
    }
   },
   "source": [
    "### Einfache Datentypen\n",
    "\n",
    "<table>\n",
    "<thead>\n",
    "    <tr class=\"header\">\n",
    "        <th align=\"left\">Typisches Literal</th>\n",
    "        <th align=\"left\">Typ</th>\n",
    "        <th align=\"left\">Beschreibung</th>\n",
    "    </tr>\n",
    "</thead>\n",
    "<tbody>\n",
    "    <tr class=\"odd\">\n",
    "        <td align=\"left\"><code>5</code>, <code>-42</code></td>\n",
    "        <td align=\"left\"><code>int</code></td>\n",
    "        <td align=\"left\">Ganze Zahl (<em>Integer</em>)</td>\n",
    "    </tr>\n",
    "    <tr class=\"even\">\n",
    "        <td align=\"left\"><code>5.0</code>, <code>-3.75</code></td>\n",
    "        <td align=\"left\"><code>float</code></td>\n",
    "        <td align=\"left\">Fließkommazahl</td>\n",
    "    </tr>\n",
    "    <tr class=\"odd\">\n",
    "    <td align=\"left\"><code>&quot;Hallo&quot;</code></td>\n",
    "        <td align=\"left\"><code>str</code></td>\n",
    "        <td align=\"left\">Zeichenkette (<em>String</em>)</td>\n",
    "    </tr>\n",
    "    <tr class=\"even\">\n",
    "        <td align=\"left\"><code>True</code>, <code>False</code></td>\n",
    "        <td align=\"left\"><code>bool</code></td>\n",
    "        <td align=\"left\">Wahrheitswert</td>\n",
    "    </tr>\n",
    "</tbody>\n",
    "</table>\n"
   ]
  },
  {
   "cell_type": "code",
   "execution_count": 6,
   "metadata": {
    "collapsed": false,
    "slideshow": {
     "slide_type": "fragment"
    }
   },
   "outputs": [
    {
     "data": {
      "text/plain": [
       "False"
      ]
     },
     "execution_count": 6,
     "metadata": {},
     "output_type": "execute_result"
    }
   ],
   "source": [
    "4 == 5"
   ]
  },
  {
   "cell_type": "code",
   "execution_count": 7,
   "metadata": {
    "collapsed": false,
    "slideshow": {
     "slide_type": "fragment"
    }
   },
   "outputs": [
    {
     "data": {
      "text/plain": [
       "bool"
      ]
     },
     "execution_count": 7,
     "metadata": {},
     "output_type": "execute_result"
    }
   ],
   "source": [
    "type(4 == 5)"
   ]
  },
  {
   "cell_type": "markdown",
   "metadata": {
    "slideshow": {
     "slide_type": "slide"
    }
   },
   "source": [
    "### Strings (Zeichenketten, `str`)"
   ]
  },
  {
   "cell_type": "code",
   "execution_count": 2,
   "metadata": {
    "collapsed": false,
    "slideshow": {
     "slide_type": "fragment"
    }
   },
   "outputs": [
    {
     "name": "stdout",
     "output_type": "stream",
     "text": [
      "Verzeichnis:\n",
      "C:\\Programme\\WinPython\n",
      "Zeilenumbrüche macht man mit \\n\n"
     ]
    }
   ],
   "source": [
    "'Hallo Welt!'\n",
    "\"Peter's Pommesbude\"                            # \"…\" oder '…'\n",
    "print(\"Verzeichnis:\\nC:\\\\Programme\\\\WinPython\") # \\<Zeichen> → Spezialbedeutung\n",
    "print(r\"Zeilenumbrüche macht man mit \\n\")       # raw string"
   ]
  },
  {
   "cell_type": "code",
   "execution_count": 10,
   "metadata": {
    "collapsed": false,
    "slideshow": {
     "slide_type": "fragment"
    }
   },
   "outputs": [
    {
     "name": "stdout",
     "output_type": "stream",
     "text": [
      "\n",
      "Ein Beispiel\n",
      "------------\n",
      "\n"
     ]
    }
   ],
   "source": [
    "print(\"\"\"\n",
    "Ein Beispiel\n",
    "------------\n",
    "\"\"\")"
   ]
  },
  {
   "cell_type": "markdown",
   "metadata": {
    "slideshow": {
     "slide_type": "subslide"
    }
   },
   "source": [
    "#### Operatoren für Strings"
   ]
  },
  {
   "cell_type": "code",
   "execution_count": 11,
   "metadata": {
    "collapsed": false,
    "slideshow": {
     "slide_type": "-"
    }
   },
   "outputs": [
    {
     "name": "stdout",
     "output_type": "stream",
     "text": [
      "Hallo Welt!\n",
      "Ho Ho Ho \n"
     ]
    }
   ],
   "source": [
    "print(\"Hallo \" + \"Welt!\")\n",
    "print(\"Ho \" * 3)"
   ]
  },
  {
   "cell_type": "markdown",
   "metadata": {
    "slideshow": {
     "slide_type": "slide"
    }
   },
   "source": [
    "## Objekte\n",
    "\n",
    "* Alle Werte in Python sind __Objekte__\n",
    "* Objekte vereinen die eigentlichen Daten und Operationen darauf:"
   ]
  },
  {
   "cell_type": "code",
   "execution_count": 4,
   "metadata": {
    "collapsed": false,
    "slideshow": {
     "slide_type": "fragment"
    }
   },
   "outputs": [
    {
     "data": {
      "text/plain": [
       "'HALLO'"
      ]
     },
     "execution_count": 4,
     "metadata": {},
     "output_type": "execute_result"
    }
   ],
   "source": [
    "'Hallo'.upper()"
   ]
  },
  {
   "cell_type": "code",
   "execution_count": 1,
   "metadata": {
    "collapsed": false,
    "slideshow": {
     "slide_type": "fragment"
    }
   },
   "outputs": [
    {
     "data": {
      "text/plain": [
       "(3, 8)"
      ]
     },
     "execution_count": 1,
     "metadata": {},
     "output_type": "execute_result"
    }
   ],
   "source": [
    "f = 0.375\n",
    "f.as_integer_ratio()"
   ]
  },
  {
   "cell_type": "markdown",
   "metadata": {
    "slideshow": {
     "slide_type": "fragment"
    }
   },
   "source": [
    "* Objekt = Daten + Operationen darauf\n",
    "* **Methoden** sind Funktionen, die Teil eines Objekts sind\n",
    "* `.` = *Attributreferenz* – `foo.bar()` ruft die Methode namens `bar` des Objekts, das in der Veriablen `foo` steht, auf\n",
    "* Konsole: `\"Hallo\".<Tab>`\n",
    "* Konsole: `help(str)`\n",
    "* Der Datentyp eines Objekts heißt auch __Klasse__ (class)"
   ]
  },
  {
   "cell_type": "markdown",
   "metadata": {
    "slideshow": {
     "slide_type": "subslide"
    }
   },
   "source": [
    "### Typkonvertierung\n",
    "\n",
    "* wandelt einen Wert eines Datentyps in einen äquivalenten Wert eines anderen Datentyps (_type casting_)\n",
    "* Python: Jeder Datentyp ist als Funktion aufrufbar _(Konstruktor)_ & erzeugt ein Objekt des Datentyps\n",
    "* ggf. help(datentyp), z.B. `help(int)`, für Hilfe"
   ]
  },
  {
   "cell_type": "code",
   "execution_count": 1,
   "metadata": {
    "collapsed": false,
    "slideshow": {
     "slide_type": "fragment"
    }
   },
   "outputs": [
    {
     "name": "stdout",
     "output_type": "stream",
     "text": [
      "<class 'float'>\n"
     ]
    }
   ],
   "source": [
    "a = 1.7\n",
    "print(type(a))        # type(x) gibt den Datentyp von a zurück"
   ]
  },
  {
   "cell_type": "code",
   "execution_count": 2,
   "metadata": {
    "collapsed": false,
    "slideshow": {
     "slide_type": "fragment"
    }
   },
   "outputs": [
    {
     "data": {
      "text/plain": [
       "1"
      ]
     },
     "execution_count": 2,
     "metadata": {},
     "output_type": "execute_result"
    }
   ],
   "source": [
    "int(a)               # Achtung: Keine Rundung!"
   ]
  },
  {
   "cell_type": "code",
   "execution_count": 3,
   "metadata": {
    "collapsed": false,
    "slideshow": {
     "slide_type": "fragment"
    }
   },
   "outputs": [
    {
     "data": {
      "text/plain": [
       "1.0"
      ]
     },
     "execution_count": 3,
     "metadata": {},
     "output_type": "execute_result"
    }
   ],
   "source": [
    "a = 1\n",
    "float(a)"
   ]
  },
  {
   "cell_type": "code",
   "execution_count": 4,
   "metadata": {
    "collapsed": false,
    "slideshow": {
     "slide_type": "fragment"
    }
   },
   "outputs": [
    {
     "data": {
      "text/plain": [
       "1"
      ]
     },
     "execution_count": 4,
     "metadata": {},
     "output_type": "execute_result"
    }
   ],
   "source": [
    "a = \"1\" \n",
    "int(a)"
   ]
  },
  {
   "cell_type": "markdown",
   "metadata": {
    "slideshow": {
     "slide_type": "subslide"
    }
   },
   "source": [
    "### Aufgaben\n",
    "\n",
    "1. Weisen Sie der Variablen _a_ den Wert `32` als Fließkommazahl zu. Speichern Sie das Ergebnis eines type casting nach Integers in der Variablen b.\n",
    "\n",
    "2. Gegeben ist: `c = \"hallo\"`.\n",
    "\n",
    "  Verwandeln Sie den Datentyp von `c` in einen Wahrheitswert. \n",
    "  \n",
    "  Zusatzfrage: Welchen Ausgangswert muss `c` wohl haben, damit der Wahrheitswert `False` lautet?\n",
    "  \n",
    "3. Versuchen sie `c` nach `int` zu casten.\n",
    "\n",
    "4. Gibt es eine Möglichkeit, `\"affe\"` in eine ganze Zahl zu wandeln? Wie wird das interpretiert?"
   ]
  },
  {
   "cell_type": "markdown",
   "metadata": {
    "slideshow": {
     "slide_type": "subslide"
    }
   },
   "source": [
    "<h3>Musterlösung</h3>"
   ]
  },
  {
   "cell_type": "markdown",
   "metadata": {
    "slideshow": {
     "slide_type": "fragment"
    }
   },
   "source": [
    "<p>1. Weisen Sie der Variablen a den Wert 32 als Fließkommazahl zu. Speichern Sie das Ergebnis eines type casting nach Integers in der Variablen b. "
   ]
  },
  {
   "cell_type": "code",
   "execution_count": 11,
   "metadata": {
    "collapsed": false,
    "slideshow": {
     "slide_type": "fragment"
    }
   },
   "outputs": [
    {
     "name": "stdout",
     "output_type": "stream",
     "text": [
      "a: 32.0 • Typ: <class 'float'>\n",
      "b: 32 • Typ: <class 'int'>\n"
     ]
    }
   ],
   "source": [
    "a = float(32)   # oder a = 32.0\n",
    "print(\"a:\", a, \"• Typ:\", type(a))\n",
    "b = int(a)\n",
    "print(\"b:\", b, \"• Typ:\", type(b))"
   ]
  },
  {
   "cell_type": "markdown",
   "metadata": {
    "slideshow": {
     "slide_type": "subslide"
    }
   },
   "source": [
    "<p>2. Gegeben ist: `c = \"hallo\"`<br/>\n",
    "Verwandeln Sie den Datentyp von `c` in einen Wahrheitswert. Welchen Ausgangswert muss `c` wohl haben, damit der Wahrheitswert `False` lautet? "
   ]
  },
  {
   "cell_type": "code",
   "execution_count": 12,
   "metadata": {
    "collapsed": false,
    "slideshow": {
     "slide_type": "fragment"
    }
   },
   "outputs": [
    {
     "name": "stdout",
     "output_type": "stream",
     "text": [
      "d: True • Typ: <class 'bool'>\n"
     ]
    }
   ],
   "source": [
    "c = \"hallo\"\n",
    "d = bool(c)\n",
    "print(\"d:\", d, \"• Typ:\", type(d))"
   ]
  },
  {
   "cell_type": "code",
   "execution_count": 1,
   "metadata": {
    "collapsed": false,
    "slideshow": {
     "slide_type": "fragment"
    }
   },
   "outputs": [
    {
     "data": {
      "text/plain": [
       "True"
      ]
     },
     "execution_count": 1,
     "metadata": {},
     "output_type": "execute_result"
    }
   ],
   "source": [
    "bool(\"a\")"
   ]
  },
  {
   "cell_type": "code",
   "execution_count": 2,
   "metadata": {
    "collapsed": false,
    "slideshow": {
     "slide_type": "fragment"
    }
   },
   "outputs": [
    {
     "data": {
      "text/plain": [
       "False"
      ]
     },
     "execution_count": 2,
     "metadata": {},
     "output_type": "execute_result"
    }
   ],
   "source": [
    "bool(\"\")"
   ]
  },
  {
   "cell_type": "markdown",
   "metadata": {
    "slideshow": {
     "slide_type": "subslide"
    }
   },
   "source": [
    "<p>3. Versuchen sie `c` nach `int` zu casten"
   ]
  },
  {
   "cell_type": "code",
   "execution_count": 15,
   "metadata": {
    "collapsed": false,
    "slideshow": {
     "slide_type": "fragment"
    }
   },
   "outputs": [
    {
     "ename": "ValueError",
     "evalue": "invalid literal for int() with base 10: 'hallo'",
     "output_type": "error",
     "traceback": [
      "\u001b[1;31m---------------------------------------------------------------------------\u001b[0m",
      "\u001b[1;31mValueError\u001b[0m                                Traceback (most recent call last)",
      "\u001b[1;32m<ipython-input-15-e2401aa1513e>\u001b[0m in \u001b[0;36m<module>\u001b[1;34m()\u001b[0m\n\u001b[0;32m      1\u001b[0m \u001b[0mc\u001b[0m \u001b[1;33m=\u001b[0m \u001b[1;34m\"hallo\"\u001b[0m\u001b[1;33m\u001b[0m\u001b[0m\n\u001b[1;32m----> 2\u001b[1;33m \u001b[0mint\u001b[0m\u001b[1;33m(\u001b[0m\u001b[0mc\u001b[0m\u001b[1;33m)\u001b[0m\u001b[1;33m\u001b[0m\u001b[0m\n\u001b[0m",
      "\u001b[1;31mValueError\u001b[0m: invalid literal for int() with base 10: 'hallo'"
     ]
    }
   ],
   "source": [
    "c = \"hallo\"\n",
    "int(c)"
   ]
  },
  {
   "cell_type": "markdown",
   "metadata": {
    "slideshow": {
     "slide_type": "fragment"
    }
   },
   "source": [
    " <p>4. Gibt es eine Möglichkeit, `\"affe\"` in eine ganze Zahl zu wandeln? Wie wird das interpretiert?"
   ]
  },
  {
   "cell_type": "markdown",
   "metadata": {
    "slideshow": {
     "slide_type": "fragment"
    }
   },
   "source": [
    "`affe` kann als Hexadezimalzahl interpretiert werden (Zahl zur Basis 16 statt 10, die Buchstaben `a` bis `f` übernehmen die Rolle der Ziffern von 9 bis 15). "
   ]
  },
  {
   "cell_type": "code",
   "execution_count": 3,
   "metadata": {
    "collapsed": false,
    "slideshow": {
     "slide_type": "fragment"
    }
   },
   "outputs": [
    {
     "data": {
      "text/plain": [
       "45054"
      ]
     },
     "execution_count": 3,
     "metadata": {},
     "output_type": "execute_result"
    }
   ],
   "source": [
    "# Verwenden Sie help(int), um mehr über die Umwandlung in Integer-Zahlen zu erfahren\n",
    "int('affe', base=16)"
   ]
  },
  {
   "cell_type": "markdown",
   "metadata": {},
   "source": [
    "## Funktionen\n",
    "\n",
    "* Wir haben bereits einige Funktionsaufrufe kennengelernt, z.B.:\n",
    "\n",
    "   * `print(\"Hallo\")`\n",
    "   * `print(type(3.75))` ← sogar zwei Funktionsaufrufe in einer Anweisung :-)\n",
    "   \n",
    "* __Funktionen__ fassen bestimmte Aufgaben zusammen, die abgearbeitet werden, wenn die Funktion aufgerufen wird\n",
    "* Funktionen können __Parameter__ (auch __Argumente__ genannt) übergeben bekommen, die ihre Arbeit beeinflussen\n",
    "* Funktionen haben meist einen __Rückgabewert__, der weiterverarbeitet und z. B. einer Variable zugewiesen werden kann\n",
    "\n",
    "![Funktionsaufruf](images/functioncall.svg)"
   ]
  },
  {
   "cell_type": "code",
   "execution_count": 12,
   "metadata": {
    "collapsed": false
   },
   "outputs": [
    {
     "name": "stdout",
     "output_type": "stream",
     "text": [
      "Help on built-in function round in module builtins:\n",
      "\n",
      "round(...)\n",
      "    round(number[, ndigits]) -> number\n",
      "    \n",
      "    Round a number to a given precision in decimal digits (default 0 digits).\n",
      "    This returns an int when called with one argument, otherwise the\n",
      "    same type as the number. ndigits may be negative.\n",
      "\n"
     ]
    }
   ],
   "source": [
    "help(round)"
   ]
  },
  {
   "cell_type": "code",
   "execution_count": 22,
   "metadata": {
    "collapsed": false
   },
   "outputs": [
    {
     "name": "stdout",
     "output_type": "stream",
     "text": [
      "1.68\n"
     ]
    }
   ],
   "source": [
    "price = round(1.6789, 2)\n",
    "print(price)"
   ]
  },
  {
   "cell_type": "markdown",
   "metadata": {},
   "source": [
    "1. Die Funktion namens `round` wird aufgerufen (wegen der `(…)`). Dabei werden ihr die beiden Parameter `0.6789` und `2` übergeben.\n",
    "2. Die Parameter werden von der Funktion aufgrund der Reihenfolge als `number` und `ndigits` interpretiert\n",
    "3. Die Funktion tut ihr Werk, hier rundet sie `0.6789` auf `2` Nachkommastellen\n",
    "4. Sie gibt das Ergebnis, `0.68`, zurück\n",
    "5. Wir speichern das Ergebnis in der Variable `price`"
   ]
  },
  {
   "cell_type": "markdown",
   "metadata": {},
   "source": [
    "### Argumente per Namen angeben"
   ]
  },
  {
   "cell_type": "code",
   "execution_count": 21,
   "metadata": {
    "collapsed": false
   },
   "outputs": [
    {
     "data": {
      "text/plain": [
       "1.68"
      ]
     },
     "execution_count": 21,
     "metadata": {},
     "output_type": "execute_result"
    }
   ],
   "source": [
    "round(1.6789, ndigits=2)"
   ]
  },
  {
   "cell_type": "markdown",
   "metadata": {},
   "source": [
    "### Optionale Argumente"
   ]
  },
  {
   "cell_type": "code",
   "execution_count": 20,
   "metadata": {
    "collapsed": false
   },
   "outputs": [
    {
     "data": {
      "text/plain": [
       "1"
      ]
     },
     "execution_count": 20,
     "metadata": {},
     "output_type": "execute_result"
    }
   ],
   "source": [
    "round(1.6789)"
   ]
  },
  {
   "cell_type": "markdown",
   "metadata": {},
   "source": [
    "### Methoden\n",
    "\n",
    "Objekte bringen meist __Methoden__ mit, das sind faktisch Funktionen, die wissen, zu welchem Objekt sie gehören."
   ]
  },
  {
   "cell_type": "code",
   "execution_count": 24,
   "metadata": {
    "collapsed": false
   },
   "outputs": [
    {
     "data": {
      "text/plain": [
       "'HALLO'"
      ]
     },
     "execution_count": 24,
     "metadata": {},
     "output_type": "execute_result"
    }
   ],
   "source": [
    "\"Hallo\".upper()"
   ]
  },
  {
   "cell_type": "code",
   "execution_count": 28,
   "metadata": {
    "collapsed": false
   },
   "outputs": [
    {
     "data": {
      "text/plain": [
       "True"
      ]
     },
     "execution_count": 28,
     "metadata": {},
     "output_type": "execute_result"
    }
   ],
   "source": [
    "\"Berlin\".endswith(\"in\")"
   ]
  },
  {
   "cell_type": "markdown",
   "metadata": {},
   "source": [
    "## Module – Import"
   ]
  },
  {
   "cell_type": "markdown",
   "metadata": {},
   "source": [
    "[Nur einige zentrale Funktionen sind in Python eingebaut](https://docs.python.org/3/library/functions.html) und können einfach so benutzt werden – z.B. `len`, `print`, `type`, `round`.\n",
    "\n",
    "Interessante Funktionalität wird meist thematisch Gebündelt und steckt dann in __Modulen__.\n",
    "\n",
    "Zahlreiche Module kommen schon mit Python mit (die [Standardbibliothek](https://docs.python.org/3/library)), andere müssen nachinstalliert werden (später).\n",
    "\n",
    "Bevor wir Funktionalität aus einem Modul nutzen können, müssen wir es importieren:"
   ]
  },
  {
   "cell_type": "code",
   "execution_count": 29,
   "metadata": {
    "collapsed": false
   },
   "outputs": [
    {
     "data": {
      "text/plain": [
       "9.0"
      ]
     },
     "execution_count": 29,
     "metadata": {},
     "output_type": "execute_result"
    }
   ],
   "source": [
    "import math\n",
    "math.sqrt(81)"
   ]
  },
  {
   "cell_type": "code",
   "execution_count": null,
   "metadata": {
    "collapsed": true
   },
   "outputs": [],
   "source": [
    "__TODO__ Aufgaben, z.B. irgendwas mit datetime"
   ]
  }
 ],
 "metadata": {
  "celltoolbar": "Slideshow",
  "kernelspec": {
   "display_name": "Python 3",
   "language": "python",
   "name": "python3"
  },
  "language_info": {
   "codemirror_mode": {
    "name": "ipython",
    "version": 3
   },
   "file_extension": ".py",
   "mimetype": "text/x-python",
   "name": "python",
   "nbconvert_exporter": "python",
   "pygments_lexer": "ipython3",
   "version": "3.5.1+"
  },
  "livereveal": {
   "height": 768,
   "width": 1024
  },
  "nav_menu": {},
  "toc": {
   "navigate_menu": true,
   "number_sections": false,
   "sideBar": true,
   "threshold": 6,
   "toc_cell": false,
   "toc_section_display": "block",
   "toc_window_display": true
  }
 },
 "nbformat": 4,
 "nbformat_minor": 0
}
