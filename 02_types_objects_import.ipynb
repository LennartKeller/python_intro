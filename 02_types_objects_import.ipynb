{
 "cells": [
  {
   "cell_type": "markdown",
   "metadata": {
    "deletable": true,
    "editable": true,
    "slideshow": {
     "slide_type": "slide"
    }
   },
   "source": [
    "## Einführen in das Programmieren mit Python\n",
    "\n",
    "# Datentypen"
   ]
  },
  {
   "cell_type": "markdown",
   "metadata": {
    "deletable": true,
    "editable": true,
    "slideshow": {
     "slide_type": "slide"
    }
   },
   "source": [
    "### Wiederholung"
   ]
  },
  {
   "cell_type": "markdown",
   "metadata": {
    "deletable": true,
    "editable": true,
    "slideshow": {
     "slide_type": "-"
    }
   },
   "source": [
    "* **Ausdruck** := syntaktisches Konstrukt, das in einem Kontext ausgewertet werden kann (also → Wert)\n",
    "\n",
    "* Einfache [Ausdrücke](https://docs.python.org/3/reference/expressions.html) sind:\n",
    "\n",
    "    * _Literale_ (wörtliche Repräsentationen eines Werts) wie `2` oder `\"Hallo\"`\n",
    "    * _Variablennamen_\n",
    "   \n",
    "* komplexere Ausdrücke werden aus Operatoren, Funktionsaufrufen und einfachen Ausdrücken zusammengesetzt:\n",
    "\n",
    "    * `4 + 5`\n",
    "    * `3 * len(\"Python\")`\n",
    "    \n",
    "* Überall, wo in einem Teilausdruck ein Literal oder eine Variable stehen kann, kann auch ein komplexerer Teilausdruck stehen"
   ]
  },
  {
   "cell_type": "markdown",
   "metadata": {
    "deletable": true,
    "editable": true,
    "slideshow": {
     "slide_type": "subslide"
    }
   },
   "source": [
    "* Überall, wo in einem Teilausdruck ein Literal oder eine Variable stehen kann, kann auch ein komplexerer Teilausdruck stehen\n",
    "\n",
    "    * ` 2`\n",
    "    * ` 3 * 4`\n",
    "    * ` 3 * 4 + 1`\n",
    "    * `(3 * 4 + 1) * len(\"Python\")`\n",
    "    * `(3 * 4 + 1) * len(\"Python\") < 5`"
   ]
  },
  {
   "cell_type": "markdown",
   "metadata": {
    "deletable": true,
    "editable": true,
    "slideshow": {
     "slide_type": "subslide"
    }
   },
   "source": [
    "-   **Variablenzuweisung** mit = :<br/>\n",
    "     _identifier_ = _expression_<br/>\n",
    "     _Bezeichner_ = _Ausdruck_<br/>\n",
    "     Bsp.: ``word = \"Haus\" + \"bau\"``    "
   ]
  },
  {
   "cell_type": "markdown",
   "metadata": {
    "deletable": true,
    "editable": true,
    "slideshow": {
     "slide_type": "slide"
    }
   },
   "source": [
    "## Datentypen\n",
    "\n",
    "Was ist jeweils das Ergebnis der folgenden Operationen?\n",
    "\n",
    "```python\n",
    "3 + 2               # a)\n",
    "\"Hallo \" + \"Welt\"   # b)\n",
    "\"3\" + \"2\"           # c)\n",
    "3 / 2               # d)\n",
    "3 / 3               # e)\n",
    "```"
   ]
  },
  {
   "cell_type": "markdown",
   "metadata": {
    "deletable": true,
    "editable": true,
    "slideshow": {
     "slide_type": "subslide"
    }
   },
   "source": [
    "* Alle Werte in Python haben einen __Datentyp__\n",
    "* der Datentyp bestimmt, wie der Wert interpretiert\n",
    "* der Datentyp bestimmt die für den Wert zur Verfügung stehenden Operationen\n",
    "* Die Funktion `type` liefert den Typ eines Werts zurück"
   ]
  },
  {
   "cell_type": "code",
   "execution_count": 3,
   "metadata": {
    "collapsed": false,
    "deletable": true,
    "editable": true,
    "slideshow": {
     "slide_type": "fragment"
    }
   },
   "outputs": [
    {
     "data": {
      "text/plain": [
       "float"
      ]
     },
     "execution_count": 3,
     "metadata": {},
     "output_type": "execute_result"
    }
   ],
   "source": [
    "type(1.75)"
   ]
  },
  {
   "cell_type": "markdown",
   "metadata": {
    "deletable": true,
    "editable": true,
    "slideshow": {
     "slide_type": "fragment"
    }
   },
   "source": [
    "### Einfache Datentypen\n",
    "\n",
    "<table>\n",
    "<thead>\n",
    "    <tr class=\"header\">\n",
    "        <th align=\"left\">Typisches Literal</th>\n",
    "        <th align=\"left\">Typ</th>\n",
    "        <th align=\"left\">Beschreibung</th>\n",
    "    </tr>\n",
    "</thead>\n",
    "<tbody>\n",
    "    <tr class=\"odd\">\n",
    "        <td align=\"left\"><code>5</code>, <code>-42</code></td>\n",
    "        <td align=\"left\"><code>int</code></td>\n",
    "        <td align=\"left\">Ganze Zahl (<em>Integer</em>)</td>\n",
    "    </tr>\n",
    "    <tr class=\"even\">\n",
    "        <td align=\"left\"><code>5.0</code>, <code>-3.75</code></td>\n",
    "        <td align=\"left\"><code>float</code></td>\n",
    "        <td align=\"left\">Fließkommazahl</td>\n",
    "    </tr>\n",
    "    <tr class=\"odd\">\n",
    "    <td align=\"left\"><code>&quot;Hallo&quot;</code></td>\n",
    "        <td align=\"left\"><code>str</code></td>\n",
    "        <td align=\"left\">Zeichenkette (<em>String</em>)</td>\n",
    "    </tr>\n",
    "    <tr class=\"even\">\n",
    "        <td align=\"left\"><code>True</code>, <code>False</code></td>\n",
    "        <td align=\"left\"><code>bool</code></td>\n",
    "        <td align=\"left\">Wahrheitswert</td>\n",
    "    </tr>\n",
    "</tbody>\n",
    "</table>\n"
   ]
  },
  {
   "cell_type": "code",
   "execution_count": 6,
   "metadata": {
    "collapsed": false,
    "deletable": true,
    "editable": true,
    "slideshow": {
     "slide_type": "fragment"
    }
   },
   "outputs": [
    {
     "data": {
      "text/plain": [
       "False"
      ]
     },
     "execution_count": 6,
     "metadata": {},
     "output_type": "execute_result"
    }
   ],
   "source": [
    "4 == 5"
   ]
  },
  {
   "cell_type": "code",
   "execution_count": 7,
   "metadata": {
    "collapsed": false,
    "deletable": true,
    "editable": true,
    "slideshow": {
     "slide_type": "fragment"
    }
   },
   "outputs": [
    {
     "data": {
      "text/plain": [
       "bool"
      ]
     },
     "execution_count": 7,
     "metadata": {},
     "output_type": "execute_result"
    }
   ],
   "source": [
    "type(4 == 5)"
   ]
  },
  {
   "cell_type": "markdown",
   "metadata": {
    "deletable": true,
    "editable": true,
    "slideshow": {
     "slide_type": "slide"
    }
   },
   "source": [
    "### Übung\n",
    "\n",
    "Bestimmen Sie zu jedem der folgenden Ausdrücke das Ergebnis und seinen Datentyp. Versuchen Sie, den Datentyp vorherzusagen (1) bevor Sie den Ausdruck eingeben (2) nachdem Sie sich das Ergebnis angesehen haben, aber bevor Sie den Typ mit `type()` ermittelt haben.\n",
    "\n",
    "```python\n",
    "3 + 2               # a)\n",
    "\"Hallo \" + \"Welt\"   # b)\n",
    "\"3\" + \"2\"           # c)\n",
    "3 / 2               # d)\n",
    "3 / 3               # e)\n",
    "```"
   ]
  },
  {
   "cell_type": "markdown",
   "metadata": {
    "deletable": true,
    "editable": true,
    "slideshow": {
     "slide_type": "slide"
    }
   },
   "source": [
    "### Strings (Zeichenketten, `str`)"
   ]
  },
  {
   "cell_type": "code",
   "execution_count": 1,
   "metadata": {
    "collapsed": false,
    "deletable": true,
    "editable": true,
    "slideshow": {
     "slide_type": "fragment"
    }
   },
   "outputs": [
    {
     "name": "stdout",
     "output_type": "stream",
     "text": [
      "Verzeichnis:\n",
      "C:\\Programme\\WinPython\n",
      "Zeilenumbrüche macht man mit \\n\n"
     ]
    }
   ],
   "source": [
    "'Hallo Welt!'\n",
    "\"Peter's Pommesbude\"                            # \"…\" oder '…'\n",
    "print(\"Verzeichnis:\\nC:\\\\Programme\\\\WinPython\") # \\<Zeichen> → Spezialbedeutung\n",
    "print(r\"Zeilenumbrüche macht man mit \\n\")       # raw string"
   ]
  },
  {
   "cell_type": "code",
   "execution_count": 2,
   "metadata": {
    "collapsed": false,
    "deletable": true,
    "editable": true,
    "slideshow": {
     "slide_type": "fragment"
    }
   },
   "outputs": [
    {
     "name": "stdout",
     "output_type": "stream",
     "text": [
      "\n",
      "Ein Beispiel\n",
      "------------\n",
      "\n"
     ]
    }
   ],
   "source": [
    "print(\"\"\"\n",
    "Ein Beispiel\n",
    "------------\n",
    "\"\"\")"
   ]
  },
  {
   "cell_type": "markdown",
   "metadata": {
    "deletable": true,
    "editable": true,
    "slideshow": {
     "slide_type": "subslide"
    }
   },
   "source": [
    "#### Operatoren für Strings"
   ]
  },
  {
   "cell_type": "code",
   "execution_count": 4,
   "metadata": {
    "collapsed": false,
    "deletable": true,
    "editable": true,
    "slideshow": {
     "slide_type": "subslide"
    }
   },
   "outputs": [
    {
     "name": "stdout",
     "output_type": "stream",
     "text": [
      "Hallo Welt!\n",
      "Ho Ho Ho \n"
     ]
    }
   ],
   "source": [
    "print(\"Hallo \" + \"Welt!\")\n",
    "print(\"Ho \" * 3)"
   ]
  },
  {
   "cell_type": "code",
   "execution_count": 5,
   "metadata": {
    "collapsed": false,
    "deletable": true,
    "editable": true,
    "slideshow": {
     "slide_type": "fragment"
    }
   },
   "outputs": [
    {
     "name": "stdout",
     "output_type": "stream",
     "text": [
      "5\n"
     ]
    }
   ],
   "source": [
    "print(len(\"Hallo\"))"
   ]
  },
  {
   "cell_type": "markdown",
   "metadata": {
    "deletable": true,
    "editable": true,
    "slideshow": {
     "slide_type": "subslide"
    }
   },
   "source": [
    "### Eingabe\n",
    "\n",
    "* Mit der Funktion `input(meldung)` können Sie eine Eingabe abfragen (und das Ergebnis z.B. in einer Variablen speichern)"
   ]
  },
  {
   "cell_type": "code",
   "execution_count": 9,
   "metadata": {
    "collapsed": false,
    "deletable": true,
    "editable": true,
    "slideshow": {
     "slide_type": "fragment"
    }
   },
   "outputs": [
    {
     "name": "stdout",
     "output_type": "stream",
     "text": [
      "Wie heißt Ihr? Childerich von Bartenbruch\n"
     ]
    }
   ],
   "source": [
    "name = input(\"Wie heißt Du? \")"
   ]
  },
  {
   "cell_type": "markdown",
   "metadata": {
    "deletable": true,
    "editable": true,
    "slideshow": {
     "slide_type": "slide"
    }
   },
   "source": [
    "### Übung\n",
    "\n",
    "1. Fragen Sie den/die Benutzer_in nach dem Namen und grüßen Sie mit »Hallo _Benutzername_!« (oder einer Grußformel Ihrer Wahl)\n",
    "2. Geben Sie die Länge des eingegebenen Namens in Zeichen aus.\n",
    "3. Unterstreichen Sie Ihren Gruß, indem Sie eine geeignete Zahl von Bindestrichen `-` ausgeben."
   ]
  },
  {
   "cell_type": "code",
   "execution_count": 1,
   "metadata": {
    "collapsed": false,
    "deletable": true,
    "editable": true
   },
   "outputs": [
    {
     "name": "stdout",
     "output_type": "stream",
     "text": [
      "Bitte geben Sie Ihren Namen ein: John\n",
      "Hallo John!\n",
      "4\n"
     ]
    }
   ],
   "source": [
    "# 1. Namen erfragen & grüßen\n",
    "user_name = input(\"Bitte geben Sie Ihren Namen ein: \")\n",
    "print(\"Hallo \" + user_name + \"!\")\n",
    "\n",
    "# 2. Länge des Namens\n",
    "print(len(user_name))"
   ]
  },
  {
   "cell_type": "markdown",
   "metadata": {
    "deletable": true,
    "editable": true,
    "slideshow": {
     "slide_type": "slide"
    }
   },
   "source": [
    "## Objekte\n",
    "\n",
    "* Alle Werte in Python sind __Objekte__\n",
    "* Objekte vereinen die eigentlichen Daten und Operationen darauf:"
   ]
  },
  {
   "cell_type": "code",
   "execution_count": 10,
   "metadata": {
    "collapsed": false,
    "deletable": true,
    "editable": true,
    "slideshow": {
     "slide_type": "fragment"
    }
   },
   "outputs": [
    {
     "data": {
      "text/plain": [
       "'HALLO'"
      ]
     },
     "execution_count": 10,
     "metadata": {},
     "output_type": "execute_result"
    }
   ],
   "source": [
    "'Hallo'.upper()"
   ]
  },
  {
   "cell_type": "code",
   "execution_count": 11,
   "metadata": {
    "collapsed": false,
    "deletable": true,
    "editable": true,
    "slideshow": {
     "slide_type": "fragment"
    }
   },
   "outputs": [
    {
     "data": {
      "text/plain": [
       "(3, 8)"
      ]
     },
     "execution_count": 11,
     "metadata": {},
     "output_type": "execute_result"
    }
   ],
   "source": [
    "f = 0.375\n",
    "f.as_integer_ratio()"
   ]
  },
  {
   "cell_type": "markdown",
   "metadata": {
    "deletable": true,
    "editable": true,
    "slideshow": {
     "slide_type": "fragment"
    }
   },
   "source": [
    "* Objekt = Daten + Operationen darauf\n",
    "* **Methoden** sind Funktionen, die Teil eines Objekts sind\n",
    "* `.` = *Attributreferenz* – `foo.bar()` ruft die Methode namens `bar` des Objekts, das in der Veriablen `foo` steht, auf\n",
    "* Konsole: `\"Hallo\".<Tab>`\n",
    "* Konsole: `help(str)`\n",
    "* Der Datentyp eines Objekts heißt auch __Klasse__ (class)"
   ]
  },
  {
   "cell_type": "markdown",
   "metadata": {
    "deletable": true,
    "editable": true,
    "slideshow": {
     "slide_type": "subslide"
    }
   },
   "source": [
    "### Übung\n",
    "\n",
    "Lassen Sie einen Text eingeben und konvertieren Sie das Ergebnis in Kleinbuchstaben."
   ]
  },
  {
   "cell_type": "code",
   "execution_count": 3,
   "metadata": {
    "collapsed": false,
    "deletable": true,
    "editable": true,
    "slideshow": {
     "slide_type": "fragment"
    }
   },
   "outputs": [
    {
     "name": "stdout",
     "output_type": "stream",
     "text": [
      "Was soll ich Ihnen kleinschreiben? Großschreibung ist ÜBERBEWERTET!!!\n",
      "großschreibung ist überbewertet!!!\n"
     ]
    }
   ],
   "source": [
    "text = input(\"Was soll ich Ihnen kleinschreiben? \")\n",
    "print(text.lower())"
   ]
  },
  {
   "cell_type": "markdown",
   "metadata": {
    "deletable": true,
    "editable": true,
    "slideshow": {
     "slide_type": "subslide"
    }
   },
   "source": [
    "### Typkonvertierung\n",
    "\n",
    "* wandelt einen Wert eines Datentyps in einen äquivalenten Wert eines anderen Datentyps (_type casting_)\n",
    "* Python: Jeder Datentyp ist als Funktion aufrufbar _(Konstruktor)_ & erzeugt ein Objekt des Datentyps\n",
    "* ggf. help(datentyp), z.B. `help(int)`, für Hilfe"
   ]
  },
  {
   "cell_type": "code",
   "execution_count": 1,
   "metadata": {
    "collapsed": false,
    "deletable": true,
    "editable": true,
    "slideshow": {
     "slide_type": "fragment"
    }
   },
   "outputs": [
    {
     "name": "stdout",
     "output_type": "stream",
     "text": [
      "<class 'float'>\n"
     ]
    }
   ],
   "source": [
    "a = 1.7\n",
    "print(type(a))        # type(x) gibt den Datentyp von a zurück"
   ]
  },
  {
   "cell_type": "code",
   "execution_count": 2,
   "metadata": {
    "collapsed": false,
    "deletable": true,
    "editable": true,
    "slideshow": {
     "slide_type": "fragment"
    }
   },
   "outputs": [
    {
     "data": {
      "text/plain": [
       "1"
      ]
     },
     "execution_count": 2,
     "metadata": {},
     "output_type": "execute_result"
    }
   ],
   "source": [
    "int(a)               # Achtung: Keine Rundung!"
   ]
  },
  {
   "cell_type": "code",
   "execution_count": 3,
   "metadata": {
    "collapsed": false,
    "deletable": true,
    "editable": true,
    "slideshow": {
     "slide_type": "fragment"
    }
   },
   "outputs": [
    {
     "data": {
      "text/plain": [
       "1.0"
      ]
     },
     "execution_count": 3,
     "metadata": {},
     "output_type": "execute_result"
    }
   ],
   "source": [
    "a = 1\n",
    "float(a)"
   ]
  },
  {
   "cell_type": "code",
   "execution_count": 4,
   "metadata": {
    "collapsed": false,
    "deletable": true,
    "editable": true,
    "slideshow": {
     "slide_type": "fragment"
    }
   },
   "outputs": [
    {
     "data": {
      "text/plain": [
       "1"
      ]
     },
     "execution_count": 4,
     "metadata": {},
     "output_type": "execute_result"
    }
   ],
   "source": [
    "a = \"1\" \n",
    "int(a)"
   ]
  },
  {
   "cell_type": "markdown",
   "metadata": {
    "deletable": true,
    "editable": true,
    "slideshow": {
     "slide_type": "subslide"
    }
   },
   "source": [
    "### Aufgaben\n",
    "\n",
    "1. Weisen Sie der Variablen _a_ den Wert `32` als Fließkommazahl zu. \n",
    "2. Speichern Sie das Ergebnis eines type casting nach Integers in der Variablen b.\n",
    "3. Geben Sie a und b sowie ihre jeweiligen Datentypen aus.\n",
    "4. Gegeben ist: `c = \"hallo\"`.\n",
    "\n",
    "  Verwandeln Sie den Datentyp von `c` in einen Wahrheitswert. \n",
    "  \n",
    "5. Schreiben Sie ein einfaches Additionsprogramm: Fragen Sie vom Benutzer zwei Zahlen ab, geben Sie die Summe aus.\n",
    "6. Was passiert, wenn Sie in Ihr Additionsprogramm statt einer Zahl \"test\" eingeben?"
   ]
  },
  {
   "cell_type": "code",
   "execution_count": 6,
   "metadata": {
    "collapsed": false,
    "deletable": true,
    "editable": true,
    "slideshow": {
     "slide_type": "subslide"
    }
   },
   "outputs": [
    {
     "name": "stdout",
     "output_type": "stream",
     "text": [
      "a: 32.0 Datentyp: <class 'float'>\n",
      "b: 32 Datentyp: <class 'int'>\n"
     ]
    }
   ],
   "source": [
    "# 1. Weisen Sie der Variablen _a_ den Wert `32` als Fließkommazahl zu.\n",
    "a = 32.0\n",
    "# 2. Speichern Sie das Ergebnis eines type casting nach Integers in der Variablen b.\n",
    "b = int(a)\n",
    "# 3. Geben Sie a und b sowie ihre jeweiligen Datentypen aus.\n",
    "print(\"a:\", a, \"Datentyp:\", type(a))\n",
    "print(\"b:\", b, \"Datentyp:\", type(b))\n"
   ]
  },
  {
   "cell_type": "code",
   "execution_count": 8,
   "metadata": {
    "collapsed": false,
    "deletable": true,
    "editable": true,
    "slideshow": {
     "slide_type": "fragment"
    }
   },
   "outputs": [
    {
     "name": "stdout",
     "output_type": "stream",
     "text": [
      "True\n"
     ]
    }
   ],
   "source": [
    "# 4. Gegeben ist: `c = \"hallo\"`. Verwandeln Sie den Datentyp von `c` in einen Wahrheitswert. \n",
    "c = \"hallo\"\n",
    "print(bool(c))"
   ]
  },
  {
   "cell_type": "code",
   "execution_count": 9,
   "metadata": {
    "collapsed": false,
    "deletable": true,
    "editable": true,
    "slideshow": {
     "slide_type": "fragment"
    }
   },
   "outputs": [
    {
     "name": "stdout",
     "output_type": "stream",
     "text": [
      "Manche Werte sind falsch:  False False False\n"
     ]
    }
   ],
   "source": [
    "print(\"Manche Werte sind falsch: \", bool(\"\"), bool(0), bool(0.0))"
   ]
  },
  {
   "cell_type": "markdown",
   "metadata": {
    "deletable": true,
    "editable": true,
    "slideshow": {
     "slide_type": "subslide"
    }
   },
   "source": [
    "5. Schreiben Sie ein einfaches Additionsprogramm: Fragen Sie vom Benutzer zwei Zahlen ab, geben Sie die Summe aus.\n",
    "6. Was passiert, wenn Sie in Ihr Additionsprogramm statt einer Zahl \"test\" eingeben?"
   ]
  },
  {
   "cell_type": "code",
   "execution_count": 12,
   "metadata": {
    "collapsed": false,
    "deletable": true,
    "editable": true,
    "slideshow": {
     "slide_type": "fragment"
    }
   },
   "outputs": [
    {
     "name": "stdout",
     "output_type": "stream",
     "text": [
      "Zahl 1: 17\n",
      "Zahl 2: 4\n",
      "Summe: 21.0\n"
     ]
    }
   ],
   "source": [
    "eingabe_1 = input(\"Zahl 1: \")\n",
    "eingabe_2 = input(\"Zahl 2: \")\n",
    "print(\"Summe:\", float(eingabe_1) + float(eingabe_2))"
   ]
  },
  {
   "cell_type": "code",
   "execution_count": 13,
   "metadata": {
    "collapsed": false,
    "deletable": true,
    "editable": true,
    "slideshow": {
     "slide_type": "subslide"
    }
   },
   "outputs": [
    {
     "name": "stdout",
     "output_type": "stream",
     "text": [
      "Zahl 1: Test\n",
      "Zahl 2: 4\n"
     ]
    },
    {
     "ename": "ValueError",
     "evalue": "could not convert string to float: 'Test'",
     "output_type": "error",
     "traceback": [
      "\u001b[0;31m---------------------------------------------------------------------------\u001b[0m",
      "\u001b[0;31mValueError\u001b[0m                                Traceback (most recent call last)",
      "\u001b[0;32m<ipython-input-13-e41a9f96d64a>\u001b[0m in \u001b[0;36m<module>\u001b[0;34m()\u001b[0m\n\u001b[1;32m      1\u001b[0m \u001b[0meingabe_1\u001b[0m \u001b[0;34m=\u001b[0m \u001b[0minput\u001b[0m\u001b[0;34m(\u001b[0m\u001b[0;34m\"Zahl 1: \"\u001b[0m\u001b[0;34m)\u001b[0m\u001b[0;34m\u001b[0m\u001b[0m\n\u001b[1;32m      2\u001b[0m \u001b[0meingabe_2\u001b[0m \u001b[0;34m=\u001b[0m \u001b[0minput\u001b[0m\u001b[0;34m(\u001b[0m\u001b[0;34m\"Zahl 2: \"\u001b[0m\u001b[0;34m)\u001b[0m\u001b[0;34m\u001b[0m\u001b[0m\n\u001b[0;32m----> 3\u001b[0;31m \u001b[0mprint\u001b[0m\u001b[0;34m(\u001b[0m\u001b[0;34m\"Summe:\"\u001b[0m\u001b[0;34m,\u001b[0m \u001b[0mfloat\u001b[0m\u001b[0;34m(\u001b[0m\u001b[0meingabe_1\u001b[0m\u001b[0;34m)\u001b[0m \u001b[0;34m+\u001b[0m \u001b[0mfloat\u001b[0m\u001b[0;34m(\u001b[0m\u001b[0meingabe_2\u001b[0m\u001b[0;34m)\u001b[0m\u001b[0;34m)\u001b[0m\u001b[0;34m\u001b[0m\u001b[0m\n\u001b[0m",
      "\u001b[0;31mValueError\u001b[0m: could not convert string to float: 'Test'"
     ]
    }
   ],
   "source": [
    "eingabe_1 = input(\"Zahl 1: \")\n",
    "eingabe_2 = input(\"Zahl 2: \")\n",
    "print(\"Summe:\", float(eingabe_1) + float(eingabe_2))"
   ]
  },
  {
   "cell_type": "markdown",
   "metadata": {
    "deletable": true,
    "editable": true,
    "slideshow": {
     "slide_type": "slide"
    }
   },
   "source": [
    "## Funktionen\n",
    "\n",
    "* Wir haben bereits einige Funktionsaufrufe kennengelernt, z.B.:\n",
    "\n",
    "   * `print(\"Hallo\")`\n",
    "   * `print(type(3.75))` ← sogar zwei Funktionsaufrufe in einer Anweisung :-)\n",
    "   \n",
    "* __Funktionen__ fassen bestimmte Aufgaben zusammen, die abgearbeitet werden, wenn die Funktion aufgerufen wird\n",
    "* Funktionen können __Parameter__ (auch __Argumente__ genannt) übergeben bekommen, die ihre Arbeit beeinflussen\n",
    "* Funktionen haben meist einen __Rückgabewert__, der weiterverarbeitet und z. B. einer Variable zugewiesen werden kann\n",
    "\n",
    "![Funktionsaufruf](images/functioncall.svg)"
   ]
  },
  {
   "cell_type": "code",
   "execution_count": 33,
   "metadata": {
    "collapsed": false,
    "deletable": true,
    "editable": true,
    "slideshow": {
     "slide_type": "subslide"
    }
   },
   "outputs": [
    {
     "name": "stdout",
     "output_type": "stream",
     "text": [
      "Help on built-in function round in module builtins:\n",
      "\n",
      "round(...)\n",
      "    round(number[, ndigits]) -> number\n",
      "    \n",
      "    Round a number to a given precision in decimal digits (default 0 digits).\n",
      "    This returns an int when called with one argument, otherwise the\n",
      "    same type as the number. ndigits may be negative.\n",
      "\n"
     ]
    }
   ],
   "source": [
    "help(round)"
   ]
  },
  {
   "cell_type": "code",
   "execution_count": 7,
   "metadata": {
    "collapsed": false,
    "deletable": true,
    "editable": true,
    "slideshow": {
     "slide_type": "fragment"
    }
   },
   "outputs": [
    {
     "name": "stdout",
     "output_type": "stream",
     "text": [
      "1.68\n"
     ]
    }
   ],
   "source": [
    "price = round(1.6789, 2)\n",
    "print(price)"
   ]
  },
  {
   "cell_type": "markdown",
   "metadata": {
    "deletable": true,
    "editable": true,
    "slideshow": {
     "slide_type": "fragment"
    }
   },
   "source": [
    "1. Die Funktion namens `round` wird aufgerufen (wegen der `(…)`). Dabei werden ihr die beiden Parameter `0.6789` und `2` übergeben.\n",
    "2. Die Parameter werden von der Funktion aufgrund der Reihenfolge als `number` und `ndigits` interpretiert\n",
    "3. Die Funktion tut ihr Werk, hier rundet sie `0.6789` auf `2` Nachkommastellen\n",
    "4. Sie gibt das Ergebnis, `0.68`, zurück\n",
    "5. Wir speichern das Ergebnis in der Variable `price`"
   ]
  },
  {
   "cell_type": "markdown",
   "metadata": {
    "deletable": true,
    "editable": true,
    "slideshow": {
     "slide_type": "subslide"
    }
   },
   "source": [
    "### Argumente per Namen angeben"
   ]
  },
  {
   "cell_type": "code",
   "execution_count": 8,
   "metadata": {
    "collapsed": false,
    "deletable": true,
    "editable": true,
    "slideshow": {
     "slide_type": "fragment"
    }
   },
   "outputs": [
    {
     "data": {
      "text/plain": [
       "1.68"
      ]
     },
     "execution_count": 8,
     "metadata": {},
     "output_type": "execute_result"
    }
   ],
   "source": [
    "round(1.6789, ndigits=2)"
   ]
  },
  {
   "cell_type": "markdown",
   "metadata": {
    "deletable": true,
    "editable": true,
    "slideshow": {
     "slide_type": "fragment"
    }
   },
   "source": [
    "### Optionale Argumente"
   ]
  },
  {
   "cell_type": "code",
   "execution_count": 17,
   "metadata": {
    "collapsed": false,
    "deletable": true,
    "editable": true,
    "slideshow": {
     "slide_type": "fragment"
    }
   },
   "outputs": [
    {
     "data": {
      "text/plain": [
       "2"
      ]
     },
     "execution_count": 17,
     "metadata": {},
     "output_type": "execute_result"
    }
   ],
   "source": [
    "round(1.6789)"
   ]
  },
  {
   "cell_type": "markdown",
   "metadata": {
    "deletable": true,
    "editable": true,
    "slideshow": {
     "slide_type": "subslide"
    }
   },
   "source": [
    "### Übung\n",
    "\n",
    "Die print-Funktion nimmt eine flexible Zahl an Argumenten an und gibt die Ergebnisse hintereinander aus.\n",
    "\n",
    "1. Geben Sie drei Zahlen hintereinander aus (mit _einem_ Aufruf der `print`-Funktion)\n",
    "2. Modifizieren Sie den Aufruf oben so, dass die Zahlen durch `\"; \"` (Semikolon + Leerzeichen) getrennt ausgegeben werden. Lesen Sie in der Hilfe (`help(print)`) nach, wie der entsprechende Parameter heißt."
   ]
  },
  {
   "cell_type": "code",
   "execution_count": 36,
   "metadata": {
    "collapsed": false,
    "deletable": true,
    "editable": true,
    "slideshow": {
     "slide_type": "fragment"
    }
   },
   "outputs": [
    {
     "name": "stdout",
     "output_type": "stream",
     "text": [
      "1 2 3\n",
      "1; 2; 3\n"
     ]
    }
   ],
   "source": []
  },
  {
   "cell_type": "markdown",
   "metadata": {
    "deletable": true,
    "editable": true,
    "slideshow": {
     "slide_type": "slide"
    }
   },
   "source": [
    "### Methoden\n",
    "\n",
    "Objekte bringen meist __Methoden__ mit, das sind faktisch Funktionen, die wissen, zu welchem Objekt sie gehören."
   ]
  },
  {
   "cell_type": "code",
   "execution_count": 10,
   "metadata": {
    "collapsed": false,
    "deletable": true,
    "editable": true,
    "slideshow": {
     "slide_type": "subslide"
    }
   },
   "outputs": [
    {
     "data": {
      "text/plain": [
       "'HALLO'"
      ]
     },
     "execution_count": 10,
     "metadata": {},
     "output_type": "execute_result"
    }
   ],
   "source": [
    "\"Hallo\".upper()"
   ]
  },
  {
   "cell_type": "code",
   "execution_count": 11,
   "metadata": {
    "collapsed": false,
    "deletable": true,
    "editable": true,
    "slideshow": {
     "slide_type": "subslide"
    }
   },
   "outputs": [
    {
     "data": {
      "text/plain": [
       "True"
      ]
     },
     "execution_count": 11,
     "metadata": {},
     "output_type": "execute_result"
    }
   ],
   "source": [
    "\"Berlin\".endswith(\"in\")"
   ]
  }
 ],
 "metadata": {
  "celltoolbar": "Slideshow",
  "kernelspec": {
   "display_name": "Python 3",
   "language": "python",
   "name": "python3"
  },
  "language_info": {
   "codemirror_mode": {
    "name": "ipython",
    "version": 3
   },
   "file_extension": ".py",
   "mimetype": "text/x-python",
   "name": "python",
   "nbconvert_exporter": "python",
   "pygments_lexer": "ipython3",
   "version": "3.5.3rc1"
  },
  "livereveal": {
   "height": 768,
   "width": 1024
  },
  "nav_menu": {},
  "toc": {
   "navigate_menu": true,
   "number_sections": false,
   "sideBar": true,
   "threshold": 6,
   "toc_cell": false,
   "toc_section_display": "block",
   "toc_window_display": true
  }
 },
 "nbformat": 4,
 "nbformat_minor": 0
}
