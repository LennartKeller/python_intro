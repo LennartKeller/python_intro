{
 "metadata": {
  "celltoolbar": "Slideshow",
  "name": "",
  "signature": "sha256:d8f17765746190606bb23f31dba3cb878046d7ffe92018ebad4a3eeb5632e428"
 },
 "nbformat": 3,
 "nbformat_minor": 0,
 "worksheets": [
  {
   "cells": [
    {
     "cell_type": "heading",
     "level": 2,
     "metadata": {
      "slideshow": {
       "slide_type": "slide"
      }
     },
     "source": [
      "Einf\u00fchrung in das Programmieren mit Python"
     ]
    },
    {
     "cell_type": "heading",
     "level": 1,
     "metadata": {
      "slideshow": {
       "slide_type": "-"
      }
     },
     "source": [
      "8. Strings bearbeiten mit regul\u00e4ren Ausdr\u00fccken"
     ]
    },
    {
     "cell_type": "markdown",
     "metadata": {
      "slideshow": {
       "slide_type": "slide"
      }
     },
     "source": [
      "## Wiederholung: Dateien und Exceptions\n",
      "* Dateien \u00f6ffnen mit `f = open(\"datei.txt\", \"r\", encoding=\"utf-8\")`\n",
      "* Methoden des Dateiobjekts zum Lesen und Schreiben, z.B. `read()`, `write()`\n",
      "* Iterieren \u00fcber Dateiobjekt zum zeilenweisen Lesen\n",
      "* Dateien immer schlie\u00dfen\n",
      "* `with open(\u2026) as variable:` Automatisches Schlie\u00dfen am Ende des With-Blocks\n",
      "* `try \u2026 except \u2026 else \u2026 finally`: Behandlung von Exceptions\n",
      "* Module `os`, `os.path`, `shutil`: Dateioperationen"
     ]
    },
    {
     "cell_type": "heading",
     "level": 3,
     "metadata": {
      "slideshow": {
       "slide_type": "slide"
      }
     },
     "source": [
      "Musterl\u00f6sung Hausaufgabe 'nl'"
     ]
    },
    {
     "cell_type": "code",
     "collapsed": false,
     "input": [
      "import sys\n",
      "\n",
      "def nl(fin, fout):\n",
      "    \"\"\"\n",
      "    Enumerates lines read from file handle in and writes the result to file\n",
      "    handle out.\n",
      "    \"\"\"\n",
      "    for lineno, line in enumerate(fin, 1):\n",
      "        fout.write(\"{nr:>5} {line}\".format(nr=lineno, line=line))\n",
      "\n",
      "def main(argv):\n",
      "    # Hilfemeldung bei falschen Argumenten:\n",
      "    usage = \"Usage: \" + argv[0] + \" infile [outfile]\"\n",
      "    if len(argv) == 1:\n",
      "        print(usage)\n",
      "        sys.exit(1)\n",
      "    try:\n",
      "        output_file = None  # ... sonst Fehler in except ...\n",
      "        with open(argv[1], \"r\") as input_file:\n",
      "            if len(argv) > 2:\n",
      "                output_file = open(argv[2], \"w\")\n",
      "            else:\n",
      "                output_file = sys.stdout\n",
      "            nl(input_file, output_file)\n",
      "    except FileNotFoundError as e:\n",
      "        print(\"File not found.\", usage, \"\\n\", e)\n",
      "        if output_file and output_file is not sys.stdout:\n",
      "            output_file.close()\n",
      "\n",
      "if __name__ == '__main__':\n",
      "    main(sys.argv)"
     ],
     "language": "python",
     "metadata": {
      "slideshow": {
       "slide_type": "-"
      }
     },
     "outputs": [
      {
       "output_type": "stream",
       "stream": "stdout",
       "text": [
        "File not found. Usage: -c infile [outfile] \n",
        " [Errno 2] No such file or directory: '-f'\n"
       ]
      }
     ],
     "prompt_number": 17
    },
    {
     "cell_type": "markdown",
     "metadata": {
      "slideshow": {
       "slide_type": "slide"
      }
     },
     "source": [
      "### Regul\u00e4re Ausdr\u00fccke\n",
      "\n",
      "* Minisprache zur Beschreibung von Klassen von Zeichenketten\n",
      "* Typische Anwendungen: Suchen, Ersetzen, Aufteilen, Umstellen von Zeichenketten, Extrahieren von Informationen aus Zeichenketten\n",
      "* Beispiel: Literaturangaben in der Digitalen Bibliothek:\n",
      "\n",
      "> Achim von Arnim: S\u00e4mmtliche Werke. Band 16, Berlin 1846\n",
      "\n",
      "* regul\u00e4re Ausdr\u00fccke werden (mit leichten Abweichungen) von allen modernen Programmiersprachen und von allen halbwegs leistungsf\u00e4higen Texteditoren unterst\u00fctzt"
     ]
    },
    {
     "cell_type": "markdown",
     "metadata": {
      "slideshow": {
       "slide_type": "slide"
      }
     },
     "source": [
      "<h3>Einfache Anf\u00e4nge</h3>"
     ]
    },
    {
     "cell_type": "code",
     "collapsed": false,
     "input": [
      "import re  # Modul f\u00fcr Regul\u00e4re Ausdr\u00fccke\n",
      "s = 'todo\\n1. Verordnung 2. \\n2. Befehl II. \\n3. Verweigerung 2. \\n4. Milit\u00e4r 101'\n",
      "print(s)"
     ],
     "language": "python",
     "metadata": {
      "slideshow": {
       "slide_type": "fragment"
      }
     },
     "outputs": [
      {
       "output_type": "stream",
       "stream": "stdout",
       "text": [
        "todo\n",
        "1. Verordnung 2. \n",
        "2. Befehl II. \n",
        "3. Verweigerung 2. \n",
        "4. Milit\u00e4r 101\n"
       ]
      }
     ],
     "prompt_number": 4
    },
    {
     "cell_type": "code",
     "collapsed": false,
     "input": [
      "re.findall(\"Ver\",s) "
     ],
     "language": "python",
     "metadata": {
      "slideshow": {
       "slide_type": "fragment"
      }
     },
     "outputs": [
      {
       "metadata": {},
       "output_type": "pyout",
       "prompt_number": 5,
       "text": [
        "['Ver', 'Ver']"
       ]
      }
     ],
     "prompt_number": 5
    },
    {
     "cell_type": "markdown",
     "metadata": {
      "slideshow": {
       "slide_type": "slide"
      }
     },
     "source": [
      "### Suchen \u2013 Suchen/Ersetzen"
     ]
    },
    {
     "cell_type": "code",
     "collapsed": false,
     "input": [
      "# Zur Erinnerung: einfache Stringsuche\n",
      "\"welt\" in \"hallo welt\""
     ],
     "language": "python",
     "metadata": {
      "slideshow": {
       "slide_type": "fragment"
      }
     },
     "outputs": [
      {
       "metadata": {},
       "output_type": "pyout",
       "prompt_number": 6,
       "text": [
        "True"
       ]
      }
     ],
     "prompt_number": 6
    },
    {
     "cell_type": "code",
     "collapsed": false,
     "input": [
      "#einfache ersetzung\n",
      "\"hallo welt\".replace(\"welt\", \"du\")"
     ],
     "language": "python",
     "metadata": {
      "slideshow": {
       "slide_type": "fragment"
      }
     },
     "outputs": [
      {
       "metadata": {},
       "output_type": "pyout",
       "prompt_number": 7,
       "text": [
        "'hallo du'"
       ]
      }
     ],
     "prompt_number": 7
    },
    {
     "cell_type": "markdown",
     "metadata": {
      "slideshow": {
       "slide_type": "slide"
      }
     },
     "source": [
      "### regul\u00e4re Ausdr\u00fccke anwenden (1)\n",
      "\n",
      "`re.findall(pattern,string)` findet alle Treffer von `pattern` in `string`"
     ]
    },
    {
     "cell_type": "code",
     "collapsed": false,
     "input": [
      "import re\n",
      "re.findall(\"ha\",\"aha, das habe ich mir gedacht.\")"
     ],
     "language": "python",
     "metadata": {
      "slideshow": {
       "slide_type": "fragment"
      }
     },
     "outputs": [
      {
       "metadata": {},
       "output_type": "pyout",
       "prompt_number": 8,
       "text": [
        "['ha', 'ha']"
       ]
      }
     ],
     "prompt_number": 8
    },
    {
     "cell_type": "markdown",
     "metadata": {
      "slideshow": {
       "slide_type": "fragment"
      }
     },
     "source": [
      "`re.sub(pattern,replace,string)` \u2013 **sub**stitute"
     ]
    },
    {
     "cell_type": "code",
     "collapsed": false,
     "input": [
      "re.sub(\"ich\",\"du\",\"ich ich ich - sch\u00f6nes Wort\")"
     ],
     "language": "python",
     "metadata": {
      "slideshow": {
       "slide_type": "fragment"
      }
     },
     "outputs": [
      {
       "metadata": {},
       "output_type": "pyout",
       "prompt_number": 9,
       "text": [
        "'du du du - sch\u00f6nes Wort'"
       ]
      }
     ],
     "prompt_number": 9
    },
    {
     "cell_type": "markdown",
     "metadata": {
      "slideshow": {
       "slide_type": "slide"
      }
     },
     "source": [
      "<h3 style=\"color:green\">Aufgaben</h3>\n",
      "<p>1) Schreiben Sie einen Test, der pr\u00fcft, ob in \u201eAllerleiweile\u201c das Wort \u201aErle\u2018 vorkommt (Gro\u00df-/Kleinschreibung ignorieren)</p>"
     ]
    },
    {
     "cell_type": "markdown",
     "metadata": {
      "slideshow": {
       "slide_type": "slide"
      }
     },
     "source": [
      "<h3>Musterl\u00f6sung</h3>\n",
      "<p>Schreiben Sie einen Test, der pr\u00fcft, ob in \u201eAllerleiweile\u201c das Wort \u201aErle\u2018 vorkommt (Gro\u00df-/Kleinschreibung ignorieren)</p>"
     ]
    },
    {
     "cell_type": "code",
     "collapsed": false,
     "input": [
      "if re.findall(\"erle\", \"Allerleiweile\".lower()):\n",
      "    print(\"found\")"
     ],
     "language": "python",
     "metadata": {
      "slideshow": {
       "slide_type": "fragment"
      }
     },
     "outputs": [
      {
       "output_type": "stream",
       "stream": "stdout",
       "text": [
        "found\n"
       ]
      }
     ],
     "prompt_number": 10
    },
    {
     "cell_type": "markdown",
     "metadata": {
      "slideshow": {
       "slide_type": "slide"
      }
     },
     "source": [
      "### Begrifflichkeiten\n",
      "\n",
      "* Ein Regul\u00e4rer Ausdruck hei\u00dft auch **Pattern**\n",
      "* ein Pattern **matcht** auf einen String (oder eben auch nicht).\n",
      "* `re.findall(pattern, string)` findet alle Teilstrings von `string`, auf die `pattern` matcht."
     ]
    },
    {
     "cell_type": "markdown",
     "metadata": {
      "slideshow": {
       "slide_type": "fragment"
      }
     },
     "source": [
      "### Einfache regul\u00e4re Ausdr\u00fccke\n",
      "\n",
      "* \u00bbnormale\u00ab Zeichen (= keine Metazeichen) matchen sich selbst. `a` matcht `a`.\n",
      "    * _Metazeichen_ sind `. ^ $ * + ? { } [ ] \\ | ( )`, sie k\u00f6nnen gematcht werden, indem man einen `\\` voranstellt \n",
      "* Ein Punkt `.` matcht ein beliebiges Zeichen (au\u00dfer Newline). `.` matcht `a` oder `b` oder \u2026    \n",
      "* Zusammensetzen = Hintereinanderschreiben.\n",
      "    * `abc` matcht \"abc\"\n",
      "    * `H. h. h.` matcht z.B. \"Ha ha ha\" oder \"Ho ho ho\" oder \"He ha hi\""
     ]
    },
    {
     "cell_type": "markdown",
     "metadata": {
      "slideshow": {
       "slide_type": "slide"
      }
     },
     "source": [
      "### Zeichenklassen\n",
      "\n",
      "* `[abc]` matcht ein Zeichen, das `a` oder `b` oder `c` ist.\n",
      "* `[A-Fa-f]` matcht einen der Gro\u00df- oder Kleinbuchstaben von A bis F\n",
      "* `^` am Beginn einer Zeichenklasse invertiert die Klasse:\n",
      "   * `[^0-9]` matcht jedes Zeichen, das _keine_ Ziffer von 0-9 ist\n",
      "* In Zeichenklassen gelten Metazeichen nicht: `[.]` matcht ebenso wie `\\.` einen Punkt"
     ]
    },
    {
     "cell_type": "markdown",
     "metadata": {
      "slideshow": {
       "slide_type": "fragment"
      }
     },
     "source": [
      "#### h\u00e4ufige Zeichenklassen\n",
      "\n",
      "-   `.` jedes Zeichen au\u00dfer neue Zeile (`\\n`)\n",
      "-   `\\d` jede Ziffer, z.B. 1, 4, 0 <br/>\n",
      "    `\\D` jedes Zeichen, das **keine** Ziffer ist.\n",
      "-   `\\s` jedes whitespace-Zeichen, z.B. Leerzeichen, \\n, \\t<br/>\n",
      "    `\\S` jedes Zeichen, das **kein** whitespace ist.\n",
      "-   `\\w` \u00bbIdentifier-Zeichen\u00ab, also Buchstaben, z.B. A g \u00f6 \u00df 4 \u00e9 \u20ac \u03b1 \u0418, Ziffern, Unterstrich _ <br/>\n",
      "    `\\W` jedes Zeichen, das **kein** Identifier-Zeichen ist.\n",
      "\n",
      "Die Definitionen beziehen sich auf die Unicode-Zeicheneigenschaften. Wer Zugriff auf die kompletten Unicode-Properties will, muss das externe Modul _regex_ installieren."
     ]
    },
    {
     "cell_type": "markdown",
     "metadata": {
      "slideshow": {
       "slide_type": "slide"
      }
     },
     "source": [
      "#### Raw Strings\n",
      "* Um ein `\\` zu matchen, ben\u00f6tigen Sie die RE `\\\\`, in einem Python-String `\"\\\\\\\\\"` ...\n",
      "* in einem _raw string_ hat ``\\`` keine Sonderbedeutung\n",
      "* Syntax `r\"\u2026\"` bzw. `r'\u2026'`"
     ]
    },
    {
     "cell_type": "code",
     "collapsed": false,
     "input": [
      "r\"C:\\Windows\", r\"[A-Z]:\\\\[^\\+*/]\""
     ],
     "language": "python",
     "metadata": {
      "slideshow": {
       "slide_type": "-"
      }
     },
     "outputs": [
      {
       "metadata": {},
       "output_type": "pyout",
       "prompt_number": 11,
       "text": [
        "('C:\\\\Windows', '[A-Z]:\\\\\\\\[^\\\\+*/]')"
       ]
      }
     ],
     "prompt_number": 11
    },
    {
     "cell_type": "markdown",
     "metadata": {
      "slideshow": {
       "slide_type": "slide"
      }
     },
     "source": [
      "<h3 style=\"color:green\">Aufgaben</h3>\n",
      "<p>Gegeben ist der String: s = \"1. Ja. 2. Nein. 3. Gut. \"</p>\n",
      "<ol>\n",
      "<li>Finden Sie alle Zahlen in dem String.</li>\n",
      "<li>Finden Sie alle Gro\u00dfbuchstaben in dem String.</li>\n",
      "<li>Finden Sie alle Leerzeichen in dem String.</li>\n",
      "<li>Ersetzen Sie 'Ja' mit 'Yes', 'Nein' mit 'No' und 'Gut' mit 'ok'.</li>\n",
      "</ol>"
     ]
    },
    {
     "cell_type": "markdown",
     "metadata": {
      "slideshow": {
       "slide_type": "subslide"
      }
     },
     "source": [
      "<h3>Musterl\u00f6sung</h3>\n",
      "<p>Gegeben ist der String: s = \"1. Ja. 2. Nein. 3. Gut. \"</p>"
     ]
    },
    {
     "cell_type": "code",
     "collapsed": false,
     "input": [
      "s = \"1. Ja. 2. Nein. 3. Gut. \""
     ],
     "language": "python",
     "metadata": {
      "slideshow": {
       "slide_type": "fragment"
      }
     },
     "outputs": [],
     "prompt_number": 12
    },
    {
     "cell_type": "markdown",
     "metadata": {
      "slideshow": {
       "slide_type": "fragment"
      }
     },
     "source": [
      "<p>Finden Sie alle Zahlen in dem String.</p>"
     ]
    },
    {
     "cell_type": "code",
     "collapsed": false,
     "input": [
      "import re\n",
      "re.findall(r\"\\d\", s)"
     ],
     "language": "python",
     "metadata": {
      "slideshow": {
       "slide_type": "fragment"
      }
     },
     "outputs": [
      {
       "metadata": {},
       "output_type": "pyout",
       "prompt_number": 13,
       "text": [
        "['1', '2', '3']"
       ]
      }
     ],
     "prompt_number": 13
    },
    {
     "cell_type": "markdown",
     "metadata": {
      "slideshow": {
       "slide_type": "slide"
      }
     },
     "source": [
      "<p>Finden Sie alle Gro\u00dfbuchstaben in dem String.</p>"
     ]
    },
    {
     "cell_type": "code",
     "collapsed": false,
     "input": [
      "re.findall(r\"[A-Z\u00c4\u00d6\u00dc]\", s)"
     ],
     "language": "python",
     "metadata": {
      "slideshow": {
       "slide_type": "fragment"
      }
     },
     "outputs": [
      {
       "metadata": {},
       "output_type": "pyout",
       "prompt_number": 14,
       "text": [
        "['J', 'N', 'G']"
       ]
      }
     ],
     "prompt_number": 14
    },
    {
     "cell_type": "markdown",
     "metadata": {
      "slideshow": {
       "slide_type": "fragment"
      }
     },
     "source": [
      "<p>Finden Sie alle Leerzeichen in dem String.</p>"
     ]
    },
    {
     "cell_type": "code",
     "collapsed": false,
     "input": [
      "re.findall(r\"\\s\", s)"
     ],
     "language": "python",
     "metadata": {
      "slideshow": {
       "slide_type": "fragment"
      }
     },
     "outputs": [
      {
       "metadata": {},
       "output_type": "pyout",
       "prompt_number": 15,
       "text": [
        "[' ', ' ', ' ', ' ', ' ', ' ']"
       ]
      }
     ],
     "prompt_number": 15
    },
    {
     "cell_type": "markdown",
     "metadata": {
      "slideshow": {
       "slide_type": "slide"
      }
     },
     "source": [
      "<p>Ersetzen Sie 'Ja' mit 'Yes', 'Nein' mit 'No' und 'Gut' mit 'ok'.</p>"
     ]
    },
    {
     "cell_type": "code",
     "collapsed": false,
     "input": [
      "s = re.sub(r\"Ja\", \"Yes\", s)\n",
      "s = re.sub(r\"Nein\", \"No\", s)\n",
      "re.sub(r\"Gut\", \"ok\", s)"
     ],
     "language": "python",
     "metadata": {
      "slideshow": {
       "slide_type": "fragment"
      }
     },
     "outputs": [
      {
       "metadata": {},
       "output_type": "pyout",
       "prompt_number": 16,
       "text": [
        "'1. Yes. 2. No. 3. ok. '"
       ]
      }
     ],
     "prompt_number": 16
    },
    {
     "cell_type": "markdown",
     "metadata": {
      "slideshow": {
       "slide_type": "slide"
      }
     },
     "source": [
      "### Entwickeln regul\u00e4rer Ausdr\u00fccke"
     ]
    },
    {
     "cell_type": "markdown",
     "metadata": {
      "slideshow": {
       "slide_type": "-"
      }
     },
     "source": [
      "Es gibt Tools, die Ihnen bei der Entwicklung komplexr regul\u00e4rer Ausdr\u00fccke helfen, indem sie die Treffer (und Gruppen, s.u.) eines regul\u00e4ren Ausdrucks in einem Beispielstring direkt beim Bearbeiten des Patterns markieren, z.B.:\n",
      "\n",
      "* [pythex.org](http://pythex.org/) im Web\n",
      "* [redemo.py](https://hg.python.org/cpython/file/3.3/Tools/demo/redemo.py) als lokale Anwendung aus dem Python-Projekt selbst"
     ]
    },
    {
     "cell_type": "markdown",
     "metadata": {
      "slideshow": {
       "slide_type": "slide"
      }
     },
     "source": [
      "### Wiederholungen\n",
      "* `*` matcht auf **0 oder mehr** Wiederholungen des vorherigen Zeichens/Teilausdrucks\n",
      "* `+` matcht auf **1 oder mehr** Wiederholungen des vorherigen Zeichens/Teilausdrucks\n",
      "* `?` matcht auf **0 oder 1** Wiederholungen des vorherigen Zeichens/Teilausdrucks\n",
      "* `{n,m}` matcht auf **n bis m** Wiederholungen des vorherigen Zeichens/Teilausdrucks "
     ]
    },
    {
     "cell_type": "code",
     "collapsed": false,
     "input": [
      "s = \"Ha HaHa Haahaa Hai Hi Ho\"\n",
      "print(\"*\", re.findall(\"H[ai]*\", s))\n",
      "print(\"+\", re.findall(\"H[ai]+\", s))\n",
      "print(\"?\", re.findall(\"H[ai]?\", s))\n",
      "print(\"{2,3}\", re.findall(\"H[ai]{2,3}\", s))"
     ],
     "language": "python",
     "metadata": {
      "slideshow": {
       "slide_type": "fragment"
      }
     },
     "outputs": [
      {
       "output_type": "stream",
       "stream": "stdout",
       "text": [
        "* ['Ha', 'Ha', 'Ha', 'Haa', 'Hai', 'Hi', 'H']\n",
        "+ ['Ha', 'Ha', 'Ha', 'Haa', 'Hai', 'Hi']\n",
        "? ['Ha', 'Ha', 'Ha', 'Ha', 'Ha', 'Hi', 'H']\n",
        "{2,3} ['Haa', 'Hai']\n"
       ]
      }
     ],
     "prompt_number": 34
    },
    {
     "cell_type": "markdown",
     "metadata": {
      "slideshow": {
       "slide_type": "fragment"
      }
     },
     "source": [
      "<h3 style=\"color:green\">Aufgaben</h3>\n",
      "<code>s = 'todo\\n1. Verordnung 2. \\n2. Befehl II. \\n3. Verweigerung 2. \\n4. Milit\u00e4r 101'</code>\n",
      "<p>Suchen Sie in der Liste (ohne todo) alle W\u00f6rter, die 6 Buchstaben oder weniger haben"
     ]
    },
    {
     "cell_type": "markdown",
     "metadata": {
      "slideshow": {
       "slide_type": "slide"
      }
     },
     "source": [
      "<h3>Musterl\u00f6sung</h3>"
     ]
    },
    {
     "cell_type": "markdown",
     "metadata": {
      "slideshow": {
       "slide_type": "fragment"
      }
     },
     "source": [
      "<code>s = ' todo\\n1. Verordnung 2. \\n2. Befehl II. \\n3. Verweigerung 2. \\n4. Milit\u00e4r 101'</code>\n",
      "<p>Suchen Sie in der Liste (ohne todo) alle W\u00f6rter, die 6 Buchstaben oder weniger haben"
     ]
    },
    {
     "cell_type": "code",
     "collapsed": false,
     "input": [
      "s = ' todo\\n1. Verordnung 2. \\n2. Befehl II. \\n3. Verweigerung 2. \\n4. Milit\u00e4r 101'\n",
      "re.findall(r\" \\w{1,6} \", s)"
     ],
     "language": "python",
     "metadata": {
      "slideshow": {
       "slide_type": "fragment"
      }
     },
     "outputs": [
      {
       "metadata": {},
       "output_type": "pyout",
       "prompt_number": 11,
       "text": [
        "[' Befehl ']"
       ]
      }
     ],
     "prompt_number": 11
    },
    {
     "cell_type": "markdown",
     "metadata": {
      "slideshow": {
       "slide_type": "slide"
      }
     },
     "source": [
      "<h3>Positionen / Anker</h3>\n",
      "\u2026 matchen nicht _auf_, sondern _vor/nach/zwischen_ Zeichen\n",
      "<ul>\n",
      "<li>'^' matches the start of the string</li>\n",
      "<li>'$' matches the end of the string</li>\n",
      "<li>'\\b' matches the empty string but only at the beginning or ending of a word <br/>'\\B' matches the empty string but only if it is not at the beginning or ending of a word</li>\n",
      "</ul>\n"
     ]
    },
    {
     "cell_type": "code",
     "collapsed": false,
     "input": [
      "s = \"hallo welt! wie geht es dir?\"\n",
      "re.findall(r\"^\\w+\", s)"
     ],
     "language": "python",
     "metadata": {
      "slideshow": {
       "slide_type": "fragment"
      }
     },
     "outputs": [
      {
       "metadata": {},
       "output_type": "pyout",
       "prompt_number": 19,
       "text": [
        "['hallo']"
       ]
      }
     ],
     "prompt_number": 19
    },
    {
     "cell_type": "code",
     "collapsed": false,
     "input": [
      "re.findall(r\"\\bfoo\\b\", \"foo. (foo) foobar\")"
     ],
     "language": "python",
     "metadata": {
      "slideshow": {
       "slide_type": "fragment"
      }
     },
     "outputs": [
      {
       "metadata": {},
       "output_type": "pyout",
       "prompt_number": 20,
       "text": [
        "['foo', 'foo']"
       ]
      }
     ],
     "prompt_number": 20
    },
    {
     "cell_type": "markdown",
     "metadata": {
      "slideshow": {
       "slide_type": "slide"
      }
     },
     "source": [
      "### Gruppierungen\n",
      "\n",
      "* Runde Klammern um einen Teilausdruck bilden eine **Gruppe**.\n",
      "* Quantoren gelten f\u00fcr die ganze Gruppe -> `(bla)+` matcht `blablabla`\n",
      "* Gruppen k\u00f6nnen separat referenziert werden"
     ]
    },
    {
     "cell_type": "code",
     "collapsed": false,
     "input": [
      "s = \"Sehr geehrte Frau Mustermann,\"\n",
      "m = re.match(\"Sehr geehrter? (.*),\", s)\n",
      "m.groups()"
     ],
     "language": "python",
     "metadata": {
      "slideshow": {
       "slide_type": "fragment"
      }
     },
     "outputs": [
      {
       "metadata": {},
       "output_type": "pyout",
       "prompt_number": 13,
       "text": [
        "('Frau Mustermann',)"
       ]
      }
     ],
     "prompt_number": 13
    },
    {
     "cell_type": "markdown",
     "metadata": {
      "slideshow": {
       "slide_type": "fragment"
      }
     },
     "source": [
      "Gruppen k\u00f6nnen mit `\\1`, `\\2`, ... auch innerhalb des Ausdrucks referenziert werden:\n"
     ]
    },
    {
     "cell_type": "code",
     "collapsed": false,
     "input": [
      "expr = \"n = n + 1; test = test + n; n = test + 1\"\n",
      "simplified = re.sub(r\"(\\w+) = \\1 \\+ (\\w+)\",   # diese RE bildet zwei Gruppen, die in der RE (\\1) \u2026\n",
      "                    r\"\\1 += \\2\",              # und im 'ersetzen'-String (\\1, \\2) referenziert werden\n",
      "                    expr)\n",
      "print(simplified)"
     ],
     "language": "python",
     "metadata": {
      "slideshow": {
       "slide_type": "fragment"
      }
     },
     "outputs": [
      {
       "output_type": "stream",
       "stream": "stdout",
       "text": [
        "n += 1; test += n; n = test + 1\n"
       ]
      }
     ],
     "prompt_number": 18
    },
    {
     "cell_type": "markdown",
     "metadata": {
      "slideshow": {
       "slide_type": "slide"
      }
     },
     "source": [
      "<h3>Greedy vs. Non-Greedy</h3>\n",
      "<p>Voreinstellung: greedy, d.h. das die gr\u00f6\u00dftm\u00f6gliche Zeichenkette gesucht wird, die zum regul\u00e4ren Ausdruck passt.</p>\n",
      "<p>Durch ? nach dem Quantifier Umstellung auf non-greedy</p>"
     ]
    },
    {
     "cell_type": "code",
     "collapsed": false,
     "input": [
      "re.findall(\"b.*t\", \"She booted the robot.\")"
     ],
     "language": "python",
     "metadata": {
      "slideshow": {
       "slide_type": "-"
      }
     },
     "outputs": [
      {
       "metadata": {},
       "output_type": "pyout",
       "prompt_number": 40,
       "text": [
        "['booted the robot']"
       ]
      }
     ],
     "prompt_number": 40
    },
    {
     "cell_type": "code",
     "collapsed": false,
     "input": [
      "re.findall(\"b.*?t\", \"She booted the robot.\")"
     ],
     "language": "python",
     "metadata": {
      "slideshow": {
       "slide_type": "-"
      }
     },
     "outputs": [
      {
       "metadata": {},
       "output_type": "pyout",
       "prompt_number": 41,
       "text": [
        "['boot', 'bot']"
       ]
      }
     ],
     "prompt_number": 41
    },
    {
     "cell_type": "markdown",
     "metadata": {
      "slideshow": {
       "slide_type": "slide"
      }
     },
     "source": [
      "### Oder\n",
      "\n",
      "Mit `|` k\u00f6nnen Sie nach Alternativen suchen:"
     ]
    },
    {
     "cell_type": "code",
     "collapsed": false,
     "input": [
      "for match in re.finditer(r\"(Hai|Krokodil|Piranha)\\w*\", \"Bond sollte schon durch Haibiss, Piranhas und Krokodile sterben.\"):\n",
      "    print(\"Todesursache:\", match.group(0))"
     ],
     "language": "python",
     "metadata": {
      "slideshow": {
       "slide_type": "fragment"
      }
     },
     "outputs": [
      {
       "output_type": "stream",
       "stream": "stdout",
       "text": [
        "Todesursache: Haibiss\n",
        "Todesursache: Piranhas\n",
        "Todesursache: Krokodile\n"
       ]
      }
     ],
     "prompt_number": 44
    },
    {
     "cell_type": "markdown",
     "metadata": {
      "slideshow": {
       "slide_type": "slide"
      }
     },
     "source": [
      "### Regul\u00e4re Ausdr\u00fccke anwenden (2)\n",
      "![\u00dcbersicht \u00fcber das re-Modul](images/re-uebersicht.svg)"
     ]
    },
    {
     "cell_type": "markdown",
     "metadata": {
      "slideshow": {
       "slide_type": "notes"
      }
     },
     "source": [
      "* `re.compile` kompiliert einen regul\u00e4ren Ausdruck zu einem Objekt. Wenn Sie einen regul\u00e4ren Ausdruck oft ben\u00f6tigen (z.B. in einer Schleife), verwenden Sie diese Funktion (au\u00dferhalb der Schleife) und arbeiten mit dem Objekt, das sie zur\u00fcckgibt: das ist schneller.\n",
      "* _Match-Objekte_ beschreiben einen Treffer in einem String genauer: Sie liefern z.B. Zugriff auf die einzelnen Gruppen und auf die genaue Stelle im Suchstring, an der der Ausdruck gematcht hat.\n",
      "* Die Funktionen/Methoden `match` und `search` liefern jeweils ein Match-Objekt: `match` matcht nur am _Beginn_ des Suchstrings, `search` findet den ersten Treffer (ggf. ab einem bestimmten Offset, lesen Sie dazu die Dokumentation zu den Funktionen). `finditer` liefert einen Iterator \u00fcber alle Treffer, jeder Treffer wird als Matchobjekt zur\u00fcckgegeben. Sie k\u00f6nnen dar\u00fcber in einer `for`-Schleife iterieren:"
     ]
    },
    {
     "cell_type": "code",
     "collapsed": false,
     "input": [
      "for match in re.finditer(\"\\d+\", \"Lesen Sie die Kapitel 3 und die Seiten 55-60\"):\n",
      "    print(\"An Position {} steht die Zahl {}.\".format(match.start(), match.group(0)))"
     ],
     "language": "python",
     "metadata": {
      "slideshow": {
       "slide_type": "notes"
      }
     },
     "outputs": [
      {
       "output_type": "stream",
       "stream": "stdout",
       "text": [
        "An Position 22 steht die Zahl 3.\n",
        "An Position 39 steht die Zahl 55.\n",
        "An Position 42 steht die Zahl 60.\n"
       ]
      }
     ],
     "prompt_number": 31
    },
    {
     "cell_type": "markdown",
     "metadata": {
      "slideshow": {
       "slide_type": "notes"
      }
     },
     "source": [
      "* `split` spaltet einen String an einem gegebenen regul\u00e4ren Ausdruck auf, liefert also quasi das Komplement zu `findall`:"
     ]
    },
    {
     "cell_type": "code",
     "collapsed": false,
     "input": [
      "re.split(r'[,.;:!?]+\\s*', 'Hier: Nimm ein paar S\u00e4tze! Zerlegst du sie mir?')"
     ],
     "language": "python",
     "metadata": {
      "slideshow": {
       "slide_type": "notes"
      }
     },
     "outputs": [
      {
       "metadata": {},
       "output_type": "pyout",
       "prompt_number": 33,
       "text": [
        "['Hier', 'Nimm ein paar S\u00e4tze', 'Zerlegst du sie mir', '']"
       ]
      }
     ],
     "prompt_number": 33
    },
    {
     "cell_type": "markdown",
     "metadata": {
      "slideshow": {
       "slide_type": "notes"
      }
     },
     "source": [
      "* mit `escape` k\u00f6nnen Sie alle potentiellen Metazeichen in einem String escapen:"
     ]
    },
    {
     "cell_type": "code",
     "collapsed": false,
     "input": [
      "print(re.escape(\"Sonne, Mond [und] Sterne***\"))"
     ],
     "language": "python",
     "metadata": {
      "slideshow": {
       "slide_type": "notes"
      }
     },
     "outputs": [
      {
       "output_type": "stream",
       "stream": "stdout",
       "text": [
        "Sonne\\,\\ Mond\\ \\[und\\]\\ Sterne\\*\\*\\*\n"
       ]
      }
     ],
     "prompt_number": 35
    },
    {
     "cell_type": "markdown",
     "metadata": {
      "slideshow": {
       "slide_type": "slide"
      }
     },
     "source": [
      "<h3 style=\"color:green\">Aufgaben</h3>\n",
      "<p>s = \"120313130414300312\" \n",
      "<ol>\n",
      "<li>Angenommen es handelt sich hier um drei Datumsangaben in Folge im Format TTMMJJ. Trennen Sie die Angaben durch einen Bindestrich: 120313-130414-300312</li>\n",
      "<li>Bearbeiten Sie den String weiter, so dass nun normale dt. Datumsangaben zu lesen sind: 12.03.13-13.04.14-30.03.12\n",
      "<li>Bearbeiten Sie den String s weiter, so dass am Ende amerikanische Datumsangaben dastehen: 03/12/13-...</li>\n",
      "</ol>"
     ]
    },
    {
     "cell_type": "markdown",
     "metadata": {
      "slideshow": {
       "slide_type": "fragment"
      }
     },
     "source": [
      "<h3 style=\"color: green;\">\u00dcbungsaufgabe</h3>\n",
      "* Schreiben Sie eine Funktion, die s\u00e4mtliches Markup einer XML-Datei entfernt und das Ergebnis als Textdatei speichert. Verwenden Sie eine TEI-Datei aus dem [TextGridRep](https://textgridrep.de/) als Beispiel."
     ]
    }
   ],
   "metadata": {}
  }
 ]
}