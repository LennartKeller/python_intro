{
 "cells": [
  {
   "cell_type": "markdown",
   "metadata": {
    "slideshow": {
     "slide_type": "slide"
    }
   },
   "source": [
    "## Einführen in das Programmieren mit Python"
   ]
  },
  {
   "cell_type": "markdown",
   "metadata": {
    "slideshow": {
     "slide_type": "-"
    }
   },
   "source": [
    "# Datenstrukturen II: Dictionaries"
   ]
  },
  {
   "cell_type": "markdown",
   "metadata": {
    "slideshow": {
     "slide_type": "slide"
    }
   },
   "source": [
    "## Datenstruktur: Liste\n",
    "\n",
    "<img src=\"files/images/liste1.png\" width=\"50%\" height=\"50%\" border=\"0\" alt=\"\">    "
   ]
  },
  {
   "cell_type": "markdown",
   "metadata": {
    "slideshow": {
     "slide_type": "slide"
    }
   },
   "source": [
    "## Datenstruktur Dictionary\n",
    "\n",
    "* Sammlungen von Dateneinheiten\n",
    "* Pro Einheit ein Name (__key__) und ein Inhaltsobjekt (__value__)\n",
    "* schnelles Nachschlagen, wenn der key bekannt ist\n",
    "* __unsortiert__, d.h. die Einheiten liegen nicht in einer bestimmten Reihenfolge vor\n",
    "\n",
    "<img src=\"files/images/dict1.png\" width=\"60%\" height=\"60%\" border=\"0\" alt=\"\"> "
   ]
  },
  {
   "cell_type": "markdown",
   "metadata": {
    "slideshow": {
     "slide_type": "slide"
    }
   },
   "source": [
    "### Dictionaries erzeugen"
   ]
  },
  {
   "cell_type": "code",
   "execution_count": 7,
   "metadata": {
    "slideshow": {
     "slide_type": "fragment"
    }
   },
   "outputs": [
    {
     "data": {
      "text/plain": [
       "{'Goethe': 'Faust. Eine Tragödie',\n",
       " 'Schiller': 'Der Geisterseher',\n",
       " 'Mann': 'Buddenbrooks'}"
      ]
     },
     "execution_count": 7,
     "metadata": {},
     "output_type": "execute_result"
    }
   ],
   "source": [
    "# erzeugt ein Dictionary mit 3 Einträgen. Strings als Key mit Anführungszeichen. \n",
    "# Doppelpunkt zwischen Key und Value. \n",
    "# Geschweifte Klammer als Gesamtmarkierung\n",
    "titles = { \"Goethe\" : \"Faust. Eine Tragödie\",            \n",
    "           \"Schiller\" : \"Der Geisterseher\",\n",
    "           \"Mann\" : \"Buddenbrooks\"\n",
    "         }\n",
    "titles"
   ]
  },
  {
   "cell_type": "code",
   "execution_count": 8,
   "metadata": {
    "slideshow": {
     "slide_type": "fragment"
    }
   },
   "outputs": [
    {
     "data": {
      "text/plain": [
       "{'Goethe': 'Faust. Eine Tragödie',\n",
       " 'Schiller': 'Der Geisterseher',\n",
       " 'Mann': 'Buddenbrooks'}"
      ]
     },
     "execution_count": 8,
     "metadata": {},
     "output_type": "execute_result"
    }
   ],
   "source": [
    "# erzeugt ein Dictionary mit 3 Einträgen. Strings als Key ohne(!) Anführungszeichen. \n",
    "# Istgleich-Zeichen zwischen Key und Value.  \n",
    "titles = dict(Goethe = \"Faust. Eine Tragödie\",               \n",
    "              Schiller = \"Der Geisterseher\",\n",
    "              Mann = \"Buddenbrooks\")\n",
    "titles"
   ]
  },
  {
   "cell_type": "markdown",
   "metadata": {
    "slideshow": {
     "slide_type": "fragment"
    }
   },
   "source": [
    "`dict` als **Konstruktor**funktion, Keys = _Keyword-Argumente_. Das geht nur, wenn die Keys Identifier sind!"
   ]
  },
  {
   "cell_type": "markdown",
   "metadata": {
    "slideshow": {
     "slide_type": "subslide"
    }
   },
   "source": [
    "### Dictionary: Werte setzen"
   ]
  },
  {
   "cell_type": "code",
   "execution_count": 9,
   "metadata": {
    "slideshow": {
     "slide_type": "fragment"
    }
   },
   "outputs": [
    {
     "data": {
      "text/plain": [
       "{'Goethe': 'Faust. Eine Tragödie',\n",
       " 'Schiller': 'Der Geisterseher',\n",
       " 'Mann': 'Buddenbrooks',\n",
       " 'Kafka': 'Der Prozeß'}"
      ]
     },
     "execution_count": 9,
     "metadata": {},
     "output_type": "execute_result"
    }
   ],
   "source": [
    "titles[\"Kafka\"] = \"Der Prozeß\"               # key noch nicht vorhanden? fügt hier weiteren Wert hinzu\n",
    "titles"
   ]
  },
  {
   "cell_type": "code",
   "execution_count": 10,
   "metadata": {
    "slideshow": {
     "slide_type": "fragment"
    }
   },
   "outputs": [
    {
     "data": {
      "text/plain": [
       "{'Goethe': 'Faust. Eine Tragödie',\n",
       " 'Schiller': 'Der Geisterseher',\n",
       " 'Mann': 'Buddenbrooks',\n",
       " 'Kafka': 'Das Schloß'}"
      ]
     },
     "execution_count": 10,
     "metadata": {},
     "output_type": "execute_result"
    }
   ],
   "source": [
    "titles[\"Kafka\"] = \"Das Schloß\"              # key schon vorhanden? value wird ersetzt\n",
    "titles"
   ]
  },
  {
   "cell_type": "markdown",
   "metadata": {
    "slideshow": {
     "slide_type": "subslide"
    }
   },
   "source": [
    "### Dictionaries: keys\n",
    "\n",
    "Keys müssen _hashable_ sein, d.h. vor allem unveränderbar, z.B. Zahlen, Strings etc.    (also keine Listen und keine Dictionaries)"
   ]
  },
  {
   "cell_type": "code",
   "execution_count": 11,
   "metadata": {
    "slideshow": {
     "slide_type": "fragment"
    }
   },
   "outputs": [
    {
     "ename": "TypeError",
     "evalue": "unhashable type: 'list'",
     "output_type": "error",
     "traceback": [
      "\u001b[0;31m---------------------------------------------------------------------------\u001b[0m",
      "\u001b[0;31mTypeError\u001b[0m                                 Traceback (most recent call last)",
      "\u001b[0;32m<ipython-input-11-4cac8cf25076>\u001b[0m in \u001b[0;36m<module>\u001b[0;34m()\u001b[0m\n\u001b[1;32m      4\u001b[0m \u001b[0md\u001b[0m  \u001b[0;34m=\u001b[0m  \u001b[0;34m{\u001b[0m \u001b[0ma\u001b[0m \u001b[0;34m:\u001b[0m \u001b[0;36m1\u001b[0m \u001b[0;34m}\u001b[0m       \u001b[0;31m# dictionary mit int als key\u001b[0m\u001b[0;34m\u001b[0m\u001b[0m\n\u001b[1;32m      5\u001b[0m \u001b[0ma\u001b[0m \u001b[0;34m=\u001b[0m \u001b[0;34m[\u001b[0m\u001b[0;36m1\u001b[0m\u001b[0;34m,\u001b[0m\u001b[0;36m2\u001b[0m\u001b[0;34m,\u001b[0m\u001b[0;36m3\u001b[0m\u001b[0;34m]\u001b[0m\u001b[0;34m\u001b[0m\u001b[0m\n\u001b[0;32m----> 6\u001b[0;31m \u001b[0md\u001b[0m  \u001b[0;34m=\u001b[0m \u001b[0;34m{\u001b[0m \u001b[0ma\u001b[0m \u001b[0;34m:\u001b[0m \u001b[0;36m1\u001b[0m \u001b[0;34m}\u001b[0m        \u001b[0;31m# dictionary mit liste als key erzeugt einen Error\u001b[0m\u001b[0;34m\u001b[0m\u001b[0m\n\u001b[0m",
      "\u001b[0;31mTypeError\u001b[0m: unhashable type: 'list'"
     ]
    }
   ],
   "source": [
    "a = \"hallo\"\n",
    "d  = { a : 1 }        # dictionary mit string als key\n",
    "a = 1\n",
    "d  =  { a : 1 }       # dictionary mit int als key\n",
    "a = [1,2,3]         \n",
    "d  = { a : 1 }        # dictionary mit liste als key erzeugt einen Error"
   ]
  },
  {
   "cell_type": "markdown",
   "metadata": {
    "slideshow": {
     "slide_type": "subslide"
    }
   },
   "source": [
    "### Dictionaries: values\n",
    "<p>Values können beliebige Objekte sein, also wirklich alles (da in Python alles ein Objekt ist)\n"
   ]
  },
  {
   "cell_type": "code",
   "execution_count": 12,
   "metadata": {
    "slideshow": {
     "slide_type": "fragment"
    }
   },
   "outputs": [
    {
     "data": {
      "text/plain": [
       "'hallo'"
      ]
     },
     "execution_count": 12,
     "metadata": {},
     "output_type": "execute_result"
    }
   ],
   "source": [
    "d = { \"a\" : \"hallo\"}              #value ist ein String. \n",
    "d[\"a\"]"
   ]
  },
  {
   "cell_type": "code",
   "execution_count": 13,
   "metadata": {
    "slideshow": {
     "slide_type": "fragment"
    }
   },
   "outputs": [
    {
     "data": {
      "text/plain": [
       "[1, 2, 3, 4]"
      ]
     },
     "execution_count": 13,
     "metadata": {},
     "output_type": "execute_result"
    }
   ],
   "source": [
    "d = { \"a\" : [1,2,3,4] }           #value ist eine Liste \n",
    "d[\"a\"]"
   ]
  },
  {
   "cell_type": "code",
   "execution_count": 14,
   "metadata": {
    "slideshow": {
     "slide_type": "fragment"
    }
   },
   "outputs": [
    {
     "data": {
      "text/plain": [
       "2"
      ]
     },
     "execution_count": 14,
     "metadata": {},
     "output_type": "execute_result"
    }
   ],
   "source": [
    "d[\"a\"][1]"
   ]
  },
  {
   "cell_type": "code",
   "execution_count": 15,
   "metadata": {
    "slideshow": {
     "slide_type": "fragment"
    }
   },
   "outputs": [
    {
     "data": {
      "text/plain": [
       "5"
      ]
     },
     "execution_count": 15,
     "metadata": {},
     "output_type": "execute_result"
    }
   ],
   "source": [
    "d = { \"a\" : len }                  #value ist eine Funktion - eher ungewöhnliche Verwendung\n",
    "d[\"a\"](\"hallo\")"
   ]
  },
  {
   "cell_type": "markdown",
   "metadata": {
    "slideshow": {
     "slide_type": "slide"
    }
   },
   "source": [
    "<h3 style=\"color: green\">Aufgaben</h3>\n",
    "<div style=\"color: green\">\n",
    "<ol>\n",
    "<li>Erzeugen Sie ein Dictionary mit 4 Einträgen, das als Key den Namen eines Landes enthält und als Value die Hauptstadt. Ein Eintrag lautet: Deutschland - Bonn.\n",
    "<li>Fügen sie dem Dictionary einen weiteren Eintrag hinzu: Frankreich - Paris.\n",
    "<li>Geben Sie die Hauptstadt von Deutschland aus.\n",
    "<li>Korrigieren Sie den Eintrag für Deutschland und setzen den value auf 'Berlin'\n",
    "<li>Verwenden Sie ein Dictionary, um ein kleines Telefonbuch anzulegen. Jedem der Namen sind <b>zwei</b> Nummern zugeordnet (Heim, Office): Maria: 555-1234 und 555-9999, Sepp: 555-5678 und 555-8888, Jo: 5555-1526 und 555-7777. \n",
    "<li>Listen Sie aus ihrem Telefonbuch den Heimanschluss für Maria auf.\n",
    "</ol>\n",
    "\n",
    "</div>"
   ]
  },
  {
   "cell_type": "markdown",
   "metadata": {
    "slideshow": {
     "slide_type": "subslide"
    }
   },
   "source": [
    "### Musterlösung"
   ]
  },
  {
   "cell_type": "code",
   "execution_count": 16,
   "metadata": {
    "slideshow": {
     "slide_type": "subslide"
    },
    "solution2": "shown",
    "solution2_first": true
   },
   "outputs": [
    {
     "name": "stdout",
     "output_type": "stream",
     "text": [
      "Die Hauptstadt von Deutschland ist Bonn\n",
      "{'Deutschland': 'Berlin', 'Italien': 'Rom', 'Polen': 'Warschau', 'Schweiz': 'Zürich', 'Frankreich': 'Paris'}\n",
      "Marias Heimanschluss: 555-1234\n"
     ]
    }
   ],
   "source": [
    "# 1. Erzeugen Sie ein Dictionary mit 4 Einträgen, das als Key den Namen eines Landes \n",
    "# enthält und als Value die Hauptstadt. Ein Eintrag lautet: Deutschland - Bonn.\n",
    "capitals = { \"Deutschland\": \"Bonn\", \"Italien\": \"Rom\", \"Polen\": \"Warschau\", \"Schweiz\": \"Zürich\" }\n",
    "# 2. Neuer Eintrag\n",
    "capitals[\"Frankreich\"] = \"Paris\"\n",
    "# 3. Ausgabe\n",
    "print(\"Die Hauptstadt von Deutschland ist\", capitals[\"Deutschland\"])\n",
    "# 4. Korrektur\n",
    "capitals[\"Deutschland\"] = \"Berlin\"\n",
    "print(capitals)\n",
    "# 5. Telefonbuch z.B. so:\n",
    "telefonbuch = { \n",
    "    \"Maria\": { \"Heim\": \"555-1234\", \"Office\": \"555-9999\" },\n",
    "    \"Sepp\":  { \"Heim\": \"555-5678\", \"Office\": \"555-8888\" },\n",
    "    \"Jo\":    { \"Heim\": \"5555-1526\", \"Office\": \"555-7777\" }\n",
    "}\n",
    "print(\"Marias Heimanschluss:\", telefonbuch[\"Maria\"][\"Heim\"])"
   ]
  },
  {
   "cell_type": "markdown",
   "metadata": {
    "slideshow": {
     "slide_type": "subslide"
    },
    "solution2": "shown"
   },
   "source": [
    "In Fällen wie Aufgabe 5 kann man auch _Konstanten_ für die gleichbleibenden technischen Strings `\"Heim\"` und `\"Office\"` verwenden. In diesem Falle bekäme man bei einem Tippfehler eine Fehlermeldung über die undefinierte Variable statt eines unerwarteten Ergebnisses."
   ]
  },
  {
   "cell_type": "code",
   "execution_count": 17,
   "metadata": {
    "slideshow": {
     "slide_type": "fragment"
    },
    "solution2": "shown"
   },
   "outputs": [
    {
     "name": "stdout",
     "output_type": "stream",
     "text": [
      "555-1234\n"
     ]
    }
   ],
   "source": [
    "HOME = \"Heim\"\n",
    "OFFICE = \"Office\"\n",
    "telefonbuch = { \n",
    "    \"Maria\": { HOME: \"555-1234\", OFFICE: \"555-9999\" },\n",
    "    \"Sepp\":  { HOME: \"555-5678\", OFFICE: \"555-8888\" },\n",
    "    \"Jo\":    { HOME: \"5555-1526\", OFFICE: \"555-7777\" }\n",
    "}\n",
    "print(telefonbuch[\"Maria\"][HOME])"
   ]
  },
  {
   "cell_type": "markdown",
   "metadata": {
    "slideshow": {
     "slide_type": "-"
    }
   },
   "source": [
    "Es gibt auch eine für diese Art von Zugriff optimierte Datenstruktur, _named tuples_ aus dem `collections`-Modul."
   ]
  },
  {
   "cell_type": "markdown",
   "metadata": {
    "slideshow": {
     "slide_type": "slide"
    }
   },
   "source": [
    "<h3>Dictionaries: Funktionen</h3>"
   ]
  },
  {
   "cell_type": "markdown",
   "metadata": {
    "slideshow": {
     "slide_type": "fragment"
    }
   },
   "source": [
    "Löschen von Einträgen:"
   ]
  },
  {
   "cell_type": "code",
   "execution_count": 18,
   "metadata": {
    "slideshow": {
     "slide_type": "fragment"
    }
   },
   "outputs": [
    {
     "data": {
      "text/plain": [
       "{'a': 1, 'b': 2}"
      ]
     },
     "execution_count": 18,
     "metadata": {},
     "output_type": "execute_result"
    }
   ],
   "source": [
    "d = {\"a\" : 1, \"b\" : 2 , \"c\" : 5}\n",
    "del d[\"c\"]    # del d[mkey] löscht den Eintrag im Dictionary, der den key mkey hat.\n",
    "d"
   ]
  },
  {
   "cell_type": "code",
   "execution_count": 19,
   "metadata": {
    "slideshow": {
     "slide_type": "fragment"
    }
   },
   "outputs": [
    {
     "data": {
      "text/plain": [
       "dict_keys(['a', 'b'])"
      ]
     },
     "execution_count": 19,
     "metadata": {},
     "output_type": "execute_result"
    }
   ],
   "source": [
    "d.keys()   # gibt die keys des dictionaries d zurück"
   ]
  },
  {
   "cell_type": "code",
   "execution_count": 20,
   "metadata": {
    "slideshow": {
     "slide_type": "fragment"
    }
   },
   "outputs": [
    {
     "data": {
      "text/plain": [
       "dict_keys(['Goethe', 'Schiller', 'Mann', 'Kafka'])"
      ]
     },
     "execution_count": 20,
     "metadata": {},
     "output_type": "execute_result"
    }
   ],
   "source": [
    "titles.keys()"
   ]
  },
  {
   "cell_type": "markdown",
   "metadata": {
    "slideshow": {
     "slide_type": "fragment"
    }
   },
   "source": [
    "Achtung: Dies ist keine Liste, auch wenn es manche ähnlichen Eigenschaften hat."
   ]
  },
  {
   "cell_type": "code",
   "execution_count": 21,
   "metadata": {
    "slideshow": {
     "slide_type": "fragment"
    }
   },
   "outputs": [
    {
     "ename": "TypeError",
     "evalue": "'dict_keys' object does not support indexing",
     "output_type": "error",
     "traceback": [
      "\u001b[0;31m---------------------------------------------------------------------------\u001b[0m",
      "\u001b[0;31mTypeError\u001b[0m                                 Traceback (most recent call last)",
      "\u001b[0;32m<ipython-input-21-8cd970d0989c>\u001b[0m in \u001b[0;36m<module>\u001b[0;34m()\u001b[0m\n\u001b[0;32m----> 1\u001b[0;31m \u001b[0mtitles\u001b[0m\u001b[0;34m.\u001b[0m\u001b[0mkeys\u001b[0m\u001b[0;34m(\u001b[0m\u001b[0;34m)\u001b[0m\u001b[0;34m[\u001b[0m\u001b[0;36m1\u001b[0m\u001b[0;34m]\u001b[0m\u001b[0;34m\u001b[0m\u001b[0m\n\u001b[0m",
      "\u001b[0;31mTypeError\u001b[0m: 'dict_keys' object does not support indexing"
     ]
    }
   ],
   "source": [
    "titles.keys()[1]"
   ]
  },
  {
   "cell_type": "markdown",
   "metadata": {
    "slideshow": {
     "slide_type": "slide"
    }
   },
   "source": [
    "<h3 >Dictionaries: auf Inhalte testen</h3>\n",
    "<p> Mit <code>key in d</code> kann man testen, ob der key in dem Dictionary d enthalten ist. Wenn er vorhanden ist, wird True zurückgegeben, sonst False. \n",
    "<p>Das Gegenstück ist <code>key not in d</code>, das True zurückgibt, wenn der key nicht in dem Dictionary enthalten ist."
   ]
  },
  {
   "cell_type": "code",
   "execution_count": 22,
   "metadata": {
    "slideshow": {
     "slide_type": "fragment"
    }
   },
   "outputs": [
    {
     "data": {
      "text/plain": [
       "True"
      ]
     },
     "execution_count": 22,
     "metadata": {},
     "output_type": "execute_result"
    }
   ],
   "source": [
    "titles = {\"Goethe\": \"Faust. Eine Tragödie\", \"Mann\": \"Buddenbrooks\", \"Schiller\": \"Der Geisterseher\"}\n",
    "\"Mann\" in titles"
   ]
  },
  {
   "cell_type": "code",
   "execution_count": 23,
   "metadata": {
    "slideshow": {
     "slide_type": "fragment"
    }
   },
   "outputs": [
    {
     "data": {
      "text/plain": [
       "True"
      ]
     },
     "execution_count": 23,
     "metadata": {},
     "output_type": "execute_result"
    }
   ],
   "source": [
    "\"Hesse\" not in titles"
   ]
  },
  {
   "cell_type": "markdown",
   "metadata": {
    "slideshow": {
     "slide_type": "slide"
    }
   },
   "source": [
    "### Aufgaben\n",
    "\n",
    "\n",
    "1. Erzeugen Sie eine Liste mit den Ländern aus der Hauptstadtdatenbank von oben.\n",
    "2. Löschen Sie Frankreich aus dem Dictionary.\n",
    "3. Testen Sie, ob Italien in der Hauptstadtliste steht.\n",
    "4. Testen Sie, ob Berlin __als value__ in der Hauptstadtdatenbank steht.<br/>\n",
    "   (Nein, das war noch nicht → benutzen Sie die Python-Mechanismen, um herauszufinden wie das geht)"
   ]
  },
  {
   "cell_type": "code",
   "execution_count": 24,
   "metadata": {
    "slideshow": {
     "slide_type": "subslide"
    }
   },
   "outputs": [
    {
     "data": {
      "text/plain": [
       "['Deutschland', 'Italien', 'Polen', 'Schweiz', 'Frankreich']"
      ]
     },
     "execution_count": 24,
     "metadata": {},
     "output_type": "execute_result"
    }
   ],
   "source": [
    "# 1. Liste der Länder\n",
    "list(capitals.keys())"
   ]
  },
  {
   "cell_type": "code",
   "execution_count": 25,
   "metadata": {
    "slideshow": {
     "slide_type": "fragment"
    }
   },
   "outputs": [
    {
     "data": {
      "text/plain": [
       "{'Deutschland': 'Berlin',\n",
       " 'Italien': 'Rom',\n",
       " 'Polen': 'Warschau',\n",
       " 'Schweiz': 'Zürich'}"
      ]
     },
     "execution_count": 25,
     "metadata": {},
     "output_type": "execute_result"
    }
   ],
   "source": [
    "# 2. Frankreich löschen\n",
    "del capitals[\"Frankreich\"]\n",
    "capitals\n"
   ]
  },
  {
   "cell_type": "code",
   "execution_count": 26,
   "metadata": {
    "slideshow": {
     "slide_type": "fragment"
    }
   },
   "outputs": [
    {
     "data": {
      "text/plain": [
       "True"
      ]
     },
     "execution_count": 26,
     "metadata": {},
     "output_type": "execute_result"
    }
   ],
   "source": [
    "# 3. Italien vorhanden?\n",
    "\"Italien\" in capitals"
   ]
  },
  {
   "cell_type": "code",
   "execution_count": 27,
   "metadata": {
    "slideshow": {
     "slide_type": "fragment"
    }
   },
   "outputs": [
    {
     "data": {
      "text/plain": [
       "True"
      ]
     },
     "execution_count": 27,
     "metadata": {},
     "output_type": "execute_result"
    }
   ],
   "source": [
    "# 4. Berlin vorhanden?\n",
    "\"Berlin\" in capitals.values()"
   ]
  },
  {
   "cell_type": "markdown",
   "metadata": {
    "slideshow": {
     "slide_type": "slide"
    }
   },
   "source": [
    "### Iterieren über Dictionaries\n",
    "\n",
    "Dictionaries können selbstverständlich auch in Schleifen verwendet werden:"
   ]
  },
  {
   "cell_type": "code",
   "execution_count": 28,
   "metadata": {
    "slideshow": {
     "slide_type": "fragment"
    }
   },
   "outputs": [
    {
     "name": "stdout",
     "output_type": "stream",
     "text": [
      "Goethe schrieb Faust. Eine Tragödie\n",
      "Mann schrieb Buddenbrooks\n",
      "Schiller schrieb Der Geisterseher\n"
     ]
    }
   ],
   "source": [
    "for author in titles.keys():\n",
    "    print(author, \"schrieb\", titles[author])"
   ]
  },
  {
   "cell_type": "markdown",
   "metadata": {
    "slideshow": {
     "slide_type": "subslide"
    }
   },
   "source": [
    "Da man _meistens_ die keys gemeint sind, kann man `.keys()` hier auch weglassen:"
   ]
  },
  {
   "cell_type": "code",
   "execution_count": 29,
   "metadata": {
    "slideshow": {
     "slide_type": "-"
    }
   },
   "outputs": [
    {
     "name": "stdout",
     "output_type": "stream",
     "text": [
      "Goethe schrieb Faust. Eine Tragödie\n",
      "Mann schrieb Buddenbrooks\n",
      "Schiller schrieb Der Geisterseher\n"
     ]
    }
   ],
   "source": [
    "for author in titles:\n",
    "    print(author, \"schrieb\", titles[author])"
   ]
  },
  {
   "cell_type": "markdown",
   "metadata": {
    "slideshow": {
     "slide_type": "subslide"
    }
   },
   "source": [
    "Es gibt noch einen dritten, eleganten Weg, die gleiche Schleife zu schreiben:"
   ]
  },
  {
   "cell_type": "code",
   "execution_count": 30,
   "metadata": {
    "slideshow": {
     "slide_type": "fragment"
    }
   },
   "outputs": [
    {
     "name": "stdout",
     "output_type": "stream",
     "text": [
      "Goethe schrieb Faust. Eine Tragödie\n",
      "Mann schrieb Buddenbrooks\n",
      "Schiller schrieb Der Geisterseher\n"
     ]
    }
   ],
   "source": [
    "for author, title in titles.items():\n",
    "    print(author, \"schrieb\", title)"
   ]
  },
  {
   "cell_type": "markdown",
   "metadata": {
    "slideshow": {
     "slide_type": "subslide"
    }
   },
   "source": [
    "Wieso funktioniert das? \n",
    "\n",
    "Die `items()`-Methode eines Dictionaries gibt eine Sequenz von Key-Value-Paaren eines Dictionaries zurück:"
   ]
  },
  {
   "cell_type": "code",
   "execution_count": 31,
   "metadata": {
    "slideshow": {
     "slide_type": "fragment"
    }
   },
   "outputs": [
    {
     "data": {
      "text/plain": [
       "[('Goethe', 'Faust. Eine Tragödie'),\n",
       " ('Mann', 'Buddenbrooks'),\n",
       " ('Schiller', 'Der Geisterseher')]"
      ]
     },
     "execution_count": 31,
     "metadata": {},
     "output_type": "execute_result"
    }
   ],
   "source": [
    "list(titles.items())"
   ]
  },
  {
   "cell_type": "markdown",
   "metadata": {
    "slideshow": {
     "slide_type": "fragment"
    }
   },
   "source": [
    "Jeder Eintrag in dieser Liste ist ein __Tupel__, eine Art unveränderliche Liste. Steht auf der rechten Seite einer Zuweisung ein Tupel mit $n$ Elementen, so kann man auf der linken Seite $n$ Variablen hinschreiben:"
   ]
  },
  {
   "cell_type": "code",
   "execution_count": 32,
   "metadata": {
    "slideshow": {
     "slide_type": "fragment"
    }
   },
   "outputs": [
    {
     "name": "stdout",
     "output_type": "stream",
     "text": [
      "17\n",
      "4\n"
     ]
    }
   ],
   "source": [
    "a, b = (17, 4)\n",
    "print(a)\n",
    "print(b)"
   ]
  },
  {
   "cell_type": "markdown",
   "metadata": {
    "slideshow": {
     "slide_type": "fragment"
    }
   },
   "source": [
    "In einer for-Schleife funktioniert das entsprechend:"
   ]
  },
  {
   "cell_type": "code",
   "execution_count": 33,
   "metadata": {
    "slideshow": {
     "slide_type": "fragment"
    }
   },
   "outputs": [
    {
     "name": "stdout",
     "output_type": "stream",
     "text": [
      "Goethe schrieb Faust. Eine Tragödie\n",
      "Mann schrieb Buddenbrooks\n",
      "Schiller schrieb Der Geisterseher\n"
     ]
    }
   ],
   "source": [
    "for author, title in titles.items():\n",
    "    print(author, \"schrieb\", title)"
   ]
  },
  {
   "cell_type": "markdown",
   "metadata": {
    "slideshow": {
     "slide_type": "slide"
    }
   },
   "source": [
    "### Übung zu Schleifen und Dictionaries\n",
    "\n",
    "1. Geben Sie für jede Hauptstadt-Land-Zuordnung einen Satz _x ist die Hauptstadt von y_ aus.\n",
    "2. Wie 1., aber alphabetisch sortiert nach Land.\n",
    "3. für den u.a. Beispieltext: Zerlegen Sie den Text mit `split()` in Wörter und zählen Sie, wie oft jedes Wort vorkommt. Ignorieren Sie dabei Groß- und Kleinschreibung."
   ]
  },
  {
   "cell_type": "code",
   "execution_count": 34,
   "metadata": {
    "slideshow": {
     "slide_type": "-"
    }
   },
   "outputs": [],
   "source": [
    "text = \"\"\"O Tannenbaum, o Tannenbaum,\n",
    "wie treu sind deine Blätter!\n",
    "Du grünst nicht nur zur Sommerzeit,\n",
    "nein, auch im Winter, wenn es schneit.\n",
    "O Tannenbaum, o Tannenbaum,\n",
    "wie treu sind deine Blätter!\"\"\""
   ]
  },
  {
   "cell_type": "code",
   "execution_count": 35,
   "metadata": {
    "slideshow": {
     "slide_type": "subslide"
    }
   },
   "outputs": [
    {
     "name": "stdout",
     "output_type": "stream",
     "text": [
      "Berlin ist die Hauptstadt von Deutschland\n",
      "Rom ist die Hauptstadt von Italien\n",
      "Warschau ist die Hauptstadt von Polen\n",
      "Zürich ist die Hauptstadt von Schweiz\n"
     ]
    }
   ],
   "source": [
    "# 1.\n",
    "for country in capitals:\n",
    "    print(capitals[country], \"ist die Hauptstadt von\", country)"
   ]
  },
  {
   "cell_type": "code",
   "execution_count": 36,
   "metadata": {
    "slideshow": {
     "slide_type": "fragment"
    }
   },
   "outputs": [
    {
     "name": "stdout",
     "output_type": "stream",
     "text": [
      "Berlin ist die Hauptstadt von Deutschland\n",
      "Rom ist die Hauptstadt von Italien\n",
      "Warschau ist die Hauptstadt von Polen\n",
      "Zürich ist die Hauptstadt von Schweiz\n"
     ]
    }
   ],
   "source": [
    "# 2.\n",
    "for country in sorted(capitals):\n",
    "    print(capitals[country], \"ist die Hauptstadt von\", country)"
   ]
  },
  {
   "cell_type": "code",
   "execution_count": 37,
   "metadata": {
    "slideshow": {
     "slide_type": "subslide"
    }
   },
   "outputs": [
    {
     "name": "stdout",
     "output_type": "stream",
     "text": [
      "auch\t1\n",
      "blätter!\t2\n",
      "deine\t2\n",
      "du\t1\n",
      "es\t1\n",
      "grünst\t1\n",
      "im\t1\n",
      "nein,\t1\n",
      "nicht\t1\n",
      "nur\t1\n",
      "o\t4\n",
      "schneit.\t1\n",
      "sind\t2\n",
      "sommerzeit,\t1\n",
      "tannenbaum,\t4\n",
      "treu\t2\n",
      "wenn\t1\n",
      "wie\t2\n",
      "winter,\t1\n",
      "zur\t1\n"
     ]
    }
   ],
   "source": [
    "# 3.\n",
    "# Kleinschreibung und Zerlegen:\n",
    "words = text.lower().split()\n",
    "\n",
    "# Häufigkeiten zählen:\n",
    "freqs = {}             # Sammeln in diesem Dictionary\n",
    "for word in words:     \n",
    "    if word in freqs:\n",
    "        freqs[word] += 1\n",
    "    else:              # Wort zum 1. Mal gesehen\n",
    "        freqs[word] = 1\n",
    "\n",
    "for word in sorted(freqs):\n",
    "    print(word, freqs[word], sep=\"\\t\")"
   ]
  },
  {
   "cell_type": "markdown",
   "metadata": {
    "slideshow": {
     "slide_type": "slide"
    }
   },
   "source": [
    "### Listen oder Dictionaries?\n",
    "\n",
    "* Listen:\n",
    "\n",
    "    * Reihenfolge relevant\n",
    "    * vollständiges Durchlaufen der Liste\n",
    "    * mehrfach vorkommende Einträge\n",
    "    * Zugriff per Position\n",
    "    * Finden von Einträgen nach Inhalt teuer\n",
    "    \n",
    "* Dictionaries:\n",
    "\n",
    "    * Effizienter Zugriff über ein Zugriffskriterium, den _Schlüssel_\n",
    "    * jeder Schlüssel kommt nur einmal vor"
   ]
  },
  {
   "cell_type": "markdown",
   "metadata": {
    "slideshow": {
     "slide_type": "slide"
    }
   },
   "source": [
    "### weitere Datenstrukturen\n",
    "\n",
    "* Tupel (`tuple`): `(17, 4)` – wie Listen, aber unveränderlich\n",
    "* Mengen: (`set`) `{1, 4, 8}` – wie Dictionaries ohne Values: Veränderlich, jedes Element nur einmal, effizientes `element in menge`\n",
    "* unveränderliche Mengen: `frozenset`\n",
    "* Modul `collections`: z.B. mit\n",
    "\n",
    "   * `defaultdict` – Standardwert, falls `d['something']` abgefragt wird, aber kein Key `'something'` vorhanden ist\n",
    "   * `OrderedDict` – Dictionary, das die Reihenfolge wahrt\n",
    "   * `Counter` – Dictionary _Eintrag -> Anzahl_, d.h. zählt wie oft unterschiedliche Objekte vorkommen\n",
    "   * `namedtuple` – Tupel mit benannten Feldernei"
   ]
  },
  {
   "cell_type": "markdown",
   "metadata": {
    "slideshow": {
     "slide_type": "skip"
    }
   },
   "source": [
    "## Listen und Dictionaries\n",
    "\n",
    "Listen und Dictionaries enthalten üblicherweise (aber nicht zwingend!) immer Elemente des gleichen Typs, so dass alle Elemente gleich verarbeitet werden können. Welche Datenstruktur für welche Aufgabe besser geeignet ist, ergibt sich aus der Art der Verarbeitung. Listen sind hervorragend geeignet, wenn alle ihre Elemente durchlaufen werden sollen, um alle oder einige (evtl. von Bedingungen) zu bearbeiten. Da Listen ihre Struktur behalten, also die Elemente immer in der gleichen Folge vorliegen, sind sie auch besonders geeignet, wenn die Reihenfolge der Elemente eine Rolle spielt. \n",
    "\n",
    "Dictionaries sind besonders geeignet, wenn der bevorzugte Zugriff auf die Elemente nicht über eine einfache Positionsinformation geschehen soll wie bei der Liste, sondern über ein anderes Zugriffskriterium (Schlüssel). \n",
    "\n",
    "Sie werden noch viele weitere Datenstrukturen kennenlernen und auch lernen, eigene zu konstruieren. Machen Sie sich immer klar, welche Datenstruktur für die zu lösende Aufgabe notwendig ist. Denken Sie über ihr Programm nach, indem sie sich fragen, wie Ihre Daten in der natürlichen Welt strukturiert sind, und wie Sie sie im Programm erzeugen und zugreifen wollen."
   ]
  },
  {
   "cell_type": "markdown",
   "metadata": {
    "slideshow": {
     "slide_type": "slide"
    }
   },
   "source": [
    "## Wie funktionieren Dictionaries (und Mengen)?\n",
    "\n",
    "* Ein Dictionary enthält (je nach Größe) eine bestimmte Menge von _slots_, Speicherstellen, die durchnummeriert sind. z.B. 16 Slots.\n",
    "* Soll ein Eintrag in ein Dictionary gespeichert werden, so wird aus dem Key eine Prüfsumme (_hash_) berechnet.\n",
    "* Aus dieser Prüfsumme wird nun ein Teil herausgeschnitten, der einen der Slots bestimmt: Bei $16 = 2^4$ Slots also 4 Bit. Der daraus berechnete Slot wird gewählt:\n",
    "\n",
    "   * Ist der Slot noch frei, so wird der neue Wert dort gespeichert.\n",
    "   * Ist der Slot belegt und der dort abgelegte Key ist gleich dem Key, der abgelegt werden soll, so wird der Wert in dem Slot ersetzt.\n",
    "   * Ansonsten liegt eine Kollision vor. In diesem Fall wird aus der Prüfsumme eine neue Slotposition errechnet und es wird erneut versucht, den Wert dort abzulegen\n",
    "   \n",
    "* Ist ein bestimmter \"Füllstand\" des Dictionaries (⅔) erreicht, wird es vergrößert "
   ]
  }
 ],
 "metadata": {
  "celltoolbar": "Slideshow",
  "kernelspec": {
   "display_name": "Python 3",
   "language": "python",
   "name": "python3"
  },
  "language_info": {
   "codemirror_mode": {
    "name": "ipython",
    "version": 3
   },
   "file_extension": ".py",
   "mimetype": "text/x-python",
   "name": "python",
   "nbconvert_exporter": "python",
   "pygments_lexer": "ipython3",
   "version": "3.6.7"
  },
  "livereveal": {
   "height": 768,
   "width": 1024
  },
  "toc": {
   "navigate_menu": true,
   "number_sections": false,
   "sideBar": true,
   "threshold": 6,
   "toc_cell": false,
   "toc_section_display": "block",
   "toc_window_display": true
  }
 },
 "nbformat": 4,
 "nbformat_minor": 1
}
