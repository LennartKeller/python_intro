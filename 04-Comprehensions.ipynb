{
 "cells": [
  {
   "cell_type": "markdown",
   "metadata": {},
   "source": [
    "### Programmieren in Python\n",
    "\n",
    "## Comprehensions & Co"
   ]
  },
  {
   "cell_type": "markdown",
   "metadata": {
    "slideshow": {
     "slide_type": "slide"
    }
   },
   "source": [
    "### Übungsaufgabe\n",
    "\n",
    "Eine einfache Möglichkeit, eine Textdatei einzulesen, bietet das `Path`-Objekt aus dem Modul `pathlib`. Das müssen wir zunächst importieren, um es benutzen zu können:"
   ]
  },
  {
   "cell_type": "code",
   "execution_count": 1,
   "metadata": {
    "slideshow": {
     "slide_type": "-"
    }
   },
   "outputs": [],
   "source": [
    "from pathlib import Path"
   ]
  },
  {
   "cell_type": "markdown",
   "metadata": {
    "slideshow": {
     "slide_type": "-"
    }
   },
   "source": [
    "`Path`-Objekte repräsentieren Datei- oder Ordnernamen und verfügen über zahlreiche Methoden zum Handling, z.B. eine zum Einlesen einer Textdatei:"
   ]
  },
  {
   "cell_type": "code",
   "execution_count": 2,
   "metadata": {
    "slideshow": {
     "slide_type": "-"
    }
   },
   "outputs": [],
   "source": [
    "text = Path('Fontane-Theodor_Effi Briest.txt').read_text(encoding='utf-8')"
   ]
  },
  {
   "cell_type": "markdown",
   "metadata": {
    "slideshow": {
     "slide_type": "-"
    }
   },
   "source": [
    "Erzeugen Sie eine Worthäufigkeitstabelle für 'Effi Briest'. \n",
    "\n",
    "Zerlegen Sie dazu zunächst den Text an Leerraum in Tokens und entfernen Sie von jedem Token noch außen anklebende Satzzeichen (`.,:;»«!?/()`). Recherchieren Sie ggf. benötigte Methoden von `str`. Erzeugen Sie dann eine geeignete Datenstruktur, füllen Sie sie und beantworten Sie mit dem Ergebnis, wie häufig die Wortformen _und_ und _Innstetten_ vorkommen."
   ]
  },
  {
   "cell_type": "markdown",
   "metadata": {
    "slideshow": {
     "slide_type": "subslide"
    }
   },
   "source": [
    "#### Beispiellösung"
   ]
  },
  {
   "cell_type": "code",
   "execution_count": 3,
   "metadata": {
    "slideshow": {
     "slide_type": "-"
    }
   },
   "outputs": [
    {
     "name": "stdout",
     "output_type": "stream",
     "text": [
      "3407 und,  251 Innstetten\n"
     ]
    }
   ],
   "source": [
    "from pathlib import Path\n",
    "text = Path('Fontane-Theodor_Effi Briest.txt').read_text(encoding='utf-8')\n",
    "freqs = {}\n",
    "for token in text.split():\n",
    "    cleaned_token = token.strip('.,:;»«!?/()')\n",
    "    if token in freqs:\n",
    "        freqs[token] += 1\n",
    "    else:\n",
    "        freqs[token] = 1\n",
    "        \n",
    "print(freqs['und'], 'und, ', freqs['Innstetten'], 'Innstetten')"
   ]
  },
  {
   "cell_type": "markdown",
   "metadata": {
    "slideshow": {
     "slide_type": "slide"
    }
   },
   "source": [
    "### Zahlensequenzen: Range und Enumerate\n",
    "\n",
    "Häufig benötigt man eine Sequenz von Zahlen.\n",
    "\n",
    "* _Fragen Sie 10 Wörter ab_ \n",
    "* _Führen Sie eine Berechnung mit den 100, 200, …, 2000 häufigsten Wörtern durch_\n",
    "\n",
    "```python\n",
    "range(stop)                  # → 0, 1, 2, ..., stop-1\n",
    "range(start, stop[, step])   # → start, start+step, start+2*step, …, größter Wert < stop\n",
    "```"
   ]
  },
  {
   "cell_type": "code",
   "execution_count": 4,
   "metadata": {
    "slideshow": {
     "slide_type": "fragment"
    }
   },
   "outputs": [
    {
     "name": "stdout",
     "output_type": "stream",
     "text": [
      "range(0, 17)\n"
     ]
    }
   ],
   "source": [
    "print(range(17))"
   ]
  },
  {
   "cell_type": "code",
   "execution_count": 5,
   "metadata": {
    "slideshow": {
     "slide_type": "fragment"
    }
   },
   "outputs": [
    {
     "name": "stdout",
     "output_type": "stream",
     "text": [
      "[0, 1, 2, 3, 4, 5, 6, 7, 8, 9, 10, 11, 12, 13, 14, 15, 16]\n"
     ]
    }
   ],
   "source": [
    "print(list(range(17)))"
   ]
  },
  {
   "cell_type": "markdown",
   "metadata": {
    "slideshow": {
     "slide_type": "subslide"
    }
   },
   "source": [
    "### enumerate\n",
    "\n",
    "`enumerate(Liste [, start=0])` gibt für jedes Listenelement ein Tupel aus Index und Listenelement zurück."
   ]
  },
  {
   "cell_type": "code",
   "execution_count": 6,
   "metadata": {
    "slideshow": {
     "slide_type": "fragment"
    }
   },
   "outputs": [
    {
     "data": {
      "text/plain": [
       "[(0, 'Müller'), (1, 'Meier'), (2, 'Lehmann'), (3, 'Krause')]"
      ]
     },
     "execution_count": 6,
     "metadata": {},
     "output_type": "execute_result"
    }
   ],
   "source": [
    "platzierung = ['Müller', 'Meier', 'Lehmann', 'Krause']\n",
    "list(enumerate(platzierung))"
   ]
  },
  {
   "cell_type": "markdown",
   "metadata": {
    "slideshow": {
     "slide_type": "fragment"
    }
   },
   "source": [
    "#### Aufgabe\n",
    "\n",
    "Die Liste beschreibe die Rangliste bei einem Wettbewerb. Geben Sie jeden Platz mit dem entsprechenden Namen aus:\n",
    "\n",
    "    1. Platz: Müller\n",
    "    2. Platz: Meier       usw.\n",
    "\n",
    "Implementieren Sie das zweimal, einmal mit `range`, einmal mit `enumerate`."
   ]
  },
  {
   "cell_type": "markdown",
   "metadata": {
    "slideshow": {
     "slide_type": "subslide"
    }
   },
   "source": [
    "#### Aufgabe\n",
    "\n",
    "Die Liste beschreibe die Rangliste bei einem Wettbewerb. Geben Sie jeden Platz mit dem entsprechenden Namen aus:\n",
    "\n",
    "    1. Platz: Müller\n",
    "    2. Platz: Meier      usw.\n",
    "\n",
    "Implementieren Sie das zweimal, einmal mit `range`, einmal mit `enumerate`."
   ]
  },
  {
   "cell_type": "code",
   "execution_count": 7,
   "metadata": {
    "slideshow": {
     "slide_type": "fragment"
    }
   },
   "outputs": [
    {
     "name": "stdout",
     "output_type": "stream",
     "text": [
      "1. Platz: Müller\n",
      "2. Platz: Meier\n",
      "3. Platz: Lehmann\n",
      "4. Platz: Krause\n"
     ]
    }
   ],
   "source": [
    "for platz in range(len(platzierung)):\n",
    "    print(f\"{platz+1}. Platz: {platzierung[platz]}\")"
   ]
  },
  {
   "cell_type": "code",
   "execution_count": 8,
   "metadata": {
    "slideshow": {
     "slide_type": "fragment"
    }
   },
   "outputs": [
    {
     "name": "stdout",
     "output_type": "stream",
     "text": [
      "1. Platz: Müller\n",
      "2. Platz: Meier\n",
      "3. Platz: Lehmann\n",
      "4. Platz: Krause\n"
     ]
    }
   ],
   "source": [
    "for platz, name in enumerate(platzierung, start=1):\n",
    "    print(f\"{platz}. Platz: {name}\")"
   ]
  },
  {
   "cell_type": "markdown",
   "metadata": {
    "slideshow": {
     "slide_type": "slide"
    }
   },
   "source": [
    "### Comprehensions"
   ]
  },
  {
   "cell_type": "markdown",
   "metadata": {
    "slideshow": {
     "slide_type": "-"
    }
   },
   "source": [
    "* Häufige Aufgabe: Transformationen einer Liste etc.\n",
    "* Beispiel: Menge aller Quadratzahlen zu Basen < 10\n",
    "* Schreibweise aus der Mathematik: $Q = \\{ n^2 \\mid n \\in \\mathbb{N} \\}$"
   ]
  },
  {
   "cell_type": "code",
   "execution_count": 9,
   "metadata": {
    "slideshow": {
     "slide_type": "-"
    }
   },
   "outputs": [
    {
     "name": "stdout",
     "output_type": "stream",
     "text": [
      "[0, 1, 2, 3, 4, 5, 6, 7, 8, 9]\n"
     ]
    }
   ],
   "source": [
    "zahlen = list(range(10))\n",
    "print(zahlen)"
   ]
  },
  {
   "cell_type": "code",
   "execution_count": 10,
   "metadata": {
    "slideshow": {
     "slide_type": "-"
    }
   },
   "outputs": [
    {
     "name": "stdout",
     "output_type": "stream",
     "text": [
      "[0, 1, 4, 9, 16, 25, 36, 49, 64, 81]\n"
     ]
    }
   ],
   "source": [
    "quadratzahlen = [n**2 for n in range(10)]\n",
    "print(quadratzahlen)"
   ]
  },
  {
   "cell_type": "markdown",
   "metadata": {
    "slideshow": {
     "slide_type": "subslide"
    }
   },
   "source": [
    "### List Comprehensions\n",
    "\n",
    "> _neue Liste_ = `[` _Ausdruck mit Laufvariable_ `for` _Laufvariable_ `in` _Sequenz_ `]`\n",
    "\n",
    "erzeugt eine neue Liste, bei der jedes Element der ursprünglichen Sequenz entsprechend des Ausdrucks verwandelt wurde.\n",
    "\n",
    "Statt"
   ]
  },
  {
   "cell_type": "code",
   "execution_count": 11,
   "metadata": {
    "slideshow": {
     "slide_type": "-"
    }
   },
   "outputs": [],
   "source": [
    "clean_tokens = []\n",
    "for token in text.split():\n",
    "    clean_tokens.append(token.strip('.,:;!?»«()'))"
   ]
  },
  {
   "cell_type": "markdown",
   "metadata": {
    "slideshow": {
     "slide_type": "-"
    }
   },
   "source": [
    "in einer Zeile:"
   ]
  },
  {
   "cell_type": "code",
   "execution_count": 12,
   "metadata": {
    "slideshow": {
     "slide_type": "-"
    }
   },
   "outputs": [],
   "source": [
    "clean_tokens = [token.strip('.,:;!=«»()') for token in text.split()]"
   ]
  },
  {
   "cell_type": "markdown",
   "metadata": {
    "slideshow": {
     "slide_type": "fragment"
    }
   },
   "source": [
    "### Übung\n",
    "\n",
    "Sei `sentence = 'Dies ist ein schnöder Test'.split()` eine Sequenz von Wörtern. Erzeugen Sie eine Liste der Wortlängen."
   ]
  },
  {
   "cell_type": "code",
   "execution_count": 13,
   "metadata": {
    "slideshow": {
     "slide_type": "subslide"
    }
   },
   "outputs": [
    {
     "name": "stdout",
     "output_type": "stream",
     "text": [
      "[4, 3, 3, 8, 4]\n"
     ]
    }
   ],
   "source": [
    "sentence = 'Dies ist ein schnöder Test'.split()\n",
    "wordlengths = [len(word) for word in sentence]\n",
    "print(wordlengths)"
   ]
  },
  {
   "cell_type": "markdown",
   "metadata": {
    "slideshow": {
     "slide_type": "subslide"
    }
   },
   "source": [
    "### Filter\n",
    "\n",
    "Mit `if Bedingung` können Sie in einer List Comprehension nur diejenigen Elemente übernehmen, für die die Bedingung gilt. z.B. nur Quadratzahlen von _geraden_ Zahlen:"
   ]
  },
  {
   "cell_type": "code",
   "execution_count": 14,
   "metadata": {
    "slideshow": {
     "slide_type": "-"
    }
   },
   "outputs": [
    {
     "name": "stdout",
     "output_type": "stream",
     "text": [
      "[0, 4, 16, 36, 64, 100, 144, 196, 256, 324]\n"
     ]
    }
   ],
   "source": [
    "print([n**2 for n in range(20) if n % 2 == 0])"
   ]
  },
  {
   "cell_type": "markdown",
   "metadata": {
    "slideshow": {
     "slide_type": "fragment"
    }
   },
   "source": [
    "__Aufgabe__ Erzeugen Sie eine Liste aller Tokens in Effi Briest, die einen Bindestrich enthalten."
   ]
  },
  {
   "cell_type": "code",
   "execution_count": 15,
   "metadata": {
    "slideshow": {
     "slide_type": "subslide"
    }
   },
   "outputs": [
    {
     "name": "stdout",
     "output_type": "stream",
     "text": [
      "['Hohen-Cremmen', 'Park-', 'Hohen-Cremmener', 'Heil-', 'zwei-', 'Hohen-Cremmen', 'Hohen-Crem', 'Haus-', 'Familien-Du', 'Pfarr-', 'Ausstattungs-und', 'Wirtschafts-', 'scherz-', 'Alexander-Regiment', 'Hohen-Cremmen', 'Hohen-Cremmen', 'Fritz-Reuter-Passion', '-zu', 'Leinen-', 'Trommel-', 'Respekts-', 'Hohen-Cremmer', 'Strumpfband-Austanzens', 'St.-Privat-Panoramas', 'Klein-Tantow', 'Klein-Tantow', 'See-', 'Maschinen-', 'Hohen-Cremmen', 'St.-Privat-Panorama', 'Wohn-', 'Morgen-', 'Hohen-Cremmen', 'Hohen-Cremmener', 'Hohen-Cremmen', 'zurück-', 'Aus-', 'Vorder-', 'Hohen-Cremmen', 'Morgen-', 'Preziosa-Name', 'Hohen-Cremmen', 'Napoleons-Neffe', 'Umgangs-', 'Tanganjika-See', 'Hohen-Cremmen', 'Hohen-Cremmen', 'Hohen-Cremmner', 'Hohen-Cremmner', 'Baldrian-', 'Sofa-Ehrenplatz', 'Einrichtungs-und', 'Trippelli-Abend', 'Hohen-Cremmen', 'Puls-', 'zwei-', 'Hohen-Cremmen', 'Hohen-Cremmen', 'Alten-Weiber-Unsinn', 'Sich-behaglich-Fühlen', 'Ausrufungs-', 'durch-', 'Hohen-Cremmen', 'Wagner-Schwärmer', 'Trippelli-Abend', 'Hohen-Cremmen', 'Trost-', 'Schwedisch-Pommern', 'Boot-', 'Buchen-', 'Lieb-', 'Hohen-Cremmen', 'Lütt-Annie', 'Klein-Annie', 'Hohen-Cremmen', 'Ressourcen-Hotel', 'Spätnachmittags-Dampfer', 'Hohen-Cremmen', 'Hohen-Cremmen', 'Hohen-Cremmer', 'Hohen-Cremmen', 'Stadt-', 'Hohen-Cremmen', 'Hohen-Cremmen', 'ernst-', 'Lütt-Annie', 'Kriegs-und', 'Hohen-Cremmen', 'Calatrava-Ritter', 'Calatrava-Ritter', 'Calatrava-Ritter', 'Calatrava-Ritter', 'Kriegs-', 'Calatrava-Ritter', 'Calatrava-Ritter', 'Hohen-Cremmen', 'Hohen-Cremmner', 'Nettelbeck-Bild', 'ab-', 'wehmütig-freudig', 'wendisch-heidnischen', 'christlich-germanische', 'Stall-', 'Hohen-Cremmen', 'Kavallerie-Garnison', 'Friedrichstraßen-Bahnhofe', 'Landgrafen-', 'Hohen-Cremmen', 'Hohen-Cremmen', 'ihret-', 'Hohen-Cremmen', 'Korso-Allee', 'Friedrich-Wilhelms-Straße', 'Hohen-Cremmen', 'Kies-', 'Thorwaldsen-Museum', 'Tivoli-Theater', 'Hohen-Cremmen', 'Hohen-Cremmen', 'Alles-wissen-Wollen', 'Hohen-Cremmen', 'Hohen-Cremmen', 'seinet-', 'unbegreiflicher-', 'Hohen-Cremmener', 'Klein-Annie', 'Aussterbe-Etat', 'Hautefinance-Kinder', 'Märchen-', 'Nicht-Schönheit', 'Gesellschafts-Etwas', 'Hohen-Cremmen', 'Hohen-Cremmen', 'drei-', 'Hohen-Cremmen', 'Hohen-Cremmen', 'Sieben-Uhr-Zuge', 'Vorder-', 'Rheumatismus-', 'Prinz-Albrechtschen', 'Keith-', 'Hohen-Cremmen', 'Aus-', 'Seegras-Sofa', 'Donnerstag-Essen', 'Hohen-Cremmen', 'Hohen-Cremmen', 'Aquatinta-Manier', 'Handlungs-', 'Prinz-Albrechtschen', 'Ananas-', 'Hohen-Cremmen', 'Hohen-Cremmen', 'Hohen-Cremmen', 'Preciosa-Spanier', 'Hohen-Cremmen', 'Liebes-und', 'Schwedisch-Pommern', 'Wenden-Lagerplatz', 'Auf-', 'Schlaf-', 'Hohen-Cremmen', 'Hohen-Cremmen', 'Sich-in-Szene-Setzen', 'Im-Urwald-Umherkriechen', 'Raps-']\n"
     ]
    }
   ],
   "source": [
    "print([token for token in clean_tokens if '-' in token])"
   ]
  },
  {
   "cell_type": "markdown",
   "metadata": {
    "slideshow": {
     "slide_type": "subslide"
    }
   },
   "source": [
    "#### List Comprehensions: Mehrere Iterationen\n",
    "\n",
    "Eine List Comprehension kann mehrere for-Klauseln enthalten:"
   ]
  },
  {
   "cell_type": "code",
   "execution_count": 16,
   "metadata": {
    "slideshow": {
     "slide_type": "-"
    }
   },
   "outputs": [
    {
     "data": {
      "text/plain": [
       "[5, 4, 3, 3, 4, 4, 3, 6, 3, 5, 3, 6, 3, 10]"
      ]
     },
     "execution_count": 16,
     "metadata": {},
     "output_type": "execute_result"
    }
   ],
   "source": [
    "poem = [\"Meine Ruh' ist hin\",\n",
    "        \"Mein Herz ist schwer\",\n",
    "        \"Ich finde sie nimmer\",\n",
    "        \"Und nimmermehr\"]\n",
    "word_lengths = [len(word) for verse in poem \n",
    "                          for word in verse.split()]\n",
    "word_lengths"
   ]
  },
  {
   "cell_type": "markdown",
   "metadata": {
    "slideshow": {
     "slide_type": "subslide"
    }
   },
   "source": [
    "### Dictionary- und Set Comprehensions\n",
    "\n",
    "Dictionaries und Mengen können analog erzeugt werden:"
   ]
  },
  {
   "cell_type": "code",
   "execution_count": 17,
   "metadata": {
    "slideshow": {
     "slide_type": "-"
    }
   },
   "outputs": [],
   "source": [
    "word_lengths = {word: len(word) for word in \"Ich bin ein Satz\".split()}"
   ]
  },
  {
   "cell_type": "code",
   "execution_count": 18,
   "metadata": {
    "slideshow": {
     "slide_type": "-"
    }
   },
   "outputs": [],
   "source": [
    "distinct_words = {word.strip('.,:;!?»«()') for word in text.lower().split()}"
   ]
  },
  {
   "cell_type": "markdown",
   "metadata": {
    "slideshow": {
     "slide_type": "slide"
    }
   },
   "source": [
    "### Funktionen für _Iterables_"
   ]
  },
  {
   "cell_type": "markdown",
   "metadata": {
    "slideshow": {
     "slide_type": "-"
    }
   },
   "source": [
    "* Alles, was in einer for-Schleife verwendet werden kann, heißt _Iterable_ (= Listen, Mengen, Tupel, Dictionaries (Keys), …)\n",
    "* Eine Reihe von eingebauten Funktionen können Listen(artiges) zusammenfassen:\n",
    "\n",
    "\n",
    "| Funktion | Beschreibung   |\n",
    "| :------------------------ | :------------------------------------ |\n",
    "| `sum(iterable, start=0)` | Summe, verknüpft die Elemente mit `+`  |\n",
    "| `min(iterable, [default=obj, key=function])` | liefert das kleinste Element |\n",
    "| `max(iterable, [default=obj, key=function])` | liefert das größte Element |\n",
    "| `any(iterable)` | `True` gdw. mindestens ein Element trueish ist |\n",
    "| `all(iterable)` | `True` gdw. alle Elemente trueish sind |"
   ]
  },
  {
   "cell_type": "markdown",
   "metadata": {
    "slideshow": {
     "slide_type": "subslide"
    }
   },
   "source": [
    "### Neue Listen aus _Iterables_\n",
    "\n",
    "* Eine Reihe von eingebauten Funktionen erzeugt neue Listen aus Iterables:\n",
    "\n",
    "| Funktion | Beschreibung |\n",
    "| :------- | :----------  |\n",
    "| `list(iterable)`  | erzeugt eine Liste |\n",
    "| `sorted(iterable, [key=function])` | erzeugt eine sortierte Liste |\n",
    "| `reversed(iterable)` | dreht die Reihenfolge um | "
   ]
  },
  {
   "cell_type": "markdown",
   "metadata": {
    "slideshow": {
     "slide_type": "subslide"
    }
   },
   "source": [
    "### Aufgabe\n",
    "\n",
    "Gegeben sei eine Tabelle mit absoluten Worthäufigkeiten, z.B. `freqs = {\"dies\": 2, \"ist\": 2, \"ein\": 1, \"beispiel\": 2, \"kein\": 1}`. Erzeugen Sie daraus eine Tabelle mit relativen Worthäufigkeiten (also: Welcher Anteil der Wörter im Text ist _dies_?)."
   ]
  },
  {
   "cell_type": "code",
   "execution_count": 19,
   "metadata": {
    "slideshow": {
     "slide_type": "fragment"
    }
   },
   "outputs": [
    {
     "name": "stdout",
     "output_type": "stream",
     "text": [
      "{'dies': 0.25, 'ist': 0.25, 'ein': 0.125, 'beispiel': 0.25, 'kein': 0.125}\n"
     ]
    }
   ],
   "source": [
    "freqs = {\"dies\": 2, \"ist\": 2, \"ein\": 1, \"beispiel\": 2, \"kein\": 1}\n",
    "n_words = sum(freqs.values())\n",
    "rel_freqs = {word: freq / n_words for word, freq in freqs.items()}\n",
    "print(rel_freqs)"
   ]
  },
  {
   "cell_type": "markdown",
   "metadata": {
    "slideshow": {
     "slide_type": "slide"
    }
   },
   "source": [
    "### `collections`-Modul\n",
    "\n",
    "Weitere Datenstrukturen gibt’s im Modul [`collections`](https://docs.python.org/3/library/collections.html)"
   ]
  },
  {
   "cell_type": "code",
   "execution_count": 20,
   "metadata": {
    "slideshow": {
     "slide_type": "-"
    }
   },
   "outputs": [],
   "source": [
    "import collections\n",
    "\n",
    "freqs = collections.defaultdict(int)\n",
    "freqs['und'] += 1"
   ]
  },
  {
   "cell_type": "code",
   "execution_count": 1,
   "metadata": {
    "slideshow": {
     "slide_type": "fragment"
    }
   },
   "outputs": [
    {
     "data": {
      "text/plain": [
       "[('to', 2), ('be', 2), ('or', 1), ('not', 1)]"
      ]
     },
     "execution_count": 1,
     "metadata": {},
     "output_type": "execute_result"
    }
   ],
   "source": [
    "from collections import Counter\n",
    "freqs = Counter(\"to be or not to be\".split())\n",
    "freqs.most_common()"
   ]
  },
  {
   "cell_type": "markdown",
   "metadata": {
    "slideshow": {
     "slide_type": "skip"
    }
   },
   "source": [
    "### Hausaufgabe\n",
    "\n",
    "In dieser Aufgabe erheben Sie Daten (in diesem Falle die schon öfters geübten Worthäufigkeiten), bearbeiten die dann weiter und rechnen einfache statistische Werte darauf aus. Lassen Sie sich nicht von der mathematischen Notation irritieren: Sowas werden Sie in der Literatur öfters finden ☺.\n",
    "\n",
    "Für die folgende Aufgabe arbeiten Sie nach Möglichkeit mit Comprehensions. Verwenden Sie nach Bedarf Variablen für zusätzliche sinnvolle Zwischenergebnisse, Ihre Abgabe sollte jedoch mindestens das Ergebnis jeder Teilaufgabe in einer Variablen festhalten. Bitte verwenden Sie sprechende Variablennamen, die sich an den [Python-Konventionen](https://www.python.org/dev/peps/pep-0008/) orientieren (kleinbuchstaben mit `_` als Worttrenner)\n",
    "\n",
    "1. Erstellen Sie eine Tabelle der absoluten Worthäufigkeiten der angehängten Textdatei. Dazu zerlegen Sie die Textdatei in Tokens, entfernen den Tokens anhaftende Satzzeichen, und zählen, wie oft jede unterschiedliche Wortform _(Type)_ vorkommt. Ob Sie das Zählen selbst übernehmen oder passende Strukturen aus der Standardbibliothek zuhilfenehmen ist Ihnen überlassen.\n",
    "2. Ermitteln Sie die Anzahl der Tokens  und die der Types (= der _unterschiedlichen_ Tokens). \n",
    "3. Erzeugen Sie eine Tabelle der _relativen_ Häufigkeiten. Selbstkontrolle: `sum(rel_freqs.values())` muss `1.0` sein.\n",
    "4. Berechnen Sie das arithmetische Mittel der relativen Worthäufigkeiten: $\\mu = \\frac{1}{n} \\sum_{i=1}^n f_i$ für die relativen Häufigkeiten $f_1, \\dotsc, f_n$ ($n$ ist die Anzahl der unterschiedlichen Wortformen aus Aufgabe 1.)\n",
    "5. Berechnen Sie die (korrigierte) Stichprobenvarianz. Sie ist die mittlere quadratische Abweichung der Werte vom Mittelwert: $\\sigma^2 = \\frac{1}{n-1} \\sum_{i=1}^n (f_i - \\mu)^2$. Durch das Quadrieren der einzelnen Summanden wird man das Vorzeichen los, man teilt die Summe meist durch die Anzahl der Werte - 1 ($n-1$), da durch die Verwendung des Mittelwerts ein Freiheitsgrad verlorengeht.\n",
    "6. Ein sprechenderer Wert als die Varianz ist die _Standardabweichung_, das ist einfach die Quadratwurzel aus der Varianz: $\\sigma = \\sqrt{\\sigma^2}$. Die Standardabweichung ist in der selben Dimension wie die einzelnen Werte oder das arithmetische Mittel. Berechnen Sie sie. Sie können dazu die Funktion `sqrt` aus dem Modul `math` der Standardbibliothek importieren.\n",
    "\n",
    "Geben Sie Mittelwert und Standardabweichung aus.\n",
    "\n",
    "\n",
    "> __Zum Summenzeichen $\\sum$__: Wenn $\\mathbf{x} = (x_1, x_2, \\dotsc, x_n)$ eine Liste von $n$ Werten ist, dann ist $\\sum_{i = 1}^n x_i$ einfach die Summe dieser Werte, d.h. $x_1 + x_2 + \\dotsm + x_n$. Also z.B. $\\mathbf{x} = (5, 7, 2, 9)$, dann ist $n = 4$ und $\\sum_{i = 1}^{n} x_i = 5 + 7 + 2 + 9 = 23$. Hinter dem Summenzeichen können auch z.B. Formeln stehen: z.B. heißt $\\sum_{i=1}^{n} \\frac{1}{x_i}$, dass Sie für jedes $x_i$ zunächst $\\frac{1}{x_i}$  ausrechnen und die Ergebnisse dann aufsummieren, im Beispiel: $\\frac{1}{5} + \\frac{1}{7} + \\frac{1}{2} + \\frac{1}{9}$.\n",
    ">\n",
    "> Eine solche Summe können Sie als `for`-Schleife implementieren oder eleganter als Comprehension mit `sum`, z.B. hier für $\\sum \\frac{1}{x_i}$ `result = sum([1/x_i for x_i in x])`.\n",
    "\n",
    "Reichen Sie über die Abgabe-Funktion in WueCampus ein fehlerfreies, lauffähiges Python-Skript ein, das die Aufgaben löst (und nichts sonst). Das Ergebnis jeder Teilaufgabe sollte in einer Variablen stehen. Verwenden Sie sprechende Variablennamen. Schreiben Sie bei Rückfragen an mich, oder benutzen Sie das Diskussionsforum im WueCampus-Kursraum. \n",
    "\n",
    "Sie können alternativ auch ein Jupyter-Notebook abgeben. Achten Sie darauf, dass das Notebook durchläuft – Rufen Sie aus dem Menü _Kernel_ die Option _Restart and run all_ auf und schauen Sie, dass keine Fehler dabei auftreten.\n",
    "\n",
    "Wenn Sie die Aufgabe in einer Kleingruppe lösen wollen, gehen Sie am besten wie folgt vor:\n",
    "\n",
    "1. jede\\*r versucht zunächst, die Aufgabe allein zu lösen\n",
    "2. Sie besprechen gemeinsam die Probleme und entwickeln eine gemeinsame Lösung\n",
    "3. Danach programmiert jede\\*r nochmal individuell die Lösung nach, ohne dabei die gemeinsame Lösung anzuschauen\n",
    "\n",
    "Bitte geben Sie keine »verschleierten« Gruppenlösungen ab (Variablen umbenennen etc.), das merk ich eh.\n",
    "\n",
    "Viel Erfolg!"
   ]
  },
  {
   "cell_type": "markdown",
   "metadata": {
    "slideshow": {
     "slide_type": "slide"
    }
   },
   "source": [
    "### Generator Comprehensions"
   ]
  },
  {
   "cell_type": "markdown",
   "metadata": {
    "slideshow": {
     "slide_type": "-"
    }
   },
   "source": [
    "* Eine List Comprehension wie z.B. `[x**2 for x in range(10)]` erzeugt eine ausformulierte Liste.\n",
    "* `range(100000000)` erzeugt _keine_ ausformulierte Liste, erst bei der Iteration oder bei `list(range(10000000))` werden die Items erzeugt.\n",
    "* Oft ist es gar nicht notwendig, alles auszuformulieren.\n",
    "\n",
    "_Sei `text` ein String. Gibt es darin ein Wort, das länger als 20 Zeichen ist?_"
   ]
  },
  {
   "cell_type": "code",
   "execution_count": 22,
   "metadata": {
    "slideshow": {
     "slide_type": "fragment"
    }
   },
   "outputs": [
    {
     "data": {
      "text/plain": [
       "True"
      ]
     },
     "execution_count": 22,
     "metadata": {},
     "output_type": "execute_result"
    }
   ],
   "source": [
    "any([len(token) > 20 for token in clean_tokens])"
   ]
  },
  {
   "cell_type": "markdown",
   "metadata": {
    "slideshow": {
     "slide_type": "fragment"
    }
   },
   "source": [
    "… führt dazu, dass zunächst für _jedes_ Wort `len(token) > 20` ausgerechnet wird, diese Liste der `False`- und `True`-Werte wird `any` übergeben und von any durchgegangen wird, bis das erste `True` gefunden wird."
   ]
  },
  {
   "cell_type": "code",
   "execution_count": 23,
   "metadata": {
    "slideshow": {
     "slide_type": "fragment"
    }
   },
   "outputs": [
    {
     "data": {
      "text/plain": [
       "<generator object <genexpr> at 0x7fa83a641c80>"
      ]
     },
     "execution_count": 23,
     "metadata": {},
     "output_type": "execute_result"
    }
   ],
   "source": [
    "(len(token) > 20 for token in clean_tokens)"
   ]
  },
  {
   "cell_type": "markdown",
   "metadata": {
    "slideshow": {
     "slide_type": "subslide"
    }
   },
   "source": [
    "__generator expressions__: Analog zu `range`, `len(token) > 20` wird erst ausgerechnet, wenn es (bei der Iteration) abgerufen wird."
   ]
  },
  {
   "cell_type": "code",
   "execution_count": 24,
   "metadata": {
    "slideshow": {
     "slide_type": "-"
    }
   },
   "outputs": [
    {
     "data": {
      "text/plain": [
       "True"
      ]
     },
     "execution_count": 24,
     "metadata": {},
     "output_type": "execute_result"
    }
   ],
   "source": [
    "any((len(token) > 20 for token in clean_tokens))"
   ]
  },
  {
   "cell_type": "markdown",
   "metadata": {
    "slideshow": {
     "slide_type": "-"
    }
   },
   "source": [
    "Oft kann man die runden Klammern weglassen:"
   ]
  },
  {
   "cell_type": "code",
   "execution_count": 25,
   "metadata": {
    "slideshow": {
     "slide_type": "-"
    }
   },
   "outputs": [
    {
     "data": {
      "text/plain": [
       "True"
      ]
     },
     "execution_count": 25,
     "metadata": {},
     "output_type": "execute_result"
    }
   ],
   "source": [
    "any(len(token) > 20 for token in clean_tokens)"
   ]
  }
 ],
 "metadata": {
  "celltoolbar": "Slideshow",
  "kernelspec": {
   "display_name": "py3.8",
   "language": "python",
   "name": "py3.8"
  },
  "language_info": {
   "codemirror_mode": {
    "name": "ipython",
    "version": 3
   },
   "file_extension": ".py",
   "mimetype": "text/x-python",
   "name": "python",
   "nbconvert_exporter": "python",
   "pygments_lexer": "ipython3",
   "version": "3.8.0"
  }
 },
 "nbformat": 4,
 "nbformat_minor": 2
}
