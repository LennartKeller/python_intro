{
 "metadata": {
  "name": ""
 },
 "nbformat": 3,
 "nbformat_minor": 0,
 "worksheets": [
  {
   "cells": [
    {
     "cell_type": "heading",
     "level": 1,
     "metadata": {
      "slideshow": {
       "slide_type": "slide"
      }
     },
     "source": [
      "Programmieren mit Python: 6. Sitzung - Input/Output"
     ]
    },
    {
     "cell_type": "markdown",
     "metadata": {
      "slideshow": {
       "slide_type": "slide"
      }
     },
     "source": [
      "<h3>Text-Dateien \u00f6ffnen und lesen</h3>\n",
      "<p>Python 3 unterscheidet strikt zwischen Text- und Bin\u00e4rdateien. Textdateien sind nat\u00fcrlich letzten Endes auch bin\u00e4r kodiert, aber diese Kodierung ist f\u00fcr den Benutzer im Normalfall nicht sichtbar. </p>\n",
      "<p>Textdateien verwenden ein character encoding. Die Voreinstellung ist plattform-spezifisch, so sind Text-Dateien unter Windows etwa als \"cp1252\" kodiert. </p>\n",
      "<p>Mein pers\u00f6nlicher Tipp: Verwenden Sie immer, auch wenn Sie glauben, dass nur Sie dieses Skript verwenden werden, eine unabh\u00e4ngige Kodierung wie utf-8.</p>\n",
      "<p>Syntax zum \u00d6ffnen von Dateien:"
     ]
    },
    {
     "cell_type": "code",
     "collapsed": false,
     "input": [
      "f = open (\"roman.txt\", \"r\", encoding=\"utf-8\") "
     ],
     "language": "python",
     "metadata": {
      "slideshow": {
       "slide_type": "fragment"
      }
     },
     "outputs": [],
     "prompt_number": 22
    },
    {
     "cell_type": "markdown",
     "metadata": {
      "slideshow": {
       "slide_type": "fragment"
      }
     },
     "source": [
      "<p>Hiermit wird die Datei \"roman.txt\" ge\u00f6ffnet, die im gleichen  Unterverzeichnis liegt, wie das aufrufende Skript.</p>\n",
      "Der Parameter 'r' legt fest, dass die Datei zum Lesen (\"read\") ge\u00f6ffnet wird.</p>\n",
      "<p>Und mit dem Parameter encoding legen wir fest, dass wir die Datei als utf-8 Datei \u00f6ffnen.</p>\n",
      "<p>R\u00fcckgabewert der Funktion open ist ein \"Dateiobjekt\", also ein Zugriff auf die Datei in Form eines Objekts, der nun wiederum eine Reihe von Funktionen kennt. </p>\n"
     ]
    },
    {
     "cell_type": "code",
     "collapsed": false,
     "input": [
      "content = f.read(None)  #liest die komplette Datei ein. \n",
      "print (content)         #gibt den gesamten Inhalt der Datei aus"
     ],
     "language": "python",
     "metadata": {
      "slideshow": {
       "slide_type": "fragment"
      }
     },
     "outputs": [
      {
       "output_type": "stream",
       "stream": "stdout",
       "text": [
        "Kurzer Roman.\n",
        "Dies ist ein langer Roman. Er beginnt mit dem Auftritt des Heldens. \n",
        "Da es keine Helden gibt, unterbricht hier schon der Leser ...\n"
       ]
      }
     ],
     "prompt_number": 18
    },
    {
     "cell_type": "markdown",
     "metadata": {
      "slideshow": {
       "slide_type": "slide"
      }
     },
     "source": [
      "<h3>Zeilenweises Einlesen einer Datei</h3>"
     ]
    },
    {
     "cell_type": "markdown",
     "metadata": {
      "slideshow": {
       "slide_type": "fragment"
      }
     },
     "source": [
      "<p>Sehr h\u00e4ufig ist der zeilenweise Zugriff auf Dateien, mit dem man auch sehr, sehr gro\u00dfe Dateien ohne Probleme bearbeiten kann. Man verwendet eine for-Schleife, die automatisch beendet wird, wenn das Ende der Datei erreicht ist.</p>"
     ]
    },
    {
     "cell_type": "code",
     "collapsed": false,
     "input": [
      "for line in f:\n",
      "    print (line)    #hier kann man nat\u00fcrlich auch etwas Sinnvolleres machen..."
     ],
     "language": "python",
     "metadata": {
      "slideshow": {
       "slide_type": "fragment"
      }
     },
     "outputs": [
      {
       "output_type": "stream",
       "stream": "stdout",
       "text": [
        "Kurzer Roman.\n",
        "\n",
        "Dies ist ein langer Roman. Er beginnt mit dem Auftritt des Heldens. \n",
        "\n",
        "Da es keine Helden gibt, unterbricht hier schon der Leser ...\n"
       ]
      }
     ],
     "prompt_number": 23
    },
    {
     "cell_type": "markdown",
     "metadata": {
      "slideshow": {
       "slide_type": "slide"
      }
     },
     "source": [
      "<h3>Schlie\u00dfen von Dateien</h3>\n",
      "<p>Man sollte am Ende eines Zugriffs auf Dateien diese schlie\u00dfen:</p>"
     ]
    },
    {
     "cell_type": "code",
     "collapsed": false,
     "input": [
      "f.close()"
     ],
     "language": "python",
     "metadata": {
      "slideshow": {
       "slide_type": "fragment"
      }
     },
     "outputs": [],
     "prompt_number": 25
    },
    {
     "cell_type": "markdown",
     "metadata": {
      "slideshow": {
       "slide_type": "fragment"
      }
     },
     "source": [
      "<p>Noch einfacher ist allerdings diese Konstruktion:"
     ]
    },
    {
     "cell_type": "code",
     "collapsed": false,
     "input": [
      "with open(\"roman.txt\", \"r\", encoding=\"utf-8\") as f:\n",
      "    for line in f:\n",
      "        print (line)      "
     ],
     "language": "python",
     "metadata": {
      "slideshow": {
       "slide_type": "fragment"
      }
     },
     "outputs": [
      {
       "output_type": "stream",
       "stream": "stdout",
       "text": [
        "Kurzer Roman.\n",
        "\n",
        "Dies ist ein langer Roman. Er beginnt mit dem Auftritt des Heldens. \n",
        "\n",
        "Da es keine Helden gibt, unterbricht hier schon der Leser ...\n"
       ]
      }
     ],
     "prompt_number": 29
    },
    {
     "cell_type": "markdown",
     "metadata": {
      "slideshow": {
       "slide_type": "fragment"
      }
     },
     "source": [
      "<p>hier wird die Datei am Ende des \"with\"-Blocks automatisch geschlossen."
     ]
    },
    {
     "cell_type": "markdown",
     "metadata": {
      "slideshow": {
       "slide_type": "slide"
      }
     },
     "source": [
      "<h3>Sicherheitsnetz</h3>\n",
      "<p>Man kann mit Fehlern auch so umgehen (und sollte das auch machen, wenn jemand anders als man selbst den Code ausf\u00fchrt): </p>"
     ]
    },
    {
     "cell_type": "code",
     "collapsed": false,
     "input": [
      "try:\n",
      "\tf = open (\"myfile.txt\",\"r\")\n",
      "\tfor i in f:\n",
      "\t\tprint (i)\t\n",
      "except FileNotFoundError:\n",
      "\tprint (\"Can't open file myfile.txt\" )\n",
      "\n"
     ],
     "language": "python",
     "metadata": {
      "slideshow": {
       "slide_type": "fragment"
      }
     },
     "outputs": [
      {
       "output_type": "stream",
       "stream": "stdout",
       "text": [
        "Can't open file myfile.txt\n"
       ]
      }
     ],
     "prompt_number": 30
    },
    {
     "cell_type": "markdown",
     "metadata": {
      "slideshow": {
       "slide_type": "fragment"
      }
     },
     "source": [
      "<p>Python versucht den Code im try-Block auszuf\u00fchren. Falls es zu einem Fehler kommt, etwa weil die Datei nicht gefunden werden kann, w\u00fcrde das Programm normalerweise aufh\u00f6ren zu arbeiten, und eine l\u00e4ngere Fehlermeldung ausgegeben werden. Hier aber wird dies abgefangen - aber nur der spezifische FileNotFoundError! -, dann wird das print - Statement ausgegeben und dann das Skript fortgesetzt. </p>\n",
      "<p>Python kennt \u00fcbrigens f\u00fcr viele Standardf\u00e4lle einen eigenen Fehlertyp, der Teil von Pythons Fehlerhierarchie ist (siehe <a href=\"https://docs.python.org/3.3/library/exceptions.html\">Dokumentation)</a>.</p> \n"
     ]
    },
    {
     "cell_type": "markdown",
     "metadata": {
      "slideshow": {
       "slide_type": "slide"
      }
     },
     "source": [
      "<h3 style=\"color:green\">Aufgaben</h3>\n",
      "<p>1) Legen Sie mit einem Editor eine utf-8-Datei in einem  Unterverzeichnis an (inkl. Umlaute und \u00df) und geben Sie dann die Datei mit Python aus. Unter Windows k\u00f6nnen Sie daf\u00fcr den editor unter Zubeh\u00f6r verwenden.</p>\n",
      "<p>2) Messen Sie mit Python, wieviele Buchstaben Ihr Probetext inkl. Leerzeichen etc. lang ist. Vergleichen Sie das Ergebnis mit der Dateigr\u00f6\u00dfe, wie sie vom Betriebssystem angegeben wird. Wie kommt der Unterschied zustande?</p>\n"
     ]
    },
    {
     "cell_type": "markdown",
     "metadata": {
      "slideshow": {
       "slide_type": "slide"
      }
     },
     "source": [
      "<h3>Musterl\u00f6sung</h3>"
     ]
    },
    {
     "cell_type": "code",
     "collapsed": false,
     "input": [
      "#1. Aufgabe: Datei mit python ausgeben\n",
      "with open (\"fileout.txt\", \"r\", encoding=\"utf-8\") as fin:\n",
      "    for l in fin:\n",
      "        print (l)"
     ],
     "language": "python",
     "metadata": {
      "slideshow": {
       "slide_type": "fragment"
      }
     },
     "outputs": [
      {
       "output_type": "stream",
       "stream": "stdout",
       "text": [
        "Dies ist ein k\u00fcrzerer Text.\n",
        "\n",
        "Und das w\u00e4re die letzte Zeile!\n",
        "\n",
        "Wenn es nicht eine weitere g\u00e4be.\n",
        "\n"
       ]
      }
     ],
     "prompt_number": 8
    },
    {
     "cell_type": "markdown",
     "metadata": {
      "slideshow": {
       "slide_type": "slide"
      }
     },
     "source": [
      "<p>2) Messen Sie mit Python, wieviele Buchstaben Ihr Probetext inkl. Leerzeichen etc. lang ist. Vergleichen Sie das Ergebnis mit der Dateigr\u00f6\u00dfe, wie sie vom Betriebssystem angegeben wird. Wie kommt der Unterschied zustande?</p>\n",
      "<p>Laut Betriebssystem ist die Datei 98 Zeichen lang.</p>"
     ]
    },
    {
     "cell_type": "code",
     "collapsed": false,
     "input": [
      "length = 0\n",
      "with open (\"fileout.txt\", \"r\", encoding=\"utf-8\") as fin:\n",
      "    for l in fin:\n",
      "        print (\"Zeilenl\u00e4nge: \", len(l))\n",
      "        length += len(l)\n",
      "print (\"Textl\u00e4nge: \", str(length))"
     ],
     "language": "python",
     "metadata": {
      "slideshow": {
       "slide_type": "fragment"
      }
     },
     "outputs": [
      {
       "output_type": "stream",
       "stream": "stdout",
       "text": [
        "Zeilenl\u00e4nge:  28\n",
        "Zeilenl\u00e4nge:  31\n",
        "Zeilenl\u00e4nge:  33\n",
        "Textl\u00e4nge:  92\n"
       ]
      }
     ],
     "prompt_number": 9
    },
    {
     "cell_type": "markdown",
     "metadata": {
      "slideshow": {
       "slide_type": "fragment"
      }
     },
     "source": [
      "<p>Wie ein Blick in die Datei mit einem Hex-Viewer zeigt, hat die Differenz zwei Ursachen. 1) In utf-8-Dateien werden alle Umlaute mit zwei Byte kodiert und nicht wie die Zeichen des ASCII-Zeichensatzes mit einem. Das ergibt bei drei Umlauten drei zus\u00e4tzliche Byte. 2) Python wandelt beim Lesen von Textdateien das Newline-Zeichen am Ende einer Zeile unabh\u00e4ngig von der betriebssystemspezifischen Darstellung in ein Zeichen um, das man mit \"\\n\" in Strings kodieren kann. In Windows wird aber das Zeilenende intern mit zwei Zeichen kodiert. 3 Zeilen ergibt zus\u00e4tzliche 3 weitere Bytes Differenz. Damit ist der Unterschied von 92 Zeichen und 98 Zeichen erkl\u00e4rt.</p>  \n",
      "<p><img src=\"files/images/utf-8_file.png\"/></p>"
     ]
    },
    {
     "cell_type": "markdown",
     "metadata": {
      "slideshow": {
       "slide_type": "slide"
      }
     },
     "source": [
      "<h3>Schreiben von Dateien</h3>\n",
      "<p>Das Schreiben von Dateien funktioniert ganz \u00e4hnlich wie das Lesen.</p>"
     ]
    },
    {
     "cell_type": "code",
     "collapsed": false,
     "input": [
      "t = [\"Dies ist ein k\u00fcrzerer Text.\", \"Und das w\u00e4re die letzte Zeile!\", \"Wenn es nicht eine weitere g\u00e4be.\"]\n",
      "with open (\"fileout.txt\", \"w\", encoding=\"utf-8\") as fout:\n",
      "    for l in t:\n",
      "        fout.write(l + \"\\n\")"
     ],
     "language": "python",
     "metadata": {
      "slideshow": {
       "slide_type": "fragment"
      }
     },
     "outputs": [],
     "prompt_number": 26
    },
    {
     "cell_type": "markdown",
     "metadata": {
      "slideshow": {
       "slide_type": "fragment"
      }
     },
     "source": [
      "<p>Beim Aufruf der Funktion open wird als Parameter nun \"w\" (write) gesetzt. 'fout' ist ebenfalls ein frei w\u00e4hlbarer Variablenname f\u00fcr unser Dateiobjekt. </p>\n",
      "<p>Achtung: Bei der Verwendung von \"w\" allein wird die Datei immer zuerst zur\u00fcckgesetzt, wenn sie existieren sollte. D.h. evtl. bestehende Inhalte werden gel\u00f6scht!</p>\n",
      "<p>Beachten Sie, dass die Methode 'write' nicht automatisch eine Newline anh\u00e4ngt, wie das im Fall von print geschieht. </p>"
     ]
    },
    {
     "cell_type": "markdown",
     "metadata": {
      "slideshow": {
       "slide_type": "slide"
      }
     },
     "source": [
      "<h3 style=\"color: green\">Aufgaben</h3>\n",
      "<p>1) Schreiben Sie ein Skript, dass ihre oben mit dem Editor angelegte Datei \u00f6ffnet und den Inhalt in eine Datei namens results.txt schreibt. Das encoding ist utf-8.</p>\n",
      "<p>2) Lassen Sie sich den Inhalt der Datei anzeigen.</p>"
     ]
    },
    {
     "cell_type": "markdown",
     "metadata": {
      "slideshow": {
       "slide_type": "slide"
      }
     },
     "source": [
      "<h3>Das Anh\u00e4ngen an eine Datei</h3>\n",
      "<p>Sie k\u00f6nnen Dateien auch erg\u00e4nzen, indem Sie als Parameter statt \"w\" oder \"r\" den Buchstaben \"a\" (append) setzten.</p>"
     ]
    },
    {
     "cell_type": "code",
     "collapsed": false,
     "input": [
      "with open (\"fileout.txt\", \"a\", encoding=\"utf-8\") as writer:\n",
      "    writer.write(\"H\u00e4nge diese Zeile an. Das ist nun die letzte.\")"
     ],
     "language": "python",
     "metadata": {
      "slideshow": {
       "slide_type": "fragment"
      }
     },
     "outputs": [],
     "prompt_number": 13
    },
    {
     "cell_type": "markdown",
     "metadata": {
      "slideshow": {
       "slide_type": "fragment"
      }
     },
     "source": [
      "<p>Achtung: Wenn Sie hier das falsche encoding angeben oder den Parameter vergessen, es sich aber um eine utf-8 Datei handelt, dann kann es sehr gut sein, dass das Ergebnis fehlerhaft ist, ohne dass Python einen Fehler meldet!</p>"
     ]
    },
    {
     "cell_type": "markdown",
     "metadata": {
      "slideshow": {
       "slide_type": "slide"
      }
     },
     "source": [
      "<h3 style=\"color: green\">Aufgaben</h3>\n",
      "<p>Erg\u00e4nzen Sie die Datei, die Sie oben angelegt haben, um zwei Zeilen.</p>"
     ]
    },
    {
     "cell_type": "markdown",
     "metadata": {
      "slideshow": {
       "slide_type": "slide"
      }
     },
     "source": [
      "<h3>Zusammenfassung</h3>\n",
      "<p>open(file, mode='r', encoding=None) k\u00f6nnen Sie Dateien schreiben oder lesen. </p>\n",
      "<p><b>modes:</b> <br/>\n",
      "\"r\" - read (default)<br/>\n",
      "\"w\" - write. L\u00f6scht bestehende Inhalte<br/>\n",
      "\"a\" - append. H\u00e4ngt neue Inhalte an.<br/>\n",
      "\"t\" - text (default) <br/>\n",
      "\"b\" - binary. <br/>\n",
      "\"x\" - exclusive. \u00d6ffnet Schreibzugriff auf eine Datei. Gibt Fehlermeldung, wenn die Datei existiert.</p>\n",
      "<p> <b>encoding</b>\n",
      "\"utf-8\"<br/>\n",
      "\"ascii\"<br/>\n",
      "\"cp1252\"<br/>\n",
      "\"iso-8859-1\"<br/><p>\n",
      "    \n"
     ]
    },
    {
     "cell_type": "markdown",
     "metadata": {
      "slideshow": {
       "slide_type": "slide"
      }
     },
     "source": [
      "<h3 style=\"color:green\">Aufgaben</h3>\n",
      "<p>1) Schreiben Sie eine Funktion save_file, die als Parameter einen Dateinamen nimmt und dann diese Datei zum Schreiben \u00f6ffnet, aber nur, wenn die Datei noch nicht existiert. Die Fehlermeldung, wenn eine bereits existierende Datei zu \u00f6ffnen versucht wird, soll lauten: \"ERROR: Cannot overwrite existing file!\" </p>\n",
      "<p>2) Schreiben Sie die Methode so um, dass sie nun einen Parameter overwrite hat, dessen default-Wert False ist. Er bestimmt, ob die Funktion wie in 1) beschrieben funktioniert oder ob eine existierende Datei einfach \u00fcberschrieben wird.</p>"
     ]
    },
    {
     "cell_type": "markdown",
     "metadata": {
      "slideshow": {
       "slide_type": "slide"
      }
     },
     "source": [
      "<h3>Musterl\u00f6sung</h3>\n",
      "<p>1) Schreiben Sie eine Funktion save_file, die als ersten Parameter einen Dateinamen nimmt und dann diese Datei zum Schreiben \u00f6ffnet, aber nur, wenn die Datei noch nicht existiert. Als zweiten Parameter kommt ein String namens content, der den Inhalt der Datei enth\u00e4lt. Die Fehlermeldung, wenn eine bereits existierende Datei zu \u00f6ffnen versucht wird, soll lauten: \"ERROR: Cannot overwrite existing file!\" "
     ]
    },
    {
     "cell_type": "code",
     "collapsed": false,
     "input": [
      "def save_file(filename, content):\n",
      "    \"\"\"\n",
      "    saves content into filename\n",
      "    \"\"\"\n",
      "    try: \n",
      "        with open(filename, \"x\", encoding=\"utf-8\") as fout:\n",
      "            fout.write(content)\n",
      "    except FileExistsError:\n",
      "        print (\"ERROR: Cannot overwrite existing file!\")\n",
      "        \n",
      "save_file(\"test.txt\", \"Hier k\u00f6mmt der Inhalt.\")"
     ],
     "language": "python",
     "metadata": {
      "slideshow": {
       "slide_type": "fragment"
      }
     },
     "outputs": [
      {
       "output_type": "stream",
       "stream": "stdout",
       "text": [
        "ERROR: Cannot overwrite existing file!\n"
       ]
      }
     ],
     "prompt_number": 24
    },
    {
     "cell_type": "markdown",
     "metadata": {
      "slideshow": {
       "slide_type": "slide"
      }
     },
     "source": [
      "<p>2) Schreiben Sie die Methode so um, dass sie nun einen Parameter overwrite hat, dessen default-Wert False ist. Er bestimmt, ob die Funktion wie in 1) beschrieben funktioniert oder ob eine existierende Datei einfach \u00fcberschrieben wird.\n"
     ]
    },
    {
     "cell_type": "code",
     "collapsed": false,
     "input": [
      "def save_file(filename, content, overwrite=False):\n",
      "    \"\"\"\n",
      "    saves content into filename\n",
      "    \"\"\"\n",
      "    if overwrite==False:\n",
      "        write_value=\"x\"\n",
      "    else:\n",
      "        write_value=\"w\"\n",
      "    try: \n",
      "        with open(filename, write_value, encoding=\"utf-8\") as fout:\n",
      "            fout.write(content)\n",
      "    except FileExistsError:\n",
      "        print (\"ERROR: Cannot overwrite existing file!\")\n",
      "        \n",
      "save_file(\"test.txt\", \"Hier k\u00f6mmt der Inhalt.\")"
     ],
     "language": "python",
     "metadata": {
      "slideshow": {
       "slide_type": "fragment"
      }
     },
     "outputs": [
      {
       "output_type": "stream",
       "stream": "stdout",
       "text": [
        "ERROR: Cannot overwrite existing file!\n"
       ]
      }
     ],
     "prompt_number": 27
    },
    {
     "cell_type": "markdown",
     "metadata": {
      "slideshow": {
       "slide_type": "slide"
      }
     },
     "source": [
      "<h3>Dateien kopieren bzw. verschieben</h3>"
     ]
    },
    {
     "cell_type": "markdown",
     "metadata": {
      "slideshow": {
       "slide_type": "fragment"
      }
     },
     "source": [
      "<p>Im Modul shutil (ungl\u00fccklich benamste Zusammenziehung aus shell utilities) gibt es Befehle zum Kopieren und Verschieben von Dateien. Wenn man als Ziel einen Dateinamen angibt, dann wird die Datei implizit umbenannt, ansonsten wird sie in das Zielverzeichnis kopiert.</p>"
     ]
    },
    {
     "cell_type": "code",
     "collapsed": false,
     "input": [
      "import shutil\n",
      "shutil.copy(\"fileout.txt\", \"results.dat\")"
     ],
     "language": "python",
     "metadata": {
      "slideshow": {
       "slide_type": "fragment"
      }
     },
     "outputs": [
      {
       "metadata": {},
       "output_type": "pyout",
       "prompt_number": 15,
       "text": [
        "'results.dat'"
       ]
      }
     ],
     "prompt_number": 15
    },
    {
     "cell_type": "markdown",
     "metadata": {
      "slideshow": {
       "slide_type": "fragment"
      }
     },
     "source": [
      "<p>Nat\u00fcrlich kann man dabei auch gleich Pfadnamen eingeben. Hier gibt es ein Problem, n\u00e4mlich dass das Trennzeichen zwischen Verzeichnisnamen und Dateinamen plattformabh\u00e4ngig ist. Das kann man ignorieren, wenn man nur auf einer Plattform arbeitet, oder sauber kodieren. Hier kopiere ich die Datei in das Verzeichnis daten:"
     ]
    },
    {
     "cell_type": "code",
     "collapsed": false,
     "input": [
      "import shutil\n",
      "import os\n",
      "shutil.copy(\"fileout.txt\", os.sep + \"daten\")  #plattformunabh\u00e4ngig\n",
      "shutil.copy(\"fileout.txt\", \"\\\\daten\")         #funktioniert wohl nur unter windows"
     ],
     "language": "python",
     "metadata": {
      "slideshow": {
       "slide_type": "fragment"
      }
     },
     "outputs": [
      {
       "metadata": {},
       "output_type": "pyout",
       "prompt_number": 20,
       "text": [
        "'\\\\daten\\\\fileout.txt'"
       ]
      }
     ],
     "prompt_number": 20
    },
    {
     "cell_type": "markdown",
     "metadata": {
      "slideshow": {
       "slide_type": "fragment"
      }
     },
     "source": [
      "<p>Um Dateien (oder Unterverzeichnisse) zu bewegen, k\u00f6nnen sie in gleicher Weise shutil.move(file, file) verwenden."
     ]
    },
    {
     "cell_type": "markdown",
     "metadata": {
      "slideshow": {
       "slide_type": "slide"
      }
     },
     "source": [
      "<h3>Dateien umbenennen oder l\u00f6schen</h3>\n",
      "<p>Verwirrenderweise sind diese Befehle in einem anderen Modul, n\u00e4mlich dem Modul os</p>"
     ]
    },
    {
     "cell_type": "code",
     "collapsed": false,
     "input": [
      "import os\n",
      "os.rename(\"fileout.txt\", \"fileout.alt\")\n",
      "os.remove(\"fileout.alt\")"
     ],
     "language": "python",
     "metadata": {
      "slideshow": {
       "slide_type": "fragment"
      }
     },
     "outputs": [],
     "prompt_number": 27
    },
    {
     "cell_type": "markdown",
     "metadata": {
      "slideshow": {
       "slide_type": "slide"
      }
     },
     "source": [
      "<h3>Informationen \u00fcber Dateien oder Verzeichnisse</h3>"
     ]
    },
    {
     "cell_type": "code",
     "collapsed": false,
     "input": [
      "import os.path\n",
      "if os.path.exists(\"fileout.txt\"):  #pr\u00fcft ob eine Datei mit diesem Namen existiert\n",
      "    print(\"file exists\")\n",
      "else:\n",
      "    print(\"file does not exist\")"
     ],
     "language": "python",
     "metadata": {
      "slideshow": {
       "slide_type": "fragment"
      }
     },
     "outputs": [
      {
       "output_type": "stream",
       "stream": "stdout",
       "text": [
        "file does not exist\n"
       ]
      }
     ],
     "prompt_number": 29
    },
    {
     "cell_type": "code",
     "collapsed": false,
     "input": [
      "import os.path\n",
      "print (\"size of file results.dat: \", os.path.getsize(\"results.dat\"))"
     ],
     "language": "python",
     "metadata": {
      "slideshow": {
       "slide_type": "fragment"
      }
     },
     "outputs": [
      {
       "output_type": "stream",
       "stream": "stdout",
       "text": [
        "size of file results.dat:  144\n"
       ]
      }
     ],
     "prompt_number": 31
    },
    {
     "cell_type": "markdown",
     "metadata": {
      "slideshow": {
       "slide_type": "slide"
      }
     },
     "source": [
      "<h3>Alle Dateien in einem Verzeichnis bearbeiten</h3>\n",
      "<p>Sehr h\u00e4ufig wollen Sie alle Dateien in einem Verzeichnis bearbeiten oder alle Dateien, die eine bestimmte Endung haben. Dazu gibt es den Befehl glob aus dem Modul glob:"
     ]
    },
    {
     "cell_type": "code",
     "collapsed": false,
     "input": [
      "import glob\n",
      "files = glob.glob(\"*.txt\")   #all files with the suffix .txt\n",
      "print (\"Name and length of text files:\")\n",
      "for file in files:\n",
      "    with open(file, \"r\", encoding=\"utf-8\") as fin:\n",
      "        print (file , \": \", len(fin.read()))"
     ],
     "language": "python",
     "metadata": {
      "slideshow": {
       "slide_type": "fragment"
      }
     },
     "outputs": [
      {
       "output_type": "stream",
       "stream": "stdout",
       "text": [
        "Name and length of text files:\n",
        "langer_roman.txt :  370\n",
        "Noname1.txt :  452\n",
        "roman.txt :  144\n",
        "test.txt :  23\n"
       ]
      }
     ],
     "prompt_number": 5
    },
    {
     "cell_type": "markdown",
     "metadata": {
      "slideshow": {
       "slide_type": "fragment"
      }
     },
     "source": [
      "<p>Sollten Sie hier Fehlermeldungen erhalten, die sich auf codecs beziehen, dann sind evtl. nicht alle Textdateien in Ihrem Verzeichnis utf-8 kodiert.</p>\n",
      "<p>Der String, der glob.glob als Parameter \u00fcbergeben wird, kann nat\u00fcrlich auch einen Verzeichnisnamen enthalten. Sie k\u00f6nnen dann mit der Funktion basename aus dem Modul os.path den Dateinamen aus der gesamten Pfadangabe extrahieren.</p>"
     ]
    },
    {
     "cell_type": "markdown",
     "metadata": {
      "slideshow": {
       "slide_type": "slide"
      }
     },
     "source": [
      "<h3>Ausgaben formatieren</h3>\n",
      "<p>Im letzten Beispiel sah die Ausgabe recht unsch\u00f6n aus. Besser w\u00e4re es, wenn die Ausgabe regelm\u00e4\u00dfiger w\u00e4re. F\u00fcr solche Zwecke gibt es eine kleine Formatierungssprache f\u00fcr Strings in Python:<p>\n",
      "<p>Erster Schritt: Ich kann Variablen nutzen, um festzulegen wo Teile des Strings dann durch aktuelle Werte ersetzt werden sollen. Die Variablen werden in geschweifte Klammern geschrieben. Der String in der Klammer ist der Name der Variablen. Diese Namen erhalten dann als Parameter der Funktion format ihren Wert:</p>"
     ]
    },
    {
     "cell_type": "code",
     "collapsed": false,
     "input": [
      "s = \"{hi} {world}\".format(hi=\"hello and a wonderful\", world=\"beautiful world\")\n",
      "print (s)"
     ],
     "language": "python",
     "metadata": {
      "slideshow": {
       "slide_type": "fragment"
      }
     },
     "outputs": [
      {
       "output_type": "stream",
       "stream": "stdout",
       "text": [
        "hello and a wonderful beautiful world\n"
       ]
      }
     ],
     "prompt_number": 6
    },
    {
     "cell_type": "markdown",
     "metadata": {
      "slideshow": {
       "slide_type": "slide"
      }
     },
     "source": [
      "<p>Nun kann man in den Variablen auch noch Formatierungsinformationen angeben, z.B. \u00fcber linke oder rechte Alignierung mit den Zeichen &lt; bzw. >. Die Zahl nach der spitzen Klammer gibt vor, wie breit das Feld ist. Und auch  die Formatierung von Zahlen kann festgelegt werden, z.B. mit dem Buchstaben f, dass die Zahl auf 6 Stellen genau ausgegeben werden soll. Mehr zu dieser Formatierungssprache finden Sie in der Python Dokumentation unter \"6.1.3. Format String Syntax\"</p>"
     ]
    },
    {
     "cell_type": "code",
     "collapsed": false,
     "input": [
      "a = 2.593729475\n",
      "b = \"average number of people born in a city in an hour\"\n",
      "print (\"{text:<} {nr:>f}\".format(text=b, nr=a))"
     ],
     "language": "python",
     "metadata": {
      "slideshow": {
       "slide_type": "fragment"
      }
     },
     "outputs": [
      {
       "output_type": "stream",
       "stream": "stdout",
       "text": [
        "average number of people born in a city in an hour 2.593729\n"
       ]
      }
     ],
     "prompt_number": 11
    },
    {
     "cell_type": "code",
     "collapsed": false,
     "input": [
      "a = [2.68438575, 4.12, 5, 1.0484753838]\n",
      "b = [\"Paris\", \"Peking\", \"Mexico City\", \"Berlin\"]\n",
      "for i in range(len(a)):\n",
      "    print (\"{city:>12}: {nr:<5f}\".format(city=b[i], nr=a[i]))"
     ],
     "language": "python",
     "metadata": {
      "slideshow": {
       "slide_type": "fragment"
      }
     },
     "outputs": [
      {
       "output_type": "stream",
       "stream": "stdout",
       "text": [
        "       Paris: 2.684386\n",
        "      Peking: 4.120000\n",
        " Mexico City: 5.000000\n",
        "      Berlin: 1.048475\n"
       ]
      }
     ],
     "prompt_number": 18
    },
    {
     "cell_type": "markdown",
     "metadata": {
      "slideshow": {
       "slide_type": "slide"
      }
     },
     "source": [
      "<h3 style=\"color:green\">Hausaufgaben</h3>\n",
      "<p>1) Schreiben Sie eine Methode 'utf82local', die als Argument einen Dateinamen nimmt, die Datei als utf-8 \u00f6ffnet und im lokalen Format abspeichert. Die gespeicherte Datei tr\u00e4gt statt '.txt' die Endung '.loc'.</p>\n",
      "<p>2) Schreiben Sie in die Datei numbers.txt alle Zahlen von 1-1000 (getrennt durch \u201a-\u2018. Machen Sie jeweils nach 99, 199 usw. einen Zeilenumbruch.</p>\n",
      "<p>3) Lassen Sie sich aus der Datei numbers.txt nur die Zeilen anzeigen, die die Nummern 345 und 786 enthalten.</p>"
     ]
    }
   ],
   "metadata": {}
  }
 ]
}