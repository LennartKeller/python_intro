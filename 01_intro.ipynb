{
 "cells": [
  {
   "cell_type": "markdown",
   "metadata": {
    "slideshow": {
     "slide_type": "slide"
    }
   },
   "source": [
    "## Crashkurs Programmieren mit Python\n",
    "# Einführung"
   ]
  },
  {
   "cell_type": "markdown",
   "metadata": {
    "slideshow": {
     "slide_type": "slide"
    }
   },
   "source": [
    "## Organisatorisches\n",
    "\n",
    "* Fotis Jannidis <fotis.jannidis@uni-wuerzburg.de>\n",
    "* Thorsten Vitt <thorsten.vitt@uni-wuerzburg.de>\n",
    "* Vormittags Unterricht, nachmittags betreutes Programmieren mit Philip Dürholt\n",
    "\n",
    "<!--\n",
    "* Prüfung: 35% Hausaufgaben, 65% Klausur\n",
    "* B/NB oder Note abhängig von PO und Einordnung\n",
    "* Prüfungsanmeldung und -abmeldung notwendig\n",
    "\n",
    "\n",
    "### WueCampus\n",
    "\n",
    "* [wuecampus.uni-wuerzburg.de](https://wuecampus2.uni-wuerzburg.de/moodle/course/view.php?id=10589)\n",
    "* Hausaufgaben (Programmieraufgaben), Ergebnisse vorstellen\n",
    "* vier bewertete Aufgaben, regelmäßig Übungsaufgaben\n",
    "\n",
    "### DH-Mailingliste\n",
    "\n",
    "* <https://lists.uni-wuerzburg.de/mailman/listinfo/digital.humanities>\n",
    "* Bitte lesen Sie Ihre Uni-Würzburg-E-Mail-Adresse\n",
    "\n",
    "### Computerkompetenz\n",
    "\n",
    "* Bitte eignen Sie sich ggf. noch fehlende Computerkompetenzen an – siehe Lehrstuhlhomepage\n",
    "* <http://www.germanistik.uni-wuerzburg.de/lehrstuehle/computerphilologie/studium/computerkompetenz/> ![http://www.germanistik.uni-wuerzburg.de/lehrstuehle/computerphilologie/studium/computerkompetenz/](images/computerkompetenz.png)\n",
    "-->"
   ]
  },
  {
   "cell_type": "markdown",
   "metadata": {
    "slideshow": {
     "slide_type": "skip"
    }
   },
   "source": [
    "### Arbeit mit Python\n",
    "\n",
    "* Wir arbeiten mit __Python 3__, möglichst Python 3.4 oder 3.5\n",
    "* Empfehlung: Eigener Laptop\n",
    "* Empfehlungen:\n",
    "\n",
    "    * Windows: __WinPython__, http://winpython.github.io/   (geht auch auf USB-Stick)\n",
    "    * Mac, Windows, (Linux): __Anaconda__,  http://www.continuum.io/\n",
    "    * Linux: `sudo apt-get install python3 idle3 spyder3` o.ä."
   ]
  },
  {
   "cell_type": "markdown",
   "metadata": {
    "slideshow": {
     "slide_type": "slide"
    }
   },
   "source": [
    "### Themen\n",
    "\n"
   ]
  },
  {
   "cell_type": "markdown",
   "metadata": {
    "slideshow": {
     "slide_type": "subslide"
    }
   },
   "source": [
    "### Programmierparadigmen\n",
    "\n",
    "Programmierparadigma = grundlegende Sichtweise auf Programm + Daten → Programmierstil\n",
    "\n",
    "* __Imperativ__ (dem Computer Befehle erteilen)\n",
    "\n",
    "    * Befehle, (bedingte) Sprünge → Assembler\n",
    "    * __strukturiert__ (+ Kontrollstrukturen wie Schleifen)\n",
    "    * __prozedural__ (+ Unterprogramme / Prozeduren / Funktionen)  (Pascal, C)\n",
    "    * __modular__ (+ Module als Gliederungseinheit)  (Modula)\n",
    "    * __objektorientiert__ (Daten + Operationen = Objekt; Kapselung, Vererbung, Polymorphie)\n",
    "\n",
    "* __Deklarativ__ (dem Computer das Problem beschreiben)\n",
    "\n",
    "    * __funktional__ (orientiert am mathematischen Funktionsbegriff)\n",
    "    * __logisch__ (orientiert an der Prädikatenlogik)\n",
    "\n",
    "* Weiterentwicklungen, Mischformen, orthogonale Konzepte"
   ]
  },
  {
   "cell_type": "markdown",
   "metadata": {
    "slideshow": {
     "slide_type": "subslide"
    }
   },
   "source": [
    "### Warum Python?\n",
    "\n",
    "* Allzweck-Programmiersprache – nicht auf spezifischen Anwendungszweck hin optimiert\n",
    "* Einfache, übersichtliche Syntax & Konzepte\n",
    "* _very high level programming language_ – Systemfern; Komplexe Daten- und Kontrollstrukturen sind schon eingebaut\n",
    "* REPL (read-eval-print loop) – exploratives Interagieren mit den Sprachkonstrukten\n",
    "* Skriptsprache – kein komplexer Workflow (compile, link, test …) nötig\n",
    "* _batteries included_ – umfangreiche Standardbibliothek\n",
    "* zahlreiche Programmbibliotheken, auch z.B. zum wissenschaftlichen Rechnen\n",
    "\n",
    "----\n",
    "\n",
    "* Python 2 vs. Python 3"
   ]
  },
  {
   "cell_type": "markdown",
   "metadata": {
    "slideshow": {
     "slide_type": "slide"
    }
   },
   "source": [
    "#### 3 kleine Programme "
   ]
  },
  {
   "cell_type": "code",
   "execution_count": 1,
   "metadata": {
    "collapsed": false,
    "slideshow": {
     "slide_type": "fragment"
    }
   },
   "outputs": [
    {
     "name": "stdout",
     "output_type": "stream",
     "text": [
      "Hallo Welt!\n"
     ]
    }
   ],
   "source": [
    "print(\"Hallo Welt!\")"
   ]
  },
  {
   "cell_type": "code",
   "execution_count": 3,
   "metadata": {
    "collapsed": false,
    "slideshow": {
     "slide_type": "fragment"
    }
   },
   "outputs": [
    {
     "data": {
      "text/plain": [
       "9"
      ]
     },
     "execution_count": 3,
     "metadata": {},
     "output_type": "execute_result"
    }
   ],
   "source": [
    "2 + 7     # Addiere 2 und 7"
   ]
  },
  {
   "cell_type": "code",
   "execution_count": 4,
   "metadata": {
    "collapsed": false,
    "slideshow": {
     "slide_type": "fragment"
    }
   },
   "outputs": [
    {
     "name": "stdout",
     "output_type": "stream",
     "text": [
      "24\n"
     ]
    }
   ],
   "source": [
    "print(3*8)      # Multipliziere 3 mal 8 und gib das Ergebnis aus"
   ]
  },
  {
   "cell_type": "markdown",
   "metadata": {
    "slideshow": {
     "slide_type": "slide"
    }
   },
   "source": [
    "## Praxis"
   ]
  },
  {
   "cell_type": "markdown",
   "metadata": {
    "slideshow": {
     "slide_type": "fragment"
    }
   },
   "source": [
    "* Starten Sie *IDLE* oder *Spyder*\n",
    "* Schreiben Sie das folgende kleine Python-Programm, speichern Sie es als ``helloworld.py`` und führen Sie es aus:\n",
    "```\n",
    "    print(\"Hello world!\")\n",
    "```\n",
    "* Geben Sie in der interaktiven Python-Konsole nacheinander folgende Anweisungen ein:\n",
    "```\n",
    "    print(\"Hello world!\")\n",
    "    \"Hello world!\"\n",
    "```\n",
    "* Dokumentation: <http://docs.python.org/3>"
   ]
  },
  {
   "cell_type": "markdown",
   "metadata": {
    "slideshow": {
     "slide_type": "slide"
    }
   },
   "source": [
    "## Grundbegriffe"
   ]
  },
  {
   "cell_type": "markdown",
   "metadata": {
    "slideshow": {
     "slide_type": "notes"
    }
   },
   "source": [
    "__TODO__ Hier vielleicht umsortieren und von einfach nach komplex aufbauen:\n",
    "    \n",
    "1. Python als Taschenrechner (exemplarisch)\n",
    "2. arithmetische Operatoren (zur Unterfütterung)\n",
    "3. Ausdrücke\n",
    "4. Funktionsaufrufe (schönes Beispiel neben print finden)\n",
    "5. Anweisungen (damit Programme aus mehr als einem Ausdruck bestehen können)\n",
    "6. Variablenzuweisungen (damit man Werte zwischen den Anweisungen hin und her bekommt)\n",
    "\n",
    "Wichtig: Unterscheidung zwischen print() und dem, was die Konsole als Ergebnis des letzten Ausdrucks ausgibt"
   ]
  },
  {
   "cell_type": "markdown",
   "metadata": {
    "slideshow": {
     "slide_type": "fragment"
    }
   },
   "source": [
    "### Anweisung\n",
    "\n",
    "![](files/images/print-anweisung.svg)"
   ]
  },
  {
   "cell_type": "markdown",
   "metadata": {
    "slideshow": {
     "slide_type": "slide"
    }
   },
   "source": [
    "### Arithmetische Operatoren\n",
    "* Grundrechenarten: `+`, `-`, `*`, `/`\n",
    "* Potenz: `5**2`\n",
    "* Divisionsoperatoren:"
   ]
  },
  {
   "cell_type": "code",
   "execution_count": 15,
   "metadata": {
    "collapsed": false,
    "slideshow": {
     "slide_type": "fragment"
    }
   },
   "outputs": [
    {
     "name": "stdout",
     "output_type": "stream",
     "text": [
      "1.75\n",
      "1\n",
      "3\n"
     ]
    }
   ],
   "source": [
    "print(7 / 4)    # Division → Dezimalzahl (float)\n",
    "print(7 // 4)   # Ganzzahldivision → Ganze Zahl (int)\n",
    "print(7 % 4)    # Divisionsrest (\"Modulo\") → Ganze Zahl (int)"
   ]
  },
  {
   "cell_type": "markdown",
   "metadata": {
    "slideshow": {
     "slide_type": "slide"
    }
   },
   "source": [
    "### Ausdrücke"
   ]
  },
  {
   "cell_type": "markdown",
   "metadata": {
    "slideshow": {
     "slide_type": "-"
    }
   },
   "source": [
    "![](files/images/print-anweisung.svg)"
   ]
  },
  {
   "cell_type": "markdown",
   "metadata": {
    "slideshow": {
     "slide_type": "subslide"
    }
   },
   "source": [
    "* **Ausdruck** := syntaktisches Konstrukt, das in einem Kontext ausgewertet werden kann (also → Wert)\n",
    "\n",
    "* Aufbau aus Literalen, Operatoren, Variablen (und Funktionsaufrufen)\n",
    "\n",
    "* [Ausdrücke](https://docs.python.org/3/reference/expressions.html) sind selbst meist wiederum aus (Teil-)Ausdrücken aufgebaut – alles folgende sind Ausdrücke:\n",
    "\n",
    "    * ` 2`\n",
    "    * ` 3 * 4`\n",
    "    * ` 3 * 4 + 1`\n",
    "    * `(3 * 4 + 1) * len(\"Python\")`\n",
    "    * `(3 * 4 + 1) * len(\"Python\") < 5`\n",
    "\n",
    "* engl. _expression_\n",
    "\n",
    "----\n",
    "\n",
    "Auf der Grundlage einer [Grammatik](https://docs.python.org/3/reference/grammar.html), Ausschnitt:\n",
    "\n",
    "```\n",
    "arith_expr: term (('+'|'-') term)*\n",
    "term: factor (('*'|'@'|'/'|'%'|'//') factor)*\n",
    "factor: ('+'|'-'|'~') factor | power\n",
    "power: atom_expr ['**' factor]\n",
    "```"
   ]
  },
  {
   "cell_type": "markdown",
   "metadata": {
    "slideshow": {
     "slide_type": "slide"
    }
   },
   "source": [
    "<h3>Zuweisung des Ergebnisses eines Ausdrucks zu einer Variablen</h3>\n",
    "<img src=\"files/images/anweisung.png\" width=\"50%\" height=\"50%\" border=\"0\" alt=\"\">    "
   ]
  },
  {
   "cell_type": "code",
   "execution_count": 9,
   "metadata": {
    "collapsed": false,
    "slideshow": {
     "slide_type": "fragment"
    }
   },
   "outputs": [
    {
     "name": "stdout",
     "output_type": "stream",
     "text": [
      "9\n"
     ]
    }
   ],
   "source": [
    "a = 4\n",
    "b = 5\n",
    "c = a + b\n",
    "print(c)"
   ]
  },
  {
   "cell_type": "markdown",
   "metadata": {
    "slideshow": {
     "slide_type": "subslide"
    }
   },
   "source": [
    "![Variablenzuweisung erklärt](images/zuweisung-detail.svg)"
   ]
  },
  {
   "cell_type": "markdown",
   "metadata": {
    "slideshow": {
     "slide_type": "subslide"
    }
   },
   "source": [
    "### Variablenzuweisung = Name an Objekt binden\n",
    "\n",
    "![a = 1](images/assign1.svg)"
   ]
  },
  {
   "cell_type": "markdown",
   "metadata": {
    "slideshow": {
     "slide_type": "fragment"
    }
   },
   "source": [
    "![b = a](images/assign2.svg)"
   ]
  },
  {
   "cell_type": "markdown",
   "metadata": {
    "slideshow": {
     "slide_type": "subslide"
    }
   },
   "source": [
    "Variablen können auch überschrieben werden:"
   ]
  },
  {
   "cell_type": "code",
   "execution_count": 1,
   "metadata": {
    "collapsed": false,
    "slideshow": {
     "slide_type": "fragment"
    }
   },
   "outputs": [
    {
     "name": "stdout",
     "output_type": "stream",
     "text": [
      "6\n"
     ]
    }
   ],
   "source": [
    "n = 5\n",
    "n = n + 1\n",
    "print(n)"
   ]
  },
  {
   "cell_type": "markdown",
   "metadata": {
    "slideshow": {
     "slide_type": "fragment"
    }
   },
   "source": [
    "![b = 2](images/assign3.svg)"
   ]
  },
  {
   "cell_type": "markdown",
   "metadata": {
    "slideshow": {
     "slide_type": "subslide"
    }
   },
   "source": [
    "### Name / Bezeichner / Identifier\n",
    "\n",
    "* Bezeichnet irgendwas. Z.B. Variable, Funktion, …\n",
    "* _Syntax_: Beginnt mit Buchstabe oder Unterstrich, dann folgen Buchstaben, Unterstriche und Ziffern\n",
    "* `i`, `hausnummer`, `file1`, `_input`, `word_length`\n",
    "* Ausnahme: _Keywords_, z.B. `or`, `if`, …\n",
    "* Konventionen: Variablennamen aus Kleinbuchstaben, Sonderrolle für Unterstriche an Anfang / Ende\n",
    "* __Wählen Sie sprechende Variablennamen__"
   ]
  },
  {
   "cell_type": "markdown",
   "metadata": {
    "slideshow": {
     "slide_type": "subslide"
    }
   },
   "source": [
    "### Aufgabe\n",
    "\n",
    "1. Weisen Sie einer Variablen den Wert 42 zu. Welchen Typ hat die Variable?\n",
    "2. Weisen Sie derselben Variable einen neuen Wert zu: Die Hälfte des alten Werts. Welchen Typ hat die Variable nun?\n",
    "3. Verdoppeln Sie den Variablenwert wieder. Welchen Typ hat die Variable nun?\n",
    "4. Welchen Typ gibt die `print`-Funktion zurück?"
   ]
  }
 ],
 "metadata": {
  "celltoolbar": "Slideshow",
  "kernelspec": {
   "display_name": "Python 3",
   "language": "python",
   "name": "python3"
  },
  "language_info": {
   "codemirror_mode": {
    "name": "ipython",
    "version": 3
   },
   "file_extension": ".py",
   "mimetype": "text/x-python",
   "name": "python",
   "nbconvert_exporter": "python",
   "pygments_lexer": "ipython3",
   "version": "3.5.1+"
  },
  "nav_menu": {},
  "toc": {
   "navigate_menu": true,
   "number_sections": false,
   "sideBar": true,
   "threshold": 6,
   "toc_cell": false,
   "toc_section_display": "block",
   "toc_window_display": true
  }
 },
 "nbformat": 4,
 "nbformat_minor": 0
}
