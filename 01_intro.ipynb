{
 "cells": [
  {
   "cell_type": "markdown",
   "metadata": {
    "slideshow": {
     "slide_type": "slide"
    }
   },
   "source": [
    "# Einführung in das Programmieren mit Python"
   ]
  },
  {
   "cell_type": "markdown",
   "metadata": {
    "slideshow": {
     "slide_type": "fragment"
    }
   },
   "source": [
    "## Organisatorisches\n",
    "\n",
    "* Thorsten Vitt <thorsten.vitt@uni-wuerzburg.de>\n",
    "* Prüfung: 35% Hausaufgaben, 65% Klausur\n",
    "* B/NB oder Note abhängig von PO und Einordnung\n",
    "* Prüfungsanmeldung und -abmeldung notwendig\n",
    "\n",
    "### WueCampus\n",
    "\n",
    "* [wuecampus.uni-wuerzburg.de](https://wuecampus2.uni-wuerzburg.de/moodle/course/view.php?id=10589)\n",
    "* Hausaufgaben (Programmieraufgaben), Ergebnisse vorstellen\n",
    "* vier bewertete Aufgaben, regelmäßig Übungsaufgaben\n",
    "\n",
    "### DH-Mailingliste\n",
    "\n",
    "* <https://lists.uni-wuerzburg.de/mailman/listinfo/digital.humanities>\n",
    "* Bitte lesen Sie Ihre Uni-Würzburg-E-Mail-Adresse"
   ]
  },
  {
   "cell_type": "markdown",
   "metadata": {
    "slideshow": {
     "slide_type": "slide"
    }
   },
   "source": [
    "## Themen\n",
    "\n",
    "1. Einführung, Datentypen, Operatoren, Ausdrücke\n",
    "2. Datenstrukturen I: Listen, Dictionaries, Tupel\n",
    "3. Bedingungen und Verzweigungen\n",
    "4. Schleifen (while und for)\n",
    "5. Funktionen\n",
    "6. Module und Standardbibliothek\n",
    "7. Dateien und Exceptions\n",
    "8. Reguläre Ausdrücke\n",
    "9. Objektorientiertes Programmieren in Python\n",
    "10. XML verarbeiten mit `lxml` \\*\n",
    "11. Funktionales Programmieren: List Comprehensions, Generatoren, `map` und `reduce` \\*"
   ]
  },
  {
   "cell_type": "markdown",
   "metadata": {
    "slideshow": {
     "slide_type": "slide"
    }
   },
   "source": [
    "## Einführung, Datentypen, Operatoren"
   ]
  },
  {
   "cell_type": "markdown",
   "metadata": {
    "slideshow": {
     "slide_type": "slide"
    }
   },
   "source": [
    "#### Warum Python?"
   ]
  },
  {
   "cell_type": "markdown",
   "metadata": {
    "slideshow": {
     "slide_type": "fragment"
    }
   },
   "source": [
    "* Allzweck-Programmiersprache\n",
    "* Scriptsprache\n",
    "* _very high level programming language_\n",
    "* Ziel Klarheit und Lesbarkeit\n",
    "* Python 2 vs. Python 3"
   ]
  },
  {
   "cell_type": "markdown",
   "metadata": {
    "slideshow": {
     "slide_type": "subslide"
    }
   },
   "source": [
    "#### Programmierparadigmen"
   ]
  },
  {
   "cell_type": "markdown",
   "metadata": {
    "slideshow": {
     "slide_type": "fragment"
    }
   },
   "source": [
    "* **Imperatives Programmieren**\n",
    "* **Prozedurales Programmieren**\n",
    "    * Gliederung durch *Funktionen*\n",
    "* **Objektorientiertes Programmieren**\n",
    "    * Kapselung von Daten und Operationen (*Methoden*) darauf in *Objekten*\n",
    "    * Vererbung\n",
    "    * Polymorphie\n",
    "* **Funktionales Programmieren**\n",
    "    * mathematischer Funktionsbegriff     \n",
    "    * keine Nebeneffekte\n",
    "    * Daten sind unveränderlich"
   ]
  },
  {
   "cell_type": "markdown",
   "metadata": {
    "slideshow": {
     "slide_type": "slide"
    }
   },
   "source": [
    "#### 3 kleine Programme "
   ]
  },
  {
   "cell_type": "code",
   "execution_count": 1,
   "metadata": {
    "collapsed": false,
    "slideshow": {
     "slide_type": "subslide"
    }
   },
   "outputs": [
    {
     "name": "stdout",
     "output_type": "stream",
     "text": [
      "Hallo Welt!\n"
     ]
    }
   ],
   "source": [
    "print(\"Hallo Welt!\")"
   ]
  },
  {
   "cell_type": "code",
   "execution_count": 2,
   "metadata": {
    "collapsed": false,
    "slideshow": {
     "slide_type": "subslide"
    }
   },
   "outputs": [
    {
     "name": "stdout",
     "output_type": "stream",
     "text": [
      "9\n"
     ]
    }
   ],
   "source": [
    "print(2 + 7)     # Gib das Ergebnis der Addition von 2 + 7 aus"
   ]
  },
  {
   "cell_type": "code",
   "execution_count": 3,
   "metadata": {
    "collapsed": true,
    "slideshow": {
     "slide_type": "subslide"
    }
   },
   "outputs": [
    {
     "name": "stdout",
     "output_type": "stream",
     "text": [
      "24\n"
     ]
    }
   ],
   "source": [
    "print(3*8)      # Multipliziere 3 mal 8 und gib das Ergebnis aus"
   ]
  },
  {
   "cell_type": "markdown",
   "metadata": {
    "slideshow": {
     "slide_type": "slide"
    }
   },
   "source": [
    "## Praxis"
   ]
  },
  {
   "cell_type": "markdown",
   "metadata": {
    "slideshow": {
     "slide_type": "fragment"
    }
   },
   "source": [
    "* Starten Sie *Spyder*\n",
    "* Schreiben Sie das folgende kleine Python-Programm, speichern Sie es als ``helloworld.py`` und führen Sie es aus:\n",
    "```\n",
    "    print(\"Hello world!\")\n",
    "```\n",
    "* Geben Sie in der interaktiven Python-Konsole nacheinander folgende Anweisungen ein:\n",
    "```\n",
    "    print(\"Hello world!\")\n",
    "    \"Hello world!\"\n",
    "```\n",
    "* Dokumentation: <http://docs.python.org/3>"
   ]
  },
  {
   "cell_type": "markdown",
   "metadata": {
    "slideshow": {
     "slide_type": "slide"
    }
   },
   "source": [
    "## Grundbegriffe"
   ]
  },
  {
   "cell_type": "markdown",
   "metadata": {
    "slideshow": {
     "slide_type": "fragment"
    }
   },
   "source": [
    "### Anweisung\n",
    "\n",
    "![](files/images/print-anweisung.svg)"
   ]
  },
  {
   "cell_type": "markdown",
   "metadata": {
    "slideshow": {
     "slide_type": "slide"
    }
   },
   "source": [
    "### Arithmetische Operatoren\n",
    "* Grundrechenarten: `+`, `-`, `*`, `/`\n",
    "* Potenz: `5**2`\n",
    "* Divisionsoperatoren:"
   ]
  },
  {
   "cell_type": "code",
   "execution_count": 15,
   "metadata": {
    "collapsed": false,
    "slideshow": {
     "slide_type": "fragment"
    }
   },
   "outputs": [
    {
     "name": "stdout",
     "output_type": "stream",
     "text": [
      "1.75\n",
      "1\n",
      "3\n"
     ]
    }
   ],
   "source": [
    "print(7 / 4)    # Division → Dezimalzahl (float)\n",
    "print(7 // 4)   # Ganzzahldivision → Ganze Zahl (int)\n",
    "print(7 % 4)    # Divisionsrest (\"Modulo\") → Ganze Zahl (int)"
   ]
  },
  {
   "cell_type": "markdown",
   "metadata": {
    "slideshow": {
     "slide_type": "slide"
    }
   },
   "source": [
    "### Datentypen"
   ]
  },
  {
   "cell_type": "code",
   "execution_count": 5,
   "metadata": {
    "collapsed": false,
    "slideshow": {
     "slide_type": "fragment"
    }
   },
   "outputs": [
    {
     "data": {
      "text/plain": [
       "float"
      ]
     },
     "execution_count": 5,
     "metadata": {},
     "output_type": "execute_result"
    }
   ],
   "source": [
    "type(1.75)"
   ]
  },
  {
   "cell_type": "markdown",
   "metadata": {
    "slideshow": {
     "slide_type": "fragment"
    }
   },
   "source": [
    "<table>\n",
    "<thead>\n",
    "    <tr class=\"header\">\n",
    "        <th align=\"left\">Typisches Literal</th>\n",
    "        <th align=\"left\">Typ</th>\n",
    "        <th align=\"left\">Beschreibung</th>\n",
    "    </tr>\n",
    "</thead>\n",
    "<tbody>\n",
    "    <tr class=\"odd\">\n",
    "        <td align=\"left\"><code>5</code>, <code>-42</code></td>\n",
    "        <td align=\"left\"><code>int</code></td>\n",
    "        <td align=\"left\">Ganze Zahl (<em>Integer</em>)</td>\n",
    "    </tr>\n",
    "    <tr class=\"even\">\n",
    "        <td align=\"left\"><code>5.0</code>, <code>-3.75</code></td>\n",
    "        <td align=\"left\"><code>float</code></td>\n",
    "        <td align=\"left\">Fließkommazahl</td>\n",
    "    </tr>\n",
    "    <tr class=\"odd\">\n",
    "    <td align=\"left\"><code>&quot;Hallo&quot;</code></td>\n",
    "        <td align=\"left\"><code>str</code></td>\n",
    "        <td align=\"left\">Zeichenkette (<em>String</em>)</td>\n",
    "    </tr>\n",
    "    <tr class=\"even\">\n",
    "        <td align=\"left\"><code>True</code>, <code>False</code></td>\n",
    "        <td align=\"left\"><code>bool</code></td>\n",
    "        <td align=\"left\">Wahrheitswert</td>\n",
    "    </tr>\n",
    "</tbody>\n",
    "</table>\n"
   ]
  },
  {
   "cell_type": "code",
   "execution_count": 6,
   "metadata": {
    "collapsed": false,
    "slideshow": {
     "slide_type": "fragment"
    }
   },
   "outputs": [
    {
     "data": {
      "text/plain": [
       "False"
      ]
     },
     "execution_count": 6,
     "metadata": {},
     "output_type": "execute_result"
    }
   ],
   "source": [
    "4 == 5"
   ]
  },
  {
   "cell_type": "code",
   "execution_count": 7,
   "metadata": {
    "collapsed": false,
    "slideshow": {
     "slide_type": "fragment"
    }
   },
   "outputs": [
    {
     "data": {
      "text/plain": [
       "bool"
      ]
     },
     "execution_count": 7,
     "metadata": {},
     "output_type": "execute_result"
    }
   ],
   "source": [
    "type(4 == 5)"
   ]
  },
  {
   "cell_type": "markdown",
   "metadata": {
    "slideshow": {
     "slide_type": "slide"
    }
   },
   "source": [
    "### Strings (Zeichenketten)"
   ]
  },
  {
   "cell_type": "code",
   "execution_count": 9,
   "metadata": {
    "collapsed": false,
    "slideshow": {
     "slide_type": "fragment"
    }
   },
   "outputs": [
    {
     "name": "stdout",
     "output_type": "stream",
     "text": [
      "Verzeichnis:\n",
      "C:\\Programme\\WinPython\n"
     ]
    }
   ],
   "source": [
    "'Hallo Welt!'\n",
    "\"Peter's Pommesbude\"\n",
    "print(\"Verzeichnis:\\nC:\\\\Programme\\\\WinPython\")"
   ]
  },
  {
   "cell_type": "code",
   "execution_count": 10,
   "metadata": {
    "collapsed": false,
    "slideshow": {
     "slide_type": "fragment"
    }
   },
   "outputs": [
    {
     "name": "stdout",
     "output_type": "stream",
     "text": [
      "\n",
      "Ein Beispiel\n",
      "------------\n",
      "\n"
     ]
    }
   ],
   "source": [
    "print(\"\"\"\n",
    "Ein Beispiel\n",
    "------------\n",
    "\"\"\")"
   ]
  },
  {
   "cell_type": "markdown",
   "metadata": {
    "slideshow": {
     "slide_type": "subslide"
    }
   },
   "source": [
    "#### Operatoren für Strings"
   ]
  },
  {
   "cell_type": "code",
   "execution_count": 11,
   "metadata": {
    "collapsed": false,
    "slideshow": {
     "slide_type": "-"
    }
   },
   "outputs": [
    {
     "name": "stdout",
     "output_type": "stream",
     "text": [
      "Hallo Welt!\n",
      "Ho Ho Ho \n"
     ]
    }
   ],
   "source": [
    "print(\"Hallo \" + \"Welt!\")\n",
    "print(\"Ho \" * 3)"
   ]
  },
  {
   "cell_type": "markdown",
   "metadata": {
    "slideshow": {
     "slide_type": "slide"
    }
   },
   "source": [
    "### Ausdrücke"
   ]
  },
  {
   "cell_type": "markdown",
   "metadata": {
    "slideshow": {
     "slide_type": "-"
    }
   },
   "source": [
    "![](files/images/print-anweisung.svg)"
   ]
  },
  {
   "cell_type": "markdown",
   "metadata": {
    "slideshow": {
     "slide_type": "fragment"
    }
   },
   "source": [
    "* **Ausdruck** := syntaktisches Konstrukt, das in einem Kontext ausgewertet werden kann (also → Wert)\n",
    "\n",
    "* [Ausdrücke](https://docs.python.org/3/reference/expressions.html) sind rekursiv definiert, alles folgende sind Ausdrücke:\n",
    "\n",
    "    * ` 2`\n",
    "    * ` 3 * 4`\n",
    "    * ` 3 * 4 + 1`\n",
    "    * `(3 * 4 + 1) * len(\"Python\")`\n",
    "    * `(3 * 4 + 1) * len(\"Python\") < 5`\n",
    "\n",
    "* engl. _expression_"
   ]
  },
  {
   "cell_type": "markdown",
   "metadata": {
    "slideshow": {
     "slide_type": "slide"
    }
   },
   "source": [
    "<h3>Zuweisung des Ergebnisses eines Ausdrucks zu einer Variablen</h3>\n",
    "<img src=\"files/images/anweisung.png\" width=\"50%\" height=\"50%\" border=\"0\" alt=\"\">    "
   ]
  },
  {
   "cell_type": "code",
   "execution_count": 9,
   "metadata": {
    "collapsed": false,
    "slideshow": {
     "slide_type": "fragment"
    }
   },
   "outputs": [
    {
     "name": "stdout",
     "output_type": "stream",
     "text": [
      "9\n"
     ]
    }
   ],
   "source": [
    "a = 4\n",
    "b = 5\n",
    "c = a + b\n",
    "print(c)"
   ]
  },
  {
   "cell_type": "markdown",
   "metadata": {
    "slideshow": {
     "slide_type": "subslide"
    }
   },
   "source": [
    "![Variablenzuweisung erklärt](images/zuweisung-detail.svg)"
   ]
  },
  {
   "cell_type": "markdown",
   "metadata": {
    "slideshow": {
     "slide_type": "subslide"
    }
   },
   "source": [
    "### Variablenzuweisung = Name an Objekt binden\n",
    "\n",
    "![a = 1](images/assign1.svg)"
   ]
  },
  {
   "cell_type": "markdown",
   "metadata": {
    "slideshow": {
     "slide_type": "fragment"
    }
   },
   "source": [
    "![b = a](images/assign2.svg)"
   ]
  },
  {
   "cell_type": "markdown",
   "metadata": {
    "slideshow": {
     "slide_type": "subslide"
    }
   },
   "source": [
    "Variablen können auch überschrieben werden:"
   ]
  },
  {
   "cell_type": "code",
   "execution_count": 1,
   "metadata": {
    "collapsed": false,
    "slideshow": {
     "slide_type": "fragment"
    }
   },
   "outputs": [
    {
     "name": "stdout",
     "output_type": "stream",
     "text": [
      "6\n"
     ]
    }
   ],
   "source": [
    "n = 5\n",
    "n = n + 1\n",
    "print(n)"
   ]
  },
  {
   "cell_type": "markdown",
   "metadata": {
    "slideshow": {
     "slide_type": "fragment"
    }
   },
   "source": [
    "![b = 2](images/assign3.svg)"
   ]
  },
  {
   "cell_type": "markdown",
   "metadata": {
    "slideshow": {
     "slide_type": "subslide"
    }
   },
   "source": [
    "### Name / Bezeichner / Identifier\n",
    "\n",
    "* Bezeichnet irgendwas. Z.B. Variable, Funktion, …\n",
    "* _Syntax_: Beginnt mit Buchstabe oder Unterstrich, dann folgen Buchstaben, Unterstriche und Ziffern\n",
    "* `i`, `hausnummer`, `file1`, `_input`, `word_length`\n",
    "* Ausnahme: _Keywords_, z.B. `or`, `if`, …\n",
    "* Konventionen: Variablennamen aus Kleinbuchstaben, Sonderrolle für Unterstriche an Anfang / Ende"
   ]
  }
 ],
 "metadata": {
  "celltoolbar": "Slideshow",
  "kernelspec": {
   "display_name": "Python 3",
   "language": "python",
   "name": "python3"
  },
  "language_info": {
   "codemirror_mode": {
    "name": "ipython",
    "version": 3
   },
   "file_extension": ".py",
   "mimetype": "text/x-python",
   "name": "python",
   "nbconvert_exporter": "python",
   "pygments_lexer": "ipython3",
   "version": "3.4.2"
  }
 },
 "nbformat": 4,
 "nbformat_minor": 0
}
