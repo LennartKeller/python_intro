{
 "metadata": {
  "celltoolbar": "Slideshow",
  "name": "",
  "signature": "sha256:b5d9f96d3b9158cecbd6cf5ffc1897b7862d467580d8bd6d9dc03fb130a2f6f7"
 },
 "nbformat": 3,
 "nbformat_minor": 0,
 "worksheets": [
  {
   "cells": [
    {
     "cell_type": "heading",
     "level": 1,
     "metadata": {
      "slideshow": {
       "slide_type": "slide"
      }
     },
     "source": [
      "Einf\u00fchrung in das Programmieren mit Python"
     ]
    },
    {
     "cell_type": "markdown",
     "metadata": {
      "slideshow": {
       "slide_type": "fragment"
      }
     },
     "source": [
      "## Organisatorisches\n",
      "\n",
      "* Thorsten Vitt <thorsten.vitt@uni-wuerzburg.de>\n",
      "* BA 85 Digital Humanities, Fachspezifische Schl\u00fcsselqualifikationen (5 ECTS)\n",
      "\n",
      "### WueCampus\n",
      "\n",
      "* [wuecampus.uni-wuerzburg.de](https://wuecampus2.uni-wuerzburg.de/moodle/course/view.php?id=10589)\n",
      "* Hausaufgaben (Programmieraufgaben), Ergebnisse vorstellen\n",
      "* ~ jede zweite Woche eine *pr\u00fcfungsrelevante Aufgabe*, davon 4 bestehen\n",
      "\n",
      "### DH-Mailingliste\n",
      "\n",
      "* <https://lists.uni-wuerzburg.de/mailman/listinfo/digital.humanities>\n",
      "* Bitte lesen Sie Ihre Uni-W\u00fcrzburg-E-Mail-Adresse"
     ]
    },
    {
     "cell_type": "markdown",
     "metadata": {
      "slideshow": {
       "slide_type": "slide"
      }
     },
     "source": [
      "## Themen\n",
      "\n",
      "1. Einf\u00fchrung, Datentypen, Operatoren, Ausdr\u00fccke\n",
      "2. Datenstrukturen I: Listen, Dictionaries, Tupel\n",
      "3. Bedingungen und Verzweigungen\n",
      "4. Schleifen (while und for)\n",
      "5. Funktionen\n",
      "6. Module und Standardbibliothek\n",
      "7. Dateien und Exceptions\n",
      "8. Regul\u00e4re Ausdr\u00fccke\n",
      "9. Objektorientiertes Programmieren in Python\n",
      "10. XML verarbeiten mit `lxml` \\*\n",
      "11. Funktionales Programmieren: List Comprehensions, Generatoren, `map` und `reduce` \\*"
     ]
    },
    {
     "cell_type": "heading",
     "level": 2,
     "metadata": {
      "slideshow": {
       "slide_type": "slide"
      }
     },
     "source": [
      "Einf\u00fchrung, Datentypen, Operatoren"
     ]
    },
    {
     "cell_type": "heading",
     "level": 4,
     "metadata": {
      "slideshow": {
       "slide_type": "slide"
      }
     },
     "source": [
      "Warum Python?"
     ]
    },
    {
     "cell_type": "markdown",
     "metadata": {
      "slideshow": {
       "slide_type": "fragment"
      }
     },
     "source": [
      "* Allzweck-Programmiersprache\n",
      "* Scriptsprache\n",
      "* _very high level programming language_\n",
      "* Ziel Klarheit und Lesbarkeit\n",
      "* Python 2 vs. Python 3"
     ]
    },
    {
     "cell_type": "heading",
     "level": 4,
     "metadata": {
      "slideshow": {
       "slide_type": "subslide"
      }
     },
     "source": [
      "Programmierparadigmen"
     ]
    },
    {
     "cell_type": "markdown",
     "metadata": {
      "slideshow": {
       "slide_type": "fragment"
      }
     },
     "source": [
      "* **Imperatives Programmieren**\n",
      "* **Prozedurales Programmieren**\n",
      "    * Gliederung durch *Funktionen*\n",
      "* **Objektorientiertes Programmieren**\n",
      "    * Kapselung von Daten und Operationen (*Methoden*) darauf in *Objekten*\n",
      "    * Vererbung\n",
      "    * Polymorphie\n",
      "* **Funktionales Programmieren**\n",
      "    * mathematischer Funktionsbegriff     \n",
      "    * keine Nebeneffekte\n",
      "    * Daten sind unver\u00e4nderlich"
     ]
    },
    {
     "cell_type": "heading",
     "level": 4,
     "metadata": {
      "slideshow": {
       "slide_type": "slide"
      }
     },
     "source": [
      "3 kleine Programme "
     ]
    },
    {
     "cell_type": "code",
     "collapsed": false,
     "input": [
      "print(\"Hallo Welt!\")"
     ],
     "language": "python",
     "metadata": {
      "slideshow": {
       "slide_type": "subslide"
      }
     },
     "outputs": [
      {
       "output_type": "stream",
       "stream": "stdout",
       "text": [
        "Hallo Welt!\n"
       ]
      }
     ],
     "prompt_number": 1
    },
    {
     "cell_type": "code",
     "collapsed": false,
     "input": [
      "print(2 + 7)     # Gib das Ergebnis der Addition von 2 + 7 aus"
     ],
     "language": "python",
     "metadata": {
      "slideshow": {
       "slide_type": "subslide"
      }
     },
     "outputs": [
      {
       "output_type": "stream",
       "stream": "stdout",
       "text": [
        "9\n"
       ]
      }
     ],
     "prompt_number": 2
    },
    {
     "cell_type": "code",
     "collapsed": true,
     "input": [
      "print(3*8)      # Multipliziere 3 mal 8 und gib das Ergebnis aus"
     ],
     "language": "python",
     "metadata": {
      "slideshow": {
       "slide_type": "subslide"
      }
     },
     "outputs": [
      {
       "output_type": "stream",
       "stream": "stdout",
       "text": [
        "24\n"
       ]
      }
     ],
     "prompt_number": 3
    },
    {
     "cell_type": "heading",
     "level": 2,
     "metadata": {
      "slideshow": {
       "slide_type": "slide"
      }
     },
     "source": [
      "Praxis"
     ]
    },
    {
     "cell_type": "markdown",
     "metadata": {
      "slideshow": {
       "slide_type": "fragment"
      }
     },
     "source": [
      "* Starten Sie *Spyder*\n",
      "* Schreiben Sie das folgende kleine Python-Programm, speichern Sie es als ``helloworld.py`` und f\u00fchren Sie es aus:\n",
      "```\n",
      "    print(\"Hello world!\")\n",
      "```\n",
      "* Geben Sie in der interaktiven Python-Konsole nacheinander folgende Anweisungen ein:\n",
      "```\n",
      "    print(\"Hello world!\")\n",
      "    \"Hello world!\"\n",
      "```\n",
      "* Dokumentation: <http://docs.python.org/3>"
     ]
    },
    {
     "cell_type": "heading",
     "level": 2,
     "metadata": {
      "slideshow": {
       "slide_type": "slide"
      }
     },
     "source": [
      "Grundbegriffe"
     ]
    },
    {
     "cell_type": "markdown",
     "metadata": {
      "slideshow": {
       "slide_type": "fragment"
      }
     },
     "source": [
      "### Anweisung\n",
      "\n",
      "![](files/images/print-anweisung.svg)"
     ]
    },
    {
     "cell_type": "markdown",
     "metadata": {
      "slideshow": {
       "slide_type": "slide"
      }
     },
     "source": [
      "### Arithmetische Operatoren\n",
      "* Grundrechenarten: `+`, `-`, `*`, `/`\n",
      "* Potenz: `5**2`\n",
      "* Divisionsoperatoren:"
     ]
    },
    {
     "cell_type": "code",
     "collapsed": false,
     "input": [
      "print(7 / 4)    # Division \u2192 Dezimalzahl (float)\n",
      "print(7 // 4)   # Ganzzahldivision \u2192 Ganze Zahl (int)\n",
      "print(7 % 4)    # Divisionsrest (\"Modulo\") \u2192 Ganze Zahl (int)"
     ],
     "language": "python",
     "metadata": {
      "slideshow": {
       "slide_type": "fragment"
      }
     },
     "outputs": [
      {
       "output_type": "stream",
       "stream": "stdout",
       "text": [
        "1.75\n",
        "1\n",
        "3\n"
       ]
      }
     ],
     "prompt_number": 15
    },
    {
     "cell_type": "markdown",
     "metadata": {
      "slideshow": {
       "slide_type": "slide"
      }
     },
     "source": [
      "### Datentypen"
     ]
    },
    {
     "cell_type": "code",
     "collapsed": false,
     "input": [
      "type(1.75)"
     ],
     "language": "python",
     "metadata": {
      "slideshow": {
       "slide_type": "fragment"
      }
     },
     "outputs": [
      {
       "metadata": {},
       "output_type": "pyout",
       "prompt_number": 5,
       "text": [
        "float"
       ]
      }
     ],
     "prompt_number": 5
    },
    {
     "cell_type": "markdown",
     "metadata": {
      "slideshow": {
       "slide_type": "fragment"
      }
     },
     "source": [
      "<table>\n",
      "<thead>\n",
      "    <tr class=\"header\">\n",
      "        <th align=\"left\">Typisches Literal</th>\n",
      "        <th align=\"left\">Typ</th>\n",
      "        <th align=\"left\">Beschreibung</th>\n",
      "    </tr>\n",
      "</thead>\n",
      "<tbody>\n",
      "    <tr class=\"odd\">\n",
      "        <td align=\"left\"><code>5</code>, <code>-42</code></td>\n",
      "        <td align=\"left\"><code>int</code></td>\n",
      "        <td align=\"left\">Ganze Zahl (<em>Integer</em>)</td>\n",
      "    </tr>\n",
      "    <tr class=\"even\">\n",
      "        <td align=\"left\"><code>5.0</code>, <code>-3.75</code></td>\n",
      "        <td align=\"left\"><code>float</code></td>\n",
      "        <td align=\"left\">Flie\u00dfkommazahl</td>\n",
      "    </tr>\n",
      "    <tr class=\"odd\">\n",
      "    <td align=\"left\"><code>&quot;Hallo&quot;</code></td>\n",
      "        <td align=\"left\"><code>str</code></td>\n",
      "        <td align=\"left\">Zeichenkette (<em>String</em>)</td>\n",
      "    </tr>\n",
      "    <tr class=\"even\">\n",
      "        <td align=\"left\"><code>True</code>, <code>False</code></td>\n",
      "        <td align=\"left\"><code>bool</code></td>\n",
      "        <td align=\"left\">Wahrheitswert</td>\n",
      "    </tr>\n",
      "</tbody>\n",
      "</table>\n"
     ]
    },
    {
     "cell_type": "code",
     "collapsed": false,
     "input": [
      "4 == 5"
     ],
     "language": "python",
     "metadata": {
      "slideshow": {
       "slide_type": "fragment"
      }
     },
     "outputs": [
      {
       "metadata": {},
       "output_type": "pyout",
       "prompt_number": 6,
       "text": [
        "False"
       ]
      }
     ],
     "prompt_number": 6
    },
    {
     "cell_type": "code",
     "collapsed": false,
     "input": [
      "type(4 == 5)"
     ],
     "language": "python",
     "metadata": {
      "slideshow": {
       "slide_type": "fragment"
      }
     },
     "outputs": [
      {
       "metadata": {},
       "output_type": "pyout",
       "prompt_number": 7,
       "text": [
        "bool"
       ]
      }
     ],
     "prompt_number": 7
    },
    {
     "cell_type": "markdown",
     "metadata": {
      "slideshow": {
       "slide_type": "slide"
      }
     },
     "source": [
      "### Strings (Zeichenketten)"
     ]
    },
    {
     "cell_type": "code",
     "collapsed": false,
     "input": [
      "'Hallo Welt!'\n",
      "\"Peter's Pommesbude\"\n",
      "print(\"Verzeichnis:\\nC:\\\\Programme\\\\WinPython\")"
     ],
     "language": "python",
     "metadata": {
      "slideshow": {
       "slide_type": "fragment"
      }
     },
     "outputs": [
      {
       "output_type": "stream",
       "stream": "stdout",
       "text": [
        "Verzeichnis:\n",
        "C:\\Programme\\WinPython\n"
       ]
      }
     ],
     "prompt_number": 9
    },
    {
     "cell_type": "code",
     "collapsed": false,
     "input": [
      "print(\"\"\"\n",
      "Ein Beispiel\n",
      "------------\n",
      "\"\"\")"
     ],
     "language": "python",
     "metadata": {
      "slideshow": {
       "slide_type": "fragment"
      }
     },
     "outputs": [
      {
       "output_type": "stream",
       "stream": "stdout",
       "text": [
        "\n",
        "Ein Beispiel\n",
        "------------\n",
        "\n"
       ]
      }
     ],
     "prompt_number": 10
    },
    {
     "cell_type": "heading",
     "level": 4,
     "metadata": {
      "slideshow": {
       "slide_type": "subslide"
      }
     },
     "source": [
      "Operatoren f\u00fcr Strings"
     ]
    },
    {
     "cell_type": "code",
     "collapsed": false,
     "input": [
      "print(\"Hallo \" + \"Welt!\")\n",
      "print(\"Ho \" * 3)"
     ],
     "language": "python",
     "metadata": {
      "slideshow": {
       "slide_type": "-"
      }
     },
     "outputs": [
      {
       "output_type": "stream",
       "stream": "stdout",
       "text": [
        "Hallo Welt!\n",
        "Ho Ho Ho \n"
       ]
      }
     ],
     "prompt_number": 11
    },
    {
     "cell_type": "heading",
     "level": 3,
     "metadata": {
      "slideshow": {
       "slide_type": "slide"
      }
     },
     "source": [
      "Ausdr\u00fccke"
     ]
    },
    {
     "cell_type": "markdown",
     "metadata": {
      "slideshow": {
       "slide_type": "-"
      }
     },
     "source": [
      "![](files/images/print-anweisung.svg)"
     ]
    },
    {
     "cell_type": "markdown",
     "metadata": {
      "slideshow": {
       "slide_type": "fragment"
      }
     },
     "source": [
      "* **Ausdruck** := syntaktisches Konstrukt, das in einem Kontext ausgewertet werden kann (also \u2192 Wert)\n",
      "\n",
      "* [Ausdr\u00fccke](https://docs.python.org/3/reference/expressions.html) sind rekursiv definiert, alles folgende sind Ausdr\u00fccke:\n",
      "\n",
      "    * ` 2`\n",
      "    * ` 3 * 4`\n",
      "    * ` 3 * 4 + 1`\n",
      "    * `(3 * 4 + 1) * len(\"Python\")`\n",
      "    * `(3 * 4 + 1) * len(\"Python\") < 5`\n",
      "\n",
      "* engl. _expression_"
     ]
    },
    {
     "cell_type": "markdown",
     "metadata": {
      "slideshow": {
       "slide_type": "slide"
      }
     },
     "source": [
      "<h3>Zuweisung des Ergebnisses eines Ausdrucks zu einer Variablen</h3>\n",
      "<img src=\"files/images/anweisung.png\" width=\"50%\" height=\"50%\" border=\"0\" alt=\"\">    "
     ]
    },
    {
     "cell_type": "code",
     "collapsed": false,
     "input": [
      "a = 4\n",
      "b = 5\n",
      "c = a + b\n",
      "print(c)"
     ],
     "language": "python",
     "metadata": {
      "slideshow": {
       "slide_type": "fragment"
      }
     },
     "outputs": [
      {
       "output_type": "stream",
       "stream": "stdout",
       "text": [
        "9\n"
       ]
      }
     ],
     "prompt_number": 9
    },
    {
     "cell_type": "markdown",
     "metadata": {
      "slideshow": {
       "slide_type": "subslide"
      }
     },
     "source": [
      "![Variablenzuweisung erkl\u00e4rt](images/zuweisung-detail.svg)"
     ]
    },
    {
     "cell_type": "markdown",
     "metadata": {
      "slideshow": {
       "slide_type": "subslide"
      }
     },
     "source": [
      "### Variablenzuweisung = Name an Objekt binden\n",
      "\n",
      "![a = 1](images/assign1.svg)"
     ]
    },
    {
     "cell_type": "markdown",
     "metadata": {
      "slideshow": {
       "slide_type": "fragment"
      }
     },
     "source": [
      "![b = a](images/assign2.svg)"
     ]
    },
    {
     "cell_type": "markdown",
     "metadata": {
      "slideshow": {
       "slide_type": "subslide"
      }
     },
     "source": [
      "Variablen k\u00f6nnen auch \u00fcberschrieben werden:"
     ]
    },
    {
     "cell_type": "code",
     "collapsed": false,
     "input": [
      "n = 5\n",
      "n = n + 1\n",
      "print(n)"
     ],
     "language": "python",
     "metadata": {
      "slideshow": {
       "slide_type": "fragment"
      }
     },
     "outputs": [
      {
       "output_type": "stream",
       "stream": "stdout",
       "text": [
        "6\n"
       ]
      }
     ],
     "prompt_number": 10
    },
    {
     "cell_type": "markdown",
     "metadata": {
      "slideshow": {
       "slide_type": "fragment"
      }
     },
     "source": [
      "![b = 2](images/assign3.svg)"
     ]
    },
    {
     "cell_type": "markdown",
     "metadata": {
      "slideshow": {
       "slide_type": "subslide"
      }
     },
     "source": [
      "### Name / Bezeichner / Identifier\n",
      "\n",
      "* Bezeichnet irgendwas. Z.B. Variable, Funktion, \u2026\n",
      "* _Syntax_: Beginnt mit Buchstabe oder Unterstrich, dann folgen Buchstaben, Unterstriche und Ziffern\n",
      "* `i`, `hausnummer`, `file1`, `_input`, `word_length`\n",
      "* Ausnahme: _Keywords_, z.B. `or`, `if`, \u2026\n",
      "* Konventionen: Variablennamen aus Kleinbuchstaben, Sonderrolle f\u00fcr Unterstriche an Anfang / Ende"
     ]
    },
    {
     "cell_type": "code",
     "collapsed": false,
     "input": [],
     "language": "python",
     "metadata": {},
     "outputs": []
    }
   ],
   "metadata": {}
  }
 ]
}