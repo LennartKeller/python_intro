{
 "metadata": {
  "name": "",
  "signature": "sha256:d7c7fabf18a5944d67db3769d6ee6bc3e75fb5a0bca28a0bf635d6502a4abf1c"
 },
 "nbformat": 3,
 "nbformat_minor": 0,
 "worksheets": [
  {
   "cells": [
    {
     "cell_type": "heading",
     "level": 1,
     "metadata": {
      "slideshow": {
       "slide_type": "slide"
      }
     },
     "source": [
      "Programmieren mit Python 3: 5. Sitzung"
     ]
    },
    {
     "cell_type": "heading",
     "level": 2,
     "metadata": {
      "slideshow": {
       "slide_type": "slide"
      }
     },
     "source": [
      "Objektorientierte Programmierung"
     ]
    },
    {
     "cell_type": "markdown",
     "metadata": {
      "slideshow": {
       "slide_type": "slide"
      }
     },
     "source": [
      "<h3>Grundbegriffe der objektorientierten Programmierung</h3>\n",
      "<ul>\n",
      "<li>Klassen <br/>\n",
      "umfassen zusammengeh\u00f6rige Daten und passende Methoden f\u00fcr die Daten</li>\n",
      "<li>Klassen und Instanzen<br/>\n",
      "Klassen sind sozusagen Blaupausen. Beim Aufruf werden Sie instantiiert, dh. aufgrund der Blaupause und spezifischen Daten wird eine Instanz gebildet. </li>\n",
      "<li>Kapselung <br/>\n",
      "Eine Klasse ist (eigentlich) eine black box. D.h. ihre Implementierung ist f\u00fcr den Anwender unsichtbar und auch ohne Belang. Er verwendet nur die festgelegte Schnittstelle, dh. die \u00f6ffentlichen Methoden.</li>\n",
      "<li>Vererbung<br/>\n",
      "OOP erlaubt die Organisation von Objekten in Hierarchien. Untere Klassen erben Methoden und Klassenvariablen von oberen Klassen.</li>\n",
      "<li>Polymorphismus<br/>\n",
      "Methoden mit gleichem Namen f\u00fchren unterschiedliche Befehle aus, abh\u00e4ngig von der spezifischen Klasse.</li> \n"
     ]
    },
    {
     "cell_type": "markdown",
     "metadata": {
      "slideshow": {
       "slide_type": "slide"
      }
     },
     "source": [
      "<h3>Objekte und Klassen in Python</h3>\n",
      "<ul>\n",
      "<li>Alles in Python ist ein Objekt, also alle Daten, Datentypen, aber auch die Funktionen, die Exceptions, einfach alles. </li>\n",
      "<li>Die Funktionen einer Klasse nennt man ihre Methoden. Typische Methoden sind etwa die Methoden der Klasse String, z.B. die Methode split(): \"hello world\".split().<br/>\n",
      "Methoden werden mit einem Punkt als Trenner an das Objekt angeh\u00e4ngt. Sie erinnern sich: Methoden haben wie Funktionen Parameter beim Aufruf und geben zumeist auch etwas zur\u00fcck:</li>\n"
     ]
    },
    {
     "cell_type": "code",
     "collapsed": false,
     "input": [
      "a = \"hello world\"\n",
      "print (type(a))"
     ],
     "language": "python",
     "metadata": {
      "slideshow": {
       "slide_type": "fragment"
      }
     },
     "outputs": [
      {
       "output_type": "stream",
       "stream": "stdout",
       "text": [
        "<class 'str'>\n"
       ]
      }
     ],
     "prompt_number": 6
    },
    {
     "cell_type": "code",
     "collapsed": false,
     "input": [
      "a.split()"
     ],
     "language": "python",
     "metadata": {
      "slideshow": {
       "slide_type": "fragment"
      }
     },
     "outputs": [
      {
       "metadata": {},
       "output_type": "pyout",
       "prompt_number": 7,
       "text": [
        "['hello', 'world']"
       ]
      }
     ],
     "prompt_number": 7
    },
    {
     "cell_type": "code",
     "collapsed": false,
     "input": [
      "a.islower()"
     ],
     "language": "python",
     "metadata": {
      "slideshow": {
       "slide_type": "fragment"
      }
     },
     "outputs": [
      {
       "metadata": {},
       "output_type": "pyout",
       "prompt_number": 10,
       "text": [
        "True"
       ]
      }
     ],
     "prompt_number": 10
    },
    {
     "cell_type": "code",
     "collapsed": false,
     "input": [
      "a.islower()"
     ],
     "language": "python",
     "metadata": {
      "slideshow": {
       "slide_type": "slide"
      }
     },
     "outputs": [
      {
       "metadata": {},
       "output_type": "pyout",
       "prompt_number": 9,
       "text": [
        "True"
       ]
      }
     ],
     "prompt_number": 9
    },
    {
     "cell_type": "code",
     "collapsed": false,
     "input": [
      "b = [\"hello\",\"to\", \"all\", \"pythonista\"]\n",
      "\" - \".join(b)"
     ],
     "language": "python",
     "metadata": {
      "slideshow": {
       "slide_type": "fragment"
      }
     },
     "outputs": [
      {
       "metadata": {},
       "output_type": "pyout",
       "prompt_number": 13,
       "text": [
        "'hello - to - all - pythonista'"
       ]
      }
     ],
     "prompt_number": 13
    },
    {
     "cell_type": "markdown",
     "metadata": {
      "slideshow": {
       "slide_type": "slide"
      }
     },
     "source": [
      "<h3 style=\"color:green\">Aufgaben</h3>\n",
      "1) Schlagen Sie im Python-Handbuch nach, mit welcher String-Methode sie z\u00e4hlen k\u00f6nnen, wie h\u00e4ufig der String a in dem String b vorkommt. \n",
      "2) Testen Sie die Methode an a= \"aus\" und b=\"Im Haus fand der Nikolaus eine kleine Schokoladenmaus.\" Wie m\u00fcsste ihr Code aussehen, wenn Sie nur die zweite H\u00e4lfte von b durchsuchen wollten."
     ]
    },
    {
     "cell_type": "markdown",
     "metadata": {
      "slideshow": {
       "slide_type": "slide"
      }
     },
     "source": [
      "<h3>Klassen und Methoden</h3>\n",
      "<p>Definiert die Klasse 'Foo':</p>"
     ]
    },
    {
     "cell_type": "code",
     "collapsed": false,
     "input": [
      "class Foo:\n",
      "\t\"\"\" Defines a simple class \"\"\"\n",
      "\tdef __init__(self, msg):    #interne Methode, die beim Aufruf der Klasse (Foo(\"hi\")) aufgerufen wird.\n",
      "\t\t                        #allen Instanz-Methoden wird als erster Parameter self \u00fcbergeben.  \n",
      "        self.msg = msg          #hier wird der Wert der  Variablen msg der Instanzvariablen self.msg zugeschrieben\n",
      "                                \n",
      "    def getMsg(self):\n",
      "\t\treturn self.msg         #Der Zugriff auf diese Instanzvariable im Code der Klasse geschieht stets mit self.name "
     ],
     "language": "python",
     "metadata": {
      "slideshow": {
       "slide_type": "fragment"
      }
     },
     "outputs": [],
     "prompt_number": 15
    },
    {
     "cell_type": "markdown",
     "metadata": {
      "slideshow": {
       "slide_type": "fragment"
      }
     },
     "source": [
      "<p>Nun k\u00f6nnen wir die Klasse verwenden. Zur Erinnerung: Foo() = definiert die Klasse;  a = eine Instanz der Klasse Foo:"
     ]
    },
    {
     "cell_type": "code",
     "collapsed": false,
     "input": [
      "a = Foo(\"Meine Nachricht\")\n",
      "print(a.getMsg())   #eine Methode, die als Parameter nur self hat, bleibt leer"
     ],
     "language": "python",
     "metadata": {
      "slideshow": {
       "slide_type": "fragment"
      }
     },
     "outputs": [
      {
       "output_type": "stream",
       "stream": "stdout",
       "text": [
        "Meine Nachricht\n"
       ]
      }
     ],
     "prompt_number": 17
    },
    {
     "cell_type": "markdown",
     "metadata": {
      "slideshow": {
       "slide_type": "fragment"
      }
     },
     "source": [
      "<p>Man kann in Python auch direkt auf die Werte einer Instanzvariablen zugreifen:"
     ]
    },
    {
     "cell_type": "code",
     "collapsed": false,
     "input": [
      "a.msg"
     ],
     "language": "python",
     "metadata": {
      "slideshow": {
       "slide_type": "fragment"
      }
     },
     "outputs": [
      {
       "metadata": {},
       "output_type": "pyout",
       "prompt_number": 18,
       "text": [
        "'Meine Nachricht'"
       ]
      }
     ],
     "prompt_number": 18
    },
    {
     "cell_type": "markdown",
     "metadata": {
      "slideshow": {
       "slide_type": "slide"
      }
     },
     "source": [
      "<h3>Noch ein Beispiel</h3>"
     ]
    },
    {
     "cell_type": "code",
     "collapsed": false,
     "input": [
      "import math\n",
      "class circle:\n",
      "    \"\"\"defines a circle\"\"\"\n",
      "    def __init__(self,r):\n",
      "        self.r = r\n",
      "    def diameter (self):\n",
      "        return 2*self.r\n",
      "    def area (self):\n",
      "        return math.pow(self.r,2) * math.pi\n",
      "    def set_r (self,r):\n",
      "        self.r = r\n"
     ],
     "language": "python",
     "metadata": {
      "slideshow": {
       "slide_type": "fragment"
      }
     },
     "outputs": [],
     "prompt_number": 26
    },
    {
     "cell_type": "code",
     "collapsed": false,
     "input": [
      "#Instanz der Klasse circle\n",
      "c = circle(5)\n",
      "print (c.diameter())\n",
      "print (c.area())\n",
      "#andere Instanz der Klasse\n",
      "nc = circle(7)\n",
      "print (nc.diameter())\n",
      "#ver\u00e4ndert r der 1.Instanz\n",
      "c.set_r(2)\n",
      "print (c.diameter())\n",
      "print (nc.diameter())\n",
      "print (\"Radius der Instanz c: \", c.r)\n",
      "print (\"Radius der Instanz nc: \", nc.r)"
     ],
     "language": "python",
     "metadata": {
      "slideshow": {
       "slide_type": "slide"
      }
     },
     "outputs": [
      {
       "output_type": "stream",
       "stream": "stdout",
       "text": [
        "10\n",
        "78.53981633974483\n",
        "14\n",
        "4\n",
        "14\n",
        "Radius der Instanz c:  2\n",
        "Radius der Instanz nc:  7\n"
       ]
      }
     ],
     "prompt_number": 29
    },
    {
     "cell_type": "markdown",
     "metadata": {
      "slideshow": {
       "slide_type": "slide"
      }
     },
     "source": [
      "<h3 style=\"color:green\">Aufgaben</h3>\n",
      "<p>1) Definieren Sie eine Klasse mit dem Namen Text, der beim Aufruf ein String \u00fcbergeben wird, z.B.:<br/>\n",
      "<code>t = Text(\"Dies ist ein kleiner Text. Nicht der Rede wert. Aber immerhin.\") </code></p>\n",
      "<p>2) Definieren Sie eine Methode der Klasse, die die L\u00e4nge des Textes zur\u00fcckgibt.</p>\n",
      "<p>3) Definieren Sie eine weitere Methode, die die Worte in Form einer Liste zur\u00fcckgibt.</p>"
     ]
    },
    {
     "cell_type": "markdown",
     "metadata": {
      "slideshow": {
       "slide_type": "slide"
      }
     },
     "source": [
      "<h3>Musterl\u00f6sung</h3>"
     ]
    },
    {
     "cell_type": "code",
     "collapsed": false,
     "input": [
      "class Text ():\n",
      "    def __init__(self, text):\n",
      "        self.text = text\n",
      "    def length(self):\n",
      "        return len(self.text)\n",
      "    def words(self):\n",
      "        return self.text.split()\n",
      "t = Text(\"Dies ist ein kleiner Text. Nicht der Rede wert. Aber immerhin.\")\n",
      "print (t.length())\n",
      "print (t.words())"
     ],
     "language": "python",
     "metadata": {
      "slideshow": {
       "slide_type": "slide"
      }
     },
     "outputs": [
      {
       "output_type": "stream",
       "stream": "stdout",
       "text": [
        "62\n",
        "['Dies', 'ist', 'ein', 'kleiner', 'Text.', 'Nicht', 'der', 'Rede', 'wert.', 'Aber', 'immerhin.']\n"
       ]
      }
     ],
     "prompt_number": 5
    },
    {
     "cell_type": "markdown",
     "metadata": {
      "slideshow": {
       "slide_type": "slide"
      }
     },
     "source": [
      "<img src=\"files/images/inheritance.png\">"
     ]
    },
    {
     "cell_type": "code",
     "collapsed": false,
     "input": [
      "class Person:\n",
      "    \"\"\"defines a person\"\"\"\n",
      "    def __init__(self,name, email, adresse):\n",
      "        self.name = name\n",
      "        self.email = email\n",
      "        self.adresse = adresse\n",
      "\n",
      "    def getEmail(self):\n",
      "        return '\"' + self.name + '\" <' + self.email + '>'\n",
      "\n",
      "    def formattedEntry(self):\n",
      "        print (self.name)\n",
      "        print (self.adresse)\n",
      "        print (self.email)\n"
     ],
     "language": "python",
     "metadata": {
      "slideshow": {
       "slide_type": "slide"
      }
     },
     "outputs": [],
     "prompt_number": 2
    },
    {
     "cell_type": "code",
     "collapsed": false,
     "input": [
      "class Mitarbeiter (Person):    #erbt von der Klasse Person\n",
      "    def __init__(self, name, email, adresse, abteilung, gehalt):\n",
      "        super().__init__(name, email, adresse) #ruft konstruktor der super klasse auf\n",
      "        self.abteilung = abteilung\n",
      "        self.gehalt = gehalt\n",
      "\n",
      "    def formattedEntry(self):      # \u00fcberschreibt die gleichnamige Methode der Basisklasse\n",
      "        print (self.name)\n",
      "        print (self.adresse)\n",
      "        print (self.email)\n",
      "        print (self.abteilung)\n",
      "        print (self.gehalt)"
     ],
     "language": "python",
     "metadata": {
      "slideshow": {
       "slide_type": "slide"
      }
     },
     "outputs": [],
     "prompt_number": 3
    },
    {
     "cell_type": "markdown",
     "metadata": {
      "slideshow": {
       "slide_type": "slide"
      }
     },
     "source": [
      "<h3>Aufgabe</h3>\n",
      "<p>Wir wollen eine Unterklasse zu Text, die wir Document nennen. Sie soll Texte verwalten, die Autoren und einen Titel haben. Diese Informationen sollen beim Initiieren der Klasse zus\u00e4tzlich angegeben werden.\n",
      "<p>Au\u00dferdem soll Document eine zus\u00e4tzliche Methode namens biblio haben, die Autor und Titel in der Form \"Autor: Titel\" ausgibt."
     ]
    },
    {
     "cell_type": "markdown",
     "metadata": {
      "slideshow": {
       "slide_type": "slide"
      }
     },
     "source": [
      "<h3>Musterl\u00f6sung</h3>"
     ]
    },
    {
     "cell_type": "code",
     "collapsed": false,
     "input": [
      "class Document(Text):\n",
      "    def __init__(self, text, author, title):\n",
      "        super().__init__(text)\n",
      "        self.author = author\n",
      "        self.title = title\n",
      "    \n",
      "    def biblio(self):\n",
      "        return self.author + \": \" + self.title"
     ],
     "language": "python",
     "metadata": {
      "slideshow": {
       "slide_type": "fragment"
      }
     },
     "outputs": [],
     "prompt_number": 6
    },
    {
     "cell_type": "code",
     "collapsed": false,
     "input": [
      "d = Document(\"Dies ist der Text\", \"Goethe\", \"Wahlverwandtschaften\")\n",
      "print (d.biblio(), \" (\", d.length(), \")\")    # wir verwenden Methoden der Klasse Document und der \u00fcbergeordneten Klasse (manchmal\n",
      "                                             #auch  'super class' genannt)"
     ],
     "language": "python",
     "metadata": {
      "slideshow": {
       "slide_type": "slide"
      }
     },
     "outputs": [
      {
       "output_type": "stream",
       "stream": "stdout",
       "text": [
        "Goethe: Wahlverwandtschaften  ( 17 )\n"
       ]
      }
     ],
     "prompt_number": 7
    },
    {
     "cell_type": "markdown",
     "metadata": {
      "slideshow": {
       "slide_type": "slide"
      }
     },
     "source": [
      "<h3>Kapselung</h3>\n",
      "<ul>\n",
      "<li>Anders als in anderen OO-Programmiersprachen wird in Python Kapselung nicht unterst\u00fctzt, d.h. alle Klassenvariablen sind direkt zug\u00e4nglich: classname.varname</li>\n",
      "<li>Konvention: Funktionen und Variablen, die mit einem Unterstrich anfangen, werden als interne Funktionen/Variablen betrachtet. Direkten Zugriff vermeiden!</li>\n",
      "</ul>\n"
     ]
    },
    {
     "cell_type": "markdown",
     "metadata": {
      "slideshow": {
       "slide_type": "slide"
      }
     },
     "source": [
      "<h3>Methoden \u00fcberladen (method overloading)</h3>\n",
      "<p>Oft ist es sinnvoll, dass eine Unterklasse eine Methode der Superklasse selbst\u00e4ndig berechnet, da hier andere Daten/Algorithmen zur Anwendung kommen. </p>"
     ]
    },
    {
     "cell_type": "code",
     "collapsed": false,
     "input": [
      "class XMLText(Text):\n",
      "    def length(self):\n",
      "        l = 0\n",
      "        NORMALTEXT = 0\n",
      "        MARKUP = 1\n",
      "        state = 0\n",
      "        for i in self.text:\n",
      "            if i == \"<\":\n",
      "                state = MARKUP\n",
      "            elif i == \">\" and state == MARKUP:\n",
      "                state = NORMALTEXT\n",
      "            if state == NORMALTEXT:\n",
      "                l += 1\n",
      "        return l\n",
      "\n",
      "t = \"<img src=dothis.png/>Here you <b>go</b>!\"\n",
      "a = Text(t)\n",
      "print (a.length())\n",
      "x = XMLText(t)\n",
      "print (x.length())"
     ],
     "language": "python",
     "metadata": {
      "slideshow": {
       "slide_type": "fragment"
      }
     },
     "outputs": [
      {
       "output_type": "stream",
       "stream": "stdout",
       "text": [
        "40\n",
        "15\n"
       ]
      }
     ],
     "prompt_number": 50
    },
    {
     "cell_type": "markdown",
     "metadata": {
      "slideshow": {
       "slide_type": "slide"
      }
     },
     "source": [
      "<h3 style=\"color:green\">Hausaufgaben</h3>\n",
      "<p>Setzen Sie das folgende Klassendiagramm um (die Angaben \u00fcber dem Strich sind Klassennamen, darunter finden sich Methodennamen. Bedenken Sie den jeweiligen Aufbau des Konstruktors:</p>\n",
      "<img src=\"files/images/inheritance-task.png\">"
     ]
    },
    {
     "cell_type": "markdown",
     "metadata": {
      "slideshow": {
       "slide_type": "slide"
      }
     },
     "source": [
      "<h3>Graphical user interface</h3>\n",
      "<p>Tk  Standard f\u00fcr GUI in Skriptsprachen (nur zur Information...) </p>\n",
      "<p>tkinter die Br\u00fccke zu  Tk in Python</p>"
     ]
    },
    {
     "cell_type": "code",
     "collapsed": false,
     "input": [
      "from tkinter import *\n",
      "from tkinter import ttk\n",
      "\n",
      "def calculate(*args):\n",
      "    try:\n",
      "        value = float(feet.get())\n",
      "        meters.set((0.3048 * value * 10000.0 + 0.5)/10000.0)\n",
      "    except ValueError:\n",
      "        pass\n",
      "\n",
      "root = Tk()\n",
      "root.title(\"Feet to Meters\")\n",
      "\n",
      "mainframe = ttk.Frame(root)\n",
      "mainframe.grid(column=0, row=0, sticky=(N, W, E, S))\n",
      "\n",
      "feet = StringVar()\n",
      "meters = StringVar()\n",
      "\n",
      "feet_entry = ttk.Entry(mainframe, width=7, textvariable=feet)\n",
      "feet_entry.grid(column=2, row=1, sticky=(W, E))\n",
      "\n",
      "ttk.Label(mainframe, textvariable=meters).grid(column=2, row=2, sticky=(W, E))\n",
      "ttk.Button(mainframe, text=\"Calculate\", command=calculate).grid(column=3,row=3,sticky=W)\n",
      "ttk.Label(mainframe, text=\"feet\").grid(column=3, row=1, sticky=W)\n",
      "ttk.Label(mainframe, text=\"is equivalent to\").grid(column=1, row=2, sticky=E)\n",
      "ttk.Label(mainframe, text=\"meters\").grid(column=3, row=2, sticky=W)\n",
      "\n",
      "for child in mainframe.winfo_children(): child.grid_configure(padx=8, pady=8)\n",
      "\n",
      "feet_entry.focus()\n",
      "root.bind('<Return>', calculate)\n",
      "root.mainloop()"
     ],
     "language": "python",
     "metadata": {
      "slideshow": {
       "slide_type": "slide"
      }
     },
     "outputs": [],
     "prompt_number": 1
    },
    {
     "cell_type": "markdown",
     "metadata": {
      "slideshow": {
       "slide_type": "slide"
      }
     },
     "source": [
      "<img src=\"files/images/tkinter_grid.png\">\n",
      "<code>\n",
      "y = ttk.Entry(mainframe, width=7, textvariable=feet)\n",
      "feet_entry.grid(column=2, row=1, sticky=(W, E))\n",
      "\n",
      "ttk.Label(mainframe, textvariable=meters).grid(column=2, row=2, sticky=(W, E))\n",
      "ttk.Button(mainframe, text=\"Calculate\", command=calculate).grid(column=3,row=3,sticky=W)\n",
      "ttk.Label(mainframe, text=\"feet\").grid(column=3, row=1, sticky=W)\n",
      "ttk.Label(mainframe, text=\"is equivalent to\").grid(column=1, row=2, sticky=E)\n",
      "ttk.Label(mainframe, text=\"meters\").grid(column=3, row=2, sticky=W)\n",
      "</code>"
     ]
    }
   ],
   "metadata": {}
  }
 ]
}