{
 "cells": [
  {
   "cell_type": "markdown",
   "metadata": {
    "slideshow": {
     "slide_type": "slide"
    }
   },
   "source": [
    "## Einführung in das Programmieren mit Python"
   ]
  },
  {
   "cell_type": "markdown",
   "metadata": {
    "slideshow": {
     "slide_type": "-"
    }
   },
   "source": [
    "# Schleifen"
   ]
  },
  {
   "cell_type": "markdown",
   "metadata": {
    "slideshow": {
     "slide_type": "slide"
    }
   },
   "source": [
    "## Musterlösung für die Hausaufgaben\n",
    "\n",
    "1.1) Einfaches Telefonbuch"
   ]
  },
  {
   "cell_type": "code",
   "execution_count": 12,
   "metadata": {
    "collapsed": false,
    "slideshow": {
     "slide_type": "subslide"
    }
   },
   "outputs": [
    {
     "data": {
      "text/plain": [
       "'555-28231'"
      ]
     },
     "execution_count": 12,
     "metadata": {},
     "output_type": "execute_result"
    }
   ],
   "source": [
    "#ein Dictionary\n",
    "phone = { 'Maria': '555-28231', 'Sepp': '555-1234', 'Jo': '1919-1919' }\n",
    "phone[\"Maria\"]"
   ]
  },
  {
   "cell_type": "markdown",
   "metadata": {
    "slideshow": {
     "slide_type": "fragment"
    }
   },
   "source": [
    "1.2) Sie wollen die Wörter eines Textes auflisten. Welche der Datenstrukturen eignet sich dafür?"
   ]
  },
  {
   "cell_type": "code",
   "execution_count": 13,
   "metadata": {
    "collapsed": false,
    "slideshow": {
     "slide_type": "fragment"
    }
   },
   "outputs": [
    {
     "data": {
      "text/plain": [
       "'wir'"
      ]
     },
     "execution_count": 13,
     "metadata": {},
     "output_type": "execute_result"
    }
   ],
   "source": [
    "#auflisten (!) -> eine Liste\n",
    "words = [\"wir\", \"haus\", \"kein\"]\n",
    "words[0]"
   ]
  },
  {
   "cell_type": "markdown",
   "metadata": {
    "slideshow": {
     "slide_type": "subslide"
    }
   },
   "source": [
    "1.3) Wörter und Frequenz"
   ]
  },
  {
   "cell_type": "code",
   "execution_count": 14,
   "metadata": {
    "collapsed": false,
    "slideshow": {
     "slide_type": "fragment"
    }
   },
   "outputs": [
    {
     "name": "stdout",
     "output_type": "stream",
     "text": [
      "haus:  0.004\n",
      "['auch', 'der', 'haus']\n"
     ]
    }
   ],
   "source": [
    "# ein Dictionary ist eine gute Wahl:\n",
    "words =  {\"haus\" : 0.004, \"der\" : 0.03, \"auch\" : 0.009}\n",
    "#daraus kann man dann Frequenzen abfragen\n",
    "print('haus: ', words['haus'])\n",
    "# oder auch z.B. alphabetische Listen erstellen \n",
    "print(sorted(words.keys()))"
   ]
  },
  {
   "cell_type": "markdown",
   "metadata": {
    "slideshow": {
     "slide_type": "slide"
    }
   },
   "source": [
    "#### 2. Geonames\n",
    "\n",
    "http://www.geonames.org/\n",
    "\n",
    "ID, Namen, Bevölkerungsgröße, Geokoordinaten\n",
    "\n",
    "1.) Beispieleinträge"
   ]
  },
  {
   "cell_type": "code",
   "execution_count": 15,
   "metadata": {
    "collapsed": false,
    "slideshow": {
     "slide_type": "fragment"
    }
   },
   "outputs": [],
   "source": [
    "cities = { \n",
    "    2805615: {\n",
    "        \"name\": \"Würzburg\",\n",
    "        \"population\": 133731,\n",
    "        \"coords\": (49.79391,9.95121)\n",
    "    },\n",
    "    6557104: {\n",
    "        \"name\": \"Veitshöchheim\",\n",
    "        \"population\": 9669,\n",
    "        \"coords\": (49.8244, 9.8792)\n",
    "    },\n",
    "    2643743: {\n",
    "        \"name\": \"London\",\n",
    "        \"population\": 7556900,\n",
    "        \"coords\": (51.50853, -0.12574)\n",
    "    }    \n",
    "}"
   ]
  },
  {
   "cell_type": "markdown",
   "metadata": {
    "slideshow": {
     "slide_type": "subslide"
    }
   },
   "source": [
    "2) Geben Sie durch Angabe der Nummer einen Eintrag aus. \n"
   ]
  },
  {
   "cell_type": "code",
   "execution_count": 16,
   "metadata": {
    "collapsed": false,
    "slideshow": {
     "slide_type": "fragment"
    }
   },
   "outputs": [
    {
     "name": "stdout",
     "output_type": "stream",
     "text": [
      "{'population': 133731, 'coords': (49.79391, 9.95121), 'name': 'Würzburg'}\n"
     ]
    }
   ],
   "source": [
    "print(cities[2805615])"
   ]
  },
  {
   "cell_type": "markdown",
   "metadata": {
    "slideshow": {
     "slide_type": "subslide"
    }
   },
   "source": [
    "3) Fügen Sie einen weiteren Eintrag hinzu."
   ]
  },
  {
   "cell_type": "code",
   "execution_count": 17,
   "metadata": {
    "collapsed": false,
    "slideshow": {
     "slide_type": "fragment"
    }
   },
   "outputs": [],
   "source": [
    "cities[2950159] = {\"name\": \"Berlin\", \"population\": 3426354, \"coords\": (52.52437,13.41053)}"
   ]
  },
  {
   "cell_type": "markdown",
   "metadata": {
    "slideshow": {
     "slide_type": "subslide"
    }
   },
   "source": [
    "4) Geben Sie alle ID-Nummern aus"
   ]
  },
  {
   "cell_type": "code",
   "execution_count": 18,
   "metadata": {
    "collapsed": false,
    "slideshow": {
     "slide_type": "fragment"
    }
   },
   "outputs": [
    {
     "name": "stdout",
     "output_type": "stream",
     "text": [
      "Geo-IDs: [6557104, 2950159, 2643743, 2805615]\n"
     ]
    }
   ],
   "source": [
    "print(\"Geo-IDs:\", list(cities.keys()))"
   ]
  },
  {
   "cell_type": "markdown",
   "metadata": {
    "slideshow": {
     "slide_type": "subslide"
    }
   },
   "source": [
    "5) Geben Sie mit Verwendung der ID (nur) den Breitengrad aus. "
   ]
  },
  {
   "cell_type": "code",
   "execution_count": 19,
   "metadata": {
    "collapsed": false,
    "slideshow": {
     "slide_type": "fragment"
    }
   },
   "outputs": [
    {
     "name": "stdout",
     "output_type": "stream",
     "text": [
      "52.52437\n"
     ]
    }
   ],
   "source": [
    "print(cities[2950159][\"coords\"][0])"
   ]
  },
  {
   "cell_type": "markdown",
   "metadata": {
    "slideshow": {
     "slide_type": "subslide"
    }
   },
   "source": [
    "6) Sei `id=2805615`. Schreiben Sie einen Ausdruck, der `True` genau dann zurückgibt, wenn eine Stadt mit dieser ID in Ihrer Datenbank existiert und mehr als 100000 Einwohner hat."
   ]
  },
  {
   "cell_type": "code",
   "execution_count": 20,
   "metadata": {
    "collapsed": false,
    "slideshow": {
     "slide_type": "fragment"
    }
   },
   "outputs": [
    {
     "name": "stdout",
     "output_type": "stream",
     "text": [
      "2805615 True\n"
     ]
    }
   ],
   "source": [
    "# erfasst\n",
    "id=2805615\n",
    "print(id, id in cities and cities[id][\"population\"] > 100000)"
   ]
  },
  {
   "cell_type": "code",
   "execution_count": 21,
   "metadata": {
    "collapsed": false,
    "slideshow": {
     "slide_type": "fragment"
    }
   },
   "outputs": [
    {
     "name": "stdout",
     "output_type": "stream",
     "text": [
      "2918632 False\n"
     ]
    }
   ],
   "source": [
    "# nicht erfasst\n",
    "id=2918632\n",
    "print(id, id in cities and cities[id][\"population\"] > 100000)"
   ]
  },
  {
   "cell_type": "code",
   "execution_count": 22,
   "metadata": {
    "collapsed": false,
    "slideshow": {
     "slide_type": "fragment"
    }
   },
   "outputs": [
    {
     "name": "stdout",
     "output_type": "stream",
     "text": [
      "6557104 False\n"
     ]
    }
   ],
   "source": [
    "# erfasst, < 100000\n",
    "id=6557104\n",
    "print(id, id in cities and cities[id][\"population\"] > 100000)"
   ]
  },
  {
   "cell_type": "markdown",
   "metadata": {
    "slideshow": {
     "slide_type": "slide"
    }
   },
   "source": [
    "### Exkurs: namedtuple"
   ]
  },
  {
   "cell_type": "code",
   "execution_count": 23,
   "metadata": {
    "collapsed": false,
    "slideshow": {
     "slide_type": "-"
    }
   },
   "outputs": [
    {
     "name": "stdout",
     "output_type": "stream",
     "text": [
      "{2918632: City(name='Göttingen', population=122149, coords=(51.53443, 9.93228))}\n",
      "122149\n"
     ]
    }
   ],
   "source": [
    "# Namedtuple existiert im collections-Modul der Standardlibrary\n",
    "from collections import namedtuple\n",
    "\n",
    "# mit namedtuple() definiert man einen Datentyp:\n",
    "City = namedtuple('City', ['name', 'population', 'coords'])\n",
    "\n",
    "# Den können wir jetzt verwenden\n",
    "cities = { 2918632: City(\"Göttingen\", 122149, (51.53443,9.93228))}\n",
    "print(cities)\n",
    "\n",
    "# Zugriff auf die Felder erfolgt mit .\n",
    "print(cities[2918632].population)"
   ]
  },
  {
   "cell_type": "markdown",
   "metadata": {
    "slideshow": {
     "slide_type": "slide"
    }
   },
   "source": [
    "## Wiederholung: Bedingungen, Verzweigungen\n",
    "\n",
    "* Bedingungen sind Ausdrücke, die einen Wahrheitswert zurückgeben\n",
    "* Vergleichsoperatoren: ``== != < <= > >=   in   not in``, \n",
    "* Funktionen und Methoden, z.B. ``str.isnumeric()``\n",
    "* Boolesche Operatoren: ``and or not``\n",
    "\n",
    "* Verzweigung in der Programmstruktur:<br/>\n",
    "``\n",
    "if <Bedingung>:\n",
    "   Code\n",
    "``"
   ]
  },
  {
   "cell_type": "markdown",
   "metadata": {
    "slideshow": {
     "slide_type": "slide"
    }
   },
   "source": [
    "<h3>Bedingungen: if – else </h3>\n",
    "<p>Mit else kann man festlegen, welcher Code ausgeführt werden soll, wenn die Bedingung _nicht_ wahr ist:\n",
    "<p>\n",
    "<img src=\"files/images/if_else.png\" width=\"50%\" height=\"50%\" border=\"0\" alt=\"\">    "
   ]
  },
  {
   "cell_type": "code",
   "execution_count": 24,
   "metadata": {
    "collapsed": false,
    "slideshow": {
     "slide_type": "fragment"
    }
   },
   "outputs": [
    {
     "name": "stdout",
     "output_type": "stream",
     "text": [
      "a ungleich 1\n"
     ]
    }
   ],
   "source": [
    "a = 2\n",
    "if a == 1:\n",
    "    print (\"a gleich 1\")\n",
    "else: \n",
    "    print (\"a ungleich 1\")"
   ]
  },
  {
   "cell_type": "markdown",
   "metadata": {
    "slideshow": {
     "slide_type": "slide"
    }
   },
   "source": [
    "<h3>Gereihte Bedingungen mit elif</h3>\n",
    "<p>Will man überprüfen, ob eine von mehreren Bedingungen wahr ist, verwendet man eine Reihe von if – elif – [elif] – else:"
   ]
  },
  {
   "cell_type": "markdown",
   "metadata": {
    "slideshow": {
     "slide_type": "slide"
    }
   },
   "source": [
    "<pre>\n",
    "if &lt;bedingung>:\n",
    "\tcode\n",
    "elif &lt;bedingung>:\n",
    "\tcode\n",
    "[...]\n",
    "else:\n",
    "\tcode\n",
    "</pre>"
   ]
  },
  {
   "cell_type": "code",
   "execution_count": 25,
   "metadata": {
    "collapsed": false,
    "slideshow": {
     "slide_type": "fragment"
    }
   },
   "outputs": [
    {
     "name": "stdout",
     "output_type": "stream",
     "text": [
      "c ist z\n"
     ]
    }
   ],
   "source": [
    "c = \"z\"\n",
    "if c == \"x\":\n",
    "    print (\"c ist x\")\n",
    "elif c == \"y\": \n",
    "    print (\"c ist y\")    \n",
    "elif c == \"z\":\n",
    "    print (\"c ist z\")    \n",
    "else: \n",
    "    print (\"c ist weder x noch y noch z\")    \n",
    "    "
   ]
  },
  {
   "cell_type": "markdown",
   "metadata": {
    "slideshow": {
     "slide_type": "slide"
    }
   },
   "source": [
    "<h3 style=\"color:green\">Aufgaben</h3>\n",
    "<p>1) Wenn der String \"Freund\" in Klein- oder Großschreibung in \"Sie wollen sich befreunden\" enthalten ist, dann soll \"Found: Freund\" ausgegeben werden, ansonsten \"String not found\".</p>\n",
    "<p>2) `a` ist eine Variable (die ursprünglich durch eine Benutzereingabe belegt worden sein könnte). Wenn die Eingabe kleiner ist als 7, dann lautet die Ausgabe: \"Gesuchte Zahl ist größer\", wenn die Zahl größer ist als 7, dann lautet die Ausgabe: \"Gesuchte Zahl ist kleiner\". Wenn die Zahl genau 7 ist, dann lautet die Ausgabe \"Zahl gefunden\". Spielen Sie das mit a = 1 und a = 7 durch.</p>"
   ]
  },
  {
   "cell_type": "markdown",
   "metadata": {
    "slideshow": {
     "slide_type": "slide"
    }
   },
   "source": [
    "<h3>Musterlösung</h3>\n",
    "<p>Wenn der String \"Freund\" in Klein- oder Großschreibung in \"Sie wollen sich befreunden\" enthalten ist, dann soll \"Found: Freund\" ausgegeben werden, ansonsten \"String not found\"."
   ]
  },
  {
   "cell_type": "code",
   "execution_count": 26,
   "metadata": {
    "collapsed": false,
    "slideshow": {
     "slide_type": "fragment"
    }
   },
   "outputs": [
    {
     "name": "stdout",
     "output_type": "stream",
     "text": [
      "Found: Freund\n"
     ]
    }
   ],
   "source": [
    "if \"Freund\" in \"Sie wollen sich befreunden\" or \"Freund\".lower() in \"Sie wollen sich befreunden\":\n",
    "    print (\"Found: Freund\")\n",
    "else:\n",
    "    print (\"String not found\")"
   ]
  },
  {
   "cell_type": "markdown",
   "metadata": {
    "slideshow": {
     "slide_type": "fragment"
    }
   },
   "source": [
    "2) a ist eine Benutzereingabe. Wenn die Eingabe kleiner ist als 7, dann lautet die Ausgabe: \"Gesuchte Zahl ist größer\", wenn die Zahl größer ist als 7, dann lautet die Ausgabe: \"Gesuchte Zahl ist kleiner\". Wenn die Zahl genau 7 ist, dann lautet die Ausgabe \"Zahl gefunden\". Spielen Sie das mit a = 1 und a = 7 durch."
   ]
  },
  {
   "cell_type": "code",
   "execution_count": null,
   "metadata": {
    "collapsed": false,
    "slideshow": {
     "slide_type": "fragment"
    }
   },
   "outputs": [],
   "source": [
    "a = 1\n",
    "if a < 7:\n",
    "    print (\"Gesuchte Zahl ist größer\")\n",
    "elif a == 7:\n",
    "    print (\"Zahl gefunden\")\n",
    "else:\n",
    "    print (\"Gesuchte Zahl ist kleiner\")\n",
    "    "
   ]
  },
  {
   "cell_type": "markdown",
   "metadata": {
    "slideshow": {
     "slide_type": "slide"
    }
   },
   "source": [
    "### Zusammengesetzte Statements\n",
    "\n",
    "![Ein- und Ausrückungen markieren zusammengehörige Statements (suite)](images/indent.svg)"
   ]
  },
  {
   "cell_type": "markdown",
   "metadata": {
    "slideshow": {
     "slide_type": "-"
    }
   },
   "source": [
    "* Einrückung ist in Python bedeutungstragend\n",
    "* aufeinanderfolgende Elemente mit gleicher (Mindest-)Zahl von Leerzeichen bilden eine Folge (_suite_)\n",
    "* **Ausrückung** muss auf eine der vorherigen Einrückungsstufen gehen"
   ]
  },
  {
   "cell_type": "markdown",
   "metadata": {
    "slideshow": {
     "slide_type": "slide"
    }
   },
   "source": [
    "<h3>Einfache Benutzereingabe mit <code>input</code></h3>"
   ]
  },
  {
   "cell_type": "code",
   "execution_count": 28,
   "metadata": {
    "collapsed": false,
    "slideshow": {
     "slide_type": "fragment"
    }
   },
   "outputs": [
    {
     "name": "stdout",
     "output_type": "stream",
     "text": [
      "Geben Sie bitte eine Zahl zwischen 1 und 10 ein: 7\n",
      "Ihre Eingabe war (falls Sie das schon vergessen haben):  7\n"
     ]
    }
   ],
   "source": [
    "r = input(\"Geben Sie bitte eine Zahl zwischen 1 und 10 ein: \")\n",
    "print(\"Ihre Eingabe war (falls Sie das schon vergessen haben): \", r)"
   ]
  },
  {
   "cell_type": "code",
   "execution_count": 29,
   "metadata": {
    "collapsed": false,
    "slideshow": {
     "slide_type": "fragment"
    }
   },
   "outputs": [
    {
     "name": "stdout",
     "output_type": "stream",
     "text": [
      "Geben Sie bitte eine Zahl zwischen 1 und 10 ein: 7\n",
      "<class 'str'>\n"
     ]
    }
   ],
   "source": [
    "r = input(\"Geben Sie bitte eine Zahl zwischen 1 und 10 ein: \")\n",
    "print(type(r))   # Achtung, der Datentyp von r ist string"
   ]
  },
  {
   "cell_type": "markdown",
   "metadata": {
    "slideshow": {
     "slide_type": "subslide"
    }
   },
   "source": [
    "Wir können nun die Benutzereingabe auswerten:"
   ]
  },
  {
   "cell_type": "code",
   "execution_count": 30,
   "metadata": {
    "collapsed": false,
    "slideshow": {
     "slide_type": "fragment"
    }
   },
   "outputs": [
    {
     "name": "stdout",
     "output_type": "stream",
     "text": [
      "Geben Sie bitte eine Zahl zwischen 1 und 10 ein: 7\n",
      "Das Quadrat der Zahl  7  ist  49\n"
     ]
    }
   ],
   "source": [
    "r = input(\"Geben Sie bitte eine Zahl zwischen 1 und 10 ein: \")\n",
    "if not r.isnumeric():\n",
    "    print(r, \"ist eher keine Zahl.\")\n",
    "else: \n",
    "    r = int(r)  # type casting nach int\n",
    "    a = r ** 2\n",
    "    print(\"Das Quadrat der Zahl \", r, \" ist \", a)"
   ]
  },
  {
   "cell_type": "markdown",
   "metadata": {
    "slideshow": {
     "slide_type": "skip"
    }
   },
   "source": [
    "<h3 style=\"color:green\">Aufgabe</h3>\n",
    "<p>Lassen Sie den Benutzer ein beliebiges Wort eingeben. Geben Sie dann als Ergebnis die Länge des Wortes und die Anzahl der _unterschiedlichen_ Vokale aus (ignorieren Sie Klein- und Großschreibung).  "
   ]
  },
  {
   "cell_type": "code",
   "execution_count": 31,
   "metadata": {
    "collapsed": false,
    "slideshow": {
     "slide_type": "skip"
    }
   },
   "outputs": [
    {
     "name": "stdout",
     "output_type": "stream",
     "text": [
      "Bitte geben Sie ein Wort ein: Pythonista\n",
      "Länge des Wortes:  10\n",
      "Es sind  3  unterschiedliche Vokale in  Pythonista\n"
     ]
    }
   ],
   "source": [
    "#Lassen Sie den Benutzer ein beliebiges Wort eingeben.\n",
    "#Geben Sie dann als Ergebnis die Länge des Wortes und die Anzahl der verschiedenen Vokale aus\n",
    "\n",
    "word = input(\"Bitte geben Sie ein Wort ein: \")\n",
    "print(\"Länge des Wortes: \", len(word))\n",
    "voc = 0\n",
    "if \"a\" in word.lower():\n",
    "    voc += 1\n",
    "if \"o\" in word.lower():\n",
    "    voc += 1\n",
    "if \"e\" in word.lower():\n",
    "    voc += 1\n",
    "if \"i\" in word.lower():\n",
    "    voc += 1\n",
    "if \"u\" in word.lower():\n",
    "    voc += 1\n",
    "\n",
    "print(\"Es sind \", voc, \" unterschiedliche Vokale in \", word)\n"
   ]
  },
  {
   "cell_type": "markdown",
   "metadata": {
    "slideshow": {
     "slide_type": "slide"
    }
   },
   "source": [
    "## Programmkontrolle: Schleifen"
   ]
  },
  {
   "cell_type": "markdown",
   "metadata": {
    "slideshow": {
     "slide_type": "subslide"
    }
   },
   "source": [
    "<h3>while-Schleifen</h3>\n",
    "<p>\n",
    "<img src=\"files/images/loop.png\" width=\"50%\" height=\"50%\" border=\"0\" alt=\"\">    "
   ]
  },
  {
   "cell_type": "code",
   "execution_count": null,
   "metadata": {
    "collapsed": false,
    "slideshow": {
     "slide_type": "fragment"
    }
   },
   "outputs": [],
   "source": [
    "while bedingung:           # solange die bedingung wahr ist,\n",
    "    mach_was()             # wiederhole den (eingerückten Block)\n",
    "    mach_noch_mehr()       \n",
    "continue_normal_flow()     # wenn die bedingung falsch wird, hier weiter"
   ]
  },
  {
   "cell_type": "markdown",
   "metadata": {
    "slideshow": {
     "slide_type": "fragment"
    }
   },
   "source": [
    "Üblicherweise wird im Code eine Variable so verändert, dass an einem bestimmten Punkt die Bedingung nicht mehr wahr ist."
   ]
  },
  {
   "cell_type": "markdown",
   "metadata": {
    "slideshow": {
     "slide_type": "slide"
    }
   },
   "source": [
    "while-Schleifen: Beispiel"
   ]
  },
  {
   "cell_type": "code",
   "execution_count": 33,
   "metadata": {
    "collapsed": false,
    "slideshow": {
     "slide_type": "fragment"
    }
   },
   "outputs": [
    {
     "name": "stdout",
     "output_type": "stream",
     "text": [
      "0\n",
      "1\n",
      "2\n",
      "3\n",
      "4\n"
     ]
    }
   ],
   "source": [
    "n = 0\n",
    "while n < 5:       # Anfang der Schleife, Bestimmung der Bedingung\n",
    "    print(n)       # tue etwas mit der Variablen n\n",
    "    n = n + 1      # verändere n so, dass die Bedingung an einem bestimmten Punkt nicht mehr wahr ist."
   ]
  },
  {
   "cell_type": "markdown",
   "metadata": {
    "slideshow": {
     "slide_type": "fragment"
    }
   },
   "source": [
    "### Inkrement\n",
    "```\n",
    "n = 0\n",
    "n = n + 1\n",
    "```\n",
    "* erst wird der Ausdruck `n + 1` auf der rechten Seite der Zuweisung ausgewertet: `n + 1` → `0 + 1` → `1`\n",
    "* dann wird dieser Wert der Variable `n` zugewiesen. Danach ist `n == 1`\n",
    "* Kurzschreibweise: **`n += 1`**, Achtung: `+=` \n",
    "* <span style=\"color:green\">(Übung: Was passiert wohl, wenn Sie `n=+1` schreiben? und wieso?)</span>"
   ]
  },
  {
   "cell_type": "markdown",
   "metadata": {
    "slideshow": {
     "slide_type": "slide"
    }
   },
   "source": [
    "<h3 style=\"color:green\">Aufgabe</h3>\n",
    "Schreiben Sie ein Summationsprogramm: Fragen Sie in einer Schleife Benutzereingaben ab. Solange Zahlen eingegeben werden, summieren Sie die Zahlen auf, wenn der Benutzer einfach Return drückt (also einen Leerstring eingibt), Summe der bisher eingegebenen Zahlen anzeigen."
   ]
  },
  {
   "cell_type": "code",
   "execution_count": 9,
   "metadata": {
    "collapsed": false
   },
   "outputs": [
    {
     "name": "stdout",
     "output_type": "stream",
     "text": [
      "Zahl her oder Return: 23\n",
      "Zahl her oder Return: 17\n",
      "Zahl her oder Return: \n",
      "Summe: 40\n"
     ]
    }
   ],
   "source": [
    "summe = 0\n",
    "\n",
    "while True:\n",
    "    eingabe = input(\"Zahl her oder Return: \")\n",
    "    if eingabe.isnumeric():\n",
    "        summe = summe + int(eingabe)\n",
    "    elif eingabe == '':\n",
    "        break\n",
    "print(\"Summe:\", summe)"
   ]
  },
  {
   "cell_type": "markdown",
   "metadata": {
    "slideshow": {
     "slide_type": "subslide"
    }
   },
   "source": [
    "### Musterlösung"
   ]
  },
  {
   "cell_type": "code",
   "execution_count": 34,
   "metadata": {
    "collapsed": false,
    "slideshow": {
     "slide_type": "-"
    }
   },
   "outputs": [
    {
     "name": "stdout",
     "output_type": "stream",
     "text": [
      "Geben Sie eine Zahl ein, oder <Enter> zum Beenden: 18\n",
      "Zwischensumme: 18\n",
      "Geben Sie noch eine Zahl ein, oder <Enter> zum Beenden: 20\n",
      "Zwischensumme: 38\n",
      "Geben Sie noch eine Zahl ein, oder <Enter> zum Beenden: 22\n",
      "Zwischensumme: 60\n",
      "Geben Sie noch eine Zahl ein, oder <Enter> zum Beenden: \n",
      "Gesamtsumme: 60\n"
     ]
    }
   ],
   "source": [
    "summe = 0\n",
    "eingabe = input(\"Geben Sie eine Zahl ein, oder <Enter> zum Beenden: \")\n",
    "while eingabe != \"\": # oder while eingabe.isnumeric(): Abbruch, wenn keine Zahl eingegeben\n",
    "    summe = summe + int(eingabe)\n",
    "    print(\"Zwischensumme:\", summe)\n",
    "    eingabe = input(\"Geben Sie noch eine Zahl ein, oder <Enter> zum Beenden: \")\n",
    "    \n",
    "print(\"Gesamtsumme:\", summe)"
   ]
  },
  {
   "cell_type": "markdown",
   "metadata": {
    "slideshow": {
     "slide_type": "slide"
    }
   },
   "source": [
    "<h3>while und Listen"
   ]
  },
  {
   "cell_type": "code",
   "execution_count": 35,
   "metadata": {
    "collapsed": false,
    "slideshow": {
     "slide_type": "fragment"
    }
   },
   "outputs": [
    {
     "name": "stdout",
     "output_type": "stream",
     "text": [
      "a\n",
      "b\n",
      "c\n"
     ]
    }
   ],
   "source": [
    "# Aufgabe: Gib alle Elemente der Liste chars aus:\n",
    "chars = ['a','b','c']\n",
    "n = 0\n",
    "while n < len(chars):\n",
    "    print(chars[n])\n",
    "    n += 1"
   ]
  },
  {
   "cell_type": "markdown",
   "metadata": {
    "slideshow": {
     "slide_type": "fragment"
    }
   },
   "source": [
    "Da dies ein sehr häufiger Zugriff auf Listen (und alles Listenartige) ist, gibt es dafür eine eigene, sehr viel kompaktere Syntax, nämlich for-Schleifen:"
   ]
  },
  {
   "cell_type": "code",
   "execution_count": 36,
   "metadata": {
    "collapsed": false,
    "slideshow": {
     "slide_type": "fragment"
    }
   },
   "outputs": [
    {
     "name": "stdout",
     "output_type": "stream",
     "text": [
      "a\n",
      "b\n",
      "c\n"
     ]
    }
   ],
   "source": [
    "for c in chars:\n",
    "    print(c)"
   ]
  },
  {
   "cell_type": "markdown",
   "metadata": {
    "slideshow": {
     "slide_type": "slide"
    }
   },
   "source": [
    "<h3>for-Schleife: <code>for x in &lt;List></code></h3>"
   ]
  },
  {
   "cell_type": "markdown",
   "metadata": {
    "slideshow": {
     "slide_type": "fragment"
    }
   },
   "source": [
    "<img src=\"files/images/for_loop_simple.png\" width=\"50%\" height=\"50%\" border=\"0\" alt=\"\">\n",
    "\n",
    "* __foreach__-Schleife"
   ]
  },
  {
   "cell_type": "markdown",
   "metadata": {
    "slideshow": {
     "slide_type": "subslide"
    }
   },
   "source": [
    "<h3>for-Schleife: Schritt für Schritt"
   ]
  },
  {
   "cell_type": "code",
   "execution_count": 37,
   "metadata": {
    "collapsed": false,
    "slideshow": {
     "slide_type": "fragment"
    }
   },
   "outputs": [
    {
     "name": "stdout",
     "output_type": "stream",
     "text": [
      "a\n",
      "b\n",
      "c\n"
     ]
    }
   ],
   "source": [
    "chars = ['a','b','c']\n",
    "for x in chars:\n",
    "    print(x)"
   ]
  },
  {
   "cell_type": "markdown",
   "metadata": {
    "slideshow": {
     "slide_type": "notes"
    }
   },
   "source": [
    "Schritt für Schritt:"
   ]
  },
  {
   "cell_type": "markdown",
   "metadata": {
    "slideshow": {
     "slide_type": "notes"
    }
   },
   "source": [
    "<ol>\n",
    "<li>Zeile: Erzeugt die Liste chars.\n",
    "<li>Zeile: Anfang der Schleife: Versuche, das nächste Element aus der Liste `chars` zu nehmen. Ist da nichts mehr, dann den Schleifenblock überspringen und danach weitermachen. Ansonsten:\n",
    "<ul>\n",
    "<li>Weise der Variablen `x` das Element aus der Liste als Wert zu.<br/> Beim ersten Durchlauf ist das der Inhalt von `chars[0]`, also: `x = 'a'`, beim zweiten Durchlauf ist das der Inhalt von `chars[1]`, also `x = 'b'` und beim dritten Durchlauf ist das der Inhalt von `chars[2]`, also `x = 'c'`.\n",
    "</ul>\n",
    "<li>Zeile: Gebe den Inhalt von x aus</br>\n",
    "&nbsp;&nbsp;&nbsp; Ende des Schleifencodes</br>"
   ]
  },
  {
   "cell_type": "markdown",
   "metadata": {
    "slideshow": {
     "slide_type": "subslide"
    }
   },
   "source": [
    "<h3>for-Schleife: ein Beispiel"
   ]
  },
  {
   "cell_type": "code",
   "execution_count": 7,
   "metadata": {
    "collapsed": false,
    "slideshow": {
     "slide_type": "fragment"
    }
   },
   "outputs": [
    {
     "name": "stdout",
     "output_type": "stream",
     "text": [
      "Marx\n",
      "Turing\n",
      "Popper\n",
      "Foucault\n"
     ]
    }
   ],
   "source": [
    "thinkers = ['Marx','Turing', 'Popper','Foucault']\n",
    "for t in thinkers:\n",
    "    print(t)"
   ]
  },
  {
   "cell_type": "markdown",
   "metadata": {
    "slideshow": {
     "slide_type": "slide"
    }
   },
   "source": [
    "<h3 style=\"color:green\">Aufgaben</h3>\n",
    "<p>Gegeben ist die Liste chars mit den Elementen A, C, E, U, Ö, I, B\n",
    "<ol>\n",
    "<li>Geben Sie alle Elemente der Liste in dieser Form aus - &lt;char> -  , also - A - usw. (jeweils in einer neuen Zeile).\n",
    "<li>Geben Sie alle Elemente der Liste sortiert aus."
   ]
  },
  {
   "cell_type": "markdown",
   "metadata": {
    "slideshow": {
     "slide_type": "slide"
    }
   },
   "source": [
    "<h3 style=\"color:green\">Musterlösung</h3>\n",
    "<p>Geben Sie alle Elemente der Liste in dieser Form aus - &lt;char> - , also - A - usw. (jeweils in einer neuen Zeile).\n",
    "\n"
   ]
  },
  {
   "cell_type": "code",
   "execution_count": 39,
   "metadata": {
    "collapsed": false,
    "slideshow": {
     "slide_type": "fragment"
    }
   },
   "outputs": [
    {
     "name": "stdout",
     "output_type": "stream",
     "text": [
      " -  A  - \n",
      " -  C  - \n",
      " -  E  - \n",
      " -  U  - \n",
      " -  Ö  - \n",
      " -  I  - \n",
      " -  B  - \n"
     ]
    }
   ],
   "source": [
    "chars = ['A','C','E','U','Ö','I','B']\n",
    "for c in chars:\n",
    "    print (\" - \", c, \" - \")"
   ]
  },
  {
   "cell_type": "code",
   "execution_count": 40,
   "metadata": {
    "collapsed": false,
    "slideshow": {
     "slide_type": "subslide"
    }
   },
   "outputs": [
    {
     "name": "stdout",
     "output_type": "stream",
     "text": [
      " -  A  - \n",
      " -  B  - \n",
      " -  C  - \n",
      " -  E  - \n",
      " -  I  - \n",
      " -  U  - \n",
      " -  Ö  - \n"
     ]
    }
   ],
   "source": [
    "#sortierte Ausgabe\n",
    "for c in sorted(chars):\n",
    "    print (\" - \", c, \" - \")"
   ]
  },
  {
   "cell_type": "markdown",
   "metadata": {
    "slideshow": {
     "slide_type": "slide"
    }
   },
   "source": [
    "<h3>for-Schleife: Erste Verallgemeinerung</h3>\n",
    "<p>for-Schleifen haben die Form: <code>for &lt;variable> in &lt;list></code><br/>\n",
    "Tatsächlich muss für &lt;list> nicht eine Liste eingesetzt werden, sondern es kann jeder \n",
    "Ausdruck eingesetzt werden, der eine Liste zurückgibt (oder etwas Listenartiges) – etwas _iterierbares_ (_iterable_)"
   ]
  },
  {
   "cell_type": "code",
   "execution_count": 41,
   "metadata": {
    "collapsed": false,
    "slideshow": {
     "slide_type": "fragment"
    }
   },
   "outputs": [
    {
     "name": "stdout",
     "output_type": "stream",
     "text": [
      "die\n",
      "das\n",
      "der\n",
      "auch\n"
     ]
    }
   ],
   "source": [
    "#definiert ein Dictionary namens word_count\n",
    "word_count = { 'der': 32, 'die': 17, 'das': 12, 'auch': 9 }\n",
    "\n",
    "#dict.keys() gibt die Keys des Dictionaries als Sequenz zurück, \n",
    "#die an der Stelle der Liste verwendet werden kann.\n",
    "for w in word_count.keys():                    \n",
    "    print(w)                                  "
   ]
  },
  {
   "cell_type": "markdown",
   "metadata": {
    "slideshow": {
     "slide_type": "slide"
    }
   },
   "source": [
    "<h3>for-Schleife: range(n)</h3>\n",
    "<p>Manchmal hat meine keine Liste, sondern braucht nur Zahlen, etwa die Zahlen von 0 bis 5. Die Funktion range(n) gibt alle Zahlen von 0 bis n-1 aus."
   ]
  },
  {
   "cell_type": "code",
   "execution_count": 42,
   "metadata": {
    "collapsed": false,
    "slideshow": {
     "slide_type": "fragment"
    }
   },
   "outputs": [
    {
     "name": "stdout",
     "output_type": "stream",
     "text": [
      "0 :  0\n",
      "1 :  1\n",
      "2 :  4\n",
      "3 :  9\n",
      "4 :  16\n",
      "5 :  25\n"
     ]
    }
   ],
   "source": [
    "for i in range(6):\n",
    "    print(i, \": \", i**2)"
   ]
  },
  {
   "cell_type": "code",
   "execution_count": 43,
   "metadata": {
    "collapsed": false,
    "slideshow": {
     "slide_type": "fragment"
    }
   },
   "outputs": [
    {
     "name": "stdout",
     "output_type": "stream",
     "text": [
      "2 :  4\n",
      "3 :  9\n"
     ]
    }
   ],
   "source": [
    "# wenn range zwei Parameter übergeben werden, dann ist der erste der  Startwert\n",
    "for i in range(2, 4):             \n",
    "    print (i, \": \", i**2)"
   ]
  },
  {
   "cell_type": "code",
   "execution_count": 44,
   "metadata": {
    "collapsed": false,
    "slideshow": {
     "slide_type": "subslide"
    }
   },
   "outputs": [
    {
     "name": "stdout",
     "output_type": "stream",
     "text": [
      "100\n",
      "110\n",
      "120\n",
      "130\n",
      "140\n"
     ]
    }
   ],
   "source": [
    "# und bei drei Parametern ist der Dritte die Schrittweite\n",
    "for i in range(100, 150, 10):\n",
    "    print(i)"
   ]
  },
  {
   "cell_type": "markdown",
   "metadata": {
    "slideshow": {
     "slide_type": "subslide"
    }
   },
   "source": [
    "<h3 style=\"color:green\">Aufgaben</h3>\n",
    "\n",
    "1. Geben Sie für eine Wortfrequenzliste alle Wörter mit ihren Frequenzen aus, für jedes Paar eine Zeile\n",
    "2. Lassen  Sie den Benutzer 3 Zahlen eingeben und multiplizieren Sie miteinander. Die Abfrage sollte so aussehen:\n",
    "\n",
    "        Bitte geben Sie die 1. Zahl ein:\n",
    "        Bitte geben Sie die 2. Zahl ein: "
   ]
  },
  {
   "cell_type": "markdown",
   "metadata": {
    "slideshow": {
     "slide_type": "subslide"
    }
   },
   "source": [
    "<h3>Musterlösung</h3>\n",
    "<p>Schreiben Sie das obige Beispiel mit der Ausgabe der Wortliste so um, dass nun auch die Häufigkeit der Wörter ausgegeben wird."
   ]
  },
  {
   "cell_type": "code",
   "execution_count": 45,
   "metadata": {
    "collapsed": false,
    "slideshow": {
     "slide_type": "fragment"
    }
   },
   "outputs": [
    {
     "name": "stdout",
     "output_type": "stream",
     "text": [
      "die \t 17\n",
      "das \t 12\n",
      "der \t 32\n",
      "auch \t 9\n"
     ]
    }
   ],
   "source": [
    "#definiert ein Dictionary namens word_count\n",
    "word_count = { 'der': 32, 'die': 17, 'das': 12, 'auch': 9 }\n",
    "\n",
    "for w in word_count:                    # kurz für for w in word_count.keys()\n",
    "    print(w, \"\\t\", word_count[w])"
   ]
  },
  {
   "cell_type": "markdown",
   "metadata": {
    "slideshow": {
     "slide_type": "slide"
    }
   },
   "source": [
    "<p> 2) Lassen Sie den Benutzer 3 Zahlen eingeben und addieren Sie sie. Die Abfrage sollte so aussehen:<br/>\n",
    "Bitte geben Sie das 1. Wort ein:<br/>\n",
    "und dann das 2. usw. (verwenden Sie nicht while) "
   ]
  },
  {
   "cell_type": "code",
   "execution_count": 47,
   "metadata": {
    "collapsed": false,
    "slideshow": {
     "slide_type": "fragment"
    }
   },
   "outputs": [
    {
     "name": "stdout",
     "output_type": "stream",
     "text": [
      "Bitte geben Sie die 1. Zahl ein: -19\n",
      "Bitte geben Sie die 2. Zahl ein: 1000\n",
      "Bitte geben Sie die 3. Zahl ein: 42\n",
      "Ergebnis:  1023\n"
     ]
    }
   ],
   "source": [
    "res = 0\n",
    "for i in range(3):\n",
    "    res += int(input(\"Bitte geben Sie die \" + str(i+1) + \". Zahl ein: \"))\n",
    "print(\"Ergebnis: \", res)"
   ]
  },
  {
   "cell_type": "markdown",
   "metadata": {
    "slideshow": {
     "slide_type": "slide"
    }
   },
   "source": [
    "<h3>Schleifen und bedingte Verzweigungen</h3>\n",
    "<p>Man kann Schleifen und Verzweigungen frei mischen:</p>"
   ]
  },
  {
   "cell_type": "code",
   "execution_count": 48,
   "metadata": {
    "collapsed": false,
    "slideshow": {
     "slide_type": "fragment"
    }
   },
   "outputs": [
    {
     "name": "stdout",
     "output_type": "stream",
     "text": [
      "uninteressant:  1\n",
      "hab die 2 gefunden\n",
      "uninteressant:  3\n",
      "uninteressant:  4\n"
     ]
    }
   ],
   "source": [
    "a = [1,2,3,4]\n",
    "for i in a:\n",
    "    if i == 2:\n",
    "        print(\"hab die 2 gefunden\")\n",
    "    else:\n",
    "        print(\"uninteressant: \", i)"
   ]
  },
  {
   "cell_type": "markdown",
   "metadata": {
    "slideshow": {
     "slide_type": "fragment"
    }
   },
   "source": [
    "Mit <code>break</code> kann man den Ablauf der Schleife abbrechen (aber Vorsicht, Lesbarkeit!)."
   ]
  },
  {
   "cell_type": "code",
   "execution_count": 49,
   "metadata": {
    "collapsed": false,
    "slideshow": {
     "slide_type": "fragment"
    }
   },
   "outputs": [
    {
     "name": "stdout",
     "output_type": "stream",
     "text": [
      "uninteressant:  1\n",
      "hab die 2 gefunden. das reicht mir.\n"
     ]
    }
   ],
   "source": [
    "a = [1,2,3,4]\n",
    "for i in a:\n",
    "    if i == 2:\n",
    "        print (\"hab die 2 gefunden. das reicht mir.\")\n",
    "        break\n",
    "    else:\n",
    "        print (\"uninteressant: \", i)"
   ]
  },
  {
   "cell_type": "markdown",
   "metadata": {
    "slideshow": {
     "slide_type": "subslide"
    }
   },
   "source": [
    "Analog kann man mit `continue` direkt in die nächste Iteration der Schleife springen."
   ]
  },
  {
   "cell_type": "markdown",
   "metadata": {
    "slideshow": {
     "slide_type": "slide"
    }
   },
   "source": [
    "<h3 style=\"color:green\">Aufgaben</h3>\n",
    "<p style=\"color:green\">Gegeben ist die Liste chars mit den Elementen A, C, E, U, Ö, I, B\n",
    "<ol style=\"color:green\">\n",
    "<li>Geben Sie alle Elemente der Liste sortiert aus, mit der Ausnahme von Ö\n",
    "<li>Schreiben Sie ein Skript, das ermittelt, welche der Zahlen zwischen 20.000 und 40.0000 durch 2.412 teilbar sind und geben Sie diese Zahlen aus.\n",
    "</ol>"
   ]
  },
  {
   "cell_type": "markdown",
   "metadata": {
    "slideshow": {
     "slide_type": "slide"
    }
   },
   "source": [
    "<h3>Musterlösung</h3>\n",
    "1) Geben Sie alle Elemente der Liste sortiert aus, mit der Ausnahme von Ö "
   ]
  },
  {
   "cell_type": "code",
   "execution_count": 50,
   "metadata": {
    "collapsed": false,
    "slideshow": {
     "slide_type": "fragment"
    }
   },
   "outputs": [
    {
     "name": "stdout",
     "output_type": "stream",
     "text": [
      "A\n",
      "B\n",
      "C\n",
      "E\n",
      "I\n",
      "U\n"
     ]
    }
   ],
   "source": [
    "uc = [\"A\",\"C\",\"E\",\"U\",\"Ö\",\"I\",\"B\"]\n",
    "for c in sorted(uc):\n",
    "    if c != \"Ö\":\n",
    "        print(c)"
   ]
  },
  {
   "cell_type": "markdown",
   "metadata": {
    "slideshow": {
     "slide_type": "slide"
    }
   },
   "source": [
    "<p>Schreiben Sie ein Skript, das ermittelt, welche der Zahlen zwischen 20.000 und 40.0000 durch 2.412 teilbar sind und geben Sie diese Zahlen aus."
   ]
  },
  {
   "cell_type": "code",
   "execution_count": 51,
   "metadata": {
    "collapsed": false,
    "slideshow": {
     "slide_type": "fragment"
    }
   },
   "outputs": [
    {
     "name": "stdout",
     "output_type": "stream",
     "text": [
      "21708\n",
      "24120\n",
      "26532\n",
      "28944\n",
      "31356\n",
      "33768\n",
      "36180\n",
      "38592\n"
     ]
    }
   ],
   "source": [
    "for i in range (20000,40000):\n",
    "    if i % 2412 == 0:\n",
    "        print(i)"
   ]
  },
  {
   "cell_type": "markdown",
   "metadata": {
    "slideshow": {
     "slide_type": "slide"
    }
   },
   "source": [
    "### `for`-Schleifen mit mehreren Laufvariablen\n",
    "\n",
    "Man kann Tupel auch auf der _linken_ Seite einer Zuweisung verwenden, um vorhandene Tupel, Listen etc. zu _entpacken_"
   ]
  },
  {
   "cell_type": "code",
   "execution_count": 2,
   "metadata": {
    "collapsed": false,
    "slideshow": {
     "slide_type": "fragment"
    }
   },
   "outputs": [
    {
     "name": "stdout",
     "output_type": "stream",
     "text": [
      "Tupel: (17, 23) – Erster Wert: 17 – Zweiter Wert: 23\n"
     ]
    }
   ],
   "source": [
    "t = (17, 23)\n",
    "(i, j) = t        # Klammern hier optional\n",
    "\n",
    "print(\"Tupel:\", t, \"– Erster Wert:\", i, \"– Zweiter Wert:\", j)"
   ]
  },
  {
   "cell_type": "markdown",
   "metadata": {
    "slideshow": {
     "slide_type": "fragment"
    }
   },
   "source": [
    "Das macht die Implementierung des Vertauschens zweier Variablenwerte in Python recht trivial:"
   ]
  },
  {
   "cell_type": "code",
   "execution_count": 3,
   "metadata": {
    "collapsed": false,
    "slideshow": {
     "slide_type": "fragment"
    }
   },
   "outputs": [],
   "source": [
    "j, i = i, j"
   ]
  },
  {
   "cell_type": "markdown",
   "metadata": {
    "slideshow": {
     "slide_type": "subslide"
    }
   },
   "source": [
    "Man sieht es aber auch z.B. beim Iterieren über Dictionaries gelegentlich:"
   ]
  },
  {
   "cell_type": "code",
   "execution_count": 4,
   "metadata": {
    "collapsed": false,
    "slideshow": {
     "slide_type": "-"
    }
   },
   "outputs": [
    {
     "name": "stdout",
     "output_type": "stream",
     "text": [
      "dict_items([('Klara', 23), ('Hans', 72), ('Peter', '31'), ('Maria', 94)])\n",
      "Klara ist 23\n",
      "Hans ist 72\n",
      "Peter ist 31\n",
      "Maria ist 94\n"
     ]
    }
   ],
   "source": [
    "alter = {\"Klara\": 23, \"Maria\": 94, \"Hans\": 72, \"Peter\": \"31\"}\n",
    "print(alter.items())\n",
    "for name, age in alter.items():\n",
    "    print(name, \"ist\", age)"
   ]
  },
  {
   "cell_type": "markdown",
   "metadata": {
    "slideshow": {
     "slide_type": "subslide"
    }
   },
   "source": [
    "`enumerate` zählt etwas auflistbares auf:"
   ]
  },
  {
   "cell_type": "code",
   "execution_count": 8,
   "metadata": {
    "collapsed": false,
    "slideshow": {
     "slide_type": "-"
    }
   },
   "outputs": [
    {
     "data": {
      "text/plain": [
       "[(0, 'Marx'), (1, 'Turing'), (2, 'Popper'), (3, 'Foucault')]"
      ]
     },
     "execution_count": 8,
     "metadata": {},
     "output_type": "execute_result"
    }
   ],
   "source": [
    "list(enumerate(thinkers))"
   ]
  },
  {
   "cell_type": "code",
   "execution_count": 9,
   "metadata": {
    "collapsed": false,
    "slideshow": {
     "slide_type": "fragment"
    }
   },
   "outputs": [
    {
     "name": "stdout",
     "output_type": "stream",
     "text": [
      "Denker Nr. 0 ist Marx\n",
      "Denker Nr. 1 ist Turing\n",
      "Denker Nr. 2 ist Popper\n",
      "Denker Nr. 3 ist Foucault\n"
     ]
    }
   ],
   "source": [
    "for n, thinker in enumerate(thinkers):\n",
    "    print(\"Denker Nr.\", str(n), \"ist\", thinker)"
   ]
  },
  {
   "cell_type": "markdown",
   "metadata": {
    "slideshow": {
     "slide_type": "subslide"
    }
   },
   "source": [
    "Mit der `zip`-Funktion kann man Listen verschränken."
   ]
  },
  {
   "cell_type": "code",
   "execution_count": 10,
   "metadata": {
    "collapsed": false,
    "slideshow": {
     "slide_type": "-"
    }
   },
   "outputs": [
    {
     "name": "stdout",
     "output_type": "stream",
     "text": [
      "Zora schreibt den Abschnitt Problemstellung\n",
      "Yannick schreibt den Abschnitt Methoden\n",
      "Xenia schreibt den Abschnitt Ergebnisse\n",
      "Wolfgang schreibt den Abschnitt Diskussion\n",
      "[('Zora', 'Problemstellung'), ('Yannick', 'Methoden'), ('Xenia', 'Ergebnisse'), ('Wolfgang', 'Diskussion')]\n"
     ]
    }
   ],
   "source": [
    "authors  = [ \"Zora\", \"Yannick\", \"Xenia\", \"Wolfgang\" ]\n",
    "chapters = [ \"Problemstellung\", \"Methoden\", \"Ergebnisse\", \"Diskussion\" ]\n",
    "for author, chapter in zip(authors, chapters):\n",
    "    print(author, \"schreibt den Abschnitt\", chapter)\n",
    "    \n",
    "print(list(zip(authors, chapters)))"
   ]
  },
  {
   "cell_type": "markdown",
   "metadata": {
    "slideshow": {
     "slide_type": "slide"
    }
   },
   "source": [
    "<h3 style=\"color:green\">Übungsaufgabe</h3>\n",
    "<p> Sie haben eine Liste mit 5 Elementen: sa = [1,2,3,4,5]</p>\n",
    "<p> 1) Schreiben Sie ein Skript, das einen Vergleich jedes Elements mit jedem anderen simuliert (1 -> 3 und 3 -> 1), aber nicht mit sich selbst.<br/> \n",
    "Der Output soll so aussehen: <br/> \n",
    "<code>comparing 1 -> 2\n",
    "comparing 1 -> 3 \n",
    "comparing 1 -> 4 \n",
    "comparing 2 -> 1 \n",
    "usw.</code></p>\n",
    "<p>2) Schreiben Sie das Programm so um, dass jedes Element nur einmal mit jedem anderen verglichen wird (aber nicht mit sich selbst), also statt  1 -> 2 und 2 -> 1  gibt es nun nur noch eine Zeile: 1 &lt;-> 2</p>"
   ]
  }
 ],
 "metadata": {
  "celltoolbar": "Slideshow",
  "kernelspec": {
   "display_name": "Python 3",
   "language": "python",
   "name": "python3"
  },
  "language_info": {
   "codemirror_mode": {
    "name": "ipython",
    "version": 3
   },
   "file_extension": ".py",
   "mimetype": "text/x-python",
   "name": "python",
   "nbconvert_exporter": "python",
   "pygments_lexer": "ipython3",
   "version": "3.5.1+"
  }
 },
 "nbformat": 4,
 "nbformat_minor": 0
}
