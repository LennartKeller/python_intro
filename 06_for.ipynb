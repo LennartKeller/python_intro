{
 "cells": [
  {
   "cell_type": "markdown",
   "metadata": {
    "slideshow": {
     "slide_type": "slide"
    }
   },
   "source": [
    "## Einführung in das Programmieren mit Python"
   ]
  },
  {
   "cell_type": "markdown",
   "metadata": {
    "slideshow": {
     "slide_type": "-"
    }
   },
   "source": [
    "# Schleifen"
   ]
  },
  {
   "cell_type": "markdown",
   "metadata": {
    "slideshow": {
     "slide_type": "slide"
    }
   },
   "source": [
    "### while und Listen"
   ]
  },
  {
   "cell_type": "code",
   "execution_count": 35,
   "metadata": {
    "collapsed": false,
    "slideshow": {
     "slide_type": "fragment"
    }
   },
   "outputs": [
    {
     "name": "stdout",
     "output_type": "stream",
     "text": [
      "a\n",
      "b\n",
      "c\n"
     ]
    }
   ],
   "source": [
    "# Aufgabe: Gib alle Elemente der Liste chars aus:\n",
    "chars = ['a','b','c']\n",
    "n = 0\n",
    "while n < len(chars):\n",
    "    print(chars[n])\n",
    "    n += 1"
   ]
  },
  {
   "cell_type": "markdown",
   "metadata": {
    "slideshow": {
     "slide_type": "fragment"
    }
   },
   "source": [
    "Da dies ein sehr häufiger Zugriff auf Listen (und alles Listenartige) ist, gibt es dafür eine eigene, sehr viel kompaktere Syntax, nämlich for-Schleifen:"
   ]
  },
  {
   "cell_type": "code",
   "execution_count": 36,
   "metadata": {
    "collapsed": false,
    "slideshow": {
     "slide_type": "fragment"
    }
   },
   "outputs": [
    {
     "name": "stdout",
     "output_type": "stream",
     "text": [
      "a\n",
      "b\n",
      "c\n"
     ]
    }
   ],
   "source": [
    "for c in chars:\n",
    "    print(c)"
   ]
  },
  {
   "cell_type": "markdown",
   "metadata": {
    "slideshow": {
     "slide_type": "slide"
    }
   },
   "source": [
    "<h3>for-Schleife: <code>for x in &lt;List></code></h3>"
   ]
  },
  {
   "cell_type": "markdown",
   "metadata": {
    "slideshow": {
     "slide_type": "fragment"
    }
   },
   "source": [
    "<img src=\"files/images/for_loop_simple.png\" width=\"50%\" height=\"50%\" border=\"0\" alt=\"\">\n",
    "\n",
    "* __foreach__-Schleife"
   ]
  },
  {
   "cell_type": "markdown",
   "metadata": {
    "slideshow": {
     "slide_type": "subslide"
    }
   },
   "source": [
    "<h3>for-Schleife: Schritt für Schritt"
   ]
  },
  {
   "cell_type": "code",
   "execution_count": 37,
   "metadata": {
    "collapsed": false,
    "slideshow": {
     "slide_type": "fragment"
    }
   },
   "outputs": [
    {
     "name": "stdout",
     "output_type": "stream",
     "text": [
      "a\n",
      "b\n",
      "c\n"
     ]
    }
   ],
   "source": [
    "chars = ['a','b','c']\n",
    "for x in chars:\n",
    "    print(x)"
   ]
  },
  {
   "cell_type": "markdown",
   "metadata": {
    "slideshow": {
     "slide_type": "notes"
    }
   },
   "source": [
    "Schritt für Schritt:"
   ]
  },
  {
   "cell_type": "markdown",
   "metadata": {
    "slideshow": {
     "slide_type": "notes"
    }
   },
   "source": [
    "<ol>\n",
    "<li>Zeile: Erzeugt die Liste chars.\n",
    "<li>Zeile: Anfang der Schleife: Versuche, das nächste Element aus der Liste `chars` zu nehmen. Ist da nichts mehr, dann den Schleifenblock überspringen und danach weitermachen. Ansonsten:\n",
    "<ul>\n",
    "<li>Weise der Variablen `x` das Element aus der Liste als Wert zu.<br/> Beim ersten Durchlauf ist das der Inhalt von `chars[0]`, also: `x = 'a'`, beim zweiten Durchlauf ist das der Inhalt von `chars[1]`, also `x = 'b'` und beim dritten Durchlauf ist das der Inhalt von `chars[2]`, also `x = 'c'`.\n",
    "</ul>\n",
    "<li>Zeile: Gebe den Inhalt von x aus</br>\n",
    "&nbsp;&nbsp;&nbsp; Ende des Schleifencodes</br>"
   ]
  },
  {
   "cell_type": "markdown",
   "metadata": {
    "slideshow": {
     "slide_type": "subslide"
    }
   },
   "source": [
    "<h3>for-Schleife: ein Beispiel"
   ]
  },
  {
   "cell_type": "code",
   "execution_count": 7,
   "metadata": {
    "collapsed": false,
    "slideshow": {
     "slide_type": "fragment"
    }
   },
   "outputs": [
    {
     "name": "stdout",
     "output_type": "stream",
     "text": [
      "Marx\n",
      "Turing\n",
      "Popper\n",
      "Foucault\n"
     ]
    }
   ],
   "source": [
    "thinkers = ['Marx','Turing', 'Popper','Foucault']\n",
    "for t in thinkers:\n",
    "    print(t)"
   ]
  },
  {
   "cell_type": "markdown",
   "metadata": {
    "slideshow": {
     "slide_type": "slide"
    }
   },
   "source": [
    "<h3 style=\"color:green\">Aufgaben</h3>\n",
    "<p>Gegeben ist die Liste chars mit den Elementen A, C, E, U, Ö, I, B\n",
    "<ol>\n",
    "<li>Geben Sie alle Elemente der Liste in dieser Form aus - &lt;char> -  , also - A - usw. (jeweils in einer neuen Zeile).\n",
    "<li>Geben Sie alle Elemente der Liste sortiert aus."
   ]
  },
  {
   "cell_type": "markdown",
   "metadata": {
    "slideshow": {
     "slide_type": "slide"
    }
   },
   "source": [
    "<h3 style=\"color:green\">Musterlösung</h3>\n",
    "<p>Geben Sie alle Elemente der Liste in dieser Form aus - &lt;char> - , also - A - usw. (jeweils in einer neuen Zeile).\n",
    "\n"
   ]
  },
  {
   "cell_type": "code",
   "execution_count": 39,
   "metadata": {
    "collapsed": false,
    "slideshow": {
     "slide_type": "fragment"
    }
   },
   "outputs": [
    {
     "name": "stdout",
     "output_type": "stream",
     "text": [
      " -  A  - \n",
      " -  C  - \n",
      " -  E  - \n",
      " -  U  - \n",
      " -  Ö  - \n",
      " -  I  - \n",
      " -  B  - \n"
     ]
    }
   ],
   "source": [
    "chars = ['A','C','E','U','Ö','I','B']\n",
    "for c in chars:\n",
    "    print (\" - \", c, \" - \")"
   ]
  },
  {
   "cell_type": "code",
   "execution_count": 40,
   "metadata": {
    "collapsed": false,
    "slideshow": {
     "slide_type": "subslide"
    }
   },
   "outputs": [
    {
     "name": "stdout",
     "output_type": "stream",
     "text": [
      " -  A  - \n",
      " -  B  - \n",
      " -  C  - \n",
      " -  E  - \n",
      " -  I  - \n",
      " -  U  - \n",
      " -  Ö  - \n"
     ]
    }
   ],
   "source": [
    "#sortierte Ausgabe\n",
    "for c in sorted(chars):\n",
    "    print (\" - \", c, \" - \")"
   ]
  },
  {
   "cell_type": "markdown",
   "metadata": {
    "slideshow": {
     "slide_type": "slide"
    }
   },
   "source": [
    "<h3>for-Schleife: Erste Verallgemeinerung</h3>\n",
    "<p>for-Schleifen haben die Form: <code>for &lt;variable> in &lt;list></code><br/>\n",
    "Tatsächlich muss für &lt;list> nicht eine Liste eingesetzt werden, sondern es kann jeder \n",
    "Ausdruck eingesetzt werden, der eine Liste zurückgibt (oder etwas Listenartiges) – etwas _iterierbares_ (_iterable_)"
   ]
  },
  {
   "cell_type": "code",
   "execution_count": 41,
   "metadata": {
    "collapsed": false,
    "slideshow": {
     "slide_type": "fragment"
    }
   },
   "outputs": [
    {
     "name": "stdout",
     "output_type": "stream",
     "text": [
      "die\n",
      "das\n",
      "der\n",
      "auch\n"
     ]
    }
   ],
   "source": [
    "#definiert ein Dictionary namens word_count\n",
    "word_count = { 'der': 32, 'die': 17, 'das': 12, 'auch': 9 }\n",
    "\n",
    "#dict.keys() gibt die Keys des Dictionaries als Sequenz zurück, \n",
    "#die an der Stelle der Liste verwendet werden kann.\n",
    "for w in word_count.keys():                    \n",
    "    print(w)                                  "
   ]
  },
  {
   "cell_type": "markdown",
   "metadata": {
    "slideshow": {
     "slide_type": "slide"
    }
   },
   "source": [
    "<h3>for-Schleife: range(n)</h3>\n",
    "<p>Manchmal hat meine keine Liste, sondern braucht nur Zahlen, etwa die Zahlen von 0 bis 5. Die Funktion range(n) gibt alle Zahlen von 0 bis n-1 aus."
   ]
  },
  {
   "cell_type": "code",
   "execution_count": 42,
   "metadata": {
    "collapsed": false,
    "slideshow": {
     "slide_type": "fragment"
    }
   },
   "outputs": [
    {
     "name": "stdout",
     "output_type": "stream",
     "text": [
      "0 :  0\n",
      "1 :  1\n",
      "2 :  4\n",
      "3 :  9\n",
      "4 :  16\n",
      "5 :  25\n"
     ]
    }
   ],
   "source": [
    "for i in range(6):\n",
    "    print(i, \": \", i**2)"
   ]
  },
  {
   "cell_type": "code",
   "execution_count": 43,
   "metadata": {
    "collapsed": false,
    "slideshow": {
     "slide_type": "fragment"
    }
   },
   "outputs": [
    {
     "name": "stdout",
     "output_type": "stream",
     "text": [
      "2 :  4\n",
      "3 :  9\n"
     ]
    }
   ],
   "source": [
    "# wenn range zwei Parameter übergeben werden, dann ist der erste der  Startwert\n",
    "for i in range(2, 4):             \n",
    "    print (i, \": \", i**2)"
   ]
  },
  {
   "cell_type": "code",
   "execution_count": 44,
   "metadata": {
    "collapsed": false,
    "slideshow": {
     "slide_type": "subslide"
    }
   },
   "outputs": [
    {
     "name": "stdout",
     "output_type": "stream",
     "text": [
      "100\n",
      "110\n",
      "120\n",
      "130\n",
      "140\n"
     ]
    }
   ],
   "source": [
    "# und bei drei Parametern ist der Dritte die Schrittweite\n",
    "for i in range(100, 150, 10):\n",
    "    print(i)"
   ]
  },
  {
   "cell_type": "markdown",
   "metadata": {
    "slideshow": {
     "slide_type": "subslide"
    }
   },
   "source": [
    "<h3 style=\"color:green\">Aufgaben</h3>\n",
    "\n",
    "1. Geben Sie für eine Wortfrequenzliste alle Wörter mit ihren Frequenzen aus, für jedes Paar eine Zeile\n",
    "2. Lassen  Sie den Benutzer 3 Zahlen eingeben und multiplizieren Sie miteinander. Die Abfrage sollte so aussehen:\n",
    "\n",
    "        Bitte geben Sie die 1. Zahl ein:\n",
    "        Bitte geben Sie die 2. Zahl ein: "
   ]
  },
  {
   "cell_type": "markdown",
   "metadata": {
    "slideshow": {
     "slide_type": "subslide"
    }
   },
   "source": [
    "<h3>Musterlösung</h3>\n",
    "<p>Schreiben Sie das obige Beispiel mit der Ausgabe der Wortliste so um, dass nun auch die Häufigkeit der Wörter ausgegeben wird."
   ]
  },
  {
   "cell_type": "code",
   "execution_count": 45,
   "metadata": {
    "collapsed": false,
    "slideshow": {
     "slide_type": "fragment"
    }
   },
   "outputs": [
    {
     "name": "stdout",
     "output_type": "stream",
     "text": [
      "die \t 17\n",
      "das \t 12\n",
      "der \t 32\n",
      "auch \t 9\n"
     ]
    }
   ],
   "source": [
    "#definiert ein Dictionary namens word_count\n",
    "word_count = { 'der': 32, 'die': 17, 'das': 12, 'auch': 9 }\n",
    "\n",
    "for w in word_count:                    # kurz für for w in word_count.keys()\n",
    "    print(w, \"\\t\", word_count[w])"
   ]
  },
  {
   "cell_type": "markdown",
   "metadata": {
    "slideshow": {
     "slide_type": "slide"
    }
   },
   "source": [
    "<p> 2) Lassen Sie den Benutzer 3 Zahlen eingeben und addieren Sie sie. Die Abfrage sollte so aussehen:<br/>\n",
    "Bitte geben Sie das 1. Wort ein:<br/>\n",
    "und dann das 2. usw. (verwenden Sie nicht while) "
   ]
  },
  {
   "cell_type": "code",
   "execution_count": 47,
   "metadata": {
    "collapsed": false,
    "slideshow": {
     "slide_type": "fragment"
    }
   },
   "outputs": [
    {
     "name": "stdout",
     "output_type": "stream",
     "text": [
      "Bitte geben Sie die 1. Zahl ein: -19\n",
      "Bitte geben Sie die 2. Zahl ein: 1000\n",
      "Bitte geben Sie die 3. Zahl ein: 42\n",
      "Ergebnis:  1023\n"
     ]
    }
   ],
   "source": [
    "res = 0\n",
    "for i in range(3):\n",
    "    res += int(input(\"Bitte geben Sie die \" + str(i+1) + \". Zahl ein: \"))\n",
    "print(\"Ergebnis: \", res)"
   ]
  },
  {
   "cell_type": "markdown",
   "metadata": {
    "slideshow": {
     "slide_type": "slide"
    }
   },
   "source": [
    "<h3>Schleifen und bedingte Verzweigungen</h3>\n",
    "<p>Man kann Schleifen und Verzweigungen frei mischen:</p>"
   ]
  },
  {
   "cell_type": "code",
   "execution_count": 48,
   "metadata": {
    "collapsed": false,
    "slideshow": {
     "slide_type": "fragment"
    }
   },
   "outputs": [
    {
     "name": "stdout",
     "output_type": "stream",
     "text": [
      "uninteressant:  1\n",
      "hab die 2 gefunden\n",
      "uninteressant:  3\n",
      "uninteressant:  4\n"
     ]
    }
   ],
   "source": [
    "a = [1,2,3,4]\n",
    "for i in a:\n",
    "    if i == 2:\n",
    "        print(\"hab die 2 gefunden\")\n",
    "    else:\n",
    "        print(\"uninteressant: \", i)"
   ]
  },
  {
   "cell_type": "markdown",
   "metadata": {
    "slideshow": {
     "slide_type": "fragment"
    }
   },
   "source": [
    "Mit <code>break</code> kann man den Ablauf der Schleife abbrechen (aber Vorsicht, Lesbarkeit!)."
   ]
  },
  {
   "cell_type": "code",
   "execution_count": 49,
   "metadata": {
    "collapsed": false,
    "slideshow": {
     "slide_type": "fragment"
    }
   },
   "outputs": [
    {
     "name": "stdout",
     "output_type": "stream",
     "text": [
      "uninteressant:  1\n",
      "hab die 2 gefunden. das reicht mir.\n"
     ]
    }
   ],
   "source": [
    "a = [1,2,3,4]\n",
    "for i in a:\n",
    "    if i == 2:\n",
    "        print (\"hab die 2 gefunden. das reicht mir.\")\n",
    "        break\n",
    "    else:\n",
    "        print (\"uninteressant: \", i)"
   ]
  },
  {
   "cell_type": "markdown",
   "metadata": {
    "slideshow": {
     "slide_type": "subslide"
    }
   },
   "source": [
    "Analog kann man mit `continue` direkt in die nächste Iteration der Schleife springen."
   ]
  },
  {
   "cell_type": "markdown",
   "metadata": {
    "slideshow": {
     "slide_type": "slide"
    }
   },
   "source": [
    "<h3 style=\"color:green\">Aufgaben</h3>\n",
    "<p style=\"color:green\">Gegeben ist die Liste chars mit den Elementen A, C, E, U, Ö, I, B\n",
    "<ol style=\"color:green\">\n",
    "<li>Geben Sie alle Elemente der Liste sortiert aus, mit der Ausnahme von Ö\n",
    "<li>Schreiben Sie ein Skript, das ermittelt, welche der Zahlen zwischen 20.000 und 40.0000 durch 2.412 teilbar sind und geben Sie diese Zahlen aus.\n",
    "</ol>"
   ]
  },
  {
   "cell_type": "markdown",
   "metadata": {
    "slideshow": {
     "slide_type": "slide"
    }
   },
   "source": [
    "<h3>Musterlösung</h3>\n",
    "1) Geben Sie alle Elemente der Liste sortiert aus, mit der Ausnahme von Ö "
   ]
  },
  {
   "cell_type": "code",
   "execution_count": 50,
   "metadata": {
    "collapsed": false,
    "slideshow": {
     "slide_type": "fragment"
    }
   },
   "outputs": [
    {
     "name": "stdout",
     "output_type": "stream",
     "text": [
      "A\n",
      "B\n",
      "C\n",
      "E\n",
      "I\n",
      "U\n"
     ]
    }
   ],
   "source": [
    "uc = [\"A\",\"C\",\"E\",\"U\",\"Ö\",\"I\",\"B\"]\n",
    "for c in sorted(uc):\n",
    "    if c != \"Ö\":\n",
    "        print(c)"
   ]
  },
  {
   "cell_type": "markdown",
   "metadata": {
    "slideshow": {
     "slide_type": "slide"
    }
   },
   "source": [
    "<p>Schreiben Sie ein Skript, das ermittelt, welche der Zahlen zwischen 20.000 und 40.0000 durch 2.412 teilbar sind und geben Sie diese Zahlen aus."
   ]
  },
  {
   "cell_type": "code",
   "execution_count": 51,
   "metadata": {
    "collapsed": false,
    "slideshow": {
     "slide_type": "fragment"
    }
   },
   "outputs": [
    {
     "name": "stdout",
     "output_type": "stream",
     "text": [
      "21708\n",
      "24120\n",
      "26532\n",
      "28944\n",
      "31356\n",
      "33768\n",
      "36180\n",
      "38592\n"
     ]
    }
   ],
   "source": [
    "for i in range (20000,40000):\n",
    "    if i % 2412 == 0:\n",
    "        print(i)"
   ]
  },
  {
   "cell_type": "markdown",
   "metadata": {
    "slideshow": {
     "slide_type": "slide"
    }
   },
   "source": [
    "### `for`-Schleifen mit mehreren Laufvariablen\n",
    "\n",
    "Man kann Tupel auch auf der _linken_ Seite einer Zuweisung verwenden, um vorhandene Tupel, Listen etc. zu _entpacken_"
   ]
  },
  {
   "cell_type": "code",
   "execution_count": 2,
   "metadata": {
    "collapsed": false,
    "slideshow": {
     "slide_type": "fragment"
    }
   },
   "outputs": [
    {
     "name": "stdout",
     "output_type": "stream",
     "text": [
      "Tupel: (17, 23) – Erster Wert: 17 – Zweiter Wert: 23\n"
     ]
    }
   ],
   "source": [
    "t = (17, 23)\n",
    "(i, j) = t        # Klammern hier optional\n",
    "\n",
    "print(\"Tupel:\", t, \"– Erster Wert:\", i, \"– Zweiter Wert:\", j)"
   ]
  },
  {
   "cell_type": "markdown",
   "metadata": {
    "slideshow": {
     "slide_type": "fragment"
    }
   },
   "source": [
    "Das macht die Implementierung des Vertauschens zweier Variablenwerte in Python recht trivial:"
   ]
  },
  {
   "cell_type": "code",
   "execution_count": 3,
   "metadata": {
    "collapsed": false,
    "slideshow": {
     "slide_type": "fragment"
    }
   },
   "outputs": [],
   "source": [
    "j, i = i, j"
   ]
  },
  {
   "cell_type": "markdown",
   "metadata": {
    "slideshow": {
     "slide_type": "subslide"
    }
   },
   "source": [
    "Man sieht es aber auch z.B. beim Iterieren über Dictionaries gelegentlich:"
   ]
  },
  {
   "cell_type": "code",
   "execution_count": 4,
   "metadata": {
    "collapsed": false,
    "slideshow": {
     "slide_type": "-"
    }
   },
   "outputs": [
    {
     "name": "stdout",
     "output_type": "stream",
     "text": [
      "dict_items([('Klara', 23), ('Hans', 72), ('Peter', '31'), ('Maria', 94)])\n",
      "Klara ist 23\n",
      "Hans ist 72\n",
      "Peter ist 31\n",
      "Maria ist 94\n"
     ]
    }
   ],
   "source": [
    "alter = {\"Klara\": 23, \"Maria\": 94, \"Hans\": 72, \"Peter\": \"31\"}\n",
    "print(alter.items())\n",
    "for name, age in alter.items():\n",
    "    print(name, \"ist\", age)"
   ]
  },
  {
   "cell_type": "markdown",
   "metadata": {
    "slideshow": {
     "slide_type": "subslide"
    }
   },
   "source": [
    "`enumerate` zählt etwas auflistbares auf:"
   ]
  },
  {
   "cell_type": "code",
   "execution_count": 8,
   "metadata": {
    "collapsed": false,
    "slideshow": {
     "slide_type": "-"
    }
   },
   "outputs": [
    {
     "data": {
      "text/plain": [
       "[(0, 'Marx'), (1, 'Turing'), (2, 'Popper'), (3, 'Foucault')]"
      ]
     },
     "execution_count": 8,
     "metadata": {},
     "output_type": "execute_result"
    }
   ],
   "source": [
    "list(enumerate(thinkers))"
   ]
  },
  {
   "cell_type": "code",
   "execution_count": 9,
   "metadata": {
    "collapsed": false,
    "slideshow": {
     "slide_type": "fragment"
    }
   },
   "outputs": [
    {
     "name": "stdout",
     "output_type": "stream",
     "text": [
      "Denker Nr. 0 ist Marx\n",
      "Denker Nr. 1 ist Turing\n",
      "Denker Nr. 2 ist Popper\n",
      "Denker Nr. 3 ist Foucault\n"
     ]
    }
   ],
   "source": [
    "for n, thinker in enumerate(thinkers):\n",
    "    print(\"Denker Nr.\", str(n), \"ist\", thinker)"
   ]
  },
  {
   "cell_type": "markdown",
   "metadata": {
    "slideshow": {
     "slide_type": "subslide"
    }
   },
   "source": [
    "Mit der `zip`-Funktion kann man Listen verschränken."
   ]
  },
  {
   "cell_type": "code",
   "execution_count": 10,
   "metadata": {
    "collapsed": false,
    "slideshow": {
     "slide_type": "-"
    }
   },
   "outputs": [
    {
     "name": "stdout",
     "output_type": "stream",
     "text": [
      "Zora schreibt den Abschnitt Problemstellung\n",
      "Yannick schreibt den Abschnitt Methoden\n",
      "Xenia schreibt den Abschnitt Ergebnisse\n",
      "Wolfgang schreibt den Abschnitt Diskussion\n",
      "[('Zora', 'Problemstellung'), ('Yannick', 'Methoden'), ('Xenia', 'Ergebnisse'), ('Wolfgang', 'Diskussion')]\n"
     ]
    }
   ],
   "source": [
    "authors  = [ \"Zora\", \"Yannick\", \"Xenia\", \"Wolfgang\" ]\n",
    "chapters = [ \"Problemstellung\", \"Methoden\", \"Ergebnisse\", \"Diskussion\" ]\n",
    "for author, chapter in zip(authors, chapters):\n",
    "    print(author, \"schreibt den Abschnitt\", chapter)\n",
    "    \n",
    "print(list(zip(authors, chapters)))"
   ]
  },
  {
   "cell_type": "markdown",
   "metadata": {
    "slideshow": {
     "slide_type": "slide"
    }
   },
   "source": [
    "<h3 style=\"color:green\">Übungsaufgabe</h3>\n",
    "<p> Sie haben eine Liste mit 5 Elementen: sa = [1,2,3,4,5]</p>\n",
    "<p> 1) Schreiben Sie ein Skript, das einen Vergleich jedes Elements mit jedem anderen simuliert (1 -> 3 und 3 -> 1), aber nicht mit sich selbst.<br/> \n",
    "Der Output soll so aussehen: <br/> \n",
    "<code>comparing 1 -> 2\n",
    "comparing 1 -> 3 \n",
    "comparing 1 -> 4 \n",
    "comparing 2 -> 1 \n",
    "usw.</code></p>\n",
    "<p>2) Schreiben Sie das Programm so um, dass jedes Element nur einmal mit jedem anderen verglichen wird (aber nicht mit sich selbst), also statt  1 -> 2 und 2 -> 1  gibt es nun nur noch eine Zeile: 1 &lt;-> 2</p>"
   ]
  }
 ],
 "metadata": {
  "celltoolbar": "Slideshow",
  "kernelspec": {
   "display_name": "Python 3",
   "language": "python",
   "name": "python3"
  },
  "language_info": {
   "codemirror_mode": {
    "name": "ipython",
    "version": 3
   },
   "file_extension": ".py",
   "mimetype": "text/x-python",
   "name": "python",
   "nbconvert_exporter": "python",
   "pygments_lexer": "ipython3",
   "version": "3.5.1+"
  },
  "toc": {
   "navigate_menu": true,
   "number_sections": false,
   "sideBar": true,
   "threshold": 6,
   "toc_cell": false,
   "toc_section_display": "block",
   "toc_window_display": false
  }
 },
 "nbformat": 4,
 "nbformat_minor": 0
}
