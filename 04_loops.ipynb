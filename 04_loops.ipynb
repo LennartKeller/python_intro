{
 "metadata": {
  "celltoolbar": "Slideshow",
  "name": "",
  "signature": "sha256:6e7c477a0115aed23cccfa06903725abfd3d1f1f7812beadedda0c8033bd1ae0"
 },
 "nbformat": 3,
 "nbformat_minor": 0,
 "worksheets": [
  {
   "cells": [
    {
     "cell_type": "heading",
     "level": 1,
     "metadata": {
      "slideshow": {
       "slide_type": "slide"
      }
     },
     "source": [
      "Einf\u00fchrung in das Programmieren mit Python"
     ]
    },
    {
     "cell_type": "heading",
     "level": 2,
     "metadata": {
      "slideshow": {
       "slide_type": "-"
      }
     },
     "source": [
      "Schleifen"
     ]
    },
    {
     "source": [
      "<h3>Musterl\u00f6sung f\u00fcr die Hausaufgaben</h3>\n",
      "<p>1) Sie wollen ein einfaches Telefonbuch anlegen, nur Nachnamen und Nummer. Was ist die beste Datenstruktur? \n"
     ]
    },
    {
     "cell_type": "code",
     "collapsed": false,
     "input": [
      "#ein Dictionary\n",
      "phone = { 'Maria': '555-28231', 'Sepp': '555-1234', 'Jo': '1919-1919' }\n",
      "phone[\"Maria\"]"
     ],
     "language": "python",
     "metadata": {
      "slideshow": {
       "slide_type": "fragment"
      }
     },
     "outputs": [
      {
       "metadata": {},
       "output_type": "pyout",
       "prompt_number": 1,
       "text": [
        "'555-28231'"
       ]
      }
     ],
     "prompt_number": 1
    },
    {
     "cell_type": "markdown",
     "metadata": {
      "slideshow": {
       "slide_type": "fragment"
      }
     },
     "source": [
      "2) Sie wollen die W\u00f6rter eines Textes auflisten. Welche der Datenstrukturen eignet sich daf\u00fcr?"
     ]
    },
    {
     "cell_type": "code",
     "collapsed": false,
     "input": [
      "#auflisten (!) -> eine Liste\n",
      "words = [\"wir\", \"haus\", \"kein\"]\n",
      "words[0]"
     ],
     "language": "python",
     "metadata": {
      "slideshow": {
       "slide_type": "fragment"
      }
     },
     "outputs": [
      {
       "metadata": {},
       "output_type": "pyout",
       "prompt_number": 92,
       "text": [
        "'wir'"
       ]
      }
     ],
     "prompt_number": 92
    },
    {
     "cell_type": "markdown",
     "metadata": {
      "slideshow": {
       "slide_type": "subslide"
      }
     },
     "source": [
      "3) Sie wollen die Tages-Temperaturen der europ\u00e4ischen Hauptst\u00e4dte in den letzten 4 Wochen speichern. Was w\u00e4ren m\u00f6gliche L\u00f6sungen? Testen Sie eine mit wenigen Spieldaten. Was w\u00e4re eine perfekte L\u00f6sung?  \n"
     ]
    },
    {
     "cell_type": "markdown",
     "metadata": {
      "slideshow": {
       "slide_type": "fragment"
      }
     },
     "source": [
      "Die Aufgabe lautet \"die Tages-Temperaturen der europ\u00e4ischen Hauptst\u00e4dte in den letzten 4 Wochen speichern\", d.h. wir m\u00fcssen f\u00fcr jeden Ort (1. Einheit) f\u00fcr jeden Tag (2. Einheit) die Temperatur (3. Einheit) speichern. Eine M\u00f6glichkeit w\u00e4re ein Dictionary, dessen Eintr\u00e4ge als key den St\u00e4dtenamen verwenden und als value eine 30 Elemente-lange Liste haben. Jedes Element der Liste enth\u00e4lt die Temperatur an diesem Tag, also temp[12] ist die Temperatur am 12. Aus Platzgr\u00fcnden verwende ich im folgenden nur 7 Tage."
     ]
    },
    {
     "cell_type": "code",
     "collapsed": false,
     "input": [
      "weather = { 'Berlin': [14,17,16,17,15,14,12], 'Athen' : [22,23,25,24,20,19,23] }\n",
      "weather[\"Berlin\"][5] # gibt das Wetter in Berlin am Samstag aus"
     ],
     "language": "python",
     "metadata": {
      "slideshow": {
       "slide_type": "fragment"
      }
     },
     "outputs": [
      {
       "metadata": {},
       "output_type": "pyout",
       "prompt_number": 6,
       "text": [
        "14"
       ]
      }
     ],
     "prompt_number": 6
    },
    {
     "cell_type": "markdown",
     "metadata": {
      "slideshow": {
       "slide_type": "subslide"
      }
     },
     "source": [
      "4) Sie wollen die W\u00f6rter eines Textes und ihre Frequenz auflisten. Diskutieren Sie m\u00f6gliche L\u00f6sungen. Testen Sie eine. Was erscheint Ihnen die beste L\u00f6sung?\n"
     ]
    },
    {
     "cell_type": "code",
     "collapsed": false,
     "input": [
      "# ein Dictionary ist eine gute Wahl:\n",
      "words =  {\"haus\" : 0.004, \"der\" : 0.03, \"auch\" : 0.009}\n",
      "#daraus kann man dann alphabetische Listen erstellen und auch H\u00e4ufigkeitswortlisten \n",
      "sorted(words.keys())"
     ],
     "language": "python",
     "metadata": {
      "slideshow": {
       "slide_type": "fragment"
      }
     },
     "outputs": [
      {
       "metadata": {},
       "output_type": "pyout",
       "prompt_number": 93,
       "text": [
        "['auch', 'der', 'haus']"
       ]
      }
     ],
     "prompt_number": 93
    },
    {
     "cell_type": "markdown",
     "metadata": {
      "slideshow": {
       "slide_type": "subslide"
      }
     },
     "source": [
      "<p style=\"color:green\">Die Gemeinsame Normdatei der Deutschen Nationalbibliothek verzeichnet historische Personen, Ortsnamen usw. Jeder Eintrag hat eine einzigartige Nummer (id). In unserer vereinfachten Version besteht ein Eintrag aus 1. der id, 2. dem Namen, 3. einem kleinen Text zur Person oder dem Ort. \n",
      "<ol style=\"color:green\">\n",
      "<li>Definieren Sie 4 Test-Eintr\u00e4ge und holen Sie sich von der GND die richtigen GND-Nummern daf\u00fcr. \n",
      "</ol>\n",
      "<p> Sie k\u00f6nnen ganz bequem in der GND suchen, etwa hier: <a href=\"https://wiki.bsz-bw.de/doku.php?id=v-team:recherche:ognd:start\">https://wiki.bsz-bw.de/doku.php?id=v-team:recherche:ognd:start</a><br/>\n",
      "Sie k\u00f6nnen dann die Nummer auch als Link verwenden. Goethe etwa hat die Nummer 118540238. Dann k\u00f6nnen Sie nun mit dem Link <a href=\"d-nb.info/gnd/118540238\">http://d-nb.info/gnd/118540238</a> seinen GND-Eintrag abrufen. \n",
      "\n"
     ]
    },
    {
     "cell_type": "code",
     "collapsed": false,
     "input": [
      "# FIXME\n",
      "vips = {118540238 : {\"Goethe\" : \"Schriftsteller, Publizist, Politiker, Jurist, Naturwissenschaftler, Theaterintendant, Maler, Zeichner, 1749 - 1832\"},\n",
      "        118607625 : {\"Schiller\" : \"Schriftsteller, Dramatiker, Historiker, 1759 - 1805\"}, \n",
      "        118572121 : {\"Lessing\" : \"Schriftsteller, Kritiker, Philosoph, Bibliothekar, 1729 - 1781\"}, \n",
      "        118559230: {\"Kafka\" : \"Schriftsteller, Jurist, 1883 - 1924\"} }"
     ],
     "language": "python",
     "metadata": {
      "slideshow": {
       "slide_type": "fragment"
      }
     },
     "outputs": [],
     "prompt_number": 105
    },
    {
     "cell_type": "markdown",
     "metadata": {
      "slideshow": {
       "slide_type": "fragment"
      }
     },
     "source": [
      "2) Geben Sie durch Angabe der Nummer den Eintrag aus. \n"
     ]
    },
    {
     "cell_type": "code",
     "collapsed": false,
     "input": [
      "vips[118572121]"
     ],
     "language": "python",
     "metadata": {
      "slideshow": {
       "slide_type": "fragment"
      }
     },
     "outputs": [
      {
       "metadata": {},
       "output_type": "pyout",
       "prompt_number": 106,
       "text": [
        "{'Lessing': 'Schriftsteller, Kritiker, Philosoph, Bibliothekar, 1729 - 1781'}"
       ]
      }
     ],
     "prompt_number": 106
    },
    {
     "cell_type": "markdown",
     "metadata": {
      "slideshow": {
       "slide_type": "subslide"
      }
     },
     "source": [
      "3) F\u00fcgen Sie einen weiteren Eintrag hinzu."
     ]
    },
    {
     "cell_type": "code",
     "collapsed": false,
     "input": [
      "vips[118534262] =  {\"Fontane\" : \"Schriftsteller, Journalist, Kritiker, Theaterkritiker, Kriegsberichterstatter, Apotheker, 1819 - 1898\"} "
     ],
     "language": "python",
     "metadata": {
      "slideshow": {
       "slide_type": "fragment"
      }
     },
     "outputs": [],
     "prompt_number": 107
    },
    {
     "cell_type": "markdown",
     "metadata": {
      "slideshow": {
       "slide_type": "fragment"
      }
     },
     "source": [
      "4) Geben Sie alle GND-Nummern aus."
     ]
    },
    {
     "cell_type": "code",
     "collapsed": false,
     "input": [
      "vips.keys()"
     ],
     "language": "python",
     "metadata": {
      "slideshow": {
       "slide_type": "fragment"
      }
     },
     "outputs": [
      {
       "metadata": {},
       "output_type": "pyout",
       "prompt_number": 108,
       "text": [
        "dict_keys([118534262, 118607625, 118559230, 118540238, 118572121])"
       ]
      }
     ],
     "prompt_number": 108
    },
    {
     "cell_type": "markdown",
     "metadata": {
      "slideshow": {
       "slide_type": "fragment"
      }
     },
     "source": [
      "5) Geben Sie mit Verwendung der GND-Nummer (nur) einen Namen aus. "
     ]
    },
    {
     "cell_type": "code",
     "collapsed": false,
     "input": [
      "list(vips[118534262].keys())[0]"
     ],
     "language": "python",
     "metadata": {
      "slideshow": {
       "slide_type": "fragment"
      }
     },
     "outputs": [
      {
       "metadata": {},
       "output_type": "pyout",
       "prompt_number": 109,
       "text": [
        "'Fontane'"
       ]
      }
     ],
     "prompt_number": 109
    },
    {
     "cell_type": "markdown",
     "metadata": {
      "slideshow": {
       "slide_type": "fragment"
      }
     },
     "source": [
      "6) Geben Sie mit Verwendung der GND-Nummer (nur) den Text aus. "
     ]
    },
    {
     "cell_type": "code",
     "collapsed": false,
     "input": [
      "list(vips[118534262].values())[0]"
     ],
     "language": "python",
     "metadata": {
      "slideshow": {
       "slide_type": "fragment"
      }
     },
     "outputs": [
      {
       "metadata": {},
       "output_type": "pyout",
       "prompt_number": 110,
       "text": [
        "'Schriftsteller, Journalist, Kritiker, Theaterkritiker, Kriegsberichterstatter, Apotheker, 1819 - 1898'"
       ]
      }
     ],
     "prompt_number": 110
    },
    {
     "cell_type": "markdown",
     "metadata": {
      "slideshow": {
       "slide_type": "slide"
      }
     },
     "source": [
      "## Wiederholung: Bedingungen, Verzweigungen, Input\n",
      "\n",
      "* Bedingungen sind Ausdr\u00fccke, die einen Wahrheitswert zur\u00fcckgeben\n",
      "* Vergleichsoperatoren: ``== != < <= > >=   in   not in``, \n",
      "* Funktionen und Methoden, z.B. ``str.isnumeric()``\n",
      "* Boolesche Operatoren: ``and or not``\n",
      "\n",
      "* Verzweigung in der Programmstruktur:\n",
      "``\n",
      "if <Bedingung>:\n",
      "   Code\n",
      "elif <Noch eine Bedingung>:\n",
      "   Code\n",
      "else:\n",
      "   Code\n",
      "unbdingt weiter\n",
      "``\n",
      "* Benutzereingaben: ``s = input(\"Eingabe: \")``"
     ]
    },

    {
     "cell_type": "markdown",
     "metadata": {
      "slideshow": {
       "slide_type": "slide"
      }
     },
     "source": [
      "<h3 style=\"color:green\">Aufgaben</h3>\n",
      "<p>1) Gegeben ist a = \"aus\" und b = \"Das Haus steht leer\". Schreiben Sie ein Script, dass f\u00fcr den Fall, dass a in b enthalten ist, ausgibt: _\"aus\" ist in dem String \"Das Haus steht leer\" enthalten._</p>\n",
      "<p>2) Gegeben ist c = \"Haus\". Verwenden Sie   b aus Aufgabe 1). Schreiben Sie ein Skript, dass, wenn c in Klein- oder Gro\u00dfschreibung in b enthalten ist, ausgibt: \"Found: >Haus&lt;\" </p>"
     ]
    },
    {
     "cell_type": "markdown",
     "metadata": {
      "slideshow": {
       "slide_type": "slide"
      }
     },
     "source": [
      "<h3>Musterl\u00f6sung</h3>\n",
      "1) Gegeben ist a = \"aus\" und b = \"Das Haus steht leer\". Schreiben Sie ein Script, dass f\u00fcr den Fall, dass a in b enthalten ist, ausgibt: \"aus\" ist in dem String \"Das Haus steht leer\" enthalten."
     ]
    },
    {
     "cell_type": "code",
     "collapsed": false,
     "input": [
      "a = \"aus\"\n",
      "b = \"Das Haus steht leer\"\n",
      "if a in b:\n",
      "    print ('\"aus\" ist in dem String \"Das Haus steht leer\" enthalten.')"
     ],
     "language": "python",
     "metadata": {
      "slideshow": {
       "slide_type": "fragment"
      }
     },
     "outputs": [
      {
       "output_type": "stream",
       "stream": "stdout",
       "text": [
        "\"aus\" ist in dem String \"Das Haus steht leer\" enthalten.\n"
       ]
      }
     ],
     "prompt_number": 77
    },
    {
     "cell_type": "markdown",
     "metadata": {
      "slideshow": {
       "slide_type": "fragment"
      }
     },
     "source": [
      "2) Gegeben ist c = \"Haus\". Verwenden Sie b aus Aufgabe 1). Schreiben Sie ein Skript, dass, wenn c in Klein- oder Gro\u00dfschreibung in b enthalten ist, ausgibt: \"Found: >Haus<\""
     ]
    },
    {
     "cell_type": "code",
     "collapsed": false,
     "input": [
      "c = \"Haus\"\n",
      "if c in b or c.lower() in b:\n",
      "    print (\"Found: >Haus<\")"
     ],
     "language": "python",
     "metadata": {
      "slideshow": {
       "slide_type": "fragment"
      }
     },
     "outputs": [
      {
       "output_type": "stream",
       "stream": "stdout",
       "text": [
        "Found: >Haus<\n"
       ]
      }
     ],
     "prompt_number": 78
    },
    {
     "cell_type": "markdown",
     "metadata": {
      "slideshow": {
       "slide_type": "slide"
      }
     },
     "source": [
      "<h3>Bedingungen: if \u2013 else </h3>\n",
      "<p>Mit else kann man festlegen, welcher Code ausgef\u00fchrt werden soll, wenn die Bedingung _nicht_ wahr ist:\n",
      "<p>\n",
      "<img src=\"files/images/if_else.png\" width=\"50%\" height=\"50%\" border=\"0\" alt=\"\">    "
     ]
    },
    {
     "cell_type": "code",
     "collapsed": false,
     "input": [
      "a = 2\n",
      "if a == 1:\n",
      "    print (\"a gleich 1\")\n",
      "else: \n",
      "    print (\"a ungleich 1\")"
     ],
     "language": "python",
     "metadata": {
      "slideshow": {
       "slide_type": "fragment"
      }
     },
     "outputs": [
      {
       "output_type": "stream",
       "stream": "stdout",
       "text": [
        "a ungleich 1\n"
       ]
      }
     ],
     "prompt_number": 79
    },
    {
     "cell_type": "markdown",
     "metadata": {
      "slideshow": {
       "slide_type": "slide"
      }
     },
     "source": [
      "<h3>Gereihte Bedingungen mit elif</h3>\n",
      "<p>Will man \u00fcberpr\u00fcfen, ob eine von mehreren Bedingungen wahr ist, verwendet man eine Reihe von if \u2013 elif \u2013 [elif] \u2013 else:"
     ]
    },
    {
     "cell_type": "markdown",
     "metadata": {
      "slideshow": {
       "slide_type": "slide"
      }
     },
     "source": [
      "<pre>\n",
      "if &lt;bedingung>:\n",
      "\tcode\n",
      "elif &lt;bedingung>:\n",
      "\tcode\n",
      "[...]\n",
      "else:\n",
      "\tcode\n",
      "</pre>"
     ]
    },
    {
     "cell_type": "code",
     "collapsed": false,
     "input": [
      "c = \"z\"\n",
      "if c == \"x\":\n",
      "    print (\"c ist x\")\n",
      "elif c == \"y\": \n",
      "    print (\"c ist y\")    \n",
      "elif c == \"z\":\n",
      "    print (\"c ist z\")    \n",
      "else: \n",
      "    print (\"c ist weder x noch y noch z\")    \n",
      "    "
     ],
     "language": "python",
     "metadata": {
      "slideshow": {
       "slide_type": "fragment"
      }
     },
     "outputs": [
      {
       "output_type": "stream",
       "stream": "stdout",
       "text": [
        "c ist z\n"
       ]
      }
     ],
     "prompt_number": 80
    },
    {
     "cell_type": "markdown",
     "metadata": {
      "slideshow": {
       "slide_type": "slide"
      }
     },
     "source": [
      "<h3 style=\"color:green\">Aufgaben</h3>\n",
      "<p>1) Wenn der String \"Freund\" in Klein- oder Gro\u00dfschreibung in \"Sie wollen sich befreunden\" enthalten ist, dann soll \"Found: Freund\" ausgegeben werden, ansonsten \"String not found\".</p>\n",
      "<p>2) `a` ist eine Variable (die urspr\u00fcnglich durch eine Benutzereingabe belegt worden sein k\u00f6nnte). Wenn die Eingabe kleiner ist als 7, dann lautet die Ausgabe: \"Gesuchte Zahl ist gr\u00f6\u00dfer\", wenn die Zahl gr\u00f6\u00dfer ist als 7, dann lautet die Ausgabe: \"Gesuchte Zahl ist kleiner\". Wenn die Zahl genau 7 ist, dann lautet die Ausgabe \"Zahl gefunden\". Spielen Sie das mit a = 1 und a = 7 durch.</p>"
     ]
    },
    {
     "cell_type": "markdown",
     "metadata": {
      "slideshow": {
       "slide_type": "slide"
      }
     },
     "source": [
      "<h3>Musterl\u00f6sung</h3>\n",
      "<p>Wenn der String \"Freund\" in Klein- oder Gro\u00dfschreibung in \"Sie wollen sich befreunden\" enthalten ist, dann soll \"Found: Freund\" ausgegeben werden, ansonsten \"String not found\"."
     ]
    },
    {
     "cell_type": "code",
     "collapsed": false,
     "input": [
      "if \"Freund\" in \"Sie wollen sich befreunden\" or \"Freund\".lower() in \"Sie wollen sich befreunden\":\n",
      "    print (\"Found: Freund\")\n",
      "else:\n",
      "    print (\"String not found\")"
     ],
     "language": "python",
     "metadata": {
      "slideshow": {
       "slide_type": "fragment"
      }
     },
     "outputs": [
      {
       "output_type": "stream",
       "stream": "stdout",
       "text": [
        "Found: Freund\n"
       ]
      }
     ],
     "prompt_number": 81
    },
    {
     "cell_type": "markdown",
     "metadata": {
      "slideshow": {
       "slide_type": "fragment"
      }
     },
     "source": [
      "2) a ist eine Benutzereingabe. Wenn die Eingabe kleiner ist als 7, dann lautet die Ausgabe: \"Gesuchte Zahl ist gr\u00f6\u00dfer\", wenn die Zahl gr\u00f6\u00dfer ist als 7, dann lautet die Ausgabe: \"Gesuchte Zahl ist kleiner\". Wenn die Zahl genau 7 ist, dann lautet die Ausgabe \"Zahl gefunden\". Spielen Sie das mit a = 1 und a = 7 durch."
     ]
    },
    {
     "cell_type": "code",
     "collapsed": false,
     "input": [
      "a = 1\n",
      "if a < 7:\n",
      "    print (\"Gesuchte Zahl ist gr\u00f6\u00dfer\")\n",
      "elif a == 7:\n",
      "    print (\"Zahl gefunden\")\n",
      "else:\n",
      "    print (\"Gesuchte Zahl ist kleiner\")\n",
      "    "
     ],
     "language": "python",
     "metadata": {
      "slideshow": {
       "slide_type": "fragment"
      }
     },
     "outputs": [
      {
       "output_type": "stream",
       "stream": "stdout",
       "text": [
        "Gesuchte Zahl ist gr\u00f6\u00dfer\n"
       ]
      }
     ],
     "prompt_number": 82
    },
    {
     "cell_type": "markdown",
     "metadata": {
      "slideshow": {
       "slide_type": "slide"
      }
     },
     "source": [
      "### Zusammengesetzte Statements\n",
      "\n",
      "![Ein- und Ausr\u00fcckungen markieren zusammengeh\u00f6rige Statements (suite)](images/indent.svg)"
     ]
    },
    {
     "cell_type": "markdown",
     "metadata": {
      "slideshow": {
       "slide_type": "fragment"
      }
     },
     "source": [
      "* Einr\u00fcckung ist in Python bedeutungstragend\n",
      "* aufeinanderfolgende Elemente mit gleicher (Mindest-)Zahl von Leerzeichen bilden eine Folge (_suite_)\n",
      "* **Ausr\u00fcckung** muss auf eine der vorherigen Einr\u00fcckungsstufen gehen"
     ]
    },
    {
     "cell_type": "markdown",
     "metadata": {
      "slideshow": {
       "slide_type": "slide"
      }
     },
     "source": [
      "<h3>Einfache Benutzereingabe mit <code>input</code></h3>"
     ]
    },
    {
     "cell_type": "code",
     "collapsed": false,
     "input": [
      "r = input(\"Geben Sie bitte eine Zahl zwischen 1 und 10 ein: \")\n",
      "print(\"Ihre Eingabe war (falls Sie das schon vergessen haben): \", r)"
     ],
     "language": "python",
     "metadata": {
      "slideshow": {
       "slide_type": "fragment"
      }
     },
     "outputs": [
      {
       "name": "stdout",
       "output_type": "stream",
       "stream": "stdout",
       "text": [
        "Geben Sie bitte eine Zahl zwischen 1 und 10 ein: 7\n"
       ]
      },
      {
       "output_type": "stream",
       "stream": "stdout",
       "text": [
        "Ihre Eingabe war (falls Sie das schon vergessen haben):  7\n"
       ]
      }
     ],
     "prompt_number": 83
    },
    {
     "cell_type": "code",
     "collapsed": false,
     "input": [
      "r = input(\"Geben Sie bitte eine Zahl zwischen 1 und 10 ein: \")\n",
      "print(type(r))   # Achtung, der Datentyp von r ist string"
     ],
     "language": "python",
     "metadata": {
      "slideshow": {
       "slide_type": "fragment"
      }
     },
     "outputs": [
      {
       "name": "stdout",
       "output_type": "stream",
       "stream": "stdout",
       "text": [
        "Geben Sie bitte eine Zahl zwischen 1 und 10 ein: 5\n"
       ]
      },
      {
       "output_type": "stream",
       "stream": "stdout",
       "text": [
        "<class 'str'>\n"
       ]
      }
     ],
     "prompt_number": 84
    },
    {
     "cell_type": "markdown",
     "metadata": {
      "slideshow": {
       "slide_type": "subslide"
      }
     },
     "source": [
      "Wir k\u00f6nnen nun die Benutzereingabe auswerten:"
     ]
    },
    {
     "cell_type": "code",
     "collapsed": false,
     "input": [
      "r = input(\"Geben Sie bitte eine Zahl zwischen 1 und 10 ein: \")\n",
      "if not r.isnumeric():\n",
      "    print(r, \"ist eher keine Zahl.\")\n",
      "else: \n",
      "    r = int(r)  # type casting nach int\n",
      "    a = r ** 2\n",
      "    print(\"Das Quadrat der Zahl \", r, \" ist \", a)"
     ],
     "language": "python",
     "metadata": {
      "slideshow": {
       "slide_type": "fragment"
      }
     },
     "outputs": [
      {
       "name": "stdout",
       "output_type": "stream",
       "stream": "stdout",
       "text": [
        "Geben Sie bitte eine Zahl zwischen 1 und 10 ein: 6\n"
       ]
      },
      {
       "output_type": "stream",
       "stream": "stdout",
       "text": [
        "Das Quadrat der Zahl  6  ist  36\n"
       ]
      }
     ],
     "prompt_number": 85
    },
    {
     "cell_type": "markdown",
     "metadata": {
      "slideshow": {
       "slide_type": "fragment"
      }
     },
     "source": [
      "<h3 style=\"color:green\">Aufgabe</h3>\n",
      "<p>Lassen Sie den Benutzer ein beliebiges Wort eingeben. Geben Sie dann als Ergebnis die L\u00e4nge des Wortes und die Anzahl der unterschiedlichen Vokale aus (ignorieren Sie Klein- und Gro\u00dfschreibung).  "
     ]
    },
    {
     "cell_type": "markdown",
     "metadata": {},
     "source": [
      "Gesamtzahl geht nat\u00fcrlich mit count()"
     ]
    },
    {
     "cell_type": "code",
     "collapsed": false,
     "input": [
      "#Lassen Sie den Benutzer ein beliebiges Wort eingeben.\n",
      "#Geben Sie dann als Ergebnis die L\u00e4nge des Wortes und die Anzahl der verschiedenen Vokale aus\n",
      "\n",
      "word = input(\"Bitte geben Sie ein Wort ein: \")\n",
      "print(\"L\u00e4nge des Wortes: \", len(word))\n",
      "voc = 0\n",
      "if \"a\" in word.lower():\n",
      "    voc += 1\n",
      "if \"o\" in word.lower():\n",
      "    voc += 1\n",
      "if \"e\" in word.lower():\n",
      "    voc += 1\n",
      "if \"i\" in word.lower():\n",
      "    voc += 1\n",
      "if \"u\" in word.lower():\n",
      "    voc += 1\n",
      "\n",
      "print(\"Es sind \", voc, \" unterschiedliche Vokale in \", word)\n"
     ],
     "language": "python",
     "metadata": {
      "slideshow": {
       "slide_type": "subslide"
      }
     },
     "outputs": [
      {
       "name": "stdout",
       "output_type": "stream",
       "stream": "stdout",
       "text": [
        "Bitte geben Sie ein Wort ein: Anubis\n"
       ]
      },
      {
       "output_type": "stream",
       "stream": "stdout",
       "text": [
        "L\u00e4nge des Wortes:  6\n",
        "Es sind  3  unterschiedliche Vokale in  Anubis\n"
       ]
      }
     ],
     "prompt_number": 137
    },
    {
     "cell_type": "heading",
     "level": 2,
     "metadata": {
      "slideshow": {
       "slide_type": "slide"
      }
     },
     "source": [
      "Programmkontrolle: Schleifen"
     ]
    },
    {
     "cell_type": "markdown",
     "metadata": {
      "slideshow": {
       "slide_type": "subslide"
      }
     },
     "source": [
      "<h3>while-Schleifen</h3>\n",
      "<p>\n",
      "<img src=\"files/images/loop.png\" width=\"50%\" height=\"50%\" border=\"0\" alt=\"\">    "
     ]
    },
    {
     "cell_type": "code",
     "collapsed": false,
     "input": [
      "while bedingung:           # solange die bedingung wahr ist,\n",
      "    mach_was()             # wiederhole den (einger\u00fcckten Block)\n",
      "    mach_noch_mehr()       \n",
      "continue_normal_flow()     # wenn die bedingung falsch wird, hier weiter"
     ],
     "language": "python",
     "metadata": {
      "slideshow": {
       "slide_type": "fragment"
      }
     },
     "outputs": []
    },
    {
     "cell_type": "markdown",
     "metadata": {
      "slideshow": {
       "slide_type": "fragment"
      }
     },
     "source": [
      "\u00dcblicherweise wird im Code eine Variable so ver\u00e4ndert, dass an einem bestimmten Punkt die Bedingung nicht mehr wahr ist."
     ]
    },
    {
     "cell_type": "markdown",
     "metadata": {
      "slideshow": {
       "slide_type": "slide"
      }
     },
     "source": [
      "while-Schleifen: Beispiel"
     ]
    },
    {
     "cell_type": "code",
     "collapsed": false,
     "input": [
      "n = 0\n",
      "while n < 5:       # Anfang der Schleife, Bestimmung der Bedingung\n",
      "    print(n)       # tue etwas mit der Variablen n\n",
      "    n = n + 1      # ver\u00e4ndere n so, dass die Bedingung an einem bestimmten Punkt nicht mehr wahr ist."
     ],
     "language": "python",
     "metadata": {
      "slideshow": {
       "slide_type": "fragment"
      }
     },
     "outputs": [
      {
       "output_type": "stream",
       "stream": "stdout",
       "text": [
        "0\n",
        "1\n",
        "2\n",
        "3\n",
        "4\n"
       ]
      }
     ],
     "prompt_number": 2
    },
    {
     "cell_type": "markdown",
     "metadata": {
      "slideshow": {
       "slide_type": "fragment"
      }
     },
     "source": [
      "### Inkrement\n",
      "```\n",
      "n = 0\n",
      "n = n + 1\n",
      "```\n",
      "* erst wird der Ausdruck `n + 1` auf der rechten Seite der Zuweisung ausgewertet: `n + 1` \u2192 `0 + 1` \u2192 `1`\n",
      "* dann wird dieser Wert der Variable `n` zugewiesen. Danach ist `n == 1`\n",
      "* Kurzschreibweise: **`n += 1`**, Achtung: `+=` \n",
      "* <span style=\"color:green\">(\u00dcbung: Was passiert wohl, wenn Sie `n=+1` schreiben? und wieso?)</span>"
     ]
    },
    {
     "cell_type": "markdown",
     "metadata": {
      "slideshow": {
       "slide_type": "slide"
      }
     },
     "source": [
      "<h3 style=\"color:green\">Aufgaben</h3>\n",
      "<p>1) Erstellen Sie eine Schleife, die 5 mal die Zahl 6 zur Ausgangszahl 0 hinzuz\u00e4hlt und das Ergebnis in jedem Durchlauf ausgibt.\n",
      "<p>2) Schreiben Sie eine Schleife, die beim Nutzer 3 Zahlen abfragt und dann das Ergebnis der Addition der Zahlen ausgibt."
     ]
    },
    {
     "cell_type": "markdown",
     "metadata": {},
     "source": [
      "Besser vielleicht: _Schreiben Sie ein Summationsprogramm: Fragen Sie in einer Schleife Benutzereingaben ab. Solange Zahlen eingegeben werden, summieren Sie die Zahlen auf, wenn der Benutzer etwas Nichtnumerisches eingibt, Summe der bisher eingegebenen Zahlen anzeigen_."
     ]
    },
    {
     "cell_type": "markdown",
     "metadata": {
      "slideshow": {
       "slide_type": "subslide"
      }
     },
     "source": [
      "<h3>Musterl\u00f6sung</h3>\n",
      "<p>1) Erstellen Sie eine Schleife, die 5 mal die Zahl 6 zur Ausgangszahl 0 hinzuz\u00e4hlt und das Ergebnis in jedem Durchlauf ausgibt."
     ]
    },
    {
     "cell_type": "code",
     "collapsed": false,
     "input": [
      "n = 0\n",
      "z = 0\n",
      "while n < 5:\n",
      "    z += 6\n",
      "    print (z)\n",
      "    n += 1"
     ],
     "language": "python",
     "metadata": {
      "slideshow": {
       "slide_type": "fragment"
      }
     },
     "outputs": [
      {
       "output_type": "stream",
       "stream": "stdout",
       "text": [
        "6\n",
        "12\n",
        "18\n",
        "24\n",
        "30\n"
       ]
      }
     ],
     "prompt_number": 1
    },
    {
     "cell_type": "markdown",
     "metadata": {
      "slideshow": {
       "slide_type": "subslide"
      }
     },
     "source": [
      "<p>2) Schreiben Sie eine Schleife, die beim Nutzer 3 Zahlen abfragt und dann das Ergebnis der Addition der Zahlen ausgibt."
     ]
    },
    {
     "cell_type": "code",
     "collapsed": false,
     "input": [
      "n = 0\n",
      "res = 0\n",
      "while n < 3:\n",
      "    res += int(input(\"Bitte geben Sie eine Zahl ein: \"))\n",
      "    n += 1\n",
      "print(\"Summe: \", res)"
     ],
     "language": "python",
     "metadata": {
      "slideshow": {
       "slide_type": "subslide"
      }
     },
     "outputs": [
      {
       "name": "stdout",
       "output_type": "stream",
       "stream": "stdout",
       "text": [
        "Bitte geben Sie eine Zahl ein: 17\n"
       ]
      },
      {
       "name": "stdout",
       "output_type": "stream",
       "stream": "stdout",
       "text": [
        "Bitte geben Sie eine Zahl ein: 4\n"
       ]
      },
      {
       "name": "stdout",
       "output_type": "stream",
       "stream": "stdout",
       "text": [
        "Bitte geben Sie eine Zahl ein: 23\n"
       ]
      },
      {
       "output_type": "stream",
       "stream": "stdout",
       "text": [
        "Summe:  44\n"
       ]
      }
     ],
     "prompt_number": 2
    },
    {
     "cell_type": "markdown",
     "metadata": {
      "slideshow": {
       "slide_type": "slide"
      }
     },
     "source": [
      "<h3>while und Listen"
     ]
    },
    {
     "cell_type": "code",
     "collapsed": false,
     "input": [
      "# Aufgabe: Gib alle Elemente der Liste chars aus:\n",
      "chars = ['a','b','c']\n",
      "n = 0\n",
      "while n < len(chars):\n",
      "    print(chars[n])\n",
      "    n += 1"
     ],
     "language": "python",
     "metadata": {
      "slideshow": {
       "slide_type": "fragment"
      }
     },
     "outputs": [
      {
       "output_type": "stream",
       "stream": "stdout",
       "text": [
        "a\n",
        "b\n",
        "c\n"
       ]
      }
     ],
     "prompt_number": 5
    },
    {
     "cell_type": "markdown",
     "metadata": {
      "slideshow": {
       "slide_type": "fragment"
      }
     },
     "source": [
      "Da dies ein sehr h\u00e4ufiger Zugriff auf Listen (und alles Listenartige) ist, gibt es daf\u00fcr eine eigene, sehr viel kompaktere Syntax, n\u00e4mlich for-Schleifen:"
     ]
    },
    {
     "cell_type": "code",
     "collapsed": false,
     "input": [
      "for c in chars:\n",
      "    print(c)"
     ],
     "language": "python",
     "metadata": {
      "slideshow": {
       "slide_type": "fragment"
      }
     },
     "outputs": [
      {
       "output_type": "stream",
       "stream": "stdout",
       "text": [
        "a\n",
        "b\n",
        "c\n"
       ]
      }
     ],
     "prompt_number": 6
    },
    {
     "cell_type": "markdown",
     "metadata": {
      "slideshow": {
       "slide_type": "slide"
      }
     },
     "source": [
      "<h3>for-Schleife: <code>for x in &lt;List></code></h3>"
     ]
    },
    {
     "cell_type": "markdown",
     "metadata": {
      "slideshow": {
       "slide_type": "fragment"
      }
     },
     "source": [
      "<img src=\"files/images/for_loop_simple.png\" width=\"50%\" height=\"50%\" border=\"0\" alt=\"\">\n",
      "\n",
      "* __foreach__-Schleife"
     ]
    },
    {
     "cell_type": "markdown",
     "metadata": {
      "slideshow": {
       "slide_type": "subslide"
      }
     },
     "source": [
      "<h3>for-Schleife: Schritt f\u00fcr Schritt"
     ]
    },
    {
     "cell_type": "code",
     "collapsed": false,
     "input": [
      "chars = ['a','b','c']\n",
      "for x in chars:\n",
      "    print(x)"
     ],
     "language": "python",
     "metadata": {
      "slideshow": {
       "slide_type": "fragment"
      }
     },
     "outputs": [
      {
       "output_type": "stream",
       "stream": "stdout",
       "text": [
        "a\n",
        "b\n",
        "c\n"
       ]
      }
     ],
     "prompt_number": 52
    },
    {
     "cell_type": "markdown",
     "metadata": {
      "slideshow": {
       "slide_type": "fragment"
      }
     },
     "source": [
      "Schritt f\u00fcr Schritt:"
     ]
    },
    {
     "cell_type": "markdown",
     "metadata": {
      "slideshow": {
       "slide_type": "fragment"
      }
     },
     "source": [
      "<ol>\n",
      "<li>Zeile: Erzeugt die Liste chars.\n",
      "<li>Zeile: Anfang der Schleife: Versuche, das n\u00e4chste Element aus der Liste `chars` zu nehmen. Ist da nichts mehr, dann den Schleifenblock \u00fcberspringen und danach weitermachen. Ansonsten:\n",
      "<ul>\n",
      "<li>Weise der Variablen `x` das Element aus der Liste als Wert zu.<br/> Beim ersten Durchlauf ist das der Inhalt von `chars[0]`, also: `x = 'a'`, beim zweiten Durchlauf ist das der Inhalt von `chars[1]`, also `x = 'b'` und beim dritten Durchlauf ist das der Inhalt von `chars[2]`, also `x = 'c'`.\n",
      "</ul>\n",
      "<li>Zeile: Gebe den Inhalt von x aus</br>\n",
      "&nbsp;&nbsp;&nbsp; Ende des Schleifencodes</br>"
     ]
    },
    {
     "cell_type": "markdown",
     "metadata": {
      "slideshow": {
       "slide_type": "subslide"
      }
     },
     "source": [
      "<h3>for-Schleife: ein Beispiel"
     ]
    },
    {
     "cell_type": "code",
     "collapsed": false,
     "input": [
      "thinkers = ['Marx','Turing', 'Popper','Foucault']\n",
      "for t in thinkers:\n",
      "\tprint(t)"
     ],
     "language": "python",
     "metadata": {
      "slideshow": {
       "slide_type": "fragment"
      }
     },
     "outputs": [
      {
       "output_type": "stream",
       "stream": "stdout",
       "text": [
        "Marx\n",
        "Turing\n",
        "Popper\n",
        "Foucault\n"
       ]
      }
     ],
     "prompt_number": 7
    },
    {
     "cell_type": "markdown",
     "metadata": {
      "slideshow": {
       "slide_type": "slide"
      }
     },
     "source": [
      "<h3 style=\"color:green\">Aufgaben</h3>\n",
      "<p>Gegeben ist die Liste chars mit den Elementen A, C, E, U, \u00d6, I, B\n",
      "<ol>\n",
      "<li>Geben Sie alle Elemente der Liste in dieser Form aus - &lt;char> -  , also - A - usw. (jeweils in einer neuen Zeile).\n",
      "<li>Geben Sie alle Elemente der Liste sortiert aus."
     ]
    },
    {
     "cell_type": "markdown",
     "metadata": {
      "slideshow": {
       "slide_type": "slide"
      }
     },
     "source": [
      "<h3 style=\"color:green\">Musterl\u00f6sung</h3>\n",
      "<p>Geben Sie alle Elemente der Liste in dieser Form aus - &lt;char> - , also - A - usw. (jeweils in einer neuen Zeile).\n",
      "\n"
     ]
    },
    {
     "cell_type": "code",
     "collapsed": false,
     "input": [
      "chars = ['A','C','E','U','\u00d6','I','B']\n",
      "for c in chars:\n",
      "    print (\" - \", c, \" - \")"
     ],
     "language": "python",
     "metadata": {
      "slideshow": {
       "slide_type": "fragment"
      }
     },
     "outputs": [
      {
       "output_type": "stream",
       "stream": "stdout",
       "text": [
        " -  A  - \n",
        " -  C  - \n",
        " -  E  - \n",
        " -  U  - \n",
        " -  \u00d6  - \n",
        " -  I  - \n",
        " -  B  - \n"
       ]
      }
     ],
     "prompt_number": 54
    },
    {
     "cell_type": "code",
     "collapsed": false,
     "input": [
      "#sortierte Ausgabe\n",
      "for c in sorted(chars):\n",
      "    print (\" - \", c, \" - \")"
     ],
     "language": "python",
     "metadata": {
      "slideshow": {
       "slide_type": "subslide"
      }
     },
     "outputs": [
      {
       "output_type": "stream",
       "stream": "stdout",
       "text": [
        " -  A  - \n",
        " -  B  - \n",
        " -  C  - \n",
        " -  E  - \n",
        " -  I  - \n",
        " -  U  - \n",
        " -  \u00d6  - \n"
       ]
      }
     ],
     "prompt_number": 55
    },
    {
     "cell_type": "markdown",
     "metadata": {
      "slideshow": {
       "slide_type": "slide"
      }
     },
     "source": [
      "<h3>for-Schleife: Erste Verallgemeinerung</h3>\n",
      "<p>for-Schleifen haben die Form: <code>for &lt;variable> in &lt;list></code><br/>\n",
      "Tats\u00e4chlich muss f\u00fcr &lt;list> nicht eine Liste eingesetzt werden, sondern es kann jeder \n",
      "Ausdruck eingesetzt werden, der eine Liste zur\u00fcckgibt (oder etwas Listenartiges). "
     ]
    },
    {
     "cell_type": "code",
     "collapsed": false,
     "input": [
      "#definiert ein Dictionary namens word_count\n",
      "word_count = { 'der': 32, 'die': 17, 'das': 12, 'auch': 9 }\n",
      "\n",
      "#dict.keys() gibt die Keys des Dictionaries als Sequenz zur\u00fcck, \n",
      "#die an der Stelle der Liste verwendet werden kann.\n",
      "for w in word_count.keys():                    \n",
      "    print(w)                                  "
     ],
     "language": "python",
     "metadata": {
      "slideshow": {
       "slide_type": "fragment"
      }
     },
     "outputs": [
      {
       "output_type": "stream",
       "stream": "stdout",
       "text": [
        "das\n",
        "die\n",
        "der\n",
        "auch\n"
       ]
      }
     ],
     "prompt_number": 9
    },
    {
     "cell_type": "markdown",
     "metadata": {
      "slideshow": {
       "slide_type": "slide"
      }
     },
     "source": [
      "<h3>for-Schleife: range(n)</h3>\n",
      "<p>Manchmal hat meine keine Liste, sondern braucht nur Zahlen, etwa die Zahlen von 0 bis 5. Die Funktion range(n) gibt alle Zahlen von 0 bis n-1 aus."
     ]
    },
    {
     "cell_type": "code",
     "collapsed": false,
     "input": [
      "for i in range(6):\n",
      "    print(i, \": \", i**2)"
     ],
     "language": "python",
     "metadata": {
      "slideshow": {
       "slide_type": "fragment"
      }
     },
     "outputs": [
      {
       "output_type": "stream",
       "stream": "stdout",
       "text": [
        "0 :  0\n",
        "1 :  1\n",
        "2 :  4\n",
        "3 :  9\n",
        "4 :  16\n",
        "5 :  25\n"
       ]
      }
     ],
     "prompt_number": 138
    },
    {
     "cell_type": "code",
     "collapsed": false,
     "input": [
      "# wenn range zwei Parameter \u00fcbergeben werden, dann ist der erste der  Startwert\n",
      "for i in range(2, 4):             \n",
      "    print (i, \": \", i**2)"
     ],
     "language": "python",
     "metadata": {
      "slideshow": {
       "slide_type": "fragment"
      }
     },
     "outputs": [
      {
       "output_type": "stream",
       "stream": "stdout",
       "text": [
        "2 :  4\n",
        "3 :  9\n"
       ]
      }
     ],
     "prompt_number": 12
    },
    {
     "cell_type": "code",
     "collapsed": false,
     "input": [
      "# und bei drei Parametern ist der Dritte die Schrittweite\n",
      "for i in range(100, 150, 10):\n",
      "    print(i)"
     ],
     "language": "python",
     "metadata": {
      "slideshow": {
       "slide_type": "subslide"
      }
     },
     "outputs": [
      {
       "output_type": "stream",
       "stream": "stdout",
       "text": [
        "100\n",
        "110\n",
        "120\n",
        "130\n",
        "140\n"
       ]
      }
     ],
     "prompt_number": 13
    },
    {
     "cell_type": "markdown",
     "metadata": {
      "slideshow": {
       "slide_type": "subslide"
      }
     },
     "source": [
      "<h3 style=\"color:green\">Aufgaben</h3>\n",
      "<p>1) Schreiben Sie das obige Beispiel mit der Ausgabe der Wortliste so um, dass nun auch die H\u00e4ufigkeit der W\u00f6rter ausgegeben wird.</p>\n",
      "<p>2) Lassen  Sie den Benutzer 3 Zahlen eingeben und multiplizieren Sie miteinander. Die Abfrage sollte so aussehen:<br/>\n",
      "Bitte geben Sie das 1. Wort ein: <br/>\n",
      "und dann das 2. usw. (verwenden Sie nicht while)"
     ]
    },
    {
     "cell_type": "markdown",
     "metadata": {
      "slideshow": {
       "slide_type": "subslide"
      }
     },
     "source": [
      "<h3>Musterl\u00f6sung</h3>\n",
      "<p>Schreiben Sie das obige Beispiel mit der Ausgabe der Wortliste so um, dass nun auch die H\u00e4ufigkeit der W\u00f6rter ausgegeben wird."
     ]
    },
    {
     "cell_type": "code",
     "collapsed": false,
     "input": [
      "#definiert ein Dictionary namens word_count\n",
      "word_count = { 'der': 32, 'die': 17, 'das': 12, 'auch': 9 }\n",
      "\n",
      "for w in word_count:                    # kurz f\u00fcr for w in word_count.keys()\n",
      "    print(w, \"\\t\", word_count[w])"
     ],
     "language": "python",
     "metadata": {
      "slideshow": {
       "slide_type": "fragment"
      }
     },
     "outputs": [
      {
       "output_type": "stream",
       "stream": "stdout",
       "text": [
        "das \t 12\n",
        "auch \t 9\n",
        "die \t 17\n",
        "der \t 32\n"
       ]
      }
     ],
     "prompt_number": 141
    },
    {
     "cell_type": "markdown",
     "metadata": {
      "slideshow": {
       "slide_type": "slide"
      }
     },
     "source": [
      "<p> 2) Lassen Sie den Benutzer 3 Zahlen eingeben und addieren Sie sie. Die Abfrage sollte so aussehen:<br/>\n",
      "Bitte geben Sie das 1. Wort ein:<br/>\n",
      "und dann das 2. usw. (verwenden Sie nicht while) "
     ]
    },
    {
     "cell_type": "code",
     "collapsed": false,
     "input": [
      "res = 0\n",
      "for i in range(3):\n",
      "    res += int(input(\"Bitte geben Sie die \" + str(i+1) + \". Zahl ein: \"))\n",
      "print(\"Ergebnis: \", res)"
     ],
     "language": "python",
     "metadata": {
      "slideshow": {
       "slide_type": "fragment"
      }
     },
     "outputs": [
      {
       "name": "stdout",
       "output_type": "stream",
       "stream": "stdout",
       "text": [
        "Bitte geben Sie die 1. Zahl ein: 3\n"
       ]
      },
      {
       "name": "stdout",
       "output_type": "stream",
       "stream": "stdout",
       "text": [
        "Bitte geben Sie die 2. Zahl ein: 6\n"
       ]
      },
      {
       "name": "stdout",
       "output_type": "stream",
       "stream": "stdout",
       "text": [
        "Bitte geben Sie die 3. Zahl ein: 2\n"
       ]
      },
      {
       "output_type": "stream",
       "stream": "stdout",
       "text": [
        "Ergebnis:  11\n"
       ]
      }
     ],
     "prompt_number": 18
    },
    {
     "cell_type": "markdown",
     "metadata": {
      "slideshow": {
       "slide_type": "slide"
      }
     },
     "source": [
      "<h3>Schleifen und bedingte Verzweigungen</h3>\n",
      "<p>Man kann Schleifen und Verzweigungen frei mischen:</p>"
     ]
    },
    {
     "cell_type": "code",
     "collapsed": false,
     "input": [
      "a = [1,2,3,4]\n",
      "for i in a:\n",
      "    if i == 2:\n",
      "        print(\"hab die 2 gefunden\")\n",
      "    else:\n",
      "        print(\"uninteressant: \", i)"
     ],
     "language": "python",
     "metadata": {
      "slideshow": {
       "slide_type": "fragment"
      }
     },
     "outputs": [
      {
       "output_type": "stream",
       "stream": "stdout",
       "text": [
        "uninteressant:  1\n",
        "hab die 2 gefunden\n",
        "uninteressant:  3\n",
        "uninteressant:  4\n"
       ]
      }
     ],
     "prompt_number": 63
    },
    {
     "cell_type": "markdown",
     "metadata": {
      "slideshow": {
       "slide_type": "fragment"
      }
     },
     "source": [
      "Mit <code>break</code> kann man den Ablauf der Schleife abbrechen (aber Vorsicht, Lesbarkeit!)."
     ]
    },
    {
     "cell_type": "code",
     "collapsed": false,
     "input": [
      "a = [1,2,3,4]\n",
      "for i in a:\n",
      "    if i == 2:\n",
      "        print (\"hab die 2 gefunden. das reicht mir.\")\n",
      "        break\n",
      "    else:\n",
      "        print (\"uninteressant: \", i)"
     ],
     "language": "python",
     "metadata": {
      "slideshow": {
       "slide_type": "fragment"
      }
     },
     "outputs": [
      {
       "output_type": "stream",
       "stream": "stdout",
       "text": [
        "uninteressant:  1\n",
        "hab die 2 gefunden. das reicht mir.\n"
       ]
      }
     ],
     "prompt_number": 65
    },
    {
     "cell_type": "markdown",
     "metadata": {
      "slideshow": {
       "slide_type": "slide"
      }
     },
     "source": [
      "<h3 style=\"color:green\">Aufgaben</h3>\n",
      "<p style=\"color:green\">Gegeben ist die Liste chars mit den Elementen A, C, E, U, \u00d6, I, B\n",
      "<ol style=\"color:green\">\n",
      "<li>Geben Sie alle Elemente der Liste sortiert aus, mit der Ausnahme von \u00d6\n",
      "<li>Schreiben Sie ein Skript, das ermittelt, welche der Zahlen zwischen 20.000 und 40.0000 durch 2.412 teilbar sind und geben Sie diese Zahlen aus.\n",
      "</ol>"
     ]
    },
    {
     "cell_type": "markdown",
     "metadata": {
      "slideshow": {
       "slide_type": "slide"
      }
     },
     "source": [
      "<h3>Musterl\u00f6sung</h3>\n",
      "1) Geben Sie alle Elemente der Liste sortiert aus, mit der Ausnahme von \u00d6 "
     ]
    },
    {
     "cell_type": "code",
     "collapsed": false,
     "input": [
      "uc = [\"A\",\"C\",\"E\",\"U\",\"\u00d6\",\"I\",\"B\"]\n",
      "for c in sorted(uc):\n",
      "    if c != \"\u00d6\":\n",
      "        print (c)"
     ],
     "language": "python",
     "metadata": {
      "slideshow": {
       "slide_type": "fragment"
      }
     },
     "outputs": [
      {
       "output_type": "stream",
       "stream": "stdout",
       "text": [
        "A\n",
        "B\n",
        "C\n",
        "E\n",
        "I\n",
        "U\n"
       ]
      }
     ],
     "prompt_number": 70
    },
    {
     "cell_type": "markdown",
     "metadata": {
      "slideshow": {
       "slide_type": "slide"
      }
     },
     "source": [
      "<p>Schreiben Sie ein Skript, das ermittelt, welche der Zahlen zwischen 20.000 und 40.0000 durch 2.412 teilbar sind und geben Sie diese Zahlen aus."
     ]
    },
    {
     "cell_type": "code",
     "collapsed": false,
     "input": [
      "for i in range (20000,40000):\n",
      "    if i % 2412 == 0:\n",
      "        print (i)"
     ],
     "language": "python",
     "metadata": {
      "slideshow": {
       "slide_type": "fragment"
      }
     },
     "outputs": [
      {
       "output_type": "stream",
       "stream": "stdout",
       "text": [
        "21708\n",
        "24120\n",
        "26532\n",
        "28944\n",
        "31356\n",
        "33768\n",
        "36180\n",
        "38592\n"
       ]
      }
     ],
     "prompt_number": 73
    },
    {
     "cell_type": "markdown",
     "metadata": {
      "slideshow": {
       "slide_type": "slide"
      }
     },
     "source": [
      "### `for`-Schleifen mit mehreren Laufvariablen [Optional]\n",
      "\n",
      "Man kann Tupel auch auf der _linken_ Seite einer Zuweisung verwenden, um vorhandene Tupel, Listen etc. zu _entpacken_"
     ]
    },
    {
     "cell_type": "code",
     "collapsed": false,
     "input": [
      "t = (17, 23)\n",
      "(i, j) = t        # Klammern hier optional\n",
      "\n",
      "print(\"Tupel:\", t, \"\u2013 Erster Wert:\", i, \"\u2013 Zweiter Wert:\", j)"
     ],
     "language": "python",
     "metadata": {
      "slideshow": {
       "slide_type": "fragment"
      }
     },
     "outputs": [
      {
       "output_type": "stream",
       "stream": "stdout",
       "text": [
        "Tupel: (17, 23) \u2013 Erster Wert: 17 \u2013 Zweiter Wert: 23\n"
       ]
      }
     ],
     "prompt_number": 77
    },
    {
     "cell_type": "markdown",
     "metadata": {
      "slideshow": {
       "slide_type": "subslide"
      }
     },
     "source": [
      "Das sieht man z.B. beim Iterieren \u00fcber Dictionaries gelegentlich:"
     ]
    },
    {
     "cell_type": "code",
     "collapsed": false,
     "input": [
      "ages = {\"Klara\": 23, \"Maria\": 94, \"Hans\": 72, \"Peter\": \"31\"}\n",
      "print(alter.items())\n",
      "for name, age in alter.items():\n",
      "    print(name, \"ist\", age)"
     ],
     "language": "python",
     "metadata": {
      "slideshow": {
       "slide_type": "-"
      }
     },
     "outputs": [
      {
       "output_type": "stream",
       "stream": "stdout",
       "text": [
        "dict_items([('Klara', 23), ('Maria', 94), ('Hans', 72), ('Peter', '31')])\n",
        "Klara ist 23\n",
        "Maria ist 94\n",
        "Hans ist 72\n",
        "Peter ist 31\n"
       ]
      }
     ],
     "prompt_number": 82
    },
    {
     "cell_type": "markdown",
     "metadata": {
      "slideshow": {
       "slide_type": "subslide"
      }
     },
     "source": [
      "Mit der `zip`-Funktion kann man Listen verschr\u00e4nken."
     ]
    },
    {
     "cell_type": "code",
     "collapsed": false,
     "input": [
      "authors  = [ \"Zora\", \"Yannick\", \"Xenia\", \"Wolfgang\" ]\n",
      "chapters = [ \"Problemstellung\", \"Methoden\", \"Ergebnisse\", \"Diskussion\" ]\n",
      "for author, chapter in zip(authors, chapters):\n",
      "    print(author, \"schreibt den Abschnitt\", chapter)\n",
      "    \n",
      "print(list(zip(authors, chapters)))"
     ],
     "language": "python",
     "metadata": {
      "slideshow": {
       "slide_type": "-"
      }
     },
     "outputs": [
      {
       "output_type": "stream",
       "stream": "stdout",
       "text": [
        "Zora schreibt den Abschnitt Problemstellung\n",
        "Yannick schreibt den Abschnitt Methoden\n",
        "Xenia schreibt den Abschnitt Ergebnisse\n",
        "Wolfgang schreibt den Abschnitt Diskussion\n",
        "[('Zora', 'Problemstellung'), ('Yannick', 'Methoden'), ('Xenia', 'Ergebnisse'), ('Wolfgang', 'Diskussion')]\n"
       ]
      }
     ],
     "prompt_number": 143
    },
    {
     "cell_type": "markdown",
     "metadata": {
      "slideshow": {
       "slide_type": "slide"
      }
     },
     "source": [
      "<h3 style=\"color:green\">\u00dcbungsaufgabe</h3>\n",
      "<p> Sie haben eine Liste mit 5 Elementen: sa = [1,2,3,4,5]</p>\n",
      "<p> 1) Schreiben Sie ein Skript, das einen Vergleich jedes Elements mit jedem anderen simuliert (1 -> 3 und 3 -> 1), aber nicht mit sich selbst.<br/> \n",
      "Der Output soll so aussehen: <br/> \n",
      "<code>comparing 1 -> 2\n",
      "comparing 1 -> 3 \n",
      "comparing 1 -> 4 \n",
      "comparing 2 -> 1 \n",
      "usw.</code></p>\n",
      "<p>2) Schreiben Sie das Programm so um, dass jedes Element nur einmal mit jedem anderen verglichen wird (aber nicht mit sich selbst), also statt  1 -> 2 und 2 -> 1  gibt es nun nur noch eine Zeile: 1 &lt;-> 2</p>"
     ]
    }
   ],
   "metadata": {}
  }
 ]
}
