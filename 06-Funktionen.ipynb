{
 "cells": [
  {
   "cell_type": "markdown",
   "metadata": {
    "slideshow": {
     "slide_type": "slide"
    }
   },
   "source": [
    "### Programmieren mit Python\n",
    "\n",
    "## Datei-Ein- und Ausgabe\n",
    "\n",
    "#### Path"
   ]
  },
  {
   "cell_type": "markdown",
   "metadata": {
    "slideshow": {
     "slide_type": "slide"
    }
   },
   "source": [
    "### Path – repräsentiert Pfade / Dateinamen\n",
    "\n",
    "`Path` aus dem Modul `pathlib` ist die empfohlene Methode, Datei- und Verzeichnisnamen zu repräsentieren:"
   ]
  },
  {
   "cell_type": "code",
   "execution_count": 15,
   "metadata": {
    "slideshow": {
     "slide_type": "-"
    }
   },
   "outputs": [
    {
     "data": {
      "text/plain": [
       "(PosixPath('roman.txt'),\n",
       " PosixPath('/home/tv/Documents/OwnCloud/Uni/Lehre/Python1-neu/roman.txt'))"
      ]
     },
     "execution_count": 15,
     "metadata": {},
     "output_type": "execute_result"
    }
   ],
   "source": [
    "from pathlib import Path\n",
    "roman = Path('roman.txt')    # Datei \"Roman.txt\" im aktuellen Verzeichnis\n",
    "roman, roman.absolute()"
   ]
  },
  {
   "cell_type": "code",
   "execution_count": 16,
   "metadata": {
    "slideshow": {
     "slide_type": "fragment"
    }
   },
   "outputs": [
    {
     "data": {
      "text/plain": [
       "(PosixPath('/home/tv/Documents/OwnCloud/Uni/Lehre/Python1-neu'),\n",
       " PosixPath('/home/tv'))"
      ]
     },
     "execution_count": 16,
     "metadata": {},
     "output_type": "execute_result"
    }
   ],
   "source": [
    "Path.cwd(), Path.home()  # das Current Working Directory / aktuelle Verzeichnis; Homeverzeichnis"
   ]
  },
  {
   "cell_type": "markdown",
   "metadata": {
    "slideshow": {
     "slide_type": "fragment"
    }
   },
   "source": [
    "Path hat viele Attribute und Methoden, die Informationen über den Pfad oder die dahinterstehende Datei zurückgeben:"
   ]
  },
  {
   "cell_type": "code",
   "execution_count": 33,
   "metadata": {
    "slideshow": {
     "slide_type": "fragment"
    }
   },
   "outputs": [
    {
     "name": "stdout",
     "output_type": "stream",
     "text": [
      "/home/tv/Documents/OwnCloud/Uni/Lehre/Python1-neu roman.txt roman .txt\n"
     ]
    }
   ],
   "source": [
    "fullpath = roman.absolute()\n",
    "print(fullpath.parent, fullpath.name, fullpath.stem, fullpath.suffix)"
   ]
  },
  {
   "cell_type": "code",
   "execution_count": 40,
   "metadata": {
    "slideshow": {
     "slide_type": "fragment"
    }
   },
   "outputs": [
    {
     "name": "stdout",
     "output_type": "stream",
     "text": [
      "True os.stat_result(st_mode=33188, st_ino=37372253, st_dev=66306, st_nlink=1, st_uid=1000, st_gid=1000, st_size=145, st_atime=1574950466, st_mtime=1573552879, st_ctime=1573552879)\n"
     ]
    }
   ],
   "source": [
    "print(roman.exists(), roman.stat())"
   ]
  },
  {
   "cell_type": "markdown",
   "metadata": {
    "slideshow": {
     "slide_type": "subslide"
    }
   },
   "source": [
    "`Path` hat unterschiedliche, betriebssystemübergreifende Methoden, Pfade zusammenzusetzen:"
   ]
  },
  {
   "cell_type": "code",
   "execution_count": 10,
   "metadata": {
    "slideshow": {
     "slide_type": "fragment"
    }
   },
   "outputs": [
    {
     "data": {
      "text/plain": [
       "PosixPath('output/blubb.txt')"
      ]
     },
     "execution_count": 10,
     "metadata": {},
     "output_type": "execute_result"
    }
   ],
   "source": [
    "output = output_folder / 'blubb.txt'\n",
    "output"
   ]
  },
  {
   "cell_type": "code",
   "execution_count": 45,
   "metadata": {
    "slideshow": {
     "slide_type": "fragment"
    }
   },
   "outputs": [
    {
     "data": {
      "text/plain": [
       "PosixPath('foo/bar/baz.txt')"
      ]
     },
     "execution_count": 45,
     "metadata": {},
     "output_type": "execute_result"
    }
   ],
   "source": [
    "Path('foo', 'bar', 'baz.txt')"
   ]
  },
  {
   "cell_type": "code",
   "execution_count": 47,
   "metadata": {
    "slideshow": {
     "slide_type": "fragment"
    }
   },
   "outputs": [
    {
     "data": {
      "text/plain": [
       "PosixPath('output/blubb.txt')"
      ]
     },
     "execution_count": 47,
     "metadata": {},
     "output_type": "execute_result"
    }
   ],
   "source": [
    "output_folder.joinpath('blubb.txt')"
   ]
  },
  {
   "cell_type": "code",
   "execution_count": 48,
   "metadata": {
    "slideshow": {
     "slide_type": "fragment"
    }
   },
   "outputs": [
    {
     "data": {
      "text/plain": [
       "PosixPath('roman.csv')"
      ]
     },
     "execution_count": 48,
     "metadata": {},
     "output_type": "execute_result"
    }
   ],
   "source": [
    "roman.with_suffix('.csv')"
   ]
  },
  {
   "cell_type": "markdown",
   "metadata": {
    "slideshow": {
     "slide_type": "fragment"
    }
   },
   "source": [
    "`Path` macht auf jedem Betriebssystem das richtige. Setzen Sie Pfade __nie__ mit `ordner + \"\\\\\" + name` oder so zusammen, das geht nur auf Windows!"
   ]
  },
  {
   "cell_type": "markdown",
   "metadata": {
    "slideshow": {
     "slide_type": "subslide"
    }
   },
   "source": [
    "Um in eine Datei zu schreiben oder daraus zu lesen, muss man sie öffnen. Auch das unterstützt `Path`:"
   ]
  },
  {
   "cell_type": "code",
   "execution_count": 42,
   "metadata": {
    "slideshow": {
     "slide_type": "-"
    }
   },
   "outputs": [
    {
     "name": "stdout",
     "output_type": "stream",
     "text": [
      "<_io.TextIOWrapper name='roman.txt' mode='rt' encoding='utf-8'>\n",
      "|  Kurzer Roman.\n",
      "|  Dies ist ein langer Roman. Er beginnt mit dem Auftritt des Heldens. \n",
      "|  Da es keine Helden gibt, unterbricht hier schon der Leser …\n"
     ]
    }
   ],
   "source": [
    "with roman.open('rt', encoding='utf-8') as file:\n",
    "    print(file)         #   file ist ein Dateiobjekt, über das iteriert werden kann\n",
    "    for line in file:\n",
    "        print('| ', line[:-1])"
   ]
  },
  {
   "cell_type": "markdown",
   "metadata": {
    "slideshow": {
     "slide_type": "-"
    }
   },
   "source": [
    "Eine mit `open` bzw. `Path.open` geöffnete Datei muss immer geschlossen werden. `with` macht das automatisch am Blockende, sonst `file.close()` aufrufen."
   ]
  },
  {
   "cell_type": "markdown",
   "metadata": {
    "slideshow": {
     "slide_type": "slide"
    }
   },
   "source": [
    "### Programmieren mit Python\n",
    "\n",
    "## Funktionen\n",
    "\n",
    "Vertiefung / Wiederholung"
   ]
  },
  {
   "cell_type": "markdown",
   "metadata": {
    "slideshow": {
     "slide_type": "subslide"
    }
   },
   "source": [
    "### Funktionen: Funktion\n",
    "\n",
    "* Don’t repeat yourself: Mehrfach benutzten Code nur einmal schreiben\n",
    "* Strukturierung von Programmen\n",
    "* Klar getrennte Funktionalität"
   ]
  },
  {
   "cell_type": "markdown",
   "metadata": {
    "slideshow": {
     "slide_type": "slide"
    }
   },
   "source": [
    "### Funktionen: Beispiel\n",
    "\n",
    "Die `sum`-Funktion implementiert eine Summe ($\\sum$). Schreiben wir dasselbe für ein Produkt."
   ]
  },
  {
   "cell_type": "code",
   "execution_count": 49,
   "metadata": {
    "slideshow": {
     "slide_type": "-"
    }
   },
   "outputs": [
    {
     "name": "stdout",
     "output_type": "stream",
     "text": [
      "Help on built-in function sum in module builtins:\n",
      "\n",
      "sum(iterable, start=0, /)\n",
      "    Return the sum of a 'start' value (default: 0) plus an iterable of numbers\n",
      "    \n",
      "    When the iterable is empty, return the start value.\n",
      "    This function is intended specifically for use with numeric values and may\n",
      "    reject non-numeric types.\n",
      "\n"
     ]
    }
   ],
   "source": [
    "help(sum)"
   ]
  },
  {
   "cell_type": "code",
   "execution_count": 50,
   "metadata": {
    "slideshow": {
     "slide_type": "subslide"
    }
   },
   "outputs": [],
   "source": [
    "# Schlüsselwort 'def'\n",
    "# |     ,-- Funktionsname\n",
    "# ↓    ↓      ,-- Parameter ,-- Standardwert, falls Parameter fehlt\n",
    "def product(iterable, start=1):\n",
    "    \"\"\"\n",
    "    Returns the product of a 'start' value (default: 1) and an iterable of numbers.\n",
    "    \"\"\"\n",
    "    result = start\n",
    "    for factor in iterable:\n",
    "        result = result * factor\n",
    "    return result"
   ]
  },
  {
   "cell_type": "code",
   "execution_count": 51,
   "metadata": {
    "slideshow": {
     "slide_type": "fragment"
    }
   },
   "outputs": [
    {
     "name": "stdout",
     "output_type": "stream",
     "text": [
      "1680\n"
     ]
    }
   ],
   "source": [
    "prod = product([5, 6, 7, 8])\n",
    "print(prod)"
   ]
  },
  {
   "cell_type": "markdown",
   "metadata": {
    "slideshow": {
     "slide_type": "slide"
    }
   },
   "source": [
    "### Übung\n",
    "\n",
    "Zerlegen Sie den folgenden Code (auch in WueCampus als Python-Datei) sinnvoll in Funktionen. Die Funktionen sollten einen Wert berechnen, schreiben Sie davon getrennt eine Funktion `main()`, die die Textausgaben enthält und die Funktionen aufruft.\n",
    "\n",
    "Tip: PyCharm-Refactoring-Funktionen _rename_ und _extract method_"
   ]
  },
  {
   "cell_type": "code",
   "execution_count": 52,
   "metadata": {
    "slideshow": {
     "slide_type": "-"
    }
   },
   "outputs": [
    {
     "name": "stdout",
     "output_type": "stream",
     "text": [
      "Durchschnittliche Wortlänge:  5.3\n",
      "Durchschnittliche Vokalanzahl:  1.7\n",
      "Durchschnittliche Konsonantenanzahl:  3.6\n"
     ]
    }
   ],
   "source": [
    "s = \"Herr Mustermann kommt ins Haus und trifft dort Frau Musterfrau\"\n",
    "sum_wordlength = 0\n",
    "for w in s.split():\n",
    "    sum_wordlength += len(w)\n",
    "avg_wordlength = sum_wordlength / len(s.split())\n",
    "print(\"Durchschnittliche Wortlänge: \", avg_wordlength )\n",
    "list_vowels = []\n",
    "for w in s.lower().split():\n",
    "    word_vowels = 0\n",
    "    for c in w:\n",
    "        if c in \"aeiou\":\n",
    "            word_vowels += 1\n",
    "    list_vowels.append(word_vowels)\n",
    "print(\"Durchschnittliche Vokalanzahl: \", sum(list_vowels) / len(list_vowels))\n",
    "list_consonants = []\n",
    "for w in s.lower().split():\n",
    "    word_cons = 0\n",
    "    for c in w:\n",
    "        if c in \"bcdfghjklmnpqrstvwxyz\":\n",
    "            word_cons += 1\n",
    "    list_consonants.append(word_cons)\n",
    "print(\"Durchschnittliche Konsonantenanzahl: \", sum(list_consonants) / len(list_consonants))"
   ]
  },
  {
   "cell_type": "markdown",
   "metadata": {
    "slideshow": {
     "slide_type": "slide"
    }
   },
   "source": [
    "### Globale und lokale Variablen\n",
    "\n",
    "### Lokale Variablen\n",
    "\n",
    "Variablen, die in Funktionen definiert werden, sind nur innerhalb der Funktion sichtbar:"
   ]
  },
  {
   "cell_type": "code",
   "execution_count": 53,
   "metadata": {
    "slideshow": {
     "slide_type": "-"
    }
   },
   "outputs": [
    {
     "name": "stdout",
     "output_type": "stream",
     "text": [
      "2\n"
     ]
    },
    {
     "ename": "NameError",
     "evalue": "name 'words' is not defined",
     "output_type": "error",
     "traceback": [
      "\u001b[0;31m---------------------------------------------------------------------------\u001b[0m",
      "\u001b[0;31mNameError\u001b[0m                                 Traceback (most recent call last)",
      "\u001b[0;32m<ipython-input-53-1883fcdd57cb>\u001b[0m in \u001b[0;36m<module>\u001b[0;34m()\u001b[0m\n\u001b[1;32m      4\u001b[0m \u001b[0;34m\u001b[0m\u001b[0m\n\u001b[1;32m      5\u001b[0m \u001b[0mprint\u001b[0m\u001b[0;34m(\u001b[0m\u001b[0mnumber_of_words\u001b[0m\u001b[0;34m(\u001b[0m\u001b[0;34m\"Ein Test\"\u001b[0m\u001b[0;34m)\u001b[0m\u001b[0;34m)\u001b[0m\u001b[0;34m\u001b[0m\u001b[0;34m\u001b[0m\u001b[0m\n\u001b[0;32m----> 6\u001b[0;31m \u001b[0mprint\u001b[0m\u001b[0;34m(\u001b[0m\u001b[0mwords\u001b[0m\u001b[0;34m)\u001b[0m\u001b[0;34m\u001b[0m\u001b[0;34m\u001b[0m\u001b[0m\n\u001b[0m",
      "\u001b[0;31mNameError\u001b[0m: name 'words' is not defined"
     ]
    }
   ],
   "source": [
    "def number_of_words(text):\n",
    "    words = text.split()\n",
    "    return len(words)\n",
    "\n",
    "print(number_of_words(\"Ein Test\"))\n",
    "print(words)"
   ]
  },
  {
   "cell_type": "markdown",
   "metadata": {
    "slideshow": {
     "slide_type": "slide"
    }
   },
   "source": [
    "### Globale Variablen\n",
    "\n",
    "Funktionen außerhalb der Funktionen sind auch innerhalb der Funktionen sichtbar:"
   ]
  },
  {
   "cell_type": "code",
   "execution_count": 54,
   "metadata": {
    "slideshow": {
     "slide_type": "-"
    }
   },
   "outputs": [
    {
     "name": "stdout",
     "output_type": "stream",
     "text": [
      "DEBUG: ['Ein', 'kleiner', 'Test']\n",
      "3\n"
     ]
    }
   ],
   "source": [
    "debugging = True\n",
    "\n",
    "def number_of_words(text):\n",
    "    words = text.split()\n",
    "    if debugging:\n",
    "        print(\"DEBUG:\", words)\n",
    "    return len(words)\n",
    "\n",
    "print(number_of_words('Ein kleiner Test'))"
   ]
  },
  {
   "cell_type": "markdown",
   "metadata": {
    "slideshow": {
     "slide_type": "subslide"
    }
   },
   "source": [
    "### ACHTUNG: _irgendwo_ in der Funktion zugewiesen → lokale Variable"
   ]
  },
  {
   "cell_type": "code",
   "execution_count": 55,
   "metadata": {
    "slideshow": {
     "slide_type": "-"
    }
   },
   "outputs": [
    {
     "ename": "UnboundLocalError",
     "evalue": "local variable 'debugging' referenced before assignment",
     "output_type": "error",
     "traceback": [
      "\u001b[0;31m---------------------------------------------------------------------------\u001b[0m",
      "\u001b[0;31mUnboundLocalError\u001b[0m                         Traceback (most recent call last)",
      "\u001b[0;32m<ipython-input-55-4c2a49e91476>\u001b[0m in \u001b[0;36m<module>\u001b[0;34m()\u001b[0m\n\u001b[1;32m      8\u001b[0m     \u001b[0;32mreturn\u001b[0m \u001b[0mlen\u001b[0m\u001b[0;34m(\u001b[0m\u001b[0mwords\u001b[0m\u001b[0;34m)\u001b[0m\u001b[0;34m\u001b[0m\u001b[0;34m\u001b[0m\u001b[0m\n\u001b[1;32m      9\u001b[0m \u001b[0;34m\u001b[0m\u001b[0m\n\u001b[0;32m---> 10\u001b[0;31m \u001b[0mprint\u001b[0m\u001b[0;34m(\u001b[0m\u001b[0mnumber_of_words\u001b[0m\u001b[0;34m(\u001b[0m\u001b[0;34m'Ein kleiner Test'\u001b[0m\u001b[0;34m)\u001b[0m\u001b[0;34m)\u001b[0m\u001b[0;34m\u001b[0m\u001b[0;34m\u001b[0m\u001b[0m\n\u001b[0m",
      "\u001b[0;32m<ipython-input-55-4c2a49e91476>\u001b[0m in \u001b[0;36mnumber_of_words\u001b[0;34m(text)\u001b[0m\n\u001b[1;32m      3\u001b[0m \u001b[0;32mdef\u001b[0m \u001b[0mnumber_of_words\u001b[0m\u001b[0;34m(\u001b[0m\u001b[0mtext\u001b[0m\u001b[0;34m)\u001b[0m\u001b[0;34m:\u001b[0m\u001b[0;34m\u001b[0m\u001b[0;34m\u001b[0m\u001b[0m\n\u001b[1;32m      4\u001b[0m     \u001b[0mwords\u001b[0m \u001b[0;34m=\u001b[0m \u001b[0mtext\u001b[0m\u001b[0;34m.\u001b[0m\u001b[0msplit\u001b[0m\u001b[0;34m(\u001b[0m\u001b[0;34m)\u001b[0m\u001b[0;34m\u001b[0m\u001b[0;34m\u001b[0m\u001b[0m\n\u001b[0;32m----> 5\u001b[0;31m     \u001b[0;32mif\u001b[0m \u001b[0mdebugging\u001b[0m\u001b[0;34m:\u001b[0m\u001b[0;34m\u001b[0m\u001b[0;34m\u001b[0m\u001b[0m\n\u001b[0m\u001b[1;32m      6\u001b[0m         \u001b[0mprint\u001b[0m\u001b[0;34m(\u001b[0m\u001b[0;34m\"DEBUG:\"\u001b[0m\u001b[0;34m,\u001b[0m \u001b[0mwords\u001b[0m\u001b[0;34m)\u001b[0m\u001b[0;34m\u001b[0m\u001b[0;34m\u001b[0m\u001b[0m\n\u001b[1;32m      7\u001b[0m         \u001b[0mdebugging\u001b[0m \u001b[0;34m=\u001b[0m \u001b[0;32mFalse\u001b[0m       \u001b[0;31m# ← macht debugging zu einer lokalen Variable!\u001b[0m\u001b[0;34m\u001b[0m\u001b[0;34m\u001b[0m\u001b[0m\n",
      "\u001b[0;31mUnboundLocalError\u001b[0m: local variable 'debugging' referenced before assignment"
     ]
    }
   ],
   "source": [
    "debugging = True\n",
    "\n",
    "def number_of_words(text):\n",
    "    words = text.split()\n",
    "    if debugging:\n",
    "        print(\"DEBUG:\", words)\n",
    "        debugging = False       # ← macht debugging zu einer lokalen Variable!\n",
    "    return len(words)\n",
    "\n",
    "print(number_of_words('Ein kleiner Test'))"
   ]
  },
  {
   "cell_type": "markdown",
   "metadata": {
    "slideshow": {
     "slide_type": "slide"
    }
   },
   "source": [
    "### Achtung – Übergabe _by reference_"
   ]
  },
  {
   "cell_type": "code",
   "execution_count": 56,
   "metadata": {
    "slideshow": {
     "slide_type": "-"
    }
   },
   "outputs": [],
   "source": [
    "def upper_all(items):\n",
    "    for i in range(len(items)):\n",
    "        items[i] = items[i].upper()\n",
    "    return items"
   ]
  },
  {
   "cell_type": "code",
   "execution_count": 57,
   "metadata": {
    "slideshow": {
     "slide_type": "fragment"
    }
   },
   "outputs": [
    {
     "name": "stdout",
     "output_type": "stream",
     "text": [
      "['HALLO', 'WELT!']\n"
     ]
    }
   ],
   "source": [
    "tokens = 'Hallo Welt!'.split()\n",
    "upcased = upper_all(tokens)\n",
    "print(upcased)"
   ]
  },
  {
   "cell_type": "code",
   "execution_count": 58,
   "metadata": {
    "slideshow": {
     "slide_type": "fragment"
    }
   },
   "outputs": [
    {
     "name": "stdout",
     "output_type": "stream",
     "text": [
      "['HALLO', 'WELT!']\n"
     ]
    }
   ],
   "source": [
    "print(tokens)"
   ]
  },
  {
   "cell_type": "markdown",
   "metadata": {
    "slideshow": {
     "slide_type": "slide"
    }
   },
   "source": [
    "### Aufruf per Keyword-Parameter\n",
    "\n",
    "Bei einer normalen Funktion kann man die Parameter über ihre Position oder über ihren Namen übergeben:"
   ]
  },
  {
   "cell_type": "code",
   "execution_count": 59,
   "metadata": {
    "slideshow": {
     "slide_type": "-"
    }
   },
   "outputs": [],
   "source": [
    "def product(iterable, start=1):\n",
    "    result = start\n",
    "    for factor in iterable:\n",
    "        result = result * factor\n",
    "    return result"
   ]
  },
  {
   "cell_type": "code",
   "execution_count": 63,
   "metadata": {
    "slideshow": {
     "slide_type": "-"
    }
   },
   "outputs": [
    {
     "name": "stdout",
     "output_type": "stream",
     "text": [
      "0.6000000000000001\n",
      "0.6000000000000001\n",
      "0.6000000000000001\n",
      "0.6000000000000001\n",
      "6\n"
     ]
    }
   ],
   "source": [
    "print(product([1,2,3], 0.1))                       # 2× positional\n",
    "print(product([1,2,3], start=0.1))                 # positional, keyword (positionale immer zuerst!)\n",
    "print(product(iterable=[1,2,3], start=0.1))        # 2× keyword\n",
    "print(product(start=0.1, iterable=[1,2,3]))        # keyword: Reihenfolge egal\n",
    "print(product(iterable=[1,2,3]))                   # Defaultwerte kann man weglassen"
   ]
  },
  {
   "cell_type": "markdown",
   "metadata": {
    "slideshow": {
     "slide_type": "subslide"
    }
   },
   "source": [
    "#### Exkurs: Positional- und Keyword Only"
   ]
  },
  {
   "cell_type": "code",
   "execution_count": 64,
   "metadata": {
    "slideshow": {
     "slide_type": "-"
    }
   },
   "outputs": [
    {
     "name": "stdout",
     "output_type": "stream",
     "text": [
      "Help on built-in function sum in module builtins:\n",
      "\n",
      "sum(iterable, start=0, /)\n",
      "    Return the sum of a 'start' value (default: 0) plus an iterable of numbers\n",
      "    \n",
      "    When the iterable is empty, return the start value.\n",
      "    This function is intended specifically for use with numeric values and may\n",
      "    reject non-numeric types.\n",
      "\n"
     ]
    }
   ],
   "source": [
    "help(sum)"
   ]
  },
  {
   "cell_type": "code",
   "execution_count": 65,
   "metadata": {
    "slideshow": {
     "slide_type": "-"
    }
   },
   "outputs": [
    {
     "ename": "TypeError",
     "evalue": "sum() takes no keyword arguments",
     "output_type": "error",
     "traceback": [
      "\u001b[0;31m---------------------------------------------------------------------------\u001b[0m",
      "\u001b[0;31mTypeError\u001b[0m                                 Traceback (most recent call last)",
      "\u001b[0;32m<ipython-input-65-b41b09664cc1>\u001b[0m in \u001b[0;36m<module>\u001b[0;34m()\u001b[0m\n\u001b[0;32m----> 1\u001b[0;31m \u001b[0msum\u001b[0m\u001b[0;34m(\u001b[0m\u001b[0;34m[\u001b[0m\u001b[0;36m1\u001b[0m\u001b[0;34m,\u001b[0m\u001b[0;36m2\u001b[0m\u001b[0;34m,\u001b[0m\u001b[0;36m3\u001b[0m\u001b[0;34m]\u001b[0m\u001b[0;34m,\u001b[0m \u001b[0mstart\u001b[0m\u001b[0;34m=\u001b[0m\u001b[0;36m5\u001b[0m\u001b[0;34m)\u001b[0m\u001b[0;34m\u001b[0m\u001b[0;34m\u001b[0m\u001b[0m\n\u001b[0m",
      "\u001b[0;31mTypeError\u001b[0m: sum() takes no keyword arguments"
     ]
    }
   ],
   "source": [
    "sum([1,2,3], start=5)"
   ]
  },
  {
   "cell_type": "markdown",
   "metadata": {
    "slideshow": {
     "slide_type": "subslide"
    }
   },
   "source": [
    "Ab Python 3.8 geht das auch für eigene Funktionen:\n",
    "\n",
    "```python\n",
    "#        --nur pos.-- -wahlfrei--  --nur keyword--\n",
    "def demo(pos1, pos2, /, egal=0, *, keyword='only'):\n",
    "    print(pos1, pos2, egal, keyword)\n",
    "```"
   ]
  },
  {
   "cell_type": "markdown",
   "metadata": {
    "slideshow": {
     "slide_type": "slide"
    }
   },
   "source": [
    "### Variable Parameterlisten\n",
    "\n",
    "* `print` z.B. nimmt beliebig viele positionale Parameter\n",
    "* manche Funktionen erlauben beliebige Keyword-Parameter, oder solche, die sie nur weiterreichen"
   ]
  },
  {
   "cell_type": "code",
   "execution_count": 68,
   "metadata": {
    "slideshow": {
     "slide_type": "-"
    }
   },
   "outputs": [],
   "source": [
    "def log(label, *args, extra_out=None, **kwargs):.\n",
    "    print(label, *args, **kwargs)\n",
    "    if extra_out:\n",
    "        extra_out.write(label + \":\" + \" \".join([str(arg) for arg in args]))"
   ]
  },
  {
   "cell_type": "code",
   "execution_count": 69,
   "metadata": {
    "slideshow": {
     "slide_type": "-"
    }
   },
   "outputs": [
    {
     "name": "stdout",
     "output_type": "stream",
     "text": [
      "INFO=Ein mal eins ist=1\n"
     ]
    }
   ],
   "source": [
    "with open(\"log.txt\", \"wt\") as logfile:\n",
    "    log('INFO', 'Ein mal eins ist', 1*1, sep='=', extra_out=logfile)"
   ]
  },
  {
   "cell_type": "markdown",
   "metadata": {
    "slideshow": {
     "slide_type": "-"
    }
   },
   "source": [
    "* `*args` → `args` ist eine Liste\n",
    "* `**kwargs` → `kwargs` ist ein Dictionary"
   ]
  },
  {
   "cell_type": "markdown",
   "metadata": {
    "slideshow": {
     "slide_type": "subslide"
    }
   },
   "source": [
    "Das geht auch umgekehrt:"
   ]
  },
  {
   "cell_type": "code",
   "execution_count": 75,
   "metadata": {
    "slideshow": {
     "slide_type": "-"
    }
   },
   "outputs": [
    {
     "name": "stdout",
     "output_type": "stream",
     "text": [
      "('/', 'home', 'tv', 'Documents', 'OwnCloud', 'Uni', 'Lehre', 'Python1-neu')\n",
      "/ 〉 home 〉 tv 〉 Documents 〉 OwnCloud 〉 Uni 〉 Lehre 〉 Python1-neu\n"
     ]
    }
   ],
   "source": [
    "breadcrumbs = Path.cwd().parts\n",
    "print(breadcrumbs)                 # ein Tupel, könnte irgendein Iterable sein\n",
    "print(*breadcrumbs, sep=' 〉 ')     # *breadcrumbs = jedes Element von breadcrumbs sei ein Parameter"
   ]
  },
  {
   "cell_type": "markdown",
   "metadata": {
    "slideshow": {
     "slide_type": "slide"
    }
   },
   "source": [
    "### Funktionen als Objekte erster Klasse\n",
    "\n",
    "* Die Funktionsklammern dienen dem Aufruf: `print()` ruft die Funktion auf.\n",
    "* _Ohne_ Funktionsklammern bekommt man die Funktion als Objekt in die Hand:"
   ]
  },
  {
   "cell_type": "code",
   "execution_count": 76,
   "metadata": {
    "slideshow": {
     "slide_type": "-"
    }
   },
   "outputs": [
    {
     "data": {
      "text/plain": [
       "<function print>"
      ]
     },
     "execution_count": 76,
     "metadata": {},
     "output_type": "execute_result"
    }
   ],
   "source": [
    "print"
   ]
  },
  {
   "cell_type": "code",
   "execution_count": 78,
   "metadata": {
    "slideshow": {
     "slide_type": "-"
    }
   },
   "outputs": [
    {
     "data": {
      "text/plain": [
       "\"print(value, ..., sep=' ', end='\\\\n', file=sys.stdout, flush=False)\\n\\nPrints the values to a stream, or to sys.stdout by default.\\nOptional keyword arguments:\\nfile:  a file-like object (stream); defaults to the current sys.stdout.\\nsep:   string inserted between values, default a space.\\nend:   string appended after the last value, default a newline.\\nflush: whether to forcibly flush the stream.\""
      ]
     },
     "execution_count": 78,
     "metadata": {},
     "output_type": "execute_result"
    }
   ],
   "source": [
    "print.__doc__     # Attribut aufrufen"
   ]
  },
  {
   "cell_type": "markdown",
   "metadata": {
    "slideshow": {
     "slide_type": "subslide"
    }
   },
   "source": [
    "* Manchmal will man Funktionen andere Funktionen übergeben:"
   ]
  },
  {
   "cell_type": "code",
   "execution_count": 79,
   "metadata": {
    "slideshow": {
     "slide_type": "-"
    }
   },
   "outputs": [
    {
     "name": "stdout",
     "output_type": "stream",
     "text": [
      "Help on built-in function sorted in module builtins:\n",
      "\n",
      "sorted(iterable, /, *, key=None, reverse=False)\n",
      "    Return a new list containing all items from the iterable in ascending order.\n",
      "    \n",
      "    A custom key function can be supplied to customize the sort order, and the\n",
      "    reverse flag can be set to request the result in descending order.\n",
      "\n"
     ]
    }
   ],
   "source": [
    "help(sorted)"
   ]
  },
  {
   "cell_type": "code",
   "execution_count": 83,
   "metadata": {
    "slideshow": {
     "slide_type": "fragment"
    }
   },
   "outputs": [
    {
     "name": "stdout",
     "output_type": "stream",
     "text": [
      "['Alt', 'Roth', 'Scheuer', 'Seehofer', 'Dağdelen', 'Leutheuser-Schnarrenberger']\n"
     ]
    }
   ],
   "source": [
    "namen = ['Scheuer', 'Seehofer', 'Leutheuser-Schnarrenberger', 'Roth', 'Dağdelen', 'Alt']\n",
    "print(sorted(namen, key=len))\n",
    "#                        `---- Name der Funktion len – ohne Aufrufklammern! → Funktion übergeben"
   ]
  },
  {
   "cell_type": "markdown",
   "metadata": {
    "slideshow": {
     "slide_type": "fragment"
    }
   },
   "source": [
    "### Übung\n",
    "\n",
    "Sortieren Sie die ersten 100 Wörter von Effi Briest nach der Anzahl der Vokale."
   ]
  }
 ],
 "metadata": {
  "celltoolbar": "Slideshow",
  "kernelspec": {
   "display_name": "Python 3",
   "language": "python",
   "name": "python3"
  },
  "language_info": {
   "codemirror_mode": {
    "name": "ipython",
    "version": 3
   },
   "file_extension": ".py",
   "mimetype": "text/x-python",
   "name": "python",
   "nbconvert_exporter": "python",
   "pygments_lexer": "ipython3",
   "version": "3.7.5"
  }
 },
 "nbformat": 4,
 "nbformat_minor": 2
}
