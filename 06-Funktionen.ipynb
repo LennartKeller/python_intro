{
 "cells": [
  {
   "cell_type": "markdown",
   "metadata": {
    "slideshow": {
     "slide_type": "slide"
    }
   },
   "source": [
    "### Programmieren mit Python\n",
    "\n",
    "## Funktionen\n"
   ]
  },
  {
   "cell_type": "markdown",
   "metadata": {
    "slideshow": {
     "slide_type": "slide"
    }
   },
   "source": [
    "### Funktionen: Konzept\n",
    "\n",
    "* Bekannt aus der Mathematik\n",
    "* Funktionen nehmen ein bis beliebig viele Werte entgegen und berechnen anhand dieser ein Ergebnis\n",
    "\n",
    "$f(x) = \\sqrt{x^2}$\n",
    "\n",
    "$f(-2) = 2$\n",
    "\n",
    "$h(\\vec{x}) = \\frac{1}{N}\\sum_{i=0}^N{x_i}$\n",
    "\n",
    "$h(\\left(\\begin{array}{c} 3 \\\\ 5 \\\\ 4 \\end{array}\\right)) = 4 $"
   ]
  },
  {
   "cell_type": "markdown",
   "metadata": {
    "slideshow": {
     "slide_type": "slide"
    }
   },
   "source": [
    "### Funktionen: Funktion in Programmiersprachen\n",
    "\n",
    "* Don’t repeat yourself: Mehrfach benutzten Code nur einmal schreiben\n",
    "* Strukturierung von Programmen\n",
    "* Bessere Les-/ und Wartbarkeit des Codes\n",
    "* Klar getrennte Funktionalität\n"
   ]
  },
  {
   "cell_type": "markdown",
   "metadata": {
    "slideshow": {
     "slide_type": "slide"
    }
   },
   "source": [
    "### Funktionen: Beispiel\n",
    "\n",
    "Die `sum`-Funktion implementiert eine Summe ($\\sum$). Schreiben wir dasselbe für ein Produkt."
   ]
  },
  {
   "cell_type": "code",
   "execution_count": 1,
   "metadata": {
    "slideshow": {
     "slide_type": "-"
    }
   },
   "outputs": [
    {
     "name": "stdout",
     "output_type": "stream",
     "text": [
      "Help on built-in function sum in module builtins:\n",
      "\n",
      "sum(iterable, start=0, /)\n",
      "    Return the sum of a 'start' value (default: 0) plus an iterable of numbers\n",
      "    \n",
      "    When the iterable is empty, return the start value.\n",
      "    This function is intended specifically for use with numeric values and may\n",
      "    reject non-numeric types.\n",
      "\n"
     ]
    }
   ],
   "source": [
    "help(sum)"
   ]
  },
  {
   "cell_type": "markdown",
   "metadata": {
    "slideshow": {
     "slide_type": "slide"
    }
   },
   "source": [
    "### Funktionen: Definition\n",
    "Neben der Summen-Funktion benötigt man häufig auch das Produkt $\\prod$ einer Reihe von Zahlen."
   ]
  },
  {
   "cell_type": "code",
   "execution_count": 2,
   "metadata": {
    "slideshow": {
     "slide_type": "slide"
    }
   },
   "outputs": [],
   "source": [
    "# Schlüsselwort 'def'\n",
    "# |     ,-- Funktionsname\n",
    "# ↓    ↓      ,-- Parameter ,-- Standardwert, falls Parameter fehlt\n",
    "def product(iterable, start=1):\n",
    "    \"\"\"\n",
    "    Returns the product of a 'start' value (default: 1) and an iterable of numbers.\n",
    "    \"\"\"\n",
    "    result = start\n",
    "    for factor in iterable:\n",
    "        result = result * factor\n",
    "    return result\n",
    "#      ↑\n",
    "#      `- Schlüsselwort 'return' zeigt welcher Werte zurückgegeben werden soll"
   ]
  },
  {
   "cell_type": "code",
   "execution_count": 3,
   "metadata": {
    "slideshow": {
     "slide_type": "fragment"
    }
   },
   "outputs": [
    {
     "name": "stdout",
     "output_type": "stream",
     "text": [
      "1680\n"
     ]
    }
   ],
   "source": [
    "prod = product([5, 6, 7, 8])\n",
    "print(prod)"
   ]
  },
  {
   "cell_type": "markdown",
   "metadata": {
    "slideshow": {
     "slide_type": "slide"
    }
   },
   "source": [
    "# Funktionen: Rückgabewerte\n",
    "* Rückgabewerte werden durch das Schlüssewort ```return```bestimmt\n",
    "* Jeder Wert oder jeder valide Ausdruck kann ein Rückgabewert sein"
   ]
  },
  {
   "cell_type": "code",
   "execution_count": 4,
   "metadata": {
    "slideshow": {
     "slide_type": "slide"
    }
   },
   "outputs": [
    {
     "name": "stdout",
     "output_type": "stream",
     "text": [
      "False\tTrue\n"
     ]
    }
   ],
   "source": [
    "def is_smaller_two(x):\n",
    "    \"\"\"\n",
    "    Checks if the given value x is smaller than 2.\n",
    "    \"\"\"\n",
    "    if x < 2:\n",
    "        smaller_two = True\n",
    "    else:\n",
    "        smaller_two = False\n",
    "    return smaller_two\n",
    "\n",
    "def is_greater_two(x):\n",
    "    \"\"\"\n",
    "    Checks if the given value x is greater than 2.\n",
    "    \"\"\"\n",
    "    return x > 2\n",
    "\n",
    "print(is_smaller_two(4), is_greater_two(4), sep='\\t')"
   ]
  },
  {
   "cell_type": "markdown",
   "metadata": {
    "slideshow": {
     "slide_type": "slide"
    }
   },
   "source": [
    "####  Implizite Rückgabewerte\n",
    "* Funktionen müssen kein ```return```-Statement enthalten.\n",
    "* Aber auch in diesem Fall und bei ```return```-Statements ohne konkreten Rückgabewert wird immer per default der Wert ```None``` zurückgegeben"
   ]
  },
  {
   "cell_type": "code",
   "execution_count": 25,
   "metadata": {
    "slideshow": {
     "slide_type": "slide"
    }
   },
   "outputs": [
    {
     "name": "stdout",
     "output_type": "stream",
     "text": [
      "CRITICAL: High Memory Usage!\n",
      "None\n"
     ]
    }
   ],
   "source": [
    "def print_critical_warnings(log: str):\n",
    "    \"\"\"\n",
    "    Only prints out debugging messages from a given log-string\n",
    "    \"\"\"\n",
    "    for line in log.split('\\n'):\n",
    "        if line.startswith('CRITICAL:'):\n",
    "            print(line)\n",
    "\n",
    "log = \"\"\"\n",
    "CRITICAL: RESSOURCE-ERROR: High Memory Usage!\n",
    "DEBUG:    Catched exception in submodule.\n",
    "INFO:     Subservice httpd can now be upgraded.\n",
    "\"\"\"\n",
    "\n",
    "print(print_critical_warnings(log))"
   ]
  },
  {
   "cell_type": "markdown",
   "metadata": {
    "slideshow": {
     "slide_type": "slide"
    }
   },
   "source": [
    "### Funktionen: Übung\n",
    "\n",
    "Zerlegen Sie den folgenden Code (auch in WueCampus als Python-Datei) sinnvoll in Funktionen. Die Funktionen sollten einen Wert berechnen, schreiben Sie davon getrennt eine Funktion `main()`, die die Textausgaben enthält und die Funktionen aufruft.\n",
    "\n",
    "Tip: PyCharm-Refactoring-Funktionen _rename_ und _extract method_"
   ]
  },
  {
   "cell_type": "code",
   "execution_count": 23,
   "metadata": {
    "slideshow": {
     "slide_type": "-"
    }
   },
   "outputs": [
    {
     "name": "stdout",
     "output_type": "stream",
     "text": [
      "Durchschnittliche Wortlänge:  5.3\n",
      "Durchschnittliche Vokalanzahl:  1.7\n",
      "Durchschnittliche Konsonantenanzahl:  3.6\n"
     ]
    }
   ],
   "source": [
    "s = \"Herr Mustermann kommt ins Haus und trifft dort Frau Musterfrau\"\n",
    "sum_wordlength = 0\n",
    "for w in s.split():\n",
    "    sum_wordlength += len(w)\n",
    "avg_wordlength = sum_wordlength / len(s.split())\n",
    "print(\"Durchschnittliche Wortlänge: \", avg_wordlength )\n",
    "list_vowels = []\n",
    "for w in s.lower().split():\n",
    "    word_vowels = 0\n",
    "    for c in w:\n",
    "        if c in \"aeiou\":\n",
    "            word_vowels += 1\n",
    "    list_vowels.append(word_vowels)\n",
    "print(\"Durchschnittliche Vokalanzahl: \", sum(list_vowels) / len(list_vowels))\n",
    "list_consonants = []\n",
    "for w in s.lower().split():\n",
    "    word_cons = 0\n",
    "    for c in w:\n",
    "        if c in \"bcdfghjklmnpqrstvwxyz\":\n",
    "            word_cons += 1\n",
    "    list_consonants.append(word_cons)\n",
    "print(\"Durchschnittliche Konsonantenanzahl: \", sum(list_consonants) / len(list_consonants))"
   ]
  },
  {
   "cell_type": "code",
   "execution_count": 48,
   "metadata": {
    "slideshow": {
     "slide_type": "slide"
    }
   },
   "outputs": [
    {
     "name": "stdout",
     "output_type": "stream",
     "text": [
      "Durchschnittliche Wortlänge: 5.3\n",
      "Durchschnittliche Vokalanzahl: 1.7\n",
      "Durchschnittliche Konsonantenanzahl: 3.6\n"
     ]
    }
   ],
   "source": [
    "from typing import List, Iterable\n",
    "\n",
    "def tokenize(s: str) -> List[str]:\n",
    "    return s.split()\n",
    "\n",
    "def get_wordlengths(tokens: List[str]) -> List[int]:\n",
    "    return [len(token) for token in tokens]\n",
    "\n",
    "def count_chars(tokens: List[str], chars: Iterable[str]) -> List[int]:\n",
    "    return [sum([token.lower().count(v) for v in chars]) for token in tokens]\n",
    "\n",
    "def mean(values: List[int]) -> float:\n",
    "    return sum(values) / len(values)\n",
    "\n",
    "def main(text: str) -> None:\n",
    "    tokens = tokenize(s)\n",
    "    print(f'Durchschnittliche Wortlänge: {mean(get_wordlengths(tokens))}')\n",
    "    print(f'Durchschnittliche Vokalanzahl: {mean(count_chars(tokens, \"aeiou\"))}')\n",
    "    print(f'Durchschnittliche Konsonantenanzahl: {mean(count_chars(tokens, \"bcdfghjklmnpqrstvwxyz\"))}')\n",
    "    \n",
    "main('Herr Mustermann kommt ins Haus und trifft dort Frau Musterfrau')"
   ]
  },
  {
   "cell_type": "markdown",
   "metadata": {
    "slideshow": {
     "slide_type": "slide"
    }
   },
   "source": [
    "### Globale und lokale Variablen\n",
    "\n",
    "### Lokale Variablen\n",
    "\n",
    "Variablen, die in Funktionen definiert werden, sind nur innerhalb der Funktion sichtbar:"
   ]
  },
  {
   "cell_type": "code",
   "execution_count": 7,
   "metadata": {
    "slideshow": {
     "slide_type": "-"
    }
   },
   "outputs": [
    {
     "name": "stdout",
     "output_type": "stream",
     "text": [
      "2\n"
     ]
    },
    {
     "ename": "NameError",
     "evalue": "name 'words' is not defined",
     "output_type": "error",
     "traceback": [
      "\u001b[0;31m---------------------------------------------------------------------------\u001b[0m",
      "\u001b[0;31mNameError\u001b[0m                                 Traceback (most recent call last)",
      "\u001b[0;32m<ipython-input-7-1883fcdd57cb>\u001b[0m in \u001b[0;36m<module>\u001b[0;34m\u001b[0m\n\u001b[1;32m      4\u001b[0m \u001b[0;34m\u001b[0m\u001b[0m\n\u001b[1;32m      5\u001b[0m \u001b[0mprint\u001b[0m\u001b[0;34m(\u001b[0m\u001b[0mnumber_of_words\u001b[0m\u001b[0;34m(\u001b[0m\u001b[0;34m\"Ein Test\"\u001b[0m\u001b[0;34m)\u001b[0m\u001b[0;34m)\u001b[0m\u001b[0;34m\u001b[0m\u001b[0;34m\u001b[0m\u001b[0m\n\u001b[0;32m----> 6\u001b[0;31m \u001b[0mprint\u001b[0m\u001b[0;34m(\u001b[0m\u001b[0mwords\u001b[0m\u001b[0;34m)\u001b[0m\u001b[0;34m\u001b[0m\u001b[0;34m\u001b[0m\u001b[0m\n\u001b[0m",
      "\u001b[0;31mNameError\u001b[0m: name 'words' is not defined"
     ]
    }
   ],
   "source": [
    "def number_of_words(text):\n",
    "    words = text.split()\n",
    "    return len(words)\n",
    "\n",
    "print(number_of_words(\"Ein Test\"))\n",
    "print(words)"
   ]
  },
  {
   "cell_type": "markdown",
   "metadata": {
    "slideshow": {
     "slide_type": "slide"
    }
   },
   "source": [
    "### Globale Variablen\n",
    "\n",
    "Funktionen außerhalb der Funktionen sind auch innerhalb der Funktionen sichtbar:"
   ]
  },
  {
   "cell_type": "code",
   "execution_count": 8,
   "metadata": {
    "slideshow": {
     "slide_type": "-"
    }
   },
   "outputs": [
    {
     "name": "stdout",
     "output_type": "stream",
     "text": [
      "DEBUG: ['Ein', 'kleiner', 'Test']\n",
      "3\n"
     ]
    }
   ],
   "source": [
    "debugging = True\n",
    "\n",
    "def number_of_words(text):\n",
    "    words = text.split()\n",
    "    if debugging:\n",
    "        print(\"DEBUG:\", words)\n",
    "    return len(words)\n",
    "\n",
    "print(number_of_words('Ein kleiner Test'))"
   ]
  },
  {
   "cell_type": "markdown",
   "metadata": {
    "slideshow": {
     "slide_type": "subslide"
    }
   },
   "source": [
    "### ACHTUNG: _irgendwo_ in der Funktion zugewiesen → lokale Variable"
   ]
  },
  {
   "cell_type": "code",
   "execution_count": 9,
   "metadata": {
    "slideshow": {
     "slide_type": "-"
    }
   },
   "outputs": [
    {
     "ename": "UnboundLocalError",
     "evalue": "local variable 'debugging' referenced before assignment",
     "output_type": "error",
     "traceback": [
      "\u001b[0;31m---------------------------------------------------------------------------\u001b[0m",
      "\u001b[0;31mUnboundLocalError\u001b[0m                         Traceback (most recent call last)",
      "\u001b[0;32m<ipython-input-9-4c2a49e91476>\u001b[0m in \u001b[0;36m<module>\u001b[0;34m\u001b[0m\n\u001b[1;32m      8\u001b[0m     \u001b[0;32mreturn\u001b[0m \u001b[0mlen\u001b[0m\u001b[0;34m(\u001b[0m\u001b[0mwords\u001b[0m\u001b[0;34m)\u001b[0m\u001b[0;34m\u001b[0m\u001b[0;34m\u001b[0m\u001b[0m\n\u001b[1;32m      9\u001b[0m \u001b[0;34m\u001b[0m\u001b[0m\n\u001b[0;32m---> 10\u001b[0;31m \u001b[0mprint\u001b[0m\u001b[0;34m(\u001b[0m\u001b[0mnumber_of_words\u001b[0m\u001b[0;34m(\u001b[0m\u001b[0;34m'Ein kleiner Test'\u001b[0m\u001b[0;34m)\u001b[0m\u001b[0;34m)\u001b[0m\u001b[0;34m\u001b[0m\u001b[0;34m\u001b[0m\u001b[0m\n\u001b[0m",
      "\u001b[0;32m<ipython-input-9-4c2a49e91476>\u001b[0m in \u001b[0;36mnumber_of_words\u001b[0;34m(text)\u001b[0m\n\u001b[1;32m      3\u001b[0m \u001b[0;32mdef\u001b[0m \u001b[0mnumber_of_words\u001b[0m\u001b[0;34m(\u001b[0m\u001b[0mtext\u001b[0m\u001b[0;34m)\u001b[0m\u001b[0;34m:\u001b[0m\u001b[0;34m\u001b[0m\u001b[0;34m\u001b[0m\u001b[0m\n\u001b[1;32m      4\u001b[0m     \u001b[0mwords\u001b[0m \u001b[0;34m=\u001b[0m \u001b[0mtext\u001b[0m\u001b[0;34m.\u001b[0m\u001b[0msplit\u001b[0m\u001b[0;34m(\u001b[0m\u001b[0;34m)\u001b[0m\u001b[0;34m\u001b[0m\u001b[0;34m\u001b[0m\u001b[0m\n\u001b[0;32m----> 5\u001b[0;31m     \u001b[0;32mif\u001b[0m \u001b[0mdebugging\u001b[0m\u001b[0;34m:\u001b[0m\u001b[0;34m\u001b[0m\u001b[0;34m\u001b[0m\u001b[0m\n\u001b[0m\u001b[1;32m      6\u001b[0m         \u001b[0mprint\u001b[0m\u001b[0;34m(\u001b[0m\u001b[0;34m\"DEBUG:\"\u001b[0m\u001b[0;34m,\u001b[0m \u001b[0mwords\u001b[0m\u001b[0;34m)\u001b[0m\u001b[0;34m\u001b[0m\u001b[0;34m\u001b[0m\u001b[0m\n\u001b[1;32m      7\u001b[0m         \u001b[0mdebugging\u001b[0m \u001b[0;34m=\u001b[0m \u001b[0;32mFalse\u001b[0m       \u001b[0;31m# ← macht debugging zu einer lokalen Variable!\u001b[0m\u001b[0;34m\u001b[0m\u001b[0;34m\u001b[0m\u001b[0m\n",
      "\u001b[0;31mUnboundLocalError\u001b[0m: local variable 'debugging' referenced before assignment"
     ]
    }
   ],
   "source": [
    "debugging = True\n",
    "\n",
    "def number_of_words(text):\n",
    "    words = text.split()\n",
    "    if debugging:\n",
    "        print(\"DEBUG:\", words)\n",
    "        debugging = False       # ← macht debugging zu einer lokalen Variable!\n",
    "    return len(words)\n",
    "\n",
    "print(number_of_words('Ein kleiner Test'))"
   ]
  },
  {
   "cell_type": "markdown",
   "metadata": {
    "slideshow": {
     "slide_type": "slide"
    }
   },
   "source": [
    "### Achtung – Übergabe _by reference_"
   ]
  },
  {
   "cell_type": "code",
   "execution_count": 10,
   "metadata": {
    "slideshow": {
     "slide_type": "-"
    }
   },
   "outputs": [],
   "source": [
    "def upper_all(items):\n",
    "    for i in range(len(items)):\n",
    "        items[i] = items[i].upper()\n",
    "    return items"
   ]
  },
  {
   "cell_type": "code",
   "execution_count": 11,
   "metadata": {
    "slideshow": {
     "slide_type": "fragment"
    }
   },
   "outputs": [
    {
     "name": "stdout",
     "output_type": "stream",
     "text": [
      "['HALLO', 'WELT!']\n"
     ]
    }
   ],
   "source": [
    "tokens = 'Hallo Welt!'.split()\n",
    "upcased = upper_all(tokens)\n",
    "print(upcased)"
   ]
  },
  {
   "cell_type": "code",
   "execution_count": 12,
   "metadata": {
    "slideshow": {
     "slide_type": "fragment"
    }
   },
   "outputs": [
    {
     "name": "stdout",
     "output_type": "stream",
     "text": [
      "['HALLO', 'WELT!']\n"
     ]
    }
   ],
   "source": [
    "print(tokens)"
   ]
  },
  {
   "cell_type": "markdown",
   "metadata": {
    "slideshow": {
     "slide_type": "slide"
    }
   },
   "source": [
    "### Aufruf per Keyword-Parameter\n",
    "\n",
    "Bei einer normalen Funktion kann man die Parameter über ihre Position oder über ihren Namen übergeben:"
   ]
  },
  {
   "cell_type": "code",
   "execution_count": 13,
   "metadata": {
    "slideshow": {
     "slide_type": "-"
    }
   },
   "outputs": [],
   "source": [
    "def product(iterable, start=1):\n",
    "    result = start\n",
    "    for factor in iterable:\n",
    "        result = result * factor\n",
    "    return result"
   ]
  },
  {
   "cell_type": "code",
   "execution_count": 14,
   "metadata": {
    "slideshow": {
     "slide_type": "-"
    }
   },
   "outputs": [
    {
     "name": "stdout",
     "output_type": "stream",
     "text": [
      "0.6000000000000001\n",
      "0.6000000000000001\n",
      "0.6000000000000001\n",
      "0.6000000000000001\n",
      "6\n"
     ]
    }
   ],
   "source": [
    "print(product([1,2,3], 0.1))                       # 2× positional\n",
    "print(product([1,2,3], start=0.1))                 # positional, keyword (positionale immer zuerst!)\n",
    "print(product(iterable=[1,2,3], start=0.1))        # 2× keyword\n",
    "print(product(start=0.1, iterable=[1,2,3]))        # keyword: Reihenfolge egal\n",
    "print(product(iterable=[1,2,3]))                   # Defaultwerte kann man weglassen"
   ]
  },
  {
   "cell_type": "markdown",
   "metadata": {
    "slideshow": {
     "slide_type": "subslide"
    }
   },
   "source": [
    "#### Exkurs: Positional- und Keyword Only"
   ]
  },
  {
   "cell_type": "code",
   "execution_count": 15,
   "metadata": {
    "slideshow": {
     "slide_type": "-"
    }
   },
   "outputs": [
    {
     "name": "stdout",
     "output_type": "stream",
     "text": [
      "Help on built-in function sum in module builtins:\n",
      "\n",
      "sum(iterable, start=0, /)\n",
      "    Return the sum of a 'start' value (default: 0) plus an iterable of numbers\n",
      "    \n",
      "    When the iterable is empty, return the start value.\n",
      "    This function is intended specifically for use with numeric values and may\n",
      "    reject non-numeric types.\n",
      "\n"
     ]
    }
   ],
   "source": [
    "help(sum)"
   ]
  },
  {
   "cell_type": "code",
   "execution_count": 16,
   "metadata": {
    "slideshow": {
     "slide_type": "-"
    }
   },
   "outputs": [
    {
     "ename": "TypeError",
     "evalue": "sum() takes no keyword arguments",
     "output_type": "error",
     "traceback": [
      "\u001b[0;31m---------------------------------------------------------------------------\u001b[0m",
      "\u001b[0;31mTypeError\u001b[0m                                 Traceback (most recent call last)",
      "\u001b[0;32m<ipython-input-16-b41b09664cc1>\u001b[0m in \u001b[0;36m<module>\u001b[0;34m\u001b[0m\n\u001b[0;32m----> 1\u001b[0;31m \u001b[0msum\u001b[0m\u001b[0;34m(\u001b[0m\u001b[0;34m[\u001b[0m\u001b[0;36m1\u001b[0m\u001b[0;34m,\u001b[0m\u001b[0;36m2\u001b[0m\u001b[0;34m,\u001b[0m\u001b[0;36m3\u001b[0m\u001b[0;34m]\u001b[0m\u001b[0;34m,\u001b[0m \u001b[0mstart\u001b[0m\u001b[0;34m=\u001b[0m\u001b[0;36m5\u001b[0m\u001b[0;34m)\u001b[0m\u001b[0;34m\u001b[0m\u001b[0;34m\u001b[0m\u001b[0m\n\u001b[0m",
      "\u001b[0;31mTypeError\u001b[0m: sum() takes no keyword arguments"
     ]
    }
   ],
   "source": [
    "sum([1,2,3], start=5)"
   ]
  },
  {
   "cell_type": "markdown",
   "metadata": {
    "slideshow": {
     "slide_type": "slide"
    }
   },
   "source": [
    "Ab Python 3.8 geht das auch für eigene Funktionen:\n",
    "\n",
    "```python\n",
    "#        --nur pos.-- -wahlfrei--  --nur keyword--\n",
    "def demo(pos1, pos2, /, egal=0, *, keyword='only'):\n",
    "    print(pos1, pos2, egal, keyword)\n",
    "```"
   ]
  },
  {
   "cell_type": "code",
   "execution_count": 11,
   "metadata": {
    "slideshow": {
     "slide_type": "subslide"
    }
   },
   "outputs": [
    {
     "name": "stdout",
     "output_type": "stream",
     "text": [
      "1 2 3 vier\n",
      "1 2 3 vier\n",
      "1 2 3 only\n"
     ]
    },
    {
     "ename": "TypeError",
     "evalue": "demo() takes from 2 to 3 positional arguments but 4 were given",
     "output_type": "error",
     "traceback": [
      "\u001b[0;31m---------------------------------------------------------------------------\u001b[0m",
      "\u001b[0;31mTypeError\u001b[0m                                 Traceback (most recent call last)",
      "\u001b[0;32m<ipython-input-11-2dcd1533fcbf>\u001b[0m in \u001b[0;36m<module>\u001b[0;34m\u001b[0m\n\u001b[1;32m      5\u001b[0m \u001b[0mdemo\u001b[0m\u001b[0;34m(\u001b[0m\u001b[0;34m\"1\"\u001b[0m\u001b[0;34m,\u001b[0m \u001b[0;34m\"2\"\u001b[0m\u001b[0;34m,\u001b[0m \u001b[0;34m\"3\"\u001b[0m\u001b[0;34m,\u001b[0m \u001b[0mkeyword\u001b[0m\u001b[0;34m=\u001b[0m\u001b[0;34m\"vier\"\u001b[0m\u001b[0;34m)\u001b[0m\u001b[0;34m\u001b[0m\u001b[0;34m\u001b[0m\u001b[0m\n\u001b[1;32m      6\u001b[0m \u001b[0mdemo\u001b[0m\u001b[0;34m(\u001b[0m\u001b[0;34m\"1\"\u001b[0m\u001b[0;34m,\u001b[0m \u001b[0;34m\"2\"\u001b[0m\u001b[0;34m,\u001b[0m \u001b[0;34m\"3\"\u001b[0m\u001b[0;34m)\u001b[0m\u001b[0;34m\u001b[0m\u001b[0;34m\u001b[0m\u001b[0m\n\u001b[0;32m----> 7\u001b[0;31m \u001b[0mdemo\u001b[0m\u001b[0;34m(\u001b[0m\u001b[0;34m\"1\"\u001b[0m\u001b[0;34m,\u001b[0m \u001b[0;34m\"2\"\u001b[0m\u001b[0;34m,\u001b[0m \u001b[0;34m\"3\"\u001b[0m\u001b[0;34m,\u001b[0m \u001b[0;34m\"vier\"\u001b[0m\u001b[0;34m)\u001b[0m\u001b[0;34m\u001b[0m\u001b[0;34m\u001b[0m\u001b[0m\n\u001b[0m",
      "\u001b[0;31mTypeError\u001b[0m: demo() takes from 2 to 3 positional arguments but 4 were given"
     ]
    }
   ],
   "source": [
    "#        --nur pos.-- -wahlfrei--  --nur keyword--\n",
    "def demo(pos1, pos2, /, egal=0, *, keyword='only'):\n",
    "    print(pos1, pos2, egal, keyword)\n",
    "demo(\"1\", \"2\", egal=\"3\", keyword=\"vier\")\n",
    "demo(\"1\", \"2\", \"3\", keyword=\"vier\")\n",
    "demo(\"1\", \"2\", \"3\")\n",
    "demo(\"1\", \"2\", \"3\", \"vier\")"
   ]
  },
  {
   "cell_type": "markdown",
   "metadata": {
    "slideshow": {
     "slide_type": "slide"
    }
   },
   "source": [
    "### Variable Parameterlisten\n",
    "\n",
    "* `print` z.B. nimmt beliebig viele positionale Parameter\n",
    "* manche Funktionen erlauben beliebige Keyword-Parameter, oder solche, die sie nur weiterreichen"
   ]
  },
  {
   "cell_type": "code",
   "execution_count": 19,
   "metadata": {
    "slideshow": {
     "slide_type": "-"
    }
   },
   "outputs": [],
   "source": [
    "def log(label, *args, extra_out=None, **kwargs):\n",
    "    print(label, *args, **kwargs)\n",
    "    if extra_out:\n",
    "        extra_out.write(label + \":\" + \" \".join([str(arg) for arg in args]))"
   ]
  },
  {
   "cell_type": "code",
   "execution_count": 20,
   "metadata": {
    "slideshow": {
     "slide_type": "-"
    }
   },
   "outputs": [
    {
     "name": "stdout",
     "output_type": "stream",
     "text": [
      "INFO=Ein mal eins ist=1\n"
     ]
    }
   ],
   "source": [
    "with open(\"log.txt\", \"wt\") as logfile:\n",
    "    log('INFO', 'Ein mal eins ist', 1*1, sep='=', extra_out=logfile)"
   ]
  },
  {
   "cell_type": "markdown",
   "metadata": {
    "slideshow": {
     "slide_type": "-"
    }
   },
   "source": [
    "* `*args` → `args` ist eine Liste\n",
    "* `**kwargs` → `kwargs` ist ein Dictionary"
   ]
  },
  {
   "cell_type": "markdown",
   "metadata": {
    "slideshow": {
     "slide_type": "subslide"
    }
   },
   "source": [
    "Das geht auch umgekehrt:"
   ]
  },
  {
   "cell_type": "code",
   "execution_count": 23,
   "metadata": {
    "slideshow": {
     "slide_type": "-"
    }
   },
   "outputs": [
    {
     "name": "stdout",
     "output_type": "stream",
     "text": [
      "('/', 'Users', 'lennartkeller', 'Uni', 'Lehre', 'python_intro')\n",
      "/ 〉 Users 〉 lennartkeller 〉 Uni 〉 Lehre 〉 python_intro\n"
     ]
    }
   ],
   "source": [
    "from pathlib import Path\n",
    "\n",
    "breadcrumbs = Path.cwd().parts\n",
    "print(breadcrumbs)                 # ein Tupel, könnte irgendein Iterable sein\n",
    "print(*breadcrumbs, sep=' 〉 ')     # *breadcrumbs = jedes Element von breadcrumbs sei ein Parameter"
   ]
  },
  {
   "cell_type": "markdown",
   "metadata": {
    "slideshow": {
     "slide_type": "slide"
    }
   },
   "source": [
    "### Funktionen als Objekte erster Klasse\n",
    "\n",
    "* Die Funktionsklammern dienen dem Aufruf: `print()` ruft die Funktion auf.\n",
    "* _Ohne_ Funktionsklammern bekommt man die Funktion als Objekt in die Hand:"
   ]
  },
  {
   "cell_type": "code",
   "execution_count": 24,
   "metadata": {
    "slideshow": {
     "slide_type": "-"
    }
   },
   "outputs": [
    {
     "data": {
      "text/plain": [
       "<function print>"
      ]
     },
     "execution_count": 24,
     "metadata": {},
     "output_type": "execute_result"
    }
   ],
   "source": [
    "print"
   ]
  },
  {
   "cell_type": "code",
   "execution_count": 25,
   "metadata": {
    "slideshow": {
     "slide_type": "-"
    }
   },
   "outputs": [
    {
     "data": {
      "text/plain": [
       "\"print(value, ..., sep=' ', end='\\\\n', file=sys.stdout, flush=False)\\n\\nPrints the values to a stream, or to sys.stdout by default.\\nOptional keyword arguments:\\nfile:  a file-like object (stream); defaults to the current sys.stdout.\\nsep:   string inserted between values, default a space.\\nend:   string appended after the last value, default a newline.\\nflush: whether to forcibly flush the stream.\""
      ]
     },
     "execution_count": 25,
     "metadata": {},
     "output_type": "execute_result"
    }
   ],
   "source": [
    "print.__doc__     # Attribut aufrufen"
   ]
  },
  {
   "cell_type": "markdown",
   "metadata": {
    "slideshow": {
     "slide_type": "subslide"
    }
   },
   "source": [
    "* Manchmal will man Funktionen andere Funktionen übergeben:"
   ]
  },
  {
   "cell_type": "code",
   "execution_count": 26,
   "metadata": {
    "slideshow": {
     "slide_type": "-"
    }
   },
   "outputs": [
    {
     "name": "stdout",
     "output_type": "stream",
     "text": [
      "Help on built-in function sorted in module builtins:\n",
      "\n",
      "sorted(iterable, /, *, key=None, reverse=False)\n",
      "    Return a new list containing all items from the iterable in ascending order.\n",
      "    \n",
      "    A custom key function can be supplied to customize the sort order, and the\n",
      "    reverse flag can be set to request the result in descending order.\n",
      "\n"
     ]
    }
   ],
   "source": [
    "help(sorted)"
   ]
  },
  {
   "cell_type": "code",
   "execution_count": 27,
   "metadata": {
    "slideshow": {
     "slide_type": "fragment"
    }
   },
   "outputs": [
    {
     "name": "stdout",
     "output_type": "stream",
     "text": [
      "['Roth', 'Chebli', 'Scheuer', 'Seehofer', 'Dağdelen', 'Leutheuser-Schnarrenberger']\n"
     ]
    }
   ],
   "source": [
    "namen = ['Scheuer', 'Seehofer', 'Leutheuser-Schnarrenberger', 'Roth', 'Dağdelen', 'Chebli']\n",
    "print(sorted(namen, key=len))\n",
    "#                        `---- Name der Funktion len – ohne Aufrufklammern! → Funktion übergeben"
   ]
  },
  {
   "cell_type": "markdown",
   "metadata": {
    "slideshow": {
     "slide_type": "fragment"
    }
   },
   "source": [
    "### Übung\n",
    "\n",
    "Sortieren Sie die ersten 100 Wörter von Effi Briest nach der Anzahl der Vokale."
   ]
  }
 ],
 "metadata": {
  "celltoolbar": "Slideshow",
  "kernelspec": {
   "display_name": "Python 3",
   "language": "python",
   "name": "python3"
  },
  "language_info": {
   "codemirror_mode": {
    "name": "ipython",
    "version": 3
   },
   "file_extension": ".py",
   "mimetype": "text/x-python",
   "name": "python",
   "nbconvert_exporter": "python",
   "pygments_lexer": "ipython3",
   "version": "3.8.2"
  }
 },
 "nbformat": 4,
 "nbformat_minor": 2
}
